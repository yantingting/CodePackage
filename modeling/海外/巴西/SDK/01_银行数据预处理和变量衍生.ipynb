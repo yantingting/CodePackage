{
 "cells": [
  {
   "cell_type": "code",
   "execution_count": 1,
   "metadata": {},
   "outputs": [],
   "source": [
    "from IPython.core.interactiveshell import InteractiveShell \n",
    "InteractiveShell.ast_node_interactivity = 'all' #默认为'last'\n",
    "%config IPCompleter.greedy=True"
   ]
  },
  {
   "cell_type": "code",
   "execution_count": 5,
   "metadata": {
    "slideshow": {
     "slide_type": "slide"
    }
   },
   "outputs": [],
   "source": [
    "import sys\n",
    "import os\n",
    "import pandas as pd\n",
    "import numpy as np\n",
    "# import pandas_profiling\n",
    "import json\n",
    "import math\n",
    "pd.set_option('display.max_columns', None)\n",
    "#显示所有行\n",
    "pd.set_option('display.max_rows', None)\n",
    "#设置value的显示长度为100，默认为50\n",
    "pd.set_option('max_colwidth',1000)\n",
    "import sklearn\n",
    "from sklearn.feature_extraction.text import CountVectorizer \n",
    "from sklearn.model_selection import train_test_split \n",
    "from collections import Counter\n",
    "from pandas.api.types import is_dict_like\n",
    "import itertools\n",
    "import time\n",
    "import matplotlib.pyplot as plt\n",
    "import seaborn as sns\n",
    "from sklearn import preprocessing\n",
    "from sklearn.preprocessing import OneHotEncoder\n",
    "from sklearn.preprocessing import LabelEncoder\n",
    "from sklearn.preprocessing import LabelBinarizer\n",
    "from sklearn.preprocessing import MultiLabelBinarizer\n",
    "sys.path.append('/Users/yantingting/PycharmProjects/modeling')\n",
    "import plot_tools as pl\n",
    "import metrics\n",
    "import summary_statistics as ss\n",
    "import feature_selection as fs\n",
    "from data_io_utils import *\n",
    "import data_processing as dp\n",
    "\n"
   ]
  },
  {
   "cell_type": "code",
   "execution_count": 6,
   "metadata": {},
   "outputs": [],
   "source": [
    "file_path= '/Users/yantingting/Documents/海外风控/巴西/'\n",
    "file_path_out = '/Users/yantingting/Documents/海外风控/巴西/Brazil_中间结果/'"
   ]
  },
  {
   "cell_type": "markdown",
   "metadata": {},
   "source": [
    "# 巴西银行数据\n",
    "不是所有的样本都用来进行分析，取消的订单不作为样本"
   ]
  },
  {
   "cell_type": "code",
   "execution_count": null,
   "metadata": {},
   "outputs": [],
   "source": [
    "bank_data = pd.read_excel(file_path + '巴西字典.xlsx', sheet_name = 'PORTOCRED DATABASE',na_values='',dtype=({'ZIP CODE': str}))\n",
    "var_mapping = pd.read_excel(file_path + 'bank_mapping.xlsx')                          \n",
    "bank_data = bank_data.rename(columns = dict(zip(var_mapping['var_original'],var_mapping['var_name'] )))\n",
    "drop_list= ['PROPOSTA CANCELADA',  'VALIDADE EXPIRADA', 'SIMULAÇÃO']  #剔除无效样本\n",
    "bank_data = bank_data[~bank_data['var44'].isin(drop_list)]\n",
    "reject_list = ['REPROVADO']\n",
    "bank_data['flag_result'] = bank_data['var44'].apply(lambda x: 0 if x in reject_list else 1)\n",
    "bank_data['var12'] = bank_data['var12'].apply(lambda x: x[x.find('@') + 1:x.find('.')] if not isinstance(x, float) else 0)\n",
    "bank_data.to_csv(file_path_out + 'bank_data.csv')\n",
    "#生成银行数据的所有loan\n",
    "bank_data[['loan_id', 'DATE', 'flag_result']].to_csv(os.path.join(file_path_out, 'loan_bank.csv'), index = False)\n",
    "print(bank_data.shape)\n",
    "bank_data.head(2)"
   ]
  },
  {
   "cell_type": "markdown",
   "metadata": {},
   "source": [
    "银行数据生成变量（未处理）"
   ]
  },
  {
   "cell_type": "code",
   "execution_count": 60,
   "metadata": {},
   "outputs": [
    {
     "name": "stdout",
     "output_type": "stream",
     "text": [
      "var2\n",
      "var3\n",
      "var7\n",
      "var10\n",
      "var11\n",
      "var12\n",
      "var21\n",
      "var26\n",
      "var25\n",
      "var22\n",
      "var30\n",
      "var31\n",
      "var32\n",
      "var33\n",
      "var34\n",
      "var35\n",
      "var37\n",
      "var38\n"
     ]
    },
    {
     "data": {
      "text/plain": [
       "(38676, 930)"
      ]
     },
     "execution_count": 60,
     "metadata": {},
     "output_type": "execute_result"
    }
   ],
   "source": [
    "remain_col = ['loan_id', 'DATE','flag_result' , 'var17','var18','var9','var36']\n",
    "var_bank_data = bank_data[remain_col].copy()\n",
    "var_bank_data['age'] = bank_data.apply(lambda x: int(str(x['DATE'])[:4]) - pd.to_datetime(x['var1']).year, axis = 1)\n",
    "var_bank_data['len_zipcode'] = bank_data['var6'].apply(lambda x: len(x) if not isinstance(x, float) else 0)\n",
    "var_bank_data['society'] = bank_data['var37'].apply(lambda x: 0 if isinstance(x,float) else 1)\n",
    "#one hot编码\n",
    "ohe_index = ['var2','var3','var7','var10','var11','var12','var21','var26','var25','var22','var30','var31',\n",
    "             'var32','var33','var34','var35','var37','var38',]\n",
    "ohe_frame = pd.DataFrame()\n",
    "for index in ohe_index:\n",
    "    print(index)\n",
    "    ohe_var = pd.get_dummies(bank_data[index])\n",
    "    ohe_var.columns = [index +'-'+ str(i) for i in ohe_var.columns]\n",
    "    ohe_frame = pd.concat([ohe_frame, ohe_var], axis=1)\n",
    "var_bank_data = pd.concat([var_bank_data, ohe_frame], axis=1)\n",
    "\n",
    "eda_result = ss.eda(var_bank_data)\n",
    "drop_var = eda_result[eda_result['98%'] ==0]['var'].tolist()\n",
    "drop_list = set(['loan_id', 'DATE', 'flag_result'] + drop_var)\n",
    "var_dict_bank = dp.VarDict(var_bank_data.drop(drop_list, axis = 1), data_sorce='bank')\n",
    "var_dict_bank.to_csv(os.path.join(file_path_out, 'var_dict_bank.csv'), index = False)\n",
    "var_bank_data.drop(['DATE', 'flag_result'] + drop_var,axis =1).to_csv(os.path.join(file_path_out, 'var_bank_data.csv'), index = False)\n",
    "var_bank_data.shape"
   ]
  },
  {
   "cell_type": "code",
   "execution_count": 62,
   "metadata": {},
   "outputs": [
    {
     "data": {
      "text/html": [
       "<div>\n",
       "<style scoped>\n",
       "    .dataframe tbody tr th:only-of-type {\n",
       "        vertical-align: middle;\n",
       "    }\n",
       "\n",
       "    .dataframe tbody tr th {\n",
       "        vertical-align: top;\n",
       "    }\n",
       "\n",
       "    .dataframe thead th {\n",
       "        text-align: right;\n",
       "    }\n",
       "</style>\n",
       "<table border=\"1\" class=\"dataframe\">\n",
       "  <thead>\n",
       "    <tr style=\"text-align: right;\">\n",
       "      <th></th>\n",
       "      <th>数据源</th>\n",
       "      <th>指标英文</th>\n",
       "      <th>指标中文</th>\n",
       "      <th>数据类型</th>\n",
       "    </tr>\n",
       "  </thead>\n",
       "  <tbody>\n",
       "    <tr>\n",
       "      <th>0</th>\n",
       "      <td>bank</td>\n",
       "      <td>var17</td>\n",
       "      <td>var17</td>\n",
       "      <td>float64</td>\n",
       "    </tr>\n",
       "    <tr>\n",
       "      <th>1</th>\n",
       "      <td>bank</td>\n",
       "      <td>var18</td>\n",
       "      <td>var18</td>\n",
       "      <td>float64</td>\n",
       "    </tr>\n",
       "    <tr>\n",
       "      <th>2</th>\n",
       "      <td>bank</td>\n",
       "      <td>var9</td>\n",
       "      <td>var9</td>\n",
       "      <td>float64</td>\n",
       "    </tr>\n",
       "    <tr>\n",
       "      <th>3</th>\n",
       "      <td>bank</td>\n",
       "      <td>var36</td>\n",
       "      <td>var36</td>\n",
       "      <td>float64</td>\n",
       "    </tr>\n",
       "    <tr>\n",
       "      <th>4</th>\n",
       "      <td>bank</td>\n",
       "      <td>age</td>\n",
       "      <td>age</td>\n",
       "      <td>float64</td>\n",
       "    </tr>\n",
       "  </tbody>\n",
       "</table>\n",
       "</div>"
      ],
      "text/plain": [
       "    数据源   指标英文   指标中文     数据类型\n",
       "0  bank  var17  var17  float64\n",
       "1  bank  var18  var18  float64\n",
       "2  bank   var9   var9  float64\n",
       "3  bank  var36  var36  float64\n",
       "4  bank    age    age  float64"
      ]
     },
     "execution_count": 62,
     "metadata": {},
     "output_type": "execute_result"
    }
   ],
   "source": [
    "var_dict_bank.head()"
   ]
  },
  {
   "cell_type": "code",
   "execution_count": null,
   "metadata": {},
   "outputs": [],
   "source": []
  }
 ],
 "metadata": {
  "kernelspec": {
   "display_name": "Python 3",
   "language": "python",
   "name": "python3"
  },
  "language_info": {
   "codemirror_mode": {
    "name": "ipython",
    "version": 3
   },
   "file_extension": ".py",
   "mimetype": "text/x-python",
   "name": "python",
   "nbconvert_exporter": "python",
   "pygments_lexer": "ipython3",
   "version": "3.7.5"
  },
  "varInspector": {
   "cols": {
    "lenName": 16,
    "lenType": 16,
    "lenVar": 40
   },
   "kernels_config": {
    "python": {
     "delete_cmd_postfix": "",
     "delete_cmd_prefix": "del ",
     "library": "var_list.py",
     "varRefreshCmd": "print(var_dic_list())"
    },
    "r": {
     "delete_cmd_postfix": ") ",
     "delete_cmd_prefix": "rm(",
     "library": "var_list.r",
     "varRefreshCmd": "cat(var_dic_list()) "
    }
   },
   "types_to_exclude": [
    "module",
    "function",
    "builtin_function_or_method",
    "instance",
    "_Feature"
   ],
   "window_display": false
  }
 },
 "nbformat": 4,
 "nbformat_minor": 2
}
