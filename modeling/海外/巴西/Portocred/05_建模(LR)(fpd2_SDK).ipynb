{
 "cells": [
  {
   "cell_type": "code",
   "execution_count": 39,
   "metadata": {},
   "outputs": [],
   "source": [
    "# # # 更新.pyc文件\n",
    "# import compileall\n",
    "# compileall.compile_dir(r'/Users/yantingting/PycharmProjects/modeling')"
   ]
  },
  {
   "cell_type": "code",
   "execution_count": 1,
   "metadata": {},
   "outputs": [],
   "source": [
    "import sys\n",
    "import os\n",
    "import time\n",
    "import numpy as np\n",
    "import pandas as pd\n",
    "from imp import reload\n",
    "import pickle\n",
    "import matplotlib\n",
    "matplotlib.use('MacOSX')\n",
    "import matplotlib.pyplot as plt\n",
    "sys.path.append('/Users/yantingting/PycharmProjects/modeling')\n",
    "import plot_tools as pt\n",
    "import plotting as pl\n",
    "import metrics as mt\n",
    "from metrics import *\n",
    "import misc_utils as mu\n",
    "import database_conncet as data_con\n",
    "import summary_statistics as ss\n",
    "import feature_selection as fs\n",
    "from feature_selection import *\n",
    "from data_io_utils import *\n",
    "import data_processing as dp\n",
    "import generate_report as gr\n",
    "from xgboost import XGBClassifier\n",
    "from sklearn.model_selection import GridSearchCV\n",
    "from sklearn.metrics import accuracy_score\n",
    "os.environ['KMP_DUPLICATE_LIB_OK'] = 'True'\n",
    "\n",
    "fs_obj = fs.FeatureSelection()\n",
    "pf = mt.Performance()\n",
    "bw = mt.BinWoe()"
   ]
  },
  {
   "cell_type": "code",
   "execution_count": 2,
   "metadata": {},
   "outputs": [],
   "source": [
    "input_path = '/Users/yantingting/Seafile/风控/模型/14 巴西/Portocred/data/'\n",
    "result_path = os.path.join('/Users/yantingting/Seafile/风控/模型/14 巴西/Portocred/','模型_LR(fpd2_SDK)/') \n",
    "if not os.path.exists(result_path):\n",
    "    os.mkdir(result_path)"
   ]
  },
  {
   "cell_type": "markdown",
   "metadata": {},
   "source": [
    "# 读取数据&核验数据"
   ]
  },
  {
   "cell_type": "code",
   "execution_count": 22,
   "metadata": {},
   "outputs": [
    {
     "data": {
      "text/plain": [
       "82"
      ]
     },
     "execution_count": 22,
     "metadata": {},
     "output_type": "execute_result"
    },
    {
     "data": {
      "text/plain": [
       "(358, 5)"
      ]
     },
     "execution_count": 22,
     "metadata": {},
     "output_type": "execute_result"
    },
    {
     "data": {
      "text/html": [
       "<div>\n",
       "<style scoped>\n",
       "    .dataframe tbody tr th:only-of-type {\n",
       "        vertical-align: middle;\n",
       "    }\n",
       "\n",
       "    .dataframe tbody tr th {\n",
       "        vertical-align: top;\n",
       "    }\n",
       "\n",
       "    .dataframe thead th {\n",
       "        text-align: right;\n",
       "    }\n",
       "</style>\n",
       "<table border=\"1\" class=\"dataframe\">\n",
       "  <thead>\n",
       "    <tr style=\"text-align: right;\">\n",
       "      <th></th>\n",
       "      <th>数据源</th>\n",
       "      <th>指标英文</th>\n",
       "      <th>指标中文</th>\n",
       "      <th>数据类型</th>\n",
       "      <th>指标类型</th>\n",
       "    </tr>\n",
       "  </thead>\n",
       "  <tbody>\n",
       "    <tr>\n",
       "      <th>82</th>\n",
       "      <td>app_freq</td>\n",
       "      <td>high_freq_app</td>\n",
       "      <td>high_freq_app</td>\n",
       "      <td>float64</td>\n",
       "      <td>app_freq</td>\n",
       "    </tr>\n",
       "    <tr>\n",
       "      <th>83</th>\n",
       "      <td>app_freq</td>\n",
       "      <td>mid_freq_app</td>\n",
       "      <td>mid_freq_app</td>\n",
       "      <td>float64</td>\n",
       "      <td>app_freq</td>\n",
       "    </tr>\n",
       "    <tr>\n",
       "      <th>84</th>\n",
       "      <td>app_freq</td>\n",
       "      <td>low_freq_app</td>\n",
       "      <td>low_freq_app</td>\n",
       "      <td>float64</td>\n",
       "      <td>app_freq</td>\n",
       "    </tr>\n",
       "    <tr>\n",
       "      <th>85</th>\n",
       "      <td>app_freq</td>\n",
       "      <td>cnt_app</td>\n",
       "      <td>cnt_app</td>\n",
       "      <td>int64</td>\n",
       "      <td>app_freq</td>\n",
       "    </tr>\n",
       "    <tr>\n",
       "      <th>86</th>\n",
       "      <td>app_freq</td>\n",
       "      <td>rate_high_freq_app</td>\n",
       "      <td>rate_high_freq_app</td>\n",
       "      <td>float64</td>\n",
       "      <td>app_freq</td>\n",
       "    </tr>\n",
       "  </tbody>\n",
       "</table>\n",
       "</div>"
      ],
      "text/plain": [
       "         数据源                指标英文                指标中文     数据类型      指标类型\n",
       "82  app_freq       high_freq_app       high_freq_app  float64  app_freq\n",
       "83  app_freq        mid_freq_app        mid_freq_app  float64  app_freq\n",
       "84  app_freq        low_freq_app        low_freq_app  float64  app_freq\n",
       "85  app_freq             cnt_app             cnt_app    int64  app_freq\n",
       "86  app_freq  rate_high_freq_app  rate_high_freq_app  float64  app_freq"
      ]
     },
     "execution_count": 22,
     "metadata": {},
     "output_type": "execute_result"
    }
   ],
   "source": [
    "#字典\n",
    "var_dict = pd.read_csv(os.path.join(input_path,'dict_all.csv'))\n",
    "var_dict['指标类型'] = var_dict['数据源']\n",
    "var_dict_drop = var_dict[var_dict['数据源']=='bank']['指标英文'].tolist()\n",
    "len(var_dict_drop)\n",
    "var_dict = var_dict[var_dict['数据源']!='bank']\n",
    "var_dict.shape\n",
    "var_dict.head()"
   ]
  },
  {
   "cell_type": "code",
   "execution_count": 23,
   "metadata": {},
   "outputs": [
    {
     "data": {
      "text/plain": [
       "(445, 446)"
      ]
     },
     "execution_count": 23,
     "metadata": {},
     "output_type": "execute_result"
    },
    {
     "data": {
      "text/plain": [
       "(445, 446)"
      ]
     },
     "execution_count": 23,
     "metadata": {},
     "output_type": "execute_result"
    },
    {
     "data": {
      "text/plain": [
       "358"
      ]
     },
     "execution_count": 23,
     "metadata": {},
     "output_type": "execute_result"
    }
   ],
   "source": [
    "all_df = load_data_from_pickle(input_path,'df_var_all.pkl') \n",
    "# all_df = load_data_from_pickle('/Users/yantingting/Seafile/风控/模型/14 巴西/Portocred/模型_LR(1)/','all_all_original.pkl') \n",
    "all_df.index = all_df.loan_id\n",
    "all_df.shape\n",
    "all_df.rename(columns = {'date':'applied_at', 'fpd_2':'label'}, inplace=True)\n",
    "all_df = all_df.loc[all_df.label.isin([0,1])]\n",
    "all_df.shape\n",
    "eda = ss.eda(all_df , result_path)\n",
    "all_df.fillna(-1,inplace = True)\n",
    "y_col = ['label']\n",
    "useless_col = var_dict_drop +  ['loan_id','applied_at','sample_flag','occupation_Capitalista rend aplic / aluguel','fpd_1','fpd_3']\n",
    "x_col = list(set(all_df.columns)-set(useless_col)-set(y_col))\n",
    "len(x_col)\n",
    "save_data_to_pickle(all_df,result_path,'all_original.pkl')\n",
    "for cols in x_col:\n",
    "    try:\n",
    "        all_df[cols] = all_df[cols].astype(float)\n",
    "    except:\n",
    "        pass"
   ]
  },
  {
   "cell_type": "markdown",
   "metadata": {},
   "source": [
    "# 划分数据集"
   ]
  },
  {
   "cell_type": "code",
   "execution_count": 24,
   "metadata": {},
   "outputs": [
    {
     "data": {
      "text/plain": [
       "(333, 446)"
      ]
     },
     "execution_count": 24,
     "metadata": {},
     "output_type": "execute_result"
    },
    {
     "data": {
      "text/plain": [
       "0    227\n",
       "1    106\n",
       "Name: label, dtype: int64"
      ]
     },
     "execution_count": 24,
     "metadata": {},
     "output_type": "execute_result"
    },
    {
     "data": {
      "text/plain": [
       "(112, 446)"
      ]
     },
     "execution_count": 24,
     "metadata": {},
     "output_type": "execute_result"
    },
    {
     "data": {
      "text/plain": [
       "0    77\n",
       "1    35\n",
       "Name: label, dtype: int64"
      ]
     },
     "execution_count": 24,
     "metadata": {},
     "output_type": "execute_result"
    },
    {
     "data": {
      "text/plain": [
       "True"
      ]
     },
     "execution_count": 24,
     "metadata": {},
     "output_type": "execute_result"
    },
    {
     "data": {
      "text/plain": [
       "True"
      ]
     },
     "execution_count": 24,
     "metadata": {},
     "output_type": "execute_result"
    }
   ],
   "source": [
    "#划分训练和验证\n",
    "train_df = all_df[all_df.sample_flag == 0]\n",
    "test_df = all_df[all_df.sample_flag == 1]\n",
    "train_df.shape\n",
    "train_df.label.value_counts(dropna = False)\n",
    "test_df.shape\n",
    "test_df.label.value_counts(dropna = False)\n",
    "X_train = train_df[x_col]\n",
    "X_test = test_df[x_col]\n",
    "y_train = train_df.label\n",
    "y_test = test_df.label\n",
    "#检查数据量是否一致\n",
    "X_train.shape[0] == y_train.shape[0]\n",
    "X_test.shape[0] == y_test.shape[0]"
   ]
  },
  {
   "cell_type": "markdown",
   "metadata": {},
   "source": [
    "# Univariate Chart"
   ]
  },
  {
   "cell_type": "code",
   "execution_count": 25,
   "metadata": {},
   "outputs": [],
   "source": [
    "# feature_list = x_col\n",
    "# time1 = time.time()\n",
    "# wrong_list= []\n",
    "# for index,value in enumerate(feature_list):\n",
    "#     print(index,value)\n",
    "#     try:\n",
    "#         pt.univariate_chart(df = all_df.copy(), col = value , target ='label' , n = 5,\n",
    "#                              special_attribute = [-1, np.nan],\n",
    "#                              dftrain=train_df.copy(), dftest=test_df.copy(),\n",
    "#                              draw_all=True, draw_train_test=True,result_path = result_path)\n",
    "#     except Exception as e:\n",
    "#         wrong_list.append(value)\n",
    "#         print(e)\n",
    "# wrong_list\n",
    "# time2 = time.time()\n",
    "# print('run_time: ', time2-time1)"
   ]
  },
  {
   "cell_type": "markdown",
   "metadata": {},
   "source": [
    "# 计算XGB importance"
   ]
  },
  {
   "cell_type": "code",
   "execution_count": 26,
   "metadata": {},
   "outputs": [
    {
     "data": {
      "text/plain": [
       "XGBClassifier(base_score=0.5, booster='gbtree', colsample_bylevel=1,\n",
       "              colsample_bynode=1, colsample_bytree=1, gamma=0,\n",
       "              learning_rate=0.1, max_delta_step=0, max_depth=3,\n",
       "              min_child_weight=1, missing=None, n_estimators=100, n_jobs=1,\n",
       "              nthread=None, objective='binary:logistic', random_state=0,\n",
       "              reg_alpha=0, reg_lambda=1, scale_pos_weight=1, seed=None,\n",
       "              silent=None, subsample=1, verbosity=1)"
      ]
     },
     "execution_count": 26,
     "metadata": {},
     "output_type": "execute_result"
    },
    {
     "name": "stdout",
     "output_type": "stream",
     "text": [
      "Accuracy: 65.18%\n"
     ]
    },
    {
     "data": {
      "text/html": [
       "<div>\n",
       "<style scoped>\n",
       "    .dataframe tbody tr th:only-of-type {\n",
       "        vertical-align: middle;\n",
       "    }\n",
       "\n",
       "    .dataframe tbody tr th {\n",
       "        vertical-align: top;\n",
       "    }\n",
       "\n",
       "    .dataframe thead th {\n",
       "        text-align: right;\n",
       "    }\n",
       "</style>\n",
       "<table border=\"1\" class=\"dataframe\">\n",
       "  <thead>\n",
       "    <tr style=\"text-align: right;\">\n",
       "      <th></th>\n",
       "      <th>指标英文</th>\n",
       "      <th>importance</th>\n",
       "      <th>importance_rank</th>\n",
       "    </tr>\n",
       "  </thead>\n",
       "  <tbody>\n",
       "    <tr>\n",
       "      <th>162</th>\n",
       "      <td>Santander</td>\n",
       "      <td>0.031635</td>\n",
       "      <td>1.0</td>\n",
       "    </tr>\n",
       "    <tr>\n",
       "      <th>258</th>\n",
       "      <td>Grana Fácil</td>\n",
       "      <td>0.028970</td>\n",
       "      <td>2.0</td>\n",
       "    </tr>\n",
       "    <tr>\n",
       "      <th>285</th>\n",
       "      <td>electric_quantity</td>\n",
       "      <td>0.024223</td>\n",
       "      <td>3.0</td>\n",
       "    </tr>\n",
       "    <tr>\n",
       "      <th>27</th>\n",
       "      <td>Snaptube</td>\n",
       "      <td>0.023458</td>\n",
       "      <td>4.0</td>\n",
       "    </tr>\n",
       "    <tr>\n",
       "      <th>178</th>\n",
       "      <td>APPS CLUBE</td>\n",
       "      <td>0.021152</td>\n",
       "      <td>5.0</td>\n",
       "    </tr>\n",
       "  </tbody>\n",
       "</table>\n",
       "</div>"
      ],
      "text/plain": [
       "                  指标英文  importance  importance_rank\n",
       "162          Santander    0.031635              1.0\n",
       "258        Grana Fácil    0.028970              2.0\n",
       "285  electric_quantity    0.024223              3.0\n",
       "27            Snaptube    0.023458              4.0\n",
       "178         APPS CLUBE    0.021152              5.0"
      ]
     },
     "execution_count": 26,
     "metadata": {},
     "output_type": "execute_result"
    }
   ],
   "source": [
    "model = XGBClassifier()\n",
    "model.fit(X_train, y_train)\n",
    "## prediction\n",
    "y_pred = model.predict(X_test);\n",
    "predictions = [round(value) for value in y_pred]\n",
    "## evaluation\n",
    "accuracy = accuracy_score(y_test, predictions)\n",
    "print(\"Accuracy: %.2f%%\" % (accuracy * 100.0))\n",
    "\n",
    "features_in_model = x_col\n",
    "feature_importance = model.feature_importances_\n",
    "var_importance = pd.DataFrame(columns=[\"指标英文\", 'importance'])\n",
    "var_importance['指标英文'] = features_in_model\n",
    "var_importance['importance'] = feature_importance\n",
    "var_importance.loc[:, 'importance_rank'] = var_importance.importance.rank(ascending=False)\n",
    "var_importance.sort_values(by = 'importance',ascending = False).head()"
   ]
  },
  {
   "cell_type": "markdown",
   "metadata": {},
   "source": [
    "# overall_ranking"
   ]
  },
  {
   "cell_type": "code",
   "execution_count": 27,
   "metadata": {
    "scrolled": true
   },
   "outputs": [
    {
     "name": "stderr",
     "output_type": "stream",
     "text": [
      "/Users/yantingting/opt/anaconda3/envs/modeling/lib/python3.7/site-packages/pandas/core/series.py:679: RuntimeWarning: divide by zero encountered in log\n",
      "  result = getattr(ufunc, method)(*inputs, **kwargs)\n"
     ]
    },
    {
     "data": {
      "text/plain": [
       "'按训练集和验证集检查变量的稳定性和有效性'"
      ]
     },
     "execution_count": 27,
     "metadata": {},
     "output_type": "execute_result"
    },
    {
     "name": "stderr",
     "output_type": "stream",
     "text": [
      "/Users/yantingting/opt/anaconda3/envs/modeling/lib/python3.7/site-packages/ipykernel_launcher.py:36: SettingWithCopyWarning: \n",
      "A value is trying to be set on a copy of a slice from a DataFrame.\n",
      "Try using .loc[row_indexer,col_indexer] = value instead\n",
      "\n",
      "See the caveats in the documentation: https://pandas.pydata.org/pandas-docs/stable/user_guide/indexing.html#returning-a-view-versus-a-copy\n",
      "/Users/yantingting/opt/anaconda3/envs/modeling/lib/python3.7/site-packages/ipykernel_launcher.py:37: SettingWithCopyWarning: \n",
      "A value is trying to be set on a copy of a slice from a DataFrame.\n",
      "Try using .loc[row_indexer,col_indexer] = value instead\n",
      "\n",
      "See the caveats in the documentation: https://pandas.pydata.org/pandas-docs/stable/user_guide/indexing.html#returning-a-view-versus-a-copy\n"
     ]
    },
    {
     "data": {
      "text/plain": [
       "(445, 360)"
      ]
     },
     "execution_count": 27,
     "metadata": {},
     "output_type": "execute_result"
    },
    {
     "name": "stdout",
     "output_type": "stream",
     "text": [
      "run_time:  42.309736251831055\n"
     ]
    }
   ],
   "source": [
    "os.environ['KMP_DUPLICATE_LIB_OK'] = 'True'\n",
    "args_dict = {\n",
    "    'random_forest': {\n",
    "        'grid_search': False,\n",
    "        'param': None\n",
    "    },\n",
    "    'xgboost': {\n",
    "        'grid_search': False,\n",
    "        'param': None\n",
    "    }\n",
    "}\n",
    "methods = [\n",
    "    'random_forest',\n",
    "    #'lasso',\n",
    "    #'xgboost'\n",
    "]\n",
    "\n",
    "time1 = time.time()\n",
    "## Train 分箱,为了得到分箱的woe值\n",
    "X_cat_train, X_transformed_train, woe_iv_df, rebin_spec, ranking_result = fs_obj.overall_ranking(X_train, y_train,\n",
    "                                                                                           var_dict, args_dict,\n",
    "                                                                                           methods, num_max_bins=5)\n",
    "\n",
    "woe_iv_df.to_excel(os.path.join(result_path,'woe_iv_df.xlsx'))\n",
    "ranking_result.to_excel(os.path.join(result_path,'ranking_result.xlsx'))\n",
    "\n",
    "rebin_spec = mu.convert_rebin_spec2XGB_rebin_spec(rebin_spec)\n",
    "rebin_spec_bin_adjusted = {k: v for k, v in rebin_spec.items()}\n",
    "\n",
    "bin_obj = mt.BinWoe()\n",
    "X_cat_train = bin_obj.convert_to_category(X_train, var_dict, rebin_spec_bin_adjusted)\n",
    "X_cat_test = bin_obj.convert_to_category(X_test, var_dict, rebin_spec_bin_adjusted)\n",
    "\n",
    "\"\"\"按训练集和验证集检查变量的稳定性和有效性\"\"\"\n",
    "## train\n",
    "train_df['appmon'] = '0_train'\n",
    "test_df['appmon'] = '1_test'\n",
    "\n",
    "all_cat = pd.concat([X_cat_train,X_cat_test])\n",
    "app_data = pd.concat([train_df[['label','appmon']],test_df[['label','appmon']]])\n",
    "X_cat_with_y_appmon_all = pd.merge(all_cat,app_data[['label','appmon']] ,left_index=True,right_index=True)\n",
    "X_cat_with_y_appmon_all.shape\n",
    "\n",
    "var_dist_badRate_by_time_all = ss.get_badRate_and_dist_by_time(X_cat_with_y_appmon_all,list([i for i in all_cat.columns if i != 'loan_id']),'appmon','label')\n",
    "var_dist_badRate_by_time_all.to_excel(os.path.join(result_path, 'var_dist_badRate_by_sample.xlsx'))\n",
    "\n",
    "# PSI\n",
    "var_psi = pf.variable_psi(X_cat_train, X_cat_test, var_dict)\n",
    "var_psi.loc[:, 'psi_rank'] = var_psi.PSI.rank(ascending=False)\n",
    "var_psi.to_excel(os.path.join(result_path, 'var_PSI.xlsx'))\n",
    "\n",
    "# 汇总各项指标\n",
    "# var_psi.drop(['数据源','指标中文'],axis = 1,inplace=True)\n",
    "ranking_result_all = ranking_result.merge(var_importance, on='指标英文', how='left').merge(var_psi, on='指标英文', how='left')\n",
    "ranking_result_all.to_excel(os.path.join(result_path,'ranking_result_all.xlsx'))\n",
    "\n",
    "time2 = time.time()\n",
    "print('run_time: ', time2-time1)\n"
   ]
  },
  {
   "cell_type": "markdown",
   "metadata": {},
   "source": [
    "# 变量筛选"
   ]
  },
  {
   "cell_type": "code",
   "execution_count": 28,
   "metadata": {},
   "outputs": [
    {
     "name": "stdout",
     "output_type": "stream",
     "text": [
      "变量总个数358\n",
      "PSI筛掉的个数17\n",
      "IV筛掉的个数283\n",
      "xgb重要性筛掉的个数0\n",
      "相关性特征筛掉的个数305\n",
      "univariate斜率特征筛掉的个数91\n",
      "总共筛掉的个数342\n",
      "剩余变量个数16\n"
     ]
    },
    {
     "data": {
      "text/plain": [
       "16"
      ]
     },
     "execution_count": 28,
     "metadata": {},
     "output_type": "execute_result"
    },
    {
     "name": "stdout",
     "output_type": "stream",
     "text": [
      "run_time:  13.653748035430908\n"
     ]
    }
   ],
   "source": [
    "time1 = time.time()\n",
    "train = train_df.drop(useless_col,axis = 1).drop('appmon',axis = 1)\n",
    "test = test_df.drop(useless_col,axis = 1).drop('appmon',axis = 1)\n",
    "f_rmv = feature_remove(train,test, ranking_result_all, result_path, psi = 0.2, iv = 0.01, imp = 0, corr = 0.7, slope = 'TRUE')\n",
    "\n",
    "try:\n",
    "    train = train.drop(['slope'], axis=1)\n",
    "    test = test.drop(['slope'], axis=1)\n",
    "except:\n",
    "    pass\n",
    "\n",
    "feature_used = list(set(x_col) - set(f_rmv))\n",
    "len(feature_used)\n",
    "X_train = train_df[feature_used]\n",
    "X_test = test_df[feature_used]\n",
    "time2 = time.time()\n",
    "print('run_time: ', time2-time1)"
   ]
  },
  {
   "cell_type": "markdown",
   "metadata": {},
   "source": [
    "# temple"
   ]
  },
  {
   "cell_type": "code",
   "execution_count": 29,
   "metadata": {},
   "outputs": [],
   "source": [
    "# # feature_used = pd.read_excel(os.path.join(input_path,'selected_var.xlsx'))\n",
    "# feature_used = pd.read_excel(os.path.join(result_path,'temp.xlsx'))\n",
    "# feature_used = list(feature_used['selected_var'])\n",
    "# len(feature_used)\n",
    "# train1 = train_df[feature_used +['label']] \n",
    "# test1 = test_df[feature_used +['label']] \n",
    "# f_rmv1 = feature_remove(train1,test1, ranking_result_all, result_path, psi = -1, iv = 0.001, imp = 0, corr = 0.9, slope = 'TRUE')\n",
    "# feature_used = list(set(feature_used) - set(f_rmv1))\n",
    "# len(feature_used)\n",
    "# X_train = train_df[feature_used]\n",
    "# X_test = test_df[feature_used]"
   ]
  },
  {
   "cell_type": "markdown",
   "metadata": {},
   "source": [
    "# 变量分箱并替换WOE"
   ]
  },
  {
   "cell_type": "code",
   "execution_count": 30,
   "metadata": {},
   "outputs": [
    {
     "name": "stdout",
     "output_type": "stream",
     "text": [
      "run_time:  1.3723390102386475\n"
     ]
    }
   ],
   "source": [
    "time1 = time.time()\n",
    "## Train 分箱\n",
    "X_cat_train, X_transformed, woe_iv_df, rebin_spec, ranking_result = fs_obj.overall_ranking(X_train, y_train,\n",
    "                                                                                           var_dict, args_dict,\n",
    "                                                                                           methods, num_max_bins=5)\n",
    "\n",
    "save_data_to_pickle(X_cat_train,result_path,'X_cat_train.pkl')\n",
    "save_data_to_pickle(woe_iv_df,result_path,'woe_iv_df.pkl')\n",
    "save_data_to_pickle(rebin_spec,result_path,'rebin_spec.pkl')\n",
    "save_data_to_pickle(X_transformed,result_path,'X_transformed.pkl')\n",
    "save_data_to_pickle(ranking_result,result_path,'ranking_result.pkl')\n",
    "\n",
    "rebin_spec = mu.convert_rebin_spec2XGB_rebin_spec(rebin_spec)\n",
    "rebin_spec_bin_adjusted = {k:v for k,v in rebin_spec.items()}\n",
    "\n",
    "bin_obj = mt.BinWoe()\n",
    "\n",
    "X_cat_train = bin_obj.convert_to_category(X_train, var_dict, rebin_spec_bin_adjusted)\n",
    "woe_iv_df_coarse = bin_obj.calculate_woe_all(X_cat_train, y_train, var_dict, rebin_spec_bin_adjusted)\n",
    "X_transformed_train= bin_obj.transform_x_all(X_cat_train, woe_iv_df_coarse)\n",
    "save_data_to_pickle(woe_iv_df_coarse,result_path,'woe_iv_df_coarse.pkl')\n",
    "woe_iv_df_coarse.to_excel(os.path.join(result_path,'woe_iv_df_coarse.xlsx'))\n",
    "\n",
    "X_cat_test = bin_obj.convert_to_category(X_test, var_dict, rebin_spec_bin_adjusted)\n",
    "X_transformed_test= bin_obj.transform_x_all(X_cat_test, woe_iv_df_coarse)\n",
    "\n",
    "time2 = time.time()\n",
    "print('run_time: ', time2-time1)"
   ]
  },
  {
   "cell_type": "markdown",
   "metadata": {},
   "source": [
    "# 训练模型"
   ]
  },
  {
   "cell_type": "markdown",
   "metadata": {},
   "source": [
    "## 初跑模型"
   ]
  },
  {
   "cell_type": "code",
   "execution_count": 31,
   "metadata": {},
   "outputs": [
    {
     "name": "stdout",
     "output_type": "stream",
     "text": [
      "Optimization terminated successfully.\n",
      "         Current function value: 0.553306\n",
      "         Iterations 6\n",
      "                           Logit Regression Results                           \n",
      "==============================================================================\n",
      "Dep. Variable:                  label   No. Observations:                  333\n",
      "Model:                          Logit   Df Residuals:                      316\n",
      "Method:                           MLE   Df Model:                           16\n",
      "Date:                Thu, 19 Mar 2020   Pseudo R-squ.:                  0.1156\n",
      "Time:                        01:48:27   Log-Likelihood:                -184.25\n",
      "converged:                       True   LL-Null:                       -208.32\n",
      "Covariance Type:            nonrobust   LLR p-value:                 4.508e-05\n",
      "==========================================================================================\n",
      "                             coef    std err          z      P>|z|      [0.025      0.975]\n",
      "------------------------------------------------------------------------------------------\n",
      "screen_(1193, 720)         0.8712      0.378      2.302      0.021       0.129       1.613\n",
      "rate_len_is9               0.8885      0.955      0.930      0.352      -0.983       2.760\n",
      "rate_mid_freq_app          1.0422      0.376      2.775      0.006       0.306       1.778\n",
      "model_motorola one         0.5608      0.883      0.635      0.525      -1.169       2.291\n",
      "rate_len_isover13          1.0477      0.381      2.752      0.006       0.301       1.794\n",
      "model_SM-G532MT           -0.3288      1.105     -0.298      0.766      -2.495       1.837\n",
      "screen_(1920, 1080)       -0.8092      1.622     -0.499      0.618      -3.987       2.369\n",
      "model_Moto G (5S) Plus     0.3460      0.882      0.392      0.695      -1.383       2.075\n",
      "board_UNIVERSAL7870        0.1566      0.869      0.180      0.857      -1.546       1.859\n",
      "board_UNKNOWN              0.8755      0.587      1.492      0.136      -0.275       2.026\n",
      "cnt_len_is9                1.0922      0.479      2.279      0.023       0.153       2.031\n",
      "electric_quantity          0.7417      0.464      1.599      0.110      -0.167       1.651\n",
      "high_freq_app              0.7443      0.661      1.126      0.260      -0.552       2.040\n",
      "net_type                   1.0998      0.606      1.814      0.070      -0.088       2.288\n",
      "screen_(1384, 720)         0.8095      0.492      1.646      0.100      -0.154       1.773\n",
      "screen_(2016, 1080)        0.8792      0.794      1.107      0.268      -0.677       2.436\n",
      "intercept                 -0.7857      0.129     -6.073      0.000      -1.039      -0.532\n",
      "==========================================================================================\n"
     ]
    }
   ],
   "source": [
    "X_transformed_train['intercept'] = [1]*X_transformed_train.shape[0]\n",
    "LR = sm.Logit(y_train,X_transformed_train).fit()\n",
    "print(LR.summary())\n",
    "pvalues = LR.pvalues.to_dict()"
   ]
  },
  {
   "cell_type": "markdown",
   "metadata": {},
   "source": [
    "## stepwise"
   ]
  },
  {
   "cell_type": "code",
   "execution_count": 32,
   "metadata": {},
   "outputs": [
    {
     "data": {
      "text/plain": [
       "16"
      ]
     },
     "execution_count": 32,
     "metadata": {},
     "output_type": "execute_result"
    },
    {
     "name": "stdout",
     "output_type": "stream",
     "text": [
      "board_UNIVERSAL7870\n",
      "Optimization terminated successfully.\n",
      "         Current function value: 0.553355\n",
      "         Iterations 6\n",
      "model_SM-G532MT\n",
      "Optimization terminated successfully.\n",
      "         Current function value: 0.553493\n",
      "         Iterations 6\n",
      "model_Moto G (5S) Plus\n",
      "Optimization terminated successfully.\n",
      "         Current function value: 0.553720\n",
      "         Iterations 6\n",
      "screen_(1920, 1080)\n",
      "Optimization terminated successfully.\n",
      "         Current function value: 0.554038\n",
      "         Iterations 6\n",
      "model_motorola one\n",
      "Optimization terminated successfully.\n",
      "         Current function value: 0.554571\n",
      "         Iterations 6\n",
      "                           Logit Regression Results                           \n",
      "==============================================================================\n",
      "Dep. Variable:                  label   No. Observations:                  333\n",
      "Model:                          Logit   Df Residuals:                      321\n",
      "Method:                           MLE   Df Model:                           11\n",
      "Date:                Thu, 19 Mar 2020   Pseudo R-squ.:                  0.1135\n",
      "Time:                        01:48:27   Log-Likelihood:                -184.67\n",
      "converged:                       True   LL-Null:                       -208.32\n",
      "Covariance Type:            nonrobust   LLR p-value:                 1.900e-06\n",
      "=======================================================================================\n",
      "                          coef    std err          z      P>|z|      [0.025      0.975]\n",
      "---------------------------------------------------------------------------------------\n",
      "screen_(1193, 720)      0.8470      0.374      2.266      0.023       0.114       1.580\n",
      "rate_len_is9            0.9645      0.942      1.024      0.306      -0.882       2.811\n",
      "rate_mid_freq_app       1.0062      0.363      2.774      0.006       0.295       1.717\n",
      "rate_len_isover13       1.0456      0.379      2.759      0.006       0.303       1.788\n",
      "board_UNKNOWN           0.8542      0.583      1.464      0.143      -0.289       1.998\n",
      "cnt_len_is9             1.1176      0.478      2.340      0.019       0.181       2.054\n",
      "electric_quantity       0.7615      0.461      1.651      0.099      -0.142       1.665\n",
      "high_freq_app           0.7937      0.656      1.211      0.226      -0.491       2.079\n",
      "net_type                1.0901      0.602      1.812      0.070      -0.089       2.269\n",
      "screen_(1384, 720)      0.8527      0.473      1.804      0.071      -0.074       1.779\n",
      "screen_(2016, 1080)     0.8425      0.788      1.069      0.285      -0.702       2.387\n",
      "intercept              -0.7851      0.129     -6.090      0.000      -1.038      -0.532\n",
      "=======================================================================================\n"
     ]
    },
    {
     "name": "stderr",
     "output_type": "stream",
     "text": [
      "/Users/yantingting/opt/anaconda3/envs/modeling/lib/python3.7/site-packages/ipykernel_launcher.py:20: SettingWithCopyWarning: \n",
      "A value is trying to be set on a copy of a slice from a DataFrame.\n",
      "Try using .loc[row_indexer,col_indexer] = value instead\n",
      "\n",
      "See the caveats in the documentation: https://pandas.pydata.org/pandas-docs/stable/user_guide/indexing.html#returning-a-view-versus-a-copy\n"
     ]
    }
   ],
   "source": [
    "# ### 有些变量不显著，需要逐步剔除\n",
    "pvals = LR.pvalues\n",
    "multi_analysis = feature_used\n",
    "len(multi_analysis)\n",
    "varLargeP = {k: v for k,v in pvals.items() if v >= 0.5}\n",
    "varLargeP = sorted(varLargeP.items(), key=lambda d:d[1], reverse = True)\n",
    "\n",
    "while(len(varLargeP) > 0 and len(multi_analysis) > 0):\n",
    "    # 每次迭代中，剔除不显著的变量，直到\n",
    "    # (1) 剩余所有变量均显著\n",
    "    # (2) 没有特征可选\n",
    "    varMaxP = varLargeP[0][0]\n",
    "    print(varMaxP)\n",
    "    if varMaxP == 'intercept':\n",
    "        print('the intercept is not significant!')\n",
    "        break\n",
    "    multi_analysis.remove(varMaxP)\n",
    "    y = y_train\n",
    "    X = X_transformed_train[multi_analysis]\n",
    "    X['intercept'] = [1] * X.shape[0]\n",
    "    LR_final = sm.Logit(y, X).fit()\n",
    "    pvals = LR_final.pvalues\n",
    "    pvals = pvals.to_dict()\n",
    "    varLargeP = {k: v for k, v in pvals.items() if v >= 0.5}\n",
    "    varLargeP = sorted(varLargeP.items(), key=lambda d: d[1], reverse=True)\n",
    "\n",
    "print(LR_final.summary())\n",
    "frame = LR_final.params.to_frame(name = 'coef').merge(LR_final.pvalues.to_frame(name = 'P>|z|'),\n",
    "                                              left_index = True,right_index = True,how = 'left')\n",
    "frame.to_excel(os.path.join(result_path,'model_result.xlsx'))"
   ]
  },
  {
   "cell_type": "code",
   "execution_count": null,
   "metadata": {},
   "outputs": [],
   "source": []
  },
  {
   "cell_type": "code",
   "execution_count": null,
   "metadata": {},
   "outputs": [],
   "source": []
  },
  {
   "cell_type": "markdown",
   "metadata": {},
   "source": [
    "## VIF"
   ]
  },
  {
   "cell_type": "code",
   "execution_count": 33,
   "metadata": {},
   "outputs": [
    {
     "name": "stdout",
     "output_type": "stream",
     "text": [
      "1.074137879320962\n"
     ]
    }
   ],
   "source": [
    "X = np.matrix(X_transformed_train[feature_used])\n",
    "VIF_list = [variance_inflation_factor(X, i) for i in range(X.shape[1])]\n",
    "max_VIF = max(VIF_list)\n",
    "print(max_VIF)"
   ]
  },
  {
   "cell_type": "markdown",
   "metadata": {},
   "source": [
    "## COR"
   ]
  },
  {
   "cell_type": "code",
   "execution_count": 34,
   "metadata": {},
   "outputs": [],
   "source": [
    "X_transformed_train[feature_used].corr().to_excel(os.path.join(result_path,'corr.xlsx'))"
   ]
  },
  {
   "cell_type": "markdown",
   "metadata": {},
   "source": [
    "## 保存模型"
   ]
  },
  {
   "cell_type": "code",
   "execution_count": 35,
   "metadata": {},
   "outputs": [],
   "source": [
    "saveModel =open(os.path.join(result_path,'LR_Model_Normal.pkl'),'wb')\n",
    "pickle.dump(LR_final,saveModel)\n",
    "saveModel.close()\n",
    "\n",
    "##加载模型\n",
    "# modelFile =open(result_path+'LR_Model_Normal.pkl','rb')\n",
    "# LR = pickle.load(modelFile)\n",
    "# modelFile.close()"
   ]
  },
  {
   "cell_type": "markdown",
   "metadata": {},
   "source": [
    "# 结果"
   ]
  },
  {
   "cell_type": "code",
   "execution_count": 36,
   "metadata": {},
   "outputs": [
    {
     "data": {
      "text/plain": [
       "(333,)"
      ]
     },
     "execution_count": 36,
     "metadata": {},
     "output_type": "execute_result"
    },
    {
     "data": {
      "text/plain": [
       "(112,)"
      ]
     },
     "execution_count": 36,
     "metadata": {},
     "output_type": "execute_result"
    },
    {
     "name": "stderr",
     "output_type": "stream",
     "text": [
      "/Users/yantingting/opt/anaconda3/envs/modeling/lib/python3.7/site-packages/pandas/core/indexing.py:965: SettingWithCopyWarning: \n",
      "A value is trying to be set on a copy of a slice from a DataFrame.\n",
      "Try using .loc[row_indexer,col_indexer] = value instead\n",
      "\n",
      "See the caveats in the documentation: https://pandas.pydata.org/pandas-docs/stable/user_guide/indexing.html#returning-a-view-versus-a-copy\n",
      "  self.obj[item] = s\n"
     ]
    },
    {
     "name": "stdout",
     "output_type": "stream",
     "text": [
      "auc: 0.73\n",
      "Accuracy: 75.6757%\n",
      "auc: 0.68\n",
      "Accuracy: 71.4286%\n",
      "success\n"
     ]
    }
   ],
   "source": [
    "X_transformed_test['intercept']=[1]*X_transformed_test.shape[0]\n",
    "y_train_pred = LR_final.predict(X_transformed_train[feature_used + ['intercept']])\n",
    "y_train_pred.shape\n",
    "y_test_pred = LR_final.predict(X_transformed_test[feature_used + ['intercept']])\n",
    "y_test_pred.shape\n",
    "# ### 打分&KS\n",
    "train_pred = train_df.copy()\n",
    "train_pred['y_pred'] = y_train_pred\n",
    "\n",
    "test_pred = test_df.copy()\n",
    "test_pred['y_pred'] = y_test_pred\n",
    "data_scored_train, train_proba_ks, train_proba_ks_20, train_score_ks, train_score_ks_20, data_scored_test, test_proba_ks, test_proba_ks_20, test_score_ks, test_score_ks_20 = pf.data_score_KS(train_pred, test_pred, 'y_pred',n1 = 5,n2 = 10)\n",
    "\n",
    "writer = pd.ExcelWriter(os.path.join(result_path,'ks.xlsx'))\n",
    "train_score_ks.to_excel(writer,sheet_name = 'train_score_ks')\n",
    "test_score_ks.to_excel(writer, sheet_name = 'test_score_ks') \n",
    "writer.close()\n",
    "\n",
    "def auc_acc_table(df):\n",
    "    from sklearn.metrics import roc_auc_score\n",
    "    y = df.label.values\n",
    "    y_pred = df.y_pred\n",
    "    ## AUC\n",
    "    auc = roc_auc_score(y, y_pred)\n",
    "    print(\"auc: %.2f\" % auc)\n",
    "    ## Accuracy\n",
    "    predictions = [round(value) for value in y_pred]\n",
    "    accuracy = accuracy_score(y, predictions)\n",
    "    print(\"Accuracy: %.4f%%\" % (accuracy * 100.0))\n",
    "    return auc, accuracy\n",
    "\n",
    "auc_train, acc_train = auc_acc_table(train_pred)\n",
    "auc_test, acc_test = auc_acc_table(test_pred)\n",
    "print('success')\n"
   ]
  },
  {
   "cell_type": "markdown",
   "metadata": {},
   "source": [
    "# LiftChart"
   ]
  },
  {
   "cell_type": "code",
   "execution_count": 37,
   "metadata": {},
   "outputs": [
    {
     "data": {
      "text/html": [
       "<div>\n",
       "<style scoped>\n",
       "    .dataframe tbody tr th:only-of-type {\n",
       "        vertical-align: middle;\n",
       "    }\n",
       "\n",
       "    .dataframe tbody tr th {\n",
       "        vertical-align: top;\n",
       "    }\n",
       "\n",
       "    .dataframe thead th {\n",
       "        text-align: right;\n",
       "    }\n",
       "</style>\n",
       "<table border=\"1\" class=\"dataframe\">\n",
       "  <thead>\n",
       "    <tr style=\"text-align: right;\">\n",
       "      <th></th>\n",
       "      <th>order_no</th>\n",
       "      <th>Y</th>\n",
       "      <th>y_pred</th>\n",
       "      <th>score</th>\n",
       "      <th>score_bin</th>\n",
       "      <th>score_bin_20</th>\n",
       "      <th>proba_bin</th>\n",
       "      <th>proba_bin_20</th>\n",
       "      <th>sample_set</th>\n",
       "    </tr>\n",
       "  </thead>\n",
       "  <tbody>\n",
       "    <tr>\n",
       "      <th>0</th>\n",
       "      <td>3808899799</td>\n",
       "      <td>0.0</td>\n",
       "      <td>0.305298</td>\n",
       "      <td>624.0</td>\n",
       "      <td>(619.0, 632.0]</td>\n",
       "      <td>(619.0, 625.0]</td>\n",
       "      <td>(0.250306, 0.341856]</td>\n",
       "      <td>(0.295223, 0.341856]</td>\n",
       "      <td>train</td>\n",
       "    </tr>\n",
       "    <tr>\n",
       "      <th>1</th>\n",
       "      <td>3808916175</td>\n",
       "      <td>1.0</td>\n",
       "      <td>0.175824</td>\n",
       "      <td>645.0</td>\n",
       "      <td>(632.0, 645.0]</td>\n",
       "      <td>(637.0, 645.0]</td>\n",
       "      <td>(0.17431, 0.250306]</td>\n",
       "      <td>(0.17431, 0.214596]</td>\n",
       "      <td>train</td>\n",
       "    </tr>\n",
       "    <tr>\n",
       "      <th>2</th>\n",
       "      <td>3808778599</td>\n",
       "      <td>0.0</td>\n",
       "      <td>0.142037</td>\n",
       "      <td>652.0</td>\n",
       "      <td>(645.0, 721.0]</td>\n",
       "      <td>(645.0, 658.0]</td>\n",
       "      <td>(0.014980700000000001, 0.17431]</td>\n",
       "      <td>(0.1193, 0.17431]</td>\n",
       "      <td>train</td>\n",
       "    </tr>\n",
       "    <tr>\n",
       "      <th>3</th>\n",
       "      <td>3808862384</td>\n",
       "      <td>0.0</td>\n",
       "      <td>0.070515</td>\n",
       "      <td>674.0</td>\n",
       "      <td>(645.0, 721.0]</td>\n",
       "      <td>(658.0, 721.0]</td>\n",
       "      <td>(0.014980700000000001, 0.17431]</td>\n",
       "      <td>(0.014980700000000001, 0.1193]</td>\n",
       "      <td>train</td>\n",
       "    </tr>\n",
       "    <tr>\n",
       "      <th>4</th>\n",
       "      <td>3808855137</td>\n",
       "      <td>0.0</td>\n",
       "      <td>0.324936</td>\n",
       "      <td>621.0</td>\n",
       "      <td>(619.0, 632.0]</td>\n",
       "      <td>(619.0, 625.0]</td>\n",
       "      <td>(0.250306, 0.341856]</td>\n",
       "      <td>(0.295223, 0.341856]</td>\n",
       "      <td>train</td>\n",
       "    </tr>\n",
       "  </tbody>\n",
       "</table>\n",
       "</div>"
      ],
      "text/plain": [
       "     order_no    Y    y_pred  score       score_bin    score_bin_20  \\\n",
       "0  3808899799  0.0  0.305298  624.0  (619.0, 632.0]  (619.0, 625.0]   \n",
       "1  3808916175  1.0  0.175824  645.0  (632.0, 645.0]  (637.0, 645.0]   \n",
       "2  3808778599  0.0  0.142037  652.0  (645.0, 721.0]  (645.0, 658.0]   \n",
       "3  3808862384  0.0  0.070515  674.0  (645.0, 721.0]  (658.0, 721.0]   \n",
       "4  3808855137  0.0  0.324936  621.0  (619.0, 632.0]  (619.0, 625.0]   \n",
       "\n",
       "                         proba_bin                    proba_bin_20 sample_set  \n",
       "0             (0.250306, 0.341856]            (0.295223, 0.341856]      train  \n",
       "1              (0.17431, 0.250306]             (0.17431, 0.214596]      train  \n",
       "2  (0.014980700000000001, 0.17431]               (0.1193, 0.17431]      train  \n",
       "3  (0.014980700000000001, 0.17431]  (0.014980700000000001, 0.1193]      train  \n",
       "4             (0.250306, 0.341856]            (0.295223, 0.341856]      train  "
      ]
     },
     "execution_count": 37,
     "metadata": {},
     "output_type": "execute_result"
    },
    {
     "name": "stdout",
     "output_type": "stream",
     "text": [
      "分箱数量:  5\n"
     ]
    },
    {
     "name": "stderr",
     "output_type": "stream",
     "text": [
      "/Users/yantingting/PycharmProjects/modeling/plot_tools.py:73: SettingWithCopyWarning: \n",
      "A value is trying to be set on a copy of a slice from a DataFrame.\n",
      "Try using .loc[row_indexer,col_indexer] = value instead\n",
      "\n",
      "See the caveats in the documentation: https://pandas.pydata.org/pandas-docs/stable/user_guide/indexing.html#returning-a-view-versus-a-copy\n",
      "  df['bkl_%s' % y_pred] = pd.qcut(df[y_pred], n_bins, duplicates='drop')\n",
      "/Users/yantingting/PycharmProjects/modeling/plot_tools.py:73: SettingWithCopyWarning: \n",
      "A value is trying to be set on a copy of a slice from a DataFrame.\n",
      "Try using .loc[row_indexer,col_indexer] = value instead\n",
      "\n",
      "See the caveats in the documentation: https://pandas.pydata.org/pandas-docs/stable/user_guide/indexing.html#returning-a-view-versus-a-copy\n",
      "  df['bkl_%s' % y_pred] = pd.qcut(df[y_pred], n_bins, duplicates='drop')\n",
      "/Users/yantingting/PycharmProjects/modeling/plot_tools.py:86: MatplotlibDeprecationWarning: Adding an axes using the same arguments as a previous axes currently reuses the earlier instance.  In a future version, a new instance will always be created and returned.  Meanwhile, this warning can be suppressed, and the future behavior ensured, by passing a unique label to each axes instance.\n",
      "  plt.subplot(1, 2, 1)\n",
      "/Users/yantingting/PycharmProjects/modeling/plot_tools.py:97: MatplotlibDeprecationWarning: Adding an axes using the same arguments as a previous axes currently reuses the earlier instance.  In a future version, a new instance will always be created and returned.  Meanwhile, this warning can be suppressed, and the future behavior ensured, by passing a unique label to each axes instance.\n",
      "  plt.subplot(1, 2, 2)\n"
     ]
    },
    {
     "name": "stdout",
     "output_type": "stream",
     "text": [
      "分箱数量:  5\n",
      "end\n"
     ]
    }
   ],
   "source": [
    "## data_scored\n",
    "data_scored_train['sample_set'] = \"train\"\n",
    "data_scored_test['sample_set'] = \"test\"\n",
    "data_scored_all = pd.concat([data_scored_train, data_scored_test])\n",
    "data_scored_all['order_no'] = data_scored_all['order_no'].astype(str)\n",
    "data_scored_all.head()\n",
    "save_data_to_pickle(data_scored_all,result_path,'data_scored_all.pkl')\n",
    "\n",
    "FIG_PATH = os.path.join(result_path, 'figure', 'liftchart')\n",
    "if not os.path.exists(FIG_PATH):\n",
    "    os.makedirs(FIG_PATH)\n",
    "\n",
    "train_lc = pt.show_result_new(data_scored_all.loc[data_scored_all.sample_set == 'train'], 'y_pred','Y', n_bins = 5, feature_label='train')\n",
    "test_lc = pt.show_result_new(data_scored_all.loc[data_scored_all.sample_set == 'test'], 'y_pred','Y', n_bins = 5, feature_label='test')\n",
    "# oot_lc = pt.show_result_new(data_scored_all.loc[data_scored_all.sample_set == 'oot'], 'y_pred','Y', n_bins = 10, feature_label='oot')\n",
    "path = os.path.join(FIG_PATH, \"LiftChart.png\")\n",
    "plt.savefig(path, format='png', dpi=300, bbox_inches = 'tight',pad_inches = 0.1)\n",
    "plt.show()\n",
    "plt.close()\n",
    "\n",
    "print('end')"
   ]
  },
  {
   "cell_type": "markdown",
   "metadata": {},
   "source": [
    "# PDP"
   ]
  },
  {
   "cell_type": "code",
   "execution_count": 38,
   "metadata": {},
   "outputs": [
    {
     "data": {
      "text/plain": [
       "12"
      ]
     },
     "execution_count": 38,
     "metadata": {},
     "output_type": "execute_result"
    },
    {
     "data": {
      "text/plain": [
       "[<Figure size 1600x800 with 9 Axes>]"
      ]
     },
     "execution_count": 38,
     "metadata": {},
     "output_type": "execute_result"
    },
    {
     "data": {
      "text/plain": [
       "[<Figure size 1600x800 with 3 Axes>]"
      ]
     },
     "execution_count": 38,
     "metadata": {},
     "output_type": "execute_result"
    },
    {
     "name": "stdout",
     "output_type": "stream",
     "text": [
      "end\n"
     ]
    }
   ],
   "source": [
    "FIG_PATH = os.path.join(result_path, 'figure', 'PDP')\n",
    "if not os.path.exists(FIG_PATH):\n",
    "    os.makedirs(FIG_PATH)\n",
    "\n",
    "f_imp_list = LR_final.params.index.tolist()\n",
    "select_features =LR_final.params.index.tolist()\n",
    "all_pred = pd.concat([X_transformed_train, X_transformed_test])\n",
    "len(select_features)    \n",
    "    \n",
    "n = 0\n",
    "while n < len(f_imp_list):\n",
    "    m = n + 9\n",
    "    features_draw = [i for i in f_imp_list[n:m]]\n",
    "    pt.pdpCharts9(LR_final, all_pred, features_draw, select_features, n_bins=10, dfltValue=-1)\n",
    "    path = os.path.join(FIG_PATH, \"pdp_\" + str(n) + \"_\" + str(m) + \".png\")\n",
    "    plt.savefig(path, format='png', dpi=300, bbox_inches = 'tight',pad_inches = 0.1);\n",
    "    plt.close()\n",
    "    n += 9\n",
    "print('end')"
   ]
  },
  {
   "cell_type": "markdown",
   "metadata": {},
   "source": [
    "# 入模变量的univariate_chart"
   ]
  },
  {
   "cell_type": "code",
   "execution_count": 39,
   "metadata": {},
   "outputs": [
    {
     "name": "stdout",
     "output_type": "stream",
     "text": [
      "0 screen_(1193, 720)\n"
     ]
    },
    {
     "name": "stderr",
     "output_type": "stream",
     "text": [
      "/Users/yantingting/opt/anaconda3/envs/modeling/lib/python3.7/site-packages/pandas/core/indexing.py:965: SettingWithCopyWarning: \n",
      "A value is trying to be set on a copy of a slice from a DataFrame.\n",
      "Try using .loc[row_indexer,col_indexer] = value instead\n",
      "\n",
      "See the caveats in the documentation: https://pandas.pydata.org/pandas-docs/stable/user_guide/indexing.html#returning-a-view-versus-a-copy\n",
      "  self.obj[item] = s\n"
     ]
    },
    {
     "name": "stdout",
     "output_type": "stream",
     "text": [
      "1 rate_len_is9\n"
     ]
    },
    {
     "name": "stderr",
     "output_type": "stream",
     "text": [
      "/Users/yantingting/opt/anaconda3/envs/modeling/lib/python3.7/site-packages/pandas/core/indexing.py:965: SettingWithCopyWarning: \n",
      "A value is trying to be set on a copy of a slice from a DataFrame.\n",
      "Try using .loc[row_indexer,col_indexer] = value instead\n",
      "\n",
      "See the caveats in the documentation: https://pandas.pydata.org/pandas-docs/stable/user_guide/indexing.html#returning-a-view-versus-a-copy\n",
      "  self.obj[item] = s\n"
     ]
    },
    {
     "name": "stdout",
     "output_type": "stream",
     "text": [
      "2 rate_mid_freq_app\n"
     ]
    },
    {
     "name": "stderr",
     "output_type": "stream",
     "text": [
      "/Users/yantingting/opt/anaconda3/envs/modeling/lib/python3.7/site-packages/pandas/core/indexing.py:965: SettingWithCopyWarning: \n",
      "A value is trying to be set on a copy of a slice from a DataFrame.\n",
      "Try using .loc[row_indexer,col_indexer] = value instead\n",
      "\n",
      "See the caveats in the documentation: https://pandas.pydata.org/pandas-docs/stable/user_guide/indexing.html#returning-a-view-versus-a-copy\n",
      "  self.obj[item] = s\n"
     ]
    },
    {
     "name": "stdout",
     "output_type": "stream",
     "text": [
      "3 rate_len_isover13\n"
     ]
    },
    {
     "name": "stderr",
     "output_type": "stream",
     "text": [
      "/Users/yantingting/opt/anaconda3/envs/modeling/lib/python3.7/site-packages/pandas/core/indexing.py:965: SettingWithCopyWarning: \n",
      "A value is trying to be set on a copy of a slice from a DataFrame.\n",
      "Try using .loc[row_indexer,col_indexer] = value instead\n",
      "\n",
      "See the caveats in the documentation: https://pandas.pydata.org/pandas-docs/stable/user_guide/indexing.html#returning-a-view-versus-a-copy\n",
      "  self.obj[item] = s\n"
     ]
    },
    {
     "name": "stdout",
     "output_type": "stream",
     "text": [
      "4 board_UNKNOWN\n"
     ]
    },
    {
     "name": "stderr",
     "output_type": "stream",
     "text": [
      "/Users/yantingting/opt/anaconda3/envs/modeling/lib/python3.7/site-packages/pandas/core/indexing.py:965: SettingWithCopyWarning: \n",
      "A value is trying to be set on a copy of a slice from a DataFrame.\n",
      "Try using .loc[row_indexer,col_indexer] = value instead\n",
      "\n",
      "See the caveats in the documentation: https://pandas.pydata.org/pandas-docs/stable/user_guide/indexing.html#returning-a-view-versus-a-copy\n",
      "  self.obj[item] = s\n"
     ]
    },
    {
     "name": "stdout",
     "output_type": "stream",
     "text": [
      "5 cnt_len_is9\n"
     ]
    },
    {
     "name": "stderr",
     "output_type": "stream",
     "text": [
      "/Users/yantingting/opt/anaconda3/envs/modeling/lib/python3.7/site-packages/pandas/core/indexing.py:965: SettingWithCopyWarning: \n",
      "A value is trying to be set on a copy of a slice from a DataFrame.\n",
      "Try using .loc[row_indexer,col_indexer] = value instead\n",
      "\n",
      "See the caveats in the documentation: https://pandas.pydata.org/pandas-docs/stable/user_guide/indexing.html#returning-a-view-versus-a-copy\n",
      "  self.obj[item] = s\n"
     ]
    },
    {
     "name": "stdout",
     "output_type": "stream",
     "text": [
      "6 electric_quantity\n"
     ]
    },
    {
     "name": "stderr",
     "output_type": "stream",
     "text": [
      "/Users/yantingting/opt/anaconda3/envs/modeling/lib/python3.7/site-packages/pandas/core/indexing.py:965: SettingWithCopyWarning: \n",
      "A value is trying to be set on a copy of a slice from a DataFrame.\n",
      "Try using .loc[row_indexer,col_indexer] = value instead\n",
      "\n",
      "See the caveats in the documentation: https://pandas.pydata.org/pandas-docs/stable/user_guide/indexing.html#returning-a-view-versus-a-copy\n",
      "  self.obj[item] = s\n"
     ]
    },
    {
     "name": "stdout",
     "output_type": "stream",
     "text": [
      "7 high_freq_app\n"
     ]
    },
    {
     "name": "stderr",
     "output_type": "stream",
     "text": [
      "/Users/yantingting/opt/anaconda3/envs/modeling/lib/python3.7/site-packages/pandas/core/indexing.py:965: SettingWithCopyWarning: \n",
      "A value is trying to be set on a copy of a slice from a DataFrame.\n",
      "Try using .loc[row_indexer,col_indexer] = value instead\n",
      "\n",
      "See the caveats in the documentation: https://pandas.pydata.org/pandas-docs/stable/user_guide/indexing.html#returning-a-view-versus-a-copy\n",
      "  self.obj[item] = s\n"
     ]
    },
    {
     "name": "stdout",
     "output_type": "stream",
     "text": [
      "8 net_type\n"
     ]
    },
    {
     "name": "stderr",
     "output_type": "stream",
     "text": [
      "/Users/yantingting/opt/anaconda3/envs/modeling/lib/python3.7/site-packages/pandas/core/indexing.py:965: SettingWithCopyWarning: \n",
      "A value is trying to be set on a copy of a slice from a DataFrame.\n",
      "Try using .loc[row_indexer,col_indexer] = value instead\n",
      "\n",
      "See the caveats in the documentation: https://pandas.pydata.org/pandas-docs/stable/user_guide/indexing.html#returning-a-view-versus-a-copy\n",
      "  self.obj[item] = s\n"
     ]
    },
    {
     "name": "stdout",
     "output_type": "stream",
     "text": [
      "9 screen_(1384, 720)\n"
     ]
    },
    {
     "name": "stderr",
     "output_type": "stream",
     "text": [
      "/Users/yantingting/opt/anaconda3/envs/modeling/lib/python3.7/site-packages/pandas/core/indexing.py:965: SettingWithCopyWarning: \n",
      "A value is trying to be set on a copy of a slice from a DataFrame.\n",
      "Try using .loc[row_indexer,col_indexer] = value instead\n",
      "\n",
      "See the caveats in the documentation: https://pandas.pydata.org/pandas-docs/stable/user_guide/indexing.html#returning-a-view-versus-a-copy\n",
      "  self.obj[item] = s\n"
     ]
    },
    {
     "name": "stdout",
     "output_type": "stream",
     "text": [
      "10 screen_(2016, 1080)\n"
     ]
    },
    {
     "name": "stderr",
     "output_type": "stream",
     "text": [
      "/Users/yantingting/opt/anaconda3/envs/modeling/lib/python3.7/site-packages/pandas/core/indexing.py:965: SettingWithCopyWarning: \n",
      "A value is trying to be set on a copy of a slice from a DataFrame.\n",
      "Try using .loc[row_indexer,col_indexer] = value instead\n",
      "\n",
      "See the caveats in the documentation: https://pandas.pydata.org/pandas-docs/stable/user_guide/indexing.html#returning-a-view-versus-a-copy\n",
      "  self.obj[item] = s\n"
     ]
    },
    {
     "data": {
      "text/plain": [
       "[]"
      ]
     },
     "execution_count": 39,
     "metadata": {},
     "output_type": "execute_result"
    },
    {
     "name": "stdout",
     "output_type": "stream",
     "text": [
      "run_time:  12.404815196990967\n"
     ]
    }
   ],
   "source": [
    "result_var_path= os.path.join(result_path,'var_used')\n",
    "if not os.path.exists(result_var_path):\n",
    "    os.mkdir(result_var_path)\n",
    "    \n",
    "time1 = time.time()\n",
    "feature_list = feature_used\n",
    "wrong_list= []\n",
    "for index,value in enumerate(feature_list):\n",
    "    print(index,value)\n",
    "    try:\n",
    "        pt.univariate_chart(df = train_df.copy(), col = value , target ='label' , n = 5,\n",
    "                             special_attribute = [-1, np.nan],\n",
    "                             dftrain=train_df.copy(), dftest=test_df.copy(),\n",
    "                             draw_all=False, draw_train_test=True,result_path = result_var_path)\n",
    "    except Exception as e:\n",
    "        wrong_list.append(value)\n",
    "        print(e)\n",
    "wrong_list\n",
    "time2 = time.time()\n",
    "print('run_time: ',time2 - time1)"
   ]
  },
  {
   "cell_type": "code",
   "execution_count": null,
   "metadata": {},
   "outputs": [],
   "source": []
  },
  {
   "cell_type": "code",
   "execution_count": null,
   "metadata": {},
   "outputs": [],
   "source": []
  },
  {
   "cell_type": "code",
   "execution_count": null,
   "metadata": {},
   "outputs": [],
   "source": []
  },
  {
   "cell_type": "code",
   "execution_count": null,
   "metadata": {},
   "outputs": [],
   "source": []
  }
 ],
 "metadata": {
  "kernelspec": {
   "display_name": "Python 3",
   "language": "python",
   "name": "python3"
  },
  "language_info": {
   "codemirror_mode": {
    "name": "ipython",
    "version": 3
   },
   "file_extension": ".py",
   "mimetype": "text/x-python",
   "name": "python",
   "nbconvert_exporter": "python",
   "pygments_lexer": "ipython3",
   "version": "3.7.6"
  },
  "latex_envs": {
   "LaTeX_envs_menu_present": true,
   "autoclose": false,
   "autocomplete": true,
   "bibliofile": "biblio.bib",
   "cite_by": "apalike",
   "current_citInitial": 1,
   "eqLabelWithNumbers": true,
   "eqNumInitial": 1,
   "hotkeys": {
    "equation": "Ctrl-E",
    "itemize": "Ctrl-I"
   },
   "labels_anchors": false,
   "latex_user_defs": false,
   "report_style_numbering": false,
   "user_envs_cfg": false
  },
  "toc": {
   "base_numbering": 1,
   "nav_menu": {},
   "number_sections": true,
   "sideBar": true,
   "skip_h1_title": false,
   "title_cell": "Table of Contents",
   "title_sidebar": "Contents",
   "toc_cell": false,
   "toc_position": {},
   "toc_section_display": true,
   "toc_window_display": true
  },
  "varInspector": {
   "cols": {
    "lenName": 16,
    "lenType": 16,
    "lenVar": 40
   },
   "kernels_config": {
    "python": {
     "delete_cmd_postfix": "",
     "delete_cmd_prefix": "del ",
     "library": "var_list.py",
     "varRefreshCmd": "print(var_dic_list())"
    },
    "r": {
     "delete_cmd_postfix": ") ",
     "delete_cmd_prefix": "rm(",
     "library": "var_list.r",
     "varRefreshCmd": "cat(var_dic_list()) "
    }
   },
   "types_to_exclude": [
    "module",
    "function",
    "builtin_function_or_method",
    "instance",
    "_Feature"
   ],
   "window_display": false
  }
 },
 "nbformat": 4,
 "nbformat_minor": 2
}
