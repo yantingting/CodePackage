{
 "cells": [
  {
   "cell_type": "code",
   "execution_count": 59,
   "metadata": {},
   "outputs": [],
   "source": [
    "# 更新.pyc文件\n",
    "# import compileall\n",
    "# compileall.compile_dir(r'/Users/yantingting/PycharmProjects/modeling')"
   ]
  },
  {
   "cell_type": "code",
   "execution_count": 1,
   "metadata": {},
   "outputs": [],
   "source": [
    "import sys\n",
    "import os\n",
    "import numpy as np\n",
    "import pandas as pd\n",
    "from imp import reload\n",
    "import matplotlib.pyplot as plt\n",
    "sys.path.append('/Users/yantingting/PycharmProjects/modeling')\n",
    "import plot_tools as pt\n",
    "import metrics as mt\n",
    "from metrics import *\n",
    "import misc_utils as mu\n",
    "import database_conncet as data_con\n",
    "import summary_statistics as ss\n",
    "import feature_selection as fs\n",
    "from feature_selection import *\n",
    "from data_io_utils import *\n",
    "import data_processing as dp\n",
    "import generate_report as gr\n",
    "\n",
    "from xgboost import XGBClassifier\n",
    "from sklearn.model_selection import GridSearchCV\n",
    "from sklearn.metrics import accuracy_score"
   ]
  },
  {
   "cell_type": "code",
   "execution_count": 2,
   "metadata": {},
   "outputs": [],
   "source": [
    "fs_obj = fs.FeatureSelection()\n",
    "pf = mt.Performance()\n",
    "bw = mt.BinWoe()\n"
   ]
  },
  {
   "cell_type": "code",
   "execution_count": 3,
   "metadata": {},
   "outputs": [],
   "source": [
    "input_path = '/Users/yantingting/Seafile/风控/模型/14 巴西/Portocred/data/'\n",
    "result_path = os.path.join('/Users/yantingting/Seafile/风控/模型/14 巴西/Portocred/','模型') \n",
    "if not os.path.exists(result_path):\n",
    "    os.mkdir(result_path)"
   ]
  },
  {
   "cell_type": "markdown",
   "metadata": {},
   "source": [
    "# 读取数据&核验数据"
   ]
  },
  {
   "cell_type": "code",
   "execution_count": 40,
   "metadata": {},
   "outputs": [
    {
     "data": {
      "text/plain": [
       "(445, 72)"
      ]
     },
     "execution_count": 40,
     "metadata": {},
     "output_type": "execute_result"
    },
    {
     "data": {
      "text/plain": [
       "(445, 72)"
      ]
     },
     "execution_count": 40,
     "metadata": {},
     "output_type": "execute_result"
    }
   ],
   "source": [
    "all_df = load_data_from_pickle(input_path,'df_var_all.pkl')\n",
    "selected_var = pd.read_excel(os.path.join(input_path,'selected_var.xlsx'))['selected_var'].unique().tolist()\n",
    "all_cos = ['loan_id','date','fpd_1','sample_flag']\n",
    "all_df = all_df[all_cos+selected_var]\n",
    "all_df.index = all_df.loan_id\n",
    "all_df.shape\n",
    "all_df.rename(columns = {'date':'applied_at', 'fpd_1':'label'}, inplace=True)\n",
    "all_df = all_df.loc[all_df.label.isin([0,1])]\n",
    "all_df.shape\n",
    "eda = ss.eda(all_df , result_path)\n",
    "all_df.fillna(-1,inplace = True)"
   ]
  },
  {
   "cell_type": "code",
   "execution_count": null,
   "metadata": {},
   "outputs": [],
   "source": []
  },
  {
   "cell_type": "code",
   "execution_count": 41,
   "metadata": {},
   "outputs": [
    {
     "data": {
      "text/plain": [
       "(446, 4)"
      ]
     },
     "execution_count": 41,
     "metadata": {},
     "output_type": "execute_result"
    },
    {
     "data": {
      "text/plain": [
       "(68, 4)"
      ]
     },
     "execution_count": 41,
     "metadata": {},
     "output_type": "execute_result"
    },
    {
     "data": {
      "text/plain": [
       "68"
      ]
     },
     "execution_count": 41,
     "metadata": {},
     "output_type": "execute_result"
    }
   ],
   "source": [
    "#字典\n",
    "var_dict = pd.read_csv(os.path.join(input_path,'dict_all.csv'))\n",
    "var_dict.shape\n",
    "selected_var = pd.read_excel(os.path.join(input_path,'selected_var.xlsx'))['selected_var'].unique().tolist()\n",
    "var_dict = var_dict[var_dict['指标英文'].isin(selected_var)]\n",
    "var_dict.shape\n",
    "y_col = ['label']\n",
    "x_col = list(set(all_df.columns).intersection(var_dict.指标英文))\n",
    "len(x_col)\n",
    "useless_col = ['loan_id','applied_at','sample_flag']"
   ]
  },
  {
   "cell_type": "code",
   "execution_count": 42,
   "metadata": {},
   "outputs": [
    {
     "data": {
      "text/plain": [
       "(333, 72)"
      ]
     },
     "execution_count": 42,
     "metadata": {},
     "output_type": "execute_result"
    },
    {
     "data": {
      "text/plain": [
       "1    197\n",
       "0    136\n",
       "Name: label, dtype: int64"
      ]
     },
     "execution_count": 42,
     "metadata": {},
     "output_type": "execute_result"
    },
    {
     "data": {
      "text/plain": [
       "(112, 72)"
      ]
     },
     "execution_count": 42,
     "metadata": {},
     "output_type": "execute_result"
    },
    {
     "data": {
      "text/plain": [
       "1    70\n",
       "0    42\n",
       "Name: label, dtype: int64"
      ]
     },
     "execution_count": 42,
     "metadata": {},
     "output_type": "execute_result"
    },
    {
     "data": {
      "text/plain": [
       "True"
      ]
     },
     "execution_count": 42,
     "metadata": {},
     "output_type": "execute_result"
    },
    {
     "data": {
      "text/plain": [
       "True"
      ]
     },
     "execution_count": 42,
     "metadata": {},
     "output_type": "execute_result"
    }
   ],
   "source": [
    "#划分训练和验证\n",
    "train_df = all_df[all_df.sample_flag == 0]\n",
    "test_df = all_df[all_df.sample_flag == 1]\n",
    "\n",
    "train_df.shape\n",
    "train_df.label.value_counts(dropna = False)\n",
    "\n",
    "test_df.shape\n",
    "test_df.label.value_counts(dropna = False)\n",
    "\n",
    "X_train = train_df[x_col]\n",
    "X_test = test_df[x_col]\n",
    "\n",
    "y_train = train_df.label\n",
    "y_test = test_df.label\n",
    "\n",
    "#检查数据量是否一致\n",
    "X_train.shape[0] == y_train.shape[0]\n",
    "X_test.shape[0] == y_test.shape[0]"
   ]
  },
  {
   "cell_type": "markdown",
   "metadata": {
    "heading_collapsed": true
   },
   "source": [
    "# Univariate Chart"
   ]
  },
  {
   "cell_type": "markdown",
   "metadata": {
    "hidden": true
   },
   "source": [
    "命名格式！！！"
   ]
  },
  {
   "cell_type": "code",
   "execution_count": 13,
   "metadata": {
    "hidden": true
   },
   "outputs": [
    {
     "name": "stdout",
     "output_type": "stream",
     "text": [
      "internal_score\n"
     ]
    },
    {
     "name": "stderr",
     "output_type": "stream",
     "text": [
      "/Users/yantingting/anaconda3/envs/modeling/lib/python3.7/site-packages/pandas/core/indexing.py:494: SettingWithCopyWarning: \n",
      "A value is trying to be set on a copy of a slice from a DataFrame.\n",
      "Try using .loc[row_indexer,col_indexer] = value instead\n",
      "\n",
      "See the caveats in the documentation: http://pandas.pydata.org/pandas-docs/stable/user_guide/indexing.html#returning-a-view-versus-a-copy\n",
      "  self.obj[item] = s\n"
     ]
    },
    {
     "name": "stdout",
     "output_type": "stream",
     "text": [
      "model_SM-G600FY\n",
      "model_LM-X210\n",
      "model_SM-G9650\n",
      "Word\n",
      "screen_(1376, 720)\n",
      "screen_(2160, 1080)\n",
      "Google Play services for Instant Apps\n",
      "model_Moto G (5) Plus\n",
      "screen_(1399, 720)\n",
      "state_name_MG\n",
      "state_name_SC\n",
      "state_name_MT\n",
      "model_LG-H540\n",
      "model_SM-J320M\n",
      "mid_freq_app\n",
      "email1_bol\n",
      "model_Mi A2\n",
      "model_SM-G903M\n",
      "model_MI 9\n",
      "state_name_BA\n",
      "Empréstimo\n",
      "board_UNIVERSAL9610\n",
      "manufacture_ASUS\n",
      "screen_(960, 540)\n",
      "model_E6853\n",
      "screen_(1386, 720)\n",
      "state_name_SP\n",
      "model_5085N\n",
      "Neon\n",
      "screen_(1350, 720)\n",
      "screen_(2135, 1080)\n",
      "board_UNIVERSAL7570_GO\n",
      "manufacture_HMD GLOBAL\n",
      "model_ASUS_Z00AD\n",
      "state_name_RS\n",
      "screen_(1344, 720)\n",
      "model_LG-H870\n",
      "model_LM-X420\n",
      "email1_outlook\n",
      "Pernambucanas\n",
      "model_SM-G975F\n",
      "model_Moto E (4) Plus\n",
      "model_HTC U11\n",
      "available_memory_size\n",
      "model_moto g(7) plus\n",
      "rate_len_is9\n",
      "bank_number_0021\n",
      "screen_(1372, 720)\n",
      "education_degree_3\n",
      "model_A5_Pro\n",
      "gender_M\n",
      "model_LG-M400\n",
      "model_SM-J500M\n",
      "board_MT6737T\n",
      "rate_len_is10\n",
      "state_name_SE\n",
      "Netflix\n",
      "model_ASUS_X00TDB\n",
      "model_SM-A205G\n",
      "Mercado Livre\n",
      "screen_(1384, 720)\n",
      "Google Play Services for AR\n",
      "state_name_PI\n",
      "Meu TIM\n",
      "cnt_len_is11\n",
      "manufacture_SONY\n",
      "model_Moto G (5S) Plus\n",
      "model_Redmi Note 5\n",
      "Candy Crush Saga\n",
      "bank_number_0237\n",
      "board_A5_PRO\n",
      "state_name_RJ\n",
      "board_SDM660\n",
      "model_Moto G (5S)\n",
      "screen_(2094, 1080)\n",
      "screen_(2028, 1080)\n",
      "email1_hotmail\n",
      "manufacture_BLU\n",
      "board_MSM8937_32\n",
      "Meu Alelo\n",
      "Duo\n",
      "Google Play Filmes e TV\n",
      "model_SM-G950F\n",
      "screen_(2128, 1080)\n",
      "model_motorola one action\n",
      "bank_number_0655\n",
      "rate_mid_freq_app\n",
      "BB\n",
      "model_LG-K430\n",
      "screen_(2030, 1080)\n",
      "maritial_status_V\n",
      "model_ASUS_A001D\n",
      "model_SM-G531H\n",
      "Plugin de serviço de impressão da Samsung\n",
      "model_SM-G955F\n",
      "board_ERD9610\n",
      "model_SM-G935F\n",
      "cnt_len_is9\n",
      "Waze\n",
      "McDonald's\n",
      "99\n",
      "education_degree_5\n",
      "app_size\n",
      "screen_(2672, 1440)\n",
      "cnt_unique_names\n",
      "model_SM-A910F\n",
      "bank_number_0104\n",
      "model_Redmi S2\n",
      "screen_(2064, 1080)\n",
      "state_name_MA\n",
      "screen_(2048, 1080)\n",
      "model_moto e5\n",
      "bank_number_0151\n",
      "manufacture_LGE\n",
      "screen_(1193, 720)\n",
      "disk_size\n",
      "Lojas Renner\n",
      "model_Moto G Play\n",
      "model_Lenovo A2016b30\n",
      "screen_(2078, 1080)\n",
      "model_SM-J400M\n",
      "cnt_close_relative\n",
      "board_SC9830I\n",
      "Adobe Acrobat\n",
      "screen_(1382, 720)\n",
      "screen_(1396, 720)\n",
      "Instagram\n",
      "electric_quantity\n",
      "board_MSM8998\n",
      "Meu INSS\n",
      "model_SM-N9600\n",
      "model_SM-A500M\n",
      "model_ASUS_Z01KD\n",
      "model_LG-M700\n",
      "Calculadora\n",
      "model_SM-G611MT\n",
      "board_MT6755\n",
      "Credicard\n",
      "bank_number_0001\n",
      "rate_len_isover13\n",
      "board_MSM8952\n",
      "maritial_status_D\n",
      "email1_terra\n",
      "WhatsApp\n",
      "screen_(2136, 1080)\n",
      "model_SM-A730F\n",
      "screen_(1196, 720)\n",
      "Documentos\n",
      "email1_oi\n",
      "Grana Fácil\n",
      "education_degree_2\n",
      "screen_(1454, 720)\n",
      "Next\n",
      "board_MSM8909\n",
      "model_LG-H630\n",
      "screen_(1187, 720)\n",
      "Twitter\n",
      "screen_(2181, 1080)\n",
      "board_MT6750T\n",
      "model_moto g(7) play\n",
      "Planilhas\n",
      "Fotos\n",
      "board_MT6735\n",
      "model_Moto C Plus\n",
      "cnt_len_is12\n",
      "screen_(1920, 1080)\n",
      "model_SM-G930F\n",
      "Meu Vivo\n",
      "state_name_MS\n",
      "manufacture_LENOVO\n",
      "screen_(2209, 1080)\n",
      "model_SM-J120M\n",
      "model_Redmi Note 7\n",
      "model_SM-G532M\n",
      "model_ASUS_X00ID\n",
      "board_UNIVERSAL7885\n",
      "screen_(1432, 720)\n",
      "screen_(2065, 1080)\n",
      "rate_len_is11\n",
      "screen_(854, 480)\n",
      "state_name_TO\n",
      "model_XT1635-02\n",
      "Google Play Música\n",
      "model_SM-J260M\n",
      "manufacture_LG ELECTRONICS\n",
      "Itaú\n",
      "board_UNIVERSAL7580\n",
      "model_SM-A750G\n",
      "model_SM-G570M\n",
      "Mercado Pago\n",
      "screen_(2231, 1080)\n",
      "screen_(2131, 1080)\n",
      "model_moto g(7)\n",
      "Bradesco\n",
      "screen_(888, 480)\n",
      "AliExpress\n",
      "screen_(2191, 1080)\n",
      "rate_len_isless6\n",
      "screen_(2208, 1080)\n",
      "board_MSM8994\n",
      "board_MT6765\n",
      "Snaptube\n",
      "Google Play Games\n",
      "manufacture_TCL\n",
      "boa_vista_score\n",
      "manufacture_SAMSUNG\n",
      "screen_(2113, 1080)\n",
      "model_Redmi 6A\n",
      "Cartões RCHLO\n",
      "Drive\n",
      "model_SM-J730G\n",
      "bank_number_0756\n",
      "state_name_ES\n",
      "model_ASUS_X00LDA\n",
      "email1_uol\n",
      "board_MT6753\n",
      "education_degree_4\n",
      "Snapchat\n",
      "screen_(1371, 720)\n",
      "Spotify\n",
      "model_SM-A720F\n",
      "E-mail\n",
      "board_UNIVERSAL9820\n",
      "board_UNIVERSAL8895\n",
      "state_name_AM\n",
      "available_capacity_size\n",
      "screen_(1798, 1080)\n",
      "state_name_AP\n",
      "bank_number_0037\n",
      "Outlook\n",
      "bank_number_0033\n",
      "board_SDM636\n",
      "board_MOOREFIELD\n",
      "state_name_CE\n",
      "model_SM-J710MN\n",
      "social_status\n",
      "Way\n",
      "high_freq_app\n",
      "board_CEPHEUS\n",
      "screen_(2042, 1080)\n",
      "board_MT6737\n",
      "PagSeguro\n",
      "model_Mi A2 Lite\n",
      "screen_(2560, 1440)\n",
      "maritial_status_S\n",
      "vpn\n",
      "irs_status_SEGUE\n",
      "model_SM-J700M\n",
      "model_R2 LTE\n",
      "HAVAN\n",
      "occupation_FuncionÃ¡rios PÃºblicos\n",
      "model_SM-A530F\n",
      "screen_(2076, 1080)\n",
      "gps\n",
      "board_UNIVERSAL7870\n",
      "board_MSM8916\n",
      "cnt_len_isover13\n",
      "Cartola FC\n",
      "income\n",
      "bank_number_0041\n",
      "state_name_PB\n",
      "model_LM-X410.F\n",
      "Magalu\n",
      "bank_number_0070\n",
      "board_A2016B30\n",
      "model_SM-J610G\n",
      "occupation_Aposentados e Pensionistas\n",
      "Samsung Health\n",
      "model_ASUS_Z012DC\n",
      "board_UNIVERSAL8890\n",
      "state_name_RN\n",
      "state_name_AL\n",
      "cnt_phone\n",
      "model_Moto G (5)\n",
      "email1_live\n",
      "screen_(2029, 1080)\n",
      "model_LG-M320\n",
      "Recarga Certa\n",
      "board_UNIVERSAL7880\n",
      "age\n",
      "state_name_PR\n",
      "board_YSL\n",
      "state_name_DF\n",
      "Messenger\n",
      "model_ASUS_X00LD\n",
      "email1_agenpol\n",
      "screen_(1184, 720)\n",
      "Deezer\n",
      "model_F3116\n",
      "board_UNKNOWN\n",
      "screen_(1351, 720)\n",
      "state_name_RO\n",
      "cnt_names\n",
      "model_LG-X230\n",
      "model_SM-G532MT\n",
      "screen_(2062, 1080)\n",
      "model_SM-J200BT\n",
      "model_SM-J701MT\n",
      "Banco Original\n",
      "board_MSM8937\n",
      "model_Moto G4\n",
      "occupation_Assalariados\n",
      "Pinterest\n",
      "model_motorola one\n",
      "model_SM-M305M\n",
      "cnt_unique_phone\n",
      "model_SM-A505GT\n",
      "screen_(2095, 1080)\n",
      "AppsBrasil\n",
      "screen_(888, 540)\n",
      "state_name_PE\n",
      "Caixa\n",
      "model_SM-J600GT\n",
      "screen_(2053, 1080)\n",
      "model_LG-M250\n",
      "rate_high_freq_app\n",
      "education_degree_8\n",
      "screen_(2043, 1080)\n",
      "board_SDM845\n",
      "manufacture_XIAOMI\n",
      "Móvel\n",
      "model_SM-J510MN\n",
      "screen_(782, 480)\n",
      "model_ASUS_X018D\n",
      "model_moto g(6)\n",
      "model_SM-G610M\n",
      "model_SM-J530G\n",
      "Samsung Notes\n",
      "state_name_AC\n",
      "iFood\n",
      "Google Cloud Print\n",
      "Samsung Members\n",
      "screen_(2150, 1080)\n",
      "board_MSM8996\n",
      "Americanas\n",
      "Trabalhador\n",
      "maritial_status_O\n",
      "board_MSM8953\n",
      "phone_charging_status\n",
      "model_SM-J410G\n",
      "Noverde\n",
      "model_MotoG3\n",
      "Apresentações\n",
      "screen_(871, 720)\n",
      "model_SM-J810M\n",
      "manufacture_UMIDIGI\n",
      "cnt_app\n",
      "board_BLU_R2\n",
      "model_G3226\n",
      "Minha Oi\n",
      "screen_(1198, 720)\n",
      "screen_(800, 480)\n",
      "screen_(1280, 720)\n",
      "Smart​Things\n",
      "Samsung Internet\n",
      "screen_(1358, 720)\n",
      "model_Moto Z3 Play\n",
      "email1_yahoo\n",
      "model_Lenovo K10a40\n",
      "model_MI 6\n",
      "email1_gmail\n",
      "Wish\n",
      "model_SM-A105M\n",
      "board_UNIVERSAL7570\n",
      "APPS CLUBE\n",
      "screen_(1423, 720)\n",
      "FGTS\n",
      "model_moto e5 play\n",
      "model_moto g(6) plus\n",
      "gender_F\n",
      "screen_(1200, 720)\n",
      "Serasa\n",
      "education_degree_7\n",
      "model_Moto E (4)\n",
      "model_ASUS_X017DA\n",
      "model_moto g(6) play\n",
      "manufacture_HTC\n",
      "rate_close_relative\n",
      "Itaucard\n",
      "model_SM-J415G\n",
      "Nubank\n",
      "model_ASUS_Z017DC\n",
      "Banco Inter\n",
      "low_freq_app\n",
      "screen_(2792, 1440)\n",
      "bank_number_0748\n",
      "screen_(2055, 1080)\n",
      "Smart Switch\n",
      "Facebook\n",
      "active_companies\n",
      "screen_(2130, 1080)\n",
      "screen_(2016, 1080)\n",
      "model_MI PLAY\n",
      "model_Moto G (4)\n",
      "maritial_status_C\n",
      "screen_(2134, 1080)\n",
      "screen_(1362, 720)\n",
      "bank_number_0077\n",
      "model_SM-G973F\n",
      "manufacture_MOTOROLA\n",
      "net_type\n",
      "maritial_status_P\n",
      "irs_status_FALHA\n",
      "rate_low_freq_app\n",
      "Uber\n",
      "board_UNIVERSAL3475\n",
      "Smart Tutor\n",
      "model_moto g(7) power\n",
      "total_memory_size\n",
      "board_SC7730SE\n",
      "Santander\n",
      "screen_(2004, 1080)\n",
      "Globoplay\n",
      "model_LG-K350\n",
      "board_MSM8976\n",
      "model_Nokia 6.1 Plus\n",
      "education_degree_6\n",
      "screen_(1370, 720)\n",
      "model_SM-A305GT\n",
      "model_Redmi 6\n",
      "maritial_status_J\n",
      "4shared\n",
      "OLX\n",
      "bank_number_0341\n",
      "model_SM-G9600\n",
      "Sodexo\n",
      "screen_(1816, 1080)\n",
      "PicPay\n",
      "serasa_score\n",
      "model_motorola one vision\n",
      "Uber Eats\n",
      "board_ASUS_X00ID\n",
      "state_name_PA\n",
      "Gravador de voz\n",
      "cnt_len_is10\n",
      "rate_len_is12\n",
      "screen_(1776, 1080)\n",
      "model_Redmi Note 6 Pro\n",
      "cnt_len_isless6\n",
      "screen_(1199, 720)\n",
      "state_name_GO\n",
      "board_MSM8917\n",
      "success\n"
     ]
    }
   ],
   "source": [
    "feature_list = x_col\n",
    "for col in feature_list:\n",
    "#     print(col)\n",
    "    try:\n",
    "        pt.univariate_chart(df = train_df, col = col , target ='label' , n = 10,\n",
    "                             special_attribute = [-1, np.nan],\n",
    "                             dftrain=train_df, dftest=test_df,\n",
    "                             draw_all=False, draw_train_test=True,result_path = result_path)\n",
    "    except FileNotFoundError or ValueError as e:\n",
    "        print(e)\n",
    "print('success')"
   ]
  },
  {
   "cell_type": "markdown",
   "metadata": {},
   "source": [
    "# 计算XGB importance"
   ]
  },
  {
   "cell_type": "code",
   "execution_count": 43,
   "metadata": {},
   "outputs": [
    {
     "data": {
      "text/plain": [
       "XGBClassifier(base_score=0.5, booster='gbtree', colsample_bylevel=1,\n",
       "              colsample_bynode=1, colsample_bytree=1, gamma=0,\n",
       "              learning_rate=0.1, max_delta_step=0, max_depth=3,\n",
       "              min_child_weight=1, missing=None, n_estimators=100, n_jobs=1,\n",
       "              nthread=None, objective='binary:logistic', random_state=0,\n",
       "              reg_alpha=0, reg_lambda=1, scale_pos_weight=1, seed=None,\n",
       "              silent=None, subsample=1, verbosity=1)"
      ]
     },
     "execution_count": 43,
     "metadata": {},
     "output_type": "execute_result"
    },
    {
     "name": "stdout",
     "output_type": "stream",
     "text": [
      "Accuracy: 62.50%\n"
     ]
    },
    {
     "data": {
      "text/html": [
       "<div>\n",
       "<style scoped>\n",
       "    .dataframe tbody tr th:only-of-type {\n",
       "        vertical-align: middle;\n",
       "    }\n",
       "\n",
       "    .dataframe tbody tr th {\n",
       "        vertical-align: top;\n",
       "    }\n",
       "\n",
       "    .dataframe thead th {\n",
       "        text-align: right;\n",
       "    }\n",
       "</style>\n",
       "<table border=\"1\" class=\"dataframe\">\n",
       "  <thead>\n",
       "    <tr style=\"text-align: right;\">\n",
       "      <th></th>\n",
       "      <th>指标英文</th>\n",
       "      <th>importance</th>\n",
       "      <th>importance_rank</th>\n",
       "    </tr>\n",
       "  </thead>\n",
       "  <tbody>\n",
       "    <tr>\n",
       "      <th>0</th>\n",
       "      <td>screen_(1280, 720)</td>\n",
       "      <td>0.013377</td>\n",
       "      <td>31.0</td>\n",
       "    </tr>\n",
       "    <tr>\n",
       "      <th>1</th>\n",
       "      <td>screen_(1193, 720)</td>\n",
       "      <td>0.000000</td>\n",
       "      <td>50.0</td>\n",
       "    </tr>\n",
       "    <tr>\n",
       "      <th>2</th>\n",
       "      <td>model_motorola one</td>\n",
       "      <td>0.000000</td>\n",
       "      <td>50.0</td>\n",
       "    </tr>\n",
       "    <tr>\n",
       "      <th>3</th>\n",
       "      <td>model_SM-J415G</td>\n",
       "      <td>0.000000</td>\n",
       "      <td>50.0</td>\n",
       "    </tr>\n",
       "    <tr>\n",
       "      <th>4</th>\n",
       "      <td>email1_terra</td>\n",
       "      <td>0.000000</td>\n",
       "      <td>50.0</td>\n",
       "    </tr>\n",
       "  </tbody>\n",
       "</table>\n",
       "</div>"
      ],
      "text/plain": [
       "                 指标英文  importance  importance_rank\n",
       "0  screen_(1280, 720)    0.013377             31.0\n",
       "1  screen_(1193, 720)    0.000000             50.0\n",
       "2  model_motorola one    0.000000             50.0\n",
       "3      model_SM-J415G    0.000000             50.0\n",
       "4        email1_terra    0.000000             50.0"
      ]
     },
     "execution_count": 43,
     "metadata": {},
     "output_type": "execute_result"
    }
   ],
   "source": [
    "## fit model\n",
    "model = XGBClassifier()\n",
    "model.fit(X_train, y_train);\n",
    "## prediction\n",
    "y_pred = model.predict(X_test)\n",
    "predictions = [round(value) for value in y_pred]\n",
    "## evaluation\n",
    "accuracy = accuracy_score(y_test, predictions)\n",
    "print(\"Accuracy: %.2f%%\" % (accuracy * 100.0))\n",
    "\n",
    "features_in_model = list(X_train.columns)\n",
    "feature_importance = model.feature_importances_\n",
    "var_importance = pd.DataFrame(columns=[\"指标英文\", 'importance'])\n",
    "var_importance['指标英文'] = features_in_model\n",
    "var_importance['importance'] = feature_importance\n",
    "var_importance.loc[:, 'importance_rank'] = var_importance.importance.rank(ascending=False)\n",
    "var_importance.head()"
   ]
  },
  {
   "cell_type": "markdown",
   "metadata": {},
   "source": [
    "# overall_ranking"
   ]
  },
  {
   "cell_type": "code",
   "execution_count": 44,
   "metadata": {},
   "outputs": [
    {
     "name": "stderr",
     "output_type": "stream",
     "text": [
      "/Users/yantingting/anaconda3/envs/modeling/lib/python3.7/site-packages/pandas/core/series.py:856: RuntimeWarning: divide by zero encountered in log\n",
      "  result = getattr(ufunc, method)(*inputs, **kwargs)\n",
      "/Users/yantingting/anaconda3/envs/modeling/lib/python3.7/site-packages/pandas/core/indexing.py:1418: FutureWarning: \n",
      "Passing list-likes to .loc or [] with any missing label will raise\n",
      "KeyError in the future, you can use .reindex() as an alternative.\n",
      "\n",
      "See the documentation here:\n",
      "https://pandas.pydata.org/pandas-docs/stable/user_guide/indexing.html#deprecate-loc-reindex-listlike\n",
      "  return self._getitem_tuple(key)\n"
     ]
    },
    {
     "name": "stdout",
     "output_type": "stream",
     "text": [
      "success\n"
     ]
    }
   ],
   "source": [
    "os.environ['KMP_DUPLICATE_LIB_OK'] = 'True'\n",
    "args_dict = {\n",
    "    'random_forest': {\n",
    "        'grid_search': False,\n",
    "        'param': None\n",
    "    },\n",
    "    'xgboost': {\n",
    "        'grid_search': False,\n",
    "        'param': None\n",
    "    }\n",
    "}\n",
    "methods = [\n",
    "    'random_forest',\n",
    "    #'lasso',\n",
    "    #'xgboost'\n",
    "]\n",
    "\n",
    "## Train 分箱\n",
    "X_cat_train, X_transformed_train, woe_iv_df, rebin_spec, ranking_result = fs_obj.overall_ranking(X_train, y_train,\n",
    "                                                                                           var_dict, args_dict,\n",
    "                                                                                           methods, num_max_bins=10)\n",
    "\n",
    "rebin_spec = mu.convert_rebin_spec2XGB_rebin_spec(rebin_spec)\n",
    "rebin_spec_bin_adjusted = {k: v for k, v in rebin_spec.items()}\n",
    "\n",
    "woe_iv_df.to_excel(os.path.join(result_path,'woe_iv_df.xlsx'))\n",
    "ranking_result.to_excel(os.path.join(result_path,'ranking_result.xlsx'))\n",
    "save_data_to_pickle(rebin_spec,result_path,'rebin_spec.pkl')\n",
    "save_data_to_pickle(rebin_spec_bin_adjusted,result_path,'rebin_spec_bin_adjusted.pkl')\n",
    "#save_data_to_pickle(X_cat_train,result_path,'X_cat_train.pkl')\n",
    "bin_obj = mt.BinWoe()\n",
    "X_cat_train = bin_obj.convert_to_category(X_train, var_dict, rebin_spec_bin_adjusted)\n",
    "X_cat_test = bin_obj.convert_to_category(X_test, var_dict, rebin_spec_bin_adjusted)\n",
    "print('success')"
   ]
  },
  {
   "cell_type": "markdown",
   "metadata": {},
   "source": [
    "# 指标汇总"
   ]
  },
  {
   "cell_type": "code",
   "execution_count": 45,
   "metadata": {},
   "outputs": [
    {
     "data": {
      "text/plain": [
       "'按月/按sample_set检查变量的稳定性和有效性'"
      ]
     },
     "execution_count": 45,
     "metadata": {},
     "output_type": "execute_result"
    },
    {
     "name": "stderr",
     "output_type": "stream",
     "text": [
      "/Users/yantingting/anaconda3/envs/modeling/lib/python3.7/site-packages/ipykernel_launcher.py:3: SettingWithCopyWarning: \n",
      "A value is trying to be set on a copy of a slice from a DataFrame.\n",
      "Try using .loc[row_indexer,col_indexer] = value instead\n",
      "\n",
      "See the caveats in the documentation: http://pandas.pydata.org/pandas-docs/stable/user_guide/indexing.html#returning-a-view-versus-a-copy\n",
      "  This is separate from the ipykernel package so we can avoid doing imports until\n",
      "/Users/yantingting/anaconda3/envs/modeling/lib/python3.7/site-packages/ipykernel_launcher.py:4: SettingWithCopyWarning: \n",
      "A value is trying to be set on a copy of a slice from a DataFrame.\n",
      "Try using .loc[row_indexer,col_indexer] = value instead\n",
      "\n",
      "See the caveats in the documentation: http://pandas.pydata.org/pandas-docs/stable/user_guide/indexing.html#returning-a-view-versus-a-copy\n",
      "  after removing the cwd from sys.path.\n"
     ]
    },
    {
     "data": {
      "text/plain": [
       "(445, 70)"
      ]
     },
     "execution_count": 45,
     "metadata": {},
     "output_type": "execute_result"
    },
    {
     "name": "stderr",
     "output_type": "stream",
     "text": [
      "/Users/yantingting/anaconda3/envs/modeling/lib/python3.7/site-packages/pandas/core/indexing.py:1418: FutureWarning: \n",
      "Passing list-likes to .loc or [] with any missing label will raise\n",
      "KeyError in the future, you can use .reindex() as an alternative.\n",
      "\n",
      "See the documentation here:\n",
      "https://pandas.pydata.org/pandas-docs/stable/user_guide/indexing.html#deprecate-loc-reindex-listlike\n",
      "  return self._getitem_tuple(key)\n"
     ]
    },
    {
     "data": {
      "text/plain": [
       "(68, 12)"
      ]
     },
     "execution_count": 45,
     "metadata": {},
     "output_type": "execute_result"
    },
    {
     "name": "stdout",
     "output_type": "stream",
     "text": [
      "success\n"
     ]
    }
   ],
   "source": [
    "\"\"\"按月/按sample_set检查变量的稳定性和有效性\"\"\"\n",
    "## train\n",
    "train_df['appmon'] = '0_train'\n",
    "test_df['appmon'] = '1_test'\n",
    "\n",
    "all_cat = pd.concat([X_cat_train,X_cat_test])\n",
    "app_data = pd.concat([train_df[['label','appmon']],test_df[['label','appmon']]])\n",
    "X_cat_with_y_appmon_all = pd.merge(all_cat,app_data[['label','appmon']] ,left_index=True,right_index=True)\n",
    "X_cat_with_y_appmon_all.shape\n",
    "\n",
    "var_dist_badRate_by_time_all = ss.get_badRate_and_dist_by_time(X_cat_with_y_appmon_all,list([i for i in all_cat.columns if i != 'loan_id']),'appmon','label')\n",
    "var_dist_badRate_by_time_all.to_excel(os.path.join(result_path, 'var_dist_badRate_by_sample.xlsx'))\n",
    "\n",
    "# PSI\n",
    "var_psi = pf.variable_psi(X_cat_train, X_cat_test, var_dict)\n",
    "var_psi.loc[:, 'psi_rank'] = var_psi.PSI.rank(ascending=False)\n",
    "var_psi.to_excel(os.path.join(result_path, 'var_PSI.xlsx'))\n",
    "\n",
    "# 汇总各项指标\n",
    "# var_psi.drop(['数据源','指标中文'],axis = 1,inplace=True)\n",
    "ranking_result_all = ranking_result.merge(var_importance, on='指标英文', how='left').merge(var_psi, on='指标英文', how='left')\n",
    "ranking_result_all.to_excel(os.path.join(result_path,'ranking_result_all.xlsx'))\n",
    "var_psi1 = var_psi[['指标英文','PSI']].drop_duplicates()\n",
    "ranking_result_f = ranking_result.merge(var_importance, on='指标英文', how='left').merge(var_psi1, on='指标英文', how='left')\n",
    "ranking_result_f.shape\n",
    "print('success')"
   ]
  },
  {
   "cell_type": "markdown",
   "metadata": {},
   "source": [
    "# 变量筛选"
   ]
  },
  {
   "cell_type": "code",
   "execution_count": 55,
   "metadata": {},
   "outputs": [
    {
     "name": "stdout",
     "output_type": "stream",
     "text": [
      "变量总个数68\n",
      "IV筛掉的个数0\n",
      "xgb重要性筛掉的个数0\n",
      "相关性特征筛掉的个数39 ['model_SM-J415G', 'model_moto g(7)', 'AliExpress', 'Lojas Renner', 'AppsBrasil', 'screen_(888, 540)', 'model_ASUS_X00LD', 'Americanas', 'model_Moto G Play', 'board_UNIVERSAL7570_GO', 'model_Lenovo K10a40', 'model_LG-M250', 'screen_(2136, 1080)', 'model_LM-X410.F', 'Trabalhador', 'Grana Fácil', 'model_SM-J400M', 'cnt_close_relative', 'Deezer', 'screen_(1423, 720)', 'Adobe Acrobat', 'Uber Eats', 'model_Moto G (5S) Plus', 'Twitter', 'model_Moto G (5)', 'Planilhas', 'PagSeguro', 'Apresentações', 'board_MSM8998', 'model_LG-M320', 'model_SM-J701MT', 'Recarga Certa', 'Banco Original', 'Meu INSS', 'Snapchat', 'Mercado Pago', 'Credicard', 'manufacture_LENOVO', 'Pinterest']\n",
      "univariate斜率特征筛掉的个数1 ['Adobe Acrobat']\n",
      "总共筛掉的个数39\n",
      "剩余变量个数29 ['screen_(1193, 720)', 'screen_(1280, 720)', 'model_motorola one', 'email1_terra', 'board_UNIVERSAL7870', 'board_MSM8916', 'education_degree_6', 'maritial_status_V', 'bank_number_0033', 'Word', 'state_name_PB', 'email1_gmail', 'model_SM-J610G', 'education_degree_2', 'email1_outlook', 'board_UNKNOWN', 'state_name_PI', 'state_name_RN', 'state_name_PA', 'bank_number_0104', 'bank_number_0001', 'model_moto g(7) play', 'bank_number_0756', 'board_SDM660', 'screen_(1776, 1080)', 'state_name_MA', 'education_degree_4', 'manufacture_ASUS', 'education_degree_3']\n"
     ]
    },
    {
     "data": {
      "text/plain": [
       "29"
      ]
     },
     "execution_count": 55,
     "metadata": {},
     "output_type": "execute_result"
    },
    {
     "data": {
      "text/plain": [
       "(333, 29)"
      ]
     },
     "execution_count": 55,
     "metadata": {},
     "output_type": "execute_result"
    },
    {
     "data": {
      "text/plain": [
       "(112, 29)"
      ]
     },
     "execution_count": 55,
     "metadata": {},
     "output_type": "execute_result"
    },
    {
     "name": "stdout",
     "output_type": "stream",
     "text": [
      "screen_(1193, 720)\n"
     ]
    },
    {
     "name": "stderr",
     "output_type": "stream",
     "text": [
      "/Users/yantingting/anaconda3/envs/modeling/lib/python3.7/site-packages/pandas/core/indexing.py:494: SettingWithCopyWarning: \n",
      "A value is trying to be set on a copy of a slice from a DataFrame.\n",
      "Try using .loc[row_indexer,col_indexer] = value instead\n",
      "\n",
      "See the caveats in the documentation: http://pandas.pydata.org/pandas-docs/stable/user_guide/indexing.html#returning-a-view-versus-a-copy\n",
      "  self.obj[item] = s\n"
     ]
    },
    {
     "name": "stdout",
     "output_type": "stream",
     "text": [
      "screen_(1280, 720)\n",
      "model_motorola one\n",
      "email1_terra\n",
      "board_UNIVERSAL7870\n",
      "board_MSM8916\n",
      "education_degree_6\n",
      "maritial_status_V\n",
      "bank_number_0033\n",
      "Word\n",
      "state_name_PB\n",
      "email1_gmail\n",
      "model_SM-J610G\n",
      "education_degree_2\n",
      "email1_outlook\n",
      "board_UNKNOWN\n",
      "state_name_PI\n",
      "state_name_RN\n",
      "state_name_PA\n",
      "bank_number_0104\n",
      "bank_number_0001\n",
      "model_moto g(7) play\n",
      "bank_number_0756\n",
      "board_SDM660\n",
      "screen_(1776, 1080)\n",
      "state_name_MA\n",
      "education_degree_4\n",
      "manufacture_ASUS\n",
      "education_degree_3\n",
      "success\n"
     ]
    }
   ],
   "source": [
    "train = train_df.drop(useless_col,axis = 1).drop('appmon',axis = 1)\n",
    "test = test_df.drop(useless_col,axis = 1).drop('appmon',axis = 1)\n",
    "\n",
    "f_rmv = feature_remove(train,test, ranking_result_f, result_path, psi = -1, iv = 0, imp = 0, corr = 0.75, slope = 'TRUE')\n",
    "\n",
    "try:\n",
    "    train = train.drop(['slope'], axis=1)\n",
    "    test = test.drop(['slope'], axis=1)\n",
    "except:\n",
    "    pass\n",
    "\n",
    "feature_used = list(set(selected_var) - set(f_rmv))\n",
    "# feature_used\n",
    "len(feature_used)\n",
    "\n",
    "X_train = train_df[feature_used]\n",
    "X_test = test_df[feature_used]\n",
    "X_train.shape\n",
    "X_test.shape\n",
    "\n",
    "feature_list = feature_used\n",
    "for col in feature_list:\n",
    "    print(col)\n",
    "    try:\n",
    "        pt.univariate_chart(df = train_df, col = col , target ='label' , n = 10,\n",
    "                             special_attribute = [-1, np.nan],\n",
    "                             dftrain=train_df, dftest=test_df,\n",
    "                             draw_all=False, draw_train_test=True,result_path = os.path.join(result_path,'var_used'))\n",
    "    except FileNotFoundError or ValueError as e:\n",
    "        print(e)\n",
    "\n",
    "print('success')"
   ]
  },
  {
   "cell_type": "markdown",
   "metadata": {},
   "source": [
    "# 调参数"
   ]
  },
  {
   "cell_type": "code",
   "execution_count": null,
   "metadata": {},
   "outputs": [],
   "source": []
  },
  {
   "cell_type": "code",
   "execution_count": 67,
   "metadata": {},
   "outputs": [
    {
     "data": {
      "text/plain": [
       "'调参1:XGB GridSearch'"
      ]
     },
     "execution_count": 67,
     "metadata": {},
     "output_type": "execute_result"
    },
    {
     "name": "stderr",
     "output_type": "stream",
     "text": [
      "/Users/yantingting/anaconda3/envs/modeling/lib/python3.7/site-packages/sklearn/model_selection/_search.py:814: DeprecationWarning: The default of the `iid` parameter will change from True to False in version 0.22 and will be removed in 0.24. This will change numeric results when test-set sizes are unequal.\n",
      "  DeprecationWarning)\n"
     ]
    },
    {
     "data": {
      "text/plain": [
       "XGBClassifier(base_score=0.5, booster='gbtree', colsample_bylevel=1,\n",
       "              colsample_bynode=1, colsample_bytree=0.7,\n",
       "              early_stopping_rounds=10, eta=0.1, gamma=0.1, learning_rate=0.1,\n",
       "              max_delta_step=0, max_depth=3, min_child_weight=20, missing=None,\n",
       "              n_estimators=100, n_jobs=1, nthread=4,\n",
       "              objective='binary:logistic', random_state=1, reg_alpha=0,\n",
       "              reg_lambda=1, scale_pos_weight=1, seed=None, silent=0,\n",
       "              subsample=0.6, verbosity=1)"
      ]
     },
     "execution_count": 67,
     "metadata": {},
     "output_type": "execute_result"
    },
    {
     "data": {
      "text/plain": [
       "'调参2：XGB hyperopt '"
      ]
     },
     "execution_count": 67,
     "metadata": {},
     "output_type": "execute_result"
    },
    {
     "name": "stdout",
     "output_type": "stream",
     "text": [
      "imported xgb: <module 'xgboost' from '/Users/yantingting/anaconda3/envs/modeling/lib/python3.7/site-packages/xgboost/__init__.py'>\n",
      "imported tpe: <module 'hyperopt.tpe' from '/Users/yantingting/anaconda3/envs/modeling/lib/python3.7/site-packages/hyperopt/tpe.py'>\n",
      "[0]\ttrain-auc:0.580162+0.00497329\ttest-auc:0.487038+0.0373167\n",
      "\n",
      "cv_auc                                              \n",
      "0.49963533333333326                                 \n",
      "param                                               \n",
      "{'booster': 'gbtree', 'colsample_bytree': 0.7166246870197879, 'early_stopping_rounds': 3, 'eta': 0.13897497312042348, 'eval_metric': 'auc', 'gamma': 0.3450715520795905, 'max_depth': 4, 'min_child_weight': 3.0, 'nfold': 3, 'nthread': -1, 'num_boost_round': 1000, 'objective': 'reg:logistic', 'seed': 1123, 'silent': 1, 'subsample': 0.6858235282021709}\n",
      "[0]\ttrain-auc:0.580929+0.00628937\ttest-auc:0.532046+0.0126976\n",
      "\n",
      "cv_auc                                                                         \n",
      "0.5320463333333333                                                             \n",
      "param                                                                          \n",
      "{'booster': 'gbtree', 'colsample_bytree': 0.7745304710658327, 'early_stopping_rounds': 3, 'eta': 0.18903230960227507, 'eval_metric': 'auc', 'gamma': 0.17345958397243796, 'max_depth': 2, 'min_child_weight': 3.0, 'nfold': 3, 'nthread': -1, 'num_boost_round': 1000, 'objective': 'reg:logistic', 'seed': 1123, 'silent': 1, 'subsample': 0.9818661373921829}\n",
      "[0]\ttrain-auc:0.520777+0.0165324\ttest-auc:0.503307+0.0195805                   \n",
      "\n",
      "cv_auc                                                                        \n",
      "0.5172753333333334                                                            \n",
      "param                                                                         \n",
      "{'booster': 'gbtree', 'colsample_bytree': 0.8121503551524434, 'early_stopping_rounds': 3, 'eta': 0.09709006122413885, 'eval_metric': 'auc', 'gamma': 0.34190945215432866, 'max_depth': 4, 'min_child_weight': 7.0, 'nfold': 3, 'nthread': -1, 'num_boost_round': 1000, 'objective': 'reg:logistic', 'seed': 1123, 'silent': 1, 'subsample': 0.8260331544756849}\n",
      "[0]\ttrain-auc:0.583411+0.0124051\ttest-auc:0.437508+0.0295773                  \n",
      "\n",
      "[10]\ttrain-auc:0.656162+0.0044474\ttest-auc:0.494025+0.0186892                 \n",
      "\n",
      "cv_auc                                                                        \n",
      "0.5014753333333334                                                            \n",
      "param                                                                         \n",
      "{'booster': 'gbtree', 'colsample_bytree': 0.6345345759625368, 'early_stopping_rounds': 3, 'eta': 0.1314164354663837, 'eval_metric': 'auc', 'gamma': 0.38789309805771127, 'max_depth': 5, 'min_child_weight': 3.0, 'nfold': 3, 'nthread': -1, 'num_boost_round': 1000, 'objective': 'reg:logistic', 'seed': 1123, 'silent': 1, 'subsample': 0.977741884556856}\n",
      " 20%|██        | 4/20 [00:00<00:00, 31.23it/s, best loss: -0.5320463333333333]"
     ]
    },
    {
     "name": "stderr",
     "output_type": "stream",
     "text": [
      "/Users/yantingting/anaconda3/envs/modeling/lib/python3.7/site-packages/xgboost/core.py:587: FutureWarning: Series.base is deprecated and will be removed in a future version\n",
      "  if getattr(data, 'base', None) is not None and \\\n"
     ]
    },
    {
     "name": "stdout",
     "output_type": "stream",
     "text": [
      "[0]\ttrain-auc:0.582569+0.00711334\ttest-auc:0.585582+0.0362485                 \n",
      "\n",
      "cv_auc                                                                        \n",
      "0.5855823333333333                                                            \n",
      "param                                                                         \n",
      "{'booster': 'gbtree', 'colsample_bytree': 0.758022130022498, 'early_stopping_rounds': 3, 'eta': 0.06479572495408692, 'eval_metric': 'auc', 'gamma': 0.28533120455290084, 'max_depth': 3, 'min_child_weight': 7.0, 'nfold': 3, 'nthread': -1, 'num_boost_round': 1000, 'objective': 'reg:logistic', 'seed': 1123, 'silent': 1, 'subsample': 0.9521775382292588}\n",
      "[0]\ttrain-auc:0.575532+0.0075997\ttest-auc:0.500418+0.0348098                  \n",
      "\n",
      "cv_auc                                                                        \n",
      "0.5282873333333333                                                            \n",
      "param                                                                         \n",
      "{'booster': 'gbtree', 'colsample_bytree': 0.7925167333258353, 'early_stopping_rounds': 3, 'eta': 0.1665868156258885, 'eval_metric': 'auc', 'gamma': 0.29048179258489976, 'max_depth': 5, 'min_child_weight': 3.0, 'nfold': 3, 'nthread': -1, 'num_boost_round': 1000, 'objective': 'reg:logistic', 'seed': 1123, 'silent': 1, 'subsample': 0.677025268043899}\n",
      "[0]\ttrain-auc:0.578837+0.00447953\ttest-auc:0.528188+0.0125535                 \n",
      "\n",
      "cv_auc                                                                        \n",
      "0.5281883333333334                                                            \n",
      "param                                                                         \n",
      "{'booster': 'gbtree', 'colsample_bytree': 0.7603794065932904, 'early_stopping_rounds': 3, 'eta': 0.17827361858283075, 'eval_metric': 'auc', 'gamma': 0.3011034765472221, 'max_depth': 2, 'min_child_weight': 4.0, 'nfold': 3, 'nthread': -1, 'num_boost_round': 1000, 'objective': 'reg:logistic', 'seed': 1123, 'silent': 1, 'subsample': 0.7569660838200957}\n",
      "[0]\ttrain-auc:0.514629+0.00513692\ttest-auc:0.480405+0.021773                  \n",
      "\n",
      "cv_auc                                                                        \n",
      "0.48040466666666665                                                           \n",
      "param                                                                         \n",
      "{'booster': 'gbtree', 'colsample_bytree': 0.6269850935582207, 'early_stopping_rounds': 3, 'eta': 0.1292491682245224, 'eval_metric': 'auc', 'gamma': 0.38067045613255257, 'max_depth': 3, 'min_child_weight': 6.0, 'nfold': 3, 'nthread': -1, 'num_boost_round': 1000, 'objective': 'reg:logistic', 'seed': 1123, 'silent': 1, 'subsample': 0.7025063239227957}\n",
      "[0]\ttrain-auc:0.573796+0.00959551\ttest-auc:0.545219+0.0168791                 \n",
      "\n",
      "cv_auc                                                                        \n",
      "0.5537423333333332                                                            \n",
      "param                                                                         \n",
      "{'booster': 'gbtree', 'colsample_bytree': 0.9043031292338822, 'early_stopping_rounds': 3, 'eta': 0.1336068601173953, 'eval_metric': 'auc', 'gamma': 0.2723971022081106, 'max_depth': 2, 'min_child_weight': 5.0, 'nfold': 3, 'nthread': -1, 'num_boost_round': 1000, 'objective': 'reg:logistic', 'seed': 1123, 'silent': 1, 'subsample': 0.8546669809670812}\n",
      "[0]\ttrain-auc:0.561725+0.0227572\ttest-auc:0.491995+0.0662098                  \n",
      "\n",
      "cv_auc                                                                        \n",
      "0.5113306666666667                                                            \n",
      "param                                                                         \n",
      "{'booster': 'gbtree', 'colsample_bytree': 0.8407470583651613, 'early_stopping_rounds': 3, 'eta': 0.07914759738731103, 'eval_metric': 'auc', 'gamma': 0.19009401876949794, 'max_depth': 2, 'min_child_weight': 3.0, 'nfold': 3, 'nthread': -1, 'num_boost_round': 1000, 'objective': 'reg:logistic', 'seed': 1123, 'silent': 1, 'subsample': 0.6760854905396672}\n",
      "[0]\ttrain-auc:0.596134+0.00611659\ttest-auc:0.533358+0.0134089                 \n",
      "\n",
      "cv_auc                                                                         \n",
      "0.5396540000000001                                                             \n",
      "param                                                                          \n",
      "{'booster': 'gbtree', 'colsample_bytree': 0.9130514336318333, 'early_stopping_rounds': 3, 'eta': 0.15876681845703822, 'eval_metric': 'auc', 'gamma': 0.12060696497620774, 'max_depth': 3, 'min_child_weight': 4.0, 'nfold': 3, 'nthread': -1, 'num_boost_round': 1000, 'objective': 'reg:logistic', 'seed': 1123, 'silent': 1, 'subsample': 0.9730352634728505}\n",
      "[0]\ttrain-auc:0.567369+0.0126878\ttest-auc:0.523361+0.0255786                   \n",
      "\n",
      "cv_auc                                                                         \n",
      "0.5233613333333333                                                             \n",
      "param                                                                          \n",
      "{'booster': 'gbtree', 'colsample_bytree': 0.9010859310325388, 'early_stopping_rounds': 3, 'eta': 0.13683778949046987, 'eval_metric': 'auc', 'gamma': 0.2575279107378963, 'max_depth': 2, 'min_child_weight': 2.0, 'nfold': 3, 'nthread': -1, 'num_boost_round': 1000, 'objective': 'reg:logistic', 'seed': 1123, 'silent': 1, 'subsample': 0.9260110839642496}\n",
      "[0]\ttrain-auc:0.603261+0.00314361\ttest-auc:0.52632+0.0249696                   \n",
      "\n",
      "cv_auc                                                                         \n",
      "0.52632                                                                        \n",
      "param                                                                          \n",
      "{'booster': 'gbtree', 'colsample_bytree': 0.7669120440794973, 'early_stopping_rounds': 3, 'eta': 0.05332989517750783, 'eval_metric': 'auc', 'gamma': 0.06704536798440967, 'max_depth': 4, 'min_child_weight': 2.0, 'nfold': 3, 'nthread': -1, 'num_boost_round': 1000, 'objective': 'reg:logistic', 'seed': 1123, 'silent': 1, 'subsample': 0.7210535591608456}\n",
      "[0]\ttrain-auc:0.577951+0.00563263\ttest-auc:0.513886+0.0367812                  \n",
      "\n",
      "cv_auc                                                                         \n",
      "0.5138863333333333                                                             \n",
      "param                                                                          \n",
      "{'booster': 'gbtree', 'colsample_bytree': 0.7884985496266477, 'early_stopping_rounds': 3, 'eta': 0.13235950430247895, 'eval_metric': 'auc', 'gamma': 0.06577653912768402, 'max_depth': 3, 'min_child_weight': 2.0, 'nfold': 3, 'nthread': -1, 'num_boost_round': 1000, 'objective': 'reg:logistic', 'seed': 1123, 'silent': 1, 'subsample': 0.6280163984816499}\n",
      "[0]\ttrain-auc:0.587129+0.00873558\ttest-auc:0.5051+0.0414432                    \n",
      "\n",
      "cv_auc                                                                         \n",
      "0.506641                                                                       \n",
      "param                                                                          \n",
      "{'booster': 'gbtree', 'colsample_bytree': 0.8057157496137316, 'early_stopping_rounds': 3, 'eta': 0.16695680745140634, 'eval_metric': 'auc', 'gamma': 0.1918761786844581, 'max_depth': 4, 'min_child_weight': 3.0, 'nfold': 3, 'nthread': -1, 'num_boost_round': 1000, 'objective': 'reg:logistic', 'seed': 1123, 'silent': 1, 'subsample': 0.696651613472488}\n",
      "[0]\ttrain-auc:0.524642+0.0276944\ttest-auc:0.503765+0.0427653                   \n",
      "\n",
      "cv_auc                                                                         \n",
      "0.5315393333333334                                                             \n",
      "param                                                                          \n",
      "{'booster': 'gbtree', 'colsample_bytree': 0.8616779907714804, 'early_stopping_rounds': 3, 'eta': 0.07294515998687574, 'eval_metric': 'auc', 'gamma': 0.08247517825559095, 'max_depth': 2, 'min_child_weight': 5.0, 'nfold': 3, 'nthread': -1, 'num_boost_round': 1000, 'objective': 'reg:logistic', 'seed': 1123, 'silent': 1, 'subsample': 0.6119766542170709}\n",
      "[0]\ttrain-auc:0.514629+0.00513692\ttest-auc:0.480405+0.021773                   \n",
      "\n",
      "cv_auc                                                                         \n",
      "0.48040466666666665                                                            \n",
      "param                                                                          \n",
      "{'booster': 'gbtree', 'colsample_bytree': 0.6795046707231979, 'early_stopping_rounds': 3, 'eta': 0.1312743580791213, 'eval_metric': 'auc', 'gamma': 0.18043125796387713, 'max_depth': 4, 'min_child_weight': 6.0, 'nfold': 3, 'nthread': -1, 'num_boost_round': 1000, 'objective': 'reg:logistic', 'seed': 1123, 'silent': 1, 'subsample': 0.6714916464136983}\n",
      "[0]\ttrain-auc:0.575025+0.00260375\ttest-auc:0.543748+0.02524                    \n",
      "\n",
      "cv_auc                                                                         \n",
      "0.543748                                                                       \n",
      "param                                                                          \n",
      "{'booster': 'gbtree', 'colsample_bytree': 0.7912920844192668, 'early_stopping_rounds': 3, 'eta': 0.07078999394968112, 'eval_metric': 'auc', 'gamma': 0.036256889342412134, 'max_depth': 4, 'min_child_weight': 6.0, 'nfold': 3, 'nthread': -1, 'num_boost_round': 1000, 'objective': 'reg:logistic', 'seed': 1123, 'silent': 1, 'subsample': 0.9031667897121354}\n",
      "[0]\ttrain-auc:0.56359+0.00444408\ttest-auc:0.468711+0.0112032                   \n",
      "\n",
      "cv_auc                                                                         \n",
      "0.5136980000000001                                                             \n",
      "param                                                                          \n",
      "{'booster': 'gbtree', 'colsample_bytree': 0.6306345048511081, 'early_stopping_rounds': 3, 'eta': 0.14763732352555245, 'eval_metric': 'auc', 'gamma': 0.26858591120219183, 'max_depth': 2, 'min_child_weight': 4.0, 'nfold': 3, 'nthread': -1, 'num_boost_round': 1000, 'objective': 'reg:logistic', 'seed': 1123, 'silent': 1, 'subsample': 0.9331398415048514}\n",
      "[0]\ttrain-auc:0.514658+0.00664189\ttest-auc:0.473515+0.0432898                  \n",
      "\n",
      "cv_auc                                                                         \n",
      "0.49701033333333333                                                            \n",
      "param                                                                          \n",
      "{'booster': 'gbtree', 'colsample_bytree': 0.6241888458571653, 'early_stopping_rounds': 3, 'eta': 0.08151571271660821, 'eval_metric': 'auc', 'gamma': 0.24199423937002887, 'max_depth': 2, 'min_child_weight': 4.0, 'nfold': 3, 'nthread': -1, 'num_boost_round': 1000, 'objective': 'reg:logistic', 'seed': 1123, 'silent': 1, 'subsample': 0.6254417768314616}\n",
      "100%|██████████| 20/20 [00:00<00:00, 39.73it/s, best loss: -0.5855823333333333]\n",
      "best: {'colsample_bytree': 0.758022130022498, 'eta': 0.06479572495408692, 'gamma': 0.28533120455290084, 'max_depth': 1, 'min_child_weight': 7.0, 'subsample': 0.9521775382292588}\n",
      "[0]\ttrain-rmse:0.498318+0.000279401\ttest-rmse:0.498917+0.00067335\n",
      "[10]\ttrain-rmse:0.489396+0.00187685\ttest-rmse:0.494334+0.00264948\n"
     ]
    },
    {
     "data": {
      "text/plain": [
       "<xgboost.core.Booster at 0x1c2aeca3d0>"
      ]
     },
     "execution_count": 67,
     "metadata": {},
     "output_type": "execute_result"
    },
    {
     "data": {
      "text/html": [
       "<div>\n",
       "<style scoped>\n",
       "    .dataframe tbody tr th:only-of-type {\n",
       "        vertical-align: middle;\n",
       "    }\n",
       "\n",
       "    .dataframe tbody tr th {\n",
       "        vertical-align: top;\n",
       "    }\n",
       "\n",
       "    .dataframe thead th {\n",
       "        text-align: right;\n",
       "    }\n",
       "</style>\n",
       "<table border=\"1\" class=\"dataframe\">\n",
       "  <thead>\n",
       "    <tr style=\"text-align: right;\">\n",
       "      <th></th>\n",
       "      <th>param</th>\n",
       "      <th>value</th>\n",
       "    </tr>\n",
       "  </thead>\n",
       "  <tbody>\n",
       "    <tr>\n",
       "      <th>0</th>\n",
       "      <td>colsample_bytree</td>\n",
       "      <td>0.758022</td>\n",
       "    </tr>\n",
       "    <tr>\n",
       "      <th>1</th>\n",
       "      <td>eta</td>\n",
       "      <td>0.064796</td>\n",
       "    </tr>\n",
       "    <tr>\n",
       "      <th>2</th>\n",
       "      <td>gamma</td>\n",
       "      <td>0.285331</td>\n",
       "    </tr>\n",
       "    <tr>\n",
       "      <th>3</th>\n",
       "      <td>max_depth</td>\n",
       "      <td>1.000000</td>\n",
       "    </tr>\n",
       "    <tr>\n",
       "      <th>4</th>\n",
       "      <td>min_child_weight</td>\n",
       "      <td>7.000000</td>\n",
       "    </tr>\n",
       "  </tbody>\n",
       "</table>\n",
       "</div>"
      ],
      "text/plain": [
       "              param     value\n",
       "0  colsample_bytree  0.758022\n",
       "1               eta  0.064796\n",
       "2             gamma  0.285331\n",
       "3         max_depth  1.000000\n",
       "4  min_child_weight  7.000000"
      ]
     },
     "execution_count": 67,
     "metadata": {},
     "output_type": "execute_result"
    },
    {
     "data": {
      "text/html": [
       "<div>\n",
       "<style scoped>\n",
       "    .dataframe tbody tr th:only-of-type {\n",
       "        vertical-align: middle;\n",
       "    }\n",
       "\n",
       "    .dataframe tbody tr th {\n",
       "        vertical-align: top;\n",
       "    }\n",
       "\n",
       "    .dataframe thead th {\n",
       "        text-align: right;\n",
       "    }\n",
       "</style>\n",
       "<table border=\"1\" class=\"dataframe\">\n",
       "  <thead>\n",
       "    <tr style=\"text-align: right;\">\n",
       "      <th></th>\n",
       "      <th>varName</th>\n",
       "      <th>importance</th>\n",
       "    </tr>\n",
       "  </thead>\n",
       "  <tbody>\n",
       "    <tr>\n",
       "      <th>0</th>\n",
       "      <td>screen_(1193, 720)</td>\n",
       "      <td>0</td>\n",
       "    </tr>\n",
       "    <tr>\n",
       "      <th>1</th>\n",
       "      <td>screen_(1280, 720)</td>\n",
       "      <td>0</td>\n",
       "    </tr>\n",
       "    <tr>\n",
       "      <th>2</th>\n",
       "      <td>model_motorola one</td>\n",
       "      <td>0</td>\n",
       "    </tr>\n",
       "    <tr>\n",
       "      <th>3</th>\n",
       "      <td>email1_terra</td>\n",
       "      <td>0</td>\n",
       "    </tr>\n",
       "    <tr>\n",
       "      <th>4</th>\n",
       "      <td>board_UNIVERSAL7870</td>\n",
       "      <td>7</td>\n",
       "    </tr>\n",
       "  </tbody>\n",
       "</table>\n",
       "</div>"
      ],
      "text/plain": [
       "               varName  importance\n",
       "0   screen_(1193, 720)           0\n",
       "1   screen_(1280, 720)           0\n",
       "2   model_motorola one           0\n",
       "3         email1_terra           0\n",
       "4  board_UNIVERSAL7870           7"
      ]
     },
     "execution_count": 67,
     "metadata": {},
     "output_type": "execute_result"
    },
    {
     "data": {
      "text/plain": [
       "0.48800066"
      ]
     },
     "execution_count": 67,
     "metadata": {},
     "output_type": "execute_result"
    },
    {
     "data": {
      "text/plain": [
       "' 调参3:XGB Grid Search(local) '"
      ]
     },
     "execution_count": 67,
     "metadata": {},
     "output_type": "execute_result"
    },
    {
     "name": "stderr",
     "output_type": "stream",
     "text": [
      "ERROR:concurrent.futures:exception calling callback for <Future at 0x1c2166f5d0 state=finished raised TerminatedWorkerError>\n",
      "Traceback (most recent call last):\n",
      "  File \"/Users/yantingting/anaconda3/envs/modeling/lib/python3.7/site-packages/joblib/externals/loky/_base.py\", line 625, in _invoke_callbacks\n",
      "    callback(self)\n",
      "  File \"/Users/yantingting/anaconda3/envs/modeling/lib/python3.7/site-packages/joblib/parallel.py\", line 340, in __call__\n",
      "    self.parallel.dispatch_next()\n",
      "  File \"/Users/yantingting/anaconda3/envs/modeling/lib/python3.7/site-packages/joblib/parallel.py\", line 768, in dispatch_next\n",
      "    if not self.dispatch_one_batch(self._original_iterator):\n",
      "  File \"/Users/yantingting/anaconda3/envs/modeling/lib/python3.7/site-packages/joblib/parallel.py\", line 834, in dispatch_one_batch\n",
      "    self._dispatch(tasks)\n",
      "  File \"/Users/yantingting/anaconda3/envs/modeling/lib/python3.7/site-packages/joblib/parallel.py\", line 753, in _dispatch\n",
      "    job = self._backend.apply_async(batch, callback=cb)\n",
      "  File \"/Users/yantingting/anaconda3/envs/modeling/lib/python3.7/site-packages/joblib/_parallel_backends.py\", line 543, in apply_async\n",
      "    future = self._workers.submit(SafeFunction(func))\n",
      "  File \"/Users/yantingting/anaconda3/envs/modeling/lib/python3.7/site-packages/joblib/externals/loky/reusable_executor.py\", line 160, in submit\n",
      "    fn, *args, **kwargs)\n",
      "  File \"/Users/yantingting/anaconda3/envs/modeling/lib/python3.7/site-packages/joblib/externals/loky/process_executor.py\", line 1027, in submit\n",
      "    raise self._flags.broken\n",
      "joblib.externals.loky.process_executor.TerminatedWorkerError: A worker process managed by the executor was unexpectedly terminated. This could be caused by a segmentation fault while calling the function or by an excessive memory usage causing the Operating System to kill the worker. The exit codes of the workers are {SIGABRT(-6), SIGABRT(-6), SIGABRT(-6), SIGABRT(-6)}\n"
     ]
    },
    {
     "ename": "TerminatedWorkerError",
     "evalue": "A worker process managed by the executor was unexpectedly terminated. This could be caused by a segmentation fault while calling the function or by an excessive memory usage causing the Operating System to kill the worker. The exit codes of the workers are {SIGABRT(-6), SIGABRT(-6), SIGABRT(-6), SIGABRT(-6)}",
     "output_type": "error",
     "traceback": [
      "\u001b[0;31m---------------------------------------------------------------------------\u001b[0m",
      "\u001b[0;31mTerminatedWorkerError\u001b[0m                     Traceback (most recent call last)",
      "\u001b[0;32m<ipython-input-67-832b1a936c54>\u001b[0m in \u001b[0;36m<module>\u001b[0;34m\u001b[0m\n\u001b[1;32m     73\u001b[0m                         param_grid = param_test1, scoring='roc_auc',n_jobs=4,iid=False,cv=5)\n\u001b[1;32m     74\u001b[0m                         \u001b[0;31m#param_grid = param_test1, scoring='roc_auc',n_jobs=4,iid=False,cv=5)\u001b[0m\u001b[0;34m\u001b[0m\u001b[0;34m\u001b[0m\u001b[0;34m\u001b[0m\u001b[0m\n\u001b[0;32m---> 75\u001b[0;31m \u001b[0mgsearch1\u001b[0m\u001b[0;34m.\u001b[0m\u001b[0mfit\u001b[0m\u001b[0;34m(\u001b[0m\u001b[0mX_train\u001b[0m\u001b[0;34m,\u001b[0m\u001b[0my_train\u001b[0m\u001b[0;34m)\u001b[0m\u001b[0;34m\u001b[0m\u001b[0;34m\u001b[0m\u001b[0m\n\u001b[0m\u001b[1;32m     76\u001b[0m \u001b[0mbest_max_depth\u001b[0m \u001b[0;34m=\u001b[0m \u001b[0mgsearch1\u001b[0m\u001b[0;34m.\u001b[0m\u001b[0mbest_params_\u001b[0m\u001b[0;34m[\u001b[0m\u001b[0;34m'max_depth'\u001b[0m\u001b[0;34m]\u001b[0m\u001b[0;34m\u001b[0m\u001b[0;34m\u001b[0m\u001b[0m\n\u001b[1;32m     77\u001b[0m \u001b[0mbest_max_depth\u001b[0m\u001b[0;34m\u001b[0m\u001b[0;34m\u001b[0m\u001b[0m\n",
      "\u001b[0;32m~/anaconda3/envs/modeling/lib/python3.7/site-packages/sklearn/model_selection/_search.py\u001b[0m in \u001b[0;36mfit\u001b[0;34m(self, X, y, groups, **fit_params)\u001b[0m\n\u001b[1;32m    686\u001b[0m                 \u001b[0;32mreturn\u001b[0m \u001b[0mresults\u001b[0m\u001b[0;34m\u001b[0m\u001b[0;34m\u001b[0m\u001b[0m\n\u001b[1;32m    687\u001b[0m \u001b[0;34m\u001b[0m\u001b[0m\n\u001b[0;32m--> 688\u001b[0;31m             \u001b[0mself\u001b[0m\u001b[0;34m.\u001b[0m\u001b[0m_run_search\u001b[0m\u001b[0;34m(\u001b[0m\u001b[0mevaluate_candidates\u001b[0m\u001b[0;34m)\u001b[0m\u001b[0;34m\u001b[0m\u001b[0;34m\u001b[0m\u001b[0m\n\u001b[0m\u001b[1;32m    689\u001b[0m \u001b[0;34m\u001b[0m\u001b[0m\n\u001b[1;32m    690\u001b[0m         \u001b[0;31m# For multi-metric evaluation, store the best_index_, best_params_ and\u001b[0m\u001b[0;34m\u001b[0m\u001b[0;34m\u001b[0m\u001b[0;34m\u001b[0m\u001b[0m\n",
      "\u001b[0;32m~/anaconda3/envs/modeling/lib/python3.7/site-packages/sklearn/model_selection/_search.py\u001b[0m in \u001b[0;36m_run_search\u001b[0;34m(self, evaluate_candidates)\u001b[0m\n\u001b[1;32m   1147\u001b[0m     \u001b[0;32mdef\u001b[0m \u001b[0m_run_search\u001b[0m\u001b[0;34m(\u001b[0m\u001b[0mself\u001b[0m\u001b[0;34m,\u001b[0m \u001b[0mevaluate_candidates\u001b[0m\u001b[0;34m)\u001b[0m\u001b[0;34m:\u001b[0m\u001b[0;34m\u001b[0m\u001b[0;34m\u001b[0m\u001b[0m\n\u001b[1;32m   1148\u001b[0m         \u001b[0;34m\"\"\"Search all candidates in param_grid\"\"\"\u001b[0m\u001b[0;34m\u001b[0m\u001b[0;34m\u001b[0m\u001b[0m\n\u001b[0;32m-> 1149\u001b[0;31m         \u001b[0mevaluate_candidates\u001b[0m\u001b[0;34m(\u001b[0m\u001b[0mParameterGrid\u001b[0m\u001b[0;34m(\u001b[0m\u001b[0mself\u001b[0m\u001b[0;34m.\u001b[0m\u001b[0mparam_grid\u001b[0m\u001b[0;34m)\u001b[0m\u001b[0;34m)\u001b[0m\u001b[0;34m\u001b[0m\u001b[0;34m\u001b[0m\u001b[0m\n\u001b[0m\u001b[1;32m   1150\u001b[0m \u001b[0;34m\u001b[0m\u001b[0m\n\u001b[1;32m   1151\u001b[0m \u001b[0;34m\u001b[0m\u001b[0m\n",
      "\u001b[0;32m~/anaconda3/envs/modeling/lib/python3.7/site-packages/sklearn/model_selection/_search.py\u001b[0m in \u001b[0;36mevaluate_candidates\u001b[0;34m(candidate_params)\u001b[0m\n\u001b[1;32m    665\u001b[0m                                \u001b[0;32mfor\u001b[0m \u001b[0mparameters\u001b[0m\u001b[0;34m,\u001b[0m \u001b[0;34m(\u001b[0m\u001b[0mtrain\u001b[0m\u001b[0;34m,\u001b[0m \u001b[0mtest\u001b[0m\u001b[0;34m)\u001b[0m\u001b[0;34m\u001b[0m\u001b[0;34m\u001b[0m\u001b[0m\n\u001b[1;32m    666\u001b[0m                                in product(candidate_params,\n\u001b[0;32m--> 667\u001b[0;31m                                           cv.split(X, y, groups)))\n\u001b[0m\u001b[1;32m    668\u001b[0m \u001b[0;34m\u001b[0m\u001b[0m\n\u001b[1;32m    669\u001b[0m                 \u001b[0;32mif\u001b[0m \u001b[0mlen\u001b[0m\u001b[0;34m(\u001b[0m\u001b[0mout\u001b[0m\u001b[0;34m)\u001b[0m \u001b[0;34m<\u001b[0m \u001b[0;36m1\u001b[0m\u001b[0;34m:\u001b[0m\u001b[0;34m\u001b[0m\u001b[0;34m\u001b[0m\u001b[0m\n",
      "\u001b[0;32m~/anaconda3/envs/modeling/lib/python3.7/site-packages/joblib/parallel.py\u001b[0m in \u001b[0;36m__call__\u001b[0;34m(self, iterable)\u001b[0m\n\u001b[1;32m   1014\u001b[0m \u001b[0;34m\u001b[0m\u001b[0m\n\u001b[1;32m   1015\u001b[0m             \u001b[0;32mwith\u001b[0m \u001b[0mself\u001b[0m\u001b[0;34m.\u001b[0m\u001b[0m_backend\u001b[0m\u001b[0;34m.\u001b[0m\u001b[0mretrieval_context\u001b[0m\u001b[0;34m(\u001b[0m\u001b[0;34m)\u001b[0m\u001b[0;34m:\u001b[0m\u001b[0;34m\u001b[0m\u001b[0;34m\u001b[0m\u001b[0m\n\u001b[0;32m-> 1016\u001b[0;31m                 \u001b[0mself\u001b[0m\u001b[0;34m.\u001b[0m\u001b[0mretrieve\u001b[0m\u001b[0;34m(\u001b[0m\u001b[0;34m)\u001b[0m\u001b[0;34m\u001b[0m\u001b[0;34m\u001b[0m\u001b[0m\n\u001b[0m\u001b[1;32m   1017\u001b[0m             \u001b[0;31m# Make sure that we get a last message telling us we are done\u001b[0m\u001b[0;34m\u001b[0m\u001b[0;34m\u001b[0m\u001b[0;34m\u001b[0m\u001b[0m\n\u001b[1;32m   1018\u001b[0m             \u001b[0melapsed_time\u001b[0m \u001b[0;34m=\u001b[0m \u001b[0mtime\u001b[0m\u001b[0;34m.\u001b[0m\u001b[0mtime\u001b[0m\u001b[0;34m(\u001b[0m\u001b[0;34m)\u001b[0m \u001b[0;34m-\u001b[0m \u001b[0mself\u001b[0m\u001b[0;34m.\u001b[0m\u001b[0m_start_time\u001b[0m\u001b[0;34m\u001b[0m\u001b[0;34m\u001b[0m\u001b[0m\n",
      "\u001b[0;32m~/anaconda3/envs/modeling/lib/python3.7/site-packages/joblib/parallel.py\u001b[0m in \u001b[0;36mretrieve\u001b[0;34m(self)\u001b[0m\n\u001b[1;32m    906\u001b[0m             \u001b[0;32mtry\u001b[0m\u001b[0;34m:\u001b[0m\u001b[0;34m\u001b[0m\u001b[0;34m\u001b[0m\u001b[0m\n\u001b[1;32m    907\u001b[0m                 \u001b[0;32mif\u001b[0m \u001b[0mgetattr\u001b[0m\u001b[0;34m(\u001b[0m\u001b[0mself\u001b[0m\u001b[0;34m.\u001b[0m\u001b[0m_backend\u001b[0m\u001b[0;34m,\u001b[0m \u001b[0;34m'supports_timeout'\u001b[0m\u001b[0;34m,\u001b[0m \u001b[0;32mFalse\u001b[0m\u001b[0;34m)\u001b[0m\u001b[0;34m:\u001b[0m\u001b[0;34m\u001b[0m\u001b[0;34m\u001b[0m\u001b[0m\n\u001b[0;32m--> 908\u001b[0;31m                     \u001b[0mself\u001b[0m\u001b[0;34m.\u001b[0m\u001b[0m_output\u001b[0m\u001b[0;34m.\u001b[0m\u001b[0mextend\u001b[0m\u001b[0;34m(\u001b[0m\u001b[0mjob\u001b[0m\u001b[0;34m.\u001b[0m\u001b[0mget\u001b[0m\u001b[0;34m(\u001b[0m\u001b[0mtimeout\u001b[0m\u001b[0;34m=\u001b[0m\u001b[0mself\u001b[0m\u001b[0;34m.\u001b[0m\u001b[0mtimeout\u001b[0m\u001b[0;34m)\u001b[0m\u001b[0;34m)\u001b[0m\u001b[0;34m\u001b[0m\u001b[0;34m\u001b[0m\u001b[0m\n\u001b[0m\u001b[1;32m    909\u001b[0m                 \u001b[0;32melse\u001b[0m\u001b[0;34m:\u001b[0m\u001b[0;34m\u001b[0m\u001b[0;34m\u001b[0m\u001b[0m\n\u001b[1;32m    910\u001b[0m                     \u001b[0mself\u001b[0m\u001b[0;34m.\u001b[0m\u001b[0m_output\u001b[0m\u001b[0;34m.\u001b[0m\u001b[0mextend\u001b[0m\u001b[0;34m(\u001b[0m\u001b[0mjob\u001b[0m\u001b[0;34m.\u001b[0m\u001b[0mget\u001b[0m\u001b[0;34m(\u001b[0m\u001b[0;34m)\u001b[0m\u001b[0;34m)\u001b[0m\u001b[0;34m\u001b[0m\u001b[0;34m\u001b[0m\u001b[0m\n",
      "\u001b[0;32m~/anaconda3/envs/modeling/lib/python3.7/site-packages/joblib/_parallel_backends.py\u001b[0m in \u001b[0;36mwrap_future_result\u001b[0;34m(future, timeout)\u001b[0m\n\u001b[1;32m    552\u001b[0m         AsyncResults.get from multiprocessing.\"\"\"\n\u001b[1;32m    553\u001b[0m         \u001b[0;32mtry\u001b[0m\u001b[0;34m:\u001b[0m\u001b[0;34m\u001b[0m\u001b[0;34m\u001b[0m\u001b[0m\n\u001b[0;32m--> 554\u001b[0;31m             \u001b[0;32mreturn\u001b[0m \u001b[0mfuture\u001b[0m\u001b[0;34m.\u001b[0m\u001b[0mresult\u001b[0m\u001b[0;34m(\u001b[0m\u001b[0mtimeout\u001b[0m\u001b[0;34m=\u001b[0m\u001b[0mtimeout\u001b[0m\u001b[0;34m)\u001b[0m\u001b[0;34m\u001b[0m\u001b[0;34m\u001b[0m\u001b[0m\n\u001b[0m\u001b[1;32m    555\u001b[0m         \u001b[0;32mexcept\u001b[0m \u001b[0mLokyTimeoutError\u001b[0m\u001b[0;34m:\u001b[0m\u001b[0;34m\u001b[0m\u001b[0;34m\u001b[0m\u001b[0m\n\u001b[1;32m    556\u001b[0m             \u001b[0;32mraise\u001b[0m \u001b[0mTimeoutError\u001b[0m\u001b[0;34m(\u001b[0m\u001b[0;34m)\u001b[0m\u001b[0;34m\u001b[0m\u001b[0;34m\u001b[0m\u001b[0m\n",
      "\u001b[0;32m~/anaconda3/envs/modeling/lib/python3.7/concurrent/futures/_base.py\u001b[0m in \u001b[0;36mresult\u001b[0;34m(self, timeout)\u001b[0m\n\u001b[1;32m    433\u001b[0m                 \u001b[0;32mraise\u001b[0m \u001b[0mCancelledError\u001b[0m\u001b[0;34m(\u001b[0m\u001b[0;34m)\u001b[0m\u001b[0;34m\u001b[0m\u001b[0;34m\u001b[0m\u001b[0m\n\u001b[1;32m    434\u001b[0m             \u001b[0;32melif\u001b[0m \u001b[0mself\u001b[0m\u001b[0;34m.\u001b[0m\u001b[0m_state\u001b[0m \u001b[0;34m==\u001b[0m \u001b[0mFINISHED\u001b[0m\u001b[0;34m:\u001b[0m\u001b[0;34m\u001b[0m\u001b[0;34m\u001b[0m\u001b[0m\n\u001b[0;32m--> 435\u001b[0;31m                 \u001b[0;32mreturn\u001b[0m \u001b[0mself\u001b[0m\u001b[0;34m.\u001b[0m\u001b[0m__get_result\u001b[0m\u001b[0;34m(\u001b[0m\u001b[0;34m)\u001b[0m\u001b[0;34m\u001b[0m\u001b[0;34m\u001b[0m\u001b[0m\n\u001b[0m\u001b[1;32m    436\u001b[0m             \u001b[0;32melse\u001b[0m\u001b[0;34m:\u001b[0m\u001b[0;34m\u001b[0m\u001b[0;34m\u001b[0m\u001b[0m\n\u001b[1;32m    437\u001b[0m                 \u001b[0;32mraise\u001b[0m \u001b[0mTimeoutError\u001b[0m\u001b[0;34m(\u001b[0m\u001b[0;34m)\u001b[0m\u001b[0;34m\u001b[0m\u001b[0;34m\u001b[0m\u001b[0m\n",
      "\u001b[0;32m~/anaconda3/envs/modeling/lib/python3.7/concurrent/futures/_base.py\u001b[0m in \u001b[0;36m__get_result\u001b[0;34m(self)\u001b[0m\n\u001b[1;32m    382\u001b[0m     \u001b[0;32mdef\u001b[0m \u001b[0m__get_result\u001b[0m\u001b[0;34m(\u001b[0m\u001b[0mself\u001b[0m\u001b[0;34m)\u001b[0m\u001b[0;34m:\u001b[0m\u001b[0;34m\u001b[0m\u001b[0;34m\u001b[0m\u001b[0m\n\u001b[1;32m    383\u001b[0m         \u001b[0;32mif\u001b[0m \u001b[0mself\u001b[0m\u001b[0;34m.\u001b[0m\u001b[0m_exception\u001b[0m\u001b[0;34m:\u001b[0m\u001b[0;34m\u001b[0m\u001b[0;34m\u001b[0m\u001b[0m\n\u001b[0;32m--> 384\u001b[0;31m             \u001b[0;32mraise\u001b[0m \u001b[0mself\u001b[0m\u001b[0;34m.\u001b[0m\u001b[0m_exception\u001b[0m\u001b[0;34m\u001b[0m\u001b[0;34m\u001b[0m\u001b[0m\n\u001b[0m\u001b[1;32m    385\u001b[0m         \u001b[0;32melse\u001b[0m\u001b[0;34m:\u001b[0m\u001b[0;34m\u001b[0m\u001b[0;34m\u001b[0m\u001b[0m\n\u001b[1;32m    386\u001b[0m             \u001b[0;32mreturn\u001b[0m \u001b[0mself\u001b[0m\u001b[0;34m.\u001b[0m\u001b[0m_result\u001b[0m\u001b[0;34m\u001b[0m\u001b[0;34m\u001b[0m\u001b[0m\n",
      "\u001b[0;32m~/anaconda3/envs/modeling/lib/python3.7/site-packages/joblib/externals/loky/_base.py\u001b[0m in \u001b[0;36m_invoke_callbacks\u001b[0;34m(self)\u001b[0m\n\u001b[1;32m    623\u001b[0m         \u001b[0;32mfor\u001b[0m \u001b[0mcallback\u001b[0m \u001b[0;32min\u001b[0m \u001b[0mself\u001b[0m\u001b[0;34m.\u001b[0m\u001b[0m_done_callbacks\u001b[0m\u001b[0;34m:\u001b[0m\u001b[0;34m\u001b[0m\u001b[0;34m\u001b[0m\u001b[0m\n\u001b[1;32m    624\u001b[0m             \u001b[0;32mtry\u001b[0m\u001b[0;34m:\u001b[0m\u001b[0;34m\u001b[0m\u001b[0;34m\u001b[0m\u001b[0m\n\u001b[0;32m--> 625\u001b[0;31m                 \u001b[0mcallback\u001b[0m\u001b[0;34m(\u001b[0m\u001b[0mself\u001b[0m\u001b[0;34m)\u001b[0m\u001b[0;34m\u001b[0m\u001b[0;34m\u001b[0m\u001b[0m\n\u001b[0m\u001b[1;32m    626\u001b[0m             \u001b[0;32mexcept\u001b[0m \u001b[0mBaseException\u001b[0m\u001b[0;34m:\u001b[0m\u001b[0;34m\u001b[0m\u001b[0;34m\u001b[0m\u001b[0m\n\u001b[1;32m    627\u001b[0m                 \u001b[0mLOGGER\u001b[0m\u001b[0;34m.\u001b[0m\u001b[0mexception\u001b[0m\u001b[0;34m(\u001b[0m\u001b[0;34m'exception calling callback for %r'\u001b[0m\u001b[0;34m,\u001b[0m \u001b[0mself\u001b[0m\u001b[0;34m)\u001b[0m\u001b[0;34m\u001b[0m\u001b[0;34m\u001b[0m\u001b[0m\n",
      "\u001b[0;32m~/anaconda3/envs/modeling/lib/python3.7/site-packages/joblib/parallel.py\u001b[0m in \u001b[0;36m__call__\u001b[0;34m(self, out)\u001b[0m\n\u001b[1;32m    338\u001b[0m         \u001b[0;32mwith\u001b[0m \u001b[0mself\u001b[0m\u001b[0;34m.\u001b[0m\u001b[0mparallel\u001b[0m\u001b[0;34m.\u001b[0m\u001b[0m_lock\u001b[0m\u001b[0;34m:\u001b[0m\u001b[0;34m\u001b[0m\u001b[0;34m\u001b[0m\u001b[0m\n\u001b[1;32m    339\u001b[0m             \u001b[0;32mif\u001b[0m \u001b[0mself\u001b[0m\u001b[0;34m.\u001b[0m\u001b[0mparallel\u001b[0m\u001b[0;34m.\u001b[0m\u001b[0m_original_iterator\u001b[0m \u001b[0;32mis\u001b[0m \u001b[0;32mnot\u001b[0m \u001b[0;32mNone\u001b[0m\u001b[0;34m:\u001b[0m\u001b[0;34m\u001b[0m\u001b[0;34m\u001b[0m\u001b[0m\n\u001b[0;32m--> 340\u001b[0;31m                 \u001b[0mself\u001b[0m\u001b[0;34m.\u001b[0m\u001b[0mparallel\u001b[0m\u001b[0;34m.\u001b[0m\u001b[0mdispatch_next\u001b[0m\u001b[0;34m(\u001b[0m\u001b[0;34m)\u001b[0m\u001b[0;34m\u001b[0m\u001b[0;34m\u001b[0m\u001b[0m\n\u001b[0m\u001b[1;32m    341\u001b[0m \u001b[0;34m\u001b[0m\u001b[0m\n\u001b[1;32m    342\u001b[0m \u001b[0;34m\u001b[0m\u001b[0m\n",
      "\u001b[0;32m~/anaconda3/envs/modeling/lib/python3.7/site-packages/joblib/parallel.py\u001b[0m in \u001b[0;36mdispatch_next\u001b[0;34m(self)\u001b[0m\n\u001b[1;32m    766\u001b[0m \u001b[0;34m\u001b[0m\u001b[0m\n\u001b[1;32m    767\u001b[0m         \"\"\"\n\u001b[0;32m--> 768\u001b[0;31m         \u001b[0;32mif\u001b[0m \u001b[0;32mnot\u001b[0m \u001b[0mself\u001b[0m\u001b[0;34m.\u001b[0m\u001b[0mdispatch_one_batch\u001b[0m\u001b[0;34m(\u001b[0m\u001b[0mself\u001b[0m\u001b[0;34m.\u001b[0m\u001b[0m_original_iterator\u001b[0m\u001b[0;34m)\u001b[0m\u001b[0;34m:\u001b[0m\u001b[0;34m\u001b[0m\u001b[0;34m\u001b[0m\u001b[0m\n\u001b[0m\u001b[1;32m    769\u001b[0m             \u001b[0mself\u001b[0m\u001b[0;34m.\u001b[0m\u001b[0m_iterating\u001b[0m \u001b[0;34m=\u001b[0m \u001b[0;32mFalse\u001b[0m\u001b[0;34m\u001b[0m\u001b[0;34m\u001b[0m\u001b[0m\n\u001b[1;32m    770\u001b[0m             \u001b[0mself\u001b[0m\u001b[0;34m.\u001b[0m\u001b[0m_original_iterator\u001b[0m \u001b[0;34m=\u001b[0m \u001b[0;32mNone\u001b[0m\u001b[0;34m\u001b[0m\u001b[0;34m\u001b[0m\u001b[0m\n",
      "\u001b[0;32m~/anaconda3/envs/modeling/lib/python3.7/site-packages/joblib/parallel.py\u001b[0m in \u001b[0;36mdispatch_one_batch\u001b[0;34m(self, iterator)\u001b[0m\n\u001b[1;32m    832\u001b[0m                 \u001b[0;32mreturn\u001b[0m \u001b[0;32mFalse\u001b[0m\u001b[0;34m\u001b[0m\u001b[0;34m\u001b[0m\u001b[0m\n\u001b[1;32m    833\u001b[0m             \u001b[0;32melse\u001b[0m\u001b[0;34m:\u001b[0m\u001b[0;34m\u001b[0m\u001b[0;34m\u001b[0m\u001b[0m\n\u001b[0;32m--> 834\u001b[0;31m                 \u001b[0mself\u001b[0m\u001b[0;34m.\u001b[0m\u001b[0m_dispatch\u001b[0m\u001b[0;34m(\u001b[0m\u001b[0mtasks\u001b[0m\u001b[0;34m)\u001b[0m\u001b[0;34m\u001b[0m\u001b[0;34m\u001b[0m\u001b[0m\n\u001b[0m\u001b[1;32m    835\u001b[0m                 \u001b[0;32mreturn\u001b[0m \u001b[0;32mTrue\u001b[0m\u001b[0;34m\u001b[0m\u001b[0;34m\u001b[0m\u001b[0m\n\u001b[1;32m    836\u001b[0m \u001b[0;34m\u001b[0m\u001b[0m\n",
      "\u001b[0;32m~/anaconda3/envs/modeling/lib/python3.7/site-packages/joblib/parallel.py\u001b[0m in \u001b[0;36m_dispatch\u001b[0;34m(self, batch)\u001b[0m\n\u001b[1;32m    751\u001b[0m         \u001b[0;32mwith\u001b[0m \u001b[0mself\u001b[0m\u001b[0;34m.\u001b[0m\u001b[0m_lock\u001b[0m\u001b[0;34m:\u001b[0m\u001b[0;34m\u001b[0m\u001b[0;34m\u001b[0m\u001b[0m\n\u001b[1;32m    752\u001b[0m             \u001b[0mjob_idx\u001b[0m \u001b[0;34m=\u001b[0m \u001b[0mlen\u001b[0m\u001b[0;34m(\u001b[0m\u001b[0mself\u001b[0m\u001b[0;34m.\u001b[0m\u001b[0m_jobs\u001b[0m\u001b[0;34m)\u001b[0m\u001b[0;34m\u001b[0m\u001b[0;34m\u001b[0m\u001b[0m\n\u001b[0;32m--> 753\u001b[0;31m             \u001b[0mjob\u001b[0m \u001b[0;34m=\u001b[0m \u001b[0mself\u001b[0m\u001b[0;34m.\u001b[0m\u001b[0m_backend\u001b[0m\u001b[0;34m.\u001b[0m\u001b[0mapply_async\u001b[0m\u001b[0;34m(\u001b[0m\u001b[0mbatch\u001b[0m\u001b[0;34m,\u001b[0m \u001b[0mcallback\u001b[0m\u001b[0;34m=\u001b[0m\u001b[0mcb\u001b[0m\u001b[0;34m)\u001b[0m\u001b[0;34m\u001b[0m\u001b[0;34m\u001b[0m\u001b[0m\n\u001b[0m\u001b[1;32m    754\u001b[0m             \u001b[0;31m# A job can complete so quickly than its callback is\u001b[0m\u001b[0;34m\u001b[0m\u001b[0;34m\u001b[0m\u001b[0;34m\u001b[0m\u001b[0m\n\u001b[1;32m    755\u001b[0m             \u001b[0;31m# called before we get here, causing self._jobs to\u001b[0m\u001b[0;34m\u001b[0m\u001b[0;34m\u001b[0m\u001b[0;34m\u001b[0m\u001b[0m\n",
      "\u001b[0;32m~/anaconda3/envs/modeling/lib/python3.7/site-packages/joblib/_parallel_backends.py\u001b[0m in \u001b[0;36mapply_async\u001b[0;34m(self, func, callback)\u001b[0m\n\u001b[1;32m    541\u001b[0m     \u001b[0;32mdef\u001b[0m \u001b[0mapply_async\u001b[0m\u001b[0;34m(\u001b[0m\u001b[0mself\u001b[0m\u001b[0;34m,\u001b[0m \u001b[0mfunc\u001b[0m\u001b[0;34m,\u001b[0m \u001b[0mcallback\u001b[0m\u001b[0;34m=\u001b[0m\u001b[0;32mNone\u001b[0m\u001b[0;34m)\u001b[0m\u001b[0;34m:\u001b[0m\u001b[0;34m\u001b[0m\u001b[0;34m\u001b[0m\u001b[0m\n\u001b[1;32m    542\u001b[0m         \u001b[0;34m\"\"\"Schedule a func to be run\"\"\"\u001b[0m\u001b[0;34m\u001b[0m\u001b[0;34m\u001b[0m\u001b[0m\n\u001b[0;32m--> 543\u001b[0;31m         \u001b[0mfuture\u001b[0m \u001b[0;34m=\u001b[0m \u001b[0mself\u001b[0m\u001b[0;34m.\u001b[0m\u001b[0m_workers\u001b[0m\u001b[0;34m.\u001b[0m\u001b[0msubmit\u001b[0m\u001b[0;34m(\u001b[0m\u001b[0mSafeFunction\u001b[0m\u001b[0;34m(\u001b[0m\u001b[0mfunc\u001b[0m\u001b[0;34m)\u001b[0m\u001b[0;34m)\u001b[0m\u001b[0;34m\u001b[0m\u001b[0;34m\u001b[0m\u001b[0m\n\u001b[0m\u001b[1;32m    544\u001b[0m         \u001b[0mfuture\u001b[0m\u001b[0;34m.\u001b[0m\u001b[0mget\u001b[0m \u001b[0;34m=\u001b[0m \u001b[0mfunctools\u001b[0m\u001b[0;34m.\u001b[0m\u001b[0mpartial\u001b[0m\u001b[0;34m(\u001b[0m\u001b[0mself\u001b[0m\u001b[0;34m.\u001b[0m\u001b[0mwrap_future_result\u001b[0m\u001b[0;34m,\u001b[0m \u001b[0mfuture\u001b[0m\u001b[0;34m)\u001b[0m\u001b[0;34m\u001b[0m\u001b[0;34m\u001b[0m\u001b[0m\n\u001b[1;32m    545\u001b[0m         \u001b[0;32mif\u001b[0m \u001b[0mcallback\u001b[0m \u001b[0;32mis\u001b[0m \u001b[0;32mnot\u001b[0m \u001b[0;32mNone\u001b[0m\u001b[0;34m:\u001b[0m\u001b[0;34m\u001b[0m\u001b[0;34m\u001b[0m\u001b[0m\n",
      "\u001b[0;32m~/anaconda3/envs/modeling/lib/python3.7/site-packages/joblib/externals/loky/reusable_executor.py\u001b[0m in \u001b[0;36msubmit\u001b[0;34m(self, fn, *args, **kwargs)\u001b[0m\n\u001b[1;32m    158\u001b[0m         \u001b[0;32mwith\u001b[0m \u001b[0mself\u001b[0m\u001b[0;34m.\u001b[0m\u001b[0m_submit_resize_lock\u001b[0m\u001b[0;34m:\u001b[0m\u001b[0;34m\u001b[0m\u001b[0;34m\u001b[0m\u001b[0m\n\u001b[1;32m    159\u001b[0m             return super(_ReusablePoolExecutor, self).submit(\n\u001b[0;32m--> 160\u001b[0;31m                 fn, *args, **kwargs)\n\u001b[0m\u001b[1;32m    161\u001b[0m \u001b[0;34m\u001b[0m\u001b[0m\n\u001b[1;32m    162\u001b[0m     \u001b[0;32mdef\u001b[0m \u001b[0m_resize\u001b[0m\u001b[0;34m(\u001b[0m\u001b[0mself\u001b[0m\u001b[0;34m,\u001b[0m \u001b[0mmax_workers\u001b[0m\u001b[0;34m)\u001b[0m\u001b[0;34m:\u001b[0m\u001b[0;34m\u001b[0m\u001b[0;34m\u001b[0m\u001b[0m\n",
      "\u001b[0;32m~/anaconda3/envs/modeling/lib/python3.7/site-packages/joblib/externals/loky/process_executor.py\u001b[0m in \u001b[0;36msubmit\u001b[0;34m(self, fn, *args, **kwargs)\u001b[0m\n\u001b[1;32m   1025\u001b[0m         \u001b[0;32mwith\u001b[0m \u001b[0mself\u001b[0m\u001b[0;34m.\u001b[0m\u001b[0m_flags\u001b[0m\u001b[0;34m.\u001b[0m\u001b[0mshutdown_lock\u001b[0m\u001b[0;34m:\u001b[0m\u001b[0;34m\u001b[0m\u001b[0;34m\u001b[0m\u001b[0m\n\u001b[1;32m   1026\u001b[0m             \u001b[0;32mif\u001b[0m \u001b[0mself\u001b[0m\u001b[0;34m.\u001b[0m\u001b[0m_flags\u001b[0m\u001b[0;34m.\u001b[0m\u001b[0mbroken\u001b[0m \u001b[0;32mis\u001b[0m \u001b[0;32mnot\u001b[0m \u001b[0;32mNone\u001b[0m\u001b[0;34m:\u001b[0m\u001b[0;34m\u001b[0m\u001b[0;34m\u001b[0m\u001b[0m\n\u001b[0;32m-> 1027\u001b[0;31m                 \u001b[0;32mraise\u001b[0m \u001b[0mself\u001b[0m\u001b[0;34m.\u001b[0m\u001b[0m_flags\u001b[0m\u001b[0;34m.\u001b[0m\u001b[0mbroken\u001b[0m\u001b[0;34m\u001b[0m\u001b[0;34m\u001b[0m\u001b[0m\n\u001b[0m\u001b[1;32m   1028\u001b[0m             \u001b[0;32mif\u001b[0m \u001b[0mself\u001b[0m\u001b[0;34m.\u001b[0m\u001b[0m_flags\u001b[0m\u001b[0;34m.\u001b[0m\u001b[0mshutdown\u001b[0m\u001b[0;34m:\u001b[0m\u001b[0;34m\u001b[0m\u001b[0;34m\u001b[0m\u001b[0m\n\u001b[1;32m   1029\u001b[0m                 raise ShutdownExecutorError(\n",
      "\u001b[0;31mTerminatedWorkerError\u001b[0m: A worker process managed by the executor was unexpectedly terminated. This could be caused by a segmentation fault while calling the function or by an excessive memory usage causing the Operating System to kill the worker. The exit codes of the workers are {SIGABRT(-6), SIGABRT(-6), SIGABRT(-6), SIGABRT(-6)}"
     ]
    }
   ],
   "source": [
    "\"\"\"调参1:XGB GridSearch\"\"\"\n",
    "import xgboost_model as xm\n",
    "from hyperopt import hp\n",
    "from hyperopt import fmin, tpe, hp, STATUS_OK, Trials\n",
    "import xgboost as xgb\n",
    "\n",
    "param = {\n",
    "        'eta': [0.01,0.05,0.1],\n",
    "        'max_depth': [1,2,3,4],\n",
    "        'gamma': [0, 0.1, 0.2],\n",
    "        'min_child_weight':[5,10],\n",
    "        'subsample': [0.6,0.7,0.8],\n",
    "        'colsample_bytree': [0.6,0.7,0.8],\n",
    "        'n_estimators': [50,100,150,200,300]\n",
    "        }\n",
    "\n",
    "model, df_params, model_importance = xm.xgboost_randomgridsearch(X_train, y_train, X_test, y_test, NFOLD=5, param=None)\n",
    "model\n",
    "\n",
    "# prediction\n",
    "y_train_pred = model.predict_proba(X_train)[:,1]\n",
    "y_test_pred = model.predict_proba(X_test)[:,1]\n",
    "\n",
    "\n",
    "\"\"\"调参2：XGB hyperopt \"\"\"\n",
    "\n",
    "params = {\n",
    "    'num_boost_round':1000, # 最大迭代次数\n",
    "    'nfold':3, # CV-K折\n",
    "    'early_stopping_rounds':3,\n",
    "    'silent':1, # 是否打印训练过程中间的一些信息到屏幕\n",
    "    'seed':1123,\n",
    "    'max_depth':hp.choice(\"max_depth\", [2,3,4,5]),\n",
    "    'min_child_weight':hp.quniform(\"min_child_weight\", 1, 7, 1),\n",
    "    'gamma':hp.uniform(\"gamma\", 0, 0.4),\n",
    "    'subsample':hp.uniform(\"subsample\", 0.6, 1),\n",
    "    'colsample_bytree':hp.uniform(\"colsample_bytree\", 0.6, 1),\n",
    "    'eta':hp.uniform(\"eta\", 0.05, 0.2)\n",
    "}\n",
    "\n",
    "model, df_params, model_importance = xm.xgb_hyperopt(X_train, y_train, param = None)\n",
    "model\n",
    "df_params.head()\n",
    "model_importance.head()\n",
    "\n",
    "\n",
    "dtrain = xgb.DMatrix(X_train)\n",
    "y_train_pred = model.predict(dtrain)\n",
    "\n",
    "dtest = xgb.DMatrix(X_test)\n",
    "y_test_pred = model.predict(dtest)\n",
    "y_test_pred.min()\n",
    "\n",
    "\n",
    "\"\"\" 调参3:XGB Grid Search(local) \"\"\"\n",
    "params = {\n",
    "    'num_boost_round':1000, # 最大迭代次数\n",
    "    'nfold':3, # CV-K折\n",
    "    'early_stopping_rounds':3,\n",
    "    'silent':1, # 是否打印训练过程中间的一些信息到屏幕\n",
    "    'seed':1123,\n",
    "    'max_depth':hp.choice(\"max_depth\", [2,3,4,5]),\n",
    "    'min_child_weight':hp.quniform(\"min_child_weight\", 1, 7, 1),\n",
    "    'gamma':hp.uniform(\"gamma\", 0, 0.4),\n",
    "    'subsample':hp.uniform(\"subsample\", 0.6, 1),\n",
    "    'colsample_bytree':hp.uniform(\"colsample_bytree\", 0.6, 1),\n",
    "    'eta':hp.uniform(\"eta\", 0.05, 0.2)\n",
    "}\n",
    "\n",
    "param_test1 = {'max_depth':range(1,7,2)}\n",
    "gsearch1 = GridSearchCV(estimator = XGBClassifier(learning_rate =0.1, n_estimators=100, gamma=0, subsample=0.8,\n",
    "                                                  colsample_bytree=0.8, objective= 'binary:logistic',nthread=4,scale_pos_weight=1,seed=27),\n",
    "                        param_grid = param_test1, scoring='roc_auc',n_jobs=4,iid=False,cv=5)\n",
    "                        #param_grid = param_test1, scoring='roc_auc',n_jobs=4,iid=False,cv=5)\n",
    "gsearch1.fit(X_train,y_train)\n",
    "best_max_depth = gsearch1.best_params_['max_depth']\n",
    "best_max_depth\n",
    "\n",
    "param_test10 = {'min_child_weight':range(1,6,2)}\n",
    "#param_test10 = {'min_child_weight':range(1,3)}\n",
    "gsearch10 = GridSearchCV(estimator = XGBClassifier(learning_rate =0.1, n_estimators=100, gamma=0, subsample=0.8,\n",
    "                                                 max_depth =4, colsample_bytree=0.8, objective= 'binary:logistic',nthread=4,scale_pos_weight=1,seed=27),\n",
    "                        param_grid = param_test10, scoring='roc_auc',n_jobs=4,iid=False,cv=5)\n",
    "gsearch10.fit(X_train,y_train)\n",
    "best_min_child_weight = gsearch10.best_params_['min_child_weight']\n",
    "best_min_child_weight\n",
    "#best_min_child_weight = 5\n",
    "\n",
    "param_test2 = {'gamma':[i/10.0 for i in range(0,5)]}\n",
    "#param_test2 = {'gamma':[0,0.05,0.1]}\n",
    "gsearch2 = GridSearchCV(estimator = XGBClassifier(learning_rate =0.1, n_estimators=100, subsample=0.8, colsample_bytree=0.8, max_depth= best_max_depth,\n",
    "                                                  min_child_weight=best_min_child_weight, objective= 'binary:logistic',nthread=4,scale_pos_weight=1,seed=27),\n",
    "                        param_grid = param_test2,scoring='roc_auc',n_jobs=4,iid=False,cv=5)\n",
    "gsearch2.fit(X_train,y_train)\n",
    "best_gamma = gsearch2.best_params_['gamma']\n",
    "best_gamma\n",
    "\n",
    "param_test3 = {'subsample':[i/10.0 for i in range(5,8)]}\n",
    "gsearch3 = GridSearchCV(estimator = XGBClassifier(learning_rate =0.1, n_estimators=100, max_depth= best_max_depth, gamma=best_gamma,\n",
    "                                                  min_child_weight=best_min_child_weight, objective= 'binary:logistic',nthread=4,scale_pos_weight=1,seed=27),\n",
    "                        param_grid = param_test3,scoring='roc_auc',n_jobs=4,iid=False,cv=5)\n",
    "gsearch3.fit(X_train,y_train)\n",
    "best_subsample = gsearch3.best_params_['subsample']\n",
    "best_subsample\n",
    "\n",
    "param_test30 = {'colsample_bytree':[i/10.0 for i in range(6,10)]}\n",
    "gsearch30 = GridSearchCV(estimator = XGBClassifier(learning_rate =0.1, n_estimators=100, max_depth= best_max_depth, gamma=best_gamma,\n",
    "                                                  min_child_weight=best_min_child_weight, objective= 'binary:logistic',nthread=4,scale_pos_weight=1,seed=27),\n",
    "                        param_grid = param_test30,scoring='roc_auc',n_jobs=4,iid=False,cv=5)\n",
    "gsearch30.fit(X_train,y_train)\n",
    "best_colsample_bytree = gsearch30.best_params_['colsample_bytree']\n",
    "best_colsample_bytree\n",
    "\n",
    "param_test4 = {'reg_alpha':[0.1,1,10,50, 100]}\n",
    "gsearch4 = GridSearchCV(estimator = XGBClassifier(learning_rate =0.1, n_estimators=100, max_depth= best_max_depth, gamma=best_gamma,\n",
    "                                                  colsample_bytree = best_colsample_bytree, subsample = best_subsample,\n",
    "                                                  min_child_weight=best_min_child_weight, objective= 'binary:logistic',nthread=4,scale_pos_weight=1,seed=27),\n",
    "                        param_grid = param_test4,scoring='roc_auc',n_jobs=4,iid=False,cv=5)\n",
    "gsearch4.fit(X_train,y_train)\n",
    "best_reg_alpha = gsearch4.best_params_['reg_alpha']\n",
    "best_reg_alpha\n",
    "\n",
    "param_test5 = {'n_estimators':range(50,500,50)}\n",
    "gsearch5 = GridSearchCV(estimator = XGBClassifier(learning_rate =0.1,  max_depth= best_max_depth, gamma=best_gamma,\n",
    "                                                  colsample_bytree = best_colsample_bytree, subsample = best_subsample,reg_alpha=best_reg_alpha,\n",
    "                                                  min_child_weight=best_min_child_weight, objective= 'binary:logistic',nthread=4,scale_pos_weight=1,seed=27),\n",
    "                        param_grid = param_test5,scoring='roc_auc',n_jobs=4,iid=False,cv=5)\n",
    "gsearch5.fit(X_train,y_train)\n",
    "best_n_estimators = gsearch5.best_params_['n_estimators']       #300\n",
    "best_n_estimators\n",
    "\n",
    "# param_test6 = {'learning_rate':[0.01,0.1,0.2,0.3]}\n",
    "param_test6 = {'learning_rate':[i / 100.0 for i in range(0, 30)]}\n",
    "gsearch6 = GridSearchCV(estimator = XGBClassifier(max_depth= best_max_depth, gamma=best_gamma, n_estimators = best_n_estimators,\n",
    "                                                  colsample_bytree = best_colsample_bytree, subsample = best_subsample,reg_alpha=best_reg_alpha,\n",
    "                                                  min_child_weight=best_min_child_weight, objective= 'binary:logistic',nthread=4,scale_pos_weight=1,seed=27),\n",
    "                        param_grid = param_test6,scoring='roc_auc',n_jobs=1,iid=False,cv=5)\n",
    "gsearch6.fit(X_train,y_train)\n",
    "best_learning_rate = gsearch5.best_params_['learning_rate']\n",
    "best_learning_rate\n",
    "\n",
    "\n",
    "#用获取得到的最优参数再次训练模型\n",
    "best_xgb = XGBClassifier(learning_rate =best_learning_rate, n_estimators=best_n_estimators, max_depth= best_max_depth, gamma=best_gamma,\n",
    "                         colsample_bytree = best_colsample_bytree, subsample = best_subsample, reg_alpha=best_reg_alpha,\n",
    "                         min_child_weight=best_min_child_weight,\n",
    "                         objective= 'binary:logistic',nthread=4,scale_pos_weight=1\n",
    "                         ,eval_metric='auc', seed=27)\n",
    "best_xgb.fit(X_train,y_train)\n",
    "print('success')"
   ]
  },
  {
   "cell_type": "markdown",
   "metadata": {},
   "source": [
    "# 结果"
   ]
  },
  {
   "cell_type": "code",
   "execution_count": 58,
   "metadata": {},
   "outputs": [
    {
     "ename": "NameError",
     "evalue": "name 'best_xgb' is not defined",
     "output_type": "error",
     "traceback": [
      "\u001b[0;31m---------------------------------------------------------------------------\u001b[0m",
      "\u001b[0;31mNameError\u001b[0m                                 Traceback (most recent call last)",
      "\u001b[0;32m<ipython-input-58-c0a1eabda620>\u001b[0m in \u001b[0;36m<module>\u001b[0;34m\u001b[0m\n\u001b[1;32m      6\u001b[0m \u001b[0;34m\u001b[0m\u001b[0m\n\u001b[1;32m      7\u001b[0m \u001b[0;31m## model变量重要性\u001b[0m\u001b[0;34m\u001b[0m\u001b[0;34m\u001b[0m\u001b[0;34m\u001b[0m\u001b[0m\n\u001b[0;32m----> 8\u001b[0;31m \u001b[0mbest_importance\u001b[0m \u001b[0;34m=\u001b[0m \u001b[0mbest_xgb\u001b[0m\u001b[0;34m.\u001b[0m\u001b[0mfeature_importances_\u001b[0m\u001b[0;34m\u001b[0m\u001b[0;34m\u001b[0m\u001b[0m\n\u001b[0m\u001b[1;32m      9\u001b[0m \u001b[0mmodel_importance\u001b[0m \u001b[0;34m=\u001b[0m \u001b[0mpd\u001b[0m\u001b[0;34m.\u001b[0m\u001b[0mDataFrame\u001b[0m\u001b[0;34m(\u001b[0m\u001b[0mcolumns\u001b[0m\u001b[0;34m=\u001b[0m\u001b[0;34m[\u001b[0m\u001b[0;34m\"varName\"\u001b[0m\u001b[0;34m,\u001b[0m \u001b[0;34m'importance'\u001b[0m\u001b[0;34m]\u001b[0m\u001b[0;34m)\u001b[0m\u001b[0;34m\u001b[0m\u001b[0;34m\u001b[0m\u001b[0m\n\u001b[1;32m     10\u001b[0m \u001b[0mmodel_importance\u001b[0m\u001b[0;34m[\u001b[0m\u001b[0;34m'varName'\u001b[0m\u001b[0;34m]\u001b[0m \u001b[0;34m=\u001b[0m \u001b[0mfeature_used\u001b[0m\u001b[0;34m\u001b[0m\u001b[0;34m\u001b[0m\u001b[0m\n",
      "\u001b[0;31mNameError\u001b[0m: name 'best_xgb' is not defined"
     ]
    }
   ],
   "source": [
    "## df_params\n",
    "param_dict = {\"param\": ['learning_rate', 'n_estimators','max_depth','gamma','colsample_bytree','subsample','reg_alpha','min_child_weight'],\n",
    "\"value\": [best_learning_rate, best_n_estimators, best_max_depth, best_gamma, best_colsample_bytree, best_subsample, best_reg_alpha, best_min_child_weight ]}\n",
    "df_params = pd.DataFrame(param_dict)\n",
    "df_params\n",
    "\n",
    "## model变量重要性\n",
    "best_importance = best_xgb.feature_importances_\n",
    "model_importance = pd.DataFrame(columns=[\"varName\", 'importance'])\n",
    "model_importance['varName'] = feature_used\n",
    "model_importance['importance'] = best_importance\n",
    "model_importance.head()\n",
    "\n",
    "y_train_pred = best_xgb.predict_proba(X_train)[:,1]\n",
    "y_test_pred = best_xgb.predict_proba(X_test)[:,1]\n",
    "\n",
    "\n",
    "# ### 打分&KS\n",
    "train_pred = train_df.copy()\n",
    "train_pred['y_pred'] = y_train_pred\n",
    "\n",
    "test_pred = test_df.copy()\n",
    "test_pred['y_pred'] = y_test_pred\n",
    "\n",
    "\n",
    "data_scored_train, train_proba_ks, train_proba_ks_20, train_score_ks, train_score_ks_20, data_scored_test, test_proba_ks, test_proba_ks_20, test_score_ks, test_score_ks_20 = pf.data_score_KS(train_pred, test_pred, 'y_pred')\n",
    "# data_scored_train, train_proba_ks, train_proba_ks_20, train_score_ks, train_score_ks_20, data_scored_oot, oot_proba_ks, oot_proba_ks_20, oot_score_ks, oot_score_ks_20 = pf.data_score_KS(train_pred, oot_pred, 'y_pred')\n",
    "# AUC ACCURACY\n",
    "def auc_acc_table(df):\n",
    "    from sklearn.metrics import roc_auc_score\n",
    "    y = df.label.values\n",
    "    y_pred = df.y_pred\n",
    "    ## AUC\n",
    "    auc = roc_auc_score(y, y_pred)\n",
    "    print(\"auc: %.2f\" % auc)\n",
    "    ## Accuracy\n",
    "    predictions = [round(value) for value in y_pred]\n",
    "    accuracy = accuracy_score(y, predictions)\n",
    "    print(\"Accuracy: %.4f%%\" % (accuracy * 100.0))\n",
    "\n",
    "    return auc, accuracy\n",
    "\n",
    "\n",
    "auc_train, acc_train = auc_acc_table(train_pred)\n",
    "auc_test, acc_test = auc_acc_table(test_pred)\n",
    "\n",
    "print('success')"
   ]
  },
  {
   "cell_type": "markdown",
   "metadata": {},
   "source": [
    "# PDP"
   ]
  },
  {
   "cell_type": "code",
   "execution_count": null,
   "metadata": {},
   "outputs": [],
   "source": [
    "FIG_PATH = os.path.join(result_path, 'figure', 'PDP')\n",
    "if not os.path.exists(FIG_PATH):\n",
    "    os.makedirs(FIG_PATH)\n",
    "\n",
    "f_imp_list = gr.get_feature_importance(model_importance)\n",
    "select_features = model_importance['varName'].values.tolist()\n",
    "all_pred = pd.concat([X_train, X_test])\n",
    "len(select_features)\n",
    "\n",
    "n = 0\n",
    "while n < len(f_imp_list):\n",
    "    m = n + 9\n",
    "    features_draw = [i for i in f_imp_list[n:m]]\n",
    "    print(features_draw)\n",
    "    pt.pdpCharts9(best_xgb, all_pred, features_draw, select_features, n_bins=10, dfltValue=-1)\n",
    "    path = os.path.join(FIG_PATH, \"pdp_\" + str(n) + \"_\" + str(m) + \".png\")\n",
    "    plt.savefig(path, format='png', dpi=300, bbox_inches = 'tight',pad_inches = 0.1)\n",
    "    plt.close()\n",
    "    n += 9\n",
    "print('end')\n"
   ]
  },
  {
   "cell_type": "markdown",
   "metadata": {},
   "source": [
    "# aaa"
   ]
  },
  {
   "cell_type": "code",
   "execution_count": null,
   "metadata": {},
   "outputs": [],
   "source": [
    "\"\"\"输出Exccel合集结果\"\"\"\n",
    "## 变量分布\n",
    "var_dist_badRate_by_time_all['used_in_model'] = var_dist_badRate_by_time_all.varName.apply(lambda x: x in feature_used)\n",
    "## ranking result\n",
    "ranking_result_all['used_in_model'] = ranking_result_all.指标英文.apply(lambda x: x in feature_used)\n",
    "\n",
    "## AUC + ACCURACY\n",
    "# 若需要首申复申复贷的auc，可调用gerate_report.auc_tabel(df)\n",
    "auc_list = [auc_train, auc_test]\n",
    "acc_list = [acc_train, acc_test]\n",
    "split_list = ['train','test']\n",
    "df_auc_acc = pd.DataFrame({\"sample_set\":split_list,\"auc\":auc_list,\"accuracy\":acc_list})\n",
    "\n",
    "## df_prediction\n",
    "all_pred = pd.concat([train_pred, test_pred])\n",
    "all_pred['loan_id'] = all_pred['loan_id'].astype(str)\n",
    "\n",
    "## data_scored\n",
    "data_scored_train['sample_set'] = \"train\"\n",
    "data_scored_test['sample_set'] = \"test\"\n",
    "data_scored_all = pd.concat([data_scored_train, data_scored_test])\n",
    "data_scored_all['order_no'] = data_scored_all['order_no'].astype(str)\n",
    "data_scored_all.head()\n",
    "\n",
    "# python3.6的dict是ordered，按照顺序这样定义，之后生成excel的时候会按照顺序创建sheet\n",
    "xgb_dict = {}\n",
    "\n",
    "# 如果sheet对应的内容是dict，则dict的key会出现在sheet第一列。value会从第二列开始插入\n",
    "# 如果sheet对应的内容是df，则从sheet的A1位置开始插入整张表格，不包含pd.DataFrame的index\n",
    "xgb_dict['01_AUC&ACC'] = df_auc_acc\n",
    "xgb_dict['02_EDA'] = eda\n",
    "xgb_dict['03_KS'] = {'train_proba_ks':train_proba_ks,\n",
    "                     'test_proba_ks':test_proba_ks,\n",
    "#                      'oot_proba_ks':oot_proba_ks,\n",
    "                     'train_score_ks':train_score_ks,\n",
    "                     'test_score_ks':test_score_ks,\n",
    "#                      'oot_score_ks':oot_score_ks,\n",
    "                     'train_proba_ks_20':train_proba_ks_20,\n",
    "                     'test_proba_ks_20':test_proba_ks_20,\n",
    "#                      'oot_proba_ks_20':oot_proba_ks_20,\n",
    "                     'train_score_ks_20':train_score_ks_20,\n",
    "                     'test_score_ks_20':test_score_ks_20,\n",
    "#                      'oot_score_ks_20':oot_score_ks_20\n",
    "                      }\n",
    "xgb_dict['04_model_importance'] = model_importance.reset_index()\n",
    "xgb_dict['05_model_params'] = df_params\n",
    "xgb_dict['06_ranking_result'] = ranking_result_all\n",
    "xgb_dict['07_data_scored'] = data_scored_all\n",
    "# xgb_dict['08_data_prediction'] = all_pred\n",
    "# xgb_dict['09_woe_iv_train'] = woe_iv_df\n",
    "# xgb_dict['09_woe_ivtest'] = woe_iv_df_test\n",
    "# xgb_dict['09_woe_iv_testnew'] = woe_iv_df_testnew\n",
    "# xgb_dict['10_var_dist_badRate'] = var_dist_badRate_by_time_all\n",
    "\n",
    "from datetime import datetime\n",
    "import filing as fl\n",
    "\n",
    "FILE_NAME = \"grid_%d_%s\"%(len(feature_used), datetime.now().strftime('%y%m%d-%H'))\n",
    "best_xgb.save_model(os.path.join(result_path, FILE_NAME+'.model'))\n",
    "fl.ModelSummary2Excel(result_path = result_path, fig_path= result_path, file_name = FILE_NAME +\".xlsx\", data_dic = xgb_dict).run()\n",
    "data_scored_all.order_no = data_scored_all.order_no.astype(str)\n",
    "data_scored_all.to_excel(os.path.join(result_path, FILE_NAME + 'score' + '.xlsx'))\n",
    "print('success')"
   ]
  },
  {
   "cell_type": "markdown",
   "metadata": {},
   "source": [
    "# Lift Charts"
   ]
  },
  {
   "cell_type": "code",
   "execution_count": 49,
   "metadata": {},
   "outputs": [
    {
     "ename": "NameError",
     "evalue": "name 'data_scored_all' is not defined",
     "output_type": "error",
     "traceback": [
      "\u001b[0;31m---------------------------------------------------------------------------\u001b[0m",
      "\u001b[0;31mNameError\u001b[0m                                 Traceback (most recent call last)",
      "\u001b[0;32m<ipython-input-49-6917596ccaff>\u001b[0m in \u001b[0;36m<module>\u001b[0;34m\u001b[0m\n\u001b[1;32m      4\u001b[0m     \u001b[0mos\u001b[0m\u001b[0;34m.\u001b[0m\u001b[0mmakedirs\u001b[0m\u001b[0;34m(\u001b[0m\u001b[0mFIG_PATH\u001b[0m\u001b[0;34m)\u001b[0m\u001b[0;34m\u001b[0m\u001b[0;34m\u001b[0m\u001b[0m\n\u001b[1;32m      5\u001b[0m \u001b[0;31m# lift_chart - train test oot\u001b[0m\u001b[0;34m\u001b[0m\u001b[0;34m\u001b[0m\u001b[0;34m\u001b[0m\u001b[0m\n\u001b[0;32m----> 6\u001b[0;31m \u001b[0mtrain_lc\u001b[0m \u001b[0;34m=\u001b[0m \u001b[0mpt\u001b[0m\u001b[0;34m.\u001b[0m\u001b[0mshow_result_new\u001b[0m\u001b[0;34m(\u001b[0m\u001b[0mdata_scored_all\u001b[0m\u001b[0;34m.\u001b[0m\u001b[0mloc\u001b[0m\u001b[0;34m[\u001b[0m\u001b[0mdata_scored_all\u001b[0m\u001b[0;34m.\u001b[0m\u001b[0msample_set\u001b[0m \u001b[0;34m==\u001b[0m \u001b[0;34m'train'\u001b[0m\u001b[0;34m]\u001b[0m\u001b[0;34m,\u001b[0m \u001b[0;34m'y_pred'\u001b[0m\u001b[0;34m,\u001b[0m\u001b[0;34m'Y'\u001b[0m\u001b[0;34m,\u001b[0m \u001b[0mn_bins\u001b[0m \u001b[0;34m=\u001b[0m \u001b[0;36m10\u001b[0m\u001b[0;34m,\u001b[0m \u001b[0mfeature_label\u001b[0m\u001b[0;34m=\u001b[0m\u001b[0;34m'train'\u001b[0m\u001b[0;34m)\u001b[0m\u001b[0;34m\u001b[0m\u001b[0;34m\u001b[0m\u001b[0m\n\u001b[0m\u001b[1;32m      7\u001b[0m \u001b[0mtest_lc\u001b[0m \u001b[0;34m=\u001b[0m \u001b[0mpt\u001b[0m\u001b[0;34m.\u001b[0m\u001b[0mshow_result_new\u001b[0m\u001b[0;34m(\u001b[0m\u001b[0mdata_scored_all\u001b[0m\u001b[0;34m.\u001b[0m\u001b[0mloc\u001b[0m\u001b[0;34m[\u001b[0m\u001b[0mdata_scored_all\u001b[0m\u001b[0;34m.\u001b[0m\u001b[0msample_set\u001b[0m \u001b[0;34m==\u001b[0m \u001b[0;34m'test'\u001b[0m\u001b[0;34m]\u001b[0m\u001b[0;34m,\u001b[0m \u001b[0;34m'y_pred'\u001b[0m\u001b[0;34m,\u001b[0m\u001b[0;34m'Y'\u001b[0m\u001b[0;34m,\u001b[0m \u001b[0mn_bins\u001b[0m \u001b[0;34m=\u001b[0m \u001b[0;36m10\u001b[0m\u001b[0;34m,\u001b[0m \u001b[0mfeature_label\u001b[0m\u001b[0;34m=\u001b[0m\u001b[0;34m'test'\u001b[0m\u001b[0;34m)\u001b[0m\u001b[0;34m\u001b[0m\u001b[0;34m\u001b[0m\u001b[0m\n\u001b[1;32m      8\u001b[0m \u001b[0;31m# oot_lc = pt.show_result_new(data_scored_all.loc[data_scored_all.sample_set == 'oot'], 'y_pred','Y', n_bins = 10, feature_label='oot')\u001b[0m\u001b[0;34m\u001b[0m\u001b[0;34m\u001b[0m\u001b[0;34m\u001b[0m\u001b[0m\n",
      "\u001b[0;31mNameError\u001b[0m: name 'data_scored_all' is not defined"
     ]
    }
   ],
   "source": [
    "#分train, test, oot 看模型的效果\n",
    "FIG_PATH = os.path.join(result_path, 'figure', 'liftchart')\n",
    "if not os.path.exists(FIG_PATH):\n",
    "    os.makedirs(FIG_PATH)\n",
    "# lift_chart - train test oot\n",
    "train_lc = pt.show_result_new(data_scored_all.loc[data_scored_all.sample_set == 'train'], 'y_pred','Y', n_bins = 10, feature_label='train')\n",
    "test_lc = pt.show_result_new(data_scored_all.loc[data_scored_all.sample_set == 'test'], 'y_pred','Y', n_bins = 10, feature_label='test')\n",
    "# oot_lc = pt.show_result_new(data_scored_all.loc[data_scored_all.sample_set == 'oot'], 'y_pred','Y', n_bins = 10, feature_label='oot')\n",
    "path = os.path.join(FIG_PATH, \"LiftChart.png\")\n",
    "plt.savefig(path, format='png', dpi=300, bbox_inches = 'tight',pad_inches = 0.1)\n",
    "plt.close()\n",
    "\n",
    "merge_data = all_df[['loan_id','applied_at']].reset_index(drop = True)\n",
    "merge_data['loan_id'] = merge_data['loan_id'].astype(str)\n",
    "merge_data['applied_at'] = merge_data['applied_at'].astype(str)\n",
    "data_scored_all1 = data_scored_all.merge(merge_data,left_on='order_no',right_on='loan_id',how='left')\n",
    "data_scored_all1.shape\n",
    "pt.lift_chart_by_time(data_scored_all1.loc[data_scored_all1.sample_set.isin(['train','test'])],'y_pred','Y', n_bins = 5, by=\"week\")\n",
    "path = os.path.join(FIG_PATH, \"LiftChart_\" + 'by_week' + \".png\")\n",
    "plt.savefig(path, format='png', dpi=300, bbox_inches = 'tight',pad_inches = 0.1)\n",
    "plt.close()\n"
   ]
  },
  {
   "cell_type": "code",
   "execution_count": null,
   "metadata": {},
   "outputs": [],
   "source": []
  }
 ],
 "metadata": {
  "kernelspec": {
   "display_name": "Python 3",
   "language": "python",
   "name": "python3"
  },
  "language_info": {
   "codemirror_mode": {
    "name": "ipython",
    "version": 3
   },
   "file_extension": ".py",
   "mimetype": "text/x-python",
   "name": "python",
   "nbconvert_exporter": "python",
   "pygments_lexer": "ipython3",
   "version": "3.7.6"
  },
  "latex_envs": {
   "LaTeX_envs_menu_present": true,
   "autoclose": false,
   "autocomplete": true,
   "bibliofile": "biblio.bib",
   "cite_by": "apalike",
   "current_citInitial": 1,
   "eqLabelWithNumbers": true,
   "eqNumInitial": 1,
   "hotkeys": {
    "equation": "Ctrl-E",
    "itemize": "Ctrl-I"
   },
   "labels_anchors": false,
   "latex_user_defs": false,
   "report_style_numbering": false,
   "user_envs_cfg": false
  },
  "toc": {
   "base_numbering": 1,
   "nav_menu": {},
   "number_sections": true,
   "sideBar": true,
   "skip_h1_title": false,
   "title_cell": "Table of Contents",
   "title_sidebar": "Contents",
   "toc_cell": false,
   "toc_position": {},
   "toc_section_display": true,
   "toc_window_display": false
  },
  "varInspector": {
   "cols": {
    "lenName": 16,
    "lenType": 16,
    "lenVar": 40
   },
   "kernels_config": {
    "python": {
     "delete_cmd_postfix": "",
     "delete_cmd_prefix": "del ",
     "library": "var_list.py",
     "varRefreshCmd": "print(var_dic_list())"
    },
    "r": {
     "delete_cmd_postfix": ") ",
     "delete_cmd_prefix": "rm(",
     "library": "var_list.r",
     "varRefreshCmd": "cat(var_dic_list()) "
    }
   },
   "types_to_exclude": [
    "module",
    "function",
    "builtin_function_or_method",
    "instance",
    "_Feature"
   ],
   "window_display": false
  }
 },
 "nbformat": 4,
 "nbformat_minor": 2
}
