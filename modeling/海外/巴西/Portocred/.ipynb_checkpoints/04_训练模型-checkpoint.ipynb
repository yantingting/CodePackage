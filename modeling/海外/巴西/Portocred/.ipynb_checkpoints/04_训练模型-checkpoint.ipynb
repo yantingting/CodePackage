{
 "cells": [
  {
   "cell_type": "code",
   "execution_count": 59,
   "metadata": {},
   "outputs": [],
   "source": [
    "# 更新.pyc文件\n",
    "# import compileall\n",
    "# compileall.compile_dir(r'/Users/yantingting/PycharmProjects/modeling')"
   ]
  },
  {
   "cell_type": "code",
   "execution_count": 4,
   "metadata": {},
   "outputs": [],
   "source": [
    "import sys\n",
    "import os\n",
    "import numpy as np\n",
    "import pandas as pd\n",
    "from imp import reload\n",
    "import matplotlib.pyplot as plt\n",
    "sys.path.append('/Users/yantingting/PycharmProjects/modeling')\n",
    "import plot_tools as pt\n",
    "import metrics as mt\n",
    "from metrics import *\n",
    "import misc_utils as mu\n",
    "import database_conncet as data_con\n",
    "import summary_statistics as ss\n",
    "import feature_selection as fs\n",
    "from feature_selection import *\n",
    "from data_io_utils import *\n",
    "import data_processing as dp\n",
    "import generate_report as gr\n",
    "\n",
    "from xgboost import XGBClassifier\n",
    "from sklearn.model_selection import GridSearchCV\n",
    "from sklearn.metrics import accuracy_score"
   ]
  },
  {
   "cell_type": "code",
   "execution_count": 5,
   "metadata": {},
   "outputs": [],
   "source": [
    "fs_obj = fs.FeatureSelection()\n",
    "pf = mt.Performance()\n",
    "bw = mt.BinWoe()\n"
   ]
  },
  {
   "cell_type": "code",
   "execution_count": 6,
   "metadata": {},
   "outputs": [],
   "source": [
    "input_path = '/Users/yantingting/Seafile/风控/模型/14 巴西/Portocred/data/'\n",
    "result_path = os.path.join('/Users/yantingting/Seafile/风控/模型/14 巴西/Portocred/','模型') \n",
    "if not os.path.exists(result_path):\n",
    "    os.mkdir(result_path)"
   ]
  },
  {
   "cell_type": "markdown",
   "metadata": {},
   "source": [
    "# 读取数据&核验数据"
   ]
  },
  {
   "cell_type": "code",
   "execution_count": 7,
   "metadata": {},
   "outputs": [
    {
     "data": {
      "text/plain": [
       "(445, 445)"
      ]
     },
     "execution_count": 7,
     "metadata": {},
     "output_type": "execute_result"
    },
    {
     "data": {
      "text/plain": [
       "(445, 445)"
      ]
     },
     "execution_count": 7,
     "metadata": {},
     "output_type": "execute_result"
    }
   ],
   "source": [
    "all_df = load_data_from_pickle(input_path,'df_var_all.pkl') \n",
    "all_df.index = all_df.loan_id\n",
    "all_df.shape\n",
    "all_df.rename(columns = {'date':'applied_at', 'fpd_1':'label'}, inplace=True)\n",
    "all_df = all_df.loc[all_df.label.isin([0,1])]\n",
    "all_df.shape\n",
    "eda = ss.eda(all_df , result_path)\n",
    "all_df.fillna(-1,inplace = True)"
   ]
  },
  {
   "cell_type": "code",
   "execution_count": 8,
   "metadata": {},
   "outputs": [
    {
     "data": {
      "text/plain": [
       "(442, 4)"
      ]
     },
     "execution_count": 8,
     "metadata": {},
     "output_type": "execute_result"
    },
    {
     "data": {
      "text/plain": [
       "441"
      ]
     },
     "execution_count": 8,
     "metadata": {},
     "output_type": "execute_result"
    }
   ],
   "source": [
    "#字典\n",
    "var_dict = pd.read_csv(os.path.join(input_path,'dict_all.csv'))\n",
    "var_dict.shape\n",
    "y_col = ['label']\n",
    "x_col = list(set(all_df.columns).intersection(var_dict.指标英文))\n",
    "len(x_col)\n",
    "useless_col = ['loan_id','applied_at','sample_flag']"
   ]
  },
  {
   "cell_type": "code",
   "execution_count": 9,
   "metadata": {},
   "outputs": [
    {
     "data": {
      "text/plain": [
       "(345, 445)"
      ]
     },
     "execution_count": 9,
     "metadata": {},
     "output_type": "execute_result"
    },
    {
     "data": {
      "text/plain": [
       "1    212\n",
       "0    133\n",
       "Name: label, dtype: int64"
      ]
     },
     "execution_count": 9,
     "metadata": {},
     "output_type": "execute_result"
    },
    {
     "data": {
      "text/plain": [
       "(100, 445)"
      ]
     },
     "execution_count": 9,
     "metadata": {},
     "output_type": "execute_result"
    },
    {
     "data": {
      "text/plain": [
       "1    55\n",
       "0    45\n",
       "Name: label, dtype: int64"
      ]
     },
     "execution_count": 9,
     "metadata": {},
     "output_type": "execute_result"
    },
    {
     "data": {
      "text/plain": [
       "True"
      ]
     },
     "execution_count": 9,
     "metadata": {},
     "output_type": "execute_result"
    },
    {
     "data": {
      "text/plain": [
       "True"
      ]
     },
     "execution_count": 9,
     "metadata": {},
     "output_type": "execute_result"
    }
   ],
   "source": [
    "#划分训练和验证\n",
    "train_df = all_df[all_df.sample_flag == 0]\n",
    "test_df = all_df[all_df.sample_flag == 1]\n",
    "\n",
    "train_df.shape\n",
    "train_df.label.value_counts(dropna = False)\n",
    "\n",
    "test_df.shape\n",
    "test_df.label.value_counts(dropna = False)\n",
    "\n",
    "X_train = train_df[x_col]\n",
    "X_test = test_df[x_col]\n",
    "\n",
    "y_train = train_df.label\n",
    "y_test = test_df.label\n",
    "\n",
    "#检查数据量是否一致\n",
    "X_train.shape[0] == y_train.shape[0]\n",
    "X_test.shape[0] == y_test.shape[0]"
   ]
  },
  {
   "cell_type": "markdown",
   "metadata": {
    "heading_collapsed": true
   },
   "source": [
    "# Univariate Chart"
   ]
  },
  {
   "cell_type": "code",
   "execution_count": 10,
   "metadata": {
    "hidden": true
   },
   "outputs": [],
   "source": [
    "feature_list = x_col\n",
    "for col in feature_list:\n",
    "    pt.univariate_chart(df = train_df, col = col , target ='label' , n = 10,\n",
    "                         special_attribute = [-1, np.nan],\n",
    "                         dftrain=train_df, dftest=train_df,\n",
    "                         draw_all=True, draw_train_test=False,result_path = result_path)\n",
    "print('success')"
   ]
  },
  {
   "cell_type": "markdown",
   "metadata": {},
   "source": [
    "# 计算XGB importance"
   ]
  },
  {
   "cell_type": "code",
   "execution_count": 10,
   "metadata": {},
   "outputs": [
    {
     "data": {
      "text/plain": [
       "XGBClassifier(base_score=0.5, booster='gbtree', colsample_bylevel=1,\n",
       "              colsample_bynode=1, colsample_bytree=1, gamma=0,\n",
       "              learning_rate=0.1, max_delta_step=0, max_depth=3,\n",
       "              min_child_weight=1, missing=None, n_estimators=100, n_jobs=1,\n",
       "              nthread=None, objective='binary:logistic', random_state=0,\n",
       "              reg_alpha=0, reg_lambda=1, scale_pos_weight=1, seed=None,\n",
       "              silent=None, subsample=1, verbosity=1)"
      ]
     },
     "execution_count": 10,
     "metadata": {},
     "output_type": "execute_result"
    },
    {
     "name": "stdout",
     "output_type": "stream",
     "text": [
      "Accuracy: 52.00%\n"
     ]
    },
    {
     "data": {
      "text/html": [
       "<div>\n",
       "<style scoped>\n",
       "    .dataframe tbody tr th:only-of-type {\n",
       "        vertical-align: middle;\n",
       "    }\n",
       "\n",
       "    .dataframe tbody tr th {\n",
       "        vertical-align: top;\n",
       "    }\n",
       "\n",
       "    .dataframe thead th {\n",
       "        text-align: right;\n",
       "    }\n",
       "</style>\n",
       "<table border=\"1\" class=\"dataframe\">\n",
       "  <thead>\n",
       "    <tr style=\"text-align: right;\">\n",
       "      <th></th>\n",
       "      <th>指标英文</th>\n",
       "      <th>importance</th>\n",
       "      <th>importance_rank</th>\n",
       "    </tr>\n",
       "  </thead>\n",
       "  <tbody>\n",
       "    <tr>\n",
       "      <th>0</th>\n",
       "      <td>Pinterest</td>\n",
       "      <td>0.010640</td>\n",
       "      <td>36.0</td>\n",
       "    </tr>\n",
       "    <tr>\n",
       "      <th>1</th>\n",
       "      <td>screen_(888, 480)</td>\n",
       "      <td>0.000000</td>\n",
       "      <td>272.5</td>\n",
       "    </tr>\n",
       "    <tr>\n",
       "      <th>2</th>\n",
       "      <td>screen_(1386, 720)</td>\n",
       "      <td>0.000000</td>\n",
       "      <td>272.5</td>\n",
       "    </tr>\n",
       "    <tr>\n",
       "      <th>3</th>\n",
       "      <td>screen_(2160, 1080)</td>\n",
       "      <td>0.000000</td>\n",
       "      <td>272.5</td>\n",
       "    </tr>\n",
       "    <tr>\n",
       "      <th>4</th>\n",
       "      <td>Mercado Pago</td>\n",
       "      <td>0.013112</td>\n",
       "      <td>19.0</td>\n",
       "    </tr>\n",
       "  </tbody>\n",
       "</table>\n",
       "</div>"
      ],
      "text/plain": [
       "                  指标英文  importance  importance_rank\n",
       "0            Pinterest    0.010640             36.0\n",
       "1    screen_(888, 480)    0.000000            272.5\n",
       "2   screen_(1386, 720)    0.000000            272.5\n",
       "3  screen_(2160, 1080)    0.000000            272.5\n",
       "4         Mercado Pago    0.013112             19.0"
      ]
     },
     "execution_count": 10,
     "metadata": {},
     "output_type": "execute_result"
    }
   ],
   "source": [
    "## fit model\n",
    "model = XGBClassifier()\n",
    "model.fit(X_train, y_train);\n",
    "\n",
    "## prediction\n",
    "y_pred = model.predict(X_test)\n",
    "predictions = [round(value) for value in y_pred]\n",
    "## evaluation\n",
    "accuracy = accuracy_score(y_test, predictions)\n",
    "print(\"Accuracy: %.2f%%\" % (accuracy * 100.0))\n",
    "\n",
    "features_in_model = list(X_train.columns)\n",
    "feature_importance = model.feature_importances_\n",
    "var_importance = pd.DataFrame(columns=[\"指标英文\", 'importance'])\n",
    "var_importance['指标英文'] = features_in_model\n",
    "var_importance['importance'] = feature_importance\n",
    "var_importance.loc[:, 'importance_rank'] = var_importance.importance.rank(ascending=False)\n",
    "var_importance.head()"
   ]
  },
  {
   "cell_type": "markdown",
   "metadata": {},
   "source": [
    "# overall_ranking"
   ]
  },
  {
   "cell_type": "code",
   "execution_count": 11,
   "metadata": {},
   "outputs": [
    {
     "name": "stderr",
     "output_type": "stream",
     "text": [
      "/Users/yantingting/anaconda3/envs/modeling/lib/python3.7/site-packages/pandas/core/series.py:856: RuntimeWarning: divide by zero encountered in log\n",
      "  result = getattr(ufunc, method)(*inputs, **kwargs)\n",
      "/Users/yantingting/anaconda3/envs/modeling/lib/python3.7/site-packages/pandas/core/indexing.py:1418: FutureWarning: \n",
      "Passing list-likes to .loc or [] with any missing label will raise\n",
      "KeyError in the future, you can use .reindex() as an alternative.\n",
      "\n",
      "See the documentation here:\n",
      "https://pandas.pydata.org/pandas-docs/stable/user_guide/indexing.html#deprecate-loc-reindex-listlike\n",
      "  return self._getitem_tuple(key)\n",
      "WARNING:root:electric_quantity有新的类别[26.0, 86.0, 96.0]出现,替换 4 条数据值为-9999:\n",
      "WARNING:root:app_size有新的类别[310.0, 361.0, 390.0, 210.0, 287.0, 357.0, 304.0, 383.0, 267.0, 268.0, 262.0, 404.0, 161.0, 209.0, 405.0]出现,替换 18 条数据值为-9999:\n"
     ]
    },
    {
     "name": "stdout",
     "output_type": "stream",
     "text": [
      "success\n"
     ]
    }
   ],
   "source": [
    "os.environ['KMP_DUPLICATE_LIB_OK'] = 'True'\n",
    "args_dict = {\n",
    "    'random_forest': {\n",
    "        'grid_search': False,\n",
    "        'param': None\n",
    "    },\n",
    "    'xgboost': {\n",
    "        'grid_search': False,\n",
    "        'param': None\n",
    "    }\n",
    "}\n",
    "methods = [\n",
    "    'random_forest',\n",
    "    #'lasso',\n",
    "    #'xgboost'\n",
    "]\n",
    "\n",
    "## Train 分箱\n",
    "X_cat_train, X_transformed_train, woe_iv_df, rebin_spec, ranking_result = fs_obj.overall_ranking(X_train, y_train,\n",
    "                                                                                           var_dict, args_dict,\n",
    "                                                                                           methods, num_max_bins=10)\n",
    "\n",
    "rebin_spec = mu.convert_rebin_spec2XGB_rebin_spec(rebin_spec)\n",
    "rebin_spec_bin_adjusted = {k: v for k, v in rebin_spec.items()}\n",
    "\n",
    "woe_iv_df.to_excel(os.path.join(result_path,'woe_iv_df.xlsx'))\n",
    "ranking_result.to_excel(os.path.join(result_path,'ranking_result.xlsx'))\n",
    "save_data_to_pickle(rebin_spec,result_path,'rebin_spec.pkl')\n",
    "save_data_to_pickle(rebin_spec_bin_adjusted,result_path,'rebin_spec_bin_adjusted.pkl')\n",
    "\n",
    "#save_data_to_pickle(X_cat_train,result_path,'X_cat_train.pkl')\n",
    "bin_obj = mt.BinWoe()\n",
    "X_cat_train = bin_obj.convert_to_category(X_train, var_dict, rebin_spec_bin_adjusted)\n",
    "X_cat_test = bin_obj.convert_to_category(X_test, var_dict, rebin_spec_bin_adjusted)\n",
    "print('success')"
   ]
  },
  {
   "cell_type": "markdown",
   "metadata": {},
   "source": [
    "# 指标汇总"
   ]
  },
  {
   "cell_type": "code",
   "execution_count": 12,
   "metadata": {},
   "outputs": [
    {
     "data": {
      "text/plain": [
       "'按月/按sample_set检查变量的稳定性和有效性'"
      ]
     },
     "execution_count": 12,
     "metadata": {},
     "output_type": "execute_result"
    },
    {
     "name": "stderr",
     "output_type": "stream",
     "text": [
      "/Users/yantingting/anaconda3/envs/modeling/lib/python3.7/site-packages/ipykernel_launcher.py:3: SettingWithCopyWarning: \n",
      "A value is trying to be set on a copy of a slice from a DataFrame.\n",
      "Try using .loc[row_indexer,col_indexer] = value instead\n",
      "\n",
      "See the caveats in the documentation: http://pandas.pydata.org/pandas-docs/stable/user_guide/indexing.html#returning-a-view-versus-a-copy\n",
      "  This is separate from the ipykernel package so we can avoid doing imports until\n",
      "/Users/yantingting/anaconda3/envs/modeling/lib/python3.7/site-packages/ipykernel_launcher.py:4: SettingWithCopyWarning: \n",
      "A value is trying to be set on a copy of a slice from a DataFrame.\n",
      "Try using .loc[row_indexer,col_indexer] = value instead\n",
      "\n",
      "See the caveats in the documentation: http://pandas.pydata.org/pandas-docs/stable/user_guide/indexing.html#returning-a-view-versus-a-copy\n",
      "  after removing the cwd from sys.path.\n"
     ]
    },
    {
     "data": {
      "text/plain": [
       "(445, 443)"
      ]
     },
     "execution_count": 12,
     "metadata": {},
     "output_type": "execute_result"
    },
    {
     "name": "stderr",
     "output_type": "stream",
     "text": [
      "/Users/yantingting/anaconda3/envs/modeling/lib/python3.7/site-packages/pandas/core/indexing.py:1418: FutureWarning: \n",
      "Passing list-likes to .loc or [] with any missing label will raise\n",
      "KeyError in the future, you can use .reindex() as an alternative.\n",
      "\n",
      "See the documentation here:\n",
      "https://pandas.pydata.org/pandas-docs/stable/user_guide/indexing.html#deprecate-loc-reindex-listlike\n",
      "  return self._getitem_tuple(key)\n"
     ]
    },
    {
     "data": {
      "text/plain": [
       "(441, 12)"
      ]
     },
     "execution_count": 12,
     "metadata": {},
     "output_type": "execute_result"
    },
    {
     "name": "stdout",
     "output_type": "stream",
     "text": [
      "success\n"
     ]
    }
   ],
   "source": [
    "\"\"\"按月/按sample_set检查变量的稳定性和有效性\"\"\"\n",
    "## train\n",
    "train_df['appmon'] = '0_train'\n",
    "test_df['appmon'] = '1_test'\n",
    "\n",
    "all_cat = pd.concat([X_cat_train,X_cat_test])\n",
    "app_data = pd.concat([train_df[['label','appmon']],test_df[['label','appmon']]])\n",
    "X_cat_with_y_appmon_all = pd.merge(all_cat,app_data[['label','appmon']] ,left_index=True,right_index=True)\n",
    "X_cat_with_y_appmon_all.shape\n",
    "\n",
    "var_dist_badRate_by_time_all = ss.get_badRate_and_dist_by_time(X_cat_with_y_appmon_all,list([i for i in all_cat.columns if i != 'loan_id']),'appmon','label')\n",
    "var_dist_badRate_by_time_all.to_excel(os.path.join(result_path, 'var_dist_badRate_by_sample.xlsx'))\n",
    "\n",
    "# PSI\n",
    "var_psi = pf.variable_psi(X_cat_train, X_cat_test, var_dict)\n",
    "var_psi.loc[:, 'psi_rank'] = var_psi.PSI.rank(ascending=False)\n",
    "var_psi.to_excel(os.path.join(result_path, 'var_PSI.xlsx'))\n",
    "\n",
    "# 汇总各项指标\n",
    "# var_psi.drop(['数据源','指标中文'],axis = 1,inplace=True)\n",
    "ranking_result_all = ranking_result.merge(var_importance, on='指标英文', how='left').merge(var_psi, on='指标英文', how='left')\n",
    "ranking_result_all.to_excel(os.path.join(result_path,'ranking_result_all.xlsx'))\n",
    "var_psi1 = var_psi[['指标英文','PSI']].drop_duplicates()\n",
    "ranking_result_f = ranking_result.merge(var_importance, on='指标英文', how='left').merge(var_psi1, on='指标英文', how='left')\n",
    "ranking_result_f.shape\n",
    "print('success')"
   ]
  },
  {
   "cell_type": "markdown",
   "metadata": {},
   "source": [
    "# 变量筛选"
   ]
  },
  {
   "cell_type": "code",
   "execution_count": 13,
   "metadata": {},
   "outputs": [
    {
     "name": "stdout",
     "output_type": "stream",
     "text": [
      "变量总个数441\n",
      "IV筛掉的个数0\n",
      "xgb重要性筛掉的个数343\n",
      "相关性特征筛掉的个数283 ['screen_(888, 480)', 'Pinterest', 'model_SM-G9600', 'model_ASUS_Z00AD', 'model_ASUS_X00ID', 'screen_(1386, 720)', 'board_YSL', 'WhatsApp', 'Itaú', 'Mercado Pago', 'screen_(2160, 1080)', 'low_freq_app', 'screen_(2792, 1440)', 'Netflix', 'board_A2016B30', 'board_SDM845', 'Samsung Internet', 'model_Moto E (4)', 'model_SM-G532M', 'screen_(2134, 1080)', 'Smart Tutor', 'model_LG-X230', '4shared', 'Sodexo', 'model_Mi A2 Lite', 'model_Redmi 6A', 'Smart Switch', 'board_UNIVERSAL9610', 'screen_(1372, 720)', 'model_moto g(6) plus', 'Facebook', 'iFood', 'Meu INSS', 'Banco Original', 'model_Moto G (5) Plus', 'screen_(2130, 1080)', 'Globoplay', 'PagSeguro', 'Instagram', 'Trabalhador', 'model_SM-J700M', 'screen_(1798, 1080)', 'board_MSM8937_32', 'model_SM-J120M', 'model_motorola one action', 'board_UNIVERSAL7570', 'screen_(2048, 1080)', 'Samsung Members', 'screen_(1196, 720)', 'board_UNIVERSAL3475', 'manufacture_LG ELECTRONICS', 'Meu Alelo', 'screen_(1816, 1080)', 'board_MSM8994', 'board_A5_PRO', 'Waze', 'model_Redmi 6', 'model_ASUS_X017DA', 'model_Nokia 6.1 Plus', 'board_MT6737', 'model_motorola one vision', 'model_ASUS_A001D', 'board_UNIVERSAL7880', 'manufacture_LGE', 'model_Lenovo A2016b30', 'Flexipag', 'screen_(2055, 1080)', 'RecargaPay', 'Adobe Acrobat', 'board_ASUS_X00ID', 'model_SM-G600FY', 'screen_(1384, 720)', 'screen_(2004, 1080)', 'screen_(2672, 1440)', 'screen_(1200, 720)', 'board_MT6753', 'rate_close_relative', 'Uber Eats', 'model_Redmi Note 7', 'manufacture_HMD GLOBAL', 'screen_(800, 480)', 'screen_(2150, 1080)', 'board_MSM8917', 'manufacture_TCL', 'Itaucard', 'screen_(1199, 720)', 'board_MT6750T', 'cnt_unique_names', 'model_SM-J320M', 'rate_mid_freq_app', 'model_SM-G930F', 'screen_(2231, 1080)', 'screen_(2030, 1080)', '99', 'screen_(782, 480)', 'model_moto g(7) plus', 'Drive', 'Calculadora', 'Wish', 'Neon', 'screen_(2128, 1080)', 'screen_(1382, 720)', 'screen_(2131, 1080)', 'model_Lenovo K10a40', 'model_SM-G950F', 'model_Mi A2', 'model_SM-G531H', 'rate_len_isless6', 'cnt_phone', 'model_SM-G935F', 'Banco Inter', 'Google Play Games', 'model_LG-H870', 'board_MSM8976', 'model_E6853', 'screen_(888, 540)', 'Nubank', 'screen_(1370, 720)', 'board_MT6755', 'model_ASUS_Z017DC', 'screen_(2191, 1080)', 'model_SM-G903M', 'Google Play Música', 'screen_(2095, 1080)', 'Bradesco Cartões', 'Twitter', 'model_LG-K430', 'model_SM-A530F', 'board_SC7730SE', 'screen_(2053, 1080)', 'model_SM-J200BT', 'board_CEPHEUS', 'model_LM-X210', 'model_SM-J260M', 'model_ASUS_X00LDA', 'Messenger', 'C6 Bank', 'screen_(2062, 1080)', 'model_SM-A910F', 'Google Cloud Print', 'model_SM-M305M', 'screen_(1399, 720)', 'model_SM-G973F', 'Planilhas', 'Minha Oi', 'E-mail', 'model_LG-H630', 'model_Redmi Note 6 Pro', 'screen_(2181, 1080)', 'screen_(2560, 1440)', 'Outlook', 'available_memory_size', 'model_5085N', 'model_Redmi S2', 'Santander', 'screen_(1351, 720)', 'AliExpress', 'Mercado Livre', 'board_ERD9610', 'FGTS', 'model_SM-J510MN', 'screen_(960, 540)', 'rate_high_freq_app', 'Google Play Filmes e TV', 'screen_(2113, 1080)', 'model_Moto E (4) Plus', 'cnt_names', 'Samsung Health', 'manufacture_BLU', 'Way', 'Samsung Notes', 'board_SC9830I', 'board_MSM8952', 'model_SM-G611MT', 'model_SM-G955F', 'Cartões RCHLO', 'screen_(1371, 720)', 'OLX', 'screen_(2208, 1080)', 'model_LG-M700', 'Grana Fácil', 'board_MSM8909', 'Fotos', 'model_Moto G Play', 'Meu Vivo', 'model_A5_Pro', 'manufacture_HTC', 'screen_(2136, 1080)', 'model_MI 9', 'screen_(2029, 1080)', 'AppsBrasil', 'PicPay', 'model_ASUS_Z012DC', 'vpn', 'model_F3116', 'model_Moto G (4)', 'screen_(2064, 1080)', 'screen_(854, 480)', 'model_Moto Z3 Play', 'Apresentações', 'model_moto g(7) power', 'board_UNIVERSAL7580', 'screen_(2042, 1080)', 'board_BLU_R2', 'model_G3226', 'manufacture_UMIDIGI', 'Gravador de voz', 'Americanas', 'Next', 'screen_(1423, 720)', 'screen_(2043, 1080)', 'Duo', 'BB', 'available_capacity_size', 'model_LG-H540', 'board_UNIVERSAL8895', 'manufacture_LENOVO', 'screen_(871, 720)', 'model_LG-M400', 'model_SM-G975F', 'board_MT6735', 'model_moto e5 play', 'model_Moto G4', 'Google Play Services for AR', 'Magalu', 'disk_size', 'model_SM-A720F', 'screen_(1350, 720)', 'model_SM-G532MT', 'model_ASUS_X018D', 'screen_(2078, 1080)', 'screen_(1454, 720)', 'screen_(2065, 1080)', 'model_SM-N9600', 'Uber', 'model_MI 6', 'Meu TIM', 'model_SM-A500M', 'model_LG-K350', 'board_UNIVERSAL8890', 'model_XT1635-02', 'Noverde', 'screen_(1432, 720)', 'model_SM-A750G', 'model_R2 LTE', 'screen_(1187, 720)', 'model_MotoG3', 'model_HTC U11', 'Pernambucanas', 'model_ASUS_X00LD', 'Documentos', 'board_MT6765', 'Snapchat', 'Serasa', 'PAN Cartões', 'HAVAN', 'model_Redmi Note 5', 'Smart\\u200bThings', 'screen_(2209, 1080)', 'board_MSM8996', 'screen_(1362, 720)', 'Spotify', 'model_ASUS_X00TDB', \"McDonald's\", 'model_SM-A505GT', 'Lojas Renner', 'Snaptube', 'screen_(1358, 720)', 'board_MSM8998', 'Caixa', 'board_MSM8916', 'screen_(1198, 720)', 'model_MI PLAY', 'board_MOOREFIELD', 'manufacture_SONY', 'screen_(2135, 1080)', 'screen_(2028, 1080)', 'Google Play services for Instant Apps', 'model_ASUS_Z01KD', 'Móvel', 'model_LM-X420', 'Bradesco', 'model_Moto C Plus']\n",
      "univariate斜率特征筛掉的个数103 ['model_SM-G9600', 'Netflix', 'board_SDM845', 'Samsung Internet', 'cnt_len_is9', 'manufacture_ASUS', 'Smart Tutor', 'net_type', 'screen_(1372, 720)', 'model_SM-J710MN', 'Smart Switch', 'mid_freq_app', 'model_moto g(6) plus', 'Facebook', 'phone_charging_status', 'iFood', 'Banco Original', 'Meu INSS', 'model_moto g(6) play', 'model_Moto G (5) Plus', 'Globoplay', 'screen_(2130, 1080)', 'Instagram', 'model_SM-J700M', 'Samsung Members', 'Meu Alelo', 'rate_len_is10', 'model_SM-J415G', 'Waze', 'model_ASUS_A001D', 'manufacture_LGE', 'RecargaPay', 'Adobe Acrobat', 'rate_close_relative', 'model_SM-A105M', 'model_Redmi Note 7', 'Itaucard', 'rate_mid_freq_app', '99', 'board_UNIVERSAL7885', 'Drive', 'board_MSM8937', 'boa_vista_score', 'screen_(2076, 1080)', 'Calculadora', 'model_SM-A305GT', 'model_SM-J610G', 'Neon', 'Wish', 'screen_(2131, 1080)', 'model_SM-G935F', 'Banco Inter', 'cnt_len_is10', 'Google Play Música', 'Bradesco Cartões', 'C6 Bank', 'Minha Oi', 'E-mail', 'Santander', 'screen_(1351, 720)', 'board_ERD9610', 'screen_(2016, 1080)', 'AliExpress', 'rate_len_is9', 'Google Play Filmes e TV', 'model_SM-J410G', 'Samsung Health', 'cnt_close_relative', 'Way', 'board_MSM8952', 'Cartões RCHLO', 'OLX', 'screen_(1371, 720)', 'Fotos', 'model_moto e5', 'model_Moto G (5S)', 'manufacture_SAMSUNG', 'screen_(1344, 720)', 'screen_(2064, 1080)', 'model_moto g(7) power', 'electric_quantity', 'screen_(1376, 720)', 'Gravador de voz', 'BB', 'Duo', 'Google Play Services for AR', 'Magalu', 'screen_(1184, 720)', 'Meu TIM', 'rate_len_is12', 'Noverde', 'board_MT6765', 'Serasa', 'PAN Cartões', 'HAVAN', 'age', 'cnt_len_is12', 'Spotify', \"McDonald's\", 'Caixa', 'Móvel', 'model_LM-X420', 'Bradesco']\n",
      "总共筛掉的个数418\n",
      "剩余变量个数23 ['screen_(1280, 720)', 'education_degree_3', 'gender_M', 'total_memory_size', 'rate_len_is11', 'app_size', 'rate_len_isover13', 'rate_low_freq_app', 'education_degree_7', 'email1_gmail', 'cnt_len_is11', 'income', 'bank_number_0341', 'high_freq_app', 'state_name_MG', 'social_status', 'serasa_score', 'Empréstimo Pessoal', 'maritial_status_S', 'bank_number_0001', 'cnt_len_isless6', 'cnt_len_isover13', 'cnt_unique_phone']\n"
     ]
    },
    {
     "data": {
      "text/plain": [
       "['screen_(1280, 720)',\n",
       " 'education_degree_3',\n",
       " 'gender_M',\n",
       " 'total_memory_size',\n",
       " 'rate_len_is11',\n",
       " 'app_size',\n",
       " 'rate_len_isover13',\n",
       " 'rate_low_freq_app',\n",
       " 'education_degree_7',\n",
       " 'email1_gmail',\n",
       " 'cnt_len_is11',\n",
       " 'income',\n",
       " 'bank_number_0341',\n",
       " 'high_freq_app',\n",
       " 'state_name_MG',\n",
       " 'social_status',\n",
       " 'serasa_score',\n",
       " 'Empréstimo Pessoal',\n",
       " 'maritial_status_S',\n",
       " 'bank_number_0001',\n",
       " 'cnt_len_isless6',\n",
       " 'cnt_len_isover13',\n",
       " 'cnt_unique_phone']"
      ]
     },
     "execution_count": 13,
     "metadata": {},
     "output_type": "execute_result"
    },
    {
     "data": {
      "text/plain": [
       "23"
      ]
     },
     "execution_count": 13,
     "metadata": {},
     "output_type": "execute_result"
    },
    {
     "data": {
      "text/plain": [
       "(345, 23)"
      ]
     },
     "execution_count": 13,
     "metadata": {},
     "output_type": "execute_result"
    },
    {
     "data": {
      "text/plain": [
       "(100, 23)"
      ]
     },
     "execution_count": 13,
     "metadata": {},
     "output_type": "execute_result"
    },
    {
     "name": "stdout",
     "output_type": "stream",
     "text": [
      "success\n"
     ]
    }
   ],
   "source": [
    "train = train_df.drop(useless_col,axis = 1).drop('appmon',axis = 1)\n",
    "test = test_df.drop(useless_col,axis = 1).drop('appmon',axis = 1)\n",
    "\n",
    "f_rmv = feature_remove(train,test, ranking_result_f, result_path, psi = -1, iv = 0, imp = 0.004, corr = 0.75, slope = 'TRUE')\n",
    "\n",
    "try:\n",
    "    train = train.drop(['slope'], axis=1)\n",
    "    test = test.drop(['slope'], axis=1)\n",
    "except:\n",
    "    pass\n",
    "\n",
    "feature_used = list(set(x_col) - set(f_rmv))\n",
    "feature_used\n",
    "len(feature_used)\n",
    "X_train = train_df[feature_used]\n",
    "X_test = test_df[feature_used]\n",
    "X_train.shape\n",
    "X_test.shape\n",
    "print('success')"
   ]
  },
  {
   "cell_type": "markdown",
   "metadata": {},
   "source": [
    "# 调参数"
   ]
  },
  {
   "cell_type": "code",
   "execution_count": 14,
   "metadata": {},
   "outputs": [
    {
     "data": {
      "text/plain": [
       "'调参1:XGB GridSearch'"
      ]
     },
     "execution_count": 14,
     "metadata": {},
     "output_type": "execute_result"
    },
    {
     "name": "stderr",
     "output_type": "stream",
     "text": [
      "/Users/yantingting/anaconda3/envs/modeling/lib/python3.7/site-packages/sklearn/model_selection/_search.py:814: DeprecationWarning: The default of the `iid` parameter will change from True to False in version 0.22 and will be removed in 0.24. This will change numeric results when test-set sizes are unequal.\n",
      "  DeprecationWarning)\n"
     ]
    },
    {
     "data": {
      "text/plain": [
       "XGBClassifier(base_score=0.5, booster='gbtree', colsample_bylevel=1,\n",
       "              colsample_bynode=1, colsample_bytree=0.8,\n",
       "              early_stopping_rounds=10, eta=0.2, gamma=0.1, learning_rate=0.1,\n",
       "              max_delta_step=0, max_depth=3, min_child_weight=1, missing=None,\n",
       "              n_estimators=300, n_jobs=1, nthread=4,\n",
       "              objective='binary:logistic', random_state=1, reg_alpha=0,\n",
       "              reg_lambda=1, scale_pos_weight=1, seed=None, silent=0,\n",
       "              subsample=0.6, verbosity=1)"
      ]
     },
     "execution_count": 14,
     "metadata": {},
     "output_type": "execute_result"
    },
    {
     "data": {
      "text/plain": [
       "'调参2：XGB hyperopt '"
      ]
     },
     "execution_count": 14,
     "metadata": {},
     "output_type": "execute_result"
    },
    {
     "name": "stdout",
     "output_type": "stream",
     "text": [
      "imported xgb: <module 'xgboost' from '/Users/yantingting/anaconda3/envs/modeling/lib/python3.7/site-packages/xgboost/__init__.py'>\n",
      "imported tpe: <module 'hyperopt.tpe' from '/Users/yantingting/anaconda3/envs/modeling/lib/python3.7/site-packages/hyperopt/tpe.py'>\n",
      "[0]\ttrain-auc:0.64684+0.0300815\ttest-auc:0.47497+0.0244358\n",
      "\n",
      "cv_auc                                              \n",
      "0.578621                                            \n",
      "param                                               \n",
      "{'booster': 'gbtree', 'colsample_bytree': 0.8147057534635367, 'early_stopping_rounds': 3, 'eta': 0.07692957272013655, 'eval_metric': 'auc', 'gamma': 0.23455321805359555, 'max_depth': 3, 'min_child_weight': 4.0, 'nfold': 3, 'nthread': -1, 'num_boost_round': 1000, 'objective': 'reg:logistic', 'seed': 1123, 'silent': 1, 'subsample': 0.6358375520796604}\n",
      "[0]\ttrain-auc:0.75852+0.0190081\ttest-auc:0.480395+0.0822128\n",
      "\n",
      "cv_auc                                                              \n",
      "0.5614833333333333                                                  \n",
      "param                                                               \n",
      "{'booster': 'gbtree', 'colsample_bytree': 0.720934518580207, 'early_stopping_rounds': 3, 'eta': 0.1561816652135821, 'eval_metric': 'auc', 'gamma': 0.33710203691561064, 'max_depth': 4, 'min_child_weight': 2.0, 'nfold': 3, 'nthread': -1, 'num_boost_round': 1000, 'objective': 'reg:logistic', 'seed': 1123, 'silent': 1, 'subsample': 0.8685528457279406}\n",
      "[0]\ttrain-auc:0.678732+0.0219011\ttest-auc:0.561262+0.0768773        \n",
      "\n",
      "cv_auc                                                              \n",
      "0.561262                                                            \n",
      "param                                                               \n",
      "{'booster': 'gbtree', 'colsample_bytree': 0.9430229723502487, 'early_stopping_rounds': 3, 'eta': 0.0943334922459597, 'eval_metric': 'auc', 'gamma': 0.007503393846582363, 'max_depth': 4, 'min_child_weight': 6.0, 'nfold': 3, 'nthread': -1, 'num_boost_round': 1000, 'objective': 'reg:logistic', 'seed': 1123, 'silent': 1, 'subsample': 0.8322968741022689}\n",
      "[0]\ttrain-auc:0.677929+0.00994822\ttest-auc:0.566792+0.0810567       \n",
      "\n",
      "cv_auc                                                              \n",
      "0.5747466666666666                                                  \n",
      "param                                                               \n",
      "{'booster': 'gbtree', 'colsample_bytree': 0.9347329378223679, 'early_stopping_rounds': 3, 'eta': 0.08403912586411197, 'eval_metric': 'auc', 'gamma': 0.2639223536389987, 'max_depth': 4, 'min_child_weight': 6.0, 'nfold': 3, 'nthread': -1, 'num_boost_round': 1000, 'objective': 'reg:logistic', 'seed': 1123, 'silent': 1, 'subsample': 0.8047540066897149}\n",
      "[0]\ttrain-auc:0.651043+0.0262857\ttest-auc:0.526491+0.0618125        \n",
      "\n",
      "cv_auc                                                              \n",
      "0.5498966666666667                                                  \n",
      "param                                                               \n",
      "{'booster': 'gbtree', 'colsample_bytree': 0.9099498537588485, 'early_stopping_rounds': 3, 'eta': 0.1639496735450129, 'eval_metric': 'auc', 'gamma': 0.07036616931583475, 'max_depth': 2, 'min_child_weight': 6.0, 'nfold': 3, 'nthread': -1, 'num_boost_round': 1000, 'objective': 'reg:logistic', 'seed': 1123, 'silent': 1, 'subsample': 0.9673689646919679}\n",
      "[0]\ttrain-auc:0.703407+0.0151206\ttest-auc:0.558447+0.093905         \n",
      "\n",
      "cv_auc                                                              \n",
      "0.5584466666666666                                                  \n",
      "param                                                               \n",
      "{'booster': 'gbtree', 'colsample_bytree': 0.9930558600699819, 'early_stopping_rounds': 3, 'eta': 0.05845955463025512, 'eval_metric': 'auc', 'gamma': 0.3089243316990965, 'max_depth': 4, 'min_child_weight': 5.0, 'nfold': 3, 'nthread': -1, 'num_boost_round': 1000, 'objective': 'reg:logistic', 'seed': 1123, 'silent': 1, 'subsample': 0.8937497821563003}\n",
      "[0]\ttrain-auc:0.720832+0.0387003\ttest-auc:0.549003+0.00778748       \n",
      "\n",
      "cv_auc                                                              \n",
      " 30%|███       | 6/20 [00:00<00:00, 34.06it/s, best loss: -0.578621]"
     ]
    },
    {
     "name": "stderr",
     "output_type": "stream",
     "text": [
      "/Users/yantingting/anaconda3/envs/modeling/lib/python3.7/site-packages/xgboost/core.py:587: FutureWarning: Series.base is deprecated and will be removed in a future version\n",
      "  if getattr(data, 'base', None) is not None and \\\n"
     ]
    },
    {
     "name": "stdout",
     "output_type": "stream",
     "text": [
      "0.5972013333333334                                                  \n",
      "param                                                               \n",
      "{'booster': 'gbtree', 'colsample_bytree': 0.9611687916011904, 'early_stopping_rounds': 3, 'eta': 0.19033757173123617, 'eval_metric': 'auc', 'gamma': 0.24613072356285706, 'max_depth': 5, 'min_child_weight': 3.0, 'nfold': 3, 'nthread': -1, 'num_boost_round': 1000, 'objective': 'reg:logistic', 'seed': 1123, 'silent': 1, 'subsample': 0.7661978454042887}\n",
      "[0]\ttrain-auc:0.639023+0.0202927\ttest-auc:0.524463+0.0322193        \n",
      "\n",
      "cv_auc                                                                        \n",
      "0.5377763333333334                                                            \n",
      "param                                                                         \n",
      "{'booster': 'gbtree', 'colsample_bytree': 0.824611021375463, 'early_stopping_rounds': 3, 'eta': 0.08626490091672545, 'eval_metric': 'auc', 'gamma': 0.1179173618965002, 'max_depth': 2, 'min_child_weight': 3.0, 'nfold': 3, 'nthread': -1, 'num_boost_round': 1000, 'objective': 'reg:logistic', 'seed': 1123, 'silent': 1, 'subsample': 0.9761130792412068}\n",
      "[0]\ttrain-auc:0.660262+0.041398\ttest-auc:0.531218+0.0361101                   \n",
      "\n",
      "cv_auc                                                                        \n",
      "0.5827903333333334                                                            \n",
      "param                                                                         \n",
      "{'booster': 'gbtree', 'colsample_bytree': 0.7351878507083868, 'early_stopping_rounds': 3, 'eta': 0.07364495867911375, 'eval_metric': 'auc', 'gamma': 0.08642154315089581, 'max_depth': 3, 'min_child_weight': 4.0, 'nfold': 3, 'nthread': -1, 'num_boost_round': 1000, 'objective': 'reg:logistic', 'seed': 1123, 'silent': 1, 'subsample': 0.7441785784968267}\n",
      "[0]\ttrain-auc:0.636184+0.0218849\ttest-auc:0.474107+0.0298462                  \n",
      "\n",
      "cv_auc                                                                        \n",
      "0.5644613333333334                                                            \n",
      "param                                                                         \n",
      "{'booster': 'gbtree', 'colsample_bytree': 0.7338357536064344, 'early_stopping_rounds': 3, 'eta': 0.15686655901989766, 'eval_metric': 'auc', 'gamma': 0.2136175932708877, 'max_depth': 4, 'min_child_weight': 6.0, 'nfold': 3, 'nthread': -1, 'num_boost_round': 1000, 'objective': 'reg:logistic', 'seed': 1123, 'silent': 1, 'subsample': 0.6151442723624854}\n",
      "[0]\ttrain-auc:0.637281+0.0293058\ttest-auc:0.496131+0.0748083                  \n",
      "\n",
      "cv_auc                                                                         \n",
      "0.5459603333333334                                                             \n",
      "param                                                                          \n",
      "{'booster': 'gbtree', 'colsample_bytree': 0.6006938992500233, 'early_stopping_rounds': 3, 'eta': 0.09483672198926768, 'eval_metric': 'auc', 'gamma': 0.04453620471018023, 'max_depth': 3, 'min_child_weight': 3.0, 'nfold': 3, 'nthread': -1, 'num_boost_round': 1000, 'objective': 'reg:logistic', 'seed': 1123, 'silent': 1, 'subsample': 0.7371362006189378}\n",
      "[0]\ttrain-auc:0.76841+0.0339693\ttest-auc:0.566491+0.0732967                    \n",
      "\n",
      "cv_auc                                                                         \n",
      "0.5717546666666666                                                             \n",
      "param                                                                          \n",
      "{'booster': 'gbtree', 'colsample_bytree': 0.8720248054789013, 'early_stopping_rounds': 3, 'eta': 0.058004867583416886, 'eval_metric': 'auc', 'gamma': 0.2716999158922468, 'max_depth': 4, 'min_child_weight': 1.0, 'nfold': 3, 'nthread': -1, 'num_boost_round': 1000, 'objective': 'reg:logistic', 'seed': 1123, 'silent': 1, 'subsample': 0.9176997895877266}\n",
      "[0]\ttrain-auc:0.685663+0.0252091\ttest-auc:0.51606+0.0318547                    \n",
      "\n",
      "cv_auc                                                                         \n",
      "0.5469413333333334                                                             \n",
      "param                                                                          \n",
      "{'booster': 'gbtree', 'colsample_bytree': 0.9663448889198022, 'early_stopping_rounds': 3, 'eta': 0.10356588809762711, 'eval_metric': 'auc', 'gamma': 0.30504212852486745, 'max_depth': 5, 'min_child_weight': 4.0, 'nfold': 3, 'nthread': -1, 'num_boost_round': 1000, 'objective': 'reg:logistic', 'seed': 1123, 'silent': 1, 'subsample': 0.6365410238691266}\n",
      "[0]\ttrain-auc:0.668325+0.0239162\ttest-auc:0.473987+0.047309                    \n",
      "\n",
      "cv_auc                                                                         \n",
      "0.5368136666666666                                                             \n",
      "param                                                                          \n",
      "{'booster': 'gbtree', 'colsample_bytree': 0.6370154639082156, 'early_stopping_rounds': 3, 'eta': 0.13512940270882245, 'eval_metric': 'auc', 'gamma': 0.24637212084151844, 'max_depth': 3, 'min_child_weight': 1.0, 'nfold': 3, 'nthread': -1, 'num_boost_round': 1000, 'objective': 'reg:logistic', 'seed': 1123, 'silent': 1, 'subsample': 0.6173506736257135}\n",
      "[0]\ttrain-auc:0.746074+0.010033\ttest-auc:0.601325+0.0376208                    \n",
      "\n",
      "cv_auc                                                                         \n",
      "0.6013246666666667                                                             \n",
      "param                                                                          \n",
      "{'booster': 'gbtree', 'colsample_bytree': 0.9593239502822078, 'early_stopping_rounds': 3, 'eta': 0.16964923586101383, 'eval_metric': 'auc', 'gamma': 0.15775378452952935, 'max_depth': 4, 'min_child_weight': 2.0, 'nfold': 3, 'nthread': -1, 'num_boost_round': 1000, 'objective': 'reg:logistic', 'seed': 1123, 'silent': 1, 'subsample': 0.8820196371863207}\n",
      "[0]\ttrain-auc:0.717701+0.0567046\ttest-auc:0.533042+0.0365305                   \n",
      "\n",
      "cv_auc                                                                         \n",
      "0.60061                                                                        \n",
      "param                                                                          \n",
      "{'booster': 'gbtree', 'colsample_bytree': 0.9786222398226363, 'early_stopping_rounds': 3, 'eta': 0.12014930904842351, 'eval_metric': 'auc', 'gamma': 0.1235110964935549, 'max_depth': 4, 'min_child_weight': 2.0, 'nfold': 3, 'nthread': -1, 'num_boost_round': 1000, 'objective': 'reg:logistic', 'seed': 1123, 'silent': 1, 'subsample': 0.770267605501966}\n",
      "[0]\ttrain-auc:0.690448+0.0328248\ttest-auc:0.469319+0.0182673                   \n",
      "\n",
      "cv_auc                                                                         \n",
      "0.5557403333333334                                                             \n",
      "param                                                                          \n",
      "{'booster': 'gbtree', 'colsample_bytree': 0.6279394661286761, 'early_stopping_rounds': 3, 'eta': 0.12885317899321064, 'eval_metric': 'auc', 'gamma': 0.23759587005999738, 'max_depth': 5, 'min_child_weight': 3.0, 'nfold': 3, 'nthread': -1, 'num_boost_round': 1000, 'objective': 'reg:logistic', 'seed': 1123, 'silent': 1, 'subsample': 0.6594510055713048}\n",
      "[0]\ttrain-auc:0.707855+0.0208843\ttest-auc:0.537758+0.118029                    \n",
      "\n",
      "cv_auc                                                                         \n",
      "0.5384986666666667                                                             \n",
      "param                                                                          \n",
      "{'booster': 'gbtree', 'colsample_bytree': 0.9619615715382364, 'early_stopping_rounds': 3, 'eta': 0.1934695738835891, 'eval_metric': 'auc', 'gamma': 0.12023282755350446, 'max_depth': 4, 'min_child_weight': 5.0, 'nfold': 3, 'nthread': -1, 'num_boost_round': 1000, 'objective': 'reg:logistic', 'seed': 1123, 'silent': 1, 'subsample': 0.8531885578200786}\n",
      "[0]\ttrain-auc:0.664314+0.0371397\ttest-auc:0.496738+0.0572457                   \n",
      "\n",
      "cv_auc                                                                         \n",
      "0.6092993333333333                                                             \n",
      "param                                                                          \n"
     ]
    },
    {
     "name": "stdout",
     "output_type": "stream",
     "text": [
      "{'booster': 'gbtree', 'colsample_bytree': 0.678980906819712, 'early_stopping_rounds': 3, 'eta': 0.18149426870886082, 'eval_metric': 'auc', 'gamma': 0.19456681781786822, 'max_depth': 3, 'min_child_weight': 5.0, 'nfold': 3, 'nthread': -1, 'num_boost_round': 1000, 'objective': 'reg:logistic', 'seed': 1123, 'silent': 1, 'subsample': 0.7188943003176337}\n",
      "[0]\ttrain-auc:0.63886+0.0307722\ttest-auc:0.44831+0.00957651                    \n",
      "\n",
      "cv_auc                                                                         \n",
      "0.5254776666666666                                                             \n",
      "param                                                                          \n",
      "{'booster': 'gbtree', 'colsample_bytree': 0.864656220718099, 'early_stopping_rounds': 3, 'eta': 0.16343320243336706, 'eval_metric': 'auc', 'gamma': 0.02134324274026338, 'max_depth': 2, 'min_child_weight': 2.0, 'nfold': 3, 'nthread': -1, 'num_boost_round': 1000, 'objective': 'reg:logistic', 'seed': 1123, 'silent': 1, 'subsample': 0.6575742858895209}\n",
      "100%|██████████| 20/20 [00:00<00:00, 37.51it/s, best loss: -0.6092993333333333]\n",
      "best: {'colsample_bytree': 0.678980906819712, 'eta': 0.18149426870886082, 'gamma': 0.19456681781786822, 'max_depth': 1, 'min_child_weight': 5.0, 'subsample': 0.7188943003176337}\n",
      "[0]\ttrain-rmse:0.492942+0.00121708\ttest-rmse:0.497761+0.000606116\n"
     ]
    },
    {
     "data": {
      "text/plain": [
       "<xgboost.core.Booster at 0x1c255f4210>"
      ]
     },
     "execution_count": 14,
     "metadata": {},
     "output_type": "execute_result"
    },
    {
     "data": {
      "text/html": [
       "<div>\n",
       "<style scoped>\n",
       "    .dataframe tbody tr th:only-of-type {\n",
       "        vertical-align: middle;\n",
       "    }\n",
       "\n",
       "    .dataframe tbody tr th {\n",
       "        vertical-align: top;\n",
       "    }\n",
       "\n",
       "    .dataframe thead th {\n",
       "        text-align: right;\n",
       "    }\n",
       "</style>\n",
       "<table border=\"1\" class=\"dataframe\">\n",
       "  <thead>\n",
       "    <tr style=\"text-align: right;\">\n",
       "      <th></th>\n",
       "      <th>param</th>\n",
       "      <th>value</th>\n",
       "    </tr>\n",
       "  </thead>\n",
       "  <tbody>\n",
       "    <tr>\n",
       "      <th>0</th>\n",
       "      <td>colsample_bytree</td>\n",
       "      <td>0.678981</td>\n",
       "    </tr>\n",
       "    <tr>\n",
       "      <th>1</th>\n",
       "      <td>eta</td>\n",
       "      <td>0.181494</td>\n",
       "    </tr>\n",
       "    <tr>\n",
       "      <th>2</th>\n",
       "      <td>gamma</td>\n",
       "      <td>0.194567</td>\n",
       "    </tr>\n",
       "    <tr>\n",
       "      <th>3</th>\n",
       "      <td>max_depth</td>\n",
       "      <td>1.000000</td>\n",
       "    </tr>\n",
       "    <tr>\n",
       "      <th>4</th>\n",
       "      <td>min_child_weight</td>\n",
       "      <td>5.000000</td>\n",
       "    </tr>\n",
       "  </tbody>\n",
       "</table>\n",
       "</div>"
      ],
      "text/plain": [
       "              param     value\n",
       "0  colsample_bytree  0.678981\n",
       "1               eta  0.181494\n",
       "2             gamma  0.194567\n",
       "3         max_depth  1.000000\n",
       "4  min_child_weight  5.000000"
      ]
     },
     "execution_count": 14,
     "metadata": {},
     "output_type": "execute_result"
    },
    {
     "data": {
      "text/html": [
       "<div>\n",
       "<style scoped>\n",
       "    .dataframe tbody tr th:only-of-type {\n",
       "        vertical-align: middle;\n",
       "    }\n",
       "\n",
       "    .dataframe tbody tr th {\n",
       "        vertical-align: top;\n",
       "    }\n",
       "\n",
       "    .dataframe thead th {\n",
       "        text-align: right;\n",
       "    }\n",
       "</style>\n",
       "<table border=\"1\" class=\"dataframe\">\n",
       "  <thead>\n",
       "    <tr style=\"text-align: right;\">\n",
       "      <th></th>\n",
       "      <th>varName</th>\n",
       "      <th>importance</th>\n",
       "    </tr>\n",
       "  </thead>\n",
       "  <tbody>\n",
       "    <tr>\n",
       "      <th>0</th>\n",
       "      <td>screen_(1280, 720)</td>\n",
       "      <td>0</td>\n",
       "    </tr>\n",
       "    <tr>\n",
       "      <th>1</th>\n",
       "      <td>education_degree_3</td>\n",
       "      <td>0</td>\n",
       "    </tr>\n",
       "    <tr>\n",
       "      <th>2</th>\n",
       "      <td>gender_M</td>\n",
       "      <td>0</td>\n",
       "    </tr>\n",
       "    <tr>\n",
       "      <th>3</th>\n",
       "      <td>total_memory_size</td>\n",
       "      <td>1</td>\n",
       "    </tr>\n",
       "    <tr>\n",
       "      <th>4</th>\n",
       "      <td>rate_len_is11</td>\n",
       "      <td>1</td>\n",
       "    </tr>\n",
       "  </tbody>\n",
       "</table>\n",
       "</div>"
      ],
      "text/plain": [
       "              varName  importance\n",
       "0  screen_(1280, 720)           0\n",
       "1  education_degree_3           0\n",
       "2            gender_M           0\n",
       "3   total_memory_size           1\n",
       "4       rate_len_is11           1"
      ]
     },
     "execution_count": 14,
     "metadata": {},
     "output_type": "execute_result"
    },
    {
     "data": {
      "text/plain": [
       "0.4461156"
      ]
     },
     "execution_count": 14,
     "metadata": {},
     "output_type": "execute_result"
    },
    {
     "data": {
      "text/plain": [
       "' 调参3:XGB Grid Search(local) '"
      ]
     },
     "execution_count": 14,
     "metadata": {},
     "output_type": "execute_result"
    },
    {
     "data": {
      "text/plain": [
       "GridSearchCV(cv=5, error_score='raise-deprecating',\n",
       "             estimator=XGBClassifier(base_score=0.5, booster='gbtree',\n",
       "                                     colsample_bylevel=1, colsample_bynode=1,\n",
       "                                     colsample_bytree=0.8, gamma=0,\n",
       "                                     learning_rate=0.1, max_delta_step=0,\n",
       "                                     max_depth=3, min_child_weight=1,\n",
       "                                     missing=None, n_estimators=100, n_jobs=1,\n",
       "                                     nthread=4, objective='binary:logistic',\n",
       "                                     random_state=0, reg_alpha=0, reg_lambda=1,\n",
       "                                     scale_pos_weight=1, seed=27, silent=None,\n",
       "                                     subsample=0.8, verbosity=1),\n",
       "             iid=False, n_jobs=4, param_grid={'max_depth': range(1, 7, 2)},\n",
       "             pre_dispatch='2*n_jobs', refit=True, return_train_score=False,\n",
       "             scoring='roc_auc', verbose=0)"
      ]
     },
     "execution_count": 14,
     "metadata": {},
     "output_type": "execute_result"
    },
    {
     "data": {
      "text/plain": [
       "5"
      ]
     },
     "execution_count": 14,
     "metadata": {},
     "output_type": "execute_result"
    },
    {
     "data": {
      "text/plain": [
       "GridSearchCV(cv=5, error_score='raise-deprecating',\n",
       "             estimator=XGBClassifier(base_score=0.5, booster='gbtree',\n",
       "                                     colsample_bylevel=1, colsample_bynode=1,\n",
       "                                     colsample_bytree=0.8, gamma=0,\n",
       "                                     learning_rate=0.1, max_delta_step=0,\n",
       "                                     max_depth=4, min_child_weight=1,\n",
       "                                     missing=None, n_estimators=100, n_jobs=1,\n",
       "                                     nthread=4, objective='binary:logistic',\n",
       "                                     random_state=0, reg_alpha=0, reg_lambda=1,\n",
       "                                     scale_pos_weight=1, seed=27, silent=None,\n",
       "                                     subsample=0.8, verbosity=1),\n",
       "             iid=False, n_jobs=4,\n",
       "             param_grid={'min_child_weight': range(1, 6, 2)},\n",
       "             pre_dispatch='2*n_jobs', refit=True, return_train_score=False,\n",
       "             scoring='roc_auc', verbose=0)"
      ]
     },
     "execution_count": 14,
     "metadata": {},
     "output_type": "execute_result"
    },
    {
     "data": {
      "text/plain": [
       "1"
      ]
     },
     "execution_count": 14,
     "metadata": {},
     "output_type": "execute_result"
    },
    {
     "data": {
      "text/plain": [
       "GridSearchCV(cv=5, error_score='raise-deprecating',\n",
       "             estimator=XGBClassifier(base_score=0.5, booster='gbtree',\n",
       "                                     colsample_bylevel=1, colsample_bynode=1,\n",
       "                                     colsample_bytree=0.8, gamma=0,\n",
       "                                     learning_rate=0.1, max_delta_step=0,\n",
       "                                     max_depth=5, min_child_weight=1,\n",
       "                                     missing=None, n_estimators=100, n_jobs=1,\n",
       "                                     nthread=4, objective='binary:logistic',\n",
       "                                     random_state=0, reg_alpha=0, reg_lambda=1,\n",
       "                                     scale_pos_weight=1, seed=27, silent=None,\n",
       "                                     subsample=0.8, verbosity=1),\n",
       "             iid=False, n_jobs=4,\n",
       "             param_grid={'gamma': [0.0, 0.1, 0.2, 0.3, 0.4]},\n",
       "             pre_dispatch='2*n_jobs', refit=True, return_train_score=False,\n",
       "             scoring='roc_auc', verbose=0)"
      ]
     },
     "execution_count": 14,
     "metadata": {},
     "output_type": "execute_result"
    },
    {
     "data": {
      "text/plain": [
       "0.3"
      ]
     },
     "execution_count": 14,
     "metadata": {},
     "output_type": "execute_result"
    },
    {
     "data": {
      "text/plain": [
       "GridSearchCV(cv=5, error_score='raise-deprecating',\n",
       "             estimator=XGBClassifier(base_score=0.5, booster='gbtree',\n",
       "                                     colsample_bylevel=1, colsample_bynode=1,\n",
       "                                     colsample_bytree=1, gamma=0.3,\n",
       "                                     learning_rate=0.1, max_delta_step=0,\n",
       "                                     max_depth=5, min_child_weight=1,\n",
       "                                     missing=None, n_estimators=100, n_jobs=1,\n",
       "                                     nthread=4, objective='binary:logistic',\n",
       "                                     random_state=0, reg_alpha=0, reg_lambda=1,\n",
       "                                     scale_pos_weight=1, seed=27, silent=None,\n",
       "                                     subsample=1, verbosity=1),\n",
       "             iid=False, n_jobs=4, param_grid={'subsample': [0.5, 0.6, 0.7]},\n",
       "             pre_dispatch='2*n_jobs', refit=True, return_train_score=False,\n",
       "             scoring='roc_auc', verbose=0)"
      ]
     },
     "execution_count": 14,
     "metadata": {},
     "output_type": "execute_result"
    },
    {
     "data": {
      "text/plain": [
       "0.7"
      ]
     },
     "execution_count": 14,
     "metadata": {},
     "output_type": "execute_result"
    },
    {
     "data": {
      "text/plain": [
       "GridSearchCV(cv=5, error_score='raise-deprecating',\n",
       "             estimator=XGBClassifier(base_score=0.5, booster='gbtree',\n",
       "                                     colsample_bylevel=1, colsample_bynode=1,\n",
       "                                     colsample_bytree=1, gamma=0.3,\n",
       "                                     learning_rate=0.1, max_delta_step=0,\n",
       "                                     max_depth=5, min_child_weight=1,\n",
       "                                     missing=None, n_estimators=100, n_jobs=1,\n",
       "                                     nthread=4, objective='binary:logistic',\n",
       "                                     random_state=0, reg_alpha=0, reg_lambda=1,\n",
       "                                     scale_pos_weight=1, seed=27, silent=None,\n",
       "                                     subsample=1, verbosity=1),\n",
       "             iid=False, n_jobs=4,\n",
       "             param_grid={'colsample_bytree': [0.6, 0.7, 0.8, 0.9]},\n",
       "             pre_dispatch='2*n_jobs', refit=True, return_train_score=False,\n",
       "             scoring='roc_auc', verbose=0)"
      ]
     },
     "execution_count": 14,
     "metadata": {},
     "output_type": "execute_result"
    },
    {
     "data": {
      "text/plain": [
       "0.7"
      ]
     },
     "execution_count": 14,
     "metadata": {},
     "output_type": "execute_result"
    },
    {
     "data": {
      "text/plain": [
       "GridSearchCV(cv=5, error_score='raise-deprecating',\n",
       "             estimator=XGBClassifier(base_score=0.5, booster='gbtree',\n",
       "                                     colsample_bylevel=1, colsample_bynode=1,\n",
       "                                     colsample_bytree=0.7, gamma=0.3,\n",
       "                                     learning_rate=0.1, max_delta_step=0,\n",
       "                                     max_depth=5, min_child_weight=1,\n",
       "                                     missing=None, n_estimators=100, n_jobs=1,\n",
       "                                     nthread=4, objective='binary:logistic',\n",
       "                                     random_state=0, reg_alpha=0, reg_lambda=1,\n",
       "                                     scale_pos_weight=1, seed=27, silent=None,\n",
       "                                     subsample=0.7, verbosity=1),\n",
       "             iid=False, n_jobs=4,\n",
       "             param_grid={'reg_alpha': [0.1, 1, 10, 50, 100]},\n",
       "             pre_dispatch='2*n_jobs', refit=True, return_train_score=False,\n",
       "             scoring='roc_auc', verbose=0)"
      ]
     },
     "execution_count": 14,
     "metadata": {},
     "output_type": "execute_result"
    },
    {
     "data": {
      "text/plain": [
       "0.1"
      ]
     },
     "execution_count": 14,
     "metadata": {},
     "output_type": "execute_result"
    },
    {
     "data": {
      "text/plain": [
       "GridSearchCV(cv=5, error_score='raise-deprecating',\n",
       "             estimator=XGBClassifier(base_score=0.5, booster='gbtree',\n",
       "                                     colsample_bylevel=1, colsample_bynode=1,\n",
       "                                     colsample_bytree=0.7, gamma=0.3,\n",
       "                                     learning_rate=0.1, max_delta_step=0,\n",
       "                                     max_depth=5, min_child_weight=1,\n",
       "                                     missing=None, n_estimators=100, n_jobs=1,\n",
       "                                     nthread=4, objective='binary:logistic',\n",
       "                                     random_state=0, reg_alpha=0.1,\n",
       "                                     reg_lambda=1, scale_pos_weight=1, seed=27,\n",
       "                                     silent=None, subsample=0.7, verbosity=1),\n",
       "             iid=False, n_jobs=4,\n",
       "             param_grid={'n_estimators': range(50, 500, 50)},\n",
       "             pre_dispatch='2*n_jobs', refit=True, return_train_score=False,\n",
       "             scoring='roc_auc', verbose=0)"
      ]
     },
     "execution_count": 14,
     "metadata": {},
     "output_type": "execute_result"
    },
    {
     "data": {
      "text/plain": [
       "300"
      ]
     },
     "execution_count": 14,
     "metadata": {},
     "output_type": "execute_result"
    },
    {
     "data": {
      "text/plain": [
       "GridSearchCV(cv=5, error_score='raise-deprecating',\n",
       "             estimator=XGBClassifier(base_score=0.5, booster='gbtree',\n",
       "                                     colsample_bylevel=1, colsample_bynode=1,\n",
       "                                     colsample_bytree=0.7, gamma=0.3,\n",
       "                                     learning_rate=0.1, max_delta_step=0,\n",
       "                                     max_depth=5, min_child_weight=1,\n",
       "                                     missing=None, n_estimators=300, n_jobs=1,\n",
       "                                     nthread=4, objective='binary:logistic',\n",
       "                                     random_state=0, reg_alpha=0.1,\n",
       "                                     reg_lambda=1, scale_pos_weight=1, seed=27,\n",
       "                                     silent=None, subsample=0.7, verbosity=1),\n",
       "             iid=False, n_jobs=4,\n",
       "             param_grid={'learning_rate': [0.01, 0.1, 0.2, 0.3]},\n",
       "             pre_dispatch='2*n_jobs', refit=True, return_train_score=False,\n",
       "             scoring='roc_auc', verbose=0)"
      ]
     },
     "execution_count": 14,
     "metadata": {},
     "output_type": "execute_result"
    },
    {
     "data": {
      "text/plain": [
       "0.1"
      ]
     },
     "execution_count": 14,
     "metadata": {},
     "output_type": "execute_result"
    },
    {
     "data": {
      "text/plain": [
       "XGBClassifier(base_score=0.5, booster='gbtree', colsample_bylevel=1,\n",
       "              colsample_bynode=1, colsample_bytree=0.7, eval_metric='auc',\n",
       "              gamma=0.3, learning_rate=0.1, max_delta_step=0, max_depth=5,\n",
       "              min_child_weight=1, missing=None, n_estimators=300, n_jobs=1,\n",
       "              nthread=4, objective='binary:logistic', random_state=0,\n",
       "              reg_alpha=0.1, reg_lambda=1, scale_pos_weight=1, seed=27,\n",
       "              silent=None, subsample=0.7, verbosity=1)"
      ]
     },
     "execution_count": 14,
     "metadata": {},
     "output_type": "execute_result"
    },
    {
     "name": "stdout",
     "output_type": "stream",
     "text": [
      "success\n"
     ]
    }
   ],
   "source": [
    "\"\"\"调参1:XGB GridSearch\"\"\"\n",
    "import xgboost_model as xm\n",
    "from hyperopt import hp\n",
    "from hyperopt import fmin, tpe, hp, STATUS_OK, Trials\n",
    "import xgboost as xgb\n",
    "\n",
    "param = {\n",
    "        'eta': [0.01,0.05,0.1],\n",
    "        'max_depth': [1,2,3,4],\n",
    "        'gamma': [0, 0.1, 0.2],\n",
    "        'min_child_weight':[5,10],\n",
    "        'subsample': [0.6,0.7,0.8],\n",
    "        'colsample_bytree': [0.6,0.7,0.8],\n",
    "        'n_estimators': [50,100,150,200,300]\n",
    "        }\n",
    "\n",
    "model, df_params, model_importance = xm.xgboost_randomgridsearch(X_train, y_train, X_test, y_test, NFOLD=5, param=None)\n",
    "model\n",
    "\n",
    "# prediction\n",
    "y_train_pred = model.predict_proba(X_train)[:,1]\n",
    "y_test_pred = model.predict_proba(X_test)[:,1]\n",
    "\n",
    "\n",
    "\"\"\"调参2：XGB hyperopt \"\"\"\n",
    "\n",
    "params = {\n",
    "    'num_boost_round':1000, # 最大迭代次数\n",
    "    'nfold':3, # CV-K折\n",
    "    'early_stopping_rounds':3,\n",
    "    'silent':1, # 是否打印训练过程中间的一些信息到屏幕\n",
    "    'seed':1123,\n",
    "    'max_depth':hp.choice(\"max_depth\", [2,3,4,5]),\n",
    "    'min_child_weight':hp.quniform(\"min_child_weight\", 1, 7, 1),\n",
    "    'gamma':hp.uniform(\"gamma\", 0, 0.4),\n",
    "    'subsample':hp.uniform(\"subsample\", 0.6, 1),\n",
    "    'colsample_bytree':hp.uniform(\"colsample_bytree\", 0.6, 1),\n",
    "    'eta':hp.uniform(\"eta\", 0.05, 0.2)\n",
    "}\n",
    "\n",
    "model, df_params, model_importance = xm.xgb_hyperopt(X_train, y_train, param = None)\n",
    "model\n",
    "df_params.head()\n",
    "model_importance.head()\n",
    "\n",
    "\n",
    "dtrain = xgb.DMatrix(X_train)\n",
    "y_train_pred = model.predict(dtrain)\n",
    "\n",
    "dtest = xgb.DMatrix(X_test)\n",
    "y_test_pred = model.predict(dtest)\n",
    "y_test_pred.min()\n",
    "\n",
    "\"\"\" 调参3:XGB Grid Search(local) \"\"\"\n",
    "params = {\n",
    "    'num_boost_round':1000, # 最大迭代次数\n",
    "    'nfold':3, # CV-K折\n",
    "    'early_stopping_rounds':3,\n",
    "    'silent':1, # 是否打印训练过程中间的一些信息到屏幕\n",
    "    'seed':1123,\n",
    "    'max_depth':hp.choice(\"max_depth\", [2,3,4,5]),\n",
    "    'min_child_weight':hp.quniform(\"min_child_weight\", 1, 7, 1),\n",
    "    'gamma':hp.uniform(\"gamma\", 0, 0.4),\n",
    "    'subsample':hp.uniform(\"subsample\", 0.6, 1),\n",
    "    'colsample_bytree':hp.uniform(\"colsample_bytree\", 0.6, 1),\n",
    "    'eta':hp.uniform(\"eta\", 0.05, 0.2)\n",
    "}\n",
    "\n",
    "param_test1 = {'max_depth':range(1,7,2)}\n",
    "gsearch1 = GridSearchCV(estimator = XGBClassifier(learning_rate =0.1, n_estimators=100, gamma=0, subsample=0.8,\n",
    "                                                  colsample_bytree=0.8, objective= 'binary:logistic',nthread=4,scale_pos_weight=1,seed=27),\n",
    "                        param_grid = param_test1, scoring='roc_auc',n_jobs=4,iid=False,cv=5)\n",
    "                        #param_grid = param_test1, scoring='roc_auc',n_jobs=4,iid=False,cv=5)\n",
    "gsearch1.fit(X_train,y_train)\n",
    "best_max_depth = gsearch1.best_params_['max_depth']\n",
    "best_max_depth\n",
    "\n",
    "param_test10 = {'min_child_weight':range(1,6,2)}\n",
    "#param_test10 = {'min_child_weight':range(1,3)}\n",
    "gsearch10 = GridSearchCV(estimator = XGBClassifier(learning_rate =0.1, n_estimators=100, gamma=0, subsample=0.8,\n",
    "                                                 max_depth =4, colsample_bytree=0.8, objective= 'binary:logistic',nthread=4,scale_pos_weight=1,seed=27),\n",
    "                        param_grid = param_test10, scoring='roc_auc',n_jobs=4,iid=False,cv=5)\n",
    "gsearch10.fit(X_train,y_train)\n",
    "best_min_child_weight = gsearch10.best_params_['min_child_weight']\n",
    "best_min_child_weight\n",
    "#best_min_child_weight = 5\n",
    "\n",
    "param_test2 = {'gamma':[i/10.0 for i in range(0,5)]}\n",
    "#param_test2 = {'gamma':[0,0.05,0.1]}\n",
    "gsearch2 = GridSearchCV(estimator = XGBClassifier(learning_rate =0.1, n_estimators=100, subsample=0.8, colsample_bytree=0.8, max_depth= best_max_depth,\n",
    "                                                  min_child_weight=best_min_child_weight, objective= 'binary:logistic',nthread=4,scale_pos_weight=1,seed=27),\n",
    "                        param_grid = param_test2,scoring='roc_auc',n_jobs=4,iid=False,cv=5)\n",
    "gsearch2.fit(X_train,y_train)\n",
    "best_gamma = gsearch2.best_params_['gamma']\n",
    "best_gamma\n",
    "\n",
    "param_test3 = {'subsample':[i/10.0 for i in range(5,8)]}\n",
    "gsearch3 = GridSearchCV(estimator = XGBClassifier(learning_rate =0.1, n_estimators=100, max_depth= best_max_depth, gamma=best_gamma,\n",
    "                                                  min_child_weight=best_min_child_weight, objective= 'binary:logistic',nthread=4,scale_pos_weight=1,seed=27),\n",
    "                        param_grid = param_test3,scoring='roc_auc',n_jobs=4,iid=False,cv=5)\n",
    "gsearch3.fit(X_train,y_train)\n",
    "best_subsample = gsearch3.best_params_['subsample']\n",
    "best_subsample\n",
    "\n",
    "param_test30 = {'colsample_bytree':[i/10.0 for i in range(6,10)]}\n",
    "gsearch30 = GridSearchCV(estimator = XGBClassifier(learning_rate =0.1, n_estimators=100, max_depth= best_max_depth, gamma=best_gamma,\n",
    "                                                  min_child_weight=best_min_child_weight, objective= 'binary:logistic',nthread=4,scale_pos_weight=1,seed=27),\n",
    "                        param_grid = param_test30,scoring='roc_auc',n_jobs=4,iid=False,cv=5)\n",
    "gsearch30.fit(X_train,y_train)\n",
    "best_colsample_bytree = gsearch30.best_params_['colsample_bytree']\n",
    "best_colsample_bytree\n",
    "\n",
    "param_test4 = {'reg_alpha':[0.1,1,10,50, 100]}\n",
    "gsearch4 = GridSearchCV(estimator = XGBClassifier(learning_rate =0.1, n_estimators=100, max_depth= best_max_depth, gamma=best_gamma,\n",
    "                                                  colsample_bytree = best_colsample_bytree, subsample = best_subsample,\n",
    "                                                  min_child_weight=best_min_child_weight, objective= 'binary:logistic',nthread=4,scale_pos_weight=1,seed=27),\n",
    "                        param_grid = param_test4,scoring='roc_auc',n_jobs=4,iid=False,cv=5)\n",
    "gsearch4.fit(X_train,y_train)\n",
    "best_reg_alpha = gsearch4.best_params_['reg_alpha']\n",
    "best_reg_alpha\n",
    "\n",
    "param_test5 = {'n_estimators':range(50,500,50)}\n",
    "gsearch5 = GridSearchCV(estimator = XGBClassifier(learning_rate =0.1,  max_depth= best_max_depth, gamma=best_gamma,\n",
    "                                                  colsample_bytree = best_colsample_bytree, subsample = best_subsample,reg_alpha=best_reg_alpha,\n",
    "                                                  min_child_weight=best_min_child_weight, objective= 'binary:logistic',nthread=4,scale_pos_weight=1,seed=27),\n",
    "                        param_grid = param_test5,scoring='roc_auc',n_jobs=4,iid=False,cv=5)\n",
    "gsearch5.fit(X_train,y_train)\n",
    "best_n_estimators = gsearch5.best_params_['n_estimators']       #300\n",
    "best_n_estimators\n",
    "\n",
    "param_test6 = {'learning_rate':[0.01,0.1,0.2,0.3]}\n",
    "gsearch6 = GridSearchCV(estimator = XGBClassifier(max_depth= best_max_depth, gamma=best_gamma, n_estimators = best_n_estimators,\n",
    "                                                  colsample_bytree = best_colsample_bytree, subsample = best_subsample,reg_alpha=best_reg_alpha,\n",
    "                                                  min_child_weight=best_min_child_weight, objective= 'binary:logistic',nthread=4,scale_pos_weight=1,seed=27),\n",
    "                        param_grid = param_test6,scoring='roc_auc',n_jobs=4,iid=False,cv=5)\n",
    "gsearch6.fit(X_train,y_train)\n",
    "best_learning_rate = gsearch6.best_params_['learning_rate']\n",
    "best_learning_rate\n",
    "\n",
    "\n",
    "#用获取得到的最优参数再次训练模型\n",
    "best_xgb = XGBClassifier(learning_rate =best_learning_rate, n_estimators=best_n_estimators, max_depth= best_max_depth, gamma=best_gamma,\n",
    "                         colsample_bytree = best_colsample_bytree, subsample = best_subsample, reg_alpha=best_reg_alpha,\n",
    "                         min_child_weight=best_min_child_weight,\n",
    "                         objective= 'binary:logistic',nthread=4,scale_pos_weight=1\n",
    "                         ,eval_metric='auc', seed=27)\n",
    "best_xgb.fit(X_train,y_train)\n",
    "print('success')"
   ]
  },
  {
   "cell_type": "markdown",
   "metadata": {},
   "source": [
    "# 结果"
   ]
  },
  {
   "cell_type": "code",
   "execution_count": 43,
   "metadata": {},
   "outputs": [
    {
     "data": {
      "text/html": [
       "<div>\n",
       "<style scoped>\n",
       "    .dataframe tbody tr th:only-of-type {\n",
       "        vertical-align: middle;\n",
       "    }\n",
       "\n",
       "    .dataframe tbody tr th {\n",
       "        vertical-align: top;\n",
       "    }\n",
       "\n",
       "    .dataframe thead th {\n",
       "        text-align: right;\n",
       "    }\n",
       "</style>\n",
       "<table border=\"1\" class=\"dataframe\">\n",
       "  <thead>\n",
       "    <tr style=\"text-align: right;\">\n",
       "      <th></th>\n",
       "      <th>param</th>\n",
       "      <th>value</th>\n",
       "    </tr>\n",
       "  </thead>\n",
       "  <tbody>\n",
       "    <tr>\n",
       "      <th>0</th>\n",
       "      <td>learning_rate</td>\n",
       "      <td>0.1</td>\n",
       "    </tr>\n",
       "    <tr>\n",
       "      <th>1</th>\n",
       "      <td>n_estimators</td>\n",
       "      <td>300.0</td>\n",
       "    </tr>\n",
       "    <tr>\n",
       "      <th>2</th>\n",
       "      <td>max_depth</td>\n",
       "      <td>5.0</td>\n",
       "    </tr>\n",
       "    <tr>\n",
       "      <th>3</th>\n",
       "      <td>gamma</td>\n",
       "      <td>0.3</td>\n",
       "    </tr>\n",
       "    <tr>\n",
       "      <th>4</th>\n",
       "      <td>colsample_bytree</td>\n",
       "      <td>0.7</td>\n",
       "    </tr>\n",
       "    <tr>\n",
       "      <th>5</th>\n",
       "      <td>subsample</td>\n",
       "      <td>0.7</td>\n",
       "    </tr>\n",
       "    <tr>\n",
       "      <th>6</th>\n",
       "      <td>reg_alpha</td>\n",
       "      <td>0.1</td>\n",
       "    </tr>\n",
       "    <tr>\n",
       "      <th>7</th>\n",
       "      <td>min_child_weight</td>\n",
       "      <td>1.0</td>\n",
       "    </tr>\n",
       "  </tbody>\n",
       "</table>\n",
       "</div>"
      ],
      "text/plain": [
       "              param  value\n",
       "0     learning_rate    0.1\n",
       "1      n_estimators  300.0\n",
       "2         max_depth    5.0\n",
       "3             gamma    0.3\n",
       "4  colsample_bytree    0.7\n",
       "5         subsample    0.7\n",
       "6         reg_alpha    0.1\n",
       "7  min_child_weight    1.0"
      ]
     },
     "execution_count": 43,
     "metadata": {},
     "output_type": "execute_result"
    },
    {
     "data": {
      "text/html": [
       "<div>\n",
       "<style scoped>\n",
       "    .dataframe tbody tr th:only-of-type {\n",
       "        vertical-align: middle;\n",
       "    }\n",
       "\n",
       "    .dataframe tbody tr th {\n",
       "        vertical-align: top;\n",
       "    }\n",
       "\n",
       "    .dataframe thead th {\n",
       "        text-align: right;\n",
       "    }\n",
       "</style>\n",
       "<table border=\"1\" class=\"dataframe\">\n",
       "  <thead>\n",
       "    <tr style=\"text-align: right;\">\n",
       "      <th></th>\n",
       "      <th>varName</th>\n",
       "      <th>importance</th>\n",
       "    </tr>\n",
       "  </thead>\n",
       "  <tbody>\n",
       "    <tr>\n",
       "      <th>0</th>\n",
       "      <td>screen_(1280, 720)</td>\n",
       "      <td>0.029621</td>\n",
       "    </tr>\n",
       "    <tr>\n",
       "      <th>1</th>\n",
       "      <td>education_degree_3</td>\n",
       "      <td>0.063057</td>\n",
       "    </tr>\n",
       "    <tr>\n",
       "      <th>2</th>\n",
       "      <td>gender_M</td>\n",
       "      <td>0.041884</td>\n",
       "    </tr>\n",
       "    <tr>\n",
       "      <th>3</th>\n",
       "      <td>total_memory_size</td>\n",
       "      <td>0.046355</td>\n",
       "    </tr>\n",
       "    <tr>\n",
       "      <th>4</th>\n",
       "      <td>rate_len_is11</td>\n",
       "      <td>0.044392</td>\n",
       "    </tr>\n",
       "  </tbody>\n",
       "</table>\n",
       "</div>"
      ],
      "text/plain": [
       "              varName  importance\n",
       "0  screen_(1280, 720)    0.029621\n",
       "1  education_degree_3    0.063057\n",
       "2            gender_M    0.041884\n",
       "3   total_memory_size    0.046355\n",
       "4       rate_len_is11    0.044392"
      ]
     },
     "execution_count": 43,
     "metadata": {},
     "output_type": "execute_result"
    },
    {
     "name": "stderr",
     "output_type": "stream",
     "text": [
      "/Users/yantingting/anaconda3/envs/modeling/lib/python3.7/site-packages/pandas/core/indexing.py:494: SettingWithCopyWarning: \n",
      "A value is trying to be set on a copy of a slice from a DataFrame.\n",
      "Try using .loc[row_indexer,col_indexer] = value instead\n",
      "\n",
      "See the caveats in the documentation: http://pandas.pydata.org/pandas-docs/stable/user_guide/indexing.html#returning-a-view-versus-a-copy\n",
      "  self.obj[item] = s\n"
     ]
    },
    {
     "name": "stdout",
     "output_type": "stream",
     "text": [
      "auc: 1.00\n",
      "Accuracy: 100.0000%\n",
      "auc: 0.63\n",
      "Accuracy: 59.0000%\n",
      "success\n"
     ]
    }
   ],
   "source": [
    "## df_params\n",
    "param_dict = {\"param\": ['learning_rate', 'n_estimators','max_depth','gamma','colsample_bytree','subsample','reg_alpha','min_child_weight'],\n",
    "\"value\": [best_learning_rate, best_n_estimators, best_max_depth, best_gamma, best_colsample_bytree, best_subsample, best_reg_alpha, best_min_child_weight ]}\n",
    "df_params = pd.DataFrame(param_dict)\n",
    "df_params\n",
    "\n",
    "## model变量重要性\n",
    "best_importance = best_xgb.feature_importances_\n",
    "model_importance = pd.DataFrame(columns=[\"varName\", 'importance'])\n",
    "model_importance['varName'] = feature_used\n",
    "model_importance['importance'] = best_importance\n",
    "model_importance.head()\n",
    "\n",
    "y_train_pred = best_xgb.predict_proba(X_train)[:,1]\n",
    "y_test_pred = best_xgb.predict_proba(X_test)[:,1]\n",
    "\n",
    "\n",
    "# ### 打分&KS\n",
    "train_pred = train_df.copy()\n",
    "train_pred['y_pred'] = y_train_pred\n",
    "\n",
    "test_pred = test_df.copy()\n",
    "test_pred['y_pred'] = y_test_pred\n",
    "\n",
    "\n",
    "data_scored_train, train_proba_ks, train_proba_ks_20, train_score_ks, train_score_ks_20, data_scored_test, test_proba_ks, test_proba_ks_20, test_score_ks, test_score_ks_20 = pf.data_score_KS(train_pred, test_pred, 'y_pred')\n",
    "# data_scored_train, train_proba_ks, train_proba_ks_20, train_score_ks, train_score_ks_20, data_scored_oot, oot_proba_ks, oot_proba_ks_20, oot_score_ks, oot_score_ks_20 = pf.data_score_KS(train_pred, oot_pred, 'y_pred')\n",
    "# AUC ACCURACY\n",
    "def auc_acc_table(df):\n",
    "    from sklearn.metrics import roc_auc_score\n",
    "    y = df.label.values\n",
    "    y_pred = df.y_pred\n",
    "    ## AUC\n",
    "    auc = roc_auc_score(y, y_pred)\n",
    "    print(\"auc: %.2f\" % auc)\n",
    "    ## Accuracy\n",
    "    predictions = [round(value) for value in y_pred]\n",
    "    accuracy = accuracy_score(y, predictions)\n",
    "    print(\"Accuracy: %.4f%%\" % (accuracy * 100.0))\n",
    "\n",
    "    return auc, accuracy\n",
    "\n",
    "\n",
    "auc_train, acc_train = auc_acc_table(train_pred)\n",
    "auc_test, acc_test = auc_acc_table(test_pred)\n",
    "\n",
    "print('success')"
   ]
  },
  {
   "cell_type": "markdown",
   "metadata": {},
   "source": [
    "# PDP"
   ]
  },
  {
   "cell_type": "code",
   "execution_count": 44,
   "metadata": {},
   "outputs": [
    {
     "data": {
      "text/plain": [
       "23"
      ]
     },
     "execution_count": 44,
     "metadata": {},
     "output_type": "execute_result"
    },
    {
     "name": "stdout",
     "output_type": "stream",
     "text": [
      "['education_degree_7', 'social_status', 'education_degree_3', 'Empréstimo Pessoal', 'total_memory_size', 'rate_low_freq_app', 'rate_len_is11', 'high_freq_app', 'cnt_len_is11']\n"
     ]
    },
    {
     "data": {
      "text/plain": [
       "[<Figure size 1152x576 with 9 Axes>]"
      ]
     },
     "execution_count": 44,
     "metadata": {},
     "output_type": "execute_result"
    },
    {
     "name": "stdout",
     "output_type": "stream",
     "text": [
      "['rate_len_isover13', 'cnt_len_isless6', 'gender_M', 'maritial_status_S', 'bank_number_0341', 'bank_number_0001', 'cnt_len_isover13', 'income', 'serasa_score']\n"
     ]
    },
    {
     "data": {
      "text/plain": [
       "[<Figure size 1152x576 with 9 Axes>]"
      ]
     },
     "execution_count": 44,
     "metadata": {},
     "output_type": "execute_result"
    },
    {
     "name": "stdout",
     "output_type": "stream",
     "text": [
      "['cnt_unique_phone', 'app_size', 'state_name_MG', 'email1_gmail', 'screen_(1280, 720)']\n"
     ]
    },
    {
     "data": {
      "text/plain": [
       "[<Figure size 1152x576 with 5 Axes>]"
      ]
     },
     "execution_count": 44,
     "metadata": {},
     "output_type": "execute_result"
    },
    {
     "name": "stdout",
     "output_type": "stream",
     "text": [
      "end\n"
     ]
    },
    {
     "data": {
      "text/plain": [
       "<Figure size 2304x1152 with 0 Axes>"
      ]
     },
     "metadata": {},
     "output_type": "display_data"
    },
    {
     "data": {
      "text/plain": [
       "<Figure size 2304x1152 with 0 Axes>"
      ]
     },
     "metadata": {},
     "output_type": "display_data"
    },
    {
     "data": {
      "text/plain": [
       "<Figure size 2304x1152 with 0 Axes>"
      ]
     },
     "metadata": {},
     "output_type": "display_data"
    }
   ],
   "source": [
    "FIG_PATH = os.path.join(result_path, 'figure', 'PDP')\n",
    "if not os.path.exists(FIG_PATH):\n",
    "    os.makedirs(FIG_PATH)\n",
    "\n",
    "f_imp_list = gr.get_feature_importance(model_importance)\n",
    "select_features = model_importance['varName'].values.tolist()\n",
    "all_pred = pd.concat([X_train, X_test])\n",
    "len(select_features)\n",
    "\n",
    "n = 0\n",
    "while n < len(f_imp_list):\n",
    "    m = n + 9\n",
    "    features_draw = [i for i in f_imp_list[n:m]]\n",
    "    print(features_draw)\n",
    "    pt.pdpCharts9(best_xgb, all_pred, features_draw, select_features, n_bins=10, dfltValue=-1)\n",
    "    path = os.path.join(FIG_PATH, \"pdp_\" + str(n) + \"_\" + str(m) + \".png\")\n",
    "    plt.savefig(path, format='png', dpi=300, bbox_inches = 'tight',pad_inches = 0.1)\n",
    "    plt.close()\n",
    "    n += 9\n",
    "print('end')\n"
   ]
  },
  {
   "cell_type": "markdown",
   "metadata": {},
   "source": [
    "# aaa"
   ]
  },
  {
   "cell_type": "code",
   "execution_count": 50,
   "metadata": {},
   "outputs": [
    {
     "data": {
      "text/plain": [
       "'输出Exccel合集结果'"
      ]
     },
     "execution_count": 50,
     "metadata": {},
     "output_type": "execute_result"
    },
    {
     "data": {
      "text/html": [
       "<div>\n",
       "<style scoped>\n",
       "    .dataframe tbody tr th:only-of-type {\n",
       "        vertical-align: middle;\n",
       "    }\n",
       "\n",
       "    .dataframe tbody tr th {\n",
       "        vertical-align: top;\n",
       "    }\n",
       "\n",
       "    .dataframe thead th {\n",
       "        text-align: right;\n",
       "    }\n",
       "</style>\n",
       "<table border=\"1\" class=\"dataframe\">\n",
       "  <thead>\n",
       "    <tr style=\"text-align: right;\">\n",
       "      <th></th>\n",
       "      <th>order_no</th>\n",
       "      <th>Y</th>\n",
       "      <th>y_pred</th>\n",
       "      <th>score</th>\n",
       "      <th>score_bin</th>\n",
       "      <th>score_bin_20</th>\n",
       "      <th>proba_bin</th>\n",
       "      <th>proba_bin_20</th>\n",
       "      <th>sample_set</th>\n",
       "    </tr>\n",
       "  </thead>\n",
       "  <tbody>\n",
       "    <tr>\n",
       "      <th>0</th>\n",
       "      <td>3808778599</td>\n",
       "      <td>1.0</td>\n",
       "      <td>0.890138</td>\n",
       "      <td>540.0</td>\n",
       "      <td>(532.0, 549.0]</td>\n",
       "      <td>(536.0, 549.0]</td>\n",
       "      <td>(0.85428, 0.912554]</td>\n",
       "      <td>(0.85428, 0.901101]</td>\n",
       "      <td>train</td>\n",
       "    </tr>\n",
       "    <tr>\n",
       "      <th>1</th>\n",
       "      <td>3808862384</td>\n",
       "      <td>1.0</td>\n",
       "      <td>0.902264</td>\n",
       "      <td>536.0</td>\n",
       "      <td>(532.0, 549.0]</td>\n",
       "      <td>(532.0, 536.0]</td>\n",
       "      <td>(0.85428, 0.912554]</td>\n",
       "      <td>(0.901101, 0.912554]</td>\n",
       "      <td>train</td>\n",
       "    </tr>\n",
       "    <tr>\n",
       "      <th>2</th>\n",
       "      <td>3808855137</td>\n",
       "      <td>0.0</td>\n",
       "      <td>0.079421</td>\n",
       "      <td>671.0</td>\n",
       "      <td>(668.0, 681.0]</td>\n",
       "      <td>(668.0, 676.0]</td>\n",
       "      <td>(0.0562439, 0.0865954]</td>\n",
       "      <td>(0.0679144, 0.0865954]</td>\n",
       "      <td>train</td>\n",
       "    </tr>\n",
       "    <tr>\n",
       "      <th>3</th>\n",
       "      <td>3808802707</td>\n",
       "      <td>1.0</td>\n",
       "      <td>0.967885</td>\n",
       "      <td>502.0</td>\n",
       "      <td>(500.0, 511.0]</td>\n",
       "      <td>(500.0, 506.0]</td>\n",
       "      <td>(0.956374, 0.969518]</td>\n",
       "      <td>(0.962696, 0.969518]</td>\n",
       "      <td>train</td>\n",
       "    </tr>\n",
       "    <tr>\n",
       "      <th>4</th>\n",
       "      <td>3808551308</td>\n",
       "      <td>0.0</td>\n",
       "      <td>0.088678</td>\n",
       "      <td>667.0</td>\n",
       "      <td>(658.0, 668.0]</td>\n",
       "      <td>(663.0, 668.0]</td>\n",
       "      <td>(0.0865954, 0.116791]</td>\n",
       "      <td>(0.0865954, 0.101297]</td>\n",
       "      <td>train</td>\n",
       "    </tr>\n",
       "  </tbody>\n",
       "</table>\n",
       "</div>"
      ],
      "text/plain": [
       "     order_no    Y    y_pred  score       score_bin    score_bin_20  \\\n",
       "0  3808778599  1.0  0.890138  540.0  (532.0, 549.0]  (536.0, 549.0]   \n",
       "1  3808862384  1.0  0.902264  536.0  (532.0, 549.0]  (532.0, 536.0]   \n",
       "2  3808855137  0.0  0.079421  671.0  (668.0, 681.0]  (668.0, 676.0]   \n",
       "3  3808802707  1.0  0.967885  502.0  (500.0, 511.0]  (500.0, 506.0]   \n",
       "4  3808551308  0.0  0.088678  667.0  (658.0, 668.0]  (663.0, 668.0]   \n",
       "\n",
       "                proba_bin            proba_bin_20 sample_set  \n",
       "0     (0.85428, 0.912554]     (0.85428, 0.901101]      train  \n",
       "1     (0.85428, 0.912554]    (0.901101, 0.912554]      train  \n",
       "2  (0.0562439, 0.0865954]  (0.0679144, 0.0865954]      train  \n",
       "3    (0.956374, 0.969518]    (0.962696, 0.969518]      train  \n",
       "4   (0.0865954, 0.116791]   (0.0865954, 0.101297]      train  "
      ]
     },
     "execution_count": 50,
     "metadata": {},
     "output_type": "execute_result"
    },
    {
     "ename": "CommandError",
     "evalue": "Command failed:\n\t\tOSERROR: -1743\n\t\tMESSAGE: OS error\n\t\tCOMMAND: app('/System/Library/CoreServices/System Events.app').processes[its.unix_id == 14229].frontmost.set(True)",
     "output_type": "error",
     "traceback": [
      "\u001b[0;31m---------------------------------------------------------------------------\u001b[0m",
      "\u001b[0;31mEventError\u001b[0m                                Traceback (most recent call last)",
      "\u001b[0;32m~/anaconda3/envs/modeling/lib/python3.7/site-packages/aeosa/appscript/reference.py\u001b[0m in \u001b[0;36m__call__\u001b[0;34m(self, *args, **kargs)\u001b[0m\n\u001b[1;32m    459\u001b[0m                 \u001b[0;32mtry\u001b[0m\u001b[0;34m:\u001b[0m\u001b[0;34m\u001b[0m\u001b[0;34m\u001b[0m\u001b[0m\n\u001b[0;32m--> 460\u001b[0;31m                         \u001b[0;32mreturn\u001b[0m \u001b[0mself\u001b[0m\u001b[0;34m.\u001b[0m\u001b[0mAS_appdata\u001b[0m\u001b[0;34m.\u001b[0m\u001b[0mtarget\u001b[0m\u001b[0;34m(\u001b[0m\u001b[0;34m)\u001b[0m\u001b[0;34m.\u001b[0m\u001b[0mevent\u001b[0m\u001b[0;34m(\u001b[0m\u001b[0mself\u001b[0m\u001b[0;34m.\u001b[0m\u001b[0m_code\u001b[0m\u001b[0;34m,\u001b[0m \u001b[0mparams\u001b[0m\u001b[0;34m,\u001b[0m \u001b[0matts\u001b[0m\u001b[0;34m,\u001b[0m \u001b[0mcodecs\u001b[0m\u001b[0;34m=\u001b[0m\u001b[0mself\u001b[0m\u001b[0;34m.\u001b[0m\u001b[0mAS_appdata\u001b[0m\u001b[0;34m)\u001b[0m\u001b[0;34m.\u001b[0m\u001b[0msend\u001b[0m\u001b[0;34m(\u001b[0m\u001b[0mtimeout\u001b[0m\u001b[0;34m,\u001b[0m \u001b[0msendflags\u001b[0m\u001b[0;34m)\u001b[0m\u001b[0;34m\u001b[0m\u001b[0;34m\u001b[0m\u001b[0m\n\u001b[0m\u001b[1;32m    461\u001b[0m                 \u001b[0;32mexcept\u001b[0m \u001b[0maem\u001b[0m\u001b[0;34m.\u001b[0m\u001b[0mEventError\u001b[0m \u001b[0;32mas\u001b[0m \u001b[0me\u001b[0m\u001b[0;34m:\u001b[0m\u001b[0;34m\u001b[0m\u001b[0;34m\u001b[0m\u001b[0m\n",
      "\u001b[0;32m~/anaconda3/envs/modeling/lib/python3.7/site-packages/aeosa/aem/aemsend.py\u001b[0m in \u001b[0;36msend\u001b[0;34m(self, timeout, flags)\u001b[0m\n\u001b[1;32m     91\u001b[0m                                                         \u001b[0merrormsg\u001b[0m \u001b[0;34m=\u001b[0m \u001b[0m_defaultcodecs\u001b[0m\u001b[0;34m.\u001b[0m\u001b[0munpack\u001b[0m\u001b[0;34m(\u001b[0m\u001b[0merrormsg\u001b[0m\u001b[0;34m)\u001b[0m\u001b[0;34m\u001b[0m\u001b[0;34m\u001b[0m\u001b[0m\n\u001b[0;32m---> 92\u001b[0;31m                                                 \u001b[0;32mraise\u001b[0m \u001b[0mEventError\u001b[0m\u001b[0;34m(\u001b[0m\u001b[0merrornum\u001b[0m\u001b[0;34m,\u001b[0m \u001b[0merrormsg\u001b[0m\u001b[0;34m,\u001b[0m \u001b[0meventresult\u001b[0m\u001b[0;34m)\u001b[0m\u001b[0;34m\u001b[0m\u001b[0;34m\u001b[0m\u001b[0m\n\u001b[0m\u001b[1;32m     93\u001b[0m                                 \u001b[0;32mif\u001b[0m \u001b[0mkae\u001b[0m\u001b[0;34m.\u001b[0m\u001b[0mkeyAEResult\u001b[0m \u001b[0;32min\u001b[0m \u001b[0meventresult\u001b[0m\u001b[0;34m:\u001b[0m \u001b[0;31m# application has returned a value\u001b[0m\u001b[0;34m\u001b[0m\u001b[0;34m\u001b[0m\u001b[0m\n",
      "\u001b[0;31mEventError\u001b[0m: Command failed: OS error (-1743)",
      "\nThe above exception was the direct cause of the following exception:\n",
      "\u001b[0;31mCommandError\u001b[0m                              Traceback (most recent call last)",
      "\u001b[0;32m<ipython-input-50-cf2a36e253c7>\u001b[0m in \u001b[0;36m<module>\u001b[0;34m\u001b[0m\n\u001b[1;32m     58\u001b[0m \u001b[0mFILE_NAME\u001b[0m \u001b[0;34m=\u001b[0m \u001b[0;34m\"grid_%d_%s\"\u001b[0m\u001b[0;34m%\u001b[0m\u001b[0;34m(\u001b[0m\u001b[0mlen\u001b[0m\u001b[0;34m(\u001b[0m\u001b[0mfeature_used\u001b[0m\u001b[0;34m)\u001b[0m\u001b[0;34m,\u001b[0m \u001b[0mdatetime\u001b[0m\u001b[0;34m.\u001b[0m\u001b[0mnow\u001b[0m\u001b[0;34m(\u001b[0m\u001b[0;34m)\u001b[0m\u001b[0;34m.\u001b[0m\u001b[0mstrftime\u001b[0m\u001b[0;34m(\u001b[0m\u001b[0;34m'%y%m%d-%H'\u001b[0m\u001b[0;34m)\u001b[0m\u001b[0;34m)\u001b[0m\u001b[0;34m\u001b[0m\u001b[0;34m\u001b[0m\u001b[0m\n\u001b[1;32m     59\u001b[0m \u001b[0mbest_xgb\u001b[0m\u001b[0;34m.\u001b[0m\u001b[0msave_model\u001b[0m\u001b[0;34m(\u001b[0m\u001b[0mos\u001b[0m\u001b[0;34m.\u001b[0m\u001b[0mpath\u001b[0m\u001b[0;34m.\u001b[0m\u001b[0mjoin\u001b[0m\u001b[0;34m(\u001b[0m\u001b[0mresult_path\u001b[0m\u001b[0;34m,\u001b[0m \u001b[0mFILE_NAME\u001b[0m\u001b[0;34m+\u001b[0m\u001b[0;34m'.model'\u001b[0m\u001b[0;34m)\u001b[0m\u001b[0;34m)\u001b[0m\u001b[0;34m\u001b[0m\u001b[0;34m\u001b[0m\u001b[0m\n\u001b[0;32m---> 60\u001b[0;31m \u001b[0mfl\u001b[0m\u001b[0;34m.\u001b[0m\u001b[0mModelSummary2Excel\u001b[0m\u001b[0;34m(\u001b[0m\u001b[0mresult_path\u001b[0m \u001b[0;34m=\u001b[0m \u001b[0mresult_path\u001b[0m\u001b[0;34m,\u001b[0m \u001b[0mfig_path\u001b[0m\u001b[0;34m=\u001b[0m \u001b[0mresult_path\u001b[0m\u001b[0;34m,\u001b[0m \u001b[0mfile_name\u001b[0m \u001b[0;34m=\u001b[0m \u001b[0mFILE_NAME\u001b[0m \u001b[0;34m+\u001b[0m\u001b[0;34m\".xlsx\"\u001b[0m\u001b[0;34m,\u001b[0m \u001b[0mdata_dic\u001b[0m \u001b[0;34m=\u001b[0m \u001b[0mxgb_dict\u001b[0m\u001b[0;34m)\u001b[0m\u001b[0;34m.\u001b[0m\u001b[0mrun\u001b[0m\u001b[0;34m(\u001b[0m\u001b[0;34m)\u001b[0m\u001b[0;34m\u001b[0m\u001b[0;34m\u001b[0m\u001b[0m\n\u001b[0m\u001b[1;32m     61\u001b[0m \u001b[0mdata_scored_all\u001b[0m\u001b[0;34m.\u001b[0m\u001b[0morder_no\u001b[0m \u001b[0;34m=\u001b[0m \u001b[0mdata_scored_all\u001b[0m\u001b[0;34m.\u001b[0m\u001b[0morder_no\u001b[0m\u001b[0;34m.\u001b[0m\u001b[0mastype\u001b[0m\u001b[0;34m(\u001b[0m\u001b[0mstr\u001b[0m\u001b[0;34m)\u001b[0m\u001b[0;34m\u001b[0m\u001b[0;34m\u001b[0m\u001b[0m\n\u001b[1;32m     62\u001b[0m \u001b[0mdata_scored_all\u001b[0m\u001b[0;34m.\u001b[0m\u001b[0mto_excel\u001b[0m\u001b[0;34m(\u001b[0m\u001b[0mos\u001b[0m\u001b[0;34m.\u001b[0m\u001b[0mpath\u001b[0m\u001b[0;34m.\u001b[0m\u001b[0mjoin\u001b[0m\u001b[0;34m(\u001b[0m\u001b[0mresult_path\u001b[0m\u001b[0;34m,\u001b[0m \u001b[0mFILE_NAME\u001b[0m \u001b[0;34m+\u001b[0m \u001b[0;34m'score'\u001b[0m \u001b[0;34m+\u001b[0m \u001b[0;34m'.xlsx'\u001b[0m\u001b[0;34m)\u001b[0m\u001b[0;34m)\u001b[0m\u001b[0;34m\u001b[0m\u001b[0;34m\u001b[0m\u001b[0m\n",
      "\u001b[0;32m~/PycharmProjects/modeling/filing.py\u001b[0m in \u001b[0;36m__init__\u001b[0;34m(self, result_path, fig_path, file_name, data_dic)\u001b[0m\n\u001b[1;32m     20\u001b[0m     '''\n\u001b[1;32m     21\u001b[0m     \u001b[0;32mdef\u001b[0m \u001b[0m__init__\u001b[0m\u001b[0;34m(\u001b[0m\u001b[0mself\u001b[0m\u001b[0;34m,\u001b[0m \u001b[0mresult_path\u001b[0m\u001b[0;34m,\u001b[0m \u001b[0mfig_path\u001b[0m\u001b[0;34m,\u001b[0m \u001b[0mfile_name\u001b[0m\u001b[0;34m,\u001b[0m \u001b[0mdata_dic\u001b[0m\u001b[0;34m)\u001b[0m\u001b[0;34m:\u001b[0m\u001b[0;34m\u001b[0m\u001b[0;34m\u001b[0m\u001b[0m\n\u001b[0;32m---> 22\u001b[0;31m         \u001b[0mself\u001b[0m\u001b[0;34m.\u001b[0m\u001b[0mapp\u001b[0m \u001b[0;34m=\u001b[0m \u001b[0mxw\u001b[0m\u001b[0;34m.\u001b[0m\u001b[0mApp\u001b[0m\u001b[0;34m(\u001b[0m\u001b[0mvisible\u001b[0m\u001b[0;34m=\u001b[0m\u001b[0;32mFalse\u001b[0m\u001b[0;34m,\u001b[0m\u001b[0madd_book\u001b[0m\u001b[0;34m=\u001b[0m\u001b[0;32mFalse\u001b[0m\u001b[0;34m)\u001b[0m\u001b[0;34m\u001b[0m\u001b[0;34m\u001b[0m\u001b[0m\n\u001b[0m\u001b[1;32m     23\u001b[0m         \u001b[0mself\u001b[0m\u001b[0;34m.\u001b[0m\u001b[0mresult_path\u001b[0m \u001b[0;34m=\u001b[0m \u001b[0mresult_path\u001b[0m\u001b[0;34m\u001b[0m\u001b[0;34m\u001b[0m\u001b[0m\n\u001b[1;32m     24\u001b[0m         \u001b[0mself\u001b[0m\u001b[0;34m.\u001b[0m\u001b[0mfig_path\u001b[0m \u001b[0;34m=\u001b[0m \u001b[0mfig_path\u001b[0m\u001b[0;34m\u001b[0m\u001b[0;34m\u001b[0m\u001b[0m\n",
      "\u001b[0;32m~/anaconda3/envs/modeling/lib/python3.7/site-packages/xlwings/main.py\u001b[0m in \u001b[0;36m__init__\u001b[0;34m(self, visible, spec, add_book, impl)\u001b[0m\n\u001b[1;32m    209\u001b[0m     \u001b[0;32mdef\u001b[0m \u001b[0m__init__\u001b[0m\u001b[0;34m(\u001b[0m\u001b[0mself\u001b[0m\u001b[0;34m,\u001b[0m \u001b[0mvisible\u001b[0m\u001b[0;34m=\u001b[0m\u001b[0;32mNone\u001b[0m\u001b[0;34m,\u001b[0m \u001b[0mspec\u001b[0m\u001b[0;34m=\u001b[0m\u001b[0;32mNone\u001b[0m\u001b[0;34m,\u001b[0m \u001b[0madd_book\u001b[0m\u001b[0;34m=\u001b[0m\u001b[0;32mTrue\u001b[0m\u001b[0;34m,\u001b[0m \u001b[0mimpl\u001b[0m\u001b[0;34m=\u001b[0m\u001b[0;32mNone\u001b[0m\u001b[0;34m)\u001b[0m\u001b[0;34m:\u001b[0m\u001b[0;34m\u001b[0m\u001b[0;34m\u001b[0m\u001b[0m\n\u001b[1;32m    210\u001b[0m         \u001b[0;32mif\u001b[0m \u001b[0mimpl\u001b[0m \u001b[0;32mis\u001b[0m \u001b[0;32mNone\u001b[0m\u001b[0;34m:\u001b[0m\u001b[0;34m\u001b[0m\u001b[0;34m\u001b[0m\u001b[0m\n\u001b[0;32m--> 211\u001b[0;31m             \u001b[0mself\u001b[0m\u001b[0;34m.\u001b[0m\u001b[0mimpl\u001b[0m \u001b[0;34m=\u001b[0m \u001b[0mxlplatform\u001b[0m\u001b[0;34m.\u001b[0m\u001b[0mApp\u001b[0m\u001b[0;34m(\u001b[0m\u001b[0mspec\u001b[0m\u001b[0;34m=\u001b[0m\u001b[0mspec\u001b[0m\u001b[0;34m,\u001b[0m \u001b[0madd_book\u001b[0m\u001b[0;34m=\u001b[0m\u001b[0madd_book\u001b[0m\u001b[0;34m)\u001b[0m\u001b[0;34m\u001b[0m\u001b[0;34m\u001b[0m\u001b[0m\n\u001b[0m\u001b[1;32m    212\u001b[0m             \u001b[0;32mif\u001b[0m \u001b[0mvisible\u001b[0m \u001b[0;32mor\u001b[0m \u001b[0mvisible\u001b[0m \u001b[0;32mis\u001b[0m \u001b[0;32mNone\u001b[0m\u001b[0;34m:\u001b[0m\u001b[0;34m\u001b[0m\u001b[0;34m\u001b[0m\u001b[0m\n\u001b[1;32m    213\u001b[0m                 \u001b[0mself\u001b[0m\u001b[0;34m.\u001b[0m\u001b[0mvisible\u001b[0m \u001b[0;34m=\u001b[0m \u001b[0;32mTrue\u001b[0m\u001b[0;34m\u001b[0m\u001b[0;34m\u001b[0m\u001b[0m\n",
      "\u001b[0;32m~/anaconda3/envs/modeling/lib/python3.7/site-packages/xlwings/_xlmac.py\u001b[0m in \u001b[0;36m__init__\u001b[0;34m(self, spec, add_book, xl)\u001b[0m\n\u001b[1;32m     63\u001b[0m         \u001b[0;32mif\u001b[0m \u001b[0mxl\u001b[0m \u001b[0;32mis\u001b[0m \u001b[0;32mNone\u001b[0m\u001b[0;34m:\u001b[0m\u001b[0;34m\u001b[0m\u001b[0;34m\u001b[0m\u001b[0m\n\u001b[1;32m     64\u001b[0m             \u001b[0mself\u001b[0m\u001b[0;34m.\u001b[0m\u001b[0mxl\u001b[0m \u001b[0;34m=\u001b[0m \u001b[0mappscript\u001b[0m\u001b[0;34m.\u001b[0m\u001b[0mapp\u001b[0m\u001b[0;34m(\u001b[0m\u001b[0mname\u001b[0m\u001b[0;34m=\u001b[0m\u001b[0mspec\u001b[0m \u001b[0;32mor\u001b[0m \u001b[0;34m'Microsoft Excel'\u001b[0m\u001b[0;34m,\u001b[0m \u001b[0mnewinstance\u001b[0m\u001b[0;34m=\u001b[0m\u001b[0;32mTrue\u001b[0m\u001b[0;34m,\u001b[0m \u001b[0mterms\u001b[0m\u001b[0;34m=\u001b[0m\u001b[0mmac_dict\u001b[0m\u001b[0;34m)\u001b[0m\u001b[0;34m\u001b[0m\u001b[0;34m\u001b[0m\u001b[0m\n\u001b[0;32m---> 65\u001b[0;31m             \u001b[0mself\u001b[0m\u001b[0;34m.\u001b[0m\u001b[0mactivate\u001b[0m\u001b[0;34m(\u001b[0m\u001b[0;34m)\u001b[0m  \u001b[0;31m# Makes it behave like on Windows\u001b[0m\u001b[0;34m\u001b[0m\u001b[0;34m\u001b[0m\u001b[0m\n\u001b[0m\u001b[1;32m     66\u001b[0m         \u001b[0;32melif\u001b[0m \u001b[0misinstance\u001b[0m\u001b[0;34m(\u001b[0m\u001b[0mxl\u001b[0m\u001b[0;34m,\u001b[0m \u001b[0mint\u001b[0m\u001b[0;34m)\u001b[0m\u001b[0;34m:\u001b[0m\u001b[0;34m\u001b[0m\u001b[0;34m\u001b[0m\u001b[0m\n\u001b[1;32m     67\u001b[0m             \u001b[0mself\u001b[0m\u001b[0;34m.\u001b[0m\u001b[0mxl\u001b[0m \u001b[0;34m=\u001b[0m \u001b[0mappscript\u001b[0m\u001b[0;34m.\u001b[0m\u001b[0mapp\u001b[0m\u001b[0;34m(\u001b[0m\u001b[0mpid\u001b[0m\u001b[0;34m=\u001b[0m\u001b[0mxl\u001b[0m\u001b[0;34m,\u001b[0m \u001b[0mterms\u001b[0m\u001b[0;34m=\u001b[0m\u001b[0mmac_dict\u001b[0m\u001b[0;34m)\u001b[0m\u001b[0;34m\u001b[0m\u001b[0;34m\u001b[0m\u001b[0m\n",
      "\u001b[0;32m~/anaconda3/envs/modeling/lib/python3.7/site-packages/xlwings/_xlmac.py\u001b[0m in \u001b[0;36mactivate\u001b[0;34m(self, steal_focus)\u001b[0m\n\u001b[1;32m     98\u001b[0m         \u001b[0mpid_frontmost\u001b[0m \u001b[0;34m=\u001b[0m \u001b[0mint\u001b[0m\u001b[0;34m(\u001b[0m\u001b[0mpid_info_frontmost\u001b[0m\u001b[0;34m.\u001b[0m\u001b[0msplit\u001b[0m\u001b[0;34m(\u001b[0m\u001b[0;34m'='\u001b[0m\u001b[0;34m)\u001b[0m\u001b[0;34m[\u001b[0m\u001b[0;36m1\u001b[0m\u001b[0;34m]\u001b[0m\u001b[0;34m)\u001b[0m\u001b[0;34m\u001b[0m\u001b[0;34m\u001b[0m\u001b[0m\n\u001b[1;32m     99\u001b[0m \u001b[0;34m\u001b[0m\u001b[0m\n\u001b[0;32m--> 100\u001b[0;31m         \u001b[0mappscript\u001b[0m\u001b[0;34m.\u001b[0m\u001b[0mapp\u001b[0m\u001b[0;34m(\u001b[0m\u001b[0;34m'System Events'\u001b[0m\u001b[0;34m)\u001b[0m\u001b[0;34m.\u001b[0m\u001b[0mprocesses\u001b[0m\u001b[0;34m[\u001b[0m\u001b[0mits\u001b[0m\u001b[0;34m.\u001b[0m\u001b[0munix_id\u001b[0m \u001b[0;34m==\u001b[0m \u001b[0mself\u001b[0m\u001b[0;34m.\u001b[0m\u001b[0mpid\u001b[0m\u001b[0;34m]\u001b[0m\u001b[0;34m.\u001b[0m\u001b[0mfrontmost\u001b[0m\u001b[0;34m.\u001b[0m\u001b[0mset\u001b[0m\u001b[0;34m(\u001b[0m\u001b[0;32mTrue\u001b[0m\u001b[0;34m)\u001b[0m\u001b[0;34m\u001b[0m\u001b[0;34m\u001b[0m\u001b[0m\n\u001b[0m\u001b[1;32m    101\u001b[0m         \u001b[0;32mif\u001b[0m \u001b[0;32mnot\u001b[0m \u001b[0msteal_focus\u001b[0m\u001b[0;34m:\u001b[0m\u001b[0;34m\u001b[0m\u001b[0;34m\u001b[0m\u001b[0m\n\u001b[1;32m    102\u001b[0m             \u001b[0mappscript\u001b[0m\u001b[0;34m.\u001b[0m\u001b[0mapp\u001b[0m\u001b[0;34m(\u001b[0m\u001b[0;34m'System Events'\u001b[0m\u001b[0;34m)\u001b[0m\u001b[0;34m.\u001b[0m\u001b[0mprocesses\u001b[0m\u001b[0;34m[\u001b[0m\u001b[0mits\u001b[0m\u001b[0;34m.\u001b[0m\u001b[0munix_id\u001b[0m \u001b[0;34m==\u001b[0m \u001b[0mpid_frontmost\u001b[0m\u001b[0;34m]\u001b[0m\u001b[0;34m.\u001b[0m\u001b[0mfrontmost\u001b[0m\u001b[0;34m.\u001b[0m\u001b[0mset\u001b[0m\u001b[0;34m(\u001b[0m\u001b[0;32mTrue\u001b[0m\u001b[0;34m)\u001b[0m\u001b[0;34m\u001b[0m\u001b[0;34m\u001b[0m\u001b[0m\n",
      "\u001b[0;32m~/anaconda3/envs/modeling/lib/python3.7/site-packages/aeosa/appscript/reference.py\u001b[0m in \u001b[0;36m__call__\u001b[0;34m(self, *args, **kargs)\u001b[0m\n\u001b[1;32m    494\u001b[0m                                                 \u001b[0;32mreturn\u001b[0m\u001b[0;34m\u001b[0m\u001b[0;34m\u001b[0m\u001b[0m\n\u001b[1;32m    495\u001b[0m                                         \u001b[0;32mraise\u001b[0m \u001b[0mCommandError\u001b[0m\u001b[0;34m(\u001b[0m\u001b[0mself\u001b[0m\u001b[0;34m,\u001b[0m \u001b[0;34m(\u001b[0m\u001b[0margs\u001b[0m\u001b[0;34m,\u001b[0m \u001b[0mkargs\u001b[0m\u001b[0;34m)\u001b[0m\u001b[0;34m,\u001b[0m \u001b[0me\u001b[0m\u001b[0;34m,\u001b[0m \u001b[0mself\u001b[0m\u001b[0;34m.\u001b[0m\u001b[0mAS_appdata\u001b[0m\u001b[0;34m)\u001b[0m \u001b[0;32mfrom\u001b[0m \u001b[0me\u001b[0m\u001b[0;34m\u001b[0m\u001b[0;34m\u001b[0m\u001b[0m\n\u001b[0;32m--> 496\u001b[0;31m                         \u001b[0;32mraise\u001b[0m \u001b[0mCommandError\u001b[0m\u001b[0;34m(\u001b[0m\u001b[0mself\u001b[0m\u001b[0;34m,\u001b[0m \u001b[0;34m(\u001b[0m\u001b[0margs\u001b[0m\u001b[0;34m,\u001b[0m \u001b[0mkargs\u001b[0m\u001b[0;34m)\u001b[0m\u001b[0;34m,\u001b[0m \u001b[0me\u001b[0m\u001b[0;34m,\u001b[0m \u001b[0mself\u001b[0m\u001b[0;34m.\u001b[0m\u001b[0mAS_appdata\u001b[0m\u001b[0;34m)\u001b[0m \u001b[0;32mfrom\u001b[0m \u001b[0me\u001b[0m\u001b[0;34m\u001b[0m\u001b[0;34m\u001b[0m\u001b[0m\n\u001b[0m\u001b[1;32m    497\u001b[0m \u001b[0;34m\u001b[0m\u001b[0m\n\u001b[1;32m    498\u001b[0m         \u001b[0;32mdef\u001b[0m \u001b[0mAS_formatcommand\u001b[0m\u001b[0;34m(\u001b[0m\u001b[0mself\u001b[0m\u001b[0;34m,\u001b[0m \u001b[0margs\u001b[0m\u001b[0;34m)\u001b[0m\u001b[0;34m:\u001b[0m\u001b[0;34m\u001b[0m\u001b[0;34m\u001b[0m\u001b[0m\n",
      "\u001b[0;31mCommandError\u001b[0m: Command failed:\n\t\tOSERROR: -1743\n\t\tMESSAGE: OS error\n\t\tCOMMAND: app('/System/Library/CoreServices/System Events.app').processes[its.unix_id == 14229].frontmost.set(True)"
     ]
    }
   ],
   "source": [
    "\"\"\"输出Exccel合集结果\"\"\"\n",
    "## 变量分布\n",
    "var_dist_badRate_by_time_all['used_in_model'] = var_dist_badRate_by_time_all.varName.apply(lambda x: x in feature_used)\n",
    "## ranking result\n",
    "ranking_result_all['used_in_model'] = ranking_result_all.指标英文.apply(lambda x: x in feature_used)\n",
    "\n",
    "## AUC + ACCURACY\n",
    "# 若需要首申复申复贷的auc，可调用gerate_report.auc_tabel(df)\n",
    "auc_list = [auc_train, auc_test]\n",
    "acc_list = [acc_train, acc_test]\n",
    "split_list = ['train','test']\n",
    "df_auc_acc = pd.DataFrame({\"sample_set\":split_list,\"auc\":auc_list,\"accuracy\":acc_list})\n",
    "\n",
    "## df_prediction\n",
    "all_pred = pd.concat([train_pred, test_pred])\n",
    "all_pred['loan_id'] = all_pred['loan_id'].astype(str)\n",
    "\n",
    "## data_scored\n",
    "data_scored_train['sample_set'] = \"train\"\n",
    "data_scored_test['sample_set'] = \"test\"\n",
    "data_scored_all = pd.concat([data_scored_train, data_scored_test])\n",
    "data_scored_all['order_no'] = data_scored_all['order_no'].astype(str)\n",
    "data_scored_all.head()\n",
    "\n",
    "# python3.6的dict是ordered，按照顺序这样定义，之后生成excel的时候会按照顺序创建sheet\n",
    "xgb_dict = {}\n",
    "\n",
    "# 如果sheet对应的内容是dict，则dict的key会出现在sheet第一列。value会从第二列开始插入\n",
    "# 如果sheet对应的内容是df，则从sheet的A1位置开始插入整张表格，不包含pd.DataFrame的index\n",
    "xgb_dict['01_AUC&ACC'] = df_auc_acc\n",
    "xgb_dict['02_EDA'] = eda\n",
    "xgb_dict['03_KS'] = {'train_proba_ks':train_proba_ks,\n",
    "                     'test_proba_ks':test_proba_ks,\n",
    "#                      'oot_proba_ks':oot_proba_ks,\n",
    "                     'train_score_ks':train_score_ks,\n",
    "                     'test_score_ks':test_score_ks,\n",
    "#                      'oot_score_ks':oot_score_ks,\n",
    "                     'train_proba_ks_20':train_proba_ks_20,\n",
    "                     'test_proba_ks_20':test_proba_ks_20,\n",
    "#                      'oot_proba_ks_20':oot_proba_ks_20,\n",
    "                     'train_score_ks_20':train_score_ks_20,\n",
    "                     'test_score_ks_20':test_score_ks_20,\n",
    "#                      'oot_score_ks_20':oot_score_ks_20\n",
    "                      }\n",
    "xgb_dict['04_model_importance'] = model_importance.reset_index()\n",
    "xgb_dict['05_model_params'] = df_params\n",
    "xgb_dict['06_ranking_result'] = ranking_result_all\n",
    "xgb_dict['07_data_scored'] = data_scored_all\n",
    "# xgb_dict['08_data_prediction'] = all_pred\n",
    "# xgb_dict['09_woe_iv_train'] = woe_iv_df\n",
    "# xgb_dict['09_woe_ivtest'] = woe_iv_df_test\n",
    "# xgb_dict['09_woe_iv_testnew'] = woe_iv_df_testnew\n",
    "# xgb_dict['10_var_dist_badRate'] = var_dist_badRate_by_time_all\n",
    "\n",
    "from datetime import datetime\n",
    "import filing as fl\n",
    "\n",
    "FILE_NAME = \"grid_%d_%s\"%(len(feature_used), datetime.now().strftime('%y%m%d-%H'))\n",
    "best_xgb.save_model(os.path.join(result_path, FILE_NAME+'.model'))\n",
    "fl.ModelSummary2Excel(result_path = result_path, fig_path= result_path, file_name = FILE_NAME +\".xlsx\", data_dic = xgb_dict).run()\n",
    "data_scored_all.order_no = data_scored_all.order_no.astype(str)\n",
    "data_scored_all.to_excel(os.path.join(result_path, FILE_NAME + 'score' + '.xlsx'))\n",
    "print('success')"
   ]
  },
  {
   "cell_type": "markdown",
   "metadata": {},
   "source": [
    "# Lift Charts"
   ]
  },
  {
   "cell_type": "code",
   "execution_count": 53,
   "metadata": {},
   "outputs": [],
   "source": [
    "??pt.lift_chart_by_time"
   ]
  },
  {
   "cell_type": "code",
   "execution_count": 51,
   "metadata": {},
   "outputs": [
    {
     "name": "stderr",
     "output_type": "stream",
     "text": [
      "/Users/yantingting/PycharmProjects/modeling/plot_tools.py:74: SettingWithCopyWarning: \n",
      "A value is trying to be set on a copy of a slice from a DataFrame.\n",
      "Try using .loc[row_indexer,col_indexer] = value instead\n",
      "\n",
      "See the caveats in the documentation: http://pandas.pydata.org/pandas-docs/stable/user_guide/indexing.html#returning-a-view-versus-a-copy\n",
      "  df['bkl_%s' % y_pred] = pd.qcut(df[y_pred], n_bins, duplicates='drop')\n",
      "/Users/yantingting/PycharmProjects/modeling/plot_tools.py:74: SettingWithCopyWarning: \n",
      "A value is trying to be set on a copy of a slice from a DataFrame.\n",
      "Try using .loc[row_indexer,col_indexer] = value instead\n",
      "\n",
      "See the caveats in the documentation: http://pandas.pydata.org/pandas-docs/stable/user_guide/indexing.html#returning-a-view-versus-a-copy\n",
      "  df['bkl_%s' % y_pred] = pd.qcut(df[y_pred], n_bins, duplicates='drop')\n",
      "/Users/yantingting/PycharmProjects/modeling/plot_tools.py:85: MatplotlibDeprecationWarning: Adding an axes using the same arguments as a previous axes currently reuses the earlier instance.  In a future version, a new instance will always be created and returned.  Meanwhile, this warning can be suppressed, and the future behavior ensured, by passing a unique label to each axes instance.\n",
      "  plt.subplot(1, 2, 1)\n",
      "/Users/yantingting/PycharmProjects/modeling/plot_tools.py:97: MatplotlibDeprecationWarning: Adding an axes using the same arguments as a previous axes currently reuses the earlier instance.  In a future version, a new instance will always be created and returned.  Meanwhile, this warning can be suppressed, and the future behavior ensured, by passing a unique label to each axes instance.\n",
      "  plt.subplot(1, 2, 2)\n"
     ]
    },
    {
     "name": "stdout",
     "output_type": "stream",
     "text": [
      "分箱数量:  10\n",
      "分箱数量:  10\n"
     ]
    },
    {
     "data": {
      "text/plain": [
       "(445, 11)"
      ]
     },
     "execution_count": 51,
     "metadata": {},
     "output_type": "execute_result"
    },
    {
     "name": "stderr",
     "output_type": "stream",
     "text": [
      "/Users/yantingting/PycharmProjects/modeling/plot_tools.py:74: SettingWithCopyWarning: \n",
      "A value is trying to be set on a copy of a slice from a DataFrame.\n",
      "Try using .loc[row_indexer,col_indexer] = value instead\n",
      "\n",
      "See the caveats in the documentation: http://pandas.pydata.org/pandas-docs/stable/user_guide/indexing.html#returning-a-view-versus-a-copy\n",
      "  df['bkl_%s' % y_pred] = pd.qcut(df[y_pred], n_bins, duplicates='drop')\n",
      "/Users/yantingting/PycharmProjects/modeling/plot_tools.py:74: SettingWithCopyWarning: \n",
      "A value is trying to be set on a copy of a slice from a DataFrame.\n",
      "Try using .loc[row_indexer,col_indexer] = value instead\n",
      "\n",
      "See the caveats in the documentation: http://pandas.pydata.org/pandas-docs/stable/user_guide/indexing.html#returning-a-view-versus-a-copy\n",
      "  df['bkl_%s' % y_pred] = pd.qcut(df[y_pred], n_bins, duplicates='drop')\n"
     ]
    },
    {
     "name": "stdout",
     "output_type": "stream",
     "text": [
      "分箱数量:  10\n",
      "分箱数量:  10\n",
      "分箱数量:  10\n"
     ]
    },
    {
     "name": "stderr",
     "output_type": "stream",
     "text": [
      "/Users/yantingting/PycharmProjects/modeling/plot_tools.py:85: MatplotlibDeprecationWarning: Adding an axes using the same arguments as a previous axes currently reuses the earlier instance.  In a future version, a new instance will always be created and returned.  Meanwhile, this warning can be suppressed, and the future behavior ensured, by passing a unique label to each axes instance.\n",
      "  plt.subplot(1, 2, 1)\n",
      "/Users/yantingting/PycharmProjects/modeling/plot_tools.py:97: MatplotlibDeprecationWarning: Adding an axes using the same arguments as a previous axes currently reuses the earlier instance.  In a future version, a new instance will always be created and returned.  Meanwhile, this warning can be suppressed, and the future behavior ensured, by passing a unique label to each axes instance.\n",
      "  plt.subplot(1, 2, 2)\n",
      "/Users/yantingting/PycharmProjects/modeling/plot_tools.py:74: SettingWithCopyWarning: \n",
      "A value is trying to be set on a copy of a slice from a DataFrame.\n",
      "Try using .loc[row_indexer,col_indexer] = value instead\n",
      "\n",
      "See the caveats in the documentation: http://pandas.pydata.org/pandas-docs/stable/user_guide/indexing.html#returning-a-view-versus-a-copy\n",
      "  df['bkl_%s' % y_pred] = pd.qcut(df[y_pred], n_bins, duplicates='drop')\n",
      "/Users/yantingting/PycharmProjects/modeling/plot_tools.py:85: MatplotlibDeprecationWarning: Adding an axes using the same arguments as a previous axes currently reuses the earlier instance.  In a future version, a new instance will always be created and returned.  Meanwhile, this warning can be suppressed, and the future behavior ensured, by passing a unique label to each axes instance.\n",
      "  plt.subplot(1, 2, 1)\n",
      "/Users/yantingting/PycharmProjects/modeling/plot_tools.py:97: MatplotlibDeprecationWarning: Adding an axes using the same arguments as a previous axes currently reuses the earlier instance.  In a future version, a new instance will always be created and returned.  Meanwhile, this warning can be suppressed, and the future behavior ensured, by passing a unique label to each axes instance.\n",
      "  plt.subplot(1, 2, 2)\n",
      "/Users/yantingting/PycharmProjects/modeling/plot_tools.py:74: SettingWithCopyWarning: \n",
      "A value is trying to be set on a copy of a slice from a DataFrame.\n",
      "Try using .loc[row_indexer,col_indexer] = value instead\n",
      "\n",
      "See the caveats in the documentation: http://pandas.pydata.org/pandas-docs/stable/user_guide/indexing.html#returning-a-view-versus-a-copy\n",
      "  df['bkl_%s' % y_pred] = pd.qcut(df[y_pred], n_bins, duplicates='drop')\n",
      "/Users/yantingting/PycharmProjects/modeling/plot_tools.py:85: MatplotlibDeprecationWarning: Adding an axes using the same arguments as a previous axes currently reuses the earlier instance.  In a future version, a new instance will always be created and returned.  Meanwhile, this warning can be suppressed, and the future behavior ensured, by passing a unique label to each axes instance.\n",
      "  plt.subplot(1, 2, 1)\n",
      "/Users/yantingting/PycharmProjects/modeling/plot_tools.py:97: MatplotlibDeprecationWarning: Adding an axes using the same arguments as a previous axes currently reuses the earlier instance.  In a future version, a new instance will always be created and returned.  Meanwhile, this warning can be suppressed, and the future behavior ensured, by passing a unique label to each axes instance.\n",
      "  plt.subplot(1, 2, 2)\n",
      "/Users/yantingting/PycharmProjects/modeling/plot_tools.py:74: SettingWithCopyWarning: \n",
      "A value is trying to be set on a copy of a slice from a DataFrame.\n",
      "Try using .loc[row_indexer,col_indexer] = value instead\n",
      "\n",
      "See the caveats in the documentation: http://pandas.pydata.org/pandas-docs/stable/user_guide/indexing.html#returning-a-view-versus-a-copy\n",
      "  df['bkl_%s' % y_pred] = pd.qcut(df[y_pred], n_bins, duplicates='drop')\n",
      "/Users/yantingting/PycharmProjects/modeling/plot_tools.py:85: MatplotlibDeprecationWarning: Adding an axes using the same arguments as a previous axes currently reuses the earlier instance.  In a future version, a new instance will always be created and returned.  Meanwhile, this warning can be suppressed, and the future behavior ensured, by passing a unique label to each axes instance.\n",
      "  plt.subplot(1, 2, 1)\n",
      "/Users/yantingting/PycharmProjects/modeling/plot_tools.py:97: MatplotlibDeprecationWarning: Adding an axes using the same arguments as a previous axes currently reuses the earlier instance.  In a future version, a new instance will always be created and returned.  Meanwhile, this warning can be suppressed, and the future behavior ensured, by passing a unique label to each axes instance.\n",
      "  plt.subplot(1, 2, 2)\n"
     ]
    },
    {
     "name": "stdout",
     "output_type": "stream",
     "text": [
      "分箱数量:  10\n",
      "分箱数量:  10\n"
     ]
    },
    {
     "name": "stderr",
     "output_type": "stream",
     "text": [
      "/Users/yantingting/PycharmProjects/modeling/plot_tools.py:74: SettingWithCopyWarning: \n",
      "A value is trying to be set on a copy of a slice from a DataFrame.\n",
      "Try using .loc[row_indexer,col_indexer] = value instead\n",
      "\n",
      "See the caveats in the documentation: http://pandas.pydata.org/pandas-docs/stable/user_guide/indexing.html#returning-a-view-versus-a-copy\n",
      "  df['bkl_%s' % y_pred] = pd.qcut(df[y_pred], n_bins, duplicates='drop')\n",
      "/Users/yantingting/PycharmProjects/modeling/plot_tools.py:85: MatplotlibDeprecationWarning: Adding an axes using the same arguments as a previous axes currently reuses the earlier instance.  In a future version, a new instance will always be created and returned.  Meanwhile, this warning can be suppressed, and the future behavior ensured, by passing a unique label to each axes instance.\n",
      "  plt.subplot(1, 2, 1)\n",
      "/Users/yantingting/PycharmProjects/modeling/plot_tools.py:97: MatplotlibDeprecationWarning: Adding an axes using the same arguments as a previous axes currently reuses the earlier instance.  In a future version, a new instance will always be created and returned.  Meanwhile, this warning can be suppressed, and the future behavior ensured, by passing a unique label to each axes instance.\n",
      "  plt.subplot(1, 2, 2)\n",
      "/Users/yantingting/PycharmProjects/modeling/plot_tools.py:74: SettingWithCopyWarning: \n",
      "A value is trying to be set on a copy of a slice from a DataFrame.\n",
      "Try using .loc[row_indexer,col_indexer] = value instead\n",
      "\n",
      "See the caveats in the documentation: http://pandas.pydata.org/pandas-docs/stable/user_guide/indexing.html#returning-a-view-versus-a-copy\n",
      "  df['bkl_%s' % y_pred] = pd.qcut(df[y_pred], n_bins, duplicates='drop')\n",
      "/Users/yantingting/PycharmProjects/modeling/plot_tools.py:85: MatplotlibDeprecationWarning: Adding an axes using the same arguments as a previous axes currently reuses the earlier instance.  In a future version, a new instance will always be created and returned.  Meanwhile, this warning can be suppressed, and the future behavior ensured, by passing a unique label to each axes instance.\n",
      "  plt.subplot(1, 2, 1)\n",
      "/Users/yantingting/PycharmProjects/modeling/plot_tools.py:97: MatplotlibDeprecationWarning: Adding an axes using the same arguments as a previous axes currently reuses the earlier instance.  In a future version, a new instance will always be created and returned.  Meanwhile, this warning can be suppressed, and the future behavior ensured, by passing a unique label to each axes instance.\n",
      "  plt.subplot(1, 2, 2)\n"
     ]
    },
    {
     "name": "stdout",
     "output_type": "stream",
     "text": [
      "分箱数量:  10\n",
      "分箱数量:  10\n",
      "分箱数量:  4\n"
     ]
    },
    {
     "name": "stderr",
     "output_type": "stream",
     "text": [
      "/Users/yantingting/PycharmProjects/modeling/plot_tools.py:74: SettingWithCopyWarning: \n",
      "A value is trying to be set on a copy of a slice from a DataFrame.\n",
      "Try using .loc[row_indexer,col_indexer] = value instead\n",
      "\n",
      "See the caveats in the documentation: http://pandas.pydata.org/pandas-docs/stable/user_guide/indexing.html#returning-a-view-versus-a-copy\n",
      "  df['bkl_%s' % y_pred] = pd.qcut(df[y_pred], n_bins, duplicates='drop')\n",
      "/Users/yantingting/PycharmProjects/modeling/plot_tools.py:85: MatplotlibDeprecationWarning: Adding an axes using the same arguments as a previous axes currently reuses the earlier instance.  In a future version, a new instance will always be created and returned.  Meanwhile, this warning can be suppressed, and the future behavior ensured, by passing a unique label to each axes instance.\n",
      "  plt.subplot(1, 2, 1)\n"
     ]
    },
    {
     "ename": "ValueError",
     "evalue": "Length mismatch: Expected axis has 10 elements, new values have 4 elements",
     "output_type": "error",
     "traceback": [
      "\u001b[0;31m---------------------------------------------------------------------------\u001b[0m",
      "\u001b[0;31mValueError\u001b[0m                                Traceback (most recent call last)",
      "\u001b[0;32m<ipython-input-51-eb0aa2253b61>\u001b[0m in \u001b[0;36m<module>\u001b[0;34m\u001b[0m\n\u001b[1;32m     16\u001b[0m \u001b[0mdata_scored_all1\u001b[0m \u001b[0;34m=\u001b[0m \u001b[0mdata_scored_all\u001b[0m\u001b[0;34m.\u001b[0m\u001b[0mmerge\u001b[0m\u001b[0;34m(\u001b[0m\u001b[0mmerge_data\u001b[0m\u001b[0;34m,\u001b[0m\u001b[0mleft_on\u001b[0m\u001b[0;34m=\u001b[0m\u001b[0;34m'order_no'\u001b[0m\u001b[0;34m,\u001b[0m\u001b[0mright_on\u001b[0m\u001b[0;34m=\u001b[0m\u001b[0;34m'loan_id'\u001b[0m\u001b[0;34m,\u001b[0m\u001b[0mhow\u001b[0m\u001b[0;34m=\u001b[0m\u001b[0;34m'left'\u001b[0m\u001b[0;34m)\u001b[0m\u001b[0;34m\u001b[0m\u001b[0;34m\u001b[0m\u001b[0m\n\u001b[1;32m     17\u001b[0m \u001b[0mdata_scored_all1\u001b[0m\u001b[0;34m.\u001b[0m\u001b[0mshape\u001b[0m\u001b[0;34m\u001b[0m\u001b[0;34m\u001b[0m\u001b[0m\n\u001b[0;32m---> 18\u001b[0;31m \u001b[0mpt\u001b[0m\u001b[0;34m.\u001b[0m\u001b[0mlift_chart_by_time\u001b[0m\u001b[0;34m(\u001b[0m\u001b[0mdata_scored_all1\u001b[0m\u001b[0;34m.\u001b[0m\u001b[0mloc\u001b[0m\u001b[0;34m[\u001b[0m\u001b[0mdata_scored_all1\u001b[0m\u001b[0;34m.\u001b[0m\u001b[0msample_set\u001b[0m\u001b[0;34m.\u001b[0m\u001b[0misin\u001b[0m\u001b[0;34m(\u001b[0m\u001b[0;34m[\u001b[0m\u001b[0;34m'train'\u001b[0m\u001b[0;34m,\u001b[0m\u001b[0;34m'test'\u001b[0m\u001b[0;34m]\u001b[0m\u001b[0;34m)\u001b[0m\u001b[0;34m]\u001b[0m\u001b[0;34m,\u001b[0m\u001b[0;34m'y_pred'\u001b[0m\u001b[0;34m,\u001b[0m\u001b[0;34m'Y'\u001b[0m\u001b[0;34m,\u001b[0m \u001b[0mn_bins\u001b[0m \u001b[0;34m=\u001b[0m \u001b[0;36m10\u001b[0m\u001b[0;34m,\u001b[0m \u001b[0mby\u001b[0m\u001b[0;34m=\u001b[0m\u001b[0;34m\"week\"\u001b[0m\u001b[0;34m)\u001b[0m\u001b[0;34m\u001b[0m\u001b[0;34m\u001b[0m\u001b[0m\n\u001b[0m\u001b[1;32m     19\u001b[0m \u001b[0mpath\u001b[0m \u001b[0;34m=\u001b[0m \u001b[0mos\u001b[0m\u001b[0;34m.\u001b[0m\u001b[0mpath\u001b[0m\u001b[0;34m.\u001b[0m\u001b[0mjoin\u001b[0m\u001b[0;34m(\u001b[0m\u001b[0mFIG_PATH\u001b[0m\u001b[0;34m,\u001b[0m \u001b[0;34m\"LiftChart_\"\u001b[0m \u001b[0;34m+\u001b[0m \u001b[0;34m'by_week'\u001b[0m \u001b[0;34m+\u001b[0m \u001b[0;34m\".png\"\u001b[0m\u001b[0;34m)\u001b[0m\u001b[0;34m\u001b[0m\u001b[0;34m\u001b[0m\u001b[0m\n\u001b[1;32m     20\u001b[0m \u001b[0mplt\u001b[0m\u001b[0;34m.\u001b[0m\u001b[0msavefig\u001b[0m\u001b[0;34m(\u001b[0m\u001b[0mpath\u001b[0m\u001b[0;34m,\u001b[0m \u001b[0mformat\u001b[0m\u001b[0;34m=\u001b[0m\u001b[0;34m'png'\u001b[0m\u001b[0;34m,\u001b[0m \u001b[0mdpi\u001b[0m\u001b[0;34m=\u001b[0m\u001b[0;36m300\u001b[0m\u001b[0;34m,\u001b[0m \u001b[0mbbox_inches\u001b[0m \u001b[0;34m=\u001b[0m \u001b[0;34m'tight'\u001b[0m\u001b[0;34m,\u001b[0m\u001b[0mpad_inches\u001b[0m \u001b[0;34m=\u001b[0m \u001b[0;36m0.1\u001b[0m\u001b[0;34m)\u001b[0m\u001b[0;34m\u001b[0m\u001b[0;34m\u001b[0m\u001b[0m\n",
      "\u001b[0;32m~/PycharmProjects/modeling/plot_tools.py\u001b[0m in \u001b[0;36mlift_chart_by_time\u001b[0;34m(df, var, resp, n_bins, by)\u001b[0m\n\u001b[1;32m    123\u001b[0m         \u001b[0mdf_value\u001b[0m \u001b[0;34m=\u001b[0m \u001b[0mdf\u001b[0m\u001b[0;34m[\u001b[0m\u001b[0;34m(\u001b[0m\u001b[0mdf\u001b[0m\u001b[0;34m[\u001b[0m\u001b[0mby\u001b[0m\u001b[0;34m]\u001b[0m \u001b[0;34m==\u001b[0m \u001b[0mvalue\u001b[0m\u001b[0;34m)\u001b[0m \u001b[0;34m&\u001b[0m \u001b[0;34m(\u001b[0m\u001b[0mdf\u001b[0m\u001b[0;34m[\u001b[0m\u001b[0mvar\u001b[0m\u001b[0;34m]\u001b[0m\u001b[0;34m.\u001b[0m\u001b[0mnotnull\u001b[0m\u001b[0;34m(\u001b[0m\u001b[0;34m)\u001b[0m\u001b[0;34m)\u001b[0m\u001b[0;34m]\u001b[0m\u001b[0;34m\u001b[0m\u001b[0;34m\u001b[0m\u001b[0m\n\u001b[1;32m    124\u001b[0m         \u001b[0;32mif\u001b[0m \u001b[0mdf_value\u001b[0m\u001b[0;34m.\u001b[0m\u001b[0mshape\u001b[0m\u001b[0;34m[\u001b[0m\u001b[0;36m0\u001b[0m\u001b[0;34m]\u001b[0m \u001b[0;34m>\u001b[0m \u001b[0;36m0\u001b[0m \u001b[0;32mand\u001b[0m \u001b[0mdf_value\u001b[0m\u001b[0;34m[\u001b[0m\u001b[0mresp\u001b[0m\u001b[0;34m]\u001b[0m\u001b[0;34m.\u001b[0m\u001b[0mnunique\u001b[0m\u001b[0;34m(\u001b[0m\u001b[0;34m)\u001b[0m \u001b[0;34m==\u001b[0m \u001b[0;36m2\u001b[0m\u001b[0;34m:\u001b[0m\u001b[0;34m\u001b[0m\u001b[0;34m\u001b[0m\u001b[0m\n\u001b[0;32m--> 125\u001b[0;31m             \u001b[0mshow_result_new\u001b[0m\u001b[0;34m(\u001b[0m\u001b[0mdf_value\u001b[0m\u001b[0;34m,\u001b[0m \u001b[0mvar\u001b[0m\u001b[0;34m,\u001b[0m \u001b[0mresp\u001b[0m\u001b[0;34m,\u001b[0m \u001b[0mn_bins\u001b[0m\u001b[0;34m,\u001b[0m \u001b[0mfeature_label\u001b[0m\u001b[0;34m=\u001b[0m\u001b[0mstr\u001b[0m\u001b[0;34m(\u001b[0m\u001b[0mvalue\u001b[0m\u001b[0;34m)\u001b[0m\u001b[0;34m)\u001b[0m\u001b[0;34m\u001b[0m\u001b[0;34m\u001b[0m\u001b[0m\n\u001b[0m\u001b[1;32m    126\u001b[0m \u001b[0;34m\u001b[0m\u001b[0m\n\u001b[1;32m    127\u001b[0m     \u001b[0mprint\u001b[0m\u001b[0;34m(\u001b[0m\u001b[0;34mu\"按照{}的粒度的lift_chart\"\u001b[0m\u001b[0;34m.\u001b[0m\u001b[0mformat\u001b[0m\u001b[0;34m(\u001b[0m\u001b[0mgranularity_dict\u001b[0m\u001b[0;34m[\u001b[0m\u001b[0mby\u001b[0m\u001b[0;34m]\u001b[0m\u001b[0;34m)\u001b[0m\u001b[0;34m)\u001b[0m\u001b[0;34m\u001b[0m\u001b[0;34m\u001b[0m\u001b[0m\n",
      "\u001b[0;32m~/PycharmProjects/modeling/plot_tools.py\u001b[0m in \u001b[0;36mshow_result_new\u001b[0;34m(df, y_pred, y_true, n_bins, feature_label)\u001b[0m\n\u001b[1;32m     85\u001b[0m     \u001b[0mplt\u001b[0m\u001b[0;34m.\u001b[0m\u001b[0msubplot\u001b[0m\u001b[0;34m(\u001b[0m\u001b[0;36m1\u001b[0m\u001b[0;34m,\u001b[0m \u001b[0;36m2\u001b[0m\u001b[0;34m,\u001b[0m \u001b[0;36m1\u001b[0m\u001b[0;34m)\u001b[0m\u001b[0;34m\u001b[0m\u001b[0;34m\u001b[0m\u001b[0m\n\u001b[1;32m     86\u001b[0m \u001b[0;34m\u001b[0m\u001b[0m\n\u001b[0;32m---> 87\u001b[0;31m     \u001b[0mg_df\u001b[0m\u001b[0;34m.\u001b[0m\u001b[0mindex\u001b[0m \u001b[0;34m=\u001b[0m \u001b[0mrange\u001b[0m\u001b[0;34m(\u001b[0m\u001b[0;36m1\u001b[0m\u001b[0;34m,\u001b[0m \u001b[0mn_bins\u001b[0m \u001b[0;34m+\u001b[0m \u001b[0;36m1\u001b[0m\u001b[0;34m)\u001b[0m\u001b[0;34m\u001b[0m\u001b[0;34m\u001b[0m\u001b[0m\n\u001b[0m\u001b[1;32m     88\u001b[0m     plt.plot(g_df.index, g_df['eventRate'], marker='o',\n\u001b[1;32m     89\u001b[0m              label='Auc of %s:%d:%.3f' % (\n",
      "\u001b[0;32m~/anaconda3/envs/modeling/lib/python3.7/site-packages/pandas/core/generic.py\u001b[0m in \u001b[0;36m__setattr__\u001b[0;34m(self, name, value)\u001b[0m\n\u001b[1;32m   5190\u001b[0m         \u001b[0;32mtry\u001b[0m\u001b[0;34m:\u001b[0m\u001b[0;34m\u001b[0m\u001b[0;34m\u001b[0m\u001b[0m\n\u001b[1;32m   5191\u001b[0m             \u001b[0mobject\u001b[0m\u001b[0;34m.\u001b[0m\u001b[0m__getattribute__\u001b[0m\u001b[0;34m(\u001b[0m\u001b[0mself\u001b[0m\u001b[0;34m,\u001b[0m \u001b[0mname\u001b[0m\u001b[0;34m)\u001b[0m\u001b[0;34m\u001b[0m\u001b[0;34m\u001b[0m\u001b[0m\n\u001b[0;32m-> 5192\u001b[0;31m             \u001b[0;32mreturn\u001b[0m \u001b[0mobject\u001b[0m\u001b[0;34m.\u001b[0m\u001b[0m__setattr__\u001b[0m\u001b[0;34m(\u001b[0m\u001b[0mself\u001b[0m\u001b[0;34m,\u001b[0m \u001b[0mname\u001b[0m\u001b[0;34m,\u001b[0m \u001b[0mvalue\u001b[0m\u001b[0;34m)\u001b[0m\u001b[0;34m\u001b[0m\u001b[0;34m\u001b[0m\u001b[0m\n\u001b[0m\u001b[1;32m   5193\u001b[0m         \u001b[0;32mexcept\u001b[0m \u001b[0mAttributeError\u001b[0m\u001b[0;34m:\u001b[0m\u001b[0;34m\u001b[0m\u001b[0;34m\u001b[0m\u001b[0m\n\u001b[1;32m   5194\u001b[0m             \u001b[0;32mpass\u001b[0m\u001b[0;34m\u001b[0m\u001b[0;34m\u001b[0m\u001b[0m\n",
      "\u001b[0;32mpandas/_libs/properties.pyx\u001b[0m in \u001b[0;36mpandas._libs.properties.AxisProperty.__set__\u001b[0;34m()\u001b[0m\n",
      "\u001b[0;32m~/anaconda3/envs/modeling/lib/python3.7/site-packages/pandas/core/generic.py\u001b[0m in \u001b[0;36m_set_axis\u001b[0;34m(self, axis, labels)\u001b[0m\n\u001b[1;32m    688\u001b[0m \u001b[0;34m\u001b[0m\u001b[0m\n\u001b[1;32m    689\u001b[0m     \u001b[0;32mdef\u001b[0m \u001b[0m_set_axis\u001b[0m\u001b[0;34m(\u001b[0m\u001b[0mself\u001b[0m\u001b[0;34m,\u001b[0m \u001b[0maxis\u001b[0m\u001b[0;34m,\u001b[0m \u001b[0mlabels\u001b[0m\u001b[0;34m)\u001b[0m\u001b[0;34m:\u001b[0m\u001b[0;34m\u001b[0m\u001b[0;34m\u001b[0m\u001b[0m\n\u001b[0;32m--> 690\u001b[0;31m         \u001b[0mself\u001b[0m\u001b[0;34m.\u001b[0m\u001b[0m_data\u001b[0m\u001b[0;34m.\u001b[0m\u001b[0mset_axis\u001b[0m\u001b[0;34m(\u001b[0m\u001b[0maxis\u001b[0m\u001b[0;34m,\u001b[0m \u001b[0mlabels\u001b[0m\u001b[0;34m)\u001b[0m\u001b[0;34m\u001b[0m\u001b[0;34m\u001b[0m\u001b[0m\n\u001b[0m\u001b[1;32m    691\u001b[0m         \u001b[0mself\u001b[0m\u001b[0;34m.\u001b[0m\u001b[0m_clear_item_cache\u001b[0m\u001b[0;34m(\u001b[0m\u001b[0;34m)\u001b[0m\u001b[0;34m\u001b[0m\u001b[0;34m\u001b[0m\u001b[0m\n\u001b[1;32m    692\u001b[0m \u001b[0;34m\u001b[0m\u001b[0m\n",
      "\u001b[0;32m~/anaconda3/envs/modeling/lib/python3.7/site-packages/pandas/core/internals/managers.py\u001b[0m in \u001b[0;36mset_axis\u001b[0;34m(self, axis, new_labels)\u001b[0m\n\u001b[1;32m    181\u001b[0m             raise ValueError(\n\u001b[1;32m    182\u001b[0m                 \u001b[0;34m\"Length mismatch: Expected axis has {old} elements, new \"\u001b[0m\u001b[0;34m\u001b[0m\u001b[0;34m\u001b[0m\u001b[0m\n\u001b[0;32m--> 183\u001b[0;31m                 \u001b[0;34m\"values have {new} elements\"\u001b[0m\u001b[0;34m.\u001b[0m\u001b[0mformat\u001b[0m\u001b[0;34m(\u001b[0m\u001b[0mold\u001b[0m\u001b[0;34m=\u001b[0m\u001b[0mold_len\u001b[0m\u001b[0;34m,\u001b[0m \u001b[0mnew\u001b[0m\u001b[0;34m=\u001b[0m\u001b[0mnew_len\u001b[0m\u001b[0;34m)\u001b[0m\u001b[0;34m\u001b[0m\u001b[0;34m\u001b[0m\u001b[0m\n\u001b[0m\u001b[1;32m    184\u001b[0m             )\n\u001b[1;32m    185\u001b[0m \u001b[0;34m\u001b[0m\u001b[0m\n",
      "\u001b[0;31mValueError\u001b[0m: Length mismatch: Expected axis has 10 elements, new values have 4 elements"
     ]
    },
    {
     "data": {
      "image/png": "[encoded data removed]",
      "text/plain": [
       "<Figure size 1152x576 with 2 Axes>"
      ]
     },
     "metadata": {
      "needs_background": "light"
     },
     "output_type": "display_data"
    }
   ],
   "source": [
    "#分train, test, oot 看模型的效果\n",
    "FIG_PATH = os.path.join(result_path, 'figure', 'liftchart')\n",
    "if not os.path.exists(FIG_PATH):\n",
    "    os.makedirs(FIG_PATH)\n",
    "# lift_chart - train test oot\n",
    "train_lc = pt.show_result_new(data_scored_all.loc[data_scored_all.sample_set == 'train'], 'y_pred','Y', n_bins = 10, feature_label='train')\n",
    "test_lc = pt.show_result_new(data_scored_all.loc[data_scored_all.sample_set == 'test'], 'y_pred','Y', n_bins = 10, feature_label='test')\n",
    "# oot_lc = pt.show_result_new(data_scored_all.loc[data_scored_all.sample_set == 'oot'], 'y_pred','Y', n_bins = 10, feature_label='oot')\n",
    "path = os.path.join(FIG_PATH, \"LiftChart.png\")\n",
    "plt.savefig(path, format='png', dpi=300, bbox_inches = 'tight',pad_inches = 0.1)\n",
    "plt.close()\n",
    "\n",
    "merge_data = all_df[['loan_id','applied_at']].reset_index(drop = True)\n",
    "merge_data['loan_id'] = merge_data['loan_id'].astype(str)\n",
    "merge_data['applied_at'] = merge_data['applied_at'].astype(str)\n",
    "data_scored_all1 = data_scored_all.merge(merge_data,left_on='order_no',right_on='loan_id',how='left')\n",
    "data_scored_all1.shape\n",
    "pt.lift_chart_by_time(data_scored_all1.loc[data_scored_all1.sample_set.isin(['train','test'])],'y_pred','Y', n_bins = 10, by=\"week\")\n",
    "path = os.path.join(FIG_PATH, \"LiftChart_\" + 'by_week' + \".png\")\n",
    "plt.savefig(path, format='png', dpi=300, bbox_inches = 'tight',pad_inches = 0.1)\n",
    "plt.close()\n"
   ]
  },
  {
   "cell_type": "code",
   "execution_count": 54,
   "metadata": {},
   "outputs": [],
   "source": [
    "??pt.show_result_new"
   ]
  },
  {
   "cell_type": "code",
   "execution_count": null,
   "metadata": {},
   "outputs": [],
   "source": []
  }
 ],
 "metadata": {
  "kernelspec": {
   "display_name": "Python 3",
   "language": "python",
   "name": "python3"
  },
  "language_info": {
   "codemirror_mode": {
    "name": "ipython",
    "version": 3
   },
   "file_extension": ".py",
   "mimetype": "text/x-python",
   "name": "python",
   "nbconvert_exporter": "python",
   "pygments_lexer": "ipython3",
   "version": "3.7.5"
  },
  "latex_envs": {
   "LaTeX_envs_menu_present": true,
   "autoclose": false,
   "autocomplete": true,
   "bibliofile": "biblio.bib",
   "cite_by": "apalike",
   "current_citInitial": 1,
   "eqLabelWithNumbers": true,
   "eqNumInitial": 1,
   "hotkeys": {
    "equation": "Ctrl-E",
    "itemize": "Ctrl-I"
   },
   "labels_anchors": false,
   "latex_user_defs": false,
   "report_style_numbering": false,
   "user_envs_cfg": false
  },
  "toc": {
   "base_numbering": 1,
   "nav_menu": {},
   "number_sections": true,
   "sideBar": true,
   "skip_h1_title": false,
   "title_cell": "Table of Contents",
   "title_sidebar": "Contents",
   "toc_cell": false,
   "toc_position": {},
   "toc_section_display": true,
   "toc_window_display": true
  },
  "varInspector": {
   "cols": {
    "lenName": 16,
    "lenType": 16,
    "lenVar": 40
   },
   "kernels_config": {
    "python": {
     "delete_cmd_postfix": "",
     "delete_cmd_prefix": "del ",
     "library": "var_list.py",
     "varRefreshCmd": "print(var_dic_list())"
    },
    "r": {
     "delete_cmd_postfix": ") ",
     "delete_cmd_prefix": "rm(",
     "library": "var_list.r",
     "varRefreshCmd": "cat(var_dic_list()) "
    }
   },
   "types_to_exclude": [
    "module",
    "function",
    "builtin_function_or_method",
    "instance",
    "_Feature"
   ],
   "window_display": false
  }
 },
 "nbformat": 4,
 "nbformat_minor": 2
}
