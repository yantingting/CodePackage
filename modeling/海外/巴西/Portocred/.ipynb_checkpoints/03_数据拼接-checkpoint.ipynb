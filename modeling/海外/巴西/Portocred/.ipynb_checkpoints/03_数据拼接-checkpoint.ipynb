{
 "cells": [
  {
   "cell_type": "code",
   "execution_count": 1,
   "metadata": {},
   "outputs": [],
   "source": [
    "import sys\n",
    "import os\n",
    "import pandas as pd\n",
    "import numpy as np\n",
    "# import pandas_profiling\n",
    "import json\n",
    "import math\n",
    "pd.set_option('display.max_columns', None)\n",
    "#显示所有行\n",
    "pd.set_option('display.max_rows', None)\n",
    "#设置value的显示长度为100，默认为50\n",
    "pd.set_option('max_colwidth',1000)\n",
    "import sklearn\n",
    "from sklearn.feature_extraction.text import CountVectorizer \n",
    "from sklearn.model_selection import train_test_split \n",
    "from collections import Counter\n",
    "from pandas.api.types import is_dict_like\n",
    "import itertools\n",
    "import time\n",
    "import matplotlib.pyplot as plt\n",
    "sys.path.append('/Users/yantingting/PycharmProjects/modeling')\n",
    "import plot_tools as pl\n",
    "import metrics\n",
    "import database_conncet as data_con\n",
    "import summary_statistics as ss\n",
    "import feature_selection as fs\n",
    "from data_io_utils import *\n",
    "import data_processing as dp\n",
    "from jinja2 import Template"
   ]
  },
  {
   "cell_type": "code",
   "execution_count": 2,
   "metadata": {},
   "outputs": [],
   "source": [
    "file_path = '/Users/yantingting/Seafile/风控/模型/14 巴西/Portocred/data/'"
   ]
  },
  {
   "cell_type": "markdown",
   "metadata": {},
   "source": [
    "# 数据拼接"
   ]
  },
  {
   "cell_type": "code",
   "execution_count": 7,
   "metadata": {},
   "outputs": [
    {
     "data": {
      "text/plain": [
       "(445, 445)"
      ]
     },
     "execution_count": 7,
     "metadata": {},
     "output_type": "execute_result"
    },
    {
     "data": {
      "text/plain": [
       "0    345\n",
       "1    100\n",
       "Name: sample_flag, dtype: int64"
      ]
     },
     "execution_count": 7,
     "metadata": {},
     "output_type": "execute_result"
    }
   ],
   "source": [
    "var_bank_data = load_data_from_pickle(file_path,'bank_var.pkl')\n",
    "var_app_freq = pd.read_csv(file_path + 'var_app_freq.csv')\n",
    "var_app_tfidf = pd.read_csv(file_path + 'var_app_tfidf.csv')\n",
    "var_contact = pd.read_csv(file_path + 'var_contact.csv', dtype = {'loan_id': int})\n",
    "var_deviceinfo = pd.read_csv(file_path +'var_deviceinfo.csv')\n",
    "var_othersdk = pd.read_csv(file_path + 'var_othersdk.csv')\n",
    "\n",
    "df_sdk = pd.merge(var_bank_data, var_app_freq, on = 'loan_id', how = 'left')\n",
    "df_sdk = pd.merge(df_sdk, var_app_tfidf, on = 'loan_id', how = 'left')\n",
    "df_sdk = pd.merge(df_sdk, var_contact, on = 'loan_id', how = 'left')\n",
    "df_sdk = pd.merge(df_sdk, var_deviceinfo, on = 'loan_id', how = 'left')\n",
    "df_sdk = pd.merge(df_sdk, var_othersdk, on = 'loan_id', how = 'left')\n",
    "df_sdk['sample_flag'] = df_sdk['date'].apply(lambda x :0 if x<=20191014 else 1)\n",
    "save_data_to_pickle(df_sdk,file_path,'df_var_all.pkl')\n",
    "df_sdk.shape\n",
    "df_sdk['sample_flag'].value_counts()\n"
   ]
  },
  {
   "cell_type": "markdown",
   "metadata": {},
   "source": [
    "# 字典拼接"
   ]
  },
  {
   "cell_type": "code",
   "execution_count": 8,
   "metadata": {},
   "outputs": [
    {
     "data": {
      "text/plain": [
       "(80, 4)"
      ]
     },
     "execution_count": 8,
     "metadata": {},
     "output_type": "execute_result"
    },
    {
     "data": {
      "text/plain": [
       "(7, 4)"
      ]
     },
     "execution_count": 8,
     "metadata": {},
     "output_type": "execute_result"
    },
    {
     "data": {
      "text/plain": [
       "(86, 4)"
      ]
     },
     "execution_count": 8,
     "metadata": {},
     "output_type": "execute_result"
    },
    {
     "data": {
      "text/plain": [
       "(18, 4)"
      ]
     },
     "execution_count": 8,
     "metadata": {},
     "output_type": "execute_result"
    },
    {
     "data": {
      "text/plain": [
       "(241, 4)"
      ]
     },
     "execution_count": 8,
     "metadata": {},
     "output_type": "execute_result"
    },
    {
     "data": {
      "text/plain": [
       "(10, 4)"
      ]
     },
     "execution_count": 8,
     "metadata": {},
     "output_type": "execute_result"
    },
    {
     "data": {
      "text/plain": [
       "(442, 4)"
      ]
     },
     "execution_count": 8,
     "metadata": {},
     "output_type": "execute_result"
    }
   ],
   "source": [
    "dict_bank = pd.read_csv(file_path+'var_dict_bank.csv')\n",
    "dict_bank.shape\n",
    "dict_app_freq = pd.read_csv(file_path + 'var_dict_app_freq.csv')\n",
    "dict_app_freq.shape\n",
    "dict_app_tfidf = pd.read_csv(file_path + 'var_dict_app_tfidf.csv')\n",
    "dict_app_tfidf.shape\n",
    "dict_contact = pd.read_csv(file_path + 'var_dict_contact.csv')\n",
    "dict_contact.shape\n",
    "dict_deviceinfo = pd.read_csv(file_path +'var_dict_deviceinfo.csv')\n",
    "dict_deviceinfo.shape\n",
    "dict_othersdk = pd.read_csv(file_path + 'var_dict_othersdk.csv')\n",
    "dict_othersdk.shape\n",
    "dict_all = pd.concat([dict_bank,dict_app_freq,dict_app_tfidf,dict_contact,dict_deviceinfo,dict_othersdk],axis = 0)\n",
    "dict_all.to_csv(os.path.join(file_path,'dict_all.csv'), index = False)\n",
    "dict_all.shape"
   ]
  },
  {
   "cell_type": "code",
   "execution_count": 9,
   "metadata": {},
   "outputs": [
    {
     "data": {
      "text/plain": [
       "deviceinfo    241\n",
       "app_tfidf      86\n",
       "bank           80\n",
       "contact        18\n",
       "othersdk       10\n",
       "app_freq        7\n",
       "Name: 数据源, dtype: int64"
      ]
     },
     "execution_count": 9,
     "metadata": {},
     "output_type": "execute_result"
    }
   ],
   "source": [
    "dict_all['数据源'].value_counts()"
   ]
  },
  {
   "cell_type": "code",
   "execution_count": null,
   "metadata": {},
   "outputs": [],
   "source": []
  }
 ],
 "metadata": {
  "kernelspec": {
   "display_name": "Python 3",
   "language": "python",
   "name": "python3"
  },
  "language_info": {
   "codemirror_mode": {
    "name": "ipython",
    "version": 3
   },
   "file_extension": ".py",
   "mimetype": "text/x-python",
   "name": "python",
   "nbconvert_exporter": "python",
   "pygments_lexer": "ipython3",
   "version": "3.7.5"
  },
  "latex_envs": {
   "LaTeX_envs_menu_present": true,
   "autoclose": false,
   "autocomplete": true,
   "bibliofile": "biblio.bib",
   "cite_by": "apalike",
   "current_citInitial": 1,
   "eqLabelWithNumbers": true,
   "eqNumInitial": 1,
   "hotkeys": {
    "equation": "Ctrl-E",
    "itemize": "Ctrl-I"
   },
   "labels_anchors": false,
   "latex_user_defs": false,
   "report_style_numbering": false,
   "user_envs_cfg": false
  },
  "toc": {
   "base_numbering": 1,
   "nav_menu": {},
   "number_sections": true,
   "sideBar": true,
   "skip_h1_title": false,
   "title_cell": "Table of Contents",
   "title_sidebar": "Contents",
   "toc_cell": false,
   "toc_position": {},
   "toc_section_display": true,
   "toc_window_display": true
  },
  "varInspector": {
   "cols": {
    "lenName": 16,
    "lenType": 16,
    "lenVar": 40
   },
   "kernels_config": {
    "python": {
     "delete_cmd_postfix": "",
     "delete_cmd_prefix": "del ",
     "library": "var_list.py",
     "varRefreshCmd": "print(var_dic_list())"
    },
    "r": {
     "delete_cmd_postfix": ") ",
     "delete_cmd_prefix": "rm(",
     "library": "var_list.r",
     "varRefreshCmd": "cat(var_dic_list()) "
    }
   },
   "types_to_exclude": [
    "module",
    "function",
    "builtin_function_or_method",
    "instance",
    "_Feature"
   ],
   "window_display": false
  }
 },
 "nbformat": 4,
 "nbformat_minor": 2
}
