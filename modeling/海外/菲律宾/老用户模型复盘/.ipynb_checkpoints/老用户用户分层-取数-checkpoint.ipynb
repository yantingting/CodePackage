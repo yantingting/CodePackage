{
 "cells": [
  {
   "cell_type": "raw",
   "metadata": {},
   "source": [
    "1、老用户模型在当前的表现？变量的稳定性和模型最终区分度。 @徐超\n",
    "a: 区分度降低，稳定性差（KS= 0.11， AUC= 0.55，PSi= 1.4），老用户目前不做决策\n",
    "2、下周要做老用户召回，策略和模型都会有相应的调整，分析当前复贷老用户的分类是否还能代表之前的老用户  @林源\n",
    "3、统计复贷 01， 02 ，03 的占比，以及各人群通过率和逾期率 @林源\n",
    "4、最近规则调整之后对整个风控的影响@林源\n",
    "5、老用户模型的code 分享，看是否可以添加app相关的变量。@徐超@婷婷\n",
    "6、依据现有数据提取并衍生有区分度的变量，看是否可以做树模型来区分老客户的好坏@徐超@婷婷 @ 林源\n",
    "\n",
    "\n",
    "老用户分层：历史申请次数，放款次数，累计逾期天数，逾期次数"
   ]
  },
  {
   "cell_type": "code",
   "execution_count": 1,
   "metadata": {},
   "outputs": [],
   "source": [
    "import sys\n",
    "import os\n",
    "import time\n",
    "import pandas as pd \n",
    "import numpy as np\n",
    "from collections import Counter\n",
    "sys.path.append('/Users/yantingting/PycharmProjects/modeling/')\n",
    "import database_conncet as data_qry\n",
    "import plot_tools as pt\n",
    "import data_processing as dp\n",
    "import plot_tools as pl"
   ]
  },
  {
   "cell_type": "code",
   "execution_count": 2,
   "metadata": {},
   "outputs": [],
   "source": [
    "file_path = '/Users/yantingting/Seafile/风控/模型/13 菲律宾/线上模型复盘/老客户/'"
   ]
  },
  {
   "cell_type": "markdown",
   "metadata": {},
   "source": [
    "# 老用户分层"
   ]
  },
  {
   "cell_type": "raw",
   "metadata": {},
   "source": [
    "1)申请次数和成功放款次数"
   ]
  },
  {
   "cell_type": "code",
   "execution_count": 3,
   "metadata": {},
   "outputs": [],
   "source": [
    "query1 = '''\n",
    "select t1.*,\n",
    "count(distinct t2.order_no) as cnt_loan1,\n",
    "count(distinct case when t2.late_days>0 then t2.due_date else null end ) as cnt_loan_due,\n",
    "sum(t2.late_days) as sum_latedays,\n",
    "max(t2.late_days) as max_late_day,\n",
    "min(t2.late_days) as min_late_day,\n",
    "from \n",
    "(select order_no, customer_id,apply_time,product_name,order_type,\n",
    "row_number()over(partition by customer_id order by apply_time asc) - 1 as cnt_apply\n",
    "from  dw_flb_approval_phl_approval_prod_approval_applications)t1\n",
    "left join \n",
    "(select order_no,customer_id,loan_days,start_date,due_date,actual_paid_off_date,\n",
    "repay_status,business_type,order_type,extend_period,late_days\n",
    "from dw_flb_hx_phl_core_prod_core_repayment_schedules\n",
    "where product_name != 'CashNiJuan') t2\n",
    "on t1.customer_id  = t2.customer_id\n",
    "where t1.product_name != 'CashNiJuan' \n",
    "and t1.order_type like 'Qua%'\n",
    "and date(t1.apply_time) <='2019-12-23'\n",
    "and (date(t1.apply_time)> t2.start_date or t2.start_date is null)\n",
    "group by t1.order_no, t1.customer_id,t1.apply_time,t1.product_name,t1.order_type, t1.cnt_apply;\n",
    "'''"
   ]
  },
  {
   "cell_type": "code",
   "execution_count": null,
   "metadata": {},
   "outputs": [
    {
     "name": "stdout",
     "output_type": "stream",
     "text": [
      "Successful connection\n"
     ]
    }
   ],
   "source": [
    "df1 = data_qry.database_gn(query1)\n",
    "df1.info()\n",
    "df1.head()"
   ]
  },
  {
   "cell_type": "code",
   "execution_count": null,
   "metadata": {},
   "outputs": [],
   "source": []
  },
  {
   "cell_type": "code",
   "execution_count": null,
   "metadata": {},
   "outputs": [],
   "source": []
  }
 ],
 "metadata": {
  "kernelspec": {
   "display_name": "Python 3",
   "language": "python",
   "name": "python3"
  },
  "language_info": {
   "codemirror_mode": {
    "name": "ipython",
    "version": 3
   },
   "file_extension": ".py",
   "mimetype": "text/x-python",
   "name": "python",
   "nbconvert_exporter": "python",
   "pygments_lexer": "ipython3",
   "version": "3.7.5"
  },
  "varInspector": {
   "cols": {
    "lenName": 16,
    "lenType": 16,
    "lenVar": 40
   },
   "kernels_config": {
    "python": {
     "delete_cmd_postfix": "",
     "delete_cmd_prefix": "del ",
     "library": "var_list.py",
     "varRefreshCmd": "print(var_dic_list())"
    },
    "r": {
     "delete_cmd_postfix": ") ",
     "delete_cmd_prefix": "rm(",
     "library": "var_list.r",
     "varRefreshCmd": "cat(var_dic_list()) "
    }
   },
   "types_to_exclude": [
    "module",
    "function",
    "builtin_function_or_method",
    "instance",
    "_Feature"
   ],
   "window_display": false
  }
 },
 "nbformat": 4,
 "nbformat_minor": 2
}
