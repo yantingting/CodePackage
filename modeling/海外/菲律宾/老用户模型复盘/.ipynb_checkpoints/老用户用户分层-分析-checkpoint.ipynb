{
 "cells": [
  {
   "cell_type": "raw",
   "metadata": {},
   "source": [
    "1、老用户模型在当前的表现？变量的稳定性和模型最终区分度。 @徐超\n",
    "a: 区分度降低，稳定性差（KS= 0.11， AUC= 0.55，PSi= 1.4），老用户目前不做决策\n",
    "2、下周要做老用户召回，策略和模型都会有相应的调整，分析当前复贷老用户的分类是否还能代表之前的老用户  @林源\n",
    "3、统计复贷 01， 02 ，03 的占比，以及各人群通过率和逾期率 @林源\n",
    "4、最近规则调整之后对整个风控的影响@林源\n",
    "5、老用户模型的code 分享，看是否可以添加app相关的变量。@徐超@婷婷\n",
    "6、依据现有数据提取并衍生有区分度的变量，看是否可以做树模型来区分老客户的好坏@徐超@婷婷 @ 林源\n"
   ]
  },
  {
   "cell_type": "code",
   "execution_count": null,
   "metadata": {},
   "outputs": [],
   "source": [
    "import sys\n",
    "import os\n",
    "import time\n",
    "import pandas as pd \n",
    "import numpy as np\n",
    "from collections import Counter\n",
    "import datetime\n",
    "import matplotlib.pyplot as plt\n",
    "from matplotlib import rcParams\n",
    "plt.rcParams['font.sans-serif'] = ['STIXGeneral']\n",
    "plt.rcParams['axes.unicode_minus'] = True\n",
    "pd.set_option('display.max_rows', 10000)\n",
    "pd.set_option('display.max_columns',10000)\n",
    "sys.path.append('/Users/yantingting/PycharmProjects/modeling/')\n",
    "import database_conncet as data_qry\n",
    "import plot_tools as pt\n",
    "import data_processing as dp\n",
    "import plot_tools as pl"
   ]
  },
  {
   "cell_type": "code",
   "execution_count": null,
   "metadata": {},
   "outputs": [],
   "source": [
    "file_path = '/Users/yantingting/Seafile/风控/模型/13 菲律宾/线上模型复盘/老客户/'"
   ]
  },
  {
   "cell_type": "code",
   "execution_count": null,
   "metadata": {
    "scrolled": false
   },
   "outputs": [],
   "source": [
    "my_info = pd.read_csv(file_path + 'my_info.csv')\n",
    "my_var1 = pd.read_csv(file_path + 'my_var1.csv')\n",
    "my_flag = pd.read_csv(file_path + 'my_flag.csv')\n",
    "my_df = pd.merge(my_info, my_var1, on='order_key', how='left')\n",
    "my_df = pd.merge(my_df, my_flag, left_on='order_key', right_on='order_no', how='left')\n",
    "my_df.to_csv(file_path + 'my_df.csv',index = False)"
   ]
  },
  {
   "cell_type": "code",
   "execution_count": null,
   "metadata": {},
   "outputs": [],
   "source": [
    "my_df = pd.read_csv(file_path + 'my_df.csv')\n",
    "my_df.columns\n",
    "# my_df.head()"
   ]
  },
  {
   "cell_type": "code",
   "execution_count": null,
   "metadata": {},
   "outputs": [],
   "source": [
    "feature_list = [ '申请笔数', '放款笔数',\n",
    "       '失败笔数', '第一次放款距今天数', '最近一次放款距今天数', '第一次还款距今天数', '最近一次还款距今天数', '累计逾期天数',\n",
    "       '最大逾期天数', '最小逾期天数', '最大展期次数', '最大结清天数(展期算新的订单)', '逾期订单数',\n",
    "       '逾期次数(展期算新的订单)', '展期订单数', '总展期次数', '单笔最小结清天数', '单笔最大结清天数']\n",
    "time1 = time.time()\n",
    "df_train1_train2 = my_df[my_df['effective_date']>='2019-09-10']\n",
    "df_train1 = df_train1_train2\n",
    "df_train2 = df_train1_train2\n",
    "wrong_list= []\n",
    "for col in feature_list:\n",
    "    print('{} is in processing'.format(col))\n",
    "    try:\n",
    "        pl.uniVarChart(df_train1_train2.fillna(-1),  col, target = 'flag1', n_bins = 10, result_path=file_path ,dfltValue = -1, dftrain =df_train1.fillna(-1), dftest = df_train2.fillna(-1), \n",
    "                drawAll = True, drawTrTe = False)\n",
    "    except IndexError:\n",
    "        wrong_list.append(col)\n",
    "        print('wrong!')\n",
    "print(wrong_list)\n",
    "time2 = time.time()\n",
    "print('run_time: ', time2-time1)"
   ]
  },
  {
   "cell_type": "code",
   "execution_count": null,
   "metadata": {},
   "outputs": [],
   "source": []
  },
  {
   "cell_type": "code",
   "execution_count": null,
   "metadata": {},
   "outputs": [],
   "source": []
  },
  {
   "cell_type": "code",
   "execution_count": null,
   "metadata": {},
   "outputs": [],
   "source": []
  }
 ],
 "metadata": {
  "kernelspec": {
   "display_name": "Python 3",
   "language": "python",
   "name": "python3"
  },
  "language_info": {
   "codemirror_mode": {
    "name": "ipython",
    "version": 3
   },
   "file_extension": ".py",
   "mimetype": "text/x-python",
   "name": "python",
   "nbconvert_exporter": "python",
   "pygments_lexer": "ipython3",
   "version": "3.7.5"
  },
  "varInspector": {
   "cols": {
    "lenName": 16,
    "lenType": 16,
    "lenVar": 40
   },
   "kernels_config": {
    "python": {
     "delete_cmd_postfix": "",
     "delete_cmd_prefix": "del ",
     "library": "var_list.py",
     "varRefreshCmd": "print(var_dic_list())"
    },
    "r": {
     "delete_cmd_postfix": ") ",
     "delete_cmd_prefix": "rm(",
     "library": "var_list.r",
     "varRefreshCmd": "cat(var_dic_list()) "
    }
   },
   "types_to_exclude": [
    "module",
    "function",
    "builtin_function_or_method",
    "instance",
    "_Feature"
   ],
   "window_display": false
  }
 },
 "nbformat": 4,
 "nbformat_minor": 2
}
