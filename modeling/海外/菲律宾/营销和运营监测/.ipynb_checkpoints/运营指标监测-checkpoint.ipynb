{
 "cells": [
  {
   "cell_type": "raw",
   "metadata": {},
   "source": [
    "目的：监测菲律宾产品的申请量，放款量及贷后表现"
   ]
  },
  {
   "cell_type": "code",
   "execution_count": 10,
   "metadata": {},
   "outputs": [],
   "source": [
    "import os\n",
    "import sys\n",
    "import time\n",
    "from datetime import datetime\n",
    "import pandas as pd \n",
    "pd.set_option('display.max_columns', None)\n",
    "pd.set_option('display.max_rows', None)\n",
    "import numpy as np\n",
    "import re\n",
    "import seaborn as sns\n",
    "import matplotlib.pyplot as plt\n",
    "from collections import Counter\n",
    "sys.path.append('/Users/yantingting/PycharmProjects/modeling/')\n",
    "import database_conncet as data_con\n",
    "import data_processing as dp\n",
    "import summary_statistics as ss\n",
    "from data_io_utils import *"
   ]
  },
  {
   "cell_type": "code",
   "execution_count": 11,
   "metadata": {},
   "outputs": [],
   "source": [
    "file_path = '/Users/yantingting/Seafile/风控/模型/13 菲律宾/日报&周报/运营指标监控'"
   ]
  },
  {
   "cell_type": "code",
   "execution_count": 12,
   "metadata": {},
   "outputs": [],
   "source": [
    "filename = \"运营指标_%s.xlsx\" % datetime.strftime(datetime.now().date(), \"%Y-%m-%d\")\n",
    "writer = pd.ExcelWriter(filename)"
   ]
  },
  {
   "cell_type": "code",
   "execution_count": null,
   "metadata": {},
   "outputs": [],
   "source": [
    "query1 = '''\n",
    "select\n",
    "date(a.created_at) apply_date,\n",
    "case when a.product_name = 'CashNiJuan' then 'CNJ' else 'P2G&Jet' end as product_name,\n",
    "a.order_no,a.order_type,\n",
    "a.customer_phone_num phone,\n",
    "a.application_status,\n",
    "case when a.application_status in ('CreateApplication', 'InitialAuditingReject', 'AutoAuditing', 'AutoReject', 'RiskControlReject') then null else 1 end  JSTG,\n",
    "case when a.application_status in ('AuditingPassed')then 1 else null end RSTG,\n",
    " b.loan_flow_status,b.loan_principal,c.actual_paid_off_date,c.due_date,c.FDQ,\n",
    "d.DPD3,e.DPD7\n",
    "from dw_flb_approval_phl_approval_prod_approval_applications a\n",
    "LEFT JOIN\n",
    "(select order_no, loan_principal, loan_flow_status from dw_flb_hx_phl_core_prod_core_loans where loan_flow_status='LoanSuccess') b\n",
    "on a.order_no=b.order_no\n",
    "LEFT JOIN\n",
    "(select order_no,actual_paid_off_date,due_date,\n",
    "case when (case when actual_paid_off_date = '1970-01-01'  then current_date -due_date else actual_paid_off_date-due_date end)>0 then 1 else 0 end as FDQ\n",
    "from dw_flb_hx_phl_core_prod_core_repayment_schedules where extend_period=0\n",
    "and due_date<=current_date - INTERVAL '1 day') c\n",
    "on a.order_no = c.order_no\n",
    "LEFT JOIN\n",
    "(select order_no,actual_paid_off_date,due_date,\n",
    "case when (case when actual_paid_off_date = '1970-01-01'  then current_date -due_date else actual_paid_off_date-due_date end)>3 then 1 else 0 end as DPD3\n",
    "from dw_flb_hx_phl_core_prod_core_repayment_schedules where  extend_period=0\n",
    "and due_date<=current_date - INTERVAL '3 day') d\n",
    "on a.order_no = d.order_no\n",
    "LEFT JOIN\n",
    "(select order_no,actual_paid_off_date,due_date,\n",
    "case when (case when actual_paid_off_date = '1970-01-01'  then current_date -due_date else actual_paid_off_date-due_date end)>7 then 1 else 0 end as DPD7\n",
    "from dw_flb_hx_phl_core_prod_core_repayment_schedules where (product_name = 'Peso2Go' or product_name = 'JetPeso') and extend_period=0\n",
    "and due_date<=current_date - INTERVAL '7 day') e\n",
    "on a.order_no = e.order_no\n",
    "where  date(a.deleted_at) = '1970-01-01'  and a.created_at>current_date - INTERVAL '60 day';\n",
    "'''"
   ]
  },
  {
   "cell_type": "code",
   "execution_count": null,
   "metadata": {},
   "outputs": [],
   "source": [
    "df = data_con.database_gn(query1)\n",
    "save_data_to_pickle(df,file_path, 'df.pkl')"
   ]
  },
  {
   "cell_type": "code",
   "execution_count": null,
   "metadata": {},
   "outputs": [],
   "source": [
    "df = load_data_from_pickle(file_path, 'df.pkl')\n",
    "df = qyp.sql_to_df(sql, db_info=qyp.get_DB()[2])\n",
    "df[\"新老标签\"] = df[\"order_type\"].map(lambda s: \"新客\" if s in [\"RepeatApplicationOrder\", \"NewApplicationOrder\"] else \"老客\")\n",
    "df_result = df.groupby([\"apply_date\", \"新老标签\", \"product_name\"]).agg(\n",
    "    {\"order_no\": \"count\", \"JSTG\": \"sum\",  \"RSTG\": \"sum\", \"loan_flow_status\": \"count\",\n",
    "     \"loan_principal\": \"sum\", \"FDQ\": \"sum\", \"DPD7\": \"sum\"})\n",
    "df_result[\"机审通过率\"] = df_result[\"JSTG\"]/df_result[\"order_no\"]\n",
    "df_result[\"人审通过率\"] = df_result[\"RSTG\"]/df_result[\"JSTG\"]\n",
    "df_result[\"放款通过率\"] = df_result[\"loan_flow_status\"]/df_result[\"order_no\"]\n",
    "df_result[\"FDQ_%\"] = df_result[\"FDQ\"]/df_result[\"loan_flow_status\"]\n",
    "df_result[\"DPD7_%\"] = df_result[\"DPD7\"]/df_result[\"loan_flow_status\"]\n",
    "df_result.rename(columns={\"order_no\": \"申请笔数\", \"loan_flow_status\": \"放款笔数\", \"loan_principal\": \"放款金额\"}, inplace=True)\n",
    "df_result = df_result[[\"申请笔数\", \"机审通过率\", \"人审通过率\", \"放款笔数\", \"放款通过率\", \"放款金额\", \"FDQ\", \"FDQ_%\", \"DPD7\", \"DPD7_%\"]].reset_index()\n",
    "# print(df_result)\n",
    "for name in [\"P2G&Jet\", \"CNJ\"]:\n",
    "    for type in [\"新客\", \"老客\"]:\n",
    "        df_r = df_result.loc[(df_result[\"product_name\"] == name) & (df_result[\"新老标签\"] == type)]\n",
    "        df_r.reset_index(drop=True, inplace=True)\n",
    "        df_r.drop(columns=[\"新老标签\", \"product_name\"], axis=1, inplace=True)\n",
    "        if len(df_r):\n",
    "            df_r.to_excel(writer, sheet_name=\"%s_%s\" % (name, type))\n",
    "# df_result.to_excel(\"运营指标.xlsx\")\n",
    "writer.save()"
   ]
  },
  {
   "cell_type": "code",
   "execution_count": null,
   "metadata": {},
   "outputs": [],
   "source": []
  }
 ],
 "metadata": {
  "kernelspec": {
   "display_name": "Python 3",
   "language": "python",
   "name": "python3"
  },
  "language_info": {
   "codemirror_mode": {
    "name": "ipython",
    "version": 3
   },
   "file_extension": ".py",
   "mimetype": "text/x-python",
   "name": "python",
   "nbconvert_exporter": "python",
   "pygments_lexer": "ipython3",
   "version": "3.7.5"
  },
  "latex_envs": {
   "LaTeX_envs_menu_present": true,
   "autoclose": false,
   "autocomplete": true,
   "bibliofile": "biblio.bib",
   "cite_by": "apalike",
   "current_citInitial": 1,
   "eqLabelWithNumbers": true,
   "eqNumInitial": 1,
   "hotkeys": {
    "equation": "Ctrl-E",
    "itemize": "Ctrl-I"
   },
   "labels_anchors": false,
   "latex_user_defs": false,
   "report_style_numbering": false,
   "user_envs_cfg": false
  },
  "toc": {
   "base_numbering": 1,
   "nav_menu": {},
   "number_sections": true,
   "sideBar": true,
   "skip_h1_title": false,
   "title_cell": "Table of Contents",
   "title_sidebar": "Contents",
   "toc_cell": false,
   "toc_position": {},
   "toc_section_display": true,
   "toc_window_display": false
  },
  "varInspector": {
   "cols": {
    "lenName": 16,
    "lenType": 16,
    "lenVar": 40
   },
   "kernels_config": {
    "python": {
     "delete_cmd_postfix": "",
     "delete_cmd_prefix": "del ",
     "library": "var_list.py",
     "varRefreshCmd": "print(var_dic_list())"
    },
    "r": {
     "delete_cmd_postfix": ") ",
     "delete_cmd_prefix": "rm(",
     "library": "var_list.r",
     "varRefreshCmd": "cat(var_dic_list()) "
    }
   },
   "types_to_exclude": [
    "module",
    "function",
    "builtin_function_or_method",
    "instance",
    "_Feature"
   ],
   "window_display": false
  }
 },
 "nbformat": 4,
 "nbformat_minor": 2
}
