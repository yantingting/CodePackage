{
 "cells": [
  {
   "cell_type": "raw",
   "metadata": {},
   "source": [
    "目的：\n",
    "1）菲律宾新客户v2模型上线以来没有监控，MD对模型的表现效果并清楚；\n",
    "2）v1 和 v2 \n",
    "3）菲律宾拟召回一批新用户，所以新用户策略需要调整，原则是在坏账可控的前提下提高通过率"
   ]
  },
  {
   "cell_type": "code",
   "execution_count": 14,
   "metadata": {},
   "outputs": [],
   "source": [
    "import sys \n",
    "import os \n",
    "import pandas as pd \n",
    "pd.options.display.latex.repr = True\n",
    "import numpy as np\n",
    "import matplotlib.pyplot as plt\n",
    "from matplotlib import rcParams\n",
    "# plt.rcParams['font.sans-serif'] = ['STFangsong']\n",
    "plt.rcParams['font.family']=['Microsoft YaHei']\n",
    "plt.rcParams['axes.unicode_minus'] = False\n",
    "import matplotlib.pylab as mpl\n",
    "plt.rc('figure', figsize=(5, 3))\n",
    "# import seaborn as sns\n",
    "# sns.set_style(\"whitegrid\")\n",
    "from collections import Counter\n",
    "sys.path.append('/Users/yantingting/PycharmProjects/modeling/')\n",
    "import database_conncet as data_qry\n",
    "import plot_tools as pt\n",
    "import data_processing as dp\n",
    "import plot_tools as pl"
   ]
  },
  {
   "cell_type": "code",
   "execution_count": 15,
   "metadata": {},
   "outputs": [],
   "source": [
    "file_path = '/Users/yantingting/Seafile/风控/模型/13 菲律宾/线上模型复盘/新客户/'"
   ]
  },
  {
   "cell_type": "markdown",
   "metadata": {},
   "source": [
    "# 1）数据提取"
   ]
  },
  {
   "cell_type": "raw",
   "metadata": {},
   "source": [
    "申请用户分数提取"
   ]
  },
  {
   "cell_type": "code",
   "execution_count": 66,
   "metadata": {},
   "outputs": [],
   "source": [
    "query1 = '''\n",
    "select t1.order_no as order_no, t1.order_type as order_type,date(t1.created_at) as apply_day,\n",
    "t2.score_v1, t2.score_v2,t2.score_old\n",
    "from  \n",
    "(select created_at, customer_id, order_no, order_type\n",
    " from dw_flb_approval_phl_approval_prod_approval_applications\n",
    " where product_name = 'JetPeso'\n",
    " and created_at >= '2019-10-26'\n",
    " and created_at <= '2019-12-20'\n",
    " and order_type not like 'Qua%') t1\n",
    "left join \n",
    "(select order_no,\n",
    " max(case sc_id when 'phl_p2g_sc_v1' then score else null end) score_v1,\n",
    " max(case sc_id when 'phl_p2g_sc_v1_nc_gl1213' then score else null end) score_v2,\n",
    " max(case sc_id when 'phl_p2g_sc_oc_cr1218' then score else null end) score_old\n",
    " from dw_flb_approval_phl_approval_prod_score_card_results \n",
    " GROUP BY order_no ) t2 \n",
    "on t1.order_no = t2.order_no\n",
    "'''"
   ]
  },
  {
   "cell_type": "raw",
   "metadata": {},
   "source": [
    "放款用户分数提取"
   ]
  },
  {
   "cell_type": "code",
   "execution_count": 67,
   "metadata": {},
   "outputs": [],
   "source": [
    "query2 = '''\n",
    "select t1.*, t2.score_v1, t2.score_v2,t2.score_old\n",
    "from  \n",
    "(select * ,\n",
    "case when late_day>0 then 1 else 0 end as dpd1,\n",
    "case when late_day>=7 then 1 else 0 end as dpd7\n",
    "from (select order_no,start_date,actual_paid_off_date,due_date,loan_days,\n",
    "case when actual_paid_off_date ='1970-01-01' then '2019-12-22'- due_date else actual_paid_off_date - due_date end as late_day\n",
    "from dw_flb_hx_phl_core_prod_core_repayment_schedules\n",
    "where product_name='JetPeso' and extend_period= 0 and order_type not like 'Qua%'\n",
    "and due_date<= '2019-12-12') a) t1\n",
    "left join \n",
    "(select order_no,\n",
    " max(case sc_id when 'phl_p2g_sc_v1' then score else null end) score_v1,\n",
    " max(case sc_id when 'phl_p2g_sc_v1_nc_gl1213' then score else null end) score_v2,\n",
    " max(case sc_id when 'phl_p2g_sc_oc_cr1218' then score else null end) score_old\n",
    " from dw_flb_approval_phl_approval_prod_score_card_results \n",
    " GROUP BY order_no) t2 \n",
    "on t1.order_no = t2.order_no;\n",
    "'''"
   ]
  },
  {
   "cell_type": "raw",
   "metadata": {},
   "source": [
    "命中规则情况数据提取"
   ]
  },
  {
   "cell_type": "code",
   "execution_count": 5,
   "metadata": {},
   "outputs": [],
   "source": [
    "query3 = '''\n",
    "select order_no, count(1) as cnt_rej\n",
    "from dw_flb_approval_phl_approval_prod_application_reasons\n",
    "where in_use = 1 and reason_code in ('R101', 'R102', 'R103','R106', 'R108','R109','R201', 'R202', 'R203', 'R204','R205','R401', 'R404','R406', 'R410','R703')\n",
    "group by order_no\n",
    "'''"
   ]
  },
  {
   "cell_type": "code",
   "execution_count": null,
   "metadata": {},
   "outputs": [],
   "source": [
    "命中模型情况数据提取"
   ]
  },
  {
   "cell_type": "code",
   "execution_count": 6,
   "metadata": {},
   "outputs": [],
   "source": [
    "query4 = '''\n",
    "select order_no,count(1) as reject_model\n",
    "from dw_flb_approval_phl_approval_prod_application_reasons\n",
    "where  in_use = 1 and reason_code  = 'R107'\n",
    "group by order_no\n",
    "'''"
   ]
  },
  {
   "cell_type": "code",
   "execution_count": 7,
   "metadata": {},
   "outputs": [
    {
     "name": "stdout",
     "output_type": "stream",
     "text": [
      "Successful connection\n",
      "Successful connection\n",
      "Successful connection\n",
      "Successful connection\n"
     ]
    }
   ],
   "source": [
    "df_apply = data_qry.database_gn(query1)\n",
    "df_apply.to_csv(file_path + 'df_apply.csv', index = False)\n",
    "df_fund = data_qry.database_gn(query2)\n",
    "df_fund.to_csv(file_path + 'df_fund.csv', index = False)\n",
    "df_rule_reject = data_qry.database_gn(query3)\n",
    "df_rule_reject.to_csv(file_path + 'df_rule_reject.csv', index = False)\n",
    "df_model_reject = data_qry.database_gn(query4)\n",
    "df_model_reject.to_csv(file_path + 'df_model_reject.csv', index = False)"
   ]
  },
  {
   "cell_type": "markdown",
   "metadata": {},
   "source": [
    "# 2）v1 和 v2 在申请用户和放款用户上的表现"
   ]
  },
  {
   "cell_type": "code",
   "execution_count": 16,
   "metadata": {},
   "outputs": [
    {
     "data": {
      "text/plain": [
       "(42526, 6)"
      ]
     },
     "execution_count": 16,
     "metadata": {},
     "output_type": "execute_result"
    },
    {
     "data": {
      "text/plain": [
       "(4246, 11)"
      ]
     },
     "execution_count": 16,
     "metadata": {},
     "output_type": "execute_result"
    }
   ],
   "source": [
    "df_apply = pd.read_csv(file_path + 'df_apply.csv')\n",
    "df_apply = df_apply[~df_apply['score_v2'].isnull()]\n",
    "df_fund = pd.read_csv(file_path + 'df_fund.csv')\n",
    "df_fund = df_fund[~df_fund['score_v2'].isnull()]\n",
    "df_apply.shape\n",
    "df_fund.shape\n",
    "use_cols = ['order_no', 'start_date', 'actual_paid_off_date', 'due_date',\n",
    "       'loan_days', 'late_day', 'dpd1', 'dpd7']\n",
    "my_df = pd.merge(df_apply, df_fund[use_cols], on = 'order_no', how='left')\n",
    "# my_df.info()"
   ]
  },
  {
   "cell_type": "code",
   "execution_count": 17,
   "metadata": {
    "scrolled": true
   },
   "outputs": [
    {
     "data": {
      "text/plain": [
       "[0, 344.0, 404.0, 446.0, 485.0, 525.0, 567.0, 611.0, 664.0, 731.0, 1000]"
      ]
     },
     "execution_count": 17,
     "metadata": {},
     "output_type": "execute_result"
    },
    {
     "data": {
      "text/plain": [
       "[0, 528.0, 551.0, 568.0, 585.0, 600.0, 616.0, 633.0, 652.0, 680.0, 1000]"
      ]
     },
     "execution_count": 17,
     "metadata": {},
     "output_type": "execute_result"
    }
   ],
   "source": [
    "new_v1_score_bin = sorted(set(my_df['score_v1'].quantile([.1, .2, .3, .4, .5, .6, .7, .8, .9]).values))\n",
    "new_v1_score_bin.insert(0, 0)\n",
    "new_v1_score_bin.append(1000)\n",
    "new_v2_score_bin = sorted(set(my_df['score_v2'].quantile([.1, .2, .3, .4, .5, .6, .7, .8, .9]).values))\n",
    "new_v2_score_bin.insert(0, 0)\n",
    "new_v2_score_bin.append(1000)\n",
    "new_v1_score_bin\n",
    "new_v2_score_bin"
   ]
  },
  {
   "cell_type": "raw",
   "metadata": {},
   "source": [
    "在申请人群上的表现"
   ]
  },
  {
   "cell_type": "code",
   "execution_count": 20,
   "metadata": {},
   "outputs": [
    {
     "data": {
      "text/html": [
       "<div>\n",
       "<style scoped>\n",
       "    .dataframe tbody tr th:only-of-type {\n",
       "        vertical-align: middle;\n",
       "    }\n",
       "\n",
       "    .dataframe tbody tr th {\n",
       "        vertical-align: top;\n",
       "    }\n",
       "\n",
       "    .dataframe thead th {\n",
       "        text-align: right;\n",
       "    }\n",
       "</style>\n",
       "<table border=\"1\" class=\"dataframe\">\n",
       "  <thead>\n",
       "    <tr style=\"text-align: right;\">\n",
       "      <th></th>\n",
       "      <th>group_v1</th>\n",
       "      <th>cnt_apply</th>\n",
       "      <th>cnt_fund</th>\n",
       "      <th>cnt_fdq</th>\n",
       "      <th>cnt_dpd7+</th>\n",
       "      <th>FDQ</th>\n",
       "      <th>DPD7+</th>\n",
       "    </tr>\n",
       "  </thead>\n",
       "  <tbody>\n",
       "    <tr>\n",
       "      <th>0</th>\n",
       "      <td>(0.0, 344.0]</td>\n",
       "      <td>4277</td>\n",
       "      <td>77</td>\n",
       "      <td>55.0</td>\n",
       "      <td>38.0</td>\n",
       "      <td>0.714286</td>\n",
       "      <td>0.493506</td>\n",
       "    </tr>\n",
       "    <tr>\n",
       "      <th>1</th>\n",
       "      <td>(344.0, 404.0]</td>\n",
       "      <td>4258</td>\n",
       "      <td>166</td>\n",
       "      <td>105.0</td>\n",
       "      <td>74.0</td>\n",
       "      <td>0.632530</td>\n",
       "      <td>0.445783</td>\n",
       "    </tr>\n",
       "    <tr>\n",
       "      <th>2</th>\n",
       "      <td>(404.0, 446.0]</td>\n",
       "      <td>4280</td>\n",
       "      <td>221</td>\n",
       "      <td>137.0</td>\n",
       "      <td>97.0</td>\n",
       "      <td>0.619910</td>\n",
       "      <td>0.438914</td>\n",
       "    </tr>\n",
       "    <tr>\n",
       "      <th>3</th>\n",
       "      <td>(446.0, 485.0]</td>\n",
       "      <td>4276</td>\n",
       "      <td>274</td>\n",
       "      <td>186.0</td>\n",
       "      <td>137.0</td>\n",
       "      <td>0.678832</td>\n",
       "      <td>0.500000</td>\n",
       "    </tr>\n",
       "    <tr>\n",
       "      <th>4</th>\n",
       "      <td>(485.0, 525.0]</td>\n",
       "      <td>4238</td>\n",
       "      <td>289</td>\n",
       "      <td>186.0</td>\n",
       "      <td>131.0</td>\n",
       "      <td>0.643599</td>\n",
       "      <td>0.453287</td>\n",
       "    </tr>\n",
       "    <tr>\n",
       "      <th>5</th>\n",
       "      <td>(525.0, 567.0]</td>\n",
       "      <td>4232</td>\n",
       "      <td>406</td>\n",
       "      <td>243.0</td>\n",
       "      <td>156.0</td>\n",
       "      <td>0.598522</td>\n",
       "      <td>0.384236</td>\n",
       "    </tr>\n",
       "    <tr>\n",
       "      <th>6</th>\n",
       "      <td>(567.0, 611.0]</td>\n",
       "      <td>4260</td>\n",
       "      <td>527</td>\n",
       "      <td>310.0</td>\n",
       "      <td>198.0</td>\n",
       "      <td>0.588235</td>\n",
       "      <td>0.375712</td>\n",
       "    </tr>\n",
       "    <tr>\n",
       "      <th>7</th>\n",
       "      <td>(611.0, 664.0]</td>\n",
       "      <td>4236</td>\n",
       "      <td>572</td>\n",
       "      <td>324.0</td>\n",
       "      <td>195.0</td>\n",
       "      <td>0.566434</td>\n",
       "      <td>0.340909</td>\n",
       "    </tr>\n",
       "    <tr>\n",
       "      <th>8</th>\n",
       "      <td>(664.0, 731.0]</td>\n",
       "      <td>4267</td>\n",
       "      <td>678</td>\n",
       "      <td>363.0</td>\n",
       "      <td>219.0</td>\n",
       "      <td>0.535398</td>\n",
       "      <td>0.323009</td>\n",
       "    </tr>\n",
       "    <tr>\n",
       "      <th>9</th>\n",
       "      <td>(731.0, 1000.0]</td>\n",
       "      <td>4202</td>\n",
       "      <td>1024</td>\n",
       "      <td>515.0</td>\n",
       "      <td>270.0</td>\n",
       "      <td>0.502930</td>\n",
       "      <td>0.263672</td>\n",
       "    </tr>\n",
       "  </tbody>\n",
       "</table>\n",
       "</div>"
      ],
      "text/latex": [
       "\\begin{tabular}{llrrrrrr}\n",
       "\\toprule\n",
       "{} &         group\\_v1 &  cnt\\_apply &  cnt\\_fund &  cnt\\_fdq &  cnt\\_dpd7+ &       FDQ &     DPD7+ \\\\\n",
       "\\midrule\n",
       "0 &     (0.0, 344.0] &       4277 &        77 &     55.0 &       38.0 &  0.714286 &  0.493506 \\\\\n",
       "1 &   (344.0, 404.0] &       4258 &       166 &    105.0 &       74.0 &  0.632530 &  0.445783 \\\\\n",
       "2 &   (404.0, 446.0] &       4280 &       221 &    137.0 &       97.0 &  0.619910 &  0.438914 \\\\\n",
       "3 &   (446.0, 485.0] &       4276 &       274 &    186.0 &      137.0 &  0.678832 &  0.500000 \\\\\n",
       "4 &   (485.0, 525.0] &       4238 &       289 &    186.0 &      131.0 &  0.643599 &  0.453287 \\\\\n",
       "5 &   (525.0, 567.0] &       4232 &       406 &    243.0 &      156.0 &  0.598522 &  0.384236 \\\\\n",
       "6 &   (567.0, 611.0] &       4260 &       527 &    310.0 &      198.0 &  0.588235 &  0.375712 \\\\\n",
       "7 &   (611.0, 664.0] &       4236 &       572 &    324.0 &      195.0 &  0.566434 &  0.340909 \\\\\n",
       "8 &   (664.0, 731.0] &       4267 &       678 &    363.0 &      219.0 &  0.535398 &  0.323009 \\\\\n",
       "9 &  (731.0, 1000.0] &       4202 &      1024 &    515.0 &      270.0 &  0.502930 &  0.263672 \\\\\n",
       "\\bottomrule\n",
       "\\end{tabular}\n"
      ],
      "text/plain": [
       "          group_v1  cnt_apply  cnt_fund  cnt_fdq  cnt_dpd7+       FDQ  \\\n",
       "0     (0.0, 344.0]       4277        77     55.0       38.0  0.714286   \n",
       "1   (344.0, 404.0]       4258       166    105.0       74.0  0.632530   \n",
       "2   (404.0, 446.0]       4280       221    137.0       97.0  0.619910   \n",
       "3   (446.0, 485.0]       4276       274    186.0      137.0  0.678832   \n",
       "4   (485.0, 525.0]       4238       289    186.0      131.0  0.643599   \n",
       "5   (525.0, 567.0]       4232       406    243.0      156.0  0.598522   \n",
       "6   (567.0, 611.0]       4260       527    310.0      198.0  0.588235   \n",
       "7   (611.0, 664.0]       4236       572    324.0      195.0  0.566434   \n",
       "8   (664.0, 731.0]       4267       678    363.0      219.0  0.535398   \n",
       "9  (731.0, 1000.0]       4202      1024    515.0      270.0  0.502930   \n",
       "\n",
       "      DPD7+  \n",
       "0  0.493506  \n",
       "1  0.445783  \n",
       "2  0.438914  \n",
       "3  0.500000  \n",
       "4  0.453287  \n",
       "5  0.384236  \n",
       "6  0.375712  \n",
       "7  0.340909  \n",
       "8  0.323009  \n",
       "9  0.263672  "
      ]
     },
     "execution_count": 20,
     "metadata": {},
     "output_type": "execute_result"
    },
    {
     "data": {
      "text/html": [
       "<div>\n",
       "<style scoped>\n",
       "    .dataframe tbody tr th:only-of-type {\n",
       "        vertical-align: middle;\n",
       "    }\n",
       "\n",
       "    .dataframe tbody tr th {\n",
       "        vertical-align: top;\n",
       "    }\n",
       "\n",
       "    .dataframe thead th {\n",
       "        text-align: right;\n",
       "    }\n",
       "</style>\n",
       "<table border=\"1\" class=\"dataframe\">\n",
       "  <thead>\n",
       "    <tr style=\"text-align: right;\">\n",
       "      <th></th>\n",
       "      <th>group_v2</th>\n",
       "      <th>cnt_apply</th>\n",
       "      <th>cnt_fund</th>\n",
       "      <th>cnt_fdq</th>\n",
       "      <th>cnt_dpd7+</th>\n",
       "      <th>FDQ</th>\n",
       "      <th>DPD7+</th>\n",
       "    </tr>\n",
       "  </thead>\n",
       "  <tbody>\n",
       "    <tr>\n",
       "      <th>0</th>\n",
       "      <td>(0.0, 528.0]</td>\n",
       "      <td>4308</td>\n",
       "      <td>0</td>\n",
       "      <td>0.0</td>\n",
       "      <td>0.0</td>\n",
       "      <td>NaN</td>\n",
       "      <td>NaN</td>\n",
       "    </tr>\n",
       "    <tr>\n",
       "      <th>1</th>\n",
       "      <td>(528.0, 551.0]</td>\n",
       "      <td>4406</td>\n",
       "      <td>0</td>\n",
       "      <td>0.0</td>\n",
       "      <td>0.0</td>\n",
       "      <td>NaN</td>\n",
       "      <td>NaN</td>\n",
       "    </tr>\n",
       "    <tr>\n",
       "      <th>2</th>\n",
       "      <td>(551.0, 568.0]</td>\n",
       "      <td>4102</td>\n",
       "      <td>0</td>\n",
       "      <td>0.0</td>\n",
       "      <td>0.0</td>\n",
       "      <td>NaN</td>\n",
       "      <td>NaN</td>\n",
       "    </tr>\n",
       "    <tr>\n",
       "      <th>3</th>\n",
       "      <td>(568.0, 585.0]</td>\n",
       "      <td>4422</td>\n",
       "      <td>0</td>\n",
       "      <td>0.0</td>\n",
       "      <td>0.0</td>\n",
       "      <td>NaN</td>\n",
       "      <td>NaN</td>\n",
       "    </tr>\n",
       "    <tr>\n",
       "      <th>4</th>\n",
       "      <td>(585.0, 600.0]</td>\n",
       "      <td>4130</td>\n",
       "      <td>289</td>\n",
       "      <td>208.0</td>\n",
       "      <td>154.0</td>\n",
       "      <td>0.719723</td>\n",
       "      <td>0.532872</td>\n",
       "    </tr>\n",
       "    <tr>\n",
       "      <th>5</th>\n",
       "      <td>(600.0, 616.0]</td>\n",
       "      <td>4346</td>\n",
       "      <td>416</td>\n",
       "      <td>280.0</td>\n",
       "      <td>206.0</td>\n",
       "      <td>0.673077</td>\n",
       "      <td>0.495192</td>\n",
       "    </tr>\n",
       "    <tr>\n",
       "      <th>6</th>\n",
       "      <td>(616.0, 633.0]</td>\n",
       "      <td>4254</td>\n",
       "      <td>461</td>\n",
       "      <td>274.0</td>\n",
       "      <td>179.0</td>\n",
       "      <td>0.594360</td>\n",
       "      <td>0.388286</td>\n",
       "    </tr>\n",
       "    <tr>\n",
       "      <th>7</th>\n",
       "      <td>(633.0, 652.0]</td>\n",
       "      <td>4135</td>\n",
       "      <td>494</td>\n",
       "      <td>282.0</td>\n",
       "      <td>179.0</td>\n",
       "      <td>0.570850</td>\n",
       "      <td>0.362348</td>\n",
       "    </tr>\n",
       "    <tr>\n",
       "      <th>8</th>\n",
       "      <td>(652.0, 680.0]</td>\n",
       "      <td>4221</td>\n",
       "      <td>1211</td>\n",
       "      <td>689.0</td>\n",
       "      <td>428.0</td>\n",
       "      <td>0.568951</td>\n",
       "      <td>0.353427</td>\n",
       "    </tr>\n",
       "    <tr>\n",
       "      <th>9</th>\n",
       "      <td>(680.0, 1000.0]</td>\n",
       "      <td>4202</td>\n",
       "      <td>1363</td>\n",
       "      <td>691.0</td>\n",
       "      <td>369.0</td>\n",
       "      <td>0.506970</td>\n",
       "      <td>0.270726</td>\n",
       "    </tr>\n",
       "  </tbody>\n",
       "</table>\n",
       "</div>"
      ],
      "text/latex": [
       "\\begin{tabular}{llrrrrrr}\n",
       "\\toprule\n",
       "{} &         group\\_v2 &  cnt\\_apply &  cnt\\_fund &  cnt\\_fdq &  cnt\\_dpd7+ &       FDQ &     DPD7+ \\\\\n",
       "\\midrule\n",
       "0 &     (0.0, 528.0] &       4308 &         0 &      0.0 &        0.0 &       NaN &       NaN \\\\\n",
       "1 &   (528.0, 551.0] &       4406 &         0 &      0.0 &        0.0 &       NaN &       NaN \\\\\n",
       "2 &   (551.0, 568.0] &       4102 &         0 &      0.0 &        0.0 &       NaN &       NaN \\\\\n",
       "3 &   (568.0, 585.0] &       4422 &         0 &      0.0 &        0.0 &       NaN &       NaN \\\\\n",
       "4 &   (585.0, 600.0] &       4130 &       289 &    208.0 &      154.0 &  0.719723 &  0.532872 \\\\\n",
       "5 &   (600.0, 616.0] &       4346 &       416 &    280.0 &      206.0 &  0.673077 &  0.495192 \\\\\n",
       "6 &   (616.0, 633.0] &       4254 &       461 &    274.0 &      179.0 &  0.594360 &  0.388286 \\\\\n",
       "7 &   (633.0, 652.0] &       4135 &       494 &    282.0 &      179.0 &  0.570850 &  0.362348 \\\\\n",
       "8 &   (652.0, 680.0] &       4221 &      1211 &    689.0 &      428.0 &  0.568951 &  0.353427 \\\\\n",
       "9 &  (680.0, 1000.0] &       4202 &      1363 &    691.0 &      369.0 &  0.506970 &  0.270726 \\\\\n",
       "\\bottomrule\n",
       "\\end{tabular}\n"
      ],
      "text/plain": [
       "          group_v2  cnt_apply  cnt_fund  cnt_fdq  cnt_dpd7+       FDQ  \\\n",
       "0     (0.0, 528.0]       4308         0      0.0        0.0       NaN   \n",
       "1   (528.0, 551.0]       4406         0      0.0        0.0       NaN   \n",
       "2   (551.0, 568.0]       4102         0      0.0        0.0       NaN   \n",
       "3   (568.0, 585.0]       4422         0      0.0        0.0       NaN   \n",
       "4   (585.0, 600.0]       4130       289    208.0      154.0  0.719723   \n",
       "5   (600.0, 616.0]       4346       416    280.0      206.0  0.673077   \n",
       "6   (616.0, 633.0]       4254       461    274.0      179.0  0.594360   \n",
       "7   (633.0, 652.0]       4135       494    282.0      179.0  0.570850   \n",
       "8   (652.0, 680.0]       4221      1211    689.0      428.0  0.568951   \n",
       "9  (680.0, 1000.0]       4202      1363    691.0      369.0  0.506970   \n",
       "\n",
       "      DPD7+  \n",
       "0       NaN  \n",
       "1       NaN  \n",
       "2       NaN  \n",
       "3       NaN  \n",
       "4  0.532872  \n",
       "5  0.495192  \n",
       "6  0.388286  \n",
       "7  0.362348  \n",
       "8  0.353427  \n",
       "9  0.270726  "
      ]
     },
     "execution_count": 20,
     "metadata": {},
     "output_type": "execute_result"
    }
   ],
   "source": [
    "my_df['group_v1'] = pd.cut(my_df['score_v1'], new_v1_score_bin, right=True)\n",
    "my_df['group_v2'] = pd.cut(my_df['score_v2'], new_v2_score_bin, right=True)\n",
    "my_df.to_csv(file_path + 'my_df.csv')\n",
    "my_group1 = my_df.groupby(['group_v1'])\n",
    "frame1 = pd.DataFrame()\n",
    "frame1['cnt_apply'] = my_group1['order_no'].agg('count')\n",
    "frame1['cnt_fund'] = my_group1['start_date'].agg('count')\n",
    "frame1['cnt_fdq'] = my_group1['dpd1'].agg('sum')\n",
    "frame1['cnt_dpd7+'] = my_group1['dpd7'].agg('sum')\n",
    "frame1['FDQ'] = frame1['cnt_fdq']/frame1['cnt_fund']\n",
    "frame1['DPD7+'] = frame1['cnt_dpd7+']/frame1['cnt_fund']\n",
    "frame1 = frame1.reset_index()\n",
    "frame1\n",
    "\n",
    "my_group2 = my_df.groupby(['group_v2'])\n",
    "frame2 = pd.DataFrame()\n",
    "frame2['cnt_apply'] = my_group2['order_no'].agg('count')\n",
    "frame2['cnt_fund'] = my_group2['start_date'].agg('count')\n",
    "frame2['cnt_fdq'] = my_group2['dpd1'].agg('sum')\n",
    "frame2['cnt_dpd7+'] = my_group2['dpd7'].agg('sum')\n",
    "frame2['FDQ'] = frame2['cnt_fdq']/frame2['cnt_fund']\n",
    "frame2['DPD7+'] = frame2['cnt_dpd7+']/frame2['cnt_fund']\n",
    "frame2 = frame2.reset_index()\n",
    "frame2"
   ]
  },
  {
   "cell_type": "code",
   "execution_count": 19,
   "metadata": {
    "scrolled": false
   },
   "outputs": [
    {
     "data": {
      "text/plain": [
       "<matplotlib.legend.Legend at 0x1a23639350>"
      ]
     },
     "execution_count": 19,
     "metadata": {},
     "output_type": "execute_result"
    },
    {
     "data": {
      "text/plain": [
       "[<matplotlib.lines.Line2D at 0x1a23782790>]"
      ]
     },
     "execution_count": 19,
     "metadata": {},
     "output_type": "execute_result"
    },
    {
     "data": {
      "text/plain": [
       "Text(0.5, 1.0, 'score_v1 in 10 Quantiles')"
      ]
     },
     "execution_count": 19,
     "metadata": {},
     "output_type": "execute_result"
    },
    {
     "data": {
      "text/plain": [
       "<matplotlib.legend.Legend at 0x1a2279d090>"
      ]
     },
     "execution_count": 19,
     "metadata": {},
     "output_type": "execute_result"
    },
    {
     "data": {
      "text/plain": [
       "[<matplotlib.lines.Line2D at 0x1a22767910>]"
      ]
     },
     "execution_count": 19,
     "metadata": {},
     "output_type": "execute_result"
    },
    {
     "data": {
      "text/plain": [
       "Text(0.5, 1.0, 'score_v2 in 10 Quantiles')"
      ]
     },
     "execution_count": 19,
     "metadata": {},
     "output_type": "execute_result"
    },
    {
     "data": {
      "text/plain": [
       "<Figure size 360x216 with 0 Axes>"
      ]
     },
     "metadata": {},
     "output_type": "display_data"
    },
    {
     "data": {
      "image/png": "[encoded data removed]",
      "text/plain": [
       "<Figure size 360x216 with 2 Axes>"
      ]
     },
     "metadata": {},
     "output_type": "display_data"
    },
    {
     "data": {
      "image/png": "[encoded data removed]",
      "text/plain": [
       "<Figure size 360x216 with 2 Axes>"
      ]
     },
     "metadata": {},
     "output_type": "display_data"
    },
    {
     "data": {
      "text/plain": [
       "[<matplotlib.lines.Line2D at 0x1a2272e350>]"
      ]
     },
     "execution_count": 19,
     "metadata": {},
     "output_type": "execute_result"
    },
    {
     "data": {
      "text/plain": [
       "[<matplotlib.lines.Line2D at 0x1a2279ff50>]"
      ]
     },
     "execution_count": 19,
     "metadata": {},
     "output_type": "execute_result"
    },
    {
     "data": {
      "text/plain": [
       "Text(0.5, 0, 'quantile')"
      ]
     },
     "execution_count": 19,
     "metadata": {},
     "output_type": "execute_result"
    },
    {
     "data": {
      "text/plain": [
       "Text(0, 0.5, 'overdue')"
      ]
     },
     "execution_count": 19,
     "metadata": {},
     "output_type": "execute_result"
    },
    {
     "data": {
      "text/plain": [
       "Text(0.5, 1.0, 'score_v1 VS score_v2 申请和放款用户')"
      ]
     },
     "execution_count": 19,
     "metadata": {},
     "output_type": "execute_result"
    },
    {
     "data": {
      "text/plain": [
       "<matplotlib.legend.Legend at 0x1a2277e250>"
      ]
     },
     "execution_count": 19,
     "metadata": {},
     "output_type": "execute_result"
    },
    {
     "data": {
      "image/png": "[encoded data removed]",
      "text/plain": [
       "<Figure size 360x216 with 1 Axes>"
      ]
     },
     "metadata": {},
     "output_type": "display_data"
    }
   ],
   "source": [
    "# 1)分开绘图\n",
    "fig = plt.figure()\n",
    "# ax1 = fig.add_subplot(121)\n",
    "ax1 = frame1[['cnt_apply', 'cnt_fund']].plot.bar()\n",
    "plt.legend(loc= 'upper right')\n",
    "ax2 = ax1.twinx()   #组合图必须加这个\n",
    "ax2.plot(frame1['DPD7+'] ,color = 'r')\n",
    "plt.title('score_v1 in 10 Quantiles')\n",
    "# ax3 = fig.add_subplot(122)\n",
    "ax3 = frame2[['cnt_apply', 'cnt_fund']].plot.bar()\n",
    "plt.legend(loc= 'upper right')\n",
    "ax4 = ax3.twinx()   #组合图必须加这个\n",
    "ax4.plot(frame2['DPD7+'] ,color = 'r')\n",
    "plt.title('score_v2 in 10 Quantiles')\n",
    "plt.savefig(file_path + 'figure/fig1.png', format='png', dpi=80)\n",
    "plt.show()\n",
    "plt.close()\n",
    "\n",
    "# 2）一张图\n",
    "x = range(1,11)\n",
    "plt.plot(x,frame1['DPD7+'] )\n",
    "plt.plot(x,frame2['DPD7+'] )\n",
    "plt.xlabel('quantile')\n",
    "plt.ylabel('overdue')\n",
    "plt.title('score_v1 VS score_v2 申请和放款用户')\n",
    "plt.legend(['score_v1', 'score_v2'],loc = 'upper right')\n",
    "plt.savefig(file_path + 'figure/fig2.png', format='png', dpi=80)\n",
    "plt.show()\n",
    "plt.close()"
   ]
  },
  {
   "cell_type": "raw",
   "metadata": {},
   "source": [
    "在放款人群上的表现"
   ]
  },
  {
   "cell_type": "code",
   "execution_count": 21,
   "metadata": {},
   "outputs": [
    {
     "name": "stdout",
     "output_type": "stream",
     "text": [
      "score_v1 is in processing\n"
     ]
    },
    {
     "data": {
      "text/html": [
       "<div>\n",
       "<style scoped>\n",
       "    .dataframe tbody tr th:only-of-type {\n",
       "        vertical-align: middle;\n",
       "    }\n",
       "\n",
       "    .dataframe tbody tr th {\n",
       "        vertical-align: top;\n",
       "    }\n",
       "\n",
       "    .dataframe thead th {\n",
       "        text-align: right;\n",
       "    }\n",
       "</style>\n",
       "<table border=\"1\" class=\"dataframe\">\n",
       "  <thead>\n",
       "    <tr style=\"text-align: right;\">\n",
       "      <th></th>\n",
       "      <th>group</th>\n",
       "      <th>total</th>\n",
       "      <th>bad</th>\n",
       "      <th>good</th>\n",
       "      <th>per%</th>\n",
       "      <th>overdue</th>\n",
       "      <th>cum_bad</th>\n",
       "      <th>cum_good</th>\n",
       "      <th>KS</th>\n",
       "      <th>cum_overdue</th>\n",
       "      <th>WOE</th>\n",
       "      <th>IV</th>\n",
       "    </tr>\n",
       "  </thead>\n",
       "  <tbody>\n",
       "    <tr>\n",
       "      <th>0</th>\n",
       "      <td>score_v1</td>\n",
       "      <td>total</td>\n",
       "      <td>bad</td>\n",
       "      <td>good</td>\n",
       "      <td>per%</td>\n",
       "      <td>overdue</td>\n",
       "      <td>cum_bad</td>\n",
       "      <td>cum_good</td>\n",
       "      <td>KS</td>\n",
       "      <td>cum_overdue</td>\n",
       "      <td>WOE</td>\n",
       "      <td>IV</td>\n",
       "    </tr>\n",
       "    <tr>\n",
       "      <th>1</th>\n",
       "      <td>(204.999, 439.0]</td>\n",
       "      <td>428</td>\n",
       "      <td>197</td>\n",
       "      <td>231</td>\n",
       "      <td>0.100801</td>\n",
       "      <td>0.46028</td>\n",
       "      <td>0.12952</td>\n",
       "      <td>0.0847706</td>\n",
       "      <td>0.0447494</td>\n",
       "      <td>0.46028</td>\n",
       "      <td>0.423886</td>\n",
       "      <td>0.0189687</td>\n",
       "    </tr>\n",
       "    <tr>\n",
       "      <th>2</th>\n",
       "      <td>(439.0, 500.0]</td>\n",
       "      <td>422</td>\n",
       "      <td>206</td>\n",
       "      <td>216</td>\n",
       "      <td>0.0993877</td>\n",
       "      <td>0.488152</td>\n",
       "      <td>0.264957</td>\n",
       "      <td>0.164037</td>\n",
       "      <td>0.100921</td>\n",
       "      <td>0.474118</td>\n",
       "      <td>0.535698</td>\n",
       "      <td>0.0300908</td>\n",
       "    </tr>\n",
       "    <tr>\n",
       "      <th>3</th>\n",
       "      <td>(500.0, 551.0]</td>\n",
       "      <td>429</td>\n",
       "      <td>171</td>\n",
       "      <td>258</td>\n",
       "      <td>0.101036</td>\n",
       "      <td>0.398601</td>\n",
       "      <td>0.377383</td>\n",
       "      <td>0.258716</td>\n",
       "      <td>0.118668</td>\n",
       "      <td>0.448788</td>\n",
       "      <td>0.171804</td>\n",
       "      <td>0.00304904</td>\n",
       "    </tr>\n",
       "    <tr>\n",
       "      <th>4</th>\n",
       "      <td>(551.0, 589.0]</td>\n",
       "      <td>420</td>\n",
       "      <td>168</td>\n",
       "      <td>252</td>\n",
       "      <td>0.0989166</td>\n",
       "      <td>0.4</td>\n",
       "      <td>0.487837</td>\n",
       "      <td>0.351193</td>\n",
       "      <td>0.136644</td>\n",
       "      <td>0.436727</td>\n",
       "      <td>0.177635</td>\n",
       "      <td>0.00319328</td>\n",
       "    </tr>\n",
       "    <tr>\n",
       "      <th>5</th>\n",
       "      <td>(589.0, 628.0]</td>\n",
       "      <td>425</td>\n",
       "      <td>143</td>\n",
       "      <td>282</td>\n",
       "      <td>0.100094</td>\n",
       "      <td>0.336471</td>\n",
       "      <td>0.581854</td>\n",
       "      <td>0.454679</td>\n",
       "      <td>0.127175</td>\n",
       "      <td>0.416667</td>\n",
       "      <td>-0.095962</td>\n",
       "      <td>0.000908678</td>\n",
       "    </tr>\n",
       "    <tr>\n",
       "      <th>6</th>\n",
       "      <td>(628.0, 665.0]</td>\n",
       "      <td>426</td>\n",
       "      <td>150</td>\n",
       "      <td>276</td>\n",
       "      <td>0.10033</td>\n",
       "      <td>0.352113</td>\n",
       "      <td>0.680473</td>\n",
       "      <td>0.555963</td>\n",
       "      <td>0.12451</td>\n",
       "      <td>0.405882</td>\n",
       "      <td>-0.0266652</td>\n",
       "      <td>7.10646e-05</td>\n",
       "    </tr>\n",
       "    <tr>\n",
       "      <th>7</th>\n",
       "      <td>(665.0, 706.0]</td>\n",
       "      <td>428</td>\n",
       "      <td>150</td>\n",
       "      <td>278</td>\n",
       "      <td>0.100801</td>\n",
       "      <td>0.350467</td>\n",
       "      <td>0.779093</td>\n",
       "      <td>0.657982</td>\n",
       "      <td>0.121111</td>\n",
       "      <td>0.397918</td>\n",
       "      <td>-0.0338854</td>\n",
       "      <td>0.000115177</td>\n",
       "    </tr>\n",
       "    <tr>\n",
       "      <th>8</th>\n",
       "      <td>(706.0, 746.0]</td>\n",
       "      <td>422</td>\n",
       "      <td>115</td>\n",
       "      <td>307</td>\n",
       "      <td>0.0993877</td>\n",
       "      <td>0.272512</td>\n",
       "      <td>0.854701</td>\n",
       "      <td>0.770642</td>\n",
       "      <td>0.0840587</td>\n",
       "      <td>0.382353</td>\n",
       "      <td>-0.398815</td>\n",
       "      <td>0.0147771</td>\n",
       "    </tr>\n",
       "    <tr>\n",
       "      <th>9</th>\n",
       "      <td>(746.0, 798.0]</td>\n",
       "      <td>424</td>\n",
       "      <td>113</td>\n",
       "      <td>311</td>\n",
       "      <td>0.0998587</td>\n",
       "      <td>0.266509</td>\n",
       "      <td>0.928994</td>\n",
       "      <td>0.884771</td>\n",
       "      <td>0.0442234</td>\n",
       "      <td>0.369508</td>\n",
       "      <td>-0.429305</td>\n",
       "      <td>0.0171014</td>\n",
       "    </tr>\n",
       "    <tr>\n",
       "      <th>10</th>\n",
       "      <td>(798.0, 937.0]</td>\n",
       "      <td>422</td>\n",
       "      <td>108</td>\n",
       "      <td>314</td>\n",
       "      <td>0.0993877</td>\n",
       "      <td>0.255924</td>\n",
       "      <td>1</td>\n",
       "      <td>1</td>\n",
       "      <td>0</td>\n",
       "      <td>0.35822</td>\n",
       "      <td>-0.484161</td>\n",
       "      <td>0.0214113</td>\n",
       "    </tr>\n",
       "  </tbody>\n",
       "</table>\n",
       "</div>"
      ],
      "text/latex": [
       "\\begin{tabular}{lllllllllllll}\n",
       "\\toprule\n",
       "{} &             group &  total &  bad &  good &       per\\% &   overdue &   cum\\_bad &   cum\\_good &         KS &  cum\\_overdue &        WOE &           IV \\\\\n",
       "\\midrule\n",
       "0  &          score\\_v1 &  total &  bad &  good &       per\\% &   overdue &   cum\\_bad &   cum\\_good &         KS &  cum\\_overdue &        WOE &           IV \\\\\n",
       "1  &  (204.999, 439.0] &    428 &  197 &   231 &   0.100801 &   0.46028 &   0.12952 &  0.0847706 &  0.0447494 &      0.46028 &   0.423886 &    0.0189687 \\\\\n",
       "2  &    (439.0, 500.0] &    422 &  206 &   216 &  0.0993877 &  0.488152 &  0.264957 &   0.164037 &   0.100921 &     0.474118 &   0.535698 &    0.0300908 \\\\\n",
       "3  &    (500.0, 551.0] &    429 &  171 &   258 &   0.101036 &  0.398601 &  0.377383 &   0.258716 &   0.118668 &     0.448788 &   0.171804 &   0.00304904 \\\\\n",
       "4  &    (551.0, 589.0] &    420 &  168 &   252 &  0.0989166 &       0.4 &  0.487837 &   0.351193 &   0.136644 &     0.436727 &   0.177635 &   0.00319328 \\\\\n",
       "5  &    (589.0, 628.0] &    425 &  143 &   282 &   0.100094 &  0.336471 &  0.581854 &   0.454679 &   0.127175 &     0.416667 &  -0.095962 &  0.000908678 \\\\\n",
       "6  &    (628.0, 665.0] &    426 &  150 &   276 &    0.10033 &  0.352113 &  0.680473 &   0.555963 &    0.12451 &     0.405882 & -0.0266652 &  7.10646e-05 \\\\\n",
       "7  &    (665.0, 706.0] &    428 &  150 &   278 &   0.100801 &  0.350467 &  0.779093 &   0.657982 &   0.121111 &     0.397918 & -0.0338854 &  0.000115177 \\\\\n",
       "8  &    (706.0, 746.0] &    422 &  115 &   307 &  0.0993877 &  0.272512 &  0.854701 &   0.770642 &  0.0840587 &     0.382353 &  -0.398815 &    0.0147771 \\\\\n",
       "9  &    (746.0, 798.0] &    424 &  113 &   311 &  0.0998587 &  0.266509 &  0.928994 &   0.884771 &  0.0442234 &     0.369508 &  -0.429305 &    0.0171014 \\\\\n",
       "10 &    (798.0, 937.0] &    422 &  108 &   314 &  0.0993877 &  0.255924 &         1 &          1 &          0 &      0.35822 &  -0.484161 &    0.0214113 \\\\\n",
       "\\bottomrule\n",
       "\\end{tabular}\n"
      ],
      "text/plain": [
       "               group  total  bad  good       per%   overdue   cum_bad  \\\n",
       "0           score_v1  total  bad  good       per%   overdue   cum_bad   \n",
       "1   (204.999, 439.0]    428  197   231   0.100801   0.46028   0.12952   \n",
       "2     (439.0, 500.0]    422  206   216  0.0993877  0.488152  0.264957   \n",
       "3     (500.0, 551.0]    429  171   258   0.101036  0.398601  0.377383   \n",
       "4     (551.0, 589.0]    420  168   252  0.0989166       0.4  0.487837   \n",
       "5     (589.0, 628.0]    425  143   282   0.100094  0.336471  0.581854   \n",
       "6     (628.0, 665.0]    426  150   276    0.10033  0.352113  0.680473   \n",
       "7     (665.0, 706.0]    428  150   278   0.100801  0.350467  0.779093   \n",
       "8     (706.0, 746.0]    422  115   307  0.0993877  0.272512  0.854701   \n",
       "9     (746.0, 798.0]    424  113   311  0.0998587  0.266509  0.928994   \n",
       "10    (798.0, 937.0]    422  108   314  0.0993877  0.255924         1   \n",
       "\n",
       "     cum_good         KS  cum_overdue        WOE           IV  \n",
       "0    cum_good         KS  cum_overdue        WOE           IV  \n",
       "1   0.0847706  0.0447494      0.46028   0.423886    0.0189687  \n",
       "2    0.164037   0.100921     0.474118   0.535698    0.0300908  \n",
       "3    0.258716   0.118668     0.448788   0.171804   0.00304904  \n",
       "4    0.351193   0.136644     0.436727   0.177635   0.00319328  \n",
       "5    0.454679   0.127175     0.416667  -0.095962  0.000908678  \n",
       "6    0.555963    0.12451     0.405882 -0.0266652  7.10646e-05  \n",
       "7    0.657982   0.121111     0.397918 -0.0338854  0.000115177  \n",
       "8    0.770642  0.0840587     0.382353  -0.398815    0.0147771  \n",
       "9    0.884771  0.0442234     0.369508  -0.429305    0.0171014  \n",
       "10          1          0      0.35822  -0.484161    0.0214113  "
      ]
     },
     "execution_count": 21,
     "metadata": {},
     "output_type": "execute_result"
    },
    {
     "data": {
      "text/plain": [
       "[<matplotlib.lines.Line2D at 0x1a23aae750>]"
      ]
     },
     "execution_count": 21,
     "metadata": {},
     "output_type": "execute_result"
    },
    {
     "name": "stdout",
     "output_type": "stream",
     "text": [
      "KS =  0.13664428882495216\n",
      "IV =  0.10968646963335896\n",
      "score_v2 is in processing\n"
     ]
    },
    {
     "data": {
      "text/html": [
       "<div>\n",
       "<style scoped>\n",
       "    .dataframe tbody tr th:only-of-type {\n",
       "        vertical-align: middle;\n",
       "    }\n",
       "\n",
       "    .dataframe tbody tr th {\n",
       "        vertical-align: top;\n",
       "    }\n",
       "\n",
       "    .dataframe thead th {\n",
       "        text-align: right;\n",
       "    }\n",
       "</style>\n",
       "<table border=\"1\" class=\"dataframe\">\n",
       "  <thead>\n",
       "    <tr style=\"text-align: right;\">\n",
       "      <th></th>\n",
       "      <th>group</th>\n",
       "      <th>total</th>\n",
       "      <th>bad</th>\n",
       "      <th>good</th>\n",
       "      <th>per%</th>\n",
       "      <th>overdue</th>\n",
       "      <th>cum_bad</th>\n",
       "      <th>cum_good</th>\n",
       "      <th>KS</th>\n",
       "      <th>cum_overdue</th>\n",
       "      <th>WOE</th>\n",
       "      <th>IV</th>\n",
       "    </tr>\n",
       "  </thead>\n",
       "  <tbody>\n",
       "    <tr>\n",
       "      <th>0</th>\n",
       "      <td>score_v2</td>\n",
       "      <td>total</td>\n",
       "      <td>bad</td>\n",
       "      <td>good</td>\n",
       "      <td>per%</td>\n",
       "      <td>overdue</td>\n",
       "      <td>cum_bad</td>\n",
       "      <td>cum_good</td>\n",
       "      <td>KS</td>\n",
       "      <td>cum_overdue</td>\n",
       "      <td>WOE</td>\n",
       "      <td>IV</td>\n",
       "    </tr>\n",
       "    <tr>\n",
       "      <th>1</th>\n",
       "      <td>(588.999, 606.0]</td>\n",
       "      <td>441</td>\n",
       "      <td>231</td>\n",
       "      <td>210</td>\n",
       "      <td>0.103862</td>\n",
       "      <td>0.52381</td>\n",
       "      <td>0.151874</td>\n",
       "      <td>0.0770642</td>\n",
       "      <td>0.0748095</td>\n",
       "      <td>0.52381</td>\n",
       "      <td>0.678411</td>\n",
       "      <td>0.0507516</td>\n",
       "    </tr>\n",
       "    <tr>\n",
       "      <th>2</th>\n",
       "      <td>(606.0, 622.0]</td>\n",
       "      <td>412</td>\n",
       "      <td>184</td>\n",
       "      <td>228</td>\n",
       "      <td>0.0970325</td>\n",
       "      <td>0.446602</td>\n",
       "      <td>0.272847</td>\n",
       "      <td>0.160734</td>\n",
       "      <td>0.112113</td>\n",
       "      <td>0.486518</td>\n",
       "      <td>0.368691</td>\n",
       "      <td>0.0137534</td>\n",
       "    </tr>\n",
       "    <tr>\n",
       "      <th>3</th>\n",
       "      <td>(622.0, 638.0]</td>\n",
       "      <td>439</td>\n",
       "      <td>178</td>\n",
       "      <td>261</td>\n",
       "      <td>0.103391</td>\n",
       "      <td>0.405467</td>\n",
       "      <td>0.389875</td>\n",
       "      <td>0.256514</td>\n",
       "      <td>0.133361</td>\n",
       "      <td>0.458978</td>\n",
       "      <td>0.200364</td>\n",
       "      <td>0.00425742</td>\n",
       "    </tr>\n",
       "    <tr>\n",
       "      <th>4</th>\n",
       "      <td>(638.0, 653.0]</td>\n",
       "      <td>408</td>\n",
       "      <td>140</td>\n",
       "      <td>268</td>\n",
       "      <td>0.0960904</td>\n",
       "      <td>0.343137</td>\n",
       "      <td>0.48192</td>\n",
       "      <td>0.354862</td>\n",
       "      <td>0.127057</td>\n",
       "      <td>0.431176</td>\n",
       "      <td>-0.0662441</td>\n",
       "      <td>0.000417598</td>\n",
       "    </tr>\n",
       "    <tr>\n",
       "      <th>5</th>\n",
       "      <td>(653.0, 663.0]</td>\n",
       "      <td>463</td>\n",
       "      <td>171</td>\n",
       "      <td>292</td>\n",
       "      <td>0.109044</td>\n",
       "      <td>0.36933</td>\n",
       "      <td>0.594346</td>\n",
       "      <td>0.462018</td>\n",
       "      <td>0.132327</td>\n",
       "      <td>0.417938</td>\n",
       "      <td>0.0480102</td>\n",
       "      <td>0.000253017</td>\n",
       "    </tr>\n",
       "    <tr>\n",
       "      <th>6</th>\n",
       "      <td>(663.0, 672.0]</td>\n",
       "      <td>407</td>\n",
       "      <td>155</td>\n",
       "      <td>252</td>\n",
       "      <td>0.0958549</td>\n",
       "      <td>0.380835</td>\n",
       "      <td>0.696252</td>\n",
       "      <td>0.554495</td>\n",
       "      <td>0.141757</td>\n",
       "      <td>0.412062</td>\n",
       "      <td>0.0970964</td>\n",
       "      <td>0.000915578</td>\n",
       "    </tr>\n",
       "    <tr>\n",
       "      <th>7</th>\n",
       "      <td>(672.0, 683.0]</td>\n",
       "      <td>433</td>\n",
       "      <td>128</td>\n",
       "      <td>305</td>\n",
       "      <td>0.101978</td>\n",
       "      <td>0.295612</td>\n",
       "      <td>0.780408</td>\n",
       "      <td>0.666422</td>\n",
       "      <td>0.113986</td>\n",
       "      <td>0.395271</td>\n",
       "      <td>-0.285181</td>\n",
       "      <td>0.00791989</td>\n",
       "    </tr>\n",
       "    <tr>\n",
       "      <th>8</th>\n",
       "      <td>(683.0, 696.0]</td>\n",
       "      <td>416</td>\n",
       "      <td>150</td>\n",
       "      <td>266</td>\n",
       "      <td>0.0979746</td>\n",
       "      <td>0.360577</td>\n",
       "      <td>0.879027</td>\n",
       "      <td>0.764037</td>\n",
       "      <td>0.11499</td>\n",
       "      <td>0.39105</td>\n",
       "      <td>0.0102394</td>\n",
       "      <td>1.0287e-05</td>\n",
       "    </tr>\n",
       "    <tr>\n",
       "      <th>9</th>\n",
       "      <td>(696.0, 715.0]</td>\n",
       "      <td>409</td>\n",
       "      <td>102</td>\n",
       "      <td>307</td>\n",
       "      <td>0.096326</td>\n",
       "      <td>0.249389</td>\n",
       "      <td>0.946088</td>\n",
       "      <td>0.876697</td>\n",
       "      <td>0.0693909</td>\n",
       "      <td>0.375914</td>\n",
       "      <td>-0.518775</td>\n",
       "      <td>0.0236558</td>\n",
       "    </tr>\n",
       "    <tr>\n",
       "      <th>10</th>\n",
       "      <td>(715.0, 821.0]</td>\n",
       "      <td>418</td>\n",
       "      <td>82</td>\n",
       "      <td>336</td>\n",
       "      <td>0.0984456</td>\n",
       "      <td>0.196172</td>\n",
       "      <td>1</td>\n",
       "      <td>1</td>\n",
       "      <td>0</td>\n",
       "      <td>0.35822</td>\n",
       "      <td>-0.827291</td>\n",
       "      <td>0.0574065</td>\n",
       "    </tr>\n",
       "  </tbody>\n",
       "</table>\n",
       "</div>"
      ],
      "text/latex": [
       "\\begin{tabular}{lllllllllllll}\n",
       "\\toprule\n",
       "{} &             group &  total &  bad &  good &       per\\% &   overdue &   cum\\_bad &   cum\\_good &         KS &  cum\\_overdue &        WOE &           IV \\\\\n",
       "\\midrule\n",
       "0  &          score\\_v2 &  total &  bad &  good &       per\\% &   overdue &   cum\\_bad &   cum\\_good &         KS &  cum\\_overdue &        WOE &           IV \\\\\n",
       "1  &  (588.999, 606.0] &    441 &  231 &   210 &   0.103862 &   0.52381 &  0.151874 &  0.0770642 &  0.0748095 &      0.52381 &   0.678411 &    0.0507516 \\\\\n",
       "2  &    (606.0, 622.0] &    412 &  184 &   228 &  0.0970325 &  0.446602 &  0.272847 &   0.160734 &   0.112113 &     0.486518 &   0.368691 &    0.0137534 \\\\\n",
       "3  &    (622.0, 638.0] &    439 &  178 &   261 &   0.103391 &  0.405467 &  0.389875 &   0.256514 &   0.133361 &     0.458978 &   0.200364 &   0.00425742 \\\\\n",
       "4  &    (638.0, 653.0] &    408 &  140 &   268 &  0.0960904 &  0.343137 &   0.48192 &   0.354862 &   0.127057 &     0.431176 & -0.0662441 &  0.000417598 \\\\\n",
       "5  &    (653.0, 663.0] &    463 &  171 &   292 &   0.109044 &   0.36933 &  0.594346 &   0.462018 &   0.132327 &     0.417938 &  0.0480102 &  0.000253017 \\\\\n",
       "6  &    (663.0, 672.0] &    407 &  155 &   252 &  0.0958549 &  0.380835 &  0.696252 &   0.554495 &   0.141757 &     0.412062 &  0.0970964 &  0.000915578 \\\\\n",
       "7  &    (672.0, 683.0] &    433 &  128 &   305 &   0.101978 &  0.295612 &  0.780408 &   0.666422 &   0.113986 &     0.395271 &  -0.285181 &   0.00791989 \\\\\n",
       "8  &    (683.0, 696.0] &    416 &  150 &   266 &  0.0979746 &  0.360577 &  0.879027 &   0.764037 &    0.11499 &      0.39105 &  0.0102394 &   1.0287e-05 \\\\\n",
       "9  &    (696.0, 715.0] &    409 &  102 &   307 &   0.096326 &  0.249389 &  0.946088 &   0.876697 &  0.0693909 &     0.375914 &  -0.518775 &    0.0236558 \\\\\n",
       "10 &    (715.0, 821.0] &    418 &   82 &   336 &  0.0984456 &  0.196172 &         1 &          1 &          0 &      0.35822 &  -0.827291 &    0.0574065 \\\\\n",
       "\\bottomrule\n",
       "\\end{tabular}\n"
      ],
      "text/plain": [
       "               group  total  bad  good       per%   overdue   cum_bad  \\\n",
       "0           score_v2  total  bad  good       per%   overdue   cum_bad   \n",
       "1   (588.999, 606.0]    441  231   210   0.103862   0.52381  0.151874   \n",
       "2     (606.0, 622.0]    412  184   228  0.0970325  0.446602  0.272847   \n",
       "3     (622.0, 638.0]    439  178   261   0.103391  0.405467  0.389875   \n",
       "4     (638.0, 653.0]    408  140   268  0.0960904  0.343137   0.48192   \n",
       "5     (653.0, 663.0]    463  171   292   0.109044   0.36933  0.594346   \n",
       "6     (663.0, 672.0]    407  155   252  0.0958549  0.380835  0.696252   \n",
       "7     (672.0, 683.0]    433  128   305   0.101978  0.295612  0.780408   \n",
       "8     (683.0, 696.0]    416  150   266  0.0979746  0.360577  0.879027   \n",
       "9     (696.0, 715.0]    409  102   307   0.096326  0.249389  0.946088   \n",
       "10    (715.0, 821.0]    418   82   336  0.0984456  0.196172         1   \n",
       "\n",
       "     cum_good         KS  cum_overdue        WOE           IV  \n",
       "0    cum_good         KS  cum_overdue        WOE           IV  \n",
       "1   0.0770642  0.0748095      0.52381   0.678411    0.0507516  \n",
       "2    0.160734   0.112113     0.486518   0.368691    0.0137534  \n",
       "3    0.256514   0.133361     0.458978   0.200364   0.00425742  \n",
       "4    0.354862   0.127057     0.431176 -0.0662441  0.000417598  \n",
       "5    0.462018   0.132327     0.417938  0.0480102  0.000253017  \n",
       "6    0.554495   0.141757     0.412062  0.0970964  0.000915578  \n",
       "7    0.666422   0.113986     0.395271  -0.285181   0.00791989  \n",
       "8    0.764037    0.11499      0.39105  0.0102394   1.0287e-05  \n",
       "9    0.876697  0.0693909     0.375914  -0.518775    0.0236558  \n",
       "10          1          0      0.35822  -0.827291    0.0574065  "
      ]
     },
     "execution_count": 21,
     "metadata": {},
     "output_type": "execute_result"
    },
    {
     "data": {
      "text/plain": [
       "[<matplotlib.lines.Line2D at 0x1a23a91250>]"
      ]
     },
     "execution_count": 21,
     "metadata": {},
     "output_type": "execute_result"
    },
    {
     "name": "stdout",
     "output_type": "stream",
     "text": [
      "KS =  0.14175705263919802\n",
      "IV =  0.15934102949015871\n"
     ]
    },
    {
     "data": {
      "text/plain": [
       "Text(0.5, 1.0, 'v1 VS v2 in 10 quantile')"
      ]
     },
     "execution_count": 21,
     "metadata": {},
     "output_type": "execute_result"
    },
    {
     "data": {
      "text/plain": [
       "Text(0.5, 0, 'quantile')"
      ]
     },
     "execution_count": 21,
     "metadata": {},
     "output_type": "execute_result"
    },
    {
     "data": {
      "text/plain": [
       "Text(0, 0.5, 'overdue')"
      ]
     },
     "execution_count": 21,
     "metadata": {},
     "output_type": "execute_result"
    },
    {
     "data": {
      "text/plain": [
       "<matplotlib.legend.Legend at 0x1a2404e290>"
      ]
     },
     "execution_count": 21,
     "metadata": {},
     "output_type": "execute_result"
    },
    {
     "data": {
      "image/png": "[encoded data removed]",
      "text/plain": [
       "<Figure size 360x216 with 1 Axes>"
      ]
     },
     "metadata": {},
     "output_type": "display_data"
    }
   ],
   "source": [
    "var_list = ['score_v1','score_v2']\n",
    "for col in var_list:\n",
    "    print('{} is in processing'.format(col))\n",
    "    temp_frame = dp.ContinuousBin(df_fund, col , target = 'dpd7', n = 10, special_attribute = [],method = 'equal freq')[0]\n",
    "    ks = dp.ContinuousBin(df_fund, col , target = 'dpd7', n = 10, special_attribute = [],method = 'equal freq')[1]\n",
    "    iv = dp.ContinuousBin(df_fund, col , target = 'dpd7', n = 10, special_attribute = [],method = 'equal freq')[2]\n",
    "    temp_frame\n",
    "    plt.plot(range(1,11),temp_frame[1:]['overdue'] )\n",
    "    print('KS = ', ks)\n",
    "    print('IV = ', iv)\n",
    "    \n",
    "plt.title('v1 VS v2 in 10 quantile')\n",
    "plt.xlabel('quantile')\n",
    "plt.ylabel('overdue')\n",
    "plt.legend(['score_v1', 'score_v2'], loc = 0, ncol = 1) \n",
    "plt.savefig(file_path + 'fig2.png', format='png', dpi=80)\n",
    "plt.show()\n",
    "plt.close()"
   ]
  },
  {
   "cell_type": "markdown",
   "metadata": {},
   "source": [
    "# 匹配规则"
   ]
  },
  {
   "cell_type": "code",
   "execution_count": 104,
   "metadata": {
    "scrolled": true
   },
   "outputs": [],
   "source": [
    "df_rule_reject = pd.read_csv(file_path + 'df_rule_reject.csv')\n",
    "df_model_reject = pd.read_csv(file_path + 'df_model_reject.csv')\n",
    "my_df = pd.read_csv(file_path + 'my_df.csv')\n",
    "df_result = pd.merge(my_df,df_rule_reject, on='order_no',how='left')\n",
    "df_result = pd.merge(df_result,df_model_reject, on='order_no',how='left')\n",
    "df_result['reject_rule'] = df_result['cnt_rej'].apply(lambda x: 1 if x>0 else 0)\n",
    "df_result.to_excel(file_path + 'df_reault.xlsx')"
   ]
  },
  {
   "cell_type": "code",
   "execution_count": null,
   "metadata": {},
   "outputs": [],
   "source": []
  }
 ],
 "metadata": {
  "kernelspec": {
   "display_name": "Python 3",
   "language": "python",
   "name": "python3"
  },
  "language_info": {
   "codemirror_mode": {
    "name": "ipython",
    "version": 3
   },
   "file_extension": ".py",
   "mimetype": "text/x-python",
   "name": "python",
   "nbconvert_exporter": "python",
   "pygments_lexer": "ipython3",
   "version": "3.7.6"
  },
  "latex_envs": {
   "LaTeX_envs_menu_present": true,
   "autoclose": false,
   "autocomplete": true,
   "bibliofile": "biblio.bib",
   "cite_by": "apalike",
   "current_citInitial": 1,
   "eqLabelWithNumbers": true,
   "eqNumInitial": 1,
   "hotkeys": {
    "equation": "Ctrl-E",
    "itemize": "Ctrl-I"
   },
   "labels_anchors": false,
   "latex_user_defs": false,
   "report_style_numbering": false,
   "user_envs_cfg": false
  },
  "toc": {
   "base_numbering": 1,
   "nav_menu": {},
   "number_sections": true,
   "sideBar": true,
   "skip_h1_title": false,
   "title_cell": "Table of Contents",
   "title_sidebar": "Contents",
   "toc_cell": false,
   "toc_position": {},
   "toc_section_display": true,
   "toc_window_display": false
  },
  "varInspector": {
   "cols": {
    "lenName": 16,
    "lenType": 16,
    "lenVar": 40
   },
   "kernels_config": {
    "python": {
     "delete_cmd_postfix": "",
     "delete_cmd_prefix": "del ",
     "library": "var_list.py",
     "varRefreshCmd": "print(var_dic_list())"
    },
    "r": {
     "delete_cmd_postfix": ") ",
     "delete_cmd_prefix": "rm(",
     "library": "var_list.r",
     "varRefreshCmd": "cat(var_dic_list()) "
    }
   },
   "types_to_exclude": [
    "module",
    "function",
    "builtin_function_or_method",
    "instance",
    "_Feature"
   ],
   "window_display": false
  }
 },
 "nbformat": 4,
 "nbformat_minor": 2
}
