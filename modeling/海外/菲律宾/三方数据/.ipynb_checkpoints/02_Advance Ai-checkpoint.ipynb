{
 "cells": [
  {
   "cell_type": "markdown",
   "metadata": {},
   "source": [
    "# Summary"
   ]
  },
  {
   "cell_type": "markdown",
   "metadata": {},
   "source": [
    "Advance Ai 数据说明：\n",
    "\n",
    "1）共测试三个产品，黑名单、风险人脸和手机号码状态核验；\n",
    "\n",
    "2）advance ai 数据不提供回溯功能。\n",
    "\n",
    "\n",
    "（一）黑名单\n",
    "\n",
    "样本数据说明：\n",
    "\n",
    "1) 本次共测试数据4563个不同三要素(手机号 + 姓名 + ID 号码)，样本数据类型是 被黑名单拒绝 + 被规则拒绝 + 放款成功；\n",
    "\n",
    "2) 放款成功的样本共计 3104 个，其中首次7+ 的有1798个，占比42%\n",
    "\n",
    "结论：\n",
    "1) 在成功放款的样本上：\n",
    "\n",
    "命中黑名单的逾期率是78.5%, 命中率为3.9%，单变量iv= 0.06；\n",
    "\n",
    "2）在黑名单拒绝的样本上：\n",
    "\n",
    "和本地黑名单规则的重合度为：26.6%\n",
    "\n",
    "3）在规则拒绝的样本上：\n",
    "\n",
    "和本地规则的重合度为：4.2%\n",
    "\n",
    "--因为该变量有区分度且和本地的规则重合度较低，建议接入。\n",
    "\n",
    "\n",
    "（二）风险人脸\n",
    "\n",
    "1) 本次共测试数据2163张照片，样本数据类型是 被黑名单拒绝 + 被规则拒绝 + 放款成功；\n",
    "\n",
    "2) 放款成功的样本共计 1226 个，其中首次7+ 的有340个，占比27.7%\n",
    "\n",
    "结论：\n",
    "\n",
    "1) 在成功放款的样本上：\n",
    "\n",
    "命中黑名单的逾期率是62.5%, 命中率为2%，但变量iv= 0.03；\n",
    "\n",
    "2）在黑名单拒绝的样本上：\n",
    "\n",
    "和本地黑名单规则的重合度为：20.8%\n",
    "\n",
    "3）在规则拒绝的样本上：\n",
    "\n",
    "和本地规则的重合度为：5.9%\n",
    "\n",
    "--风险人脸和黑名单重合的样本中，风险人脸命中的 85% 都是黑名单命中，重合度高，如果需要多次收费的话，建议接入黑名单之后不用接入风险人脸。\n",
    "\n",
    "\n",
    "（三）手机号码状态核验\n",
    "\n",
    "样本数据说明：\n",
    "\n",
    "1) 本次共测试手机号码415个，样本数据类型是 Answered + Auto Reject + Call Divert + Unattended + incorrect\t；\n",
    "\n",
    "2）其中147个手机号码是成功放款的。\n",
    "\n",
    "结论：\n",
    "\n",
    "1）和本地标记的号码状态差异大\n",
    "\n",
    "2）单看advance ai 的号码状态在放款用户上有区分度 iv= 0.13.\n",
    "\n",
    "3）但是在被规则拒绝的用户上，可触达号码的命中率也有59%，在我们风控是合理的假设条件下，该变量解释性低。\n",
    "\n",
    "其中被规则拒绝的人中，有60%是在人审时 ‘表填联系人手机号码异常’ 拒绝的。\n",
    "\n",
    "--不建议接入。\n"
   ]
  },
  {
   "cell_type": "raw",
   "metadata": {},
   "source": [
    "# packages"
   ]
  },
  {
   "cell_type": "code",
   "execution_count": 30,
   "metadata": {
    "scrolled": true
   },
   "outputs": [],
   "source": [
    "import sys\n",
    "import os\n",
    "import datetime\n",
    "import time\n",
    "import pandas as pd\n",
    "import numpy as np\n",
    "import re\n",
    "pd.options.display.latex.repr = True\n",
    "from collections import Counter\n",
    "import matplotlib.pyplot as plt\n",
    "from matplotlib import rcParams\n",
    "# plt.rcParams['font.sans-serif'] = ['STFangsong']\n",
    "plt.rcParams['font.family']=['Microsoft YaHei']\n",
    "plt.rcParams['axes.unicode_minus'] = False\n",
    "import matplotlib.pylab as mpl\n",
    "plt.rc('figure', figsize=(5, 3))\n",
    "sys.path.append('/Users/yantingting/PycharmProjects/modeling/')\n",
    "import database_conncet as data_con\n",
    "import data_processing as dp\n",
    "import data_encryption as de\n",
    "import warnings\n",
    "warnings.filterwarnings('ignore')"
   ]
  },
  {
   "cell_type": "code",
   "execution_count": 31,
   "metadata": {},
   "outputs": [],
   "source": [
    "file_path = '/Users/yantingting/Seafile/风控/模型/13 菲律宾/三方数据/AdvanceAi/'"
   ]
  },
  {
   "cell_type": "markdown",
   "metadata": {},
   "source": [
    "# 黑名单&风险人脸测试"
   ]
  },
  {
   "cell_type": "markdown",
   "metadata": {
    "heading_collapsed": true
   },
   "source": [
    "## advance数据"
   ]
  },
  {
   "cell_type": "code",
   "execution_count": 32,
   "metadata": {
    "hidden": true,
    "scrolled": true
   },
   "outputs": [
    {
     "data": {
      "text/plain": [
       "(4563, 9)"
      ]
     },
     "execution_count": 32,
     "metadata": {},
     "output_type": "execute_result"
    },
    {
     "data": {
      "text/plain": [
       "(2163, 6)"
      ]
     },
     "execution_count": 32,
     "metadata": {},
     "output_type": "execute_result"
    }
   ],
   "source": [
    "df1 = pd.read_excel(os.path.join(file_path, 'blacklist_ad.xlsx'), na_values=np.nan, keep_default_na=False)\n",
    "df1 = df1.drop('transactionId', axis = 1)\n",
    "df1['temp'] = df1['customer_full_name'] + df1['id_num'] + df1['customer_phone_num']\n",
    "df1 = df1.drop_duplicates()\n",
    "df2 = pd.read_excel(os.path.join(file_path, 'risky_faces_test.xlsx'), na_values=np.nan, keep_default_na=False)\n",
    "df1.shape\n",
    "df2.shape"
   ]
  },
  {
   "cell_type": "markdown",
   "metadata": {
    "heading_collapsed": true
   },
   "source": [
    "## 样本标签"
   ]
  },
  {
   "cell_type": "code",
   "execution_count": null,
   "metadata": {
    "hidden": true
   },
   "outputs": [],
   "source": [
    "query = '''\n",
    "select distinct apply.order_no as order_no\n",
    " , apply.id_type as id_type\n",
    " , md5(apply.id_num) as id_num\n",
    " , md5(apply.customer_full_name) as customer_full_name\n",
    " , md5(apply.customer_phone_num) as customer_phone_num\n",
    " , apply.created_at AS created_at\n",
    " , 'black' as test_type\n",
    " , 0 as latedays\n",
    " ,date('1970-01-01') as effective_date\n",
    "from public.dw_flb_approval_phl_approval_prod_approval_applications as apply \n",
    "left join public.dw_flb_approval_phl_approval_prod_application_reasons as reasons \n",
    "on apply.order_no = reasons.order_no\n",
    "where apply.product_name in ('Peso2Go','JetPeso')\n",
    " and reasons.reason_type = 'reject' and (reasons.reason_code = 'R204'  or reasons.reason_code = 'R202') and date(apply.created_at)<'2019-12-16'\n",
    " UNION ALL \n",
    "  select distinct apply.order_no as order_no\n",
    " , apply.id_type as id_type\n",
    " , md5(apply.id_num) as id_num\n",
    "  , md5(apply.customer_full_name) as customer_full_name\n",
    " , md5(apply.customer_phone_num) as customer_phone_num\n",
    " , apply.created_at AS created_at\n",
    " , 'rule' as test_type\n",
    " , 0 as latedays\n",
    "  ,date('1970-01-01') as effective_date\n",
    "from public.dw_flb_approval_phl_approval_prod_approval_applications as apply \n",
    "left join public.dw_flb_approval_phl_approval_prod_application_reasons as reasons \n",
    "on apply.order_no = reasons.order_no\n",
    "where apply.product_name in ('Peso2Go','JetPeso')\n",
    "and reasons.reason_type = 'reject' and reasons.reason_code != 'R204' and reasons.reason_code != 'R202' and date(apply.created_at)>'2019-12-05' and  date(apply.created_at)<'2019-12-15'\n",
    "UNION ALL \n",
    "select t1.order_no as order_no\n",
    ", t3.id_type as id_type\n",
    ", t3.id_num AS id_num\n",
    ", t3.customer_full_name as customer_full_name\n",
    ", t3.customer_phone_num AS customer_phone_num\n",
    ", t3.created_at AS created_at\n",
    ", 'fund' as test_type\n",
    ", t2.DPD as latedays\n",
    ",t1.effective_date as effective_date\n",
    "from \n",
    "(select order_no,effective_date  from public.dw_flb_hx_phl_core_prod_core_loans \n",
    "where order_type in ('NewApplicationOrder' , 'RepeatApplicationOrder') and product_name in ('Peso2Go','JetPeso')\n",
    "and effective_date between '2019-08-20' and '2019-12-10') t1 \n",
    "left join \n",
    "(SELECT order_no,\n",
    "case when actual_paid_off_date = '1970-01-01' then  '2019-12-29' - due_date\n",
    "else actual_paid_off_date-due_date end AS DPD\n",
    "FROM public.dw_flb_hx_phl_core_prod_core_repayment_schedules\n",
    "WHERE product_name in ('Peso2Go','JetPeso')\n",
    "and  extend_period = 0) t2 \n",
    "on t1.order_no = t2.order_no\n",
    "left join \n",
    "(select order_no\n",
    ", id_type as id_type\n",
    " , md5(customer_full_name) as customer_full_name\n",
    " , md5(id_num) as id_num\n",
    " , md5(customer_phone_num) as customer_phone_num\n",
    " , created_at\n",
    "from public.dw_flb_approval_phl_approval_prod_approval_applications) t3\n",
    "on t1.order_no = t3.order_no;\n",
    "'''"
   ]
  },
  {
   "cell_type": "code",
   "execution_count": 68,
   "metadata": {
    "hidden": true,
    "scrolled": true
   },
   "outputs": [],
   "source": [
    "df_target = data_con.database_gn(query)\n",
    "df_target['temp'] = df_target['customer_full_name'] + df_target['id_num'] + df_target['customer_phone_num']\n",
    "df_target['apply_date'] = df_target['created_at'].apply(lambda x: str(x)[:10])\n",
    "df_target['dpd7+'] = df_target['latedays'].apply(lambda x: 1 if x>=7 else 0)\n",
    "df_target['temp'].nunique()\n",
    "remain_cols = ['order_no','created_at','apply_date','test_type','latedays', 'effective_date', 'temp','dpd7+']\n",
    "df_target = df_target.sort_values(by = 'created_at',ascending=False).drop_duplicates('temp',keep='first')\n",
    "df_target.info()\n",
    "df_target[remain_cols].to_csv(file_path + 'df_target.csv', index = False)"
   ]
  },
  {
   "cell_type": "markdown",
   "metadata": {
    "heading_collapsed": true
   },
   "source": [
    "## 数据合并"
   ]
  },
  {
   "cell_type": "raw",
   "metadata": {
    "hidden": true
   },
   "source": [
    "3.1)黑名单"
   ]
  },
  {
   "cell_type": "code",
   "execution_count": 33,
   "metadata": {
    "hidden": true
   },
   "outputs": [
    {
     "data": {
      "text/plain": [
       "(4563, 16)"
      ]
     },
     "execution_count": 33,
     "metadata": {},
     "output_type": "execute_result"
    },
    {
     "data": {
      "text/html": [
       "<div>\n",
       "<style scoped>\n",
       "    .dataframe tbody tr th:only-of-type {\n",
       "        vertical-align: middle;\n",
       "    }\n",
       "\n",
       "    .dataframe tbody tr th {\n",
       "        vertical-align: top;\n",
       "    }\n",
       "\n",
       "    .dataframe thead th {\n",
       "        text-align: right;\n",
       "    }\n",
       "</style>\n",
       "<table border=\"1\" class=\"dataframe\">\n",
       "  <thead>\n",
       "    <tr style=\"text-align: right;\">\n",
       "      <th></th>\n",
       "      <th>idType</th>\n",
       "      <th>customer_full_name</th>\n",
       "      <th>id_num</th>\n",
       "      <th>customer_phone_num</th>\n",
       "      <th>code</th>\n",
       "      <th>pricingStrategy</th>\n",
       "      <th>hit</th>\n",
       "      <th>hitList</th>\n",
       "      <th>temp</th>\n",
       "      <th>order_no</th>\n",
       "      <th>created_at</th>\n",
       "      <th>apply_date</th>\n",
       "      <th>test_type</th>\n",
       "      <th>latedays</th>\n",
       "      <th>effective_date</th>\n",
       "      <th>dpd7+</th>\n",
       "    </tr>\n",
       "  </thead>\n",
       "  <tbody>\n",
       "    <tr>\n",
       "      <th>0</th>\n",
       "      <td>DRIVER_LICENSE</td>\n",
       "      <td>1e57bc7b209edf6805fd620016c1e55b</td>\n",
       "      <td>9c78283efdd82d3e6413685ebfe9a00a</td>\n",
       "      <td>d0e6bad1f3e514180ae3993c14251f7e</td>\n",
       "      <td>SUCCESS_PASS</td>\n",
       "      <td>FREE</td>\n",
       "      <td>False</td>\n",
       "      <td>[]</td>\n",
       "      <td>1e57bc7b209edf6805fd620016c1e55b9c78283efdd82d...</td>\n",
       "      <td>Jp201912120310</td>\n",
       "      <td>2019-12-12 12:01:26</td>\n",
       "      <td>2019-12-12</td>\n",
       "      <td>rule</td>\n",
       "      <td>0</td>\n",
       "      <td>1970-01-01</td>\n",
       "      <td>0</td>\n",
       "    </tr>\n",
       "    <tr>\n",
       "      <th>1</th>\n",
       "      <td>SSS</td>\n",
       "      <td>23383678f0696297a899be00eb1394ff</td>\n",
       "      <td>29b1cc6b11498f6311b6b8c36d47060b</td>\n",
       "      <td>9ad672f7a6d3b56103eccc0711838465</td>\n",
       "      <td>SUCCESS_PASS</td>\n",
       "      <td>FREE</td>\n",
       "      <td>False</td>\n",
       "      <td>[]</td>\n",
       "      <td>23383678f0696297a899be00eb1394ff29b1cc6b11498f...</td>\n",
       "      <td>Jp201911150236</td>\n",
       "      <td>2019-11-15 10:40:13</td>\n",
       "      <td>2019-11-15</td>\n",
       "      <td>fund</td>\n",
       "      <td>31</td>\n",
       "      <td>2019-11-15</td>\n",
       "      <td>1</td>\n",
       "    </tr>\n",
       "  </tbody>\n",
       "</table>\n",
       "</div>"
      ],
      "text/latex": [
       "\\begin{tabular}{llllllllllllllrlr}\n",
       "\\toprule\n",
       "{} &          idType &                customer\\_full\\_name &                            id\\_num &                customer\\_phone\\_num &          code & pricingStrategy &    hit & hitList &                                               temp &        order\\_no &           created\\_at &  apply\\_date & test\\_type &  latedays & effective\\_date &  dpd7+ \\\\\n",
       "\\midrule\n",
       "0 &  DRIVER\\_LICENSE &  1e57bc7b209edf6805fd620016c1e55b &  9c78283efdd82d3e6413685ebfe9a00a &  d0e6bad1f3e514180ae3993c14251f7e &  SUCCESS\\_PASS &            FREE &  False &      [] &  1e57bc7b209edf6805fd620016c1e55b9c78283efdd82d... &  Jp201912120310 &  2019-12-12 12:01:26 &  2019-12-12 &      rule &         0 &     1970-01-01 &      0 \\\\\n",
       "1 &             SSS &  23383678f0696297a899be00eb1394ff &  29b1cc6b11498f6311b6b8c36d47060b &  9ad672f7a6d3b56103eccc0711838465 &  SUCCESS\\_PASS &            FREE &  False &      [] &  23383678f0696297a899be00eb1394ff29b1cc6b11498f... &  Jp201911150236 &  2019-11-15 10:40:13 &  2019-11-15 &      fund &        31 &     2019-11-15 &      1 \\\\\n",
       "\\bottomrule\n",
       "\\end{tabular}\n"
      ],
      "text/plain": [
       "           idType                customer_full_name  \\\n",
       "0  DRIVER_LICENSE  1e57bc7b209edf6805fd620016c1e55b   \n",
       "1             SSS  23383678f0696297a899be00eb1394ff   \n",
       "\n",
       "                             id_num                customer_phone_num  \\\n",
       "0  9c78283efdd82d3e6413685ebfe9a00a  d0e6bad1f3e514180ae3993c14251f7e   \n",
       "1  29b1cc6b11498f6311b6b8c36d47060b  9ad672f7a6d3b56103eccc0711838465   \n",
       "\n",
       "           code pricingStrategy    hit hitList  \\\n",
       "0  SUCCESS_PASS            FREE  False      []   \n",
       "1  SUCCESS_PASS            FREE  False      []   \n",
       "\n",
       "                                                temp        order_no  \\\n",
       "0  1e57bc7b209edf6805fd620016c1e55b9c78283efdd82d...  Jp201912120310   \n",
       "1  23383678f0696297a899be00eb1394ff29b1cc6b11498f...  Jp201911150236   \n",
       "\n",
       "            created_at  apply_date test_type  latedays effective_date  dpd7+  \n",
       "0  2019-12-12 12:01:26  2019-12-12      rule         0     1970-01-01      0  \n",
       "1  2019-11-15 10:40:13  2019-11-15      fund        31     2019-11-15      1  "
      ]
     },
     "execution_count": 33,
     "metadata": {},
     "output_type": "execute_result"
    }
   ],
   "source": [
    "df_target = pd.read_csv(file_path + 'df_target.csv')\n",
    "my_df= pd.merge(df1, df_target, on='temp', how='left')\n",
    "my_df.shape\n",
    "my_df.head(2)\n",
    "my_df.to_excel(file_path + 'my_df_black.xlsx', index=False)"
   ]
  },
  {
   "cell_type": "raw",
   "metadata": {
    "hidden": true
   },
   "source": [
    "3.2）风险人脸"
   ]
  },
  {
   "cell_type": "code",
   "execution_count": 34,
   "metadata": {
    "hidden": true
   },
   "outputs": [
    {
     "data": {
      "text/plain": [
       "(2163, 15)"
      ]
     },
     "execution_count": 34,
     "metadata": {},
     "output_type": "execute_result"
    }
   ],
   "source": [
    "df_sample_face = pd.read_excel(os.path.join(file_path, '领创智信测试数据1216.xlsx'),sheet_name='风险人脸样本')\n",
    "df2['temp'] = df2['name'].apply(lambda x:  x.split('/')[1].split('.')[0])\n",
    "# df2.info()\n",
    "df_target = pd.read_csv(file_path + 'df_target.csv')\n",
    "my_df= pd.merge(df2, df_sample_face.drop('created_at',axis = 1), left_on='temp',right_on='test_flag', how='left')\n",
    "# my_df.info()\n",
    "my_df1= pd.merge(my_df, df_target.drop('temp',axis = 1), on = 'order_no', how='left')\n",
    "my_df1.shape\n",
    "my_df1.to_excel(file_path + 'my_df_face.xlsx', index=False)"
   ]
  },
  {
   "cell_type": "markdown",
   "metadata": {},
   "source": [
    "## 分析"
   ]
  },
  {
   "cell_type": "markdown",
   "metadata": {
    "heading_collapsed": true
   },
   "source": [
    "### 黑名单"
   ]
  },
  {
   "cell_type": "code",
   "execution_count": 38,
   "metadata": {
    "hidden": true
   },
   "outputs": [
    {
     "data": {
      "image/png": "[encoded data removed]",
      "text/plain": [
       "<Figure size 360x288 with 1 Axes>"
      ]
     },
     "metadata": {
      "needs_background": "light"
     },
     "output_type": "display_data"
    }
   ],
   "source": [
    "my_df_black = pd.read_excel(file_path + 'my_df_black.xlsx')\n",
    "my_df_black.head()\n",
    "temp = my_df_black.groupby(['test_type'])['order_no'].count()\n",
    "plt.figure(figsize=(5,4))\n",
    "plt.bar(temp.index, temp, width=0.2);\n",
    "plt.xticks(rotation=0, fontsize=10)\n",
    "for a, b in zip(temp.index,temp):\n",
    "    plt.text(a, b, '%.2f' % b, ha='center', va='bottom', fontsize=10) \n",
    "plt.title(u'黑名单样本分类');\n",
    "plt.tight_layout();"
   ]
  },
  {
   "cell_type": "raw",
   "metadata": {
    "hidden": true
   },
   "source": [
    "4.1 fund"
   ]
  },
  {
   "cell_type": "code",
   "execution_count": 39,
   "metadata": {
    "hidden": true,
    "scrolled": true
   },
   "outputs": [],
   "source": [
    "my_df_fund = my_df_black[my_df_black['test_type'] == 'fund']"
   ]
  },
  {
   "cell_type": "code",
   "execution_count": 40,
   "metadata": {
    "hidden": true,
    "scrolled": true
   },
   "outputs": [
    {
     "data": {
      "text/html": [
       "<div>\n",
       "<style scoped>\n",
       "    .dataframe tbody tr th:only-of-type {\n",
       "        vertical-align: middle;\n",
       "    }\n",
       "\n",
       "    .dataframe tbody tr th {\n",
       "        vertical-align: top;\n",
       "    }\n",
       "\n",
       "    .dataframe thead th {\n",
       "        text-align: right;\n",
       "    }\n",
       "</style>\n",
       "<table border=\"1\" class=\"dataframe\">\n",
       "  <thead>\n",
       "    <tr style=\"text-align: right;\">\n",
       "      <th></th>\n",
       "      <th>group</th>\n",
       "      <th>total</th>\n",
       "      <th>bad</th>\n",
       "      <th>good</th>\n",
       "      <th>per%</th>\n",
       "      <th>overdue</th>\n",
       "      <th>cum_bad</th>\n",
       "      <th>cum_good</th>\n",
       "      <th>KS</th>\n",
       "      <th>cum_overdue</th>\n",
       "      <th>WOE</th>\n",
       "      <th>IV</th>\n",
       "    </tr>\n",
       "  </thead>\n",
       "  <tbody>\n",
       "    <tr>\n",
       "      <th>0</th>\n",
       "      <td>hit</td>\n",
       "      <td>total</td>\n",
       "      <td>bad</td>\n",
       "      <td>good</td>\n",
       "      <td>per%</td>\n",
       "      <td>overdue</td>\n",
       "      <td>cum_bad</td>\n",
       "      <td>cum_good</td>\n",
       "      <td>KS</td>\n",
       "      <td>cum_overdue</td>\n",
       "      <td>WOE</td>\n",
       "      <td>IV</td>\n",
       "    </tr>\n",
       "    <tr>\n",
       "      <th>1</th>\n",
       "      <td>False</td>\n",
       "      <td>2983</td>\n",
       "      <td>1211</td>\n",
       "      <td>1772</td>\n",
       "      <td>0.961018</td>\n",
       "      <td>0.405967</td>\n",
       "      <td>0.927259</td>\n",
       "      <td>0.985539</td>\n",
       "      <td>0.0582807</td>\n",
       "      <td>0.405967</td>\n",
       "      <td>-0.0609565</td>\n",
       "      <td>0.00355259</td>\n",
       "    </tr>\n",
       "    <tr>\n",
       "      <th>2</th>\n",
       "      <td>True</td>\n",
       "      <td>121</td>\n",
       "      <td>95</td>\n",
       "      <td>26</td>\n",
       "      <td>0.038982</td>\n",
       "      <td>0.785124</td>\n",
       "      <td>1</td>\n",
       "      <td>1</td>\n",
       "      <td>0</td>\n",
       "      <td>0.420747</td>\n",
       "      <td>1.61549</td>\n",
       "      <td>0.0941516</td>\n",
       "    </tr>\n",
       "  </tbody>\n",
       "</table>\n",
       "</div>"
      ],
      "text/latex": [
       "\\begin{tabular}{lllllllllllll}\n",
       "\\toprule\n",
       "{} &  group &  total &   bad &  good &      per\\% &   overdue &   cum\\_bad &  cum\\_good &         KS &  cum\\_overdue &        WOE &          IV \\\\\n",
       "\\midrule\n",
       "0 &    hit &  total &   bad &  good &      per\\% &   overdue &   cum\\_bad &  cum\\_good &         KS &  cum\\_overdue &        WOE &          IV \\\\\n",
       "1 &  False &   2983 &  1211 &  1772 &  0.961018 &  0.405967 &  0.927259 &  0.985539 &  0.0582807 &     0.405967 & -0.0609565 &  0.00355259 \\\\\n",
       "2 &   True &    121 &    95 &    26 &  0.038982 &  0.785124 &         1 &         1 &          0 &     0.420747 &    1.61549 &   0.0941516 \\\\\n",
       "\\bottomrule\n",
       "\\end{tabular}\n"
      ],
      "text/plain": [
       "   group  total   bad  good      per%   overdue   cum_bad  cum_good  \\\n",
       "0    hit  total   bad  good      per%   overdue   cum_bad  cum_good   \n",
       "1  False   2983  1211  1772  0.961018  0.405967  0.927259  0.985539   \n",
       "2   True    121    95    26  0.038982  0.785124         1         1   \n",
       "\n",
       "          KS  cum_overdue        WOE          IV  \n",
       "0         KS  cum_overdue        WOE          IV  \n",
       "1  0.0582807     0.405967 -0.0609565  0.00355259  \n",
       "2          0     0.420747    1.61549   0.0941516  "
      ]
     },
     "execution_count": 40,
     "metadata": {},
     "output_type": "execute_result"
    },
    {
     "name": "stdout",
     "output_type": "stream",
     "text": [
      "black1_iv: 0.05828068280733911\n"
     ]
    }
   ],
   "source": [
    "black1 = dp.ContinuousBin(data_set = my_df_fund, col='hit', target = 'dpd7+', n = 10, special_attribute=[-1,np.nan], method='equal freq')[0]\n",
    "black1\n",
    "black1_iv = dp.ContinuousBin(data_set = my_df_fund, col='hit', target = 'dpd7+', n = 10, special_attribute=[-1,np.nan], method='equal freq')[1]\n",
    "print('black1_iv: %s'%black1_iv)"
   ]
  },
  {
   "cell_type": "raw",
   "metadata": {
    "hidden": true
   },
   "source": [
    "4.2 rule"
   ]
  },
  {
   "cell_type": "code",
   "execution_count": 41,
   "metadata": {
    "hidden": true
   },
   "outputs": [
    {
     "data": {
      "text/plain": [
       "(1110, 16)"
      ]
     },
     "execution_count": 41,
     "metadata": {},
     "output_type": "execute_result"
    }
   ],
   "source": [
    "my_df_rule = my_df_black[my_df_black['test_type'] == 'rule']\n",
    "my_df_rule.shape"
   ]
  },
  {
   "cell_type": "code",
   "execution_count": 43,
   "metadata": {
    "hidden": true
   },
   "outputs": [
    {
     "data": {
      "text/html": [
       "<div>\n",
       "<style scoped>\n",
       "    .dataframe tbody tr th:only-of-type {\n",
       "        vertical-align: middle;\n",
       "    }\n",
       "\n",
       "    .dataframe tbody tr th {\n",
       "        vertical-align: top;\n",
       "    }\n",
       "\n",
       "    .dataframe thead th {\n",
       "        text-align: right;\n",
       "    }\n",
       "</style>\n",
       "<table border=\"1\" class=\"dataframe\">\n",
       "  <thead>\n",
       "    <tr style=\"text-align: right;\">\n",
       "      <th></th>\n",
       "      <th>hit</th>\n",
       "      <th>N</th>\n",
       "      <th>rate</th>\n",
       "    </tr>\n",
       "  </thead>\n",
       "  <tbody>\n",
       "    <tr>\n",
       "      <th>0</th>\n",
       "      <td>False</td>\n",
       "      <td>1063</td>\n",
       "      <td>0.958</td>\n",
       "    </tr>\n",
       "    <tr>\n",
       "      <th>1</th>\n",
       "      <td>True</td>\n",
       "      <td>47</td>\n",
       "      <td>0.042</td>\n",
       "    </tr>\n",
       "  </tbody>\n",
       "</table>\n",
       "</div>"
      ],
      "text/latex": [
       "\\begin{tabular}{llrr}\n",
       "\\toprule\n",
       "{} &    hit &     N &   rate \\\\\n",
       "\\midrule\n",
       "0 &  False &  1063 &  0.958 \\\\\n",
       "1 &   True &    47 &  0.042 \\\\\n",
       "\\bottomrule\n",
       "\\end{tabular}\n"
      ],
      "text/plain": [
       "     hit     N   rate\n",
       "0  False  1063  0.958\n",
       "1   True    47  0.042"
      ]
     },
     "execution_count": 43,
     "metadata": {},
     "output_type": "execute_result"
    }
   ],
   "source": [
    "d = Counter(my_df_rule['hit'])\n",
    "temp_frame = pd.DataFrame.from_dict(d, orient='index').reset_index().rename(columns = {'index':'hit', 0: 'N'})\n",
    "temp_frame['rate'] = round(temp_frame['N']/my_df_rule.shape[0],3)\n",
    "temp_frame"
   ]
  },
  {
   "cell_type": "markdown",
   "metadata": {
    "hidden": true
   },
   "source": [
    "4.3 black"
   ]
  },
  {
   "cell_type": "code",
   "execution_count": 44,
   "metadata": {
    "hidden": true
   },
   "outputs": [
    {
     "data": {
      "text/plain": [
       "(349, 16)"
      ]
     },
     "execution_count": 44,
     "metadata": {},
     "output_type": "execute_result"
    }
   ],
   "source": [
    "my_df_blacklist = my_df_black[my_df_black['test_type'] == 'black']\n",
    "my_df_blacklist.shape"
   ]
  },
  {
   "cell_type": "code",
   "execution_count": 45,
   "metadata": {
    "hidden": true
   },
   "outputs": [
    {
     "data": {
      "text/html": [
       "<div>\n",
       "<style scoped>\n",
       "    .dataframe tbody tr th:only-of-type {\n",
       "        vertical-align: middle;\n",
       "    }\n",
       "\n",
       "    .dataframe tbody tr th {\n",
       "        vertical-align: top;\n",
       "    }\n",
       "\n",
       "    .dataframe thead th {\n",
       "        text-align: right;\n",
       "    }\n",
       "</style>\n",
       "<table border=\"1\" class=\"dataframe\">\n",
       "  <thead>\n",
       "    <tr style=\"text-align: right;\">\n",
       "      <th></th>\n",
       "      <th>hit</th>\n",
       "      <th>N</th>\n",
       "      <th>rate</th>\n",
       "    </tr>\n",
       "  </thead>\n",
       "  <tbody>\n",
       "    <tr>\n",
       "      <th>0</th>\n",
       "      <td>False</td>\n",
       "      <td>4302</td>\n",
       "      <td>0.943</td>\n",
       "    </tr>\n",
       "    <tr>\n",
       "      <th>1</th>\n",
       "      <td>True</td>\n",
       "      <td>261</td>\n",
       "      <td>0.057</td>\n",
       "    </tr>\n",
       "  </tbody>\n",
       "</table>\n",
       "</div>"
      ],
      "text/latex": [
       "\\begin{tabular}{llrr}\n",
       "\\toprule\n",
       "{} &    hit &     N &   rate \\\\\n",
       "\\midrule\n",
       "0 &  False &  4302 &  0.943 \\\\\n",
       "1 &   True &   261 &  0.057 \\\\\n",
       "\\bottomrule\n",
       "\\end{tabular}\n"
      ],
      "text/plain": [
       "     hit     N   rate\n",
       "0  False  4302  0.943\n",
       "1   True   261  0.057"
      ]
     },
     "execution_count": 45,
     "metadata": {},
     "output_type": "execute_result"
    }
   ],
   "source": [
    "d = Counter(my_df_black['hit'])\n",
    "temp_frame = pd.DataFrame.from_dict(d, orient='index').reset_index().rename(columns = {'index':'hit', 0: 'N'})\n",
    "temp_frame['rate'] = round(temp_frame['N']/my_df_black.shape[0],3)\n",
    "temp_frame"
   ]
  },
  {
   "cell_type": "markdown",
   "metadata": {
    "heading_collapsed": true
   },
   "source": [
    "### 风险人脸"
   ]
  },
  {
   "cell_type": "code",
   "execution_count": 46,
   "metadata": {
    "hidden": true
   },
   "outputs": [
    {
     "data": {
      "image/png": "[encoded data removed]",
      "text/plain": [
       "<Figure size 360x288 with 1 Axes>"
      ]
     },
     "metadata": {
      "needs_background": "light"
     },
     "output_type": "display_data"
    }
   ],
   "source": [
    "my_df_face = pd.read_excel(file_path + 'my_df_face.xlsx')\n",
    "# my_df_face.info()\n",
    "my_df_face.head()\n",
    "temp = my_df_face.groupby(['test_type'])['order_no'].count()\n",
    "plt.figure(figsize=(5,4))\n",
    "plt.bar(temp.index, temp, width=0.2);\n",
    "plt.xticks(rotation=0, fontsize=10)\n",
    "for a, b in zip(temp.index,temp):\n",
    "    plt.text(a, b, '%.2f' % b, ha='center', va='bottom', fontsize=10) \n",
    "plt.title(u'风险人脸样本分类');\n",
    "plt.tight_layout();"
   ]
  },
  {
   "cell_type": "raw",
   "metadata": {
    "hidden": true
   },
   "source": [
    "4.1 fund"
   ]
  },
  {
   "cell_type": "code",
   "execution_count": 47,
   "metadata": {
    "hidden": true
   },
   "outputs": [],
   "source": [
    "my_df_fund = my_df_face[my_df_face['test_type'] == 'fund']"
   ]
  },
  {
   "cell_type": "code",
   "execution_count": 48,
   "metadata": {
    "hidden": true
   },
   "outputs": [
    {
     "data": {
      "text/html": [
       "<div>\n",
       "<style scoped>\n",
       "    .dataframe tbody tr th:only-of-type {\n",
       "        vertical-align: middle;\n",
       "    }\n",
       "\n",
       "    .dataframe tbody tr th {\n",
       "        vertical-align: top;\n",
       "    }\n",
       "\n",
       "    .dataframe thead th {\n",
       "        text-align: right;\n",
       "    }\n",
       "</style>\n",
       "<table border=\"1\" class=\"dataframe\">\n",
       "  <thead>\n",
       "    <tr style=\"text-align: right;\">\n",
       "      <th></th>\n",
       "      <th>group</th>\n",
       "      <th>total</th>\n",
       "      <th>bad</th>\n",
       "      <th>good</th>\n",
       "      <th>per%</th>\n",
       "      <th>overdue</th>\n",
       "      <th>cum_bad</th>\n",
       "      <th>cum_good</th>\n",
       "      <th>KS</th>\n",
       "      <th>cum_overdue</th>\n",
       "      <th>WOE</th>\n",
       "      <th>IV</th>\n",
       "    </tr>\n",
       "  </thead>\n",
       "  <tbody>\n",
       "    <tr>\n",
       "      <th>0</th>\n",
       "      <td>overdue risk</td>\n",
       "      <td>total</td>\n",
       "      <td>bad</td>\n",
       "      <td>good</td>\n",
       "      <td>per%</td>\n",
       "      <td>overdue</td>\n",
       "      <td>cum_bad</td>\n",
       "      <td>cum_good</td>\n",
       "      <td>KS</td>\n",
       "      <td>cum_overdue</td>\n",
       "      <td>WOE</td>\n",
       "      <td>IV</td>\n",
       "    </tr>\n",
       "    <tr>\n",
       "      <th>1</th>\n",
       "      <td>False</td>\n",
       "      <td>1146</td>\n",
       "      <td>311</td>\n",
       "      <td>835</td>\n",
       "      <td>0.934747</td>\n",
       "      <td>0.271379</td>\n",
       "      <td>0.914706</td>\n",
       "      <td>0.942438</td>\n",
       "      <td>0.027732</td>\n",
       "      <td>0.271379</td>\n",
       "      <td>-0.0298675</td>\n",
       "      <td>0.000828286</td>\n",
       "    </tr>\n",
       "    <tr>\n",
       "      <th>2</th>\n",
       "      <td>None</td>\n",
       "      <td>56</td>\n",
       "      <td>14</td>\n",
       "      <td>42</td>\n",
       "      <td>0.045677</td>\n",
       "      <td>0.25</td>\n",
       "      <td>0.955882</td>\n",
       "      <td>0.989842</td>\n",
       "      <td>0.0339596</td>\n",
       "      <td>0.270383</td>\n",
       "      <td>-0.140841</td>\n",
       "      <td>0.0008771</td>\n",
       "    </tr>\n",
       "    <tr>\n",
       "      <th>3</th>\n",
       "      <td>True</td>\n",
       "      <td>24</td>\n",
       "      <td>15</td>\n",
       "      <td>9</td>\n",
       "      <td>0.0195759</td>\n",
       "      <td>0.625</td>\n",
       "      <td>1</td>\n",
       "      <td>1</td>\n",
       "      <td>0</td>\n",
       "      <td>0.277325</td>\n",
       "      <td>1.4686</td>\n",
       "      <td>0.049873</td>\n",
       "    </tr>\n",
       "  </tbody>\n",
       "</table>\n",
       "</div>"
      ],
      "text/latex": [
       "\\begin{tabular}{lllllllllllll}\n",
       "\\toprule\n",
       "{} &         group &  total &  bad &  good &       per\\% &   overdue &   cum\\_bad &  cum\\_good &         KS &  cum\\_overdue &        WOE &           IV \\\\\n",
       "\\midrule\n",
       "0 &  overdue risk &  total &  bad &  good &       per\\% &   overdue &   cum\\_bad &  cum\\_good &         KS &  cum\\_overdue &        WOE &           IV \\\\\n",
       "1 &         False &   1146 &  311 &   835 &   0.934747 &  0.271379 &  0.914706 &  0.942438 &   0.027732 &     0.271379 & -0.0298675 &  0.000828286 \\\\\n",
       "2 &          None &     56 &   14 &    42 &   0.045677 &      0.25 &  0.955882 &  0.989842 &  0.0339596 &     0.270383 &  -0.140841 &    0.0008771 \\\\\n",
       "3 &          True &     24 &   15 &     9 &  0.0195759 &     0.625 &         1 &         1 &          0 &     0.277325 &     1.4686 &     0.049873 \\\\\n",
       "\\bottomrule\n",
       "\\end{tabular}\n"
      ],
      "text/plain": [
       "          group  total  bad  good       per%   overdue   cum_bad  cum_good  \\\n",
       "0  overdue risk  total  bad  good       per%   overdue   cum_bad  cum_good   \n",
       "1         False   1146  311   835   0.934747  0.271379  0.914706  0.942438   \n",
       "2          None     56   14    42   0.045677      0.25  0.955882  0.989842   \n",
       "3          True     24   15     9  0.0195759     0.625         1         1   \n",
       "\n",
       "          KS  cum_overdue        WOE           IV  \n",
       "0         KS  cum_overdue        WOE           IV  \n",
       "1   0.027732     0.271379 -0.0298675  0.000828286  \n",
       "2  0.0339596     0.270383  -0.140841    0.0008771  \n",
       "3          0     0.277325     1.4686     0.049873  "
      ]
     },
     "execution_count": 48,
     "metadata": {},
     "output_type": "execute_result"
    },
    {
     "name": "stdout",
     "output_type": "stream",
     "text": [
      "black1_iv: 0.033959633514805465\n"
     ]
    }
   ],
   "source": [
    "black1 = dp.ContinuousBin(data_set = my_df_fund, col='overdue risk', target = 'dpd7+', n = 10, special_attribute=[-1,np.nan], method='equal freq')[0]\n",
    "black1\n",
    "black1_iv = dp.ContinuousBin(data_set = my_df_fund, col='overdue risk', target = 'dpd7+', n = 10, special_attribute=[-1,np.nan], method='equal freq')[1]\n",
    "print('black1_iv: %s'%black1_iv)"
   ]
  },
  {
   "cell_type": "raw",
   "metadata": {
    "hidden": true
   },
   "source": [
    "4.2 rule"
   ]
  },
  {
   "cell_type": "code",
   "execution_count": 49,
   "metadata": {
    "hidden": true
   },
   "outputs": [
    {
     "data": {
      "text/plain": [
       "(556, 15)"
      ]
     },
     "execution_count": 49,
     "metadata": {},
     "output_type": "execute_result"
    }
   ],
   "source": [
    "my_df_rule = my_df_face[my_df_face['test_type'] == 'rule']\n",
    "my_df_rule.shape"
   ]
  },
  {
   "cell_type": "code",
   "execution_count": 50,
   "metadata": {
    "hidden": true
   },
   "outputs": [
    {
     "data": {
      "text/html": [
       "<div>\n",
       "<style scoped>\n",
       "    .dataframe tbody tr th:only-of-type {\n",
       "        vertical-align: middle;\n",
       "    }\n",
       "\n",
       "    .dataframe tbody tr th {\n",
       "        vertical-align: top;\n",
       "    }\n",
       "\n",
       "    .dataframe thead th {\n",
       "        text-align: right;\n",
       "    }\n",
       "</style>\n",
       "<table border=\"1\" class=\"dataframe\">\n",
       "  <thead>\n",
       "    <tr style=\"text-align: right;\">\n",
       "      <th></th>\n",
       "      <th>overdue risk</th>\n",
       "      <th>N</th>\n",
       "      <th>rate</th>\n",
       "    </tr>\n",
       "  </thead>\n",
       "  <tbody>\n",
       "    <tr>\n",
       "      <th>0</th>\n",
       "      <td>False</td>\n",
       "      <td>504</td>\n",
       "      <td>0.906</td>\n",
       "    </tr>\n",
       "    <tr>\n",
       "      <th>1</th>\n",
       "      <td>None</td>\n",
       "      <td>19</td>\n",
       "      <td>0.034</td>\n",
       "    </tr>\n",
       "    <tr>\n",
       "      <th>2</th>\n",
       "      <td>True</td>\n",
       "      <td>33</td>\n",
       "      <td>0.059</td>\n",
       "    </tr>\n",
       "  </tbody>\n",
       "</table>\n",
       "</div>"
      ],
      "text/latex": [
       "\\begin{tabular}{llrr}\n",
       "\\toprule\n",
       "{} & overdue risk &    N &   rate \\\\\n",
       "\\midrule\n",
       "0 &        False &  504 &  0.906 \\\\\n",
       "1 &         None &   19 &  0.034 \\\\\n",
       "2 &         True &   33 &  0.059 \\\\\n",
       "\\bottomrule\n",
       "\\end{tabular}\n"
      ],
      "text/plain": [
       "  overdue risk    N   rate\n",
       "0        False  504  0.906\n",
       "1         None   19  0.034\n",
       "2         True   33  0.059"
      ]
     },
     "execution_count": 50,
     "metadata": {},
     "output_type": "execute_result"
    }
   ],
   "source": [
    "d = Counter(my_df_rule['overdue risk'])\n",
    "temp_frame = pd.DataFrame.from_dict(d, orient='index').reset_index().rename(columns = {'index':'overdue risk', 0: 'N'})\n",
    "temp_frame['rate'] = round(temp_frame['N']/my_df_rule.shape[0],3)\n",
    "temp_frame"
   ]
  },
  {
   "cell_type": "raw",
   "metadata": {
    "hidden": true
   },
   "source": [
    "4.3 black"
   ]
  },
  {
   "cell_type": "code",
   "execution_count": 51,
   "metadata": {
    "hidden": true
   },
   "outputs": [
    {
     "data": {
      "text/plain": [
       "(379, 15)"
      ]
     },
     "execution_count": 51,
     "metadata": {},
     "output_type": "execute_result"
    }
   ],
   "source": [
    "my_df_blacklist = my_df_face[my_df_face['test_type'] == 'black']\n",
    "my_df_blacklist.shape"
   ]
  },
  {
   "cell_type": "code",
   "execution_count": 52,
   "metadata": {
    "hidden": true
   },
   "outputs": [
    {
     "data": {
      "text/html": [
       "<div>\n",
       "<style scoped>\n",
       "    .dataframe tbody tr th:only-of-type {\n",
       "        vertical-align: middle;\n",
       "    }\n",
       "\n",
       "    .dataframe tbody tr th {\n",
       "        vertical-align: top;\n",
       "    }\n",
       "\n",
       "    .dataframe thead th {\n",
       "        text-align: right;\n",
       "    }\n",
       "</style>\n",
       "<table border=\"1\" class=\"dataframe\">\n",
       "  <thead>\n",
       "    <tr style=\"text-align: right;\">\n",
       "      <th></th>\n",
       "      <th>overdue risk</th>\n",
       "      <th>N</th>\n",
       "      <th>rate</th>\n",
       "    </tr>\n",
       "  </thead>\n",
       "  <tbody>\n",
       "    <tr>\n",
       "      <th>0</th>\n",
       "      <td>False</td>\n",
       "      <td>278</td>\n",
       "      <td>0.061</td>\n",
       "    </tr>\n",
       "    <tr>\n",
       "      <th>1</th>\n",
       "      <td>None</td>\n",
       "      <td>22</td>\n",
       "      <td>0.005</td>\n",
       "    </tr>\n",
       "    <tr>\n",
       "      <th>2</th>\n",
       "      <td>True</td>\n",
       "      <td>79</td>\n",
       "      <td>0.017</td>\n",
       "    </tr>\n",
       "  </tbody>\n",
       "</table>\n",
       "</div>"
      ],
      "text/latex": [
       "\\begin{tabular}{llrr}\n",
       "\\toprule\n",
       "{} & overdue risk &    N &   rate \\\\\n",
       "\\midrule\n",
       "0 &        False &  278 &  0.061 \\\\\n",
       "1 &         None &   22 &  0.005 \\\\\n",
       "2 &         True &   79 &  0.017 \\\\\n",
       "\\bottomrule\n",
       "\\end{tabular}\n"
      ],
      "text/plain": [
       "  overdue risk    N   rate\n",
       "0        False  278  0.061\n",
       "1         None   22  0.005\n",
       "2         True   79  0.017"
      ]
     },
     "execution_count": 52,
     "metadata": {},
     "output_type": "execute_result"
    }
   ],
   "source": [
    "d = Counter(my_df_blacklist['overdue risk'])\n",
    "temp_frame = pd.DataFrame.from_dict(d, orient='index').reset_index().rename(columns = {'index':'overdue risk', 0: 'N'})\n",
    "temp_frame['rate'] = round(temp_frame['N']/my_df_black.shape[0],3)\n",
    "temp_frame"
   ]
  },
  {
   "cell_type": "markdown",
   "metadata": {
    "heading_collapsed": true
   },
   "source": [
    "### 黑名单和风险人脸交叉"
   ]
  },
  {
   "cell_type": "code",
   "execution_count": 53,
   "metadata": {
    "hidden": true
   },
   "outputs": [],
   "source": [
    "my_df_black = pd.read_excel(file_path + 'my_df_black.xlsx')\n",
    "my_df_face = pd.read_excel(file_path + 'my_df_face.xlsx')"
   ]
  },
  {
   "cell_type": "code",
   "execution_count": 54,
   "metadata": {
    "hidden": true
   },
   "outputs": [
    {
     "data": {
      "text/html": [
       "<div>\n",
       "<style scoped>\n",
       "    .dataframe tbody tr th:only-of-type {\n",
       "        vertical-align: middle;\n",
       "    }\n",
       "\n",
       "    .dataframe tbody tr th {\n",
       "        vertical-align: top;\n",
       "    }\n",
       "\n",
       "    .dataframe thead th {\n",
       "        text-align: right;\n",
       "    }\n",
       "</style>\n",
       "<table border=\"1\" class=\"dataframe\">\n",
       "  <thead>\n",
       "    <tr style=\"text-align: right;\">\n",
       "      <th>overdue risk</th>\n",
       "      <th>False</th>\n",
       "      <th>None</th>\n",
       "      <th>True</th>\n",
       "      <th>All</th>\n",
       "    </tr>\n",
       "    <tr>\n",
       "      <th>hit</th>\n",
       "      <th></th>\n",
       "      <th></th>\n",
       "      <th></th>\n",
       "      <th></th>\n",
       "    </tr>\n",
       "  </thead>\n",
       "  <tbody>\n",
       "    <tr>\n",
       "      <th>False</th>\n",
       "      <td>484</td>\n",
       "      <td>27</td>\n",
       "      <td>5</td>\n",
       "      <td>516</td>\n",
       "    </tr>\n",
       "    <tr>\n",
       "      <th>True</th>\n",
       "      <td>7</td>\n",
       "      <td>1</td>\n",
       "      <td>28</td>\n",
       "      <td>36</td>\n",
       "    </tr>\n",
       "    <tr>\n",
       "      <th>All</th>\n",
       "      <td>491</td>\n",
       "      <td>28</td>\n",
       "      <td>33</td>\n",
       "      <td>552</td>\n",
       "    </tr>\n",
       "  </tbody>\n",
       "</table>\n",
       "</div>"
      ],
      "text/latex": [
       "\\begin{tabular}{lrrrr}\n",
       "\\toprule\n",
       "overdue risk &  False &  None &  True &  All \\\\\n",
       "hit   &        &       &       &      \\\\\n",
       "\\midrule\n",
       "False &    484 &    27 &     5 &  516 \\\\\n",
       "True  &      7 &     1 &    28 &   36 \\\\\n",
       "All   &    491 &    28 &    33 &  552 \\\\\n",
       "\\bottomrule\n",
       "\\end{tabular}\n"
      ],
      "text/plain": [
       "overdue risk  False  None  True  All\n",
       "hit                                 \n",
       "False           484    27     5  516\n",
       "True              7     1    28   36\n",
       "All             491    28    33  552"
      ]
     },
     "execution_count": 54,
     "metadata": {},
     "output_type": "execute_result"
    },
    {
     "data": {
      "text/html": [
       "<div>\n",
       "<style scoped>\n",
       "    .dataframe tbody tr th:only-of-type {\n",
       "        vertical-align: middle;\n",
       "    }\n",
       "\n",
       "    .dataframe tbody tr th {\n",
       "        vertical-align: top;\n",
       "    }\n",
       "\n",
       "    .dataframe thead th {\n",
       "        text-align: right;\n",
       "    }\n",
       "</style>\n",
       "<table border=\"1\" class=\"dataframe\">\n",
       "  <thead>\n",
       "    <tr style=\"text-align: right;\">\n",
       "      <th>overdue risk</th>\n",
       "      <th>False</th>\n",
       "      <th>None</th>\n",
       "      <th>True</th>\n",
       "      <th>All</th>\n",
       "    </tr>\n",
       "    <tr>\n",
       "      <th>hit</th>\n",
       "      <th></th>\n",
       "      <th></th>\n",
       "      <th></th>\n",
       "      <th></th>\n",
       "    </tr>\n",
       "  </thead>\n",
       "  <tbody>\n",
       "    <tr>\n",
       "      <th>False</th>\n",
       "      <td>292</td>\n",
       "      <td>15</td>\n",
       "      <td>2</td>\n",
       "      <td>309</td>\n",
       "    </tr>\n",
       "    <tr>\n",
       "      <th>True</th>\n",
       "      <td>0</td>\n",
       "      <td>1</td>\n",
       "      <td>8</td>\n",
       "      <td>9</td>\n",
       "    </tr>\n",
       "    <tr>\n",
       "      <th>All</th>\n",
       "      <td>292</td>\n",
       "      <td>16</td>\n",
       "      <td>10</td>\n",
       "      <td>318</td>\n",
       "    </tr>\n",
       "  </tbody>\n",
       "</table>\n",
       "</div>"
      ],
      "text/latex": [
       "\\begin{tabular}{lrrrr}\n",
       "\\toprule\n",
       "overdue risk &  False &  None &  True &  All \\\\\n",
       "hit   &        &       &       &      \\\\\n",
       "\\midrule\n",
       "False &    292 &    15 &     2 &  309 \\\\\n",
       "True  &      0 &     1 &     8 &    9 \\\\\n",
       "All   &    292 &    16 &    10 &  318 \\\\\n",
       "\\bottomrule\n",
       "\\end{tabular}\n"
      ],
      "text/plain": [
       "overdue risk  False  None  True  All\n",
       "hit                                 \n",
       "False           292    15     2  309\n",
       "True              0     1     8    9\n",
       "All             292    16    10  318"
      ]
     },
     "execution_count": 54,
     "metadata": {},
     "output_type": "execute_result"
    },
    {
     "data": {
      "text/html": [
       "<div>\n",
       "<style scoped>\n",
       "    .dataframe tbody tr th:only-of-type {\n",
       "        vertical-align: middle;\n",
       "    }\n",
       "\n",
       "    .dataframe tbody tr th {\n",
       "        vertical-align: top;\n",
       "    }\n",
       "\n",
       "    .dataframe thead th {\n",
       "        text-align: right;\n",
       "    }\n",
       "</style>\n",
       "<table border=\"1\" class=\"dataframe\">\n",
       "  <thead>\n",
       "    <tr style=\"text-align: right;\">\n",
       "      <th>overdue risk</th>\n",
       "      <th>False</th>\n",
       "      <th>None</th>\n",
       "      <th>True</th>\n",
       "      <th>All</th>\n",
       "    </tr>\n",
       "    <tr>\n",
       "      <th>hit</th>\n",
       "      <th></th>\n",
       "      <th></th>\n",
       "      <th></th>\n",
       "      <th></th>\n",
       "    </tr>\n",
       "  </thead>\n",
       "  <tbody>\n",
       "    <tr>\n",
       "      <th>False</th>\n",
       "      <td>124</td>\n",
       "      <td>6</td>\n",
       "      <td>1</td>\n",
       "      <td>131</td>\n",
       "    </tr>\n",
       "    <tr>\n",
       "      <th>True</th>\n",
       "      <td>4</td>\n",
       "      <td>0</td>\n",
       "      <td>8</td>\n",
       "      <td>12</td>\n",
       "    </tr>\n",
       "    <tr>\n",
       "      <th>All</th>\n",
       "      <td>128</td>\n",
       "      <td>6</td>\n",
       "      <td>9</td>\n",
       "      <td>143</td>\n",
       "    </tr>\n",
       "  </tbody>\n",
       "</table>\n",
       "</div>"
      ],
      "text/latex": [
       "\\begin{tabular}{lrrrr}\n",
       "\\toprule\n",
       "overdue risk &  False &  None &  True &  All \\\\\n",
       "hit   &        &       &       &      \\\\\n",
       "\\midrule\n",
       "False &    124 &     6 &     1 &  131 \\\\\n",
       "True  &      4 &     0 &     8 &   12 \\\\\n",
       "All   &    128 &     6 &     9 &  143 \\\\\n",
       "\\bottomrule\n",
       "\\end{tabular}\n"
      ],
      "text/plain": [
       "overdue risk  False  None  True  All\n",
       "hit                                 \n",
       "False           124     6     1  131\n",
       "True              4     0     8   12\n",
       "All             128     6     9  143"
      ]
     },
     "execution_count": 54,
     "metadata": {},
     "output_type": "execute_result"
    },
    {
     "data": {
      "text/html": [
       "<div>\n",
       "<style scoped>\n",
       "    .dataframe tbody tr th:only-of-type {\n",
       "        vertical-align: middle;\n",
       "    }\n",
       "\n",
       "    .dataframe tbody tr th {\n",
       "        vertical-align: top;\n",
       "    }\n",
       "\n",
       "    .dataframe thead th {\n",
       "        text-align: right;\n",
       "    }\n",
       "</style>\n",
       "<table border=\"1\" class=\"dataframe\">\n",
       "  <thead>\n",
       "    <tr style=\"text-align: right;\">\n",
       "      <th>overdue risk</th>\n",
       "      <th>False</th>\n",
       "      <th>None</th>\n",
       "      <th>True</th>\n",
       "      <th>All</th>\n",
       "    </tr>\n",
       "    <tr>\n",
       "      <th>hit</th>\n",
       "      <th></th>\n",
       "      <th></th>\n",
       "      <th></th>\n",
       "      <th></th>\n",
       "    </tr>\n",
       "  </thead>\n",
       "  <tbody>\n",
       "    <tr>\n",
       "      <th>False</th>\n",
       "      <td>68</td>\n",
       "      <td>6</td>\n",
       "      <td>2</td>\n",
       "      <td>76</td>\n",
       "    </tr>\n",
       "    <tr>\n",
       "      <th>True</th>\n",
       "      <td>3</td>\n",
       "      <td>0</td>\n",
       "      <td>12</td>\n",
       "      <td>15</td>\n",
       "    </tr>\n",
       "    <tr>\n",
       "      <th>All</th>\n",
       "      <td>71</td>\n",
       "      <td>6</td>\n",
       "      <td>14</td>\n",
       "      <td>91</td>\n",
       "    </tr>\n",
       "  </tbody>\n",
       "</table>\n",
       "</div>"
      ],
      "text/latex": [
       "\\begin{tabular}{lrrrr}\n",
       "\\toprule\n",
       "overdue risk &  False &  None &  True &  All \\\\\n",
       "hit   &        &       &       &      \\\\\n",
       "\\midrule\n",
       "False &     68 &     6 &     2 &   76 \\\\\n",
       "True  &      3 &     0 &    12 &   15 \\\\\n",
       "All   &     71 &     6 &    14 &   91 \\\\\n",
       "\\bottomrule\n",
       "\\end{tabular}\n"
      ],
      "text/plain": [
       "overdue risk  False  None  True  All\n",
       "hit                                 \n",
       "False            68     6     2   76\n",
       "True              3     0    12   15\n",
       "All              71     6    14   91"
      ]
     },
     "execution_count": 54,
     "metadata": {},
     "output_type": "execute_result"
    }
   ],
   "source": [
    "df_merge = pd.merge(my_df_black[['order_no','apply_date','dpd7+','hit', 'test_type']],my_df_face[['order_no', 'overdue risk']],\n",
    "                    on = 'order_no', how='inner')\n",
    "df_merge_fund = df_merge[df_merge['test_type'] == 'fund']\n",
    "df_merge_rule = df_merge[df_merge['test_type'] == 'rule']\n",
    "df_merge_black = df_merge[df_merge['test_type'] == 'black']\n",
    "pd.crosstab(df_merge['hit'],df_merge['overdue risk'], margins=True)\n",
    "pd.crosstab(df_merge_fund['hit'],df_merge_fund['overdue risk'], margins=True)\n",
    "pd.crosstab(df_merge_rule['hit'],df_merge_rule['overdue risk'], margins=True)\n",
    "pd.crosstab(df_merge_black['hit'],df_merge_black['overdue risk'], margins=True)"
   ]
  },
  {
   "cell_type": "markdown",
   "metadata": {
    "heading_collapsed": true
   },
   "source": [
    "# 手机号码状态核验"
   ]
  },
  {
   "cell_type": "raw",
   "metadata": {
    "hidden": true
   },
   "source": [
    "1)advance ai 数据"
   ]
  },
  {
   "cell_type": "code",
   "execution_count": 55,
   "metadata": {
    "hidden": true
   },
   "outputs": [],
   "source": [
    "df_tele = pd.read_excel(os.path.join(file_path, 'tele_status_check.xlsx'))\n",
    "df_tele['temp'] = df_tele.apply(lambda x: x['phone_number'] + str(x['created_at'])[:10],axis =1)\n",
    "df_tele['check_status'] = df_tele['Status'].apply(lambda x: 'REACHABLE' if x ==1\n",
    "                                               else 'UNREACHABLE' if x==2\n",
    "                                               else 'DISCONNECT' if x == 3\n",
    "                                               else 'INVALID NUMBER')\n",
    "df_tele = df_tele.drop(['phone_number', 'created_at'], axis = 1)"
   ]
  },
  {
   "cell_type": "raw",
   "metadata": {
    "hidden": true
   },
   "source": [
    "2）mintechai 数据"
   ]
  },
  {
   "cell_type": "code",
   "execution_count": 56,
   "metadata": {
    "hidden": true
   },
   "outputs": [],
   "source": [
    "df_tele_mintech  = pd.read_excel(os.path.join(file_path, 'tele_status_mintech.xlsx'), None)\n",
    "df = pd.DataFrame()\n",
    "for sheets in df_tele_mintech.keys():\n",
    "    df_temp = pd.read_excel(os.path.join(file_path, 'tele_status_mintech.xlsx'), sheet_name=sheets)\n",
    "    df = df.append(df_temp, sort = True)\n",
    "df['phone_md5']  = df['customer_phone_num'].apply(lambda x: de.generate_md5(str(x))) \n",
    "df['temp'] = df.apply(lambda x: x['phone_md5'] + str(x['apply_date'])[:10],axis = 1)\n",
    "df = df.drop(['phone_md5'], axis =1).drop_duplicates('customer_phone_num', keep = 'first')"
   ]
  },
  {
   "cell_type": "code",
   "execution_count": 57,
   "metadata": {
    "hidden": true
   },
   "outputs": [],
   "source": [
    "df_all1 = pd.merge(df, df_tele, on = 'temp', how='left')\n",
    "df_all1.to_excel(os.path.join(file_path, 'temp.xlsx'), index = False)"
   ]
  },
  {
   "cell_type": "code",
   "execution_count": 58,
   "metadata": {
    "hidden": true
   },
   "outputs": [
    {
     "data": {
      "text/html": [
       "<div>\n",
       "<style scoped>\n",
       "    .dataframe tbody tr th:only-of-type {\n",
       "        vertical-align: middle;\n",
       "    }\n",
       "\n",
       "    .dataframe tbody tr th {\n",
       "        vertical-align: top;\n",
       "    }\n",
       "\n",
       "    .dataframe thead th {\n",
       "        text-align: right;\n",
       "    }\n",
       "</style>\n",
       "<table border=\"1\" class=\"dataframe\">\n",
       "  <thead>\n",
       "    <tr style=\"text-align: right;\">\n",
       "      <th>check_status</th>\n",
       "      <th>DISCONNECT</th>\n",
       "      <th>INVALID NUMBER</th>\n",
       "      <th>REACHABLE</th>\n",
       "      <th>UNREACHABLE</th>\n",
       "      <th>All</th>\n",
       "    </tr>\n",
       "    <tr>\n",
       "      <th>status</th>\n",
       "      <th></th>\n",
       "      <th></th>\n",
       "      <th></th>\n",
       "      <th></th>\n",
       "      <th></th>\n",
       "    </tr>\n",
       "  </thead>\n",
       "  <tbody>\n",
       "    <tr>\n",
       "      <th>Answered</th>\n",
       "      <td>1</td>\n",
       "      <td>25</td>\n",
       "      <td>93</td>\n",
       "      <td>11</td>\n",
       "      <td>130</td>\n",
       "    </tr>\n",
       "    <tr>\n",
       "      <th>Auto Reject</th>\n",
       "      <td>0</td>\n",
       "      <td>4</td>\n",
       "      <td>9</td>\n",
       "      <td>5</td>\n",
       "      <td>18</td>\n",
       "    </tr>\n",
       "    <tr>\n",
       "      <th>Call Divert</th>\n",
       "      <td>3</td>\n",
       "      <td>14</td>\n",
       "      <td>24</td>\n",
       "      <td>6</td>\n",
       "      <td>47</td>\n",
       "    </tr>\n",
       "    <tr>\n",
       "      <th>Unattended</th>\n",
       "      <td>3</td>\n",
       "      <td>6</td>\n",
       "      <td>17</td>\n",
       "      <td>2</td>\n",
       "      <td>28</td>\n",
       "    </tr>\n",
       "    <tr>\n",
       "      <th>incorrect</th>\n",
       "      <td>7</td>\n",
       "      <td>47</td>\n",
       "      <td>117</td>\n",
       "      <td>21</td>\n",
       "      <td>192</td>\n",
       "    </tr>\n",
       "    <tr>\n",
       "      <th>All</th>\n",
       "      <td>14</td>\n",
       "      <td>96</td>\n",
       "      <td>260</td>\n",
       "      <td>45</td>\n",
       "      <td>415</td>\n",
       "    </tr>\n",
       "  </tbody>\n",
       "</table>\n",
       "</div>"
      ],
      "text/latex": [
       "\\begin{tabular}{lrrrrr}\n",
       "\\toprule\n",
       "check\\_status &  DISCONNECT &  INVALID NUMBER &  REACHABLE &  UNREACHABLE &  All \\\\\n",
       "status      &             &                 &            &              &      \\\\\n",
       "\\midrule\n",
       "Answered    &           1 &              25 &         93 &           11 &  130 \\\\\n",
       "Auto Reject &           0 &               4 &          9 &            5 &   18 \\\\\n",
       "Call Divert &           3 &              14 &         24 &            6 &   47 \\\\\n",
       "Unattended  &           3 &               6 &         17 &            2 &   28 \\\\\n",
       "incorrect   &           7 &              47 &        117 &           21 &  192 \\\\\n",
       "All         &          14 &              96 &        260 &           45 &  415 \\\\\n",
       "\\bottomrule\n",
       "\\end{tabular}\n"
      ],
      "text/plain": [
       "check_status  DISCONNECT  INVALID NUMBER  REACHABLE  UNREACHABLE  All\n",
       "status                                                               \n",
       "Answered               1              25         93           11  130\n",
       "Auto Reject            0               4          9            5   18\n",
       "Call Divert            3              14         24            6   47\n",
       "Unattended             3               6         17            2   28\n",
       "incorrect              7              47        117           21  192\n",
       "All                   14              96        260           45  415"
      ]
     },
     "execution_count": 58,
     "metadata": {},
     "output_type": "execute_result"
    }
   ],
   "source": [
    "pd.crosstab(df_all1['status'], df_all1['check_status'],margins= True)"
   ]
  },
  {
   "cell_type": "code",
   "execution_count": 59,
   "metadata": {
    "hidden": true
   },
   "outputs": [],
   "source": [
    "df_tele_flag = pd.read_csv(os.path.join(file_path, 'df_tele_flag.csv'))\n",
    "df_tele_flag['phone_md5']  = df_tele_flag['customer_phone_num'].apply(lambda x: de.generate_md5(str(x))) \n",
    "df_tele_flag['temp'] = df_tele_flag.apply(lambda x: x['phone_md5'] + str(x['apply_time'])[:10],axis = 1)\n",
    "df_tele_flag = df_tele_flag.drop(['apply_time',\t'customer_phone_num','phone_md5'], axis = 1)\n",
    "df_tele_flag = df_tele_flag[(df_tele_flag['extend_period']==0) |(df_tele_flag['extend_period'].isna())]"
   ]
  },
  {
   "cell_type": "code",
   "execution_count": 60,
   "metadata": {
    "hidden": true
   },
   "outputs": [],
   "source": [
    "df_all = pd.merge(df, df_tele, on = 'temp', how='left').merge(df_tele_flag, on = 'temp', how = 'left')\n",
    "df_all.to_excel(os.path.join(file_path, 'df_all.xlsx'), index = False)"
   ]
  },
  {
   "cell_type": "code",
   "execution_count": 61,
   "metadata": {
    "hidden": true
   },
   "outputs": [],
   "source": [
    "df_all['flag1'] = df_all['late_days'].apply(lambda x: 1 if x>=7 else 0)"
   ]
  },
  {
   "cell_type": "code",
   "execution_count": 62,
   "metadata": {
    "hidden": true
   },
   "outputs": [
    {
     "data": {
      "text/html": [
       "<div>\n",
       "<style scoped>\n",
       "    .dataframe tbody tr th:only-of-type {\n",
       "        vertical-align: middle;\n",
       "    }\n",
       "\n",
       "    .dataframe tbody tr th {\n",
       "        vertical-align: top;\n",
       "    }\n",
       "\n",
       "    .dataframe thead th {\n",
       "        text-align: right;\n",
       "    }\n",
       "</style>\n",
       "<table border=\"1\" class=\"dataframe\">\n",
       "  <thead>\n",
       "    <tr style=\"text-align: right;\">\n",
       "      <th>flag1</th>\n",
       "      <th>0</th>\n",
       "      <th>1</th>\n",
       "      <th>All</th>\n",
       "      <th>bad_rate</th>\n",
       "    </tr>\n",
       "    <tr>\n",
       "      <th>check_status</th>\n",
       "      <th></th>\n",
       "      <th></th>\n",
       "      <th></th>\n",
       "      <th></th>\n",
       "    </tr>\n",
       "  </thead>\n",
       "  <tbody>\n",
       "    <tr>\n",
       "      <th>DISCONNECT</th>\n",
       "      <td>2</td>\n",
       "      <td>0</td>\n",
       "      <td>2</td>\n",
       "      <td>0.000000</td>\n",
       "    </tr>\n",
       "    <tr>\n",
       "      <th>INVALID NUMBER</th>\n",
       "      <td>16</td>\n",
       "      <td>10</td>\n",
       "      <td>26</td>\n",
       "      <td>0.384615</td>\n",
       "    </tr>\n",
       "    <tr>\n",
       "      <th>REACHABLE</th>\n",
       "      <td>73</td>\n",
       "      <td>30</td>\n",
       "      <td>103</td>\n",
       "      <td>0.291262</td>\n",
       "    </tr>\n",
       "    <tr>\n",
       "      <th>UNREACHABLE</th>\n",
       "      <td>6</td>\n",
       "      <td>10</td>\n",
       "      <td>16</td>\n",
       "      <td>0.625000</td>\n",
       "    </tr>\n",
       "    <tr>\n",
       "      <th>All</th>\n",
       "      <td>97</td>\n",
       "      <td>50</td>\n",
       "      <td>147</td>\n",
       "      <td>0.340136</td>\n",
       "    </tr>\n",
       "  </tbody>\n",
       "</table>\n",
       "</div>"
      ],
      "text/latex": [
       "\\begin{tabular}{lrrrr}\n",
       "\\toprule\n",
       "flag1 &   0 &   1 &  All &  bad\\_rate \\\\\n",
       "check\\_status   &     &     &      &           \\\\\n",
       "\\midrule\n",
       "DISCONNECT     &   2 &   0 &    2 &  0.000000 \\\\\n",
       "INVALID NUMBER &  16 &  10 &   26 &  0.384615 \\\\\n",
       "REACHABLE      &  73 &  30 &  103 &  0.291262 \\\\\n",
       "UNREACHABLE    &   6 &  10 &   16 &  0.625000 \\\\\n",
       "All            &  97 &  50 &  147 &  0.340136 \\\\\n",
       "\\bottomrule\n",
       "\\end{tabular}\n"
      ],
      "text/plain": [
       "flag1            0   1  All  bad_rate\n",
       "check_status                         \n",
       "DISCONNECT       2   0    2  0.000000\n",
       "INVALID NUMBER  16  10   26  0.384615\n",
       "REACHABLE       73  30  103  0.291262\n",
       "UNREACHABLE      6  10   16  0.625000\n",
       "All             97  50  147  0.340136"
      ]
     },
     "execution_count": 62,
     "metadata": {},
     "output_type": "execute_result"
    },
    {
     "data": {
      "text/html": [
       "<div>\n",
       "<style scoped>\n",
       "    .dataframe tbody tr th:only-of-type {\n",
       "        vertical-align: middle;\n",
       "    }\n",
       "\n",
       "    .dataframe tbody tr th {\n",
       "        vertical-align: top;\n",
       "    }\n",
       "\n",
       "    .dataframe thead th {\n",
       "        text-align: right;\n",
       "    }\n",
       "</style>\n",
       "<table border=\"1\" class=\"dataframe\">\n",
       "  <thead>\n",
       "    <tr style=\"text-align: right;\">\n",
       "      <th>flag1</th>\n",
       "      <th>0</th>\n",
       "      <th>1</th>\n",
       "      <th>All</th>\n",
       "      <th>bad_rate</th>\n",
       "    </tr>\n",
       "    <tr>\n",
       "      <th>status</th>\n",
       "      <th></th>\n",
       "      <th></th>\n",
       "      <th></th>\n",
       "      <th></th>\n",
       "    </tr>\n",
       "  </thead>\n",
       "  <tbody>\n",
       "    <tr>\n",
       "      <th>Answered</th>\n",
       "      <td>51</td>\n",
       "      <td>31</td>\n",
       "      <td>82</td>\n",
       "      <td>0.378049</td>\n",
       "    </tr>\n",
       "    <tr>\n",
       "      <th>Auto Reject</th>\n",
       "      <td>2</td>\n",
       "      <td>2</td>\n",
       "      <td>4</td>\n",
       "      <td>0.500000</td>\n",
       "    </tr>\n",
       "    <tr>\n",
       "      <th>Call Divert</th>\n",
       "      <td>10</td>\n",
       "      <td>2</td>\n",
       "      <td>12</td>\n",
       "      <td>0.166667</td>\n",
       "    </tr>\n",
       "    <tr>\n",
       "      <th>Unattended</th>\n",
       "      <td>5</td>\n",
       "      <td>3</td>\n",
       "      <td>8</td>\n",
       "      <td>0.375000</td>\n",
       "    </tr>\n",
       "    <tr>\n",
       "      <th>incorrect</th>\n",
       "      <td>29</td>\n",
       "      <td>12</td>\n",
       "      <td>41</td>\n",
       "      <td>0.292683</td>\n",
       "    </tr>\n",
       "    <tr>\n",
       "      <th>All</th>\n",
       "      <td>97</td>\n",
       "      <td>50</td>\n",
       "      <td>147</td>\n",
       "      <td>0.340136</td>\n",
       "    </tr>\n",
       "  </tbody>\n",
       "</table>\n",
       "</div>"
      ],
      "text/latex": [
       "\\begin{tabular}{lrrrr}\n",
       "\\toprule\n",
       "flag1 &   0 &   1 &  All &  bad\\_rate \\\\\n",
       "status      &     &     &      &           \\\\\n",
       "\\midrule\n",
       "Answered    &  51 &  31 &   82 &  0.378049 \\\\\n",
       "Auto Reject &   2 &   2 &    4 &  0.500000 \\\\\n",
       "Call Divert &  10 &   2 &   12 &  0.166667 \\\\\n",
       "Unattended  &   5 &   3 &    8 &  0.375000 \\\\\n",
       "incorrect   &  29 &  12 &   41 &  0.292683 \\\\\n",
       "All         &  97 &  50 &  147 &  0.340136 \\\\\n",
       "\\bottomrule\n",
       "\\end{tabular}\n"
      ],
      "text/plain": [
       "flag1         0   1  All  bad_rate\n",
       "status                            \n",
       "Answered     51  31   82  0.378049\n",
       "Auto Reject   2   2    4  0.500000\n",
       "Call Divert  10   2   12  0.166667\n",
       "Unattended    5   3    8  0.375000\n",
       "incorrect    29  12   41  0.292683\n",
       "All          97  50  147  0.340136"
      ]
     },
     "execution_count": 62,
     "metadata": {},
     "output_type": "execute_result"
    }
   ],
   "source": [
    "df_all11 = df_all[df_all['extend_period']==0]\n",
    "temp = pd.crosstab(df_all11['check_status'],df_all11['flag1'],margins=True)\n",
    "temp['bad_rate'] = temp.apply(lambda x: x[1]/x['All'], axis = 1)\n",
    "temp\n",
    "temp2 = pd.crosstab(df_all11['status'],df_all11['flag1'],margins=True)\n",
    "temp2['bad_rate'] = temp2.apply(lambda x: x[1]/x['All'], axis = 1)\n",
    "temp2"
   ]
  },
  {
   "cell_type": "code",
   "execution_count": 63,
   "metadata": {
    "hidden": true
   },
   "outputs": [
    {
     "data": {
      "text/html": [
       "<div>\n",
       "<style scoped>\n",
       "    .dataframe tbody tr th:only-of-type {\n",
       "        vertical-align: middle;\n",
       "    }\n",
       "\n",
       "    .dataframe tbody tr th {\n",
       "        vertical-align: top;\n",
       "    }\n",
       "\n",
       "    .dataframe thead th {\n",
       "        text-align: right;\n",
       "    }\n",
       "</style>\n",
       "<table border=\"1\" class=\"dataframe\">\n",
       "  <thead>\n",
       "    <tr style=\"text-align: right;\">\n",
       "      <th></th>\n",
       "      <th>group</th>\n",
       "      <th>total</th>\n",
       "      <th>bad</th>\n",
       "      <th>good</th>\n",
       "      <th>per%</th>\n",
       "      <th>overdue</th>\n",
       "      <th>cum_bad</th>\n",
       "      <th>cum_good</th>\n",
       "      <th>KS</th>\n",
       "      <th>cum_overdue</th>\n",
       "      <th>WOE</th>\n",
       "      <th>IV</th>\n",
       "    </tr>\n",
       "  </thead>\n",
       "  <tbody>\n",
       "    <tr>\n",
       "      <th>0</th>\n",
       "      <td>check_status</td>\n",
       "      <td>total</td>\n",
       "      <td>bad</td>\n",
       "      <td>good</td>\n",
       "      <td>per%</td>\n",
       "      <td>overdue</td>\n",
       "      <td>cum_bad</td>\n",
       "      <td>cum_good</td>\n",
       "      <td>KS</td>\n",
       "      <td>cum_overdue</td>\n",
       "      <td>WOE</td>\n",
       "      <td>IV</td>\n",
       "    </tr>\n",
       "    <tr>\n",
       "      <th>1</th>\n",
       "      <td>DISCONNECT</td>\n",
       "      <td>2</td>\n",
       "      <td>0</td>\n",
       "      <td>2</td>\n",
       "      <td>0.0136054</td>\n",
       "      <td>0</td>\n",
       "      <td>0</td>\n",
       "      <td>0.0206186</td>\n",
       "      <td>0.0206186</td>\n",
       "      <td>0</td>\n",
       "      <td>-inf</td>\n",
       "      <td>-inf</td>\n",
       "    </tr>\n",
       "    <tr>\n",
       "      <th>2</th>\n",
       "      <td>INVALID NUMBER</td>\n",
       "      <td>26</td>\n",
       "      <td>10</td>\n",
       "      <td>16</td>\n",
       "      <td>0.176871</td>\n",
       "      <td>0.384615</td>\n",
       "      <td>0.2</td>\n",
       "      <td>0.185567</td>\n",
       "      <td>0.014433</td>\n",
       "      <td>0.357143</td>\n",
       "      <td>0.192684</td>\n",
       "      <td>0.00675388</td>\n",
       "    </tr>\n",
       "    <tr>\n",
       "      <th>3</th>\n",
       "      <td>REACHABLE</td>\n",
       "      <td>103</td>\n",
       "      <td>30</td>\n",
       "      <td>73</td>\n",
       "      <td>0.70068</td>\n",
       "      <td>0.291262</td>\n",
       "      <td>0.8</td>\n",
       "      <td>0.938144</td>\n",
       "      <td>0.138144</td>\n",
       "      <td>0.305344</td>\n",
       "      <td>-0.226574</td>\n",
       "      <td>0.0345701</td>\n",
       "    </tr>\n",
       "    <tr>\n",
       "      <th>4</th>\n",
       "      <td>UNREACHABLE</td>\n",
       "      <td>16</td>\n",
       "      <td>10</td>\n",
       "      <td>6</td>\n",
       "      <td>0.108844</td>\n",
       "      <td>0.625</td>\n",
       "      <td>1</td>\n",
       "      <td>1</td>\n",
       "      <td>0</td>\n",
       "      <td>0.340136</td>\n",
       "      <td>1.17351</td>\n",
       "      <td>0.162114</td>\n",
       "    </tr>\n",
       "  </tbody>\n",
       "</table>\n",
       "</div>"
      ],
      "text/latex": [
       "\\begin{tabular}{lllllllllllll}\n",
       "\\toprule\n",
       "{} &           group &  total &  bad &  good &       per\\% &   overdue &  cum\\_bad &   cum\\_good &         KS &  cum\\_overdue &       WOE &          IV \\\\\n",
       "\\midrule\n",
       "0 &    check\\_status &  total &  bad &  good &       per\\% &   overdue &  cum\\_bad &   cum\\_good &         KS &  cum\\_overdue &       WOE &          IV \\\\\n",
       "1 &      DISCONNECT &      2 &    0 &     2 &  0.0136054 &         0 &        0 &  0.0206186 &  0.0206186 &            0 &      -inf &        -inf \\\\\n",
       "2 &  INVALID NUMBER &     26 &   10 &    16 &   0.176871 &  0.384615 &      0.2 &   0.185567 &   0.014433 &     0.357143 &  0.192684 &  0.00675388 \\\\\n",
       "3 &       REACHABLE &    103 &   30 &    73 &    0.70068 &  0.291262 &      0.8 &   0.938144 &   0.138144 &     0.305344 & -0.226574 &   0.0345701 \\\\\n",
       "4 &     UNREACHABLE &     16 &   10 &     6 &   0.108844 &     0.625 &        1 &          1 &          0 &     0.340136 &   1.17351 &    0.162114 \\\\\n",
       "\\bottomrule\n",
       "\\end{tabular}\n"
      ],
      "text/plain": [
       "            group  total  bad  good       per%   overdue  cum_bad   cum_good  \\\n",
       "0    check_status  total  bad  good       per%   overdue  cum_bad   cum_good   \n",
       "1      DISCONNECT      2    0     2  0.0136054         0        0  0.0206186   \n",
       "2  INVALID NUMBER     26   10    16   0.176871  0.384615      0.2   0.185567   \n",
       "3       REACHABLE    103   30    73    0.70068  0.291262      0.8   0.938144   \n",
       "4     UNREACHABLE     16   10     6   0.108844     0.625        1          1   \n",
       "\n",
       "          KS  cum_overdue       WOE          IV  \n",
       "0         KS  cum_overdue       WOE          IV  \n",
       "1  0.0206186            0      -inf        -inf  \n",
       "2   0.014433     0.357143  0.192684  0.00675388  \n",
       "3   0.138144     0.305344 -0.226574   0.0345701  \n",
       "4          0     0.340136   1.17351    0.162114  "
      ]
     },
     "execution_count": 63,
     "metadata": {},
     "output_type": "execute_result"
    },
    {
     "data": {
      "text/plain": [
       "0.13814432989690717"
      ]
     },
     "execution_count": 63,
     "metadata": {},
     "output_type": "execute_result"
    }
   ],
   "source": [
    "dp.ContinuousBin(df_all11, col = 'check_status', target = 'flag1', n = 10, special_attribute = ['', -1], method = 'equal freq')[0]\n",
    "dp.ContinuousBin(df_all11, col = 'check_status', target = 'flag1', n = 10, special_attribute = ['', -1], method = 'equal freq')[1]"
   ]
  },
  {
   "cell_type": "code",
   "execution_count": 64,
   "metadata": {
    "hidden": true
   },
   "outputs": [
    {
     "data": {
      "text/html": [
       "<div>\n",
       "<style scoped>\n",
       "    .dataframe tbody tr th:only-of-type {\n",
       "        vertical-align: middle;\n",
       "    }\n",
       "\n",
       "    .dataframe tbody tr th {\n",
       "        vertical-align: top;\n",
       "    }\n",
       "\n",
       "    .dataframe thead th {\n",
       "        text-align: right;\n",
       "    }\n",
       "</style>\n",
       "<table border=\"1\" class=\"dataframe\">\n",
       "  <thead>\n",
       "    <tr style=\"text-align: right;\">\n",
       "      <th></th>\n",
       "      <th>check_status</th>\n",
       "      <th>N</th>\n",
       "      <th>rate</th>\n",
       "    </tr>\n",
       "  </thead>\n",
       "  <tbody>\n",
       "    <tr>\n",
       "      <th>0</th>\n",
       "      <td>UNREACHABLE</td>\n",
       "      <td>32</td>\n",
       "      <td>0.114</td>\n",
       "    </tr>\n",
       "    <tr>\n",
       "      <th>1</th>\n",
       "      <td>REACHABLE</td>\n",
       "      <td>164</td>\n",
       "      <td>0.586</td>\n",
       "    </tr>\n",
       "    <tr>\n",
       "      <th>2</th>\n",
       "      <td>INVALID NUMBER</td>\n",
       "      <td>72</td>\n",
       "      <td>0.257</td>\n",
       "    </tr>\n",
       "    <tr>\n",
       "      <th>3</th>\n",
       "      <td>DISCONNECT</td>\n",
       "      <td>12</td>\n",
       "      <td>0.043</td>\n",
       "    </tr>\n",
       "  </tbody>\n",
       "</table>\n",
       "</div>"
      ],
      "text/latex": [
       "\\begin{tabular}{llrr}\n",
       "\\toprule\n",
       "{} &    check\\_status &    N &   rate \\\\\n",
       "\\midrule\n",
       "0 &     UNREACHABLE &   32 &  0.114 \\\\\n",
       "1 &       REACHABLE &  164 &  0.586 \\\\\n",
       "2 &  INVALID NUMBER &   72 &  0.257 \\\\\n",
       "3 &      DISCONNECT &   12 &  0.043 \\\\\n",
       "\\bottomrule\n",
       "\\end{tabular}\n"
      ],
      "text/plain": [
       "     check_status    N   rate\n",
       "0     UNREACHABLE   32  0.114\n",
       "1       REACHABLE  164  0.586\n",
       "2  INVALID NUMBER   72  0.257\n",
       "3      DISCONNECT   12  0.043"
      ]
     },
     "execution_count": 64,
     "metadata": {},
     "output_type": "execute_result"
    }
   ],
   "source": [
    "df_all12 = df_all[df_all['extend_period'].isna()]\n",
    "df_all12 = df_all12.drop_duplicates('customer_phone_num', keep = 'first')\n",
    "d = Counter(df_all12['check_status'])\n",
    "temp_frame = pd.DataFrame.from_dict(d, orient='index').reset_index().rename(columns = {'index':'check_status',0: 'N'})\n",
    "temp_frame['rate'] = round(temp_frame['N']/df_all12.shape[0],3)\n",
    "temp_frame"
   ]
  },
  {
   "cell_type": "code",
   "execution_count": 65,
   "metadata": {
    "hidden": true
   },
   "outputs": [
    {
     "data": {
      "text/html": [
       "<div>\n",
       "<style scoped>\n",
       "    .dataframe tbody tr th:only-of-type {\n",
       "        vertical-align: middle;\n",
       "    }\n",
       "\n",
       "    .dataframe tbody tr th {\n",
       "        vertical-align: top;\n",
       "    }\n",
       "\n",
       "    .dataframe thead th {\n",
       "        text-align: right;\n",
       "    }\n",
       "</style>\n",
       "<table border=\"1\" class=\"dataframe\">\n",
       "  <thead>\n",
       "    <tr style=\"text-align: right;\">\n",
       "      <th>status</th>\n",
       "      <th>Answered</th>\n",
       "      <th>Auto Reject</th>\n",
       "      <th>Call Divert</th>\n",
       "      <th>Unattended</th>\n",
       "      <th>incorrect</th>\n",
       "      <th>All</th>\n",
       "    </tr>\n",
       "    <tr>\n",
       "      <th>check_status</th>\n",
       "      <th></th>\n",
       "      <th></th>\n",
       "      <th></th>\n",
       "      <th></th>\n",
       "      <th></th>\n",
       "      <th></th>\n",
       "    </tr>\n",
       "  </thead>\n",
       "  <tbody>\n",
       "    <tr>\n",
       "      <th>DISCONNECT</th>\n",
       "      <td>0</td>\n",
       "      <td>0</td>\n",
       "      <td>3</td>\n",
       "      <td>3</td>\n",
       "      <td>6</td>\n",
       "      <td>12</td>\n",
       "    </tr>\n",
       "    <tr>\n",
       "      <th>INVALID NUMBER</th>\n",
       "      <td>13</td>\n",
       "      <td>3</td>\n",
       "      <td>12</td>\n",
       "      <td>6</td>\n",
       "      <td>38</td>\n",
       "      <td>72</td>\n",
       "    </tr>\n",
       "    <tr>\n",
       "      <th>REACHABLE</th>\n",
       "      <td>36</td>\n",
       "      <td>7</td>\n",
       "      <td>16</td>\n",
       "      <td>12</td>\n",
       "      <td>93</td>\n",
       "      <td>164</td>\n",
       "    </tr>\n",
       "    <tr>\n",
       "      <th>UNREACHABLE</th>\n",
       "      <td>5</td>\n",
       "      <td>5</td>\n",
       "      <td>5</td>\n",
       "      <td>1</td>\n",
       "      <td>16</td>\n",
       "      <td>32</td>\n",
       "    </tr>\n",
       "    <tr>\n",
       "      <th>All</th>\n",
       "      <td>54</td>\n",
       "      <td>15</td>\n",
       "      <td>36</td>\n",
       "      <td>22</td>\n",
       "      <td>153</td>\n",
       "      <td>280</td>\n",
       "    </tr>\n",
       "  </tbody>\n",
       "</table>\n",
       "</div>"
      ],
      "text/latex": [
       "\\begin{tabular}{lrrrrrr}\n",
       "\\toprule\n",
       "status &  Answered &  Auto Reject &  Call Divert &  Unattended &  incorrect &  All \\\\\n",
       "check\\_status   &           &              &              &             &            &      \\\\\n",
       "\\midrule\n",
       "DISCONNECT     &         0 &            0 &            3 &           3 &          6 &   12 \\\\\n",
       "INVALID NUMBER &        13 &            3 &           12 &           6 &         38 &   72 \\\\\n",
       "REACHABLE      &        36 &            7 &           16 &          12 &         93 &  164 \\\\\n",
       "UNREACHABLE    &         5 &            5 &            5 &           1 &         16 &   32 \\\\\n",
       "All            &        54 &           15 &           36 &          22 &        153 &  280 \\\\\n",
       "\\bottomrule\n",
       "\\end{tabular}\n"
      ],
      "text/plain": [
       "status          Answered  Auto Reject  Call Divert  Unattended  incorrect  All\n",
       "check_status                                                                  \n",
       "DISCONNECT             0            0            3           3          6   12\n",
       "INVALID NUMBER        13            3           12           6         38   72\n",
       "REACHABLE             36            7           16          12         93  164\n",
       "UNREACHABLE            5            5            5           1         16   32\n",
       "All                   54           15           36          22        153  280"
      ]
     },
     "execution_count": 65,
     "metadata": {},
     "output_type": "execute_result"
    }
   ],
   "source": [
    "pd.crosstab(df_all12['check_status'], df_all12['status'], margins=True)"
   ]
  },
  {
   "cell_type": "raw",
   "metadata": {
    "hidden": true
   },
   "source": [
    "验证被规则拒绝的用户主要是被哪些规则拒绝"
   ]
  },
  {
   "cell_type": "code",
   "execution_count": 66,
   "metadata": {
    "hidden": true
   },
   "outputs": [],
   "source": [
    "rule = pd.read_csv(os.path.join(file_path, '触碰规则.csv'))\n",
    "temp = pd.crosstab(rule['customer_phone_num'], rule['reason_code']).reset_index()\n",
    "remain_status = ['apply_date', 'customer_phone_num', 'status','check_status', 'order_no']\n",
    "df1 = pd.merge(df_all12[remain_status],temp, on = 'customer_phone_num',how = 'left')\n",
    "df1['sum_rule'] = df1.apply(lambda x: x[5:].sum(),axis = 1)"
   ]
  },
  {
   "cell_type": "code",
   "execution_count": 67,
   "metadata": {
    "hidden": true
   },
   "outputs": [
    {
     "data": {
      "text/plain": [
       "0.5964285714285714"
      ]
     },
     "execution_count": 67,
     "metadata": {},
     "output_type": "execute_result"
    }
   ],
   "source": [
    "df1[(df1['sum_rule']==1) & (df1['sum_rule'] ==1)].shape[0]/df1.shape[0]"
   ]
  },
  {
   "cell_type": "code",
   "execution_count": null,
   "metadata": {
    "hidden": true
   },
   "outputs": [],
   "source": []
  }
 ],
 "metadata": {
  "kernelspec": {
   "display_name": "Python 3",
   "language": "python",
   "name": "python3"
  },
  "language_info": {
   "codemirror_mode": {
    "name": "ipython",
    "version": 3
   },
   "file_extension": ".py",
   "mimetype": "text/x-python",
   "name": "python",
   "nbconvert_exporter": "python",
   "pygments_lexer": "ipython3",
   "version": "3.7.5"
  },
  "latex_envs": {
   "LaTeX_envs_menu_present": true,
   "autoclose": false,
   "autocomplete": true,
   "bibliofile": "biblio.bib",
   "cite_by": "apalike",
   "current_citInitial": 1,
   "eqLabelWithNumbers": true,
   "eqNumInitial": 1,
   "hotkeys": {
    "equation": "Ctrl-E",
    "itemize": "Ctrl-I"
   },
   "labels_anchors": false,
   "latex_user_defs": false,
   "report_style_numbering": false,
   "user_envs_cfg": false
  },
  "toc": {
   "base_numbering": 1,
   "nav_menu": {},
   "number_sections": true,
   "sideBar": true,
   "skip_h1_title": false,
   "title_cell": "Table of Contents",
   "title_sidebar": "Contents",
   "toc_cell": false,
   "toc_position": {},
   "toc_section_display": true,
   "toc_window_display": true
  },
  "varInspector": {
   "cols": {
    "lenName": 16,
    "lenType": 16,
    "lenVar": 40
   },
   "kernels_config": {
    "python": {
     "delete_cmd_postfix": "",
     "delete_cmd_prefix": "del ",
     "library": "var_list.py",
     "varRefreshCmd": "print(var_dic_list())"
    },
    "r": {
     "delete_cmd_postfix": ") ",
     "delete_cmd_prefix": "rm(",
     "library": "var_list.r",
     "varRefreshCmd": "cat(var_dic_list()) "
    }
   },
   "types_to_exclude": [
    "module",
    "function",
    "builtin_function_or_method",
    "instance",
    "_Feature"
   ],
   "window_display": false
  }
 },
 "nbformat": 4,
 "nbformat_minor": 2
}
