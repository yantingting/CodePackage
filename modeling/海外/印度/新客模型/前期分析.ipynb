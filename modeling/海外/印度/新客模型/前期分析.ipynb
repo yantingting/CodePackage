{
 "cells": [
  {
   "cell_type": "code",
   "execution_count": 1,
   "metadata": {},
   "outputs": [],
   "source": [
    "import os\n",
    "import sys\n",
    "import pandas as pd \n",
    "import time\n",
    "import datetime\n",
    "import pandas as pd \n",
    "pd.set_option('display.max_columns', None)\n",
    "pd.set_option('display.max_rows', None)\n",
    "import numpy as np\n",
    "import re\n",
    "import seaborn as sns\n",
    "from scipy import stats\n",
    "import matplotlib.pyplot as plt\n",
    "from collections import Counter\n",
    "sys.path.append('/Users/yantingting/PycharmProjects/modeling/')\n",
    "import database_conncet as data_con\n",
    "import data_processing as dp\n",
    "import summary_statistics as ss\n",
    "from data_io_utils import *\n"
   ]
  },
  {
   "cell_type": "code",
   "execution_count": 7,
   "metadata": {},
   "outputs": [],
   "source": [
    "file_path = '/Users/yantingting/Seafile/风控/模型/15 印度/V4模型/Data'"
   ]
  },
  {
   "cell_type": "code",
   "execution_count": 3,
   "metadata": {},
   "outputs": [],
   "source": [
    "query0 = '''\n",
    "with table_flag1 as \n",
    "(select t1.order_no,t1.product_name,date(t1.start_date) as start_date,\n",
    "case when t1.overdue_days >= 7 then 1 else 0 end as flag1\n",
    "from dw_ind_supercore_prod_india_supercore_prod_repayment_schedules t1\n",
    "left join ind_oss_creditreport t2 \n",
    "on t1.customer_id = t2.customerid::int\t\n",
    "where customer_type in ('NewApplicationOrder','OrderTypeIndNewClient')\n",
    "and extend_period = 0 \n",
    "and date(start_date)>= '2020-01-02'\n",
    "and date(start_date)<= '2020-03-19'\n",
    "and t2.customerid is not null),\n",
    "table_flag2 as (\n",
    "with loan as (select order_no,start_date,due_date,actual_paid_off_date,extend_period,overdue_days\n",
    "from dw_ind_supercore_prod_india_supercore_prod_repayment_schedules),\n",
    "b as (select order_no,min(start_date) as first_start\n",
    "from dw_ind_supercore_prod_india_supercore_prod_repayment_schedules\n",
    "group by 1)\n",
    "select loan.*,date(b.first_start) +55 as day1,\n",
    "row_number()over(partition by loan.order_no order by loan.start_date desc) as rank1,\n",
    "case when due_date>=date(b.first_start) +55 then 0\n",
    "     when due_date<date(b.first_start) +55 and date(actual_paid_off_date) !='1970-01-01' and  actual_paid_off_date<=date(b.first_start) +55 then overdue_days\n",
    "     when due_date<date(b.first_start) +55 and date(actual_paid_off_date) ='1970-01-01' then date_part('day',date(b.first_start) +55 - due_date)\n",
    "     when due_date<date(b.first_start) +55 and actual_paid_off_date>date(b.first_start) +55 then date_part('day',date(b.first_start) +55 - due_date)\n",
    "     end as lastoverdue_days\n",
    "from loan \n",
    "left join b \n",
    "on loan.order_no = b.order_no\n",
    "where start_date<=date(b.first_start) +55)\n",
    "select \n",
    "table_flag1.*,\n",
    "case when table_flag2.lastoverdue_days >= 7 then 1 else 0 end as flag2,\n",
    "case when table_flag2.extend_period >0 then 1 else 0 end as flag_extend\n",
    "from table_flag1\n",
    "left join table_flag2\n",
    "on table_flag1.order_no = table_flag2.order_no\n",
    "where table_flag2.rank1 = 1\n",
    "'''"
   ]
  },
  {
   "cell_type": "code",
   "execution_count": 4,
   "metadata": {},
   "outputs": [
    {
     "name": "stdout",
     "output_type": "stream",
     "text": [
      "Successful connection\n",
      "run_time:  1695.560294866562\n"
     ]
    },
    {
     "data": {
      "text/plain": [
       "(33918, 6)"
      ]
     },
     "execution_count": 4,
     "metadata": {},
     "output_type": "execute_result"
    },
    {
     "data": {
      "text/html": [
       "<div>\n",
       "<style scoped>\n",
       "    .dataframe tbody tr th:only-of-type {\n",
       "        vertical-align: middle;\n",
       "    }\n",
       "\n",
       "    .dataframe tbody tr th {\n",
       "        vertical-align: top;\n",
       "    }\n",
       "\n",
       "    .dataframe thead th {\n",
       "        text-align: right;\n",
       "    }\n",
       "</style>\n",
       "<table border=\"1\" class=\"dataframe\">\n",
       "  <thead>\n",
       "    <tr style=\"text-align: right;\">\n",
       "      <th></th>\n",
       "      <th>order_no</th>\n",
       "      <th>product_name</th>\n",
       "      <th>start_date</th>\n",
       "      <th>flag1</th>\n",
       "      <th>flag2</th>\n",
       "      <th>flag_extend</th>\n",
       "    </tr>\n",
       "  </thead>\n",
       "  <tbody>\n",
       "    <tr>\n",
       "      <th>0</th>\n",
       "      <td>Gt20200220004550</td>\n",
       "      <td>GotoCash</td>\n",
       "      <td>2020-02-20</td>\n",
       "      <td>0</td>\n",
       "      <td>0</td>\n",
       "      <td>0</td>\n",
       "    </tr>\n",
       "    <tr>\n",
       "      <th>1</th>\n",
       "      <td>Gt20200220001167</td>\n",
       "      <td>GotoCash</td>\n",
       "      <td>2020-02-20</td>\n",
       "      <td>0</td>\n",
       "      <td>0</td>\n",
       "      <td>0</td>\n",
       "    </tr>\n",
       "    <tr>\n",
       "      <th>2</th>\n",
       "      <td>Gt20200220000189</td>\n",
       "      <td>GotoCash</td>\n",
       "      <td>2020-02-20</td>\n",
       "      <td>1</td>\n",
       "      <td>1</td>\n",
       "      <td>0</td>\n",
       "    </tr>\n",
       "    <tr>\n",
       "      <th>3</th>\n",
       "      <td>Gt20200120010102</td>\n",
       "      <td>GotoCash</td>\n",
       "      <td>2020-01-21</td>\n",
       "      <td>0</td>\n",
       "      <td>0</td>\n",
       "      <td>0</td>\n",
       "    </tr>\n",
       "    <tr>\n",
       "      <th>4</th>\n",
       "      <td>Gt20200221009701</td>\n",
       "      <td>GotoCash</td>\n",
       "      <td>2020-02-22</td>\n",
       "      <td>0</td>\n",
       "      <td>0</td>\n",
       "      <td>0</td>\n",
       "    </tr>\n",
       "  </tbody>\n",
       "</table>\n",
       "</div>"
      ],
      "text/plain": [
       "           order_no product_name  start_date  flag1  flag2  flag_extend\n",
       "0  Gt20200220004550     GotoCash  2020-02-20      0      0            0\n",
       "1  Gt20200220001167     GotoCash  2020-02-20      0      0            0\n",
       "2  Gt20200220000189     GotoCash  2020-02-20      1      1            0\n",
       "3  Gt20200120010102     GotoCash  2020-01-21      0      0            0\n",
       "4  Gt20200221009701     GotoCash  2020-02-22      0      0            0"
      ]
     },
     "execution_count": 4,
     "metadata": {},
     "output_type": "execute_result"
    }
   ],
   "source": [
    "time1 = time.time()\n",
    "df0 =  data_con.database_gn(query0)\n",
    "time2 = time.time()\n",
    "print('run_time: ', time2 - time1)\n",
    "df0.shape\n",
    "df0.head()"
   ]
  },
  {
   "cell_type": "code",
   "execution_count": 8,
   "metadata": {},
   "outputs": [
    {
     "name": "stdout",
     "output_type": "stream",
     "text": [
      "1\n"
     ]
    }
   ],
   "source": [
    "save_data_to_pickle(df0,file_path,'flag.pkl')\n",
    "print(1)"
   ]
  },
  {
   "cell_type": "code",
   "execution_count": null,
   "metadata": {},
   "outputs": [],
   "source": []
  }
 ],
 "metadata": {
  "kernelspec": {
   "display_name": "Python 3",
   "language": "python",
   "name": "python3"
  },
  "language_info": {
   "codemirror_mode": {
    "name": "ipython",
    "version": 3
   },
   "file_extension": ".py",
   "mimetype": "text/x-python",
   "name": "python",
   "nbconvert_exporter": "python",
   "pygments_lexer": "ipython3",
   "version": "3.7.6"
  },
  "latex_envs": {
   "LaTeX_envs_menu_present": true,
   "autoclose": false,
   "autocomplete": true,
   "bibliofile": "biblio.bib",
   "cite_by": "apalike",
   "current_citInitial": 1,
   "eqLabelWithNumbers": true,
   "eqNumInitial": 1,
   "hotkeys": {
    "equation": "Ctrl-E",
    "itemize": "Ctrl-I"
   },
   "labels_anchors": false,
   "latex_user_defs": false,
   "report_style_numbering": false,
   "user_envs_cfg": false
  },
  "toc": {
   "base_numbering": 1,
   "nav_menu": {},
   "number_sections": true,
   "sideBar": true,
   "skip_h1_title": false,
   "title_cell": "Table of Contents",
   "title_sidebar": "Contents",
   "toc_cell": false,
   "toc_position": {},
   "toc_section_display": true,
   "toc_window_display": false
  },
  "varInspector": {
   "cols": {
    "lenName": 16,
    "lenType": 16,
    "lenVar": 40
   },
   "kernels_config": {
    "python": {
     "delete_cmd_postfix": "",
     "delete_cmd_prefix": "del ",
     "library": "var_list.py",
     "varRefreshCmd": "print(var_dic_list())"
    },
    "r": {
     "delete_cmd_postfix": ") ",
     "delete_cmd_prefix": "rm(",
     "library": "var_list.r",
     "varRefreshCmd": "cat(var_dic_list()) "
    }
   },
   "types_to_exclude": [
    "module",
    "function",
    "builtin_function_or_method",
    "instance",
    "_Feature"
   ],
   "window_display": false
  }
 },
 "nbformat": 4,
 "nbformat_minor": 4
}
