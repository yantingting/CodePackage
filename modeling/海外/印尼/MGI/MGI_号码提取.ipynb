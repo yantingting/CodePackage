{
 "cells": [
  {
   "cell_type": "code",
   "execution_count": 2,
   "metadata": {},
   "outputs": [],
   "source": [
    "import sys \n",
    "import os \n",
    "import time \n",
    "import re\n",
    "import datetime\n",
    "import pandas as pd \n",
    "import numpy as np \n",
    "from collections import Counter\n",
    "import pandas_profiling"
   ]
  },
  {
   "cell_type": "markdown",
   "metadata": {},
   "source": [
    "# 读取处理好的数据并进行变量衍生"
   ]
  },
  {
   "cell_type": "code",
   "execution_count": 3,
   "metadata": {},
   "outputs": [],
   "source": [
    "file_path_out = '/Users/yantingting/Documents/海外风控/印尼/MGI数据测试/my_analysis/'"
   ]
  },
  {
   "cell_type": "code",
   "execution_count": 12,
   "metadata": {},
   "outputs": [
    {
     "name": "stderr",
     "output_type": "stream",
     "text": [
      "/Users/yantingting/anaconda3/envs/modeling/lib/python3.7/site-packages/IPython/core/interactiveshell.py:3058: DtypeWarning: Columns (8,11,12,14) have mixed types. Specify dtype option on import or set low_memory=False.\n",
      "  interactivity=interactivity, compiler=compiler, result=result)\n"
     ]
    }
   ],
   "source": [
    "my_data = pd.read_csv(file_path_out + 'my_data1.csv')"
   ]
  },
  {
   "cell_type": "code",
   "execution_count": 13,
   "metadata": {},
   "outputs": [],
   "source": [
    "app_dict = {'Tunai Cepat': 'Tunai Cepat',\n",
    "         'Dana Tercepat': 'Dana Tercepat',\n",
    "         'Sumber Dana': 'Sumber Dana',\n",
    "         'Pinjam Uang': 'Pinjam Uang',\n",
    "         'Wall In': 'Wall In',\n",
    "         'Dana Segera': 'Dana Segera',\n",
    "         '': 'other',\n",
    "         'KoinMu': 'other',\n",
    "         'Pasar Uang': 'other',\n",
    "         'One Hope': 'other',\n",
    "         'Modal Pinjaman': 'other',\n",
    "         'Lahan Uang': 'other'}\n",
    "my_data['app_name1'] = my_data['app_name'].apply(lambda x: app_dict.get(x))\n",
    "my_data['amount'] = my_data['amount'].apply(lambda x: np.nan if isinstance(x,float) else re.search('\\d+', x).group())\n",
    "my_data['amount'] = my_data['amount'].astype('float64')\n",
    "my_data['cur_fund'] = my_data.apply(lambda x :(datetime.datetime.strptime('2019-12-18', '%Y-%m-%d') - datetime.datetime.strptime(x['Date/Time'], '%Y-%m-%d')).days if x['message'] == '资金已到账' else np.nan, axis = 1)"
   ]
  },
  {
   "cell_type": "code",
   "execution_count": 14,
   "metadata": {},
   "outputs": [],
   "source": [
    "my_data['loan_suc'] = my_data['message'].apply(lambda x: 1 if x == '资金已到账' else 0)\n",
    "my_data['pay_suc'] = my_data['message'].apply(lambda x: 1 if x == '还款成功' else 0)\n",
    "my_data['remind_due'] = my_data['message'].apply(lambda x: 1 if x == '账单已逾期N天请还款' else 0)\n",
    "my_data['remind_due_sb'] = my_data['message'].apply(lambda x: 1 if x == '提醒某人还款' else 0)\n",
    "my_data['yzm'] = my_data['message'].apply(lambda x: 1 if x == '验证码' else 0)"
   ]
  },
  {
   "cell_type": "code",
   "execution_count": 15,
   "metadata": {},
   "outputs": [],
   "source": [
    "frame1 = my_data.groupby(['Send to'])\n",
    "my_frame = pd.DataFrame()\n",
    "my_frame['cnt_message'] = frame1['Message ID'].agg('count')\n",
    "my_frame['cnt_unique_app'] = frame1.agg({'app_name':pd.Series.nunique})\n",
    "my_frame['cnt_loan_suc'] = frame1['loan_suc'].agg('sum')\n",
    "my_frame['cnt_pay_suc'] = frame1['pay_suc'].agg('sum')\n",
    "my_frame['cnt_remind_due'] = frame1['remind_due'].agg('sum')\n",
    "my_frame['cnt_remind_due_sb'] = frame1['remind_due_sb'].agg('sum')\n",
    "my_frame['cnt_yzm'] = frame1['yzm'].agg('sum')\n",
    "my_frame['min_cur_fund'] = frame1['cur_fund'].agg('min')\n",
    "my_frame['max_cur_fund'] = frame1['cur_fund'].agg('max')\n",
    "my_frame['min_amount'] = frame1['amount'].agg('min')\n",
    "my_frame['max_amount'] = frame1['amount'].agg('max')\n",
    "my_frame.to_csv(file_path_out + 'MGI_result_data.csv')"
   ]
  },
  {
   "cell_type": "code",
   "execution_count": 16,
   "metadata": {},
   "outputs": [
    {
     "name": "stdout",
     "output_type": "stream",
     "text": [
      "<class 'pandas.core.frame.DataFrame'>\n",
      "RangeIndex: 310970 entries, 0 to 310969\n",
      "Data columns (total 12 columns):\n",
      "Send to              310970 non-null int64\n",
      "cnt_message          310970 non-null int64\n",
      "cnt_unique_app       310970 non-null int64\n",
      "cnt_loan_suc         310970 non-null int64\n",
      "cnt_pay_suc          310970 non-null int64\n",
      "cnt_remind_due       310970 non-null int64\n",
      "cnt_remind_due_sb    310970 non-null int64\n",
      "cnt_yzm              310970 non-null int64\n",
      "min_cur_fund         56985 non-null float64\n",
      "max_cur_fund         56985 non-null float64\n",
      "min_amount           98716 non-null float64\n",
      "max_amount           98716 non-null float64\n",
      "dtypes: float64(4), int64(8)\n",
      "memory usage: 28.5 MB\n"
     ]
    }
   ],
   "source": [
    "my_frame = pd.read_csv(file_path_out + 'MGI_result_data.csv')\n",
    "my_frame.info()"
   ]
  },
  {
   "cell_type": "code",
   "execution_count": 17,
   "metadata": {},
   "outputs": [],
   "source": [
    "my_frame['cnt_gap'] = my_frame['cnt_loan_suc'] - my_frame['cnt_pay_suc']\n",
    "my_frame['成功放款_flag'] = my_frame['cnt_loan_suc'].apply(lambda x: 1 if x>0 else 0)\n",
    "my_frame['验证码_flag'] = my_frame['cnt_yzm'].apply(lambda x: 1 if x>0 else 0)"
   ]
  },
  {
   "cell_type": "raw",
   "metadata": {},
   "source": [
    "我的建议是要两类用户：\n",
    "1.全部的“资金已到账”的用户\n",
    "2.全部的“验证码”验证码用户\n",
    "\n",
    "但是需要：\n",
    "1.两类用户不重叠；\n",
    "2.需要去除上次已经发送的用户\n",
    "3.需要去除在我们数据库中被拒、在途的用户"
   ]
  },
  {
   "cell_type": "code",
   "execution_count": 18,
   "metadata": {},
   "outputs": [
    {
     "data": {
      "text/plain": [
       "numpy.int64"
      ]
     },
     "execution_count": 18,
     "metadata": {},
     "output_type": "execute_result"
    }
   ],
   "source": [
    "type(my_frame['验证码_flag'][19])"
   ]
  },
  {
   "cell_type": "code",
   "execution_count": 21,
   "metadata": {},
   "outputs": [
    {
     "name": "stdout",
     "output_type": "stream",
     "text": [
      "<class 'pandas.core.frame.DataFrame'>\n",
      "Int64Index: 176754 entries, 0 to 310969\n",
      "Data columns (total 15 columns):\n",
      "Send to              176754 non-null int64\n",
      "cnt_message          176754 non-null int64\n",
      "cnt_unique_app       176754 non-null int64\n",
      "cnt_loan_suc         176754 non-null int64\n",
      "cnt_pay_suc          176754 non-null int64\n",
      "cnt_remind_due       176754 non-null int64\n",
      "cnt_remind_due_sb    176754 non-null int64\n",
      "cnt_yzm              176754 non-null int64\n",
      "min_cur_fund         56985 non-null float64\n",
      "max_cur_fund         56985 non-null float64\n",
      "min_amount           63402 non-null float64\n",
      "max_amount           63402 non-null float64\n",
      "cnt_gap              176754 non-null int64\n",
      "成功放款_flag            176754 non-null int64\n",
      "验证码_flag             176754 non-null int64\n",
      "dtypes: float64(4), int64(11)\n",
      "memory usage: 21.6 MB\n"
     ]
    }
   ],
   "source": [
    "df1 = my_frame[(my_frame['成功放款_flag'] == 1)|(my_frame['验证码_flag'] == 1)]\n",
    "df1.info()\n",
    "df1.to_csv(file_path_out + 'df_var_1227.csv', index = False)\n",
    "df1[['Send to']].to_csv(file_path_out + 'phone1227.csv')"
   ]
  },
  {
   "cell_type": "markdown",
   "metadata": {},
   "source": [
    "# 号码导入数据库"
   ]
  },
  {
   "cell_type": "code",
   "execution_count": 2,
   "metadata": {},
   "outputs": [],
   "source": [
    "import sys\n",
    "import psycopg2\n",
    "import pandas as pd\n",
    "from collections import Counter\n",
    "from jinja2 import Template"
   ]
  },
  {
   "cell_type": "code",
   "execution_count": 3,
   "metadata": {},
   "outputs": [],
   "source": [
    "def upload_df_to_pg(sql):\n",
    "    \"\"\"\n",
    "    If sql is table creation, then rows = [[True]] is succeed.\n",
    "    If sql is insert query, then rows = [[4]] where 4 is changeable according to\n",
    "    number of rows inserted\n",
    "    \"\"\"\n",
    "    usename = \"postgres\"\n",
    "    password = \"Mintq2019\"\n",
    "    db = \"risk_dm\"\n",
    "    host = \"192.168.2.19\"\n",
    "    port = \"5432\"\n",
    "    try:\n",
    "        conn = psycopg2.connect(database=db, user=usename, password=password, host=host, port=port)\n",
    "        # print(\"Opened database successfully\")\n",
    "    except Exception as e:\n",
    "        print(e)\n",
    "    cur = conn.cursor()\n",
    "    cur.execute(sql)\n",
    "    try:\n",
    "        conn.commit()\n",
    "        return 'success'\n",
    "    except:\n",
    "        print(\"upload failed, check query\")\n",
    "        return 'failure'"
   ]
  },
  {
   "cell_type": "code",
   "execution_count": 6,
   "metadata": {},
   "outputs": [
    {
     "data": {
      "text/plain": [
       "'success'"
      ]
     },
     "execution_count": 6,
     "metadata": {},
     "output_type": "execute_result"
    },
    {
     "data": {
      "text/plain": [
       "'success'"
      ]
     },
     "execution_count": 6,
     "metadata": {},
     "output_type": "execute_result"
    }
   ],
   "source": [
    "my_phone_data = pd.read_csv(file_path_out + 'phone1227.csv',dtype={'Send to':'str'})\n",
    "my_phone_data.rename(columns = {'Send to': 'phone', 'Unnamed: 0': 'index'}, inplace = True)\n",
    "SQL_CREATE_TABLE = \"\"\"\n",
    "CREATE TABLE temp1227_phone(\n",
    "    index int,\n",
    "    phone varchar\n",
    ")\n",
    "\"\"\"\n",
    "upload_df_to_pg(SQL_CREATE_TABLE)\n",
    "\n",
    "insert = \"\"\"\n",
    "INSERT INTO temp1227_phone\n",
    "   VALUES\n",
    " {% for var in var_list %}\n",
    "{{ var }},\n",
    "{% endfor %}\n",
    "\"\"\"\n",
    "\n",
    "var_list = []\n",
    "upload_var_order = ['']\n",
    "for cols, rows in my_phone_data.iterrows():    \n",
    "    c = tuple(rows)\n",
    "    #print(c)\n",
    "    var_list.append(c)\n",
    "\n",
    "insert_sql = Template(insert).render(var_list=var_list)[:-2]\n",
    "insert_sql = insert_sql.replace('\\n\\n','')\n",
    "upload_df_to_pg(insert_sql)"
   ]
  },
  {
   "cell_type": "markdown",
   "metadata": {},
   "source": [
    "# 匹配符合条件的号码发送短信"
   ]
  },
  {
   "cell_type": "code",
   "execution_count": 7,
   "metadata": {},
   "outputs": [],
   "source": [
    "# 从来没有在uku有过成功订单的用户\n",
    "query1 = '''\n",
    "select phone, loan_no, effective_date, cell_phone\n",
    "from  public.temp1227_phone t1\n",
    "left join \n",
    "(\n",
    "select a1.*, a2.cell_phone\n",
    "from\n",
    "(select * \n",
    "from  (select loan_no, customer_id,effective_date,row_number()over(partition by customer_id order by effective_date desc) as loan_num\n",
    "from dw_gocash_go_cash_loan_gocash_core_loan a1 ) t \n",
    "where loan_num = 1 ) a1 \n",
    "left join dw_gocash_go_cash_loan_gocash_core_customer a2 \n",
    "on a1.customer_id = a2.id)t2 \n",
    "on substring(t1.phone,3) = substring(t2.cell_phone,2)\n",
    "'''"
   ]
  },
  {
   "cell_type": "code",
   "execution_count": 9,
   "metadata": {},
   "outputs": [
    {
     "name": "stdout",
     "output_type": "stream",
     "text": [
      "Successful connection\n",
      "<class 'pandas.core.frame.DataFrame'>\n",
      "RangeIndex: 176754 entries, 0 to 176753\n",
      "Data columns (total 4 columns):\n",
      "phone             176754 non-null object\n",
      "loan_no           76457 non-null object\n",
      "effective_date    76457 non-null object\n",
      "cell_phone        76457 non-null object\n",
      "dtypes: object(4)\n",
      "memory usage: 5.4+ MB\n"
     ]
    }
   ],
   "source": [
    "df2 = data_con.database_gn(query1)\n",
    "df2.info()\n",
    "df2.to_csv(file_path_out + 'df_phone1227.csv', index = False)"
   ]
  },
  {
   "cell_type": "code",
   "execution_count": 8,
   "metadata": {},
   "outputs": [],
   "source": [
    "df1 = pd.read_csv(file_path_out + 'df_var_1227.csv')\n",
    "df2 = pd.read_csv(file_path_out + 'df_phone1227.csv')\n",
    "df2['is_fund'] = df2['loan_no'].apply(lambda x: 0 if x is np.nan else 1)\n",
    "# df_all = pd.merge(df1[['Send to', '成功放款_flag', '验证码_flag']], df2[['phone', 'is_fund']],left_on='Send to', right_on='phone', how='left')\n",
    "# df_all[['phone', 'is_fund', '成功放款_flag', '验证码_flag']].to_csv(file_path_out + 'test_phone1227.csv')"
   ]
  },
  {
   "cell_type": "code",
   "execution_count": 9,
   "metadata": {},
   "outputs": [
    {
     "data": {
      "text/html": [
       "<div>\n",
       "<style scoped>\n",
       "    .dataframe tbody tr th:only-of-type {\n",
       "        vertical-align: middle;\n",
       "    }\n",
       "\n",
       "    .dataframe tbody tr th {\n",
       "        vertical-align: top;\n",
       "    }\n",
       "\n",
       "    .dataframe thead th {\n",
       "        text-align: right;\n",
       "    }\n",
       "</style>\n",
       "<table border=\"1\" class=\"dataframe\">\n",
       "  <thead>\n",
       "    <tr style=\"text-align: right;\">\n",
       "      <th></th>\n",
       "      <th>Send to</th>\n",
       "      <th>cnt_message</th>\n",
       "      <th>cnt_unique_app</th>\n",
       "      <th>cnt_loan_suc</th>\n",
       "      <th>cnt_pay_suc</th>\n",
       "      <th>cnt_remind_due</th>\n",
       "      <th>cnt_remind_due_sb</th>\n",
       "      <th>cnt_yzm</th>\n",
       "      <th>min_cur_fund</th>\n",
       "      <th>max_cur_fund</th>\n",
       "      <th>min_amount</th>\n",
       "      <th>max_amount</th>\n",
       "      <th>cnt_gap</th>\n",
       "      <th>成功放款_flag</th>\n",
       "      <th>验证码_flag</th>\n",
       "    </tr>\n",
       "  </thead>\n",
       "  <tbody>\n",
       "    <tr>\n",
       "      <th>0</th>\n",
       "      <td>6280000000</td>\n",
       "      <td>3</td>\n",
       "      <td>1</td>\n",
       "      <td>0</td>\n",
       "      <td>0</td>\n",
       "      <td>0</td>\n",
       "      <td>0</td>\n",
       "      <td>3</td>\n",
       "      <td>NaN</td>\n",
       "      <td>NaN</td>\n",
       "      <td>NaN</td>\n",
       "      <td>NaN</td>\n",
       "      <td>0</td>\n",
       "      <td>0</td>\n",
       "      <td>1</td>\n",
       "    </tr>\n",
       "    <tr>\n",
       "      <th>1</th>\n",
       "      <td>6281111111</td>\n",
       "      <td>1</td>\n",
       "      <td>1</td>\n",
       "      <td>0</td>\n",
       "      <td>0</td>\n",
       "      <td>0</td>\n",
       "      <td>0</td>\n",
       "      <td>1</td>\n",
       "      <td>NaN</td>\n",
       "      <td>NaN</td>\n",
       "      <td>NaN</td>\n",
       "      <td>NaN</td>\n",
       "      <td>0</td>\n",
       "      <td>0</td>\n",
       "      <td>1</td>\n",
       "    </tr>\n",
       "    <tr>\n",
       "      <th>2</th>\n",
       "      <td>6281111222</td>\n",
       "      <td>1</td>\n",
       "      <td>1</td>\n",
       "      <td>0</td>\n",
       "      <td>0</td>\n",
       "      <td>0</td>\n",
       "      <td>0</td>\n",
       "      <td>1</td>\n",
       "      <td>NaN</td>\n",
       "      <td>NaN</td>\n",
       "      <td>NaN</td>\n",
       "      <td>NaN</td>\n",
       "      <td>0</td>\n",
       "      <td>0</td>\n",
       "      <td>1</td>\n",
       "    </tr>\n",
       "    <tr>\n",
       "      <th>3</th>\n",
       "      <td>6281222620</td>\n",
       "      <td>1</td>\n",
       "      <td>1</td>\n",
       "      <td>0</td>\n",
       "      <td>0</td>\n",
       "      <td>0</td>\n",
       "      <td>0</td>\n",
       "      <td>1</td>\n",
       "      <td>NaN</td>\n",
       "      <td>NaN</td>\n",
       "      <td>NaN</td>\n",
       "      <td>NaN</td>\n",
       "      <td>0</td>\n",
       "      <td>0</td>\n",
       "      <td>1</td>\n",
       "    </tr>\n",
       "    <tr>\n",
       "      <th>4</th>\n",
       "      <td>6281225709</td>\n",
       "      <td>11</td>\n",
       "      <td>1</td>\n",
       "      <td>4</td>\n",
       "      <td>4</td>\n",
       "      <td>0</td>\n",
       "      <td>0</td>\n",
       "      <td>0</td>\n",
       "      <td>22.0</td>\n",
       "      <td>41.0</td>\n",
       "      <td>1008000.0</td>\n",
       "      <td>1400000.0</td>\n",
       "      <td>0</td>\n",
       "      <td>1</td>\n",
       "      <td>0</td>\n",
       "    </tr>\n",
       "  </tbody>\n",
       "</table>\n",
       "</div>"
      ],
      "text/plain": [
       "      Send to  cnt_message  cnt_unique_app  cnt_loan_suc  cnt_pay_suc  \\\n",
       "0  6280000000            3               1             0            0   \n",
       "1  6281111111            1               1             0            0   \n",
       "2  6281111222            1               1             0            0   \n",
       "3  6281222620            1               1             0            0   \n",
       "4  6281225709           11               1             4            4   \n",
       "\n",
       "   cnt_remind_due  cnt_remind_due_sb  cnt_yzm  min_cur_fund  max_cur_fund  \\\n",
       "0               0                  0        3           NaN           NaN   \n",
       "1               0                  0        1           NaN           NaN   \n",
       "2               0                  0        1           NaN           NaN   \n",
       "3               0                  0        1           NaN           NaN   \n",
       "4               0                  0        0          22.0          41.0   \n",
       "\n",
       "   min_amount  max_amount  cnt_gap  成功放款_flag  验证码_flag  \n",
       "0         NaN         NaN        0          0         1  \n",
       "1         NaN         NaN        0          0         1  \n",
       "2         NaN         NaN        0          0         1  \n",
       "3         NaN         NaN        0          0         1  \n",
       "4   1008000.0   1400000.0        0          1         0  "
      ]
     },
     "execution_count": 9,
     "metadata": {},
     "output_type": "execute_result"
    }
   ],
   "source": [
    "df1.head()"
   ]
  },
  {
   "cell_type": "code",
   "execution_count": 26,
   "metadata": {},
   "outputs": [],
   "source": [
    "df_all = pd.merge(df1[['Send to', '成功放款_flag', '验证码_flag','cnt_remind_due']], df2[['phone', 'is_fund']],left_on='Send to', right_on='phone', how='left')\n",
    "df_all['有逾期短信_flag'] = df_all['cnt_remind_due'].apply(lambda x: 1 if x>0 else 0 )\n",
    "df_all[['phone', 'is_fund', '成功放款_flag', '验证码_flag','有逾期短信_flag']].to_excel(file_path_out + 'MGI测试号码1227.xlsx', index = False)"
   ]
  },
  {
   "cell_type": "code",
   "execution_count": 21,
   "metadata": {},
   "outputs": [
    {
     "data": {
      "text/plain": [
       "Counter({1: 84445, 0: 92309})"
      ]
     },
     "execution_count": 21,
     "metadata": {},
     "output_type": "execute_result"
    }
   ],
   "source": [
    "Counter(df_all['temp'])"
   ]
  },
  {
   "cell_type": "code",
   "execution_count": null,
   "metadata": {},
   "outputs": [],
   "source": []
  }
 ],
 "metadata": {
  "kernelspec": {
   "display_name": "Python 3",
   "language": "python",
   "name": "python3"
  },
  "language_info": {
   "codemirror_mode": {
    "name": "ipython",
    "version": 3
   },
   "file_extension": ".py",
   "mimetype": "text/x-python",
   "name": "python",
   "nbconvert_exporter": "python",
   "pygments_lexer": "ipython3",
   "version": "3.7.5"
  },
  "latex_envs": {
   "LaTeX_envs_menu_present": true,
   "autoclose": false,
   "autocomplete": true,
   "bibliofile": "biblio.bib",
   "cite_by": "apalike",
   "current_citInitial": 1,
   "eqLabelWithNumbers": true,
   "eqNumInitial": 1,
   "hotkeys": {
    "equation": "Ctrl-E",
    "itemize": "Ctrl-I"
   },
   "labels_anchors": false,
   "latex_user_defs": false,
   "report_style_numbering": false,
   "user_envs_cfg": false
  },
  "toc": {
   "base_numbering": 1,
   "nav_menu": {},
   "number_sections": true,
   "sideBar": true,
   "skip_h1_title": false,
   "title_cell": "Table of Contents",
   "title_sidebar": "Contents",
   "toc_cell": false,
   "toc_position": {},
   "toc_section_display": true,
   "toc_window_display": false
  },
  "varInspector": {
   "cols": {
    "lenName": 16,
    "lenType": 16,
    "lenVar": 40
   },
   "kernels_config": {
    "python": {
     "delete_cmd_postfix": "",
     "delete_cmd_prefix": "del ",
     "library": "var_list.py",
     "varRefreshCmd": "print(var_dic_list())"
    },
    "r": {
     "delete_cmd_postfix": ") ",
     "delete_cmd_prefix": "rm(",
     "library": "var_list.r",
     "varRefreshCmd": "cat(var_dic_list()) "
    }
   },
   "types_to_exclude": [
    "module",
    "function",
    "builtin_function_or_method",
    "instance",
    "_Feature"
   ],
   "window_display": false
  }
 },
 "nbformat": 4,
 "nbformat_minor": 2
}
