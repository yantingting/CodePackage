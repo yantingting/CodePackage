{
 "cells": [
  {
   "cell_type": "code",
   "execution_count": 27,
   "metadata": {},
   "outputs": [],
   "source": [
    "import os \n",
    "import sys \n",
    "import pandas as pd \n",
    "import numpy as np\n",
    "from collections import Counter\n",
    "from xgboost import XGBClassifier\n",
    "from sklearn.model_selection import GridSearchCV\n",
    "from sklearn import datasets\n",
    "from sklearn import tree\n",
    "from six import StringIO\n",
    "from IPython.display import Image \n",
    "import pydot\n",
    "import pydotplus\n",
    "sys.path.append('/Users/yantingting/PycharmProjects/modeling/')\n",
    "import summary_statistics as ss\n",
    "import metrics as mt \n",
    "import feature_selection as fs \n",
    "from feature_selection import *\n",
    "import misc_utils as mu\n",
    "from data_io_utils import *\n",
    "import data_encryption as de\n",
    "import plot_tools as pt \n",
    "import data_processing as dp \n",
    "import database_conncet as dc \n",
    "# 必须要在该界面设置中文的参数\n",
    "import matplotlib.pyplot as plt\n",
    "from matplotlib import rcParams\n",
    "plt.rcParams['font.sans-serif'] = ['STFangsong']\n",
    "\n",
    "fs_obj = fs.FeatureSelection()\n",
    "pf = mt.Performance()\n",
    "bw = mt.BinWoe()"
   ]
  },
  {
   "cell_type": "code",
   "execution_count": 28,
   "metadata": {},
   "outputs": [],
   "source": [
    "file_path = '/Users/yantingting/Seafile/风控/模型/10 印尼/202004 老客决策树/01 Data'\n",
    "file_path_result ='/Users/yantingting/Seafile/风控/模型/10 印尼/202004 老客决策树/02 Result_0414(2)'\n",
    "if not os.path.exists(file_path_result):\n",
    "    os.mkdir(file_path_result)"
   ]
  },
  {
   "cell_type": "markdown",
   "metadata": {},
   "source": [
    "# 数据读取和变量衍生"
   ]
  },
  {
   "cell_type": "code",
   "execution_count": 29,
   "metadata": {
    "scrolled": true
   },
   "outputs": [
    {
     "data": {
      "text/plain": [
       "(41107, 694)"
      ]
     },
     "execution_count": 29,
     "metadata": {},
     "output_type": "execute_result"
    },
    {
     "data": {
      "text/html": [
       "<div>\n",
       "<style scoped>\n",
       "    .dataframe tbody tr th:only-of-type {\n",
       "        vertical-align: middle;\n",
       "    }\n",
       "\n",
       "    .dataframe tbody tr th {\n",
       "        vertical-align: top;\n",
       "    }\n",
       "\n",
       "    .dataframe thead th {\n",
       "        text-align: right;\n",
       "    }\n",
       "</style>\n",
       "<table border=\"1\" class=\"dataframe\">\n",
       "  <thead>\n",
       "    <tr style=\"text-align: right;\">\n",
       "      <th></th>\n",
       "      <th>loan_id</th>\n",
       "      <th>effective_date</th>\n",
       "      <th>due_date</th>\n",
       "      <th>approved_period</th>\n",
       "      <th>late_day</th>\n",
       "      <th>label</th>\n",
       "      <th>age</th>\n",
       "      <th>monthly_salary</th>\n",
       "      <th>device_approval_ANDROID</th>\n",
       "      <th>device_approval_IOS</th>\n",
       "      <th>...</th>\n",
       "      <th>WizardPenyiapan_tfidf</th>\n",
       "      <th>Word_tfidf</th>\n",
       "      <th>YouTube_tfidf</th>\n",
       "      <th>com.android.fileexplorer.FileExplorerApplication_tfidf</th>\n",
       "      <th>com.mfashiongallery.emag_tfidf</th>\n",
       "      <th>maucash_tfidf</th>\n",
       "      <th>msa_tfidf</th>\n",
       "      <th>org.codeaurora.bluetooth_tfidf</th>\n",
       "      <th>tiket.com_tfidf</th>\n",
       "      <th>sample_flag</th>\n",
       "    </tr>\n",
       "  </thead>\n",
       "  <tbody>\n",
       "    <tr>\n",
       "      <th>0</th>\n",
       "      <td>443078651486502912</td>\n",
       "      <td>2020-03-07</td>\n",
       "      <td>2020-04-04</td>\n",
       "      <td>29</td>\n",
       "      <td>3.0</td>\n",
       "      <td>1</td>\n",
       "      <td>51</td>\n",
       "      <td>8500000.0</td>\n",
       "      <td>1</td>\n",
       "      <td>0</td>\n",
       "      <td>...</td>\n",
       "      <td>0.0</td>\n",
       "      <td>0.00000</td>\n",
       "      <td>0.001200</td>\n",
       "      <td>0.00000</td>\n",
       "      <td>0.000000</td>\n",
       "      <td>0.016571</td>\n",
       "      <td>0.000000</td>\n",
       "      <td>0.000000</td>\n",
       "      <td>0.000000</td>\n",
       "      <td>1</td>\n",
       "    </tr>\n",
       "    <tr>\n",
       "      <th>1</th>\n",
       "      <td>443080428537413632</td>\n",
       "      <td>2020-03-07</td>\n",
       "      <td>2020-03-28</td>\n",
       "      <td>22</td>\n",
       "      <td>-1.0</td>\n",
       "      <td>0</td>\n",
       "      <td>24</td>\n",
       "      <td>0.0</td>\n",
       "      <td>1</td>\n",
       "      <td>0</td>\n",
       "      <td>...</td>\n",
       "      <td>0.0</td>\n",
       "      <td>0.00000</td>\n",
       "      <td>0.000595</td>\n",
       "      <td>0.00000</td>\n",
       "      <td>0.000000</td>\n",
       "      <td>0.000000</td>\n",
       "      <td>0.000000</td>\n",
       "      <td>0.005443</td>\n",
       "      <td>0.008149</td>\n",
       "      <td>0</td>\n",
       "    </tr>\n",
       "    <tr>\n",
       "      <th>2</th>\n",
       "      <td>443085055811223552</td>\n",
       "      <td>2020-03-07</td>\n",
       "      <td>2020-04-04</td>\n",
       "      <td>29</td>\n",
       "      <td>-1.0</td>\n",
       "      <td>0</td>\n",
       "      <td>24</td>\n",
       "      <td>4000000.0</td>\n",
       "      <td>0</td>\n",
       "      <td>1</td>\n",
       "      <td>...</td>\n",
       "      <td>0.0</td>\n",
       "      <td>0.00000</td>\n",
       "      <td>0.000734</td>\n",
       "      <td>0.00000</td>\n",
       "      <td>0.000000</td>\n",
       "      <td>0.000000</td>\n",
       "      <td>0.000000</td>\n",
       "      <td>0.006720</td>\n",
       "      <td>0.000000</td>\n",
       "      <td>1</td>\n",
       "    </tr>\n",
       "    <tr>\n",
       "      <th>3</th>\n",
       "      <td>443086227296919552</td>\n",
       "      <td>2020-03-07</td>\n",
       "      <td>2020-03-21</td>\n",
       "      <td>15</td>\n",
       "      <td>17.0</td>\n",
       "      <td>1</td>\n",
       "      <td>32</td>\n",
       "      <td>5000000.0</td>\n",
       "      <td>1</td>\n",
       "      <td>0</td>\n",
       "      <td>...</td>\n",
       "      <td>-1.0</td>\n",
       "      <td>-1.00000</td>\n",
       "      <td>-1.000000</td>\n",
       "      <td>-1.00000</td>\n",
       "      <td>-1.000000</td>\n",
       "      <td>-1.000000</td>\n",
       "      <td>-1.000000</td>\n",
       "      <td>-1.000000</td>\n",
       "      <td>-1.000000</td>\n",
       "      <td>0</td>\n",
       "    </tr>\n",
       "    <tr>\n",
       "      <th>4</th>\n",
       "      <td>443092329594003456</td>\n",
       "      <td>2020-03-07</td>\n",
       "      <td>2020-03-28</td>\n",
       "      <td>22</td>\n",
       "      <td>10.0</td>\n",
       "      <td>1</td>\n",
       "      <td>30</td>\n",
       "      <td>2000000.0</td>\n",
       "      <td>1</td>\n",
       "      <td>0</td>\n",
       "      <td>...</td>\n",
       "      <td>0.0</td>\n",
       "      <td>0.00699</td>\n",
       "      <td>0.000758</td>\n",
       "      <td>0.00999</td>\n",
       "      <td>0.010407</td>\n",
       "      <td>0.000000</td>\n",
       "      <td>0.008853</td>\n",
       "      <td>0.006932</td>\n",
       "      <td>0.000000</td>\n",
       "      <td>0</td>\n",
       "    </tr>\n",
       "  </tbody>\n",
       "</table>\n",
       "<p>5 rows × 694 columns</p>\n",
       "</div>"
      ],
      "text/plain": [
       "              loan_id effective_date    due_date  approved_period  late_day  \\\n",
       "0  443078651486502912     2020-03-07  2020-04-04               29       3.0   \n",
       "1  443080428537413632     2020-03-07  2020-03-28               22      -1.0   \n",
       "2  443085055811223552     2020-03-07  2020-04-04               29      -1.0   \n",
       "3  443086227296919552     2020-03-07  2020-03-21               15      17.0   \n",
       "4  443092329594003456     2020-03-07  2020-03-28               22      10.0   \n",
       "\n",
       "   label  age  monthly_salary  device_approval_ANDROID  device_approval_IOS  \\\n",
       "0      1   51       8500000.0                        1                    0   \n",
       "1      0   24             0.0                        1                    0   \n",
       "2      0   24       4000000.0                        0                    1   \n",
       "3      1   32       5000000.0                        1                    0   \n",
       "4      1   30       2000000.0                        1                    0   \n",
       "\n",
       "   ...  WizardPenyiapan_tfidf  Word_tfidf  YouTube_tfidf  \\\n",
       "0  ...                    0.0     0.00000       0.001200   \n",
       "1  ...                    0.0     0.00000       0.000595   \n",
       "2  ...                    0.0     0.00000       0.000734   \n",
       "3  ...                   -1.0    -1.00000      -1.000000   \n",
       "4  ...                    0.0     0.00699       0.000758   \n",
       "\n",
       "   com.android.fileexplorer.FileExplorerApplication_tfidf  \\\n",
       "0                                            0.00000        \n",
       "1                                            0.00000        \n",
       "2                                            0.00000        \n",
       "3                                           -1.00000        \n",
       "4                                            0.00999        \n",
       "\n",
       "   com.mfashiongallery.emag_tfidf  maucash_tfidf  msa_tfidf  \\\n",
       "0                        0.000000       0.016571   0.000000   \n",
       "1                        0.000000       0.000000   0.000000   \n",
       "2                        0.000000       0.000000   0.000000   \n",
       "3                       -1.000000      -1.000000  -1.000000   \n",
       "4                        0.010407       0.000000   0.008853   \n",
       "\n",
       "   org.codeaurora.bluetooth_tfidf  tiket.com_tfidf  sample_flag  \n",
       "0                        0.000000         0.000000            1  \n",
       "1                        0.005443         0.008149            0  \n",
       "2                        0.006720         0.000000            1  \n",
       "3                       -1.000000        -1.000000            0  \n",
       "4                        0.006932         0.000000            0  \n",
       "\n",
       "[5 rows x 694 columns]"
      ]
     },
     "execution_count": 29,
     "metadata": {},
     "output_type": "execute_result"
    }
   ],
   "source": [
    "df_1 = load_data_from_pickle(file_path,'all_var.pkl')\n",
    "df_1.rename(columns = {'dpd1':'label'}, inplace=True)\n",
    "df_1['sample_flag'] = df_1['due_date'].apply(lambda x: 0 if x<pd.to_datetime('2020-04-01') else 1)\n",
    "df_1 = df_1[df_1['label'].isin([0,1])]\n",
    "df_1.shape\n",
    "df_1.head()"
   ]
  },
  {
   "cell_type": "code",
   "execution_count": 30,
   "metadata": {},
   "outputs": [
    {
     "data": {
      "text/plain": [
       "51"
      ]
     },
     "execution_count": 30,
     "metadata": {},
     "output_type": "execute_result"
    }
   ],
   "source": [
    "var_dict = pd.read_excel(os.path.join(file_path,'dict_all.xlsx'))\n",
    "# var_dict['指标类型'] = var_dict['数据源']\n",
    "useless_cols = ['loan_id','effective_date','due_date','approved_period','late_day','sample_flag']\n",
    "Y_col = 'label'\n",
    "# X_col = list(set(df_1.columns).difference(useless_cols).difference([Y_col]))\n",
    "# X_col = var_dict[var_dict['数据源']=='baseinfo']['指标英文'].tolist()\n",
    "# X_col = var_dict[var_dict['数据源']!='izi']['指标英文'].tolist()\n",
    "# X_col = var_dict[var_dict['数据源'].isin(['app','app_tfidf','app_freq'])]['指标英文'].tolist()\n",
    "X_col = ['AdaKami',\n",
    "'AdaPundi',\n",
    "'Cairin',\n",
    "'Cashcepat',\n",
    "'Cashwagon',\n",
    "'DanaRupiah',\n",
    "'Easycash',\n",
    "'Finmas',\n",
    "'Indodana',\n",
    "'KTA KILAT',\n",
    "'KTAKILAT',\n",
    "'Kredinesia',\n",
    "'Kredit Pintar',\n",
    "'KreditPintar',\n",
    "'Pencarian',\n",
    "'Pinjam Yuk',\n",
    "'PinjamYuk',\n",
    "'PinjamanGo',\n",
    "'Rupiah Cepat',\n",
    "'RupiahCepat',\n",
    "'TunaiCepat',\n",
    "'TunaiKita',\n",
    "'Tunaiku',\n",
    "'UKU',\n",
    "'UangMe',\n",
    "'maucash',\n",
    "'AdaKami_tfidf',\n",
    "'AdaPundi_tfidf',\n",
    "'Cairin_tfidf',\n",
    "'Cashcepat_tfidf',\n",
    "'Cashwagon_tfidf',\n",
    "'DanaRupiah_tfidf',\n",
    "'Easycash_tfidf',\n",
    "'Finmas_tfidf',\n",
    "'Indodana_tfidf',\n",
    "'KTA KILAT_tfidf',\n",
    "'KTAKILAT_tfidf',\n",
    "'Kredinesia_tfidf',\n",
    "'Kredit Pintar_tfidf',\n",
    "'KreditPintar_tfidf',\n",
    "'Pencarian_tfidf',\n",
    "'Pinjam Yuk_tfidf',\n",
    "'PinjamYuk_tfidf',\n",
    "'PinjamanGo_tfidf',\n",
    "'Rupiah Cepat_tfidf',\n",
    "'RupiahCepat_tfidf',\n",
    "'TunaiKita_tfidf',\n",
    "'Tunaiku_tfidf',\n",
    "'UKU_tfidf',\n",
    "'UangMe_tfidf',\n",
    "'maucash_tfidf']\n",
    "len(X_col)"
   ]
  },
  {
   "cell_type": "markdown",
   "metadata": {},
   "source": [
    "# 拆分数据集"
   ]
  },
  {
   "cell_type": "code",
   "execution_count": 31,
   "metadata": {},
   "outputs": [
    {
     "data": {
      "text/plain": [
       "Counter({0: 18616, 1: 10162})"
      ]
     },
     "execution_count": 31,
     "metadata": {},
     "output_type": "execute_result"
    },
    {
     "data": {
      "text/plain": [
       "Counter({1: 5641, 0: 6688})"
      ]
     },
     "execution_count": 31,
     "metadata": {},
     "output_type": "execute_result"
    },
    {
     "name": "stdout",
     "output_type": "stream",
     "text": [
      "X_train_shape: (28778, 51)  y_train_shape: (28778,)\n",
      "X_test_shape: (12329, 51)   y_test_shape: (12329,)\n"
     ]
    }
   ],
   "source": [
    "df_train = df_1[df_1['sample_flag'] == 0]\n",
    "df_test = df_1[df_1['sample_flag'] == 1 ]              \n",
    "\n",
    "X_train = df_train[X_col]\n",
    "X_test= df_test[X_col]\n",
    "\n",
    "y_train = df_train[Y_col]\n",
    "y_test = df_test[Y_col]\n",
    "\n",
    "Counter(y_train)\n",
    "Counter(y_test)\n",
    "print(\"X_train_shape:\", X_train.shape, \" y_train_shape:\", y_train.shape)\n",
    "print(\"X_test_shape:\", X_test.shape,\"  y_test_shape:\", y_test.shape)"
   ]
  },
  {
   "cell_type": "markdown",
   "metadata": {},
   "source": [
    "# Univariate Chart"
   ]
  },
  {
   "cell_type": "code",
   "execution_count": 32,
   "metadata": {},
   "outputs": [],
   "source": [
    "# import time\n",
    "# df_all = df_1\n",
    "# feature_list = X_col\n",
    "# time1 = time.time()\n",
    "# wrong_list= []\n",
    "# for index,value in enumerate(feature_list):\n",
    "#     print(index,value)\n",
    "#     try:\n",
    "#         pt.univariate_chart(df = df_all.copy(), col = value , target ='label' , n = 5,\n",
    "#                              special_attribute = [-1, np.nan],\n",
    "#                              dftrain=df_train.copy(), dftest=df_test.copy(),\n",
    "#                              draw_all=True, draw_train_test=True,result_path = file_path_result)\n",
    "#     except Exception as e:\n",
    "#         wrong_list.append(value)\n",
    "#         print(e)\n",
    "# wrong_list\n",
    "# len(wrong_list)\n",
    "# time2 = time.time()\n",
    "# print('run_time: ', time2-time1)"
   ]
  },
  {
   "cell_type": "markdown",
   "metadata": {},
   "source": [
    "# importance"
   ]
  },
  {
   "cell_type": "code",
   "execution_count": 33,
   "metadata": {},
   "outputs": [
    {
     "data": {
      "text/plain": [
       "DecisionTreeClassifier(ccp_alpha=0.0, class_weight=None, criterion='gini',\n",
       "                       max_depth=None, max_features=None, max_leaf_nodes=None,\n",
       "                       min_impurity_decrease=0.0, min_impurity_split=None,\n",
       "                       min_samples_leaf=1, min_samples_split=2,\n",
       "                       min_weight_fraction_leaf=0.0, presort='deprecated',\n",
       "                       random_state=None, splitter='best')"
      ]
     },
     "execution_count": 33,
     "metadata": {},
     "output_type": "execute_result"
    },
    {
     "name": "stdout",
     "output_type": "stream",
     "text": [
      "Accuracy: 53.55%\n"
     ]
    },
    {
     "data": {
      "text/html": [
       "<div>\n",
       "<style scoped>\n",
       "    .dataframe tbody tr th:only-of-type {\n",
       "        vertical-align: middle;\n",
       "    }\n",
       "\n",
       "    .dataframe tbody tr th {\n",
       "        vertical-align: top;\n",
       "    }\n",
       "\n",
       "    .dataframe thead th {\n",
       "        text-align: right;\n",
       "    }\n",
       "</style>\n",
       "<table border=\"1\" class=\"dataframe\">\n",
       "  <thead>\n",
       "    <tr style=\"text-align: right;\">\n",
       "      <th></th>\n",
       "      <th>指标英文</th>\n",
       "      <th>importance</th>\n",
       "      <th>importance_rank</th>\n",
       "    </tr>\n",
       "  </thead>\n",
       "  <tbody>\n",
       "    <tr>\n",
       "      <th>49</th>\n",
       "      <td>UangMe_tfidf</td>\n",
       "      <td>0.068401</td>\n",
       "      <td>1.0</td>\n",
       "    </tr>\n",
       "    <tr>\n",
       "      <th>48</th>\n",
       "      <td>UKU_tfidf</td>\n",
       "      <td>0.063197</td>\n",
       "      <td>2.0</td>\n",
       "    </tr>\n",
       "    <tr>\n",
       "      <th>39</th>\n",
       "      <td>KreditPintar_tfidf</td>\n",
       "      <td>0.052172</td>\n",
       "      <td>3.0</td>\n",
       "    </tr>\n",
       "    <tr>\n",
       "      <th>46</th>\n",
       "      <td>TunaiKita_tfidf</td>\n",
       "      <td>0.052013</td>\n",
       "      <td>4.0</td>\n",
       "    </tr>\n",
       "    <tr>\n",
       "      <th>31</th>\n",
       "      <td>DanaRupiah_tfidf</td>\n",
       "      <td>0.051102</td>\n",
       "      <td>5.0</td>\n",
       "    </tr>\n",
       "  </tbody>\n",
       "</table>\n",
       "</div>"
      ],
      "text/plain": [
       "                  指标英文  importance  importance_rank\n",
       "49        UangMe_tfidf    0.068401              1.0\n",
       "48           UKU_tfidf    0.063197              2.0\n",
       "39  KreditPintar_tfidf    0.052172              3.0\n",
       "46     TunaiKita_tfidf    0.052013              4.0\n",
       "31    DanaRupiah_tfidf    0.051102              5.0"
      ]
     },
     "execution_count": 33,
     "metadata": {},
     "output_type": "execute_result"
    }
   ],
   "source": [
    "from sklearn.metrics import accuracy_score\n",
    "\n",
    "model = tree.DecisionTreeClassifier()\n",
    "model.fit(X_train, y_train)\n",
    "## prediction\n",
    "y_pred = model.predict(X_test);\n",
    "predictions = [round(value) for value in y_pred]\n",
    "## evaluation\n",
    "accuracy = accuracy_score(y_test, predictions)\n",
    "print(\"Accuracy: %.2f%%\" % (accuracy * 100.0))\n",
    "\n",
    "features_in_model = X_col\n",
    "feature_importance = model.feature_importances_\n",
    "var_importance = pd.DataFrame(columns=[\"指标英文\", 'importance'])\n",
    "var_importance['指标英文'] = features_in_model\n",
    "var_importance['importance'] = feature_importance\n",
    "var_importance.loc[:, 'importance_rank'] = var_importance.importance.rank(ascending=False)\n",
    "var_importance.sort_values(by = 'importance',ascending = False).head()"
   ]
  },
  {
   "cell_type": "markdown",
   "metadata": {},
   "source": [
    "# overall_ranking"
   ]
  },
  {
   "cell_type": "code",
   "execution_count": 34,
   "metadata": {},
   "outputs": [
    {
     "name": "stderr",
     "output_type": "stream",
     "text": [
      "/Users/yantingting/opt/anaconda3/envs/modeling/lib/python3.7/site-packages/pandas/core/series.py:679: RuntimeWarning: divide by zero encountered in log\n",
      "  result = getattr(ufunc, method)(*inputs, **kwargs)\n"
     ]
    },
    {
     "name": "stdout",
     "output_type": "stream",
     "text": [
      "1\n"
     ]
    },
    {
     "data": {
      "text/plain": [
       "'按训练集和验证集检查变量的稳定性和有效性'"
      ]
     },
     "execution_count": 34,
     "metadata": {},
     "output_type": "execute_result"
    },
    {
     "name": "stderr",
     "output_type": "stream",
     "text": [
      "/Users/yantingting/opt/anaconda3/envs/modeling/lib/python3.7/site-packages/ipykernel_launcher.py:39: SettingWithCopyWarning: \n",
      "A value is trying to be set on a copy of a slice from a DataFrame.\n",
      "Try using .loc[row_indexer,col_indexer] = value instead\n",
      "\n",
      "See the caveats in the documentation: https://pandas.pydata.org/pandas-docs/stable/user_guide/indexing.html#returning-a-view-versus-a-copy\n",
      "/Users/yantingting/opt/anaconda3/envs/modeling/lib/python3.7/site-packages/ipykernel_launcher.py:40: SettingWithCopyWarning: \n",
      "A value is trying to be set on a copy of a slice from a DataFrame.\n",
      "Try using .loc[row_indexer,col_indexer] = value instead\n",
      "\n",
      "See the caveats in the documentation: https://pandas.pydata.org/pandas-docs/stable/user_guide/indexing.html#returning-a-view-versus-a-copy\n"
     ]
    },
    {
     "data": {
      "text/plain": [
       "(41107, 53)"
      ]
     },
     "execution_count": 34,
     "metadata": {},
     "output_type": "execute_result"
    },
    {
     "name": "stdout",
     "output_type": "stream",
     "text": [
      "run_time:  25.13801383972168\n"
     ]
    }
   ],
   "source": [
    "import time\n",
    "result_path = file_path_result\n",
    "os.environ['KMP_DUPLICATE_LIB_OK'] = 'True'\n",
    "args_dict = {\n",
    "    'random_forest': {\n",
    "        'grid_search': False,\n",
    "        'param': None\n",
    "    },\n",
    "    'xgboost': {\n",
    "        'grid_search': False,\n",
    "        'param': None\n",
    "    }\n",
    "}\n",
    "methods = [\n",
    "    'random_forest',\n",
    "    #'lasso',\n",
    "    #'xgboost'\n",
    "]\n",
    "\n",
    "time1 = time.time()\n",
    "## Train 分箱,为了得到分箱的woe值\n",
    "X_cat_train, X_transformed_train, woe_iv_df, rebin_spec, ranking_result = fs_obj.overall_ranking(X_train, y_train,\n",
    "                                                                                           var_dict, args_dict,\n",
    "                                                                                           methods, num_max_bins=5)\n",
    "\n",
    "woe_iv_df.to_excel(os.path.join(result_path,'woe_iv_df.xlsx'))\n",
    "ranking_result.to_excel(os.path.join(result_path,'ranking_result.xlsx'))\n",
    "\n",
    "rebin_spec = mu.convert_rebin_spec2XGB_rebin_spec(rebin_spec)\n",
    "rebin_spec_bin_adjusted = {k: v for k, v in rebin_spec.items()}\n",
    "\n",
    "bin_obj = mt.BinWoe()\n",
    "X_cat_train = bin_obj.convert_to_category(X_train, var_dict, rebin_spec_bin_adjusted)\n",
    "X_cat_test = bin_obj.convert_to_category(X_test, var_dict, rebin_spec_bin_adjusted)\n",
    "print(1)\n",
    "\n",
    "\"\"\"按训练集和验证集检查变量的稳定性和有效性\"\"\"\n",
    "## train\n",
    "df_train['appmon'] = '0_train'\n",
    "df_test['appmon'] = '1_test'\n",
    "\n",
    "all_cat = pd.concat([X_cat_train,X_cat_test])\n",
    "app_data = pd.concat([df_train[['label','appmon']],df_test[['label','appmon']]])\n",
    "X_cat_with_y_appmon_all = pd.merge(all_cat,app_data[['label','appmon']] ,left_index=True,right_index=True)\n",
    "X_cat_with_y_appmon_all.shape\n",
    "\n",
    "var_dist_badRate_by_time_all = ss.get_badRate_and_dist_by_time(X_cat_with_y_appmon_all,list([i for i in all_cat.columns if i != 'loan_id']),'appmon','label')\n",
    "var_dist_badRate_by_time_all.to_excel(os.path.join(result_path, 'var_dist_badRate_by_sample.xlsx'))\n",
    "\n",
    "# PSI\n",
    "var_psi = pf.variable_psi(X_cat_train, X_cat_test, var_dict)\n",
    "var_psi.loc[:, 'psi_rank'] = var_psi.PSI.rank(ascending=False)\n",
    "var_psi.to_excel(os.path.join(result_path, 'var_PSI.xlsx'))\n",
    "\n",
    "# 汇总各项指标\n",
    "# var_psi.drop(['数据源','指标中文'],axis = 1,inplace=True)\n",
    "ranking_result_all = ranking_result.merge(var_importance, on='指标英文', how='left').merge(var_psi, on='指标英文', how='left')\n",
    "ranking_result_all.to_excel(os.path.join(result_path,'ranking_result_all.xlsx'))\n",
    "\n",
    "time2 = time.time()\n",
    "print('run_time: ', time2-time1)\n"
   ]
  },
  {
   "cell_type": "markdown",
   "metadata": {},
   "source": [
    "# 变量筛选"
   ]
  },
  {
   "cell_type": "code",
   "execution_count": 42,
   "metadata": {},
   "outputs": [
    {
     "name": "stdout",
     "output_type": "stream",
     "text": [
      "变量总个数687\n",
      "PSI筛掉的个数2\n",
      "IV筛掉的个数0\n",
      "xgb重要性筛掉的个数0\n",
      "相关性特征筛掉的个数489\n",
      "总共筛掉的个数489\n",
      "剩余变量个数198\n"
     ]
    },
    {
     "data": {
      "text/plain": [
       "16"
      ]
     },
     "execution_count": 42,
     "metadata": {},
     "output_type": "execute_result"
    },
    {
     "name": "stdout",
     "output_type": "stream",
     "text": [
      "run_time:  52.89292907714844\n"
     ]
    }
   ],
   "source": [
    "time1 = time.time()\n",
    "train = df_train.drop(useless_cols,axis = 1).drop('appmon',axis = 1)\n",
    "test = df_test.drop(useless_cols,axis = 1).drop('appmon',axis = 1)\n",
    "\n",
    "# train = df_train.drop(useless_cols,axis = 1)\n",
    "# test = df_test.drop(useless_cols,axis = 1)\n",
    "f_rmv = feature_remove(train,test, ranking_result_all, result_path, psi = 0.05, iv = 0.01, imp = 0, corr = 0.75, slope = 'False')\n",
    "\n",
    "try:\n",
    "    train = train.drop(['slope'], axis=1)\n",
    "    test = test.drop(['slope'], axis=1)\n",
    "except:\n",
    "    pass\n",
    "\n",
    "feature_used = list(set(X_col) - set(f_rmv))\n",
    "len(feature_used)\n",
    "X_train = df_train[feature_used]\n",
    "X_test = df_test[feature_used]\n",
    "time2 = time.time()\n",
    "print('run_time: ', time2-time1)"
   ]
  },
  {
   "cell_type": "markdown",
   "metadata": {},
   "source": [
    "# 调参数"
   ]
  },
  {
   "cell_type": "code",
   "execution_count": 43,
   "metadata": {},
   "outputs": [
    {
     "name": "stderr",
     "output_type": "stream",
     "text": [
      "/Users/yantingting/opt/anaconda3/envs/modeling/lib/python3.7/site-packages/sklearn/model_selection/_search.py:823: FutureWarning: The parameter 'iid' is deprecated in 0.22 and will be removed in 0.24.\n",
      "  \"removed in 0.24.\", FutureWarning\n",
      "/Users/yantingting/opt/anaconda3/envs/modeling/lib/python3.7/site-packages/sklearn/tree/_classes.py:319: FutureWarning: The parameter 'presort' is deprecated and has no effect. It will be removed in v0.24. You can suppress this warning by not passing any value to the 'presort' parameter.\n",
      "  FutureWarning)\n"
     ]
    },
    {
     "data": {
      "text/plain": [
       "GridSearchCV(cv=6, error_score=nan,\n",
       "             estimator=DecisionTreeClassifier(ccp_alpha=0.0, class_weight=None,\n",
       "                                              criterion='gini', max_depth=None,\n",
       "                                              max_features=None,\n",
       "                                              max_leaf_nodes=None,\n",
       "                                              min_impurity_decrease=0.0,\n",
       "                                              min_impurity_split=None,\n",
       "                                              min_samples_leaf=0.02,\n",
       "                                              min_samples_split=0.01,\n",
       "                                              min_weight_fraction_leaf=0.0,\n",
       "                                              presort=True, random_state=1,\n",
       "                                              splitter='best'),\n",
       "             iid=False, n_jobs=4, param_grid={'max_depth': range(1, 7)},\n",
       "             pre_dispatch='2*n_jobs', refit=True, return_train_score=False,\n",
       "             scoring='roc_auc', verbose=0)"
      ]
     },
     "execution_count": 43,
     "metadata": {},
     "output_type": "execute_result"
    },
    {
     "data": {
      "text/plain": [
       "5"
      ]
     },
     "execution_count": 43,
     "metadata": {},
     "output_type": "execute_result"
    }
   ],
   "source": [
    "# GridSearch\n",
    "param_train1 = {'max_depth':range(1,7,1)} \n",
    "gsearch1 = GridSearchCV(estimator = tree.DecisionTreeClassifier(class_weight=None, criterion='gini',\n",
    "                       max_features=None, max_leaf_nodes=None,\n",
    "                       min_impurity_decrease=0.0, min_impurity_split=None,\n",
    "                       min_samples_leaf=0.02, min_samples_split=0.01,\n",
    "                       min_weight_fraction_leaf=0.0, presort=True,\n",
    "                       random_state=1, splitter='best'),\n",
    "                        param_grid = param_train1, scoring='roc_auc',n_jobs=4,iid=False,cv=6)\n",
    "gsearch1.fit(X_train,y_train)\n",
    "best_max_depth = gsearch1.best_params_['max_depth']\n",
    "best_max_depth\n",
    "#6"
   ]
  },
  {
   "cell_type": "code",
   "execution_count": 44,
   "metadata": {},
   "outputs": [
    {
     "name": "stderr",
     "output_type": "stream",
     "text": [
      "/Users/yantingting/opt/anaconda3/envs/modeling/lib/python3.7/site-packages/sklearn/model_selection/_search.py:823: FutureWarning: The parameter 'iid' is deprecated in 0.22 and will be removed in 0.24.\n",
      "  \"removed in 0.24.\", FutureWarning\n",
      "/Users/yantingting/opt/anaconda3/envs/modeling/lib/python3.7/site-packages/sklearn/tree/_classes.py:319: FutureWarning: The parameter 'presort' is deprecated and has no effect. It will be removed in v0.24. You can suppress this warning by not passing any value to the 'presort' parameter.\n",
      "  FutureWarning)\n"
     ]
    },
    {
     "data": {
      "text/plain": [
       "GridSearchCV(cv=6, error_score=nan,\n",
       "             estimator=DecisionTreeClassifier(ccp_alpha=0.0, class_weight=None,\n",
       "                                              criterion='gini', max_depth=5,\n",
       "                                              max_features=None,\n",
       "                                              max_leaf_nodes=None,\n",
       "                                              min_impurity_decrease=0.0,\n",
       "                                              min_impurity_split=None,\n",
       "                                              min_samples_leaf=1,\n",
       "                                              min_samples_split=0.01,\n",
       "                                              min_weight_fraction_leaf=0.0,\n",
       "                                              presort=True, random_state=1,\n",
       "                                              splitter='best'),\n",
       "             iid=False, n_jobs=4,\n",
       "             param_grid={'min_samples_leaf': [0.0, 0.01, 0.02, 0.03, 0.04, 0.05,\n",
       "                                              0.06, 0.07, 0.08, 0.09]},\n",
       "             pre_dispatch='2*n_jobs', refit=True, return_train_score=False,\n",
       "             scoring='roc_auc', verbose=0)"
      ]
     },
     "execution_count": 44,
     "metadata": {},
     "output_type": "execute_result"
    },
    {
     "data": {
      "text/plain": [
       "0.03"
      ]
     },
     "execution_count": 44,
     "metadata": {},
     "output_type": "execute_result"
    }
   ],
   "source": [
    "\n",
    "param_train2 = {'min_samples_leaf':[i / 100.0 for i in range(0, 10)]} \n",
    "gsearch2 = GridSearchCV(estimator = tree.DecisionTreeClassifier(class_weight=None, criterion='gini',max_depth=best_max_depth,\n",
    "                       max_features=None, max_leaf_nodes=None,\n",
    "                       min_impurity_decrease=0.0, min_impurity_split=None,\n",
    "                       min_samples_split=0.01,\n",
    "                       min_weight_fraction_leaf=0.0, presort=True,\n",
    "                       random_state=1, splitter='best'),\n",
    "                       param_grid = param_train2, scoring='roc_auc',n_jobs=4,iid=False,cv=6)\n",
    "gsearch2.fit(X_train,y_train)\n",
    "best_min_samples_leaf = gsearch2.best_params_['min_samples_leaf']\n",
    "best_min_samples_leaf\n",
    "#0.01"
   ]
  },
  {
   "cell_type": "code",
   "execution_count": 45,
   "metadata": {},
   "outputs": [
    {
     "name": "stderr",
     "output_type": "stream",
     "text": [
      "/Users/yantingting/opt/anaconda3/envs/modeling/lib/python3.7/site-packages/sklearn/model_selection/_search.py:823: FutureWarning: The parameter 'iid' is deprecated in 0.22 and will be removed in 0.24.\n",
      "  \"removed in 0.24.\", FutureWarning\n",
      "/Users/yantingting/opt/anaconda3/envs/modeling/lib/python3.7/site-packages/sklearn/tree/_classes.py:319: FutureWarning: The parameter 'presort' is deprecated and has no effect. It will be removed in v0.24. You can suppress this warning by not passing any value to the 'presort' parameter.\n",
      "  FutureWarning)\n"
     ]
    },
    {
     "data": {
      "text/plain": [
       "GridSearchCV(cv=6, error_score=nan,\n",
       "             estimator=DecisionTreeClassifier(ccp_alpha=0.0, class_weight=None,\n",
       "                                              criterion='gini', max_depth=5,\n",
       "                                              max_features=None,\n",
       "                                              max_leaf_nodes=None,\n",
       "                                              min_impurity_decrease=0.0,\n",
       "                                              min_impurity_split=None,\n",
       "                                              min_samples_leaf=0.03,\n",
       "                                              min_samples_split=2,\n",
       "                                              min_weight_fraction_leaf=0.0,\n",
       "                                              presort=True, random_state=1,\n",
       "                                              splitter='best'),\n",
       "             iid=False, n_jobs=4,\n",
       "             param_grid={'min_samples_split': [0.0, 0.01, 0.02, 0.03, 0.04,\n",
       "                                               0.05, 0.06, 0.07, 0.08, 0.09,\n",
       "                                               0.1, 0.11, 0.12, 0.13, 0.14,\n",
       "                                               0.15, 0.16, 0.17, 0.18, 0.19]},\n",
       "             pre_dispatch='2*n_jobs', refit=True, return_train_score=False,\n",
       "             scoring='roc_auc', verbose=0)"
      ]
     },
     "execution_count": 45,
     "metadata": {},
     "output_type": "execute_result"
    },
    {
     "data": {
      "text/plain": [
       "0.01"
      ]
     },
     "execution_count": 45,
     "metadata": {},
     "output_type": "execute_result"
    }
   ],
   "source": [
    "\n",
    "param_train3 = {'min_samples_split':[i / 100.0 for i in range(0, 20)]} \n",
    "gsearch3 = GridSearchCV(estimator = tree.DecisionTreeClassifier(class_weight=None, criterion='gini',max_depth=best_max_depth,\n",
    "                       max_features=None, max_leaf_nodes=None,\n",
    "                       min_impurity_decrease=0.0, min_impurity_split=None,\n",
    "                       min_samples_leaf=best_min_samples_leaf,\n",
    "                       min_weight_fraction_leaf=0.0, presort=True,\n",
    "                       random_state=1, splitter='best'),\n",
    "                       param_grid = param_train3, scoring='roc_auc',n_jobs=4,iid=False,cv=6)\n",
    "gsearch3.fit(X_train,y_train)\n",
    "best_min_samples_split = gsearch3.best_params_['min_samples_split']\n",
    "best_min_samples_split\n",
    "# 0.03"
   ]
  },
  {
   "cell_type": "code",
   "execution_count": 46,
   "metadata": {},
   "outputs": [
    {
     "name": "stderr",
     "output_type": "stream",
     "text": [
      "/Users/yantingting/opt/anaconda3/envs/modeling/lib/python3.7/site-packages/sklearn/tree/_classes.py:319: FutureWarning: The parameter 'presort' is deprecated and has no effect. It will be removed in v0.24. You can suppress this warning by not passing any value to the 'presort' parameter.\n",
      "  FutureWarning)\n"
     ]
    },
    {
     "data": {
      "text/plain": [
       "DecisionTreeClassifier(ccp_alpha=0.0, class_weight=None, criterion='gini',\n",
       "                       max_depth=5, max_features=None, max_leaf_nodes=None,\n",
       "                       min_impurity_decrease=0.0, min_impurity_split=None,\n",
       "                       min_samples_leaf=0.03, min_samples_split=0.01,\n",
       "                       min_weight_fraction_leaf=0.0, presort=True,\n",
       "                       random_state=1, splitter='best')"
      ]
     },
     "execution_count": 46,
     "metadata": {},
     "output_type": "execute_result"
    }
   ],
   "source": [
    "\n",
    "best_clf = tree.DecisionTreeClassifier(class_weight=None, criterion='gini', max_depth=best_max_depth,\n",
    "                       max_features=None, max_leaf_nodes=None,\n",
    "                       min_impurity_decrease=0.0, min_impurity_split=None,\n",
    "                       min_samples_leaf=best_min_samples_leaf, min_samples_split=best_min_samples_split,\n",
    "                       min_weight_fraction_leaf=0.0, presort=True,\n",
    "                       random_state=1, splitter='best')\n",
    "\n",
    "\n",
    "best_clf.fit(X_train,y_train)"
   ]
  },
  {
   "cell_type": "markdown",
   "metadata": {},
   "source": [
    "# 可视化"
   ]
  },
  {
   "cell_type": "code",
   "execution_count": 47,
   "metadata": {},
   "outputs": [
    {
     "name": "stderr",
     "output_type": "stream",
     "text": [
      "/Users/yantingting/opt/anaconda3/envs/modeling/lib/python3.7/site-packages/sklearn/tree/_classes.py:319: FutureWarning: The parameter 'presort' is deprecated and has no effect. It will be removed in v0.24. You can suppress this warning by not passing any value to the 'presort' parameter.\n",
      "  FutureWarning)\n"
     ]
    },
    {
     "data": {
      "text/plain": [
       "DecisionTreeClassifier(ccp_alpha=0.0, class_weight=None, criterion='gini',\n",
       "                       max_depth=5, max_features=None, max_leaf_nodes=None,\n",
       "                       min_impurity_decrease=0.0, min_impurity_split=None,\n",
       "                       min_samples_leaf=0.03, min_samples_split=0.01,\n",
       "                       min_weight_fraction_leaf=0.0, presort=True,\n",
       "                       random_state=1, splitter='best')"
      ]
     },
     "execution_count": 47,
     "metadata": {},
     "output_type": "execute_result"
    },
    {
     "data": {
      "image/png": "[encoded data removed]",
      "text/plain": [
       "<IPython.core.display.Image object>"
      ]
     },
     "execution_count": 47,
     "metadata": {},
     "output_type": "execute_result"
    },
    {
     "data": {
      "text/plain": [
       "True"
      ]
     },
     "execution_count": 47,
     "metadata": {},
     "output_type": "execute_result"
    },
    {
     "data": {
      "text/html": [
       "<div>\n",
       "<style scoped>\n",
       "    .dataframe tbody tr th:only-of-type {\n",
       "        vertical-align: middle;\n",
       "    }\n",
       "\n",
       "    .dataframe tbody tr th {\n",
       "        vertical-align: top;\n",
       "    }\n",
       "\n",
       "    .dataframe thead th {\n",
       "        text-align: right;\n",
       "    }\n",
       "</style>\n",
       "<table border=\"1\" class=\"dataframe\">\n",
       "  <thead>\n",
       "    <tr style=\"text-align: right;\">\n",
       "      <th></th>\n",
       "      <th>指标英文</th>\n",
       "      <th>importance</th>\n",
       "      <th>importance_rank</th>\n",
       "    </tr>\n",
       "  </thead>\n",
       "  <tbody>\n",
       "    <tr>\n",
       "      <th>7</th>\n",
       "      <td>Tunaiku</td>\n",
       "      <td>0.451510</td>\n",
       "      <td>1.0</td>\n",
       "    </tr>\n",
       "    <tr>\n",
       "      <th>1</th>\n",
       "      <td>PinjamYuk</td>\n",
       "      <td>0.313577</td>\n",
       "      <td>2.0</td>\n",
       "    </tr>\n",
       "    <tr>\n",
       "      <th>4</th>\n",
       "      <td>AdaKami</td>\n",
       "      <td>0.063652</td>\n",
       "      <td>3.0</td>\n",
       "    </tr>\n",
       "    <tr>\n",
       "      <th>12</th>\n",
       "      <td>Cairin</td>\n",
       "      <td>0.050466</td>\n",
       "      <td>4.0</td>\n",
       "    </tr>\n",
       "    <tr>\n",
       "      <th>13</th>\n",
       "      <td>TunaiKita</td>\n",
       "      <td>0.042933</td>\n",
       "      <td>5.0</td>\n",
       "    </tr>\n",
       "    <tr>\n",
       "      <th>8</th>\n",
       "      <td>Easycash</td>\n",
       "      <td>0.041434</td>\n",
       "      <td>6.0</td>\n",
       "    </tr>\n",
       "    <tr>\n",
       "      <th>0</th>\n",
       "      <td>Rupiah Cepat</td>\n",
       "      <td>0.024392</td>\n",
       "      <td>7.0</td>\n",
       "    </tr>\n",
       "    <tr>\n",
       "      <th>11</th>\n",
       "      <td>Cashwagon</td>\n",
       "      <td>0.012037</td>\n",
       "      <td>8.0</td>\n",
       "    </tr>\n",
       "    <tr>\n",
       "      <th>2</th>\n",
       "      <td>Kredinesia</td>\n",
       "      <td>0.000000</td>\n",
       "      <td>12.5</td>\n",
       "    </tr>\n",
       "    <tr>\n",
       "      <th>3</th>\n",
       "      <td>UangMe</td>\n",
       "      <td>0.000000</td>\n",
       "      <td>12.5</td>\n",
       "    </tr>\n",
       "  </tbody>\n",
       "</table>\n",
       "</div>"
      ],
      "text/plain": [
       "            指标英文  importance  importance_rank\n",
       "7        Tunaiku    0.451510              1.0\n",
       "1      PinjamYuk    0.313577              2.0\n",
       "4        AdaKami    0.063652              3.0\n",
       "12        Cairin    0.050466              4.0\n",
       "13     TunaiKita    0.042933              5.0\n",
       "8       Easycash    0.041434              6.0\n",
       "0   Rupiah Cepat    0.024392              7.0\n",
       "11     Cashwagon    0.012037              8.0\n",
       "2     Kredinesia    0.000000             12.5\n",
       "3         UangMe    0.000000             12.5"
      ]
     },
     "execution_count": 47,
     "metadata": {},
     "output_type": "execute_result"
    },
    {
     "name": "stderr",
     "output_type": "stream",
     "text": [
      "/Users/yantingting/opt/anaconda3/envs/modeling/lib/python3.7/site-packages/sklearn/tree/_classes.py:319: FutureWarning: The parameter 'presort' is deprecated and has no effect. It will be removed in v0.24. You can suppress this warning by not passing any value to the 'presort' parameter.\n",
      "  FutureWarning)\n"
     ]
    },
    {
     "data": {
      "text/plain": [
       "DecisionTreeClassifier(ccp_alpha=0.0, class_weight=None, criterion='gini',\n",
       "                       max_depth=5, max_features=None, max_leaf_nodes=None,\n",
       "                       min_impurity_decrease=0.0, min_impurity_split=None,\n",
       "                       min_samples_leaf=0.03, min_samples_split=0.01,\n",
       "                       min_weight_fraction_leaf=0.0, presort=True,\n",
       "                       random_state=1, splitter='best')"
      ]
     },
     "execution_count": 47,
     "metadata": {},
     "output_type": "execute_result"
    },
    {
     "data": {
      "image/png": "[encoded data removed]",
      "text/plain": [
       "<IPython.core.display.Image object>"
      ]
     },
     "execution_count": 47,
     "metadata": {},
     "output_type": "execute_result"
    },
    {
     "data": {
      "text/plain": [
       "True"
      ]
     },
     "execution_count": 47,
     "metadata": {},
     "output_type": "execute_result"
    },
    {
     "data": {
      "text/html": [
       "<div>\n",
       "<style scoped>\n",
       "    .dataframe tbody tr th:only-of-type {\n",
       "        vertical-align: middle;\n",
       "    }\n",
       "\n",
       "    .dataframe tbody tr th {\n",
       "        vertical-align: top;\n",
       "    }\n",
       "\n",
       "    .dataframe thead th {\n",
       "        text-align: right;\n",
       "    }\n",
       "</style>\n",
       "<table border=\"1\" class=\"dataframe\">\n",
       "  <thead>\n",
       "    <tr style=\"text-align: right;\">\n",
       "      <th></th>\n",
       "      <th>指标英文</th>\n",
       "      <th>importance</th>\n",
       "      <th>importance_rank</th>\n",
       "    </tr>\n",
       "  </thead>\n",
       "  <tbody>\n",
       "    <tr>\n",
       "      <th>1</th>\n",
       "      <td>PinjamYuk</td>\n",
       "      <td>0.507444</td>\n",
       "      <td>1.0</td>\n",
       "    </tr>\n",
       "    <tr>\n",
       "      <th>14</th>\n",
       "      <td>Cashcepat</td>\n",
       "      <td>0.089258</td>\n",
       "      <td>2.0</td>\n",
       "    </tr>\n",
       "    <tr>\n",
       "      <th>3</th>\n",
       "      <td>UangMe</td>\n",
       "      <td>0.079347</td>\n",
       "      <td>3.0</td>\n",
       "    </tr>\n",
       "    <tr>\n",
       "      <th>0</th>\n",
       "      <td>Rupiah Cepat</td>\n",
       "      <td>0.076347</td>\n",
       "      <td>4.0</td>\n",
       "    </tr>\n",
       "    <tr>\n",
       "      <th>4</th>\n",
       "      <td>AdaKami</td>\n",
       "      <td>0.075024</td>\n",
       "      <td>5.0</td>\n",
       "    </tr>\n",
       "    <tr>\n",
       "      <th>12</th>\n",
       "      <td>Cairin</td>\n",
       "      <td>0.059885</td>\n",
       "      <td>6.0</td>\n",
       "    </tr>\n",
       "    <tr>\n",
       "      <th>7</th>\n",
       "      <td>Tunaiku</td>\n",
       "      <td>0.055355</td>\n",
       "      <td>7.0</td>\n",
       "    </tr>\n",
       "    <tr>\n",
       "      <th>5</th>\n",
       "      <td>Indodana</td>\n",
       "      <td>0.045957</td>\n",
       "      <td>8.0</td>\n",
       "    </tr>\n",
       "    <tr>\n",
       "      <th>13</th>\n",
       "      <td>TunaiKita</td>\n",
       "      <td>0.011347</td>\n",
       "      <td>9.0</td>\n",
       "    </tr>\n",
       "    <tr>\n",
       "      <th>9</th>\n",
       "      <td>DanaRupiah</td>\n",
       "      <td>0.000036</td>\n",
       "      <td>10.0</td>\n",
       "    </tr>\n",
       "  </tbody>\n",
       "</table>\n",
       "</div>"
      ],
      "text/plain": [
       "            指标英文  importance  importance_rank\n",
       "1      PinjamYuk    0.507444              1.0\n",
       "14     Cashcepat    0.089258              2.0\n",
       "3         UangMe    0.079347              3.0\n",
       "0   Rupiah Cepat    0.076347              4.0\n",
       "4        AdaKami    0.075024              5.0\n",
       "12        Cairin    0.059885              6.0\n",
       "7        Tunaiku    0.055355              7.0\n",
       "5       Indodana    0.045957              8.0\n",
       "13     TunaiKita    0.011347              9.0\n",
       "9     DanaRupiah    0.000036             10.0"
      ]
     },
     "execution_count": 47,
     "metadata": {},
     "output_type": "execute_result"
    }
   ],
   "source": [
    "var_tree = feature_used\n",
    "var_rank = dict(zip(range(len(var_tree)+1),var_tree))\n",
    "pd.DataFrame.from_dict(var_rank, orient='index').to_excel(os.path.join(file_path_result,'var_rank.xlsx'))\n",
    "clf = best_clf\n",
    "\n",
    "clf_train = clf.fit(X_train, y_train)\n",
    "clf_train\n",
    "dot_data = StringIO()  \n",
    "tree.export_graphviz(clf_train, out_file=dot_data, proportion=True,\n",
    "                     impurity = False,precision=2)  \n",
    "graph = pydotplus.graph_from_dot_data(dot_data.getvalue()) \n",
    "Image(graph.create_png()) \n",
    "graph.write_png(os.path.join(file_path_result , 'tree_train.png'))\n",
    "\n",
    "features_in_model = feature_used\n",
    "feature_importance = clf.feature_importances_\n",
    "var_importance = pd.DataFrame(columns=[\"指标英文\", 'importance'])\n",
    "var_importance['指标英文'] = features_in_model\n",
    "var_importance['importance'] = feature_importance\n",
    "var_importance.loc[:, 'importance_rank'] = var_importance.importance.rank(ascending=False)\n",
    "var_importance.sort_values(by = 'importance',ascending = False,inplace = True)\n",
    "var_importance.to_excel(os.path.join(file_path_result,'var_importance_train.xlsx'))\n",
    "var_importance.head(10)\n",
    "\n",
    "\n",
    "# test\n",
    "clf_test = clf.fit(X_test, y_test)\n",
    "clf_test\n",
    "\n",
    "dot_data = StringIO()  \n",
    "tree.export_graphviz(clf_test, out_file=dot_data, proportion=True,\n",
    "                     impurity = False,precision=2)  \n",
    "graph = pydotplus.graph_from_dot_data(dot_data.getvalue()) \n",
    "Image(graph.create_png()) \n",
    "graph.write_png(os.path.join(file_path_result , 'tree_test.png'))\n",
    "\n",
    "features_in_model = feature_used\n",
    "feature_importance = clf.feature_importances_\n",
    "var_importance = pd.DataFrame(columns=[\"指标英文\", 'importance'])\n",
    "var_importance['指标英文'] = features_in_model\n",
    "var_importance['importance'] = feature_importance\n",
    "var_importance.loc[:, 'importance_rank'] = var_importance.importance.rank(ascending=False)\n",
    "var_importance.sort_values(by = 'importance',ascending = False,inplace = True)\n",
    "var_importance.to_excel(os.path.join(file_path_result,'var_importance_test.xlsx'))\n",
    "var_importance.head(10)\n",
    "\n"
   ]
  },
  {
   "cell_type": "markdown",
   "metadata": {},
   "source": [
    "# 结果"
   ]
  },
  {
   "cell_type": "code",
   "execution_count": 48,
   "metadata": {},
   "outputs": [
    {
     "data": {
      "text/plain": [
       "(28778,)"
      ]
     },
     "execution_count": 48,
     "metadata": {},
     "output_type": "execute_result"
    },
    {
     "data": {
      "text/plain": [
       "(12329,)"
      ]
     },
     "execution_count": 48,
     "metadata": {},
     "output_type": "execute_result"
    },
    {
     "name": "stderr",
     "output_type": "stream",
     "text": [
      "/Users/yantingting/opt/anaconda3/envs/modeling/lib/python3.7/site-packages/pandas/core/indexing.py:965: SettingWithCopyWarning: \n",
      "A value is trying to be set on a copy of a slice from a DataFrame.\n",
      "Try using .loc[row_indexer,col_indexer] = value instead\n",
      "\n",
      "See the caveats in the documentation: https://pandas.pydata.org/pandas-docs/stable/user_guide/indexing.html#returning-a-view-versus-a-copy\n",
      "  self.obj[item] = s\n"
     ]
    },
    {
     "name": "stdout",
     "output_type": "stream",
     "text": [
      "auc: 0.52\n",
      "Accuracy: 61.5505%\n",
      "auc: 0.55\n",
      "Accuracy: 55.7628%\n",
      "success\n"
     ]
    }
   ],
   "source": [
    "y_train_pred = best_clf.predict_proba(X_train)[:,1]\n",
    "y_train_pred.shape\n",
    "y_test_pred = best_clf.predict_proba(X_test)[:,1]\n",
    "y_test_pred.shape\n",
    "# ### 打分&KS\n",
    "train_pred = df_train.copy()\n",
    "train_pred['y_pred'] = y_train_pred\n",
    "\n",
    "test_pred = df_test.copy()\n",
    "test_pred['y_pred'] = y_test_pred\n",
    "data_scored_train, train_proba_ks, train_proba_ks_20, train_score_ks, train_score_ks_20, data_scored_test, test_proba_ks, test_proba_ks_20, test_score_ks, test_score_ks_20 = pf.data_score_KS(train_pred, test_pred, 'y_pred',10,20)\n",
    "\n",
    "writer = pd.ExcelWriter(os.path.join(file_path_result,'ks.xlsx'))\n",
    "train_score_ks.to_excel(writer,sheet_name = 'train_score_ks')\n",
    "test_score_ks.to_excel(writer, sheet_name = 'test_score_ks') \n",
    "writer.close()\n",
    "\n",
    "# save_data_to_pickle(data_scored_train,file_path_result,'data_scored_train.pkl')\n",
    "# save_data_to_pickle(data_scored_test,file_path_result,'data_scored_test.pkl')\n",
    "\n",
    "def auc_acc_table(df):\n",
    "    from sklearn.metrics import roc_auc_score\n",
    "    from sklearn.metrics import accuracy_score\n",
    "    y = df.label.values\n",
    "    y_pred = df.y_pred\n",
    "    ## AUC\n",
    "    auc = roc_auc_score(y, y_pred)\n",
    "    print(\"auc: %.2f\" % auc)\n",
    "    ## Accuracy\n",
    "    predictions = [round(value) for value in y_pred]\n",
    "    accuracy = accuracy_score(y, predictions)\n",
    "    print(\"Accuracy: %.4f%%\" % (accuracy * 100.0))\n",
    "    return auc, accuracy\n",
    "\n",
    "auc_train, acc_train = auc_acc_table(train_pred)\n",
    "auc_test, acc_test = auc_acc_table(test_pred)\n",
    "print('success')"
   ]
  },
  {
   "cell_type": "markdown",
   "metadata": {},
   "source": [
    "# LiftChart"
   ]
  },
  {
   "cell_type": "code",
   "execution_count": 49,
   "metadata": {},
   "outputs": [
    {
     "data": {
      "text/html": [
       "<div>\n",
       "<style scoped>\n",
       "    .dataframe tbody tr th:only-of-type {\n",
       "        vertical-align: middle;\n",
       "    }\n",
       "\n",
       "    .dataframe tbody tr th {\n",
       "        vertical-align: top;\n",
       "    }\n",
       "\n",
       "    .dataframe thead th {\n",
       "        text-align: right;\n",
       "    }\n",
       "</style>\n",
       "<table border=\"1\" class=\"dataframe\">\n",
       "  <thead>\n",
       "    <tr style=\"text-align: right;\">\n",
       "      <th></th>\n",
       "      <th>order_no</th>\n",
       "      <th>Y</th>\n",
       "      <th>y_pred</th>\n",
       "      <th>score</th>\n",
       "      <th>score_bin</th>\n",
       "      <th>score_bin_20</th>\n",
       "      <th>proba_bin</th>\n",
       "      <th>proba_bin_20</th>\n",
       "      <th>sample_set</th>\n",
       "    </tr>\n",
       "  </thead>\n",
       "  <tbody>\n",
       "    <tr>\n",
       "      <th>0</th>\n",
       "      <td>1</td>\n",
       "      <td>0.0</td>\n",
       "      <td>0.403533</td>\n",
       "      <td>611.0</td>\n",
       "      <td>(609.0, 611.0]</td>\n",
       "      <td>(610.0, 611.0]</td>\n",
       "      <td>(0.366254, 0.403533]</td>\n",
       "      <td>(0.366254, 0.403533]</td>\n",
       "      <td>train</td>\n",
       "    </tr>\n",
       "    <tr>\n",
       "      <th>1</th>\n",
       "      <td>3</td>\n",
       "      <td>1.0</td>\n",
       "      <td>0.442712</td>\n",
       "      <td>607.0</td>\n",
       "      <td>(601.0, 607.0]</td>\n",
       "      <td>(602.0, 607.0]</td>\n",
       "      <td>(0.420398, 0.442712]</td>\n",
       "      <td>(0.420398, 0.442712]</td>\n",
       "      <td>train</td>\n",
       "    </tr>\n",
       "    <tr>\n",
       "      <th>2</th>\n",
       "      <td>4</td>\n",
       "      <td>1.0</td>\n",
       "      <td>0.442712</td>\n",
       "      <td>607.0</td>\n",
       "      <td>(601.0, 607.0]</td>\n",
       "      <td>(602.0, 607.0]</td>\n",
       "      <td>(0.420398, 0.442712]</td>\n",
       "      <td>(0.420398, 0.442712]</td>\n",
       "      <td>train</td>\n",
       "    </tr>\n",
       "    <tr>\n",
       "      <th>3</th>\n",
       "      <td>5</td>\n",
       "      <td>0.0</td>\n",
       "      <td>0.442712</td>\n",
       "      <td>607.0</td>\n",
       "      <td>(601.0, 607.0]</td>\n",
       "      <td>(602.0, 607.0]</td>\n",
       "      <td>(0.420398, 0.442712]</td>\n",
       "      <td>(0.420398, 0.442712]</td>\n",
       "      <td>train</td>\n",
       "    </tr>\n",
       "    <tr>\n",
       "      <th>4</th>\n",
       "      <td>6</td>\n",
       "      <td>0.0</td>\n",
       "      <td>0.495798</td>\n",
       "      <td>600.0</td>\n",
       "      <td>(597.0, 601.0]</td>\n",
       "      <td>(597.0, 601.0]</td>\n",
       "      <td>(0.493369, 0.527687]</td>\n",
       "      <td>(0.493369, 0.527687]</td>\n",
       "      <td>train</td>\n",
       "    </tr>\n",
       "  </tbody>\n",
       "</table>\n",
       "</div>"
      ],
      "text/plain": [
       "  order_no    Y    y_pred  score       score_bin    score_bin_20  \\\n",
       "0        1  0.0  0.403533  611.0  (609.0, 611.0]  (610.0, 611.0]   \n",
       "1        3  1.0  0.442712  607.0  (601.0, 607.0]  (602.0, 607.0]   \n",
       "2        4  1.0  0.442712  607.0  (601.0, 607.0]  (602.0, 607.0]   \n",
       "3        5  0.0  0.442712  607.0  (601.0, 607.0]  (602.0, 607.0]   \n",
       "4        6  0.0  0.495798  600.0  (597.0, 601.0]  (597.0, 601.0]   \n",
       "\n",
       "              proba_bin          proba_bin_20 sample_set  \n",
       "0  (0.366254, 0.403533]  (0.366254, 0.403533]      train  \n",
       "1  (0.420398, 0.442712]  (0.420398, 0.442712]      train  \n",
       "2  (0.420398, 0.442712]  (0.420398, 0.442712]      train  \n",
       "3  (0.420398, 0.442712]  (0.420398, 0.442712]      train  \n",
       "4  (0.493369, 0.527687]  (0.493369, 0.527687]      train  "
      ]
     },
     "execution_count": 49,
     "metadata": {},
     "output_type": "execute_result"
    },
    {
     "name": "stderr",
     "output_type": "stream",
     "text": [
      "/Users/yantingting/PycharmProjects/modeling/plot_tools.py:73: SettingWithCopyWarning: \n",
      "A value is trying to be set on a copy of a slice from a DataFrame.\n",
      "Try using .loc[row_indexer,col_indexer] = value instead\n",
      "\n",
      "See the caveats in the documentation: https://pandas.pydata.org/pandas-docs/stable/user_guide/indexing.html#returning-a-view-versus-a-copy\n",
      "  df['bkl_%s' % y_pred] = pd.qcut(df[y_pred], n_bins, duplicates='drop')\n",
      "/Users/yantingting/PycharmProjects/modeling/plot_tools.py:73: SettingWithCopyWarning: \n",
      "A value is trying to be set on a copy of a slice from a DataFrame.\n",
      "Try using .loc[row_indexer,col_indexer] = value instead\n",
      "\n",
      "See the caveats in the documentation: https://pandas.pydata.org/pandas-docs/stable/user_guide/indexing.html#returning-a-view-versus-a-copy\n",
      "  df['bkl_%s' % y_pred] = pd.qcut(df[y_pred], n_bins, duplicates='drop')\n"
     ]
    },
    {
     "name": "stdout",
     "output_type": "stream",
     "text": [
      "分箱数量:  6\n",
      "分箱数量:  5\n"
     ]
    },
    {
     "name": "stderr",
     "output_type": "stream",
     "text": [
      "/Users/yantingting/PycharmProjects/modeling/plot_tools.py:83: MatplotlibDeprecationWarning: Adding an axes using the same arguments as a previous axes currently reuses the earlier instance.  In a future version, a new instance will always be created and returned.  Meanwhile, this warning can be suppressed, and the future behavior ensured, by passing a unique label to each axes instance.\n",
      "  plt.subplot(1, 2, 1)\n",
      "/Users/yantingting/PycharmProjects/modeling/plot_tools.py:94: MatplotlibDeprecationWarning: Adding an axes using the same arguments as a previous axes currently reuses the earlier instance.  In a future version, a new instance will always be created and returned.  Meanwhile, this warning can be suppressed, and the future behavior ensured, by passing a unique label to each axes instance.\n",
      "  plt.subplot(1, 2, 2)\n"
     ]
    },
    {
     "data": {
      "image/png": "[encoded data removed]",
      "text/plain": [
       "<Figure size 1152x576 with 2 Axes>"
      ]
     },
     "metadata": {},
     "output_type": "display_data"
    },
    {
     "name": "stdout",
     "output_type": "stream",
     "text": [
      "end\n"
     ]
    }
   ],
   "source": [
    "data_scored_train['sample_set'] = \"train\"\n",
    "data_scored_test['sample_set'] = \"test\"\n",
    "data_scored_all = pd.concat([data_scored_train, data_scored_test])\n",
    "data_scored_all['order_no'] = data_scored_all['order_no'].astype(str)\n",
    "data_scored_all.head()\n",
    "save_data_to_pickle(data_scored_all,file_path_result,'data_scored_all.pkl')\n",
    "\n",
    "FIG_PATH = os.path.join(file_path_result, 'figure', 'liftchart')\n",
    "if not os.path.exists(FIG_PATH):\n",
    "    os.makedirs(FIG_PATH)\n",
    "\n",
    "train_lc = pt.show_result_new(data_scored_all.loc[data_scored_all.sample_set == 'train'], 'y_pred','Y', n_bins = 10, feature_label='train')\n",
    "test_lc = pt.show_result_new(data_scored_all.loc[data_scored_all.sample_set == 'test'], 'y_pred','Y', n_bins = 10, feature_label='test')\n",
    "# oot_lc = pt.show_result_new(data_scored_all.loc[data_scored_all.sample_set == 'oot'], 'y_pred','Y', n_bins = 10, feature_label='oot')\n",
    "path = os.path.join(FIG_PATH, \"LiftChart.png\")\n",
    "plt.savefig(path, format='png', dpi=300, bbox_inches = 'tight',pad_inches = 0.1)\n",
    "plt.show()\n",
    "plt.close()\n",
    "\n",
    "print('end')"
   ]
  },
  {
   "cell_type": "code",
   "execution_count": null,
   "metadata": {},
   "outputs": [],
   "source": []
  },
  {
   "cell_type": "code",
   "execution_count": null,
   "metadata": {},
   "outputs": [],
   "source": []
  }
 ],
 "metadata": {
  "kernelspec": {
   "display_name": "Python 3",
   "language": "python",
   "name": "python3"
  },
  "language_info": {
   "codemirror_mode": {
    "name": "ipython",
    "version": 3
   },
   "file_extension": ".py",
   "mimetype": "text/x-python",
   "name": "python",
   "nbconvert_exporter": "python",
   "pygments_lexer": "ipython3",
   "version": "3.7.6"
  },
  "latex_envs": {
   "LaTeX_envs_menu_present": true,
   "autoclose": false,
   "autocomplete": true,
   "bibliofile": "biblio.bib",
   "cite_by": "apalike",
   "current_citInitial": 1,
   "eqLabelWithNumbers": true,
   "eqNumInitial": 1,
   "hotkeys": {
    "equation": "Ctrl-E",
    "itemize": "Ctrl-I"
   },
   "labels_anchors": false,
   "latex_user_defs": false,
   "report_style_numbering": false,
   "user_envs_cfg": false
  },
  "toc": {
   "base_numbering": 1,
   "nav_menu": {},
   "number_sections": true,
   "sideBar": true,
   "skip_h1_title": false,
   "title_cell": "Table of Contents",
   "title_sidebar": "Contents",
   "toc_cell": false,
   "toc_position": {
    "height": "calc(100% - 180px)",
    "left": "10px",
    "top": "150px",
    "width": "336px"
   },
   "toc_section_display": true,
   "toc_window_display": true
  },
  "varInspector": {
   "cols": {
    "lenName": 16,
    "lenType": 16,
    "lenVar": 40
   },
   "kernels_config": {
    "python": {
     "delete_cmd_postfix": "",
     "delete_cmd_prefix": "del ",
     "library": "var_list.py",
     "varRefreshCmd": "print(var_dic_list())"
    },
    "r": {
     "delete_cmd_postfix": ") ",
     "delete_cmd_prefix": "rm(",
     "library": "var_list.r",
     "varRefreshCmd": "cat(var_dic_list()) "
    }
   },
   "types_to_exclude": [
    "module",
    "function",
    "builtin_function_or_method",
    "instance",
    "_Feature"
   ],
   "window_display": false
  }
 },
 "nbformat": 4,
 "nbformat_minor": 2
}
