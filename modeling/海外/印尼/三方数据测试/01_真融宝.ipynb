{
 "cells": [
  {
   "cell_type": "markdown",
   "metadata": {},
   "source": [
    "# Summary"
   ]
  },
  {
   "cell_type": "markdown",
   "metadata": {},
   "source": [
    "真融宝（印尼） 数据说明：\n",
    "\n",
    "测试产品是黑名单。\n",
    "\n",
    "样本数据说明：\n",
    "\n",
    "1) 本次共测试2000个不同三要素(手机号 + 姓名 + ID 号码)，样本数据类型是  被规则拒绝 + 放款成功；\n",
    "\n",
    "2) 放款成功样本共计 1500 个，放款时间2019-12/20--2019/12/26，其中首次7+ 的有494个，占比32.9%\n",
    "\n",
    "结论：\n",
    "1) 在成功放款的样本上：\n",
    "\n",
    "命中黑名单的逾期率是72.6%, 命中率为4.9%，单变量iv= 0.09；\n",
    "\n",
    "2）在黑名单拒绝的样本上：\n",
    "\n",
    "和本地规则的重合度为：7.6%\n",
    "\n",
    "--因为该变量有区分度且和本地的规则重合度较低，建议接入，放在三方黑名单节点使用。\n",
    "\n"
   ]
  },
  {
   "cell_type": "markdown",
   "metadata": {},
   "source": [
    "用最新的v5阈值看模型节点是否通过：\n",
    "\n",
    "放款成功样本共计 503 个，其中首次7+ 的有114个，占比22.7%\n",
    "\n",
    "结论：\n",
    "\n",
    "1）在成功放款的样本上：\n",
    "\n",
    "命中黑名单的逾期率是72.7%, 命中率为2.2%，单变量iv= 0.06；\n",
    "\n",
    "2）在黑名单拒绝的样本上：\n",
    "\n",
    "和本地规则的重合度为：7.9%\n",
    "\n",
    "--因为该变量有区分度且和本地的规则重合度较低，建议接入，放在三方黑名单节点使用。\n",
    "\n",
    "\n"
   ]
  },
  {
   "cell_type": "markdown",
   "metadata": {
    "heading_collapsed": true
   },
   "source": [
    "# packages"
   ]
  },
  {
   "cell_type": "code",
   "execution_count": 26,
   "metadata": {
    "hidden": true,
    "scrolled": true
   },
   "outputs": [],
   "source": [
    "import sys\n",
    "import os\n",
    "import datetime\n",
    "import time\n",
    "import pandas as pd\n",
    "import numpy as np\n",
    "import re\n",
    "pd.options.display.latex.repr = True\n",
    "from collections import Counter\n",
    "import matplotlib.pyplot as plt\n",
    "from matplotlib import rcParams\n",
    "# plt.rcParams['font.sans-serif'] = ['STFangsong']\n",
    "plt.rcParams['font.family']=['Microsoft YaHei']\n",
    "plt.rcParams['axes.unicode_minus'] = False\n",
    "import matplotlib.pylab as mpl\n",
    "plt.rc('figure', figsize=(5, 3))\n",
    "sys.path.append('/Users/yantingting/PycharmProjects/modeling/')\n",
    "import database_conncet as data_con\n",
    "import data_processing as dp\n",
    "import data_encryption as de\n",
    "from data_io_utils import *\n",
    "import plot_tools as pt\n",
    "import warnings\n",
    "warnings.filterwarnings('ignore')"
   ]
  },
  {
   "cell_type": "code",
   "execution_count": 2,
   "metadata": {
    "hidden": true
   },
   "outputs": [],
   "source": [
    "file_path = '/Users/yantingting/Seafile/风控/模型/10 印尼/三方数据/06 真融宝/'"
   ]
  },
  {
   "cell_type": "markdown",
   "metadata": {
    "heading_collapsed": true
   },
   "source": [
    "# 数据拼接和标签提取"
   ]
  },
  {
   "cell_type": "code",
   "execution_count": 50,
   "metadata": {
    "hidden": true
   },
   "outputs": [
    {
     "data": {
      "text/html": [
       "<div>\n",
       "<style scoped>\n",
       "    .dataframe tbody tr th:only-of-type {\n",
       "        vertical-align: middle;\n",
       "    }\n",
       "\n",
       "    .dataframe tbody tr th {\n",
       "        vertical-align: top;\n",
       "    }\n",
       "\n",
       "    .dataframe thead th {\n",
       "        text-align: right;\n",
       "    }\n",
       "</style>\n",
       "<table border=\"1\" class=\"dataframe\">\n",
       "  <thead>\n",
       "    <tr style=\"text-align: right;\">\n",
       "      <th></th>\n",
       "      <th>id</th>\n",
       "      <th>apply_time</th>\n",
       "      <th>id_card_name</th>\n",
       "      <th>md5_cell_phone</th>\n",
       "      <th>md5_id_card_no</th>\n",
       "      <th>is_hit</th>\n",
       "      <th>loan_id</th>\n",
       "      <th>test_type</th>\n",
       "    </tr>\n",
       "  </thead>\n",
       "  <tbody>\n",
       "    <tr>\n",
       "      <th>0</th>\n",
       "      <td>1</td>\n",
       "      <td>2019/12/23 11:29</td>\n",
       "      <td>Yudit tiawati</td>\n",
       "      <td>718541a76754da4741d300c2046a7af9</td>\n",
       "      <td>c221bf6a568695091653ad2a9f7c711c</td>\n",
       "      <td>0</td>\n",
       "      <td>415847439416074240</td>\n",
       "      <td>fund</td>\n",
       "    </tr>\n",
       "    <tr>\n",
       "      <th>1</th>\n",
       "      <td>2</td>\n",
       "      <td>2019/12/24 12:04</td>\n",
       "      <td>Fatimah Hanum</td>\n",
       "      <td>4c2203d7348f007da4d592175a71b9d3</td>\n",
       "      <td>ecd6bbfa276862603b27a82a3af57182</td>\n",
       "      <td>0</td>\n",
       "      <td>416218642613960704</td>\n",
       "      <td>fund</td>\n",
       "    </tr>\n",
       "  </tbody>\n",
       "</table>\n",
       "</div>"
      ],
      "text/latex": [
       "\\begin{tabular}{lrllllrrl}\n",
       "\\toprule\n",
       "{} &  id &        apply\\_time &   id\\_card\\_name &                    md5\\_cell\\_phone &                    md5\\_id\\_card\\_no &  is\\_hit &             loan\\_id & test\\_type \\\\\n",
       "\\midrule\n",
       "0 &   1 &  2019/12/23 11:29 &  Yudit tiawati &  718541a76754da4741d300c2046a7af9 &  c221bf6a568695091653ad2a9f7c711c &       0 &  415847439416074240 &      fund \\\\\n",
       "1 &   2 &  2019/12/24 12:04 &  Fatimah Hanum &  4c2203d7348f007da4d592175a71b9d3 &  ecd6bbfa276862603b27a82a3af57182 &       0 &  416218642613960704 &      fund \\\\\n",
       "\\bottomrule\n",
       "\\end{tabular}\n"
      ],
      "text/plain": [
       "   id        apply_time   id_card_name                    md5_cell_phone  \\\n",
       "0   1  2019/12/23 11:29  Yudit tiawati  718541a76754da4741d300c2046a7af9   \n",
       "1   2  2019/12/24 12:04  Fatimah Hanum  4c2203d7348f007da4d592175a71b9d3   \n",
       "\n",
       "                     md5_id_card_no  is_hit             loan_id test_type  \n",
       "0  c221bf6a568695091653ad2a9f7c711c       0  415847439416074240      fund  \n",
       "1  ecd6bbfa276862603b27a82a3af57182       0  416218642613960704      fund  "
      ]
     },
     "execution_count": 50,
     "metadata": {},
     "output_type": "execute_result"
    }
   ],
   "source": [
    "result= pd.read_csv(os.path.join(file_path, '真融宝测试结果.csv'))\n",
    "df1 = pd.read_excel(os.path.join(file_path, '真融宝样本.xlsx'),usecols=['id', 'loan_id'])\n",
    "result = result.merge(df1, on = 'id', how = 'left')\n",
    "rule = pd.read_csv(os.path.join(file_path,'规则拒绝.csv'))\n",
    "fangkuan = pd.read_csv(os.path.join(file_path,'放款.csv'))\n",
    "df2 = rule.append(fangkuan)\n",
    "df2['test_type'] = df2['loan_status'].apply(lambda x: 'rule_reject' if x == 'DENIED' else 'fund')\n",
    "df = result.merge(df2[['loan_id', 'test_type']], on = 'loan_id', how = 'left')\n",
    "save_data_to_pickle(df,file_path,'真融宝测试结果.pkl')\n",
    "df.head(2)\n"
   ]
  },
  {
   "cell_type": "code",
   "execution_count": 51,
   "metadata": {
    "hidden": true
   },
   "outputs": [],
   "source": [
    "query1 = '''\n",
    "select\n",
    "    loan_id,\n",
    "\teffective_date,\n",
    "\treturn_flag,\n",
    "\tcase when late_date-effective_date = approved_period then 1 else 0 end as dpd1,\n",
    "\tcase when DPD >= 3 then  1 else 0 end as dpd3,\n",
    "\tcase when DPD >= 7 then 1 else 0 end as dpd7\n",
    "from\n",
    "\t(\n",
    "\tselect\n",
    "\t\tt1.id loan_id,\n",
    "\t\teffective_date,\n",
    "\t\treturn_flag,\n",
    "\t\tloan_status,\n",
    "\t\tapproved_period,\n",
    "\t\tlate_date,\n",
    "\t\tapproved_principal,\n",
    "\t\tcase\n",
    "\t\t\twhen loan_status = 'COLLECTION' then current_date-late_date\n",
    "\t\t\telse round(late_fee /(approved_principal*0.025))::int end as DPD\n",
    "\t\tfrom\n",
    "\t\t\t(\n",
    "\t\t\tselect\n",
    "\t\t\t\t*\n",
    "\t\t\tfrom\n",
    "\t\t\t\tdw_gocash_go_cash_loan_gocash_core_loan\n",
    "\t\t\twhere\n",
    "\t\t\t\treturn_flag = 'false'\n",
    "\t            and effective_date >= '2019-10-01'\n",
    "\t            and apply_time::date between '2019-12-20' and '2019-12-25') t1\n",
    "\t\tleft join (\n",
    "\t\t\tselect\n",
    "\t\t\t\t*\n",
    "\t\t\tfrom\n",
    "\t\t\t\t(\n",
    "\t\t\t\tselect\n",
    "\t\t\t\t\torder_id,\n",
    "\t\t\t\t\tlate_date,\n",
    "\t\t\t\t\trow_number() over(partition by order_id\n",
    "\t\t\t\torder by\n",
    "\t\t\t\t\tlate_date asc) as num\n",
    "\t\t\t\tfrom\n",
    "\t\t\t\t\tdw_gocash_gocash_collection_col_case\n",
    "\t\t\t\twhere\n",
    "\t\t\t\t\t(order_status = 'COLLECTION_PAIDOFF'\n",
    "\t\t\t\t\tor order_status = 'COLLECTION')\n",
    "\t\t\t\t\tand app_id not in ('Credits',\n",
    "\t\t\t\t\t'KASANDAAI'))t\n",
    "\t\t\twhere\n",
    "\t\t\t\tnum = 1) t2 on\n",
    "\t\t\tt1.id = t2.order_id\n",
    "\t\t\tleft join (\n",
    "\t\t\t\tselect\n",
    "\t\t\t\t\tid,\n",
    "\t\t\t\t\tmedia_source\n",
    "\t\t\t\tfrom\n",
    "\t\t\t\t\tpublic.dw_gocash_go_cash_loan_gocash_core_customer\n",
    "\t\t\t\t) t3 on\n",
    "\t\t\tt1.customer_id = t3.id)t\n",
    "\n",
    "'''"
   ]
  },
  {
   "cell_type": "code",
   "execution_count": 52,
   "metadata": {
    "hidden": true
   },
   "outputs": [
    {
     "name": "stdout",
     "output_type": "stream",
     "text": [
      "Successful connection\n"
     ]
    }
   ],
   "source": [
    "df_flag = data_con.database_gn(query1)\n",
    "df_all = df.merge(df_flag, on = 'loan_id',how='left')\n",
    "save_data_to_pickle(df_all, file_path, 'df_flag.pkl')"
   ]
  },
  {
   "cell_type": "markdown",
   "metadata": {},
   "source": [
    "# 分析"
   ]
  },
  {
   "cell_type": "code",
   "execution_count": 31,
   "metadata": {},
   "outputs": [],
   "source": [
    "df_all = load_data_from_pickle(file_path,'df_flag.pkl')\n",
    "df_rule = df_all[df_all['test_type'] =='rule_reject']\n",
    "df_fund = df_all[df_all['test_type'] =='fund']"
   ]
  },
  {
   "cell_type": "raw",
   "metadata": {},
   "source": [
    "规则拒绝"
   ]
  },
  {
   "cell_type": "code",
   "execution_count": 32,
   "metadata": {},
   "outputs": [
    {
     "data": {
      "text/html": [
       "<div>\n",
       "<style scoped>\n",
       "    .dataframe tbody tr th:only-of-type {\n",
       "        vertical-align: middle;\n",
       "    }\n",
       "\n",
       "    .dataframe tbody tr th {\n",
       "        vertical-align: top;\n",
       "    }\n",
       "\n",
       "    .dataframe thead th {\n",
       "        text-align: right;\n",
       "    }\n",
       "</style>\n",
       "<table border=\"1\" class=\"dataframe\">\n",
       "  <thead>\n",
       "    <tr style=\"text-align: right;\">\n",
       "      <th></th>\n",
       "      <th>loan_id</th>\n",
       "      <th>rate</th>\n",
       "    </tr>\n",
       "    <tr>\n",
       "      <th>is_hit</th>\n",
       "      <th></th>\n",
       "      <th></th>\n",
       "    </tr>\n",
       "  </thead>\n",
       "  <tbody>\n",
       "    <tr>\n",
       "      <th>0</th>\n",
       "      <td>462</td>\n",
       "      <td>0.924</td>\n",
       "    </tr>\n",
       "    <tr>\n",
       "      <th>1</th>\n",
       "      <td>38</td>\n",
       "      <td>0.076</td>\n",
       "    </tr>\n",
       "  </tbody>\n",
       "</table>\n",
       "</div>"
      ],
      "text/latex": [
       "\\begin{tabular}{lrr}\n",
       "\\toprule\n",
       "{} &  loan\\_id &   rate \\\\\n",
       "is\\_hit &          &        \\\\\n",
       "\\midrule\n",
       "0      &      462 &  0.924 \\\\\n",
       "1      &       38 &  0.076 \\\\\n",
       "\\bottomrule\n",
       "\\end{tabular}\n"
      ],
      "text/plain": [
       "        loan_id   rate\n",
       "is_hit                \n",
       "0           462  0.924\n",
       "1            38  0.076"
      ]
     },
     "execution_count": 32,
     "metadata": {},
     "output_type": "execute_result"
    }
   ],
   "source": [
    "frame1 = pd.pivot_table(df_rule, index = 'is_hit',values= 'loan_id', aggfunc='count')\n",
    "frame1['rate'] = frame1['loan_id']/frame1['loan_id'].sum()\n",
    "frame1"
   ]
  },
  {
   "cell_type": "raw",
   "metadata": {},
   "source": [
    "放款"
   ]
  },
  {
   "cell_type": "code",
   "execution_count": 33,
   "metadata": {},
   "outputs": [
    {
     "data": {
      "text/html": [
       "<div>\n",
       "<style scoped>\n",
       "    .dataframe tbody tr th:only-of-type {\n",
       "        vertical-align: middle;\n",
       "    }\n",
       "\n",
       "    .dataframe tbody tr th {\n",
       "        vertical-align: top;\n",
       "    }\n",
       "\n",
       "    .dataframe thead th {\n",
       "        text-align: right;\n",
       "    }\n",
       "</style>\n",
       "<table border=\"1\" class=\"dataframe\">\n",
       "  <thead>\n",
       "    <tr style=\"text-align: right;\">\n",
       "      <th></th>\n",
       "      <th>group</th>\n",
       "      <th>total</th>\n",
       "      <th>bad</th>\n",
       "      <th>good</th>\n",
       "      <th>per%</th>\n",
       "      <th>overdue</th>\n",
       "      <th>cum_bad</th>\n",
       "      <th>cum_good</th>\n",
       "      <th>KS</th>\n",
       "      <th>cum_overdue</th>\n",
       "      <th>WOE</th>\n",
       "      <th>IV</th>\n",
       "    </tr>\n",
       "  </thead>\n",
       "  <tbody>\n",
       "    <tr>\n",
       "      <th>0</th>\n",
       "      <td>is_hit</td>\n",
       "      <td>total</td>\n",
       "      <td>bad</td>\n",
       "      <td>good</td>\n",
       "      <td>per%</td>\n",
       "      <td>overdue</td>\n",
       "      <td>cum_bad</td>\n",
       "      <td>cum_good</td>\n",
       "      <td>KS</td>\n",
       "      <td>cum_overdue</td>\n",
       "      <td>WOE</td>\n",
       "      <td>IV</td>\n",
       "    </tr>\n",
       "    <tr>\n",
       "      <th>1</th>\n",
       "      <td>0</td>\n",
       "      <td>1427</td>\n",
       "      <td>441</td>\n",
       "      <td>986</td>\n",
       "      <td>0.951333</td>\n",
       "      <td>0.30904</td>\n",
       "      <td>0.892713</td>\n",
       "      <td>0.980119</td>\n",
       "      <td>0.0874067</td>\n",
       "      <td>0.30904</td>\n",
       "      <td>-0.0934096</td>\n",
       "      <td>0.00816463</td>\n",
       "    </tr>\n",
       "    <tr>\n",
       "      <th>2</th>\n",
       "      <td>1</td>\n",
       "      <td>73</td>\n",
       "      <td>53</td>\n",
       "      <td>20</td>\n",
       "      <td>0.0486667</td>\n",
       "      <td>0.726027</td>\n",
       "      <td>1</td>\n",
       "      <td>1</td>\n",
       "      <td>0</td>\n",
       "      <td>0.329333</td>\n",
       "      <td>1.68576</td>\n",
       "      <td>0.147347</td>\n",
       "    </tr>\n",
       "  </tbody>\n",
       "</table>\n",
       "</div>"
      ],
      "text/latex": [
       "\\begin{tabular}{lllllllllllll}\n",
       "\\toprule\n",
       "{} &   group &  total &  bad &  good &       per\\% &   overdue &   cum\\_bad &  cum\\_good &         KS &  cum\\_overdue &        WOE &          IV \\\\\n",
       "\\midrule\n",
       "0 &  is\\_hit &  total &  bad &  good &       per\\% &   overdue &   cum\\_bad &  cum\\_good &         KS &  cum\\_overdue &        WOE &          IV \\\\\n",
       "1 &       0 &   1427 &  441 &   986 &   0.951333 &   0.30904 &  0.892713 &  0.980119 &  0.0874067 &      0.30904 & -0.0934096 &  0.00816463 \\\\\n",
       "2 &       1 &     73 &   53 &    20 &  0.0486667 &  0.726027 &         1 &         1 &          0 &     0.329333 &    1.68576 &    0.147347 \\\\\n",
       "\\bottomrule\n",
       "\\end{tabular}\n"
      ],
      "text/plain": [
       "    group  total  bad  good       per%   overdue   cum_bad  cum_good  \\\n",
       "0  is_hit  total  bad  good       per%   overdue   cum_bad  cum_good   \n",
       "1       0   1427  441   986   0.951333   0.30904  0.892713  0.980119   \n",
       "2       1     73   53    20  0.0486667  0.726027         1         1   \n",
       "\n",
       "          KS  cum_overdue        WOE          IV  \n",
       "0         KS  cum_overdue        WOE          IV  \n",
       "1  0.0874067      0.30904 -0.0934096  0.00816463  \n",
       "2          0     0.329333    1.68576    0.147347  "
      ]
     },
     "execution_count": 33,
     "metadata": {},
     "output_type": "execute_result"
    },
    {
     "name": "stdout",
     "output_type": "stream",
     "text": [
      "black1_iv: 0.08740673368694707\n"
     ]
    },
    {
     "data": {
      "image/png": "[encoded data removed]",
      "text/plain": [
       "<Figure size 360x216 with 1 Axes>"
      ]
     },
     "metadata": {},
     "output_type": "display_data"
    }
   ],
   "source": [
    "black1 = dp.ContinuousBin(data_set = df_fund, col='is_hit', target = 'dpd7', n = 10, special_attribute=[-1,np.nan], method='equal freq')[0]\n",
    "black1\n",
    "black1_iv = dp.ContinuousBin(data_set = df_fund, col='is_hit', target = 'dpd7', n = 10, special_attribute=[-1,np.nan], method='equal freq')[1]\n",
    "print('black1_iv: %s'%black1_iv)\n",
    "pt.univariate_chart(df = df_fund, col = 'is_hit', target = 'dpd7', n = 10,\n",
    "                     special_attribute = [-1,np.nan],\n",
    "                     dftrain=df_fund, dftest=df_fund,\n",
    "                     draw_all=True, draw_train_test=False, result_path=None)"
   ]
  },
  {
   "cell_type": "raw",
   "metadata": {},
   "source": [
    "v5模型模拟"
   ]
  },
  {
   "cell_type": "code",
   "execution_count": 34,
   "metadata": {},
   "outputs": [
    {
     "data": {
      "text/html": [
       "<div>\n",
       "<style scoped>\n",
       "    .dataframe tbody tr th:only-of-type {\n",
       "        vertical-align: middle;\n",
       "    }\n",
       "\n",
       "    .dataframe tbody tr th {\n",
       "        vertical-align: top;\n",
       "    }\n",
       "\n",
       "    .dataframe thead th {\n",
       "        text-align: right;\n",
       "    }\n",
       "</style>\n",
       "<table border=\"1\" class=\"dataframe\">\n",
       "  <thead>\n",
       "    <tr style=\"text-align: right;\">\n",
       "      <th></th>\n",
       "      <th>id</th>\n",
       "      <th>apply_time</th>\n",
       "      <th>id_card_name</th>\n",
       "      <th>md5_cell_phone</th>\n",
       "      <th>md5_id_card_no</th>\n",
       "      <th>is_hit</th>\n",
       "      <th>loan_id</th>\n",
       "      <th>test_type</th>\n",
       "      <th>effective_date</th>\n",
       "      <th>return_flag</th>\n",
       "      <th>dpd1</th>\n",
       "      <th>dpd3</th>\n",
       "      <th>dpd7</th>\n",
       "    </tr>\n",
       "  </thead>\n",
       "  <tbody>\n",
       "    <tr>\n",
       "      <th>0</th>\n",
       "      <td>1</td>\n",
       "      <td>2019/12/23 11:29</td>\n",
       "      <td>Yudit tiawati</td>\n",
       "      <td>718541a76754da4741d300c2046a7af9</td>\n",
       "      <td>c221bf6a568695091653ad2a9f7c711c</td>\n",
       "      <td>0</td>\n",
       "      <td>415847439416074240</td>\n",
       "      <td>fund</td>\n",
       "      <td>2019-12-23</td>\n",
       "      <td>false</td>\n",
       "      <td>1.0</td>\n",
       "      <td>1.0</td>\n",
       "      <td>1.0</td>\n",
       "    </tr>\n",
       "    <tr>\n",
       "      <th>1</th>\n",
       "      <td>2</td>\n",
       "      <td>2019/12/24 12:04</td>\n",
       "      <td>Fatimah Hanum</td>\n",
       "      <td>4c2203d7348f007da4d592175a71b9d3</td>\n",
       "      <td>ecd6bbfa276862603b27a82a3af57182</td>\n",
       "      <td>0</td>\n",
       "      <td>416218642613960704</td>\n",
       "      <td>fund</td>\n",
       "      <td>2019-12-24</td>\n",
       "      <td>false</td>\n",
       "      <td>0.0</td>\n",
       "      <td>0.0</td>\n",
       "      <td>0.0</td>\n",
       "    </tr>\n",
       "    <tr>\n",
       "      <th>2</th>\n",
       "      <td>3</td>\n",
       "      <td>2019/12/22 14:28</td>\n",
       "      <td>istikhomah</td>\n",
       "      <td>97022f87bbaff80f90a37b65e4671639</td>\n",
       "      <td>8fb7f16d653cc7775b4980e3c6f2d6db</td>\n",
       "      <td>0</td>\n",
       "      <td>415530054637420544</td>\n",
       "      <td>fund</td>\n",
       "      <td>2019-12-22</td>\n",
       "      <td>false</td>\n",
       "      <td>0.0</td>\n",
       "      <td>0.0</td>\n",
       "      <td>0.0</td>\n",
       "    </tr>\n",
       "    <tr>\n",
       "      <th>3</th>\n",
       "      <td>4</td>\n",
       "      <td>2019/12/25 19:09</td>\n",
       "      <td>Yeni warti</td>\n",
       "      <td>83c69a8586574d18b516d5890c1292e5</td>\n",
       "      <td>c9c6e566fdc6a4ef68b42aecfe27374f</td>\n",
       "      <td>0</td>\n",
       "      <td>416687983033942016</td>\n",
       "      <td>fund</td>\n",
       "      <td>2019-12-26</td>\n",
       "      <td>false</td>\n",
       "      <td>1.0</td>\n",
       "      <td>1.0</td>\n",
       "      <td>1.0</td>\n",
       "    </tr>\n",
       "    <tr>\n",
       "      <th>4</th>\n",
       "      <td>5</td>\n",
       "      <td>2019/12/23 18:09</td>\n",
       "      <td>susi ida sanjaja</td>\n",
       "      <td>9fa29a2efa9051d1ffc9f9a513923280</td>\n",
       "      <td>3e03fc746abad279fa0d881ffd681cac</td>\n",
       "      <td>0</td>\n",
       "      <td>415948152465096704</td>\n",
       "      <td>fund</td>\n",
       "      <td>2019-12-24</td>\n",
       "      <td>false</td>\n",
       "      <td>0.0</td>\n",
       "      <td>0.0</td>\n",
       "      <td>0.0</td>\n",
       "    </tr>\n",
       "  </tbody>\n",
       "</table>\n",
       "</div>"
      ],
      "text/latex": [
       "\\begin{tabular}{lrllllrrlllrrr}\n",
       "\\toprule\n",
       "{} &  id &        apply\\_time &      id\\_card\\_name &                    md5\\_cell\\_phone &                    md5\\_id\\_card\\_no &  is\\_hit &             loan\\_id & test\\_type & effective\\_date & return\\_flag &  dpd1 &  dpd3 &  dpd7 \\\\\n",
       "\\midrule\n",
       "0 &   1 &  2019/12/23 11:29 &     Yudit tiawati &  718541a76754da4741d300c2046a7af9 &  c221bf6a568695091653ad2a9f7c711c &       0 &  415847439416074240 &      fund &     2019-12-23 &       false &   1.0 &   1.0 &   1.0 \\\\\n",
       "1 &   2 &  2019/12/24 12:04 &     Fatimah Hanum &  4c2203d7348f007da4d592175a71b9d3 &  ecd6bbfa276862603b27a82a3af57182 &       0 &  416218642613960704 &      fund &     2019-12-24 &       false &   0.0 &   0.0 &   0.0 \\\\\n",
       "2 &   3 &  2019/12/22 14:28 &        istikhomah &  97022f87bbaff80f90a37b65e4671639 &  8fb7f16d653cc7775b4980e3c6f2d6db &       0 &  415530054637420544 &      fund &     2019-12-22 &       false &   0.0 &   0.0 &   0.0 \\\\\n",
       "3 &   4 &  2019/12/25 19:09 &        Yeni warti &  83c69a8586574d18b516d5890c1292e5 &  c9c6e566fdc6a4ef68b42aecfe27374f &       0 &  416687983033942016 &      fund &     2019-12-26 &       false &   1.0 &   1.0 &   1.0 \\\\\n",
       "4 &   5 &  2019/12/23 18:09 &  susi ida sanjaja &  9fa29a2efa9051d1ffc9f9a513923280 &  3e03fc746abad279fa0d881ffd681cac &       0 &  415948152465096704 &      fund &     2019-12-24 &       false &   0.0 &   0.0 &   0.0 \\\\\n",
       "\\bottomrule\n",
       "\\end{tabular}\n"
      ],
      "text/plain": [
       "   id        apply_time      id_card_name                    md5_cell_phone  \\\n",
       "0   1  2019/12/23 11:29     Yudit tiawati  718541a76754da4741d300c2046a7af9   \n",
       "1   2  2019/12/24 12:04     Fatimah Hanum  4c2203d7348f007da4d592175a71b9d3   \n",
       "2   3  2019/12/22 14:28        istikhomah  97022f87bbaff80f90a37b65e4671639   \n",
       "3   4  2019/12/25 19:09        Yeni warti  83c69a8586574d18b516d5890c1292e5   \n",
       "4   5  2019/12/23 18:09  susi ida sanjaja  9fa29a2efa9051d1ffc9f9a513923280   \n",
       "\n",
       "                     md5_id_card_no  is_hit             loan_id test_type  \\\n",
       "0  c221bf6a568695091653ad2a9f7c711c       0  415847439416074240      fund   \n",
       "1  ecd6bbfa276862603b27a82a3af57182       0  416218642613960704      fund   \n",
       "2  8fb7f16d653cc7775b4980e3c6f2d6db       0  415530054637420544      fund   \n",
       "3  c9c6e566fdc6a4ef68b42aecfe27374f       0  416687983033942016      fund   \n",
       "4  3e03fc746abad279fa0d881ffd681cac       0  415948152465096704      fund   \n",
       "\n",
       "  effective_date return_flag  dpd1  dpd3  dpd7  \n",
       "0     2019-12-23       false   1.0   1.0   1.0  \n",
       "1     2019-12-24       false   0.0   0.0   0.0  \n",
       "2     2019-12-22       false   0.0   0.0   0.0  \n",
       "3     2019-12-26       false   1.0   1.0   1.0  \n",
       "4     2019-12-24       false   0.0   0.0   0.0  "
      ]
     },
     "execution_count": 34,
     "metadata": {},
     "output_type": "execute_result"
    }
   ],
   "source": [
    "df_fund.head()"
   ]
  },
  {
   "cell_type": "code",
   "execution_count": 35,
   "metadata": {},
   "outputs": [
    {
     "data": {
      "text/plain": [
       "(918, 17)"
      ]
     },
     "execution_count": 35,
     "metadata": {},
     "output_type": "execute_result"
    }
   ],
   "source": [
    "v5_score= pd.read_excel(os.path.join(file_path, 'score_loan_1107_1223.xlsx'), sheet_name = 'data_scored')\n",
    "remain_cols = ['loan_id','newusermodelv4score','newusermodelv4result','score']\n",
    "df_v4_v5 = pd.merge(df_fund,v5_score[remain_cols],on='loan_id',how='inner')\n",
    "df_v4_v5['v5_flag'] = df_v4_v5['score'].apply(lambda x: 'pass' if x>618 else 'reject')\n",
    "df_v4_v5.shape"
   ]
  },
  {
   "cell_type": "code",
   "execution_count": 36,
   "metadata": {},
   "outputs": [],
   "source": [
    "df_fund1 = df_v4_v5[df_v4_v5['v5_flag'] =='pass']\n",
    "df_rule1 = df_v4_v5[df_v4_v5['v5_flag'] =='reject']\n",
    "df_rule1.drop(['newusermodelv4score','newusermodelv4result','score','v5_flag'],axis=1,inplace=True)"
   ]
  },
  {
   "cell_type": "code",
   "execution_count": 37,
   "metadata": {},
   "outputs": [
    {
     "data": {
      "text/html": [
       "<div>\n",
       "<style scoped>\n",
       "    .dataframe tbody tr th:only-of-type {\n",
       "        vertical-align: middle;\n",
       "    }\n",
       "\n",
       "    .dataframe tbody tr th {\n",
       "        vertical-align: top;\n",
       "    }\n",
       "\n",
       "    .dataframe thead th {\n",
       "        text-align: right;\n",
       "    }\n",
       "</style>\n",
       "<table border=\"1\" class=\"dataframe\">\n",
       "  <thead>\n",
       "    <tr style=\"text-align: right;\">\n",
       "      <th></th>\n",
       "      <th>group</th>\n",
       "      <th>total</th>\n",
       "      <th>bad</th>\n",
       "      <th>good</th>\n",
       "      <th>per%</th>\n",
       "      <th>overdue</th>\n",
       "      <th>cum_bad</th>\n",
       "      <th>cum_good</th>\n",
       "      <th>KS</th>\n",
       "      <th>cum_overdue</th>\n",
       "      <th>WOE</th>\n",
       "      <th>IV</th>\n",
       "    </tr>\n",
       "  </thead>\n",
       "  <tbody>\n",
       "    <tr>\n",
       "      <th>0</th>\n",
       "      <td>is_hit</td>\n",
       "      <td>total</td>\n",
       "      <td>bad</td>\n",
       "      <td>good</td>\n",
       "      <td>per%</td>\n",
       "      <td>overdue</td>\n",
       "      <td>cum_bad</td>\n",
       "      <td>cum_good</td>\n",
       "      <td>KS</td>\n",
       "      <td>cum_overdue</td>\n",
       "      <td>WOE</td>\n",
       "      <td>IV</td>\n",
       "    </tr>\n",
       "    <tr>\n",
       "      <th>1</th>\n",
       "      <td>0</td>\n",
       "      <td>492</td>\n",
       "      <td>106</td>\n",
       "      <td>386</td>\n",
       "      <td>0.978131</td>\n",
       "      <td>0.215447</td>\n",
       "      <td>0.929825</td>\n",
       "      <td>0.992288</td>\n",
       "      <td>0.0624634</td>\n",
       "      <td>0.215447</td>\n",
       "      <td>-0.0650174</td>\n",
       "      <td>0.0040612</td>\n",
       "    </tr>\n",
       "    <tr>\n",
       "      <th>2</th>\n",
       "      <td>1</td>\n",
       "      <td>11</td>\n",
       "      <td>8</td>\n",
       "      <td>3</td>\n",
       "      <td>0.0218688</td>\n",
       "      <td>0.727273</td>\n",
       "      <td>1</td>\n",
       "      <td>1</td>\n",
       "      <td>0</td>\n",
       "      <td>0.22664</td>\n",
       "      <td>2.20821</td>\n",
       "      <td>0.137932</td>\n",
       "    </tr>\n",
       "  </tbody>\n",
       "</table>\n",
       "</div>"
      ],
      "text/latex": [
       "\\begin{tabular}{lllllllllllll}\n",
       "\\toprule\n",
       "{} &   group &  total &  bad &  good &       per\\% &   overdue &   cum\\_bad &  cum\\_good &         KS &  cum\\_overdue &        WOE &         IV \\\\\n",
       "\\midrule\n",
       "0 &  is\\_hit &  total &  bad &  good &       per\\% &   overdue &   cum\\_bad &  cum\\_good &         KS &  cum\\_overdue &        WOE &         IV \\\\\n",
       "1 &       0 &    492 &  106 &   386 &   0.978131 &  0.215447 &  0.929825 &  0.992288 &  0.0624634 &     0.215447 & -0.0650174 &  0.0040612 \\\\\n",
       "2 &       1 &     11 &    8 &     3 &  0.0218688 &  0.727273 &         1 &         1 &          0 &      0.22664 &    2.20821 &   0.137932 \\\\\n",
       "\\bottomrule\n",
       "\\end{tabular}\n"
      ],
      "text/plain": [
       "    group  total  bad  good       per%   overdue   cum_bad  cum_good  \\\n",
       "0  is_hit  total  bad  good       per%   overdue   cum_bad  cum_good   \n",
       "1       0    492  106   386   0.978131  0.215447  0.929825  0.992288   \n",
       "2       1     11    8     3  0.0218688  0.727273         1         1   \n",
       "\n",
       "          KS  cum_overdue        WOE         IV  \n",
       "0         KS  cum_overdue        WOE         IV  \n",
       "1  0.0624634     0.215447 -0.0650174  0.0040612  \n",
       "2          0      0.22664    2.20821   0.137932  "
      ]
     },
     "execution_count": 37,
     "metadata": {},
     "output_type": "execute_result"
    },
    {
     "name": "stdout",
     "output_type": "stream",
     "text": [
      "black2_iv: 0.06246335633428046\n"
     ]
    },
    {
     "data": {
      "image/png": "[encoded data removed]",
      "text/plain": [
       "<Figure size 360x216 with 1 Axes>"
      ]
     },
     "metadata": {},
     "output_type": "display_data"
    }
   ],
   "source": [
    "black2 = dp.ContinuousBin(data_set = df_fund1, col='is_hit', target = 'dpd7', n = 10, special_attribute=[-1,np.nan], method='equal freq')[0]\n",
    "black2\n",
    "black2_iv = dp.ContinuousBin(data_set = df_fund1, col='is_hit', target = 'dpd7', n = 10, special_attribute=[-1,np.nan], method='equal freq')[1]\n",
    "print('black2_iv: %s'%black2_iv)\n",
    "pt.univariate_chart(df = df_fund1, col = 'is_hit', target = 'dpd7', n = 10,\n",
    "                     special_attribute = [-1,np.nan],\n",
    "                     dftrain=df_fund1, dftest=df_fund1,\n",
    "                     draw_all=True, draw_train_test=False, result_path=None)"
   ]
  },
  {
   "cell_type": "code",
   "execution_count": 38,
   "metadata": {},
   "outputs": [
    {
     "data": {
      "text/html": [
       "<div>\n",
       "<style scoped>\n",
       "    .dataframe tbody tr th:only-of-type {\n",
       "        vertical-align: middle;\n",
       "    }\n",
       "\n",
       "    .dataframe tbody tr th {\n",
       "        vertical-align: top;\n",
       "    }\n",
       "\n",
       "    .dataframe thead th {\n",
       "        text-align: right;\n",
       "    }\n",
       "</style>\n",
       "<table border=\"1\" class=\"dataframe\">\n",
       "  <thead>\n",
       "    <tr style=\"text-align: right;\">\n",
       "      <th></th>\n",
       "      <th>loan_id</th>\n",
       "      <th>rate</th>\n",
       "    </tr>\n",
       "    <tr>\n",
       "      <th>is_hit</th>\n",
       "      <th></th>\n",
       "      <th></th>\n",
       "    </tr>\n",
       "  </thead>\n",
       "  <tbody>\n",
       "    <tr>\n",
       "      <th>0</th>\n",
       "      <td>843</td>\n",
       "      <td>0.921311</td>\n",
       "    </tr>\n",
       "    <tr>\n",
       "      <th>1</th>\n",
       "      <td>72</td>\n",
       "      <td>0.078689</td>\n",
       "    </tr>\n",
       "  </tbody>\n",
       "</table>\n",
       "</div>"
      ],
      "text/latex": [
       "\\begin{tabular}{lrr}\n",
       "\\toprule\n",
       "{} &  loan\\_id &      rate \\\\\n",
       "is\\_hit &          &           \\\\\n",
       "\\midrule\n",
       "0      &      843 &  0.921311 \\\\\n",
       "1      &       72 &  0.078689 \\\\\n",
       "\\bottomrule\n",
       "\\end{tabular}\n"
      ],
      "text/plain": [
       "        loan_id      rate\n",
       "is_hit                   \n",
       "0           843  0.921311\n",
       "1            72  0.078689"
      ]
     },
     "execution_count": 38,
     "metadata": {},
     "output_type": "execute_result"
    }
   ],
   "source": [
    "df_rule2 = df_rule.append(df_rule1)\n",
    "frame2 = pd.pivot_table(df_rule2, index = 'is_hit',values= 'loan_id', aggfunc='count')\n",
    "frame2['rate'] = frame2['loan_id']/frame2['loan_id'].sum()\n",
    "frame2"
   ]
  },
  {
   "cell_type": "code",
   "execution_count": null,
   "metadata": {},
   "outputs": [],
   "source": []
  }
 ],
 "metadata": {
  "kernelspec": {
   "display_name": "Python 3",
   "language": "python",
   "name": "python3"
  },
  "language_info": {
   "codemirror_mode": {
    "name": "ipython",
    "version": 3
   },
   "file_extension": ".py",
   "mimetype": "text/x-python",
   "name": "python",
   "nbconvert_exporter": "python",
   "pygments_lexer": "ipython3",
   "version": "3.7.6"
  },
  "latex_envs": {
   "LaTeX_envs_menu_present": true,
   "autoclose": false,
   "autocomplete": true,
   "bibliofile": "biblio.bib",
   "cite_by": "apalike",
   "current_citInitial": 1,
   "eqLabelWithNumbers": true,
   "eqNumInitial": 1,
   "hotkeys": {
    "equation": "Ctrl-E",
    "itemize": "Ctrl-I"
   },
   "labels_anchors": false,
   "latex_user_defs": false,
   "report_style_numbering": false,
   "user_envs_cfg": false
  },
  "toc": {
   "base_numbering": 1,
   "nav_menu": {},
   "number_sections": true,
   "sideBar": true,
   "skip_h1_title": false,
   "title_cell": "Table of Contents",
   "title_sidebar": "Contents",
   "toc_cell": false,
   "toc_position": {
    "height": "calc(100% - 180px)",
    "left": "10px",
    "top": "150px",
    "width": "286px"
   },
   "toc_section_display": true,
   "toc_window_display": true
  },
  "varInspector": {
   "cols": {
    "lenName": 16,
    "lenType": 16,
    "lenVar": 40
   },
   "kernels_config": {
    "python": {
     "delete_cmd_postfix": "",
     "delete_cmd_prefix": "del ",
     "library": "var_list.py",
     "varRefreshCmd": "print(var_dic_list())"
    },
    "r": {
     "delete_cmd_postfix": ") ",
     "delete_cmd_prefix": "rm(",
     "library": "var_list.r",
     "varRefreshCmd": "cat(var_dic_list()) "
    }
   },
   "types_to_exclude": [
    "module",
    "function",
    "builtin_function_or_method",
    "instance",
    "_Feature"
   ],
   "window_display": false
  }
 },
 "nbformat": 4,
 "nbformat_minor": 2
}
