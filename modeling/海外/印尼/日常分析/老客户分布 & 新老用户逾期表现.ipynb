{
 "cells": [
  {
   "cell_type": "code",
   "execution_count": 1,
   "metadata": {},
   "outputs": [],
   "source": [
    "import os\n",
    "import sys\n",
    "import time\n",
    "import datetime\n",
    "import pandas as pd \n",
    "pd.set_option('display.max_columns', None)\n",
    "pd.set_option('display.max_rows', None)\n",
    "import numpy as np\n",
    "import re\n",
    "import seaborn as sns\n",
    "import matplotlib.pyplot as plt\n",
    "from collections import Counter\n",
    "sys.path.append('/Users/yantingting/PycharmProjects/modeling/')\n",
    "import database_conncet as data_con\n",
    "import data_processing as dp\n",
    "import summary_statistics as ss\n",
    "from data_io_utils import *"
   ]
  },
  {
   "cell_type": "code",
   "execution_count": 2,
   "metadata": {},
   "outputs": [],
   "source": [
    "date = datetime.date.today().strftime('%m-%d')\n",
    "file_path= os.path.join('/Users/yantingting/Seafile/风控/模型/10 印尼/低费率测试/ytt/', date)\n",
    "if not os.path.exists(file_path):\n",
    "    os.mkdir(file_path)"
   ]
  },
  {
   "cell_type": "markdown",
   "metadata": {
    "heading_collapsed": true
   },
   "source": [
    "# 老客户分布"
   ]
  },
  {
   "cell_type": "code",
   "execution_count": 3,
   "metadata": {
    "hidden": true
   },
   "outputs": [],
   "source": [
    "query= '''\n",
    "SELECT date(apply_time) as apply_date\n",
    "\t\t\t, grouping\n",
    "\t\t\t, approved_period\n",
    "\t\t\t,count(id) as apply_cnt\n",
    "\t\t\t,count(case when loan_status not in  ('DENIED','RESCIND') then id end) as dd_cnt\n",
    "\t  FROM dw_gocash_go_cash_loan_gocash_core_loan\n",
    "\t  WHERE apply_time :: timestamp >= '2020-01-17 12:00:00' and return_flag = 'true' \n",
    "\t  \t\tand customer_type = 'ONE_KEY_LOAN' and grouping in ('OneControlGroup','OneTest1','OneTest2')\n",
    "\t  GROUP BY 1,2,3\t\n",
    "'''"
   ]
  },
  {
   "cell_type": "code",
   "execution_count": 4,
   "metadata": {
    "hidden": true,
    "scrolled": true
   },
   "outputs": [
    {
     "name": "stdout",
     "output_type": "stream",
     "text": [
      "Successful connection\n"
     ]
    },
    {
     "data": {
      "text/plain": [
       "(108, 5)"
      ]
     },
     "execution_count": 4,
     "metadata": {},
     "output_type": "execute_result"
    }
   ],
   "source": [
    "df = data_con.database_gn(query)\n",
    "save_data_to_pickle(df, file_path, '老客户转化.pkl')\n",
    "df.shape"
   ]
  },
  {
   "cell_type": "code",
   "execution_count": 5,
   "metadata": {
    "hidden": true
   },
   "outputs": [
    {
     "data": {
      "text/html": [
       "<div>\n",
       "<style scoped>\n",
       "    .dataframe tbody tr th:only-of-type {\n",
       "        vertical-align: middle;\n",
       "    }\n",
       "\n",
       "    .dataframe tbody tr th {\n",
       "        vertical-align: top;\n",
       "    }\n",
       "\n",
       "    .dataframe thead th {\n",
       "        text-align: right;\n",
       "    }\n",
       "</style>\n",
       "<table border=\"1\" class=\"dataframe\">\n",
       "  <thead>\n",
       "    <tr style=\"text-align: right;\">\n",
       "      <th></th>\n",
       "      <th>apply_date</th>\n",
       "      <th>grouping</th>\n",
       "      <th>approved_period</th>\n",
       "      <th>apply_cnt</th>\n",
       "      <th>dd_cnt</th>\n",
       "    </tr>\n",
       "  </thead>\n",
       "  <tbody>\n",
       "    <tr>\n",
       "      <th>0</th>\n",
       "      <td>2020-01-17</td>\n",
       "      <td>OneControlGroup</td>\n",
       "      <td>8</td>\n",
       "      <td>23</td>\n",
       "      <td>23</td>\n",
       "    </tr>\n",
       "    <tr>\n",
       "      <th>1</th>\n",
       "      <td>2020-01-17</td>\n",
       "      <td>OneControlGroup</td>\n",
       "      <td>15</td>\n",
       "      <td>351</td>\n",
       "      <td>351</td>\n",
       "    </tr>\n",
       "    <tr>\n",
       "      <th>2</th>\n",
       "      <td>2020-01-17</td>\n",
       "      <td>OneTest1</td>\n",
       "      <td>8</td>\n",
       "      <td>20</td>\n",
       "      <td>20</td>\n",
       "    </tr>\n",
       "    <tr>\n",
       "      <th>3</th>\n",
       "      <td>2020-01-17</td>\n",
       "      <td>OneTest1</td>\n",
       "      <td>15</td>\n",
       "      <td>401</td>\n",
       "      <td>401</td>\n",
       "    </tr>\n",
       "    <tr>\n",
       "      <th>4</th>\n",
       "      <td>2020-01-17</td>\n",
       "      <td>OneTest2</td>\n",
       "      <td>8</td>\n",
       "      <td>26</td>\n",
       "      <td>26</td>\n",
       "    </tr>\n",
       "  </tbody>\n",
       "</table>\n",
       "</div>"
      ],
      "text/plain": [
       "   apply_date         grouping  approved_period  apply_cnt  dd_cnt\n",
       "0  2020-01-17  OneControlGroup                8         23      23\n",
       "1  2020-01-17  OneControlGroup               15        351     351\n",
       "2  2020-01-17         OneTest1                8         20      20\n",
       "3  2020-01-17         OneTest1               15        401     401\n",
       "4  2020-01-17         OneTest2                8         26      26"
      ]
     },
     "execution_count": 5,
     "metadata": {},
     "output_type": "execute_result"
    }
   ],
   "source": [
    "df = load_data_from_pickle(file_path,'老客户转化.pkl')\n",
    "df.head()"
   ]
  },
  {
   "cell_type": "code",
   "execution_count": 12,
   "metadata": {
    "hidden": true
   },
   "outputs": [
    {
     "data": {
      "text/html": [
       "<div>\n",
       "<style scoped>\n",
       "    .dataframe tbody tr th:only-of-type {\n",
       "        vertical-align: middle;\n",
       "    }\n",
       "\n",
       "    .dataframe tbody tr th {\n",
       "        vertical-align: top;\n",
       "    }\n",
       "\n",
       "    .dataframe thead th {\n",
       "        text-align: right;\n",
       "    }\n",
       "</style>\n",
       "<table border=\"1\" class=\"dataframe\">\n",
       "  <thead>\n",
       "    <tr style=\"text-align: right;\">\n",
       "      <th>grouping</th>\n",
       "      <th>OneControlGroup</th>\n",
       "      <th>OneTest1</th>\n",
       "      <th>OneTest2</th>\n",
       "      <th>all</th>\n",
       "      <th>OneControlGroup1</th>\n",
       "      <th>OneTest11</th>\n",
       "      <th>OneTest21</th>\n",
       "    </tr>\n",
       "    <tr>\n",
       "      <th>apply_date</th>\n",
       "      <th></th>\n",
       "      <th></th>\n",
       "      <th></th>\n",
       "      <th></th>\n",
       "      <th></th>\n",
       "      <th></th>\n",
       "      <th></th>\n",
       "    </tr>\n",
       "  </thead>\n",
       "  <tbody>\n",
       "    <tr>\n",
       "      <th>2020-01-17</th>\n",
       "      <td>374</td>\n",
       "      <td>421</td>\n",
       "      <td>514</td>\n",
       "      <td>1309</td>\n",
       "      <td>0.285714</td>\n",
       "      <td>0.321620</td>\n",
       "      <td>0.392666</td>\n",
       "    </tr>\n",
       "    <tr>\n",
       "      <th>2020-01-18</th>\n",
       "      <td>575</td>\n",
       "      <td>768</td>\n",
       "      <td>772</td>\n",
       "      <td>2115</td>\n",
       "      <td>0.271868</td>\n",
       "      <td>0.363121</td>\n",
       "      <td>0.365012</td>\n",
       "    </tr>\n",
       "    <tr>\n",
       "      <th>2020-01-19</th>\n",
       "      <td>524</td>\n",
       "      <td>643</td>\n",
       "      <td>675</td>\n",
       "      <td>1842</td>\n",
       "      <td>0.284473</td>\n",
       "      <td>0.349077</td>\n",
       "      <td>0.366450</td>\n",
       "    </tr>\n",
       "    <tr>\n",
       "      <th>2020-01-20</th>\n",
       "      <td>711</td>\n",
       "      <td>900</td>\n",
       "      <td>893</td>\n",
       "      <td>2504</td>\n",
       "      <td>0.283946</td>\n",
       "      <td>0.359425</td>\n",
       "      <td>0.356629</td>\n",
       "    </tr>\n",
       "    <tr>\n",
       "      <th>2020-01-21</th>\n",
       "      <td>607</td>\n",
       "      <td>754</td>\n",
       "      <td>819</td>\n",
       "      <td>2180</td>\n",
       "      <td>0.278440</td>\n",
       "      <td>0.345872</td>\n",
       "      <td>0.375688</td>\n",
       "    </tr>\n",
       "    <tr>\n",
       "      <th>2020-01-22</th>\n",
       "      <td>587</td>\n",
       "      <td>755</td>\n",
       "      <td>728</td>\n",
       "      <td>2070</td>\n",
       "      <td>0.283575</td>\n",
       "      <td>0.364734</td>\n",
       "      <td>0.351691</td>\n",
       "    </tr>\n",
       "    <tr>\n",
       "      <th>2020-01-23</th>\n",
       "      <td>241</td>\n",
       "      <td>636</td>\n",
       "      <td>1082</td>\n",
       "      <td>1959</td>\n",
       "      <td>0.123022</td>\n",
       "      <td>0.324655</td>\n",
       "      <td>0.552323</td>\n",
       "    </tr>\n",
       "    <tr>\n",
       "      <th>2020-01-24</th>\n",
       "      <td>132</td>\n",
       "      <td>654</td>\n",
       "      <td>1380</td>\n",
       "      <td>2166</td>\n",
       "      <td>0.060942</td>\n",
       "      <td>0.301939</td>\n",
       "      <td>0.637119</td>\n",
       "    </tr>\n",
       "    <tr>\n",
       "      <th>2020-01-25</th>\n",
       "      <td>137</td>\n",
       "      <td>581</td>\n",
       "      <td>1196</td>\n",
       "      <td>1914</td>\n",
       "      <td>0.071578</td>\n",
       "      <td>0.303553</td>\n",
       "      <td>0.624869</td>\n",
       "    </tr>\n",
       "    <tr>\n",
       "      <th>2020-01-26</th>\n",
       "      <td>89</td>\n",
       "      <td>518</td>\n",
       "      <td>1093</td>\n",
       "      <td>1700</td>\n",
       "      <td>0.052353</td>\n",
       "      <td>0.304706</td>\n",
       "      <td>0.642941</td>\n",
       "    </tr>\n",
       "    <tr>\n",
       "      <th>2020-01-27</th>\n",
       "      <td>117</td>\n",
       "      <td>749</td>\n",
       "      <td>1515</td>\n",
       "      <td>2381</td>\n",
       "      <td>0.049139</td>\n",
       "      <td>0.314574</td>\n",
       "      <td>0.636287</td>\n",
       "    </tr>\n",
       "    <tr>\n",
       "      <th>2020-01-28</th>\n",
       "      <td>128</td>\n",
       "      <td>759</td>\n",
       "      <td>1651</td>\n",
       "      <td>2538</td>\n",
       "      <td>0.050433</td>\n",
       "      <td>0.299054</td>\n",
       "      <td>0.650512</td>\n",
       "    </tr>\n",
       "    <tr>\n",
       "      <th>2020-01-29</th>\n",
       "      <td>135</td>\n",
       "      <td>758</td>\n",
       "      <td>1434</td>\n",
       "      <td>2327</td>\n",
       "      <td>0.058015</td>\n",
       "      <td>0.325741</td>\n",
       "      <td>0.616244</td>\n",
       "    </tr>\n",
       "    <tr>\n",
       "      <th>2020-01-30</th>\n",
       "      <td>160</td>\n",
       "      <td>748</td>\n",
       "      <td>1400</td>\n",
       "      <td>2308</td>\n",
       "      <td>0.069324</td>\n",
       "      <td>0.324090</td>\n",
       "      <td>0.606586</td>\n",
       "    </tr>\n",
       "    <tr>\n",
       "      <th>2020-01-31</th>\n",
       "      <td>259</td>\n",
       "      <td>820</td>\n",
       "      <td>1300</td>\n",
       "      <td>2379</td>\n",
       "      <td>0.108869</td>\n",
       "      <td>0.344683</td>\n",
       "      <td>0.546448</td>\n",
       "    </tr>\n",
       "    <tr>\n",
       "      <th>2020-02-01</th>\n",
       "      <td>4</td>\n",
       "      <td>3</td>\n",
       "      <td>3</td>\n",
       "      <td>10</td>\n",
       "      <td>0.400000</td>\n",
       "      <td>0.300000</td>\n",
       "      <td>0.300000</td>\n",
       "    </tr>\n",
       "  </tbody>\n",
       "</table>\n",
       "</div>"
      ],
      "text/plain": [
       "grouping    OneControlGroup  OneTest1  OneTest2   all  OneControlGroup1  \\\n",
       "apply_date                                                                \n",
       "2020-01-17              374       421       514  1309          0.285714   \n",
       "2020-01-18              575       768       772  2115          0.271868   \n",
       "2020-01-19              524       643       675  1842          0.284473   \n",
       "2020-01-20              711       900       893  2504          0.283946   \n",
       "2020-01-21              607       754       819  2180          0.278440   \n",
       "2020-01-22              587       755       728  2070          0.283575   \n",
       "2020-01-23              241       636      1082  1959          0.123022   \n",
       "2020-01-24              132       654      1380  2166          0.060942   \n",
       "2020-01-25              137       581      1196  1914          0.071578   \n",
       "2020-01-26               89       518      1093  1700          0.052353   \n",
       "2020-01-27              117       749      1515  2381          0.049139   \n",
       "2020-01-28              128       759      1651  2538          0.050433   \n",
       "2020-01-29              135       758      1434  2327          0.058015   \n",
       "2020-01-30              160       748      1400  2308          0.069324   \n",
       "2020-01-31              259       820      1300  2379          0.108869   \n",
       "2020-02-01                4         3         3    10          0.400000   \n",
       "\n",
       "grouping    OneTest11  OneTest21  \n",
       "apply_date                        \n",
       "2020-01-17   0.321620   0.392666  \n",
       "2020-01-18   0.363121   0.365012  \n",
       "2020-01-19   0.349077   0.366450  \n",
       "2020-01-20   0.359425   0.356629  \n",
       "2020-01-21   0.345872   0.375688  \n",
       "2020-01-22   0.364734   0.351691  \n",
       "2020-01-23   0.324655   0.552323  \n",
       "2020-01-24   0.301939   0.637119  \n",
       "2020-01-25   0.303553   0.624869  \n",
       "2020-01-26   0.304706   0.642941  \n",
       "2020-01-27   0.314574   0.636287  \n",
       "2020-01-28   0.299054   0.650512  \n",
       "2020-01-29   0.325741   0.616244  \n",
       "2020-01-30   0.324090   0.606586  \n",
       "2020-01-31   0.344683   0.546448  \n",
       "2020-02-01   0.300000   0.300000  "
      ]
     },
     "execution_count": 12,
     "metadata": {},
     "output_type": "execute_result"
    }
   ],
   "source": [
    "frame1 = pd.pivot_table(df, index = 'apply_date',columns = 'grouping', values=('apply_cnt'), aggfunc='sum')\n",
    "frame1['all'] = frame1.apply(lambda x: x.sum(), axis = 1)\n",
    "list1 = ['OneControlGroup',\t'OneTest1',\t'OneTest2']\n",
    "for cols in list1:\n",
    "    frame1[cols + '1'] = frame1[cols]/frame1['all']\n",
    "frame1"
   ]
  },
  {
   "cell_type": "markdown",
   "metadata": {},
   "source": [
    "# 逾期表现"
   ]
  },
  {
   "cell_type": "code",
   "execution_count": 13,
   "metadata": {},
   "outputs": [],
   "source": [
    "query2 = '''\n",
    "\n",
    "\tselect\n",
    "\t\tt1.id loan_id,\n",
    "        t1.\"grouping\",\n",
    "\t\teffective_date,\n",
    "\t\treturn_flag,\n",
    "\t\tloan_status,\n",
    "\t\tapproved_period,\n",
    "\t\tlate_date,\n",
    "\t\tapproved_principal,\n",
    "\t\tmedia_source,\n",
    "\t\tcase\n",
    "\t\t\twhen loan_status = 'COLLECTION' then current_date-late_date\n",
    "\t\t\telse round(late_fee /(approved_principal*0.025))::int end as DPD,\n",
    "\t\tcase when late_date-effective_date = approved_period then 1 else 0 end as flag1\n",
    "\t\tfrom\n",
    "\t\t\t(\n",
    "\t\t\tselect\n",
    "\t\t\t\t*\n",
    "\t\t\tfrom\n",
    "\t\t\t\tdw_gocash_go_cash_loan_gocash_core_loan\n",
    "\t\t\twhere\n",
    "\t\t\t\t\"grouping\" != '' and effective_date!='1970-01-01' and loan_status not in ('DENIED',\n",
    "\t\t\t\t'RESCIND',\n",
    "\t\t\t\t'APPROVING',\n",
    "\t\t\t\t'CREATED')) t1\n",
    "\t\tleft join (\n",
    "\t\t\tselect\n",
    "\t\t\t\t*\n",
    "\t\t\tfrom\n",
    "\t\t\t\t(\n",
    "\t\t\t\tselect\n",
    "\t\t\t\t\torder_id,\n",
    "\t\t\t\t\tlate_date,\n",
    "\t\t\t\t\trow_number() over(partition by order_id\n",
    "\t\t\t\torder by\n",
    "\t\t\t\t\tlate_date asc) as num\n",
    "\t\t\t\tfrom\n",
    "\t\t\t\t\tdw_gocash_gocash_collection_col_case\n",
    "\t\t\t\twhere\n",
    "\t\t\t\t\t(order_status = 'COLLECTION_PAIDOFF'\n",
    "\t\t\t\t\tor order_status = 'COLLECTION')\n",
    "\t\t\t\t\tand app_id not in ('Credits',\n",
    "\t\t\t\t\t'KASANDAAI'))t\n",
    "\t\t\twhere\n",
    "\t\t\t\tnum = 1) t2 on\n",
    "\t\t\tt1.id = t2.order_id\n",
    "\t\t\tleft join (\n",
    "\t\t\t\tselect\n",
    "\t\t\t\t\tid,\n",
    "\t\t\t\t\tmedia_source\n",
    "\t\t\t\tfrom\n",
    "\t\t\t\t\tpublic.dw_gocash_go_cash_loan_gocash_core_customer\n",
    "\t\t\t\t) t3 on\n",
    "\t\t\tt1.customer_id = t3.id\n",
    "'''"
   ]
  },
  {
   "cell_type": "code",
   "execution_count": 14,
   "metadata": {},
   "outputs": [
    {
     "name": "stdout",
     "output_type": "stream",
     "text": [
      "Successful connection\n"
     ]
    },
    {
     "data": {
      "text/plain": [
       "(49007, 11)"
      ]
     },
     "execution_count": 14,
     "metadata": {},
     "output_type": "execute_result"
    }
   ],
   "source": [
    "df2 = data_con.database_gn(query2)\n",
    "save_data_to_pickle(df2, file_path, '逾期表现.pkl')\n",
    "df2.shape"
   ]
  },
  {
   "cell_type": "code",
   "execution_count": 15,
   "metadata": {},
   "outputs": [],
   "source": [
    "df2.to_excel(os.path.join(file_path,'temp1.xlsx'))"
   ]
  },
  {
   "cell_type": "code",
   "execution_count": null,
   "metadata": {},
   "outputs": [],
   "source": [
    "8期截止到当前有1+表现的是"
   ]
  }
 ],
 "metadata": {
  "kernelspec": {
   "display_name": "Python 3",
   "language": "python",
   "name": "python3"
  },
  "language_info": {
   "codemirror_mode": {
    "name": "ipython",
    "version": 3
   },
   "file_extension": ".py",
   "mimetype": "text/x-python",
   "name": "python",
   "nbconvert_exporter": "python",
   "pygments_lexer": "ipython3",
   "version": "3.7.5"
  },
  "latex_envs": {
   "LaTeX_envs_menu_present": true,
   "autoclose": false,
   "autocomplete": true,
   "bibliofile": "biblio.bib",
   "cite_by": "apalike",
   "current_citInitial": 1,
   "eqLabelWithNumbers": true,
   "eqNumInitial": 1,
   "hotkeys": {
    "equation": "Ctrl-E",
    "itemize": "Ctrl-I"
   },
   "labels_anchors": false,
   "latex_user_defs": false,
   "report_style_numbering": false,
   "user_envs_cfg": false
  },
  "toc": {
   "base_numbering": 1,
   "nav_menu": {},
   "number_sections": true,
   "sideBar": true,
   "skip_h1_title": false,
   "title_cell": "Table of Contents",
   "title_sidebar": "Contents",
   "toc_cell": false,
   "toc_position": {
    "height": "calc(100% - 180px)",
    "left": "10px",
    "top": "150px",
    "width": "287.796875px"
   },
   "toc_section_display": true,
   "toc_window_display": true
  },
  "varInspector": {
   "cols": {
    "lenName": 16,
    "lenType": 16,
    "lenVar": 40
   },
   "kernels_config": {
    "python": {
     "delete_cmd_postfix": "",
     "delete_cmd_prefix": "del ",
     "library": "var_list.py",
     "varRefreshCmd": "print(var_dic_list())"
    },
    "r": {
     "delete_cmd_postfix": ") ",
     "delete_cmd_prefix": "rm(",
     "library": "var_list.r",
     "varRefreshCmd": "cat(var_dic_list()) "
    }
   },
   "types_to_exclude": [
    "module",
    "function",
    "builtin_function_or_method",
    "instance",
    "_Feature"
   ],
   "window_display": false
  }
 },
 "nbformat": 4,
 "nbformat_minor": 2
}
