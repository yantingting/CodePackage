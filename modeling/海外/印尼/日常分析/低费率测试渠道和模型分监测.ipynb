{
 "cells": [
  {
   "cell_type": "code",
   "execution_count": 1,
   "metadata": {},
   "outputs": [],
   "source": [
    "import os\n",
    "import sys\n",
    "import time\n",
    "import datetime\n",
    "import pandas as pd \n",
    "pd.set_option('display.max_columns', None)\n",
    "pd.set_option('display.max_rows', None)\n",
    "import numpy as np\n",
    "import re\n",
    "import seaborn as sns\n",
    "from scipy import stats\n",
    "import matplotlib.pyplot as plt\n",
    "from collections import Counter\n",
    "sys.path.append('/Users/yantingting/PycharmProjects/modeling/')\n",
    "import database_conncet as data_con\n",
    "import data_processing as dp\n",
    "import summary_statistics as ss\n",
    "from data_io_utils import *"
   ]
  },
  {
   "cell_type": "code",
   "execution_count": 2,
   "metadata": {},
   "outputs": [],
   "source": [
    "date = datetime.date.today().strftime('%m-%d')\n",
    "file_path= os.path.join('/Users/yantingting/Seafile/风控/模型/10 印尼/低费率测试/ytt/', date)\n",
    "if not os.path.exists(file_path):\n",
    "    os.mkdir(file_path)"
   ]
  },
  {
   "cell_type": "markdown",
   "metadata": {},
   "source": [
    "# 渠道代码"
   ]
  },
  {
   "cell_type": "code",
   "execution_count": 3,
   "metadata": {},
   "outputs": [],
   "source": [
    "query4 = '''\n",
    "SELECT\n",
    "        c.media_source,\n",
    "        c.channel,\n",
    "        date(c.create_time) as reg_date,\n",
    "\t\tc.level_group as level_group,\n",
    "\t\tc.campaign,\n",
    "\t\tsubstring(c.create_time::varchar, 1, 13) as createtime,\n",
    "\t\tcount(distinct c.id) as customer_install ,\n",
    "\t\tcount(distinct l.id) as application ,\n",
    "\t\tcount(distinct case when effective_date >= '2020-01-07' and loan_status not in ('DENIED', 'RESCIND', 'APPROVING', 'CREATED') then l.id else null end)as fangkuan\n",
    "\tfrom dw_gocash_go_cash_loan_gocash_core_customer c\n",
    "\tleft join dw_gocash_go_cash_loan_gocash_core_loan l on c.id = l.customer_id\n",
    "\twhere\tc.device = 'ANDROID'\n",
    "\tand c.level_group != ''\n",
    "\tand c.product_code='UKU'\n",
    "    and c.level_group_time >= '2020-01-16 21:48:50'\n",
    "\tgroup by 1,2,3,4,5,6\n",
    "union all \n",
    "SELECT\n",
    "        c.media_source,\n",
    "        c.channel,\n",
    "        date(c.create_time) as reg_date,\n",
    "\t\t'对照组' as level_group,\n",
    "\t\tc.campaign,\n",
    "\t\tsubstring(c.create_time::varchar, 1, 13) as createtime,\n",
    "\t\tcount(distinct c.id) as customer_install ,\n",
    "\t\tcount(distinct l.id) as application ,\n",
    "\t\tcount(distinct case when effective_date >= '2020-01-07' and loan_status not in ('DENIED', 'RESCIND', 'APPROVING', 'CREATED') then l.id else null end)as fangkuan\n",
    "\tfrom dw_gocash_go_cash_loan_gocash_core_customer c\n",
    "\tleft join dw_gocash_go_cash_loan_gocash_core_loan l on c.id = l.customer_id\n",
    "\twhere c.device = 'ANDROID'\n",
    "\tand c.level_group = ''\n",
    "\tand c.product_code='UKU'\n",
    "\tand date(c.create_time)>='2020-01-10' and  date(c.create_time)<='2020-01-16'\n",
    "\tgroup by 1,2,3,4,5,6\n",
    "'''"
   ]
  },
  {
   "cell_type": "code",
   "execution_count": 4,
   "metadata": {
    "scrolled": true
   },
   "outputs": [
    {
     "name": "stdout",
     "output_type": "stream",
     "text": [
      "Successful connection\n"
     ]
    },
    {
     "data": {
      "text/plain": [
       "(166756, 9)"
      ]
     },
     "execution_count": 4,
     "metadata": {},
     "output_type": "execute_result"
    }
   ],
   "source": [
    "df4 = data_con.database_gn(query4)\n",
    "save_data_to_pickle(df4, file_path, '渠道转化.pkl')\n",
    "df4.shape"
   ]
  },
  {
   "cell_type": "markdown",
   "metadata": {},
   "source": [
    "# 渠道分析"
   ]
  },
  {
   "cell_type": "code",
   "execution_count": 5,
   "metadata": {},
   "outputs": [
    {
     "data": {
      "text/plain": [
       "(166756, 12)"
      ]
     },
     "execution_count": 5,
     "metadata": {},
     "output_type": "execute_result"
    }
   ],
   "source": [
    "df4 = load_data_from_pickle( file_path, '渠道转化.pkl')\n",
    "df4['media_source'] = df4.apply(lambda x: x['channel'] if x['media_source']=='' else 'cashcash_int' if x['channel'] == 'cashcash_int' else x['media_source'],axis = 1)\n",
    "cols_meiti = ['Facebook Ads','GooglePlay','googleadwords_int','organic']\n",
    "cols_bd = ['kreditpedia','cashcash_int','affle_int','xyads_int','dokteruang_int','estrend','unions','intellectads_int',\n",
    "           'superads_int','tyroo_int','pokktperformance_int','Kredit All','invite_friend_activity_01','inmobi_int']\n",
    "df4['source'] = df4['media_source'].apply(lambda x:x if x in cols_meiti else 'BD' if x in cols_bd else 'else')\n",
    "\n",
    "cols2 = ['uku-fb-sm-MIN4-0115-cs',  'UKU-FB-sm-MIN2-M-0113',  'UKU-FB-sm-MIN2-V-0113',  'UKU-FB-sm-dl-02-fk-M-0114',\n",
    "         'UKU Install 02','UKU-FB-sm-MIN2-M-1127','uku-tt-sm-MIN1-0626-2','UKU-MIN2-0424-1', 'UKU-MIN2-az-fk02',\n",
    "         'UKU-MIN2-0423-1']\n",
    "df4['ads'] = df4['campaign'].apply(lambda x:x if x in cols2 else 'else')\n",
    "df4['source_flag'] = df4.apply(lambda x: '非调整渠道' if ((x['ads'] == 'else')&(x['source']!='BD')) else '调整渠道',axis = 1)\n",
    "df4.to_excel(os.path.join(file_path,'渠道.xlsx'))\n",
    "df4.shape"
   ]
  },
  {
   "cell_type": "code",
   "execution_count": null,
   "metadata": {},
   "outputs": [],
   "source": []
  },
  {
   "cell_type": "code",
   "execution_count": null,
   "metadata": {},
   "outputs": [],
   "source": [
    "调整渠道 vs 非调整渠道"
   ]
  },
  {
   "cell_type": "code",
   "execution_count": 26,
   "metadata": {},
   "outputs": [
    {
     "data": {
      "text/html": [
       "<div>\n",
       "<style scoped>\n",
       "    .dataframe tbody tr th:only-of-type {\n",
       "        vertical-align: middle;\n",
       "    }\n",
       "\n",
       "    .dataframe tbody tr th {\n",
       "        vertical-align: top;\n",
       "    }\n",
       "\n",
       "    .dataframe thead tr th {\n",
       "        text-align: left;\n",
       "    }\n",
       "\n",
       "    .dataframe thead tr:last-of-type th {\n",
       "        text-align: right;\n",
       "    }\n",
       "</style>\n",
       "<table border=\"1\" class=\"dataframe\">\n",
       "  <thead>\n",
       "    <tr>\n",
       "      <th></th>\n",
       "      <th></th>\n",
       "      <th colspan=\"2\" halign=\"left\">application</th>\n",
       "      <th colspan=\"2\" halign=\"left\">customer_install</th>\n",
       "      <th colspan=\"2\" halign=\"left\">fangkuan</th>\n",
       "      <th>调整渠道占比</th>\n",
       "      <th colspan=\"2\" halign=\"left\">注册到申请</th>\n",
       "      <th colspan=\"2\" halign=\"left\">申请到放款</th>\n",
       "      <th colspan=\"2\" halign=\"left\">注册到放款</th>\n",
       "    </tr>\n",
       "    <tr>\n",
       "      <th></th>\n",
       "      <th>source_flag</th>\n",
       "      <th>调整渠道</th>\n",
       "      <th>非调整渠道</th>\n",
       "      <th>调整渠道</th>\n",
       "      <th>非调整渠道</th>\n",
       "      <th>调整渠道</th>\n",
       "      <th>非调整渠道</th>\n",
       "      <th></th>\n",
       "      <th>调整渠道</th>\n",
       "      <th>非调整渠道</th>\n",
       "      <th>调整渠道</th>\n",
       "      <th>非调整渠道</th>\n",
       "      <th>调整渠道</th>\n",
       "      <th>非调整渠道</th>\n",
       "    </tr>\n",
       "    <tr>\n",
       "      <th>source</th>\n",
       "      <th>level_group</th>\n",
       "      <th></th>\n",
       "      <th></th>\n",
       "      <th></th>\n",
       "      <th></th>\n",
       "      <th></th>\n",
       "      <th></th>\n",
       "      <th></th>\n",
       "      <th></th>\n",
       "      <th></th>\n",
       "      <th></th>\n",
       "      <th></th>\n",
       "      <th></th>\n",
       "      <th></th>\n",
       "    </tr>\n",
       "  </thead>\n",
       "  <tbody>\n",
       "    <tr>\n",
       "      <th rowspan=\"5\" valign=\"top\">BD</th>\n",
       "      <th>ControlGroup</th>\n",
       "      <td>816</td>\n",
       "      <td>0</td>\n",
       "      <td>1489</td>\n",
       "      <td>0</td>\n",
       "      <td>221</td>\n",
       "      <td>0</td>\n",
       "      <td>1.000000</td>\n",
       "      <td>0.548019</td>\n",
       "      <td>NaN</td>\n",
       "      <td>0.270833</td>\n",
       "      <td>NaN</td>\n",
       "      <td>0.148422</td>\n",
       "      <td>NaN</td>\n",
       "    </tr>\n",
       "    <tr>\n",
       "      <th>Test1</th>\n",
       "      <td>2309</td>\n",
       "      <td>0</td>\n",
       "      <td>4249</td>\n",
       "      <td>0</td>\n",
       "      <td>384</td>\n",
       "      <td>0</td>\n",
       "      <td>1.000000</td>\n",
       "      <td>0.543422</td>\n",
       "      <td>NaN</td>\n",
       "      <td>0.166306</td>\n",
       "      <td>NaN</td>\n",
       "      <td>0.090374</td>\n",
       "      <td>NaN</td>\n",
       "    </tr>\n",
       "    <tr>\n",
       "      <th>Test2</th>\n",
       "      <td>2717</td>\n",
       "      <td>0</td>\n",
       "      <td>4875</td>\n",
       "      <td>0</td>\n",
       "      <td>483</td>\n",
       "      <td>0</td>\n",
       "      <td>1.000000</td>\n",
       "      <td>0.557333</td>\n",
       "      <td>NaN</td>\n",
       "      <td>0.177770</td>\n",
       "      <td>NaN</td>\n",
       "      <td>0.099077</td>\n",
       "      <td>NaN</td>\n",
       "    </tr>\n",
       "    <tr>\n",
       "      <th>Test3</th>\n",
       "      <td>2726</td>\n",
       "      <td>0</td>\n",
       "      <td>4933</td>\n",
       "      <td>0</td>\n",
       "      <td>482</td>\n",
       "      <td>0</td>\n",
       "      <td>1.000000</td>\n",
       "      <td>0.552605</td>\n",
       "      <td>NaN</td>\n",
       "      <td>0.176816</td>\n",
       "      <td>NaN</td>\n",
       "      <td>0.097709</td>\n",
       "      <td>NaN</td>\n",
       "    </tr>\n",
       "    <tr>\n",
       "      <th>Test4</th>\n",
       "      <td>3183</td>\n",
       "      <td>0</td>\n",
       "      <td>5607</td>\n",
       "      <td>0</td>\n",
       "      <td>548</td>\n",
       "      <td>0</td>\n",
       "      <td>1.000000</td>\n",
       "      <td>0.567683</td>\n",
       "      <td>NaN</td>\n",
       "      <td>0.172165</td>\n",
       "      <td>NaN</td>\n",
       "      <td>0.097735</td>\n",
       "      <td>NaN</td>\n",
       "    </tr>\n",
       "    <tr>\n",
       "      <th rowspan=\"5\" valign=\"top\">Facebook Ads</th>\n",
       "      <th>ControlGroup</th>\n",
       "      <td>79</td>\n",
       "      <td>701</td>\n",
       "      <td>109</td>\n",
       "      <td>1250</td>\n",
       "      <td>26</td>\n",
       "      <td>202</td>\n",
       "      <td>0.101282</td>\n",
       "      <td>0.724771</td>\n",
       "      <td>0.560800</td>\n",
       "      <td>0.329114</td>\n",
       "      <td>0.288160</td>\n",
       "      <td>0.238532</td>\n",
       "      <td>0.161600</td>\n",
       "    </tr>\n",
       "    <tr>\n",
       "      <th>Test1</th>\n",
       "      <td>168</td>\n",
       "      <td>1507</td>\n",
       "      <td>241</td>\n",
       "      <td>2941</td>\n",
       "      <td>46</td>\n",
       "      <td>278</td>\n",
       "      <td>0.100299</td>\n",
       "      <td>0.697095</td>\n",
       "      <td>0.512411</td>\n",
       "      <td>0.273810</td>\n",
       "      <td>0.184472</td>\n",
       "      <td>0.190871</td>\n",
       "      <td>0.094526</td>\n",
       "    </tr>\n",
       "    <tr>\n",
       "      <th>Test2</th>\n",
       "      <td>200</td>\n",
       "      <td>1691</td>\n",
       "      <td>287</td>\n",
       "      <td>3268</td>\n",
       "      <td>53</td>\n",
       "      <td>284</td>\n",
       "      <td>0.105764</td>\n",
       "      <td>0.696864</td>\n",
       "      <td>0.517442</td>\n",
       "      <td>0.265000</td>\n",
       "      <td>0.167948</td>\n",
       "      <td>0.184669</td>\n",
       "      <td>0.086903</td>\n",
       "    </tr>\n",
       "    <tr>\n",
       "      <th>Test3</th>\n",
       "      <td>188</td>\n",
       "      <td>1860</td>\n",
       "      <td>288</td>\n",
       "      <td>3311</td>\n",
       "      <td>57</td>\n",
       "      <td>356</td>\n",
       "      <td>0.091797</td>\n",
       "      <td>0.652778</td>\n",
       "      <td>0.561764</td>\n",
       "      <td>0.303191</td>\n",
       "      <td>0.191398</td>\n",
       "      <td>0.197917</td>\n",
       "      <td>0.107520</td>\n",
       "    </tr>\n",
       "    <tr>\n",
       "      <th>Test4</th>\n",
       "      <td>207</td>\n",
       "      <td>2034</td>\n",
       "      <td>327</td>\n",
       "      <td>3677</td>\n",
       "      <td>65</td>\n",
       "      <td>366</td>\n",
       "      <td>0.092369</td>\n",
       "      <td>0.633028</td>\n",
       "      <td>0.553168</td>\n",
       "      <td>0.314010</td>\n",
       "      <td>0.179941</td>\n",
       "      <td>0.198777</td>\n",
       "      <td>0.099538</td>\n",
       "    </tr>\n",
       "    <tr>\n",
       "      <th rowspan=\"5\" valign=\"top\">GooglePlay</th>\n",
       "      <th>ControlGroup</th>\n",
       "      <td>0</td>\n",
       "      <td>470</td>\n",
       "      <td>0</td>\n",
       "      <td>801</td>\n",
       "      <td>0</td>\n",
       "      <td>147</td>\n",
       "      <td>0.000000</td>\n",
       "      <td>NaN</td>\n",
       "      <td>0.586767</td>\n",
       "      <td>NaN</td>\n",
       "      <td>0.312766</td>\n",
       "      <td>NaN</td>\n",
       "      <td>0.183521</td>\n",
       "    </tr>\n",
       "    <tr>\n",
       "      <th>Test1</th>\n",
       "      <td>0</td>\n",
       "      <td>1572</td>\n",
       "      <td>0</td>\n",
       "      <td>2959</td>\n",
       "      <td>0</td>\n",
       "      <td>274</td>\n",
       "      <td>0.000000</td>\n",
       "      <td>NaN</td>\n",
       "      <td>0.531261</td>\n",
       "      <td>NaN</td>\n",
       "      <td>0.174300</td>\n",
       "      <td>NaN</td>\n",
       "      <td>0.092599</td>\n",
       "    </tr>\n",
       "    <tr>\n",
       "      <th>Test2</th>\n",
       "      <td>0</td>\n",
       "      <td>1776</td>\n",
       "      <td>0</td>\n",
       "      <td>3361</td>\n",
       "      <td>0</td>\n",
       "      <td>289</td>\n",
       "      <td>0.000000</td>\n",
       "      <td>NaN</td>\n",
       "      <td>0.528414</td>\n",
       "      <td>NaN</td>\n",
       "      <td>0.162725</td>\n",
       "      <td>NaN</td>\n",
       "      <td>0.085986</td>\n",
       "    </tr>\n",
       "    <tr>\n",
       "      <th>Test3</th>\n",
       "      <td>0</td>\n",
       "      <td>1820</td>\n",
       "      <td>0</td>\n",
       "      <td>3467</td>\n",
       "      <td>0</td>\n",
       "      <td>325</td>\n",
       "      <td>0.000000</td>\n",
       "      <td>NaN</td>\n",
       "      <td>0.524950</td>\n",
       "      <td>NaN</td>\n",
       "      <td>0.178571</td>\n",
       "      <td>NaN</td>\n",
       "      <td>0.093741</td>\n",
       "    </tr>\n",
       "    <tr>\n",
       "      <th>Test4</th>\n",
       "      <td>0</td>\n",
       "      <td>2145</td>\n",
       "      <td>0</td>\n",
       "      <td>4022</td>\n",
       "      <td>0</td>\n",
       "      <td>366</td>\n",
       "      <td>0.000000</td>\n",
       "      <td>NaN</td>\n",
       "      <td>0.533317</td>\n",
       "      <td>NaN</td>\n",
       "      <td>0.170629</td>\n",
       "      <td>NaN</td>\n",
       "      <td>0.091000</td>\n",
       "    </tr>\n",
       "    <tr>\n",
       "      <th rowspan=\"5\" valign=\"top\">else</th>\n",
       "      <th>ControlGroup</th>\n",
       "      <td>0</td>\n",
       "      <td>241</td>\n",
       "      <td>0</td>\n",
       "      <td>438</td>\n",
       "      <td>0</td>\n",
       "      <td>69</td>\n",
       "      <td>0.000000</td>\n",
       "      <td>NaN</td>\n",
       "      <td>0.550228</td>\n",
       "      <td>NaN</td>\n",
       "      <td>0.286307</td>\n",
       "      <td>NaN</td>\n",
       "      <td>0.157534</td>\n",
       "    </tr>\n",
       "    <tr>\n",
       "      <th>Test1</th>\n",
       "      <td>0</td>\n",
       "      <td>648</td>\n",
       "      <td>0</td>\n",
       "      <td>1344</td>\n",
       "      <td>0</td>\n",
       "      <td>143</td>\n",
       "      <td>0.000000</td>\n",
       "      <td>NaN</td>\n",
       "      <td>0.482143</td>\n",
       "      <td>NaN</td>\n",
       "      <td>0.220679</td>\n",
       "      <td>NaN</td>\n",
       "      <td>0.106399</td>\n",
       "    </tr>\n",
       "    <tr>\n",
       "      <th>Test2</th>\n",
       "      <td>0</td>\n",
       "      <td>718</td>\n",
       "      <td>0</td>\n",
       "      <td>1501</td>\n",
       "      <td>0</td>\n",
       "      <td>139</td>\n",
       "      <td>0.000000</td>\n",
       "      <td>NaN</td>\n",
       "      <td>0.478348</td>\n",
       "      <td>NaN</td>\n",
       "      <td>0.193593</td>\n",
       "      <td>NaN</td>\n",
       "      <td>0.092605</td>\n",
       "    </tr>\n",
       "    <tr>\n",
       "      <th>Test3</th>\n",
       "      <td>0</td>\n",
       "      <td>764</td>\n",
       "      <td>0</td>\n",
       "      <td>1501</td>\n",
       "      <td>0</td>\n",
       "      <td>162</td>\n",
       "      <td>0.000000</td>\n",
       "      <td>NaN</td>\n",
       "      <td>0.508994</td>\n",
       "      <td>NaN</td>\n",
       "      <td>0.212042</td>\n",
       "      <td>NaN</td>\n",
       "      <td>0.107928</td>\n",
       "    </tr>\n",
       "    <tr>\n",
       "      <th>Test4</th>\n",
       "      <td>0</td>\n",
       "      <td>878</td>\n",
       "      <td>0</td>\n",
       "      <td>1703</td>\n",
       "      <td>0</td>\n",
       "      <td>155</td>\n",
       "      <td>0.000000</td>\n",
       "      <td>NaN</td>\n",
       "      <td>0.515561</td>\n",
       "      <td>NaN</td>\n",
       "      <td>0.176538</td>\n",
       "      <td>NaN</td>\n",
       "      <td>0.091016</td>\n",
       "    </tr>\n",
       "    <tr>\n",
       "      <th rowspan=\"5\" valign=\"top\">googleadwords_int</th>\n",
       "      <th>ControlGroup</th>\n",
       "      <td>550</td>\n",
       "      <td>3466</td>\n",
       "      <td>953</td>\n",
       "      <td>5988</td>\n",
       "      <td>109</td>\n",
       "      <td>1154</td>\n",
       "      <td>0.136952</td>\n",
       "      <td>0.577125</td>\n",
       "      <td>0.578824</td>\n",
       "      <td>0.198182</td>\n",
       "      <td>0.332949</td>\n",
       "      <td>0.114376</td>\n",
       "      <td>0.192719</td>\n",
       "    </tr>\n",
       "    <tr>\n",
       "      <th>Test1</th>\n",
       "      <td>1192</td>\n",
       "      <td>7643</td>\n",
       "      <td>2186</td>\n",
       "      <td>13863</td>\n",
       "      <td>104</td>\n",
       "      <td>1653</td>\n",
       "      <td>0.134918</td>\n",
       "      <td>0.545288</td>\n",
       "      <td>0.551324</td>\n",
       "      <td>0.087248</td>\n",
       "      <td>0.216276</td>\n",
       "      <td>0.047575</td>\n",
       "      <td>0.119238</td>\n",
       "    </tr>\n",
       "    <tr>\n",
       "      <th>Test2</th>\n",
       "      <td>1386</td>\n",
       "      <td>8636</td>\n",
       "      <td>2387</td>\n",
       "      <td>15397</td>\n",
       "      <td>126</td>\n",
       "      <td>1713</td>\n",
       "      <td>0.138296</td>\n",
       "      <td>0.580645</td>\n",
       "      <td>0.560888</td>\n",
       "      <td>0.090909</td>\n",
       "      <td>0.198356</td>\n",
       "      <td>0.052786</td>\n",
       "      <td>0.111255</td>\n",
       "    </tr>\n",
       "    <tr>\n",
       "      <th>Test3</th>\n",
       "      <td>1391</td>\n",
       "      <td>8868</td>\n",
       "      <td>2438</td>\n",
       "      <td>15379</td>\n",
       "      <td>158</td>\n",
       "      <td>1929</td>\n",
       "      <td>0.135588</td>\n",
       "      <td>0.570550</td>\n",
       "      <td>0.576630</td>\n",
       "      <td>0.113587</td>\n",
       "      <td>0.217524</td>\n",
       "      <td>0.064807</td>\n",
       "      <td>0.125431</td>\n",
       "    </tr>\n",
       "    <tr>\n",
       "      <th>Test4</th>\n",
       "      <td>1579</td>\n",
       "      <td>10148</td>\n",
       "      <td>2732</td>\n",
       "      <td>17281</td>\n",
       "      <td>147</td>\n",
       "      <td>2105</td>\n",
       "      <td>0.134647</td>\n",
       "      <td>0.577965</td>\n",
       "      <td>0.587235</td>\n",
       "      <td>0.093097</td>\n",
       "      <td>0.207430</td>\n",
       "      <td>0.053807</td>\n",
       "      <td>0.121810</td>\n",
       "    </tr>\n",
       "    <tr>\n",
       "      <th rowspan=\"5\" valign=\"top\">organic</th>\n",
       "      <th>ControlGroup</th>\n",
       "      <td>0</td>\n",
       "      <td>1181</td>\n",
       "      <td>0</td>\n",
       "      <td>2311</td>\n",
       "      <td>0</td>\n",
       "      <td>272</td>\n",
       "      <td>0.000000</td>\n",
       "      <td>NaN</td>\n",
       "      <td>0.511034</td>\n",
       "      <td>NaN</td>\n",
       "      <td>0.230313</td>\n",
       "      <td>NaN</td>\n",
       "      <td>0.117698</td>\n",
       "    </tr>\n",
       "    <tr>\n",
       "      <th>Test1</th>\n",
       "      <td>0</td>\n",
       "      <td>2572</td>\n",
       "      <td>0</td>\n",
       "      <td>5737</td>\n",
       "      <td>0</td>\n",
       "      <td>440</td>\n",
       "      <td>0.000000</td>\n",
       "      <td>NaN</td>\n",
       "      <td>0.448318</td>\n",
       "      <td>NaN</td>\n",
       "      <td>0.171073</td>\n",
       "      <td>NaN</td>\n",
       "      <td>0.076695</td>\n",
       "    </tr>\n",
       "    <tr>\n",
       "      <th>Test2</th>\n",
       "      <td>0</td>\n",
       "      <td>2905</td>\n",
       "      <td>0</td>\n",
       "      <td>6397</td>\n",
       "      <td>0</td>\n",
       "      <td>484</td>\n",
       "      <td>0.000000</td>\n",
       "      <td>NaN</td>\n",
       "      <td>0.454119</td>\n",
       "      <td>NaN</td>\n",
       "      <td>0.166609</td>\n",
       "      <td>NaN</td>\n",
       "      <td>0.075660</td>\n",
       "    </tr>\n",
       "    <tr>\n",
       "      <th>Test3</th>\n",
       "      <td>0</td>\n",
       "      <td>2960</td>\n",
       "      <td>0</td>\n",
       "      <td>6332</td>\n",
       "      <td>0</td>\n",
       "      <td>501</td>\n",
       "      <td>0.000000</td>\n",
       "      <td>NaN</td>\n",
       "      <td>0.467467</td>\n",
       "      <td>NaN</td>\n",
       "      <td>0.169257</td>\n",
       "      <td>NaN</td>\n",
       "      <td>0.079122</td>\n",
       "    </tr>\n",
       "    <tr>\n",
       "      <th>Test4</th>\n",
       "      <td>0</td>\n",
       "      <td>3515</td>\n",
       "      <td>0</td>\n",
       "      <td>7252</td>\n",
       "      <td>0</td>\n",
       "      <td>577</td>\n",
       "      <td>0.000000</td>\n",
       "      <td>NaN</td>\n",
       "      <td>0.484694</td>\n",
       "      <td>NaN</td>\n",
       "      <td>0.164154</td>\n",
       "      <td>NaN</td>\n",
       "      <td>0.079564</td>\n",
       "    </tr>\n",
       "  </tbody>\n",
       "</table>\n",
       "</div>"
      ],
      "text/plain": [
       "                               application        customer_install         \\\n",
       "source_flag                           调整渠道  非调整渠道             调整渠道  非调整渠道   \n",
       "source            level_group                                               \n",
       "BD                ControlGroup         816      0             1489      0   \n",
       "                  Test1               2309      0             4249      0   \n",
       "                  Test2               2717      0             4875      0   \n",
       "                  Test3               2726      0             4933      0   \n",
       "                  Test4               3183      0             5607      0   \n",
       "Facebook Ads      ControlGroup          79    701              109   1250   \n",
       "                  Test1                168   1507              241   2941   \n",
       "                  Test2                200   1691              287   3268   \n",
       "                  Test3                188   1860              288   3311   \n",
       "                  Test4                207   2034              327   3677   \n",
       "GooglePlay        ControlGroup           0    470                0    801   \n",
       "                  Test1                  0   1572                0   2959   \n",
       "                  Test2                  0   1776                0   3361   \n",
       "                  Test3                  0   1820                0   3467   \n",
       "                  Test4                  0   2145                0   4022   \n",
       "else              ControlGroup           0    241                0    438   \n",
       "                  Test1                  0    648                0   1344   \n",
       "                  Test2                  0    718                0   1501   \n",
       "                  Test3                  0    764                0   1501   \n",
       "                  Test4                  0    878                0   1703   \n",
       "googleadwords_int ControlGroup         550   3466              953   5988   \n",
       "                  Test1               1192   7643             2186  13863   \n",
       "                  Test2               1386   8636             2387  15397   \n",
       "                  Test3               1391   8868             2438  15379   \n",
       "                  Test4               1579  10148             2732  17281   \n",
       "organic           ControlGroup           0   1181                0   2311   \n",
       "                  Test1                  0   2572                0   5737   \n",
       "                  Test2                  0   2905                0   6397   \n",
       "                  Test3                  0   2960                0   6332   \n",
       "                  Test4                  0   3515                0   7252   \n",
       "\n",
       "                               fangkuan          调整渠道占比     注册到申请            \\\n",
       "source_flag                        调整渠道 非调整渠道                调整渠道     非调整渠道   \n",
       "source            level_group                                                 \n",
       "BD                ControlGroup      221     0  1.000000  0.548019       NaN   \n",
       "                  Test1             384     0  1.000000  0.543422       NaN   \n",
       "                  Test2             483     0  1.000000  0.557333       NaN   \n",
       "                  Test3             482     0  1.000000  0.552605       NaN   \n",
       "                  Test4             548     0  1.000000  0.567683       NaN   \n",
       "Facebook Ads      ControlGroup       26   202  0.101282  0.724771  0.560800   \n",
       "                  Test1              46   278  0.100299  0.697095  0.512411   \n",
       "                  Test2              53   284  0.105764  0.696864  0.517442   \n",
       "                  Test3              57   356  0.091797  0.652778  0.561764   \n",
       "                  Test4              65   366  0.092369  0.633028  0.553168   \n",
       "GooglePlay        ControlGroup        0   147  0.000000       NaN  0.586767   \n",
       "                  Test1               0   274  0.000000       NaN  0.531261   \n",
       "                  Test2               0   289  0.000000       NaN  0.528414   \n",
       "                  Test3               0   325  0.000000       NaN  0.524950   \n",
       "                  Test4               0   366  0.000000       NaN  0.533317   \n",
       "else              ControlGroup        0    69  0.000000       NaN  0.550228   \n",
       "                  Test1               0   143  0.000000       NaN  0.482143   \n",
       "                  Test2               0   139  0.000000       NaN  0.478348   \n",
       "                  Test3               0   162  0.000000       NaN  0.508994   \n",
       "                  Test4               0   155  0.000000       NaN  0.515561   \n",
       "googleadwords_int ControlGroup      109  1154  0.136952  0.577125  0.578824   \n",
       "                  Test1             104  1653  0.134918  0.545288  0.551324   \n",
       "                  Test2             126  1713  0.138296  0.580645  0.560888   \n",
       "                  Test3             158  1929  0.135588  0.570550  0.576630   \n",
       "                  Test4             147  2105  0.134647  0.577965  0.587235   \n",
       "organic           ControlGroup        0   272  0.000000       NaN  0.511034   \n",
       "                  Test1               0   440  0.000000       NaN  0.448318   \n",
       "                  Test2               0   484  0.000000       NaN  0.454119   \n",
       "                  Test3               0   501  0.000000       NaN  0.467467   \n",
       "                  Test4               0   577  0.000000       NaN  0.484694   \n",
       "\n",
       "                                   申请到放款               注册到放款            \n",
       "source_flag                         调整渠道     非调整渠道      调整渠道     非调整渠道  \n",
       "source            level_group                                           \n",
       "BD                ControlGroup  0.270833       NaN  0.148422       NaN  \n",
       "                  Test1         0.166306       NaN  0.090374       NaN  \n",
       "                  Test2         0.177770       NaN  0.099077       NaN  \n",
       "                  Test3         0.176816       NaN  0.097709       NaN  \n",
       "                  Test4         0.172165       NaN  0.097735       NaN  \n",
       "Facebook Ads      ControlGroup  0.329114  0.288160  0.238532  0.161600  \n",
       "                  Test1         0.273810  0.184472  0.190871  0.094526  \n",
       "                  Test2         0.265000  0.167948  0.184669  0.086903  \n",
       "                  Test3         0.303191  0.191398  0.197917  0.107520  \n",
       "                  Test4         0.314010  0.179941  0.198777  0.099538  \n",
       "GooglePlay        ControlGroup       NaN  0.312766       NaN  0.183521  \n",
       "                  Test1              NaN  0.174300       NaN  0.092599  \n",
       "                  Test2              NaN  0.162725       NaN  0.085986  \n",
       "                  Test3              NaN  0.178571       NaN  0.093741  \n",
       "                  Test4              NaN  0.170629       NaN  0.091000  \n",
       "else              ControlGroup       NaN  0.286307       NaN  0.157534  \n",
       "                  Test1              NaN  0.220679       NaN  0.106399  \n",
       "                  Test2              NaN  0.193593       NaN  0.092605  \n",
       "                  Test3              NaN  0.212042       NaN  0.107928  \n",
       "                  Test4              NaN  0.176538       NaN  0.091016  \n",
       "googleadwords_int ControlGroup  0.198182  0.332949  0.114376  0.192719  \n",
       "                  Test1         0.087248  0.216276  0.047575  0.119238  \n",
       "                  Test2         0.090909  0.198356  0.052786  0.111255  \n",
       "                  Test3         0.113587  0.217524  0.064807  0.125431  \n",
       "                  Test4         0.093097  0.207430  0.053807  0.121810  \n",
       "organic           ControlGroup       NaN  0.230313       NaN  0.117698  \n",
       "                  Test1              NaN  0.171073       NaN  0.076695  \n",
       "                  Test2              NaN  0.166609       NaN  0.075660  \n",
       "                  Test3              NaN  0.169257       NaN  0.079122  \n",
       "                  Test4              NaN  0.164154       NaN  0.079564  "
      ]
     },
     "execution_count": 26,
     "metadata": {},
     "output_type": "execute_result"
    },
    {
     "name": "stdout",
     "output_type": "stream",
     "text": [
      "注册到申请 t = 4.608826846419507\n",
      "注册到申请 p = 4.469292629296954e-05\n",
      "申请到放款 t = -0.22923346339763082\n",
      "申请到放款 p = 0.8199168095610875\n",
      "注册到放款 t = 1.0049695110207522\n",
      "注册到放款 p = 0.32126832875008193\n"
     ]
    }
   ],
   "source": [
    "df4_1 = df4[(df4['level_group'] != 'OneControlGroup')&(df4['level_group'] != 'OneTest1')\n",
    "            &(df4['level_group'] != 'OneTest2')&(df4['level_group'] != '对照组')]\n",
    "frame1 = pd.pivot_table(df4_1,index = ('source', 'level_group'), columns = 'source_flag',\n",
    "               values=('customer_install','application','fangkuan'),aggfunc='sum',\n",
    "              fill_value=0)\n",
    "frame1['调整渠道占比'] = frame1[('application', '调整渠道')]/frame1['application'].apply(lambda x:x.sum(),axis = 1)\n",
    "frame1[('注册到申请','调整渠道')] = frame1[('application', '调整渠道')]/frame1['customer_install', '调整渠道']\n",
    "frame1[('注册到申请','非调整渠道')] = frame1[('application', '非调整渠道')]/frame1['customer_install', '非调整渠道']\n",
    "frame1[('申请到放款','调整渠道')] = frame1[('fangkuan', '调整渠道')]/frame1[('application', '调整渠道')]\n",
    "frame1[('申请到放款','非调整渠道')] = frame1[('fangkuan', '非调整渠道')]/frame1[('application', '非调整渠道')]\n",
    "frame1[('注册到放款','调整渠道')] = frame1[('fangkuan', '调整渠道')]/frame1[('customer_install', '调整渠道')]\n",
    "frame1[('注册到放款','非调整渠道')] = frame1[('fangkuan', '非调整渠道')]/frame1[('customer_install', '非调整渠道')]\n",
    "frame1 = frame1.fillna(np.nan)\n",
    "frame1\n",
    "t1, p1 = stats.ttest_ind(frame1[('注册到申请','调整渠道')][~frame1[('注册到申请','调整渠道')].isna()],\n",
    "                         frame1[('注册到申请','非调整渠道')][~frame1[('注册到申请','非调整渠道')].isna()])\n",
    "print(\"注册到申请 t = \" + str(t1))\n",
    "print(\"注册到申请 p = \" + str(p1))\n",
    "\n",
    "t2, p2 = stats.ttest_ind(frame1[('申请到放款','调整渠道')][~frame1[('申请到放款','调整渠道')].isna()],\n",
    "                         frame1[('申请到放款','非调整渠道')][~frame1[('申请到放款','非调整渠道')].isna()])\n",
    "print(\"申请到放款 t = \" + str(t2))\n",
    "print(\"申请到放款 p = \" + str(p2))\n",
    "\n",
    "t3, p3 = stats.ttest_ind(frame1[('注册到放款','调整渠道')][~frame1[('注册到放款','调整渠道')].isna()],\n",
    "                         frame1[('注册到放款','非调整渠道')][~frame1[('注册到放款','非调整渠道')].isna()])\n",
    "print(\"注册到放款 t = \" + str(t3))\n",
    "print(\"注册到放款 p = \" + str(p3))\n",
    "\n",
    "frame1.to_excel(os.path.join(file_path,'temp1.xlsx'))\n"
   ]
  },
  {
   "cell_type": "raw",
   "metadata": {},
   "source": []
  },
  {
   "cell_type": "code",
   "execution_count": null,
   "metadata": {},
   "outputs": [],
   "source": [
    "Control vs. Test1"
   ]
  },
  {
   "cell_type": "code",
   "execution_count": 11,
   "metadata": {},
   "outputs": [
    {
     "data": {
      "text/html": [
       "<div>\n",
       "<style scoped>\n",
       "    .dataframe tbody tr th:only-of-type {\n",
       "        vertical-align: middle;\n",
       "    }\n",
       "\n",
       "    .dataframe tbody tr th {\n",
       "        vertical-align: top;\n",
       "    }\n",
       "\n",
       "    .dataframe thead tr th {\n",
       "        text-align: left;\n",
       "    }\n",
       "\n",
       "    .dataframe thead tr:last-of-type th {\n",
       "        text-align: right;\n",
       "    }\n",
       "</style>\n",
       "<table border=\"1\" class=\"dataframe\">\n",
       "  <thead>\n",
       "    <tr>\n",
       "      <th></th>\n",
       "      <th></th>\n",
       "      <th colspan=\"2\" halign=\"left\">application</th>\n",
       "      <th colspan=\"2\" halign=\"left\">customer_install</th>\n",
       "      <th colspan=\"2\" halign=\"left\">fangkuan</th>\n",
       "      <th colspan=\"2\" halign=\"left\">注册到申请</th>\n",
       "      <th colspan=\"2\" halign=\"left\">申请到放款</th>\n",
       "    </tr>\n",
       "    <tr>\n",
       "      <th></th>\n",
       "      <th>level_group</th>\n",
       "      <th>ControlGroup</th>\n",
       "      <th>Test1</th>\n",
       "      <th>ControlGroup</th>\n",
       "      <th>Test1</th>\n",
       "      <th>ControlGroup</th>\n",
       "      <th>Test1</th>\n",
       "      <th>ControlGroup</th>\n",
       "      <th>Test1</th>\n",
       "      <th>ControlGroup</th>\n",
       "      <th>Test1</th>\n",
       "    </tr>\n",
       "    <tr>\n",
       "      <th>source</th>\n",
       "      <th>source_flag</th>\n",
       "      <th></th>\n",
       "      <th></th>\n",
       "      <th></th>\n",
       "      <th></th>\n",
       "      <th></th>\n",
       "      <th></th>\n",
       "      <th></th>\n",
       "      <th></th>\n",
       "      <th></th>\n",
       "      <th></th>\n",
       "    </tr>\n",
       "  </thead>\n",
       "  <tbody>\n",
       "    <tr>\n",
       "      <th>BD</th>\n",
       "      <th>调整渠道</th>\n",
       "      <td>816</td>\n",
       "      <td>2309</td>\n",
       "      <td>1489</td>\n",
       "      <td>4249</td>\n",
       "      <td>221</td>\n",
       "      <td>384</td>\n",
       "      <td>0.548019</td>\n",
       "      <td>0.543422</td>\n",
       "      <td>0.270833</td>\n",
       "      <td>0.166306</td>\n",
       "    </tr>\n",
       "    <tr>\n",
       "      <th rowspan=\"2\" valign=\"top\">Facebook Ads</th>\n",
       "      <th>调整渠道</th>\n",
       "      <td>79</td>\n",
       "      <td>168</td>\n",
       "      <td>109</td>\n",
       "      <td>241</td>\n",
       "      <td>26</td>\n",
       "      <td>46</td>\n",
       "      <td>0.724771</td>\n",
       "      <td>0.697095</td>\n",
       "      <td>0.329114</td>\n",
       "      <td>0.273810</td>\n",
       "    </tr>\n",
       "    <tr>\n",
       "      <th>非调整渠道</th>\n",
       "      <td>701</td>\n",
       "      <td>1507</td>\n",
       "      <td>1250</td>\n",
       "      <td>2941</td>\n",
       "      <td>202</td>\n",
       "      <td>278</td>\n",
       "      <td>0.560800</td>\n",
       "      <td>0.512411</td>\n",
       "      <td>0.288160</td>\n",
       "      <td>0.184472</td>\n",
       "    </tr>\n",
       "    <tr>\n",
       "      <th>GooglePlay</th>\n",
       "      <th>非调整渠道</th>\n",
       "      <td>470</td>\n",
       "      <td>1572</td>\n",
       "      <td>801</td>\n",
       "      <td>2959</td>\n",
       "      <td>147</td>\n",
       "      <td>274</td>\n",
       "      <td>0.586767</td>\n",
       "      <td>0.531261</td>\n",
       "      <td>0.312766</td>\n",
       "      <td>0.174300</td>\n",
       "    </tr>\n",
       "    <tr>\n",
       "      <th>else</th>\n",
       "      <th>非调整渠道</th>\n",
       "      <td>241</td>\n",
       "      <td>648</td>\n",
       "      <td>438</td>\n",
       "      <td>1344</td>\n",
       "      <td>69</td>\n",
       "      <td>143</td>\n",
       "      <td>0.550228</td>\n",
       "      <td>0.482143</td>\n",
       "      <td>0.286307</td>\n",
       "      <td>0.220679</td>\n",
       "    </tr>\n",
       "    <tr>\n",
       "      <th rowspan=\"2\" valign=\"top\">googleadwords_int</th>\n",
       "      <th>调整渠道</th>\n",
       "      <td>550</td>\n",
       "      <td>1192</td>\n",
       "      <td>953</td>\n",
       "      <td>2186</td>\n",
       "      <td>109</td>\n",
       "      <td>104</td>\n",
       "      <td>0.577125</td>\n",
       "      <td>0.545288</td>\n",
       "      <td>0.198182</td>\n",
       "      <td>0.087248</td>\n",
       "    </tr>\n",
       "    <tr>\n",
       "      <th>非调整渠道</th>\n",
       "      <td>3466</td>\n",
       "      <td>7643</td>\n",
       "      <td>5988</td>\n",
       "      <td>13863</td>\n",
       "      <td>1154</td>\n",
       "      <td>1653</td>\n",
       "      <td>0.578824</td>\n",
       "      <td>0.551324</td>\n",
       "      <td>0.332949</td>\n",
       "      <td>0.216276</td>\n",
       "    </tr>\n",
       "    <tr>\n",
       "      <th>organic</th>\n",
       "      <th>非调整渠道</th>\n",
       "      <td>1181</td>\n",
       "      <td>2572</td>\n",
       "      <td>2311</td>\n",
       "      <td>5737</td>\n",
       "      <td>272</td>\n",
       "      <td>440</td>\n",
       "      <td>0.511034</td>\n",
       "      <td>0.448318</td>\n",
       "      <td>0.230313</td>\n",
       "      <td>0.171073</td>\n",
       "    </tr>\n",
       "  </tbody>\n",
       "</table>\n",
       "</div>"
      ],
      "text/plain": [
       "                               application       customer_install         \\\n",
       "level_group                   ControlGroup Test1     ControlGroup  Test1   \n",
       "source            source_flag                                              \n",
       "BD                调整渠道                 816  2309             1489   4249   \n",
       "Facebook Ads      调整渠道                  79   168              109    241   \n",
       "                  非调整渠道                701  1507             1250   2941   \n",
       "GooglePlay        非调整渠道                470  1572              801   2959   \n",
       "else              非调整渠道                241   648              438   1344   \n",
       "googleadwords_int 调整渠道                 550  1192              953   2186   \n",
       "                  非调整渠道               3466  7643             5988  13863   \n",
       "organic           非调整渠道               1181  2572             2311   5737   \n",
       "\n",
       "                                  fangkuan              注册到申请            \\\n",
       "level_group                   ControlGroup Test1 ControlGroup     Test1   \n",
       "source            source_flag                                             \n",
       "BD                调整渠道                 221   384     0.548019  0.543422   \n",
       "Facebook Ads      调整渠道                  26    46     0.724771  0.697095   \n",
       "                  非调整渠道                202   278     0.560800  0.512411   \n",
       "GooglePlay        非调整渠道                147   274     0.586767  0.531261   \n",
       "else              非调整渠道                 69   143     0.550228  0.482143   \n",
       "googleadwords_int 调整渠道                 109   104     0.577125  0.545288   \n",
       "                  非调整渠道               1154  1653     0.578824  0.551324   \n",
       "organic           非调整渠道                272   440     0.511034  0.448318   \n",
       "\n",
       "                                     申请到放款            \n",
       "level_group                   ControlGroup     Test1  \n",
       "source            source_flag                         \n",
       "BD                调整渠道            0.270833  0.166306  \n",
       "Facebook Ads      调整渠道            0.329114  0.273810  \n",
       "                  非调整渠道           0.288160  0.184472  \n",
       "GooglePlay        非调整渠道           0.312766  0.174300  \n",
       "else              非调整渠道           0.286307  0.220679  \n",
       "googleadwords_int 调整渠道            0.198182  0.087248  \n",
       "                  非调整渠道           0.332949  0.216276  \n",
       "organic           非调整渠道           0.230313  0.171073  "
      ]
     },
     "execution_count": 11,
     "metadata": {},
     "output_type": "execute_result"
    },
    {
     "name": "stdout",
     "output_type": "stream",
     "text": [
      "注册到申请 t = 1.1928640184563242\n",
      "注册到申请 p = 0.2527477401334926\n",
      "申请到放款 t = 3.7215879174437863\n",
      "申请到放款 p = 0.0022778767448105738\n"
     ]
    }
   ],
   "source": [
    "df6 = df4[(df4['level_group'] == 'ControlGroup')|(df4['level_group'] == 'Test1')]\n",
    "frame6 = pd.pivot_table(df6, index = ['source', 'source_flag'], columns = 'level_group',\n",
    "                        values= ['customer_install','application', 'fangkuan'],aggfunc='sum',fill_value=0)\n",
    "frame6[('注册到申请','ControlGroup')] = frame6[('application', 'ControlGroup')]/frame6['customer_install', 'ControlGroup']\n",
    "frame6[('注册到申请','Test1')] = frame6[('application', 'Test1')]/frame6['customer_install', 'Test1']\n",
    "frame6[('申请到放款','ControlGroup')] = frame6[('fangkuan', 'ControlGroup')]/frame6[('application', 'ControlGroup')]\n",
    "frame6[('申请到放款','Test1')] = frame6[('fangkuan', 'Test1')]/frame6[('application', 'Test1')]\n",
    "frame6\n",
    "t1, p1 = stats.ttest_ind(frame6.注册到申请.ControlGroup,\n",
    "                         frame6.注册到申请.Test1)\n",
    "print(\"注册到申请 t = \" + str(t1))\n",
    "print(\"注册到申请 p = \" + str(p1))\n",
    "\n",
    "t2, p2 = stats.ttest_ind(frame6.申请到放款.ControlGroup,\n",
    "                         frame6.申请到放款.Test1)\n",
    "print(\"申请到放款 t = \" + str(t2))\n",
    "print(\"申请到放款 p = \" + str(p2))\n",
    "frame6.to_excel(os.path.join(file_path, 'temp3.xlsx'))"
   ]
  },
  {
   "cell_type": "code",
   "execution_count": null,
   "metadata": {},
   "outputs": [],
   "source": []
  },
  {
   "cell_type": "markdown",
   "metadata": {},
   "source": [
    "# 模型分code"
   ]
  },
  {
   "cell_type": "code",
   "execution_count": 3,
   "metadata": {},
   "outputs": [],
   "source": [
    "query2 = '''\n",
    "select\n",
    "t1.media_source,\n",
    "t1.channel,\n",
    "date(t1.create_time) as reg_date,\n",
    "t1.level_group as level_group,\n",
    "t1.campaign,\n",
    "r.newusermodelscorev5,\n",
    "count(distinct t1.id) as customer_install ,\n",
    "count(distinct t2.id) as application ,\n",
    "count(distinct case when effective_date >= '2020-01-07' and loan_status not in ('DENIED', 'RESCIND', 'APPROVING', 'CREATED') then t2.id else null end)as fangkuan\n",
    "from dw_gocash_go_cash_loan_gocash_core_customer t1\n",
    "left join dw_gocash_go_cash_loan_gocash_core_loan t2 on\tt1.id = t2.customer_id\n",
    "left join rt_risk_mongo_gocash_installmentriskcontrolresult r on t2.id::varchar = r.loanid\n",
    "left join risk_mongo_gocash_installmentriskcontrolparams p on p.riskno = r.riskno\n",
    "where t1.device = 'ANDROID'  and product_code = 'UKU' and (r.newusermodelscorev5 is not null and r.newusermodelscorev5<>'')\n",
    "and t1.level_group <> '' and t1.level_group is not null and t1.level_group_time >= '2020-01-16 21:48:50'\n",
    "group by 1,2,3,4,5,6\n",
    "union all\n",
    "select\n",
    "t1.media_source,\n",
    "t1.channel,\n",
    "date(t1.create_time) as reg_date,\n",
    "'对照组' as level_group,\n",
    "t1.campaign,\n",
    "r.newusermodelscorev5,\n",
    "count(distinct t1.id) as customer_install ,\n",
    "count(distinct t2.id) as application ,\n",
    "count(distinct case when effective_date >= '2020-01-07' and loan_status not in ('DENIED', 'RESCIND', 'APPROVING', 'CREATED') then t2.id else null end)as fangkuan\n",
    "from dw_gocash_go_cash_loan_gocash_core_customer t1\n",
    "left join dw_gocash_go_cash_loan_gocash_core_loan t2 on\tt1.id = t2.customer_id\n",
    "left join rt_risk_mongo_gocash_installmentriskcontrolresult r on t2.id::varchar = r.loanid\n",
    "left join risk_mongo_gocash_installmentriskcontrolparams p on p.riskno = r.riskno\n",
    "where t1.device = 'ANDROID'  and product_code = 'UKU' and (r.newusermodelscorev5 is not null and r.newusermodelscorev5<>'')\n",
    "and t1.level_group = '' \n",
    "and date(t1.create_time)>='2020-01-10' and  date(t1.create_time)<='2020-01-16'\n",
    "group by 1,2,3,4,5,6\n",
    "\n",
    "'''"
   ]
  },
  {
   "cell_type": "code",
   "execution_count": null,
   "metadata": {},
   "outputs": [
    {
     "name": "stdout",
     "output_type": "stream",
     "text": [
      "Successful connection\n"
     ]
    }
   ],
   "source": [
    "df2 = data_con.database_gn(query2)\n",
    "save_data_to_pickle(df2, file_path, '模型监控.pkl')\n",
    "df2.shape"
   ]
  },
  {
   "cell_type": "markdown",
   "metadata": {},
   "source": [
    "# 模型分分析"
   ]
  },
  {
   "cell_type": "code",
   "execution_count": 38,
   "metadata": {},
   "outputs": [
    {
     "data": {
      "text/plain": [
       "(37911, 9)"
      ]
     },
     "execution_count": 38,
     "metadata": {},
     "output_type": "execute_result"
    },
    {
     "data": {
      "text/html": [
       "<div>\n",
       "<style scoped>\n",
       "    .dataframe tbody tr th:only-of-type {\n",
       "        vertical-align: middle;\n",
       "    }\n",
       "\n",
       "    .dataframe tbody tr th {\n",
       "        vertical-align: top;\n",
       "    }\n",
       "\n",
       "    .dataframe thead th {\n",
       "        text-align: right;\n",
       "    }\n",
       "</style>\n",
       "<table border=\"1\" class=\"dataframe\">\n",
       "  <thead>\n",
       "    <tr style=\"text-align: right;\">\n",
       "      <th></th>\n",
       "      <th>media_source</th>\n",
       "      <th>channel</th>\n",
       "      <th>reg_date</th>\n",
       "      <th>level_group</th>\n",
       "      <th>campaign</th>\n",
       "      <th>newusermodelscorev5</th>\n",
       "      <th>customer_install</th>\n",
       "      <th>application</th>\n",
       "      <th>fangkuan</th>\n",
       "      <th>source</th>\n",
       "      <th>ads</th>\n",
       "      <th>source_flag</th>\n",
       "      <th>scorev5_group</th>\n",
       "    </tr>\n",
       "  </thead>\n",
       "  <tbody>\n",
       "    <tr>\n",
       "      <th>3876</th>\n",
       "      <td>GooglePlay</td>\n",
       "      <td>GooglePlay</td>\n",
       "      <td>2020-01-10</td>\n",
       "      <td>ControlGroup</td>\n",
       "      <td></td>\n",
       "      <td>605.0</td>\n",
       "      <td>1</td>\n",
       "      <td>1</td>\n",
       "      <td>0</td>\n",
       "      <td>GooglePlay</td>\n",
       "      <td>else</td>\n",
       "      <td>非调整渠道</td>\n",
       "      <td>(594.0, 606.0]</td>\n",
       "    </tr>\n",
       "    <tr>\n",
       "      <th>3877</th>\n",
       "      <td>GooglePlay</td>\n",
       "      <td>GooglePlay</td>\n",
       "      <td>2020-01-10</td>\n",
       "      <td>Test1</td>\n",
       "      <td></td>\n",
       "      <td>641.0</td>\n",
       "      <td>1</td>\n",
       "      <td>1</td>\n",
       "      <td>1</td>\n",
       "      <td>GooglePlay</td>\n",
       "      <td>else</td>\n",
       "      <td>非调整渠道</td>\n",
       "      <td>(634.0, 641.0]</td>\n",
       "    </tr>\n",
       "    <tr>\n",
       "      <th>3878</th>\n",
       "      <td>GooglePlay</td>\n",
       "      <td>GooglePlay</td>\n",
       "      <td>2020-01-10</td>\n",
       "      <td>Test2</td>\n",
       "      <td></td>\n",
       "      <td>577.0</td>\n",
       "      <td>1</td>\n",
       "      <td>1</td>\n",
       "      <td>0</td>\n",
       "      <td>GooglePlay</td>\n",
       "      <td>else</td>\n",
       "      <td>非调整渠道</td>\n",
       "      <td>(-inf, 577.0]</td>\n",
       "    </tr>\n",
       "    <tr>\n",
       "      <th>3879</th>\n",
       "      <td>GooglePlay</td>\n",
       "      <td>GooglePlay</td>\n",
       "      <td>2020-01-10</td>\n",
       "      <td>Test2</td>\n",
       "      <td></td>\n",
       "      <td>594.0</td>\n",
       "      <td>1</td>\n",
       "      <td>1</td>\n",
       "      <td>0</td>\n",
       "      <td>GooglePlay</td>\n",
       "      <td>else</td>\n",
       "      <td>非调整渠道</td>\n",
       "      <td>(577.0, 594.0]</td>\n",
       "    </tr>\n",
       "    <tr>\n",
       "      <th>3880</th>\n",
       "      <td>GooglePlay</td>\n",
       "      <td>GooglePlay</td>\n",
       "      <td>2020-01-10</td>\n",
       "      <td>Test2</td>\n",
       "      <td></td>\n",
       "      <td>643.0</td>\n",
       "      <td>1</td>\n",
       "      <td>1</td>\n",
       "      <td>1</td>\n",
       "      <td>GooglePlay</td>\n",
       "      <td>else</td>\n",
       "      <td>非调整渠道</td>\n",
       "      <td>(641.0, 650.0]</td>\n",
       "    </tr>\n",
       "  </tbody>\n",
       "</table>\n",
       "</div>"
      ],
      "text/plain": [
       "     media_source     channel    reg_date   level_group campaign  \\\n",
       "3876   GooglePlay  GooglePlay  2020-01-10  ControlGroup            \n",
       "3877   GooglePlay  GooglePlay  2020-01-10         Test1            \n",
       "3878   GooglePlay  GooglePlay  2020-01-10         Test2            \n",
       "3879   GooglePlay  GooglePlay  2020-01-10         Test2            \n",
       "3880   GooglePlay  GooglePlay  2020-01-10         Test2            \n",
       "\n",
       "      newusermodelscorev5  customer_install  application  fangkuan  \\\n",
       "3876                605.0                 1            1         0   \n",
       "3877                641.0                 1            1         1   \n",
       "3878                577.0                 1            1         0   \n",
       "3879                594.0                 1            1         0   \n",
       "3880                643.0                 1            1         1   \n",
       "\n",
       "          source   ads source_flag   scorev5_group  \n",
       "3876  GooglePlay  else       非调整渠道  (594.0, 606.0]  \n",
       "3877  GooglePlay  else       非调整渠道  (634.0, 641.0]  \n",
       "3878  GooglePlay  else       非调整渠道   (-inf, 577.0]  \n",
       "3879  GooglePlay  else       非调整渠道  (577.0, 594.0]  \n",
       "3880  GooglePlay  else       非调整渠道  (641.0, 650.0]  "
      ]
     },
     "execution_count": 38,
     "metadata": {},
     "output_type": "execute_result"
    }
   ],
   "source": [
    "df2 = load_data_from_pickle( file_path, '模型监控.pkl')\n",
    "df2 = df2[(df2['level_group'] != 'OneControlGroup') & (df2['level_group'] != 'OneTest1') & (df2['level_group'] != 'OneTest2')]\n",
    "df2 = df2[df2['reg_date']>=pd.to_datetime('2020-01-10')]\n",
    "df2.shape\n",
    "df2['media_source'] = df2.apply(lambda x: x['channel'] if x['media_source']=='' else 'cashcash_int' if x['channel'] == 'cashcash_int' else x['media_source'],axis = 1)\n",
    "cols_meiti = ['Facebook Ads','GooglePlay','googleadwords_int','organic']\n",
    "cols_bd = ['kreditpedia','cashcash_int','affle_int','xyads_int','dokteruang_int','estrend','unions','intellectads_int',\n",
    "           'superads_int','tyroo_int','pokktperformance_int','Kredit All','invite_friend_activity_01','inmobi_int']\n",
    "df2['source'] = df2['media_source'].apply(lambda x:x if x in cols_meiti else 'BD' if x in cols_bd else 'else')\n",
    "cols2 = ['uku-fb-sm-MIN4-0115-cs',  'UKU-FB-sm-MIN2-M-0113',  'UKU-FB-sm-MIN2-V-0113',  'UKU-FB-sm-dl-02-fk-M-0114',\n",
    "         'UKU Install 02','UKU-FB-sm-MIN2-M-1127','uku-tt-sm-MIN1-0626-2','UKU-MIN2-0424-1', 'UKU-MIN2-az-fk02',\n",
    "         'UKU-MIN2-0423-1']\n",
    "df2['ads'] = df2['campaign'].apply(lambda x:x if x in cols2 else 'else')\n",
    "df2['source_flag'] = df2.apply(lambda x: '非调整渠道' if ((x['ads'] == 'else')&(x['source']!='BD')) else '调整渠道',axis = 1)\n",
    "df2['newusermodelscorev5'] =df2['newusermodelscorev5'].astype(float)\n",
    "cut_bin = [-np.Inf, 577.0,594.0,606.0,614.0,622.0,628.0,634.0,641.0,650.0,np.Inf]\n",
    "df2['scorev5_group'] = pd.cut(df2['newusermodelscorev5'], cut_bin,right = True, precision=0).astype(str)\n",
    "df2.to_excel(os.path.join(file_path,'模型分.xlsx'), index = False)\n",
    "df2.head()\n"
   ]
  },
  {
   "cell_type": "code",
   "execution_count": null,
   "metadata": {},
   "outputs": [],
   "source": [
    "fig_path = os.path.join(file_path, 'fig')\n",
    "if not os.path.exists(fig_path):\n",
    "    os.mkdir(fig_path)"
   ]
  },
  {
   "cell_type": "code",
   "execution_count": null,
   "metadata": {},
   "outputs": [],
   "source": [
    "不同渠道同一组模型分分布"
   ]
  },
  {
   "cell_type": "code",
   "execution_count": 35,
   "metadata": {},
   "outputs": [
    {
     "data": {
      "text/plain": [
       "[<matplotlib.lines.Line2D at 0x1a5aa8df10>]"
      ]
     },
     "execution_count": 35,
     "metadata": {},
     "output_type": "execute_result"
    },
    {
     "data": {
      "text/plain": [
       "[<matplotlib.lines.Line2D at 0x1a38335190>]"
      ]
     },
     "execution_count": 35,
     "metadata": {},
     "output_type": "execute_result"
    },
    {
     "data": {
      "text/plain": [
       "[<matplotlib.lines.Line2D at 0x1a38343ad0>]"
      ]
     },
     "execution_count": 35,
     "metadata": {},
     "output_type": "execute_result"
    },
    {
     "data": {
      "text/plain": [
       "[<matplotlib.lines.Line2D at 0x1a383439d0>]"
      ]
     },
     "execution_count": 35,
     "metadata": {},
     "output_type": "execute_result"
    },
    {
     "data": {
      "text/plain": [
       "<matplotlib.legend.Legend at 0x1a48b0ca90>"
      ]
     },
     "execution_count": 35,
     "metadata": {},
     "output_type": "execute_result"
    },
    {
     "data": {
      "text/plain": [
       "([0, 1, 2, 3, 4, 5, 6, 7, 8, 9], <a list of 10 Text xticklabel objects>)"
      ]
     },
     "execution_count": 35,
     "metadata": {},
     "output_type": "execute_result"
    },
    {
     "data": {
      "text/plain": [
       "Text(0.5, 1.0, 'ControlGroup 累计分布')"
      ]
     },
     "execution_count": 35,
     "metadata": {},
     "output_type": "execute_result"
    },
    {
     "data": {
      "image/png": "[encoded data removed]",
      "text/plain": [
       "<Figure size 432x288 with 1 Axes>"
      ]
     },
     "metadata": {
      "needs_background": "light"
     },
     "output_type": "display_data"
    },
    {
     "data": {
      "text/plain": [
       "[<matplotlib.lines.Line2D at 0x1a3a3ff490>]"
      ]
     },
     "execution_count": 35,
     "metadata": {},
     "output_type": "execute_result"
    },
    {
     "data": {
      "text/plain": [
       "[<matplotlib.lines.Line2D at 0x1a2dda5490>]"
      ]
     },
     "execution_count": 35,
     "metadata": {},
     "output_type": "execute_result"
    },
    {
     "data": {
      "text/plain": [
       "[<matplotlib.lines.Line2D at 0x1a2dda5390>]"
      ]
     },
     "execution_count": 35,
     "metadata": {},
     "output_type": "execute_result"
    },
    {
     "data": {
      "text/plain": [
       "[<matplotlib.lines.Line2D at 0x1a364cb1d0>]"
      ]
     },
     "execution_count": 35,
     "metadata": {},
     "output_type": "execute_result"
    },
    {
     "data": {
      "text/plain": [
       "<matplotlib.legend.Legend at 0x1a39b10c10>"
      ]
     },
     "execution_count": 35,
     "metadata": {},
     "output_type": "execute_result"
    },
    {
     "data": {
      "text/plain": [
       "([0, 1, 2, 3, 4, 5, 6, 7, 8, 9], <a list of 10 Text xticklabel objects>)"
      ]
     },
     "execution_count": 35,
     "metadata": {},
     "output_type": "execute_result"
    },
    {
     "data": {
      "text/plain": [
       "Text(0.5, 1.0, 'Test1 累计分布')"
      ]
     },
     "execution_count": 35,
     "metadata": {},
     "output_type": "execute_result"
    },
    {
     "data": {
      "image/png": "[encoded data removed]",
      "text/plain": [
       "<Figure size 432x288 with 1 Axes>"
      ]
     },
     "metadata": {
      "needs_background": "light"
     },
     "output_type": "display_data"
    },
    {
     "data": {
      "text/plain": [
       "[<matplotlib.lines.Line2D at 0x1a383319d0>]"
      ]
     },
     "execution_count": 35,
     "metadata": {},
     "output_type": "execute_result"
    },
    {
     "data": {
      "text/plain": [
       "[<matplotlib.lines.Line2D at 0x1a25ffef10>]"
      ]
     },
     "execution_count": 35,
     "metadata": {},
     "output_type": "execute_result"
    },
    {
     "data": {
      "text/plain": [
       "[<matplotlib.lines.Line2D at 0x1a25ffd650>]"
      ]
     },
     "execution_count": 35,
     "metadata": {},
     "output_type": "execute_result"
    },
    {
     "data": {
      "text/plain": [
       "[<matplotlib.lines.Line2D at 0x1a25ffb890>]"
      ]
     },
     "execution_count": 35,
     "metadata": {},
     "output_type": "execute_result"
    },
    {
     "data": {
      "text/plain": [
       "<matplotlib.legend.Legend at 0x1a58098890>"
      ]
     },
     "execution_count": 35,
     "metadata": {},
     "output_type": "execute_result"
    },
    {
     "data": {
      "text/plain": [
       "([0, 1, 2, 3, 4, 5, 6, 7, 8, 9], <a list of 10 Text xticklabel objects>)"
      ]
     },
     "execution_count": 35,
     "metadata": {},
     "output_type": "execute_result"
    },
    {
     "data": {
      "text/plain": [
       "Text(0.5, 1.0, 'Test2 累计分布')"
      ]
     },
     "execution_count": 35,
     "metadata": {},
     "output_type": "execute_result"
    },
    {
     "data": {
      "image/png": "[encoded data removed]",
      "text/plain": [
       "<Figure size 432x288 with 1 Axes>"
      ]
     },
     "metadata": {
      "needs_background": "light"
     },
     "output_type": "display_data"
    },
    {
     "data": {
      "text/plain": [
       "[<matplotlib.lines.Line2D at 0x1a2b233e90>]"
      ]
     },
     "execution_count": 35,
     "metadata": {},
     "output_type": "execute_result"
    },
    {
     "data": {
      "text/plain": [
       "[<matplotlib.lines.Line2D at 0x1a415e0a90>]"
      ]
     },
     "execution_count": 35,
     "metadata": {},
     "output_type": "execute_result"
    },
    {
     "data": {
      "text/plain": [
       "[<matplotlib.lines.Line2D at 0x1a415e0450>]"
      ]
     },
     "execution_count": 35,
     "metadata": {},
     "output_type": "execute_result"
    },
    {
     "data": {
      "text/plain": [
       "[<matplotlib.lines.Line2D at 0x1a415e0f10>]"
      ]
     },
     "execution_count": 35,
     "metadata": {},
     "output_type": "execute_result"
    },
    {
     "data": {
      "text/plain": [
       "<matplotlib.legend.Legend at 0x1a41d9b6d0>"
      ]
     },
     "execution_count": 35,
     "metadata": {},
     "output_type": "execute_result"
    },
    {
     "data": {
      "text/plain": [
       "([0, 1, 2, 3, 4, 5, 6, 7, 8, 9], <a list of 10 Text xticklabel objects>)"
      ]
     },
     "execution_count": 35,
     "metadata": {},
     "output_type": "execute_result"
    },
    {
     "data": {
      "text/plain": [
       "Text(0.5, 1.0, 'Test3 累计分布')"
      ]
     },
     "execution_count": 35,
     "metadata": {},
     "output_type": "execute_result"
    },
    {
     "data": {
      "image/png": "[encoded data removed]",
      "text/plain": [
       "<Figure size 432x288 with 1 Axes>"
      ]
     },
     "metadata": {
      "needs_background": "light"
     },
     "output_type": "display_data"
    },
    {
     "data": {
      "text/plain": [
       "[<matplotlib.lines.Line2D at 0x1a38926150>]"
      ]
     },
     "execution_count": 35,
     "metadata": {},
     "output_type": "execute_result"
    },
    {
     "data": {
      "text/plain": [
       "[<matplotlib.lines.Line2D at 0x1a3a6fad10>]"
      ]
     },
     "execution_count": 35,
     "metadata": {},
     "output_type": "execute_result"
    },
    {
     "data": {
      "text/plain": [
       "[<matplotlib.lines.Line2D at 0x1a3a6fa990>]"
      ]
     },
     "execution_count": 35,
     "metadata": {},
     "output_type": "execute_result"
    },
    {
     "data": {
      "text/plain": [
       "[<matplotlib.lines.Line2D at 0x1a3a6faa90>]"
      ]
     },
     "execution_count": 35,
     "metadata": {},
     "output_type": "execute_result"
    },
    {
     "data": {
      "text/plain": [
       "<matplotlib.legend.Legend at 0x1a41005510>"
      ]
     },
     "execution_count": 35,
     "metadata": {},
     "output_type": "execute_result"
    },
    {
     "data": {
      "text/plain": [
       "([0, 1, 2, 3, 4, 5, 6, 7, 8, 9], <a list of 10 Text xticklabel objects>)"
      ]
     },
     "execution_count": 35,
     "metadata": {},
     "output_type": "execute_result"
    },
    {
     "data": {
      "text/plain": [
       "Text(0.5, 1.0, 'Test4 累计分布')"
      ]
     },
     "execution_count": 35,
     "metadata": {},
     "output_type": "execute_result"
    },
    {
     "data": {
      "image/png": "[encoded data removed]",
      "text/plain": [
       "<Figure size 432x288 with 1 Axes>"
      ]
     },
     "metadata": {
      "needs_background": "light"
     },
     "output_type": "display_data"
    },
    {
     "data": {
      "text/plain": [
       "[<matplotlib.lines.Line2D at 0x1a2bd56650>]"
      ]
     },
     "execution_count": 35,
     "metadata": {},
     "output_type": "execute_result"
    },
    {
     "data": {
      "text/plain": [
       "[<matplotlib.lines.Line2D at 0x1a38912ad0>]"
      ]
     },
     "execution_count": 35,
     "metadata": {},
     "output_type": "execute_result"
    },
    {
     "data": {
      "text/plain": [
       "[<matplotlib.lines.Line2D at 0x1a38912910>]"
      ]
     },
     "execution_count": 35,
     "metadata": {},
     "output_type": "execute_result"
    },
    {
     "data": {
      "text/plain": [
       "[<matplotlib.lines.Line2D at 0x1a3891bf90>]"
      ]
     },
     "execution_count": 35,
     "metadata": {},
     "output_type": "execute_result"
    },
    {
     "data": {
      "text/plain": [
       "<matplotlib.legend.Legend at 0x1a2bd46bd0>"
      ]
     },
     "execution_count": 35,
     "metadata": {},
     "output_type": "execute_result"
    },
    {
     "data": {
      "text/plain": [
       "([0, 1, 2, 3, 4, 5, 6, 7, 8, 9], <a list of 10 Text xticklabel objects>)"
      ]
     },
     "execution_count": 35,
     "metadata": {},
     "output_type": "execute_result"
    },
    {
     "data": {
      "text/plain": [
       "Text(0.5, 1.0, '对照组 累计分布')"
      ]
     },
     "execution_count": 35,
     "metadata": {},
     "output_type": "execute_result"
    },
    {
     "data": {
      "image/png": "[encoded data removed]",
      "text/plain": [
       "<Figure size 432x288 with 1 Axes>"
      ]
     },
     "metadata": {
      "needs_background": "light"
     },
     "output_type": "display_data"
    }
   ],
   "source": [
    "group_list = df2['level_group'].unique().tolist()\n",
    "for group in group_list:\n",
    "    df_temp = df2[df2['level_group'] == group] \n",
    "    temp2 = pd.pivot_table(df_temp,index = 'scorev5_group',columns = 'source',values='application',aggfunc='sum', fill_value=0)\n",
    "    for cols3 in temp2.columns.tolist():\n",
    "        all = temp2[cols3].sum()\n",
    "        temp2[cols3] = temp2[cols3].cumsum(0)/all\n",
    "    col_list = ['BD','Facebook Ads','GooglePlay','googleadwords_int']\n",
    "    col_legend = []\n",
    "    for cols2 in col_list:\n",
    "        plt.plot(temp2.index, temp2[cols2])\n",
    "        df_temp1 = df_temp[df_temp['source'] == cols2]\n",
    "        avg = round((df_temp1['newusermodelscorev5']*df_temp1['application']).sum()/df_temp1['application'].sum(),2)\n",
    "        col_legend.append(cols2 + ': avg: %s'%avg)\n",
    "    plt.legend(col_legend,fontsize=5)\n",
    "    plt.xticks(rotation=20, fontsize=5)\n",
    "    plt.tick_params(labelsize=5)\n",
    "    plt.title(u'%s 累计分布'%group,fontsize=10)\n",
    "    plt.grid()\n",
    "    plt.tight_layout();\n",
    "    plt.savefig(os.path.join(fig_path, group +' 累计分布' +'.png'), format='png', dpi=300, bbox_inches = 'tight',pad_inches = 0.1)\n",
    "    plt.show()\n",
    "    plt.close();"
   ]
  },
  {
   "cell_type": "raw",
   "metadata": {},
   "source": [
    "all"
   ]
  },
  {
   "cell_type": "code",
   "execution_count": 36,
   "metadata": {
    "scrolled": true
   },
   "outputs": [
    {
     "data": {
      "image/png": "[encoded data removed]",
      "text/plain": [
       "<Figure size 432x288 with 1 Axes>"
      ]
     },
     "metadata": {
      "needs_background": "light"
     },
     "output_type": "display_data"
    }
   ],
   "source": [
    "frame = pd.pivot_table(df2,index = 'scorev5_group',columns = 'level_group',values='application',aggfunc='sum')\n",
    "for cols in frame.columns.tolist():\n",
    "    all = frame[cols].sum()\n",
    "    frame[cols] = frame[cols].cumsum(0)/all\n",
    "col_list = ['ControlGroup', 'Test1','Test2','Test3','Test4','对照组']\n",
    "# col_list = ['ControlGroup', 'Test1','Test2','Test3','Test4']\n",
    "col_legend = []\n",
    "for cols in col_list:\n",
    "    plt.plot(frame.index, frame[cols])\n",
    "    df_temp = df2[df2['level_group'] == cols]\n",
    "    avg = round((df_temp['newusermodelscorev5']*df_temp['application']).sum()/df_temp['application'].sum(),2)\n",
    "    col_legend.append(cols + ': avg: %s'%avg)\n",
    " \n",
    "plt.legend(col_legend,fontsize=5)\n",
    "plt.xticks(rotation=20, fontsize=5)\n",
    "plt.tick_params(labelsize=5)\n",
    "plt.title(u'不同组模型分分布',fontsize = 10)\n",
    "plt.grid()\n",
    "plt.tight_layout();\n",
    "plt.savefig(os.path.join(fig_path, '不同组模型分分布' + '.png'), format='png', dpi=300, bbox_inches = 'tight',pad_inches = 0.1)\n",
    "plt.show();\n",
    "plt.close();\n",
    "\n"
   ]
  },
  {
   "cell_type": "raw",
   "metadata": {},
   "source": [
    "同一渠道不同组"
   ]
  },
  {
   "cell_type": "code",
   "execution_count": 97,
   "metadata": {},
   "outputs": [
    {
     "data": {
      "text/plain": [
       "[<matplotlib.lines.Line2D at 0x1a3320f050>]"
      ]
     },
     "execution_count": 97,
     "metadata": {},
     "output_type": "execute_result"
    },
    {
     "data": {
      "text/plain": [
       "[<matplotlib.lines.Line2D at 0x1a5a3ef710>]"
      ]
     },
     "execution_count": 97,
     "metadata": {},
     "output_type": "execute_result"
    },
    {
     "data": {
      "text/plain": [
       "[<matplotlib.lines.Line2D at 0x1a5c9b6d50>]"
      ]
     },
     "execution_count": 97,
     "metadata": {},
     "output_type": "execute_result"
    },
    {
     "data": {
      "text/plain": [
       "[<matplotlib.lines.Line2D at 0x1a5c9b6150>]"
      ]
     },
     "execution_count": 97,
     "metadata": {},
     "output_type": "execute_result"
    },
    {
     "data": {
      "text/plain": [
       "[<matplotlib.lines.Line2D at 0x1a36acc3d0>]"
      ]
     },
     "execution_count": 97,
     "metadata": {},
     "output_type": "execute_result"
    },
    {
     "data": {
      "text/plain": [
       "<matplotlib.legend.Legend at 0x1a440efb50>"
      ]
     },
     "execution_count": 97,
     "metadata": {},
     "output_type": "execute_result"
    },
    {
     "data": {
      "text/plain": [
       "([0, 1, 2, 3, 4, 5, 6, 7, 8, 9], <a list of 10 Text xticklabel objects>)"
      ]
     },
     "execution_count": 97,
     "metadata": {},
     "output_type": "execute_result"
    },
    {
     "data": {
      "text/plain": [
       "Text(0.5, 1.0, 'GooglePlay 累计分布')"
      ]
     },
     "execution_count": 97,
     "metadata": {},
     "output_type": "execute_result"
    },
    {
     "data": {
      "image/png": "[encoded data removed]",
      "text/plain": [
       "<Figure size 432x288 with 1 Axes>"
      ]
     },
     "metadata": {
      "needs_background": "light"
     },
     "output_type": "display_data"
    },
    {
     "data": {
      "text/plain": [
       "[<matplotlib.lines.Line2D at 0x1a48e4fe90>]"
      ]
     },
     "execution_count": 97,
     "metadata": {},
     "output_type": "execute_result"
    },
    {
     "data": {
      "text/plain": [
       "[<matplotlib.lines.Line2D at 0x1a643bbad0>]"
      ]
     },
     "execution_count": 97,
     "metadata": {},
     "output_type": "execute_result"
    },
    {
     "data": {
      "text/plain": [
       "[<matplotlib.lines.Line2D at 0x1a47eed410>]"
      ]
     },
     "execution_count": 97,
     "metadata": {},
     "output_type": "execute_result"
    },
    {
     "data": {
      "text/plain": [
       "[<matplotlib.lines.Line2D at 0x1a643bbb50>]"
      ]
     },
     "execution_count": 97,
     "metadata": {},
     "output_type": "execute_result"
    },
    {
     "data": {
      "text/plain": [
       "[<matplotlib.lines.Line2D at 0x1a47ecd250>]"
      ]
     },
     "execution_count": 97,
     "metadata": {},
     "output_type": "execute_result"
    },
    {
     "data": {
      "text/plain": [
       "<matplotlib.legend.Legend at 0x1a331f7e10>"
      ]
     },
     "execution_count": 97,
     "metadata": {},
     "output_type": "execute_result"
    },
    {
     "data": {
      "text/plain": [
       "([0, 1, 2, 3, 4, 5, 6, 7, 8, 9], <a list of 10 Text xticklabel objects>)"
      ]
     },
     "execution_count": 97,
     "metadata": {},
     "output_type": "execute_result"
    },
    {
     "data": {
      "text/plain": [
       "Text(0.5, 1.0, 'else 累计分布')"
      ]
     },
     "execution_count": 97,
     "metadata": {},
     "output_type": "execute_result"
    },
    {
     "data": {
      "image/png": "[encoded data removed]",
      "text/plain": [
       "<Figure size 432x288 with 1 Axes>"
      ]
     },
     "metadata": {
      "needs_background": "light"
     },
     "output_type": "display_data"
    },
    {
     "data": {
      "text/plain": [
       "[<matplotlib.lines.Line2D at 0x1a47ee4950>]"
      ]
     },
     "execution_count": 97,
     "metadata": {},
     "output_type": "execute_result"
    },
    {
     "data": {
      "text/plain": [
       "[<matplotlib.lines.Line2D at 0x1a4d6a64d0>]"
      ]
     },
     "execution_count": 97,
     "metadata": {},
     "output_type": "execute_result"
    },
    {
     "data": {
      "text/plain": [
       "[<matplotlib.lines.Line2D at 0x1a4d6a6490>]"
      ]
     },
     "execution_count": 97,
     "metadata": {},
     "output_type": "execute_result"
    },
    {
     "data": {
      "text/plain": [
       "[<matplotlib.lines.Line2D at 0x1a506f13d0>]"
      ]
     },
     "execution_count": 97,
     "metadata": {},
     "output_type": "execute_result"
    },
    {
     "data": {
      "text/plain": [
       "[<matplotlib.lines.Line2D at 0x1a4d6a6ed0>]"
      ]
     },
     "execution_count": 97,
     "metadata": {},
     "output_type": "execute_result"
    },
    {
     "data": {
      "text/plain": [
       "<matplotlib.legend.Legend at 0x1a48e36710>"
      ]
     },
     "execution_count": 97,
     "metadata": {},
     "output_type": "execute_result"
    },
    {
     "data": {
      "text/plain": [
       "([0, 1, 2, 3, 4, 5, 6, 7, 8, 9], <a list of 10 Text xticklabel objects>)"
      ]
     },
     "execution_count": 97,
     "metadata": {},
     "output_type": "execute_result"
    },
    {
     "data": {
      "text/plain": [
       "Text(0.5, 1.0, 'BD 累计分布')"
      ]
     },
     "execution_count": 97,
     "metadata": {},
     "output_type": "execute_result"
    },
    {
     "data": {
      "image/png": "[encoded data removed]",
      "text/plain": [
       "<Figure size 432x288 with 1 Axes>"
      ]
     },
     "metadata": {
      "needs_background": "light"
     },
     "output_type": "display_data"
    },
    {
     "data": {
      "text/plain": [
       "[<matplotlib.lines.Line2D at 0x1a47ed9d90>]"
      ]
     },
     "execution_count": 97,
     "metadata": {},
     "output_type": "execute_result"
    },
    {
     "data": {
      "text/plain": [
       "[<matplotlib.lines.Line2D at 0x1a44458c90>]"
      ]
     },
     "execution_count": 97,
     "metadata": {},
     "output_type": "execute_result"
    },
    {
     "data": {
      "text/plain": [
       "[<matplotlib.lines.Line2D at 0x1a44458790>]"
      ]
     },
     "execution_count": 97,
     "metadata": {},
     "output_type": "execute_result"
    },
    {
     "data": {
      "text/plain": [
       "[<matplotlib.lines.Line2D at 0x1a404154d0>]"
      ]
     },
     "execution_count": 97,
     "metadata": {},
     "output_type": "execute_result"
    },
    {
     "data": {
      "text/plain": [
       "[<matplotlib.lines.Line2D at 0x1a444584d0>]"
      ]
     },
     "execution_count": 97,
     "metadata": {},
     "output_type": "execute_result"
    },
    {
     "data": {
      "text/plain": [
       "<matplotlib.legend.Legend at 0x1a643bb750>"
      ]
     },
     "execution_count": 97,
     "metadata": {},
     "output_type": "execute_result"
    },
    {
     "data": {
      "text/plain": [
       "([0, 1, 2, 3, 4, 5, 6, 7, 8, 9], <a list of 10 Text xticklabel objects>)"
      ]
     },
     "execution_count": 97,
     "metadata": {},
     "output_type": "execute_result"
    },
    {
     "data": {
      "text/plain": [
       "Text(0.5, 1.0, 'Facebook Ads 累计分布')"
      ]
     },
     "execution_count": 97,
     "metadata": {},
     "output_type": "execute_result"
    },
    {
     "data": {
      "image/png": "[encoded data removed]",
      "text/plain": [
       "<Figure size 432x288 with 1 Axes>"
      ]
     },
     "metadata": {
      "needs_background": "light"
     },
     "output_type": "display_data"
    },
    {
     "data": {
      "text/plain": [
       "[<matplotlib.lines.Line2D at 0x1a506c53d0>]"
      ]
     },
     "execution_count": 97,
     "metadata": {},
     "output_type": "execute_result"
    },
    {
     "data": {
      "text/plain": [
       "[<matplotlib.lines.Line2D at 0x1a5ba08110>]"
      ]
     },
     "execution_count": 97,
     "metadata": {},
     "output_type": "execute_result"
    },
    {
     "data": {
      "text/plain": [
       "[<matplotlib.lines.Line2D at 0x1a5ba08450>]"
      ]
     },
     "execution_count": 97,
     "metadata": {},
     "output_type": "execute_result"
    },
    {
     "data": {
      "text/plain": [
       "[<matplotlib.lines.Line2D at 0x1a5ba08350>]"
      ]
     },
     "execution_count": 97,
     "metadata": {},
     "output_type": "execute_result"
    },
    {
     "data": {
      "text/plain": [
       "[<matplotlib.lines.Line2D at 0x1a5b9f4690>]"
      ]
     },
     "execution_count": 97,
     "metadata": {},
     "output_type": "execute_result"
    },
    {
     "data": {
      "text/plain": [
       "<matplotlib.legend.Legend at 0x1a506f4a90>"
      ]
     },
     "execution_count": 97,
     "metadata": {},
     "output_type": "execute_result"
    },
    {
     "data": {
      "text/plain": [
       "([0, 1, 2, 3, 4, 5, 6, 7, 8, 9], <a list of 10 Text xticklabel objects>)"
      ]
     },
     "execution_count": 97,
     "metadata": {},
     "output_type": "execute_result"
    },
    {
     "data": {
      "text/plain": [
       "Text(0.5, 1.0, 'googleadwords_int 累计分布')"
      ]
     },
     "execution_count": 97,
     "metadata": {},
     "output_type": "execute_result"
    },
    {
     "data": {
      "image/png": "[encoded data removed]",
      "text/plain": [
       "<Figure size 432x288 with 1 Axes>"
      ]
     },
     "metadata": {
      "needs_background": "light"
     },
     "output_type": "display_data"
    },
    {
     "data": {
      "text/plain": [
       "[<matplotlib.lines.Line2D at 0x1a40415b10>]"
      ]
     },
     "execution_count": 97,
     "metadata": {},
     "output_type": "execute_result"
    },
    {
     "data": {
      "text/plain": [
       "[<matplotlib.lines.Line2D at 0x1a33a102d0>]"
      ]
     },
     "execution_count": 97,
     "metadata": {},
     "output_type": "execute_result"
    },
    {
     "data": {
      "text/plain": [
       "[<matplotlib.lines.Line2D at 0x1a33a106d0>]"
      ]
     },
     "execution_count": 97,
     "metadata": {},
     "output_type": "execute_result"
    },
    {
     "data": {
      "text/plain": [
       "[<matplotlib.lines.Line2D at 0x1a33a10b10>]"
      ]
     },
     "execution_count": 97,
     "metadata": {},
     "output_type": "execute_result"
    },
    {
     "data": {
      "text/plain": [
       "[<matplotlib.lines.Line2D at 0x1a3b5b6190>]"
      ]
     },
     "execution_count": 97,
     "metadata": {},
     "output_type": "execute_result"
    },
    {
     "data": {
      "text/plain": [
       "<matplotlib.legend.Legend at 0x1a3d881a50>"
      ]
     },
     "execution_count": 97,
     "metadata": {},
     "output_type": "execute_result"
    },
    {
     "data": {
      "text/plain": [
       "([0, 1, 2, 3, 4, 5, 6, 7, 8, 9], <a list of 10 Text xticklabel objects>)"
      ]
     },
     "execution_count": 97,
     "metadata": {},
     "output_type": "execute_result"
    },
    {
     "data": {
      "text/plain": [
       "Text(0.5, 1.0, 'organic 累计分布')"
      ]
     },
     "execution_count": 97,
     "metadata": {},
     "output_type": "execute_result"
    },
    {
     "data": {
      "image/png": "[encoded data removed]",
      "text/plain": [
       "<Figure size 432x288 with 1 Axes>"
      ]
     },
     "metadata": {
      "needs_background": "light"
     },
     "output_type": "display_data"
    }
   ],
   "source": [
    "# 累计分布 \n",
    "df2 = df2[df2['reg_date']>=pd.to_datetime('2020-01-10')]\n",
    "source_list = df2['source'].unique().tolist()\n",
    "for qd in source_list:\n",
    "    df_temp = df2[df2['source'] == qd] \n",
    "    temp2 = pd.pivot_table(df_temp,index = 'scorev5_group',columns = 'level_group',values='application',aggfunc='sum', fill_value=0)\n",
    "    for cols3 in temp2.columns.tolist():\n",
    "        all = temp2[cols3].sum()\n",
    "        temp2[cols3] = temp2[cols3].cumsum(0)/all\n",
    "    col_list = ['ControlGroup','Test1','Test2','Test3','Test4']\n",
    "    col_legend = []\n",
    "    for cols2 in col_list:\n",
    "        plt.plot(temp2.index, temp2[cols2])\n",
    "        df_temp1 = df_temp[df_temp['level_group'] == cols2]\n",
    "        avg = round((df_temp1['newusermodelscorev5']*df_temp1['application']).sum()/df_temp1['application'].sum(),2)\n",
    "        col_legend.append(cols2 + ': avg: %s'%avg)\n",
    "    plt.legend(col_legend,fontsize=5)\n",
    "    plt.xticks(rotation=20, fontsize=5)\n",
    "    plt.tick_params(labelsize=5)\n",
    "    plt.title(u'%s 累计分布'%qd,fontsize=10)\n",
    "    plt.grid()\n",
    "    plt.tight_layout();\n",
    "    plt.savefig(os.path.join(fig_path, qd +' 累计分布' +'.png'), format='png', dpi=300, bbox_inches = 'tight',pad_inches = 0.1)\n",
    "    plt.show()\n",
    "    plt.close();"
   ]
  },
  {
   "cell_type": "code",
   "execution_count": null,
   "metadata": {},
   "outputs": [],
   "source": [
    "对照组 VS control"
   ]
  },
  {
   "cell_type": "code",
   "execution_count": 43,
   "metadata": {},
   "outputs": [
    {
     "data": {
      "text/plain": [
       "'ControlGroup'"
      ]
     },
     "execution_count": 43,
     "metadata": {},
     "output_type": "execute_result"
    },
    {
     "data": {
      "text/plain": [
       "[<matplotlib.lines.Line2D at 0x1a4c890e90>]"
      ]
     },
     "execution_count": 43,
     "metadata": {},
     "output_type": "execute_result"
    },
    {
     "data": {
      "text/plain": [
       "597.33"
      ]
     },
     "execution_count": 43,
     "metadata": {},
     "output_type": "execute_result"
    },
    {
     "data": {
      "text/plain": [
       "'对照组'"
      ]
     },
     "execution_count": 43,
     "metadata": {},
     "output_type": "execute_result"
    },
    {
     "data": {
      "text/plain": [
       "[<matplotlib.lines.Line2D at 0x1a4b3eeb90>]"
      ]
     },
     "execution_count": 43,
     "metadata": {},
     "output_type": "execute_result"
    },
    {
     "data": {
      "text/plain": [
       "596.33"
      ]
     },
     "execution_count": 43,
     "metadata": {},
     "output_type": "execute_result"
    },
    {
     "data": {
      "text/plain": [
       "<matplotlib.legend.Legend at 0x1a32288d50>"
      ]
     },
     "execution_count": 43,
     "metadata": {},
     "output_type": "execute_result"
    },
    {
     "data": {
      "text/plain": [
       "([0, 1, 2, 3, 4, 5, 6, 7, 8, 9], <a list of 10 Text xticklabel objects>)"
      ]
     },
     "execution_count": 43,
     "metadata": {},
     "output_type": "execute_result"
    },
    {
     "data": {
      "text/plain": [
       "Text(0.5, 1.0, 'GooglePlay 随时间变化')"
      ]
     },
     "execution_count": 43,
     "metadata": {},
     "output_type": "execute_result"
    },
    {
     "data": {
      "image/png": "[encoded data removed]",
      "text/plain": [
       "<Figure size 432x288 with 1 Axes>"
      ]
     },
     "metadata": {
      "needs_background": "light"
     },
     "output_type": "display_data"
    },
    {
     "data": {
      "text/plain": [
       "'ControlGroup'"
      ]
     },
     "execution_count": 43,
     "metadata": {},
     "output_type": "execute_result"
    },
    {
     "data": {
      "text/plain": [
       "[<matplotlib.lines.Line2D at 0x1a4b24ed10>]"
      ]
     },
     "execution_count": 43,
     "metadata": {},
     "output_type": "execute_result"
    },
    {
     "data": {
      "text/plain": [
       "603.15"
      ]
     },
     "execution_count": 43,
     "metadata": {},
     "output_type": "execute_result"
    },
    {
     "data": {
      "text/plain": [
       "'对照组'"
      ]
     },
     "execution_count": 43,
     "metadata": {},
     "output_type": "execute_result"
    },
    {
     "data": {
      "text/plain": [
       "[<matplotlib.lines.Line2D at 0x1a4b0d7890>]"
      ]
     },
     "execution_count": 43,
     "metadata": {},
     "output_type": "execute_result"
    },
    {
     "data": {
      "text/plain": [
       "596.12"
      ]
     },
     "execution_count": 43,
     "metadata": {},
     "output_type": "execute_result"
    },
    {
     "data": {
      "text/plain": [
       "<matplotlib.legend.Legend at 0x1a451a6a50>"
      ]
     },
     "execution_count": 43,
     "metadata": {},
     "output_type": "execute_result"
    },
    {
     "data": {
      "text/plain": [
       "([0, 1, 2, 3, 4, 5, 6, 7, 8, 9], <a list of 10 Text xticklabel objects>)"
      ]
     },
     "execution_count": 43,
     "metadata": {},
     "output_type": "execute_result"
    },
    {
     "data": {
      "text/plain": [
       "Text(0.5, 1.0, 'else 随时间变化')"
      ]
     },
     "execution_count": 43,
     "metadata": {},
     "output_type": "execute_result"
    },
    {
     "data": {
      "image/png": "[encoded data removed]",
      "text/plain": [
       "<Figure size 432x288 with 1 Axes>"
      ]
     },
     "metadata": {
      "needs_background": "light"
     },
     "output_type": "display_data"
    },
    {
     "data": {
      "text/plain": [
       "'ControlGroup'"
      ]
     },
     "execution_count": 43,
     "metadata": {},
     "output_type": "execute_result"
    },
    {
     "data": {
      "text/plain": [
       "[<matplotlib.lines.Line2D at 0x1a4be002d0>]"
      ]
     },
     "execution_count": 43,
     "metadata": {},
     "output_type": "execute_result"
    },
    {
     "data": {
      "text/plain": [
       "598.16"
      ]
     },
     "execution_count": 43,
     "metadata": {},
     "output_type": "execute_result"
    },
    {
     "data": {
      "text/plain": [
       "'对照组'"
      ]
     },
     "execution_count": 43,
     "metadata": {},
     "output_type": "execute_result"
    },
    {
     "data": {
      "text/plain": [
       "[<matplotlib.lines.Line2D at 0x1a4ad61990>]"
      ]
     },
     "execution_count": 43,
     "metadata": {},
     "output_type": "execute_result"
    },
    {
     "data": {
      "text/plain": [
       "595.61"
      ]
     },
     "execution_count": 43,
     "metadata": {},
     "output_type": "execute_result"
    },
    {
     "data": {
      "text/plain": [
       "<matplotlib.legend.Legend at 0x1a37cbd910>"
      ]
     },
     "execution_count": 43,
     "metadata": {},
     "output_type": "execute_result"
    },
    {
     "data": {
      "text/plain": [
       "([0, 1, 2, 3, 4, 5, 6, 7, 8, 9], <a list of 10 Text xticklabel objects>)"
      ]
     },
     "execution_count": 43,
     "metadata": {},
     "output_type": "execute_result"
    },
    {
     "data": {
      "text/plain": [
       "Text(0.5, 1.0, 'BD 随时间变化')"
      ]
     },
     "execution_count": 43,
     "metadata": {},
     "output_type": "execute_result"
    },
    {
     "data": {
      "image/png": "[encoded data removed]",
      "text/plain": [
       "<Figure size 432x288 with 1 Axes>"
      ]
     },
     "metadata": {
      "needs_background": "light"
     },
     "output_type": "display_data"
    },
    {
     "data": {
      "text/plain": [
       "'ControlGroup'"
      ]
     },
     "execution_count": 43,
     "metadata": {},
     "output_type": "execute_result"
    },
    {
     "data": {
      "text/plain": [
       "[<matplotlib.lines.Line2D at 0x1a4ad4ef10>]"
      ]
     },
     "execution_count": 43,
     "metadata": {},
     "output_type": "execute_result"
    },
    {
     "data": {
      "text/plain": [
       "599.57"
      ]
     },
     "execution_count": 43,
     "metadata": {},
     "output_type": "execute_result"
    },
    {
     "data": {
      "text/plain": [
       "'对照组'"
      ]
     },
     "execution_count": 43,
     "metadata": {},
     "output_type": "execute_result"
    },
    {
     "data": {
      "text/plain": [
       "[<matplotlib.lines.Line2D at 0x1a4bbd1590>]"
      ]
     },
     "execution_count": 43,
     "metadata": {},
     "output_type": "execute_result"
    },
    {
     "data": {
      "text/plain": [
       "595.06"
      ]
     },
     "execution_count": 43,
     "metadata": {},
     "output_type": "execute_result"
    },
    {
     "data": {
      "text/plain": [
       "<matplotlib.legend.Legend at 0x1a4ca76110>"
      ]
     },
     "execution_count": 43,
     "metadata": {},
     "output_type": "execute_result"
    },
    {
     "data": {
      "text/plain": [
       "([0, 1, 2, 3, 4, 5, 6, 7, 8, 9], <a list of 10 Text xticklabel objects>)"
      ]
     },
     "execution_count": 43,
     "metadata": {},
     "output_type": "execute_result"
    },
    {
     "data": {
      "text/plain": [
       "Text(0.5, 1.0, 'Facebook Ads 随时间变化')"
      ]
     },
     "execution_count": 43,
     "metadata": {},
     "output_type": "execute_result"
    },
    {
     "data": {
      "image/png": "[encoded data removed]",
      "text/plain": [
       "<Figure size 432x288 with 1 Axes>"
      ]
     },
     "metadata": {
      "needs_background": "light"
     },
     "output_type": "display_data"
    },
    {
     "data": {
      "text/plain": [
       "'ControlGroup'"
      ]
     },
     "execution_count": 43,
     "metadata": {},
     "output_type": "execute_result"
    },
    {
     "data": {
      "text/plain": [
       "[<matplotlib.lines.Line2D at 0x1a4ca1d090>]"
      ]
     },
     "execution_count": 43,
     "metadata": {},
     "output_type": "execute_result"
    },
    {
     "data": {
      "text/plain": [
       "599.88"
      ]
     },
     "execution_count": 43,
     "metadata": {},
     "output_type": "execute_result"
    },
    {
     "data": {
      "text/plain": [
       "'对照组'"
      ]
     },
     "execution_count": 43,
     "metadata": {},
     "output_type": "execute_result"
    },
    {
     "data": {
      "text/plain": [
       "[<matplotlib.lines.Line2D at 0x1a4c9f31d0>]"
      ]
     },
     "execution_count": 43,
     "metadata": {},
     "output_type": "execute_result"
    },
    {
     "data": {
      "text/plain": [
       "594.02"
      ]
     },
     "execution_count": 43,
     "metadata": {},
     "output_type": "execute_result"
    },
    {
     "data": {
      "text/plain": [
       "<matplotlib.legend.Legend at 0x1a4bbc62d0>"
      ]
     },
     "execution_count": 43,
     "metadata": {},
     "output_type": "execute_result"
    },
    {
     "data": {
      "text/plain": [
       "([0, 1, 2, 3, 4, 5, 6, 7, 8, 9], <a list of 10 Text xticklabel objects>)"
      ]
     },
     "execution_count": 43,
     "metadata": {},
     "output_type": "execute_result"
    },
    {
     "data": {
      "text/plain": [
       "Text(0.5, 1.0, 'googleadwords_int 随时间变化')"
      ]
     },
     "execution_count": 43,
     "metadata": {},
     "output_type": "execute_result"
    },
    {
     "data": {
      "image/png": "[encoded data removed]",
      "text/plain": [
       "<Figure size 432x288 with 1 Axes>"
      ]
     },
     "metadata": {
      "needs_background": "light"
     },
     "output_type": "display_data"
    },
    {
     "data": {
      "text/plain": [
       "'ControlGroup'"
      ]
     },
     "execution_count": 43,
     "metadata": {},
     "output_type": "execute_result"
    },
    {
     "data": {
      "text/plain": [
       "[<matplotlib.lines.Line2D at 0x1a490e1090>]"
      ]
     },
     "execution_count": 43,
     "metadata": {},
     "output_type": "execute_result"
    },
    {
     "data": {
      "text/plain": [
       "595.57"
      ]
     },
     "execution_count": 43,
     "metadata": {},
     "output_type": "execute_result"
    },
    {
     "data": {
      "text/plain": [
       "'对照组'"
      ]
     },
     "execution_count": 43,
     "metadata": {},
     "output_type": "execute_result"
    },
    {
     "data": {
      "text/plain": [
       "[<matplotlib.lines.Line2D at 0x1a49104610>]"
      ]
     },
     "execution_count": 43,
     "metadata": {},
     "output_type": "execute_result"
    },
    {
     "data": {
      "text/plain": [
       "593.17"
      ]
     },
     "execution_count": 43,
     "metadata": {},
     "output_type": "execute_result"
    },
    {
     "data": {
      "text/plain": [
       "<matplotlib.legend.Legend at 0x1a4ab66350>"
      ]
     },
     "execution_count": 43,
     "metadata": {},
     "output_type": "execute_result"
    },
    {
     "data": {
      "text/plain": [
       "([0, 1, 2, 3, 4, 5, 6, 7, 8, 9], <a list of 10 Text xticklabel objects>)"
      ]
     },
     "execution_count": 43,
     "metadata": {},
     "output_type": "execute_result"
    },
    {
     "data": {
      "text/plain": [
       "Text(0.5, 1.0, 'organic 随时间变化')"
      ]
     },
     "execution_count": 43,
     "metadata": {},
     "output_type": "execute_result"
    },
    {
     "data": {
      "image/png": "[encoded data removed]",
      "text/plain": [
       "<Figure size 432x288 with 1 Axes>"
      ]
     },
     "metadata": {
      "needs_background": "light"
     },
     "output_type": "display_data"
    }
   ],
   "source": [
    "# 累计分布 \n",
    "df2 = df2[df2['reg_date']>=pd.to_datetime('2020-01-10')]\n",
    "source_list = df2['source'].unique().tolist()\n",
    "for qd in source_list:\n",
    "    df_temp = df2[df2['source'] == qd] \n",
    "    temp2 = pd.pivot_table(df_temp,index = 'scorev5_group',columns = 'level_group',values='application',aggfunc='sum', fill_value=0)\n",
    "    for cols3 in temp2.columns.tolist():\n",
    "        all = temp2[cols3].sum()\n",
    "        temp2[cols3] = temp2[cols3].cumsum(0)/all\n",
    "    col_list = ['ControlGroup','对照组']\n",
    "    col_legend = []\n",
    "    for cols2 in col_list:\n",
    "        cols2\n",
    "        plt.plot(temp2.index, temp2[cols2])\n",
    "        df_temp1 = df_temp[df_temp['level_group'] == cols2]\n",
    "        avg = round((df_temp1['newusermodelscorev5']*df_temp1['application']).sum()/df_temp1['application'].sum(),2)\n",
    "        avg\n",
    "        col_legend.append(cols2 + ': avg: %s'%avg)\n",
    "    plt.legend(col_legend,fontsize=5)\n",
    "    plt.xticks(rotation=20, fontsize=5)\n",
    "    plt.tick_params(labelsize=5)\n",
    "    plt.title(u'%s 随时间变化'%qd,fontsize=10)\n",
    "    plt.grid()\n",
    "    plt.tight_layout();\n",
    "    plt.savefig(os.path.join(fig_path, qd +' 随时间变化' +'.png'), format='png', dpi=300, bbox_inches = 'tight',pad_inches = 0.1)\n",
    "    plt.show()\n",
    "    plt.close();"
   ]
  },
  {
   "cell_type": "code",
   "execution_count": null,
   "metadata": {},
   "outputs": [],
   "source": []
  },
  {
   "cell_type": "code",
   "execution_count": null,
   "metadata": {},
   "outputs": [],
   "source": []
  },
  {
   "cell_type": "code",
   "execution_count": null,
   "metadata": {},
   "outputs": [],
   "source": []
  }
 ],
 "metadata": {
  "kernelspec": {
   "display_name": "Python 3",
   "language": "python",
   "name": "python3"
  },
  "language_info": {
   "codemirror_mode": {
    "name": "ipython",
    "version": 3
   },
   "file_extension": ".py",
   "mimetype": "text/x-python",
   "name": "python",
   "nbconvert_exporter": "python",
   "pygments_lexer": "ipython3",
   "version": "3.7.6"
  },
  "latex_envs": {
   "LaTeX_envs_menu_present": true,
   "autoclose": false,
   "autocomplete": true,
   "bibliofile": "biblio.bib",
   "cite_by": "apalike",
   "current_citInitial": 1,
   "eqLabelWithNumbers": true,
   "eqNumInitial": 1,
   "hotkeys": {
    "equation": "Ctrl-E",
    "itemize": "Ctrl-I"
   },
   "labels_anchors": false,
   "latex_user_defs": false,
   "report_style_numbering": false,
   "user_envs_cfg": false
  },
  "toc": {
   "base_numbering": 1,
   "nav_menu": {},
   "number_sections": true,
   "sideBar": true,
   "skip_h1_title": false,
   "title_cell": "Table of Contents",
   "title_sidebar": "Contents",
   "toc_cell": false,
   "toc_position": {
    "height": "calc(100% - 180px)",
    "left": "10px",
    "top": "150px",
    "width": "287.796875px"
   },
   "toc_section_display": true,
   "toc_window_display": true
  },
  "varInspector": {
   "cols": {
    "lenName": 16,
    "lenType": 16,
    "lenVar": 40
   },
   "kernels_config": {
    "python": {
     "delete_cmd_postfix": "",
     "delete_cmd_prefix": "del ",
     "library": "var_list.py",
     "varRefreshCmd": "print(var_dic_list())"
    },
    "r": {
     "delete_cmd_postfix": ") ",
     "delete_cmd_prefix": "rm(",
     "library": "var_list.r",
     "varRefreshCmd": "cat(var_dic_list()) "
    }
   },
   "types_to_exclude": [
    "module",
    "function",
    "builtin_function_or_method",
    "instance",
    "_Feature"
   ],
   "window_display": false
  }
 },
 "nbformat": 4,
 "nbformat_minor": 2
}
