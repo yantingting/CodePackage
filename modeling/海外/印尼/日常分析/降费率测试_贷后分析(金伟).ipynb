{
 "cells": [
  {
   "cell_type": "code",
   "execution_count": 1,
   "metadata": {},
   "outputs": [],
   "source": [
    "import datetime\n",
    "import os\n",
    "import pandas as pd\n",
    "import numpy as np\n",
    "import sys\n",
    "import math\n",
    "from scipy.stats import ttest_ind_from_stats\n",
    "\n",
    "sys.path.append('C:/workspace/repos/genie')\n",
    "\n",
    "from utils3.data_io_utils import *"
   ]
  },
  {
   "cell_type": "code",
   "execution_count": 18,
   "metadata": {},
   "outputs": [
    {
     "name": "stdout",
     "output_type": "stream",
     "text": [
      "current Function [get_df_from_pg] run time is 5.09\n"
     ]
    }
   ],
   "source": [
    "daihou_sql=\"\"\"\n",
    "select\n",
    "\treturn_flag,\n",
    "\tapproved_period,\n",
    "\tcase\n",
    "\t\twhen media_source in('kreditpedia',\n",
    "\t\t'cashcash_int',\n",
    "\t\t'affle_int',\n",
    "\t\t'xyads_int',\n",
    "\t\t'dokteruang_int',\n",
    "\t\t'unions',\n",
    "\t\t'intellectads_int',\n",
    "\t\t'superads_int',\n",
    "\t\t'tyroo_int',\n",
    "\t\t'pokktperformance_int',\n",
    "\t\t'Kredit All',\n",
    "\t\t'invite_friend_activity_01',\n",
    "\t\t'inmobi_int',\n",
    "\t\t'estrend') then 'BD'\n",
    "\t\twhen media_source = 'Facebook Ads' then 'Facebook Ads'\n",
    "\t\twhen media_source in('GooglePlay',\n",
    "\t\t'googleplay') then 'GooglePlay'\n",
    "\t\twhen media_source = 'googleadwords_int' then 'googleadwords_int'\n",
    "\t\twhen media_source = 'organic' then 'organic'\n",
    "\t\telse 'else'\n",
    "end as channelgroup,\n",
    "\tgroupup,\n",
    "\tcount(distinct loan_id) as cnt_num,\n",
    "\tcount(distinct case when late_date-effective_date = approved_period then loan_id end) dpd1\n",
    "from\n",
    "\t(\n",
    "\tselect\n",
    "\t\tt1.id loan_id,\n",
    "\t\teffective_date,\n",
    "\t\treturn_flag,\n",
    "\t\tloan_status,\n",
    "\t\tapproved_period,\n",
    "\t\tlate_date,\n",
    "\t\tapproved_principal,\n",
    "\t\tcase\n",
    "\t\t\twhen media_source is null\n",
    "\t\t\tor media_source = '' then channel\n",
    "\t\t\telse media_source\n",
    "\tend as media_source,\n",
    "\t\tcase\n",
    "\t\t\twhen \"grouping\" like '%ControlGroup%' then 'ControlGroup'\n",
    "\t\t\twhen \"grouping\" like '%Test1%' then 'Test1'\n",
    "\t\t\twhen \"grouping\" like '%Test2%' then 'Test2'\n",
    "\t\t\twhen \"grouping\" like '%Test3%' then 'Test3'\n",
    "\t\t\twhen \"grouping\" like '%Test4%' then 'Test4'\n",
    "\t\t\telse \"grouping\"\n",
    "\tend as groupup,\n",
    "\t\tcase\n",
    "\t\t\twhen loan_status = 'COLLECTION' then current_date-late_date\n",
    "\t\t\telse round(late_fee /(approved_principal*0.025))::int\n",
    "\tend as DPD\n",
    "\tfrom\n",
    "\t\t(\n",
    "\t\tselect\n",
    "\t\t\t*\n",
    "\t\tfrom\n",
    "\t\t\tdw_gocash_go_cash_loan_gocash_core_loan\n",
    "\t\twhere\n",
    "\t\t\teffective_date is not null\n",
    "\t\t\tand effective_date_accurate  >='2020-01-17 12:00:00'::timestamp\n",
    "\t\t\tand effective_date <= '2020-01-19'\n",
    "\t\t\tand loan_status not in ('DENIED',\n",
    "\t\t\t'RESCIND',\n",
    "\t\t\t'APPROVING',\n",
    "\t\t\t'CREATED')) t1\n",
    "\tleft join (\n",
    "\t\tselect\n",
    "\t\t\t*\n",
    "\t\tfrom\n",
    "\t\t\t(\n",
    "\t\t\tselect\n",
    "\t\t\t\torder_id,\n",
    "\t\t\t\tlate_date,\n",
    "\t\t\t\trow_number() over(partition by order_id\n",
    "\t\t\torder by\n",
    "\t\t\t\tlate_date asc) as num\n",
    "\t\t\tfrom\n",
    "\t\t\t\tdw_gocash_gocash_collection_col_case\n",
    "\t\t\twhere\n",
    "\t\t\t\t(order_status = 'COLLECTION_PAIDOFF'\n",
    "\t\t\t\tor order_status = 'COLLECTION')\n",
    "\t\t\t\tand app_id not in ('Credits',\n",
    "\t\t\t\t'KASANDAAI'))t\n",
    "\t\twhere\n",
    "\t\t\tnum = 1) t2 on\n",
    "\t\tt1.id = t2.order_id\n",
    "\tleft join (\n",
    "\t\tselect\n",
    "\t\t\tid,\n",
    "\t\t\tmedia_source\n",
    "\t\tfrom\n",
    "\t\t\tpublic.dw_gocash_go_cash_loan_gocash_core_customer ) t3 on\n",
    "\t\tt1.customer_id = t3.id)t\n",
    "group by\n",
    "\t1,\n",
    "\t2,\n",
    "\t3,\n",
    "\t4\n",
    "\"\"\"\n",
    "daihou_data=get_df_from_pg(daihou_sql)"
   ]
  },
  {
   "cell_type": "markdown",
   "metadata": {},
   "source": [
    "### 新老首逾"
   ]
  },
  {
   "cell_type": "code",
   "execution_count": 19,
   "metadata": {},
   "outputs": [],
   "source": [
    "daihou_data_new=daihou_data[daihou_data['return_flag']=='false']\n",
    "daihou_data_old=daihou_data[daihou_data['return_flag']=='true']"
   ]
  },
  {
   "cell_type": "code",
   "execution_count": 20,
   "metadata": {},
   "outputs": [],
   "source": [
    "daihou_data_new_sum=daihou_data_new.groupby('groupup')['dpd1','cnt_num'].sum()"
   ]
  },
  {
   "cell_type": "code",
   "execution_count": 21,
   "metadata": {},
   "outputs": [],
   "source": [
    "daihou_data_new_sum=daihou_data_new_sum.reset_index()"
   ]
  },
  {
   "cell_type": "code",
   "execution_count": 30,
   "metadata": {},
   "outputs": [],
   "source": [
    "daihou_data_new_sum['dpd1_rate']=daihou_data_new_sum['dpd1']/daihou_data_new_sum['cnt_num']"
   ]
  },
  {
   "cell_type": "code",
   "execution_count": 29,
   "metadata": {},
   "outputs": [
    {
     "data": {
      "text/html": [
       "<div>\n",
       "<style scoped>\n",
       "    .dataframe tbody tr th:only-of-type {\n",
       "        vertical-align: middle;\n",
       "    }\n",
       "\n",
       "    .dataframe tbody tr th {\n",
       "        vertical-align: top;\n",
       "    }\n",
       "\n",
       "    .dataframe thead th {\n",
       "        text-align: right;\n",
       "    }\n",
       "</style>\n",
       "<table border=\"1\" class=\"dataframe\">\n",
       "  <thead>\n",
       "    <tr style=\"text-align: right;\">\n",
       "      <th></th>\n",
       "      <th>groupup</th>\n",
       "      <th>dpd1</th>\n",
       "      <th>cnt_num</th>\n",
       "      <th>dpd1_rate</th>\n",
       "    </tr>\n",
       "  </thead>\n",
       "  <tbody>\n",
       "    <tr>\n",
       "      <th>0</th>\n",
       "      <td></td>\n",
       "      <td>921</td>\n",
       "      <td>1717</td>\n",
       "      <td>0.536401</td>\n",
       "    </tr>\n",
       "    <tr>\n",
       "      <th>1</th>\n",
       "      <td>ControlGroup</td>\n",
       "      <td>176</td>\n",
       "      <td>443</td>\n",
       "      <td>0.397291</td>\n",
       "    </tr>\n",
       "    <tr>\n",
       "      <th>2</th>\n",
       "      <td>Test1</td>\n",
       "      <td>183</td>\n",
       "      <td>561</td>\n",
       "      <td>0.326203</td>\n",
       "    </tr>\n",
       "    <tr>\n",
       "      <th>3</th>\n",
       "      <td>Test2</td>\n",
       "      <td>74</td>\n",
       "      <td>549</td>\n",
       "      <td>0.134791</td>\n",
       "    </tr>\n",
       "    <tr>\n",
       "      <th>4</th>\n",
       "      <td>Test3</td>\n",
       "      <td>162</td>\n",
       "      <td>551</td>\n",
       "      <td>0.294011</td>\n",
       "    </tr>\n",
       "    <tr>\n",
       "      <th>5</th>\n",
       "      <td>Test4</td>\n",
       "      <td>81</td>\n",
       "      <td>641</td>\n",
       "      <td>0.126365</td>\n",
       "    </tr>\n",
       "  </tbody>\n",
       "</table>\n",
       "</div>"
      ],
      "text/plain": [
       "        groupup  dpd1  cnt_num  dpd1_rate\n",
       "0                 921     1717   0.536401\n",
       "1  ControlGroup   176      443   0.397291\n",
       "2         Test1   183      561   0.326203\n",
       "3         Test2    74      549   0.134791\n",
       "4         Test3   162      551   0.294011\n",
       "5         Test4    81      641   0.126365"
      ]
     },
     "execution_count": 29,
     "metadata": {},
     "output_type": "execute_result"
    }
   ],
   "source": [
    "daihou_data_new_sum"
   ]
  },
  {
   "cell_type": "code",
   "execution_count": 24,
   "metadata": {},
   "outputs": [
    {
     "data": {
      "text/html": [
       "<div>\n",
       "<style scoped>\n",
       "    .dataframe tbody tr th:only-of-type {\n",
       "        vertical-align: middle;\n",
       "    }\n",
       "\n",
       "    .dataframe tbody tr th {\n",
       "        vertical-align: top;\n",
       "    }\n",
       "\n",
       "    .dataframe thead th {\n",
       "        text-align: right;\n",
       "    }\n",
       "</style>\n",
       "<table border=\"1\" class=\"dataframe\">\n",
       "  <thead>\n",
       "    <tr style=\"text-align: right;\">\n",
       "      <th></th>\n",
       "      <th>groupup</th>\n",
       "      <th>dpd1</th>\n",
       "      <th>cnt_num</th>\n",
       "      <th>dpd1_rate</th>\n",
       "    </tr>\n",
       "  </thead>\n",
       "  <tbody>\n",
       "    <tr>\n",
       "      <th>0</th>\n",
       "      <td></td>\n",
       "      <td>117</td>\n",
       "      <td>226</td>\n",
       "      <td>0.517699</td>\n",
       "    </tr>\n",
       "    <tr>\n",
       "      <th>1</th>\n",
       "      <td>ControlGroup</td>\n",
       "      <td>412</td>\n",
       "      <td>1400</td>\n",
       "      <td>0.294286</td>\n",
       "    </tr>\n",
       "    <tr>\n",
       "      <th>2</th>\n",
       "      <td>Test1</td>\n",
       "      <td>444</td>\n",
       "      <td>1747</td>\n",
       "      <td>0.254150</td>\n",
       "    </tr>\n",
       "    <tr>\n",
       "      <th>3</th>\n",
       "      <td>Test2</td>\n",
       "      <td>49</td>\n",
       "      <td>1856</td>\n",
       "      <td>0.026401</td>\n",
       "    </tr>\n",
       "    <tr>\n",
       "      <th>4</th>\n",
       "      <td>Test3</td>\n",
       "      <td>0</td>\n",
       "      <td>1</td>\n",
       "      <td>0.000000</td>\n",
       "    </tr>\n",
       "    <tr>\n",
       "      <th>5</th>\n",
       "      <td>Test4</td>\n",
       "      <td>0</td>\n",
       "      <td>2</td>\n",
       "      <td>0.000000</td>\n",
       "    </tr>\n",
       "  </tbody>\n",
       "</table>\n",
       "</div>"
      ],
      "text/plain": [
       "        groupup  dpd1  cnt_num  dpd1_rate\n",
       "0                 117      226   0.517699\n",
       "1  ControlGroup   412     1400   0.294286\n",
       "2         Test1   444     1747   0.254150\n",
       "3         Test2    49     1856   0.026401\n",
       "4         Test3     0        1   0.000000\n",
       "5         Test4     0        2   0.000000"
      ]
     },
     "execution_count": 24,
     "metadata": {},
     "output_type": "execute_result"
    }
   ],
   "source": [
    "daihou_data_old_sum=daihou_data_old.groupby('groupup')['dpd1','cnt_num'].sum()\n",
    "daihou_data_old_sum=daihou_data_old_sum.reset_index()\n",
    "daihou_data_old_sum['dpd1_rate']=daihou_data_old_sum['dpd1']/daihou_data_old_sum['cnt_num']\n",
    "daihou_data_old_sum"
   ]
  },
  {
   "cell_type": "code",
   "execution_count": 25,
   "metadata": {},
   "outputs": [],
   "source": [
    "daihou_data_new_sum2=daihou_data_new.groupby('channelgroup')['dpd1','cnt_num'].sum()"
   ]
  },
  {
   "cell_type": "code",
   "execution_count": 26,
   "metadata": {},
   "outputs": [],
   "source": [
    "daihou_data_new_sum2=daihou_data_new_sum2.reset_index()"
   ]
  },
  {
   "cell_type": "code",
   "execution_count": 27,
   "metadata": {},
   "outputs": [
    {
     "data": {
      "text/html": [
       "<div>\n",
       "<style scoped>\n",
       "    .dataframe tbody tr th:only-of-type {\n",
       "        vertical-align: middle;\n",
       "    }\n",
       "\n",
       "    .dataframe tbody tr th {\n",
       "        vertical-align: top;\n",
       "    }\n",
       "\n",
       "    .dataframe thead th {\n",
       "        text-align: right;\n",
       "    }\n",
       "</style>\n",
       "<table border=\"1\" class=\"dataframe\">\n",
       "  <thead>\n",
       "    <tr style=\"text-align: right;\">\n",
       "      <th></th>\n",
       "      <th>channelgroup</th>\n",
       "      <th>dpd1</th>\n",
       "      <th>cnt_num</th>\n",
       "      <th>dpd1_rate</th>\n",
       "    </tr>\n",
       "  </thead>\n",
       "  <tbody>\n",
       "    <tr>\n",
       "      <th>0</th>\n",
       "      <td>BD</td>\n",
       "      <td>175</td>\n",
       "      <td>474</td>\n",
       "      <td>0.369198</td>\n",
       "    </tr>\n",
       "    <tr>\n",
       "      <th>1</th>\n",
       "      <td>Facebook Ads</td>\n",
       "      <td>159</td>\n",
       "      <td>426</td>\n",
       "      <td>0.373239</td>\n",
       "    </tr>\n",
       "    <tr>\n",
       "      <th>2</th>\n",
       "      <td>GooglePlay</td>\n",
       "      <td>120</td>\n",
       "      <td>375</td>\n",
       "      <td>0.320000</td>\n",
       "    </tr>\n",
       "    <tr>\n",
       "      <th>3</th>\n",
       "      <td>else</td>\n",
       "      <td>219</td>\n",
       "      <td>382</td>\n",
       "      <td>0.573298</td>\n",
       "    </tr>\n",
       "    <tr>\n",
       "      <th>4</th>\n",
       "      <td>googleadwords_int</td>\n",
       "      <td>676</td>\n",
       "      <td>2105</td>\n",
       "      <td>0.321140</td>\n",
       "    </tr>\n",
       "    <tr>\n",
       "      <th>5</th>\n",
       "      <td>organic</td>\n",
       "      <td>248</td>\n",
       "      <td>700</td>\n",
       "      <td>0.354286</td>\n",
       "    </tr>\n",
       "  </tbody>\n",
       "</table>\n",
       "</div>"
      ],
      "text/plain": [
       "        channelgroup  dpd1  cnt_num  dpd1_rate\n",
       "0                 BD   175      474   0.369198\n",
       "1       Facebook Ads   159      426   0.373239\n",
       "2         GooglePlay   120      375   0.320000\n",
       "3               else   219      382   0.573298\n",
       "4  googleadwords_int   676     2105   0.321140\n",
       "5            organic   248      700   0.354286"
      ]
     },
     "execution_count": 27,
     "metadata": {},
     "output_type": "execute_result"
    }
   ],
   "source": [
    "daihou_data_new_sum2['dpd1_rate']=daihou_data_new_sum2['dpd1']/daihou_data_new_sum2['cnt_num']\n",
    "daihou_data_new_sum2"
   ]
  },
  {
   "cell_type": "markdown",
   "metadata": {},
   "source": [
    "### 新用户 control vs test1"
   ]
  },
  {
   "cell_type": "code",
   "execution_count": 32,
   "metadata": {},
   "outputs": [],
   "source": [
    "new_control_rate=daihou_data_new_sum.iloc[1,3]\n",
    "new_control_num=daihou_data_new_sum.iloc[1,2]\n",
    "new_control_var=math.sqrt(new_control_rate*(1-new_control_rate)/new_control_num)"
   ]
  },
  {
   "cell_type": "code",
   "execution_count": 33,
   "metadata": {},
   "outputs": [],
   "source": [
    "new_test1_rate=daihou_data_new_sum.iloc[2,3]\n",
    "new_test1_num=daihou_data_new_sum.iloc[2,2]\n",
    "new_test1_var=math.sqrt(new_test1_rate*(1-new_test1_rate)/new_test1_num)"
   ]
  },
  {
   "cell_type": "code",
   "execution_count": 37,
   "metadata": {},
   "outputs": [
    {
     "data": {
      "text/plain": [
       "Ttest_indResult(statistic=52.295618781987805, pvalue=1.2008233752161294e-288)"
      ]
     },
     "execution_count": 37,
     "metadata": {},
     "output_type": "execute_result"
    }
   ],
   "source": [
    "ttest_ind_from_stats(mean1=new_control_rate, std1=new_control_var, nobs1=new_control_num,\n",
    "...                      mean2=new_test1_rate, std2=new_test1_var, nobs2=new_test1_num)"
   ]
  },
  {
   "cell_type": "markdown",
   "metadata": {},
   "source": [
    "### 新用户 test12 vs test34"
   ]
  },
  {
   "cell_type": "code",
   "execution_count": 41,
   "metadata": {},
   "outputs": [],
   "source": [
    "new_test12_rate=(daihou_data_new_sum.iloc[2,1]+daihou_data_new_sum.iloc[3,1])/(daihou_data_new_sum.iloc[2,2]+daihou_data_new_sum.iloc[3,2])\n",
    "new_test12_num=daihou_data_new_sum.iloc[2,2]+daihou_data_new_sum.iloc[3,2]\n",
    "new_test12_var=math.sqrt(new_test12_rate*(1-new_test12_rate)/new_test12_num)\n",
    "\n",
    "new_test34_rate=(daihou_data_new_sum.iloc[4,1]+daihou_data_new_sum.iloc[5,1])/(daihou_data_new_sum.iloc[4,2]+daihou_data_new_sum.iloc[5,2])\n",
    "new_test34_num=daihou_data_new_sum.iloc[4,2]+daihou_data_new_sum.iloc[5,2]\n",
    "new_test34_var=math.sqrt(new_test34_rate*(1-new_test34_rate)/new_test34_num)"
   ]
  },
  {
   "cell_type": "code",
   "execution_count": 42,
   "metadata": {},
   "outputs": [
    {
     "data": {
      "text/plain": [
       "Ttest_indResult(statistic=54.571369663154165, pvalue=0.0)"
      ]
     },
     "execution_count": 42,
     "metadata": {},
     "output_type": "execute_result"
    }
   ],
   "source": [
    "ttest_ind_from_stats(mean1=new_test12_rate, std1=new_test12_var, nobs1=new_test12_num,\n",
    "...                      mean2=new_test34_rate, std2=new_test34_var, nobs2=new_test34_num)"
   ]
  },
  {
   "cell_type": "markdown",
   "metadata": {},
   "source": [
    "### 新用户 test13 vs test24"
   ]
  },
  {
   "cell_type": "code",
   "execution_count": 43,
   "metadata": {},
   "outputs": [],
   "source": [
    "new_test13_rate=(daihou_data_new_sum.iloc[2,1]+daihou_data_new_sum.iloc[4,1])/(daihou_data_new_sum.iloc[2,2]+daihou_data_new_sum.iloc[4,2])\n",
    "new_test13_num=daihou_data_new_sum.iloc[2,2]+daihou_data_new_sum.iloc[4,2]\n",
    "new_test13_var=math.sqrt(new_test13_rate*(1-new_test13_rate)/new_test13_num)\n",
    "\n",
    "new_test24_rate=(daihou_data_new_sum.iloc[3,1]+daihou_data_new_sum.iloc[5,1])/(daihou_data_new_sum.iloc[3,2]+daihou_data_new_sum.iloc[5,2])\n",
    "new_test24_num=daihou_data_new_sum.iloc[3,2]+daihou_data_new_sum.iloc[5,2]\n",
    "new_test24_var=math.sqrt(new_test24_rate*(1-new_test24_rate)/new_test24_num)"
   ]
  },
  {
   "cell_type": "code",
   "execution_count": 44,
   "metadata": {},
   "outputs": [
    {
     "data": {
      "text/plain": [
       "Ttest_indResult(statistic=361.94176861064255, pvalue=0.0)"
      ]
     },
     "execution_count": 44,
     "metadata": {},
     "output_type": "execute_result"
    }
   ],
   "source": [
    "ttest_ind_from_stats(mean1=new_test13_rate, std1=new_test13_var, nobs1=new_test13_num,\n",
    "...                      mean2=new_test24_rate, std2=new_test24_var, nobs2=new_test24_num)"
   ]
  },
  {
   "cell_type": "markdown",
   "metadata": {},
   "source": [
    "### 老客户 control vs test"
   ]
  },
  {
   "cell_type": "code",
   "execution_count": 45,
   "metadata": {},
   "outputs": [],
   "source": [
    "old_control_rate=daihou_data_old_sum.iloc[1,3]\n",
    "old_control_num=daihou_data_old_sum.iloc[1,2]\n",
    "old_control_var=math.sqrt(old_control_rate*(1-old_control_rate)/old_control_num)\n",
    "\n",
    "old_test1_rate=daihou_data_old_sum.iloc[2,3]\n",
    "old_test1_num=daihou_data_old_sum.iloc[2,2]\n",
    "old_test1_var=math.sqrt(old_test1_rate*(1-old_test1_rate)/old_test1_num)"
   ]
  },
  {
   "cell_type": "code",
   "execution_count": 47,
   "metadata": {},
   "outputs": [
    {
     "data": {
      "text/plain": [
       "Ttest_indResult(statistic=99.59052522916106, pvalue=0.0)"
      ]
     },
     "execution_count": 47,
     "metadata": {},
     "output_type": "execute_result"
    }
   ],
   "source": [
    "ttest_ind_from_stats(mean1=old_control_rate, std1=old_control_var, nobs1=old_control_num,\n",
    "...                      mean2=old_test1_rate, std2=old_test1_var, nobs2=old_test1_num)"
   ]
  },
  {
   "cell_type": "code",
   "execution_count": null,
   "metadata": {},
   "outputs": [],
   "source": []
  }
 ],
 "metadata": {
  "kernelspec": {
   "display_name": "Python 3",
   "language": "python",
   "name": "python3"
  },
  "language_info": {
   "codemirror_mode": {
    "name": "ipython",
    "version": 3
   },
   "file_extension": ".py",
   "mimetype": "text/x-python",
   "name": "python",
   "nbconvert_exporter": "python",
   "pygments_lexer": "ipython3",
   "version": "3.7.3"
  }
 },
 "nbformat": 4,
 "nbformat_minor": 2
}
