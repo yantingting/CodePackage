{
 "cells": [
  {
   "cell_type": "raw",
   "metadata": {},
   "source": [
    "summary:\n",
    "目的：对印尼存量用户打标签，方便对用户精细化运营和管理；\n",
    "样本：注册时间在2020-02-18（含）之前的所有用户，共计3254826人。"
   ]
  },
  {
   "cell_type": "code",
   "execution_count": 3,
   "metadata": {},
   "outputs": [],
   "source": [
    "import os\n",
    "import sys\n",
    "import time\n",
    "import pandas as pd \n",
    "pd.set_option('display.max_columns', None)\n",
    "pd.set_option('display.max_rows', None)\n",
    "import numpy as np\n",
    "import re\n",
    "import seaborn as sns\n",
    "import matplotlib.pyplot as plt\n",
    "from collections import Counter\n",
    "sys.path.append('/Users/yantingting/PycharmProjects/modeling/')\n",
    "import database_conncet as data_con\n",
    "import data_processing as dp\n",
    "import summary_statistics as ss\n",
    "from data_io_utils import *\n",
    "from matplotlib.pyplot import MultipleLocator\n",
    "from jinja2 import Template"
   ]
  },
  {
   "cell_type": "code",
   "execution_count": 4,
   "metadata": {},
   "outputs": [],
   "source": [
    "file_path = '/Users/yantingting/Documents/用户画像(印尼)/用户分层/数据处理/'\n",
    "if not os.path.exists(file_path):\n",
    "    os.makedirs(file_path)\n",
    "    \n",
    "result_path = '/Users/yantingting/Seafile/风控/模型/10 印尼/用户画像/用户回访'"
   ]
  },
  {
   "cell_type": "markdown",
   "metadata": {
    "heading_collapsed": true
   },
   "source": [
    "# 分层数据上传"
   ]
  },
  {
   "cell_type": "code",
   "execution_count": 23,
   "metadata": {
    "hidden": true
   },
   "outputs": [
    {
     "data": {
      "text/plain": [
       "(3254826, 6)"
      ]
     },
     "execution_count": 23,
     "metadata": {},
     "output_type": "execute_result"
    },
    {
     "data": {
      "text/html": [
       "<div>\n",
       "<style scoped>\n",
       "    .dataframe tbody tr th:only-of-type {\n",
       "        vertical-align: middle;\n",
       "    }\n",
       "\n",
       "    .dataframe tbody tr th {\n",
       "        vertical-align: top;\n",
       "    }\n",
       "\n",
       "    .dataframe thead th {\n",
       "        text-align: right;\n",
       "    }\n",
       "</style>\n",
       "<table border=\"1\" class=\"dataframe\">\n",
       "  <thead>\n",
       "    <tr style=\"text-align: right;\">\n",
       "      <th></th>\n",
       "      <th>customer_id</th>\n",
       "      <th>type</th>\n",
       "      <th>tag_flag</th>\n",
       "      <th>freq</th>\n",
       "      <th>risk</th>\n",
       "      <th>monetary</th>\n",
       "    </tr>\n",
       "  </thead>\n",
       "  <tbody>\n",
       "    <tr>\n",
       "      <th>0</th>\n",
       "      <td>141225204082151424</td>\n",
       "      <td>注册未申请</td>\n",
       "      <td>未验证身份信息</td>\n",
       "      <td>不活跃</td>\n",
       "      <td>0</td>\n",
       "      <td>0</td>\n",
       "    </tr>\n",
       "    <tr>\n",
       "      <th>1</th>\n",
       "      <td>141230974207135744</td>\n",
       "      <td>注册未申请</td>\n",
       "      <td>未验证身份信息</td>\n",
       "      <td>不活跃</td>\n",
       "      <td>0</td>\n",
       "      <td>0</td>\n",
       "    </tr>\n",
       "    <tr>\n",
       "      <th>2</th>\n",
       "      <td>141233437656088576</td>\n",
       "      <td>注册未申请</td>\n",
       "      <td>未验证身份信息</td>\n",
       "      <td>不活跃</td>\n",
       "      <td>0</td>\n",
       "      <td>0</td>\n",
       "    </tr>\n",
       "    <tr>\n",
       "      <th>3</th>\n",
       "      <td>141238704447815680</td>\n",
       "      <td>注册未申请</td>\n",
       "      <td>未验证身份信息</td>\n",
       "      <td>不活跃</td>\n",
       "      <td>0</td>\n",
       "      <td>0</td>\n",
       "    </tr>\n",
       "    <tr>\n",
       "      <th>4</th>\n",
       "      <td>141239155218063360</td>\n",
       "      <td>注册未申请</td>\n",
       "      <td>验证身份信息</td>\n",
       "      <td>不活跃</td>\n",
       "      <td>0</td>\n",
       "      <td>0</td>\n",
       "    </tr>\n",
       "  </tbody>\n",
       "</table>\n",
       "</div>"
      ],
      "text/plain": [
       "          customer_id   type tag_flag freq risk monetary\n",
       "0  141225204082151424  注册未申请  未验证身份信息  不活跃    0        0\n",
       "1  141230974207135744  注册未申请  未验证身份信息  不活跃    0        0\n",
       "2  141233437656088576  注册未申请  未验证身份信息  不活跃    0        0\n",
       "3  141238704447815680  注册未申请  未验证身份信息  不活跃    0        0\n",
       "4  141239155218063360  注册未申请   验证身份信息  不活跃    0        0"
      ]
     },
     "execution_count": 23,
     "metadata": {},
     "output_type": "execute_result"
    }
   ],
   "source": [
    "df_all = load_data_from_pickle(file_path,'所有标签数据.pkl')\n",
    "df_all.shape\n",
    "df_all.head()"
   ]
  },
  {
   "cell_type": "code",
   "execution_count": 24,
   "metadata": {
    "hidden": true
   },
   "outputs": [
    {
     "name": "stdout",
     "output_type": "stream",
     "text": [
      "1\n"
     ]
    }
   ],
   "source": [
    "dict1 = {'注册未申请':1,\n",
    "        '申请未放款':2,\n",
    "         '新客户':3,\n",
    "        '老客户':4}\n",
    "dict2 = {'未验证身份信息': 1,\n",
    "'验证身份信息':      2,\n",
    "'申请被拒绝':       3,\n",
    "'逾期未还':        4,\n",
    "'其他'       :    5,\n",
    "'申请取消'    :     6,\n",
    "'订单进行中'  :     7,\n",
    "'逾期结清'    :    8,\n",
    "'提前结清'   :   9,\n",
    "'正常结清'    :  10,\n",
    "'申请其他'  : 11}\n",
    "df_all['type'] = df_all['type'].apply(lambda x: dict1.get(x))\n",
    "df_all['tag_flag'] = df_all['tag_flag'].apply(lambda x: dict2.get(x))\n",
    "print(1)"
   ]
  },
  {
   "cell_type": "code",
   "execution_count": 49,
   "metadata": {
    "hidden": true
   },
   "outputs": [
    {
     "data": {
      "text/plain": [
       "(624967, 6)"
      ]
     },
     "execution_count": 49,
     "metadata": {},
     "output_type": "execute_result"
    },
    {
     "data": {
      "text/plain": [
       "(624968, 6)"
      ]
     },
     "execution_count": 49,
     "metadata": {},
     "output_type": "execute_result"
    }
   ],
   "source": [
    "import sklearn\n",
    "from sklearn.model_selection import train_test_split\n",
    "df_temp = df_all[(df_all['type']==1)&(df_all['tag_flag']==1)&(df_all['freq']=='不活跃')]\n",
    "#dat为数据集,含有feature和label.\n",
    "df_temp1, df_temp2 = train_test_split(df_temp, test_size = 0.5, random_state=1)\n",
    "df_temp1.shape\n",
    "df_temp2.shape"
   ]
  },
  {
   "cell_type": "code",
   "execution_count": 52,
   "metadata": {
    "hidden": true
   },
   "outputs": [
    {
     "data": {
      "text/plain": [
       "'success'"
      ]
     },
     "execution_count": 52,
     "metadata": {},
     "output_type": "execute_result"
    },
    {
     "name": "stdout",
     "output_type": "stream",
     "text": [
      "1\n"
     ]
    },
    {
     "data": {
      "text/plain": [
       "'success'"
      ]
     },
     "execution_count": 52,
     "metadata": {},
     "output_type": "execute_result"
    }
   ],
   "source": [
    "df_temp = df_temp2\n",
    "table_sql = '''\n",
    "    CREATE TABLE ytt_yhfc_1111(\n",
    "        customer_id bigint,\n",
    "        type text,\n",
    "        tag_flag text,\n",
    "        freq text,\n",
    "        risk text,\n",
    "        monetary text\n",
    "    )\n",
    "    '''\n",
    "Filename = df_temp\n",
    "SQL_CREATE_TABLE = table_sql\n",
    "data_con.upload_df_to_pg(SQL_CREATE_TABLE)\n",
    "insert = \"\"\"\n",
    "INSERT INTO ytt_yhfc_1111\n",
    "   VALUES\n",
    " {% for var in var_list %}\n",
    "{{ var }},\n",
    "{% endfor %}\n",
    "\"\"\"\n",
    "var_list = []\n",
    "for cols, rows in Filename.iterrows():    \n",
    "    c = tuple(rows)\n",
    "    var_list.append(c)\n",
    "insert_sql = Template(insert).render(var_list=var_list)[:-2]\n",
    "insert_sql = insert_sql.replace('\\n','')\n",
    "print(1)\n",
    "data_con.upload_df_to_pg(insert_sql)"
   ]
  },
  {
   "cell_type": "markdown",
   "metadata": {},
   "source": [
    "# 回访用户提取"
   ]
  },
  {
   "cell_type": "raw",
   "metadata": {},
   "source": [
    "老客户"
   ]
  },
  {
   "cell_type": "code",
   "execution_count": 4,
   "metadata": {},
   "outputs": [],
   "source": [
    "query0 = '''\n",
    "select t1.*,t3.create_time as reg_time,t3.cell_phone,\n",
    "t2.*\n",
    "from ((select *\n",
    "from ytt_yhfc_4 \n",
    "where risk ='低风险' and monetary = '高收益'\n",
    "order by customer_id desc\n",
    "limit 3000)\n",
    "union all\n",
    "(select *\n",
    "from ytt_yhfc_4 \n",
    "where risk ='低风险' and monetary = '低收益'\n",
    "order by customer_id desc\n",
    "limit 3000)\n",
    "union all\n",
    "(select *\n",
    "from ytt_yhfc_4 \n",
    "where risk ='高风险' and monetary = '高收益'\n",
    "order by customer_id desc\n",
    "limit 3000)\n",
    "union all\n",
    "(select *\n",
    "from ytt_yhfc_4 \n",
    "where risk ='高风险' and monetary = '低收益'\n",
    "order by customer_id desc\n",
    "limit 3000)) t1 \n",
    "left join \n",
    "(select *\n",
    "from (\n",
    "select customer_id,apply_time,\n",
    "\"grouping\",request_principal,request_period,\n",
    "row_number()over(partition by customer_id order by effective_date desc )  as loan_rank\n",
    "from rt_t_gocash_core_loan \n",
    "where effective_date !='1970-01-01') t \n",
    "where loan_rank =1) t2 \n",
    "on t1.customer_id = t2.customer_id\n",
    "left join rt_t_gocash_core_customer t3 \n",
    "on t1.customer_id = t3.id\n",
    "order by t3.create_time desc \n",
    "'''"
   ]
  },
  {
   "cell_type": "code",
   "execution_count": 5,
   "metadata": {},
   "outputs": [
    {
     "name": "stdout",
     "output_type": "stream",
     "text": [
      "Successful connection\n"
     ]
    },
    {
     "data": {
      "text/plain": [
       "(12000, 14)"
      ]
     },
     "execution_count": 5,
     "metadata": {},
     "output_type": "execute_result"
    }
   ],
   "source": [
    "df_old = data_con.database_gn(query0)\n",
    "save_data_to_pickle(df_old,file_path,'老客户.pkl')\n",
    "df_old.shape"
   ]
  },
  {
   "cell_type": "raw",
   "metadata": {},
   "source": [
    "新客户"
   ]
  },
  {
   "cell_type": "code",
   "execution_count": 9,
   "metadata": {},
   "outputs": [],
   "source": [
    "query1 = '''\n",
    "select t1.*,t3.create_time as reg_time,t3.cell_phone,\n",
    "t2.*\n",
    "from ((select customer_id,'新客户' as type ,\n",
    "'逾期未还' as tag_flag\n",
    "from ytt_yhfc_3 \n",
    "where tag_flag = '4'\n",
    "limit 3000)\n",
    "union all\n",
    "(select customer_id,'新客户' as type ,\n",
    "'订单进行中' as tag_flag\n",
    "from ytt_yhfc_3 \n",
    "where tag_flag = '7'\n",
    "limit 3000)\n",
    "union all\n",
    "(select customer_id,'新客户' as type ,\n",
    "'逾期结清' as tag_flag\n",
    "from ytt_yhfc_3 \n",
    "where tag_flag = '8'\n",
    "limit 3000)\n",
    "union all\n",
    "(select customer_id,'新客户' as type ,\n",
    "'提前结清' as tag_flag\n",
    "from ytt_yhfc_3 \n",
    "where tag_flag = '9' and freq = '不活跃'\n",
    "limit 3000)\n",
    "union all\n",
    "(select customer_id,'新客户' as type ,\n",
    "'正常结清' as tag_flag\n",
    "from ytt_yhfc_3 \n",
    "where tag_flag = '10'and freq = '不活跃'\n",
    "limit 3000)) t1 \n",
    "left join \n",
    "(select *\n",
    "from (\n",
    "select customer_id,apply_time,\n",
    "\"grouping\",request_principal,request_period,\n",
    "row_number()over(partition by customer_id order by effective_date desc )  as loan_rank\n",
    "from rt_t_gocash_core_loan \n",
    "where effective_date !='1970-01-01') t \n",
    "where loan_rank =1) t2 \n",
    "on t1.customer_id = t2.customer_id\n",
    "left join rt_t_gocash_core_customer t3 \n",
    "on t1.customer_id = t3.id\n",
    "order by t3.create_time desc ;\n",
    "'''"
   ]
  },
  {
   "cell_type": "code",
   "execution_count": 10,
   "metadata": {},
   "outputs": [
    {
     "name": "stdout",
     "output_type": "stream",
     "text": [
      "Successful connection\n"
     ]
    },
    {
     "data": {
      "text/plain": [
       "(12926, 11)"
      ]
     },
     "execution_count": 10,
     "metadata": {},
     "output_type": "execute_result"
    }
   ],
   "source": [
    "df_new = data_con.database_gn(query1)\n",
    "save_data_to_pickle(df_new,file_path,'新客户.pkl')\n",
    "df_new.shape"
   ]
  },
  {
   "cell_type": "code",
   "execution_count": null,
   "metadata": {},
   "outputs": [],
   "source": [
    "query_temp = '''\n",
    "select t1.*,\n",
    "t2.cell_phone,t2.create_time as reg_time\n",
    "from\n",
    "(select customer_id,apply_time,effective_date,loan_status,paid_off_time,\"grouping\",\n",
    "case when date(paid_off_time) != '1970-01-01' then  current_date - date(paid_off_time) else null end as last_paid_now\n",
    "from rt_t_gocash_core_loan\n",
    "where customer_id in \n",
    "(select customer_id\n",
    "from rt_t_gocash_core_loan\n",
    "where effective_date !='1970-01-01'\n",
    "group by customer_id\n",
    "having count(1) = 1) \n",
    "and effective_date !='1970-01-01') t1 \n",
    "left join rt_t_gocash_core_customer t2 \n",
    "on t1.customer_id = t2.id\n",
    "order by t2.create_time desc \n",
    "'''"
   ]
  },
  {
   "cell_type": "code",
   "execution_count": null,
   "metadata": {},
   "outputs": [],
   "source": []
  },
  {
   "cell_type": "code",
   "execution_count": null,
   "metadata": {},
   "outputs": [],
   "source": []
  },
  {
   "cell_type": "raw",
   "metadata": {},
   "source": [
    "申请未放款"
   ]
  },
  {
   "cell_type": "code",
   "execution_count": 8,
   "metadata": {},
   "outputs": [],
   "source": [
    "query2 = '''\n",
    "select t1.*,t3.create_time as reg_time,t3.cell_phone,\n",
    "t2.*\n",
    "from (select customer_id,'申请未放款' as type,\n",
    "'申请取消' as tag_flag\n",
    "from ytt_yhfc_2\n",
    "where tag_flag = '6'\n",
    "order by customer_id desc\n",
    "limit 3000) t1 \n",
    "left join \n",
    "(select *\n",
    "from (\n",
    "select customer_id,apply_time,\n",
    "\"grouping\",request_principal,request_period,loan_status,\n",
    "row_number()over(partition by customer_id order by apply_time desc )  as loan_rank\n",
    "from rt_t_gocash_core_loan ) t \n",
    "where loan_rank =1) t2 \n",
    "on t1.customer_id = t2.customer_id\n",
    "left join rt_t_gocash_core_customer t3 \n",
    "on t1.customer_id = t3.id\n",
    "order by t3.create_time desc\n",
    "'''"
   ]
  },
  {
   "cell_type": "code",
   "execution_count": 9,
   "metadata": {},
   "outputs": [
    {
     "name": "stdout",
     "output_type": "stream",
     "text": [
      "Successful connection\n"
     ]
    },
    {
     "data": {
      "text/plain": [
       "(3000, 12)"
      ]
     },
     "execution_count": 9,
     "metadata": {},
     "output_type": "execute_result"
    }
   ],
   "source": [
    "df_apply = data_con.database_gn(query2)\n",
    "save_data_to_pickle(df_apply,result_path,'申请取消.pkl')\n",
    "df_apply.shape"
   ]
  },
  {
   "cell_type": "code",
   "execution_count": null,
   "metadata": {},
   "outputs": [],
   "source": []
  },
  {
   "cell_type": "raw",
   "metadata": {},
   "source": [
    "注册未申请"
   ]
  },
  {
   "cell_type": "code",
   "execution_count": 6,
   "metadata": {},
   "outputs": [],
   "source": [
    "query3 = '''\n",
    "select t1.id as customer_id,t1.cell_phone,\n",
    "t1.create_time,\n",
    "t1.update_time,\n",
    "t1.idcard_pass_flag,\n",
    "'注册未申请' as type\n",
    "from dw_gocash_go_cash_loan_gocash_core_customer t1 \n",
    "left join \n",
    "(select distinct customer_id from dw_gocash_go_cash_loan_gocash_core_loan where date(apply_time)<='2020-02-18') t2 \n",
    "on t1.id = t2.customer_id\n",
    "where t2.customer_id is null and date(t1.create_time)<='2020-02-18'\n",
    "order by t1.create_time desc \n",
    "limit 3000\n",
    "\n",
    "'''"
   ]
  },
  {
   "cell_type": "code",
   "execution_count": 7,
   "metadata": {},
   "outputs": [
    {
     "name": "stdout",
     "output_type": "stream",
     "text": [
      "Successful connection\n"
     ]
    },
    {
     "data": {
      "text/plain": [
       "(3000, 6)"
      ]
     },
     "execution_count": 7,
     "metadata": {},
     "output_type": "execute_result"
    }
   ],
   "source": [
    "df_reg = data_con.database_gn(query3)\n",
    "save_data_to_pickle(df_reg,result_path,'注册未申请.pkl')\n",
    "df_reg.shape"
   ]
  },
  {
   "cell_type": "code",
   "execution_count": null,
   "metadata": {},
   "outputs": [],
   "source": []
  },
  {
   "cell_type": "code",
   "execution_count": null,
   "metadata": {},
   "outputs": [],
   "source": []
  },
  {
   "cell_type": "code",
   "execution_count": null,
   "metadata": {},
   "outputs": [],
   "source": []
  }
 ],
 "metadata": {
  "kernelspec": {
   "display_name": "Python 3",
   "language": "python",
   "name": "python3"
  },
  "language_info": {
   "codemirror_mode": {
    "name": "ipython",
    "version": 3
   },
   "file_extension": ".py",
   "mimetype": "text/x-python",
   "name": "python",
   "nbconvert_exporter": "python",
   "pygments_lexer": "ipython3",
   "version": "3.7.5"
  },
  "latex_envs": {
   "LaTeX_envs_menu_present": true,
   "autoclose": false,
   "autocomplete": true,
   "bibliofile": "biblio.bib",
   "cite_by": "apalike",
   "current_citInitial": 1,
   "eqLabelWithNumbers": true,
   "eqNumInitial": 1,
   "hotkeys": {
    "equation": "Ctrl-E",
    "itemize": "Ctrl-I"
   },
   "labels_anchors": false,
   "latex_user_defs": false,
   "report_style_numbering": false,
   "user_envs_cfg": false
  },
  "toc": {
   "base_numbering": 1,
   "nav_menu": {},
   "number_sections": true,
   "sideBar": true,
   "skip_h1_title": false,
   "title_cell": "Table of Contents",
   "title_sidebar": "Contents",
   "toc_cell": false,
   "toc_position": {
    "height": "calc(100% - 180px)",
    "left": "10px",
    "top": "150px",
    "width": "336px"
   },
   "toc_section_display": true,
   "toc_window_display": false
  },
  "varInspector": {
   "cols": {
    "lenName": 16,
    "lenType": 16,
    "lenVar": 40
   },
   "kernels_config": {
    "python": {
     "delete_cmd_postfix": "",
     "delete_cmd_prefix": "del ",
     "library": "var_list.py",
     "varRefreshCmd": "print(var_dic_list())"
    },
    "r": {
     "delete_cmd_postfix": ") ",
     "delete_cmd_prefix": "rm(",
     "library": "var_list.r",
     "varRefreshCmd": "cat(var_dic_list()) "
    }
   },
   "types_to_exclude": [
    "module",
    "function",
    "builtin_function_or_method",
    "instance",
    "_Feature"
   ],
   "window_display": false
  }
 },
 "nbformat": 4,
 "nbformat_minor": 2
}
