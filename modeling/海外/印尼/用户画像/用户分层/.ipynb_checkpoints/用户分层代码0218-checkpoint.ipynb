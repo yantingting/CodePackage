{
 "cells": [
  {
   "cell_type": "raw",
   "metadata": {},
   "source": [
    "summary:\n",
    "目的：对印尼存量用户打标签，方便对用户精细化运营和管理；\n",
    "样本：注册时间在2020-02-18（含）之前的所有用户，共计3254826人。"
   ]
  },
  {
   "cell_type": "code",
   "execution_count": 1,
   "metadata": {},
   "outputs": [],
   "source": [
    "import os\n",
    "import sys\n",
    "import time\n",
    "import pandas as pd \n",
    "pd.set_option('display.max_columns', None)\n",
    "pd.set_option('display.max_rows', None)\n",
    "import numpy as np\n",
    "import re\n",
    "import seaborn as sns\n",
    "import matplotlib.pyplot as plt\n",
    "from collections import Counter\n",
    "sys.path.append('/Users/yantingting/PycharmProjects/modeling/')\n",
    "import database_conncet as data_con\n",
    "import data_processing as dp\n",
    "import summary_statistics as ss\n",
    "from data_io_utils import *\n",
    "from matplotlib.pyplot import MultipleLocator"
   ]
  },
  {
   "cell_type": "code",
   "execution_count": 2,
   "metadata": {},
   "outputs": [],
   "source": [
    "file_path = '/Users/yantingting/Documents/用户画像(印尼)/用户分层/数据处理/'\n",
    "if not os.path.exists(file_path):\n",
    "    os.makedirs(file_path)"
   ]
  },
  {
   "cell_type": "markdown",
   "metadata": {},
   "source": [
    "# 取数"
   ]
  },
  {
   "cell_type": "raw",
   "metadata": {},
   "source": [
    "客户的历史行为"
   ]
  },
  {
   "cell_type": "code",
   "execution_count": 10,
   "metadata": {},
   "outputs": [],
   "source": [
    "query1= '''\n",
    "select customer_id,\n",
    "min(date(apply_time)) as first_apply_date,\n",
    "max(date(apply_time)) as last_apply_date,\n",
    "max(date_part('days',date('2020-02-18') - apply_time) ) first_apply_now,\n",
    "min(date_part('days',date('2020-02-18') - apply_time)) last_apply_now,\n",
    "count(distinct case when loan_status = 'DENIED' then id end ) as cnt_denied,\n",
    "count(distinct case when loan_status = 'RESCIND' then id end ) as cnt_rescind,\n",
    "count(distinct case when loan_status = 'APPROVED' or loan_status = 'FUNDED' or loan_status = 'CREATED' or loan_status = 'COLLECTION' then id end) as new_flag,\n",
    "count(distinct case when loan_status = 'ADVANCE_PAIDOFF'  then id end) as cnt_advance,\n",
    "count(distinct case when loan_status = 'PAIDOFF'  then id end) as cnt_paidoff,\n",
    "count(distinct case when loan_status = 'COLLECTION'  then id end) as cnt_collection,\n",
    "count(distinct case when loan_status = 'COLLECTION_PAIDOFF'  then id end) as cnt_collectionpaid,\n",
    "count(distinct loan_no ) as cnt_apply,\n",
    "count(distinct case when effective_date != '1970-01-01' then loan_no else null end ) as cnt_loan,\n",
    "sum(case when effective_date != '1970-01-01' then extend_times else 0 end) cnt_extend,\n",
    "max(case when effective_date != '1970-01-01' then extend_times else 0 end) max_extend,\n",
    "min(case when effective_date !='1970-01-01' and effective_date is not null then effective_date else null end ) as first_effective_date,\n",
    "max(case when effective_date !='1970-01-01' and effective_date is not null then effective_date else null end ) as last_effective_date,\n",
    "max(case when effective_date !='1970-01-01' and effective_date is not null then date('2020-02-18') - effective_date else null end) first_effective_now,\n",
    "min(case when effective_date !='1970-01-01' and effective_date is not null then date('2020-02-18') - effective_date else null end) last_effective_now,\n",
    "count(distinct case when date('2020-02-18') - effective_date<=90 and  effective_date!= '1970-01-01' then loan_no else null end ) cnt_loan_90d,\n",
    "count(distinct case when date('2020-02-18') - effective_date<=180 and  effective_date!= '1970-01-01' then loan_no else null end ) cnt_loan_180d\n",
    "from dw_gocash_go_cash_loan_gocash_core_loan\n",
    "where date(apply_time)<='2020-02-18'\n",
    "group by customer_id;\n",
    "'''"
   ]
  },
  {
   "cell_type": "code",
   "execution_count": 11,
   "metadata": {},
   "outputs": [
    {
     "name": "stdout",
     "output_type": "stream",
     "text": [
      "Successful connection\n"
     ]
    },
    {
     "data": {
      "text/plain": [
       "(939761, 22)"
      ]
     },
     "execution_count": 11,
     "metadata": {},
     "output_type": "execute_result"
    },
    {
     "data": {
      "text/html": [
       "<div>\n",
       "<style scoped>\n",
       "    .dataframe tbody tr th:only-of-type {\n",
       "        vertical-align: middle;\n",
       "    }\n",
       "\n",
       "    .dataframe tbody tr th {\n",
       "        vertical-align: top;\n",
       "    }\n",
       "\n",
       "    .dataframe thead th {\n",
       "        text-align: right;\n",
       "    }\n",
       "</style>\n",
       "<table border=\"1\" class=\"dataframe\">\n",
       "  <thead>\n",
       "    <tr style=\"text-align: right;\">\n",
       "      <th></th>\n",
       "      <th>customer_id</th>\n",
       "      <th>first_apply_date</th>\n",
       "      <th>last_apply_date</th>\n",
       "      <th>first_apply_now</th>\n",
       "      <th>last_apply_now</th>\n",
       "      <th>cnt_denied</th>\n",
       "      <th>cnt_rescind</th>\n",
       "      <th>new_flag</th>\n",
       "      <th>cnt_advance</th>\n",
       "      <th>cnt_paidoff</th>\n",
       "      <th>cnt_collection</th>\n",
       "      <th>cnt_collectionpaid</th>\n",
       "      <th>cnt_apply</th>\n",
       "      <th>cnt_loan</th>\n",
       "      <th>cnt_extend</th>\n",
       "      <th>max_extend</th>\n",
       "      <th>first_effective_date</th>\n",
       "      <th>last_effective_date</th>\n",
       "      <th>first_effective_now</th>\n",
       "      <th>last_effective_now</th>\n",
       "      <th>cnt_loan_90d</th>\n",
       "      <th>cnt_loan_180d</th>\n",
       "    </tr>\n",
       "  </thead>\n",
       "  <tbody>\n",
       "    <tr>\n",
       "      <th>0</th>\n",
       "      <td>141218523654787072</td>\n",
       "      <td>2017-11-25</td>\n",
       "      <td>2017-12-28</td>\n",
       "      <td>814.0</td>\n",
       "      <td>781.0</td>\n",
       "      <td>2</td>\n",
       "      <td>0</td>\n",
       "      <td>0</td>\n",
       "      <td>1</td>\n",
       "      <td>0</td>\n",
       "      <td>0</td>\n",
       "      <td>0</td>\n",
       "      <td>3</td>\n",
       "      <td>1</td>\n",
       "      <td>0</td>\n",
       "      <td>0</td>\n",
       "      <td>2017-11-25</td>\n",
       "      <td>2017-11-25</td>\n",
       "      <td>815.0</td>\n",
       "      <td>815.0</td>\n",
       "      <td>0</td>\n",
       "      <td>0</td>\n",
       "    </tr>\n",
       "    <tr>\n",
       "      <th>1</th>\n",
       "      <td>141232347443232768</td>\n",
       "      <td>2017-10-23</td>\n",
       "      <td>2017-10-23</td>\n",
       "      <td>847.0</td>\n",
       "      <td>847.0</td>\n",
       "      <td>0</td>\n",
       "      <td>0</td>\n",
       "      <td>0</td>\n",
       "      <td>0</td>\n",
       "      <td>1</td>\n",
       "      <td>0</td>\n",
       "      <td>0</td>\n",
       "      <td>1</td>\n",
       "      <td>1</td>\n",
       "      <td>0</td>\n",
       "      <td>0</td>\n",
       "      <td>2017-10-24</td>\n",
       "      <td>2017-10-24</td>\n",
       "      <td>847.0</td>\n",
       "      <td>847.0</td>\n",
       "      <td>0</td>\n",
       "      <td>0</td>\n",
       "    </tr>\n",
       "    <tr>\n",
       "      <th>2</th>\n",
       "      <td>141234749319806976</td>\n",
       "      <td>2017-11-30</td>\n",
       "      <td>2017-11-30</td>\n",
       "      <td>809.0</td>\n",
       "      <td>809.0</td>\n",
       "      <td>0</td>\n",
       "      <td>0</td>\n",
       "      <td>1</td>\n",
       "      <td>0</td>\n",
       "      <td>0</td>\n",
       "      <td>1</td>\n",
       "      <td>0</td>\n",
       "      <td>1</td>\n",
       "      <td>1</td>\n",
       "      <td>0</td>\n",
       "      <td>0</td>\n",
       "      <td>2017-12-09</td>\n",
       "      <td>2017-12-09</td>\n",
       "      <td>801.0</td>\n",
       "      <td>801.0</td>\n",
       "      <td>0</td>\n",
       "      <td>0</td>\n",
       "    </tr>\n",
       "    <tr>\n",
       "      <th>3</th>\n",
       "      <td>141243827437834240</td>\n",
       "      <td>2017-11-25</td>\n",
       "      <td>2018-02-07</td>\n",
       "      <td>814.0</td>\n",
       "      <td>740.0</td>\n",
       "      <td>2</td>\n",
       "      <td>0</td>\n",
       "      <td>0</td>\n",
       "      <td>0</td>\n",
       "      <td>0</td>\n",
       "      <td>0</td>\n",
       "      <td>0</td>\n",
       "      <td>2</td>\n",
       "      <td>0</td>\n",
       "      <td>0</td>\n",
       "      <td>0</td>\n",
       "      <td>None</td>\n",
       "      <td>None</td>\n",
       "      <td>NaN</td>\n",
       "      <td>NaN</td>\n",
       "      <td>0</td>\n",
       "      <td>0</td>\n",
       "    </tr>\n",
       "    <tr>\n",
       "      <th>4</th>\n",
       "      <td>141252256982237184</td>\n",
       "      <td>2017-11-26</td>\n",
       "      <td>2017-11-26</td>\n",
       "      <td>813.0</td>\n",
       "      <td>813.0</td>\n",
       "      <td>1</td>\n",
       "      <td>0</td>\n",
       "      <td>0</td>\n",
       "      <td>0</td>\n",
       "      <td>0</td>\n",
       "      <td>0</td>\n",
       "      <td>0</td>\n",
       "      <td>1</td>\n",
       "      <td>0</td>\n",
       "      <td>0</td>\n",
       "      <td>0</td>\n",
       "      <td>None</td>\n",
       "      <td>None</td>\n",
       "      <td>NaN</td>\n",
       "      <td>NaN</td>\n",
       "      <td>0</td>\n",
       "      <td>0</td>\n",
       "    </tr>\n",
       "  </tbody>\n",
       "</table>\n",
       "</div>"
      ],
      "text/plain": [
       "          customer_id first_apply_date last_apply_date  first_apply_now  \\\n",
       "0  141218523654787072       2017-11-25      2017-12-28            814.0   \n",
       "1  141232347443232768       2017-10-23      2017-10-23            847.0   \n",
       "2  141234749319806976       2017-11-30      2017-11-30            809.0   \n",
       "3  141243827437834240       2017-11-25      2018-02-07            814.0   \n",
       "4  141252256982237184       2017-11-26      2017-11-26            813.0   \n",
       "\n",
       "   last_apply_now  cnt_denied  cnt_rescind  new_flag  cnt_advance  \\\n",
       "0           781.0           2            0         0            1   \n",
       "1           847.0           0            0         0            0   \n",
       "2           809.0           0            0         1            0   \n",
       "3           740.0           2            0         0            0   \n",
       "4           813.0           1            0         0            0   \n",
       "\n",
       "   cnt_paidoff  cnt_collection  cnt_collectionpaid  cnt_apply  cnt_loan  \\\n",
       "0            0               0                   0          3         1   \n",
       "1            1               0                   0          1         1   \n",
       "2            0               1                   0          1         1   \n",
       "3            0               0                   0          2         0   \n",
       "4            0               0                   0          1         0   \n",
       "\n",
       "   cnt_extend  max_extend first_effective_date last_effective_date  \\\n",
       "0           0           0           2017-11-25          2017-11-25   \n",
       "1           0           0           2017-10-24          2017-10-24   \n",
       "2           0           0           2017-12-09          2017-12-09   \n",
       "3           0           0                 None                None   \n",
       "4           0           0                 None                None   \n",
       "\n",
       "   first_effective_now  last_effective_now  cnt_loan_90d  cnt_loan_180d  \n",
       "0                815.0               815.0             0              0  \n",
       "1                847.0               847.0             0              0  \n",
       "2                801.0               801.0             0              0  \n",
       "3                  NaN                 NaN             0              0  \n",
       "4                  NaN                 NaN             0              0  "
      ]
     },
     "execution_count": 11,
     "metadata": {},
     "output_type": "execute_result"
    }
   ],
   "source": [
    "df1 =  data_con.database_gn(query1)\n",
    "save_data_to_pickle(df1, file_path, '历史行为.pkl')\n",
    "df1.shape\n",
    "df1.head()"
   ]
  },
  {
   "cell_type": "raw",
   "metadata": {},
   "source": [
    "客户的盈利性 "
   ]
  },
  {
   "cell_type": "code",
   "execution_count": null,
   "metadata": {},
   "outputs": [],
   "source": [
    "query2 = '''\n",
    "select *,\n",
    "case when last_paid_off_time !='1970-01-01' and last_paid_off_time is not null then date('2020-02-18') - date(last_paid_off_time) else null end last_paid_now\n",
    "from (\n",
    "select t1.customer_id as customer_id,\n",
    "sum(t2.extend_fee+t2.late_fee+t2.approved_principal-t2.approved_amount ) as profit,\n",
    "max(t2.last_paid_off_time) as last_paid_off_time\n",
    "from \n",
    "(select customer_id, min(effective_date) as first_effective_date\n",
    "from dw_gocash_go_cash_loan_gocash_core_loan\n",
    "where date(apply_time)<='2020-02-18'\n",
    "group by customer_id)t1\n",
    "left join \n",
    "(select a1.id as loan_id,\n",
    "a1.customer_id as customer_id,\n",
    "a1.effective_date,\n",
    "a1.approved_principal,\n",
    "a1.approved_amount,\n",
    "a2.last_paid_off_time,\n",
    "case when a2.extend_fee is not null then a2.extend_fee else 0 end as extend_fee,\n",
    "case when a2.late_fee is not null then a2.late_fee else 0 end as late_fee,\n",
    "case when a2.principal is not null then a2.principal else 0 end as principal_repay\n",
    "from \n",
    "(select * from dw_gocash_go_cash_loan_gocash_core_loan\n",
    "where effective_date is not null) a1 \n",
    "left join \n",
    "(select loan_id,\n",
    "sum(case when extend_fee is not null then extend_fee else 0 end)  as extend_fee,\n",
    "sum(case when late_fee is not null then late_fee else 0 end)  as late_fee,\n",
    "sum(case when principal is not null then principal else 0 end)  as principal,\n",
    "max(case when date(paid_off_time) !='1970-01-01' then paid_off_time else null end) as last_paid_off_time\n",
    "from dw_gocash_go_cash_loan_gocash_core_loan_pay_flow\n",
    "where status = 'SUCCESS'\n",
    "and date(create_time)<='2020-02-18'\n",
    "group by loan_id)a2 \n",
    "on a1.id = a2.loan_id) t2 \n",
    "on t1.customer_id = t2.customer_id\n",
    "group by t1.customer_id) t;\n",
    "'''"
   ]
  },
  {
   "cell_type": "code",
   "execution_count": 58,
   "metadata": {},
   "outputs": [
    {
     "name": "stdout",
     "output_type": "stream",
     "text": [
      "Successful connection\n"
     ]
    },
    {
     "data": {
      "text/plain": [
       "(939761, 4)"
      ]
     },
     "execution_count": 58,
     "metadata": {},
     "output_type": "execute_result"
    },
    {
     "data": {
      "text/html": [
       "<div>\n",
       "<style scoped>\n",
       "    .dataframe tbody tr th:only-of-type {\n",
       "        vertical-align: middle;\n",
       "    }\n",
       "\n",
       "    .dataframe tbody tr th {\n",
       "        vertical-align: top;\n",
       "    }\n",
       "\n",
       "    .dataframe thead th {\n",
       "        text-align: right;\n",
       "    }\n",
       "</style>\n",
       "<table border=\"1\" class=\"dataframe\">\n",
       "  <thead>\n",
       "    <tr style=\"text-align: right;\">\n",
       "      <th></th>\n",
       "      <th>customer_id</th>\n",
       "      <th>profit</th>\n",
       "      <th>last_paid_off_time</th>\n",
       "      <th>last_paid_now</th>\n",
       "    </tr>\n",
       "  </thead>\n",
       "  <tbody>\n",
       "    <tr>\n",
       "      <th>0</th>\n",
       "      <td>319419641822748672</td>\n",
       "      <td>3421200.0</td>\n",
       "      <td>2019-09-29 17:31:33</td>\n",
       "      <td>142.0</td>\n",
       "    </tr>\n",
       "    <tr>\n",
       "      <th>1</th>\n",
       "      <td>195182572838363136</td>\n",
       "      <td>625500.0</td>\n",
       "      <td>NaT</td>\n",
       "      <td>NaN</td>\n",
       "    </tr>\n",
       "    <tr>\n",
       "      <th>2</th>\n",
       "      <td>428240424871043072</td>\n",
       "      <td>31600.0</td>\n",
       "      <td>NaT</td>\n",
       "      <td>NaN</td>\n",
       "    </tr>\n",
       "    <tr>\n",
       "      <th>3</th>\n",
       "      <td>398068629904130048</td>\n",
       "      <td>253500.0</td>\n",
       "      <td>NaT</td>\n",
       "      <td>NaN</td>\n",
       "    </tr>\n",
       "    <tr>\n",
       "      <th>4</th>\n",
       "      <td>423206875474329600</td>\n",
       "      <td>229800.0</td>\n",
       "      <td>NaT</td>\n",
       "      <td>NaN</td>\n",
       "    </tr>\n",
       "  </tbody>\n",
       "</table>\n",
       "</div>"
      ],
      "text/plain": [
       "          customer_id     profit  last_paid_off_time  last_paid_now\n",
       "0  319419641822748672  3421200.0 2019-09-29 17:31:33          142.0\n",
       "1  195182572838363136   625500.0                 NaT            NaN\n",
       "2  428240424871043072    31600.0                 NaT            NaN\n",
       "3  398068629904130048   253500.0                 NaT            NaN\n",
       "4  423206875474329600   229800.0                 NaT            NaN"
      ]
     },
     "execution_count": 58,
     "metadata": {},
     "output_type": "execute_result"
    }
   ],
   "source": [
    "df_profit = data_con.database_gn(query2)\n",
    "save_data_to_pickle(df_profit, file_path, '盈利性.pkl')\n",
    "df_profit.shape\n",
    "df_profit.head()"
   ]
  },
  {
   "cell_type": "raw",
   "metadata": {},
   "source": [
    "催收情况"
   ]
  },
  {
   "cell_type": "code",
   "execution_count": 5,
   "metadata": {},
   "outputs": [],
   "source": [
    "query3 = '''\n",
    "select\n",
    "\tu.customer_id as customer_id,\n",
    "\tu.max_late_days,\n",
    "\tu.total_order,\n",
    "\tu.total_loan,\n",
    "\tu.rucui_loan,\n",
    "\tu.rucui_order,\n",
    "\tv.chucui_loan,\n",
    "\tv.chucui_order,\n",
    "\tv.chucui_days,\n",
    "\tv.max_chucui_days\n",
    "from\n",
    "\t(\n",
    "\tselect\n",
    "\t\ta.customer_id as customer_id,\n",
    "\t\tmax(late_day) as max_late_days,\n",
    "\t\tcount(*) as total_order,\n",
    "\t\tcount(distinct a.id) as total_loan,\n",
    "\t\tcount(distinct case when b.order_status is not null and b.order_status <> 'PAIDOFF' then a.id else null end) as rucui_loan,\n",
    "\t\tcount(distinct case when b.order_status is not null and b.order_status <> 'PAIDOFF' then b.id else null end) as rucui_order\n",
    "\tfrom\n",
    "\t\t(\n",
    "\t\tselect\n",
    "\t\t\tid,\n",
    "\t\t\tcustomer_id,\n",
    "\t\t\tapproved_principal,\n",
    "\t\t\tapproved_period,\n",
    "\t\t\teffective_date,\n",
    "\t\t\treturn_flag\n",
    "\t\tfrom\n",
    "\t\t\tpublic.dw_gocash_go_cash_loan_gocash_core_loan\n",
    "            where date(apply_time) <='2020-02-18'\n",
    "\t\t)a\n",
    "\tleft join (\n",
    "\t\tselect\n",
    "\t\t\tid,\n",
    "\t\t\torder_id,\n",
    "\t\t\torder_status,\n",
    "\t\t\tlate_day,\n",
    "\t\t\trow_number() over(partition by order_id\n",
    "\t\torder by\n",
    "\t\t\tcreate_time) as rk\n",
    "\t\tfrom\n",
    "\t\t\tpublic.dw_gocash_gocash_collection_col_case)b on\n",
    "\t\ta.id = b.order_id\n",
    "\tgroup by\n",
    "\t\ta.customer_id)u\n",
    "left join (\n",
    "\tselect\n",
    "\t\ta.customer_id as customer_id,\n",
    "\t\tmax(late_days) as max_chucui_days,\n",
    "\t\tsum(late_days) as chucui_days,\n",
    "\t\tcount(distinct case when late_fee>0 then a.id else null end) as chucui_loan,\n",
    "\t\tcount(distinct case when late_fee>0 then b.id else null end) as chucui_order\n",
    "\tfrom\n",
    "\t\t(\n",
    "\t\tselect\n",
    "\t\t\tid,\n",
    "\t\t\tcustomer_id,\n",
    "\t\t\tapproved_principal,\n",
    "\t\t\tapproved_period,\n",
    "\t\t\teffective_date,\n",
    "\t\t\treturn_flag\n",
    "\t\tfrom\n",
    "\t\t\tpublic.dw_gocash_go_cash_loan_gocash_core_loan\n",
    "\t\t)a\n",
    "\tleft join (\n",
    "\t\tselect\n",
    "\t\t\tid,\n",
    "\t\t\tloan_id,\n",
    "\t\t\tlate_days,\n",
    "\t\t\tlate_fee,\n",
    "\t\t\trow_number() over(partition by loan_id\n",
    "\t\torder by\n",
    "\t\t\tcreate_time) as rk\n",
    "\t\tfrom\n",
    "\t\t\tpublic.dw_gocash_go_cash_loan_gocash_core_loan_pay_flow\n",
    "\t\twhere\n",
    "\t\t\tstatus = 'SUCCESS'\n",
    "\t\t\tand late_fee>0)b on\n",
    "\t\ta.id = b.loan_id\n",
    "\tgroup by\n",
    "\t\ta.customer_id) v \n",
    "\t\ton\tv.customer_id = u.customer_id\n",
    "'''"
   ]
  },
  {
   "cell_type": "code",
   "execution_count": 6,
   "metadata": {
    "scrolled": false
   },
   "outputs": [
    {
     "name": "stdout",
     "output_type": "stream",
     "text": [
      "Successful connection\n"
     ]
    },
    {
     "data": {
      "text/plain": [
       "(939761, 10)"
      ]
     },
     "execution_count": 6,
     "metadata": {},
     "output_type": "execute_result"
    },
    {
     "data": {
      "text/html": [
       "<div>\n",
       "<style scoped>\n",
       "    .dataframe tbody tr th:only-of-type {\n",
       "        vertical-align: middle;\n",
       "    }\n",
       "\n",
       "    .dataframe tbody tr th {\n",
       "        vertical-align: top;\n",
       "    }\n",
       "\n",
       "    .dataframe thead th {\n",
       "        text-align: right;\n",
       "    }\n",
       "</style>\n",
       "<table border=\"1\" class=\"dataframe\">\n",
       "  <thead>\n",
       "    <tr style=\"text-align: right;\">\n",
       "      <th></th>\n",
       "      <th>customer_id</th>\n",
       "      <th>max_late_days</th>\n",
       "      <th>total_order</th>\n",
       "      <th>total_loan</th>\n",
       "      <th>rucui_loan</th>\n",
       "      <th>rucui_order</th>\n",
       "      <th>chucui_loan</th>\n",
       "      <th>chucui_order</th>\n",
       "      <th>chucui_days</th>\n",
       "      <th>max_chucui_days</th>\n",
       "    </tr>\n",
       "  </thead>\n",
       "  <tbody>\n",
       "    <tr>\n",
       "      <th>0</th>\n",
       "      <td>141549829613821952</td>\n",
       "      <td>NaN</td>\n",
       "      <td>1</td>\n",
       "      <td>1</td>\n",
       "      <td>0</td>\n",
       "      <td>0</td>\n",
       "      <td>0</td>\n",
       "      <td>0</td>\n",
       "      <td>NaN</td>\n",
       "      <td>NaN</td>\n",
       "    </tr>\n",
       "    <tr>\n",
       "      <th>1</th>\n",
       "      <td>141617458365997056</td>\n",
       "      <td>NaN</td>\n",
       "      <td>1</td>\n",
       "      <td>1</td>\n",
       "      <td>0</td>\n",
       "      <td>0</td>\n",
       "      <td>0</td>\n",
       "      <td>0</td>\n",
       "      <td>NaN</td>\n",
       "      <td>NaN</td>\n",
       "    </tr>\n",
       "    <tr>\n",
       "      <th>2</th>\n",
       "      <td>141828449351630848</td>\n",
       "      <td>783.0</td>\n",
       "      <td>1</td>\n",
       "      <td>1</td>\n",
       "      <td>1</td>\n",
       "      <td>1</td>\n",
       "      <td>0</td>\n",
       "      <td>0</td>\n",
       "      <td>NaN</td>\n",
       "      <td>NaN</td>\n",
       "    </tr>\n",
       "    <tr>\n",
       "      <th>3</th>\n",
       "      <td>141837329116827648</td>\n",
       "      <td>712.0</td>\n",
       "      <td>2</td>\n",
       "      <td>2</td>\n",
       "      <td>1</td>\n",
       "      <td>1</td>\n",
       "      <td>1</td>\n",
       "      <td>1</td>\n",
       "      <td>1.0</td>\n",
       "      <td>1.0</td>\n",
       "    </tr>\n",
       "    <tr>\n",
       "      <th>4</th>\n",
       "      <td>141850255533932544</td>\n",
       "      <td>783.0</td>\n",
       "      <td>1</td>\n",
       "      <td>1</td>\n",
       "      <td>1</td>\n",
       "      <td>1</td>\n",
       "      <td>0</td>\n",
       "      <td>0</td>\n",
       "      <td>NaN</td>\n",
       "      <td>NaN</td>\n",
       "    </tr>\n",
       "  </tbody>\n",
       "</table>\n",
       "</div>"
      ],
      "text/plain": [
       "          customer_id  max_late_days  total_order  total_loan  rucui_loan  \\\n",
       "0  141549829613821952            NaN            1           1           0   \n",
       "1  141617458365997056            NaN            1           1           0   \n",
       "2  141828449351630848          783.0            1           1           1   \n",
       "3  141837329116827648          712.0            2           2           1   \n",
       "4  141850255533932544          783.0            1           1           1   \n",
       "\n",
       "   rucui_order  chucui_loan  chucui_order  chucui_days  max_chucui_days  \n",
       "0            0            0             0          NaN              NaN  \n",
       "1            0            0             0          NaN              NaN  \n",
       "2            1            0             0          NaN              NaN  \n",
       "3            1            1             1          1.0              1.0  \n",
       "4            1            0             0          NaN              NaN  "
      ]
     },
     "execution_count": 6,
     "metadata": {},
     "output_type": "execute_result"
    }
   ],
   "source": [
    "df3 = data_con.database_gn(query3)\n",
    "save_data_to_pickle(df3, file_path, '催收情况.pkl')\n",
    "df3.shape\n",
    "df3.head()"
   ]
  },
  {
   "cell_type": "code",
   "execution_count": 43,
   "metadata": {},
   "outputs": [],
   "source": [
    "query4 = '''\n",
    "select t1.id as customer_id,t1.cell_phone,\n",
    "t1.create_time,\n",
    "t1.update_time,\n",
    "t1.idcard_pass_flag,\n",
    "'注册未申请' as type\n",
    "from dw_gocash_go_cash_loan_gocash_core_customer t1 \n",
    "left join \n",
    "(select distinct customer_id from dw_gocash_go_cash_loan_gocash_core_loan where date(apply_time)<='2020-02-18') t2 \n",
    "on t1.id = t2.customer_id\n",
    "where t2.customer_id is null and date(t1.create_time)<='2020-02-18';\n",
    "'''"
   ]
  },
  {
   "cell_type": "code",
   "execution_count": 44,
   "metadata": {},
   "outputs": [
    {
     "name": "stdout",
     "output_type": "stream",
     "text": [
      "Successful connection\n"
     ]
    },
    {
     "data": {
      "text/plain": [
       "(2315065, 6)"
      ]
     },
     "execution_count": 44,
     "metadata": {},
     "output_type": "execute_result"
    },
    {
     "data": {
      "text/html": [
       "<div>\n",
       "<style scoped>\n",
       "    .dataframe tbody tr th:only-of-type {\n",
       "        vertical-align: middle;\n",
       "    }\n",
       "\n",
       "    .dataframe tbody tr th {\n",
       "        vertical-align: top;\n",
       "    }\n",
       "\n",
       "    .dataframe thead th {\n",
       "        text-align: right;\n",
       "    }\n",
       "</style>\n",
       "<table border=\"1\" class=\"dataframe\">\n",
       "  <thead>\n",
       "    <tr style=\"text-align: right;\">\n",
       "      <th></th>\n",
       "      <th>customer_id</th>\n",
       "      <th>cell_phone</th>\n",
       "      <th>create_time</th>\n",
       "      <th>update_time</th>\n",
       "      <th>idcard_pass_flag</th>\n",
       "      <th>type</th>\n",
       "    </tr>\n",
       "  </thead>\n",
       "  <tbody>\n",
       "    <tr>\n",
       "      <th>0</th>\n",
       "      <td>141225204082151424</td>\n",
       "      <td>082122456387</td>\n",
       "      <td>2017-11-25 15:58:32</td>\n",
       "      <td>1970-01-01 00:00:00</td>\n",
       "      <td>false</td>\n",
       "      <td>注册未申请</td>\n",
       "    </tr>\n",
       "    <tr>\n",
       "      <th>1</th>\n",
       "      <td>141230974207135744</td>\n",
       "      <td>081398084839</td>\n",
       "      <td>2017-11-25 16:21:28</td>\n",
       "      <td>1970-01-01 00:00:00</td>\n",
       "      <td>false</td>\n",
       "      <td>注册未申请</td>\n",
       "    </tr>\n",
       "    <tr>\n",
       "      <th>2</th>\n",
       "      <td>141233437656088576</td>\n",
       "      <td>085777664399</td>\n",
       "      <td>2017-11-25 16:31:15</td>\n",
       "      <td>1970-01-01 00:00:00</td>\n",
       "      <td>false</td>\n",
       "      <td>注册未申请</td>\n",
       "    </tr>\n",
       "    <tr>\n",
       "      <th>3</th>\n",
       "      <td>141238704447815680</td>\n",
       "      <td>081286074953</td>\n",
       "      <td>2017-11-25 16:52:11</td>\n",
       "      <td>1970-01-01 00:00:00</td>\n",
       "      <td>false</td>\n",
       "      <td>注册未申请</td>\n",
       "    </tr>\n",
       "    <tr>\n",
       "      <th>4</th>\n",
       "      <td>141239155218063360</td>\n",
       "      <td>085132421161</td>\n",
       "      <td>2017-11-25 16:53:59</td>\n",
       "      <td>2017-11-25 16:56:01</td>\n",
       "      <td>true</td>\n",
       "      <td>注册未申请</td>\n",
       "    </tr>\n",
       "  </tbody>\n",
       "</table>\n",
       "</div>"
      ],
      "text/plain": [
       "          customer_id    cell_phone         create_time         update_time  \\\n",
       "0  141225204082151424  082122456387 2017-11-25 15:58:32 1970-01-01 00:00:00   \n",
       "1  141230974207135744  081398084839 2017-11-25 16:21:28 1970-01-01 00:00:00   \n",
       "2  141233437656088576  085777664399 2017-11-25 16:31:15 1970-01-01 00:00:00   \n",
       "3  141238704447815680  081286074953 2017-11-25 16:52:11 1970-01-01 00:00:00   \n",
       "4  141239155218063360  085132421161 2017-11-25 16:53:59 2017-11-25 16:56:01   \n",
       "\n",
       "  idcard_pass_flag   type  \n",
       "0            false  注册未申请  \n",
       "1            false  注册未申请  \n",
       "2            false  注册未申请  \n",
       "3            false  注册未申请  \n",
       "4             true  注册未申请  "
      ]
     },
     "execution_count": 44,
     "metadata": {},
     "output_type": "execute_result"
    }
   ],
   "source": [
    "df4 = data_con.database_gn(query4)\n",
    "save_data_to_pickle(df4, file_path, '注册未申请.pkl')\n",
    "df4.shape\n",
    "df4.head()"
   ]
  },
  {
   "cell_type": "raw",
   "metadata": {},
   "source": [
    "客户的最后一次行为"
   ]
  },
  {
   "cell_type": "code",
   "execution_count": 5,
   "metadata": {},
   "outputs": [],
   "source": [
    "query5 = '''\n",
    "select customer_id,loan_status,\n",
    "due_date,late_days\n",
    "from (\n",
    "select id,customer_id,loan_status,due_date,late_days,\n",
    "row_number()over(partition by customer_id order by apply_time desc ) as loan_rank\n",
    "from dw_gocash_go_cash_loan_gocash_core_loan \n",
    "where date(apply_time)<='2020-02-18')t \n",
    "where loan_rank = 1\n",
    "'''"
   ]
  },
  {
   "cell_type": "code",
   "execution_count": 6,
   "metadata": {},
   "outputs": [
    {
     "name": "stdout",
     "output_type": "stream",
     "text": [
      "Successful connection\n"
     ]
    },
    {
     "data": {
      "text/plain": [
       "(939761, 4)"
      ]
     },
     "execution_count": 6,
     "metadata": {},
     "output_type": "execute_result"
    },
    {
     "data": {
      "text/html": [
       "<div>\n",
       "<style scoped>\n",
       "    .dataframe tbody tr th:only-of-type {\n",
       "        vertical-align: middle;\n",
       "    }\n",
       "\n",
       "    .dataframe tbody tr th {\n",
       "        vertical-align: top;\n",
       "    }\n",
       "\n",
       "    .dataframe thead th {\n",
       "        text-align: right;\n",
       "    }\n",
       "</style>\n",
       "<table border=\"1\" class=\"dataframe\">\n",
       "  <thead>\n",
       "    <tr style=\"text-align: right;\">\n",
       "      <th></th>\n",
       "      <th>customer_id</th>\n",
       "      <th>loan_status</th>\n",
       "      <th>due_date</th>\n",
       "      <th>late_days</th>\n",
       "    </tr>\n",
       "  </thead>\n",
       "  <tbody>\n",
       "    <tr>\n",
       "      <th>0</th>\n",
       "      <td>141218523654787072</td>\n",
       "      <td>DENIED</td>\n",
       "      <td>1970-01-01</td>\n",
       "      <td>0</td>\n",
       "    </tr>\n",
       "    <tr>\n",
       "      <th>1</th>\n",
       "      <td>141232347443232768</td>\n",
       "      <td>PAIDOFF</td>\n",
       "      <td>2017-11-23</td>\n",
       "      <td>0</td>\n",
       "    </tr>\n",
       "    <tr>\n",
       "      <th>2</th>\n",
       "      <td>141234749319806976</td>\n",
       "      <td>COLLECTION</td>\n",
       "      <td>2018-01-07</td>\n",
       "      <td>775</td>\n",
       "    </tr>\n",
       "    <tr>\n",
       "      <th>3</th>\n",
       "      <td>141243827437834240</td>\n",
       "      <td>DENIED</td>\n",
       "      <td>1970-01-01</td>\n",
       "      <td>0</td>\n",
       "    </tr>\n",
       "    <tr>\n",
       "      <th>4</th>\n",
       "      <td>141252256982237184</td>\n",
       "      <td>DENIED</td>\n",
       "      <td>1970-01-01</td>\n",
       "      <td>0</td>\n",
       "    </tr>\n",
       "  </tbody>\n",
       "</table>\n",
       "</div>"
      ],
      "text/plain": [
       "          customer_id loan_status    due_date  late_days\n",
       "0  141218523654787072      DENIED  1970-01-01          0\n",
       "1  141232347443232768     PAIDOFF  2017-11-23          0\n",
       "2  141234749319806976  COLLECTION  2018-01-07        775\n",
       "3  141243827437834240      DENIED  1970-01-01          0\n",
       "4  141252256982237184      DENIED  1970-01-01          0"
      ]
     },
     "execution_count": 6,
     "metadata": {},
     "output_type": "execute_result"
    }
   ],
   "source": [
    "df5 = data_con.database_gn(query5)\n",
    "save_data_to_pickle(df5, file_path, '最后一次行为.pkl')\n",
    "df5.shape\n",
    "df5.head()"
   ]
  },
  {
   "cell_type": "markdown",
   "metadata": {},
   "source": [
    "# 客户分类"
   ]
  },
  {
   "cell_type": "code",
   "execution_count": 60,
   "metadata": {},
   "outputs": [
    {
     "data": {
      "text/plain": [
       "(939761, 22)"
      ]
     },
     "execution_count": 60,
     "metadata": {},
     "output_type": "execute_result"
    }
   ],
   "source": [
    "df1 = load_data_from_pickle(file_path, '历史行为.pkl')\n",
    "# df1 = df1.iloc[:, 1:]\n",
    "df2 = load_data_from_pickle(file_path, '盈利性.pkl')\n",
    "df3 = load_data_from_pickle(file_path, '催收情况.pkl')\n",
    "df1.shape"
   ]
  },
  {
   "cell_type": "code",
   "execution_count": 61,
   "metadata": {
    "scrolled": true
   },
   "outputs": [
    {
     "data": {
      "text/html": [
       "<div>\n",
       "<style scoped>\n",
       "    .dataframe tbody tr th:only-of-type {\n",
       "        vertical-align: middle;\n",
       "    }\n",
       "\n",
       "    .dataframe tbody tr th {\n",
       "        vertical-align: top;\n",
       "    }\n",
       "\n",
       "    .dataframe thead th {\n",
       "        text-align: right;\n",
       "    }\n",
       "</style>\n",
       "<table border=\"1\" class=\"dataframe\">\n",
       "  <thead>\n",
       "    <tr style=\"text-align: right;\">\n",
       "      <th></th>\n",
       "      <th>customer_id</th>\n",
       "      <th>first_apply_date</th>\n",
       "      <th>last_apply_date</th>\n",
       "      <th>first_apply_now</th>\n",
       "      <th>last_apply_now</th>\n",
       "      <th>cnt_denied</th>\n",
       "      <th>cnt_rescind</th>\n",
       "      <th>new_flag</th>\n",
       "      <th>cnt_advance</th>\n",
       "      <th>cnt_paidoff</th>\n",
       "      <th>cnt_collection</th>\n",
       "      <th>cnt_collectionpaid</th>\n",
       "      <th>cnt_apply</th>\n",
       "      <th>cnt_loan</th>\n",
       "      <th>cnt_extend</th>\n",
       "      <th>max_extend</th>\n",
       "      <th>first_effective_date</th>\n",
       "      <th>last_effective_date</th>\n",
       "      <th>first_effective_now</th>\n",
       "      <th>last_effective_now</th>\n",
       "      <th>cnt_loan_90d</th>\n",
       "      <th>cnt_loan_180d</th>\n",
       "      <th>profit</th>\n",
       "      <th>last_paid_off_time</th>\n",
       "      <th>last_paid_now</th>\n",
       "      <th>max_late_days</th>\n",
       "      <th>total_order</th>\n",
       "      <th>total_loan</th>\n",
       "      <th>rucui_loan</th>\n",
       "      <th>rucui_order</th>\n",
       "      <th>chucui_loan</th>\n",
       "      <th>chucui_order</th>\n",
       "      <th>chucui_days</th>\n",
       "      <th>max_chucui_days</th>\n",
       "    </tr>\n",
       "  </thead>\n",
       "  <tbody>\n",
       "    <tr>\n",
       "      <th>0</th>\n",
       "      <td>141218523654787072</td>\n",
       "      <td>2017-11-25</td>\n",
       "      <td>2017-12-28</td>\n",
       "      <td>814.0</td>\n",
       "      <td>781.0</td>\n",
       "      <td>2</td>\n",
       "      <td>0</td>\n",
       "      <td>0</td>\n",
       "      <td>1</td>\n",
       "      <td>0</td>\n",
       "      <td>0</td>\n",
       "      <td>0</td>\n",
       "      <td>3</td>\n",
       "      <td>1</td>\n",
       "      <td>0</td>\n",
       "      <td>0</td>\n",
       "      <td>2017-11-25</td>\n",
       "      <td>2017-11-25</td>\n",
       "      <td>815.0</td>\n",
       "      <td>815.0</td>\n",
       "      <td>0</td>\n",
       "      <td>0</td>\n",
       "      <td>0.0</td>\n",
       "      <td>NaT</td>\n",
       "      <td>NaN</td>\n",
       "      <td>NaN</td>\n",
       "      <td>3</td>\n",
       "      <td>3</td>\n",
       "      <td>0</td>\n",
       "      <td>0</td>\n",
       "      <td>0</td>\n",
       "      <td>0</td>\n",
       "      <td>NaN</td>\n",
       "      <td>NaN</td>\n",
       "    </tr>\n",
       "    <tr>\n",
       "      <th>1</th>\n",
       "      <td>141232347443232768</td>\n",
       "      <td>2017-10-23</td>\n",
       "      <td>2017-10-23</td>\n",
       "      <td>847.0</td>\n",
       "      <td>847.0</td>\n",
       "      <td>0</td>\n",
       "      <td>0</td>\n",
       "      <td>0</td>\n",
       "      <td>0</td>\n",
       "      <td>1</td>\n",
       "      <td>0</td>\n",
       "      <td>0</td>\n",
       "      <td>1</td>\n",
       "      <td>1</td>\n",
       "      <td>0</td>\n",
       "      <td>0</td>\n",
       "      <td>2017-10-24</td>\n",
       "      <td>2017-10-24</td>\n",
       "      <td>847.0</td>\n",
       "      <td>847.0</td>\n",
       "      <td>0</td>\n",
       "      <td>0</td>\n",
       "      <td>0.0</td>\n",
       "      <td>NaT</td>\n",
       "      <td>NaN</td>\n",
       "      <td>NaN</td>\n",
       "      <td>1</td>\n",
       "      <td>1</td>\n",
       "      <td>0</td>\n",
       "      <td>0</td>\n",
       "      <td>0</td>\n",
       "      <td>0</td>\n",
       "      <td>NaN</td>\n",
       "      <td>NaN</td>\n",
       "    </tr>\n",
       "    <tr>\n",
       "      <th>2</th>\n",
       "      <td>141234749319806976</td>\n",
       "      <td>2017-11-30</td>\n",
       "      <td>2017-11-30</td>\n",
       "      <td>809.0</td>\n",
       "      <td>809.0</td>\n",
       "      <td>0</td>\n",
       "      <td>0</td>\n",
       "      <td>1</td>\n",
       "      <td>0</td>\n",
       "      <td>0</td>\n",
       "      <td>1</td>\n",
       "      <td>0</td>\n",
       "      <td>1</td>\n",
       "      <td>1</td>\n",
       "      <td>0</td>\n",
       "      <td>0</td>\n",
       "      <td>2017-12-09</td>\n",
       "      <td>2017-12-09</td>\n",
       "      <td>801.0</td>\n",
       "      <td>801.0</td>\n",
       "      <td>0</td>\n",
       "      <td>0</td>\n",
       "      <td>0.0</td>\n",
       "      <td>NaT</td>\n",
       "      <td>NaN</td>\n",
       "      <td>774.0</td>\n",
       "      <td>1</td>\n",
       "      <td>1</td>\n",
       "      <td>1</td>\n",
       "      <td>1</td>\n",
       "      <td>0</td>\n",
       "      <td>0</td>\n",
       "      <td>NaN</td>\n",
       "      <td>NaN</td>\n",
       "    </tr>\n",
       "    <tr>\n",
       "      <th>3</th>\n",
       "      <td>141243827437834240</td>\n",
       "      <td>2017-11-25</td>\n",
       "      <td>2018-02-07</td>\n",
       "      <td>814.0</td>\n",
       "      <td>740.0</td>\n",
       "      <td>2</td>\n",
       "      <td>0</td>\n",
       "      <td>0</td>\n",
       "      <td>0</td>\n",
       "      <td>0</td>\n",
       "      <td>0</td>\n",
       "      <td>0</td>\n",
       "      <td>2</td>\n",
       "      <td>0</td>\n",
       "      <td>0</td>\n",
       "      <td>0</td>\n",
       "      <td>None</td>\n",
       "      <td>None</td>\n",
       "      <td>NaN</td>\n",
       "      <td>NaN</td>\n",
       "      <td>0</td>\n",
       "      <td>0</td>\n",
       "      <td>150000.0</td>\n",
       "      <td>NaT</td>\n",
       "      <td>NaN</td>\n",
       "      <td>NaN</td>\n",
       "      <td>2</td>\n",
       "      <td>2</td>\n",
       "      <td>0</td>\n",
       "      <td>0</td>\n",
       "      <td>0</td>\n",
       "      <td>0</td>\n",
       "      <td>NaN</td>\n",
       "      <td>NaN</td>\n",
       "    </tr>\n",
       "    <tr>\n",
       "      <th>4</th>\n",
       "      <td>141252256982237184</td>\n",
       "      <td>2017-11-26</td>\n",
       "      <td>2017-11-26</td>\n",
       "      <td>813.0</td>\n",
       "      <td>813.0</td>\n",
       "      <td>1</td>\n",
       "      <td>0</td>\n",
       "      <td>0</td>\n",
       "      <td>0</td>\n",
       "      <td>0</td>\n",
       "      <td>0</td>\n",
       "      <td>0</td>\n",
       "      <td>1</td>\n",
       "      <td>0</td>\n",
       "      <td>0</td>\n",
       "      <td>0</td>\n",
       "      <td>None</td>\n",
       "      <td>None</td>\n",
       "      <td>NaN</td>\n",
       "      <td>NaN</td>\n",
       "      <td>0</td>\n",
       "      <td>0</td>\n",
       "      <td>0.0</td>\n",
       "      <td>NaT</td>\n",
       "      <td>NaN</td>\n",
       "      <td>NaN</td>\n",
       "      <td>1</td>\n",
       "      <td>1</td>\n",
       "      <td>0</td>\n",
       "      <td>0</td>\n",
       "      <td>0</td>\n",
       "      <td>0</td>\n",
       "      <td>NaN</td>\n",
       "      <td>NaN</td>\n",
       "    </tr>\n",
       "  </tbody>\n",
       "</table>\n",
       "</div>"
      ],
      "text/plain": [
       "          customer_id first_apply_date last_apply_date  first_apply_now  \\\n",
       "0  141218523654787072       2017-11-25      2017-12-28            814.0   \n",
       "1  141232347443232768       2017-10-23      2017-10-23            847.0   \n",
       "2  141234749319806976       2017-11-30      2017-11-30            809.0   \n",
       "3  141243827437834240       2017-11-25      2018-02-07            814.0   \n",
       "4  141252256982237184       2017-11-26      2017-11-26            813.0   \n",
       "\n",
       "   last_apply_now  cnt_denied  cnt_rescind  new_flag  cnt_advance  \\\n",
       "0           781.0           2            0         0            1   \n",
       "1           847.0           0            0         0            0   \n",
       "2           809.0           0            0         1            0   \n",
       "3           740.0           2            0         0            0   \n",
       "4           813.0           1            0         0            0   \n",
       "\n",
       "   cnt_paidoff  cnt_collection  cnt_collectionpaid  cnt_apply  cnt_loan  \\\n",
       "0            0               0                   0          3         1   \n",
       "1            1               0                   0          1         1   \n",
       "2            0               1                   0          1         1   \n",
       "3            0               0                   0          2         0   \n",
       "4            0               0                   0          1         0   \n",
       "\n",
       "   cnt_extend  max_extend first_effective_date last_effective_date  \\\n",
       "0           0           0           2017-11-25          2017-11-25   \n",
       "1           0           0           2017-10-24          2017-10-24   \n",
       "2           0           0           2017-12-09          2017-12-09   \n",
       "3           0           0                 None                None   \n",
       "4           0           0                 None                None   \n",
       "\n",
       "   first_effective_now  last_effective_now  cnt_loan_90d  cnt_loan_180d  \\\n",
       "0                815.0               815.0             0              0   \n",
       "1                847.0               847.0             0              0   \n",
       "2                801.0               801.0             0              0   \n",
       "3                  NaN                 NaN             0              0   \n",
       "4                  NaN                 NaN             0              0   \n",
       "\n",
       "     profit last_paid_off_time  last_paid_now  max_late_days  total_order  \\\n",
       "0       0.0                NaT            NaN            NaN            3   \n",
       "1       0.0                NaT            NaN            NaN            1   \n",
       "2       0.0                NaT            NaN          774.0            1   \n",
       "3  150000.0                NaT            NaN            NaN            2   \n",
       "4       0.0                NaT            NaN            NaN            1   \n",
       "\n",
       "   total_loan  rucui_loan  rucui_order  chucui_loan  chucui_order  \\\n",
       "0           3           0            0            0             0   \n",
       "1           1           0            0            0             0   \n",
       "2           1           1            1            0             0   \n",
       "3           2           0            0            0             0   \n",
       "4           1           0            0            0             0   \n",
       "\n",
       "   chucui_days  max_chucui_days  \n",
       "0          NaN              NaN  \n",
       "1          NaN              NaN  \n",
       "2          NaN              NaN  \n",
       "3          NaN              NaN  \n",
       "4          NaN              NaN  "
      ]
     },
     "execution_count": 61,
     "metadata": {},
     "output_type": "execute_result"
    },
    {
     "data": {
      "text/plain": [
       "(939761, 34)"
      ]
     },
     "execution_count": 61,
     "metadata": {},
     "output_type": "execute_result"
    }
   ],
   "source": [
    "df = pd.merge(df1,df2 ,on='customer_id', how = 'inner').merge(df3, on = 'customer_id', how='left') \n",
    "df.head()\n",
    "df.shape"
   ]
  },
  {
   "cell_type": "code",
   "execution_count": 33,
   "metadata": {},
   "outputs": [
    {
     "data": {
      "text/plain": [
       "(623995, 36)"
      ]
     },
     "execution_count": 33,
     "metadata": {},
     "output_type": "execute_result"
    }
   ],
   "source": [
    "df_notfund = df[df['cnt_loan']==0].copy() \n",
    "df_notfund['tag_flag'] = df_notfund.apply(lambda x: '申请被拒绝' if x['cnt_denied']>0\n",
    "                                         else '申请取消' if x['cnt_rescind']>0 \n",
    "                                         else '申请其他' ,axis = 1)\n",
    "df_notfund['freq'] = df_notfund['last_apply_now'].apply(lambda x: '活跃' if x<=30 else '不活跃')\n",
    "save_data_to_pickle(df_notfund,file_path,'申请未放款.pkl')\n",
    "df_notfund.shape"
   ]
  },
  {
   "cell_type": "code",
   "execution_count": 12,
   "metadata": {},
   "outputs": [],
   "source": [
    "# df_temp1 = df_notfund[df_notfund['tag_flag']=='申请被拒绝'][['customer_id','last_apply_now']]\n",
    "# df_temp1.to_excel(os.path.join(file_path,'df_temp1.xlsx'))"
   ]
  },
  {
   "cell_type": "code",
   "execution_count": null,
   "metadata": {},
   "outputs": [],
   "source": [
    "# # sns.distplot(df_temp1['last_apply_now'],bins=300)\n",
    "# plt.hist(df_temp1['last_apply_now'],bins=300)\n",
    "# plt.xlim(df_temp1['last_apply_now'].min(),df_temp1['last_apply_now'].max(),50)\n",
    "# plt.savefig(os.path.join(file_path, '申请被拒绝' + '.png'), format='png', dpi=300, bbox_inches = 'tight',pad_inches = 0.1)\n"
   ]
  },
  {
   "cell_type": "code",
   "execution_count": 18,
   "metadata": {
    "scrolled": true
   },
   "outputs": [
    {
     "data": {
      "text/plain": [
       "(154285, 36)"
      ]
     },
     "execution_count": 18,
     "metadata": {},
     "output_type": "execute_result"
    }
   ],
   "source": [
    "df_new = df[df['cnt_loan'] == 1].copy()\n",
    "df_new['tag_flag'] = df_new.apply(lambda x: '逾期结清' if (x['cnt_collectionpaid']>0)\n",
    "                                       else '正常结清' if (x['cnt_paidoff']>0)\n",
    "                                       else '提前结清' if (x['cnt_advance']>0)\n",
    "                                       else '逾期未还' if x['cnt_collection']>0\n",
    "                                       else '订单进行中', axis = 1)\n",
    "df_new['freq'] = df_new.apply(lambda x: '活跃' if (x['last_apply_now']<=25)|(x['last_paid_now']<=25) \n",
    "                              else '不活跃',axis = 1)\n",
    "save_data_to_pickle(df_new,file_path,'新用户.pkl')\n",
    "df_new.shape"
   ]
  },
  {
   "cell_type": "code",
   "execution_count": 62,
   "metadata": {},
   "outputs": [],
   "source": [
    "# df_old = df[df['cnt_loan'] >1].copy()\n",
    "# df_old['avg'] = df_old['profit']/df_old['first_effective_now']\n",
    "# frame1 = pd.pivot_table(df_old,index = 'first_effective_date',aggfunc = {'avg':'sum','customer_id':'count'})\n",
    "# frame1['profit1'] = frame1['avg']/frame1['customer_id']\n",
    "# frame1.to_excel(os.path.join(file_path,'temp1.xlsx'))"
   ]
  },
  {
   "cell_type": "code",
   "execution_count": 63,
   "metadata": {},
   "outputs": [
    {
     "data": {
      "text/plain": [
       "(161481, 40)"
      ]
     },
     "execution_count": 63,
     "metadata": {},
     "output_type": "execute_result"
    }
   ],
   "source": [
    "df_old = df[df['cnt_loan'] >1].copy()\n",
    "df5 = load_data_from_pickle(file_path,'最后一次行为.pkl')\n",
    "df_old = df_old.merge(df5,on = 'customer_id',how = 'inner')\n",
    "df_old['avg_monetary'] = df_old['profit']/df_old['first_effective_now']\n",
    "df_old['tag_flag'] = df_old['loan_status'].apply(lambda x:'当前逾期中' if x == 'COLLECTION' else '其他')\n",
    "df_old['freq'] = df_old.apply(lambda x: '活跃' if (x['last_apply_now']<=25)|(x['last_paid_now']<=25) \n",
    "                                         else '不活跃',axis = 1)\n",
    "df_old['risk'] = df_old['max_late_days'].apply(lambda x: '低风险' if x<=7 else '高风险')\n",
    "df_old['monetary'] = df_old['avg_monetary'].apply(lambda x: '高收益' if x >12463 else '低收益')\n",
    "save_data_to_pickle(df_old,file_path,'老用户.pkl')\n",
    "df_old.shape"
   ]
  },
  {
   "cell_type": "code",
   "execution_count": null,
   "metadata": {},
   "outputs": [],
   "source": []
  },
  {
   "cell_type": "code",
   "execution_count": 19,
   "metadata": {
    "scrolled": true
   },
   "outputs": [],
   "source": [
    "# df_old1 = load_data_from_pickle(file_path,'新用户.pkl')\n",
    "# df5 = load_data_from_pickle(file_path,'最后一次行为.pkl')\n",
    "# df_old1 = df_old1.merge(df5,on = 'customer_id',how = 'inner')\n",
    "# df_temp1 = df_old1[df_old1['tag_flag']=='逾期未还']\n",
    "# df_temp1.shape\n",
    "# df_temp1.head()df_temp1['tta'] = df_temp1['late_days'].apply(lambda x: 1 if x<=7 else 0)\n",
    "# df_temp1['tta'].value_counts()"
   ]
  },
  {
   "cell_type": "markdown",
   "metadata": {},
   "source": [
    "# 用户标签汇总"
   ]
  },
  {
   "cell_type": "code",
   "execution_count": 32,
   "metadata": {},
   "outputs": [],
   "source": [
    "fig_path = os.path.join(file_path,'fig')\n",
    "if not os.path.exists(fig_path):\n",
    "    os.mkdir(fig_path)"
   ]
  },
  {
   "cell_type": "code",
   "execution_count": 46,
   "metadata": {},
   "outputs": [
    {
     "name": "stdout",
     "output_type": "stream",
     "text": [
      "!!!\n"
     ]
    },
    {
     "data": {
      "text/plain": [
       "(3254826, 6)"
      ]
     },
     "execution_count": 46,
     "metadata": {},
     "output_type": "execute_result"
    }
   ],
   "source": [
    "list1 = ['customer_id','type','tag_flag','freq','risk','monetary']\n",
    "df_reg = load_data_from_pickle(file_path, '注册未申请.pkl')\n",
    "df_reg['tag_flag'] = df_reg['idcard_pass_flag'].apply(lambda x:'验证身份信息' if x =='true' else '未验证身份信息')\n",
    "df_reg['last_days'] = df_reg.apply(lambda x:(pd.to_datetime('2020-02-18') - x['create_time']).days if x['update_time'] ==pd.to_datetime('1970-01-01 00:00:00')\n",
    "                               else (pd.to_datetime('2020-02-18') - x['update_time']).days, axis = 1)\n",
    "df_reg['freq'] = df_reg['last_days'].apply(lambda x: '活跃' if x<=30 else '不活跃')\n",
    "df_reg['risk'] = 0\n",
    "df_reg['monetary'] = 0\n",
    "print('!!!')\n",
    "df_apply = load_data_from_pickle(file_path,'申请未放款.pkl')\n",
    "df_apply['type'] = '申请未放款'\n",
    "df_apply['risk'] = 0\n",
    "df_apply['monetary'] = 0\n",
    "df_new = load_data_from_pickle(file_path,'新用户.pkl')\n",
    "df_new['type'] = '新客户'\n",
    "df_new['risk'] = 0\n",
    "df_new['monetary'] = 0\n",
    "df_old = load_data_from_pickle(file_path, '老用户.pkl')\n",
    "df_old['type'] = '老客户'\n",
    "df_tag_all = pd.concat([df_reg[list1],df_apply[list1],df_new[list1] ,df_old[list1]], axis = 0)\n",
    "save_data_to_pickle(df_tag_all,file_path,'所有标签数据.pkl')\n",
    "df_tag_all.shape"
   ]
  },
  {
   "cell_type": "code",
   "execution_count": null,
   "metadata": {},
   "outputs": [],
   "source": [
    "df_temp2 = df_reg[df_reg['freq']=='不活跃']\n",
    "plt.hist(df_temp2['last_days'],bins=300)\n",
    "plt.xlim(df_temp2['last_days'].min(),df_temp2['last_days'].max(),50)\n",
    "plt.savefig(os.path.join(file_path, '注册未申请(不活跃)' + '.png'), format='png', dpi=300, bbox_inches = 'tight',pad_inches = 0.1)\n"
   ]
  },
  {
   "cell_type": "code",
   "execution_count": 33,
   "metadata": {},
   "outputs": [
    {
     "data": {
      "image/png": "[encoded data removed]",
      "text/plain": [
       "<Figure size 432x288 with 1 Axes>"
      ]
     },
     "metadata": {},
     "output_type": "display_data"
    }
   ],
   "source": [
    "frame1 = pd.pivot_table(df_tag_all,index = 'type',values = 'customer_id',aggfunc = 'count')\n",
    "frame1\n",
    "fig = plt.figure()\n",
    "plt.pie(frame1['customer_id'],labels=frame1.index,autopct='%1.2f%%') #画饼图（数据，数据对应的标签，百分数保留两位小数点）\n",
    "plt.title(\"客户类型占比\")\n",
    "plt.savefig(os.path.join(fig_path, '客户类型占比' + '.png'), format='png', dpi=300, bbox_inches = 'tight',pad_inches = 0.1)\n",
    "plt.show();\n",
    "plt.close();\n",
    "\n"
   ]
  },
  {
   "cell_type": "code",
   "execution_count": null,
   "metadata": {},
   "outputs": [],
   "source": [
    "list2 = ['新客户', '注册未申请', '申请未放款']\n",
    "for type1 in list2:\n",
    "    df_temp  = df_tag_all[df_tag_all['type'] == type1]\n",
    "    frame_temp = pd.pivot_table(df_temp,index = 'tag_flag',values = 'customer_id',aggfunc = 'count')\n",
    "    frame_temp\n",
    "    fig = plt.figure()\n",
    "    plt.pie(frame_temp['customer_id'],labels=frame_temp.index,autopct='%1.2f%%') #画饼图（数据，数据对应的标签，百分数保留两位小数点）\n",
    "    plt.title('%s' %type1)\n",
    "    plt.savefig(os.path.join(fig_path, type1 + '.png'), format='png', dpi=300, bbox_inches = 'tight',pad_inches = 0.1)\n",
    "    plt.show();\n",
    "    plt.close();"
   ]
  },
  {
   "cell_type": "code",
   "execution_count": 47,
   "metadata": {},
   "outputs": [
    {
     "name": "stdout",
     "output_type": "stream",
     "text": [
      "1\n"
     ]
    }
   ],
   "source": [
    "temp = pd.pivot_table(df_tag_all,index = ('type','tag_flag','freq','risk','monetary'),values = 'customer_id',aggfunc = 'count')\n",
    "temp.to_excel(os.path.join(file_path,'table.xlsx'))\n",
    "print(1)"
   ]
  },
  {
   "cell_type": "code",
   "execution_count": null,
   "metadata": {},
   "outputs": [],
   "source": []
  }
 ],
 "metadata": {
  "kernelspec": {
   "display_name": "Python 3",
   "language": "python",
   "name": "python3"
  },
  "language_info": {
   "codemirror_mode": {
    "name": "ipython",
    "version": 3
   },
   "file_extension": ".py",
   "mimetype": "text/x-python",
   "name": "python",
   "nbconvert_exporter": "python",
   "pygments_lexer": "ipython3",
   "version": "3.7.5"
  },
  "latex_envs": {
   "LaTeX_envs_menu_present": true,
   "autoclose": false,
   "autocomplete": true,
   "bibliofile": "biblio.bib",
   "cite_by": "apalike",
   "current_citInitial": 1,
   "eqLabelWithNumbers": true,
   "eqNumInitial": 1,
   "hotkeys": {
    "equation": "Ctrl-E",
    "itemize": "Ctrl-I"
   },
   "labels_anchors": false,
   "latex_user_defs": false,
   "report_style_numbering": false,
   "user_envs_cfg": false
  },
  "toc": {
   "base_numbering": 1,
   "nav_menu": {},
   "number_sections": true,
   "sideBar": true,
   "skip_h1_title": false,
   "title_cell": "Table of Contents",
   "title_sidebar": "Contents",
   "toc_cell": false,
   "toc_position": {
    "height": "calc(100% - 180px)",
    "left": "10px",
    "top": "150px",
    "width": "336px"
   },
   "toc_section_display": true,
   "toc_window_display": false
  },
  "varInspector": {
   "cols": {
    "lenName": 16,
    "lenType": 16,
    "lenVar": 40
   },
   "kernels_config": {
    "python": {
     "delete_cmd_postfix": "",
     "delete_cmd_prefix": "del ",
     "library": "var_list.py",
     "varRefreshCmd": "print(var_dic_list())"
    },
    "r": {
     "delete_cmd_postfix": ") ",
     "delete_cmd_prefix": "rm(",
     "library": "var_list.r",
     "varRefreshCmd": "cat(var_dic_list()) "
    }
   },
   "types_to_exclude": [
    "module",
    "function",
    "builtin_function_or_method",
    "instance",
    "_Feature"
   ],
   "window_display": false
  }
 },
 "nbformat": 4,
 "nbformat_minor": 2
}
