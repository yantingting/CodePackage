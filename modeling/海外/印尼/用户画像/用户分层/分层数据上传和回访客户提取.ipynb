{
 "cells": [
  {
   "cell_type": "raw",
   "metadata": {},
   "source": [
    "summary:\n",
    "目的：对印尼存量用户打标签，方便对用户精细化运营和管理；\n",
    "样本：注册时间在2020-02-18（含）之前的所有用户，共计3254826人。"
   ]
  },
  {
   "cell_type": "code",
   "execution_count": 1,
   "metadata": {},
   "outputs": [],
   "source": [
    "import os\n",
    "import sys\n",
    "import time\n",
    "import pandas as pd \n",
    "pd.set_option('display.max_columns', None)\n",
    "pd.set_option('display.max_rows', None)\n",
    "import numpy as np\n",
    "import re\n",
    "import seaborn as sns\n",
    "import matplotlib.pyplot as plt\n",
    "from collections import Counter\n",
    "sys.path.append('/Users/yantingting/PycharmProjects/modeling/')\n",
    "import database_conncet as data_con\n",
    "import data_processing as dp\n",
    "import summary_statistics as ss\n",
    "from data_io_utils import *\n",
    "from matplotlib.pyplot import MultipleLocator\n",
    "from jinja2 import Template"
   ]
  },
  {
   "cell_type": "code",
   "execution_count": 3,
   "metadata": {},
   "outputs": [],
   "source": [
    "file_path = '/Users/yantingting/Documents/用户画像(印尼)/用户分层/数据处理/'\n",
    "if not os.path.exists(file_path):\n",
    "    os.makedirs(file_path)\n",
    "    \n",
    "result_path = '/Users/yantingting/Seafile/风控/模型/10 印尼/用户画像/用户回访'"
   ]
  },
  {
   "cell_type": "markdown",
   "metadata": {
    "heading_collapsed": true
   },
   "source": [
    "# 分层数据上传"
   ]
  },
  {
   "cell_type": "code",
   "execution_count": 23,
   "metadata": {
    "hidden": true
   },
   "outputs": [
    {
     "data": {
      "text/plain": [
       "(3254826, 6)"
      ]
     },
     "execution_count": 23,
     "metadata": {},
     "output_type": "execute_result"
    },
    {
     "data": {
      "text/html": [
       "<div>\n",
       "<style scoped>\n",
       "    .dataframe tbody tr th:only-of-type {\n",
       "        vertical-align: middle;\n",
       "    }\n",
       "\n",
       "    .dataframe tbody tr th {\n",
       "        vertical-align: top;\n",
       "    }\n",
       "\n",
       "    .dataframe thead th {\n",
       "        text-align: right;\n",
       "    }\n",
       "</style>\n",
       "<table border=\"1\" class=\"dataframe\">\n",
       "  <thead>\n",
       "    <tr style=\"text-align: right;\">\n",
       "      <th></th>\n",
       "      <th>customer_id</th>\n",
       "      <th>type</th>\n",
       "      <th>tag_flag</th>\n",
       "      <th>freq</th>\n",
       "      <th>risk</th>\n",
       "      <th>monetary</th>\n",
       "    </tr>\n",
       "  </thead>\n",
       "  <tbody>\n",
       "    <tr>\n",
       "      <th>0</th>\n",
       "      <td>141225204082151424</td>\n",
       "      <td>注册未申请</td>\n",
       "      <td>未验证身份信息</td>\n",
       "      <td>不活跃</td>\n",
       "      <td>0</td>\n",
       "      <td>0</td>\n",
       "    </tr>\n",
       "    <tr>\n",
       "      <th>1</th>\n",
       "      <td>141230974207135744</td>\n",
       "      <td>注册未申请</td>\n",
       "      <td>未验证身份信息</td>\n",
       "      <td>不活跃</td>\n",
       "      <td>0</td>\n",
       "      <td>0</td>\n",
       "    </tr>\n",
       "    <tr>\n",
       "      <th>2</th>\n",
       "      <td>141233437656088576</td>\n",
       "      <td>注册未申请</td>\n",
       "      <td>未验证身份信息</td>\n",
       "      <td>不活跃</td>\n",
       "      <td>0</td>\n",
       "      <td>0</td>\n",
       "    </tr>\n",
       "    <tr>\n",
       "      <th>3</th>\n",
       "      <td>141238704447815680</td>\n",
       "      <td>注册未申请</td>\n",
       "      <td>未验证身份信息</td>\n",
       "      <td>不活跃</td>\n",
       "      <td>0</td>\n",
       "      <td>0</td>\n",
       "    </tr>\n",
       "    <tr>\n",
       "      <th>4</th>\n",
       "      <td>141239155218063360</td>\n",
       "      <td>注册未申请</td>\n",
       "      <td>验证身份信息</td>\n",
       "      <td>不活跃</td>\n",
       "      <td>0</td>\n",
       "      <td>0</td>\n",
       "    </tr>\n",
       "  </tbody>\n",
       "</table>\n",
       "</div>"
      ],
      "text/plain": [
       "          customer_id   type tag_flag freq risk monetary\n",
       "0  141225204082151424  注册未申请  未验证身份信息  不活跃    0        0\n",
       "1  141230974207135744  注册未申请  未验证身份信息  不活跃    0        0\n",
       "2  141233437656088576  注册未申请  未验证身份信息  不活跃    0        0\n",
       "3  141238704447815680  注册未申请  未验证身份信息  不活跃    0        0\n",
       "4  141239155218063360  注册未申请   验证身份信息  不活跃    0        0"
      ]
     },
     "execution_count": 23,
     "metadata": {},
     "output_type": "execute_result"
    }
   ],
   "source": [
    "df_all = load_data_from_pickle(file_path,'所有标签数据.pkl')\n",
    "df_all.shape\n",
    "df_all.head()"
   ]
  },
  {
   "cell_type": "code",
   "execution_count": 24,
   "metadata": {
    "hidden": true
   },
   "outputs": [
    {
     "name": "stdout",
     "output_type": "stream",
     "text": [
      "1\n"
     ]
    }
   ],
   "source": [
    "dict1 = {'注册未申请':1,\n",
    "        '申请未放款':2,\n",
    "         '新客户':3,\n",
    "        '老客户':4}\n",
    "dict2 = {'未验证身份信息': 1,\n",
    "'验证身份信息':      2,\n",
    "'申请被拒绝':       3,\n",
    "'逾期未还':        4,\n",
    "'其他'       :    5,\n",
    "'申请取消'    :     6,\n",
    "'订单进行中'  :     7,\n",
    "'逾期结清'    :    8,\n",
    "'提前结清'   :   9,\n",
    "'正常结清'    :  10,\n",
    "'申请其他'  : 11}\n",
    "df_all['type'] = df_all['type'].apply(lambda x: dict1.get(x))\n",
    "df_all['tag_flag'] = df_all['tag_flag'].apply(lambda x: dict2.get(x))\n",
    "print(1)"
   ]
  },
  {
   "cell_type": "code",
   "execution_count": 49,
   "metadata": {
    "hidden": true
   },
   "outputs": [
    {
     "data": {
      "text/plain": [
       "(624967, 6)"
      ]
     },
     "execution_count": 49,
     "metadata": {},
     "output_type": "execute_result"
    },
    {
     "data": {
      "text/plain": [
       "(624968, 6)"
      ]
     },
     "execution_count": 49,
     "metadata": {},
     "output_type": "execute_result"
    }
   ],
   "source": [
    "import sklearn\n",
    "from sklearn.model_selection import train_test_split\n",
    "df_temp = df_all[(df_all['type']==1)&(df_all['tag_flag']==1)&(df_all['freq']=='不活跃')]\n",
    "#dat为数据集,含有feature和label.\n",
    "df_temp1, df_temp2 = train_test_split(df_temp, test_size = 0.5, random_state=1)\n",
    "df_temp1.shape\n",
    "df_temp2.shape"
   ]
  },
  {
   "cell_type": "code",
   "execution_count": 52,
   "metadata": {
    "hidden": true
   },
   "outputs": [
    {
     "data": {
      "text/plain": [
       "'success'"
      ]
     },
     "execution_count": 52,
     "metadata": {},
     "output_type": "execute_result"
    },
    {
     "name": "stdout",
     "output_type": "stream",
     "text": [
      "1\n"
     ]
    },
    {
     "data": {
      "text/plain": [
       "'success'"
      ]
     },
     "execution_count": 52,
     "metadata": {},
     "output_type": "execute_result"
    }
   ],
   "source": [
    "df_temp = df_temp2\n",
    "table_sql = '''\n",
    "    CREATE TABLE ytt_yhfc_1111(\n",
    "        customer_id bigint,\n",
    "        type text,\n",
    "        tag_flag text,\n",
    "        freq text,\n",
    "        risk text,\n",
    "        monetary text\n",
    "    )\n",
    "    '''\n",
    "Filename = df_temp\n",
    "SQL_CREATE_TABLE = table_sql\n",
    "data_con.upload_df_to_pg(SQL_CREATE_TABLE)\n",
    "insert = \"\"\"\n",
    "INSERT INTO ytt_yhfc_1111\n",
    "   VALUES\n",
    " {% for var in var_list %}\n",
    "{{ var }},\n",
    "{% endfor %}\n",
    "\"\"\"\n",
    "var_list = []\n",
    "for cols, rows in Filename.iterrows():    \n",
    "    c = tuple(rows)\n",
    "    var_list.append(c)\n",
    "insert_sql = Template(insert).render(var_list=var_list)[:-2]\n",
    "insert_sql = insert_sql.replace('\\n','')\n",
    "print(1)\n",
    "data_con.upload_df_to_pg(insert_sql)"
   ]
  },
  {
   "cell_type": "markdown",
   "metadata": {},
   "source": [
    "# 回访用户提取"
   ]
  },
  {
   "cell_type": "raw",
   "metadata": {},
   "source": [
    "老客户"
   ]
  },
  {
   "cell_type": "code",
   "execution_count": 4,
   "metadata": {},
   "outputs": [],
   "source": [
    "writer = pd.ExcelWriter(os.path.join(result_path,'回访样本.xlsx'))"
   ]
  },
  {
   "cell_type": "code",
   "execution_count": 5,
   "metadata": {},
   "outputs": [],
   "source": [
    "query0 = '''\n",
    "select t1.*,t3.create_time as reg_time,t3.cell_phone,\n",
    "t2.*\n",
    "from (select *\n",
    "from ytt_yhfc_4) t1 \n",
    "left join \n",
    "(select *\n",
    "from (\n",
    "select customer_id,apply_time,\n",
    "\"grouping\",request_principal,request_period,loan_status,\n",
    "row_number()over(partition by customer_id order by effective_date desc )  as loan_rank\n",
    "from rt_t_gocash_core_loan \n",
    "where effective_date !='1970-01-01') t \n",
    "where loan_rank =1) t2 \n",
    "on t1.customer_id = t2.customer_id\n",
    "left join rt_t_gocash_core_customer t3 \n",
    "on t1.customer_id = t3.id\n",
    "where loan_status !='COLLECTION' and \"grouping\" like 'One%'\n",
    "order by t3.create_time desc \n",
    "'''"
   ]
  },
  {
   "cell_type": "code",
   "execution_count": 6,
   "metadata": {},
   "outputs": [
    {
     "name": "stdout",
     "output_type": "stream",
     "text": [
      "Successful connection\n"
     ]
    },
    {
     "data": {
      "text/plain": [
       "(42761, 15)"
      ]
     },
     "execution_count": 6,
     "metadata": {},
     "output_type": "execute_result"
    },
    {
     "data": {
      "text/html": [
       "<div>\n",
       "<style scoped>\n",
       "    .dataframe tbody tr th:only-of-type {\n",
       "        vertical-align: middle;\n",
       "    }\n",
       "\n",
       "    .dataframe tbody tr th {\n",
       "        vertical-align: top;\n",
       "    }\n",
       "\n",
       "    .dataframe thead th {\n",
       "        text-align: right;\n",
       "    }\n",
       "</style>\n",
       "<table border=\"1\" class=\"dataframe\">\n",
       "  <thead>\n",
       "    <tr style=\"text-align: right;\">\n",
       "      <th></th>\n",
       "      <th>customer_id</th>\n",
       "      <th>type</th>\n",
       "      <th>tag_flag</th>\n",
       "      <th>freq</th>\n",
       "      <th>risk</th>\n",
       "      <th>monetary</th>\n",
       "      <th>reg_time</th>\n",
       "      <th>cell_phone</th>\n",
       "      <th>customer_id</th>\n",
       "      <th>apply_time</th>\n",
       "      <th>grouping</th>\n",
       "      <th>request_principal</th>\n",
       "      <th>request_period</th>\n",
       "      <th>loan_status</th>\n",
       "      <th>loan_rank</th>\n",
       "    </tr>\n",
       "  </thead>\n",
       "  <tbody>\n",
       "    <tr>\n",
       "      <th>0</th>\n",
       "      <td>436154833794662400</td>\n",
       "      <td>4</td>\n",
       "      <td>5</td>\n",
       "      <td>活跃</td>\n",
       "      <td>高风险</td>\n",
       "      <td>低收益</td>\n",
       "      <td>2020-02-17 12:23:36</td>\n",
       "      <td>089674665782</td>\n",
       "      <td>436154833794662400</td>\n",
       "      <td>2020-02-18 07:47:27</td>\n",
       "      <td>OneTest6</td>\n",
       "      <td>1700000.0</td>\n",
       "      <td>8</td>\n",
       "      <td>FUNDED</td>\n",
       "      <td>1</td>\n",
       "    </tr>\n",
       "    <tr>\n",
       "      <th>1</th>\n",
       "      <td>435878659763896320</td>\n",
       "      <td>4</td>\n",
       "      <td>5</td>\n",
       "      <td>活跃</td>\n",
       "      <td>高风险</td>\n",
       "      <td>低收益</td>\n",
       "      <td>2020-02-16 18:06:11</td>\n",
       "      <td>081288454949</td>\n",
       "      <td>435878659763896320</td>\n",
       "      <td>2020-02-18 17:35:18</td>\n",
       "      <td>OneTest5</td>\n",
       "      <td>1800000.0</td>\n",
       "      <td>29</td>\n",
       "      <td>FUNDED</td>\n",
       "      <td>1</td>\n",
       "    </tr>\n",
       "    <tr>\n",
       "      <th>2</th>\n",
       "      <td>435870295155712000</td>\n",
       "      <td>4</td>\n",
       "      <td>5</td>\n",
       "      <td>活跃</td>\n",
       "      <td>高风险</td>\n",
       "      <td>低收益</td>\n",
       "      <td>2020-02-16 17:32:56</td>\n",
       "      <td>081932533101</td>\n",
       "      <td>435870295155712000</td>\n",
       "      <td>2020-02-18 10:28:24</td>\n",
       "      <td>OneTest5</td>\n",
       "      <td>2000000.0</td>\n",
       "      <td>15</td>\n",
       "      <td>ADVANCE_PAIDOFF</td>\n",
       "      <td>1</td>\n",
       "    </tr>\n",
       "    <tr>\n",
       "      <th>3</th>\n",
       "      <td>435822698210697216</td>\n",
       "      <td>4</td>\n",
       "      <td>5</td>\n",
       "      <td>活跃</td>\n",
       "      <td>高风险</td>\n",
       "      <td>低收益</td>\n",
       "      <td>2020-02-16 14:23:48</td>\n",
       "      <td>082129233450</td>\n",
       "      <td>435822698210697216</td>\n",
       "      <td>2020-02-19 14:52:54</td>\n",
       "      <td>OneTest4</td>\n",
       "      <td>1800000.0</td>\n",
       "      <td>22</td>\n",
       "      <td>FUNDED</td>\n",
       "      <td>1</td>\n",
       "    </tr>\n",
       "    <tr>\n",
       "      <th>4</th>\n",
       "      <td>435467793960706048</td>\n",
       "      <td>4</td>\n",
       "      <td>5</td>\n",
       "      <td>活跃</td>\n",
       "      <td>高风险</td>\n",
       "      <td>低收益</td>\n",
       "      <td>2020-02-15 14:53:33</td>\n",
       "      <td>087889501725</td>\n",
       "      <td>435467793960706048</td>\n",
       "      <td>2020-02-18 13:45:30</td>\n",
       "      <td>OneTest5</td>\n",
       "      <td>1100000.0</td>\n",
       "      <td>8</td>\n",
       "      <td>FUNDED</td>\n",
       "      <td>1</td>\n",
       "    </tr>\n",
       "  </tbody>\n",
       "</table>\n",
       "</div>"
      ],
      "text/plain": [
       "          customer_id type tag_flag freq risk monetary             reg_time  \\\n",
       "0  436154833794662400    4        5   活跃  高风险      低收益  2020-02-17 12:23:36   \n",
       "1  435878659763896320    4        5   活跃  高风险      低收益  2020-02-16 18:06:11   \n",
       "2  435870295155712000    4        5   活跃  高风险      低收益  2020-02-16 17:32:56   \n",
       "3  435822698210697216    4        5   活跃  高风险      低收益  2020-02-16 14:23:48   \n",
       "4  435467793960706048    4        5   活跃  高风险      低收益  2020-02-15 14:53:33   \n",
       "\n",
       "     cell_phone         customer_id           apply_time  grouping  \\\n",
       "0  089674665782  436154833794662400  2020-02-18 07:47:27  OneTest6   \n",
       "1  081288454949  435878659763896320  2020-02-18 17:35:18  OneTest5   \n",
       "2  081932533101  435870295155712000  2020-02-18 10:28:24  OneTest5   \n",
       "3  082129233450  435822698210697216  2020-02-19 14:52:54  OneTest4   \n",
       "4  087889501725  435467793960706048  2020-02-18 13:45:30  OneTest5   \n",
       "\n",
       "   request_principal  request_period      loan_status  loan_rank  \n",
       "0          1700000.0               8           FUNDED          1  \n",
       "1          1800000.0              29           FUNDED          1  \n",
       "2          2000000.0              15  ADVANCE_PAIDOFF          1  \n",
       "3          1800000.0              22           FUNDED          1  \n",
       "4          1100000.0               8           FUNDED          1  "
      ]
     },
     "execution_count": 6,
     "metadata": {},
     "output_type": "execute_result"
    }
   ],
   "source": [
    "df_old = data_con.database_gn(query0)\n",
    "# save_data_to_pickle(df_old,file_path,'老客户.pkl')\n",
    "df_old.shape\n",
    "df_old.head()"
   ]
  },
  {
   "cell_type": "code",
   "execution_count": 7,
   "metadata": {},
   "outputs": [],
   "source": [
    "# 低风险高收益\n",
    "# 进行中未选择最高额度1500\n",
    "# 结清1500\n",
    "# 低风险低收益\n"
   ]
  },
  {
   "cell_type": "code",
   "execution_count": 8,
   "metadata": {},
   "outputs": [
    {
     "data": {
      "text/plain": [
       "(4854, 5)"
      ]
     },
     "execution_count": 8,
     "metadata": {},
     "output_type": "execute_result"
    }
   ],
   "source": [
    "df_old['是否选择最高额度'] = df_old['request_principal'].apply(lambda x: '否' if x<=1000000 else '是')\n",
    "df_old1 = df_old[(df_old['risk'] == '低风险')&(df_old['monetary'] == '高收益')&(df_old['loan_status'] !='FUNDED')].head(1500)\n",
    "df_old2 = df_old[(df_old['risk'] == '低风险')&(df_old['monetary'] == '高收益')\n",
    "                 &(df_old['loan_status'] =='FUNDED')&(df_old['是否选择最高额度']=='否')].head(1500)\n",
    "df_old3 = df_old[(df_old['risk'] == '低风险')&(df_old['monetary'] == '低收益')&(df_old['loan_status'] !='FUNDED')].head(1500)\n",
    "df_old4 = df_old[(df_old['risk'] == '低风险')&(df_old['monetary'] == '低收益')\n",
    "                 &(df_old['loan_status'] =='FUNDED')&(df_old['是否选择最高额度']=='否')].head(1500)\n",
    "remain_list = ['customer_id','reg_time','cell_phone','是否选择最高额度']\n",
    "df_old_all = pd.concat([df_old1[remain_list],df_old2[remain_list],df_old3[remain_list],df_old4[remain_list]],axis = 0)\n",
    "df_old_all.shape"
   ]
  },
  {
   "cell_type": "code",
   "execution_count": 9,
   "metadata": {},
   "outputs": [
    {
     "name": "stdout",
     "output_type": "stream",
     "text": [
      "1\n"
     ]
    }
   ],
   "source": [
    "df_old_all.to_excel(writer,sheet_name='老客户')\n",
    "print(1)"
   ]
  },
  {
   "cell_type": "raw",
   "metadata": {},
   "source": [
    "新客户"
   ]
  },
  {
   "cell_type": "code",
   "execution_count": 10,
   "metadata": {},
   "outputs": [],
   "source": [
    "query_new = '''\n",
    "select t1.*,\n",
    "t2.cell_phone,t2.create_time as reg_time\n",
    "from\n",
    "(select customer_id,apply_time,effective_date,loan_status,paid_off_time,\"grouping\",request_principal,request_period,\n",
    "case when date(paid_off_time) != '1970-01-01' then  current_date - date(paid_off_time) else null end as last_paid_now\n",
    "from rt_t_gocash_core_loan\n",
    "where customer_id in \n",
    "(select customer_id\n",
    "from rt_t_gocash_core_loan\n",
    "where effective_date !='1970-01-01'\n",
    "group by customer_id\n",
    "having count(1) = 1) \n",
    "and effective_date !='1970-01-01') t1 \n",
    "left join rt_t_gocash_core_customer t2 \n",
    "on t1.customer_id = t2.id\n",
    "order by t2.create_time desc \n",
    "'''"
   ]
  },
  {
   "cell_type": "code",
   "execution_count": 11,
   "metadata": {},
   "outputs": [
    {
     "name": "stdout",
     "output_type": "stream",
     "text": [
      "Successful connection\n"
     ]
    },
    {
     "data": {
      "text/plain": [
       "(158885, 11)"
      ]
     },
     "execution_count": 11,
     "metadata": {},
     "output_type": "execute_result"
    },
    {
     "data": {
      "text/html": [
       "<div>\n",
       "<style scoped>\n",
       "    .dataframe tbody tr th:only-of-type {\n",
       "        vertical-align: middle;\n",
       "    }\n",
       "\n",
       "    .dataframe tbody tr th {\n",
       "        vertical-align: top;\n",
       "    }\n",
       "\n",
       "    .dataframe thead th {\n",
       "        text-align: right;\n",
       "    }\n",
       "</style>\n",
       "<table border=\"1\" class=\"dataframe\">\n",
       "  <thead>\n",
       "    <tr style=\"text-align: right;\">\n",
       "      <th></th>\n",
       "      <th>customer_id</th>\n",
       "      <th>apply_time</th>\n",
       "      <th>effective_date</th>\n",
       "      <th>loan_status</th>\n",
       "      <th>paid_off_time</th>\n",
       "      <th>grouping</th>\n",
       "      <th>request_principal</th>\n",
       "      <th>request_period</th>\n",
       "      <th>last_paid_now</th>\n",
       "      <th>cell_phone</th>\n",
       "      <th>reg_time</th>\n",
       "    </tr>\n",
       "  </thead>\n",
       "  <tbody>\n",
       "    <tr>\n",
       "      <th>0</th>\n",
       "      <td>439062844380971008</td>\n",
       "      <td>2020-02-25 13:18:45</td>\n",
       "      <td>2020-02-25</td>\n",
       "      <td>FUNDED</td>\n",
       "      <td>None</td>\n",
       "      <td>Test5</td>\n",
       "      <td>1500000.0</td>\n",
       "      <td>29</td>\n",
       "      <td>NaN</td>\n",
       "      <td>087762457162</td>\n",
       "      <td>2020-02-25 12:58:59</td>\n",
       "    </tr>\n",
       "    <tr>\n",
       "      <th>1</th>\n",
       "      <td>439061349841600512</td>\n",
       "      <td>2020-02-25 12:59:33</td>\n",
       "      <td>2020-02-25</td>\n",
       "      <td>FUNDED</td>\n",
       "      <td>None</td>\n",
       "      <td>Test8</td>\n",
       "      <td>1500000.0</td>\n",
       "      <td>22</td>\n",
       "      <td>NaN</td>\n",
       "      <td>087731392759</td>\n",
       "      <td>2020-02-25 12:53:03</td>\n",
       "    </tr>\n",
       "    <tr>\n",
       "      <th>2</th>\n",
       "      <td>439060590970183680</td>\n",
       "      <td>2020-02-25 12:55:47</td>\n",
       "      <td>2020-02-25</td>\n",
       "      <td>FUNDED</td>\n",
       "      <td>None</td>\n",
       "      <td>Test5</td>\n",
       "      <td>1500000.0</td>\n",
       "      <td>29</td>\n",
       "      <td>NaN</td>\n",
       "      <td>081367543607</td>\n",
       "      <td>2020-02-25 12:50:02</td>\n",
       "    </tr>\n",
       "    <tr>\n",
       "      <th>3</th>\n",
       "      <td>439060496019718144</td>\n",
       "      <td>2020-02-25 13:05:38</td>\n",
       "      <td>2020-02-25</td>\n",
       "      <td>FUNDED</td>\n",
       "      <td>None</td>\n",
       "      <td>Test8</td>\n",
       "      <td>1500000.0</td>\n",
       "      <td>22</td>\n",
       "      <td>NaN</td>\n",
       "      <td>085255319025</td>\n",
       "      <td>2020-02-25 12:49:40</td>\n",
       "    </tr>\n",
       "    <tr>\n",
       "      <th>4</th>\n",
       "      <td>439060162090016768</td>\n",
       "      <td>2020-02-25 12:56:50</td>\n",
       "      <td>2020-02-25</td>\n",
       "      <td>FUNDED</td>\n",
       "      <td>None</td>\n",
       "      <td>Test6</td>\n",
       "      <td>1200000.0</td>\n",
       "      <td>8</td>\n",
       "      <td>NaN</td>\n",
       "      <td>087719889000</td>\n",
       "      <td>2020-02-25 12:48:20</td>\n",
       "    </tr>\n",
       "  </tbody>\n",
       "</table>\n",
       "</div>"
      ],
      "text/plain": [
       "          customer_id           apply_time effective_date loan_status  \\\n",
       "0  439062844380971008  2020-02-25 13:18:45     2020-02-25      FUNDED   \n",
       "1  439061349841600512  2020-02-25 12:59:33     2020-02-25      FUNDED   \n",
       "2  439060590970183680  2020-02-25 12:55:47     2020-02-25      FUNDED   \n",
       "3  439060496019718144  2020-02-25 13:05:38     2020-02-25      FUNDED   \n",
       "4  439060162090016768  2020-02-25 12:56:50     2020-02-25      FUNDED   \n",
       "\n",
       "  paid_off_time grouping  request_principal  request_period  last_paid_now  \\\n",
       "0          None    Test5          1500000.0              29            NaN   \n",
       "1          None    Test8          1500000.0              22            NaN   \n",
       "2          None    Test5          1500000.0              29            NaN   \n",
       "3          None    Test8          1500000.0              22            NaN   \n",
       "4          None    Test6          1200000.0               8            NaN   \n",
       "\n",
       "     cell_phone             reg_time  \n",
       "0  087762457162  2020-02-25 12:58:59  \n",
       "1  087731392759  2020-02-25 12:53:03  \n",
       "2  081367543607  2020-02-25 12:50:02  \n",
       "3  085255319025  2020-02-25 12:49:40  \n",
       "4  087719889000  2020-02-25 12:48:20  "
      ]
     },
     "execution_count": 11,
     "metadata": {},
     "output_type": "execute_result"
    }
   ],
   "source": [
    "df = data_con.database_gn(query_new)\n",
    "df.shape\n",
    "df.head()"
   ]
  },
  {
   "cell_type": "code",
   "execution_count": null,
   "metadata": {},
   "outputs": [],
   "source": [
    "# 提前结清 \n",
    "# 正常结清 \n",
    "# 订单进行中\n",
    "# # 未选择最高额度的；\n",
    "# # 未选择最长期限的；\n",
    "# # 选择最高额度的\n",
    "# 逾期未还\n",
    "\n",
    "# Test1\t100万，15\n",
    "# Test2\t100万，22\n",
    "# Test3\t150万，15\n",
    "# Test4\t150万，22\n",
    "# Test5\t150万，29\n",
    "# Test6\t120万，22\n",
    "# Test7\t150万，15\n",
    "# Test8\t150万，22\n"
   ]
  },
  {
   "cell_type": "code",
   "execution_count": 12,
   "metadata": {},
   "outputs": [
    {
     "data": {
      "text/plain": [
       "(2464, 11)"
      ]
     },
     "execution_count": 12,
     "metadata": {},
     "output_type": "execute_result"
    },
    {
     "data": {
      "text/plain": [
       "(1546, 11)"
      ]
     },
     "execution_count": 12,
     "metadata": {},
     "output_type": "execute_result"
    },
    {
     "name": "stderr",
     "output_type": "stream",
     "text": [
      "/Users/yantingting/anaconda3/envs/modeling/lib/python3.7/site-packages/ipykernel_launcher.py:16: SettingWithCopyWarning: \n",
      "A value is trying to be set on a copy of a slice from a DataFrame.\n",
      "Try using .loc[row_indexer,col_indexer] = value instead\n",
      "\n",
      "See the caveats in the documentation: http://pandas.pydata.org/pandas-docs/stable/user_guide/indexing.html#returning-a-view-versus-a-copy\n",
      "  app.launch_new_instance()\n",
      "/Users/yantingting/anaconda3/envs/modeling/lib/python3.7/site-packages/ipykernel_launcher.py:27: SettingWithCopyWarning: \n",
      "A value is trying to be set on a copy of a slice from a DataFrame.\n",
      "Try using .loc[row_indexer,col_indexer] = value instead\n",
      "\n",
      "See the caveats in the documentation: http://pandas.pydata.org/pandas-docs/stable/user_guide/indexing.html#returning-a-view-versus-a-copy\n"
     ]
    },
    {
     "data": {
      "text/plain": [
       "(3000, 13)"
      ]
     },
     "execution_count": 12,
     "metadata": {},
     "output_type": "execute_result"
    },
    {
     "data": {
      "text/plain": [
       "(3000, 13)"
      ]
     },
     "execution_count": 12,
     "metadata": {},
     "output_type": "execute_result"
    },
    {
     "data": {
      "text/plain": [
       "(3000, 13)"
      ]
     },
     "execution_count": 12,
     "metadata": {},
     "output_type": "execute_result"
    },
    {
     "data": {
      "text/plain": [
       "(3000, 11)"
      ]
     },
     "execution_count": 12,
     "metadata": {},
     "output_type": "execute_result"
    },
    {
     "data": {
      "text/plain": [
       "(7010, 4)"
      ]
     },
     "execution_count": 12,
     "metadata": {},
     "output_type": "execute_result"
    },
    {
     "data": {
      "text/plain": [
       "(9000, 4)"
      ]
     },
     "execution_count": 12,
     "metadata": {},
     "output_type": "execute_result"
    }
   ],
   "source": [
    "df1 = df[(df['loan_status'] =='ADVANCE_PAIDOFF')&(df['last_paid_now']>=30)]\n",
    "df1.shape\n",
    "df2 = df[(df['loan_status'] =='PAIDOFF')&(df['last_paid_now']>=30)]\n",
    "df2.shape\n",
    "df3 = df[(df['loan_status'] =='FUNDED')]\n",
    "df3['是否选择最高额度'] = df3.apply(lambda x:'是' if (x['grouping'] =='Test1') & (x['request_principal']>=1000000)\n",
    "                                       else '是' if (x['grouping'] =='Test2') & (x['request_principal']>=1000000)\n",
    "                           else '是' if (x['grouping'] =='Test3') & (x['request_principal']>=1500000)\n",
    "                           else '是' if (x['grouping'] =='Test4') & (x['request_principal']>=1500000)\n",
    "                           else '是' if (x['grouping'] =='Test5') & (x['request_principal']>=1500000)\n",
    "                           else '是' if (x['grouping'] =='Test6') & (x['request_principal']>=1200000)\n",
    "                           else '是' if (x['grouping'] =='Test7') & (x['request_principal']>=1500000)\n",
    "                           else '是' if (x['grouping'] =='Test8') & (x['request_principal']>=1500000)\n",
    "                           else '是' if (x['grouping'] =='ControlGroup') & (x['request_principal']>=1000000)\n",
    "                           else '是' if (x['grouping'] =='') & (x['request_principal']>=1000000)\n",
    "                           else '否', axis = 1)\n",
    "df3['是否选择最长期限']=df3.apply(lambda x:'是' if (x['grouping'] =='Test1') & (x['request_period']>=15)\n",
    "                                       else '是' if (x['grouping'] =='Test2') & (x['request_period']>=22)\n",
    "                           else '是' if (x['grouping'] =='Test3') & (x['request_period']>=15)\n",
    "                           else '是' if (x['grouping'] =='Test4') & (x['request_period']>=22)\n",
    "                           else '是' if (x['grouping'] =='Test5') & (x['request_period']>=29)\n",
    "                           else '是' if (x['grouping'] =='Test6') & (x['request_period']>=22)\n",
    "                           else '是' if (x['grouping'] =='Test7') & (x['request_period']>=15)\n",
    "                           else '是' if (x['grouping'] =='Test8') & (x['request_period']>=22)\n",
    "                           else '是' if (x['grouping'] =='ControlGroup') & (x['request_period']>=15)\n",
    "                           else '是' if (x['grouping'] =='') & (x['request_period']>=15)\n",
    "                           else '否', axis = 1)\n",
    "df31 = df3[df3['是否选择最高额度']=='否'].head(3000)\n",
    "df31.shape\n",
    "df32 = df3[df3['是否选择最长期限']=='否'].head(3000)\n",
    "df32.shape\n",
    "df33 = df3[df3['是否选择最高额度']=='是'].head(3000)\n",
    "df33.shape\n",
    "df4 = df[(df['loan_status'] =='COLLECTION')].head(3000)\n",
    "df4.shape\n",
    "remain_list1 = ['customer_id','reg_time','cell_phone','loan_status']\n",
    "remain_list2 = ['customer_id','reg_time','cell_phone','是否选择最高额度','是否选择最长期限','loan_status']\n",
    "df_new_all1 = pd.concat([df1[remain_list1],df2[remain_list1],df4[remain_list1]],axis = 0)\n",
    "df_new_all1.shape\n",
    "df_new_all2 = pd.concat([df31[remain_list2],df32[remain_list2],df33[remain_list2]],axis = 0)\n",
    "df_new_all2.shape"
   ]
  },
  {
   "cell_type": "code",
   "execution_count": 13,
   "metadata": {},
   "outputs": [
    {
     "name": "stdout",
     "output_type": "stream",
     "text": [
      "1\n"
     ]
    }
   ],
   "source": [
    "df_new_all1.to_excel(writer,sheet_name='新客户(结清&逾期)')\n",
    "df_new_all2.to_excel(writer,sheet_name='新客户(进行中)')\n",
    "print(1)"
   ]
  },
  {
   "cell_type": "raw",
   "metadata": {},
   "source": [
    "申请未放款"
   ]
  },
  {
   "cell_type": "code",
   "execution_count": 14,
   "metadata": {},
   "outputs": [],
   "source": [
    "query2 = '''\n",
    "select t1.*,t3.create_time as reg_time,t3.cell_phone,\n",
    "t2.*\n",
    "from (select customer_id,'申请未放款' as type,\n",
    "'申请取消' as tag_flag\n",
    "from ytt_yhfc_2\n",
    "where tag_flag = '6'\n",
    "order by customer_id desc) t1 \n",
    "left join \n",
    "(select *\n",
    "from (\n",
    "select customer_id,apply_time,\n",
    "\"grouping\",request_principal,request_period,loan_status,\n",
    "row_number()over(partition by customer_id order by apply_time desc )  as loan_rank\n",
    "from rt_t_gocash_core_loan ) t \n",
    "where loan_rank =1) t2 \n",
    "on t1.customer_id = t2.customer_id\n",
    "left join rt_t_gocash_core_customer t3 \n",
    "on t1.customer_id = t3.id\n",
    "where loan_status = 'RESCIND'\n",
    "order by t3.create_time desc\n",
    "'''"
   ]
  },
  {
   "cell_type": "code",
   "execution_count": 15,
   "metadata": {},
   "outputs": [
    {
     "name": "stdout",
     "output_type": "stream",
     "text": [
      "Successful connection\n"
     ]
    },
    {
     "data": {
      "text/plain": [
       "(56920, 12)"
      ]
     },
     "execution_count": 15,
     "metadata": {},
     "output_type": "execute_result"
    }
   ],
   "source": [
    "df_apply = data_con.database_gn(query2)\n",
    "# save_data_to_pickle(df_apply,result_path,'申请取消.pkl')\n",
    "df_apply.shape"
   ]
  },
  {
   "cell_type": "code",
   "execution_count": 16,
   "metadata": {},
   "outputs": [
    {
     "name": "stdout",
     "output_type": "stream",
     "text": [
      "1\n"
     ]
    }
   ],
   "source": [
    "remain_list = ['customer_id','reg_time','cell_phone','loan_status']\n",
    "df_apply[remain_list].head(3000).to_excel(writer,sheet_name='申请取消')\n",
    "print(1)"
   ]
  },
  {
   "cell_type": "raw",
   "metadata": {},
   "source": [
    "注册未申请"
   ]
  },
  {
   "cell_type": "code",
   "execution_count": 17,
   "metadata": {},
   "outputs": [],
   "source": [
    "query3 = '''\n",
    "select t1.id as customer_id,t1.cell_phone,\n",
    "t1.create_time,\n",
    "t1.update_time,\n",
    "t1.idcard_pass_flag,\n",
    "'注册未申请' as type\n",
    "from dw_gocash_go_cash_loan_gocash_core_customer t1 \n",
    "left join \n",
    "(select distinct customer_id from dw_gocash_go_cash_loan_gocash_core_loan where date(apply_time)<='2020-02-18') t2 \n",
    "on t1.id = t2.customer_id\n",
    "where t2.customer_id is null and date(t1.create_time)<='2020-02-18'\n",
    "order by t1.create_time desc \n",
    "limit 3000\n",
    "'''"
   ]
  },
  {
   "cell_type": "code",
   "execution_count": 18,
   "metadata": {},
   "outputs": [
    {
     "name": "stdout",
     "output_type": "stream",
     "text": [
      "Successful connection\n"
     ]
    },
    {
     "data": {
      "text/plain": [
       "(3000, 6)"
      ]
     },
     "execution_count": 18,
     "metadata": {},
     "output_type": "execute_result"
    }
   ],
   "source": [
    "df_reg = data_con.database_gn(query3)\n",
    "save_data_to_pickle(df_reg,result_path,'注册未申请.pkl')\n",
    "df_reg.shape"
   ]
  },
  {
   "cell_type": "code",
   "execution_count": 19,
   "metadata": {},
   "outputs": [
    {
     "name": "stdout",
     "output_type": "stream",
     "text": [
      "1\n"
     ]
    }
   ],
   "source": [
    "remain_list = ['customer_id','create_time','cell_phone']\n",
    "df_reg[remain_list].to_excel(writer,sheet_name='注册未申请')\n",
    "print(1)"
   ]
  },
  {
   "cell_type": "code",
   "execution_count": 20,
   "metadata": {},
   "outputs": [
    {
     "name": "stdout",
     "output_type": "stream",
     "text": [
      "success\n"
     ]
    }
   ],
   "source": [
    "writer.save()\n",
    "print('success')"
   ]
  },
  {
   "cell_type": "code",
   "execution_count": null,
   "metadata": {},
   "outputs": [],
   "source": []
  }
 ],
 "metadata": {
  "kernelspec": {
   "display_name": "Python 3",
   "language": "python",
   "name": "python3"
  },
  "language_info": {
   "codemirror_mode": {
    "name": "ipython",
    "version": 3
   },
   "file_extension": ".py",
   "mimetype": "text/x-python",
   "name": "python",
   "nbconvert_exporter": "python",
   "pygments_lexer": "ipython3",
   "version": "3.7.5"
  },
  "latex_envs": {
   "LaTeX_envs_menu_present": true,
   "autoclose": false,
   "autocomplete": true,
   "bibliofile": "biblio.bib",
   "cite_by": "apalike",
   "current_citInitial": 1,
   "eqLabelWithNumbers": true,
   "eqNumInitial": 1,
   "hotkeys": {
    "equation": "Ctrl-E",
    "itemize": "Ctrl-I"
   },
   "labels_anchors": false,
   "latex_user_defs": false,
   "report_style_numbering": false,
   "user_envs_cfg": false
  },
  "toc": {
   "base_numbering": 1,
   "nav_menu": {},
   "number_sections": true,
   "sideBar": true,
   "skip_h1_title": false,
   "title_cell": "Table of Contents",
   "title_sidebar": "Contents",
   "toc_cell": false,
   "toc_position": {
    "height": "calc(100% - 180px)",
    "left": "10px",
    "top": "150px",
    "width": "336px"
   },
   "toc_section_display": true,
   "toc_window_display": false
  },
  "varInspector": {
   "cols": {
    "lenName": 16,
    "lenType": 16,
    "lenVar": 40
   },
   "kernels_config": {
    "python": {
     "delete_cmd_postfix": "",
     "delete_cmd_prefix": "del ",
     "library": "var_list.py",
     "varRefreshCmd": "print(var_dic_list())"
    },
    "r": {
     "delete_cmd_postfix": ") ",
     "delete_cmd_prefix": "rm(",
     "library": "var_list.r",
     "varRefreshCmd": "cat(var_dic_list()) "
    }
   },
   "types_to_exclude": [
    "module",
    "function",
    "builtin_function_or_method",
    "instance",
    "_Feature"
   ],
   "window_display": false
  }
 },
 "nbformat": 4,
 "nbformat_minor": 2
}
