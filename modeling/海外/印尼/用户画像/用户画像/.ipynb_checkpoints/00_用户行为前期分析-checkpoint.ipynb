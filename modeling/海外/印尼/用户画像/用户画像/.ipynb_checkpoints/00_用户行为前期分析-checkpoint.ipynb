{
 "cells": [
  {
   "cell_type": "code",
   "execution_count": 1,
   "metadata": {},
   "outputs": [],
   "source": [
    "import os\n",
    "import sys\n",
    "import time\n",
    "import pandas as pd \n",
    "pd.set_option('display.max_columns', None)\n",
    "pd.set_option('display.max_rows', None)\n",
    "import numpy as np\n",
    "import re\n",
    "import matplotlib.pyplot as plt\n",
    "from matplotlib import rcParams\n",
    "plt.rcParams['font.family']=['Microsoft YaHei']\n",
    "plt.rcParams['axes.unicode_minus'] = False\n",
    "from collections import Counter\n",
    "import seaborn as sns\n",
    "sys.path.append('/Users/yantingting/PycharmProjects/modeling/')\n",
    "import database_conncet as data_con\n",
    "import data_processing as dp\n",
    "import summary_statistics as ss\n",
    "from data_io_utils import *"
   ]
  },
  {
   "cell_type": "code",
   "execution_count": 2,
   "metadata": {},
   "outputs": [],
   "source": [
    "file_path = '/Users/yantingting/Documents/用户画像(印尼)/dataprepare/'"
   ]
  },
  {
   "cell_type": "markdown",
   "metadata": {},
   "source": [
    "# 平均复贷次数"
   ]
  },
  {
   "cell_type": "code",
   "execution_count": 3,
   "metadata": {},
   "outputs": [],
   "source": [
    "query1 = '''\n",
    "select t1.effective_date,\n",
    "count(distinct t1.customer_id) as cnt_cus,\n",
    "count(1) as times \n",
    "from \n",
    "(select customer_id,\n",
    "return_flag,\n",
    "effective_date\n",
    "from dw_gocash_go_cash_loan_gocash_core_loan \n",
    "where effective_date is not null\n",
    "and effective_date::date >= '2019-01-01'\n",
    "and effective_date::date <= '2019-12-20'\n",
    "and return_flag = 'false') t1 \n",
    "left join\n",
    "(select loan_no,\n",
    "customer_id,\n",
    "return_flag,\n",
    "effective_date\n",
    "from dw_gocash_go_cash_loan_gocash_core_loan \n",
    "where effective_date is not null\n",
    "and effective_date::date >= '2019-01-01') t2 \n",
    "on t1.customer_id = t2.customer_id\n",
    "group by t1.effective_date\n",
    "'''"
   ]
  },
  {
   "cell_type": "code",
   "execution_count": 4,
   "metadata": {},
   "outputs": [
    {
     "name": "stdout",
     "output_type": "stream",
     "text": [
      "Successful connection\n"
     ]
    }
   ],
   "source": [
    "df1 = data_con.database_gn(query1)\n",
    "save_data_to_pickle(df1, file_path, '复贷次数.pkl')"
   ]
  },
  {
   "cell_type": "code",
   "execution_count": 4,
   "metadata": {},
   "outputs": [
    {
     "data": {
      "text/plain": [
       "(318, 3)"
      ]
     },
     "execution_count": 4,
     "metadata": {},
     "output_type": "execute_result"
    }
   ],
   "source": [
    "df1 = load_data_from_pickle(file_path,'复贷次数.pkl')\n",
    "df1.shape"
   ]
  },
  {
   "cell_type": "code",
   "execution_count": 5,
   "metadata": {},
   "outputs": [
    {
     "data": {
      "text/plain": [
       "count    318.000000\n",
       "mean       3.002696\n",
       "std        0.790784\n",
       "min        1.000000\n",
       "25%        2.517789\n",
       "50%        2.989112\n",
       "75%        3.432037\n",
       "max       10.000000\n",
       "Name: avg_times, dtype: float64"
      ]
     },
     "execution_count": 5,
     "metadata": {},
     "output_type": "execute_result"
    },
    {
     "data": {
      "text/plain": [
       "<matplotlib.axes._subplots.AxesSubplot at 0x1a1be270d0>"
      ]
     },
     "execution_count": 5,
     "metadata": {},
     "output_type": "execute_result"
    },
    {
     "data": {
      "image/png": "[encoded data removed]",
      "text/plain": [
       "<Figure size 432x288 with 1 Axes>"
      ]
     },
     "metadata": {
      "needs_background": "light"
     },
     "output_type": "display_data"
    }
   ],
   "source": [
    "df1['avg_times'] = df1['times']/df1['cnt_cus']\n",
    "df1['avg_times'].describe().T;\n",
    "sns.distplot(df1['avg_times'])"
   ]
  },
  {
   "cell_type": "markdown",
   "metadata": {},
   "source": [
    "# 平均复贷间隔天数"
   ]
  },
  {
   "cell_type": "code",
   "execution_count": 8,
   "metadata": {},
   "outputs": [],
   "source": [
    "query2 = '''\n",
    "select vin_effective_date,\n",
    "count(1) as cnt_loan,\n",
    "sum(diff_days) as sum_days\n",
    "from\n",
    "(\n",
    "select t1.loan_no,\n",
    "t1.effective_date as vin_effective_date,\n",
    "t2.effective_date as sec_effective_date,\n",
    "t2.effective_date - t1.effective_date as diff_days,\n",
    "row_number()over(partition by t1.loan_no order by t2.effective_date asc ) as rank_loan\n",
    "from \n",
    "(select loan_no,\n",
    "customer_id,\n",
    "effective_date\n",
    "from dw_gocash_go_cash_loan_gocash_core_loan \n",
    "where effective_date is not null\n",
    "and effective_date::date >= '2019-01-01'\n",
    "and effective_date::date <= '2019-12-20') t1 \n",
    "left join\n",
    "(select loan_no,\n",
    "customer_id,\n",
    "effective_date\n",
    "from dw_gocash_go_cash_loan_gocash_core_loan \n",
    "where effective_date is not null\n",
    "and effective_date::date >= '2019-01-01') t2 \n",
    "on t1.customer_id = t2.customer_id\n",
    "where t1.effective_date < t2.effective_date) t\n",
    "where rank_loan = 1\n",
    "group by vin_effective_date\n",
    "'''"
   ]
  },
  {
   "cell_type": "code",
   "execution_count": null,
   "metadata": {},
   "outputs": [
    {
     "name": "stdout",
     "output_type": "stream",
     "text": [
      "Successful connection\n"
     ]
    }
   ],
   "source": [
    "df2 = data_con.database_gn(query2)\n",
    "save_data_to_pickle(df2, file_path, '复贷间隔天数.pkl')"
   ]
  },
  {
   "cell_type": "code",
   "execution_count": 6,
   "metadata": {},
   "outputs": [],
   "source": [
    "df2 = load_data_from_pickle(file_path, '复贷间隔天数.pkl')"
   ]
  },
  {
   "cell_type": "code",
   "execution_count": 8,
   "metadata": {},
   "outputs": [
    {
     "data": {
      "text/plain": [
       "count    343.000000\n",
       "mean      25.462253\n",
       "std       11.744393\n",
       "min       13.636429\n",
       "25%       20.371990\n",
       "50%       22.659529\n",
       "75%       25.163284\n",
       "max      102.461538\n",
       "Name: avg_days, dtype: float64"
      ]
     },
     "execution_count": 8,
     "metadata": {},
     "output_type": "execute_result"
    },
    {
     "data": {
      "text/plain": [
       "<matplotlib.axes._subplots.AxesSubplot at 0x1a2b245810>"
      ]
     },
     "execution_count": 8,
     "metadata": {},
     "output_type": "execute_result"
    },
    {
     "data": {
      "text/plain": [
       "Text(0.5, 1.0, '放款平均间隔天数')"
      ]
     },
     "execution_count": 8,
     "metadata": {},
     "output_type": "execute_result"
    },
    {
     "data": {
      "image/png": "[encoded data removed]",
      "text/plain": [
       "<Figure size 432x288 with 1 Axes>"
      ]
     },
     "metadata": {
      "needs_background": "light"
     },
     "output_type": "display_data"
    }
   ],
   "source": [
    "df2['avg_days'] = df2['sum_days']/ df2['cnt_loan']\n",
    "df2['avg_days'].describe().T;\n",
    "sns.distplot(df2['avg_days'])\n",
    "plt.title(u'放款平均间隔天数')"
   ]
  },
  {
   "cell_type": "code",
   "execution_count": null,
   "metadata": {},
   "outputs": [],
   "source": []
  }
 ],
 "metadata": {
  "kernelspec": {
   "display_name": "Python 3",
   "language": "python",
   "name": "python3"
  },
  "language_info": {
   "codemirror_mode": {
    "name": "ipython",
    "version": 3
   },
   "file_extension": ".py",
   "mimetype": "text/x-python",
   "name": "python",
   "nbconvert_exporter": "python",
   "pygments_lexer": "ipython3",
   "version": "3.7.5"
  },
  "latex_envs": {
   "LaTeX_envs_menu_present": true,
   "autoclose": false,
   "autocomplete": true,
   "bibliofile": "biblio.bib",
   "cite_by": "apalike",
   "current_citInitial": 1,
   "eqLabelWithNumbers": true,
   "eqNumInitial": 1,
   "hotkeys": {
    "equation": "Ctrl-E",
    "itemize": "Ctrl-I"
   },
   "labels_anchors": false,
   "latex_user_defs": false,
   "report_style_numbering": false,
   "user_envs_cfg": false
  },
  "toc": {
   "base_numbering": 1,
   "nav_menu": {},
   "number_sections": true,
   "sideBar": true,
   "skip_h1_title": false,
   "title_cell": "Table of Contents",
   "title_sidebar": "Contents",
   "toc_cell": false,
   "toc_position": {},
   "toc_section_display": true,
   "toc_window_display": true
  },
  "varInspector": {
   "cols": {
    "lenName": 16,
    "lenType": 16,
    "lenVar": 40
   },
   "kernels_config": {
    "python": {
     "delete_cmd_postfix": "",
     "delete_cmd_prefix": "del ",
     "library": "var_list.py",
     "varRefreshCmd": "print(var_dic_list())"
    },
    "r": {
     "delete_cmd_postfix": ") ",
     "delete_cmd_prefix": "rm(",
     "library": "var_list.r",
     "varRefreshCmd": "cat(var_dic_list()) "
    }
   },
   "types_to_exclude": [
    "module",
    "function",
    "builtin_function_or_method",
    "instance",
    "_Feature"
   ],
   "window_display": false
  }
 },
 "nbformat": 4,
 "nbformat_minor": 2
}
