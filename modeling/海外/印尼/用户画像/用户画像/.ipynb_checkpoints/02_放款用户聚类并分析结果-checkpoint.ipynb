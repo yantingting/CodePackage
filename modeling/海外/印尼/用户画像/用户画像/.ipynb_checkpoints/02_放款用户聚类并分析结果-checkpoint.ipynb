{
 "cells": [
  {
   "cell_type": "code",
   "execution_count": null,
   "metadata": {},
   "outputs": [],
   "source": [
    "import os\n",
    "import sys\n",
    "import time\n",
    "import pandas as pd \n",
    "pd.set_option('display.max_columns', None)\n",
    "pd.set_option('display.max_rows', None)\n",
    "import numpy as np\n",
    "import re\n",
    "import seaborn as sns\n",
    "import matplotlib.pyplot as plt\n",
    "from collections import Counter\n",
    "from sklearn.cluster import k_means\n",
    "from sklearn.metrics import silhouette_score\n",
    "from matplotlib import rcParams\n",
    "# plt.rcParams['font.sans-serif'] = ['STFangsong']\n",
    "plt.rcParams['font.family']=['Microsoft YaHei']\n",
    "plt.rcParams['axes.unicode_minus'] = False\n",
    "sys.path.append('/Users/yantingting/PycharmProjects/modeling/')\n",
    "import database_conncet as data_con\n",
    "import data_processing as dp\n",
    "import summary_statistics as ss\n",
    "from data_io_utils import *"
   ]
  },
  {
   "cell_type": "raw",
   "metadata": {},
   "source": [
    "备注：放款用户取第一次申请时间在2019/05-01 到 2019/09-30的用户"
   ]
  },
  {
   "cell_type": "code",
   "execution_count": null,
   "metadata": {},
   "outputs": [],
   "source": [
    "file_path = '/Users/yantingting/Documents/用户画像(印尼)/dataprepare/fund_data/'\n",
    "if not os.path.exists(file_path):\n",
    "    os.makedirs(file_path)"
   ]
  },
  {
   "cell_type": "markdown",
   "metadata": {
    "heading_collapsed": true
   },
   "source": [
    "# 读取数据并确定X"
   ]
  },
  {
   "cell_type": "code",
   "execution_count": 52,
   "metadata": {
    "hidden": true
   },
   "outputs": [
    {
     "data": {
      "text/plain": [
       "(71742, 21)"
      ]
     },
     "execution_count": 52,
     "metadata": {},
     "output_type": "execute_result"
    },
    {
     "data": {
      "text/html": [
       "<div>\n",
       "<style scoped>\n",
       "    .dataframe tbody tr th:only-of-type {\n",
       "        vertical-align: middle;\n",
       "    }\n",
       "\n",
       "    .dataframe tbody tr th {\n",
       "        vertical-align: top;\n",
       "    }\n",
       "\n",
       "    .dataframe thead th {\n",
       "        text-align: right;\n",
       "    }\n",
       "</style>\n",
       "<table border=\"1\" class=\"dataframe\">\n",
       "  <thead>\n",
       "    <tr style=\"text-align: right;\">\n",
       "      <th></th>\n",
       "      <th>customer_id</th>\n",
       "      <th>first_apply_date</th>\n",
       "      <th>cnt_apply</th>\n",
       "      <th>cnt_loan</th>\n",
       "      <th>cnt_extend</th>\n",
       "      <th>max_extend</th>\n",
       "      <th>first_effective_now</th>\n",
       "      <th>last_effective_now</th>\n",
       "      <th>cnt_loan_90d</th>\n",
       "      <th>cnt_loan_180d</th>\n",
       "      <th>gap_fundday</th>\n",
       "      <th>m3_m6</th>\n",
       "      <th>profit</th>\n",
       "      <th>is_profit</th>\n",
       "      <th>total_order</th>\n",
       "      <th>rucui_loan</th>\n",
       "      <th>rucui_order</th>\n",
       "      <th>chucui_loan</th>\n",
       "      <th>chucui_order</th>\n",
       "      <th>chucui_days</th>\n",
       "      <th>max_chucui_days</th>\n",
       "    </tr>\n",
       "  </thead>\n",
       "  <tbody>\n",
       "    <tr>\n",
       "      <th>0</th>\n",
       "      <td>141518828737011712</td>\n",
       "      <td>2019-09-25</td>\n",
       "      <td>2</td>\n",
       "      <td>2</td>\n",
       "      <td>6</td>\n",
       "      <td>3</td>\n",
       "      <td>113.0</td>\n",
       "      <td>54.0</td>\n",
       "      <td>1</td>\n",
       "      <td>2</td>\n",
       "      <td>59.000000</td>\n",
       "      <td>0.500000</td>\n",
       "      <td>789000.0</td>\n",
       "      <td>1</td>\n",
       "      <td>3</td>\n",
       "      <td>1</td>\n",
       "      <td>2</td>\n",
       "      <td>1</td>\n",
       "      <td>2</td>\n",
       "      <td>3.0</td>\n",
       "      <td>2.0</td>\n",
       "    </tr>\n",
       "    <tr>\n",
       "      <th>1</th>\n",
       "      <td>143344900650696704</td>\n",
       "      <td>2019-07-24</td>\n",
       "      <td>7</td>\n",
       "      <td>7</td>\n",
       "      <td>3</td>\n",
       "      <td>2</td>\n",
       "      <td>176.0</td>\n",
       "      <td>1.0</td>\n",
       "      <td>4</td>\n",
       "      <td>7</td>\n",
       "      <td>29.166667</td>\n",
       "      <td>0.571429</td>\n",
       "      <td>1756800.0</td>\n",
       "      <td>1</td>\n",
       "      <td>7</td>\n",
       "      <td>1</td>\n",
       "      <td>1</td>\n",
       "      <td>1</td>\n",
       "      <td>1</td>\n",
       "      <td>1.0</td>\n",
       "      <td>1.0</td>\n",
       "    </tr>\n",
       "  </tbody>\n",
       "</table>\n",
       "</div>"
      ],
      "text/plain": [
       "          customer_id first_apply_date  cnt_apply  cnt_loan  cnt_extend  \\\n",
       "0  141518828737011712       2019-09-25          2         2           6   \n",
       "1  143344900650696704       2019-07-24          7         7           3   \n",
       "\n",
       "   max_extend  first_effective_now  last_effective_now  cnt_loan_90d  \\\n",
       "0           3                113.0                54.0             1   \n",
       "1           2                176.0                 1.0             4   \n",
       "\n",
       "   cnt_loan_180d  gap_fundday     m3_m6     profit  is_profit  total_order  \\\n",
       "0              2    59.000000  0.500000   789000.0          1            3   \n",
       "1              7    29.166667  0.571429  1756800.0          1            7   \n",
       "\n",
       "   rucui_loan  rucui_order  chucui_loan  chucui_order  chucui_days  \\\n",
       "0           1            2            1             2          3.0   \n",
       "1           1            1            1             1          1.0   \n",
       "\n",
       "   max_chucui_days  \n",
       "0              2.0  \n",
       "1              1.0  "
      ]
     },
     "execution_count": 52,
     "metadata": {},
     "output_type": "execute_result"
    }
   ],
   "source": [
    "df_fund = load_data_from_pickle(file_path,'df_fund_var.pkl')\n",
    "df_fund.shape\n",
    "y = df_fund[['customer_id',\t'first_apply_date']]\n",
    "x = df_fund.iloc[:, 3:]\n",
    "df_fund.head(2)"
   ]
  },
  {
   "cell_type": "code",
   "execution_count": 31,
   "metadata": {
    "hidden": true
   },
   "outputs": [
    {
     "data": {
      "text/html": [
       "<div>\n",
       "<style scoped>\n",
       "    .dataframe tbody tr th:only-of-type {\n",
       "        vertical-align: middle;\n",
       "    }\n",
       "\n",
       "    .dataframe tbody tr th {\n",
       "        vertical-align: top;\n",
       "    }\n",
       "\n",
       "    .dataframe thead th {\n",
       "        text-align: right;\n",
       "    }\n",
       "</style>\n",
       "<table border=\"1\" class=\"dataframe\">\n",
       "  <thead>\n",
       "    <tr style=\"text-align: right;\">\n",
       "      <th></th>\n",
       "      <th>cnt_loan</th>\n",
       "      <th>cnt_extend</th>\n",
       "      <th>max_extend</th>\n",
       "      <th>first_effective_now</th>\n",
       "      <th>last_effective_now</th>\n",
       "      <th>cnt_loan_90d</th>\n",
       "      <th>cnt_loan_180d</th>\n",
       "      <th>gap_fundday</th>\n",
       "      <th>m3_m6</th>\n",
       "      <th>profit</th>\n",
       "      <th>is_profit</th>\n",
       "      <th>total_order</th>\n",
       "      <th>rucui_loan</th>\n",
       "      <th>rucui_order</th>\n",
       "      <th>chucui_loan</th>\n",
       "      <th>chucui_order</th>\n",
       "      <th>chucui_days</th>\n",
       "      <th>max_chucui_days</th>\n",
       "    </tr>\n",
       "  </thead>\n",
       "  <tbody>\n",
       "    <tr>\n",
       "      <th>cnt_loan</th>\n",
       "      <td>1.000000</td>\n",
       "      <td>0.108222</td>\n",
       "      <td>0.038935</td>\n",
       "      <td>0.164124</td>\n",
       "      <td>-0.614686</td>\n",
       "      <td>0.720569</td>\n",
       "      <td>0.884921</td>\n",
       "      <td>0.268603</td>\n",
       "      <td>0.418450</td>\n",
       "      <td>0.671197</td>\n",
       "      <td>0.549755</td>\n",
       "      <td>0.930468</td>\n",
       "      <td>0.226771</td>\n",
       "      <td>0.092790</td>\n",
       "      <td>0.352235</td>\n",
       "      <td>0.206124</td>\n",
       "      <td>0.047875</td>\n",
       "      <td>0.014631</td>\n",
       "    </tr>\n",
       "    <tr>\n",
       "      <th>cnt_extend</th>\n",
       "      <td>0.108222</td>\n",
       "      <td>1.000000</td>\n",
       "      <td>0.959339</td>\n",
       "      <td>0.147317</td>\n",
       "      <td>-0.108490</td>\n",
       "      <td>0.020427</td>\n",
       "      <td>0.052507</td>\n",
       "      <td>0.307777</td>\n",
       "      <td>0.074604</td>\n",
       "      <td>0.571020</td>\n",
       "      <td>0.482613</td>\n",
       "      <td>0.333605</td>\n",
       "      <td>0.108430</td>\n",
       "      <td>0.529645</td>\n",
       "      <td>0.334089</td>\n",
       "      <td>0.589258</td>\n",
       "      <td>0.194491</td>\n",
       "      <td>0.073990</td>\n",
       "    </tr>\n",
       "    <tr>\n",
       "      <th>max_extend</th>\n",
       "      <td>0.038935</td>\n",
       "      <td>0.959339</td>\n",
       "      <td>1.000000</td>\n",
       "      <td>0.125658</td>\n",
       "      <td>-0.028742</td>\n",
       "      <td>-0.033970</td>\n",
       "      <td>-0.008472</td>\n",
       "      <td>0.227617</td>\n",
       "      <td>0.016341</td>\n",
       "      <td>0.519655</td>\n",
       "      <td>0.441720</td>\n",
       "      <td>0.278843</td>\n",
       "      <td>0.053181</td>\n",
       "      <td>0.521487</td>\n",
       "      <td>0.276327</td>\n",
       "      <td>0.570049</td>\n",
       "      <td>0.192876</td>\n",
       "      <td>0.075799</td>\n",
       "    </tr>\n",
       "    <tr>\n",
       "      <th>first_effective_now</th>\n",
       "      <td>0.164124</td>\n",
       "      <td>0.147317</td>\n",
       "      <td>0.125658</td>\n",
       "      <td>1.000000</td>\n",
       "      <td>0.537515</td>\n",
       "      <td>-0.192642</td>\n",
       "      <td>-0.182869</td>\n",
       "      <td>0.113345</td>\n",
       "      <td>-0.367431</td>\n",
       "      <td>0.127765</td>\n",
       "      <td>0.107588</td>\n",
       "      <td>0.195841</td>\n",
       "      <td>0.146452</td>\n",
       "      <td>0.162340</td>\n",
       "      <td>0.116500</td>\n",
       "      <td>0.131552</td>\n",
       "      <td>0.085119</td>\n",
       "      <td>0.059529</td>\n",
       "    </tr>\n",
       "    <tr>\n",
       "      <th>last_effective_now</th>\n",
       "      <td>-0.614686</td>\n",
       "      <td>-0.108490</td>\n",
       "      <td>-0.028742</td>\n",
       "      <td>0.537515</td>\n",
       "      <td>1.000000</td>\n",
       "      <td>-0.722772</td>\n",
       "      <td>-0.777001</td>\n",
       "      <td>-0.448650</td>\n",
       "      <td>-0.748503</td>\n",
       "      <td>-0.499086</td>\n",
       "      <td>-0.459108</td>\n",
       "      <td>-0.557414</td>\n",
       "      <td>-0.121091</td>\n",
       "      <td>-0.017482</td>\n",
       "      <td>-0.277368</td>\n",
       "      <td>-0.158799</td>\n",
       "      <td>-0.027563</td>\n",
       "      <td>-0.001375</td>\n",
       "    </tr>\n",
       "    <tr>\n",
       "      <th>cnt_loan_90d</th>\n",
       "      <td>0.720569</td>\n",
       "      <td>0.020427</td>\n",
       "      <td>-0.033970</td>\n",
       "      <td>-0.192642</td>\n",
       "      <td>-0.722772</td>\n",
       "      <td>1.000000</td>\n",
       "      <td>0.813903</td>\n",
       "      <td>0.235368</td>\n",
       "      <td>0.767714</td>\n",
       "      <td>0.478442</td>\n",
       "      <td>0.410884</td>\n",
       "      <td>0.646403</td>\n",
       "      <td>0.069625</td>\n",
       "      <td>-0.033246</td>\n",
       "      <td>0.227182</td>\n",
       "      <td>0.107965</td>\n",
       "      <td>0.003896</td>\n",
       "      <td>-0.014499</td>\n",
       "    </tr>\n",
       "    <tr>\n",
       "      <th>cnt_loan_180d</th>\n",
       "      <td>0.884921</td>\n",
       "      <td>0.052507</td>\n",
       "      <td>-0.008472</td>\n",
       "      <td>-0.182869</td>\n",
       "      <td>-0.777001</td>\n",
       "      <td>0.813903</td>\n",
       "      <td>1.000000</td>\n",
       "      <td>0.232008</td>\n",
       "      <td>0.511140</td>\n",
       "      <td>0.604774</td>\n",
       "      <td>0.501739</td>\n",
       "      <td>0.806927</td>\n",
       "      <td>0.161830</td>\n",
       "      <td>0.027411</td>\n",
       "      <td>0.299366</td>\n",
       "      <td>0.152570</td>\n",
       "      <td>0.017303</td>\n",
       "      <td>-0.005798</td>\n",
       "    </tr>\n",
       "    <tr>\n",
       "      <th>gap_fundday</th>\n",
       "      <td>0.268603</td>\n",
       "      <td>0.307777</td>\n",
       "      <td>0.227617</td>\n",
       "      <td>0.113345</td>\n",
       "      <td>-0.448650</td>\n",
       "      <td>0.235368</td>\n",
       "      <td>0.232008</td>\n",
       "      <td>1.000000</td>\n",
       "      <td>0.417825</td>\n",
       "      <td>0.396583</td>\n",
       "      <td>0.441419</td>\n",
       "      <td>0.296023</td>\n",
       "      <td>0.175118</td>\n",
       "      <td>0.180487</td>\n",
       "      <td>0.291182</td>\n",
       "      <td>0.267566</td>\n",
       "      <td>0.133179</td>\n",
       "      <td>0.089187</td>\n",
       "    </tr>\n",
       "    <tr>\n",
       "      <th>m3_m6</th>\n",
       "      <td>0.418450</td>\n",
       "      <td>0.074604</td>\n",
       "      <td>0.016341</td>\n",
       "      <td>-0.367431</td>\n",
       "      <td>-0.748503</td>\n",
       "      <td>0.767714</td>\n",
       "      <td>0.511140</td>\n",
       "      <td>0.417825</td>\n",
       "      <td>1.000000</td>\n",
       "      <td>0.340945</td>\n",
       "      <td>0.330459</td>\n",
       "      <td>0.374161</td>\n",
       "      <td>0.034493</td>\n",
       "      <td>-0.024956</td>\n",
       "      <td>0.182447</td>\n",
       "      <td>0.105577</td>\n",
       "      <td>0.018792</td>\n",
       "      <td>0.000200</td>\n",
       "    </tr>\n",
       "    <tr>\n",
       "      <th>profit</th>\n",
       "      <td>0.671197</td>\n",
       "      <td>0.571020</td>\n",
       "      <td>0.519655</td>\n",
       "      <td>0.127765</td>\n",
       "      <td>-0.499086</td>\n",
       "      <td>0.478442</td>\n",
       "      <td>0.604774</td>\n",
       "      <td>0.396583</td>\n",
       "      <td>0.340945</td>\n",
       "      <td>1.000000</td>\n",
       "      <td>0.838184</td>\n",
       "      <td>0.749542</td>\n",
       "      <td>0.172524</td>\n",
       "      <td>0.325507</td>\n",
       "      <td>0.467322</td>\n",
       "      <td>0.499109</td>\n",
       "      <td>0.296842</td>\n",
       "      <td>0.215762</td>\n",
       "    </tr>\n",
       "    <tr>\n",
       "      <th>is_profit</th>\n",
       "      <td>0.549755</td>\n",
       "      <td>0.482613</td>\n",
       "      <td>0.441720</td>\n",
       "      <td>0.107588</td>\n",
       "      <td>-0.459108</td>\n",
       "      <td>0.410884</td>\n",
       "      <td>0.501739</td>\n",
       "      <td>0.441419</td>\n",
       "      <td>0.330459</td>\n",
       "      <td>0.838184</td>\n",
       "      <td>1.000000</td>\n",
       "      <td>0.624181</td>\n",
       "      <td>0.163812</td>\n",
       "      <td>0.301080</td>\n",
       "      <td>0.479071</td>\n",
       "      <td>0.476224</td>\n",
       "      <td>0.277021</td>\n",
       "      <td>0.204276</td>\n",
       "    </tr>\n",
       "    <tr>\n",
       "      <th>total_order</th>\n",
       "      <td>0.930468</td>\n",
       "      <td>0.333605</td>\n",
       "      <td>0.278843</td>\n",
       "      <td>0.195841</td>\n",
       "      <td>-0.557414</td>\n",
       "      <td>0.646403</td>\n",
       "      <td>0.806927</td>\n",
       "      <td>0.296023</td>\n",
       "      <td>0.374161</td>\n",
       "      <td>0.749542</td>\n",
       "      <td>0.624181</td>\n",
       "      <td>1.000000</td>\n",
       "      <td>0.279848</td>\n",
       "      <td>0.397168</td>\n",
       "      <td>0.476621</td>\n",
       "      <td>0.497516</td>\n",
       "      <td>0.166717</td>\n",
       "      <td>0.068314</td>\n",
       "    </tr>\n",
       "    <tr>\n",
       "      <th>rucui_loan</th>\n",
       "      <td>0.226771</td>\n",
       "      <td>0.108430</td>\n",
       "      <td>0.053181</td>\n",
       "      <td>0.146452</td>\n",
       "      <td>-0.121091</td>\n",
       "      <td>0.069625</td>\n",
       "      <td>0.161830</td>\n",
       "      <td>0.175118</td>\n",
       "      <td>0.034493</td>\n",
       "      <td>0.172524</td>\n",
       "      <td>0.163812</td>\n",
       "      <td>0.279848</td>\n",
       "      <td>1.000000</td>\n",
       "      <td>0.677092</td>\n",
       "      <td>0.841291</td>\n",
       "      <td>0.621222</td>\n",
       "      <td>0.279723</td>\n",
       "      <td>0.164202</td>\n",
       "    </tr>\n",
       "    <tr>\n",
       "      <th>rucui_order</th>\n",
       "      <td>0.092790</td>\n",
       "      <td>0.529645</td>\n",
       "      <td>0.521487</td>\n",
       "      <td>0.162340</td>\n",
       "      <td>-0.017482</td>\n",
       "      <td>-0.033246</td>\n",
       "      <td>0.027411</td>\n",
       "      <td>0.180487</td>\n",
       "      <td>-0.024956</td>\n",
       "      <td>0.325507</td>\n",
       "      <td>0.301080</td>\n",
       "      <td>0.397168</td>\n",
       "      <td>0.677092</td>\n",
       "      <td>1.000000</td>\n",
       "      <td>0.750329</td>\n",
       "      <td>0.955601</td>\n",
       "      <td>0.400312</td>\n",
       "      <td>0.200725</td>\n",
       "    </tr>\n",
       "    <tr>\n",
       "      <th>chucui_loan</th>\n",
       "      <td>0.352235</td>\n",
       "      <td>0.334089</td>\n",
       "      <td>0.276327</td>\n",
       "      <td>0.116500</td>\n",
       "      <td>-0.277368</td>\n",
       "      <td>0.227182</td>\n",
       "      <td>0.299366</td>\n",
       "      <td>0.291182</td>\n",
       "      <td>0.182447</td>\n",
       "      <td>0.467322</td>\n",
       "      <td>0.479071</td>\n",
       "      <td>0.476621</td>\n",
       "      <td>0.841291</td>\n",
       "      <td>0.750329</td>\n",
       "      <td>1.000000</td>\n",
       "      <td>0.805617</td>\n",
       "      <td>0.390854</td>\n",
       "      <td>0.256697</td>\n",
       "    </tr>\n",
       "    <tr>\n",
       "      <th>chucui_order</th>\n",
       "      <td>0.206124</td>\n",
       "      <td>0.589258</td>\n",
       "      <td>0.570049</td>\n",
       "      <td>0.131552</td>\n",
       "      <td>-0.158799</td>\n",
       "      <td>0.107965</td>\n",
       "      <td>0.152570</td>\n",
       "      <td>0.267566</td>\n",
       "      <td>0.105577</td>\n",
       "      <td>0.499109</td>\n",
       "      <td>0.476224</td>\n",
       "      <td>0.497516</td>\n",
       "      <td>0.621222</td>\n",
       "      <td>0.955601</td>\n",
       "      <td>0.805617</td>\n",
       "      <td>1.000000</td>\n",
       "      <td>0.446978</td>\n",
       "      <td>0.243834</td>\n",
       "    </tr>\n",
       "    <tr>\n",
       "      <th>chucui_days</th>\n",
       "      <td>0.047875</td>\n",
       "      <td>0.194491</td>\n",
       "      <td>0.192876</td>\n",
       "      <td>0.085119</td>\n",
       "      <td>-0.027563</td>\n",
       "      <td>0.003896</td>\n",
       "      <td>0.017303</td>\n",
       "      <td>0.133179</td>\n",
       "      <td>0.018792</td>\n",
       "      <td>0.296842</td>\n",
       "      <td>0.277021</td>\n",
       "      <td>0.166717</td>\n",
       "      <td>0.279723</td>\n",
       "      <td>0.400312</td>\n",
       "      <td>0.390854</td>\n",
       "      <td>0.446978</td>\n",
       "      <td>1.000000</td>\n",
       "      <td>0.964065</td>\n",
       "    </tr>\n",
       "    <tr>\n",
       "      <th>max_chucui_days</th>\n",
       "      <td>0.014631</td>\n",
       "      <td>0.073990</td>\n",
       "      <td>0.075799</td>\n",
       "      <td>0.059529</td>\n",
       "      <td>-0.001375</td>\n",
       "      <td>-0.014499</td>\n",
       "      <td>-0.005798</td>\n",
       "      <td>0.089187</td>\n",
       "      <td>0.000200</td>\n",
       "      <td>0.215762</td>\n",
       "      <td>0.204276</td>\n",
       "      <td>0.068314</td>\n",
       "      <td>0.164202</td>\n",
       "      <td>0.200725</td>\n",
       "      <td>0.256697</td>\n",
       "      <td>0.243834</td>\n",
       "      <td>0.964065</td>\n",
       "      <td>1.000000</td>\n",
       "    </tr>\n",
       "  </tbody>\n",
       "</table>\n",
       "</div>"
      ],
      "text/plain": [
       "                     cnt_loan  cnt_extend  max_extend  first_effective_now  \\\n",
       "cnt_loan             1.000000    0.108222    0.038935             0.164124   \n",
       "cnt_extend           0.108222    1.000000    0.959339             0.147317   \n",
       "max_extend           0.038935    0.959339    1.000000             0.125658   \n",
       "first_effective_now  0.164124    0.147317    0.125658             1.000000   \n",
       "last_effective_now  -0.614686   -0.108490   -0.028742             0.537515   \n",
       "cnt_loan_90d         0.720569    0.020427   -0.033970            -0.192642   \n",
       "cnt_loan_180d        0.884921    0.052507   -0.008472            -0.182869   \n",
       "gap_fundday          0.268603    0.307777    0.227617             0.113345   \n",
       "m3_m6                0.418450    0.074604    0.016341            -0.367431   \n",
       "profit               0.671197    0.571020    0.519655             0.127765   \n",
       "is_profit            0.549755    0.482613    0.441720             0.107588   \n",
       "total_order          0.930468    0.333605    0.278843             0.195841   \n",
       "rucui_loan           0.226771    0.108430    0.053181             0.146452   \n",
       "rucui_order          0.092790    0.529645    0.521487             0.162340   \n",
       "chucui_loan          0.352235    0.334089    0.276327             0.116500   \n",
       "chucui_order         0.206124    0.589258    0.570049             0.131552   \n",
       "chucui_days          0.047875    0.194491    0.192876             0.085119   \n",
       "max_chucui_days      0.014631    0.073990    0.075799             0.059529   \n",
       "\n",
       "                     last_effective_now  cnt_loan_90d  cnt_loan_180d  \\\n",
       "cnt_loan                      -0.614686      0.720569       0.884921   \n",
       "cnt_extend                    -0.108490      0.020427       0.052507   \n",
       "max_extend                    -0.028742     -0.033970      -0.008472   \n",
       "first_effective_now            0.537515     -0.192642      -0.182869   \n",
       "last_effective_now             1.000000     -0.722772      -0.777001   \n",
       "cnt_loan_90d                  -0.722772      1.000000       0.813903   \n",
       "cnt_loan_180d                 -0.777001      0.813903       1.000000   \n",
       "gap_fundday                   -0.448650      0.235368       0.232008   \n",
       "m3_m6                         -0.748503      0.767714       0.511140   \n",
       "profit                        -0.499086      0.478442       0.604774   \n",
       "is_profit                     -0.459108      0.410884       0.501739   \n",
       "total_order                   -0.557414      0.646403       0.806927   \n",
       "rucui_loan                    -0.121091      0.069625       0.161830   \n",
       "rucui_order                   -0.017482     -0.033246       0.027411   \n",
       "chucui_loan                   -0.277368      0.227182       0.299366   \n",
       "chucui_order                  -0.158799      0.107965       0.152570   \n",
       "chucui_days                   -0.027563      0.003896       0.017303   \n",
       "max_chucui_days               -0.001375     -0.014499      -0.005798   \n",
       "\n",
       "                     gap_fundday     m3_m6    profit  is_profit  total_order  \\\n",
       "cnt_loan                0.268603  0.418450  0.671197   0.549755     0.930468   \n",
       "cnt_extend              0.307777  0.074604  0.571020   0.482613     0.333605   \n",
       "max_extend              0.227617  0.016341  0.519655   0.441720     0.278843   \n",
       "first_effective_now     0.113345 -0.367431  0.127765   0.107588     0.195841   \n",
       "last_effective_now     -0.448650 -0.748503 -0.499086  -0.459108    -0.557414   \n",
       "cnt_loan_90d            0.235368  0.767714  0.478442   0.410884     0.646403   \n",
       "cnt_loan_180d           0.232008  0.511140  0.604774   0.501739     0.806927   \n",
       "gap_fundday             1.000000  0.417825  0.396583   0.441419     0.296023   \n",
       "m3_m6                   0.417825  1.000000  0.340945   0.330459     0.374161   \n",
       "profit                  0.396583  0.340945  1.000000   0.838184     0.749542   \n",
       "is_profit               0.441419  0.330459  0.838184   1.000000     0.624181   \n",
       "total_order             0.296023  0.374161  0.749542   0.624181     1.000000   \n",
       "rucui_loan              0.175118  0.034493  0.172524   0.163812     0.279848   \n",
       "rucui_order             0.180487 -0.024956  0.325507   0.301080     0.397168   \n",
       "chucui_loan             0.291182  0.182447  0.467322   0.479071     0.476621   \n",
       "chucui_order            0.267566  0.105577  0.499109   0.476224     0.497516   \n",
       "chucui_days             0.133179  0.018792  0.296842   0.277021     0.166717   \n",
       "max_chucui_days         0.089187  0.000200  0.215762   0.204276     0.068314   \n",
       "\n",
       "                     rucui_loan  rucui_order  chucui_loan  chucui_order  \\\n",
       "cnt_loan               0.226771     0.092790     0.352235      0.206124   \n",
       "cnt_extend             0.108430     0.529645     0.334089      0.589258   \n",
       "max_extend             0.053181     0.521487     0.276327      0.570049   \n",
       "first_effective_now    0.146452     0.162340     0.116500      0.131552   \n",
       "last_effective_now    -0.121091    -0.017482    -0.277368     -0.158799   \n",
       "cnt_loan_90d           0.069625    -0.033246     0.227182      0.107965   \n",
       "cnt_loan_180d          0.161830     0.027411     0.299366      0.152570   \n",
       "gap_fundday            0.175118     0.180487     0.291182      0.267566   \n",
       "m3_m6                  0.034493    -0.024956     0.182447      0.105577   \n",
       "profit                 0.172524     0.325507     0.467322      0.499109   \n",
       "is_profit              0.163812     0.301080     0.479071      0.476224   \n",
       "total_order            0.279848     0.397168     0.476621      0.497516   \n",
       "rucui_loan             1.000000     0.677092     0.841291      0.621222   \n",
       "rucui_order            0.677092     1.000000     0.750329      0.955601   \n",
       "chucui_loan            0.841291     0.750329     1.000000      0.805617   \n",
       "chucui_order           0.621222     0.955601     0.805617      1.000000   \n",
       "chucui_days            0.279723     0.400312     0.390854      0.446978   \n",
       "max_chucui_days        0.164202     0.200725     0.256697      0.243834   \n",
       "\n",
       "                     chucui_days  max_chucui_days  \n",
       "cnt_loan                0.047875         0.014631  \n",
       "cnt_extend              0.194491         0.073990  \n",
       "max_extend              0.192876         0.075799  \n",
       "first_effective_now     0.085119         0.059529  \n",
       "last_effective_now     -0.027563        -0.001375  \n",
       "cnt_loan_90d            0.003896        -0.014499  \n",
       "cnt_loan_180d           0.017303        -0.005798  \n",
       "gap_fundday             0.133179         0.089187  \n",
       "m3_m6                   0.018792         0.000200  \n",
       "profit                  0.296842         0.215762  \n",
       "is_profit               0.277021         0.204276  \n",
       "total_order             0.166717         0.068314  \n",
       "rucui_loan              0.279723         0.164202  \n",
       "rucui_order             0.400312         0.200725  \n",
       "chucui_loan             0.390854         0.256697  \n",
       "chucui_order            0.446978         0.243834  \n",
       "chucui_days             1.000000         0.964065  \n",
       "max_chucui_days         0.964065         1.000000  "
      ]
     },
     "execution_count": 31,
     "metadata": {},
     "output_type": "execute_result"
    }
   ],
   "source": [
    "x.corr()"
   ]
  },
  {
   "cell_type": "markdown",
   "metadata": {
    "heading_collapsed": true
   },
   "source": [
    "# 查看数据的分布"
   ]
  },
  {
   "cell_type": "code",
   "execution_count": 35,
   "metadata": {
    "hidden": true
   },
   "outputs": [
    {
     "data": {
      "text/plain": [
       "<matplotlib.axes._subplots.AxesSubplot at 0x1a52368c90>"
      ]
     },
     "execution_count": 35,
     "metadata": {},
     "output_type": "execute_result"
    },
    {
     "data": {
      "image/png": "[encoded data removed]",
      "text/plain": [
       "<Figure size 432x288 with 1 Axes>"
      ]
     },
     "metadata": {
      "needs_background": "light"
     },
     "output_type": "display_data"
    },
    {
     "data": {
      "text/plain": [
       "<matplotlib.axes._subplots.AxesSubplot at 0x1a50cad790>"
      ]
     },
     "execution_count": 35,
     "metadata": {},
     "output_type": "execute_result"
    },
    {
     "data": {
      "image/png": "[encoded data removed]",
      "text/plain": [
       "<Figure size 432x288 with 1 Axes>"
      ]
     },
     "metadata": {
      "needs_background": "light"
     },
     "output_type": "display_data"
    },
    {
     "data": {
      "text/plain": [
       "<matplotlib.axes._subplots.AxesSubplot at 0x1a4faeed50>"
      ]
     },
     "execution_count": 35,
     "metadata": {},
     "output_type": "execute_result"
    },
    {
     "data": {
      "image/png": "[encoded data removed]",
      "text/plain": [
       "<Figure size 432x288 with 1 Axes>"
      ]
     },
     "metadata": {
      "needs_background": "light"
     },
     "output_type": "display_data"
    },
    {
     "data": {
      "text/plain": [
       "<matplotlib.axes._subplots.AxesSubplot at 0x1a524fe0d0>"
      ]
     },
     "execution_count": 35,
     "metadata": {},
     "output_type": "execute_result"
    },
    {
     "data": {
      "image/png": "[encoded data removed]",
      "text/plain": [
       "<Figure size 432x288 with 1 Axes>"
      ]
     },
     "metadata": {
      "needs_background": "light"
     },
     "output_type": "display_data"
    },
    {
     "data": {
      "text/plain": [
       "<matplotlib.axes._subplots.AxesSubplot at 0x1a4fabae90>"
      ]
     },
     "execution_count": 35,
     "metadata": {},
     "output_type": "execute_result"
    },
    {
     "data": {
      "image/png": "[encoded data removed]",
      "text/plain": [
       "<Figure size 432x288 with 1 Axes>"
      ]
     },
     "metadata": {
      "needs_background": "light"
     },
     "output_type": "display_data"
    },
    {
     "data": {
      "text/plain": [
       "<matplotlib.axes._subplots.AxesSubplot at 0x1a5339df10>"
      ]
     },
     "execution_count": 35,
     "metadata": {},
     "output_type": "execute_result"
    },
    {
     "data": {
      "image/png": "[encoded data removed]",
      "text/plain": [
       "<Figure size 432x288 with 1 Axes>"
      ]
     },
     "metadata": {
      "needs_background": "light"
     },
     "output_type": "display_data"
    },
    {
     "data": {
      "text/plain": [
       "<matplotlib.axes._subplots.AxesSubplot at 0x1a54113510>"
      ]
     },
     "execution_count": 35,
     "metadata": {},
     "output_type": "execute_result"
    },
    {
     "data": {
      "image/png": "[encoded data removed]",
      "text/plain": [
       "<Figure size 432x288 with 1 Axes>"
      ]
     },
     "metadata": {
      "needs_background": "light"
     },
     "output_type": "display_data"
    },
    {
     "data": {
      "text/plain": [
       "<matplotlib.axes._subplots.AxesSubplot at 0x1a543f4410>"
      ]
     },
     "execution_count": 35,
     "metadata": {},
     "output_type": "execute_result"
    },
    {
     "data": {
      "image/png": "[encoded data removed]",
      "text/plain": [
       "<Figure size 432x288 with 1 Axes>"
      ]
     },
     "metadata": {
      "needs_background": "light"
     },
     "output_type": "display_data"
    },
    {
     "data": {
      "text/plain": [
       "<matplotlib.axes._subplots.AxesSubplot at 0x1a5444ae50>"
      ]
     },
     "execution_count": 35,
     "metadata": {},
     "output_type": "execute_result"
    },
    {
     "data": {
      "image/png": "[encoded data removed]",
      "text/plain": [
       "<Figure size 432x288 with 1 Axes>"
      ]
     },
     "metadata": {
      "needs_background": "light"
     },
     "output_type": "display_data"
    },
    {
     "data": {
      "text/plain": [
       "<matplotlib.axes._subplots.AxesSubplot at 0x1a545d3c50>"
      ]
     },
     "execution_count": 35,
     "metadata": {},
     "output_type": "execute_result"
    },
    {
     "data": {
      "image/png": "[encoded data removed]",
      "text/plain": [
       "<Figure size 432x288 with 1 Axes>"
      ]
     },
     "metadata": {
      "needs_background": "light"
     },
     "output_type": "display_data"
    },
    {
     "data": {
      "text/plain": [
       "<matplotlib.axes._subplots.AxesSubplot at 0x1a54f38d90>"
      ]
     },
     "execution_count": 35,
     "metadata": {},
     "output_type": "execute_result"
    },
    {
     "data": {
      "image/png": "[encoded data removed]",
      "text/plain": [
       "<Figure size 432x288 with 1 Axes>"
      ]
     },
     "metadata": {
      "needs_background": "light"
     },
     "output_type": "display_data"
    },
    {
     "data": {
      "text/plain": [
       "<matplotlib.axes._subplots.AxesSubplot at 0x1a547b7e90>"
      ]
     },
     "execution_count": 35,
     "metadata": {},
     "output_type": "execute_result"
    },
    {
     "data": {
      "image/png": "[encoded data removed]",
      "text/plain": [
       "<Figure size 432x288 with 1 Axes>"
      ]
     },
     "metadata": {
      "needs_background": "light"
     },
     "output_type": "display_data"
    },
    {
     "data": {
      "text/plain": [
       "<matplotlib.axes._subplots.AxesSubplot at 0x1a54887ed0>"
      ]
     },
     "execution_count": 35,
     "metadata": {},
     "output_type": "execute_result"
    },
    {
     "data": {
      "image/png": "[encoded data removed]",
      "text/plain": [
       "<Figure size 432x288 with 1 Axes>"
      ]
     },
     "metadata": {
      "needs_background": "light"
     },
     "output_type": "display_data"
    },
    {
     "data": {
      "text/plain": [
       "<matplotlib.axes._subplots.AxesSubplot at 0x1a54a07f50>"
      ]
     },
     "execution_count": 35,
     "metadata": {},
     "output_type": "execute_result"
    },
    {
     "data": {
      "image/png": "[encoded data removed]",
      "text/plain": [
       "<Figure size 432x288 with 1 Axes>"
      ]
     },
     "metadata": {
      "needs_background": "light"
     },
     "output_type": "display_data"
    },
    {
     "data": {
      "text/plain": [
       "<matplotlib.axes._subplots.AxesSubplot at 0x1a53696950>"
      ]
     },
     "execution_count": 35,
     "metadata": {},
     "output_type": "execute_result"
    },
    {
     "data": {
      "image/png": "[encoded data removed]",
      "text/plain": [
       "<Figure size 432x288 with 1 Axes>"
      ]
     },
     "metadata": {
      "needs_background": "light"
     },
     "output_type": "display_data"
    },
    {
     "data": {
      "text/plain": [
       "<matplotlib.axes._subplots.AxesSubplot at 0x1a536c1750>"
      ]
     },
     "execution_count": 35,
     "metadata": {},
     "output_type": "execute_result"
    },
    {
     "data": {
      "image/png": "[encoded data removed]",
      "text/plain": [
       "<Figure size 432x288 with 1 Axes>"
      ]
     },
     "metadata": {
      "needs_background": "light"
     },
     "output_type": "display_data"
    },
    {
     "data": {
      "text/plain": [
       "<matplotlib.axes._subplots.AxesSubplot at 0x1a53955850>"
      ]
     },
     "execution_count": 35,
     "metadata": {},
     "output_type": "execute_result"
    },
    {
     "data": {
      "image/png": "[encoded data removed]",
      "text/plain": [
       "<Figure size 432x288 with 1 Axes>"
      ]
     },
     "metadata": {
      "needs_background": "light"
     },
     "output_type": "display_data"
    },
    {
     "data": {
      "text/plain": [
       "<matplotlib.axes._subplots.AxesSubplot at 0x1a53955910>"
      ]
     },
     "execution_count": 35,
     "metadata": {},
     "output_type": "execute_result"
    },
    {
     "data": {
      "image/png": "[encoded data removed]",
      "text/plain": [
       "<Figure size 432x288 with 1 Axes>"
      ]
     },
     "metadata": {
      "needs_background": "light"
     },
     "output_type": "display_data"
    }
   ],
   "source": [
    "fig_path = os.path.join(file_path,'temp')\n",
    "if not os.path.exists(fig_path):\n",
    "    os.mkdir(fig_path)\n",
    "for col in df_fund.columns.tolist()[3:]:\n",
    "    sns.distplot(df_fund[col])\n",
    "    plt.savefig(os.path.join(fig_path, col + '.png'), format='png', dpi=300, bbox_inches = 'tight',pad_inches = 0.1)\n",
    "    plt.show();\n",
    "    plt.close();"
   ]
  },
  {
   "cell_type": "markdown",
   "metadata": {
    "heading_collapsed": true
   },
   "source": [
    "# 数据标准化"
   ]
  },
  {
   "cell_type": "code",
   "execution_count": 18,
   "metadata": {
    "hidden": true
   },
   "outputs": [
    {
     "data": {
      "text/plain": [
       "<matplotlib.axes._subplots.AxesSubplot at 0x2d565a93d0>"
      ]
     },
     "execution_count": 18,
     "metadata": {},
     "output_type": "execute_result"
    },
    {
     "data": {
      "image/png": "[encoded data removed]",
      "text/plain": [
       "<Figure size 432x288 with 1 Axes>"
      ]
     },
     "metadata": {
      "needs_background": "light"
     },
     "output_type": "display_data"
    },
    {
     "data": {
      "text/plain": [
       "<matplotlib.axes._subplots.AxesSubplot at 0x1a2ff90fd0>"
      ]
     },
     "execution_count": 18,
     "metadata": {},
     "output_type": "execute_result"
    },
    {
     "data": {
      "image/png": "[encoded data removed]",
      "text/plain": [
       "<Figure size 432x288 with 1 Axes>"
      ]
     },
     "metadata": {
      "needs_background": "light"
     },
     "output_type": "display_data"
    },
    {
     "data": {
      "text/plain": [
       "<matplotlib.axes._subplots.AxesSubplot at 0x1a3030bb50>"
      ]
     },
     "execution_count": 18,
     "metadata": {},
     "output_type": "execute_result"
    },
    {
     "data": {
      "image/png": "[encoded data removed]",
      "text/plain": [
       "<Figure size 432x288 with 1 Axes>"
      ]
     },
     "metadata": {
      "needs_background": "light"
     },
     "output_type": "display_data"
    },
    {
     "data": {
      "text/plain": [
       "<matplotlib.axes._subplots.AxesSubplot at 0x1a23a91d10>"
      ]
     },
     "execution_count": 18,
     "metadata": {},
     "output_type": "execute_result"
    },
    {
     "data": {
      "image/png": "[encoded data removed]",
      "text/plain": [
       "<Figure size 432x288 with 1 Axes>"
      ]
     },
     "metadata": {
      "needs_background": "light"
     },
     "output_type": "display_data"
    },
    {
     "data": {
      "text/plain": [
       "<matplotlib.axes._subplots.AxesSubplot at 0x1a23abd110>"
      ]
     },
     "execution_count": 18,
     "metadata": {},
     "output_type": "execute_result"
    },
    {
     "data": {
      "image/png": "[encoded data removed]",
      "text/plain": [
       "<Figure size 432x288 with 1 Axes>"
      ]
     },
     "metadata": {
      "needs_background": "light"
     },
     "output_type": "display_data"
    },
    {
     "data": {
      "text/plain": [
       "<matplotlib.axes._subplots.AxesSubplot at 0x1a23a8c390>"
      ]
     },
     "execution_count": 18,
     "metadata": {},
     "output_type": "execute_result"
    },
    {
     "data": {
      "image/png": "[encoded data removed]",
      "text/plain": [
       "<Figure size 432x288 with 1 Axes>"
      ]
     },
     "metadata": {
      "needs_background": "light"
     },
     "output_type": "display_data"
    },
    {
     "data": {
      "text/plain": [
       "<matplotlib.axes._subplots.AxesSubplot at 0x1a2376d710>"
      ]
     },
     "execution_count": 18,
     "metadata": {},
     "output_type": "execute_result"
    },
    {
     "data": {
      "image/png": "[encoded data removed]",
      "text/plain": [
       "<Figure size 432x288 with 1 Axes>"
      ]
     },
     "metadata": {
      "needs_background": "light"
     },
     "output_type": "display_data"
    },
    {
     "data": {
      "text/plain": [
       "<matplotlib.axes._subplots.AxesSubplot at 0x1a2f429350>"
      ]
     },
     "execution_count": 18,
     "metadata": {},
     "output_type": "execute_result"
    },
    {
     "data": {
      "image/png": "[encoded data removed]",
      "text/plain": [
       "<Figure size 432x288 with 1 Axes>"
      ]
     },
     "metadata": {
      "needs_background": "light"
     },
     "output_type": "display_data"
    },
    {
     "data": {
      "text/plain": [
       "<matplotlib.axes._subplots.AxesSubplot at 0x1a23a9ff90>"
      ]
     },
     "execution_count": 18,
     "metadata": {},
     "output_type": "execute_result"
    },
    {
     "data": {
      "image/png": "[encoded data removed]",
      "text/plain": [
       "<Figure size 432x288 with 1 Axes>"
      ]
     },
     "metadata": {
      "needs_background": "light"
     },
     "output_type": "display_data"
    },
    {
     "data": {
      "text/plain": [
       "<matplotlib.axes._subplots.AxesSubplot at 0x1a237981d0>"
      ]
     },
     "execution_count": 18,
     "metadata": {},
     "output_type": "execute_result"
    },
    {
     "data": {
      "image/png": "[encoded data removed]",
      "text/plain": [
       "<Figure size 432x288 with 1 Axes>"
      ]
     },
     "metadata": {
      "needs_background": "light"
     },
     "output_type": "display_data"
    },
    {
     "data": {
      "text/plain": [
       "<matplotlib.axes._subplots.AxesSubplot at 0x1a23769b90>"
      ]
     },
     "execution_count": 18,
     "metadata": {},
     "output_type": "execute_result"
    },
    {
     "data": {
      "image/png": "[encoded data removed]",
      "text/plain": [
       "<Figure size 432x288 with 1 Axes>"
      ]
     },
     "metadata": {
      "needs_background": "light"
     },
     "output_type": "display_data"
    },
    {
     "data": {
      "text/plain": [
       "<matplotlib.axes._subplots.AxesSubplot at 0x1a23a54f90>"
      ]
     },
     "execution_count": 18,
     "metadata": {},
     "output_type": "execute_result"
    },
    {
     "data": {
      "image/png": "[encoded data removed]",
      "text/plain": [
       "<Figure size 432x288 with 1 Axes>"
      ]
     },
     "metadata": {
      "needs_background": "light"
     },
     "output_type": "display_data"
    },
    {
     "data": {
      "text/plain": [
       "<matplotlib.axes._subplots.AxesSubplot at 0x1a23a5f1d0>"
      ]
     },
     "execution_count": 18,
     "metadata": {},
     "output_type": "execute_result"
    },
    {
     "data": {
      "image/png": "[encoded data removed]",
      "text/plain": [
       "<Figure size 432x288 with 1 Axes>"
      ]
     },
     "metadata": {
      "needs_background": "light"
     },
     "output_type": "display_data"
    },
    {
     "data": {
      "text/plain": [
       "<matplotlib.axes._subplots.AxesSubplot at 0x1a23a9dbd0>"
      ]
     },
     "execution_count": 18,
     "metadata": {},
     "output_type": "execute_result"
    },
    {
     "data": {
      "image/png": "[encoded data removed]",
      "text/plain": [
       "<Figure size 432x288 with 1 Axes>"
      ]
     },
     "metadata": {
      "needs_background": "light"
     },
     "output_type": "display_data"
    },
    {
     "data": {
      "text/plain": [
       "<matplotlib.axes._subplots.AxesSubplot at 0x1a23a98190>"
      ]
     },
     "execution_count": 18,
     "metadata": {},
     "output_type": "execute_result"
    },
    {
     "data": {
      "image/png": "[encoded data removed]",
      "text/plain": [
       "<Figure size 432x288 with 1 Axes>"
      ]
     },
     "metadata": {
      "needs_background": "light"
     },
     "output_type": "display_data"
    },
    {
     "data": {
      "text/plain": [
       "<matplotlib.axes._subplots.AxesSubplot at 0x1a23904690>"
      ]
     },
     "execution_count": 18,
     "metadata": {},
     "output_type": "execute_result"
    },
    {
     "data": {
      "image/png": "[encoded data removed]",
      "text/plain": [
       "<Figure size 432x288 with 1 Axes>"
      ]
     },
     "metadata": {
      "needs_background": "light"
     },
     "output_type": "display_data"
    },
    {
     "data": {
      "text/plain": [
       "<matplotlib.axes._subplots.AxesSubplot at 0x1a2378f750>"
      ]
     },
     "execution_count": 18,
     "metadata": {},
     "output_type": "execute_result"
    },
    {
     "data": {
      "image/png": "[encoded data removed]",
      "text/plain": [
       "<Figure size 432x288 with 1 Axes>"
      ]
     },
     "metadata": {
      "needs_background": "light"
     },
     "output_type": "display_data"
    },
    {
     "data": {
      "text/plain": [
       "<matplotlib.axes._subplots.AxesSubplot at 0x1a23a85610>"
      ]
     },
     "execution_count": 18,
     "metadata": {},
     "output_type": "execute_result"
    },
    {
     "data": {
      "image/png": "[encoded data removed]",
      "text/plain": [
       "<Figure size 432x288 with 1 Axes>"
      ]
     },
     "metadata": {
      "needs_background": "light"
     },
     "output_type": "display_data"
    }
   ],
   "source": [
    "data = (x - x.mean(axis = 0))/(x.std(axis = 0))\n",
    "fig_path = os.path.join(file_path,'temp1')\n",
    "if not os.path.exists(fig_path):\n",
    "    os.mkdir(fig_path)\n",
    "for col in df_fund.columns.tolist()[3:]:\n",
    "    sns.distplot(data[col])\n",
    "    plt.savefig(os.path.join(fig_path, col + '.png'), format='png', dpi=300, bbox_inches = 'tight',pad_inches = 0.1)\n",
    "    plt.show();\n",
    "    plt.close();"
   ]
  },
  {
   "cell_type": "markdown",
   "metadata": {
    "heading_collapsed": true
   },
   "source": [
    "# PCA降维(暂不用)"
   ]
  },
  {
   "cell_type": "code",
   "execution_count": 44,
   "metadata": {
    "hidden": true
   },
   "outputs": [
    {
     "data": {
      "text/plain": [
       "PCA(copy=True, iterated_power='auto', n_components=2, random_state=None,\n",
       "    svd_solver='auto', tol=0.0, whiten=False)"
      ]
     },
     "execution_count": 44,
     "metadata": {},
     "output_type": "execute_result"
    },
    {
     "data": {
      "text/plain": [
       "array([[ 5.07818966e+05, -9.43379688e+01],\n",
       "       [ 1.47561897e+06, -7.70879279e+01],\n",
       "       [-4.20681036e+05, -4.46910916e+01],\n",
       "       ...,\n",
       "       [ 1.02918966e+05, -1.12122537e+02],\n",
       "       [-1.02768104e+06, -8.59307875e+01],\n",
       "       [ 2.09561897e+06, -1.03805506e+02]])"
      ]
     },
     "execution_count": 44,
     "metadata": {},
     "output_type": "execute_result"
    }
   ],
   "source": [
    "from sklearn.decomposition import PCA\n",
    "X = x\n",
    "pca=PCA(n_components=2)\n",
    "pca.fit(X)\n",
    "data1 = pca.transform(X)\n",
    "data1"
   ]
  },
  {
   "cell_type": "code",
   "execution_count": 35,
   "metadata": {
    "hidden": true
   },
   "outputs": [
    {
     "name": "stdout",
     "output_type": "stream",
     "text": [
      "1\n",
      "2\n",
      "3\n",
      "4\n",
      "5\n",
      "6\n",
      "7\n"
     ]
    },
    {
     "data": {
      "image/png": "[encoded data removed]",
      "text/plain": [
       "<Figure size 432x288 with 1 Axes>"
      ]
     },
     "metadata": {
      "needs_background": "light"
     },
     "output_type": "display_data"
    }
   ],
   "source": [
    "from sklearn.cluster import KMeans\n",
    "from scipy.spatial.distance import cdist\n",
    "zhoubu(data1, 8)"
   ]
  },
  {
   "cell_type": "markdown",
   "metadata": {
    "heading_collapsed": true
   },
   "source": [
    "# 确定最优的聚类个数"
   ]
  },
  {
   "cell_type": "code",
   "execution_count": 34,
   "metadata": {
    "hidden": true
   },
   "outputs": [],
   "source": [
    "def zhoubu(X, n):\n",
    "    meandistortion = []\n",
    "    K = range(1, n)\n",
    "    for k in K:\n",
    "        print(k)\n",
    "        kmeans = KMeans(n_clusters=k)\n",
    "        kmeans.fit(X)\n",
    "        meandistortion.append((sum(np.min(cdist(X, kmeans.cluster_centers_, 'euclidean'),  axis=1))) / X.shape[0])\n",
    "    plt.subplot(2, 1, 2)\n",
    "    plt.plot(K, meandistortion, 'bx-')\n",
    "    plt.xlabel('k')\n",
    "    plt.ylabel(u'平均畸变程度')\n",
    "    plt.title(u'用肘部法则确定的最佳k值')\n",
    "    plt.show()"
   ]
  },
  {
   "cell_type": "code",
   "execution_count": 21,
   "metadata": {
    "hidden": true
   },
   "outputs": [
    {
     "name": "stdout",
     "output_type": "stream",
     "text": [
      "1\n",
      "2\n",
      "3\n",
      "4\n",
      "5\n",
      "6\n",
      "7\n"
     ]
    },
    {
     "data": {
      "image/png": "[encoded data removed]",
      "text/plain": [
       "<Figure size 432x288 with 1 Axes>"
      ]
     },
     "metadata": {
      "needs_background": "light"
     },
     "output_type": "display_data"
    }
   ],
   "source": [
    "from sklearn.cluster import KMeans\n",
    "from scipy.spatial.distance import cdist\n",
    "zhoubu(data, 8)"
   ]
  },
  {
   "cell_type": "markdown",
   "metadata": {
    "heading_collapsed": true
   },
   "source": [
    "# 聚类(k=2)"
   ]
  },
  {
   "cell_type": "code",
   "execution_count": null,
   "metadata": {
    "hidden": true
   },
   "outputs": [],
   "source": [
    "d = data\n",
    "mod = KMeans(n_clusters=2, n_jobs = 4, max_iter = 500)#聚成3类数据,并发数为4，最大循环次数为500\n",
    "mod.fit_predict(d)#y_pred表示聚类的结果\n",
    "r1 = pd.Series(mod.labels_).value_counts()\n",
    "r2 = pd.DataFrame(mod.cluster_centers_)\n",
    "r = pd.concat([r2, r1], axis = 1)\n",
    "r.columns = list(d.columns) + [u'类别数目']\n",
    "#给每一条数据标注上被分为哪一类\n",
    "r = pd.concat([y, x, pd.Series(mod.labels_, index = d.index)], axis = 1)\n",
    "r.columns = list(y.columns) + list(x.columns) + [u'聚类类别']\n",
    "save_data_to_pickle(r,file_path,'聚类结果.pkl')\n"
   ]
  },
  {
   "cell_type": "markdown",
   "metadata": {
    "heading_collapsed": true
   },
   "source": [
    "# 结果分析"
   ]
  },
  {
   "cell_type": "code",
   "execution_count": 71,
   "metadata": {
    "hidden": true
   },
   "outputs": [
    {
     "data": {
      "text/html": [
       "<div>\n",
       "<style scoped>\n",
       "    .dataframe tbody tr th:only-of-type {\n",
       "        vertical-align: middle;\n",
       "    }\n",
       "\n",
       "    .dataframe tbody tr th {\n",
       "        vertical-align: top;\n",
       "    }\n",
       "\n",
       "    .dataframe thead th {\n",
       "        text-align: right;\n",
       "    }\n",
       "</style>\n",
       "<table border=\"1\" class=\"dataframe\">\n",
       "  <thead>\n",
       "    <tr style=\"text-align: right;\">\n",
       "      <th></th>\n",
       "      <th>customer_id</th>\n",
       "      <th>first_apply_date</th>\n",
       "      <th>cnt_loan</th>\n",
       "      <th>cnt_extend</th>\n",
       "      <th>max_extend</th>\n",
       "      <th>first_effective_now</th>\n",
       "      <th>last_effective_now</th>\n",
       "      <th>cnt_loan_90d</th>\n",
       "      <th>cnt_loan_180d</th>\n",
       "      <th>gap_fundday</th>\n",
       "      <th>m3_m6</th>\n",
       "      <th>profit</th>\n",
       "      <th>is_profit</th>\n",
       "      <th>total_order</th>\n",
       "      <th>rucui_loan</th>\n",
       "      <th>rucui_order</th>\n",
       "      <th>chucui_loan</th>\n",
       "      <th>chucui_order</th>\n",
       "      <th>chucui_days</th>\n",
       "      <th>max_chucui_days</th>\n",
       "      <th>聚类类别</th>\n",
       "    </tr>\n",
       "  </thead>\n",
       "  <tbody>\n",
       "    <tr>\n",
       "      <th>0</th>\n",
       "      <td>141518828737011712</td>\n",
       "      <td>2019-09-25</td>\n",
       "      <td>2</td>\n",
       "      <td>6</td>\n",
       "      <td>3</td>\n",
       "      <td>113.0</td>\n",
       "      <td>54.0</td>\n",
       "      <td>1</td>\n",
       "      <td>2</td>\n",
       "      <td>59.000000</td>\n",
       "      <td>0.500000</td>\n",
       "      <td>394.50</td>\n",
       "      <td>1</td>\n",
       "      <td>3</td>\n",
       "      <td>1</td>\n",
       "      <td>2</td>\n",
       "      <td>1</td>\n",
       "      <td>2</td>\n",
       "      <td>3.0</td>\n",
       "      <td>2.0</td>\n",
       "      <td>0</td>\n",
       "    </tr>\n",
       "    <tr>\n",
       "      <th>1</th>\n",
       "      <td>143344900650696704</td>\n",
       "      <td>2019-07-24</td>\n",
       "      <td>7</td>\n",
       "      <td>3</td>\n",
       "      <td>2</td>\n",
       "      <td>176.0</td>\n",
       "      <td>1.0</td>\n",
       "      <td>4</td>\n",
       "      <td>7</td>\n",
       "      <td>29.166667</td>\n",
       "      <td>0.571429</td>\n",
       "      <td>878.40</td>\n",
       "      <td>1</td>\n",
       "      <td>7</td>\n",
       "      <td>1</td>\n",
       "      <td>1</td>\n",
       "      <td>1</td>\n",
       "      <td>1</td>\n",
       "      <td>1.0</td>\n",
       "      <td>1.0</td>\n",
       "      <td>0</td>\n",
       "    </tr>\n",
       "    <tr>\n",
       "      <th>2</th>\n",
       "      <td>143364078866661376</td>\n",
       "      <td>2019-08-23</td>\n",
       "      <td>3</td>\n",
       "      <td>0</td>\n",
       "      <td>0</td>\n",
       "      <td>146.0</td>\n",
       "      <td>114.0</td>\n",
       "      <td>0</td>\n",
       "      <td>3</td>\n",
       "      <td>16.000000</td>\n",
       "      <td>0.000000</td>\n",
       "      <td>-69.75</td>\n",
       "      <td>0</td>\n",
       "      <td>3</td>\n",
       "      <td>3</td>\n",
       "      <td>3</td>\n",
       "      <td>2</td>\n",
       "      <td>2</td>\n",
       "      <td>4.0</td>\n",
       "      <td>2.0</td>\n",
       "      <td>1</td>\n",
       "    </tr>\n",
       "    <tr>\n",
       "      <th>3</th>\n",
       "      <td>143463250408112128</td>\n",
       "      <td>2019-06-14</td>\n",
       "      <td>1</td>\n",
       "      <td>0</td>\n",
       "      <td>0</td>\n",
       "      <td>216.0</td>\n",
       "      <td>216.0</td>\n",
       "      <td>0</td>\n",
       "      <td>0</td>\n",
       "      <td>0.000000</td>\n",
       "      <td>0.000000</td>\n",
       "      <td>-380.75</td>\n",
       "      <td>0</td>\n",
       "      <td>1</td>\n",
       "      <td>1</td>\n",
       "      <td>1</td>\n",
       "      <td>0</td>\n",
       "      <td>0</td>\n",
       "      <td>0.0</td>\n",
       "      <td>0.0</td>\n",
       "      <td>1</td>\n",
       "    </tr>\n",
       "    <tr>\n",
       "      <th>4</th>\n",
       "      <td>143680287105490944</td>\n",
       "      <td>2019-06-28</td>\n",
       "      <td>4</td>\n",
       "      <td>8</td>\n",
       "      <td>6</td>\n",
       "      <td>202.0</td>\n",
       "      <td>3.0</td>\n",
       "      <td>2</td>\n",
       "      <td>3</td>\n",
       "      <td>66.333333</td>\n",
       "      <td>0.666667</td>\n",
       "      <td>1569.00</td>\n",
       "      <td>1</td>\n",
       "      <td>10</td>\n",
       "      <td>2</td>\n",
       "      <td>8</td>\n",
       "      <td>2</td>\n",
       "      <td>8</td>\n",
       "      <td>17.0</td>\n",
       "      <td>4.0</td>\n",
       "      <td>0</td>\n",
       "    </tr>\n",
       "  </tbody>\n",
       "</table>\n",
       "</div>"
      ],
      "text/plain": [
       "          customer_id first_apply_date  cnt_loan  cnt_extend  max_extend  \\\n",
       "0  141518828737011712       2019-09-25         2           6           3   \n",
       "1  143344900650696704       2019-07-24         7           3           2   \n",
       "2  143364078866661376       2019-08-23         3           0           0   \n",
       "3  143463250408112128       2019-06-14         1           0           0   \n",
       "4  143680287105490944       2019-06-28         4           8           6   \n",
       "\n",
       "   first_effective_now  last_effective_now  cnt_loan_90d  cnt_loan_180d  \\\n",
       "0                113.0                54.0             1              2   \n",
       "1                176.0                 1.0             4              7   \n",
       "2                146.0               114.0             0              3   \n",
       "3                216.0               216.0             0              0   \n",
       "4                202.0                 3.0             2              3   \n",
       "\n",
       "   gap_fundday     m3_m6   profit  is_profit  total_order  rucui_loan  \\\n",
       "0    59.000000  0.500000   394.50          1            3           1   \n",
       "1    29.166667  0.571429   878.40          1            7           1   \n",
       "2    16.000000  0.000000   -69.75          0            3           3   \n",
       "3     0.000000  0.000000  -380.75          0            1           1   \n",
       "4    66.333333  0.666667  1569.00          1           10           2   \n",
       "\n",
       "   rucui_order  chucui_loan  chucui_order  chucui_days  max_chucui_days  聚类类别  \n",
       "0            2            1             2          3.0              2.0     0  \n",
       "1            1            1             1          1.0              1.0     0  \n",
       "2            3            2             2          4.0              2.0     1  \n",
       "3            1            0             0          0.0              0.0     1  \n",
       "4            8            2             8         17.0              4.0     0  "
      ]
     },
     "execution_count": 71,
     "metadata": {},
     "output_type": "execute_result"
    }
   ],
   "source": [
    "r = load_data_from_pickle(file_path,'聚类结果.pkl')\n",
    "r['profit'] = r['profit']/2000\n",
    "r.head()\n",
    "my_group = r.groupby('聚类类别').mean()"
   ]
  },
  {
   "cell_type": "code",
   "execution_count": 76,
   "metadata": {
    "hidden": true
   },
   "outputs": [
    {
     "data": {
      "text/html": [
       "<div>\n",
       "<style scoped>\n",
       "    .dataframe tbody tr th:only-of-type {\n",
       "        vertical-align: middle;\n",
       "    }\n",
       "\n",
       "    .dataframe tbody tr th {\n",
       "        vertical-align: top;\n",
       "    }\n",
       "\n",
       "    .dataframe thead th {\n",
       "        text-align: right;\n",
       "    }\n",
       "</style>\n",
       "<table border=\"1\" class=\"dataframe\">\n",
       "  <thead>\n",
       "    <tr style=\"text-align: right;\">\n",
       "      <th></th>\n",
       "      <th>customer_id</th>\n",
       "      <th>cnt_loan</th>\n",
       "      <th>cnt_extend</th>\n",
       "      <th>max_extend</th>\n",
       "      <th>first_effective_now</th>\n",
       "      <th>last_effective_now</th>\n",
       "      <th>cnt_loan_90d</th>\n",
       "      <th>cnt_loan_180d</th>\n",
       "      <th>gap_fundday</th>\n",
       "      <th>m3_m6</th>\n",
       "      <th>profit</th>\n",
       "      <th>is_profit</th>\n",
       "      <th>total_order</th>\n",
       "      <th>rucui_loan</th>\n",
       "      <th>rucui_order</th>\n",
       "      <th>chucui_loan</th>\n",
       "      <th>chucui_order</th>\n",
       "      <th>chucui_days</th>\n",
       "      <th>max_chucui_days</th>\n",
       "    </tr>\n",
       "    <tr>\n",
       "      <th>聚类类别</th>\n",
       "      <th></th>\n",
       "      <th></th>\n",
       "      <th></th>\n",
       "      <th></th>\n",
       "      <th></th>\n",
       "      <th></th>\n",
       "      <th></th>\n",
       "      <th></th>\n",
       "      <th></th>\n",
       "      <th></th>\n",
       "      <th></th>\n",
       "      <th></th>\n",
       "      <th></th>\n",
       "      <th></th>\n",
       "      <th></th>\n",
       "      <th></th>\n",
       "      <th></th>\n",
       "      <th></th>\n",
       "      <th></th>\n",
       "    </tr>\n",
       "  </thead>\n",
       "  <tbody>\n",
       "    <tr>\n",
       "      <th>0</th>\n",
       "      <td>3.414668e+17</td>\n",
       "      <td>5.605087</td>\n",
       "      <td>3.072279</td>\n",
       "      <td>2.456812</td>\n",
       "      <td>181.610488</td>\n",
       "      <td>79.414640</td>\n",
       "      <td>1.673612</td>\n",
       "      <td>4.364040</td>\n",
       "      <td>26.335907</td>\n",
       "      <td>0.305603</td>\n",
       "      <td>733.157019</td>\n",
       "      <td>0.981576</td>\n",
       "      <td>6.551270</td>\n",
       "      <td>1.485464</td>\n",
       "      <td>2.426897</td>\n",
       "      <td>1.270234</td>\n",
       "      <td>1.999349</td>\n",
       "      <td>4.985330</td>\n",
       "      <td>3.274064</td>\n",
       "    </tr>\n",
       "    <tr>\n",
       "      <th>1</th>\n",
       "      <td>3.430469e+17</td>\n",
       "      <td>1.817662</td>\n",
       "      <td>0.582908</td>\n",
       "      <td>0.555714</td>\n",
       "      <td>177.825331</td>\n",
       "      <td>164.622724</td>\n",
       "      <td>0.090084</td>\n",
       "      <td>0.982798</td>\n",
       "      <td>7.075712</td>\n",
       "      <td>0.046025</td>\n",
       "      <td>-198.406603</td>\n",
       "      <td>0.166824</td>\n",
       "      <td>2.022658</td>\n",
       "      <td>1.014463</td>\n",
       "      <td>1.218626</td>\n",
       "      <td>0.279457</td>\n",
       "      <td>0.331106</td>\n",
       "      <td>0.776816</td>\n",
       "      <td>0.688638</td>\n",
       "    </tr>\n",
       "  </tbody>\n",
       "</table>\n",
       "</div>"
      ],
      "text/plain": [
       "       customer_id  cnt_loan  cnt_extend  max_extend  first_effective_now  \\\n",
       "聚类类别                                                                        \n",
       "0     3.414668e+17  5.605087    3.072279    2.456812           181.610488   \n",
       "1     3.430469e+17  1.817662    0.582908    0.555714           177.825331   \n",
       "\n",
       "      last_effective_now  cnt_loan_90d  cnt_loan_180d  gap_fundday     m3_m6  \\\n",
       "聚类类别                                                                           \n",
       "0              79.414640      1.673612       4.364040    26.335907  0.305603   \n",
       "1             164.622724      0.090084       0.982798     7.075712  0.046025   \n",
       "\n",
       "          profit  is_profit  total_order  rucui_loan  rucui_order  \\\n",
       "聚类类别                                                                \n",
       "0     733.157019   0.981576     6.551270    1.485464     2.426897   \n",
       "1    -198.406603   0.166824     2.022658    1.014463     1.218626   \n",
       "\n",
       "      chucui_loan  chucui_order  chucui_days  max_chucui_days  \n",
       "聚类类别                                                           \n",
       "0        1.270234      1.999349     4.985330         3.274064  \n",
       "1        0.279457      0.331106     0.776816         0.688638  "
      ]
     },
     "execution_count": 76,
     "metadata": {},
     "output_type": "execute_result"
    }
   ],
   "source": [
    "my_group.to_excel(os.path.join(file_path, '聚类.xlsx'))\n",
    "my_group"
   ]
  },
  {
   "cell_type": "raw",
   "metadata": {
    "hidden": true
   },
   "source": [
    "单个分析"
   ]
  },
  {
   "cell_type": "code",
   "execution_count": 75,
   "metadata": {
    "hidden": true
   },
   "outputs": [
    {
     "data": {
      "text/plain": [
       "<Figure size 432x288 with 0 Axes>"
      ]
     },
     "execution_count": 75,
     "metadata": {},
     "output_type": "execute_result"
    },
    {
     "data": {
      "text/plain": [
       "<BarContainer object of 2 artists>"
      ]
     },
     "execution_count": 75,
     "metadata": {},
     "output_type": "execute_result"
    },
    {
     "data": {
      "text/plain": [
       "Text(0, 3.0722794652775116, '3.07')"
      ]
     },
     "execution_count": 75,
     "metadata": {},
     "output_type": "execute_result"
    },
    {
     "data": {
      "text/plain": [
       "Text(1, 0.5829078558124247, '0.58')"
      ]
     },
     "execution_count": 75,
     "metadata": {},
     "output_type": "execute_result"
    },
    {
     "data": {
      "text/plain": [
       "Text(0.5, 1.0, 'cnt_extend')"
      ]
     },
     "execution_count": 75,
     "metadata": {},
     "output_type": "execute_result"
    },
    {
     "data": {
      "text/plain": [
       "<matplotlib.legend.Legend at 0x1a4de0f450>"
      ]
     },
     "execution_count": 75,
     "metadata": {},
     "output_type": "execute_result"
    },
    {
     "data": {
      "image/png": "[encoded data removed]",
      "text/plain": [
       "<Figure size 432x288 with 1 Axes>"
      ]
     },
     "metadata": {
      "needs_background": "light"
     },
     "output_type": "display_data"
    },
    {
     "data": {
      "text/plain": [
       "<Figure size 432x288 with 0 Axes>"
      ]
     },
     "execution_count": 75,
     "metadata": {},
     "output_type": "execute_result"
    },
    {
     "data": {
      "text/plain": [
       "<BarContainer object of 2 artists>"
      ]
     },
     "execution_count": 75,
     "metadata": {},
     "output_type": "execute_result"
    },
    {
     "data": {
      "text/plain": [
       "Text(0, 2.456812349178381, '2.46')"
      ]
     },
     "execution_count": 75,
     "metadata": {},
     "output_type": "execute_result"
    },
    {
     "data": {
      "text/plain": [
       "Text(1, 0.5557138161498849, '0.56')"
      ]
     },
     "execution_count": 75,
     "metadata": {},
     "output_type": "execute_result"
    },
    {
     "data": {
      "text/plain": [
       "Text(0.5, 1.0, 'max_extend')"
      ]
     },
     "execution_count": 75,
     "metadata": {},
     "output_type": "execute_result"
    },
    {
     "data": {
      "text/plain": [
       "<matplotlib.legend.Legend at 0x1a4dd60950>"
      ]
     },
     "execution_count": 75,
     "metadata": {},
     "output_type": "execute_result"
    },
    {
     "data": {
      "image/png": "[encoded data removed]",
      "text/plain": [
       "<Figure size 432x288 with 1 Axes>"
      ]
     },
     "metadata": {
      "needs_background": "light"
     },
     "output_type": "display_data"
    },
    {
     "data": {
      "text/plain": [
       "<Figure size 432x288 with 0 Axes>"
      ]
     },
     "execution_count": 75,
     "metadata": {},
     "output_type": "execute_result"
    },
    {
     "data": {
      "text/plain": [
       "<BarContainer object of 2 artists>"
      ]
     },
     "execution_count": 75,
     "metadata": {},
     "output_type": "execute_result"
    },
    {
     "data": {
      "text/plain": [
       "Text(0, 181.61048760868732, '181.61')"
      ]
     },
     "execution_count": 75,
     "metadata": {},
     "output_type": "execute_result"
    },
    {
     "data": {
      "text/plain": [
       "Text(1, 177.8253314342062, '177.83')"
      ]
     },
     "execution_count": 75,
     "metadata": {},
     "output_type": "execute_result"
    },
    {
     "data": {
      "text/plain": [
       "Text(0.5, 1.0, 'first_effective_now')"
      ]
     },
     "execution_count": 75,
     "metadata": {},
     "output_type": "execute_result"
    },
    {
     "data": {
      "text/plain": [
       "<matplotlib.legend.Legend at 0x1a4dd88a90>"
      ]
     },
     "execution_count": 75,
     "metadata": {},
     "output_type": "execute_result"
    },
    {
     "data": {
      "image/png": "[encoded data removed]",
      "text/plain": [
       "<Figure size 432x288 with 1 Axes>"
      ]
     },
     "metadata": {
      "needs_background": "light"
     },
     "output_type": "display_data"
    },
    {
     "data": {
      "text/plain": [
       "<Figure size 432x288 with 0 Axes>"
      ]
     },
     "execution_count": 75,
     "metadata": {},
     "output_type": "execute_result"
    },
    {
     "data": {
      "text/plain": [
       "<BarContainer object of 2 artists>"
      ]
     },
     "execution_count": 75,
     "metadata": {},
     "output_type": "execute_result"
    },
    {
     "data": {
      "text/plain": [
       "Text(0, 79.4146397517907, '79.41')"
      ]
     },
     "execution_count": 75,
     "metadata": {},
     "output_type": "execute_result"
    },
    {
     "data": {
      "text/plain": [
       "Text(1, 164.62272378656732, '164.62')"
      ]
     },
     "execution_count": 75,
     "metadata": {},
     "output_type": "execute_result"
    },
    {
     "data": {
      "text/plain": [
       "Text(0.5, 1.0, 'last_effective_now')"
      ]
     },
     "execution_count": 75,
     "metadata": {},
     "output_type": "execute_result"
    },
    {
     "data": {
      "text/plain": [
       "<matplotlib.legend.Legend at 0x1a6195e210>"
      ]
     },
     "execution_count": 75,
     "metadata": {},
     "output_type": "execute_result"
    },
    {
     "data": {
      "image/png": "[encoded data removed]",
      "text/plain": [
       "<Figure size 432x288 with 1 Axes>"
      ]
     },
     "metadata": {
      "needs_background": "light"
     },
     "output_type": "display_data"
    },
    {
     "data": {
      "text/plain": [
       "<Figure size 432x288 with 0 Axes>"
      ]
     },
     "execution_count": 75,
     "metadata": {},
     "output_type": "execute_result"
    },
    {
     "data": {
      "text/plain": [
       "<BarContainer object of 2 artists>"
      ]
     },
     "execution_count": 75,
     "metadata": {},
     "output_type": "execute_result"
    },
    {
     "data": {
      "text/plain": [
       "Text(0, 1.6736124411077489, '1.67')"
      ]
     },
     "execution_count": 75,
     "metadata": {},
     "output_type": "execute_result"
    },
    {
     "data": {
      "text/plain": [
       "Text(1, 0.09008436507066944, '0.09')"
      ]
     },
     "execution_count": 75,
     "metadata": {},
     "output_type": "execute_result"
    },
    {
     "data": {
      "text/plain": [
       "Text(0.5, 1.0, 'cnt_loan_90d')"
      ]
     },
     "execution_count": 75,
     "metadata": {},
     "output_type": "execute_result"
    },
    {
     "data": {
      "text/plain": [
       "<matplotlib.legend.Legend at 0x1a4d7b0910>"
      ]
     },
     "execution_count": 75,
     "metadata": {},
     "output_type": "execute_result"
    },
    {
     "data": {
      "image/png": "[encoded data removed]",
      "text/plain": [
       "<Figure size 432x288 with 1 Axes>"
      ]
     },
     "metadata": {
      "needs_background": "light"
     },
     "output_type": "display_data"
    },
    {
     "data": {
      "text/plain": [
       "<Figure size 432x288 with 0 Axes>"
      ]
     },
     "execution_count": 75,
     "metadata": {},
     "output_type": "execute_result"
    },
    {
     "data": {
      "text/plain": [
       "<BarContainer object of 2 artists>"
      ]
     },
     "execution_count": 75,
     "metadata": {},
     "output_type": "execute_result"
    },
    {
     "data": {
      "text/plain": [
       "Text(0, 4.364040295706133, '4.36')"
      ]
     },
     "execution_count": 75,
     "metadata": {},
     "output_type": "execute_result"
    },
    {
     "data": {
      "text/plain": [
       "Text(1, 0.9827982907855812, '0.98')"
      ]
     },
     "execution_count": 75,
     "metadata": {},
     "output_type": "execute_result"
    },
    {
     "data": {
      "text/plain": [
       "Text(0.5, 1.0, 'cnt_loan_180d')"
      ]
     },
     "execution_count": 75,
     "metadata": {},
     "output_type": "execute_result"
    },
    {
     "data": {
      "text/plain": [
       "<matplotlib.legend.Legend at 0x1a60b2a950>"
      ]
     },
     "execution_count": 75,
     "metadata": {},
     "output_type": "execute_result"
    },
    {
     "data": {
      "image/png": "[encoded data removed]",
      "text/plain": [
       "<Figure size 432x288 with 1 Axes>"
      ]
     },
     "metadata": {
      "needs_background": "light"
     },
     "output_type": "display_data"
    },
    {
     "data": {
      "text/plain": [
       "<Figure size 432x288 with 0 Axes>"
      ]
     },
     "execution_count": 75,
     "metadata": {},
     "output_type": "execute_result"
    },
    {
     "data": {
      "text/plain": [
       "<BarContainer object of 2 artists>"
      ]
     },
     "execution_count": 75,
     "metadata": {},
     "output_type": "execute_result"
    },
    {
     "data": {
      "text/plain": [
       "Text(0, 26.33590712810744, '26.34')"
      ]
     },
     "execution_count": 75,
     "metadata": {},
     "output_type": "execute_result"
    },
    {
     "data": {
      "text/plain": [
       "Text(1, 7.075711885718458, '7.08')"
      ]
     },
     "execution_count": 75,
     "metadata": {},
     "output_type": "execute_result"
    },
    {
     "data": {
      "text/plain": [
       "Text(0.5, 1.0, 'gap_fundday')"
      ]
     },
     "execution_count": 75,
     "metadata": {},
     "output_type": "execute_result"
    },
    {
     "data": {
      "text/plain": [
       "<matplotlib.legend.Legend at 0x1a60b2a650>"
      ]
     },
     "execution_count": 75,
     "metadata": {},
     "output_type": "execute_result"
    },
    {
     "data": {
      "image/png": "[encoded data removed]",
      "text/plain": [
       "<Figure size 432x288 with 1 Axes>"
      ]
     },
     "metadata": {
      "needs_background": "light"
     },
     "output_type": "display_data"
    },
    {
     "data": {
      "text/plain": [
       "<Figure size 432x288 with 0 Axes>"
      ]
     },
     "execution_count": 75,
     "metadata": {},
     "output_type": "execute_result"
    },
    {
     "data": {
      "text/plain": [
       "<BarContainer object of 2 artists>"
      ]
     },
     "execution_count": 75,
     "metadata": {},
     "output_type": "execute_result"
    },
    {
     "data": {
      "text/plain": [
       "Text(0, 0.3056031665591932, '0.31')"
      ]
     },
     "execution_count": 75,
     "metadata": {},
     "output_type": "execute_result"
    },
    {
     "data": {
      "text/plain": [
       "Text(1, 0.04602477213083092, '0.05')"
      ]
     },
     "execution_count": 75,
     "metadata": {},
     "output_type": "execute_result"
    },
    {
     "data": {
      "text/plain": [
       "Text(0.5, 1.0, 'm3_m6')"
      ]
     },
     "execution_count": 75,
     "metadata": {},
     "output_type": "execute_result"
    },
    {
     "data": {
      "text/plain": [
       "<matplotlib.legend.Legend at 0x1a5b20ff90>"
      ]
     },
     "execution_count": 75,
     "metadata": {},
     "output_type": "execute_result"
    },
    {
     "data": {
      "image/png": "[encoded data removed]",
      "text/plain": [
       "<Figure size 432x288 with 1 Axes>"
      ]
     },
     "metadata": {
      "needs_background": "light"
     },
     "output_type": "display_data"
    },
    {
     "data": {
      "text/plain": [
       "<Figure size 432x288 with 0 Axes>"
      ]
     },
     "execution_count": 75,
     "metadata": {},
     "output_type": "execute_result"
    },
    {
     "data": {
      "text/plain": [
       "<BarContainer object of 2 artists>"
      ]
     },
     "execution_count": 75,
     "metadata": {},
     "output_type": "execute_result"
    },
    {
     "data": {
      "text/plain": [
       "Text(0, 733.1570191902863, '733.16')"
      ]
     },
     "execution_count": 75,
     "metadata": {},
     "output_type": "execute_result"
    },
    {
     "data": {
      "text/plain": [
       "Text(1, -198.4066034841806, '-198.41')"
      ]
     },
     "execution_count": 75,
     "metadata": {},
     "output_type": "execute_result"
    },
    {
     "data": {
      "text/plain": [
       "Text(0.5, 1.0, 'profit')"
      ]
     },
     "execution_count": 75,
     "metadata": {},
     "output_type": "execute_result"
    },
    {
     "data": {
      "text/plain": [
       "<matplotlib.legend.Legend at 0x1a5b20fc10>"
      ]
     },
     "execution_count": 75,
     "metadata": {},
     "output_type": "execute_result"
    },
    {
     "data": {
      "image/png": "[encoded data removed]",
      "text/plain": [
       "<Figure size 432x288 with 1 Axes>"
      ]
     },
     "metadata": {
      "needs_background": "light"
     },
     "output_type": "display_data"
    },
    {
     "data": {
      "text/plain": [
       "<Figure size 432x288 with 0 Axes>"
      ]
     },
     "execution_count": 75,
     "metadata": {},
     "output_type": "execute_result"
    },
    {
     "data": {
      "text/plain": [
       "<BarContainer object of 2 artists>"
      ]
     },
     "execution_count": 75,
     "metadata": {},
     "output_type": "execute_result"
    },
    {
     "data": {
      "text/plain": [
       "Text(0, 0.9815758225763205, '0.98')"
      ]
     },
     "execution_count": 75,
     "metadata": {},
     "output_type": "execute_result"
    },
    {
     "data": {
      "text/plain": [
       "Text(1, 0.16682370987180892, '0.17')"
      ]
     },
     "execution_count": 75,
     "metadata": {},
     "output_type": "execute_result"
    },
    {
     "data": {
      "text/plain": [
       "Text(0.5, 1.0, 'is_profit')"
      ]
     },
     "execution_count": 75,
     "metadata": {},
     "output_type": "execute_result"
    },
    {
     "data": {
      "text/plain": [
       "<matplotlib.legend.Legend at 0x1a5b225110>"
      ]
     },
     "execution_count": 75,
     "metadata": {},
     "output_type": "execute_result"
    },
    {
     "data": {
      "image/png": "[encoded data removed]",
      "text/plain": [
       "<Figure size 432x288 with 1 Axes>"
      ]
     },
     "metadata": {
      "needs_background": "light"
     },
     "output_type": "display_data"
    },
    {
     "data": {
      "text/plain": [
       "<Figure size 432x288 with 0 Axes>"
      ]
     },
     "execution_count": 75,
     "metadata": {},
     "output_type": "execute_result"
    },
    {
     "data": {
      "text/plain": [
       "<BarContainer object of 2 artists>"
      ]
     },
     "execution_count": 75,
     "metadata": {},
     "output_type": "execute_result"
    },
    {
     "data": {
      "text/plain": [
       "Text(0, 6.55126977439001, '6.55')"
      ]
     },
     "execution_count": 75,
     "metadata": {},
     "output_type": "execute_result"
    },
    {
     "data": {
      "text/plain": [
       "Text(1, 2.0226580475512215, '2.02')"
      ]
     },
     "execution_count": 75,
     "metadata": {},
     "output_type": "execute_result"
    },
    {
     "data": {
      "text/plain": [
       "Text(0.5, 1.0, 'total_order')"
      ]
     },
     "execution_count": 75,
     "metadata": {},
     "output_type": "execute_result"
    },
    {
     "data": {
      "text/plain": [
       "<matplotlib.legend.Legend at 0x1a57a1cb50>"
      ]
     },
     "execution_count": 75,
     "metadata": {},
     "output_type": "execute_result"
    },
    {
     "data": {
      "image/png": "[encoded data removed]",
      "text/plain": [
       "<Figure size 432x288 with 1 Axes>"
      ]
     },
     "metadata": {
      "needs_background": "light"
     },
     "output_type": "display_data"
    },
    {
     "data": {
      "text/plain": [
       "<Figure size 432x288 with 0 Axes>"
      ]
     },
     "execution_count": 75,
     "metadata": {},
     "output_type": "execute_result"
    },
    {
     "data": {
      "text/plain": [
       "<BarContainer object of 2 artists>"
      ]
     },
     "execution_count": 75,
     "metadata": {},
     "output_type": "execute_result"
    },
    {
     "data": {
      "text/plain": [
       "Text(0, 1.4854636687478453, '1.49')"
      ]
     },
     "execution_count": 75,
     "metadata": {},
     "output_type": "execute_result"
    },
    {
     "data": {
      "text/plain": [
       "Text(1, 1.014462583543333, '1.01')"
      ]
     },
     "execution_count": 75,
     "metadata": {},
     "output_type": "execute_result"
    },
    {
     "data": {
      "text/plain": [
       "Text(0.5, 1.0, 'rucui_loan')"
      ]
     },
     "execution_count": 75,
     "metadata": {},
     "output_type": "execute_result"
    },
    {
     "data": {
      "text/plain": [
       "<matplotlib.legend.Legend at 0x1a4ef00d90>"
      ]
     },
     "execution_count": 75,
     "metadata": {},
     "output_type": "execute_result"
    },
    {
     "data": {
      "image/png": "[encoded data removed]",
      "text/plain": [
       "<Figure size 432x288 with 1 Axes>"
      ]
     },
     "metadata": {
      "needs_background": "light"
     },
     "output_type": "display_data"
    },
    {
     "data": {
      "text/plain": [
       "<Figure size 432x288 with 0 Axes>"
      ]
     },
     "execution_count": 75,
     "metadata": {},
     "output_type": "execute_result"
    },
    {
     "data": {
      "text/plain": [
       "<BarContainer object of 2 artists>"
      ]
     },
     "execution_count": 75,
     "metadata": {},
     "output_type": "execute_result"
    },
    {
     "data": {
      "text/plain": [
       "Text(0, 2.4268970008043818, '2.43')"
      ]
     },
     "execution_count": 75,
     "metadata": {},
     "output_type": "execute_result"
    },
    {
     "data": {
      "text/plain": [
       "Text(1, 1.2186260545633834, '1.22')"
      ]
     },
     "execution_count": 75,
     "metadata": {},
     "output_type": "execute_result"
    },
    {
     "data": {
      "text/plain": [
       "Text(0.5, 1.0, 'rucui_order')"
      ]
     },
     "execution_count": 75,
     "metadata": {},
     "output_type": "execute_result"
    },
    {
     "data": {
      "text/plain": [
       "<matplotlib.legend.Legend at 0x1a60fa3790>"
      ]
     },
     "execution_count": 75,
     "metadata": {},
     "output_type": "execute_result"
    },
    {
     "data": {
      "image/png": "[encoded data removed]",
      "text/plain": [
       "<Figure size 432x288 with 1 Axes>"
      ]
     },
     "metadata": {
      "needs_background": "light"
     },
     "output_type": "display_data"
    },
    {
     "data": {
      "text/plain": [
       "<Figure size 432x288 with 0 Axes>"
      ]
     },
     "execution_count": 75,
     "metadata": {},
     "output_type": "execute_result"
    },
    {
     "data": {
      "text/plain": [
       "<BarContainer object of 2 artists>"
      ]
     },
     "execution_count": 75,
     "metadata": {},
     "output_type": "execute_result"
    },
    {
     "data": {
      "text/plain": [
       "Text(0, 1.270234036848355, '1.27')"
      ]
     },
     "execution_count": 75,
     "metadata": {},
     "output_type": "execute_result"
    },
    {
     "data": {
      "text/plain": [
       "Text(1, 0.2794565574668566, '0.28')"
      ]
     },
     "execution_count": 75,
     "metadata": {},
     "output_type": "execute_result"
    },
    {
     "data": {
      "text/plain": [
       "Text(0.5, 1.0, 'chucui_loan')"
      ]
     },
     "execution_count": 75,
     "metadata": {},
     "output_type": "execute_result"
    },
    {
     "data": {
      "text/plain": [
       "<matplotlib.legend.Legend at 0x1a69b7e990>"
      ]
     },
     "execution_count": 75,
     "metadata": {},
     "output_type": "execute_result"
    },
    {
     "data": {
      "image/png": "[encoded data removed]",
      "text/plain": [
       "<Figure size 432x288 with 1 Axes>"
      ]
     },
     "metadata": {
      "needs_background": "light"
     },
     "output_type": "display_data"
    },
    {
     "data": {
      "text/plain": [
       "<Figure size 432x288 with 0 Axes>"
      ]
     },
     "execution_count": 75,
     "metadata": {},
     "output_type": "execute_result"
    },
    {
     "data": {
      "text/plain": [
       "<BarContainer object of 2 artists>"
      ]
     },
     "execution_count": 75,
     "metadata": {},
     "output_type": "execute_result"
    },
    {
     "data": {
      "text/plain": [
       "Text(0, 1.9993488336461485, '2.00')"
      ]
     },
     "execution_count": 75,
     "metadata": {},
     "output_type": "execute_result"
    },
    {
     "data": {
      "text/plain": [
       "Text(1, 0.33110551112085024, '0.33')"
      ]
     },
     "execution_count": 75,
     "metadata": {},
     "output_type": "execute_result"
    },
    {
     "data": {
      "text/plain": [
       "Text(0.5, 1.0, 'chucui_order')"
      ]
     },
     "execution_count": 75,
     "metadata": {},
     "output_type": "execute_result"
    },
    {
     "data": {
      "text/plain": [
       "<matplotlib.legend.Legend at 0x1a50514f90>"
      ]
     },
     "execution_count": 75,
     "metadata": {},
     "output_type": "execute_result"
    },
    {
     "data": {
      "image/png": "[encoded data removed]",
      "text/plain": [
       "<Figure size 432x288 with 1 Axes>"
      ]
     },
     "metadata": {
      "needs_background": "light"
     },
     "output_type": "display_data"
    },
    {
     "data": {
      "text/plain": [
       "<Figure size 432x288 with 0 Axes>"
      ]
     },
     "execution_count": 75,
     "metadata": {},
     "output_type": "execute_result"
    },
    {
     "data": {
      "text/plain": [
       "<BarContainer object of 2 artists>"
      ]
     },
     "execution_count": 75,
     "metadata": {},
     "output_type": "execute_result"
    },
    {
     "data": {
      "text/plain": [
       "Text(0, 4.985329605086759, '4.99')"
      ]
     },
     "execution_count": 75,
     "metadata": {},
     "output_type": "execute_result"
    },
    {
     "data": {
      "text/plain": [
       "Text(1, 0.7768160403199299, '0.78')"
      ]
     },
     "execution_count": 75,
     "metadata": {},
     "output_type": "execute_result"
    },
    {
     "data": {
      "text/plain": [
       "Text(0.5, 1.0, 'chucui_days')"
      ]
     },
     "execution_count": 75,
     "metadata": {},
     "output_type": "execute_result"
    },
    {
     "data": {
      "text/plain": [
       "<matplotlib.legend.Legend at 0x1a5ab98b10>"
      ]
     },
     "execution_count": 75,
     "metadata": {},
     "output_type": "execute_result"
    },
    {
     "data": {
      "image/png": "[encoded data removed]",
      "text/plain": [
       "<Figure size 432x288 with 1 Axes>"
      ]
     },
     "metadata": {
      "needs_background": "light"
     },
     "output_type": "display_data"
    },
    {
     "data": {
      "text/plain": [
       "<Figure size 432x288 with 0 Axes>"
      ]
     },
     "execution_count": 75,
     "metadata": {},
     "output_type": "execute_result"
    },
    {
     "data": {
      "text/plain": [
       "<BarContainer object of 2 artists>"
      ]
     },
     "execution_count": 75,
     "metadata": {},
     "output_type": "execute_result"
    },
    {
     "data": {
      "text/plain": [
       "Text(0, 3.2740644271651282, '3.27')"
      ]
     },
     "execution_count": 75,
     "metadata": {},
     "output_type": "execute_result"
    },
    {
     "data": {
      "text/plain": [
       "Text(1, 0.6886381067163362, '0.69')"
      ]
     },
     "execution_count": 75,
     "metadata": {},
     "output_type": "execute_result"
    },
    {
     "data": {
      "text/plain": [
       "Text(0.5, 1.0, 'max_chucui_days')"
      ]
     },
     "execution_count": 75,
     "metadata": {},
     "output_type": "execute_result"
    },
    {
     "data": {
      "text/plain": [
       "<matplotlib.legend.Legend at 0x1a57f35f90>"
      ]
     },
     "execution_count": 75,
     "metadata": {},
     "output_type": "execute_result"
    },
    {
     "data": {
      "image/png": "[encoded data removed]",
      "text/plain": [
       "<Figure size 432x288 with 1 Axes>"
      ]
     },
     "metadata": {
      "needs_background": "light"
     },
     "output_type": "display_data"
    }
   ],
   "source": [
    "import numpy\n",
    "fig_path = os.path.join(file_path, 'group_fig')\n",
    "if not os.path.exists(fig_path):\n",
    "    os.mkdir(fig_path)\n",
    "col_list = my_group.columns.tolist()[2:]\n",
    "for cols in col_list:\n",
    "    plt.figure(figsize=(6,4))\n",
    "    plt.bar(my_group.index, my_group[cols], width=0.25);\n",
    "    for a, b in zip(index, my_group[cols]):\n",
    "        plt.text(a, b, '%.2f' % b, ha='center', va='bottom', fontsize=5);\n",
    "    plt.title('%s'%cols)\n",
    "    plt.legend(['0','1'], loc = 'upper right', fontsize=5)\n",
    "    plt.tight_layout();\n",
    "    plt.savefig(os.path.join(fig_path, cols + '.png'), format='png', dpi=300, bbox_inches = 'tight',pad_inches = 0.1)\n",
    "    plt.show();\n",
    "    plt.close();"
   ]
  },
  {
   "cell_type": "raw",
   "metadata": {
    "hidden": true
   },
   "source": [
    "交叉分析"
   ]
  },
  {
   "cell_type": "code",
   "execution_count": null,
   "metadata": {
    "hidden": true
   },
   "outputs": [],
   "source": [
    "1）第一次放款和最近一次放款距今天数；2）入催订单和出催定单；3）入催案件和出催案件数；4）近3个月和近6个月放款"
   ]
  },
  {
   "cell_type": "code",
   "execution_count": 92,
   "metadata": {
    "hidden": true
   },
   "outputs": [
    {
     "data": {
      "image/png": "[encoded data removed]",
      "text/plain": [
       "<Figure size 432x288 with 1 Axes>"
      ]
     },
     "metadata": {
      "needs_background": "light"
     },
     "output_type": "display_data"
    }
   ],
   "source": [
    "index = numpy.arange(my_group.shape[0])\n",
    "plt.figure(figsize=(6,4))\n",
    "plt.bar(index, my_group['first_effective_now'], width=0.25);\n",
    "for a, b in zip(index, my_group['first_effective_now']):\n",
    "    plt.text(a, b, '%.2f' % b, ha='center', va='bottom', fontsize=5);\n",
    "plt.bar(index + 0.35, my_group['last_effective_now'], width=0.25, color = 'orange')\n",
    "for a, b in zip(index + 0.35, my_group['last_effective_now']):\n",
    "    plt.text(a, b, '%.2f' % b, ha='center', va='bottom', fontsize=5);\n",
    "plt.xticks(index+0.15 , my_group.index)\n",
    "# plt.title('dist of %s'%cols)\n",
    "plt.legend(['最早一次放款距今天数','最晚一次放款距今天数'], loc = 'upper right', fontsize=5)\n",
    "plt.tight_layout();\n",
    "plt.savefig(os.path.join(fig_path, 'days' + '.png'), format='png', dpi=300, bbox_inches = 'tight',pad_inches = 0.1)\n",
    "plt.show();\n",
    "plt.close();"
   ]
  },
  {
   "cell_type": "code",
   "execution_count": 93,
   "metadata": {
    "hidden": true
   },
   "outputs": [
    {
     "data": {
      "image/png": "[encoded data removed]",
      "text/plain": [
       "<Figure size 432x288 with 1 Axes>"
      ]
     },
     "metadata": {
      "needs_background": "light"
     },
     "output_type": "display_data"
    }
   ],
   "source": [
    "index = numpy.arange(my_group.shape[0])\n",
    "plt.figure(figsize=(6,4))\n",
    "plt.bar(index, my_group['rucui_loan'], width=0.25);\n",
    "for a, b in zip(index, my_group['rucui_loan']):\n",
    "    plt.text(a, b, '%.2f' % b, ha='center', va='bottom', fontsize=5);\n",
    "plt.bar(index + 0.35, my_group['chucui_loan'], width=0.25, color = 'orange')\n",
    "for a, b in zip(index + 0.35, my_group['chucui_loan']):\n",
    "    plt.text(a, b, '%.2f' % b, ha='center', va='bottom', fontsize=5);\n",
    "plt.xticks(index+0.15 , my_group.index)\n",
    "# plt.title('dist of %s'%cols)\n",
    "plt.legend(['入催订单数','出催订单数'], loc = 'upper right', fontsize=5)\n",
    "plt.tight_layout();\n",
    "plt.savefig(os.path.join(fig_path, '入催——出催' + '.png'), format='png', dpi=300, bbox_inches = 'tight',pad_inches = 0.1)\n",
    "plt.show();\n",
    "plt.close();"
   ]
  },
  {
   "cell_type": "code",
   "execution_count": 94,
   "metadata": {
    "hidden": true
   },
   "outputs": [
    {
     "data": {
      "image/png": "[encoded data removed]",
      "text/plain": [
       "<Figure size 432x288 with 1 Axes>"
      ]
     },
     "metadata": {
      "needs_background": "light"
     },
     "output_type": "display_data"
    }
   ],
   "source": [
    "index = numpy.arange(my_group.shape[0])\n",
    "plt.figure(figsize=(6,4))\n",
    "plt.bar(index, my_group['rucui_order'], width=0.25);\n",
    "for a, b in zip(index, my_group['rucui_order']):\n",
    "    plt.text(a, b, '%.2f' % b, ha='center', va='bottom', fontsize=5);\n",
    "plt.bar(index + 0.35, my_group['chucui_order'], width=0.25, color = 'orange')\n",
    "for a, b in zip(index + 0.35, my_group['chucui_order']):\n",
    "    plt.text(a, b, '%.2f' % b, ha='center', va='bottom', fontsize=5);\n",
    "plt.xticks(index+0.15 , my_group.index)\n",
    "# plt.title('dist of %s'%cols)\n",
    "plt.legend(['入催案件数','出催案件数'], loc = 'upper right', fontsize=5)\n",
    "plt.tight_layout();\n",
    "plt.savefig(os.path.join(fig_path, '入催——出催(案件)' + '.png'), format='png', dpi=300, bbox_inches = 'tight',pad_inches = 0.1)\n",
    "plt.show();\n",
    "plt.close();"
   ]
  },
  {
   "cell_type": "code",
   "execution_count": 95,
   "metadata": {
    "hidden": true
   },
   "outputs": [
    {
     "data": {
      "image/png": "[encoded data removed]",
      "text/plain": [
       "<Figure size 432x288 with 1 Axes>"
      ]
     },
     "metadata": {
      "needs_background": "light"
     },
     "output_type": "display_data"
    }
   ],
   "source": [
    "index = numpy.arange(my_group.shape[0])\n",
    "plt.figure(figsize=(6,4))\n",
    "plt.bar(index, my_group['cnt_loan_90d'], width=0.25);\n",
    "for a, b in zip(index, my_group['cnt_loan_90d']):\n",
    "    plt.text(a, b, '%.2f' % b, ha='center', va='bottom', fontsize=5);\n",
    "plt.bar(index + 0.35, my_group['cnt_loan_180d'], width=0.25, color = 'orange')\n",
    "for a, b in zip(index + 0.35, my_group['cnt_loan_180d']):\n",
    "    plt.text(a, b, '%.2f' % b, ha='center', va='bottom', fontsize=5);\n",
    "plt.xticks(index+0.15 , my_group.index)\n",
    "# plt.title('dist of %s'%cols)\n",
    "plt.legend(['近3个月放款次数','近6个月放款次数'], loc = 'upper right', fontsize=5)\n",
    "plt.tight_layout();\n",
    "plt.savefig(os.path.join(fig_path, '3-6个月放款次数' + '.png'), format='png', dpi=300, bbox_inches = 'tight',pad_inches = 0.1)\n",
    "plt.show();\n",
    "plt.close();"
   ]
  },
  {
   "cell_type": "code",
   "execution_count": null,
   "metadata": {
    "hidden": true
   },
   "outputs": [],
   "source": []
  }
 ],
 "metadata": {
  "kernelspec": {
   "display_name": "Python 3",
   "language": "python",
   "name": "python3"
  },
  "language_info": {
   "codemirror_mode": {
    "name": "ipython",
    "version": 3
   },
   "file_extension": ".py",
   "mimetype": "text/x-python",
   "name": "python",
   "nbconvert_exporter": "python",
   "pygments_lexer": "ipython3",
   "version": "3.7.5"
  },
  "latex_envs": {
   "LaTeX_envs_menu_present": true,
   "autoclose": false,
   "autocomplete": true,
   "bibliofile": "biblio.bib",
   "cite_by": "apalike",
   "current_citInitial": 1,
   "eqLabelWithNumbers": true,
   "eqNumInitial": 1,
   "hotkeys": {
    "equation": "Ctrl-E",
    "itemize": "Ctrl-I"
   },
   "labels_anchors": false,
   "latex_user_defs": false,
   "report_style_numbering": false,
   "user_envs_cfg": false
  },
  "toc": {
   "base_numbering": 1,
   "nav_menu": {},
   "number_sections": true,
   "sideBar": true,
   "skip_h1_title": false,
   "title_cell": "Table of Contents",
   "title_sidebar": "Contents",
   "toc_cell": false,
   "toc_position": {},
   "toc_section_display": true,
   "toc_window_display": true
  },
  "varInspector": {
   "cols": {
    "lenName": 16,
    "lenType": 16,
    "lenVar": 40
   },
   "kernels_config": {
    "python": {
     "delete_cmd_postfix": "",
     "delete_cmd_prefix": "del ",
     "library": "var_list.py",
     "varRefreshCmd": "print(var_dic_list())"
    },
    "r": {
     "delete_cmd_postfix": ") ",
     "delete_cmd_prefix": "rm(",
     "library": "var_list.r",
     "varRefreshCmd": "cat(var_dic_list()) "
    }
   },
   "types_to_exclude": [
    "module",
    "function",
    "builtin_function_or_method",
    "instance",
    "_Feature"
   ],
   "window_display": false
  }
 },
 "nbformat": 4,
 "nbformat_minor": 2
}
