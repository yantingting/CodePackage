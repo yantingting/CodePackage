{
 "cells": [
  {
   "cell_type": "code",
   "execution_count": 1,
   "metadata": {},
   "outputs": [],
   "source": [
    "import os\n",
    "import sys\n",
    "import time\n",
    "import pandas as pd \n",
    "pd.set_option('display.max_columns', None)\n",
    "pd.set_option('display.max_rows', None)\n",
    "import numpy as np\n",
    "import re\n",
    "import seaborn as sns\n",
    "import matplotlib.pyplot as plt\n",
    "from collections import Counter\n",
    "sys.path.append('/Users/yantingting/PycharmProjects/modeling/')\n",
    "import database_conncet as data_con\n",
    "import data_processing as dp\n",
    "import summary_statistics as ss\n",
    "from data_io_utils import *"
   ]
  },
  {
   "cell_type": "code",
   "execution_count": 3,
   "metadata": {},
   "outputs": [],
   "source": [
    "file_path = '/Users/yantingting/Documents/用户画像(印尼)/dataprepare/fund_data/'"
   ]
  },
  {
   "cell_type": "markdown",
   "metadata": {
    "heading_collapsed": true
   },
   "source": [
    "# 取数"
   ]
  },
  {
   "cell_type": "code",
   "execution_count": 3,
   "metadata": {
    "hidden": true
   },
   "outputs": [],
   "source": [
    "query1 = '''\n",
    "select t_key.id as apply_id,t_key.customer_id, t_key.apply_time,t_key.apply_date,\n",
    "t_reg.reg_time,\n",
    "t_base.cell_phone,\n",
    "t_base.mail\n",
    ", t_base.id_card_no\n",
    ", t_base.marital_status\n",
    ", t_base.religion\n",
    ", t_base.education\n",
    ", t_base.channel\n",
    ", t_base.device\n",
    ", t_base.provincecode\n",
    ", t_base.citycode\n",
    ", t_base.districtcode\n",
    ", t_base.gender\n",
    ", t_base.age\n",
    ", t_job.occupation_type\n",
    ", t_job.job\n",
    ", t_job.industry_involved\n",
    ", t_job.monthly_salary\n",
    ", t_job.company_area\n",
    ", t_job.employee_number\n",
    ", t_job.jobless_time_income\n",
    ", t_job.monthly_income_resource\n",
    ", t_job.pre_work_industry\n",
    ", t_job.pre_work_income\n",
    ", t_bank.bank_code\n",
    ", t_device.brand\n",
    ", t_device.heightPixels\n",
    ", t_device.widthPixels\n",
    ", t_device.manufacturer\n",
    ", t_device.model\n",
    ", t_device.version\n",
    "from \n",
    "(select * from temp_key_hx \n",
    "where date(apply_time) between '2019-05-01' and '2019-09-30')t_key \n",
    "left join temp_regtime_hx t_reg \n",
    "on t_key.customer_id = t_reg.customer_id\n",
    "left join temp_baseinfo_hx t_base \n",
    "on t_key.customer_id = t_base.customer_id\n",
    "left join temp_jobinfo_hx t_job \n",
    "on t_key.customer_id = t_job.customer_id\n",
    "left join temp_bankinfo_hx t_bank \n",
    "on t_key.customer_id = t_bank.customer_id\n",
    "left join temp_deviceinfo_hx t_device\n",
    "on t_key.customer_id = t_device.customer_id;\n",
    "'''"
   ]
  },
  {
   "cell_type": "code",
   "execution_count": 4,
   "metadata": {
    "hidden": true
   },
   "outputs": [
    {
     "name": "stdout",
     "output_type": "stream",
     "text": [
      "Successful connection\n",
      "1\n"
     ]
    }
   ],
   "source": [
    "df_var1 = data_con.database_gn(query1)\n",
    "df_var1.to_csv(os.path.join(file_path, 'df_var1.csv'), index = False)\n",
    "save_data_to_pickle(df_var1, file_path, 'df_vars.pkl')\n",
    "print(1)"
   ]
  },
  {
   "cell_type": "markdown",
   "metadata": {
    "heading_collapsed": true
   },
   "source": [
    "# 数据检查&变量衍生"
   ]
  },
  {
   "cell_type": "code",
   "execution_count": 9,
   "metadata": {
    "hidden": true,
    "scrolled": true
   },
   "outputs": [
    {
     "data": {
      "text/html": [
       "<div>\n",
       "<style scoped>\n",
       "    .dataframe tbody tr th:only-of-type {\n",
       "        vertical-align: middle;\n",
       "    }\n",
       "\n",
       "    .dataframe tbody tr th {\n",
       "        vertical-align: top;\n",
       "    }\n",
       "\n",
       "    .dataframe thead th {\n",
       "        text-align: right;\n",
       "    }\n",
       "</style>\n",
       "<table border=\"1\" class=\"dataframe\">\n",
       "  <thead>\n",
       "    <tr style=\"text-align: right;\">\n",
       "      <th></th>\n",
       "      <th>apply_id</th>\n",
       "      <th>customer_id</th>\n",
       "      <th>apply_time</th>\n",
       "      <th>apply_date</th>\n",
       "      <th>reg_time</th>\n",
       "      <th>cell_phone</th>\n",
       "      <th>mail</th>\n",
       "      <th>id_card_no</th>\n",
       "      <th>marital_status</th>\n",
       "      <th>religion</th>\n",
       "      <th>education</th>\n",
       "      <th>channel</th>\n",
       "      <th>device</th>\n",
       "      <th>provincecode</th>\n",
       "      <th>citycode</th>\n",
       "      <th>districtcode</th>\n",
       "      <th>gender</th>\n",
       "      <th>age</th>\n",
       "      <th>occupation_type</th>\n",
       "      <th>job</th>\n",
       "      <th>industry_involved</th>\n",
       "      <th>monthly_salary</th>\n",
       "      <th>company_area</th>\n",
       "      <th>employee_number</th>\n",
       "      <th>jobless_time_income</th>\n",
       "      <th>monthly_income_resource</th>\n",
       "      <th>pre_work_industry</th>\n",
       "      <th>pre_work_income</th>\n",
       "      <th>bank_code</th>\n",
       "      <th>brand</th>\n",
       "      <th>heightpixels</th>\n",
       "      <th>widthpixels</th>\n",
       "      <th>manufacturer</th>\n",
       "      <th>model</th>\n",
       "      <th>version</th>\n",
       "    </tr>\n",
       "  </thead>\n",
       "  <tbody>\n",
       "    <tr>\n",
       "      <th>0</th>\n",
       "      <td>381917062897246208</td>\n",
       "      <td>381888744026185728</td>\n",
       "      <td>2019-09-20 20:22:03</td>\n",
       "      <td>2019-09-20</td>\n",
       "      <td>2019-09-20 18:29:32</td>\n",
       "      <td>081285867887</td>\n",
       "      <td>yasir.adhieirawan85@gmail.com</td>\n",
       "      <td>3215013010850001</td>\n",
       "      <td>MARRIED</td>\n",
       "      <td>ISLAM</td>\n",
       "      <td>SENIOR_HIGH_SCHOOL</td>\n",
       "      <td>UAC_Search</td>\n",
       "      <td>ANDROID</td>\n",
       "      <td>32</td>\n",
       "      <td>15</td>\n",
       "      <td>01</td>\n",
       "      <td>male</td>\n",
       "      <td>34</td>\n",
       "      <td>OFFICE</td>\n",
       "      <td>SUPERVISO</td>\n",
       "      <td>RETAIL</td>\n",
       "      <td>6000000.0</td>\n",
       "      <td>Karawang Timur,KAB. KARAWANG,JAWA BARAT</td>\n",
       "      <td></td>\n",
       "      <td>0.0</td>\n",
       "      <td></td>\n",
       "      <td></td>\n",
       "      <td>0.0</td>\n",
       "      <td>BCA</td>\n",
       "      <td>HUAWEI</td>\n",
       "      <td>1358</td>\n",
       "      <td>720</td>\n",
       "      <td>HUAWEI</td>\n",
       "      <td>ATU-L22</td>\n",
       "      <td>33</td>\n",
       "    </tr>\n",
       "    <tr>\n",
       "      <th>1</th>\n",
       "      <td>382152173995597824</td>\n",
       "      <td>382149993884450816</td>\n",
       "      <td>2019-09-21 11:56:18</td>\n",
       "      <td>2019-09-21</td>\n",
       "      <td>2019-09-21 11:47:39</td>\n",
       "      <td>081220368665</td>\n",
       "      <td>Rostikai890@gmail.com</td>\n",
       "      <td>3204325506880011</td>\n",
       "      <td>MARRIED</td>\n",
       "      <td>ISLAM</td>\n",
       "      <td>JUNIOR_HIGH_SCHOOL</td>\n",
       "      <td>GooglePlay</td>\n",
       "      <td>ANDROID</td>\n",
       "      <td>32</td>\n",
       "      <td>04</td>\n",
       "      <td>32</td>\n",
       "      <td>female</td>\n",
       "      <td>31</td>\n",
       "      <td>OFFICE</td>\n",
       "      <td>STAF</td>\n",
       "      <td>PABRIK</td>\n",
       "      <td>4500000.0</td>\n",
       "      <td>Andir,KOTA BANDUNG,JAWA BARAT</td>\n",
       "      <td></td>\n",
       "      <td>0.0</td>\n",
       "      <td></td>\n",
       "      <td></td>\n",
       "      <td>0.0</td>\n",
       "      <td>BRI</td>\n",
       "      <td>samsung</td>\n",
       "      <td>960</td>\n",
       "      <td>540</td>\n",
       "      <td>samsung</td>\n",
       "      <td>SM-G532G</td>\n",
       "      <td>32</td>\n",
       "    </tr>\n",
       "  </tbody>\n",
       "</table>\n",
       "</div>"
      ],
      "text/plain": [
       "             apply_id         customer_id          apply_time  apply_date  \\\n",
       "0  381917062897246208  381888744026185728 2019-09-20 20:22:03  2019-09-20   \n",
       "1  382152173995597824  382149993884450816 2019-09-21 11:56:18  2019-09-21   \n",
       "\n",
       "             reg_time    cell_phone                           mail  \\\n",
       "0 2019-09-20 18:29:32  081285867887  yasir.adhieirawan85@gmail.com   \n",
       "1 2019-09-21 11:47:39  081220368665          Rostikai890@gmail.com   \n",
       "\n",
       "         id_card_no marital_status religion           education     channel  \\\n",
       "0  3215013010850001        MARRIED    ISLAM  SENIOR_HIGH_SCHOOL  UAC_Search   \n",
       "1  3204325506880011        MARRIED    ISLAM  JUNIOR_HIGH_SCHOOL  GooglePlay   \n",
       "\n",
       "    device provincecode citycode districtcode  gender  age occupation_type  \\\n",
       "0  ANDROID           32       15           01    male   34          OFFICE   \n",
       "1  ANDROID           32       04           32  female   31          OFFICE   \n",
       "\n",
       "         job industry_involved  monthly_salary  \\\n",
       "0  SUPERVISO            RETAIL       6000000.0   \n",
       "1       STAF            PABRIK       4500000.0   \n",
       "\n",
       "                              company_area employee_number  \\\n",
       "0  Karawang Timur,KAB. KARAWANG,JAWA BARAT                   \n",
       "1            Andir,KOTA BANDUNG,JAWA BARAT                   \n",
       "\n",
       "   jobless_time_income monthly_income_resource pre_work_industry  \\\n",
       "0                  0.0                                             \n",
       "1                  0.0                                             \n",
       "\n",
       "   pre_work_income bank_code    brand heightpixels widthpixels manufacturer  \\\n",
       "0              0.0       BCA   HUAWEI         1358         720       HUAWEI   \n",
       "1              0.0       BRI  samsung          960         540      samsung   \n",
       "\n",
       "      model version  \n",
       "0   ATU-L22      33  \n",
       "1  SM-G532G      32  "
      ]
     },
     "execution_count": 9,
     "metadata": {},
     "output_type": "execute_result"
    }
   ],
   "source": [
    "df_var1 = load_data_from_pickle(file_path, 'df_vars.pkl')\n",
    "df_var1.head(2)"
   ]
  },
  {
   "cell_type": "code",
   "execution_count": 10,
   "metadata": {
    "hidden": true
   },
   "outputs": [
    {
     "data": {
      "text/plain": [
       "(101925, 35)"
      ]
     },
     "execution_count": 10,
     "metadata": {},
     "output_type": "execute_result"
    },
    {
     "data": {
      "text/plain": [
       "(101925, 42)"
      ]
     },
     "execution_count": 10,
     "metadata": {},
     "output_type": "execute_result"
    }
   ],
   "source": [
    "df_var1.shape\n",
    "df_var1['apply_month'] = df_var1['apply_date'].apply(lambda x: pd.to_datetime(x).month)\n",
    "df_var1['diff_apply_reg'] = df_var1.apply(lambda x: (pd.to_datetime(x['apply_date']) - pd.to_datetime(x['reg_time'])).days, axis = 1)\n",
    "\n",
    "df_var1['mail_type'] = df_var1['mail'].apply(lambda x: x[x.find('@') + 1:x.find('.')] if not isinstance(x, float) else x)\n",
    "df_var1['salary_rmb'] = df_var1['monthly_salary'].apply(lambda x: x/2000)\n",
    "salary_rmb_cut = sorted(set(df_var1['salary_rmb'].quantile([.1, .2, .3, .4, .5, .6, .7, .8, .9]).values))\n",
    "salary_rmb_cut.insert(0, -float('Inf'))\n",
    "salary_rmb_cut.append(float('Inf'))\n",
    "df_var1['salary_rmb_g'] = pd.cut(df_var1['salary_rmb'],salary_rmb_cut, right=True, include_lowest = True)\n",
    "df_var1['pixels'] = '(' + round(pd.to_numeric(df_var1['heightpixels']), 0).astype(str) + ', ' \\\n",
    "                 + round(pd.to_numeric(df_var1['widthpixels']), 0).astype(str) + ')'\n",
    "col1_list = ['brand','manufacturer', 'model','mail_type']\n",
    "for cols in col1_list:  \n",
    "    df_var1[cols] = df_var1[cols].astype(str).apply(lambda x: x.lower())\n",
    "age_cut = [0,21,25, 30,35,40,45,50,55,60,65,100]\n",
    "df_var1['age_g'] = pd.cut(df_var1['age'],age_cut, right=True, include_lowest = True)\n",
    "df_var1.shape"
   ]
  },
  {
   "cell_type": "code",
   "execution_count": 11,
   "metadata": {
    "hidden": true
   },
   "outputs": [
    {
     "data": {
      "text/plain": [
       "(71742, 62)"
      ]
     },
     "execution_count": 11,
     "metadata": {},
     "output_type": "execute_result"
    }
   ],
   "source": [
    "r = load_data_from_pickle(file_path,'聚类结果.pkl')\n",
    "df_var11 = pd.merge(r, df_var1, on = 'customer_id', how = 'left')\n",
    "df_var11 = df_var11[df_var11['cnt_loan']>0]\n",
    "df_var11.shape\n",
    "save_data_to_pickle(df_var11, file_path, 'df0117.pkl')"
   ]
  },
  {
   "cell_type": "markdown",
   "metadata": {
    "heading_collapsed": true
   },
   "source": [
    "# 变量分布"
   ]
  },
  {
   "cell_type": "code",
   "execution_count": 5,
   "metadata": {
    "hidden": true
   },
   "outputs": [],
   "source": [
    "fig_path = os.path.join(file_path, 'plt_vars')\n",
    "if not os.path.exists(fig_path):\n",
    "    os.makedirs(fig_path)"
   ]
  },
  {
   "cell_type": "code",
   "execution_count": 15,
   "metadata": {
    "hidden": true,
    "scrolled": true
   },
   "outputs": [
    {
     "data": {
      "text/html": [
       "<div>\n",
       "<style scoped>\n",
       "    .dataframe tbody tr th:only-of-type {\n",
       "        vertical-align: middle;\n",
       "    }\n",
       "\n",
       "    .dataframe tbody tr th {\n",
       "        vertical-align: top;\n",
       "    }\n",
       "\n",
       "    .dataframe thead th {\n",
       "        text-align: right;\n",
       "    }\n",
       "</style>\n",
       "<table border=\"1\" class=\"dataframe\">\n",
       "  <thead>\n",
       "    <tr style=\"text-align: right;\">\n",
       "      <th></th>\n",
       "      <th>customer_id</th>\n",
       "      <th>first_apply_date</th>\n",
       "      <th>cnt_loan</th>\n",
       "      <th>cnt_extend</th>\n",
       "      <th>max_extend</th>\n",
       "      <th>first_effective_now</th>\n",
       "      <th>last_effective_now</th>\n",
       "      <th>cnt_loan_90d</th>\n",
       "      <th>cnt_loan_180d</th>\n",
       "      <th>gap_fundday</th>\n",
       "      <th>m3_m6</th>\n",
       "      <th>profit</th>\n",
       "      <th>is_profit</th>\n",
       "      <th>total_order</th>\n",
       "      <th>rucui_loan</th>\n",
       "      <th>rucui_order</th>\n",
       "      <th>chucui_loan</th>\n",
       "      <th>chucui_order</th>\n",
       "      <th>chucui_days</th>\n",
       "      <th>max_chucui_days</th>\n",
       "      <th>聚类类别</th>\n",
       "      <th>apply_id</th>\n",
       "      <th>apply_time</th>\n",
       "      <th>apply_date</th>\n",
       "      <th>reg_time</th>\n",
       "      <th>cell_phone</th>\n",
       "      <th>mail</th>\n",
       "      <th>id_card_no</th>\n",
       "      <th>marital_status</th>\n",
       "      <th>religion</th>\n",
       "      <th>education</th>\n",
       "      <th>channel</th>\n",
       "      <th>device</th>\n",
       "      <th>provincecode</th>\n",
       "      <th>citycode</th>\n",
       "      <th>districtcode</th>\n",
       "      <th>gender</th>\n",
       "      <th>age</th>\n",
       "      <th>occupation_type</th>\n",
       "      <th>job</th>\n",
       "      <th>industry_involved</th>\n",
       "      <th>monthly_salary</th>\n",
       "      <th>company_area</th>\n",
       "      <th>employee_number</th>\n",
       "      <th>jobless_time_income</th>\n",
       "      <th>monthly_income_resource</th>\n",
       "      <th>pre_work_industry</th>\n",
       "      <th>pre_work_income</th>\n",
       "      <th>bank_code</th>\n",
       "      <th>brand</th>\n",
       "      <th>heightpixels</th>\n",
       "      <th>widthpixels</th>\n",
       "      <th>manufacturer</th>\n",
       "      <th>model</th>\n",
       "      <th>version</th>\n",
       "      <th>apply_month</th>\n",
       "      <th>diff_apply_reg</th>\n",
       "      <th>mail_type</th>\n",
       "      <th>salary_rmb</th>\n",
       "      <th>salary_rmb_g</th>\n",
       "      <th>pixels</th>\n",
       "      <th>age_g</th>\n",
       "    </tr>\n",
       "  </thead>\n",
       "  <tbody>\n",
       "    <tr>\n",
       "      <th>0</th>\n",
       "      <td>141518828737011712</td>\n",
       "      <td>2019-09-25</td>\n",
       "      <td>2</td>\n",
       "      <td>6</td>\n",
       "      <td>3</td>\n",
       "      <td>113.0</td>\n",
       "      <td>54.0</td>\n",
       "      <td>1</td>\n",
       "      <td>2</td>\n",
       "      <td>59.000000</td>\n",
       "      <td>0.500000</td>\n",
       "      <td>789000.0</td>\n",
       "      <td>1</td>\n",
       "      <td>3</td>\n",
       "      <td>1</td>\n",
       "      <td>2</td>\n",
       "      <td>1</td>\n",
       "      <td>2</td>\n",
       "      <td>3.0</td>\n",
       "      <td>2.0</td>\n",
       "      <td>1</td>\n",
       "      <td>383582526182621184</td>\n",
       "      <td>2019-09-25 10:40:01</td>\n",
       "      <td>2019-09-25</td>\n",
       "      <td>2017-11-26 11:25:18</td>\n",
       "      <td>081316016616</td>\n",
       "      <td>rojak600@gmail.com</td>\n",
       "      <td>3172032205830004</td>\n",
       "      <td>MARRIED</td>\n",
       "      <td>ISLAM</td>\n",
       "      <td>ASSOCIATE_BACHELOR_3</td>\n",
       "      <td>GooglePlay</td>\n",
       "      <td>ANDROID</td>\n",
       "      <td>31</td>\n",
       "      <td>72</td>\n",
       "      <td>03</td>\n",
       "      <td>male</td>\n",
       "      <td>36</td>\n",
       "      <td>OFFICE</td>\n",
       "      <td>STAF</td>\n",
       "      <td>TRANSPORTASI_LOGISTIK</td>\n",
       "      <td>43000000.0</td>\n",
       "      <td>Gambir,KOTA ADM. JAKARTA PUSAT,DKI JAKARTA</td>\n",
       "      <td></td>\n",
       "      <td>0.0</td>\n",
       "      <td></td>\n",
       "      <td></td>\n",
       "      <td>0.0</td>\n",
       "      <td>BNI</td>\n",
       "      <td>oppo</td>\n",
       "      <td>2120</td>\n",
       "      <td>1080</td>\n",
       "      <td>oppo</td>\n",
       "      <td>cph1911</td>\n",
       "      <td>32</td>\n",
       "      <td>9</td>\n",
       "      <td>667</td>\n",
       "      <td>gmail</td>\n",
       "      <td>21500.0</td>\n",
       "      <td>(6000.0, inf]</td>\n",
       "      <td>(2120.0, 1080.0)</td>\n",
       "      <td>(35.0, 40.0]</td>\n",
       "    </tr>\n",
       "    <tr>\n",
       "      <th>1</th>\n",
       "      <td>143344900650696704</td>\n",
       "      <td>2019-07-24</td>\n",
       "      <td>7</td>\n",
       "      <td>3</td>\n",
       "      <td>2</td>\n",
       "      <td>176.0</td>\n",
       "      <td>1.0</td>\n",
       "      <td>4</td>\n",
       "      <td>7</td>\n",
       "      <td>29.166667</td>\n",
       "      <td>0.571429</td>\n",
       "      <td>1756800.0</td>\n",
       "      <td>1</td>\n",
       "      <td>7</td>\n",
       "      <td>1</td>\n",
       "      <td>1</td>\n",
       "      <td>1</td>\n",
       "      <td>1</td>\n",
       "      <td>1.0</td>\n",
       "      <td>1.0</td>\n",
       "      <td>1</td>\n",
       "      <td>360700080667271168</td>\n",
       "      <td>2019-07-24 07:13:21</td>\n",
       "      <td>2019-07-24</td>\n",
       "      <td>2017-12-01 12:21:28</td>\n",
       "      <td>081294859362</td>\n",
       "      <td>noeymayka81@yahoo.com</td>\n",
       "      <td>3275126001810004</td>\n",
       "      <td>MARRIED</td>\n",
       "      <td>ISLAM</td>\n",
       "      <td>REGULAR_COLLEGE_COURSE</td>\n",
       "      <td>GooglePlay</td>\n",
       "      <td>ANDROID</td>\n",
       "      <td>32</td>\n",
       "      <td>75</td>\n",
       "      <td>12</td>\n",
       "      <td>female</td>\n",
       "      <td>38</td>\n",
       "      <td>OFFICE</td>\n",
       "      <td>STAF</td>\n",
       "      <td>OTHER</td>\n",
       "      <td>60000000.0</td>\n",
       "      <td>Tanah Abang,KOTA ADM. JAKARTA PUSAT,DKI JAKARTA</td>\n",
       "      <td></td>\n",
       "      <td>0.0</td>\n",
       "      <td></td>\n",
       "      <td></td>\n",
       "      <td>0.0</td>\n",
       "      <td>BCA</td>\n",
       "      <td>lenovo</td>\n",
       "      <td>1920</td>\n",
       "      <td>1080</td>\n",
       "      <td>lenovo</td>\n",
       "      <td>none</td>\n",
       "      <td>22</td>\n",
       "      <td>7</td>\n",
       "      <td>599</td>\n",
       "      <td>yahoo</td>\n",
       "      <td>30000.0</td>\n",
       "      <td>(6000.0, inf]</td>\n",
       "      <td>(1920.0, 1080.0)</td>\n",
       "      <td>(35.0, 40.0]</td>\n",
       "    </tr>\n",
       "  </tbody>\n",
       "</table>\n",
       "</div>"
      ],
      "text/plain": [
       "          customer_id first_apply_date  cnt_loan  cnt_extend  max_extend  \\\n",
       "0  141518828737011712       2019-09-25         2           6           3   \n",
       "1  143344900650696704       2019-07-24         7           3           2   \n",
       "\n",
       "   first_effective_now  last_effective_now  cnt_loan_90d  cnt_loan_180d  \\\n",
       "0                113.0                54.0             1              2   \n",
       "1                176.0                 1.0             4              7   \n",
       "\n",
       "   gap_fundday     m3_m6     profit  is_profit  total_order  rucui_loan  \\\n",
       "0    59.000000  0.500000   789000.0          1            3           1   \n",
       "1    29.166667  0.571429  1756800.0          1            7           1   \n",
       "\n",
       "   rucui_order  chucui_loan  chucui_order  chucui_days  max_chucui_days  聚类类别  \\\n",
       "0            2            1             2          3.0              2.0     1   \n",
       "1            1            1             1          1.0              1.0     1   \n",
       "\n",
       "             apply_id          apply_time  apply_date            reg_time  \\\n",
       "0  383582526182621184 2019-09-25 10:40:01  2019-09-25 2017-11-26 11:25:18   \n",
       "1  360700080667271168 2019-07-24 07:13:21  2019-07-24 2017-12-01 12:21:28   \n",
       "\n",
       "     cell_phone                   mail        id_card_no marital_status  \\\n",
       "0  081316016616     rojak600@gmail.com  3172032205830004        MARRIED   \n",
       "1  081294859362  noeymayka81@yahoo.com  3275126001810004        MARRIED   \n",
       "\n",
       "  religion               education     channel   device provincecode citycode  \\\n",
       "0    ISLAM    ASSOCIATE_BACHELOR_3  GooglePlay  ANDROID           31       72   \n",
       "1    ISLAM  REGULAR_COLLEGE_COURSE  GooglePlay  ANDROID           32       75   \n",
       "\n",
       "  districtcode  gender  age occupation_type   job      industry_involved  \\\n",
       "0           03    male   36          OFFICE  STAF  TRANSPORTASI_LOGISTIK   \n",
       "1           12  female   38          OFFICE  STAF                  OTHER   \n",
       "\n",
       "   monthly_salary                                     company_area  \\\n",
       "0      43000000.0       Gambir,KOTA ADM. JAKARTA PUSAT,DKI JAKARTA   \n",
       "1      60000000.0  Tanah Abang,KOTA ADM. JAKARTA PUSAT,DKI JAKARTA   \n",
       "\n",
       "  employee_number  jobless_time_income monthly_income_resource  \\\n",
       "0                                  0.0                           \n",
       "1                                  0.0                           \n",
       "\n",
       "  pre_work_industry  pre_work_income bank_code   brand heightpixels  \\\n",
       "0                                0.0       BNI    oppo         2120   \n",
       "1                                0.0       BCA  lenovo         1920   \n",
       "\n",
       "  widthpixels manufacturer    model version  apply_month  diff_apply_reg  \\\n",
       "0        1080         oppo  cph1911      32            9             667   \n",
       "1        1080       lenovo     none      22            7             599   \n",
       "\n",
       "  mail_type  salary_rmb   salary_rmb_g            pixels         age_g  \n",
       "0     gmail     21500.0  (6000.0, inf]  (2120.0, 1080.0)  (35.0, 40.0]  \n",
       "1     yahoo     30000.0  (6000.0, inf]  (1920.0, 1080.0)  (35.0, 40.0]  "
      ]
     },
     "execution_count": 15,
     "metadata": {},
     "output_type": "execute_result"
    }
   ],
   "source": [
    "temp = load_data_from_pickle(file_path, 'df0117.pkl')\n",
    "temp = temp.fillna(np.nan)\n",
    "col1_list = ['provincecode', 'citycode', 'districtcode']\n",
    "for col1 in col1_list:\n",
    "    temp[col1] = temp[col1].astype(str)\n",
    "temp_group0 = temp[temp['聚类类别'] == 0]\n",
    "temp_group1 = temp[temp['聚类类别'] == 1]\n",
    "temp.head(2)"
   ]
  },
  {
   "cell_type": "raw",
   "metadata": {
    "hidden": true
   },
   "source": [
    "申请距离注册时间差"
   ]
  },
  {
   "cell_type": "code",
   "execution_count": 16,
   "metadata": {
    "hidden": true,
    "scrolled": true
   },
   "outputs": [
    {
     "data": {
      "image/png": "[encoded data removed]",
      "text/plain": [
       "<Figure size 432x288 with 1 Axes>"
      ]
     },
     "metadata": {
      "needs_background": "light"
     },
     "output_type": "display_data"
    }
   ],
   "source": [
    "sns.distplot(temp['diff_apply_reg'],hist=False,color='#2c6fbb')\n",
    "sns.distplot(temp_group0['diff_apply_reg'],hist=False,color = 'sandybrown')\n",
    "sns.distplot(temp_group1['diff_apply_reg'],hist=False,color = 'mediumseagreen')\n",
    "plt.title('dist of diff_apply_reg');\n",
    "plt.legend(['group0','group1'], loc = 'upper right', fontsize=5)\n",
    "plt.savefig(os.path.join(fig_path, 'diff_apply_reg' + '.png'), format='png', dpi=300, bbox_inches = 'tight',pad_inches = 0.1)\n",
    "plt.show();\n",
    "plt.close();"
   ]
  },
  {
   "cell_type": "raw",
   "metadata": {
    "hidden": true
   },
   "source": [
    "婚姻状况&宗教&教育&渠道&性别&职业类型&职业&行业&手机品牌&屏幕尺寸&TOP10的银行&TOP10邮箱&TOP10省&TOP10市&TOP10区"
   ]
  },
  {
   "cell_type": "code",
   "execution_count": 8,
   "metadata": {
    "hidden": true
   },
   "outputs": [],
   "source": [
    "col_list= ['marital_status', 'religion', 'education', 'channel', 'gender','occupation_type', 'job', 'industry_involved',\n",
    "          'brand','pixels','model','manufacturer','bank_code', 'mail_type','provincecode', 'citycode', 'districtcode']"
   ]
  },
  {
   "cell_type": "code",
   "execution_count": 17,
   "metadata": {
    "hidden": true
   },
   "outputs": [
    {
     "data": {
      "text/html": [
       "<div>\n",
       "<style scoped>\n",
       "    .dataframe tbody tr th:only-of-type {\n",
       "        vertical-align: middle;\n",
       "    }\n",
       "\n",
       "    .dataframe tbody tr th {\n",
       "        vertical-align: top;\n",
       "    }\n",
       "\n",
       "    .dataframe thead th {\n",
       "        text-align: right;\n",
       "    }\n",
       "</style>\n",
       "<table border=\"1\" class=\"dataframe\">\n",
       "  <thead>\n",
       "    <tr style=\"text-align: right;\">\n",
       "      <th></th>\n",
       "      <th>marital_status</th>\n",
       "      <th>customer_id</th>\n",
       "      <th>聚类类别</th>\n",
       "      <th>group0</th>\n",
       "      <th>per1</th>\n",
       "      <th>per2</th>\n",
       "      <th>per3</th>\n",
       "    </tr>\n",
       "  </thead>\n",
       "  <tbody>\n",
       "    <tr>\n",
       "      <th>0</th>\n",
       "      <td>MARRIED</td>\n",
       "      <td>46253</td>\n",
       "      <td>16889</td>\n",
       "      <td>29364</td>\n",
       "      <td>0.644713</td>\n",
       "      <td>0.643453</td>\n",
       "      <td>0.646915</td>\n",
       "    </tr>\n",
       "    <tr>\n",
       "      <th>1</th>\n",
       "      <td>SPINSTERHOOD</td>\n",
       "      <td>21604</td>\n",
       "      <td>7973</td>\n",
       "      <td>13631</td>\n",
       "      <td>0.301135</td>\n",
       "      <td>0.298696</td>\n",
       "      <td>0.305397</td>\n",
       "    </tr>\n",
       "    <tr>\n",
       "      <th>2</th>\n",
       "      <td>DIVORCED</td>\n",
       "      <td>3078</td>\n",
       "      <td>988</td>\n",
       "      <td>2090</td>\n",
       "      <td>0.042904</td>\n",
       "      <td>0.045798</td>\n",
       "      <td>0.037844</td>\n",
       "    </tr>\n",
       "    <tr>\n",
       "      <th>3</th>\n",
       "      <td>BEREFT</td>\n",
       "      <td>807</td>\n",
       "      <td>257</td>\n",
       "      <td>550</td>\n",
       "      <td>0.011249</td>\n",
       "      <td>0.012052</td>\n",
       "      <td>0.009844</td>\n",
       "    </tr>\n",
       "  </tbody>\n",
       "</table>\n",
       "</div>"
      ],
      "text/plain": [
       "  marital_status  customer_id   聚类类别  group0      per1      per2      per3\n",
       "0        MARRIED        46253  16889   29364  0.644713  0.643453  0.646915\n",
       "1   SPINSTERHOOD        21604   7973   13631  0.301135  0.298696  0.305397\n",
       "2       DIVORCED         3078    988    2090  0.042904  0.045798  0.037844\n",
       "3         BEREFT          807    257     550  0.011249  0.012052  0.009844"
      ]
     },
     "execution_count": 17,
     "metadata": {},
     "output_type": "execute_result"
    },
    {
     "data": {
      "text/plain": [
       "<Figure size 432x288 with 0 Axes>"
      ]
     },
     "execution_count": 17,
     "metadata": {},
     "output_type": "execute_result"
    },
    {
     "data": {
      "text/plain": [
       "<BarContainer object of 4 artists>"
      ]
     },
     "execution_count": 17,
     "metadata": {},
     "output_type": "execute_result"
    },
    {
     "data": {
      "text/plain": [
       "Text(0, 0.6447129993588135, '0.64')"
      ]
     },
     "execution_count": 17,
     "metadata": {},
     "output_type": "execute_result"
    },
    {
     "data": {
      "text/plain": [
       "Text(1, 0.3011346212818154, '0.30')"
      ]
     },
     "execution_count": 17,
     "metadata": {},
     "output_type": "execute_result"
    },
    {
     "data": {
      "text/plain": [
       "Text(2, 0.04290373839591871, '0.04')"
      ]
     },
     "execution_count": 17,
     "metadata": {},
     "output_type": "execute_result"
    },
    {
     "data": {
      "text/plain": [
       "Text(3, 0.01124864096345237, '0.01')"
      ]
     },
     "execution_count": 17,
     "metadata": {},
     "output_type": "execute_result"
    },
    {
     "data": {
      "text/plain": [
       "<BarContainer object of 4 artists>"
      ]
     },
     "execution_count": 17,
     "metadata": {},
     "output_type": "execute_result"
    },
    {
     "data": {
      "text/plain": [
       "Text(0.25, 0.6434534896461049, '0.64')"
      ]
     },
     "execution_count": 17,
     "metadata": {},
     "output_type": "execute_result"
    },
    {
     "data": {
      "text/plain": [
       "Text(1.25, 0.29869617618056316, '0.30')"
      ]
     },
     "execution_count": 17,
     "metadata": {},
     "output_type": "execute_result"
    },
    {
     "data": {
      "text/plain": [
       "Text(2.25, 0.0457981812205544, '0.05')"
      ]
     },
     "execution_count": 17,
     "metadata": {},
     "output_type": "execute_result"
    },
    {
     "data": {
      "text/plain": [
       "Text(3.25, 0.012052152952777473, '0.01')"
      ]
     },
     "execution_count": 17,
     "metadata": {},
     "output_type": "execute_result"
    },
    {
     "data": {
      "text/plain": [
       "<BarContainer object of 4 artists>"
      ]
     },
     "execution_count": 17,
     "metadata": {},
     "output_type": "execute_result"
    },
    {
     "data": {
      "text/plain": [
       "Text(0.5, 0.6469146205998392, '0.65')"
      ]
     },
     "execution_count": 17,
     "metadata": {},
     "output_type": "execute_result"
    },
    {
     "data": {
      "text/plain": [
       "Text(1.5, 0.30539701995633356, '0.31')"
      ]
     },
     "execution_count": 17,
     "metadata": {},
     "output_type": "execute_result"
    },
    {
     "data": {
      "text/plain": [
       "Text(2.5, 0.03784425632972, '0.04')"
      ]
     },
     "execution_count": 17,
     "metadata": {},
     "output_type": "execute_result"
    },
    {
     "data": {
      "text/plain": [
       "Text(3.5, 0.009844103114107328, '0.01')"
      ]
     },
     "execution_count": 17,
     "metadata": {},
     "output_type": "execute_result"
    },
    {
     "data": {
      "text/plain": [
       "([<matplotlib.axis.XTick at 0x1a7a8daf50>,\n",
       "  <matplotlib.axis.XTick at 0x1a7a8d9390>,\n",
       "  <matplotlib.axis.XTick at 0x1a7a8d8c90>,\n",
       "  <matplotlib.axis.XTick at 0x1a7a8fa850>],\n",
       " <a list of 4 Text xticklabel objects>)"
      ]
     },
     "execution_count": 17,
     "metadata": {},
     "output_type": "execute_result"
    },
    {
     "data": {
      "text/plain": [
       "Text(0.5, 1.0, 'dist of marital_status')"
      ]
     },
     "execution_count": 17,
     "metadata": {},
     "output_type": "execute_result"
    },
    {
     "data": {
      "text/plain": [
       "<matplotlib.legend.Legend at 0x1a7a8e08d0>"
      ]
     },
     "execution_count": 17,
     "metadata": {},
     "output_type": "execute_result"
    },
    {
     "data": {
      "image/png": "[encoded data removed]",
      "text/plain": [
       "<Figure size 432x288 with 1 Axes>"
      ]
     },
     "metadata": {
      "needs_background": "light"
     },
     "output_type": "display_data"
    },
    {
     "data": {
      "text/html": [
       "<div>\n",
       "<style scoped>\n",
       "    .dataframe tbody tr th:only-of-type {\n",
       "        vertical-align: middle;\n",
       "    }\n",
       "\n",
       "    .dataframe tbody tr th {\n",
       "        vertical-align: top;\n",
       "    }\n",
       "\n",
       "    .dataframe thead th {\n",
       "        text-align: right;\n",
       "    }\n",
       "</style>\n",
       "<table border=\"1\" class=\"dataframe\">\n",
       "  <thead>\n",
       "    <tr style=\"text-align: right;\">\n",
       "      <th></th>\n",
       "      <th>religion</th>\n",
       "      <th>customer_id</th>\n",
       "      <th>聚类类别</th>\n",
       "      <th>group0</th>\n",
       "      <th>per1</th>\n",
       "      <th>per2</th>\n",
       "      <th>per3</th>\n",
       "    </tr>\n",
       "  </thead>\n",
       "  <tbody>\n",
       "    <tr>\n",
       "      <th>0</th>\n",
       "      <td>ISLAM</td>\n",
       "      <td>59759</td>\n",
       "      <td>20938</td>\n",
       "      <td>38821</td>\n",
       "      <td>0.832971</td>\n",
       "      <td>0.850685</td>\n",
       "      <td>0.802007</td>\n",
       "    </tr>\n",
       "    <tr>\n",
       "      <th>1</th>\n",
       "      <td>CHRISTIAN</td>\n",
       "      <td>7013</td>\n",
       "      <td>2882</td>\n",
       "      <td>4131</td>\n",
       "      <td>0.097753</td>\n",
       "      <td>0.090523</td>\n",
       "      <td>0.110392</td>\n",
       "    </tr>\n",
       "    <tr>\n",
       "      <th>2</th>\n",
       "      <td>CATHOLICISM</td>\n",
       "      <td>2655</td>\n",
       "      <td>1216</td>\n",
       "      <td>1439</td>\n",
       "      <td>0.037008</td>\n",
       "      <td>0.031533</td>\n",
       "      <td>0.046578</td>\n",
       "    </tr>\n",
       "    <tr>\n",
       "      <th>3</th>\n",
       "      <td>BUDDHISM</td>\n",
       "      <td>1369</td>\n",
       "      <td>617</td>\n",
       "      <td>752</td>\n",
       "      <td>0.019082</td>\n",
       "      <td>0.016479</td>\n",
       "      <td>0.023634</td>\n",
       "    </tr>\n",
       "    <tr>\n",
       "      <th>4</th>\n",
       "      <td>HINDUISM</td>\n",
       "      <td>910</td>\n",
       "      <td>440</td>\n",
       "      <td>470</td>\n",
       "      <td>0.012684</td>\n",
       "      <td>0.010299</td>\n",
       "      <td>0.016854</td>\n",
       "    </tr>\n",
       "    <tr>\n",
       "      <th>5</th>\n",
       "      <td>CONFUCIANISM</td>\n",
       "      <td>36</td>\n",
       "      <td>14</td>\n",
       "      <td>22</td>\n",
       "      <td>0.000502</td>\n",
       "      <td>0.000482</td>\n",
       "      <td>0.000536</td>\n",
       "    </tr>\n",
       "  </tbody>\n",
       "</table>\n",
       "</div>"
      ],
      "text/plain": [
       "       religion  customer_id   聚类类别  group0      per1      per2      per3\n",
       "0         ISLAM        59759  20938   38821  0.832971  0.850685  0.802007\n",
       "1     CHRISTIAN         7013   2882    4131  0.097753  0.090523  0.110392\n",
       "2   CATHOLICISM         2655   1216    1439  0.037008  0.031533  0.046578\n",
       "3      BUDDHISM         1369    617     752  0.019082  0.016479  0.023634\n",
       "4      HINDUISM          910    440     470  0.012684  0.010299  0.016854\n",
       "5  CONFUCIANISM           36     14      22  0.000502  0.000482  0.000536"
      ]
     },
     "execution_count": 17,
     "metadata": {},
     "output_type": "execute_result"
    },
    {
     "data": {
      "text/plain": [
       "<Figure size 432x288 with 0 Axes>"
      ]
     },
     "execution_count": 17,
     "metadata": {},
     "output_type": "execute_result"
    },
    {
     "data": {
      "text/plain": [
       "<BarContainer object of 6 artists>"
      ]
     },
     "execution_count": 17,
     "metadata": {},
     "output_type": "execute_result"
    },
    {
     "data": {
      "text/plain": [
       "Text(0, 0.832970923587299, '0.83')"
      ]
     },
     "execution_count": 17,
     "metadata": {},
     "output_type": "execute_result"
    },
    {
     "data": {
      "text/plain": [
       "Text(1, 0.09775305957458671, '0.10')"
      ]
     },
     "execution_count": 17,
     "metadata": {},
     "output_type": "execute_result"
    },
    {
     "data": {
      "text/plain": [
       "Text(2, 0.03700761060466672, '0.04')"
      ]
     },
     "execution_count": 17,
     "metadata": {},
     "output_type": "execute_result"
    },
    {
     "data": {
      "text/plain": [
       "Text(3, 0.01908226701234981, '0.02')"
      ]
     },
     "execution_count": 17,
     "metadata": {},
     "output_type": "execute_result"
    },
    {
     "data": {
      "text/plain": [
       "Text(4, 0.012684341111204037, '0.01')"
      ]
     },
     "execution_count": 17,
     "metadata": {},
     "output_type": "execute_result"
    },
    {
     "data": {
      "text/plain": [
       "Text(5, 0.000501798109893786, '0.00')"
      ]
     },
     "execution_count": 17,
     "metadata": {},
     "output_type": "execute_result"
    },
    {
     "data": {
      "text/plain": [
       "<BarContainer object of 6 artists>"
      ]
     },
     "execution_count": 17,
     "metadata": {},
     "output_type": "execute_result"
    },
    {
     "data": {
      "text/plain": [
       "Text(0.25, 0.8506847814177715, '0.85')"
      ]
     },
     "execution_count": 17,
     "metadata": {},
     "output_type": "execute_result"
    },
    {
     "data": {
      "text/plain": [
       "Text(1.25, 0.09052262517804317, '0.09')"
      ]
     },
     "execution_count": 17,
     "metadata": {},
     "output_type": "execute_result"
    },
    {
     "data": {
      "text/plain": [
       "Text(2.25, 0.03153281472553961, '0.03')"
      ]
     },
     "execution_count": 17,
     "metadata": {},
     "output_type": "execute_result"
    },
    {
     "data": {
      "text/plain": [
       "Text(3.25, 0.01647858003725211, '0.02')"
      ]
     },
     "execution_count": 17,
     "metadata": {},
     "output_type": "execute_result"
    },
    {
     "data": {
      "text/plain": [
       "Text(4.25, 0.010299112523282567, '0.01')"
      ]
     },
     "execution_count": 17,
     "metadata": {},
     "output_type": "execute_result"
    },
    {
     "data": {
      "text/plain": [
       "Text(5.25, 0.0004820861181110989, '0.00')"
      ]
     },
     "execution_count": 17,
     "metadata": {},
     "output_type": "execute_result"
    },
    {
     "data": {
      "text/plain": [
       "<BarContainer object of 6 artists>"
      ]
     },
     "execution_count": 17,
     "metadata": {},
     "output_type": "execute_result"
    },
    {
     "data": {
      "text/plain": [
       "Text(0.5, 0.8020071245259892, '0.80')"
      ]
     },
     "execution_count": 17,
     "metadata": {},
     "output_type": "execute_result"
    },
    {
     "data": {
      "text/plain": [
       "Text(1.5, 0.1103918489294059, '0.11')"
      ]
     },
     "execution_count": 17,
     "metadata": {},
     "output_type": "execute_result"
    },
    {
     "data": {
      "text/plain": [
       "Text(2.5, 0.04657754625196307, '0.05')"
      ]
     },
     "execution_count": 17,
     "metadata": {},
     "output_type": "execute_result"
    },
    {
     "data": {
      "text/plain": [
       "Text(3.5, 0.023633508254491134, '0.02')"
      ]
     },
     "execution_count": 17,
     "metadata": {},
     "output_type": "execute_result"
    },
    {
     "data": {
      "text/plain": [
       "Text(4.5, 0.01685371739380243, '0.02')"
      ]
     },
     "execution_count": 17,
     "metadata": {},
     "output_type": "execute_result"
    },
    {
     "data": {
      "text/plain": [
       "Text(5.5, 0.0005362546443482591, '0.00')"
      ]
     },
     "execution_count": 17,
     "metadata": {},
     "output_type": "execute_result"
    },
    {
     "data": {
      "text/plain": [
       "([<matplotlib.axis.XTick at 0x1a7a900210>,\n",
       "  <matplotlib.axis.XTick at 0x1a7a90cbd0>,\n",
       "  <matplotlib.axis.XTick at 0x1a7a8f7550>,\n",
       "  <matplotlib.axis.XTick at 0x1a7a93ca10>,\n",
       "  <matplotlib.axis.XTick at 0x1a7a93db90>,\n",
       "  <matplotlib.axis.XTick at 0x1a7a93eb50>],\n",
       " <a list of 6 Text xticklabel objects>)"
      ]
     },
     "execution_count": 17,
     "metadata": {},
     "output_type": "execute_result"
    },
    {
     "data": {
      "text/plain": [
       "Text(0.5, 1.0, 'dist of religion')"
      ]
     },
     "execution_count": 17,
     "metadata": {},
     "output_type": "execute_result"
    },
    {
     "data": {
      "text/plain": [
       "<matplotlib.legend.Legend at 0x1a7a940710>"
      ]
     },
     "execution_count": 17,
     "metadata": {},
     "output_type": "execute_result"
    },
    {
     "data": {
      "image/png": "[encoded data removed]",
      "text/plain": [
       "<Figure size 432x288 with 1 Axes>"
      ]
     },
     "metadata": {
      "needs_background": "light"
     },
     "output_type": "display_data"
    },
    {
     "data": {
      "text/html": [
       "<div>\n",
       "<style scoped>\n",
       "    .dataframe tbody tr th:only-of-type {\n",
       "        vertical-align: middle;\n",
       "    }\n",
       "\n",
       "    .dataframe tbody tr th {\n",
       "        vertical-align: top;\n",
       "    }\n",
       "\n",
       "    .dataframe thead th {\n",
       "        text-align: right;\n",
       "    }\n",
       "</style>\n",
       "<table border=\"1\" class=\"dataframe\">\n",
       "  <thead>\n",
       "    <tr style=\"text-align: right;\">\n",
       "      <th></th>\n",
       "      <th>education</th>\n",
       "      <th>customer_id</th>\n",
       "      <th>聚类类别</th>\n",
       "      <th>group0</th>\n",
       "      <th>per1</th>\n",
       "      <th>per2</th>\n",
       "      <th>per3</th>\n",
       "    </tr>\n",
       "  </thead>\n",
       "  <tbody>\n",
       "    <tr>\n",
       "      <th>0</th>\n",
       "      <td>SENIOR_HIGH_SCHOOL</td>\n",
       "      <td>37011</td>\n",
       "      <td>11401</td>\n",
       "      <td>25610</td>\n",
       "      <td>0.515890</td>\n",
       "      <td>0.561192</td>\n",
       "      <td>0.436703</td>\n",
       "    </tr>\n",
       "    <tr>\n",
       "      <th>1</th>\n",
       "      <td>REGULAR_COLLEGE_COURSE</td>\n",
       "      <td>20407</td>\n",
       "      <td>9253</td>\n",
       "      <td>11154</td>\n",
       "      <td>0.284450</td>\n",
       "      <td>0.244418</td>\n",
       "      <td>0.354426</td>\n",
       "    </tr>\n",
       "    <tr>\n",
       "      <th>2</th>\n",
       "      <td>ASSOCIATE_BACHELOR_3</td>\n",
       "      <td>8550</td>\n",
       "      <td>3379</td>\n",
       "      <td>5171</td>\n",
       "      <td>0.119177</td>\n",
       "      <td>0.113312</td>\n",
       "      <td>0.129429</td>\n",
       "    </tr>\n",
       "    <tr>\n",
       "      <th>3</th>\n",
       "      <td>JUNIOR_HIGH_SCHOOL</td>\n",
       "      <td>2240</td>\n",
       "      <td>609</td>\n",
       "      <td>1631</td>\n",
       "      <td>0.031223</td>\n",
       "      <td>0.035740</td>\n",
       "      <td>0.023327</td>\n",
       "    </tr>\n",
       "    <tr>\n",
       "      <th>4</th>\n",
       "      <td>ASSOCIATE_BACHELOR_1</td>\n",
       "      <td>2212</td>\n",
       "      <td>837</td>\n",
       "      <td>1375</td>\n",
       "      <td>0.030833</td>\n",
       "      <td>0.030130</td>\n",
       "      <td>0.032060</td>\n",
       "    </tr>\n",
       "    <tr>\n",
       "      <th>5</th>\n",
       "      <td>MASTER</td>\n",
       "      <td>651</td>\n",
       "      <td>383</td>\n",
       "      <td>268</td>\n",
       "      <td>0.009074</td>\n",
       "      <td>0.005873</td>\n",
       "      <td>0.014670</td>\n",
       "    </tr>\n",
       "    <tr>\n",
       "      <th>6</th>\n",
       "      <td>PRIMARY_SCHOOL</td>\n",
       "      <td>374</td>\n",
       "      <td>110</td>\n",
       "      <td>264</td>\n",
       "      <td>0.005213</td>\n",
       "      <td>0.005785</td>\n",
       "      <td>0.004213</td>\n",
       "    </tr>\n",
       "    <tr>\n",
       "      <th>7</th>\n",
       "      <td>ASSOCIATE_BACHELOR_2</td>\n",
       "      <td>286</td>\n",
       "      <td>128</td>\n",
       "      <td>158</td>\n",
       "      <td>0.003987</td>\n",
       "      <td>0.003462</td>\n",
       "      <td>0.004903</td>\n",
       "    </tr>\n",
       "    <tr>\n",
       "      <th>8</th>\n",
       "      <td>DOCTOR</td>\n",
       "      <td>11</td>\n",
       "      <td>7</td>\n",
       "      <td>4</td>\n",
       "      <td>0.000153</td>\n",
       "      <td>0.000088</td>\n",
       "      <td>0.000268</td>\n",
       "    </tr>\n",
       "  </tbody>\n",
       "</table>\n",
       "</div>"
      ],
      "text/plain": [
       "                education  customer_id   聚类类别  group0      per1      per2  \\\n",
       "0      SENIOR_HIGH_SCHOOL        37011  11401   25610  0.515890  0.561192   \n",
       "1  REGULAR_COLLEGE_COURSE        20407   9253   11154  0.284450  0.244418   \n",
       "2    ASSOCIATE_BACHELOR_3         8550   3379    5171  0.119177  0.113312   \n",
       "3      JUNIOR_HIGH_SCHOOL         2240    609    1631  0.031223  0.035740   \n",
       "4    ASSOCIATE_BACHELOR_1         2212    837    1375  0.030833  0.030130   \n",
       "5                  MASTER          651    383     268  0.009074  0.005873   \n",
       "6          PRIMARY_SCHOOL          374    110     264  0.005213  0.005785   \n",
       "7    ASSOCIATE_BACHELOR_2          286    128     158  0.003987  0.003462   \n",
       "8                  DOCTOR           11      7       4  0.000153  0.000088   \n",
       "\n",
       "       per3  \n",
       "0  0.436703  \n",
       "1  0.354426  \n",
       "2  0.129429  \n",
       "3  0.023327  \n",
       "4  0.032060  \n",
       "5  0.014670  \n",
       "6  0.004213  \n",
       "7  0.004903  \n",
       "8  0.000268  "
      ]
     },
     "execution_count": 17,
     "metadata": {},
     "output_type": "execute_result"
    },
    {
     "data": {
      "text/plain": [
       "<Figure size 432x288 with 0 Axes>"
      ]
     },
     "execution_count": 17,
     "metadata": {},
     "output_type": "execute_result"
    },
    {
     "data": {
      "text/plain": [
       "<BarContainer object of 9 artists>"
      ]
     },
     "execution_count": 17,
     "metadata": {},
     "output_type": "execute_result"
    },
    {
     "data": {
      "text/plain": [
       "Text(0, 0.5158902734799699, '0.52')"
      ]
     },
     "execution_count": 17,
     "metadata": {},
     "output_type": "execute_result"
    },
    {
     "data": {
      "text/plain": [
       "Text(1, 0.284449834127847, '0.28')"
      ]
     },
     "execution_count": 17,
     "metadata": {},
     "output_type": "execute_result"
    },
    {
     "data": {
      "text/plain": [
       "Text(2, 0.1191770510997742, '0.12')"
      ]
     },
     "execution_count": 17,
     "metadata": {},
     "output_type": "execute_result"
    },
    {
     "data": {
      "text/plain": [
       "Text(3, 0.031222993504502243, '0.03')"
      ]
     },
     "execution_count": 17,
     "metadata": {},
     "output_type": "execute_result"
    },
    {
     "data": {
      "text/plain": [
       "Text(4, 0.030832706085695966, '0.03')"
      ]
     },
     "execution_count": 17,
     "metadata": {},
     "output_type": "execute_result"
    },
    {
     "data": {
      "text/plain": [
       "Text(5, 0.009074182487245964, '0.01')"
      ]
     },
     "execution_count": 17,
     "metadata": {},
     "output_type": "execute_result"
    },
    {
     "data": {
      "text/plain": [
       "Text(6, 0.005213124808341, '0.01')"
      ]
     },
     "execution_count": 17,
     "metadata": {},
     "output_type": "execute_result"
    },
    {
     "data": {
      "text/plain": [
       "Text(7, 0.003986507206378411, '0.00')"
      ]
     },
     "execution_count": 17,
     "metadata": {},
     "output_type": "execute_result"
    },
    {
     "data": {
      "text/plain": [
       "Text(8, 0.00015332720024532353, '0.00')"
      ]
     },
     "execution_count": 17,
     "metadata": {},
     "output_type": "execute_result"
    },
    {
     "data": {
      "text/plain": [
       "<BarContainer object of 9 artists>"
      ]
     },
     "execution_count": 17,
     "metadata": {},
     "output_type": "execute_result"
    },
    {
     "data": {
      "text/plain": [
       "Text(0.25, 0.5611920674920565, '0.56')"
      ]
     },
     "execution_count": 17,
     "metadata": {},
     "output_type": "execute_result"
    },
    {
     "data": {
      "text/plain": [
       "Text(1.25, 0.24441766188232716, '0.24')"
      ]
     },
     "execution_count": 17,
     "metadata": {},
     "output_type": "execute_result"
    },
    {
     "data": {
      "text/plain": [
       "Text(2.25, 0.11331215076147694, '0.11')"
      ]
     },
     "execution_count": 17,
     "metadata": {},
     "output_type": "execute_result"
    },
    {
     "data": {
      "text/plain": [
       "Text(3.25, 0.03574011175632738, '0.04')"
      ]
     },
     "execution_count": 17,
     "metadata": {},
     "output_type": "execute_result"
    },
    {
     "data": {
      "text/plain": [
       "Text(4.25, 0.030130382381943682, '0.03')"
      ]
     },
     "execution_count": 17,
     "metadata": {},
     "output_type": "execute_result"
    },
    {
     "data": {
      "text/plain": [
       "Text(5.25, 0.005872685438807933, '0.01')"
      ]
     },
     "execution_count": 17,
     "metadata": {},
     "output_type": "execute_result"
    },
    {
     "data": {
      "text/plain": [
       "Text(6.25, 0.005785033417333187, '0.01')"
      ]
     },
     "execution_count": 17,
     "metadata": {},
     "output_type": "execute_result"
    },
    {
     "data": {
      "text/plain": [
       "Text(7.25, 0.003462254848252438, '0.00')"
      ]
     },
     "execution_count": 17,
     "metadata": {},
     "output_type": "execute_result"
    },
    {
     "data": {
      "text/plain": [
       "Text(8.25, 8.765202147474526e-05, '0.00')"
      ]
     },
     "execution_count": 17,
     "metadata": {},
     "output_type": "execute_result"
    },
    {
     "data": {
      "text/plain": [
       "<BarContainer object of 9 artists>"
      ]
     },
     "execution_count": 17,
     "metadata": {},
     "output_type": "execute_result"
    },
    {
     "data": {
      "text/plain": [
       "Text(0.5, 0.4367028000153216, '0.44')"
      ]
     },
     "execution_count": 17,
     "metadata": {},
     "output_type": "execute_result"
    },
    {
     "data": {
      "text/plain": [
       "Text(1.5, 0.3544260160110315, '0.35')"
      ]
     },
     "execution_count": 17,
     "metadata": {},
     "output_type": "execute_result"
    },
    {
     "data": {
      "text/plain": [
       "Text(2.5, 0.1294288888037691, '0.13')"
      ]
     },
     "execution_count": 17,
     "metadata": {},
     "output_type": "execute_result"
    },
    {
     "data": {
      "text/plain": [
       "Text(3.5, 0.02332707702914927, '0.02')"
      ]
     },
     "execution_count": 17,
     "metadata": {},
     "output_type": "execute_result"
    },
    {
     "data": {
      "text/plain": [
       "Text(4.5, 0.03206036695139235, '0.03')"
      ]
     },
     "execution_count": 17,
     "metadata": {},
     "output_type": "execute_result"
    },
    {
     "data": {
      "text/plain": [
       "Text(5.5, 0.01467039491324166, '0.01')"
      ]
     },
     "execution_count": 17,
     "metadata": {},
     "output_type": "execute_result"
    },
    {
     "data": {
      "text/plain": [
       "Text(6.5, 0.004213429348450607, '0.00')"
      ]
     },
     "execution_count": 17,
     "metadata": {},
     "output_type": "execute_result"
    },
    {
     "data": {
      "text/plain": [
       "Text(7.5, 0.004902899605469797, '0.00')"
      ]
     },
     "execution_count": 17,
     "metadata": {},
     "output_type": "execute_result"
    },
    {
     "data": {
      "text/plain": [
       "Text(8.5, 0.00026812732217412955, '0.00')"
      ]
     },
     "execution_count": 17,
     "metadata": {},
     "output_type": "execute_result"
    },
    {
     "data": {
      "text/plain": [
       "([<matplotlib.axis.XTick at 0x1a7a955950>,\n",
       "  <matplotlib.axis.XTick at 0x1a7a954750>,\n",
       "  <matplotlib.axis.XTick at 0x1a7a954a90>,\n",
       "  <matplotlib.axis.XTick at 0x1a7ddf5d10>,\n",
       "  <matplotlib.axis.XTick at 0x1a7ddf7e50>,\n",
       "  <matplotlib.axis.XTick at 0x1a7ddf8bd0>,\n",
       "  <matplotlib.axis.XTick at 0x1a7ddf9c50>,\n",
       "  <matplotlib.axis.XTick at 0x1a7ddfac90>,\n",
       "  <matplotlib.axis.XTick at 0x1a7ddfbad0>],\n",
       " <a list of 9 Text xticklabel objects>)"
      ]
     },
     "execution_count": 17,
     "metadata": {},
     "output_type": "execute_result"
    },
    {
     "data": {
      "text/plain": [
       "Text(0.5, 1.0, 'dist of education')"
      ]
     },
     "execution_count": 17,
     "metadata": {},
     "output_type": "execute_result"
    },
    {
     "data": {
      "text/plain": [
       "<matplotlib.legend.Legend at 0x1a7a95bd50>"
      ]
     },
     "execution_count": 17,
     "metadata": {},
     "output_type": "execute_result"
    },
    {
     "data": {
      "image/png": "[encoded data removed]",
      "text/plain": [
       "<Figure size 432x288 with 1 Axes>"
      ]
     },
     "metadata": {
      "needs_background": "light"
     },
     "output_type": "display_data"
    },
    {
     "data": {
      "text/html": [
       "<div>\n",
       "<style scoped>\n",
       "    .dataframe tbody tr th:only-of-type {\n",
       "        vertical-align: middle;\n",
       "    }\n",
       "\n",
       "    .dataframe tbody tr th {\n",
       "        vertical-align: top;\n",
       "    }\n",
       "\n",
       "    .dataframe thead th {\n",
       "        text-align: right;\n",
       "    }\n",
       "</style>\n",
       "<table border=\"1\" class=\"dataframe\">\n",
       "  <thead>\n",
       "    <tr style=\"text-align: right;\">\n",
       "      <th></th>\n",
       "      <th>channel</th>\n",
       "      <th>customer_id</th>\n",
       "      <th>聚类类别</th>\n",
       "      <th>group0</th>\n",
       "      <th>per1</th>\n",
       "      <th>per2</th>\n",
       "      <th>per3</th>\n",
       "    </tr>\n",
       "  </thead>\n",
       "  <tbody>\n",
       "    <tr>\n",
       "      <th>0</th>\n",
       "      <td>GooglePlay</td>\n",
       "      <td>47238</td>\n",
       "      <td>15090</td>\n",
       "      <td>32148</td>\n",
       "      <td>0.658443</td>\n",
       "      <td>0.704459</td>\n",
       "      <td>0.578006</td>\n",
       "    </tr>\n",
       "    <tr>\n",
       "      <th>1</th>\n",
       "      <td>UAC_Display</td>\n",
       "      <td>9071</td>\n",
       "      <td>4049</td>\n",
       "      <td>5022</td>\n",
       "      <td>0.126439</td>\n",
       "      <td>0.110047</td>\n",
       "      <td>0.155093</td>\n",
       "    </tr>\n",
       "    <tr>\n",
       "      <th>2</th>\n",
       "      <td></td>\n",
       "      <td>6360</td>\n",
       "      <td>2715</td>\n",
       "      <td>3645</td>\n",
       "      <td>0.088651</td>\n",
       "      <td>0.079873</td>\n",
       "      <td>0.103995</td>\n",
       "    </tr>\n",
       "    <tr>\n",
       "      <th>3</th>\n",
       "      <td>UAC_Search</td>\n",
       "      <td>3459</td>\n",
       "      <td>1669</td>\n",
       "      <td>1790</td>\n",
       "      <td>0.048214</td>\n",
       "      <td>0.039224</td>\n",
       "      <td>0.063929</td>\n",
       "    </tr>\n",
       "    <tr>\n",
       "      <th>4</th>\n",
       "      <td>Facebook</td>\n",
       "      <td>2672</td>\n",
       "      <td>1139</td>\n",
       "      <td>1533</td>\n",
       "      <td>0.037245</td>\n",
       "      <td>0.033593</td>\n",
       "      <td>0.043628</td>\n",
       "    </tr>\n",
       "    <tr>\n",
       "      <th>5</th>\n",
       "      <td>UAC_Video</td>\n",
       "      <td>1297</td>\n",
       "      <td>651</td>\n",
       "      <td>646</td>\n",
       "      <td>0.018079</td>\n",
       "      <td>0.014156</td>\n",
       "      <td>0.024936</td>\n",
       "    </tr>\n",
       "    <tr>\n",
       "      <th>6</th>\n",
       "      <td>Instagram</td>\n",
       "      <td>998</td>\n",
       "      <td>496</td>\n",
       "      <td>502</td>\n",
       "      <td>0.013911</td>\n",
       "      <td>0.011000</td>\n",
       "      <td>0.018999</td>\n",
       "    </tr>\n",
       "    <tr>\n",
       "      <th>7</th>\n",
       "      <td>AudienceNetwork</td>\n",
       "      <td>542</td>\n",
       "      <td>245</td>\n",
       "      <td>297</td>\n",
       "      <td>0.007555</td>\n",
       "      <td>0.006508</td>\n",
       "      <td>0.009384</td>\n",
       "    </tr>\n",
       "    <tr>\n",
       "      <th>8</th>\n",
       "      <td>Messenger</td>\n",
       "      <td>54</td>\n",
       "      <td>31</td>\n",
       "      <td>23</td>\n",
       "      <td>0.000753</td>\n",
       "      <td>0.000504</td>\n",
       "      <td>0.001187</td>\n",
       "    </tr>\n",
       "    <tr>\n",
       "      <th>9</th>\n",
       "      <td>OPPO</td>\n",
       "      <td>10</td>\n",
       "      <td>6</td>\n",
       "      <td>4</td>\n",
       "      <td>0.000139</td>\n",
       "      <td>0.000088</td>\n",
       "      <td>0.000230</td>\n",
       "    </tr>\n",
       "  </tbody>\n",
       "</table>\n",
       "</div>"
      ],
      "text/plain": [
       "           channel  customer_id   聚类类别  group0      per1      per2      per3\n",
       "0       GooglePlay        47238  15090   32148  0.658443  0.704459  0.578006\n",
       "1      UAC_Display         9071   4049    5022  0.126439  0.110047  0.155093\n",
       "2                          6360   2715    3645  0.088651  0.079873  0.103995\n",
       "3       UAC_Search         3459   1669    1790  0.048214  0.039224  0.063929\n",
       "4         Facebook         2672   1139    1533  0.037245  0.033593  0.043628\n",
       "5        UAC_Video         1297    651     646  0.018079  0.014156  0.024936\n",
       "6        Instagram          998    496     502  0.013911  0.011000  0.018999\n",
       "7  AudienceNetwork          542    245     297  0.007555  0.006508  0.009384\n",
       "8        Messenger           54     31      23  0.000753  0.000504  0.001187\n",
       "9             OPPO           10      6       4  0.000139  0.000088  0.000230"
      ]
     },
     "execution_count": 17,
     "metadata": {},
     "output_type": "execute_result"
    },
    {
     "data": {
      "text/plain": [
       "<Figure size 432x288 with 0 Axes>"
      ]
     },
     "execution_count": 17,
     "metadata": {},
     "output_type": "execute_result"
    },
    {
     "data": {
      "text/plain": [
       "<BarContainer object of 10 artists>"
      ]
     },
     "execution_count": 17,
     "metadata": {},
     "output_type": "execute_result"
    },
    {
     "data": {
      "text/plain": [
       "Text(0, 0.658442753198963, '0.66')"
      ]
     },
     "execution_count": 17,
     "metadata": {},
     "output_type": "execute_result"
    },
    {
     "data": {
      "text/plain": [
       "Text(1, 0.12643918485684816, '0.13')"
      ]
     },
     "execution_count": 17,
     "metadata": {},
     "output_type": "execute_result"
    },
    {
     "data": {
      "text/plain": [
       "Text(2, 0.08865099941456887, '0.09')"
      ]
     },
     "execution_count": 17,
     "metadata": {},
     "output_type": "execute_result"
    },
    {
     "data": {
      "text/plain": [
       "Text(3, 0.04821443505896128, '0.05')"
      ]
     },
     "execution_count": 17,
     "metadata": {},
     "output_type": "execute_result"
    },
    {
     "data": {
      "text/plain": [
       "Text(4, 0.03724457082322768, '0.04')"
      ]
     },
     "execution_count": 17,
     "metadata": {},
     "output_type": "execute_result"
    },
    {
     "data": {
      "text/plain": [
       "Text(5, 0.018078670792562236, '0.02')"
      ]
     },
     "execution_count": 17,
     "metadata": {},
     "output_type": "execute_result"
    },
    {
     "data": {
      "text/plain": [
       "Text(6, 0.013910958713166624, '0.01')"
      ]
     },
     "execution_count": 17,
     "metadata": {},
     "output_type": "execute_result"
    },
    {
     "data": {
      "text/plain": [
       "Text(7, 0.007554849321178668, '0.01')"
      ]
     },
     "execution_count": 17,
     "metadata": {},
     "output_type": "execute_result"
    },
    {
     "data": {
      "text/plain": [
       "Text(8, 0.0007526971648406791, '0.00')"
      ]
     },
     "execution_count": 17,
     "metadata": {},
     "output_type": "execute_result"
    },
    {
     "data": {
      "text/plain": [
       "Text(9, 0.000139388363859385, '0.00')"
      ]
     },
     "execution_count": 17,
     "metadata": {},
     "output_type": "execute_result"
    },
    {
     "data": {
      "text/plain": [
       "<BarContainer object of 10 artists>"
      ]
     },
     "execution_count": 17,
     "metadata": {},
     "output_type": "execute_result"
    },
    {
     "data": {
      "text/plain": [
       "Text(0.25, 0.7044592965925277, '0.70')"
      ]
     },
     "execution_count": 17,
     "metadata": {},
     "output_type": "execute_result"
    },
    {
     "data": {
      "text/plain": [
       "Text(1.25, 0.11004711296154268, '0.11')"
      ]
     },
     "execution_count": 17,
     "metadata": {},
     "output_type": "execute_result"
    },
    {
     "data": {
      "text/plain": [
       "Text(2.25, 0.07987290456886162, '0.08')"
      ]
     },
     "execution_count": 17,
     "metadata": {},
     "output_type": "execute_result"
    },
    {
     "data": {
      "text/plain": [
       "Text(3.25, 0.0392242796099485, '0.04')"
      ]
     },
     "execution_count": 17,
     "metadata": {},
     "output_type": "execute_result"
    },
    {
     "data": {
      "text/plain": [
       "Text(4.25, 0.03359263723019612, '0.03')"
      ]
     },
     "execution_count": 17,
     "metadata": {},
     "output_type": "execute_result"
    },
    {
     "data": {
      "text/plain": [
       "Text(5.25, 0.01415580146817136, '0.01')"
      ]
     },
     "execution_count": 17,
     "metadata": {},
     "output_type": "execute_result"
    },
    {
     "data": {
      "text/plain": [
       "Text(6.25, 0.01100032869508053, '0.01')"
      ]
     },
     "execution_count": 17,
     "metadata": {},
     "output_type": "execute_result"
    },
    {
     "data": {
      "text/plain": [
       "Text(7.25, 0.006508162594499835, '0.01')"
      ]
     },
     "execution_count": 17,
     "metadata": {},
     "output_type": "execute_result"
    },
    {
     "data": {
      "text/plain": [
       "Text(8.25, 0.0005039991234797853, '0.00')"
      ]
     },
     "execution_count": 17,
     "metadata": {},
     "output_type": "execute_result"
    },
    {
     "data": {
      "text/plain": [
       "Text(9.25, 8.765202147474526e-05, '0.00')"
      ]
     },
     "execution_count": 17,
     "metadata": {},
     "output_type": "execute_result"
    },
    {
     "data": {
      "text/plain": [
       "<BarContainer object of 10 artists>"
      ]
     },
     "execution_count": 17,
     "metadata": {},
     "output_type": "execute_result"
    },
    {
     "data": {
      "text/plain": [
       "Text(0.5, 0.5780058988010879, '0.58')"
      ]
     },
     "execution_count": 17,
     "metadata": {},
     "output_type": "execute_result"
    },
    {
     "data": {
      "text/plain": [
       "Text(1.5, 0.15509250392615007, '0.16')"
      ]
     },
     "execution_count": 17,
     "metadata": {},
     "output_type": "execute_result"
    },
    {
     "data": {
      "text/plain": [
       "Text(2.5, 0.10399509710039453, '0.10')"
      ]
     },
     "execution_count": 17,
     "metadata": {},
     "output_type": "execute_result"
    },
    {
     "data": {
      "text/plain": [
       "Text(3.5, 0.06392921438694603, '0.06')"
      ]
     },
     "execution_count": 17,
     "metadata": {},
     "output_type": "execute_result"
    },
    {
     "data": {
      "text/plain": [
       "Text(4.5, 0.04362814570804765, '0.04')"
      ]
     },
     "execution_count": 17,
     "metadata": {},
     "output_type": "execute_result"
    },
    {
     "data": {
      "text/plain": [
       "Text(5.5, 0.024935840962194047, '0.02')"
      ]
     },
     "execution_count": 17,
     "metadata": {},
     "output_type": "execute_result"
    },
    {
     "data": {
      "text/plain": [
       "Text(6.5, 0.018998735971195464, '0.02')"
      ]
     },
     "execution_count": 17,
     "metadata": {},
     "output_type": "execute_result"
    },
    {
     "data": {
      "text/plain": [
       "Text(7.5, 0.009384456276094534, '0.01')"
      ]
     },
     "execution_count": 17,
     "metadata": {},
     "output_type": "execute_result"
    },
    {
     "data": {
      "text/plain": [
       "Text(8.5, 0.0011874209981997165, '0.00')"
      ]
     },
     "execution_count": 17,
     "metadata": {},
     "output_type": "execute_result"
    },
    {
     "data": {
      "text/plain": [
       "Text(9.5, 0.00022982341900639676, '0.00')"
      ]
     },
     "execution_count": 17,
     "metadata": {},
     "output_type": "execute_result"
    },
    {
     "data": {
      "text/plain": [
       "([<matplotlib.axis.XTick at 0x1a640754d0>,\n",
       "  <matplotlib.axis.XTick at 0x1a7a928d10>,\n",
       "  <matplotlib.axis.XTick at 0x1a64076310>,\n",
       "  <matplotlib.axis.XTick at 0x1a7a90dc50>,\n",
       "  <matplotlib.axis.XTick at 0x1a7a914f50>,\n",
       "  <matplotlib.axis.XTick at 0x1a7a90fc10>,\n",
       "  <matplotlib.axis.XTick at 0x1a7a8eb450>,\n",
       "  <matplotlib.axis.XTick at 0x1a7a8ecb10>,\n",
       "  <matplotlib.axis.XTick at 0x1a7a8f1b90>,\n",
       "  <matplotlib.axis.XTick at 0x1a7a8f0810>],\n",
       " <a list of 10 Text xticklabel objects>)"
      ]
     },
     "execution_count": 17,
     "metadata": {},
     "output_type": "execute_result"
    },
    {
     "data": {
      "text/plain": [
       "Text(0.5, 1.0, 'dist of channel')"
      ]
     },
     "execution_count": 17,
     "metadata": {},
     "output_type": "execute_result"
    },
    {
     "data": {
      "text/plain": [
       "<matplotlib.legend.Legend at 0x1a7a8f4250>"
      ]
     },
     "execution_count": 17,
     "metadata": {},
     "output_type": "execute_result"
    },
    {
     "data": {
      "image/png": "[encoded data removed]",
      "text/plain": [
       "<Figure size 432x288 with 1 Axes>"
      ]
     },
     "metadata": {
      "needs_background": "light"
     },
     "output_type": "display_data"
    },
    {
     "data": {
      "text/html": [
       "<div>\n",
       "<style scoped>\n",
       "    .dataframe tbody tr th:only-of-type {\n",
       "        vertical-align: middle;\n",
       "    }\n",
       "\n",
       "    .dataframe tbody tr th {\n",
       "        vertical-align: top;\n",
       "    }\n",
       "\n",
       "    .dataframe thead th {\n",
       "        text-align: right;\n",
       "    }\n",
       "</style>\n",
       "<table border=\"1\" class=\"dataframe\">\n",
       "  <thead>\n",
       "    <tr style=\"text-align: right;\">\n",
       "      <th></th>\n",
       "      <th>gender</th>\n",
       "      <th>customer_id</th>\n",
       "      <th>聚类类别</th>\n",
       "      <th>group0</th>\n",
       "      <th>per1</th>\n",
       "      <th>per2</th>\n",
       "      <th>per3</th>\n",
       "    </tr>\n",
       "  </thead>\n",
       "  <tbody>\n",
       "    <tr>\n",
       "      <th>0</th>\n",
       "      <td>male</td>\n",
       "      <td>39101</td>\n",
       "      <td>13434</td>\n",
       "      <td>25667</td>\n",
       "      <td>0.545022</td>\n",
       "      <td>0.562441</td>\n",
       "      <td>0.514575</td>\n",
       "    </tr>\n",
       "    <tr>\n",
       "      <th>1</th>\n",
       "      <td>female</td>\n",
       "      <td>32641</td>\n",
       "      <td>12673</td>\n",
       "      <td>19968</td>\n",
       "      <td>0.454978</td>\n",
       "      <td>0.437559</td>\n",
       "      <td>0.485425</td>\n",
       "    </tr>\n",
       "  </tbody>\n",
       "</table>\n",
       "</div>"
      ],
      "text/plain": [
       "   gender  customer_id   聚类类别  group0      per1      per2      per3\n",
       "0    male        39101  13434   25667  0.545022  0.562441  0.514575\n",
       "1  female        32641  12673   19968  0.454978  0.437559  0.485425"
      ]
     },
     "execution_count": 17,
     "metadata": {},
     "output_type": "execute_result"
    },
    {
     "data": {
      "text/plain": [
       "<Figure size 432x288 with 0 Axes>"
      ]
     },
     "execution_count": 17,
     "metadata": {},
     "output_type": "execute_result"
    },
    {
     "data": {
      "text/plain": [
       "<BarContainer object of 2 artists>"
      ]
     },
     "execution_count": 17,
     "metadata": {},
     "output_type": "execute_result"
    },
    {
     "data": {
      "text/plain": [
       "Text(0, 0.5450224415265814, '0.55')"
      ]
     },
     "execution_count": 17,
     "metadata": {},
     "output_type": "execute_result"
    },
    {
     "data": {
      "text/plain": [
       "Text(1, 0.45497755847341864, '0.45')"
      ]
     },
     "execution_count": 17,
     "metadata": {},
     "output_type": "execute_result"
    },
    {
     "data": {
      "text/plain": [
       "<BarContainer object of 2 artists>"
      ]
     },
     "execution_count": 17,
     "metadata": {},
     "output_type": "execute_result"
    },
    {
     "data": {
      "text/plain": [
       "Text(0.25, 0.5624411087980716, '0.56')"
      ]
     },
     "execution_count": 17,
     "metadata": {},
     "output_type": "execute_result"
    },
    {
     "data": {
      "text/plain": [
       "Text(1.25, 0.43755889120192837, '0.44')"
      ]
     },
     "execution_count": 17,
     "metadata": {},
     "output_type": "execute_result"
    },
    {
     "data": {
      "text/plain": [
       "<BarContainer object of 2 artists>"
      ]
     },
     "execution_count": 17,
     "metadata": {},
     "output_type": "execute_result"
    },
    {
     "data": {
      "text/plain": [
       "Text(0.5, 0.5145746351553223, '0.51')"
      ]
     },
     "execution_count": 17,
     "metadata": {},
     "output_type": "execute_result"
    },
    {
     "data": {
      "text/plain": [
       "Text(1.5, 0.4854253648446777, '0.49')"
      ]
     },
     "execution_count": 17,
     "metadata": {},
     "output_type": "execute_result"
    },
    {
     "data": {
      "text/plain": [
       "([<matplotlib.axis.XTick at 0x1a64076690>,\n",
       "  <matplotlib.axis.XTick at 0x1a7a8e3cd0>],\n",
       " <a list of 2 Text xticklabel objects>)"
      ]
     },
     "execution_count": 17,
     "metadata": {},
     "output_type": "execute_result"
    },
    {
     "data": {
      "text/plain": [
       "Text(0.5, 1.0, 'dist of gender')"
      ]
     },
     "execution_count": 17,
     "metadata": {},
     "output_type": "execute_result"
    },
    {
     "data": {
      "text/plain": [
       "<matplotlib.legend.Legend at 0x1a7a8d32d0>"
      ]
     },
     "execution_count": 17,
     "metadata": {},
     "output_type": "execute_result"
    },
    {
     "data": {
      "image/png": "[encoded data removed]",
      "text/plain": [
       "<Figure size 432x288 with 1 Axes>"
      ]
     },
     "metadata": {
      "needs_background": "light"
     },
     "output_type": "display_data"
    },
    {
     "data": {
      "text/html": [
       "<div>\n",
       "<style scoped>\n",
       "    .dataframe tbody tr th:only-of-type {\n",
       "        vertical-align: middle;\n",
       "    }\n",
       "\n",
       "    .dataframe tbody tr th {\n",
       "        vertical-align: top;\n",
       "    }\n",
       "\n",
       "    .dataframe thead th {\n",
       "        text-align: right;\n",
       "    }\n",
       "</style>\n",
       "<table border=\"1\" class=\"dataframe\">\n",
       "  <thead>\n",
       "    <tr style=\"text-align: right;\">\n",
       "      <th></th>\n",
       "      <th>occupation_type</th>\n",
       "      <th>customer_id</th>\n",
       "      <th>聚类类别</th>\n",
       "      <th>group0</th>\n",
       "      <th>per1</th>\n",
       "      <th>per2</th>\n",
       "      <th>per3</th>\n",
       "    </tr>\n",
       "  </thead>\n",
       "  <tbody>\n",
       "    <tr>\n",
       "      <th>0</th>\n",
       "      <td>OFFICE</td>\n",
       "      <td>58968</td>\n",
       "      <td>21862</td>\n",
       "      <td>37106</td>\n",
       "      <td>0.821945</td>\n",
       "      <td>0.813104</td>\n",
       "      <td>0.837400</td>\n",
       "    </tr>\n",
       "    <tr>\n",
       "      <th>1</th>\n",
       "      <td>ENTREPRENEUR</td>\n",
       "      <td>12457</td>\n",
       "      <td>4138</td>\n",
       "      <td>8319</td>\n",
       "      <td>0.173636</td>\n",
       "      <td>0.182294</td>\n",
       "      <td>0.158502</td>\n",
       "    </tr>\n",
       "    <tr>\n",
       "      <th>2</th>\n",
       "      <td>UNEMPLOYED</td>\n",
       "      <td>259</td>\n",
       "      <td>95</td>\n",
       "      <td>164</td>\n",
       "      <td>0.003610</td>\n",
       "      <td>0.003594</td>\n",
       "      <td>0.003639</td>\n",
       "    </tr>\n",
       "    <tr>\n",
       "      <th>3</th>\n",
       "      <td>PELAJAR</td>\n",
       "      <td>9</td>\n",
       "      <td>3</td>\n",
       "      <td>6</td>\n",
       "      <td>0.000125</td>\n",
       "      <td>0.000131</td>\n",
       "      <td>0.000115</td>\n",
       "    </tr>\n",
       "  </tbody>\n",
       "</table>\n",
       "</div>"
      ],
      "text/plain": [
       "  occupation_type  customer_id   聚类类别  group0      per1      per2      per3\n",
       "0          OFFICE        58968  21862   37106  0.821945  0.813104  0.837400\n",
       "1    ENTREPRENEUR        12457   4138    8319  0.173636  0.182294  0.158502\n",
       "2      UNEMPLOYED          259     95     164  0.003610  0.003594  0.003639\n",
       "3         PELAJAR            9      3       6  0.000125  0.000131  0.000115"
      ]
     },
     "execution_count": 17,
     "metadata": {},
     "output_type": "execute_result"
    },
    {
     "data": {
      "text/plain": [
       "<Figure size 432x288 with 0 Axes>"
      ]
     },
     "execution_count": 17,
     "metadata": {},
     "output_type": "execute_result"
    },
    {
     "data": {
      "text/plain": [
       "<BarContainer object of 4 artists>"
      ]
     },
     "execution_count": 17,
     "metadata": {},
     "output_type": "execute_result"
    },
    {
     "data": {
      "text/plain": [
       "Text(0, 0.8219453040060216, '0.82')"
      ]
     },
     "execution_count": 17,
     "metadata": {},
     "output_type": "execute_result"
    },
    {
     "data": {
      "text/plain": [
       "Text(1, 0.17363608485963591, '0.17')"
      ]
     },
     "execution_count": 17,
     "metadata": {},
     "output_type": "execute_result"
    },
    {
     "data": {
      "text/plain": [
       "Text(2, 0.003610158623958072, '0.00')"
      ]
     },
     "execution_count": 17,
     "metadata": {},
     "output_type": "execute_result"
    },
    {
     "data": {
      "text/plain": [
       "Text(3, 0.0001254495274734465, '0.00')"
      ]
     },
     "execution_count": 17,
     "metadata": {},
     "output_type": "execute_result"
    },
    {
     "data": {
      "text/plain": [
       "<BarContainer object of 4 artists>"
      ]
     },
     "execution_count": 17,
     "metadata": {},
     "output_type": "execute_result"
    },
    {
     "data": {
      "text/plain": [
       "Text(0.25, 0.8131039772104744, '0.81')"
      ]
     },
     "execution_count": 17,
     "metadata": {},
     "output_type": "execute_result"
    },
    {
     "data": {
      "text/plain": [
       "Text(1.25, 0.18229429166210145, '0.18')"
      ]
     },
     "execution_count": 17,
     "metadata": {},
     "output_type": "execute_result"
    },
    {
     "data": {
      "text/plain": [
       "Text(2.25, 0.0035937328804645555, '0.00')"
      ]
     },
     "execution_count": 17,
     "metadata": {},
     "output_type": "execute_result"
    },
    {
     "data": {
      "text/plain": [
       "Text(3.25, 0.0001314780322121179, '0.00')"
      ]
     },
     "execution_count": 17,
     "metadata": {},
     "output_type": "execute_result"
    },
    {
     "data": {
      "text/plain": [
       "<BarContainer object of 4 artists>"
      ]
     },
     "execution_count": 17,
     "metadata": {},
     "output_type": "execute_result"
    },
    {
     "data": {
      "text/plain": [
       "Text(0.5, 0.8373999310529743, '0.84')"
      ]
     },
     "execution_count": 17,
     "metadata": {},
     "output_type": "execute_result"
    },
    {
     "data": {
      "text/plain": [
       "Text(1.5, 0.1585015513080783, '0.16')"
      ]
     },
     "execution_count": 17,
     "metadata": {},
     "output_type": "execute_result"
    },
    {
     "data": {
      "text/plain": [
       "Text(2.5, 0.0036388708009346153, '0.00')"
      ]
     },
     "execution_count": 17,
     "metadata": {},
     "output_type": "execute_result"
    },
    {
     "data": {
      "text/plain": [
       "Text(3.5, 0.00011491170950319838, '0.00')"
      ]
     },
     "execution_count": 17,
     "metadata": {},
     "output_type": "execute_result"
    },
    {
     "data": {
      "text/plain": [
       "([<matplotlib.axis.XTick at 0x1a79854890>,\n",
       "  <matplotlib.axis.XTick at 0x1a79854cd0>,\n",
       "  <matplotlib.axis.XTick at 0x1a79a21150>,\n",
       "  <matplotlib.axis.XTick at 0x1a4a2a0cd0>],\n",
       " <a list of 4 Text xticklabel objects>)"
      ]
     },
     "execution_count": 17,
     "metadata": {},
     "output_type": "execute_result"
    },
    {
     "data": {
      "text/plain": [
       "Text(0.5, 1.0, 'dist of occupation_type')"
      ]
     },
     "execution_count": 17,
     "metadata": {},
     "output_type": "execute_result"
    },
    {
     "data": {
      "text/plain": [
       "<matplotlib.legend.Legend at 0x1a4d2bf850>"
      ]
     },
     "execution_count": 17,
     "metadata": {},
     "output_type": "execute_result"
    },
    {
     "data": {
      "image/png": "[encoded data removed]",
      "text/plain": [
       "<Figure size 432x288 with 1 Axes>"
      ]
     },
     "metadata": {
      "needs_background": "light"
     },
     "output_type": "display_data"
    },
    {
     "data": {
      "text/html": [
       "<div>\n",
       "<style scoped>\n",
       "    .dataframe tbody tr th:only-of-type {\n",
       "        vertical-align: middle;\n",
       "    }\n",
       "\n",
       "    .dataframe tbody tr th {\n",
       "        vertical-align: top;\n",
       "    }\n",
       "\n",
       "    .dataframe thead th {\n",
       "        text-align: right;\n",
       "    }\n",
       "</style>\n",
       "<table border=\"1\" class=\"dataframe\">\n",
       "  <thead>\n",
       "    <tr style=\"text-align: right;\">\n",
       "      <th></th>\n",
       "      <th>job</th>\n",
       "      <th>customer_id</th>\n",
       "      <th>聚类类别</th>\n",
       "      <th>group0</th>\n",
       "      <th>per1</th>\n",
       "      <th>per2</th>\n",
       "      <th>per3</th>\n",
       "    </tr>\n",
       "  </thead>\n",
       "  <tbody>\n",
       "    <tr>\n",
       "      <th>0</th>\n",
       "      <td>STAF</td>\n",
       "      <td>45407</td>\n",
       "      <td>16233</td>\n",
       "      <td>29174</td>\n",
       "      <td>0.632921</td>\n",
       "      <td>0.639290</td>\n",
       "      <td>0.621787</td>\n",
       "    </tr>\n",
       "    <tr>\n",
       "      <th>1</th>\n",
       "      <td></td>\n",
       "      <td>12646</td>\n",
       "      <td>4223</td>\n",
       "      <td>8423</td>\n",
       "      <td>0.176271</td>\n",
       "      <td>0.184573</td>\n",
       "      <td>0.161757</td>\n",
       "    </tr>\n",
       "    <tr>\n",
       "      <th>2</th>\n",
       "      <td>SUPERVISO</td>\n",
       "      <td>8627</td>\n",
       "      <td>3329</td>\n",
       "      <td>5298</td>\n",
       "      <td>0.120250</td>\n",
       "      <td>0.116095</td>\n",
       "      <td>0.127514</td>\n",
       "    </tr>\n",
       "    <tr>\n",
       "      <th>3</th>\n",
       "      <td>MANAJER</td>\n",
       "      <td>4014</td>\n",
       "      <td>1926</td>\n",
       "      <td>2088</td>\n",
       "      <td>0.055950</td>\n",
       "      <td>0.045754</td>\n",
       "      <td>0.073773</td>\n",
       "    </tr>\n",
       "    <tr>\n",
       "      <th>4</th>\n",
       "      <td>DIRECTOR</td>\n",
       "      <td>533</td>\n",
       "      <td>188</td>\n",
       "      <td>345</td>\n",
       "      <td>0.007429</td>\n",
       "      <td>0.007560</td>\n",
       "      <td>0.007201</td>\n",
       "    </tr>\n",
       "    <tr>\n",
       "      <th>5</th>\n",
       "      <td>GENERAL_MANAGER</td>\n",
       "      <td>466</td>\n",
       "      <td>199</td>\n",
       "      <td>267</td>\n",
       "      <td>0.006495</td>\n",
       "      <td>0.005851</td>\n",
       "      <td>0.007622</td>\n",
       "    </tr>\n",
       "  </tbody>\n",
       "</table>\n",
       "</div>"
      ],
      "text/plain": [
       "               job  customer_id   聚类类别  group0      per1      per2      per3\n",
       "0             STAF        45407  16233   29174  0.632921  0.639290  0.621787\n",
       "1                         12646   4223    8423  0.176271  0.184573  0.161757\n",
       "2        SUPERVISO         8627   3329    5298  0.120250  0.116095  0.127514\n",
       "3          MANAJER         4014   1926    2088  0.055950  0.045754  0.073773\n",
       "4         DIRECTOR          533    188     345  0.007429  0.007560  0.007201\n",
       "5  GENERAL_MANAGER          466    199     267  0.006495  0.005851  0.007622"
      ]
     },
     "execution_count": 17,
     "metadata": {},
     "output_type": "execute_result"
    },
    {
     "data": {
      "text/plain": [
       "<Figure size 432x288 with 0 Axes>"
      ]
     },
     "execution_count": 17,
     "metadata": {},
     "output_type": "execute_result"
    },
    {
     "data": {
      "text/plain": [
       "<BarContainer object of 6 artists>"
      ]
     },
     "execution_count": 17,
     "metadata": {},
     "output_type": "execute_result"
    },
    {
     "data": {
      "text/plain": [
       "Text(0, 0.6329207437763096, '0.63')"
      ]
     },
     "execution_count": 17,
     "metadata": {},
     "output_type": "execute_result"
    },
    {
     "data": {
      "text/plain": [
       "Text(1, 0.1762705249365783, '0.18')"
      ]
     },
     "execution_count": 17,
     "metadata": {},
     "output_type": "execute_result"
    },
    {
     "data": {
      "text/plain": [
       "Text(2, 0.12025034150149146, '0.12')"
      ]
     },
     "execution_count": 17,
     "metadata": {},
     "output_type": "execute_result"
    },
    {
     "data": {
      "text/plain": [
       "Text(3, 0.05595048925315715, '0.06')"
      ]
     },
     "execution_count": 17,
     "metadata": {},
     "output_type": "execute_result"
    },
    {
     "data": {
      "text/plain": [
       "Text(4, 0.007429399793705221, '0.01')"
      ]
     },
     "execution_count": 17,
     "metadata": {},
     "output_type": "execute_result"
    },
    {
     "data": {
      "text/plain": [
       "Text(5, 0.0064954977558473416, '0.01')"
      ]
     },
     "execution_count": 17,
     "metadata": {},
     "output_type": "execute_result"
    },
    {
     "data": {
      "text/plain": [
       "<BarContainer object of 6 artists>"
      ]
     },
     "execution_count": 17,
     "metadata": {},
     "output_type": "execute_result"
    },
    {
     "data": {
      "text/plain": [
       "Text(0.25, 0.6392900186260546, '0.64')"
      ]
     },
     "execution_count": 17,
     "metadata": {},
     "output_type": "execute_result"
    },
    {
     "data": {
      "text/plain": [
       "Text(1.25, 0.18457324422044483, '0.18')"
      ]
     },
     "execution_count": 17,
     "metadata": {},
     "output_type": "execute_result"
    },
    {
     "data": {
      "text/plain": [
       "Text(2.25, 0.1160951024433001, '0.12')"
      ]
     },
     "execution_count": 17,
     "metadata": {},
     "output_type": "execute_result"
    },
    {
     "data": {
      "text/plain": [
       "Text(3.25, 0.04575435520981703, '0.05')"
      ]
     },
     "execution_count": 17,
     "metadata": {},
     "output_type": "execute_result"
    },
    {
     "data": {
      "text/plain": [
       "Text(4.25, 0.007559986852196779, '0.01')"
      ]
     },
     "execution_count": 17,
     "metadata": {},
     "output_type": "execute_result"
    },
    {
     "data": {
      "text/plain": [
       "Text(5.25, 0.005850772433439246, '0.01')"
      ]
     },
     "execution_count": 17,
     "metadata": {},
     "output_type": "execute_result"
    },
    {
     "data": {
      "text/plain": [
       "<BarContainer object of 6 artists>"
      ]
     },
     "execution_count": 17,
     "metadata": {},
     "output_type": "execute_result"
    },
    {
     "data": {
      "text/plain": [
       "Text(0.5, 0.6217872601218064, '0.62')"
      ]
     },
     "execution_count": 17,
     "metadata": {},
     "output_type": "execute_result"
    },
    {
     "data": {
      "text/plain": [
       "Text(1.5, 0.1617573830773356, '0.16')"
      ]
     },
     "execution_count": 17,
     "metadata": {},
     "output_type": "execute_result"
    },
    {
     "data": {
      "text/plain": [
       "Text(2.5, 0.12751369364538245, '0.13')"
      ]
     },
     "execution_count": 17,
     "metadata": {},
     "output_type": "execute_result"
    },
    {
     "data": {
      "text/plain": [
       "Text(3.5, 0.07377331750105336, '0.07')"
      ]
     },
     "execution_count": 17,
     "metadata": {},
     "output_type": "execute_result"
    },
    {
     "data": {
      "text/plain": [
       "Text(4.5, 0.007201133795533765, '0.01')"
      ]
     },
     "execution_count": 17,
     "metadata": {},
     "output_type": "execute_result"
    },
    {
     "data": {
      "text/plain": [
       "Text(5.5, 0.0076224767303788256, '0.01')"
      ]
     },
     "execution_count": 17,
     "metadata": {},
     "output_type": "execute_result"
    },
    {
     "data": {
      "text/plain": [
       "([<matplotlib.axis.XTick at 0x1a4a2aa810>,\n",
       "  <matplotlib.axis.XTick at 0x1a4a2a71d0>,\n",
       "  <matplotlib.axis.XTick at 0x1a4a2a8c50>,\n",
       "  <matplotlib.axis.XTick at 0x1a4b29a410>,\n",
       "  <matplotlib.axis.XTick at 0x1a4b29ac90>,\n",
       "  <matplotlib.axis.XTick at 0x1a4b29b9d0>],\n",
       " <a list of 6 Text xticklabel objects>)"
      ]
     },
     "execution_count": 17,
     "metadata": {},
     "output_type": "execute_result"
    },
    {
     "data": {
      "text/plain": [
       "Text(0.5, 1.0, 'dist of job')"
      ]
     },
     "execution_count": 17,
     "metadata": {},
     "output_type": "execute_result"
    },
    {
     "data": {
      "text/plain": [
       "<matplotlib.legend.Legend at 0x1a4b299f50>"
      ]
     },
     "execution_count": 17,
     "metadata": {},
     "output_type": "execute_result"
    },
    {
     "data": {
      "image/png": "[encoded data removed]",
      "text/plain": [
       "<Figure size 432x288 with 1 Axes>"
      ]
     },
     "metadata": {
      "needs_background": "light"
     },
     "output_type": "display_data"
    },
    {
     "data": {
      "text/html": [
       "<div>\n",
       "<style scoped>\n",
       "    .dataframe tbody tr th:only-of-type {\n",
       "        vertical-align: middle;\n",
       "    }\n",
       "\n",
       "    .dataframe tbody tr th {\n",
       "        vertical-align: top;\n",
       "    }\n",
       "\n",
       "    .dataframe thead th {\n",
       "        text-align: right;\n",
       "    }\n",
       "</style>\n",
       "<table border=\"1\" class=\"dataframe\">\n",
       "  <thead>\n",
       "    <tr style=\"text-align: right;\">\n",
       "      <th></th>\n",
       "      <th>industry_involved</th>\n",
       "      <th>customer_id</th>\n",
       "      <th>聚类类别</th>\n",
       "      <th>group0</th>\n",
       "      <th>per1</th>\n",
       "      <th>per2</th>\n",
       "      <th>per3</th>\n",
       "    </tr>\n",
       "  </thead>\n",
       "  <tbody>\n",
       "    <tr>\n",
       "      <th>0</th>\n",
       "      <td>TRADING_INDUSTRY</td>\n",
       "      <td>15780</td>\n",
       "      <td>5240</td>\n",
       "      <td>10540</td>\n",
       "      <td>0.219955</td>\n",
       "      <td>0.230963</td>\n",
       "      <td>0.200712</td>\n",
       "    </tr>\n",
       "    <tr>\n",
       "      <th>1</th>\n",
       "      <td>OTHER</td>\n",
       "      <td>13668</td>\n",
       "      <td>5102</td>\n",
       "      <td>8566</td>\n",
       "      <td>0.190516</td>\n",
       "      <td>0.187707</td>\n",
       "      <td>0.195427</td>\n",
       "    </tr>\n",
       "    <tr>\n",
       "      <th>2</th>\n",
       "      <td>PABRIK</td>\n",
       "      <td>7500</td>\n",
       "      <td>2244</td>\n",
       "      <td>5256</td>\n",
       "      <td>0.104541</td>\n",
       "      <td>0.115175</td>\n",
       "      <td>0.085954</td>\n",
       "    </tr>\n",
       "    <tr>\n",
       "      <th>3</th>\n",
       "      <td>TRANSPORTASI_LOGISTIK</td>\n",
       "      <td>5529</td>\n",
       "      <td>1876</td>\n",
       "      <td>3653</td>\n",
       "      <td>0.077068</td>\n",
       "      <td>0.080048</td>\n",
       "      <td>0.071858</td>\n",
       "    </tr>\n",
       "    <tr>\n",
       "      <th>4</th>\n",
       "      <td>RETAIL</td>\n",
       "      <td>5073</td>\n",
       "      <td>1985</td>\n",
       "      <td>3088</td>\n",
       "      <td>0.070712</td>\n",
       "      <td>0.067667</td>\n",
       "      <td>0.076033</td>\n",
       "    </tr>\n",
       "    <tr>\n",
       "      <th>5</th>\n",
       "      <td>ROOM_BOARD</td>\n",
       "      <td>4271</td>\n",
       "      <td>1506</td>\n",
       "      <td>2765</td>\n",
       "      <td>0.059533</td>\n",
       "      <td>0.060589</td>\n",
       "      <td>0.057686</td>\n",
       "    </tr>\n",
       "    <tr>\n",
       "      <th>6</th>\n",
       "      <td>FINANCIAL</td>\n",
       "      <td>3833</td>\n",
       "      <td>1738</td>\n",
       "      <td>2095</td>\n",
       "      <td>0.053428</td>\n",
       "      <td>0.045908</td>\n",
       "      <td>0.066572</td>\n",
       "    </tr>\n",
       "    <tr>\n",
       "      <th>7</th>\n",
       "      <td>ARCHITECTURE</td>\n",
       "      <td>3707</td>\n",
       "      <td>1250</td>\n",
       "      <td>2457</td>\n",
       "      <td>0.051671</td>\n",
       "      <td>0.053840</td>\n",
       "      <td>0.047880</td>\n",
       "    </tr>\n",
       "    <tr>\n",
       "      <th>8</th>\n",
       "      <td>EDUCATION</td>\n",
       "      <td>2971</td>\n",
       "      <td>1282</td>\n",
       "      <td>1689</td>\n",
       "      <td>0.041412</td>\n",
       "      <td>0.037011</td>\n",
       "      <td>0.049106</td>\n",
       "    </tr>\n",
       "    <tr>\n",
       "      <th>9</th>\n",
       "      <td>MEDICAL</td>\n",
       "      <td>2605</td>\n",
       "      <td>1226</td>\n",
       "      <td>1379</td>\n",
       "      <td>0.036311</td>\n",
       "      <td>0.030218</td>\n",
       "      <td>0.046961</td>\n",
       "    </tr>\n",
       "  </tbody>\n",
       "</table>\n",
       "</div>"
      ],
      "text/plain": [
       "       industry_involved  customer_id  聚类类别  group0      per1      per2  \\\n",
       "0       TRADING_INDUSTRY        15780  5240   10540  0.219955  0.230963   \n",
       "1                  OTHER        13668  5102    8566  0.190516  0.187707   \n",
       "2                 PABRIK         7500  2244    5256  0.104541  0.115175   \n",
       "3  TRANSPORTASI_LOGISTIK         5529  1876    3653  0.077068  0.080048   \n",
       "4                 RETAIL         5073  1985    3088  0.070712  0.067667   \n",
       "5             ROOM_BOARD         4271  1506    2765  0.059533  0.060589   \n",
       "6              FINANCIAL         3833  1738    2095  0.053428  0.045908   \n",
       "7           ARCHITECTURE         3707  1250    2457  0.051671  0.053840   \n",
       "8              EDUCATION         2971  1282    1689  0.041412  0.037011   \n",
       "9                MEDICAL         2605  1226    1379  0.036311  0.030218   \n",
       "\n",
       "       per3  \n",
       "0  0.200712  \n",
       "1  0.195427  \n",
       "2  0.085954  \n",
       "3  0.071858  \n",
       "4  0.076033  \n",
       "5  0.057686  \n",
       "6  0.066572  \n",
       "7  0.047880  \n",
       "8  0.049106  \n",
       "9  0.046961  "
      ]
     },
     "execution_count": 17,
     "metadata": {},
     "output_type": "execute_result"
    },
    {
     "data": {
      "text/plain": [
       "<Figure size 432x288 with 0 Axes>"
      ]
     },
     "execution_count": 17,
     "metadata": {},
     "output_type": "execute_result"
    },
    {
     "data": {
      "text/plain": [
       "<BarContainer object of 10 artists>"
      ]
     },
     "execution_count": 17,
     "metadata": {},
     "output_type": "execute_result"
    },
    {
     "data": {
      "text/plain": [
       "Text(0, 0.21995483817010955, '0.22')"
      ]
     },
     "execution_count": 17,
     "metadata": {},
     "output_type": "execute_result"
    },
    {
     "data": {
      "text/plain": [
       "Text(1, 0.19051601572300744, '0.19')"
      ]
     },
     "execution_count": 17,
     "metadata": {},
     "output_type": "execute_result"
    },
    {
     "data": {
      "text/plain": [
       "Text(2, 0.10454127289453877, '0.10')"
      ]
     },
     "execution_count": 17,
     "metadata": {},
     "output_type": "execute_result"
    },
    {
     "data": {
      "text/plain": [
       "Text(3, 0.07706782637785398, '0.08')"
      ]
     },
     "execution_count": 17,
     "metadata": {},
     "output_type": "execute_result"
    },
    {
     "data": {
      "text/plain": [
       "Text(4, 0.07071171698586602, '0.07')"
      ]
     },
     "execution_count": 17,
     "metadata": {},
     "output_type": "execute_result"
    },
    {
     "data": {
      "text/plain": [
       "Text(5, 0.05953277020434334, '0.06')"
      ]
     },
     "execution_count": 17,
     "metadata": {},
     "output_type": "execute_result"
    },
    {
     "data": {
      "text/plain": [
       "Text(6, 0.05342755986730228, '0.05')"
      ]
     },
     "execution_count": 17,
     "metadata": {},
     "output_type": "execute_result"
    },
    {
     "data": {
      "text/plain": [
       "Text(7, 0.051671266482674026, '0.05')"
      ]
     },
     "execution_count": 17,
     "metadata": {},
     "output_type": "execute_result"
    },
    {
     "data": {
      "text/plain": [
       "Text(8, 0.04141228290262329, '0.04')"
      ]
     },
     "execution_count": 17,
     "metadata": {},
     "output_type": "execute_result"
    },
    {
     "data": {
      "text/plain": [
       "Text(9, 0.036310668785369794, '0.04')"
      ]
     },
     "execution_count": 17,
     "metadata": {},
     "output_type": "execute_result"
    },
    {
     "data": {
      "text/plain": [
       "<BarContainer object of 10 artists>"
      ]
     },
     "execution_count": 17,
     "metadata": {},
     "output_type": "execute_result"
    },
    {
     "data": {
      "text/plain": [
       "Text(0.25, 0.23096307658595377, '0.23')"
      ]
     },
     "execution_count": 17,
     "metadata": {},
     "output_type": "execute_result"
    },
    {
     "data": {
      "text/plain": [
       "Text(1.25, 0.18770680398816697, '0.19')"
      ]
     },
     "execution_count": 17,
     "metadata": {},
     "output_type": "execute_result"
    },
    {
     "data": {
      "text/plain": [
       "Text(2.25, 0.11517475621781527, '0.12')"
      ]
     },
     "execution_count": 17,
     "metadata": {},
     "output_type": "execute_result"
    },
    {
     "data": {
      "text/plain": [
       "Text(3.25, 0.08004820861181111, '0.08')"
      ]
     },
     "execution_count": 17,
     "metadata": {},
     "output_type": "execute_result"
    },
    {
     "data": {
      "text/plain": [
       "Text(4.25, 0.06766736057850334, '0.07')"
      ]
     },
     "execution_count": 17,
     "metadata": {},
     "output_type": "execute_result"
    },
    {
     "data": {
      "text/plain": [
       "Text(5.25, 0.06058945984441766, '0.06')"
      ]
     },
     "execution_count": 17,
     "metadata": {},
     "output_type": "execute_result"
    },
    {
     "data": {
      "text/plain": [
       "Text(6.25, 0.04590774624739783, '0.05')"
      ]
     },
     "execution_count": 17,
     "metadata": {},
     "output_type": "execute_result"
    },
    {
     "data": {
      "text/plain": [
       "Text(7.25, 0.053840254190862274, '0.05')"
      ]
     },
     "execution_count": 17,
     "metadata": {},
     "output_type": "execute_result"
    },
    {
     "data": {
      "text/plain": [
       "Text(8.25, 0.037011066067711186, '0.04')"
      ]
     },
     "execution_count": 17,
     "metadata": {},
     "output_type": "execute_result"
    },
    {
     "data": {
      "text/plain": [
       "Text(9.25, 0.03021803440341843, '0.03')"
      ]
     },
     "execution_count": 17,
     "metadata": {},
     "output_type": "execute_result"
    },
    {
     "data": {
      "text/plain": [
       "<BarContainer object of 10 artists>"
      ]
     },
     "execution_count": 17,
     "metadata": {},
     "output_type": "execute_result"
    },
    {
     "data": {
      "text/plain": [
       "Text(0.5, 0.20071245259891984, '0.20')"
      ]
     },
     "execution_count": 17,
     "metadata": {},
     "output_type": "execute_result"
    },
    {
     "data": {
      "text/plain": [
       "Text(1.5, 0.1954265139617727, '0.20')"
      ]
     },
     "execution_count": 17,
     "metadata": {},
     "output_type": "execute_result"
    },
    {
     "data": {
      "text/plain": [
       "Text(2.5, 0.08595395870839238, '0.09')"
      ]
     },
     "execution_count": 17,
     "metadata": {},
     "output_type": "execute_result"
    },
    {
     "data": {
      "text/plain": [
       "Text(3.5, 0.07185812234266671, '0.07')"
      ]
     },
     "execution_count": 17,
     "metadata": {},
     "output_type": "execute_result"
    },
    {
     "data": {
      "text/plain": [
       "Text(4.5, 0.07603324778794959, '0.08')"
      ]
     },
     "execution_count": 17,
     "metadata": {},
     "output_type": "execute_result"
    },
    {
     "data": {
      "text/plain": [
       "Text(5.5, 0.05768567817060558, '0.06')"
      ]
     },
     "execution_count": 17,
     "metadata": {},
     "output_type": "execute_result"
    },
    {
     "data": {
      "text/plain": [
       "Text(6.5, 0.0665721837055196, '0.07')"
      ]
     },
     "execution_count": 17,
     "metadata": {},
     "output_type": "execute_result"
    },
    {
     "data": {
      "text/plain": [
       "Text(7.5, 0.04787987895966599, '0.05')"
      ]
     },
     "execution_count": 17,
     "metadata": {},
     "output_type": "execute_result"
    },
    {
     "data": {
      "text/plain": [
       "Text(8.5, 0.04910560386103344, '0.05')"
      ]
     },
     "execution_count": 17,
     "metadata": {},
     "output_type": "execute_result"
    },
    {
     "data": {
      "text/plain": [
       "Text(9.5, 0.0469605852836404, '0.05')"
      ]
     },
     "execution_count": 17,
     "metadata": {},
     "output_type": "execute_result"
    },
    {
     "data": {
      "text/plain": [
       "([<matplotlib.axis.XTick at 0x1a4b2a1450>,\n",
       "  <matplotlib.axis.XTick at 0x1a4b299290>,\n",
       "  <matplotlib.axis.XTick at 0x1a798715d0>,\n",
       "  <matplotlib.axis.XTick at 0x1a2eb4d350>,\n",
       "  <matplotlib.axis.XTick at 0x1a756b15d0>,\n",
       "  <matplotlib.axis.XTick at 0x1a756b1d50>,\n",
       "  <matplotlib.axis.XTick at 0x1a756b1e50>,\n",
       "  <matplotlib.axis.XTick at 0x1a75536810>,\n",
       "  <matplotlib.axis.XTick at 0x1a75536f50>,\n",
       "  <matplotlib.axis.XTick at 0x1a7552f450>],\n",
       " <a list of 10 Text xticklabel objects>)"
      ]
     },
     "execution_count": 17,
     "metadata": {},
     "output_type": "execute_result"
    },
    {
     "data": {
      "text/plain": [
       "Text(0.5, 1.0, 'dist of industry_involved')"
      ]
     },
     "execution_count": 17,
     "metadata": {},
     "output_type": "execute_result"
    },
    {
     "data": {
      "text/plain": [
       "<matplotlib.legend.Legend at 0x1a4a2aa290>"
      ]
     },
     "execution_count": 17,
     "metadata": {},
     "output_type": "execute_result"
    },
    {
     "data": {
      "image/png": "[encoded data removed]",
      "text/plain": [
       "<Figure size 432x288 with 1 Axes>"
      ]
     },
     "metadata": {
      "needs_background": "light"
     },
     "output_type": "display_data"
    },
    {
     "data": {
      "text/html": [
       "<div>\n",
       "<style scoped>\n",
       "    .dataframe tbody tr th:only-of-type {\n",
       "        vertical-align: middle;\n",
       "    }\n",
       "\n",
       "    .dataframe tbody tr th {\n",
       "        vertical-align: top;\n",
       "    }\n",
       "\n",
       "    .dataframe thead th {\n",
       "        text-align: right;\n",
       "    }\n",
       "</style>\n",
       "<table border=\"1\" class=\"dataframe\">\n",
       "  <thead>\n",
       "    <tr style=\"text-align: right;\">\n",
       "      <th></th>\n",
       "      <th>brand</th>\n",
       "      <th>customer_id</th>\n",
       "      <th>聚类类别</th>\n",
       "      <th>group0</th>\n",
       "      <th>per1</th>\n",
       "      <th>per2</th>\n",
       "      <th>per3</th>\n",
       "    </tr>\n",
       "  </thead>\n",
       "  <tbody>\n",
       "    <tr>\n",
       "      <th>0</th>\n",
       "      <td>none</td>\n",
       "      <td>15322</td>\n",
       "      <td>5990</td>\n",
       "      <td>9332</td>\n",
       "      <td>0.213571</td>\n",
       "      <td>0.204492</td>\n",
       "      <td>0.229440</td>\n",
       "    </tr>\n",
       "    <tr>\n",
       "      <th>1</th>\n",
       "      <td>xiaomi</td>\n",
       "      <td>14722</td>\n",
       "      <td>4685</td>\n",
       "      <td>10037</td>\n",
       "      <td>0.205208</td>\n",
       "      <td>0.219941</td>\n",
       "      <td>0.179454</td>\n",
       "    </tr>\n",
       "    <tr>\n",
       "      <th>2</th>\n",
       "      <td>oppo</td>\n",
       "      <td>14339</td>\n",
       "      <td>5128</td>\n",
       "      <td>9211</td>\n",
       "      <td>0.199869</td>\n",
       "      <td>0.201841</td>\n",
       "      <td>0.196422</td>\n",
       "    </tr>\n",
       "    <tr>\n",
       "      <th>3</th>\n",
       "      <td>samsung</td>\n",
       "      <td>12799</td>\n",
       "      <td>5320</td>\n",
       "      <td>7479</td>\n",
       "      <td>0.178403</td>\n",
       "      <td>0.163887</td>\n",
       "      <td>0.203777</td>\n",
       "    </tr>\n",
       "    <tr>\n",
       "      <th>4</th>\n",
       "      <td>vivo</td>\n",
       "      <td>6613</td>\n",
       "      <td>2341</td>\n",
       "      <td>4272</td>\n",
       "      <td>0.092178</td>\n",
       "      <td>0.093612</td>\n",
       "      <td>0.089669</td>\n",
       "    </tr>\n",
       "    <tr>\n",
       "      <th>5</th>\n",
       "      <td>asus</td>\n",
       "      <td>2249</td>\n",
       "      <td>809</td>\n",
       "      <td>1440</td>\n",
       "      <td>0.031348</td>\n",
       "      <td>0.031555</td>\n",
       "      <td>0.030988</td>\n",
       "    </tr>\n",
       "    <tr>\n",
       "      <th>6</th>\n",
       "      <td>lenovo</td>\n",
       "      <td>781</td>\n",
       "      <td>288</td>\n",
       "      <td>493</td>\n",
       "      <td>0.010886</td>\n",
       "      <td>0.010803</td>\n",
       "      <td>0.011032</td>\n",
       "    </tr>\n",
       "    <tr>\n",
       "      <th>7</th>\n",
       "      <td>docomo</td>\n",
       "      <td>628</td>\n",
       "      <td>80</td>\n",
       "      <td>548</td>\n",
       "      <td>0.008754</td>\n",
       "      <td>0.012008</td>\n",
       "      <td>0.003064</td>\n",
       "    </tr>\n",
       "    <tr>\n",
       "      <th>8</th>\n",
       "      <td>realme</td>\n",
       "      <td>611</td>\n",
       "      <td>191</td>\n",
       "      <td>420</td>\n",
       "      <td>0.008517</td>\n",
       "      <td>0.009203</td>\n",
       "      <td>0.007316</td>\n",
       "    </tr>\n",
       "    <tr>\n",
       "      <th>9</th>\n",
       "      <td>huawei</td>\n",
       "      <td>384</td>\n",
       "      <td>151</td>\n",
       "      <td>233</td>\n",
       "      <td>0.005353</td>\n",
       "      <td>0.005106</td>\n",
       "      <td>0.005784</td>\n",
       "    </tr>\n",
       "  </tbody>\n",
       "</table>\n",
       "</div>"
      ],
      "text/plain": [
       "     brand  customer_id  聚类类别  group0      per1      per2      per3\n",
       "0     none        15322  5990    9332  0.213571  0.204492  0.229440\n",
       "1   xiaomi        14722  4685   10037  0.205208  0.219941  0.179454\n",
       "2     oppo        14339  5128    9211  0.199869  0.201841  0.196422\n",
       "3  samsung        12799  5320    7479  0.178403  0.163887  0.203777\n",
       "4     vivo         6613  2341    4272  0.092178  0.093612  0.089669\n",
       "5     asus         2249   809    1440  0.031348  0.031555  0.030988\n",
       "6   lenovo          781   288     493  0.010886  0.010803  0.011032\n",
       "7   docomo          628    80     548  0.008754  0.012008  0.003064\n",
       "8   realme          611   191     420  0.008517  0.009203  0.007316\n",
       "9   huawei          384   151     233  0.005353  0.005106  0.005784"
      ]
     },
     "execution_count": 17,
     "metadata": {},
     "output_type": "execute_result"
    },
    {
     "data": {
      "text/plain": [
       "<Figure size 432x288 with 0 Axes>"
      ]
     },
     "execution_count": 17,
     "metadata": {},
     "output_type": "execute_result"
    },
    {
     "data": {
      "text/plain": [
       "<BarContainer object of 10 artists>"
      ]
     },
     "execution_count": 17,
     "metadata": {},
     "output_type": "execute_result"
    },
    {
     "data": {
      "text/plain": [
       "Text(0, 0.21357085110534973, '0.21')"
      ]
     },
     "execution_count": 17,
     "metadata": {},
     "output_type": "execute_result"
    },
    {
     "data": {
      "text/plain": [
       "Text(1, 0.20520754927378662, '0.21')"
      ]
     },
     "execution_count": 17,
     "metadata": {},
     "output_type": "execute_result"
    },
    {
     "data": {
      "text/plain": [
       "Text(2, 0.19986897493797218, '0.20')"
      ]
     },
     "execution_count": 17,
     "metadata": {},
     "output_type": "execute_result"
    },
    {
     "data": {
      "text/plain": [
       "Text(3, 0.1784031669036269, '0.18')"
      ]
     },
     "execution_count": 17,
     "metadata": {},
     "output_type": "execute_result"
    },
    {
     "data": {
      "text/plain": [
       "Text(4, 0.09217752502021131, '0.09')"
      ]
     },
     "execution_count": 17,
     "metadata": {},
     "output_type": "execute_result"
    },
    {
     "data": {
      "text/plain": [
       "Text(5, 0.03134844303197569, '0.03')"
      ]
     },
     "execution_count": 17,
     "metadata": {},
     "output_type": "execute_result"
    },
    {
     "data": {
      "text/plain": [
       "Text(6, 0.01088623121741797, '0.01')"
      ]
     },
     "execution_count": 17,
     "metadata": {},
     "output_type": "execute_result"
    },
    {
     "data": {
      "text/plain": [
       "Text(7, 0.008753589250369379, '0.01')"
      ]
     },
     "execution_count": 17,
     "metadata": {},
     "output_type": "execute_result"
    },
    {
     "data": {
      "text/plain": [
       "Text(8, 0.008516629031808425, '0.01')"
      ]
     },
     "execution_count": 17,
     "metadata": {},
     "output_type": "execute_result"
    },
    {
     "data": {
      "text/plain": [
       "Text(9, 0.005352513172200385, '0.01')"
      ]
     },
     "execution_count": 17,
     "metadata": {},
     "output_type": "execute_result"
    },
    {
     "data": {
      "text/plain": [
       "<BarContainer object of 10 artists>"
      ]
     },
     "execution_count": 17,
     "metadata": {},
     "output_type": "execute_result"
    },
    {
     "data": {
      "text/plain": [
       "Text(0.25, 0.20449216610058069, '0.20')"
      ]
     },
     "execution_count": 17,
     "metadata": {},
     "output_type": "execute_result"
    },
    {
     "data": {
      "text/plain": [
       "Text(1.25, 0.21994083488550456, '0.22')"
      ]
     },
     "execution_count": 17,
     "metadata": {},
     "output_type": "execute_result"
    },
    {
     "data": {
      "text/plain": [
       "Text(2.25, 0.20184069245096964, '0.20')"
      ]
     },
     "execution_count": 17,
     "metadata": {},
     "output_type": "execute_result"
    },
    {
     "data": {
      "text/plain": [
       "Text(3.25, 0.16388736715240496, '0.16')"
      ]
     },
     "execution_count": 17,
     "metadata": {},
     "output_type": "execute_result"
    },
    {
     "data": {
      "text/plain": [
       "Text(4.25, 0.09361235893502794, '0.09')"
      ]
     },
     "execution_count": 17,
     "metadata": {},
     "output_type": "execute_result"
    },
    {
     "data": {
      "text/plain": [
       "Text(5.25, 0.0315547277309083, '0.03')"
      ]
     },
     "execution_count": 17,
     "metadata": {},
     "output_type": "execute_result"
    },
    {
     "data": {
      "text/plain": [
       "Text(6.25, 0.010803111646762353, '0.01')"
      ]
     },
     "execution_count": 17,
     "metadata": {},
     "output_type": "execute_result"
    },
    {
     "data": {
      "text/plain": [
       "Text(7.25, 0.0120083269420401, '0.01')"
      ]
     },
     "execution_count": 17,
     "metadata": {},
     "output_type": "execute_result"
    },
    {
     "data": {
      "text/plain": [
       "Text(8.25, 0.009203462254848253, '0.01')"
      ]
     },
     "execution_count": 17,
     "metadata": {},
     "output_type": "execute_result"
    },
    {
     "data": {
      "text/plain": [
       "Text(9.25, 0.0051057302509039115, '0.01')"
      ]
     },
     "execution_count": 17,
     "metadata": {},
     "output_type": "execute_result"
    },
    {
     "data": {
      "text/plain": [
       "<BarContainer object of 10 artists>"
      ]
     },
     "execution_count": 17,
     "metadata": {},
     "output_type": "execute_result"
    },
    {
     "data": {
      "text/plain": [
       "Text(0.5, 0.22944037997471942, '0.23')"
      ]
     },
     "execution_count": 17,
     "metadata": {},
     "output_type": "execute_result"
    },
    {
     "data": {
      "text/plain": [
       "Text(1.5, 0.17945378634082812, '0.18')"
      ]
     },
     "execution_count": 17,
     "metadata": {},
     "output_type": "execute_result"
    },
    {
     "data": {
      "text/plain": [
       "Text(2.5, 0.19642241544413375, '0.20')"
      ]
     },
     "execution_count": 17,
     "metadata": {},
     "output_type": "execute_result"
    },
    {
     "data": {
      "text/plain": [
       "Text(3.5, 0.20377676485233845, '0.20')"
      ]
     },
     "execution_count": 17,
     "metadata": {},
     "output_type": "execute_result"
    },
    {
     "data": {
      "text/plain": [
       "Text(4.5, 0.08966943731566246, '0.09')"
      ]
     },
     "execution_count": 17,
     "metadata": {},
     "output_type": "execute_result"
    },
    {
     "data": {
      "text/plain": [
       "Text(5.5, 0.03098785766269583, '0.03')"
      ]
     },
     "execution_count": 17,
     "metadata": {},
     "output_type": "execute_result"
    },
    {
     "data": {
      "text/plain": [
       "Text(6.5, 0.011031524112307045, '0.01')"
      ]
     },
     "execution_count": 17,
     "metadata": {},
     "output_type": "execute_result"
    },
    {
     "data": {
      "text/plain": [
       "Text(7.5, 0.0030643122534186234, '0.00')"
      ]
     },
     "execution_count": 17,
     "metadata": {},
     "output_type": "execute_result"
    },
    {
     "data": {
      "text/plain": [
       "Text(8.5, 0.007316045505036963, '0.01')"
      ]
     },
     "execution_count": 17,
     "metadata": {},
     "output_type": "execute_result"
    },
    {
     "data": {
      "text/plain": [
       "Text(9.5, 0.005783889378327652, '0.01')"
      ]
     },
     "execution_count": 17,
     "metadata": {},
     "output_type": "execute_result"
    },
    {
     "data": {
      "text/plain": [
       "([<matplotlib.axis.XTick at 0x1a80439710>,\n",
       "  <matplotlib.axis.XTick at 0x1a4a402390>,\n",
       "  <matplotlib.axis.XTick at 0x1a4a402c90>,\n",
       "  <matplotlib.axis.XTick at 0x1a2e53ab90>,\n",
       "  <matplotlib.axis.XTick at 0x1a2e581e90>,\n",
       "  <matplotlib.axis.XTick at 0x1a2e581690>,\n",
       "  <matplotlib.axis.XTick at 0x1a2e5817d0>,\n",
       "  <matplotlib.axis.XTick at 0x1a22184f10>,\n",
       "  <matplotlib.axis.XTick at 0x1a22795450>,\n",
       "  <matplotlib.axis.XTick at 0x1a22795c10>],\n",
       " <a list of 10 Text xticklabel objects>)"
      ]
     },
     "execution_count": 17,
     "metadata": {},
     "output_type": "execute_result"
    },
    {
     "data": {
      "text/plain": [
       "Text(0.5, 1.0, 'dist of brand')"
      ]
     },
     "execution_count": 17,
     "metadata": {},
     "output_type": "execute_result"
    },
    {
     "data": {
      "text/plain": [
       "<matplotlib.legend.Legend at 0x1a223a5110>"
      ]
     },
     "execution_count": 17,
     "metadata": {},
     "output_type": "execute_result"
    },
    {
     "data": {
      "image/png": "[encoded data removed]",
      "text/plain": [
       "<Figure size 432x288 with 1 Axes>"
      ]
     },
     "metadata": {
      "needs_background": "light"
     },
     "output_type": "display_data"
    },
    {
     "data": {
      "text/html": [
       "<div>\n",
       "<style scoped>\n",
       "    .dataframe tbody tr th:only-of-type {\n",
       "        vertical-align: middle;\n",
       "    }\n",
       "\n",
       "    .dataframe tbody tr th {\n",
       "        vertical-align: top;\n",
       "    }\n",
       "\n",
       "    .dataframe thead th {\n",
       "        text-align: right;\n",
       "    }\n",
       "</style>\n",
       "<table border=\"1\" class=\"dataframe\">\n",
       "  <thead>\n",
       "    <tr style=\"text-align: right;\">\n",
       "      <th></th>\n",
       "      <th>pixels</th>\n",
       "      <th>customer_id</th>\n",
       "      <th>聚类类别</th>\n",
       "      <th>group0</th>\n",
       "      <th>per1</th>\n",
       "      <th>per2</th>\n",
       "      <th>per3</th>\n",
       "    </tr>\n",
       "  </thead>\n",
       "  <tbody>\n",
       "    <tr>\n",
       "      <th>0</th>\n",
       "      <td>(nan, nan)</td>\n",
       "      <td>15322</td>\n",
       "      <td>5990</td>\n",
       "      <td>9332</td>\n",
       "      <td>0.213571</td>\n",
       "      <td>0.204492</td>\n",
       "      <td>0.229440</td>\n",
       "    </tr>\n",
       "    <tr>\n",
       "      <th>1</th>\n",
       "      <td>(1280.0, 720.0)</td>\n",
       "      <td>13326</td>\n",
       "      <td>4597</td>\n",
       "      <td>8729</td>\n",
       "      <td>0.185749</td>\n",
       "      <td>0.191279</td>\n",
       "      <td>0.176083</td>\n",
       "    </tr>\n",
       "    <tr>\n",
       "      <th>2</th>\n",
       "      <td>(1920.0, 1080.0)</td>\n",
       "      <td>9558</td>\n",
       "      <td>3394</td>\n",
       "      <td>6164</td>\n",
       "      <td>0.133227</td>\n",
       "      <td>0.135072</td>\n",
       "      <td>0.130003</td>\n",
       "    </tr>\n",
       "    <tr>\n",
       "      <th>3</th>\n",
       "      <td>(1424.0, 720.0)</td>\n",
       "      <td>3996</td>\n",
       "      <td>1130</td>\n",
       "      <td>2866</td>\n",
       "      <td>0.055700</td>\n",
       "      <td>0.062803</td>\n",
       "      <td>0.043283</td>\n",
       "    </tr>\n",
       "    <tr>\n",
       "      <th>4</th>\n",
       "      <td>(1344.0, 720.0)</td>\n",
       "      <td>2577</td>\n",
       "      <td>829</td>\n",
       "      <td>1748</td>\n",
       "      <td>0.035920</td>\n",
       "      <td>0.038304</td>\n",
       "      <td>0.031754</td>\n",
       "    </tr>\n",
       "    <tr>\n",
       "      <th>5</th>\n",
       "      <td>(1436.0, 720.0)</td>\n",
       "      <td>2157</td>\n",
       "      <td>659</td>\n",
       "      <td>1498</td>\n",
       "      <td>0.030066</td>\n",
       "      <td>0.032826</td>\n",
       "      <td>0.025242</td>\n",
       "    </tr>\n",
       "    <tr>\n",
       "      <th>6</th>\n",
       "      <td>(2030.0, 1080.0)</td>\n",
       "      <td>2055</td>\n",
       "      <td>676</td>\n",
       "      <td>1379</td>\n",
       "      <td>0.028644</td>\n",
       "      <td>0.030218</td>\n",
       "      <td>0.025893</td>\n",
       "    </tr>\n",
       "    <tr>\n",
       "      <th>7</th>\n",
       "      <td>(960.0, 540.0)</td>\n",
       "      <td>1464</td>\n",
       "      <td>481</td>\n",
       "      <td>983</td>\n",
       "      <td>0.020406</td>\n",
       "      <td>0.021540</td>\n",
       "      <td>0.018424</td>\n",
       "    </tr>\n",
       "    <tr>\n",
       "      <th>8</th>\n",
       "      <td>(2016.0, 1080.0)</td>\n",
       "      <td>1406</td>\n",
       "      <td>599</td>\n",
       "      <td>807</td>\n",
       "      <td>0.019598</td>\n",
       "      <td>0.017684</td>\n",
       "      <td>0.022944</td>\n",
       "    </tr>\n",
       "    <tr>\n",
       "      <th>9</th>\n",
       "      <td>(2196.0, 1080.0)</td>\n",
       "      <td>1356</td>\n",
       "      <td>544</td>\n",
       "      <td>812</td>\n",
       "      <td>0.018901</td>\n",
       "      <td>0.017793</td>\n",
       "      <td>0.020837</td>\n",
       "    </tr>\n",
       "  </tbody>\n",
       "</table>\n",
       "</div>"
      ],
      "text/plain": [
       "             pixels  customer_id  聚类类别  group0      per1      per2      per3\n",
       "0        (nan, nan)        15322  5990    9332  0.213571  0.204492  0.229440\n",
       "1   (1280.0, 720.0)        13326  4597    8729  0.185749  0.191279  0.176083\n",
       "2  (1920.0, 1080.0)         9558  3394    6164  0.133227  0.135072  0.130003\n",
       "3   (1424.0, 720.0)         3996  1130    2866  0.055700  0.062803  0.043283\n",
       "4   (1344.0, 720.0)         2577   829    1748  0.035920  0.038304  0.031754\n",
       "5   (1436.0, 720.0)         2157   659    1498  0.030066  0.032826  0.025242\n",
       "6  (2030.0, 1080.0)         2055   676    1379  0.028644  0.030218  0.025893\n",
       "7    (960.0, 540.0)         1464   481     983  0.020406  0.021540  0.018424\n",
       "8  (2016.0, 1080.0)         1406   599     807  0.019598  0.017684  0.022944\n",
       "9  (2196.0, 1080.0)         1356   544     812  0.018901  0.017793  0.020837"
      ]
     },
     "execution_count": 17,
     "metadata": {},
     "output_type": "execute_result"
    },
    {
     "data": {
      "text/plain": [
       "<Figure size 432x288 with 0 Axes>"
      ]
     },
     "execution_count": 17,
     "metadata": {},
     "output_type": "execute_result"
    },
    {
     "data": {
      "text/plain": [
       "<BarContainer object of 10 artists>"
      ]
     },
     "execution_count": 17,
     "metadata": {},
     "output_type": "execute_result"
    },
    {
     "data": {
      "text/plain": [
       "Text(0, 0.21357085110534973, '0.21')"
      ]
     },
     "execution_count": 17,
     "metadata": {},
     "output_type": "execute_result"
    },
    {
     "data": {
      "text/plain": [
       "Text(1, 0.1857489336790165, '0.19')"
      ]
     },
     "execution_count": 17,
     "metadata": {},
     "output_type": "execute_result"
    },
    {
     "data": {
      "text/plain": [
       "Text(2, 0.1332273981768002, '0.13')"
      ]
     },
     "execution_count": 17,
     "metadata": {},
     "output_type": "execute_result"
    },
    {
     "data": {
      "text/plain": [
       "Text(3, 0.055699590198210254, '0.06')"
      ]
     },
     "execution_count": 17,
     "metadata": {},
     "output_type": "execute_result"
    },
    {
     "data": {
      "text/plain": [
       "Text(4, 0.03592038136656352, '0.04')"
      ]
     },
     "execution_count": 17,
     "metadata": {},
     "output_type": "execute_result"
    },
    {
     "data": {
      "text/plain": [
       "Text(5, 0.03006607008446935, '0.03')"
      ]
     },
     "execution_count": 17,
     "metadata": {},
     "output_type": "execute_result"
    },
    {
     "data": {
      "text/plain": [
       "Text(6, 0.02864430877310362, '0.03')"
      ]
     },
     "execution_count": 17,
     "metadata": {},
     "output_type": "execute_result"
    },
    {
     "data": {
      "text/plain": [
       "Text(7, 0.020406456469013966, '0.02')"
      ]
     },
     "execution_count": 17,
     "metadata": {},
     "output_type": "execute_result"
    },
    {
     "data": {
      "text/plain": [
       "Text(8, 0.019598003958629533, '0.02')"
      ]
     },
     "execution_count": 17,
     "metadata": {},
     "output_type": "execute_result"
    },
    {
     "data": {
      "text/plain": [
       "Text(9, 0.018901062139332608, '0.02')"
      ]
     },
     "execution_count": 17,
     "metadata": {},
     "output_type": "execute_result"
    },
    {
     "data": {
      "text/plain": [
       "<BarContainer object of 10 artists>"
      ]
     },
     "execution_count": 17,
     "metadata": {},
     "output_type": "execute_result"
    },
    {
     "data": {
      "text/plain": [
       "Text(0.25, 0.20449216610058069, '0.20')"
      ]
     },
     "execution_count": 17,
     "metadata": {},
     "output_type": "execute_result"
    },
    {
     "data": {
      "text/plain": [
       "Text(1.25, 0.19127862386326286, '0.19')"
      ]
     },
     "execution_count": 17,
     "metadata": {},
     "output_type": "execute_result"
    },
    {
     "data": {
      "text/plain": [
       "Text(2.25, 0.13507176509258245, '0.14')"
      ]
     },
     "execution_count": 17,
     "metadata": {},
     "output_type": "execute_result"
    },
    {
     "data": {
      "text/plain": [
       "Text(3.25, 0.06280267338665498, '0.06')"
      ]
     },
     "execution_count": 17,
     "metadata": {},
     "output_type": "execute_result"
    },
    {
     "data": {
      "text/plain": [
       "Text(4.25, 0.03830393338446368, '0.04')"
      ]
     },
     "execution_count": 17,
     "metadata": {},
     "output_type": "execute_result"
    },
    {
     "data": {
      "text/plain": [
       "Text(5.25, 0.0328256820422921, '0.03')"
      ]
     },
     "execution_count": 17,
     "metadata": {},
     "output_type": "execute_result"
    },
    {
     "data": {
      "text/plain": [
       "Text(6.25, 0.03021803440341843, '0.03')"
      ]
     },
     "execution_count": 17,
     "metadata": {},
     "output_type": "execute_result"
    },
    {
     "data": {
      "text/plain": [
       "Text(7.25, 0.02154048427741865, '0.02')"
      ]
     },
     "execution_count": 17,
     "metadata": {},
     "output_type": "execute_result"
    },
    {
     "data": {
      "text/plain": [
       "Text(8.25, 0.017683795332529856, '0.02')"
      ]
     },
     "execution_count": 17,
     "metadata": {},
     "output_type": "execute_result"
    },
    {
     "data": {
      "text/plain": [
       "Text(9.25, 0.01779336035937329, '0.02')"
      ]
     },
     "execution_count": 17,
     "metadata": {},
     "output_type": "execute_result"
    },
    {
     "data": {
      "text/plain": [
       "<BarContainer object of 10 artists>"
      ]
     },
     "execution_count": 17,
     "metadata": {},
     "output_type": "execute_result"
    },
    {
     "data": {
      "text/plain": [
       "Text(0.5, 0.22944037997471942, '0.23')"
      ]
     },
     "execution_count": 17,
     "metadata": {},
     "output_type": "execute_result"
    },
    {
     "data": {
      "text/plain": [
       "Text(1.5, 0.17608304286206763, '0.18')"
      ]
     },
     "execution_count": 17,
     "metadata": {},
     "output_type": "execute_result"
    },
    {
     "data": {
      "text/plain": [
       "Text(2.5, 0.1300034473512851, '0.13')"
      ]
     },
     "execution_count": 17,
     "metadata": {},
     "output_type": "execute_result"
    },
    {
     "data": {
      "text/plain": [
       "Text(3.5, 0.04328341057953806, '0.04')"
      ]
     },
     "execution_count": 17,
     "metadata": {},
     "output_type": "execute_result"
    },
    {
     "data": {
      "text/plain": [
       "Text(4.5, 0.03175393572605049, '0.03')"
      ]
     },
     "execution_count": 17,
     "metadata": {},
     "output_type": "execute_result"
    },
    {
     "data": {
      "text/plain": [
       "Text(5.5, 0.02524227218753591, '0.03')"
      ]
     },
     "execution_count": 17,
     "metadata": {},
     "output_type": "execute_result"
    },
    {
     "data": {
      "text/plain": [
       "Text(6.5, 0.025893438541387367, '0.03')"
      ]
     },
     "execution_count": 17,
     "metadata": {},
     "output_type": "execute_result"
    },
    {
     "data": {
      "text/plain": [
       "Text(7.5, 0.018424177423679473, '0.02')"
      ]
     },
     "execution_count": 17,
     "metadata": {},
     "output_type": "execute_result"
    },
    {
     "data": {
      "text/plain": [
       "Text(8.5, 0.022944037997471942, '0.02')"
      ]
     },
     "execution_count": 17,
     "metadata": {},
     "output_type": "execute_result"
    },
    {
     "data": {
      "text/plain": [
       "Text(9.5, 0.02083732332324664, '0.02')"
      ]
     },
     "execution_count": 17,
     "metadata": {},
     "output_type": "execute_result"
    },
    {
     "data": {
      "text/plain": [
       "([<matplotlib.axis.XTick at 0x1a2e57e910>,\n",
       "  <matplotlib.axis.XTick at 0x1a73908ad0>,\n",
       "  <matplotlib.axis.XTick at 0x1a2e9ad9d0>,\n",
       "  <matplotlib.axis.XTick at 0x1a2f05c9d0>,\n",
       "  <matplotlib.axis.XTick at 0x1a2f05c390>,\n",
       "  <matplotlib.axis.XTick at 0x1a2f05c550>,\n",
       "  <matplotlib.axis.XTick at 0x1a2f025d90>,\n",
       "  <matplotlib.axis.XTick at 0x1a2f025650>,\n",
       "  <matplotlib.axis.XTick at 0x1a2f04ce50>,\n",
       "  <matplotlib.axis.XTick at 0x1a2f04c250>],\n",
       " <a list of 10 Text xticklabel objects>)"
      ]
     },
     "execution_count": 17,
     "metadata": {},
     "output_type": "execute_result"
    },
    {
     "data": {
      "text/plain": [
       "Text(0.5, 1.0, 'dist of pixels')"
      ]
     },
     "execution_count": 17,
     "metadata": {},
     "output_type": "execute_result"
    },
    {
     "data": {
      "text/plain": [
       "<matplotlib.legend.Legend at 0x1a2eb46a10>"
      ]
     },
     "execution_count": 17,
     "metadata": {},
     "output_type": "execute_result"
    },
    {
     "data": {
      "image/png": "[encoded data removed]",
      "text/plain": [
       "<Figure size 432x288 with 1 Axes>"
      ]
     },
     "metadata": {
      "needs_background": "light"
     },
     "output_type": "display_data"
    },
    {
     "data": {
      "text/html": [
       "<div>\n",
       "<style scoped>\n",
       "    .dataframe tbody tr th:only-of-type {\n",
       "        vertical-align: middle;\n",
       "    }\n",
       "\n",
       "    .dataframe tbody tr th {\n",
       "        vertical-align: top;\n",
       "    }\n",
       "\n",
       "    .dataframe thead th {\n",
       "        text-align: right;\n",
       "    }\n",
       "</style>\n",
       "<table border=\"1\" class=\"dataframe\">\n",
       "  <thead>\n",
       "    <tr style=\"text-align: right;\">\n",
       "      <th></th>\n",
       "      <th>model</th>\n",
       "      <th>customer_id</th>\n",
       "      <th>聚类类别</th>\n",
       "      <th>group0</th>\n",
       "      <th>per1</th>\n",
       "      <th>per2</th>\n",
       "      <th>per3</th>\n",
       "    </tr>\n",
       "  </thead>\n",
       "  <tbody>\n",
       "    <tr>\n",
       "      <th>0</th>\n",
       "      <td>none</td>\n",
       "      <td>62570</td>\n",
       "      <td>23008</td>\n",
       "      <td>39562</td>\n",
       "      <td>0.872153</td>\n",
       "      <td>0.866922</td>\n",
       "      <td>0.881296</td>\n",
       "    </tr>\n",
       "    <tr>\n",
       "      <th>1</th>\n",
       "      <td>redmi note 4</td>\n",
       "      <td>962</td>\n",
       "      <td>65</td>\n",
       "      <td>897</td>\n",
       "      <td>0.013409</td>\n",
       "      <td>0.019656</td>\n",
       "      <td>0.002490</td>\n",
       "    </tr>\n",
       "    <tr>\n",
       "      <th>2</th>\n",
       "      <td>cph1803</td>\n",
       "      <td>270</td>\n",
       "      <td>92</td>\n",
       "      <td>178</td>\n",
       "      <td>0.003763</td>\n",
       "      <td>0.003901</td>\n",
       "      <td>0.003524</td>\n",
       "    </tr>\n",
       "    <tr>\n",
       "      <th>3</th>\n",
       "      <td>a37f</td>\n",
       "      <td>169</td>\n",
       "      <td>55</td>\n",
       "      <td>114</td>\n",
       "      <td>0.002356</td>\n",
       "      <td>0.002498</td>\n",
       "      <td>0.002107</td>\n",
       "    </tr>\n",
       "    <tr>\n",
       "      <th>4</th>\n",
       "      <td>redmi 4a</td>\n",
       "      <td>164</td>\n",
       "      <td>50</td>\n",
       "      <td>114</td>\n",
       "      <td>0.002286</td>\n",
       "      <td>0.002498</td>\n",
       "      <td>0.001915</td>\n",
       "    </tr>\n",
       "    <tr>\n",
       "      <th>5</th>\n",
       "      <td>sh-04h</td>\n",
       "      <td>161</td>\n",
       "      <td>2</td>\n",
       "      <td>159</td>\n",
       "      <td>0.002244</td>\n",
       "      <td>0.003484</td>\n",
       "      <td>0.000077</td>\n",
       "    </tr>\n",
       "    <tr>\n",
       "      <th>6</th>\n",
       "      <td>cph1909</td>\n",
       "      <td>147</td>\n",
       "      <td>36</td>\n",
       "      <td>111</td>\n",
       "      <td>0.002049</td>\n",
       "      <td>0.002432</td>\n",
       "      <td>0.001379</td>\n",
       "    </tr>\n",
       "    <tr>\n",
       "      <th>7</th>\n",
       "      <td>cph1819</td>\n",
       "      <td>145</td>\n",
       "      <td>72</td>\n",
       "      <td>73</td>\n",
       "      <td>0.002021</td>\n",
       "      <td>0.001600</td>\n",
       "      <td>0.002758</td>\n",
       "    </tr>\n",
       "    <tr>\n",
       "      <th>8</th>\n",
       "      <td>sm-g610f</td>\n",
       "      <td>143</td>\n",
       "      <td>50</td>\n",
       "      <td>93</td>\n",
       "      <td>0.001993</td>\n",
       "      <td>0.002038</td>\n",
       "      <td>0.001915</td>\n",
       "    </tr>\n",
       "    <tr>\n",
       "      <th>9</th>\n",
       "      <td>cph1823</td>\n",
       "      <td>142</td>\n",
       "      <td>62</td>\n",
       "      <td>80</td>\n",
       "      <td>0.001979</td>\n",
       "      <td>0.001753</td>\n",
       "      <td>0.002375</td>\n",
       "    </tr>\n",
       "  </tbody>\n",
       "</table>\n",
       "</div>"
      ],
      "text/plain": [
       "          model  customer_id   聚类类别  group0      per1      per2      per3\n",
       "0          none        62570  23008   39562  0.872153  0.866922  0.881296\n",
       "1  redmi note 4          962     65     897  0.013409  0.019656  0.002490\n",
       "2       cph1803          270     92     178  0.003763  0.003901  0.003524\n",
       "3          a37f          169     55     114  0.002356  0.002498  0.002107\n",
       "4      redmi 4a          164     50     114  0.002286  0.002498  0.001915\n",
       "5        sh-04h          161      2     159  0.002244  0.003484  0.000077\n",
       "6       cph1909          147     36     111  0.002049  0.002432  0.001379\n",
       "7       cph1819          145     72      73  0.002021  0.001600  0.002758\n",
       "8      sm-g610f          143     50      93  0.001993  0.002038  0.001915\n",
       "9       cph1823          142     62      80  0.001979  0.001753  0.002375"
      ]
     },
     "execution_count": 17,
     "metadata": {},
     "output_type": "execute_result"
    },
    {
     "data": {
      "text/plain": [
       "<Figure size 432x288 with 0 Axes>"
      ]
     },
     "execution_count": 17,
     "metadata": {},
     "output_type": "execute_result"
    },
    {
     "data": {
      "text/plain": [
       "<BarContainer object of 10 artists>"
      ]
     },
     "execution_count": 17,
     "metadata": {},
     "output_type": "execute_result"
    },
    {
     "data": {
      "text/plain": [
       "Text(0, 0.872152992668172, '0.87')"
      ]
     },
     "execution_count": 17,
     "metadata": {},
     "output_type": "execute_result"
    },
    {
     "data": {
      "text/plain": [
       "Text(1, 0.01340916060327284, '0.01')"
      ]
     },
     "execution_count": 17,
     "metadata": {},
     "output_type": "execute_result"
    },
    {
     "data": {
      "text/plain": [
       "Text(2, 0.0037634858242033956, '0.00')"
      ]
     },
     "execution_count": 17,
     "metadata": {},
     "output_type": "execute_result"
    },
    {
     "data": {
      "text/plain": [
       "Text(3, 0.0023556633492236067, '0.00')"
      ]
     },
     "execution_count": 17,
     "metadata": {},
     "output_type": "execute_result"
    },
    {
     "data": {
      "text/plain": [
       "Text(4, 0.0022859691672939145, '0.00')"
      ]
     },
     "execution_count": 17,
     "metadata": {},
     "output_type": "execute_result"
    },
    {
     "data": {
      "text/plain": [
       "Text(5, 0.0022441526581360987, '0.00')"
      ]
     },
     "execution_count": 17,
     "metadata": {},
     "output_type": "execute_result"
    },
    {
     "data": {
      "text/plain": [
       "Text(6, 0.00204900894873296, '0.00')"
      ]
     },
     "execution_count": 17,
     "metadata": {},
     "output_type": "execute_result"
    },
    {
     "data": {
      "text/plain": [
       "Text(7, 0.0020211312759610828, '0.00')"
      ]
     },
     "execution_count": 17,
     "metadata": {},
     "output_type": "execute_result"
    },
    {
     "data": {
      "text/plain": [
       "Text(8, 0.0019932536031892056, '0.00')"
      ]
     },
     "execution_count": 17,
     "metadata": {},
     "output_type": "execute_result"
    },
    {
     "data": {
      "text/plain": [
       "Text(9, 0.0019793147668032674, '0.00')"
      ]
     },
     "execution_count": 17,
     "metadata": {},
     "output_type": "execute_result"
    },
    {
     "data": {
      "text/plain": [
       "<BarContainer object of 10 artists>"
      ]
     },
     "execution_count": 17,
     "metadata": {},
     "output_type": "execute_result"
    },
    {
     "data": {
      "text/plain": [
       "Text(0.25, 0.866922318395968, '0.87')"
      ]
     },
     "execution_count": 17,
     "metadata": {},
     "output_type": "execute_result"
    },
    {
     "data": {
      "text/plain": [
       "Text(1.25, 0.019655965815711624, '0.02')"
      ]
     },
     "execution_count": 17,
     "metadata": {},
     "output_type": "execute_result"
    },
    {
     "data": {
      "text/plain": [
       "Text(2.25, 0.003900514955626164, '0.00')"
      ]
     },
     "execution_count": 17,
     "metadata": {},
     "output_type": "execute_result"
    },
    {
     "data": {
      "text/plain": [
       "Text(3.25, 0.00249808261203024, '0.00')"
      ]
     },
     "execution_count": 17,
     "metadata": {},
     "output_type": "execute_result"
    },
    {
     "data": {
      "text/plain": [
       "Text(4.25, 0.00249808261203024, '0.00')"
      ]
     },
     "execution_count": 17,
     "metadata": {},
     "output_type": "execute_result"
    },
    {
     "data": {
      "text/plain": [
       "Text(5.25, 0.003484167853621124, '0.00')"
      ]
     },
     "execution_count": 17,
     "metadata": {},
     "output_type": "execute_result"
    },
    {
     "data": {
      "text/plain": [
       "Text(6.25, 0.002432343595924181, '0.00')"
      ]
     },
     "execution_count": 17,
     "metadata": {},
     "output_type": "execute_result"
    },
    {
     "data": {
      "text/plain": [
       "Text(7.25, 0.001599649391914101, '0.00')"
      ]
     },
     "execution_count": 17,
     "metadata": {},
     "output_type": "execute_result"
    },
    {
     "data": {
      "text/plain": [
       "Text(8.25, 0.0020379094992878273, '0.00')"
      ]
     },
     "execution_count": 17,
     "metadata": {},
     "output_type": "execute_result"
    },
    {
     "data": {
      "text/plain": [
       "Text(9.25, 0.0017530404294949053, '0.00')"
      ]
     },
     "execution_count": 17,
     "metadata": {},
     "output_type": "execute_result"
    },
    {
     "data": {
      "text/plain": [
       "<BarContainer object of 10 artists>"
      ]
     },
     "execution_count": 17,
     "metadata": {},
     "output_type": "execute_result"
    },
    {
     "data": {
      "text/plain": [
       "Text(0.5, 0.8812962040831961, '0.88')"
      ]
     },
     "execution_count": 17,
     "metadata": {},
     "output_type": "execute_result"
    },
    {
     "data": {
      "text/plain": [
       "Text(1.5, 0.0024897537059026314, '0.00')"
      ]
     },
     "execution_count": 17,
     "metadata": {},
     "output_type": "execute_result"
    },
    {
     "data": {
      "text/plain": [
       "Text(2.5, 0.003523959091431417, '0.00')"
      ]
     },
     "execution_count": 17,
     "metadata": {},
     "output_type": "execute_result"
    },
    {
     "data": {
      "text/plain": [
       "Text(3.5, 0.0021067146742253036, '0.00')"
      ]
     },
     "execution_count": 17,
     "metadata": {},
     "output_type": "execute_result"
    },
    {
     "data": {
      "text/plain": [
       "Text(4.5, 0.0019151951583866397, '0.00')"
      ]
     },
     "execution_count": 17,
     "metadata": {},
     "output_type": "execute_result"
    },
    {
     "data": {
      "text/plain": [
       "Text(5.5, 7.660780633546558e-05, '0.00')"
      ]
     },
     "execution_count": 17,
     "metadata": {},
     "output_type": "execute_result"
    },
    {
     "data": {
      "text/plain": [
       "Text(6.5, 0.0013789405140383806, '0.00')"
      ]
     },
     "execution_count": 17,
     "metadata": {},
     "output_type": "execute_result"
    },
    {
     "data": {
      "text/plain": [
       "Text(7.5, 0.002757881028076761, '0.00')"
      ]
     },
     "execution_count": 17,
     "metadata": {},
     "output_type": "execute_result"
    },
    {
     "data": {
      "text/plain": [
       "Text(8.5, 0.0019151951583866397, '0.00')"
      ]
     },
     "execution_count": 17,
     "metadata": {},
     "output_type": "execute_result"
    },
    {
     "data": {
      "text/plain": [
       "Text(9.5, 0.002374841996399433, '0.00')"
      ]
     },
     "execution_count": 17,
     "metadata": {},
     "output_type": "execute_result"
    },
    {
     "data": {
      "text/plain": [
       "([<matplotlib.axis.XTick at 0x1a73907790>,\n",
       "  <matplotlib.axis.XTick at 0x1a2ffd0850>,\n",
       "  <matplotlib.axis.XTick at 0x1a2ffd0110>,\n",
       "  <matplotlib.axis.XTick at 0x1a42891910>,\n",
       "  <matplotlib.axis.XTick at 0x1a42891710>,\n",
       "  <matplotlib.axis.XTick at 0x1a42891450>,\n",
       "  <matplotlib.axis.XTick at 0x1a4286ce10>,\n",
       "  <matplotlib.axis.XTick at 0x1a4286cc50>,\n",
       "  <matplotlib.axis.XTick at 0x1a427d2990>,\n",
       "  <matplotlib.axis.XTick at 0x1a427d2650>],\n",
       " <a list of 10 Text xticklabel objects>)"
      ]
     },
     "execution_count": 17,
     "metadata": {},
     "output_type": "execute_result"
    },
    {
     "data": {
      "text/plain": [
       "Text(0.5, 1.0, 'dist of model')"
      ]
     },
     "execution_count": 17,
     "metadata": {},
     "output_type": "execute_result"
    },
    {
     "data": {
      "text/plain": [
       "<matplotlib.legend.Legend at 0x1a3fc3d250>"
      ]
     },
     "execution_count": 17,
     "metadata": {},
     "output_type": "execute_result"
    },
    {
     "data": {
      "image/png": "[encoded data removed]",
      "text/plain": [
       "<Figure size 432x288 with 1 Axes>"
      ]
     },
     "metadata": {
      "needs_background": "light"
     },
     "output_type": "display_data"
    },
    {
     "data": {
      "text/html": [
       "<div>\n",
       "<style scoped>\n",
       "    .dataframe tbody tr th:only-of-type {\n",
       "        vertical-align: middle;\n",
       "    }\n",
       "\n",
       "    .dataframe tbody tr th {\n",
       "        vertical-align: top;\n",
       "    }\n",
       "\n",
       "    .dataframe thead th {\n",
       "        text-align: right;\n",
       "    }\n",
       "</style>\n",
       "<table border=\"1\" class=\"dataframe\">\n",
       "  <thead>\n",
       "    <tr style=\"text-align: right;\">\n",
       "      <th></th>\n",
       "      <th>manufacturer</th>\n",
       "      <th>customer_id</th>\n",
       "      <th>聚类类别</th>\n",
       "      <th>group0</th>\n",
       "      <th>per1</th>\n",
       "      <th>per2</th>\n",
       "      <th>per3</th>\n",
       "    </tr>\n",
       "  </thead>\n",
       "  <tbody>\n",
       "    <tr>\n",
       "      <th>0</th>\n",
       "      <td>none</td>\n",
       "      <td>15322</td>\n",
       "      <td>5990</td>\n",
       "      <td>9332</td>\n",
       "      <td>0.213571</td>\n",
       "      <td>0.204492</td>\n",
       "      <td>0.229440</td>\n",
       "    </tr>\n",
       "    <tr>\n",
       "      <th>1</th>\n",
       "      <td>xiaomi</td>\n",
       "      <td>14720</td>\n",
       "      <td>4684</td>\n",
       "      <td>10036</td>\n",
       "      <td>0.205180</td>\n",
       "      <td>0.219919</td>\n",
       "      <td>0.179415</td>\n",
       "    </tr>\n",
       "    <tr>\n",
       "      <th>2</th>\n",
       "      <td>oppo</td>\n",
       "      <td>14339</td>\n",
       "      <td>5128</td>\n",
       "      <td>9211</td>\n",
       "      <td>0.199869</td>\n",
       "      <td>0.201841</td>\n",
       "      <td>0.196422</td>\n",
       "    </tr>\n",
       "    <tr>\n",
       "      <th>3</th>\n",
       "      <td>samsung</td>\n",
       "      <td>12811</td>\n",
       "      <td>5326</td>\n",
       "      <td>7485</td>\n",
       "      <td>0.178570</td>\n",
       "      <td>0.164019</td>\n",
       "      <td>0.204007</td>\n",
       "    </tr>\n",
       "    <tr>\n",
       "      <th>4</th>\n",
       "      <td>vivo</td>\n",
       "      <td>6611</td>\n",
       "      <td>2340</td>\n",
       "      <td>4271</td>\n",
       "      <td>0.092150</td>\n",
       "      <td>0.093590</td>\n",
       "      <td>0.089631</td>\n",
       "    </tr>\n",
       "    <tr>\n",
       "      <th>5</th>\n",
       "      <td>asus</td>\n",
       "      <td>2247</td>\n",
       "      <td>809</td>\n",
       "      <td>1438</td>\n",
       "      <td>0.031321</td>\n",
       "      <td>0.031511</td>\n",
       "      <td>0.030988</td>\n",
       "    </tr>\n",
       "    <tr>\n",
       "      <th>6</th>\n",
       "      <td>lenovo</td>\n",
       "      <td>777</td>\n",
       "      <td>285</td>\n",
       "      <td>492</td>\n",
       "      <td>0.010830</td>\n",
       "      <td>0.010781</td>\n",
       "      <td>0.010917</td>\n",
       "    </tr>\n",
       "    <tr>\n",
       "      <th>7</th>\n",
       "      <td>realme</td>\n",
       "      <td>611</td>\n",
       "      <td>191</td>\n",
       "      <td>420</td>\n",
       "      <td>0.008517</td>\n",
       "      <td>0.009203</td>\n",
       "      <td>0.007316</td>\n",
       "    </tr>\n",
       "    <tr>\n",
       "      <th>8</th>\n",
       "      <td>huawei</td>\n",
       "      <td>553</td>\n",
       "      <td>220</td>\n",
       "      <td>333</td>\n",
       "      <td>0.007708</td>\n",
       "      <td>0.007297</td>\n",
       "      <td>0.008427</td>\n",
       "    </tr>\n",
       "    <tr>\n",
       "      <th>9</th>\n",
       "      <td>sony</td>\n",
       "      <td>502</td>\n",
       "      <td>161</td>\n",
       "      <td>341</td>\n",
       "      <td>0.006997</td>\n",
       "      <td>0.007472</td>\n",
       "      <td>0.006167</td>\n",
       "    </tr>\n",
       "  </tbody>\n",
       "</table>\n",
       "</div>"
      ],
      "text/plain": [
       "  manufacturer  customer_id  聚类类别  group0      per1      per2      per3\n",
       "0         none        15322  5990    9332  0.213571  0.204492  0.229440\n",
       "1       xiaomi        14720  4684   10036  0.205180  0.219919  0.179415\n",
       "2         oppo        14339  5128    9211  0.199869  0.201841  0.196422\n",
       "3      samsung        12811  5326    7485  0.178570  0.164019  0.204007\n",
       "4         vivo         6611  2340    4271  0.092150  0.093590  0.089631\n",
       "5         asus         2247   809    1438  0.031321  0.031511  0.030988\n",
       "6       lenovo          777   285     492  0.010830  0.010781  0.010917\n",
       "7       realme          611   191     420  0.008517  0.009203  0.007316\n",
       "8       huawei          553   220     333  0.007708  0.007297  0.008427\n",
       "9         sony          502   161     341  0.006997  0.007472  0.006167"
      ]
     },
     "execution_count": 17,
     "metadata": {},
     "output_type": "execute_result"
    },
    {
     "data": {
      "text/plain": [
       "<Figure size 432x288 with 0 Axes>"
      ]
     },
     "execution_count": 17,
     "metadata": {},
     "output_type": "execute_result"
    },
    {
     "data": {
      "text/plain": [
       "<BarContainer object of 10 artists>"
      ]
     },
     "execution_count": 17,
     "metadata": {},
     "output_type": "execute_result"
    },
    {
     "data": {
      "text/plain": [
       "Text(0, 0.21357085110534973, '0.21')"
      ]
     },
     "execution_count": 17,
     "metadata": {},
     "output_type": "execute_result"
    },
    {
     "data": {
      "text/plain": [
       "Text(1, 0.20517967160101475, '0.21')"
      ]
     },
     "execution_count": 17,
     "metadata": {},
     "output_type": "execute_result"
    },
    {
     "data": {
      "text/plain": [
       "Text(2, 0.19986897493797218, '0.20')"
      ]
     },
     "execution_count": 17,
     "metadata": {},
     "output_type": "execute_result"
    },
    {
     "data": {
      "text/plain": [
       "Text(3, 0.17857043294025815, '0.18')"
      ]
     },
     "execution_count": 17,
     "metadata": {},
     "output_type": "execute_result"
    },
    {
     "data": {
      "text/plain": [
       "Text(4, 0.09214964734743944, '0.09')"
      ]
     },
     "execution_count": 17,
     "metadata": {},
     "output_type": "execute_result"
    },
    {
     "data": {
      "text/plain": [
       "Text(5, 0.031320565359203814, '0.03')"
      ]
     },
     "execution_count": 17,
     "metadata": {},
     "output_type": "execute_result"
    },
    {
     "data": {
      "text/plain": [
       "Text(6, 0.010830475871874216, '0.01')"
      ]
     },
     "execution_count": 17,
     "metadata": {},
     "output_type": "execute_result"
    },
    {
     "data": {
      "text/plain": [
       "Text(7, 0.008516629031808425, '0.01')"
      ]
     },
     "execution_count": 17,
     "metadata": {},
     "output_type": "execute_result"
    },
    {
     "data": {
      "text/plain": [
       "Text(8, 0.007708176521423991, '0.01')"
      ]
     },
     "execution_count": 17,
     "metadata": {},
     "output_type": "execute_result"
    },
    {
     "data": {
      "text/plain": [
       "Text(9, 0.006997295865741128, '0.01')"
      ]
     },
     "execution_count": 17,
     "metadata": {},
     "output_type": "execute_result"
    },
    {
     "data": {
      "text/plain": [
       "<BarContainer object of 10 artists>"
      ]
     },
     "execution_count": 17,
     "metadata": {},
     "output_type": "execute_result"
    },
    {
     "data": {
      "text/plain": [
       "Text(0.25, 0.20449216610058069, '0.20')"
      ]
     },
     "execution_count": 17,
     "metadata": {},
     "output_type": "execute_result"
    },
    {
     "data": {
      "text/plain": [
       "Text(1.25, 0.21991892188013587, '0.22')"
      ]
     },
     "execution_count": 17,
     "metadata": {},
     "output_type": "execute_result"
    },
    {
     "data": {
      "text/plain": [
       "Text(2.25, 0.20184069245096964, '0.20')"
      ]
     },
     "execution_count": 17,
     "metadata": {},
     "output_type": "execute_result"
    },
    {
     "data": {
      "text/plain": [
       "Text(3.25, 0.16401884518461707, '0.16')"
      ]
     },
     "execution_count": 17,
     "metadata": {},
     "output_type": "execute_result"
    },
    {
     "data": {
      "text/plain": [
       "Text(4.25, 0.09359044592965925, '0.09')"
      ]
     },
     "execution_count": 17,
     "metadata": {},
     "output_type": "execute_result"
    },
    {
     "data": {
      "text/plain": [
       "Text(5.25, 0.031510901720170924, '0.03')"
      ]
     },
     "execution_count": 17,
     "metadata": {},
     "output_type": "execute_result"
    },
    {
     "data": {
      "text/plain": [
       "Text(6.25, 0.010781198641393668, '0.01')"
      ]
     },
     "execution_count": 17,
     "metadata": {},
     "output_type": "execute_result"
    },
    {
     "data": {
      "text/plain": [
       "Text(7.25, 0.009203462254848253, '0.01')"
      ]
     },
     "execution_count": 17,
     "metadata": {},
     "output_type": "execute_result"
    },
    {
     "data": {
      "text/plain": [
       "Text(8.25, 0.007297030787772543, '0.01')"
      ]
     },
     "execution_count": 17,
     "metadata": {},
     "output_type": "execute_result"
    },
    {
     "data": {
      "text/plain": [
       "Text(9.25, 0.0074723348307220334, '0.01')"
      ]
     },
     "execution_count": 17,
     "metadata": {},
     "output_type": "execute_result"
    },
    {
     "data": {
      "text/plain": [
       "<BarContainer object of 10 artists>"
      ]
     },
     "execution_count": 17,
     "metadata": {},
     "output_type": "execute_result"
    },
    {
     "data": {
      "text/plain": [
       "Text(0.5, 0.22944037997471942, '0.23')"
      ]
     },
     "execution_count": 17,
     "metadata": {},
     "output_type": "execute_result"
    },
    {
     "data": {
      "text/plain": [
       "Text(1.5, 0.1794154824376604, '0.18')"
      ]
     },
     "execution_count": 17,
     "metadata": {},
     "output_type": "execute_result"
    },
    {
     "data": {
      "text/plain": [
       "Text(2.5, 0.19642241544413375, '0.20')"
      ]
     },
     "execution_count": 17,
     "metadata": {},
     "output_type": "execute_result"
    },
    {
     "data": {
      "text/plain": [
       "Text(3.5, 0.20400658827134485, '0.20')"
      ]
     },
     "execution_count": 17,
     "metadata": {},
     "output_type": "execute_result"
    },
    {
     "data": {
      "text/plain": [
       "Text(4.5, 0.08963113341249473, '0.09')"
      ]
     },
     "execution_count": 17,
     "metadata": {},
     "output_type": "execute_result"
    },
    {
     "data": {
      "text/plain": [
       "Text(5.5, 0.03098785766269583, '0.03')"
      ]
     },
     "execution_count": 17,
     "metadata": {},
     "output_type": "execute_result"
    },
    {
     "data": {
      "text/plain": [
       "Text(6.5, 0.010916612402803845, '0.01')"
      ]
     },
     "execution_count": 17,
     "metadata": {},
     "output_type": "execute_result"
    },
    {
     "data": {
      "text/plain": [
       "Text(7.5, 0.007316045505036963, '0.01')"
      ]
     },
     "execution_count": 17,
     "metadata": {},
     "output_type": "execute_result"
    },
    {
     "data": {
      "text/plain": [
       "Text(8.5, 0.008426858696901214, '0.01')"
      ]
     },
     "execution_count": 17,
     "metadata": {},
     "output_type": "execute_result"
    },
    {
     "data": {
      "text/plain": [
       "Text(9.5, 0.006166928410004979, '0.01')"
      ]
     },
     "execution_count": 17,
     "metadata": {},
     "output_type": "execute_result"
    },
    {
     "data": {
      "text/plain": [
       "([<matplotlib.axis.XTick at 0x1a4555b250>,\n",
       "  <matplotlib.axis.XTick at 0x1a4286ca90>,\n",
       "  <matplotlib.axis.XTick at 0x1a4286cdd0>,\n",
       "  <matplotlib.axis.XTick at 0x1a7de253d0>,\n",
       "  <matplotlib.axis.XTick at 0x1a7de27650>,\n",
       "  <matplotlib.axis.XTick at 0x1a7de29590>,\n",
       "  <matplotlib.axis.XTick at 0x1a7de2b910>,\n",
       "  <matplotlib.axis.XTick at 0x1a7de2cbd0>,\n",
       "  <matplotlib.axis.XTick at 0x1a7de2e510>,\n",
       "  <matplotlib.axis.XTick at 0x1a7de2f790>],\n",
       " <a list of 10 Text xticklabel objects>)"
      ]
     },
     "execution_count": 17,
     "metadata": {},
     "output_type": "execute_result"
    },
    {
     "data": {
      "text/plain": [
       "Text(0.5, 1.0, 'dist of manufacturer')"
      ]
     },
     "execution_count": 17,
     "metadata": {},
     "output_type": "execute_result"
    },
    {
     "data": {
      "text/plain": [
       "<matplotlib.legend.Legend at 0x1a7de23e50>"
      ]
     },
     "execution_count": 17,
     "metadata": {},
     "output_type": "execute_result"
    },
    {
     "data": {
      "image/png": "[encoded data removed]",
      "text/plain": [
       "<Figure size 432x288 with 1 Axes>"
      ]
     },
     "metadata": {
      "needs_background": "light"
     },
     "output_type": "display_data"
    },
    {
     "data": {
      "text/html": [
       "<div>\n",
       "<style scoped>\n",
       "    .dataframe tbody tr th:only-of-type {\n",
       "        vertical-align: middle;\n",
       "    }\n",
       "\n",
       "    .dataframe tbody tr th {\n",
       "        vertical-align: top;\n",
       "    }\n",
       "\n",
       "    .dataframe thead th {\n",
       "        text-align: right;\n",
       "    }\n",
       "</style>\n",
       "<table border=\"1\" class=\"dataframe\">\n",
       "  <thead>\n",
       "    <tr style=\"text-align: right;\">\n",
       "      <th></th>\n",
       "      <th>bank_code</th>\n",
       "      <th>customer_id</th>\n",
       "      <th>聚类类别</th>\n",
       "      <th>group0</th>\n",
       "      <th>per1</th>\n",
       "      <th>per2</th>\n",
       "      <th>per3</th>\n",
       "    </tr>\n",
       "  </thead>\n",
       "  <tbody>\n",
       "    <tr>\n",
       "      <th>0</th>\n",
       "      <td>BCA</td>\n",
       "      <td>38714</td>\n",
       "      <td>14986</td>\n",
       "      <td>23728</td>\n",
       "      <td>0.539628</td>\n",
       "      <td>0.519952</td>\n",
       "      <td>0.574022</td>\n",
       "    </tr>\n",
       "    <tr>\n",
       "      <th>1</th>\n",
       "      <td>BRI</td>\n",
       "      <td>11320</td>\n",
       "      <td>3129</td>\n",
       "      <td>8191</td>\n",
       "      <td>0.157788</td>\n",
       "      <td>0.179489</td>\n",
       "      <td>0.119853</td>\n",
       "    </tr>\n",
       "    <tr>\n",
       "      <th>2</th>\n",
       "      <td>MANDIRI</td>\n",
       "      <td>9453</td>\n",
       "      <td>3821</td>\n",
       "      <td>5632</td>\n",
       "      <td>0.131764</td>\n",
       "      <td>0.123414</td>\n",
       "      <td>0.146359</td>\n",
       "    </tr>\n",
       "    <tr>\n",
       "      <th>3</th>\n",
       "      <td>BNI</td>\n",
       "      <td>6850</td>\n",
       "      <td>2403</td>\n",
       "      <td>4447</td>\n",
       "      <td>0.095481</td>\n",
       "      <td>0.097447</td>\n",
       "      <td>0.092044</td>\n",
       "    </tr>\n",
       "    <tr>\n",
       "      <th>4</th>\n",
       "      <td>CIMB</td>\n",
       "      <td>1699</td>\n",
       "      <td>550</td>\n",
       "      <td>1149</td>\n",
       "      <td>0.023682</td>\n",
       "      <td>0.025178</td>\n",
       "      <td>0.021067</td>\n",
       "    </tr>\n",
       "    <tr>\n",
       "      <th>5</th>\n",
       "      <td>PERMATA</td>\n",
       "      <td>612</td>\n",
       "      <td>215</td>\n",
       "      <td>397</td>\n",
       "      <td>0.008531</td>\n",
       "      <td>0.008699</td>\n",
       "      <td>0.008235</td>\n",
       "    </tr>\n",
       "    <tr>\n",
       "      <th>6</th>\n",
       "      <td>DANAMON</td>\n",
       "      <td>335</td>\n",
       "      <td>115</td>\n",
       "      <td>220</td>\n",
       "      <td>0.004670</td>\n",
       "      <td>0.004821</td>\n",
       "      <td>0.004405</td>\n",
       "    </tr>\n",
       "    <tr>\n",
       "      <th>7</th>\n",
       "      <td>BTN</td>\n",
       "      <td>204</td>\n",
       "      <td>80</td>\n",
       "      <td>124</td>\n",
       "      <td>0.002844</td>\n",
       "      <td>0.002717</td>\n",
       "      <td>0.003064</td>\n",
       "    </tr>\n",
       "    <tr>\n",
       "      <th>8</th>\n",
       "      <td>MAYBANK</td>\n",
       "      <td>176</td>\n",
       "      <td>72</td>\n",
       "      <td>104</td>\n",
       "      <td>0.002453</td>\n",
       "      <td>0.002279</td>\n",
       "      <td>0.002758</td>\n",
       "    </tr>\n",
       "    <tr>\n",
       "      <th>9</th>\n",
       "      <td>PANIN</td>\n",
       "      <td>87</td>\n",
       "      <td>39</td>\n",
       "      <td>48</td>\n",
       "      <td>0.001213</td>\n",
       "      <td>0.001052</td>\n",
       "      <td>0.001494</td>\n",
       "    </tr>\n",
       "  </tbody>\n",
       "</table>\n",
       "</div>"
      ],
      "text/plain": [
       "  bank_code  customer_id   聚类类别  group0      per1      per2      per3\n",
       "0       BCA        38714  14986   23728  0.539628  0.519952  0.574022\n",
       "1       BRI        11320   3129    8191  0.157788  0.179489  0.119853\n",
       "2   MANDIRI         9453   3821    5632  0.131764  0.123414  0.146359\n",
       "3       BNI         6850   2403    4447  0.095481  0.097447  0.092044\n",
       "4      CIMB         1699    550    1149  0.023682  0.025178  0.021067\n",
       "5   PERMATA          612    215     397  0.008531  0.008699  0.008235\n",
       "6   DANAMON          335    115     220  0.004670  0.004821  0.004405\n",
       "7       BTN          204     80     124  0.002844  0.002717  0.003064\n",
       "8   MAYBANK          176     72     104  0.002453  0.002279  0.002758\n",
       "9     PANIN           87     39      48  0.001213  0.001052  0.001494"
      ]
     },
     "execution_count": 17,
     "metadata": {},
     "output_type": "execute_result"
    },
    {
     "data": {
      "text/plain": [
       "<Figure size 432x288 with 0 Axes>"
      ]
     },
     "execution_count": 17,
     "metadata": {},
     "output_type": "execute_result"
    },
    {
     "data": {
      "text/plain": [
       "<BarContainer object of 10 artists>"
      ]
     },
     "execution_count": 17,
     "metadata": {},
     "output_type": "execute_result"
    },
    {
     "data": {
      "text/plain": [
       "Text(0, 0.5396281118452232, '0.54')"
      ]
     },
     "execution_count": 17,
     "metadata": {},
     "output_type": "execute_result"
    },
    {
     "data": {
      "text/plain": [
       "Text(1, 0.15778762788882383, '0.16')"
      ]
     },
     "execution_count": 17,
     "metadata": {},
     "output_type": "execute_result"
    },
    {
     "data": {
      "text/plain": [
       "Text(2, 0.13176382035627665, '0.13')"
      ]
     },
     "execution_count": 17,
     "metadata": {},
     "output_type": "execute_result"
    },
    {
     "data": {
      "text/plain": [
       "Text(3, 0.09548102924367874, '0.10')"
      ]
     },
     "execution_count": 17,
     "metadata": {},
     "output_type": "execute_result"
    },
    {
     "data": {
      "text/plain": [
       "Text(4, 0.023682083019709515, '0.02')"
      ]
     },
     "execution_count": 17,
     "metadata": {},
     "output_type": "execute_result"
    },
    {
     "data": {
      "text/plain": [
       "Text(5, 0.008530567868194363, '0.01')"
      ]
     },
     "execution_count": 17,
     "metadata": {},
     "output_type": "execute_result"
    },
    {
     "data": {
      "text/plain": [
       "Text(6, 0.004669510189289398, '0.00')"
      ]
     },
     "execution_count": 17,
     "metadata": {},
     "output_type": "execute_result"
    },
    {
     "data": {
      "text/plain": [
       "Text(7, 0.0028435226227314543, '0.00')"
      ]
     },
     "execution_count": 17,
     "metadata": {},
     "output_type": "execute_result"
    },
    {
     "data": {
      "text/plain": [
       "Text(8, 0.0024532352039251764, '0.00')"
      ]
     },
     "execution_count": 17,
     "metadata": {},
     "output_type": "execute_result"
    },
    {
     "data": {
      "text/plain": [
       "Text(9, 0.0012126787655766496, '0.00')"
      ]
     },
     "execution_count": 17,
     "metadata": {},
     "output_type": "execute_result"
    },
    {
     "data": {
      "text/plain": [
       "<BarContainer object of 10 artists>"
      ]
     },
     "execution_count": 17,
     "metadata": {},
     "output_type": "execute_result"
    },
    {
     "data": {
      "text/plain": [
       "Text(0.25, 0.5199517913881889, '0.52')"
      ]
     },
     "execution_count": 17,
     "metadata": {},
     "output_type": "execute_result"
    },
    {
     "data": {
      "text/plain": [
       "Text(1.25, 0.1794894269749096, '0.18')"
      ]
     },
     "execution_count": 17,
     "metadata": {},
     "output_type": "execute_result"
    },
    {
     "data": {
      "text/plain": [
       "Text(2.25, 0.12341404623644132, '0.12')"
      ]
     },
     "execution_count": 17,
     "metadata": {},
     "output_type": "execute_result"
    },
    {
     "data": {
      "text/plain": [
       "Text(3.25, 0.09744713487454805, '0.10')"
      ]
     },
     "execution_count": 17,
     "metadata": {},
     "output_type": "execute_result"
    },
    {
     "data": {
      "text/plain": [
       "Text(4.25, 0.025178043168620576, '0.03')"
      ]
     },
     "execution_count": 17,
     "metadata": {},
     "output_type": "execute_result"
    },
    {
     "data": {
      "text/plain": [
       "Text(5.25, 0.008699463131368467, '0.01')"
      ]
     },
     "execution_count": 17,
     "metadata": {},
     "output_type": "execute_result"
    },
    {
     "data": {
      "text/plain": [
       "Text(6.25, 0.004820861181110989, '0.00')"
      ]
     },
     "execution_count": 17,
     "metadata": {},
     "output_type": "execute_result"
    },
    {
     "data": {
      "text/plain": [
       "Text(7.25, 0.002717212665717103, '0.00')"
      ]
     },
     "execution_count": 17,
     "metadata": {},
     "output_type": "execute_result"
    },
    {
     "data": {
      "text/plain": [
       "Text(8.25, 0.0022789525583433766, '0.00')"
      ]
     },
     "execution_count": 17,
     "metadata": {},
     "output_type": "execute_result"
    },
    {
     "data": {
      "text/plain": [
       "Text(9.25, 0.0010518242576969432, '0.00')"
      ]
     },
     "execution_count": 17,
     "metadata": {},
     "output_type": "execute_result"
    },
    {
     "data": {
      "text/plain": [
       "<BarContainer object of 10 artists>"
      ]
     },
     "execution_count": 17,
     "metadata": {},
     "output_type": "execute_result"
    },
    {
     "data": {
      "text/plain": [
       "Text(0.5, 0.5740222928716436, '0.57')"
      ]
     },
     "execution_count": 17,
     "metadata": {},
     "output_type": "execute_result"
    },
    {
     "data": {
      "text/plain": [
       "Text(1.5, 0.11985291301183591, '0.12')"
      ]
     },
     "execution_count": 17,
     "metadata": {},
     "output_type": "execute_result"
    },
    {
     "data": {
      "text/plain": [
       "Text(2.5, 0.146359214003907, '0.15')"
      ]
     },
     "execution_count": 17,
     "metadata": {},
     "output_type": "execute_result"
    },
    {
     "data": {
      "text/plain": [
       "Text(3.5, 0.0920442793120619, '0.09')"
      ]
     },
     "execution_count": 17,
     "metadata": {},
     "output_type": "execute_result"
    },
    {
     "data": {
      "text/plain": [
       "Text(4.5, 0.021067146742253035, '0.02')"
      ]
     },
     "execution_count": 17,
     "metadata": {},
     "output_type": "execute_result"
    },
    {
     "data": {
      "text/plain": [
       "Text(5.5, 0.00823533918106255, '0.01')"
      ]
     },
     "execution_count": 17,
     "metadata": {},
     "output_type": "execute_result"
    },
    {
     "data": {
      "text/plain": [
       "Text(6.5, 0.004404948864289271, '0.00')"
      ]
     },
     "execution_count": 17,
     "metadata": {},
     "output_type": "execute_result"
    },
    {
     "data": {
      "text/plain": [
       "Text(7.5, 0.0030643122534186234, '0.00')"
      ]
     },
     "execution_count": 17,
     "metadata": {},
     "output_type": "execute_result"
    },
    {
     "data": {
      "text/plain": [
       "Text(8.5, 0.002757881028076761, '0.00')"
      ]
     },
     "execution_count": 17,
     "metadata": {},
     "output_type": "execute_result"
    },
    {
     "data": {
      "text/plain": [
       "Text(9.5, 0.0014938522235415789, '0.00')"
      ]
     },
     "execution_count": 17,
     "metadata": {},
     "output_type": "execute_result"
    },
    {
     "data": {
      "text/plain": [
       "([<matplotlib.axis.XTick at 0x1a7de3e950>,\n",
       "  <matplotlib.axis.XTick at 0x1a7de42b90>,\n",
       "  <matplotlib.axis.XTick at 0x1a7de42690>,\n",
       "  <matplotlib.axis.XTick at 0x1a427c1dd0>,\n",
       "  <matplotlib.axis.XTick at 0x1a42891290>,\n",
       "  <matplotlib.axis.XTick at 0x1a42891f90>,\n",
       "  <matplotlib.axis.XTick at 0x1a42891590>,\n",
       "  <matplotlib.axis.XTick at 0x1a47876150>,\n",
       "  <matplotlib.axis.XTick at 0x1a220a7d90>,\n",
       "  <matplotlib.axis.XTick at 0x1a47876290>],\n",
       " <a list of 10 Text xticklabel objects>)"
      ]
     },
     "execution_count": 17,
     "metadata": {},
     "output_type": "execute_result"
    },
    {
     "data": {
      "text/plain": [
       "Text(0.5, 1.0, 'dist of bank_code')"
      ]
     },
     "execution_count": 17,
     "metadata": {},
     "output_type": "execute_result"
    },
    {
     "data": {
      "text/plain": [
       "<matplotlib.legend.Legend at 0x1a35f43ad0>"
      ]
     },
     "execution_count": 17,
     "metadata": {},
     "output_type": "execute_result"
    },
    {
     "data": {
      "image/png": "[encoded data removed]",
      "text/plain": [
       "<Figure size 432x288 with 1 Axes>"
      ]
     },
     "metadata": {
      "needs_background": "light"
     },
     "output_type": "display_data"
    },
    {
     "data": {
      "text/html": [
       "<div>\n",
       "<style scoped>\n",
       "    .dataframe tbody tr th:only-of-type {\n",
       "        vertical-align: middle;\n",
       "    }\n",
       "\n",
       "    .dataframe tbody tr th {\n",
       "        vertical-align: top;\n",
       "    }\n",
       "\n",
       "    .dataframe thead th {\n",
       "        text-align: right;\n",
       "    }\n",
       "</style>\n",
       "<table border=\"1\" class=\"dataframe\">\n",
       "  <thead>\n",
       "    <tr style=\"text-align: right;\">\n",
       "      <th></th>\n",
       "      <th>mail_type</th>\n",
       "      <th>customer_id</th>\n",
       "      <th>聚类类别</th>\n",
       "      <th>group0</th>\n",
       "      <th>per1</th>\n",
       "      <th>per2</th>\n",
       "      <th>per3</th>\n",
       "    </tr>\n",
       "  </thead>\n",
       "  <tbody>\n",
       "    <tr>\n",
       "      <th>0</th>\n",
       "      <td>gmail</td>\n",
       "      <td>55858</td>\n",
       "      <td>19005</td>\n",
       "      <td>36853</td>\n",
       "      <td>0.778596</td>\n",
       "      <td>0.807560</td>\n",
       "      <td>0.727966</td>\n",
       "    </tr>\n",
       "    <tr>\n",
       "      <th>1</th>\n",
       "      <td></td>\n",
       "      <td>10465</td>\n",
       "      <td>4625</td>\n",
       "      <td>5840</td>\n",
       "      <td>0.145870</td>\n",
       "      <td>0.127972</td>\n",
       "      <td>0.177156</td>\n",
       "    </tr>\n",
       "    <tr>\n",
       "      <th>2</th>\n",
       "      <td>yahoo</td>\n",
       "      <td>4615</td>\n",
       "      <td>2097</td>\n",
       "      <td>2518</td>\n",
       "      <td>0.064328</td>\n",
       "      <td>0.055177</td>\n",
       "      <td>0.080323</td>\n",
       "    </tr>\n",
       "    <tr>\n",
       "      <th>3</th>\n",
       "      <td>ymail</td>\n",
       "      <td>300</td>\n",
       "      <td>161</td>\n",
       "      <td>139</td>\n",
       "      <td>0.004182</td>\n",
       "      <td>0.003046</td>\n",
       "      <td>0.006167</td>\n",
       "    </tr>\n",
       "    <tr>\n",
       "      <th>4</th>\n",
       "      <td>rocketmail</td>\n",
       "      <td>115</td>\n",
       "      <td>47</td>\n",
       "      <td>68</td>\n",
       "      <td>0.001603</td>\n",
       "      <td>0.001490</td>\n",
       "      <td>0.001800</td>\n",
       "    </tr>\n",
       "    <tr>\n",
       "      <th>5</th>\n",
       "      <td>hotmail</td>\n",
       "      <td>108</td>\n",
       "      <td>59</td>\n",
       "      <td>49</td>\n",
       "      <td>0.001505</td>\n",
       "      <td>0.001074</td>\n",
       "      <td>0.002260</td>\n",
       "    </tr>\n",
       "    <tr>\n",
       "      <th>6</th>\n",
       "      <td>mail</td>\n",
       "      <td>33</td>\n",
       "      <td>8</td>\n",
       "      <td>25</td>\n",
       "      <td>0.000460</td>\n",
       "      <td>0.000548</td>\n",
       "      <td>0.000306</td>\n",
       "    </tr>\n",
       "    <tr>\n",
       "      <th>7</th>\n",
       "      <td>outlook</td>\n",
       "      <td>20</td>\n",
       "      <td>11</td>\n",
       "      <td>9</td>\n",
       "      <td>0.000279</td>\n",
       "      <td>0.000197</td>\n",
       "      <td>0.000421</td>\n",
       "    </tr>\n",
       "    <tr>\n",
       "      <th>8</th>\n",
       "      <td>live</td>\n",
       "      <td>19</td>\n",
       "      <td>7</td>\n",
       "      <td>12</td>\n",
       "      <td>0.000265</td>\n",
       "      <td>0.000263</td>\n",
       "      <td>0.000268</td>\n",
       "    </tr>\n",
       "    <tr>\n",
       "      <th>9</th>\n",
       "      <td>icloud</td>\n",
       "      <td>19</td>\n",
       "      <td>11</td>\n",
       "      <td>8</td>\n",
       "      <td>0.000265</td>\n",
       "      <td>0.000175</td>\n",
       "      <td>0.000421</td>\n",
       "    </tr>\n",
       "  </tbody>\n",
       "</table>\n",
       "</div>"
      ],
      "text/plain": [
       "    mail_type  customer_id   聚类类别  group0      per1      per2      per3\n",
       "0       gmail        55858  19005   36853  0.778596  0.807560  0.727966\n",
       "1                    10465   4625    5840  0.145870  0.127972  0.177156\n",
       "2       yahoo         4615   2097    2518  0.064328  0.055177  0.080323\n",
       "3       ymail          300    161     139  0.004182  0.003046  0.006167\n",
       "4  rocketmail          115     47      68  0.001603  0.001490  0.001800\n",
       "5     hotmail          108     59      49  0.001505  0.001074  0.002260\n",
       "6        mail           33      8      25  0.000460  0.000548  0.000306\n",
       "7     outlook           20     11       9  0.000279  0.000197  0.000421\n",
       "8        live           19      7      12  0.000265  0.000263  0.000268\n",
       "9      icloud           19     11       8  0.000265  0.000175  0.000421"
      ]
     },
     "execution_count": 17,
     "metadata": {},
     "output_type": "execute_result"
    },
    {
     "data": {
      "text/plain": [
       "<Figure size 432x288 with 0 Axes>"
      ]
     },
     "execution_count": 17,
     "metadata": {},
     "output_type": "execute_result"
    },
    {
     "data": {
      "text/plain": [
       "<BarContainer object of 10 artists>"
      ]
     },
     "execution_count": 17,
     "metadata": {},
     "output_type": "execute_result"
    },
    {
     "data": {
      "text/plain": [
       "Text(0, 0.7785955228457528, '0.78')"
      ]
     },
     "execution_count": 17,
     "metadata": {},
     "output_type": "execute_result"
    },
    {
     "data": {
      "text/plain": [
       "Text(1, 0.14586992277884642, '0.15')"
      ]
     },
     "execution_count": 17,
     "metadata": {},
     "output_type": "execute_result"
    },
    {
     "data": {
      "text/plain": [
       "Text(2, 0.06432772992110619, '0.06')"
      ]
     },
     "execution_count": 17,
     "metadata": {},
     "output_type": "execute_result"
    },
    {
     "data": {
      "text/plain": [
       "Text(3, 0.004181650915781551, '0.00')"
      ]
     },
     "execution_count": 17,
     "metadata": {},
     "output_type": "execute_result"
    },
    {
     "data": {
      "text/plain": [
       "Text(4, 0.0016029661843829277, '0.00')"
      ]
     },
     "execution_count": 17,
     "metadata": {},
     "output_type": "execute_result"
    },
    {
     "data": {
      "text/plain": [
       "Text(5, 0.0015053943296813581, '0.00')"
      ]
     },
     "execution_count": 17,
     "metadata": {},
     "output_type": "execute_result"
    },
    {
     "data": {
      "text/plain": [
       "Text(6, 0.00045998160073597056, '0.00')"
      ]
     },
     "execution_count": 17,
     "metadata": {},
     "output_type": "execute_result"
    },
    {
     "data": {
      "text/plain": [
       "Text(7, 0.00027877672771877, '0.00')"
      ]
     },
     "execution_count": 17,
     "metadata": {},
     "output_type": "execute_result"
    },
    {
     "data": {
      "text/plain": [
       "Text(8, 0.0002648378913328315, '0.00')"
      ]
     },
     "execution_count": 17,
     "metadata": {},
     "output_type": "execute_result"
    },
    {
     "data": {
      "text/plain": [
       "Text(9, 0.0002648378913328315, '0.00')"
      ]
     },
     "execution_count": 17,
     "metadata": {},
     "output_type": "execute_result"
    },
    {
     "data": {
      "text/plain": [
       "<BarContainer object of 10 artists>"
      ]
     },
     "execution_count": 17,
     "metadata": {},
     "output_type": "execute_result"
    },
    {
     "data": {
      "text/plain": [
       "Text(0.25, 0.8075599868521968, '0.81')"
      ]
     },
     "execution_count": 17,
     "metadata": {},
     "output_type": "execute_result"
    },
    {
     "data": {
      "text/plain": [
       "Text(1.25, 0.12797195135312808, '0.13')"
      ]
     },
     "execution_count": 17,
     "metadata": {},
     "output_type": "execute_result"
    },
    {
     "data": {
      "text/plain": [
       "Text(2.25, 0.05517694751835214, '0.06')"
      ]
     },
     "execution_count": 17,
     "metadata": {},
     "output_type": "execute_result"
    },
    {
     "data": {
      "text/plain": [
       "Text(3.25, 0.0030459077462473977, '0.00')"
      ]
     },
     "execution_count": 17,
     "metadata": {},
     "output_type": "execute_result"
    },
    {
     "data": {
      "text/plain": [
       "Text(4.25, 0.0014900843650706695, '0.00')"
      ]
     },
     "execution_count": 17,
     "metadata": {},
     "output_type": "execute_result"
    },
    {
     "data": {
      "text/plain": [
       "Text(5.25, 0.0010737372630656293, '0.00')"
      ]
     },
     "execution_count": 17,
     "metadata": {},
     "output_type": "execute_result"
    },
    {
     "data": {
      "text/plain": [
       "Text(6.25, 0.0005478251342171578, '0.00')"
      ]
     },
     "execution_count": 17,
     "metadata": {},
     "output_type": "execute_result"
    },
    {
     "data": {
      "text/plain": [
       "Text(7.25, 0.00019721704831817684, '0.00')"
      ]
     },
     "execution_count": 17,
     "metadata": {},
     "output_type": "execute_result"
    },
    {
     "data": {
      "text/plain": [
       "Text(8.25, 0.0002629560644242358, '0.00')"
      ]
     },
     "execution_count": 17,
     "metadata": {},
     "output_type": "execute_result"
    },
    {
     "data": {
      "text/plain": [
       "Text(9.25, 0.00017530404294949052, '0.00')"
      ]
     },
     "execution_count": 17,
     "metadata": {},
     "output_type": "execute_result"
    },
    {
     "data": {
      "text/plain": [
       "<BarContainer object of 10 artists>"
      ]
     },
     "execution_count": 17,
     "metadata": {},
     "output_type": "execute_result"
    },
    {
     "data": {
      "text/plain": [
       "Text(0.5, 0.7279656797027617, '0.73')"
      ]
     },
     "execution_count": 17,
     "metadata": {},
     "output_type": "execute_result"
    },
    {
     "data": {
      "text/plain": [
       "Text(1.5, 0.17715555215076417, '0.18')"
      ]
     },
     "execution_count": 17,
     "metadata": {},
     "output_type": "execute_result"
    },
    {
     "data": {
      "text/plain": [
       "Text(2.5, 0.08032328494273566, '0.08')"
      ]
     },
     "execution_count": 17,
     "metadata": {},
     "output_type": "execute_result"
    },
    {
     "data": {
      "text/plain": [
       "Text(3.5, 0.006166928410004979, '0.01')"
      ]
     },
     "execution_count": 17,
     "metadata": {},
     "output_type": "execute_result"
    },
    {
     "data": {
      "text/plain": [
       "Text(4.5, 0.0018002834488834412, '0.00')"
      ]
     },
     "execution_count": 17,
     "metadata": {},
     "output_type": "execute_result"
    },
    {
     "data": {
      "text/plain": [
       "Text(5.5, 0.002259930286896235, '0.00')"
      ]
     },
     "execution_count": 17,
     "metadata": {},
     "output_type": "execute_result"
    },
    {
     "data": {
      "text/plain": [
       "Text(6.5, 0.0003064312253418623, '0.00')"
      ]
     },
     "execution_count": 17,
     "metadata": {},
     "output_type": "execute_result"
    },
    {
     "data": {
      "text/plain": [
       "Text(7.5, 0.0004213429348450607, '0.00')"
      ]
     },
     "execution_count": 17,
     "metadata": {},
     "output_type": "execute_result"
    },
    {
     "data": {
      "text/plain": [
       "Text(8.5, 0.00026812732217412955, '0.00')"
      ]
     },
     "execution_count": 17,
     "metadata": {},
     "output_type": "execute_result"
    },
    {
     "data": {
      "text/plain": [
       "Text(9.5, 0.0004213429348450607, '0.00')"
      ]
     },
     "execution_count": 17,
     "metadata": {},
     "output_type": "execute_result"
    },
    {
     "data": {
      "text/plain": [
       "([<matplotlib.axis.XTick at 0x1a73907d90>,\n",
       "  <matplotlib.axis.XTick at 0x1a224c0390>,\n",
       "  <matplotlib.axis.XTick at 0x1a224c0250>,\n",
       "  <matplotlib.axis.XTick at 0x1a22392b90>,\n",
       "  <matplotlib.axis.XTick at 0x1a22392610>,\n",
       "  <matplotlib.axis.XTick at 0x1a22392490>,\n",
       "  <matplotlib.axis.XTick at 0x1a4a6fbe90>,\n",
       "  <matplotlib.axis.XTick at 0x1a4a6fb250>,\n",
       "  <matplotlib.axis.XTick at 0x1a3d836290>,\n",
       "  <matplotlib.axis.XTick at 0x1a3d836dd0>],\n",
       " <a list of 10 Text xticklabel objects>)"
      ]
     },
     "execution_count": 17,
     "metadata": {},
     "output_type": "execute_result"
    },
    {
     "data": {
      "text/plain": [
       "Text(0.5, 1.0, 'dist of mail_type')"
      ]
     },
     "execution_count": 17,
     "metadata": {},
     "output_type": "execute_result"
    },
    {
     "data": {
      "text/plain": [
       "<matplotlib.legend.Legend at 0x1a3e0c6650>"
      ]
     },
     "execution_count": 17,
     "metadata": {},
     "output_type": "execute_result"
    },
    {
     "data": {
      "image/png": "[encoded data removed]",
      "text/plain": [
       "<Figure size 432x288 with 1 Axes>"
      ]
     },
     "metadata": {
      "needs_background": "light"
     },
     "output_type": "display_data"
    },
    {
     "data": {
      "text/html": [
       "<div>\n",
       "<style scoped>\n",
       "    .dataframe tbody tr th:only-of-type {\n",
       "        vertical-align: middle;\n",
       "    }\n",
       "\n",
       "    .dataframe tbody tr th {\n",
       "        vertical-align: top;\n",
       "    }\n",
       "\n",
       "    .dataframe thead th {\n",
       "        text-align: right;\n",
       "    }\n",
       "</style>\n",
       "<table border=\"1\" class=\"dataframe\">\n",
       "  <thead>\n",
       "    <tr style=\"text-align: right;\">\n",
       "      <th></th>\n",
       "      <th>provincecode</th>\n",
       "      <th>customer_id</th>\n",
       "      <th>聚类类别</th>\n",
       "      <th>group0</th>\n",
       "      <th>per1</th>\n",
       "      <th>per2</th>\n",
       "      <th>per3</th>\n",
       "    </tr>\n",
       "  </thead>\n",
       "  <tbody>\n",
       "    <tr>\n",
       "      <th>0</th>\n",
       "      <td>32</td>\n",
       "      <td>22121</td>\n",
       "      <td>7802</td>\n",
       "      <td>14319</td>\n",
       "      <td>0.308341</td>\n",
       "      <td>0.313772</td>\n",
       "      <td>0.298847</td>\n",
       "    </tr>\n",
       "    <tr>\n",
       "      <th>1</th>\n",
       "      <td>31</td>\n",
       "      <td>15031</td>\n",
       "      <td>6052</td>\n",
       "      <td>8979</td>\n",
       "      <td>0.209515</td>\n",
       "      <td>0.196757</td>\n",
       "      <td>0.231815</td>\n",
       "    </tr>\n",
       "    <tr>\n",
       "      <th>2</th>\n",
       "      <td>35</td>\n",
       "      <td>9149</td>\n",
       "      <td>3118</td>\n",
       "      <td>6031</td>\n",
       "      <td>0.127526</td>\n",
       "      <td>0.132157</td>\n",
       "      <td>0.119432</td>\n",
       "    </tr>\n",
       "    <tr>\n",
       "      <th>3</th>\n",
       "      <td>33</td>\n",
       "      <td>6191</td>\n",
       "      <td>2110</td>\n",
       "      <td>4081</td>\n",
       "      <td>0.086295</td>\n",
       "      <td>0.089427</td>\n",
       "      <td>0.080821</td>\n",
       "    </tr>\n",
       "    <tr>\n",
       "      <th>4</th>\n",
       "      <td>36</td>\n",
       "      <td>5247</td>\n",
       "      <td>2153</td>\n",
       "      <td>3094</td>\n",
       "      <td>0.073137</td>\n",
       "      <td>0.067799</td>\n",
       "      <td>0.082468</td>\n",
       "    </tr>\n",
       "    <tr>\n",
       "      <th>5</th>\n",
       "      <td>12</td>\n",
       "      <td>2869</td>\n",
       "      <td>917</td>\n",
       "      <td>1952</td>\n",
       "      <td>0.039991</td>\n",
       "      <td>0.042774</td>\n",
       "      <td>0.035125</td>\n",
       "    </tr>\n",
       "    <tr>\n",
       "      <th>6</th>\n",
       "      <td>16</td>\n",
       "      <td>1206</td>\n",
       "      <td>333</td>\n",
       "      <td>873</td>\n",
       "      <td>0.016810</td>\n",
       "      <td>0.019130</td>\n",
       "      <td>0.012755</td>\n",
       "    </tr>\n",
       "    <tr>\n",
       "      <th>7</th>\n",
       "      <td>73</td>\n",
       "      <td>1151</td>\n",
       "      <td>390</td>\n",
       "      <td>761</td>\n",
       "      <td>0.016044</td>\n",
       "      <td>0.016676</td>\n",
       "      <td>0.014939</td>\n",
       "    </tr>\n",
       "    <tr>\n",
       "      <th>8</th>\n",
       "      <td>51</td>\n",
       "      <td>1058</td>\n",
       "      <td>512</td>\n",
       "      <td>546</td>\n",
       "      <td>0.014747</td>\n",
       "      <td>0.011965</td>\n",
       "      <td>0.019612</td>\n",
       "    </tr>\n",
       "    <tr>\n",
       "      <th>9</th>\n",
       "      <td>64</td>\n",
       "      <td>981</td>\n",
       "      <td>350</td>\n",
       "      <td>631</td>\n",
       "      <td>0.013674</td>\n",
       "      <td>0.013827</td>\n",
       "      <td>0.013406</td>\n",
       "    </tr>\n",
       "  </tbody>\n",
       "</table>\n",
       "</div>"
      ],
      "text/plain": [
       "  provincecode  customer_id  聚类类别  group0      per1      per2      per3\n",
       "0           32        22121  7802   14319  0.308341  0.313772  0.298847\n",
       "1           31        15031  6052    8979  0.209515  0.196757  0.231815\n",
       "2           35         9149  3118    6031  0.127526  0.132157  0.119432\n",
       "3           33         6191  2110    4081  0.086295  0.089427  0.080821\n",
       "4           36         5247  2153    3094  0.073137  0.067799  0.082468\n",
       "5           12         2869   917    1952  0.039991  0.042774  0.035125\n",
       "6           16         1206   333     873  0.016810  0.019130  0.012755\n",
       "7           73         1151   390     761  0.016044  0.016676  0.014939\n",
       "8           51         1058   512     546  0.014747  0.011965  0.019612\n",
       "9           64          981   350     631  0.013674  0.013827  0.013406"
      ]
     },
     "execution_count": 17,
     "metadata": {},
     "output_type": "execute_result"
    },
    {
     "data": {
      "text/plain": [
       "<Figure size 432x288 with 0 Axes>"
      ]
     },
     "execution_count": 17,
     "metadata": {},
     "output_type": "execute_result"
    },
    {
     "data": {
      "text/plain": [
       "<BarContainer object of 10 artists>"
      ]
     },
     "execution_count": 17,
     "metadata": {},
     "output_type": "execute_result"
    },
    {
     "data": {
      "text/plain": [
       "Text(0, 0.3083409996933456, '0.31')"
      ]
     },
     "execution_count": 17,
     "metadata": {},
     "output_type": "execute_result"
    },
    {
     "data": {
      "text/plain": [
       "Text(1, 0.20951464971704162, '0.21')"
      ]
     },
     "execution_count": 17,
     "metadata": {},
     "output_type": "execute_result"
    },
    {
     "data": {
      "text/plain": [
       "Text(2, 0.12752641409495136, '0.13')"
      ]
     },
     "execution_count": 17,
     "metadata": {},
     "output_type": "execute_result"
    },
    {
     "data": {
      "text/plain": [
       "Text(3, 0.08629533606534527, '0.09')"
      ]
     },
     "execution_count": 17,
     "metadata": {},
     "output_type": "execute_result"
    },
    {
     "data": {
      "text/plain": [
       "Text(4, 0.07313707451701931, '0.07')"
      ]
     },
     "execution_count": 17,
     "metadata": {},
     "output_type": "execute_result"
    },
    {
     "data": {
      "text/plain": [
       "Text(5, 0.039990521591257565, '0.04')"
      ]
     },
     "execution_count": 17,
     "metadata": {},
     "output_type": "execute_result"
    },
    {
     "data": {
      "text/plain": [
       "Text(6, 0.016810236681441833, '0.02')"
      ]
     },
     "execution_count": 17,
     "metadata": {},
     "output_type": "execute_result"
    },
    {
     "data": {
      "text/plain": [
       "Text(7, 0.016043600680215216, '0.02')"
      ]
     },
     "execution_count": 17,
     "metadata": {},
     "output_type": "execute_result"
    },
    {
     "data": {
      "text/plain": [
       "Text(8, 0.014747288896322935, '0.01')"
      ]
     },
     "execution_count": 17,
     "metadata": {},
     "output_type": "execute_result"
    },
    {
     "data": {
      "text/plain": [
       "Text(9, 0.01367399849460567, '0.01')"
      ]
     },
     "execution_count": 17,
     "metadata": {},
     "output_type": "execute_result"
    },
    {
     "data": {
      "text/plain": [
       "<BarContainer object of 10 artists>"
      ]
     },
     "execution_count": 17,
     "metadata": {},
     "output_type": "execute_result"
    },
    {
     "data": {
      "text/plain": [
       "Text(0.25, 0.3137723238742193, '0.31')"
      ]
     },
     "execution_count": 17,
     "metadata": {},
     "output_type": "execute_result"
    },
    {
     "data": {
      "text/plain": [
       "Text(1.25, 0.19675687520543442, '0.20')"
      ]
     },
     "execution_count": 17,
     "metadata": {},
     "output_type": "execute_result"
    },
    {
     "data": {
      "text/plain": [
       "Text(2.25, 0.13215733537854718, '0.13')"
      ]
     },
     "execution_count": 17,
     "metadata": {},
     "output_type": "execute_result"
    },
    {
     "data": {
      "text/plain": [
       "Text(3.25, 0.08942697490960885, '0.09')"
      ]
     },
     "execution_count": 17,
     "metadata": {},
     "output_type": "execute_result"
    },
    {
     "data": {
      "text/plain": [
       "Text(4.25, 0.06779883861071546, '0.07')"
      ]
     },
     "execution_count": 17,
     "metadata": {},
     "output_type": "execute_result"
    },
    {
     "data": {
      "text/plain": [
       "Text(5.25, 0.04277418647967569, '0.04')"
      ]
     },
     "execution_count": 17,
     "metadata": {},
     "output_type": "execute_result"
    },
    {
     "data": {
      "text/plain": [
       "Text(6.25, 0.019130053686863154, '0.02')"
      ]
     },
     "execution_count": 17,
     "metadata": {},
     "output_type": "execute_result"
    },
    {
     "data": {
      "text/plain": [
       "Text(7.25, 0.016675797085570286, '0.02')"
      ]
     },
     "execution_count": 17,
     "metadata": {},
     "output_type": "execute_result"
    },
    {
     "data": {
      "text/plain": [
       "Text(8.25, 0.011964500931302729, '0.01')"
      ]
     },
     "execution_count": 17,
     "metadata": {},
     "output_type": "execute_result"
    },
    {
     "data": {
      "text/plain": [
       "Text(9.25, 0.013827106387641066, '0.01')"
      ]
     },
     "execution_count": 17,
     "metadata": {},
     "output_type": "execute_result"
    },
    {
     "data": {
      "text/plain": [
       "<BarContainer object of 10 artists>"
      ]
     },
     "execution_count": 17,
     "metadata": {},
     "output_type": "execute_result"
    },
    {
     "data": {
      "text/plain": [
       "Text(0.5, 0.29884705251465127, '0.30')"
      ]
     },
     "execution_count": 17,
     "metadata": {},
     "output_type": "execute_result"
    },
    {
     "data": {
      "text/plain": [
       "Text(1.5, 0.23181522197111887, '0.23')"
      ]
     },
     "execution_count": 17,
     "metadata": {},
     "output_type": "execute_result"
    },
    {
     "data": {
      "text/plain": [
       "Text(2.5, 0.11943157007699085, '0.12')"
      ]
     },
     "execution_count": 17,
     "metadata": {},
     "output_type": "execute_result"
    },
    {
     "data": {
      "text/plain": [
       "Text(3.5, 0.08082123568391619, '0.08')"
      ]
     },
     "execution_count": 17,
     "metadata": {},
     "output_type": "execute_result"
    },
    {
     "data": {
      "text/plain": [
       "Text(4.5, 0.0824683035201287, '0.08')"
      ]
     },
     "execution_count": 17,
     "metadata": {},
     "output_type": "execute_result"
    },
    {
     "data": {
      "text/plain": [
       "Text(5.5, 0.03512467920481097, '0.04')"
      ]
     },
     "execution_count": 17,
     "metadata": {},
     "output_type": "execute_result"
    },
    {
     "data": {
      "text/plain": [
       "Text(6.5, 0.01275519975485502, '0.01')"
      ]
     },
     "execution_count": 17,
     "metadata": {},
     "output_type": "execute_result"
    },
    {
     "data": {
      "text/plain": [
       "Text(7.5, 0.014938522235415789, '0.01')"
      ]
     },
     "execution_count": 17,
     "metadata": {},
     "output_type": "execute_result"
    },
    {
     "data": {
      "text/plain": [
       "Text(8.5, 0.01961159842187919, '0.02')"
      ]
     },
     "execution_count": 17,
     "metadata": {},
     "output_type": "execute_result"
    },
    {
     "data": {
      "text/plain": [
       "Text(9.5, 0.013406366108706477, '0.01')"
      ]
     },
     "execution_count": 17,
     "metadata": {},
     "output_type": "execute_result"
    },
    {
     "data": {
      "text/plain": [
       "([<matplotlib.axis.XTick at 0x1a22df6e50>,\n",
       "  <matplotlib.axis.XTick at 0x1a22795e10>,\n",
       "  <matplotlib.axis.XTick at 0x1a22795210>,\n",
       "  <matplotlib.axis.XTick at 0x1a53f39e50>,\n",
       "  <matplotlib.axis.XTick at 0x1a53f39310>,\n",
       "  <matplotlib.axis.XTick at 0x1a2299afd0>,\n",
       "  <matplotlib.axis.XTick at 0x1a2299aad0>,\n",
       "  <matplotlib.axis.XTick at 0x11afae6d0>,\n",
       "  <matplotlib.axis.XTick at 0x1a73906210>,\n",
       "  <matplotlib.axis.XTick at 0x1a46474a50>],\n",
       " <a list of 10 Text xticklabel objects>)"
      ]
     },
     "execution_count": 17,
     "metadata": {},
     "output_type": "execute_result"
    },
    {
     "data": {
      "text/plain": [
       "Text(0.5, 1.0, 'dist of provincecode')"
      ]
     },
     "execution_count": 17,
     "metadata": {},
     "output_type": "execute_result"
    },
    {
     "data": {
      "text/plain": [
       "<matplotlib.legend.Legend at 0x1a3bcff450>"
      ]
     },
     "execution_count": 17,
     "metadata": {},
     "output_type": "execute_result"
    },
    {
     "data": {
      "image/png": "[encoded data removed]",
      "text/plain": [
       "<Figure size 432x288 with 1 Axes>"
      ]
     },
     "metadata": {
      "needs_background": "light"
     },
     "output_type": "display_data"
    },
    {
     "data": {
      "text/html": [
       "<div>\n",
       "<style scoped>\n",
       "    .dataframe tbody tr th:only-of-type {\n",
       "        vertical-align: middle;\n",
       "    }\n",
       "\n",
       "    .dataframe tbody tr th {\n",
       "        vertical-align: top;\n",
       "    }\n",
       "\n",
       "    .dataframe thead th {\n",
       "        text-align: right;\n",
       "    }\n",
       "</style>\n",
       "<table border=\"1\" class=\"dataframe\">\n",
       "  <thead>\n",
       "    <tr style=\"text-align: right;\">\n",
       "      <th></th>\n",
       "      <th>citycode</th>\n",
       "      <th>customer_id</th>\n",
       "      <th>聚类类别</th>\n",
       "      <th>group0</th>\n",
       "      <th>per1</th>\n",
       "      <th>per2</th>\n",
       "      <th>per3</th>\n",
       "    </tr>\n",
       "  </thead>\n",
       "  <tbody>\n",
       "    <tr>\n",
       "      <th>0</th>\n",
       "      <td>71</td>\n",
       "      <td>12347</td>\n",
       "      <td>4460</td>\n",
       "      <td>7887</td>\n",
       "      <td>0.172103</td>\n",
       "      <td>0.172828</td>\n",
       "      <td>0.170835</td>\n",
       "    </tr>\n",
       "    <tr>\n",
       "      <th>1</th>\n",
       "      <td>75</td>\n",
       "      <td>7107</td>\n",
       "      <td>2925</td>\n",
       "      <td>4182</td>\n",
       "      <td>0.099063</td>\n",
       "      <td>0.091640</td>\n",
       "      <td>0.112039</td>\n",
       "    </tr>\n",
       "    <tr>\n",
       "      <th>2</th>\n",
       "      <td>73</td>\n",
       "      <td>6948</td>\n",
       "      <td>2623</td>\n",
       "      <td>4325</td>\n",
       "      <td>0.096847</td>\n",
       "      <td>0.094774</td>\n",
       "      <td>0.100471</td>\n",
       "    </tr>\n",
       "    <tr>\n",
       "      <th>3</th>\n",
       "      <td>74</td>\n",
       "      <td>6495</td>\n",
       "      <td>2634</td>\n",
       "      <td>3861</td>\n",
       "      <td>0.090533</td>\n",
       "      <td>0.084606</td>\n",
       "      <td>0.100892</td>\n",
       "    </tr>\n",
       "    <tr>\n",
       "      <th>4</th>\n",
       "      <td>72</td>\n",
       "      <td>3738</td>\n",
       "      <td>1406</td>\n",
       "      <td>2332</td>\n",
       "      <td>0.052103</td>\n",
       "      <td>0.051101</td>\n",
       "      <td>0.053855</td>\n",
       "    </tr>\n",
       "    <tr>\n",
       "      <th>5</th>\n",
       "      <td>78</td>\n",
       "      <td>3300</td>\n",
       "      <td>1119</td>\n",
       "      <td>2181</td>\n",
       "      <td>0.045998</td>\n",
       "      <td>0.047792</td>\n",
       "      <td>0.042862</td>\n",
       "    </tr>\n",
       "    <tr>\n",
       "      <th>6</th>\n",
       "      <td>01</td>\n",
       "      <td>3287</td>\n",
       "      <td>1148</td>\n",
       "      <td>2139</td>\n",
       "      <td>0.045817</td>\n",
       "      <td>0.046872</td>\n",
       "      <td>0.043973</td>\n",
       "    </tr>\n",
       "    <tr>\n",
       "      <th>7</th>\n",
       "      <td>04</td>\n",
       "      <td>3177</td>\n",
       "      <td>981</td>\n",
       "      <td>2196</td>\n",
       "      <td>0.044284</td>\n",
       "      <td>0.048121</td>\n",
       "      <td>0.037576</td>\n",
       "    </tr>\n",
       "    <tr>\n",
       "      <th>8</th>\n",
       "      <td>03</td>\n",
       "      <td>2824</td>\n",
       "      <td>1018</td>\n",
       "      <td>1806</td>\n",
       "      <td>0.039363</td>\n",
       "      <td>0.039575</td>\n",
       "      <td>0.038993</td>\n",
       "    </tr>\n",
       "    <tr>\n",
       "      <th>9</th>\n",
       "      <td>15</td>\n",
       "      <td>2168</td>\n",
       "      <td>737</td>\n",
       "      <td>1431</td>\n",
       "      <td>0.030219</td>\n",
       "      <td>0.031358</td>\n",
       "      <td>0.028230</td>\n",
       "    </tr>\n",
       "  </tbody>\n",
       "</table>\n",
       "</div>"
      ],
      "text/plain": [
       "  citycode  customer_id  聚类类别  group0      per1      per2      per3\n",
       "0       71        12347  4460    7887  0.172103  0.172828  0.170835\n",
       "1       75         7107  2925    4182  0.099063  0.091640  0.112039\n",
       "2       73         6948  2623    4325  0.096847  0.094774  0.100471\n",
       "3       74         6495  2634    3861  0.090533  0.084606  0.100892\n",
       "4       72         3738  1406    2332  0.052103  0.051101  0.053855\n",
       "5       78         3300  1119    2181  0.045998  0.047792  0.042862\n",
       "6       01         3287  1148    2139  0.045817  0.046872  0.043973\n",
       "7       04         3177   981    2196  0.044284  0.048121  0.037576\n",
       "8       03         2824  1018    1806  0.039363  0.039575  0.038993\n",
       "9       15         2168   737    1431  0.030219  0.031358  0.028230"
      ]
     },
     "execution_count": 17,
     "metadata": {},
     "output_type": "execute_result"
    },
    {
     "data": {
      "text/plain": [
       "<Figure size 432x288 with 0 Axes>"
      ]
     },
     "execution_count": 17,
     "metadata": {},
     "output_type": "execute_result"
    },
    {
     "data": {
      "text/plain": [
       "<BarContainer object of 10 artists>"
      ]
     },
     "execution_count": 17,
     "metadata": {},
     "output_type": "execute_result"
    },
    {
     "data": {
      "text/plain": [
       "Text(0, 0.17210281285718268, '0.17')"
      ]
     },
     "execution_count": 17,
     "metadata": {},
     "output_type": "execute_result"
    },
    {
     "data": {
      "text/plain": [
       "Text(1, 0.09906331019486493, '0.10')"
      ]
     },
     "execution_count": 17,
     "metadata": {},
     "output_type": "execute_result"
    },
    {
     "data": {
      "text/plain": [
       "Text(2, 0.0968470352095007, '0.10')"
      ]
     },
     "execution_count": 17,
     "metadata": {},
     "output_type": "execute_result"
    },
    {
     "data": {
      "text/plain": [
       "Text(3, 0.09053274232667056, '0.09')"
      ]
     },
     "execution_count": 17,
     "metadata": {},
     "output_type": "execute_result"
    },
    {
     "data": {
      "text/plain": [
       "Text(4, 0.05210337041063812, '0.05')"
      ]
     },
     "execution_count": 17,
     "metadata": {},
     "output_type": "execute_result"
    },
    {
     "data": {
      "text/plain": [
       "Text(5, 0.045998160073597055, '0.05')"
      ]
     },
     "execution_count": 17,
     "metadata": {},
     "output_type": "execute_result"
    },
    {
     "data": {
      "text/plain": [
       "Text(6, 0.04581695520057986, '0.05')"
      ]
     },
     "execution_count": 17,
     "metadata": {},
     "output_type": "execute_result"
    },
    {
     "data": {
      "text/plain": [
       "Text(7, 0.044283683198126624, '0.04')"
      ]
     },
     "execution_count": 17,
     "metadata": {},
     "output_type": "execute_result"
    },
    {
     "data": {
      "text/plain": [
       "Text(8, 0.03936327395389033, '0.04')"
      ]
     },
     "execution_count": 17,
     "metadata": {},
     "output_type": "execute_result"
    },
    {
     "data": {
      "text/plain": [
       "Text(9, 0.03021939728471467, '0.03')"
      ]
     },
     "execution_count": 17,
     "metadata": {},
     "output_type": "execute_result"
    },
    {
     "data": {
      "text/plain": [
       "<BarContainer object of 10 artists>"
      ]
     },
     "execution_count": 17,
     "metadata": {},
     "output_type": "execute_result"
    },
    {
     "data": {
      "text/plain": [
       "Text(0.25, 0.17282787334282898, '0.17')"
      ]
     },
     "execution_count": 17,
     "metadata": {},
     "output_type": "execute_result"
    },
    {
     "data": {
      "text/plain": [
       "Text(1.25, 0.09164018845184617, '0.09')"
      ]
     },
     "execution_count": 17,
     "metadata": {},
     "output_type": "execute_result"
    },
    {
     "data": {
      "text/plain": [
       "Text(2.25, 0.09477374821956831, '0.09')"
      ]
     },
     "execution_count": 17,
     "metadata": {},
     "output_type": "execute_result"
    },
    {
     "data": {
      "text/plain": [
       "Text(3.25, 0.08460611372849787, '0.08')"
      ]
     },
     "execution_count": 17,
     "metadata": {},
     "output_type": "execute_result"
    },
    {
     "data": {
      "text/plain": [
       "Text(4.25, 0.05110112851977649, '0.05')"
      ]
     },
     "execution_count": 17,
     "metadata": {},
     "output_type": "execute_result"
    },
    {
     "data": {
      "text/plain": [
       "Text(5.25, 0.04779226470910485, '0.05')"
      ]
     },
     "execution_count": 17,
     "metadata": {},
     "output_type": "execute_result"
    },
    {
     "data": {
      "text/plain": [
       "Text(6.25, 0.04687191848362003, '0.05')"
      ]
     },
     "execution_count": 17,
     "metadata": {},
     "output_type": "execute_result"
    },
    {
     "data": {
      "text/plain": [
       "Text(7.25, 0.04812095978963515, '0.05')"
      ]
     },
     "execution_count": 17,
     "metadata": {},
     "output_type": "execute_result"
    },
    {
     "data": {
      "text/plain": [
       "Text(8.25, 0.03957488769584749, '0.04')"
      ]
     },
     "execution_count": 17,
     "metadata": {},
     "output_type": "execute_result"
    },
    {
     "data": {
      "text/plain": [
       "Text(9.25, 0.031357510682590115, '0.03')"
      ]
     },
     "execution_count": 17,
     "metadata": {},
     "output_type": "execute_result"
    },
    {
     "data": {
      "text/plain": [
       "<BarContainer object of 10 artists>"
      ]
     },
     "execution_count": 17,
     "metadata": {},
     "output_type": "execute_result"
    },
    {
     "data": {
      "text/plain": [
       "Text(0.5, 0.17083540812808826, '0.17')"
      ]
     },
     "execution_count": 17,
     "metadata": {},
     "output_type": "execute_result"
    },
    {
     "data": {
      "text/plain": [
       "Text(1.5, 0.11203891676561842, '0.11')"
      ]
     },
     "execution_count": 17,
     "metadata": {},
     "output_type": "execute_result"
    },
    {
     "data": {
      "text/plain": [
       "Text(2.5, 0.10047113800896311, '0.10')"
      ]
     },
     "execution_count": 17,
     "metadata": {},
     "output_type": "execute_result"
    },
    {
     "data": {
      "text/plain": [
       "Text(3.5, 0.10089248094380818, '0.10')"
      ]
     },
     "execution_count": 17,
     "metadata": {},
     "output_type": "execute_result"
    },
    {
     "data": {
      "text/plain": [
       "Text(4.5, 0.053855287853832305, '0.05')"
      ]
     },
     "execution_count": 17,
     "metadata": {},
     "output_type": "execute_result"
    },
    {
     "data": {
      "text/plain": [
       "Text(5.5, 0.042862067644693, '0.04')"
      ]
     },
     "execution_count": 17,
     "metadata": {},
     "output_type": "execute_result"
    },
    {
     "data": {
      "text/plain": [
       "Text(6.5, 0.043972880836557246, '0.04')"
      ]
     },
     "execution_count": 17,
     "metadata": {},
     "output_type": "execute_result"
    },
    {
     "data": {
      "text/plain": [
       "Text(7.5, 0.037576129007545866, '0.04')"
      ]
     },
     "execution_count": 17,
     "metadata": {},
     "output_type": "execute_result"
    },
    {
     "data": {
      "text/plain": [
       "Text(8.5, 0.03899337342475198, '0.04')"
      ]
     },
     "execution_count": 17,
     "metadata": {},
     "output_type": "execute_result"
    },
    {
     "data": {
      "text/plain": [
       "Text(9.5, 0.028229976634619066, '0.03')"
      ]
     },
     "execution_count": 17,
     "metadata": {},
     "output_type": "execute_result"
    },
    {
     "data": {
      "text/plain": [
       "([<matplotlib.axis.XTick at 0x1a75536ed0>,\n",
       "  <matplotlib.axis.XTick at 0x1a4b2a3c10>,\n",
       "  <matplotlib.axis.XTick at 0x1a4b2a36d0>,\n",
       "  <matplotlib.axis.XTick at 0x1a4b29fbd0>,\n",
       "  <matplotlib.axis.XTick at 0x1a4b29f990>,\n",
       "  <matplotlib.axis.XTick at 0x1a2217ce10>,\n",
       "  <matplotlib.axis.XTick at 0x1a2223af50>,\n",
       "  <matplotlib.axis.XTick at 0x1a4b2a1e10>,\n",
       "  <matplotlib.axis.XTick at 0x1a4b2a1110>,\n",
       "  <matplotlib.axis.XTick at 0x1a4b2a0b90>],\n",
       " <a list of 10 Text xticklabel objects>)"
      ]
     },
     "execution_count": 17,
     "metadata": {},
     "output_type": "execute_result"
    },
    {
     "data": {
      "text/plain": [
       "Text(0.5, 1.0, 'dist of citycode')"
      ]
     },
     "execution_count": 17,
     "metadata": {},
     "output_type": "execute_result"
    },
    {
     "data": {
      "text/plain": [
       "<matplotlib.legend.Legend at 0x1a4b29e990>"
      ]
     },
     "execution_count": 17,
     "metadata": {},
     "output_type": "execute_result"
    },
    {
     "data": {
      "image/png": "[encoded data removed]",
      "text/plain": [
       "<Figure size 432x288 with 1 Axes>"
      ]
     },
     "metadata": {
      "needs_background": "light"
     },
     "output_type": "display_data"
    },
    {
     "data": {
      "text/html": [
       "<div>\n",
       "<style scoped>\n",
       "    .dataframe tbody tr th:only-of-type {\n",
       "        vertical-align: middle;\n",
       "    }\n",
       "\n",
       "    .dataframe tbody tr th {\n",
       "        vertical-align: top;\n",
       "    }\n",
       "\n",
       "    .dataframe thead th {\n",
       "        text-align: right;\n",
       "    }\n",
       "</style>\n",
       "<table border=\"1\" class=\"dataframe\">\n",
       "  <thead>\n",
       "    <tr style=\"text-align: right;\">\n",
       "      <th></th>\n",
       "      <th>districtcode</th>\n",
       "      <th>customer_id</th>\n",
       "      <th>聚类类别</th>\n",
       "      <th>group0</th>\n",
       "      <th>per1</th>\n",
       "      <th>per2</th>\n",
       "      <th>per3</th>\n",
       "    </tr>\n",
       "  </thead>\n",
       "  <tbody>\n",
       "    <tr>\n",
       "      <th>0</th>\n",
       "      <td>01</td>\n",
       "      <td>7564</td>\n",
       "      <td>2734</td>\n",
       "      <td>4830</td>\n",
       "      <td>0.105433</td>\n",
       "      <td>0.105840</td>\n",
       "      <td>0.104723</td>\n",
       "    </tr>\n",
       "    <tr>\n",
       "      <th>1</th>\n",
       "      <td>02</td>\n",
       "      <td>6328</td>\n",
       "      <td>2369</td>\n",
       "      <td>3959</td>\n",
       "      <td>0.088205</td>\n",
       "      <td>0.086754</td>\n",
       "      <td>0.090742</td>\n",
       "    </tr>\n",
       "    <tr>\n",
       "      <th>2</th>\n",
       "      <td>03</td>\n",
       "      <td>6174</td>\n",
       "      <td>2299</td>\n",
       "      <td>3875</td>\n",
       "      <td>0.086058</td>\n",
       "      <td>0.084913</td>\n",
       "      <td>0.088061</td>\n",
       "    </tr>\n",
       "    <tr>\n",
       "      <th>3</th>\n",
       "      <td>04</td>\n",
       "      <td>5962</td>\n",
       "      <td>2262</td>\n",
       "      <td>3700</td>\n",
       "      <td>0.083103</td>\n",
       "      <td>0.081078</td>\n",
       "      <td>0.086643</td>\n",
       "    </tr>\n",
       "    <tr>\n",
       "      <th>4</th>\n",
       "      <td>05</td>\n",
       "      <td>5669</td>\n",
       "      <td>2204</td>\n",
       "      <td>3465</td>\n",
       "      <td>0.079019</td>\n",
       "      <td>0.075929</td>\n",
       "      <td>0.084422</td>\n",
       "    </tr>\n",
       "    <tr>\n",
       "      <th>5</th>\n",
       "      <td>06</td>\n",
       "      <td>5549</td>\n",
       "      <td>2072</td>\n",
       "      <td>3477</td>\n",
       "      <td>0.077347</td>\n",
       "      <td>0.076192</td>\n",
       "      <td>0.079366</td>\n",
       "    </tr>\n",
       "    <tr>\n",
       "      <th>6</th>\n",
       "      <td>07</td>\n",
       "      <td>4064</td>\n",
       "      <td>1524</td>\n",
       "      <td>2540</td>\n",
       "      <td>0.056647</td>\n",
       "      <td>0.055659</td>\n",
       "      <td>0.058375</td>\n",
       "    </tr>\n",
       "    <tr>\n",
       "      <th>7</th>\n",
       "      <td>08</td>\n",
       "      <td>3685</td>\n",
       "      <td>1398</td>\n",
       "      <td>2287</td>\n",
       "      <td>0.051365</td>\n",
       "      <td>0.050115</td>\n",
       "      <td>0.053549</td>\n",
       "    </tr>\n",
       "    <tr>\n",
       "      <th>8</th>\n",
       "      <td>09</td>\n",
       "      <td>3217</td>\n",
       "      <td>1216</td>\n",
       "      <td>2001</td>\n",
       "      <td>0.044841</td>\n",
       "      <td>0.043848</td>\n",
       "      <td>0.046578</td>\n",
       "    </tr>\n",
       "    <tr>\n",
       "      <th>9</th>\n",
       "      <td>10</td>\n",
       "      <td>3110</td>\n",
       "      <td>1124</td>\n",
       "      <td>1986</td>\n",
       "      <td>0.043350</td>\n",
       "      <td>0.043519</td>\n",
       "      <td>0.043054</td>\n",
       "    </tr>\n",
       "  </tbody>\n",
       "</table>\n",
       "</div>"
      ],
      "text/plain": [
       "  districtcode  customer_id  聚类类别  group0      per1      per2      per3\n",
       "0           01         7564  2734    4830  0.105433  0.105840  0.104723\n",
       "1           02         6328  2369    3959  0.088205  0.086754  0.090742\n",
       "2           03         6174  2299    3875  0.086058  0.084913  0.088061\n",
       "3           04         5962  2262    3700  0.083103  0.081078  0.086643\n",
       "4           05         5669  2204    3465  0.079019  0.075929  0.084422\n",
       "5           06         5549  2072    3477  0.077347  0.076192  0.079366\n",
       "6           07         4064  1524    2540  0.056647  0.055659  0.058375\n",
       "7           08         3685  1398    2287  0.051365  0.050115  0.053549\n",
       "8           09         3217  1216    2001  0.044841  0.043848  0.046578\n",
       "9           10         3110  1124    1986  0.043350  0.043519  0.043054"
      ]
     },
     "execution_count": 17,
     "metadata": {},
     "output_type": "execute_result"
    },
    {
     "data": {
      "text/plain": [
       "<Figure size 432x288 with 0 Axes>"
      ]
     },
     "execution_count": 17,
     "metadata": {},
     "output_type": "execute_result"
    },
    {
     "data": {
      "text/plain": [
       "<BarContainer object of 10 artists>"
      ]
     },
     "execution_count": 17,
     "metadata": {},
     "output_type": "execute_result"
    },
    {
     "data": {
      "text/plain": [
       "Text(0, 0.10543335842323882, '0.11')"
      ]
     },
     "execution_count": 17,
     "metadata": {},
     "output_type": "execute_result"
    },
    {
     "data": {
      "text/plain": [
       "Text(1, 0.08820495665021884, '0.09')"
      ]
     },
     "execution_count": 17,
     "metadata": {},
     "output_type": "execute_result"
    },
    {
     "data": {
      "text/plain": [
       "Text(2, 0.08605837584678432, '0.09')"
      ]
     },
     "execution_count": 17,
     "metadata": {},
     "output_type": "execute_result"
    },
    {
     "data": {
      "text/plain": [
       "Text(3, 0.08310334253296535, '0.08')"
      ]
     },
     "execution_count": 17,
     "metadata": {},
     "output_type": "execute_result"
    },
    {
     "data": {
      "text/plain": [
       "Text(4, 0.07901926347188537, '0.08')"
      ]
     },
     "execution_count": 17,
     "metadata": {},
     "output_type": "execute_result"
    },
    {
     "data": {
      "text/plain": [
       "Text(5, 0.07734660310557274, '0.08')"
      ]
     },
     "execution_count": 17,
     "metadata": {},
     "output_type": "execute_result"
    },
    {
     "data": {
      "text/plain": [
       "Text(6, 0.05664743107245407, '0.06')"
      ]
     },
     "execution_count": 17,
     "metadata": {},
     "output_type": "execute_result"
    },
    {
     "data": {
      "text/plain": [
       "Text(7, 0.05136461208218338, '0.05')"
      ]
     },
     "execution_count": 17,
     "metadata": {},
     "output_type": "execute_result"
    },
    {
     "data": {
      "text/plain": [
       "Text(8, 0.04484123665356416, '0.04')"
      ]
     },
     "execution_count": 17,
     "metadata": {},
     "output_type": "execute_result"
    },
    {
     "data": {
      "text/plain": [
       "Text(9, 0.04334978116026874, '0.04')"
      ]
     },
     "execution_count": 17,
     "metadata": {},
     "output_type": "execute_result"
    },
    {
     "data": {
      "text/plain": [
       "<BarContainer object of 10 artists>"
      ]
     },
     "execution_count": 17,
     "metadata": {},
     "output_type": "execute_result"
    },
    {
     "data": {
      "text/plain": [
       "Text(0.25, 0.10583981593075491, '0.11')"
      ]
     },
     "execution_count": 17,
     "metadata": {},
     "output_type": "execute_result"
    },
    {
     "data": {
      "text/plain": [
       "Text(1.25, 0.08675358825462912, '0.09')"
      ]
     },
     "execution_count": 17,
     "metadata": {},
     "output_type": "execute_result"
    },
    {
     "data": {
      "text/plain": [
       "Text(2.25, 0.08491289580365947, '0.08')"
      ]
     },
     "execution_count": 17,
     "metadata": {},
     "output_type": "execute_result"
    },
    {
     "data": {
      "text/plain": [
       "Text(3.25, 0.08107811986413936, '0.08')"
      ]
     },
     "execution_count": 17,
     "metadata": {},
     "output_type": "execute_result"
    },
    {
     "data": {
      "text/plain": [
       "Text(4.25, 0.07592856360249808, '0.08')"
      ]
     },
     "execution_count": 17,
     "metadata": {},
     "output_type": "execute_result"
    },
    {
     "data": {
      "text/plain": [
       "Text(5.25, 0.07619151966692232, '0.08')"
      ]
     },
     "execution_count": 17,
     "metadata": {},
     "output_type": "execute_result"
    },
    {
     "data": {
      "text/plain": [
       "Text(6.25, 0.05565903363646324, '0.06')"
      ]
     },
     "execution_count": 17,
     "metadata": {},
     "output_type": "execute_result"
    },
    {
     "data": {
      "text/plain": [
       "Text(7.25, 0.050115043278185605, '0.05')"
      ]
     },
     "execution_count": 17,
     "metadata": {},
     "output_type": "execute_result"
    },
    {
     "data": {
      "text/plain": [
       "Text(8.25, 0.04384792374274132, '0.04')"
      ]
     },
     "execution_count": 17,
     "metadata": {},
     "output_type": "execute_result"
    },
    {
     "data": {
      "text/plain": [
       "Text(9.25, 0.04351922866221102, '0.04')"
      ]
     },
     "execution_count": 17,
     "metadata": {},
     "output_type": "execute_result"
    },
    {
     "data": {
      "text/plain": [
       "<BarContainer object of 10 artists>"
      ]
     },
     "execution_count": 17,
     "metadata": {},
     "output_type": "execute_result"
    },
    {
     "data": {
      "text/plain": [
       "Text(0.5, 0.10472287126058145, '0.10')"
      ]
     },
     "execution_count": 17,
     "metadata": {},
     "output_type": "execute_result"
    },
    {
     "data": {
      "text/plain": [
       "Text(1.5, 0.09074194660435898, '0.09')"
      ]
     },
     "execution_count": 17,
     "metadata": {},
     "output_type": "execute_result"
    },
    {
     "data": {
      "text/plain": [
       "Text(2.5, 0.0880606733826177, '0.09')"
      ]
     },
     "execution_count": 17,
     "metadata": {},
     "output_type": "execute_result"
    },
    {
     "data": {
      "text/plain": [
       "Text(3.5, 0.08664342896541158, '0.09')"
      ]
     },
     "execution_count": 17,
     "metadata": {},
     "output_type": "execute_result"
    },
    {
     "data": {
      "text/plain": [
       "Text(4.5, 0.08442180258168307, '0.08')"
      ]
     },
     "execution_count": 17,
     "metadata": {},
     "output_type": "execute_result"
    },
    {
     "data": {
      "text/plain": [
       "Text(5.5, 0.07936568736354234, '0.08')"
      ]
     },
     "execution_count": 17,
     "metadata": {},
     "output_type": "execute_result"
    },
    {
     "data": {
      "text/plain": [
       "Text(6.5, 0.05837514842762478, '0.06')"
      ]
     },
     "execution_count": 17,
     "metadata": {},
     "output_type": "execute_result"
    },
    {
     "data": {
      "text/plain": [
       "Text(7.5, 0.053548856628490446, '0.05')"
      ]
     },
     "execution_count": 17,
     "metadata": {},
     "output_type": "execute_result"
    },
    {
     "data": {
      "text/plain": [
       "Text(8.5, 0.04657754625196307, '0.05')"
      ]
     },
     "execution_count": 17,
     "metadata": {},
     "output_type": "execute_result"
    },
    {
     "data": {
      "text/plain": [
       "Text(9.5, 0.043053587160531655, '0.04')"
      ]
     },
     "execution_count": 17,
     "metadata": {},
     "output_type": "execute_result"
    },
    {
     "data": {
      "text/plain": [
       "([<matplotlib.axis.XTick at 0x1a4a2af5d0>,\n",
       "  <matplotlib.axis.XTick at 0x1a4a2b3950>,\n",
       "  <matplotlib.axis.XTick at 0x1a4a2b3a90>,\n",
       "  <matplotlib.axis.XTick at 0x1a4a2aa690>,\n",
       "  <matplotlib.axis.XTick at 0x1a4a2a2f90>,\n",
       "  <matplotlib.axis.XTick at 0x1a4a2a2a50>,\n",
       "  <matplotlib.axis.XTick at 0x1a4a2a4590>,\n",
       "  <matplotlib.axis.XTick at 0x1a4a2a4a10>,\n",
       "  <matplotlib.axis.XTick at 0x1a4a2a4610>,\n",
       "  <matplotlib.axis.XTick at 0x1a4a2a0d10>],\n",
       " <a list of 10 Text xticklabel objects>)"
      ]
     },
     "execution_count": 17,
     "metadata": {},
     "output_type": "execute_result"
    },
    {
     "data": {
      "text/plain": [
       "Text(0.5, 1.0, 'dist of districtcode')"
      ]
     },
     "execution_count": 17,
     "metadata": {},
     "output_type": "execute_result"
    },
    {
     "data": {
      "text/plain": [
       "<matplotlib.legend.Legend at 0x1a64072b50>"
      ]
     },
     "execution_count": 17,
     "metadata": {},
     "output_type": "execute_result"
    },
    {
     "data": {
      "image/png": "[encoded data removed]",
      "text/plain": [
       "<Figure size 432x288 with 1 Axes>"
      ]
     },
     "metadata": {
      "needs_background": "light"
     },
     "output_type": "display_data"
    }
   ],
   "source": [
    "total1 = temp.shape[0]\n",
    "total2 = temp_group0.shape[0]\n",
    "total3 = temp_group1.shape[0]\n",
    "for cols in col_list:\n",
    "    frame1 = pd.pivot_table(temp, index =cols, values = ['customer_id','聚类类别'],aggfunc = {'customer_id':'count','聚类类别': 'sum'})\n",
    "    frame1 =frame1 .sort_values(by  = 'customer_id', ascending = False)\n",
    "    frame1 = frame1.reset_index()\n",
    "    frame1['group0'] = frame1['customer_id'] - frame1['聚类类别']\n",
    "    frame1['per1'] = frame1['customer_id']/total1\n",
    "    frame1['per2'] = frame1['group0']/total2\n",
    "    frame1['per3'] = frame1['聚类类别']/total3\n",
    "    frame1 = frame1.head(10)\n",
    "    frame1\n",
    "    index = np.arange(len(frame1[cols]))\n",
    "    plt.figure(figsize=(6,4))\n",
    "    plt.bar(index, frame1['per1'], width=0.25,color='#2c6fbb');\n",
    "    for a, b in zip(index, frame1['per1']):\n",
    "        plt.text(a, b, '%.2f' % b, ha='center', va='bottom', fontsize=5);\n",
    "    plt.bar(index + 0.25, frame1['per2'], width=0.25, color = 'sandybrown')\n",
    "    for a, b in zip(index + 0.25, frame1['per2']):\n",
    "        plt.text(a, b, '%.2f' % b, ha='center', va='bottom', fontsize=5);\n",
    "    plt.bar(index + 0.5, frame1['per3'], width=0.25,color = 'mediumseagreen')\n",
    "    for a, b in zip(index + 0.5, frame1['per3']):\n",
    "        plt.text(a, b, '%.2f' % b, ha='center', va='bottom', fontsize=5);\n",
    "    plt.xticks(index+1/3,frame1[cols],rotation=20, fontsize=5);\n",
    "    plt.tick_params(labelsize=5)\n",
    "    plt.title('dist of %s'%cols)\n",
    "    plt.legend(['all','group0','group1'], loc = 'upper right', fontsize=5)\n",
    "    plt.tight_layout();\n",
    "    plt.savefig(os.path.join(fig_path, cols + '.png'), format='png', dpi=300, bbox_inches = 'tight',pad_inches = 0.1)\n",
    "    plt.show();\n",
    "    plt.close();"
   ]
  },
  {
   "cell_type": "code",
   "execution_count": null,
   "metadata": {
    "hidden": true
   },
   "outputs": [],
   "source": [
    "年龄"
   ]
  },
  {
   "cell_type": "code",
   "execution_count": 18,
   "metadata": {
    "hidden": true
   },
   "outputs": [
    {
     "data": {
      "image/png": "[encoded data removed]",
      "text/plain": [
       "<Figure size 432x288 with 1 Axes>"
      ]
     },
     "metadata": {
      "needs_background": "light"
     },
     "output_type": "display_data"
    }
   ],
   "source": [
    "temp1 = temp[~temp['age'].isnull()]\n",
    "temp1_group0 = temp[temp['聚类类别'] == 0]\n",
    "temp1_group1 = temp[temp['聚类类别'] == 1]\n",
    "sns.distplot(temp1['age'],hist=False,color='#2c6fbb');\n",
    "sns.distplot(temp1_group0['age'],hist=False,color = 'sandybrown')\n",
    "sns.distplot(temp1_group1['age'],hist=False,color = 'mediumseagreen')\n",
    "plt.title('dist of age')\n",
    "plt.legend(['all','group0','group1'], loc = 'upper right', fontsize=5)\n",
    "plt.tick_params(labelsize=5)\n",
    "plt.savefig(os.path.join(fig_path, 'age' + '.png'), format='png', dpi=300, bbox_inches = 'tight',pad_inches = 0.1)\n",
    "plt.show();\n",
    "plt.close();"
   ]
  },
  {
   "cell_type": "raw",
   "metadata": {
    "hidden": true
   },
   "source": [
    "年龄&收入"
   ]
  },
  {
   "cell_type": "code",
   "execution_count": 19,
   "metadata": {
    "hidden": true
   },
   "outputs": [
    {
     "data": {
      "text/html": [
       "<div>\n",
       "<style scoped>\n",
       "    .dataframe tbody tr th:only-of-type {\n",
       "        vertical-align: middle;\n",
       "    }\n",
       "\n",
       "    .dataframe tbody tr th {\n",
       "        vertical-align: top;\n",
       "    }\n",
       "\n",
       "    .dataframe thead th {\n",
       "        text-align: right;\n",
       "    }\n",
       "</style>\n",
       "<table border=\"1\" class=\"dataframe\">\n",
       "  <thead>\n",
       "    <tr style=\"text-align: right;\">\n",
       "      <th></th>\n",
       "      <th>salary_rmb_g</th>\n",
       "      <th>customer_id</th>\n",
       "      <th>聚类类别</th>\n",
       "      <th>group0</th>\n",
       "      <th>per1</th>\n",
       "      <th>per2</th>\n",
       "      <th>per3</th>\n",
       "    </tr>\n",
       "  </thead>\n",
       "  <tbody>\n",
       "    <tr>\n",
       "      <th>0</th>\n",
       "      <td>(-inf, 0.0]</td>\n",
       "      <td>12725</td>\n",
       "      <td>4236</td>\n",
       "      <td>8489</td>\n",
       "      <td>0.177372</td>\n",
       "      <td>0.186020</td>\n",
       "      <td>0.162255</td>\n",
       "    </tr>\n",
       "    <tr>\n",
       "      <th>1</th>\n",
       "      <td>(0.0, 1150.0]</td>\n",
       "      <td>1828</td>\n",
       "      <td>662</td>\n",
       "      <td>1166</td>\n",
       "      <td>0.025480</td>\n",
       "      <td>0.025551</td>\n",
       "      <td>0.025357</td>\n",
       "    </tr>\n",
       "    <tr>\n",
       "      <th>2</th>\n",
       "      <td>(1150.0, 1610.0]</td>\n",
       "      <td>6687</td>\n",
       "      <td>2158</td>\n",
       "      <td>4529</td>\n",
       "      <td>0.093209</td>\n",
       "      <td>0.099244</td>\n",
       "      <td>0.082660</td>\n",
       "    </tr>\n",
       "    <tr>\n",
       "      <th>3</th>\n",
       "      <td>(1610.0, 1985.0]</td>\n",
       "      <td>6990</td>\n",
       "      <td>2138</td>\n",
       "      <td>4852</td>\n",
       "      <td>0.097432</td>\n",
       "      <td>0.106322</td>\n",
       "      <td>0.081894</td>\n",
       "    </tr>\n",
       "    <tr>\n",
       "      <th>4</th>\n",
       "      <td>(1985.0, 2100.0]</td>\n",
       "      <td>7686</td>\n",
       "      <td>2694</td>\n",
       "      <td>4992</td>\n",
       "      <td>0.107134</td>\n",
       "      <td>0.109390</td>\n",
       "      <td>0.103191</td>\n",
       "    </tr>\n",
       "    <tr>\n",
       "      <th>5</th>\n",
       "      <td>(2100.0, 2500.0]</td>\n",
       "      <td>10818</td>\n",
       "      <td>3986</td>\n",
       "      <td>6832</td>\n",
       "      <td>0.150790</td>\n",
       "      <td>0.149710</td>\n",
       "      <td>0.152679</td>\n",
       "    </tr>\n",
       "    <tr>\n",
       "      <th>6</th>\n",
       "      <td>(2500.0, 3000.0]</td>\n",
       "      <td>5916</td>\n",
       "      <td>2326</td>\n",
       "      <td>3590</td>\n",
       "      <td>0.082462</td>\n",
       "      <td>0.078668</td>\n",
       "      <td>0.089095</td>\n",
       "    </tr>\n",
       "    <tr>\n",
       "      <th>7</th>\n",
       "      <td>(3000.0, 3600.0]</td>\n",
       "      <td>4310</td>\n",
       "      <td>1503</td>\n",
       "      <td>2807</td>\n",
       "      <td>0.060076</td>\n",
       "      <td>0.061510</td>\n",
       "      <td>0.057571</td>\n",
       "    </tr>\n",
       "    <tr>\n",
       "      <th>8</th>\n",
       "      <td>(3600.0, 6000.0]</td>\n",
       "      <td>7638</td>\n",
       "      <td>3456</td>\n",
       "      <td>4182</td>\n",
       "      <td>0.106465</td>\n",
       "      <td>0.091640</td>\n",
       "      <td>0.132378</td>\n",
       "    </tr>\n",
       "    <tr>\n",
       "      <th>9</th>\n",
       "      <td>(6000.0, inf]</td>\n",
       "      <td>7095</td>\n",
       "      <td>2939</td>\n",
       "      <td>4156</td>\n",
       "      <td>0.098896</td>\n",
       "      <td>0.091070</td>\n",
       "      <td>0.112575</td>\n",
       "    </tr>\n",
       "  </tbody>\n",
       "</table>\n",
       "</div>"
      ],
      "text/plain": [
       "       salary_rmb_g  customer_id  聚类类别  group0      per1      per2      per3\n",
       "0       (-inf, 0.0]        12725  4236    8489  0.177372  0.186020  0.162255\n",
       "1     (0.0, 1150.0]         1828   662    1166  0.025480  0.025551  0.025357\n",
       "2  (1150.0, 1610.0]         6687  2158    4529  0.093209  0.099244  0.082660\n",
       "3  (1610.0, 1985.0]         6990  2138    4852  0.097432  0.106322  0.081894\n",
       "4  (1985.0, 2100.0]         7686  2694    4992  0.107134  0.109390  0.103191\n",
       "5  (2100.0, 2500.0]        10818  3986    6832  0.150790  0.149710  0.152679\n",
       "6  (2500.0, 3000.0]         5916  2326    3590  0.082462  0.078668  0.089095\n",
       "7  (3000.0, 3600.0]         4310  1503    2807  0.060076  0.061510  0.057571\n",
       "8  (3600.0, 6000.0]         7638  3456    4182  0.106465  0.091640  0.132378\n",
       "9     (6000.0, inf]         7095  2939    4156  0.098896  0.091070  0.112575"
      ]
     },
     "execution_count": 19,
     "metadata": {},
     "output_type": "execute_result"
    },
    {
     "data": {
      "text/plain": [
       "<Figure size 432x288 with 0 Axes>"
      ]
     },
     "execution_count": 19,
     "metadata": {},
     "output_type": "execute_result"
    },
    {
     "data": {
      "text/plain": [
       "<BarContainer object of 10 artists>"
      ]
     },
     "execution_count": 19,
     "metadata": {},
     "output_type": "execute_result"
    },
    {
     "data": {
      "text/plain": [
       "Text(0, 0.17737169301106745, '0.18')"
      ]
     },
     "execution_count": 19,
     "metadata": {},
     "output_type": "execute_result"
    },
    {
     "data": {
      "text/plain": [
       "Text(1, 0.02548019291349558, '0.03')"
      ]
     },
     "execution_count": 19,
     "metadata": {},
     "output_type": "execute_result"
    },
    {
     "data": {
      "text/plain": [
       "Text(2, 0.09320899891277076, '0.09')"
      ]
     },
     "execution_count": 19,
     "metadata": {},
     "output_type": "execute_result"
    },
    {
     "data": {
      "text/plain": [
       "Text(3, 0.09743246633771013, '0.10')"
      ]
     },
     "execution_count": 19,
     "metadata": {},
     "output_type": "execute_result"
    },
    {
     "data": {
      "text/plain": [
       "Text(4, 0.10713389646232332, '0.11')"
      ]
     },
     "execution_count": 19,
     "metadata": {},
     "output_type": "execute_result"
    },
    {
     "data": {
      "text/plain": [
       "Text(5, 0.1507903320230827, '0.15')"
      ]
     },
     "execution_count": 19,
     "metadata": {},
     "output_type": "execute_result"
    },
    {
     "data": {
      "text/plain": [
       "Text(6, 0.08246215605921217, '0.08')"
      ]
     },
     "execution_count": 19,
     "metadata": {},
     "output_type": "execute_result"
    },
    {
     "data": {
      "text/plain": [
       "Text(7, 0.060076384823394946, '0.06')"
      ]
     },
     "execution_count": 19,
     "metadata": {},
     "output_type": "execute_result"
    },
    {
     "data": {
      "text/plain": [
       "Text(8, 0.10646483231579827, '0.11')"
      ]
     },
     "execution_count": 19,
     "metadata": {},
     "output_type": "execute_result"
    },
    {
     "data": {
      "text/plain": [
       "Text(9, 0.09889604415823366, '0.10')"
      ]
     },
     "execution_count": 19,
     "metadata": {},
     "output_type": "execute_result"
    },
    {
     "data": {
      "text/plain": [
       "<BarContainer object of 10 artists>"
      ]
     },
     "execution_count": 19,
     "metadata": {},
     "output_type": "execute_result"
    },
    {
     "data": {
      "text/plain": [
       "Text(0.25, 0.18601950257477812, '0.19')"
      ]
     },
     "execution_count": 19,
     "metadata": {},
     "output_type": "execute_result"
    },
    {
     "data": {
      "text/plain": [
       "Text(1.25, 0.025550564259888244, '0.03')"
      ]
     },
     "execution_count": 19,
     "metadata": {},
     "output_type": "execute_result"
    },
    {
     "data": {
      "text/plain": [
       "Text(2.25, 0.09924400131478033, '0.10')"
      ]
     },
     "execution_count": 19,
     "metadata": {},
     "output_type": "execute_result"
    },
    {
     "data": {
      "text/plain": [
       "Text(3.25, 0.106321902048866, '0.11')"
      ]
     },
     "execution_count": 19,
     "metadata": {},
     "output_type": "execute_result"
    },
    {
     "data": {
      "text/plain": [
       "Text(4.25, 0.10938972280048209, '0.11')"
      ]
     },
     "execution_count": 19,
     "metadata": {},
     "output_type": "execute_result"
    },
    {
     "data": {
      "text/plain": [
       "Text(5.25, 0.1497096526788649, '0.15')"
      ]
     },
     "execution_count": 19,
     "metadata": {},
     "output_type": "execute_result"
    },
    {
     "data": {
      "text/plain": [
       "Text(6.25, 0.07866768927358388, '0.08')"
      ]
     },
     "execution_count": 19,
     "metadata": {},
     "output_type": "execute_result"
    },
    {
     "data": {
      "text/plain": [
       "Text(7.25, 0.06150980606990249, '0.06')"
      ]
     },
     "execution_count": 19,
     "metadata": {},
     "output_type": "execute_result"
    },
    {
     "data": {
      "text/plain": [
       "Text(8.25, 0.09164018845184617, '0.09')"
      ]
     },
     "execution_count": 19,
     "metadata": {},
     "output_type": "execute_result"
    },
    {
     "data": {
      "text/plain": [
       "Text(9.25, 0.09107045031226033, '0.09')"
      ]
     },
     "execution_count": 19,
     "metadata": {},
     "output_type": "execute_result"
    },
    {
     "data": {
      "text/plain": [
       "<BarContainer object of 10 artists>"
      ]
     },
     "execution_count": 19,
     "metadata": {},
     "output_type": "execute_result"
    },
    {
     "data": {
      "text/plain": [
       "Text(0.5, 0.16225533381851612, '0.16')"
      ]
     },
     "execution_count": 19,
     "metadata": {},
     "output_type": "execute_result"
    },
    {
     "data": {
      "text/plain": [
       "Text(1.5, 0.025357183897039108, '0.03')"
      ]
     },
     "execution_count": 19,
     "metadata": {},
     "output_type": "execute_result"
    },
    {
     "data": {
      "text/plain": [
       "Text(2.5, 0.08265982303596736, '0.08')"
      ]
     },
     "execution_count": 19,
     "metadata": {},
     "output_type": "execute_result"
    },
    {
     "data": {
      "text/plain": [
       "Text(3.5, 0.0818937449726127, '0.08')"
      ]
     },
     "execution_count": 19,
     "metadata": {},
     "output_type": "execute_result"
    },
    {
     "data": {
      "text/plain": [
       "Text(4.5, 0.10319071513387214, '0.10')"
      ]
     },
     "execution_count": 19,
     "metadata": {},
     "output_type": "execute_result"
    },
    {
     "data": {
      "text/plain": [
       "Text(5.5, 0.15267935802658292, '0.15')"
      ]
     },
     "execution_count": 19,
     "metadata": {},
     "output_type": "execute_result"
    },
    {
     "data": {
      "text/plain": [
       "Text(6.5, 0.08909487876814648, '0.09')"
      ]
     },
     "execution_count": 19,
     "metadata": {},
     "output_type": "execute_result"
    },
    {
     "data": {
      "text/plain": [
       "Text(7.5, 0.05757076646110239, '0.06')"
      ]
     },
     "execution_count": 19,
     "metadata": {},
     "output_type": "execute_result"
    },
    {
     "data": {
      "text/plain": [
       "Text(8.5, 0.13237828934768453, '0.13')"
      ]
     },
     "execution_count": 19,
     "metadata": {},
     "output_type": "execute_result"
    },
    {
     "data": {
      "text/plain": [
       "Text(9.5, 0.11257517140996667, '0.11')"
      ]
     },
     "execution_count": 19,
     "metadata": {},
     "output_type": "execute_result"
    },
    {
     "data": {
      "text/plain": [
       "([<matplotlib.axis.XTick at 0x1a3a2aba90>,\n",
       "  <matplotlib.axis.XTick at 0x1a3a2ab090>,\n",
       "  <matplotlib.axis.XTick at 0x1a7f581d10>,\n",
       "  <matplotlib.axis.XTick at 0x1a3a2bc910>,\n",
       "  <matplotlib.axis.XTick at 0x1a3a2bce50>,\n",
       "  <matplotlib.axis.XTick at 0x1a3a2be450>,\n",
       "  <matplotlib.axis.XTick at 0x1a3a2bea90>,\n",
       "  <matplotlib.axis.XTick at 0x1a3a2bf0d0>,\n",
       "  <matplotlib.axis.XTick at 0x1a3a2bf790>,\n",
       "  <matplotlib.axis.XTick at 0x1a3a2bfd10>],\n",
       " <a list of 10 Text xticklabel objects>)"
      ]
     },
     "execution_count": 19,
     "metadata": {},
     "output_type": "execute_result"
    },
    {
     "data": {
      "text/plain": [
       "Text(0.5, 1.0, 'dist of salary_rmb_g')"
      ]
     },
     "execution_count": 19,
     "metadata": {},
     "output_type": "execute_result"
    },
    {
     "data": {
      "text/plain": [
       "<matplotlib.legend.Legend at 0x1a3a2c1d10>"
      ]
     },
     "execution_count": 19,
     "metadata": {},
     "output_type": "execute_result"
    },
    {
     "data": {
      "image/png": "[encoded data removed]",
      "text/plain": [
       "<Figure size 432x288 with 1 Axes>"
      ]
     },
     "metadata": {
      "needs_background": "light"
     },
     "output_type": "display_data"
    },
    {
     "data": {
      "text/html": [
       "<div>\n",
       "<style scoped>\n",
       "    .dataframe tbody tr th:only-of-type {\n",
       "        vertical-align: middle;\n",
       "    }\n",
       "\n",
       "    .dataframe tbody tr th {\n",
       "        vertical-align: top;\n",
       "    }\n",
       "\n",
       "    .dataframe thead th {\n",
       "        text-align: right;\n",
       "    }\n",
       "</style>\n",
       "<table border=\"1\" class=\"dataframe\">\n",
       "  <thead>\n",
       "    <tr style=\"text-align: right;\">\n",
       "      <th></th>\n",
       "      <th>age_g</th>\n",
       "      <th>customer_id</th>\n",
       "      <th>聚类类别</th>\n",
       "      <th>group0</th>\n",
       "      <th>per1</th>\n",
       "      <th>per2</th>\n",
       "      <th>per3</th>\n",
       "    </tr>\n",
       "  </thead>\n",
       "  <tbody>\n",
       "    <tr>\n",
       "      <th>0</th>\n",
       "      <td>(-0.001, 21.0]</td>\n",
       "      <td>761</td>\n",
       "      <td>238</td>\n",
       "      <td>523</td>\n",
       "      <td>0.010607</td>\n",
       "      <td>0.011461</td>\n",
       "      <td>0.009116</td>\n",
       "    </tr>\n",
       "    <tr>\n",
       "      <th>1</th>\n",
       "      <td>(21.0, 25.0]</td>\n",
       "      <td>9844</td>\n",
       "      <td>3446</td>\n",
       "      <td>6398</td>\n",
       "      <td>0.137214</td>\n",
       "      <td>0.140199</td>\n",
       "      <td>0.131995</td>\n",
       "    </tr>\n",
       "    <tr>\n",
       "      <th>2</th>\n",
       "      <td>(25.0, 30.0]</td>\n",
       "      <td>16937</td>\n",
       "      <td>6343</td>\n",
       "      <td>10594</td>\n",
       "      <td>0.236082</td>\n",
       "      <td>0.232146</td>\n",
       "      <td>0.242962</td>\n",
       "    </tr>\n",
       "    <tr>\n",
       "      <th>3</th>\n",
       "      <td>(30.0, 35.0]</td>\n",
       "      <td>16250</td>\n",
       "      <td>6012</td>\n",
       "      <td>10238</td>\n",
       "      <td>0.226506</td>\n",
       "      <td>0.224345</td>\n",
       "      <td>0.230283</td>\n",
       "    </tr>\n",
       "    <tr>\n",
       "      <th>4</th>\n",
       "      <td>(35.0, 40.0]</td>\n",
       "      <td>13048</td>\n",
       "      <td>4720</td>\n",
       "      <td>8328</td>\n",
       "      <td>0.181874</td>\n",
       "      <td>0.182492</td>\n",
       "      <td>0.180794</td>\n",
       "    </tr>\n",
       "    <tr>\n",
       "      <th>5</th>\n",
       "      <td>(40.0, 45.0]</td>\n",
       "      <td>8277</td>\n",
       "      <td>2976</td>\n",
       "      <td>5301</td>\n",
       "      <td>0.115372</td>\n",
       "      <td>0.116161</td>\n",
       "      <td>0.113992</td>\n",
       "    </tr>\n",
       "    <tr>\n",
       "      <th>6</th>\n",
       "      <td>(45.0, 50.0]</td>\n",
       "      <td>4641</td>\n",
       "      <td>1634</td>\n",
       "      <td>3007</td>\n",
       "      <td>0.064690</td>\n",
       "      <td>0.065892</td>\n",
       "      <td>0.062589</td>\n",
       "    </tr>\n",
       "    <tr>\n",
       "      <th>7</th>\n",
       "      <td>(50.0, 55.0]</td>\n",
       "      <td>1638</td>\n",
       "      <td>638</td>\n",
       "      <td>1000</td>\n",
       "      <td>0.022832</td>\n",
       "      <td>0.021913</td>\n",
       "      <td>0.024438</td>\n",
       "    </tr>\n",
       "    <tr>\n",
       "      <th>8</th>\n",
       "      <td>(55.0, 60.0]</td>\n",
       "      <td>297</td>\n",
       "      <td>89</td>\n",
       "      <td>208</td>\n",
       "      <td>0.004140</td>\n",
       "      <td>0.004558</td>\n",
       "      <td>0.003409</td>\n",
       "    </tr>\n",
       "    <tr>\n",
       "      <th>9</th>\n",
       "      <td>(60.0, 65.0]</td>\n",
       "      <td>40</td>\n",
       "      <td>9</td>\n",
       "      <td>31</td>\n",
       "      <td>0.000558</td>\n",
       "      <td>0.000679</td>\n",
       "      <td>0.000345</td>\n",
       "    </tr>\n",
       "  </tbody>\n",
       "</table>\n",
       "</div>"
      ],
      "text/plain": [
       "            age_g  customer_id  聚类类别  group0      per1      per2      per3\n",
       "0  (-0.001, 21.0]          761   238     523  0.010607  0.011461  0.009116\n",
       "1    (21.0, 25.0]         9844  3446    6398  0.137214  0.140199  0.131995\n",
       "2    (25.0, 30.0]        16937  6343   10594  0.236082  0.232146  0.242962\n",
       "3    (30.0, 35.0]        16250  6012   10238  0.226506  0.224345  0.230283\n",
       "4    (35.0, 40.0]        13048  4720    8328  0.181874  0.182492  0.180794\n",
       "5    (40.0, 45.0]         8277  2976    5301  0.115372  0.116161  0.113992\n",
       "6    (45.0, 50.0]         4641  1634    3007  0.064690  0.065892  0.062589\n",
       "7    (50.0, 55.0]         1638   638    1000  0.022832  0.021913  0.024438\n",
       "8    (55.0, 60.0]          297    89     208  0.004140  0.004558  0.003409\n",
       "9    (60.0, 65.0]           40     9      31  0.000558  0.000679  0.000345"
      ]
     },
     "execution_count": 19,
     "metadata": {},
     "output_type": "execute_result"
    },
    {
     "data": {
      "text/plain": [
       "<Figure size 432x288 with 0 Axes>"
      ]
     },
     "execution_count": 19,
     "metadata": {},
     "output_type": "execute_result"
    },
    {
     "data": {
      "text/plain": [
       "<BarContainer object of 10 artists>"
      ]
     },
     "execution_count": 19,
     "metadata": {},
     "output_type": "execute_result"
    },
    {
     "data": {
      "text/plain": [
       "Text(0, 0.0106074544896992, '0.01')"
      ]
     },
     "execution_count": 19,
     "metadata": {},
     "output_type": "execute_result"
    },
    {
     "data": {
      "text/plain": [
       "Text(1, 0.13721390538317862, '0.14')"
      ]
     },
     "execution_count": 19,
     "metadata": {},
     "output_type": "execute_result"
    },
    {
     "data": {
      "text/plain": [
       "Text(2, 0.23608207186864041, '0.24')"
      ]
     },
     "execution_count": 19,
     "metadata": {},
     "output_type": "execute_result"
    },
    {
     "data": {
      "text/plain": [
       "Text(3, 0.22650609127150065, '0.23')"
      ]
     },
     "execution_count": 19,
     "metadata": {},
     "output_type": "execute_result"
    },
    {
     "data": {
      "text/plain": [
       "Text(4, 0.18187393716372557, '0.18')"
      ]
     },
     "execution_count": 19,
     "metadata": {},
     "output_type": "execute_result"
    },
    {
     "data": {
      "text/plain": [
       "Text(5, 0.11537174876641298, '0.12')"
      ]
     },
     "execution_count": 19,
     "metadata": {},
     "output_type": "execute_result"
    },
    {
     "data": {
      "text/plain": [
       "Text(6, 0.06469013966714059, '0.06')"
      ]
     },
     "execution_count": 19,
     "metadata": {},
     "output_type": "execute_result"
    },
    {
     "data": {
      "text/plain": [
       "Text(7, 0.022831814000167264, '0.02')"
      ]
     },
     "execution_count": 19,
     "metadata": {},
     "output_type": "execute_result"
    },
    {
     "data": {
      "text/plain": [
       "Text(8, 0.004139834406623735, '0.00')"
      ]
     },
     "execution_count": 19,
     "metadata": {},
     "output_type": "execute_result"
    },
    {
     "data": {
      "text/plain": [
       "Text(9, 0.00055755345543754, '0.00')"
      ]
     },
     "execution_count": 19,
     "metadata": {},
     "output_type": "execute_result"
    },
    {
     "data": {
      "text/plain": [
       "<BarContainer object of 10 artists>"
      ]
     },
     "execution_count": 19,
     "metadata": {},
     "output_type": "execute_result"
    },
    {
     "data": {
      "text/plain": [
       "Text(0.25, 0.011460501807822944, '0.01')"
      ]
     },
     "execution_count": 19,
     "metadata": {},
     "output_type": "execute_result"
    },
    {
     "data": {
      "text/plain": [
       "Text(1.25, 0.14019940834885505, '0.14')"
      ]
     },
     "execution_count": 19,
     "metadata": {},
     "output_type": "execute_result"
    },
    {
     "data": {
      "text/plain": [
       "Text(2.25, 0.2321463788758628, '0.23')"
      ]
     },
     "execution_count": 19,
     "metadata": {},
     "output_type": "execute_result"
    },
    {
     "data": {
      "text/plain": [
       "Text(3.25, 0.2243453489646105, '0.22')"
      ]
     },
     "execution_count": 19,
     "metadata": {},
     "output_type": "execute_result"
    },
    {
     "data": {
      "text/plain": [
       "Text(4.25, 0.18249150871041964, '0.18')"
      ]
     },
     "execution_count": 19,
     "metadata": {},
     "output_type": "execute_result"
    },
    {
     "data": {
      "text/plain": [
       "Text(5.25, 0.11616084145940615, '0.12')"
      ]
     },
     "execution_count": 19,
     "metadata": {},
     "output_type": "execute_result"
    },
    {
     "data": {
      "text/plain": [
       "Text(6.25, 0.06589240714363975, '0.07')"
      ]
     },
     "execution_count": 19,
     "metadata": {},
     "output_type": "execute_result"
    },
    {
     "data": {
      "text/plain": [
       "Text(7.25, 0.021913005368686317, '0.02')"
      ]
     },
     "execution_count": 19,
     "metadata": {},
     "output_type": "execute_result"
    },
    {
     "data": {
      "text/plain": [
       "Text(8.25, 0.004557905116686753, '0.00')"
      ]
     },
     "execution_count": 19,
     "metadata": {},
     "output_type": "execute_result"
    },
    {
     "data": {
      "text/plain": [
       "Text(9.25, 0.0006793031664292758, '0.00')"
      ]
     },
     "execution_count": 19,
     "metadata": {},
     "output_type": "execute_result"
    },
    {
     "data": {
      "text/plain": [
       "<BarContainer object of 10 artists>"
      ]
     },
     "execution_count": 19,
     "metadata": {},
     "output_type": "execute_result"
    },
    {
     "data": {
      "text/plain": [
       "Text(0.5, 0.009116328953920404, '0.01')"
      ]
     },
     "execution_count": 19,
     "metadata": {},
     "output_type": "execute_result"
    },
    {
     "data": {
      "text/plain": [
       "Text(1.5, 0.1319952503160072, '0.13')"
      ]
     },
     "execution_count": 19,
     "metadata": {},
     "output_type": "execute_result"
    },
    {
     "data": {
      "text/plain": [
       "Text(2.5, 0.2429616577929291, '0.24')"
      ]
     },
     "execution_count": 19,
     "metadata": {},
     "output_type": "execute_result"
    },
    {
     "data": {
      "text/plain": [
       "Text(3.5, 0.23028306584440955, '0.23')"
      ]
     },
     "execution_count": 19,
     "metadata": {},
     "output_type": "execute_result"
    },
    {
     "data": {
      "text/plain": [
       "Text(4.5, 0.18079442295169879, '0.18')"
      ]
     },
     "execution_count": 19,
     "metadata": {},
     "output_type": "execute_result"
    },
    {
     "data": {
      "text/plain": [
       "Text(5.5, 0.11399241582717279, '0.11')"
      ]
     },
     "execution_count": 19,
     "metadata": {},
     "output_type": "execute_result"
    },
    {
     "data": {
      "text/plain": [
       "Text(6.5, 0.06258857777607538, '0.06')"
      ]
     },
     "execution_count": 19,
     "metadata": {},
     "output_type": "execute_result"
    },
    {
     "data": {
      "text/plain": [
       "Text(7.5, 0.02443789022101352, '0.02')"
      ]
     },
     "execution_count": 19,
     "metadata": {},
     "output_type": "execute_result"
    },
    {
     "data": {
      "text/plain": [
       "Text(8.5, 0.0034090473819282183, '0.00')"
      ]
     },
     "execution_count": 19,
     "metadata": {},
     "output_type": "execute_result"
    },
    {
     "data": {
      "text/plain": [
       "Text(9.5, 0.00034473512850959515, '0.00')"
      ]
     },
     "execution_count": 19,
     "metadata": {},
     "output_type": "execute_result"
    },
    {
     "data": {
      "text/plain": [
       "([<matplotlib.axis.XTick at 0x1a3a2c65d0>,\n",
       "  <matplotlib.axis.XTick at 0x1a3a2c75d0>,\n",
       "  <matplotlib.axis.XTick at 0x1a3a2c7ad0>,\n",
       "  <matplotlib.axis.XTick at 0x1a3a2db290>,\n",
       "  <matplotlib.axis.XTick at 0x1a3a2db790>,\n",
       "  <matplotlib.axis.XTick at 0x1a3a2dbe10>,\n",
       "  <matplotlib.axis.XTick at 0x1a3a2dc4d0>,\n",
       "  <matplotlib.axis.XTick at 0x1a3a2dcb50>,\n",
       "  <matplotlib.axis.XTick at 0x1a3a2dd250>,\n",
       "  <matplotlib.axis.XTick at 0x1a3a2dd850>],\n",
       " <a list of 10 Text xticklabel objects>)"
      ]
     },
     "execution_count": 19,
     "metadata": {},
     "output_type": "execute_result"
    },
    {
     "data": {
      "text/plain": [
       "Text(0.5, 1.0, 'dist of age_g')"
      ]
     },
     "execution_count": 19,
     "metadata": {},
     "output_type": "execute_result"
    },
    {
     "data": {
      "text/plain": [
       "<matplotlib.legend.Legend at 0x1a3a2d1c90>"
      ]
     },
     "execution_count": 19,
     "metadata": {},
     "output_type": "execute_result"
    },
    {
     "data": {
      "image/png": "[encoded data removed]",
      "text/plain": [
       "<Figure size 432x288 with 1 Axes>"
      ]
     },
     "metadata": {
      "needs_background": "light"
     },
     "output_type": "display_data"
    }
   ],
   "source": [
    "col2_list = ['salary_rmb_g', 'age_g']\n",
    "total = temp.shape[0]\n",
    "for cols in col2_list:\n",
    "    temp1 = temp[~temp[cols].isnull()]\n",
    "    frame1 = pd.pivot_table(temp, index =cols, values = ['customer_id','聚类类别'],aggfunc = {'customer_id':'count','聚类类别': 'sum'})\n",
    "    frame1 =frame1.sort_index(ascending = True)\n",
    "    frame1 = frame1.reset_index()\n",
    "    frame1['group0'] = frame1['customer_id'] - frame1['聚类类别']\n",
    "    frame1['per1'] = frame1['customer_id']/total1\n",
    "    frame1['per2'] = frame1['group0']/total2\n",
    "    frame1['per3'] = frame1['聚类类别']/total3\n",
    "    frame1 = frame1.head(10)\n",
    "    frame1\n",
    "    index = np.arange(len(frame1[cols]))\n",
    "    plt.figure(figsize=(6,4))\n",
    "    plt.bar(index, frame1['per1'], width=0.25,color='#2c6fbb');\n",
    "    for a, b in zip(index, frame1['per1']):\n",
    "        plt.text(a, b, '%.2f' % b, ha='center', va='bottom', fontsize=5);\n",
    "    plt.bar(index + 0.25, frame1['per2'], width=0.25,color = 'sandybrown')\n",
    "    for a, b in zip(index + 0.25, frame1['per2']):\n",
    "        plt.text(a, b, '%.2f' % b, ha='center', va='bottom', fontsize=5);\n",
    "    plt.bar(index + 0.5, frame1['per3'], width=0.25,color = 'mediumseagreen')\n",
    "    for a, b in zip(index + 0.5, frame1['per3']):\n",
    "        plt.text(a, b, '%.2f' % b, ha='center', va='bottom', fontsize=5);\n",
    "    plt.xticks(index+1/3,frame1[cols],rotation=20, fontsize=5);\n",
    "    plt.tick_params(labelsize=5)\n",
    "    plt.title('dist of %s'%cols)\n",
    "    plt.legend(['all','group0','group1'], loc = 'upper right', fontsize=5)\n",
    "    plt.tight_layout();\n",
    "    plt.savefig(os.path.join(fig_path, cols + '.png'), format='png', dpi=300, bbox_inches = 'tight',pad_inches = 0.1)\n",
    "    plt.show();\n",
    "    plt.close();"
   ]
  },
  {
   "cell_type": "markdown",
   "metadata": {},
   "source": [
    "# 决策树"
   ]
  },
  {
   "cell_type": "code",
   "execution_count": null,
   "metadata": {},
   "outputs": [],
   "source": [
    "df_tree = load_data_from_pickle(file_path, 'df0117.pkl')"
   ]
  },
  {
   "cell_type": "code",
   "execution_count": 21,
   "metadata": {},
   "outputs": [
    {
     "data": {
      "text/plain": [
       "['customer_id',\n",
       " 'first_apply_date',\n",
       " 'cnt_loan',\n",
       " 'cnt_extend',\n",
       " 'max_extend',\n",
       " 'first_effective_now',\n",
       " 'last_effective_now',\n",
       " 'cnt_loan_90d',\n",
       " 'cnt_loan_180d',\n",
       " 'gap_fundday',\n",
       " 'm3_m6',\n",
       " 'profit',\n",
       " 'is_profit',\n",
       " 'total_order',\n",
       " 'rucui_loan',\n",
       " 'rucui_order',\n",
       " 'chucui_loan',\n",
       " 'chucui_order',\n",
       " 'chucui_days',\n",
       " 'max_chucui_days',\n",
       " '聚类类别',\n",
       " 'apply_id',\n",
       " 'apply_time',\n",
       " 'apply_date',\n",
       " 'reg_time',\n",
       " 'cell_phone',\n",
       " 'mail',\n",
       " 'id_card_no',\n",
       " 'marital_status',\n",
       " 'religion',\n",
       " 'education',\n",
       " 'channel',\n",
       " 'device',\n",
       " 'provincecode',\n",
       " 'citycode',\n",
       " 'districtcode',\n",
       " 'gender',\n",
       " 'age',\n",
       " 'occupation_type',\n",
       " 'job',\n",
       " 'industry_involved',\n",
       " 'monthly_salary',\n",
       " 'company_area',\n",
       " 'employee_number',\n",
       " 'jobless_time_income',\n",
       " 'monthly_income_resource',\n",
       " 'pre_work_industry',\n",
       " 'pre_work_income',\n",
       " 'bank_code',\n",
       " 'brand',\n",
       " 'heightpixels',\n",
       " 'widthpixels',\n",
       " 'manufacturer',\n",
       " 'model',\n",
       " 'version',\n",
       " 'apply_month',\n",
       " 'diff_apply_reg',\n",
       " 'mail_type',\n",
       " 'salary_rmb',\n",
       " 'salary_rmb_g',\n",
       " 'pixels',\n",
       " 'age_g']"
      ]
     },
     "execution_count": 21,
     "metadata": {},
     "output_type": "execute_result"
    }
   ],
   "source": [
    "remain_List = ['customer_id',\n",
    " '聚类类别',\n",
    " 'marital_status',\n",
    " 'religion',\n",
    " 'education',\n",
    " 'channel',\n",
    " 'device',\n",
    " 'provincecode',\n",
    " 'citycode',\n",
    " 'districtcode',\n",
    " 'gender',\n",
    " 'age',\n",
    " 'occupation_type',\n",
    " 'job',\n",
    " 'industry_involved',\n",
    " 'monthly_salary',\n",
    " 'bank_code',\n",
    " 'brand',\n",
    " 'manufacturer',\n",
    " 'model',\n",
    " 'mail_type',\n",
    " 'salary_rmb',\n",
    " 'pixels']"
   ]
  },
  {
   "cell_type": "code",
   "execution_count": null,
   "metadata": {},
   "outputs": [],
   "source": []
  }
 ],
 "metadata": {
  "kernelspec": {
   "display_name": "Python 3",
   "language": "python",
   "name": "python3"
  },
  "language_info": {
   "codemirror_mode": {
    "name": "ipython",
    "version": 3
   },
   "file_extension": ".py",
   "mimetype": "text/x-python",
   "name": "python",
   "nbconvert_exporter": "python",
   "pygments_lexer": "ipython3",
   "version": "3.7.5"
  },
  "latex_envs": {
   "LaTeX_envs_menu_present": true,
   "autoclose": false,
   "autocomplete": true,
   "bibliofile": "biblio.bib",
   "cite_by": "apalike",
   "current_citInitial": 1,
   "eqLabelWithNumbers": true,
   "eqNumInitial": 1,
   "hotkeys": {
    "equation": "Ctrl-E",
    "itemize": "Ctrl-I"
   },
   "labels_anchors": false,
   "latex_user_defs": false,
   "report_style_numbering": false,
   "user_envs_cfg": false
  },
  "toc": {
   "base_numbering": 1,
   "nav_menu": {},
   "number_sections": true,
   "sideBar": true,
   "skip_h1_title": false,
   "title_cell": "Table of Contents",
   "title_sidebar": "Contents",
   "toc_cell": false,
   "toc_position": {
    "height": "calc(100% - 180px)",
    "left": "10px",
    "top": "150px",
    "width": "336px"
   },
   "toc_section_display": true,
   "toc_window_display": true
  },
  "varInspector": {
   "cols": {
    "lenName": 16,
    "lenType": 16,
    "lenVar": 40
   },
   "kernels_config": {
    "python": {
     "delete_cmd_postfix": "",
     "delete_cmd_prefix": "del ",
     "library": "var_list.py",
     "varRefreshCmd": "print(var_dic_list())"
    },
    "r": {
     "delete_cmd_postfix": ") ",
     "delete_cmd_prefix": "rm(",
     "library": "var_list.r",
     "varRefreshCmd": "cat(var_dic_list()) "
    }
   },
   "types_to_exclude": [
    "module",
    "function",
    "builtin_function_or_method",
    "instance",
    "_Feature"
   ],
   "window_display": false
  }
 },
 "nbformat": 4,
 "nbformat_minor": 2
}
