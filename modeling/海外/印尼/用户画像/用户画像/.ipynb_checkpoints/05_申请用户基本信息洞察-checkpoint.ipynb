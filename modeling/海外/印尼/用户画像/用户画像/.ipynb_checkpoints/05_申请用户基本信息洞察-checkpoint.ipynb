{
 "cells": [
  {
   "cell_type": "code",
   "execution_count": 1,
   "metadata": {},
   "outputs": [],
   "source": [
    "import os\n",
    "import sys\n",
    "import time\n",
    "import pandas as pd \n",
    "pd.set_option('display.max_columns', None)\n",
    "pd.set_option('display.max_rows', None)\n",
    "import numpy as np\n",
    "import re\n",
    "import seaborn as sns\n",
    "import matplotlib.pyplot as plt\n",
    "from collections import Counter\n",
    "sys.path.append('/Users/yantingting/PycharmProjects/modeling/')\n",
    "import database_conncet as data_con\n",
    "import data_processing as dp\n",
    "import summary_statistics as ss\n",
    "from data_io_utils import *"
   ]
  },
  {
   "cell_type": "code",
   "execution_count": 2,
   "metadata": {},
   "outputs": [],
   "source": [
    "file_path = '/Users/yantingting/Documents/用户画像(印尼)/dataprepare/apply_data/'"
   ]
  },
  {
   "cell_type": "markdown",
   "metadata": {
    "heading_collapsed": true
   },
   "source": [
    "# 放款标签"
   ]
  },
  {
   "cell_type": "code",
   "execution_count": 24,
   "metadata": {
    "hidden": true
   },
   "outputs": [],
   "source": [
    "query_temp= '''\n",
    "select customer_id,\n",
    "min(date(apply_time)) as first_apply_date,\n",
    "max(date(apply_time)) as last_apply_date,\n",
    "count(distinct loan_no ) as cnt_apply,\n",
    "count(distinct case when effective_date != '1970-01-01' then loan_no else null end ) as cnt_loan,\n",
    "sum(case when effective_date != '1970-01-01' then extend_times else 0 end) cnt_extend,\n",
    "max(case when effective_date != '1970-01-01' then extend_times else 0 end) max_extend,\n",
    "min(case when effective_date !='1970-01-01' and effective_date is not null then effective_date else null end ) as first_effective_date,\n",
    "max(case when effective_date !='1970-01-01' and effective_date is not null then effective_date else null end ) as last_effective_date\n",
    "from dw_gocash_go_cash_loan_gocash_core_loan\n",
    "group by customer_id;\n",
    "'''"
   ]
  },
  {
   "cell_type": "code",
   "execution_count": 22,
   "metadata": {
    "hidden": true
   },
   "outputs": [
    {
     "name": "stdout",
     "output_type": "stream",
     "text": [
      "Successful connection\n"
     ]
    }
   ],
   "source": [
    "df_flag = data_con.database_gn(query_temp)\n",
    "df_flag['is_fund'] = df_flag['cnt_loan'].apply(lambda x: 1 if x>0 else 0)\n",
    "df_flag['diff_fist_apply'] = df_flag['first_apply_date'].apply(lambda x: (pd.to_datetime('2019-12-31')- pd.to_datetime(x)).days)\n",
    "df_flag['diff_last_apply'] = df_flag['last_apply_date'].apply(lambda x: (pd.to_datetime('2019-12-31')- pd.to_datetime(x)).days)\n",
    "df_flag['diff_fist_fund'] = df_flag['first_effective_date'].apply(lambda x: (pd.to_datetime('2019-12-31')- pd.to_datetime(x)).days if x is not None else np.nan)\n",
    "df_flag['diff_last_fund'] = df_flag['last_effective_date'].apply(lambda x: (pd.to_datetime('2019-12-31')- pd.to_datetime(x)).days if x is not None else np.nan)\n",
    "save_data_to_pickle(df_flag, file_path, 'df_flag.pkl')  "
   ]
  },
  {
   "cell_type": "markdown",
   "metadata": {
    "heading_collapsed": true
   },
   "source": [
    "# 申请样本"
   ]
  },
  {
   "cell_type": "code",
   "execution_count": null,
   "metadata": {
    "hidden": true
   },
   "outputs": [],
   "source": [
    "query1 = '''\n",
    "select t_key.id as apply_id,t_key.customer_id, t_key.apply_time,t_key.apply_date,\n",
    "t_reg.reg_time,\n",
    "t_base.cell_phone,\n",
    "t_base.mail\n",
    ", t_base.id_card_no\n",
    ", t_base.id_card_address\n",
    ", t_base.marital_status\n",
    ", t_base.religion\n",
    ", t_base.education\n",
    ", t_base.channel\n",
    ", t_base.device\n",
    ", t_base.provincecode\n",
    ", t_base.citycode\n",
    ", t_base.districtcode\n",
    ", t_base.gender\n",
    ", t_base.age\n",
    ", t_job.occupation_type\n",
    ", t_job.job\n",
    ", t_job.industry_involved\n",
    ", t_job.monthly_salary\n",
    ", t_job.company_area\n",
    ", t_job.employee_number\n",
    ", t_job.jobless_time_income\n",
    ", t_job.monthly_income_resource\n",
    ", t_job.pre_work_industry\n",
    ", t_job.pre_work_income\n",
    ", t_bank.bank_code\n",
    ", t_refer.cnt_refer\n",
    ", t_refer.cnt_refertype\n",
    ", t_refer.cnt_bro_sis\n",
    ", t_refer.cnt_self\n",
    ", t_refer.cnt_spouse\n",
    ", t_refer.cnt_friend\n",
    ", t_refer.cnt_kinsfolk\n",
    ", t_refer.cnt_parents\n",
    ", t_gps.jailbreak_status\n",
    ", t_gps.simulator_status\n",
    ", t_gps.latitude\n",
    ", t_gps.longitude\n",
    ", t_gps.direction\n",
    ", t_gps.speed\n",
    ", t_gps.altitude\n",
    ", t_gps.accuracy\n",
    ", t_device.brand\n",
    ", t_device.heightPixels\n",
    ", t_device.widthPixels\n",
    ", t_device.manufacturer\n",
    ", t_device.model\n",
    ", t_device.version\n",
    "from \n",
    "(select * from temp_key_hx \n",
    "where date(apply_time) between '2019-10-01' and '2019-12-31')t_key \n",
    "left join temp_regtime_hx t_reg \n",
    "on t_key.customer_id = t_reg.customer_id\n",
    "left join temp_baseinfo_hx t_base \n",
    "on t_key.customer_id = t_base.customer_id\n",
    "left join temp_jobinfo_hx t_job \n",
    "on t_key.customer_id = t_job.customer_id\n",
    "left join temp_bankinfo_hx t_bank \n",
    "on t_key.customer_id = t_bank.customer_id\n",
    "left join temp_referinfo_hx t_refer \n",
    "on t_key.customer_id = t_refer.customer_id\n",
    "left join temp_gpsinfo_hx t_gps \n",
    "on t_key.customer_id::varchar = t_gps.customer_id\n",
    "left join temp_deviceinfo_hx t_device\n",
    "on t_key.customer_id = t_device.customer_id;\n",
    "'''"
   ]
  },
  {
   "cell_type": "code",
   "execution_count": null,
   "metadata": {
    "hidden": true
   },
   "outputs": [],
   "source": [
    "df_var1 = data_con.database_gn(query1)\n",
    "df_var1.to_csv(os.path.join(file_path, 'df_var1.csv'), index = False)\n",
    "save_data_to_pickle(df_var1, file_path, 'df_vars.pkl')"
   ]
  },
  {
   "cell_type": "markdown",
   "metadata": {
    "heading_collapsed": true
   },
   "source": [
    "# 数据检查&变量衍生"
   ]
  },
  {
   "cell_type": "code",
   "execution_count": 29,
   "metadata": {
    "hidden": true,
    "scrolled": true
   },
   "outputs": [
    {
     "data": {
      "text/html": [
       "<div>\n",
       "<style scoped>\n",
       "    .dataframe tbody tr th:only-of-type {\n",
       "        vertical-align: middle;\n",
       "    }\n",
       "\n",
       "    .dataframe tbody tr th {\n",
       "        vertical-align: top;\n",
       "    }\n",
       "\n",
       "    .dataframe thead th {\n",
       "        text-align: right;\n",
       "    }\n",
       "</style>\n",
       "<table border=\"1\" class=\"dataframe\">\n",
       "  <thead>\n",
       "    <tr style=\"text-align: right;\">\n",
       "      <th></th>\n",
       "      <th>apply_id</th>\n",
       "      <th>customer_id</th>\n",
       "      <th>apply_time</th>\n",
       "      <th>apply_date</th>\n",
       "      <th>reg_time</th>\n",
       "      <th>cell_phone</th>\n",
       "      <th>mail</th>\n",
       "      <th>id_card_no</th>\n",
       "      <th>id_card_address</th>\n",
       "      <th>marital_status</th>\n",
       "      <th>religion</th>\n",
       "      <th>education</th>\n",
       "      <th>channel</th>\n",
       "      <th>device</th>\n",
       "      <th>provincecode</th>\n",
       "      <th>citycode</th>\n",
       "      <th>districtcode</th>\n",
       "      <th>gender</th>\n",
       "      <th>age</th>\n",
       "      <th>occupation_type</th>\n",
       "      <th>job</th>\n",
       "      <th>industry_involved</th>\n",
       "      <th>monthly_salary</th>\n",
       "      <th>company_area</th>\n",
       "      <th>employee_number</th>\n",
       "      <th>jobless_time_income</th>\n",
       "      <th>monthly_income_resource</th>\n",
       "      <th>pre_work_industry</th>\n",
       "      <th>pre_work_income</th>\n",
       "      <th>bank_code</th>\n",
       "      <th>cnt_refer</th>\n",
       "      <th>cnt_refertype</th>\n",
       "      <th>cnt_bro_sis</th>\n",
       "      <th>cnt_self</th>\n",
       "      <th>cnt_spouse</th>\n",
       "      <th>cnt_friend</th>\n",
       "      <th>cnt_kinsfolk</th>\n",
       "      <th>cnt_parents</th>\n",
       "      <th>jailbreak_status</th>\n",
       "      <th>simulator_status</th>\n",
       "      <th>latitude</th>\n",
       "      <th>longitude</th>\n",
       "      <th>direction</th>\n",
       "      <th>speed</th>\n",
       "      <th>altitude</th>\n",
       "      <th>accuracy</th>\n",
       "      <th>brand</th>\n",
       "      <th>heightpixels</th>\n",
       "      <th>widthpixels</th>\n",
       "      <th>manufacturer</th>\n",
       "      <th>model</th>\n",
       "      <th>version</th>\n",
       "    </tr>\n",
       "  </thead>\n",
       "  <tbody>\n",
       "    <tr>\n",
       "      <th>0</th>\n",
       "      <td>416849900344016896</td>\n",
       "      <td>416846434359738368</td>\n",
       "      <td>2019-12-26 05:52:41</td>\n",
       "      <td>2019-12-26</td>\n",
       "      <td>2019-12-26 05:38:55</td>\n",
       "      <td>8.128842e+10</td>\n",
       "      <td>aggi.coc@gmail.com</td>\n",
       "      <td>3.173012e+15</td>\n",
       "      <td>CENGKARENG,JAKARTA BARAT,DKI JAKARTA</td>\n",
       "      <td>SPINSTERHOOD</td>\n",
       "      <td>ISLAM</td>\n",
       "      <td>SENIOR_HIGH_SCHOOL</td>\n",
       "      <td>GooglePlay</td>\n",
       "      <td>ANDROID</td>\n",
       "      <td>31.0</td>\n",
       "      <td>73.0</td>\n",
       "      <td>1.0</td>\n",
       "      <td>male</td>\n",
       "      <td>29.0</td>\n",
       "      <td>OFFICE</td>\n",
       "      <td>SUPERVISO</td>\n",
       "      <td>TRADING_INDUSTRY</td>\n",
       "      <td>5500000.0</td>\n",
       "      <td>Taman Sari,KOTA ADM. JAKARTA BARAT,DKI JAKARTA</td>\n",
       "      <td>NaN</td>\n",
       "      <td>0.0</td>\n",
       "      <td>NaN</td>\n",
       "      <td>NaN</td>\n",
       "      <td>0.0</td>\n",
       "      <td>BCA</td>\n",
       "      <td>6.0</td>\n",
       "      <td>4.0</td>\n",
       "      <td>2.0</td>\n",
       "      <td>1.0</td>\n",
       "      <td>0.0</td>\n",
       "      <td>2.0</td>\n",
       "      <td>0.0</td>\n",
       "      <td>1.0</td>\n",
       "      <td>NaN</td>\n",
       "      <td>False</td>\n",
       "      <td>-6.136174</td>\n",
       "      <td>106.749610</td>\n",
       "      <td>-1.0</td>\n",
       "      <td>0.000000</td>\n",
       "      <td>0.0</td>\n",
       "      <td>729.0</td>\n",
       "      <td>vivo</td>\n",
       "      <td>1356.0</td>\n",
       "      <td>720.0</td>\n",
       "      <td>vivo</td>\n",
       "      <td>vivo 1716</td>\n",
       "      <td>41.0</td>\n",
       "    </tr>\n",
       "    <tr>\n",
       "      <th>1</th>\n",
       "      <td>416931889595973632</td>\n",
       "      <td>416929437828161536</td>\n",
       "      <td>2019-12-26 11:18:29</td>\n",
       "      <td>2019-12-26</td>\n",
       "      <td>2019-12-26 11:08:44</td>\n",
       "      <td>8.123138e+10</td>\n",
       "      <td>Cahayaina.cahayaina@yahoo.co.id</td>\n",
       "      <td>3.525176e+15</td>\n",
       "      <td>SANGKAPURA,GRESIK,JAWA TIMUR</td>\n",
       "      <td>SPINSTERHOOD</td>\n",
       "      <td>ISLAM</td>\n",
       "      <td>SENIOR_HIGH_SCHOOL</td>\n",
       "      <td>GooglePlay</td>\n",
       "      <td>ANDROID</td>\n",
       "      <td>35.0</td>\n",
       "      <td>25.0</td>\n",
       "      <td>17.0</td>\n",
       "      <td>female</td>\n",
       "      <td>21.0</td>\n",
       "      <td>OFFICE</td>\n",
       "      <td>SUPERVISO</td>\n",
       "      <td>OTHER</td>\n",
       "      <td>800000.0</td>\n",
       "      <td>Gresik,KAB. GRESIK,JAWA TIMUR</td>\n",
       "      <td>NaN</td>\n",
       "      <td>0.0</td>\n",
       "      <td>NaN</td>\n",
       "      <td>NaN</td>\n",
       "      <td>0.0</td>\n",
       "      <td>BRI</td>\n",
       "      <td>6.0</td>\n",
       "      <td>4.0</td>\n",
       "      <td>2.0</td>\n",
       "      <td>1.0</td>\n",
       "      <td>0.0</td>\n",
       "      <td>2.0</td>\n",
       "      <td>0.0</td>\n",
       "      <td>1.0</td>\n",
       "      <td>NaN</td>\n",
       "      <td>False</td>\n",
       "      <td>-5.852107</td>\n",
       "      <td>112.658846</td>\n",
       "      <td>-1.0</td>\n",
       "      <td>0.530848</td>\n",
       "      <td>41.0</td>\n",
       "      <td>34.0</td>\n",
       "      <td>OPPO</td>\n",
       "      <td>1280.0</td>\n",
       "      <td>720.0</td>\n",
       "      <td>OPPO</td>\n",
       "      <td>A37f</td>\n",
       "      <td>41.0</td>\n",
       "    </tr>\n",
       "  </tbody>\n",
       "</table>\n",
       "</div>"
      ],
      "text/plain": [
       "             apply_id         customer_id           apply_time  apply_date  \\\n",
       "0  416849900344016896  416846434359738368  2019-12-26 05:52:41  2019-12-26   \n",
       "1  416931889595973632  416929437828161536  2019-12-26 11:18:29  2019-12-26   \n",
       "\n",
       "              reg_time    cell_phone                             mail  \\\n",
       "0  2019-12-26 05:38:55  8.128842e+10               aggi.coc@gmail.com   \n",
       "1  2019-12-26 11:08:44  8.123138e+10  Cahayaina.cahayaina@yahoo.co.id   \n",
       "\n",
       "     id_card_no                       id_card_address marital_status religion  \\\n",
       "0  3.173012e+15  CENGKARENG,JAKARTA BARAT,DKI JAKARTA   SPINSTERHOOD    ISLAM   \n",
       "1  3.525176e+15          SANGKAPURA,GRESIK,JAWA TIMUR   SPINSTERHOOD    ISLAM   \n",
       "\n",
       "            education     channel   device  provincecode  citycode  \\\n",
       "0  SENIOR_HIGH_SCHOOL  GooglePlay  ANDROID          31.0      73.0   \n",
       "1  SENIOR_HIGH_SCHOOL  GooglePlay  ANDROID          35.0      25.0   \n",
       "\n",
       "   districtcode  gender   age occupation_type        job industry_involved  \\\n",
       "0           1.0    male  29.0          OFFICE  SUPERVISO  TRADING_INDUSTRY   \n",
       "1          17.0  female  21.0          OFFICE  SUPERVISO             OTHER   \n",
       "\n",
       "   monthly_salary                                    company_area  \\\n",
       "0       5500000.0  Taman Sari,KOTA ADM. JAKARTA BARAT,DKI JAKARTA   \n",
       "1        800000.0                   Gresik,KAB. GRESIK,JAWA TIMUR   \n",
       "\n",
       "  employee_number  jobless_time_income monthly_income_resource  \\\n",
       "0             NaN                  0.0                     NaN   \n",
       "1             NaN                  0.0                     NaN   \n",
       "\n",
       "  pre_work_industry  pre_work_income bank_code  cnt_refer  cnt_refertype  \\\n",
       "0               NaN              0.0       BCA        6.0            4.0   \n",
       "1               NaN              0.0       BRI        6.0            4.0   \n",
       "\n",
       "   cnt_bro_sis  cnt_self  cnt_spouse  cnt_friend  cnt_kinsfolk  cnt_parents  \\\n",
       "0          2.0       1.0         0.0         2.0           0.0          1.0   \n",
       "1          2.0       1.0         0.0         2.0           0.0          1.0   \n",
       "\n",
       "  jailbreak_status simulator_status  latitude   longitude  direction  \\\n",
       "0              NaN            False -6.136174  106.749610       -1.0   \n",
       "1              NaN            False -5.852107  112.658846       -1.0   \n",
       "\n",
       "      speed  altitude  accuracy brand  heightpixels  widthpixels manufacturer  \\\n",
       "0  0.000000       0.0     729.0  vivo        1356.0        720.0         vivo   \n",
       "1  0.530848      41.0      34.0  OPPO        1280.0        720.0         OPPO   \n",
       "\n",
       "       model  version  \n",
       "0  vivo 1716     41.0  \n",
       "1       A37f     41.0  "
      ]
     },
     "execution_count": 29,
     "metadata": {},
     "output_type": "execute_result"
    }
   ],
   "source": [
    "df_var1 = load_data_from_pickle(file_path, 'df_vars.pkl')\n",
    "df_var1.head(2)"
   ]
  },
  {
   "cell_type": "code",
   "execution_count": 30,
   "metadata": {
    "hidden": true
   },
   "outputs": [
    {
     "data": {
      "text/plain": [
       "(352568, 52)"
      ]
     },
     "execution_count": 30,
     "metadata": {},
     "output_type": "execute_result"
    },
    {
     "data": {
      "text/plain": [
       "(352568, 59)"
      ]
     },
     "execution_count": 30,
     "metadata": {},
     "output_type": "execute_result"
    }
   ],
   "source": [
    "df_var1.shape\n",
    "df_var1['apply_month'] = df_var1['apply_date'].apply(lambda x: pd.to_datetime(x).month)\n",
    "df_var1['diff_apply_reg'] = df_var1.apply(lambda x: (pd.to_datetime(x['apply_date']) -pd.to_datetime(x['reg_time'])).days, axis = 1)\n",
    "df_var1['mail_type'] = df_var1['mail'].apply(lambda x: x[x.find('@') + 1:x.find('.')] if not isinstance(x, float) else x)\n",
    "df_var1['salary_rmb'] = df_var1['monthly_salary'].apply(lambda x: x/2000)\n",
    "salary_rmb_cut = sorted(set(df_var1['salary_rmb'].quantile([.1, .2, .3, .4, .5, .6, .7, .8, .9]).values))\n",
    "salary_rmb_cut.insert(0, -float('Inf'))\n",
    "salary_rmb_cut.append(float('Inf'))\n",
    "df_var1['salary_rmb_g'] = pd.cut(df_var1['salary_rmb'],salary_rmb_cut, right=True, include_lowest = True)\n",
    "df_var1['pixels'] = '(' + round(pd.to_numeric(df_var1['heightpixels']), 0).astype(str) + ', ' \\\n",
    "                 + round(pd.to_numeric(df_var1['widthpixels']), 0).astype(str) + ')'\n",
    "col1_list = ['brand','manufacturer', 'model','mail_type']\n",
    "for cols in col1_list:  \n",
    "    df_var1[cols] = df_var1[cols].astype(str).apply(lambda x: x.lower())\n",
    "age_cut = [0,21,25, 30,35,40,45,50,55,60,65,100]\n",
    "df_var1['age_g'] = pd.cut(df_var1['age'],age_cut, right=True, include_lowest = True)\n",
    "df_var1.shape"
   ]
  },
  {
   "cell_type": "code",
   "execution_count": 31,
   "metadata": {
    "hidden": true
   },
   "outputs": [
    {
     "data": {
      "text/plain": [
       "(352568, 63)"
      ]
     },
     "execution_count": 31,
     "metadata": {},
     "output_type": "execute_result"
    }
   ],
   "source": [
    "df_flag = load_data_from_pickle(file_path, 'df_flag.pkl')\n",
    "df_var11 = pd.merge(df_var1, df_flag, on = 'customer_id', how = 'left')\n",
    "df_profit = load_data_from_pickle(file_path, 'df_profit.pkl')\n",
    "df0110_temp = pd.merge(df_var11, df_profit, on = 'customer_id',how = 'left')\n",
    "save_data_to_pickle(df_var11, file_path, 'df0110.pkl')"
   ]
  },
  {
   "cell_type": "markdown",
   "metadata": {},
   "source": [
    "# 变量分布"
   ]
  },
  {
   "cell_type": "code",
   "execution_count": 11,
   "metadata": {},
   "outputs": [],
   "source": [
    "fig_path = os.path.join(file_path, 'plt_apply')\n",
    "if not os.path.exists(fig_path):\n",
    "    os.makedirs(fig_path)"
   ]
  },
  {
   "cell_type": "code",
   "execution_count": null,
   "metadata": {},
   "outputs": [],
   "source": [
    "temp = load_data_from_pickle(file_path, 'df0110.pkl')\n",
    "temp = temp.fillna(np.nan)\n",
    "temp = temp[temp['diff_apply_reg']>=0]\n",
    "col1_list = ['provincecode', 'citycode', 'districtcode']\n",
    "for col1 in col1_list:\n",
    "    temp[col1] = temp[col1].astype(str)\n",
    "temp_fund = temp[temp['is_fund'] == 1]\n",
    "temp_notfund = temp[temp['is_fund'] == 0]\n",
    "temp.head(2)"
   ]
  },
  {
   "cell_type": "raw",
   "metadata": {},
   "source": [
    "申请距离注册时间差"
   ]
  },
  {
   "cell_type": "code",
   "execution_count": 12,
   "metadata": {
    "scrolled": true
   },
   "outputs": [
    {
     "data": {
      "image/png": "[encoded data removed]",
      "text/plain": [
       "<Figure size 432x288 with 1 Axes>"
      ]
     },
     "metadata": {
      "needs_background": "light"
     },
     "output_type": "display_data"
    }
   ],
   "source": [
    "# temp['diff_apply_reg'].describe()\n",
    "# temp_fund['diff_apply_reg'].describe()\n",
    "# temp_notfund['diff_apply_reg'].describe()\n",
    "sns.distplot(temp['diff_apply_reg'],hist=False,color='#2c6fbb')\n",
    "sns.distplot(temp_fund['diff_apply_reg'],hist=False,color = 'sandybrown')\n",
    "sns.distplot(temp_notfund['diff_apply_reg'],hist=False,color = 'mediumseagreen')\n",
    "plt.title('dist of diff_apply_reg');\n",
    "plt.legend(['申请','放款','未放款'], loc = 'upper right', fontsize=5)\n",
    "# plt.vlines(0,0,0.03, colors = \"c\", linestyles = \"dashed\")\n",
    "plt.savefig(os.path.join(fig_path, 'diff_apply_reg' + '.png'), format='png', dpi=300, bbox_inches = 'tight',pad_inches = 0.1)\n",
    "plt.show()\n",
    "plt.close();"
   ]
  },
  {
   "cell_type": "raw",
   "metadata": {},
   "source": [
    "婚姻状况&宗教&教育&渠道&性别&职业类型&职业&行业&手机品牌&屏幕尺寸&TOP10的银行&TOP10邮箱&TOP10省&TOP10市&TOP10区"
   ]
  },
  {
   "cell_type": "code",
   "execution_count": 13,
   "metadata": {},
   "outputs": [],
   "source": [
    "col_list= ['marital_status', 'religion', 'education', 'channel', 'gender','occupation_type', 'job', 'industry_involved',\n",
    "          'brand','pixels','model','manufacturer','bank_code', 'mail_type','provincecode', 'citycode', 'districtcode']"
   ]
  },
  {
   "cell_type": "code",
   "execution_count": 14,
   "metadata": {},
   "outputs": [
    {
     "data": {
      "text/html": [
       "<div>\n",
       "<style scoped>\n",
       "    .dataframe tbody tr th:only-of-type {\n",
       "        vertical-align: middle;\n",
       "    }\n",
       "\n",
       "    .dataframe tbody tr th {\n",
       "        vertical-align: top;\n",
       "    }\n",
       "\n",
       "    .dataframe thead th {\n",
       "        text-align: right;\n",
       "    }\n",
       "</style>\n",
       "<table border=\"1\" class=\"dataframe\">\n",
       "  <thead>\n",
       "    <tr style=\"text-align: right;\">\n",
       "      <th></th>\n",
       "      <th>marital_status</th>\n",
       "      <th>customer_id</th>\n",
       "      <th>is_fund</th>\n",
       "      <th>not_fund</th>\n",
       "      <th>per1</th>\n",
       "      <th>per2</th>\n",
       "      <th>per3</th>\n",
       "    </tr>\n",
       "  </thead>\n",
       "  <tbody>\n",
       "    <tr>\n",
       "      <th>0</th>\n",
       "      <td>MARRIED</td>\n",
       "      <td>185260</td>\n",
       "      <td>43915</td>\n",
       "      <td>141345</td>\n",
       "      <td>0.525460</td>\n",
       "      <td>0.618121</td>\n",
       "      <td>0.502076</td>\n",
       "    </tr>\n",
       "    <tr>\n",
       "      <th>1</th>\n",
       "      <td>SPINSTERHOOD</td>\n",
       "      <td>152818</td>\n",
       "      <td>23960</td>\n",
       "      <td>128858</td>\n",
       "      <td>0.433444</td>\n",
       "      <td>0.337246</td>\n",
       "      <td>0.457721</td>\n",
       "    </tr>\n",
       "    <tr>\n",
       "      <th>2</th>\n",
       "      <td>DIVORCED</td>\n",
       "      <td>10462</td>\n",
       "      <td>2311</td>\n",
       "      <td>8151</td>\n",
       "      <td>0.029674</td>\n",
       "      <td>0.032528</td>\n",
       "      <td>0.028953</td>\n",
       "    </tr>\n",
       "    <tr>\n",
       "      <th>3</th>\n",
       "      <td>BEREFT</td>\n",
       "      <td>3247</td>\n",
       "      <td>585</td>\n",
       "      <td>2662</td>\n",
       "      <td>0.009210</td>\n",
       "      <td>0.008234</td>\n",
       "      <td>0.009456</td>\n",
       "    </tr>\n",
       "  </tbody>\n",
       "</table>\n",
       "</div>"
      ],
      "text/plain": [
       "  marital_status  customer_id  is_fund  not_fund      per1      per2      per3\n",
       "0        MARRIED       185260    43915    141345  0.525460  0.618121  0.502076\n",
       "1   SPINSTERHOOD       152818    23960    128858  0.433444  0.337246  0.457721\n",
       "2       DIVORCED        10462     2311      8151  0.029674  0.032528  0.028953\n",
       "3         BEREFT         3247      585      2662  0.009210  0.008234  0.009456"
      ]
     },
     "execution_count": 14,
     "metadata": {},
     "output_type": "execute_result"
    },
    {
     "data": {
      "text/plain": [
       "<Figure size 432x288 with 0 Axes>"
      ]
     },
     "execution_count": 14,
     "metadata": {},
     "output_type": "execute_result"
    },
    {
     "data": {
      "text/plain": [
       "<BarContainer object of 4 artists>"
      ]
     },
     "execution_count": 14,
     "metadata": {},
     "output_type": "execute_result"
    },
    {
     "data": {
      "text/plain": [
       "Text(0, 0.5254604089435483, '0.53')"
      ]
     },
     "execution_count": 14,
     "metadata": {},
     "output_type": "execute_result"
    },
    {
     "data": {
      "text/plain": [
       "Text(1, 0.4334438560614011, '0.43')"
      ]
     },
     "execution_count": 14,
     "metadata": {},
     "output_type": "execute_result"
    },
    {
     "data": {
      "text/plain": [
       "Text(2, 0.029673792499014372, '0.03')"
      ]
     },
     "execution_count": 14,
     "metadata": {},
     "output_type": "execute_result"
    },
    {
     "data": {
      "text/plain": [
       "Text(3, 0.009209597041129771, '0.01')"
      ]
     },
     "execution_count": 14,
     "metadata": {},
     "output_type": "execute_result"
    },
    {
     "data": {
      "text/plain": [
       "<BarContainer object of 4 artists>"
      ]
     },
     "execution_count": 14,
     "metadata": {},
     "output_type": "execute_result"
    },
    {
     "data": {
      "text/plain": [
       "Text(0.25, 0.6181206542240238, '0.62')"
      ]
     },
     "execution_count": 14,
     "metadata": {},
     "output_type": "execute_result"
    },
    {
     "data": {
      "text/plain": [
       "Text(1.25, 0.3372462911353208, '0.34')"
      ]
     },
     "execution_count": 14,
     "metadata": {},
     "output_type": "execute_result"
    },
    {
     "data": {
      "text/plain": [
       "Text(2.25, 0.03252822115249275, '0.03')"
      ]
     },
     "execution_count": 14,
     "metadata": {},
     "output_type": "execute_result"
    },
    {
     "data": {
      "text/plain": [
       "Text(3.25, 0.008234101849505954, '0.01')"
      ]
     },
     "execution_count": 14,
     "metadata": {},
     "output_type": "execute_result"
    },
    {
     "data": {
      "text/plain": [
       "<BarContainer object of 4 artists>"
      ]
     },
     "execution_count": 14,
     "metadata": {},
     "output_type": "execute_result"
    },
    {
     "data": {
      "text/plain": [
       "Text(0.5, 0.5020762216673001, '0.50')"
      ]
     },
     "execution_count": 14,
     "metadata": {},
     "output_type": "execute_result"
    },
    {
     "data": {
      "text/plain": [
       "Text(1.5, 0.4577207384173827, '0.46')"
      ]
     },
     "execution_count": 14,
     "metadata": {},
     "output_type": "execute_result"
    },
    {
     "data": {
      "text/plain": [
       "Text(2.5, 0.02895343509009985, '0.03')"
      ]
     },
     "execution_count": 14,
     "metadata": {},
     "output_type": "execute_result"
    },
    {
     "data": {
      "text/plain": [
       "Text(3.5, 0.009455777721733014, '0.01')"
      ]
     },
     "execution_count": 14,
     "metadata": {},
     "output_type": "execute_result"
    },
    {
     "data": {
      "text/plain": [
       "([<matplotlib.axis.XTick at 0x1aba30e3d0>,\n",
       "  <matplotlib.axis.XTick at 0x1aba30cdd0>,\n",
       "  <matplotlib.axis.XTick at 0x1aba31cc50>,\n",
       "  <matplotlib.axis.XTick at 0x1aba31e6d0>],\n",
       " <a list of 4 Text xticklabel objects>)"
      ]
     },
     "execution_count": 14,
     "metadata": {},
     "output_type": "execute_result"
    },
    {
     "data": {
      "text/plain": [
       "Text(0.5, 1.0, 'dist of marital_status')"
      ]
     },
     "execution_count": 14,
     "metadata": {},
     "output_type": "execute_result"
    },
    {
     "data": {
      "text/plain": [
       "<matplotlib.legend.Legend at 0x1a96a87990>"
      ]
     },
     "execution_count": 14,
     "metadata": {},
     "output_type": "execute_result"
    },
    {
     "data": {
      "image/png": "[encoded data removed]",
      "text/plain": [
       "<Figure size 432x288 with 1 Axes>"
      ]
     },
     "metadata": {
      "needs_background": "light"
     },
     "output_type": "display_data"
    },
    {
     "data": {
      "text/html": [
       "<div>\n",
       "<style scoped>\n",
       "    .dataframe tbody tr th:only-of-type {\n",
       "        vertical-align: middle;\n",
       "    }\n",
       "\n",
       "    .dataframe tbody tr th {\n",
       "        vertical-align: top;\n",
       "    }\n",
       "\n",
       "    .dataframe thead th {\n",
       "        text-align: right;\n",
       "    }\n",
       "</style>\n",
       "<table border=\"1\" class=\"dataframe\">\n",
       "  <thead>\n",
       "    <tr style=\"text-align: right;\">\n",
       "      <th></th>\n",
       "      <th>religion</th>\n",
       "      <th>customer_id</th>\n",
       "      <th>is_fund</th>\n",
       "      <th>not_fund</th>\n",
       "      <th>per1</th>\n",
       "      <th>per2</th>\n",
       "      <th>per3</th>\n",
       "    </tr>\n",
       "  </thead>\n",
       "  <tbody>\n",
       "    <tr>\n",
       "      <th>0</th>\n",
       "      <td>ISLAM</td>\n",
       "      <td>317439</td>\n",
       "      <td>61415</td>\n",
       "      <td>256024</td>\n",
       "      <td>0.900365</td>\n",
       "      <td>0.864440</td>\n",
       "      <td>0.909431</td>\n",
       "    </tr>\n",
       "    <tr>\n",
       "      <th>1</th>\n",
       "      <td>CHRISTIAN</td>\n",
       "      <td>22826</td>\n",
       "      <td>5691</td>\n",
       "      <td>17135</td>\n",
       "      <td>0.064742</td>\n",
       "      <td>0.080103</td>\n",
       "      <td>0.060866</td>\n",
       "    </tr>\n",
       "    <tr>\n",
       "      <th>2</th>\n",
       "      <td>CATHOLICISM</td>\n",
       "      <td>6179</td>\n",
       "      <td>1857</td>\n",
       "      <td>4322</td>\n",
       "      <td>0.017526</td>\n",
       "      <td>0.026138</td>\n",
       "      <td>0.015352</td>\n",
       "    </tr>\n",
       "    <tr>\n",
       "      <th>3</th>\n",
       "      <td>BUDDHISM</td>\n",
       "      <td>2682</td>\n",
       "      <td>1021</td>\n",
       "      <td>1661</td>\n",
       "      <td>0.007607</td>\n",
       "      <td>0.014371</td>\n",
       "      <td>0.005900</td>\n",
       "    </tr>\n",
       "    <tr>\n",
       "      <th>4</th>\n",
       "      <td>HINDUISM</td>\n",
       "      <td>2552</td>\n",
       "      <td>761</td>\n",
       "      <td>1791</td>\n",
       "      <td>0.007238</td>\n",
       "      <td>0.010711</td>\n",
       "      <td>0.006362</td>\n",
       "    </tr>\n",
       "    <tr>\n",
       "      <th>5</th>\n",
       "      <td>CONFUCIANISM</td>\n",
       "      <td>109</td>\n",
       "      <td>26</td>\n",
       "      <td>83</td>\n",
       "      <td>0.000309</td>\n",
       "      <td>0.000366</td>\n",
       "      <td>0.000295</td>\n",
       "    </tr>\n",
       "  </tbody>\n",
       "</table>\n",
       "</div>"
      ],
      "text/plain": [
       "       religion  customer_id  is_fund  not_fund      per1      per2      per3\n",
       "0         ISLAM       317439    61415    256024  0.900365  0.864440  0.909431\n",
       "1     CHRISTIAN        22826     5691     17135  0.064742  0.080103  0.060866\n",
       "2   CATHOLICISM         6179     1857      4322  0.017526  0.026138  0.015352\n",
       "3      BUDDHISM         2682     1021      1661  0.007607  0.014371  0.005900\n",
       "4      HINDUISM         2552      761      1791  0.007238  0.010711  0.006362\n",
       "5  CONFUCIANISM          109       26        83  0.000309  0.000366  0.000295"
      ]
     },
     "execution_count": 14,
     "metadata": {},
     "output_type": "execute_result"
    },
    {
     "data": {
      "text/plain": [
       "<Figure size 432x288 with 0 Axes>"
      ]
     },
     "execution_count": 14,
     "metadata": {},
     "output_type": "execute_result"
    },
    {
     "data": {
      "text/plain": [
       "<BarContainer object of 6 artists>"
      ]
     },
     "execution_count": 14,
     "metadata": {},
     "output_type": "execute_result"
    },
    {
     "data": {
      "text/plain": [
       "Text(0, 0.9003650370000595, '0.90')"
      ]
     },
     "execution_count": 14,
     "metadata": {},
     "output_type": "execute_result"
    },
    {
     "data": {
      "text/plain": [
       "Text(1, 0.0647423042996083, '0.06')"
      ]
     },
     "execution_count": 14,
     "metadata": {},
     "output_type": "execute_result"
    },
    {
     "data": {
      "text/plain": [
       "Text(2, 0.017525746879316555, '0.02')"
      ]
     },
     "execution_count": 14,
     "metadata": {},
     "output_type": "execute_result"
    },
    {
     "data": {
      "text/plain": [
       "Text(3, 0.007607064756486002, '0.01')"
      ]
     },
     "execution_count": 14,
     "metadata": {},
     "output_type": "execute_result"
    },
    {
     "data": {
      "text/plain": [
       "Text(4, 0.007238340514001594, '0.01')"
      ]
     },
     "execution_count": 14,
     "metadata": {},
     "output_type": "execute_result"
    },
    {
     "data": {
      "text/plain": [
       "Text(5, 0.00030916109562154146, '0.00')"
      ]
     },
     "execution_count": 14,
     "metadata": {},
     "output_type": "execute_result"
    },
    {
     "data": {
      "text/plain": [
       "<BarContainer object of 6 artists>"
      ]
     },
     "execution_count": 14,
     "metadata": {},
     "output_type": "execute_result"
    },
    {
     "data": {
      "text/plain": [
       "Text(0.25, 0.8644399403203559, '0.86')"
      ]
     },
     "execution_count": 14,
     "metadata": {},
     "output_type": "execute_result"
    },
    {
     "data": {
      "text/plain": [
       "Text(1.25, 0.08010303183852716, '0.08')"
      ]
     },
     "execution_count": 14,
     "metadata": {},
     "output_type": "execute_result"
    },
    {
     "data": {
      "text/plain": [
       "Text(2.25, 0.026137995101765052, '0.03')"
      ]
     },
     "execution_count": 14,
     "metadata": {},
     "output_type": "execute_result"
    },
    {
     "data": {
      "text/plain": [
       "Text(3.25, 0.014370970920248853, '0.01')"
      ]
     },
     "execution_count": 14,
     "metadata": {},
     "output_type": "execute_result"
    },
    {
     "data": {
      "text/plain": [
       "Text(4.25, 0.010711370098246206, '0.01')"
      ]
     },
     "execution_count": 14,
     "metadata": {},
     "output_type": "execute_result"
    },
    {
     "data": {
      "text/plain": [
       "Text(5.25, 0.00036596008220026463, '0.00')"
      ]
     },
     "execution_count": 14,
     "metadata": {},
     "output_type": "execute_result"
    },
    {
     "data": {
      "text/plain": [
       "<BarContainer object of 6 artists>"
      ]
     },
     "execution_count": 14,
     "metadata": {},
     "output_type": "execute_result"
    },
    {
     "data": {
      "text/plain": [
       "Text(0.5, 0.9094312680048735, '0.91')"
      ]
     },
     "execution_count": 14,
     "metadata": {},
     "output_type": "execute_result"
    },
    {
     "data": {
      "text/plain": [
       "Text(1.5, 0.06086579686772923, '0.06')"
      ]
     },
     "execution_count": 14,
     "metadata": {},
     "output_type": "execute_result"
    },
    {
     "data": {
      "text/plain": [
       "Text(2.5, 0.015352318299522948, '0.02')"
      ]
     },
     "execution_count": 14,
     "metadata": {},
     "output_type": "execute_result"
    },
    {
     "data": {
      "text/plain": [
       "Text(3.5, 0.005900092710668121, '0.01')"
      ]
     },
     "execution_count": 14,
     "metadata": {},
     "output_type": "execute_result"
    },
    {
     "data": {
      "text/plain": [
       "Text(4.5, 0.006361869984832393, '0.01')"
      ]
     },
     "execution_count": 14,
     "metadata": {},
     "output_type": "execute_result"
    },
    {
     "data": {
      "text/plain": [
       "Text(5.5, 0.0002948270288894967, '0.00')"
      ]
     },
     "execution_count": 14,
     "metadata": {},
     "output_type": "execute_result"
    },
    {
     "data": {
      "text/plain": [
       "([<matplotlib.axis.XTick at 0x1aba32ad90>,\n",
       "  <matplotlib.axis.XTick at 0x1aba3259d0>,\n",
       "  <matplotlib.axis.XTick at 0x1aba33e310>,\n",
       "  <matplotlib.axis.XTick at 0x1aba3406d0>,\n",
       "  <matplotlib.axis.XTick at 0x1aba340910>,\n",
       "  <matplotlib.axis.XTick at 0x1aba341850>],\n",
       " <a list of 6 Text xticklabel objects>)"
      ]
     },
     "execution_count": 14,
     "metadata": {},
     "output_type": "execute_result"
    },
    {
     "data": {
      "text/plain": [
       "Text(0.5, 1.0, 'dist of religion')"
      ]
     },
     "execution_count": 14,
     "metadata": {},
     "output_type": "execute_result"
    },
    {
     "data": {
      "text/plain": [
       "<matplotlib.legend.Legend at 0x1aba33ebd0>"
      ]
     },
     "execution_count": 14,
     "metadata": {},
     "output_type": "execute_result"
    },
    {
     "data": {
      "image/png": "[encoded data removed]",
      "text/plain": [
       "<Figure size 432x288 with 1 Axes>"
      ]
     },
     "metadata": {
      "needs_background": "light"
     },
     "output_type": "display_data"
    },
    {
     "data": {
      "text/html": [
       "<div>\n",
       "<style scoped>\n",
       "    .dataframe tbody tr th:only-of-type {\n",
       "        vertical-align: middle;\n",
       "    }\n",
       "\n",
       "    .dataframe tbody tr th {\n",
       "        vertical-align: top;\n",
       "    }\n",
       "\n",
       "    .dataframe thead th {\n",
       "        text-align: right;\n",
       "    }\n",
       "</style>\n",
       "<table border=\"1\" class=\"dataframe\">\n",
       "  <thead>\n",
       "    <tr style=\"text-align: right;\">\n",
       "      <th></th>\n",
       "      <th>education</th>\n",
       "      <th>customer_id</th>\n",
       "      <th>is_fund</th>\n",
       "      <th>not_fund</th>\n",
       "      <th>per1</th>\n",
       "      <th>per2</th>\n",
       "      <th>per3</th>\n",
       "    </tr>\n",
       "  </thead>\n",
       "  <tbody>\n",
       "    <tr>\n",
       "      <th>0</th>\n",
       "      <td>SENIOR_HIGH_SCHOOL</td>\n",
       "      <td>236425</td>\n",
       "      <td>38941</td>\n",
       "      <td>197484</td>\n",
       "      <td>0.670582</td>\n",
       "      <td>0.548110</td>\n",
       "      <td>0.701489</td>\n",
       "    </tr>\n",
       "    <tr>\n",
       "      <th>1</th>\n",
       "      <td>REGULAR_COLLEGE_COURSE</td>\n",
       "      <td>51603</td>\n",
       "      <td>17793</td>\n",
       "      <td>33810</td>\n",
       "      <td>0.146364</td>\n",
       "      <td>0.250443</td>\n",
       "      <td>0.120098</td>\n",
       "    </tr>\n",
       "    <tr>\n",
       "      <th>2</th>\n",
       "      <td>ASSOCIATE_BACHELOR_3</td>\n",
       "      <td>25149</td>\n",
       "      <td>7965</td>\n",
       "      <td>17184</td>\n",
       "      <td>0.071331</td>\n",
       "      <td>0.112110</td>\n",
       "      <td>0.061040</td>\n",
       "    </tr>\n",
       "    <tr>\n",
       "      <th>3</th>\n",
       "      <td>JUNIOR_HIGH_SCHOOL</td>\n",
       "      <td>23774</td>\n",
       "      <td>2867</td>\n",
       "      <td>20907</td>\n",
       "      <td>0.067431</td>\n",
       "      <td>0.040354</td>\n",
       "      <td>0.074264</td>\n",
       "    </tr>\n",
       "    <tr>\n",
       "      <th>4</th>\n",
       "      <td>ASSOCIATE_BACHELOR_1</td>\n",
       "      <td>8177</td>\n",
       "      <td>2019</td>\n",
       "      <td>6158</td>\n",
       "      <td>0.023193</td>\n",
       "      <td>0.028418</td>\n",
       "      <td>0.021874</td>\n",
       "    </tr>\n",
       "    <tr>\n",
       "      <th>5</th>\n",
       "      <td>PRIMARY_SCHOOL</td>\n",
       "      <td>4108</td>\n",
       "      <td>340</td>\n",
       "      <td>3768</td>\n",
       "      <td>0.011652</td>\n",
       "      <td>0.004786</td>\n",
       "      <td>0.013384</td>\n",
       "    </tr>\n",
       "    <tr>\n",
       "      <th>6</th>\n",
       "      <td>ASSOCIATE_BACHELOR_2</td>\n",
       "      <td>1272</td>\n",
       "      <td>268</td>\n",
       "      <td>1004</td>\n",
       "      <td>0.003608</td>\n",
       "      <td>0.003772</td>\n",
       "      <td>0.003566</td>\n",
       "    </tr>\n",
       "    <tr>\n",
       "      <th>7</th>\n",
       "      <td>MASTER</td>\n",
       "      <td>1235</td>\n",
       "      <td>568</td>\n",
       "      <td>667</td>\n",
       "      <td>0.003503</td>\n",
       "      <td>0.007995</td>\n",
       "      <td>0.002369</td>\n",
       "    </tr>\n",
       "    <tr>\n",
       "      <th>8</th>\n",
       "      <td>DOCTOR</td>\n",
       "      <td>44</td>\n",
       "      <td>10</td>\n",
       "      <td>34</td>\n",
       "      <td>0.000125</td>\n",
       "      <td>0.000141</td>\n",
       "      <td>0.000121</td>\n",
       "    </tr>\n",
       "  </tbody>\n",
       "</table>\n",
       "</div>"
      ],
      "text/plain": [
       "                education  customer_id  is_fund  not_fund      per1      per2  \\\n",
       "0      SENIOR_HIGH_SCHOOL       236425    38941    197484  0.670582  0.548110   \n",
       "1  REGULAR_COLLEGE_COURSE        51603    17793     33810  0.146364  0.250443   \n",
       "2    ASSOCIATE_BACHELOR_3        25149     7965     17184  0.071331  0.112110   \n",
       "3      JUNIOR_HIGH_SCHOOL        23774     2867     20907  0.067431  0.040354   \n",
       "4    ASSOCIATE_BACHELOR_1         8177     2019      6158  0.023193  0.028418   \n",
       "5          PRIMARY_SCHOOL         4108      340      3768  0.011652  0.004786   \n",
       "6    ASSOCIATE_BACHELOR_2         1272      268      1004  0.003608  0.003772   \n",
       "7                  MASTER         1235      568       667  0.003503  0.007995   \n",
       "8                  DOCTOR           44       10        34  0.000125  0.000141   \n",
       "\n",
       "       per3  \n",
       "0  0.701489  \n",
       "1  0.120098  \n",
       "2  0.061040  \n",
       "3  0.074264  \n",
       "4  0.021874  \n",
       "5  0.013384  \n",
       "6  0.003566  \n",
       "7  0.002369  \n",
       "8  0.000121  "
      ]
     },
     "execution_count": 14,
     "metadata": {},
     "output_type": "execute_result"
    },
    {
     "data": {
      "text/plain": [
       "<Figure size 432x288 with 0 Axes>"
      ]
     },
     "execution_count": 14,
     "metadata": {},
     "output_type": "execute_result"
    },
    {
     "data": {
      "text/plain": [
       "<BarContainer object of 9 artists>"
      ]
     },
     "execution_count": 14,
     "metadata": {},
     "output_type": "execute_result"
    },
    {
     "data": {
      "text/plain": [
       "Text(0, 0.6705817617644306, '0.67')"
      ]
     },
     "execution_count": 14,
     "metadata": {},
     "output_type": "execute_result"
    },
    {
     "data": {
      "text/plain": [
       "Text(1, 0.14636366988402205, '0.15')"
      ]
     },
     "execution_count": 14,
     "metadata": {},
     "output_type": "execute_result"
    },
    {
     "data": {
      "text/plain": [
       "Text(2, 0.07133112287877198, '0.07')"
      ]
     },
     "execution_count": 14,
     "metadata": {},
     "output_type": "execute_result"
    },
    {
     "data": {
      "text/plain": [
       "Text(3, 0.06743115492941767, '0.07')"
      ]
     },
     "execution_count": 14,
     "metadata": {},
     "output_type": "execute_result"
    },
    {
     "data": {
      "text/plain": [
       "Text(4, 0.023192754852269213, '0.02')"
      ]
     },
     "execution_count": 14,
     "metadata": {},
     "output_type": "execute_result"
    },
    {
     "data": {
      "text/plain": [
       "Text(5, 0.011651686062507268, '0.01')"
      ]
     },
     "execution_count": 14,
     "metadata": {},
     "output_type": "execute_result"
    },
    {
     "data": {
      "text/plain": [
       "Text(6, 0.0036078248956935843, '0.00')"
      ]
     },
     "execution_count": 14,
     "metadata": {},
     "output_type": "execute_result"
    },
    {
     "data": {
      "text/plain": [
       "Text(7, 0.003502880303601869, '0.00')"
      ]
     },
     "execution_count": 14,
     "metadata": {},
     "output_type": "execute_result"
    },
    {
     "data": {
      "text/plain": [
       "Text(8, 0.00012479897437933781, '0.00')"
      ]
     },
     "execution_count": 14,
     "metadata": {},
     "output_type": "execute_result"
    },
    {
     "data": {
      "text/plain": [
       "<BarContainer object of 9 artists>"
      ]
     },
     "execution_count": 14,
     "metadata": {},
     "output_type": "execute_result"
    },
    {
     "data": {
      "text/plain": [
       "Text(0.25, 0.5481096754215579, '0.55')"
      ]
     },
     "execution_count": 14,
     "metadata": {},
     "output_type": "execute_result"
    },
    {
     "data": {
      "text/plain": [
       "Text(1.25, 0.2504433747149734, '0.25')"
      ]
     },
     "execution_count": 14,
     "metadata": {},
     "output_type": "execute_result"
    },
    {
     "data": {
      "text/plain": [
       "Text(2.25, 0.11211046364327337, '0.11')"
      ]
     },
     "execution_count": 14,
     "metadata": {},
     "output_type": "execute_result"
    },
    {
     "data": {
      "text/plain": [
       "Text(3.25, 0.04035413675646764, '0.04')"
      ]
     },
     "execution_count": 14,
     "metadata": {},
     "output_type": "execute_result"
    },
    {
     "data": {
      "text/plain": [
       "Text(4.25, 0.02841820792162824, '0.03')"
      ]
     },
     "execution_count": 14,
     "metadata": {},
     "output_type": "execute_result"
    },
    {
     "data": {
      "text/plain": [
       "Text(5.25, 0.004785631844157307, '0.00')"
      ]
     },
     "execution_count": 14,
     "metadata": {},
     "output_type": "execute_result"
    },
    {
     "data": {
      "text/plain": [
       "Text(6.25, 0.003772203924218112, '0.00')"
      ]
     },
     "execution_count": 14,
     "metadata": {},
     "output_type": "execute_result"
    },
    {
     "data": {
      "text/plain": [
       "Text(7.25, 0.007994820257298089, '0.01')"
      ]
     },
     "execution_count": 14,
     "metadata": {},
     "output_type": "execute_result"
    },
    {
     "data": {
      "text/plain": [
       "Text(8.25, 0.00014075387776933253, '0.00')"
      ]
     },
     "execution_count": 14,
     "metadata": {},
     "output_type": "execute_result"
    },
    {
     "data": {
      "text/plain": [
       "<BarContainer object of 9 artists>"
      ]
     },
     "execution_count": 14,
     "metadata": {},
     "output_type": "execute_result"
    },
    {
     "data": {
      "text/plain": [
       "Text(0.5, 0.7014894093158237, '0.70')"
      ]
     },
     "execution_count": 14,
     "metadata": {},
     "output_type": "execute_result"
    },
    {
     "data": {
      "text/plain": [
       "Text(1.5, 0.12009761261149257, '0.12')"
      ]
     },
     "execution_count": 14,
     "metadata": {},
     "output_type": "execute_result"
    },
    {
     "data": {
      "text/plain": [
       "Text(2.5, 0.061039851378760376, '0.06')"
      ]
     },
     "execution_count": 14,
     "metadata": {},
     "output_type": "execute_result"
    },
    {
     "data": {
      "text/plain": [
       "Text(3.5, 0.07426444208424948, '0.07')"
      ]
     },
     "execution_count": 14,
     "metadata": {},
     "output_type": "execute_result"
    },
    {
     "data": {
      "text/plain": [
       "Text(4.5, 0.021874034263873743, '0.02')"
      ]
     },
     "execution_count": 14,
     "metadata": {},
     "output_type": "execute_result"
    },
    {
     "data": {
      "text/plain": [
       "Text(5.5, 0.013384436685007512, '0.01')"
      ]
     },
     "execution_count": 14,
     "metadata": {},
     "output_type": "execute_result"
    },
    {
     "data": {
      "text/plain": [
       "Text(6.5, 0.003566341409699454, '0.00')"
      ]
     },
     "execution_count": 14,
     "metadata": {},
     "output_type": "execute_result"
    },
    {
     "data": {
      "text/plain": [
       "Text(7.5, 0.002369272629750534, '0.00')"
      ]
     },
     "execution_count": 14,
     "metadata": {},
     "output_type": "execute_result"
    },
    {
     "data": {
      "text/plain": [
       "Text(8.5, 0.00012077251785834804, '0.00')"
      ]
     },
     "execution_count": 14,
     "metadata": {},
     "output_type": "execute_result"
    },
    {
     "data": {
      "text/plain": [
       "([<matplotlib.axis.XTick at 0x1aba347dd0>,\n",
       "  <matplotlib.axis.XTick at 0x1aba348a90>,\n",
       "  <matplotlib.axis.XTick at 0x1aad3e7a10>,\n",
       "  <matplotlib.axis.XTick at 0x1aad3f0990>,\n",
       "  <matplotlib.axis.XTick at 0x1aad3f6950>,\n",
       "  <matplotlib.axis.XTick at 0x1aad3f9610>,\n",
       "  <matplotlib.axis.XTick at 0x1aad3fcbd0>,\n",
       "  <matplotlib.axis.XTick at 0x1aad3fd2d0>,\n",
       "  <matplotlib.axis.XTick at 0x1aae7a8e10>],\n",
       " <a list of 9 Text xticklabel objects>)"
      ]
     },
     "execution_count": 14,
     "metadata": {},
     "output_type": "execute_result"
    },
    {
     "data": {
      "text/plain": [
       "Text(0.5, 1.0, 'dist of education')"
      ]
     },
     "execution_count": 14,
     "metadata": {},
     "output_type": "execute_result"
    },
    {
     "data": {
      "text/plain": [
       "<matplotlib.legend.Legend at 0x1aae7ac3d0>"
      ]
     },
     "execution_count": 14,
     "metadata": {},
     "output_type": "execute_result"
    },
    {
     "data": {
      "image/png": "[encoded data removed]",
      "text/plain": [
       "<Figure size 432x288 with 1 Axes>"
      ]
     },
     "metadata": {
      "needs_background": "light"
     },
     "output_type": "display_data"
    },
    {
     "data": {
      "text/html": [
       "<div>\n",
       "<style scoped>\n",
       "    .dataframe tbody tr th:only-of-type {\n",
       "        vertical-align: middle;\n",
       "    }\n",
       "\n",
       "    .dataframe tbody tr th {\n",
       "        vertical-align: top;\n",
       "    }\n",
       "\n",
       "    .dataframe thead th {\n",
       "        text-align: right;\n",
       "    }\n",
       "</style>\n",
       "<table border=\"1\" class=\"dataframe\">\n",
       "  <thead>\n",
       "    <tr style=\"text-align: right;\">\n",
       "      <th></th>\n",
       "      <th>channel</th>\n",
       "      <th>customer_id</th>\n",
       "      <th>is_fund</th>\n",
       "      <th>not_fund</th>\n",
       "      <th>per1</th>\n",
       "      <th>per2</th>\n",
       "      <th>per3</th>\n",
       "    </tr>\n",
       "  </thead>\n",
       "  <tbody>\n",
       "    <tr>\n",
       "      <th>0</th>\n",
       "      <td>GooglePlay</td>\n",
       "      <td>231947</td>\n",
       "      <td>37260</td>\n",
       "      <td>194687</td>\n",
       "      <td>0.657881</td>\n",
       "      <td>0.524449</td>\n",
       "      <td>0.691554</td>\n",
       "    </tr>\n",
       "    <tr>\n",
       "      <th>1</th>\n",
       "      <td>UAC_Display</td>\n",
       "      <td>33603</td>\n",
       "      <td>10476</td>\n",
       "      <td>23127</td>\n",
       "      <td>0.095310</td>\n",
       "      <td>0.147454</td>\n",
       "      <td>0.082150</td>\n",
       "    </tr>\n",
       "    <tr>\n",
       "      <th>2</th>\n",
       "      <td>UAC_Search</td>\n",
       "      <td>24158</td>\n",
       "      <td>7881</td>\n",
       "      <td>16277</td>\n",
       "      <td>0.068520</td>\n",
       "      <td>0.110928</td>\n",
       "      <td>0.057818</td>\n",
       "    </tr>\n",
       "    <tr>\n",
       "      <th>3</th>\n",
       "      <td>Facebook</td>\n",
       "      <td>12382</td>\n",
       "      <td>2896</td>\n",
       "      <td>9486</td>\n",
       "      <td>0.035120</td>\n",
       "      <td>0.040762</td>\n",
       "      <td>0.033696</td>\n",
       "    </tr>\n",
       "    <tr>\n",
       "      <th>4</th>\n",
       "      <td>cashcash</td>\n",
       "      <td>11048</td>\n",
       "      <td>1763</td>\n",
       "      <td>9285</td>\n",
       "      <td>0.031336</td>\n",
       "      <td>0.024815</td>\n",
       "      <td>0.032982</td>\n",
       "    </tr>\n",
       "    <tr>\n",
       "      <th>5</th>\n",
       "      <td>UAC_Video</td>\n",
       "      <td>4961</td>\n",
       "      <td>1550</td>\n",
       "      <td>3411</td>\n",
       "      <td>0.014071</td>\n",
       "      <td>0.021817</td>\n",
       "      <td>0.012116</td>\n",
       "    </tr>\n",
       "    <tr>\n",
       "      <th>6</th>\n",
       "      <td>Instagram</td>\n",
       "      <td>2849</td>\n",
       "      <td>967</td>\n",
       "      <td>1882</td>\n",
       "      <td>0.008081</td>\n",
       "      <td>0.013611</td>\n",
       "      <td>0.006685</td>\n",
       "    </tr>\n",
       "    <tr>\n",
       "      <th>7</th>\n",
       "      <td>OPPO</td>\n",
       "      <td>2539</td>\n",
       "      <td>263</td>\n",
       "      <td>2276</td>\n",
       "      <td>0.007201</td>\n",
       "      <td>0.003702</td>\n",
       "      <td>0.008085</td>\n",
       "    </tr>\n",
       "    <tr>\n",
       "      <th>8</th>\n",
       "      <td>appstore</td>\n",
       "      <td>1470</td>\n",
       "      <td>608</td>\n",
       "      <td>862</td>\n",
       "      <td>0.004169</td>\n",
       "      <td>0.008558</td>\n",
       "      <td>0.003062</td>\n",
       "    </tr>\n",
       "    <tr>\n",
       "      <th>9</th>\n",
       "      <td>AudienceNetwork</td>\n",
       "      <td>1209</td>\n",
       "      <td>368</td>\n",
       "      <td>841</td>\n",
       "      <td>0.003429</td>\n",
       "      <td>0.005180</td>\n",
       "      <td>0.002987</td>\n",
       "    </tr>\n",
       "  </tbody>\n",
       "</table>\n",
       "</div>"
      ],
      "text/plain": [
       "           channel  customer_id  is_fund  not_fund      per1      per2  \\\n",
       "0       GooglePlay       231947    37260    194687  0.657881  0.524449   \n",
       "1      UAC_Display        33603    10476     23127  0.095310  0.147454   \n",
       "2       UAC_Search        24158     7881     16277  0.068520  0.110928   \n",
       "3         Facebook        12382     2896      9486  0.035120  0.040762   \n",
       "4         cashcash        11048     1763      9285  0.031336  0.024815   \n",
       "5        UAC_Video         4961     1550      3411  0.014071  0.021817   \n",
       "6        Instagram         2849      967      1882  0.008081  0.013611   \n",
       "7             OPPO         2539      263      2276  0.007201  0.003702   \n",
       "8         appstore         1470      608       862  0.004169  0.008558   \n",
       "9  AudienceNetwork         1209      368       841  0.003429  0.005180   \n",
       "\n",
       "       per3  \n",
       "0  0.691554  \n",
       "1  0.082150  \n",
       "2  0.057818  \n",
       "3  0.033696  \n",
       "4  0.032982  \n",
       "5  0.012116  \n",
       "6  0.006685  \n",
       "7  0.008085  \n",
       "8  0.003062  \n",
       "9  0.002987  "
      ]
     },
     "execution_count": 14,
     "metadata": {},
     "output_type": "execute_result"
    },
    {
     "data": {
      "text/plain": [
       "<Figure size 432x288 with 0 Axes>"
      ]
     },
     "execution_count": 14,
     "metadata": {},
     "output_type": "execute_result"
    },
    {
     "data": {
      "text/plain": [
       "<BarContainer object of 10 artists>"
      ]
     },
     "execution_count": 14,
     "metadata": {},
     "output_type": "execute_result"
    },
    {
     "data": {
      "text/plain": [
       "Text(0, 0.6578806297810061, '0.66')"
      ]
     },
     "execution_count": 14,
     "metadata": {},
     "output_type": "execute_result"
    },
    {
     "data": {
      "text/plain": [
       "Text(1, 0.09530954400156566, '0.10')"
      ]
     },
     "execution_count": 14,
     "metadata": {},
     "output_type": "execute_result"
    },
    {
     "data": {
      "text/plain": [
       "Text(2, 0.06852030961491007, '0.07')"
      ]
     },
     "execution_count": 14,
     "metadata": {},
     "output_type": "execute_result"
    },
    {
     "data": {
      "text/plain": [
       "Text(3, 0.03511956592647639, '0.04')"
      ]
     },
     "execution_count": 14,
     "metadata": {},
     "output_type": "execute_result"
    },
    {
     "data": {
      "text/plain": [
       "Text(4, 0.03133588793052101, '0.03')"
      ]
     },
     "execution_count": 14,
     "metadata": {},
     "output_type": "execute_result"
    },
    {
     "data": {
      "text/plain": [
       "Text(5, 0.01407108436127034, '0.01')"
      ]
     },
     "execution_count": 14,
     "metadata": {},
     "output_type": "execute_result"
    },
    {
     "data": {
      "text/plain": [
       "Text(6, 0.008080733591062124, '0.01')"
      ]
     },
     "execution_count": 14,
     "metadata": {},
     "output_type": "execute_result"
    },
    {
     "data": {
      "text/plain": [
       "Text(7, 0.007201468089753154, '0.01')"
      ]
     },
     "execution_count": 14,
     "metadata": {},
     "output_type": "execute_result"
    },
    {
     "data": {
      "text/plain": [
       "Text(8, 0.004169420280400605, '0.00')"
      ]
     },
     "execution_count": 14,
     "metadata": {},
     "output_type": "execute_result"
    },
    {
     "data": {
      "text/plain": [
       "Text(9, 0.003429135455104987, '0.00')"
      ]
     },
     "execution_count": 14,
     "metadata": {},
     "output_type": "execute_result"
    },
    {
     "data": {
      "text/plain": [
       "<BarContainer object of 10 artists>"
      ]
     },
     "execution_count": 14,
     "metadata": {},
     "output_type": "execute_result"
    },
    {
     "data": {
      "text/plain": [
       "Text(0.25, 0.5244489485685331, '0.52')"
      ]
     },
     "execution_count": 14,
     "metadata": {},
     "output_type": "execute_result"
    },
    {
     "data": {
      "text/plain": [
       "Text(1.25, 0.14745376235115276, '0.15')"
      ]
     },
     "execution_count": 14,
     "metadata": {},
     "output_type": "execute_result"
    },
    {
     "data": {
      "text/plain": [
       "Text(2.25, 0.11092813107001098, '0.11')"
      ]
     },
     "execution_count": 14,
     "metadata": {},
     "output_type": "execute_result"
    },
    {
     "data": {
      "text/plain": [
       "Text(3.25, 0.0407623230019987, '0.04')"
      ]
     },
     "execution_count": 14,
     "metadata": {},
     "output_type": "execute_result"
    },
    {
     "data": {
      "text/plain": [
       "Text(4.25, 0.02481490865073333, '0.02')"
      ]
     },
     "execution_count": 14,
     "metadata": {},
     "output_type": "execute_result"
    },
    {
     "data": {
      "text/plain": [
       "Text(5.25, 0.021816851054246543, '0.02')"
      ]
     },
     "execution_count": 14,
     "metadata": {},
     "output_type": "execute_result"
    },
    {
     "data": {
      "text/plain": [
       "Text(6.25, 0.013610899980294458, '0.01')"
      ]
     },
     "execution_count": 14,
     "metadata": {},
     "output_type": "execute_result"
    },
    {
     "data": {
      "text/plain": [
       "Text(7.25, 0.003701826985333446, '0.00')"
      ]
     },
     "execution_count": 14,
     "metadata": {},
     "output_type": "execute_result"
    },
    {
     "data": {
      "text/plain": [
       "Text(8.25, 0.008557835768375419, '0.01')"
      ]
     },
     "execution_count": 14,
     "metadata": {},
     "output_type": "execute_result"
    },
    {
     "data": {
      "text/plain": [
       "Text(9.25, 0.005179742701911438, '0.01')"
      ]
     },
     "execution_count": 14,
     "metadata": {},
     "output_type": "execute_result"
    },
    {
     "data": {
      "text/plain": [
       "<BarContainer object of 10 artists>"
      ]
     },
     "execution_count": 14,
     "metadata": {},
     "output_type": "execute_result"
    },
    {
     "data": {
      "text/plain": [
       "Text(0.5, 0.6915540936555354, '0.69')"
      ]
     },
     "execution_count": 14,
     "metadata": {},
     "output_type": "execute_result"
    },
    {
     "data": {
      "text/plain": [
       "Text(1.5, 0.08215017707382398, '0.08')"
      ]
     },
     "execution_count": 14,
     "metadata": {},
     "output_type": "execute_result"
    },
    {
     "data": {
      "text/plain": [
       "Text(2.5, 0.05781806685824503, '0.06')"
      ]
     },
     "execution_count": 14,
     "metadata": {},
     "output_type": "execute_result"
    },
    {
     "data": {
      "text/plain": [
       "Text(3.5, 0.033695532482479106, '0.03')"
      ]
     },
     "execution_count": 14,
     "metadata": {},
     "output_type": "execute_result"
    },
    {
     "data": {
      "text/plain": [
       "Text(4.5, 0.03298155377396358, '0.03')"
      ]
     },
     "execution_count": 14,
     "metadata": {},
     "output_type": "execute_result"
    },
    {
     "data": {
      "text/plain": [
       "Text(5.5, 0.012116325247494859, '0.01')"
      ]
     },
     "execution_count": 14,
     "metadata": {},
     "output_type": "execute_result"
    },
    {
     "data": {
      "text/plain": [
       "Text(6.5, 0.006685114076747383, '0.01')"
      ]
     },
     "execution_count": 14,
     "metadata": {},
     "output_type": "execute_result"
    },
    {
     "data": {
      "text/plain": [
       "Text(7.5, 0.008084654430752946, '0.01')"
      ]
     },
     "execution_count": 14,
     "metadata": {},
     "output_type": "execute_result"
    },
    {
     "data": {
      "text/plain": [
       "Text(8.5, 0.0030619385409969414, '0.00')"
      ]
     },
     "execution_count": 14,
     "metadata": {},
     "output_type": "execute_result"
    },
    {
     "data": {
      "text/plain": [
       "Text(9.5, 0.002987343750555021, '0.00')"
      ]
     },
     "execution_count": 14,
     "metadata": {},
     "output_type": "execute_result"
    },
    {
     "data": {
      "text/plain": [
       "([<matplotlib.axis.XTick at 0x1ac02790d0>,\n",
       "  <matplotlib.axis.XTick at 0x1ac0279910>,\n",
       "  <matplotlib.axis.XTick at 0x1a918ad850>,\n",
       "  <matplotlib.axis.XTick at 0x1a96a580d0>,\n",
       "  <matplotlib.axis.XTick at 0x1a96a6ee50>,\n",
       "  <matplotlib.axis.XTick at 0x1a96a6e890>,\n",
       "  <matplotlib.axis.XTick at 0x1a96a6e690>,\n",
       "  <matplotlib.axis.XTick at 0x1a96a791d0>,\n",
       "  <matplotlib.axis.XTick at 0x1a96a79510>,\n",
       "  <matplotlib.axis.XTick at 0x1a96a96550>],\n",
       " <a list of 10 Text xticklabel objects>)"
      ]
     },
     "execution_count": 14,
     "metadata": {},
     "output_type": "execute_result"
    },
    {
     "data": {
      "text/plain": [
       "Text(0.5, 1.0, 'dist of channel')"
      ]
     },
     "execution_count": 14,
     "metadata": {},
     "output_type": "execute_result"
    },
    {
     "data": {
      "text/plain": [
       "<matplotlib.legend.Legend at 0x1a96a847d0>"
      ]
     },
     "execution_count": 14,
     "metadata": {},
     "output_type": "execute_result"
    },
    {
     "data": {
      "image/png": "[encoded data removed]",
      "text/plain": [
       "<Figure size 432x288 with 1 Axes>"
      ]
     },
     "metadata": {
      "needs_background": "light"
     },
     "output_type": "display_data"
    },
    {
     "data": {
      "text/html": [
       "<div>\n",
       "<style scoped>\n",
       "    .dataframe tbody tr th:only-of-type {\n",
       "        vertical-align: middle;\n",
       "    }\n",
       "\n",
       "    .dataframe tbody tr th {\n",
       "        vertical-align: top;\n",
       "    }\n",
       "\n",
       "    .dataframe thead th {\n",
       "        text-align: right;\n",
       "    }\n",
       "</style>\n",
       "<table border=\"1\" class=\"dataframe\">\n",
       "  <thead>\n",
       "    <tr style=\"text-align: right;\">\n",
       "      <th></th>\n",
       "      <th>gender</th>\n",
       "      <th>customer_id</th>\n",
       "      <th>is_fund</th>\n",
       "      <th>not_fund</th>\n",
       "      <th>per1</th>\n",
       "      <th>per2</th>\n",
       "      <th>per3</th>\n",
       "    </tr>\n",
       "  </thead>\n",
       "  <tbody>\n",
       "    <tr>\n",
       "      <th>0</th>\n",
       "      <td>male</td>\n",
       "      <td>207414</td>\n",
       "      <td>37216</td>\n",
       "      <td>170198</td>\n",
       "      <td>0.588297</td>\n",
       "      <td>0.52383</td>\n",
       "      <td>0.604566</td>\n",
       "    </tr>\n",
       "    <tr>\n",
       "      <th>1</th>\n",
       "      <td>female</td>\n",
       "      <td>145149</td>\n",
       "      <td>33830</td>\n",
       "      <td>111319</td>\n",
       "      <td>0.411692</td>\n",
       "      <td>0.47617</td>\n",
       "      <td>0.395420</td>\n",
       "    </tr>\n",
       "  </tbody>\n",
       "</table>\n",
       "</div>"
      ],
      "text/plain": [
       "   gender  customer_id  is_fund  not_fund      per1     per2      per3\n",
       "0    male       207414    37216    170198  0.588297  0.52383  0.604566\n",
       "1  female       145149    33830    111319  0.411692  0.47617  0.395420"
      ]
     },
     "execution_count": 14,
     "metadata": {},
     "output_type": "execute_result"
    },
    {
     "data": {
      "text/plain": [
       "<Figure size 432x288 with 0 Axes>"
      ]
     },
     "execution_count": 14,
     "metadata": {},
     "output_type": "execute_result"
    },
    {
     "data": {
      "text/plain": [
       "<BarContainer object of 2 artists>"
      ]
     },
     "execution_count": 14,
     "metadata": {},
     "output_type": "execute_result"
    },
    {
     "data": {
      "text/plain": [
       "Text(0, 0.5882966925435449, '0.59')"
      ]
     },
     "execution_count": 14,
     "metadata": {},
     "output_type": "execute_result"
    },
    {
     "data": {
      "text/plain": [
       "Text(1, 0.41169196209514786, '0.41')"
      ]
     },
     "execution_count": 14,
     "metadata": {},
     "output_type": "execute_result"
    },
    {
     "data": {
      "text/plain": [
       "<BarContainer object of 2 artists>"
      ]
     },
     "execution_count": 14,
     "metadata": {},
     "output_type": "execute_result"
    },
    {
     "data": {
      "text/plain": [
       "Text(0.25, 0.523829631506348, '0.52')"
      ]
     },
     "execution_count": 14,
     "metadata": {},
     "output_type": "execute_result"
    },
    {
     "data": {
      "text/plain": [
       "Text(1.25, 0.476170368493652, '0.48')"
      ]
     },
     "execution_count": 14,
     "metadata": {},
     "output_type": "execute_result"
    },
    {
     "data": {
      "text/plain": [
       "<BarContainer object of 2 artists>"
      ]
     },
     "execution_count": 14,
     "metadata": {},
     "output_type": "execute_result"
    },
    {
     "data": {
      "text/plain": [
       "Text(0.5, 0.6045659116016212, '0.60')"
      ]
     },
     "execution_count": 14,
     "metadata": {},
     "output_type": "execute_result"
    },
    {
     "data": {
      "text/plain": [
       "Text(1.5, 0.39541987986686605, '0.40')"
      ]
     },
     "execution_count": 14,
     "metadata": {},
     "output_type": "execute_result"
    },
    {
     "data": {
      "text/plain": [
       "([<matplotlib.axis.XTick at 0x1a96a76650>,\n",
       "  <matplotlib.axis.XTick at 0x1a96a97410>],\n",
       " <a list of 2 Text xticklabel objects>)"
      ]
     },
     "execution_count": 14,
     "metadata": {},
     "output_type": "execute_result"
    },
    {
     "data": {
      "text/plain": [
       "Text(0.5, 1.0, 'dist of gender')"
      ]
     },
     "execution_count": 14,
     "metadata": {},
     "output_type": "execute_result"
    },
    {
     "data": {
      "text/plain": [
       "<matplotlib.legend.Legend at 0x1a918951d0>"
      ]
     },
     "execution_count": 14,
     "metadata": {},
     "output_type": "execute_result"
    },
    {
     "data": {
      "image/png": "[encoded data removed]",
      "text/plain": [
       "<Figure size 432x288 with 1 Axes>"
      ]
     },
     "metadata": {
      "needs_background": "light"
     },
     "output_type": "display_data"
    },
    {
     "data": {
      "text/html": [
       "<div>\n",
       "<style scoped>\n",
       "    .dataframe tbody tr th:only-of-type {\n",
       "        vertical-align: middle;\n",
       "    }\n",
       "\n",
       "    .dataframe tbody tr th {\n",
       "        vertical-align: top;\n",
       "    }\n",
       "\n",
       "    .dataframe thead th {\n",
       "        text-align: right;\n",
       "    }\n",
       "</style>\n",
       "<table border=\"1\" class=\"dataframe\">\n",
       "  <thead>\n",
       "    <tr style=\"text-align: right;\">\n",
       "      <th></th>\n",
       "      <th>occupation_type</th>\n",
       "      <th>customer_id</th>\n",
       "      <th>is_fund</th>\n",
       "      <th>not_fund</th>\n",
       "      <th>per1</th>\n",
       "      <th>per2</th>\n",
       "      <th>per3</th>\n",
       "    </tr>\n",
       "  </thead>\n",
       "  <tbody>\n",
       "    <tr>\n",
       "      <th>0</th>\n",
       "      <td>OFFICE</td>\n",
       "      <td>263449</td>\n",
       "      <td>57801</td>\n",
       "      <td>205648</td>\n",
       "      <td>0.747231</td>\n",
       "      <td>0.813571</td>\n",
       "      <td>0.730489</td>\n",
       "    </tr>\n",
       "    <tr>\n",
       "      <th>1</th>\n",
       "      <td>ENTREPRENEUR</td>\n",
       "      <td>54042</td>\n",
       "      <td>11655</td>\n",
       "      <td>42387</td>\n",
       "      <td>0.153282</td>\n",
       "      <td>0.164049</td>\n",
       "      <td>0.150564</td>\n",
       "    </tr>\n",
       "    <tr>\n",
       "      <th>2</th>\n",
       "      <td>UNEMPLOYED</td>\n",
       "      <td>23939</td>\n",
       "      <td>502</td>\n",
       "      <td>23437</td>\n",
       "      <td>0.067899</td>\n",
       "      <td>0.007066</td>\n",
       "      <td>0.083251</td>\n",
       "    </tr>\n",
       "    <tr>\n",
       "      <th>3</th>\n",
       "      <td>PELAJAR</td>\n",
       "      <td>8318</td>\n",
       "      <td>87</td>\n",
       "      <td>8231</td>\n",
       "      <td>0.023593</td>\n",
       "      <td>0.001225</td>\n",
       "      <td>0.029238</td>\n",
       "    </tr>\n",
       "    <tr>\n",
       "      <th>4</th>\n",
       "      <td>PEKERJALEPAS</td>\n",
       "      <td>2</td>\n",
       "      <td>0</td>\n",
       "      <td>2</td>\n",
       "      <td>0.000006</td>\n",
       "      <td>0.000000</td>\n",
       "      <td>0.000007</td>\n",
       "    </tr>\n",
       "  </tbody>\n",
       "</table>\n",
       "</div>"
      ],
      "text/plain": [
       "  occupation_type  customer_id  is_fund  not_fund      per1      per2  \\\n",
       "0          OFFICE       263449    57801    205648  0.747231  0.813571   \n",
       "1    ENTREPRENEUR        54042    11655     42387  0.153282  0.164049   \n",
       "2      UNEMPLOYED        23939      502     23437  0.067899  0.007066   \n",
       "3         PELAJAR         8318       87      8231  0.023593  0.001225   \n",
       "4    PEKERJALEPAS            2        0         2  0.000006  0.000000   \n",
       "\n",
       "       per3  \n",
       "0  0.730489  \n",
       "1  0.150564  \n",
       "2  0.083251  \n",
       "3  0.029238  \n",
       "4  0.000007  "
      ]
     },
     "execution_count": 14,
     "metadata": {},
     "output_type": "execute_result"
    },
    {
     "data": {
      "text/plain": [
       "<Figure size 432x288 with 0 Axes>"
      ]
     },
     "execution_count": 14,
     "metadata": {},
     "output_type": "execute_result"
    },
    {
     "data": {
      "text/plain": [
       "<BarContainer object of 5 artists>"
      ]
     },
     "execution_count": 14,
     "metadata": {},
     "output_type": "execute_result"
    },
    {
     "data": {
      "text/plain": [
       "Text(0, 0.7472310227559584, '0.75')"
      ]
     },
     "execution_count": 14,
     "metadata": {},
     "output_type": "execute_result"
    },
    {
     "data": {
      "text/plain": [
       "Text(1, 0.15328150394109488, '0.15')"
      ]
     },
     "execution_count": 14,
     "metadata": {},
     "output_type": "execute_result"
    },
    {
     "data": {
      "text/plain": [
       "Text(2, 0.06789915108334019, '0.07')"
      ]
     },
     "execution_count": 14,
     "metadata": {},
     "output_type": "execute_result"
    },
    {
     "data": {
      "text/plain": [
       "Text(3, 0.023592678838348456, '0.02')"
      ]
     },
     "execution_count": 14,
     "metadata": {},
     "output_type": "execute_result"
    },
    {
     "data": {
      "text/plain": [
       "Text(4, 5.672680653606265e-06, '0.00')"
      ]
     },
     "execution_count": 14,
     "metadata": {},
     "output_type": "execute_result"
    },
    {
     "data": {
      "text/plain": [
       "<BarContainer object of 5 artists>"
      ]
     },
     "execution_count": 14,
     "metadata": {},
     "output_type": "execute_result"
    },
    {
     "data": {
      "text/plain": [
       "Text(0.25, 0.813571488894519, '0.81')"
      ]
     },
     "execution_count": 14,
     "metadata": {},
     "output_type": "execute_result"
    },
    {
     "data": {
      "text/plain": [
       "Text(1.25, 0.16404864454015708, '0.16')"
      ]
     },
     "execution_count": 14,
     "metadata": {},
     "output_type": "execute_result"
    },
    {
     "data": {
      "text/plain": [
       "Text(2.25, 0.007065844664020494, '0.01')"
      ]
     },
     "execution_count": 14,
     "metadata": {},
     "output_type": "execute_result"
    },
    {
     "data": {
      "text/plain": [
       "Text(3.25, 0.001224558736593193, '0.00')"
      ]
     },
     "execution_count": 14,
     "metadata": {},
     "output_type": "execute_result"
    },
    {
     "data": {
      "text/plain": [
       "Text(4.25, 0.0, '0.00')"
      ]
     },
     "execution_count": 14,
     "metadata": {},
     "output_type": "execute_result"
    },
    {
     "data": {
      "text/plain": [
       "<BarContainer object of 5 artists>"
      ]
     },
     "execution_count": 14,
     "metadata": {},
     "output_type": "execute_result"
    },
    {
     "data": {
      "text/plain": [
       "Text(0.5, 0.73048902213334, '0.73')"
      ]
     },
     "execution_count": 14,
     "metadata": {},
     "output_type": "execute_result"
    },
    {
     "data": {
      "text/plain": [
       "Text(1.5, 0.15056425630769996, '0.15')"
      ]
     },
     "execution_count": 14,
     "metadata": {},
     "output_type": "execute_result"
    },
    {
     "data": {
      "text/plain": [
       "Text(2.5, 0.08325133826606186, '0.08')"
      ]
     },
     "execution_count": 14,
     "metadata": {},
     "output_type": "execute_result"
    },
    {
     "data": {
      "text/plain": [
       "Text(3.5, 0.029237605720354786, '0.03')"
      ]
     },
     "execution_count": 14,
     "metadata": {},
     "output_type": "execute_result"
    },
    {
     "data": {
      "text/plain": [
       "Text(4.5, 7.104265756373414e-06, '0.00')"
      ]
     },
     "execution_count": 14,
     "metadata": {},
     "output_type": "execute_result"
    },
    {
     "data": {
      "text/plain": [
       "([<matplotlib.axis.XTick at 0x1a96a4a9d0>,\n",
       "  <matplotlib.axis.XTick at 0x1a96a67b10>,\n",
       "  <matplotlib.axis.XTick at 0x1a96ac7850>,\n",
       "  <matplotlib.axis.XTick at 0x1a96ac8cd0>,\n",
       "  <matplotlib.axis.XTick at 0x1a96ac92d0>],\n",
       " <a list of 5 Text xticklabel objects>)"
      ]
     },
     "execution_count": 14,
     "metadata": {},
     "output_type": "execute_result"
    },
    {
     "data": {
      "text/plain": [
       "Text(0.5, 1.0, 'dist of occupation_type')"
      ]
     },
     "execution_count": 14,
     "metadata": {},
     "output_type": "execute_result"
    },
    {
     "data": {
      "text/plain": [
       "<matplotlib.legend.Legend at 0x1a96aca350>"
      ]
     },
     "execution_count": 14,
     "metadata": {},
     "output_type": "execute_result"
    },
    {
     "data": {
      "image/png": "[encoded data removed]",
      "text/plain": [
       "<Figure size 432x288 with 1 Axes>"
      ]
     },
     "metadata": {
      "needs_background": "light"
     },
     "output_type": "display_data"
    },
    {
     "data": {
      "text/html": [
       "<div>\n",
       "<style scoped>\n",
       "    .dataframe tbody tr th:only-of-type {\n",
       "        vertical-align: middle;\n",
       "    }\n",
       "\n",
       "    .dataframe tbody tr th {\n",
       "        vertical-align: top;\n",
       "    }\n",
       "\n",
       "    .dataframe thead th {\n",
       "        text-align: right;\n",
       "    }\n",
       "</style>\n",
       "<table border=\"1\" class=\"dataframe\">\n",
       "  <thead>\n",
       "    <tr style=\"text-align: right;\">\n",
       "      <th></th>\n",
       "      <th>job</th>\n",
       "      <th>customer_id</th>\n",
       "      <th>is_fund</th>\n",
       "      <th>not_fund</th>\n",
       "      <th>per1</th>\n",
       "      <th>per2</th>\n",
       "      <th>per3</th>\n",
       "    </tr>\n",
       "  </thead>\n",
       "  <tbody>\n",
       "    <tr>\n",
       "      <th>0</th>\n",
       "      <td>STAF</td>\n",
       "      <td>215190</td>\n",
       "      <td>46228</td>\n",
       "      <td>168962</td>\n",
       "      <td>0.610352</td>\n",
       "      <td>0.650677</td>\n",
       "      <td>0.600175</td>\n",
       "    </tr>\n",
       "    <tr>\n",
       "      <th>1</th>\n",
       "      <td>SUPERVISO</td>\n",
       "      <td>35073</td>\n",
       "      <td>7555</td>\n",
       "      <td>27518</td>\n",
       "      <td>0.099479</td>\n",
       "      <td>0.106340</td>\n",
       "      <td>0.097748</td>\n",
       "    </tr>\n",
       "    <tr>\n",
       "      <th>2</th>\n",
       "      <td>MANAJER</td>\n",
       "      <td>10839</td>\n",
       "      <td>3454</td>\n",
       "      <td>7385</td>\n",
       "      <td>0.030743</td>\n",
       "      <td>0.048616</td>\n",
       "      <td>0.026233</td>\n",
       "    </tr>\n",
       "    <tr>\n",
       "      <th>3</th>\n",
       "      <td>DIRECTOR</td>\n",
       "      <td>3136</td>\n",
       "      <td>662</td>\n",
       "      <td>2474</td>\n",
       "      <td>0.008895</td>\n",
       "      <td>0.009318</td>\n",
       "      <td>0.008788</td>\n",
       "    </tr>\n",
       "    <tr>\n",
       "      <th>4</th>\n",
       "      <td>GENERAL_MANAGER</td>\n",
       "      <td>2401</td>\n",
       "      <td>408</td>\n",
       "      <td>1993</td>\n",
       "      <td>0.006810</td>\n",
       "      <td>0.005743</td>\n",
       "      <td>0.007079</td>\n",
       "    </tr>\n",
       "  </tbody>\n",
       "</table>\n",
       "</div>"
      ],
      "text/plain": [
       "               job  customer_id  is_fund  not_fund      per1      per2  \\\n",
       "0             STAF       215190    46228    168962  0.610352  0.650677   \n",
       "1        SUPERVISO        35073     7555     27518  0.099479  0.106340   \n",
       "2          MANAJER        10839     3454      7385  0.030743  0.048616   \n",
       "3         DIRECTOR         3136      662      2474  0.008895  0.009318   \n",
       "4  GENERAL_MANAGER         2401      408      1993  0.006810  0.005743   \n",
       "\n",
       "       per3  \n",
       "0  0.600175  \n",
       "1  0.097748  \n",
       "2  0.026233  \n",
       "3  0.008788  \n",
       "4  0.007079  "
      ]
     },
     "execution_count": 14,
     "metadata": {},
     "output_type": "execute_result"
    },
    {
     "data": {
      "text/plain": [
       "<Figure size 432x288 with 0 Axes>"
      ]
     },
     "execution_count": 14,
     "metadata": {},
     "output_type": "execute_result"
    },
    {
     "data": {
      "text/plain": [
       "<BarContainer object of 5 artists>"
      ]
     },
     "execution_count": 14,
     "metadata": {},
     "output_type": "execute_result"
    },
    {
     "data": {
      "text/plain": [
       "Text(0, 0.6103520749247661, '0.61')"
      ]
     },
     "execution_count": 14,
     "metadata": {},
     "output_type": "execute_result"
    },
    {
     "data": {
      "text/plain": [
       "Text(1, 0.09947896428196626, '0.10')"
      ]
     },
     "execution_count": 14,
     "metadata": {},
     "output_type": "execute_result"
    },
    {
     "data": {
      "text/plain": [
       "Text(2, 0.030743092802219152, '0.03')"
      ]
     },
     "execution_count": 14,
     "metadata": {},
     "output_type": "execute_result"
    },
    {
     "data": {
      "text/plain": [
       "Text(3, 0.008894763264854623, '0.01')"
      ]
     },
     "execution_count": 14,
     "metadata": {},
     "output_type": "execute_result"
    },
    {
     "data": {
      "text/plain": [
       "Text(4, 0.006810053124654321, '0.01')"
      ]
     },
     "execution_count": 14,
     "metadata": {},
     "output_type": "execute_result"
    },
    {
     "data": {
      "text/plain": [
       "<BarContainer object of 5 artists>"
      ]
     },
     "execution_count": 14,
     "metadata": {},
     "output_type": "execute_result"
    },
    {
     "data": {
      "text/plain": [
       "Text(0.25, 0.6506770261520705, '0.65')"
      ]
     },
     "execution_count": 14,
     "metadata": {},
     "output_type": "execute_result"
    },
    {
     "data": {
      "text/plain": [
       "Text(1.25, 0.10633955465473074, '0.11')"
      ]
     },
     "execution_count": 14,
     "metadata": {},
     "output_type": "execute_result"
    },
    {
     "data": {
      "text/plain": [
       "Text(2.25, 0.04861638938152746, '0.05')"
      ]
     },
     "execution_count": 14,
     "metadata": {},
     "output_type": "execute_result"
    },
    {
     "data": {
      "text/plain": [
       "Text(3.25, 0.009317906708329814, '0.01')"
      ]
     },
     "execution_count": 14,
     "metadata": {},
     "output_type": "execute_result"
    },
    {
     "data": {
      "text/plain": [
       "Text(4.25, 0.005742758212988768, '0.01')"
      ]
     },
     "execution_count": 14,
     "metadata": {},
     "output_type": "execute_result"
    },
    {
     "data": {
      "text/plain": [
       "<BarContainer object of 5 artists>"
      ]
     },
     "execution_count": 14,
     "metadata": {},
     "output_type": "execute_result"
    },
    {
     "data": {
      "text/plain": [
       "Text(0.5, 0.6001754753641825, '0.60')"
      ]
     },
     "execution_count": 14,
     "metadata": {},
     "output_type": "execute_result"
    },
    {
     "data": {
      "text/plain": [
       "Text(1.5, 0.0977475925419418, '0.10')"
      ]
     },
     "execution_count": 14,
     "metadata": {},
     "output_type": "execute_result"
    },
    {
     "data": {
      "text/plain": [
       "Text(2.5, 0.026232501305408832, '0.03')"
      ]
     },
     "execution_count": 14,
     "metadata": {},
     "output_type": "execute_result"
    },
    {
     "data": {
      "text/plain": [
       "Text(3.5, 0.008787976740633913, '0.01')"
      ]
     },
     "execution_count": 14,
     "metadata": {},
     "output_type": "execute_result"
    },
    {
     "data": {
      "text/plain": [
       "Text(4.5, 0.007079400826226107, '0.01')"
      ]
     },
     "execution_count": 14,
     "metadata": {},
     "output_type": "execute_result"
    },
    {
     "data": {
      "text/plain": [
       "([<matplotlib.axis.XTick at 0x1a96ad11d0>,\n",
       "  <matplotlib.axis.XTick at 0x1a96ad2d90>,\n",
       "  <matplotlib.axis.XTick at 0x1a96adb990>,\n",
       "  <matplotlib.axis.XTick at 0x1a96adcb90>,\n",
       "  <matplotlib.axis.XTick at 0x1a96add350>],\n",
       " <a list of 5 Text xticklabel objects>)"
      ]
     },
     "execution_count": 14,
     "metadata": {},
     "output_type": "execute_result"
    },
    {
     "data": {
      "text/plain": [
       "Text(0.5, 1.0, 'dist of job')"
      ]
     },
     "execution_count": 14,
     "metadata": {},
     "output_type": "execute_result"
    },
    {
     "data": {
      "text/plain": [
       "<matplotlib.legend.Legend at 0x1a96ade450>"
      ]
     },
     "execution_count": 14,
     "metadata": {},
     "output_type": "execute_result"
    },
    {
     "ename": "KeyboardInterrupt",
     "evalue": "",
     "output_type": "error",
     "traceback": [
      "\u001b[0;31m---------------------------------------------------------------------------\u001b[0m",
      "\u001b[0;31mKeyboardInterrupt\u001b[0m                         Traceback (most recent call last)",
      "\u001b[0;32m<ipython-input-14-0a4bc9747608>\u001b[0m in \u001b[0;36m<module>\u001b[0;34m\u001b[0m\n\u001b[1;32m     27\u001b[0m     \u001b[0mplt\u001b[0m\u001b[0;34m.\u001b[0m\u001b[0mlegend\u001b[0m\u001b[0;34m(\u001b[0m\u001b[0;34m[\u001b[0m\u001b[0;34m'申请'\u001b[0m\u001b[0;34m,\u001b[0m\u001b[0;34m'放款'\u001b[0m\u001b[0;34m,\u001b[0m\u001b[0;34m'未放款'\u001b[0m\u001b[0;34m]\u001b[0m\u001b[0;34m,\u001b[0m \u001b[0mloc\u001b[0m \u001b[0;34m=\u001b[0m \u001b[0;34m'upper right'\u001b[0m\u001b[0;34m,\u001b[0m \u001b[0mfontsize\u001b[0m\u001b[0;34m=\u001b[0m\u001b[0;36m5\u001b[0m\u001b[0;34m)\u001b[0m\u001b[0;34m\u001b[0m\u001b[0;34m\u001b[0m\u001b[0m\n\u001b[1;32m     28\u001b[0m     \u001b[0mplt\u001b[0m\u001b[0;34m.\u001b[0m\u001b[0mtight_layout\u001b[0m\u001b[0;34m(\u001b[0m\u001b[0;34m)\u001b[0m\u001b[0;34m;\u001b[0m\u001b[0;34m\u001b[0m\u001b[0;34m\u001b[0m\u001b[0m\n\u001b[0;32m---> 29\u001b[0;31m     \u001b[0mplt\u001b[0m\u001b[0;34m.\u001b[0m\u001b[0msavefig\u001b[0m\u001b[0;34m(\u001b[0m\u001b[0mos\u001b[0m\u001b[0;34m.\u001b[0m\u001b[0mpath\u001b[0m\u001b[0;34m.\u001b[0m\u001b[0mjoin\u001b[0m\u001b[0;34m(\u001b[0m\u001b[0mfig_path\u001b[0m\u001b[0;34m,\u001b[0m \u001b[0mcols\u001b[0m \u001b[0;34m+\u001b[0m \u001b[0;34m'.png'\u001b[0m\u001b[0;34m)\u001b[0m\u001b[0;34m,\u001b[0m \u001b[0mformat\u001b[0m\u001b[0;34m=\u001b[0m\u001b[0;34m'png'\u001b[0m\u001b[0;34m,\u001b[0m \u001b[0mdpi\u001b[0m\u001b[0;34m=\u001b[0m\u001b[0;36m300\u001b[0m\u001b[0;34m,\u001b[0m \u001b[0mbbox_inches\u001b[0m \u001b[0;34m=\u001b[0m \u001b[0;34m'tight'\u001b[0m\u001b[0;34m,\u001b[0m\u001b[0mpad_inches\u001b[0m \u001b[0;34m=\u001b[0m \u001b[0;36m0.1\u001b[0m\u001b[0;34m)\u001b[0m\u001b[0;34m\u001b[0m\u001b[0;34m\u001b[0m\u001b[0m\n\u001b[0m\u001b[1;32m     30\u001b[0m     \u001b[0mplt\u001b[0m\u001b[0;34m.\u001b[0m\u001b[0mshow\u001b[0m\u001b[0;34m(\u001b[0m\u001b[0;34m)\u001b[0m\u001b[0;34m;\u001b[0m\u001b[0;34m\u001b[0m\u001b[0;34m\u001b[0m\u001b[0m\n\u001b[1;32m     31\u001b[0m     \u001b[0mplt\u001b[0m\u001b[0;34m.\u001b[0m\u001b[0mclose\u001b[0m\u001b[0;34m(\u001b[0m\u001b[0;34m)\u001b[0m\u001b[0;34m;\u001b[0m\u001b[0;34m\u001b[0m\u001b[0;34m\u001b[0m\u001b[0m\n",
      "\u001b[0;32m~/anaconda3/envs/modeling/lib/python3.7/site-packages/matplotlib/pyplot.py\u001b[0m in \u001b[0;36msavefig\u001b[0;34m(*args, **kwargs)\u001b[0m\n\u001b[1;32m    720\u001b[0m \u001b[0;32mdef\u001b[0m \u001b[0msavefig\u001b[0m\u001b[0;34m(\u001b[0m\u001b[0;34m*\u001b[0m\u001b[0margs\u001b[0m\u001b[0;34m,\u001b[0m \u001b[0;34m**\u001b[0m\u001b[0mkwargs\u001b[0m\u001b[0;34m)\u001b[0m\u001b[0;34m:\u001b[0m\u001b[0;34m\u001b[0m\u001b[0;34m\u001b[0m\u001b[0m\n\u001b[1;32m    721\u001b[0m     \u001b[0mfig\u001b[0m \u001b[0;34m=\u001b[0m \u001b[0mgcf\u001b[0m\u001b[0;34m(\u001b[0m\u001b[0;34m)\u001b[0m\u001b[0;34m\u001b[0m\u001b[0;34m\u001b[0m\u001b[0m\n\u001b[0;32m--> 722\u001b[0;31m     \u001b[0mres\u001b[0m \u001b[0;34m=\u001b[0m \u001b[0mfig\u001b[0m\u001b[0;34m.\u001b[0m\u001b[0msavefig\u001b[0m\u001b[0;34m(\u001b[0m\u001b[0;34m*\u001b[0m\u001b[0margs\u001b[0m\u001b[0;34m,\u001b[0m \u001b[0;34m**\u001b[0m\u001b[0mkwargs\u001b[0m\u001b[0;34m)\u001b[0m\u001b[0;34m\u001b[0m\u001b[0;34m\u001b[0m\u001b[0m\n\u001b[0m\u001b[1;32m    723\u001b[0m     \u001b[0mfig\u001b[0m\u001b[0;34m.\u001b[0m\u001b[0mcanvas\u001b[0m\u001b[0;34m.\u001b[0m\u001b[0mdraw_idle\u001b[0m\u001b[0;34m(\u001b[0m\u001b[0;34m)\u001b[0m   \u001b[0;31m# need this if 'transparent=True' to reset colors\u001b[0m\u001b[0;34m\u001b[0m\u001b[0;34m\u001b[0m\u001b[0m\n\u001b[1;32m    724\u001b[0m     \u001b[0;32mreturn\u001b[0m \u001b[0mres\u001b[0m\u001b[0;34m\u001b[0m\u001b[0;34m\u001b[0m\u001b[0m\n",
      "\u001b[0;32m~/anaconda3/envs/modeling/lib/python3.7/site-packages/matplotlib/figure.py\u001b[0m in \u001b[0;36msavefig\u001b[0;34m(self, fname, transparent, **kwargs)\u001b[0m\n\u001b[1;32m   2178\u001b[0m             \u001b[0mself\u001b[0m\u001b[0;34m.\u001b[0m\u001b[0mpatch\u001b[0m\u001b[0;34m.\u001b[0m\u001b[0mset_visible\u001b[0m\u001b[0;34m(\u001b[0m\u001b[0mframeon\u001b[0m\u001b[0;34m)\u001b[0m\u001b[0;34m\u001b[0m\u001b[0;34m\u001b[0m\u001b[0m\n\u001b[1;32m   2179\u001b[0m \u001b[0;34m\u001b[0m\u001b[0m\n\u001b[0;32m-> 2180\u001b[0;31m         \u001b[0mself\u001b[0m\u001b[0;34m.\u001b[0m\u001b[0mcanvas\u001b[0m\u001b[0;34m.\u001b[0m\u001b[0mprint_figure\u001b[0m\u001b[0;34m(\u001b[0m\u001b[0mfname\u001b[0m\u001b[0;34m,\u001b[0m \u001b[0;34m**\u001b[0m\u001b[0mkwargs\u001b[0m\u001b[0;34m)\u001b[0m\u001b[0;34m\u001b[0m\u001b[0;34m\u001b[0m\u001b[0m\n\u001b[0m\u001b[1;32m   2181\u001b[0m \u001b[0;34m\u001b[0m\u001b[0m\n\u001b[1;32m   2182\u001b[0m         \u001b[0;32mif\u001b[0m \u001b[0mframeon\u001b[0m\u001b[0;34m:\u001b[0m\u001b[0;34m\u001b[0m\u001b[0;34m\u001b[0m\u001b[0m\n",
      "\u001b[0;32m~/anaconda3/envs/modeling/lib/python3.7/site-packages/matplotlib/backend_bases.py\u001b[0m in \u001b[0;36mprint_figure\u001b[0;34m(self, filename, dpi, facecolor, edgecolor, orientation, format, bbox_inches, **kwargs)\u001b[0m\n\u001b[1;32m   2054\u001b[0m                         \u001b[0morientation\u001b[0m\u001b[0;34m=\u001b[0m\u001b[0morientation\u001b[0m\u001b[0;34m,\u001b[0m\u001b[0;34m\u001b[0m\u001b[0;34m\u001b[0m\u001b[0m\n\u001b[1;32m   2055\u001b[0m                         \u001b[0mdryrun\u001b[0m\u001b[0;34m=\u001b[0m\u001b[0;32mTrue\u001b[0m\u001b[0;34m,\u001b[0m\u001b[0;34m\u001b[0m\u001b[0;34m\u001b[0m\u001b[0m\n\u001b[0;32m-> 2056\u001b[0;31m                         **kwargs)\n\u001b[0m\u001b[1;32m   2057\u001b[0m                     \u001b[0mrenderer\u001b[0m \u001b[0;34m=\u001b[0m \u001b[0mself\u001b[0m\u001b[0;34m.\u001b[0m\u001b[0mfigure\u001b[0m\u001b[0;34m.\u001b[0m\u001b[0m_cachedRenderer\u001b[0m\u001b[0;34m\u001b[0m\u001b[0;34m\u001b[0m\u001b[0m\n\u001b[1;32m   2058\u001b[0m                     \u001b[0mbbox_artists\u001b[0m \u001b[0;34m=\u001b[0m \u001b[0mkwargs\u001b[0m\u001b[0;34m.\u001b[0m\u001b[0mpop\u001b[0m\u001b[0;34m(\u001b[0m\u001b[0;34m\"bbox_extra_artists\"\u001b[0m\u001b[0;34m,\u001b[0m \u001b[0;32mNone\u001b[0m\u001b[0;34m)\u001b[0m\u001b[0;34m\u001b[0m\u001b[0;34m\u001b[0m\u001b[0m\n",
      "\u001b[0;32m~/anaconda3/envs/modeling/lib/python3.7/site-packages/matplotlib/backends/backend_agg.py\u001b[0m in \u001b[0;36mprint_png\u001b[0;34m(self, filename_or_obj, metadata, pil_kwargs, *args, **kwargs)\u001b[0m\n\u001b[1;32m    530\u001b[0m                     \u001b[0mcbook\u001b[0m\u001b[0;34m.\u001b[0m\u001b[0mopen_file_cm\u001b[0m\u001b[0;34m(\u001b[0m\u001b[0mfilename_or_obj\u001b[0m\u001b[0;34m,\u001b[0m \u001b[0;34m\"wb\"\u001b[0m\u001b[0;34m)\u001b[0m \u001b[0;32mas\u001b[0m \u001b[0mfh\u001b[0m\u001b[0;34m:\u001b[0m\u001b[0;34m\u001b[0m\u001b[0;34m\u001b[0m\u001b[0m\n\u001b[1;32m    531\u001b[0m                 _png.write_png(renderer._renderer, fh,\n\u001b[0;32m--> 532\u001b[0;31m                                self.figure.dpi, metadata=metadata)\n\u001b[0m\u001b[1;32m    533\u001b[0m \u001b[0;34m\u001b[0m\u001b[0m\n\u001b[1;32m    534\u001b[0m     \u001b[0;32mdef\u001b[0m \u001b[0mprint_to_buffer\u001b[0m\u001b[0;34m(\u001b[0m\u001b[0mself\u001b[0m\u001b[0;34m)\u001b[0m\u001b[0;34m:\u001b[0m\u001b[0;34m\u001b[0m\u001b[0;34m\u001b[0m\u001b[0m\n",
      "\u001b[0;31mKeyboardInterrupt\u001b[0m: "
     ]
    },
    {
     "data": {
      "image/png": "[encoded data removed]",
      "text/plain": [
       "<Figure size 432x288 with 1 Axes>"
      ]
     },
     "metadata": {},
     "output_type": "display_data"
    }
   ],
   "source": [
    "total1 = temp.shape[0]\n",
    "total2 = temp_fund.shape[0]\n",
    "total3 = temp_notfund.shape[0]\n",
    "for cols in col_list:\n",
    "    frame1 = pd.pivot_table(temp, index =cols, values = ['customer_id','is_fund'],aggfunc = {'customer_id':'count','is_fund': 'sum'})\n",
    "    frame1 =frame1 .sort_values(by  = 'customer_id', ascending = False)\n",
    "    frame1 = frame1.reset_index()\n",
    "    frame1['not_fund'] = frame1['customer_id'] - frame1['is_fund']\n",
    "    frame1['per1'] = frame1['customer_id']/total1\n",
    "    frame1['per2'] = frame1['is_fund']/total2\n",
    "    frame1['per3'] = frame1['not_fund']/total3\n",
    "    frame1 = frame1.head(10)\n",
    "    frame1\n",
    "    index = np.arange(len(frame1[cols]))\n",
    "    plt.figure(figsize=(6,4))\n",
    "    plt.bar(index, frame1['per1'], width=0.25, color='#2c6fbb');\n",
    "    for a, b in zip(index, frame1['per1']):\n",
    "        plt.text(a, b, '%.2f' % b, ha='center', va='bottom', fontsize=5);\n",
    "    plt.bar(index + 0.25, frame1['per2'], width=0.25, color = 'sandybrown')\n",
    "    for a, b in zip(index + 0.25, frame1['per2']):\n",
    "        plt.text(a, b, '%.2f' % b, ha='center', va='bottom', fontsize=5);\n",
    "    plt.bar(index + 0.5, frame1['per3'], width=0.25,color = 'mediumseagreen')\n",
    "    for a, b in zip(index + 0.5, frame1['per3']):\n",
    "        plt.text(a, b, '%.2f' % b, ha='center', va='bottom', fontsize=5);\n",
    "    plt.xticks(index+1/3,frame1[cols],rotation=20, fontsize=5);\n",
    "    plt.title('dist of %s'%cols)\n",
    "    plt.legend(['申请','放款','未放款'], loc = 'upper right', fontsize=5)\n",
    "    plt.tight_layout();\n",
    "    plt.savefig(os.path.join(fig_path, cols + '.png'), format='png', dpi=300, bbox_inches = 'tight',pad_inches = 0.1)\n",
    "    plt.show();\n",
    "    plt.close();"
   ]
  },
  {
   "cell_type": "code",
   "execution_count": null,
   "metadata": {},
   "outputs": [],
   "source": [
    "年龄"
   ]
  },
  {
   "cell_type": "code",
   "execution_count": 15,
   "metadata": {},
   "outputs": [
    {
     "data": {
      "image/png": "[encoded data removed]",
      "text/plain": [
       "<Figure size 432x288 with 1 Axes>"
      ]
     },
     "metadata": {
      "needs_background": "light"
     },
     "output_type": "display_data"
    }
   ],
   "source": [
    "temp1 = temp[~temp['age'].isnull()]\n",
    "temp1_fund = temp1[temp1['is_fund'] == 1]\n",
    "temp1_notfund = temp1[temp1['is_fund'] == 0]\n",
    "sns.distplot(temp1['age'],hist = False, color='#2c6fbb');\n",
    "sns.distplot(temp1_fund['age'],hist = False,color = 'sandybrown')\n",
    "sns.distplot(temp1_notfund['age'],hist = False,color = 'mediumseagreen')\n",
    "plt.title('dist of age')\n",
    "plt.legend(['申请','放款','未放款'], loc = 'upper right', fontsize=5)\n",
    "plt.savefig(os.path.join(fig_path, 'age' + '.png'), format='png', dpi=300, bbox_inches = 'tight',pad_inches = 0.1)\n",
    "plt.show();\n",
    "plt.close();"
   ]
  },
  {
   "cell_type": "raw",
   "metadata": {},
   "source": [
    "年龄&收入"
   ]
  },
  {
   "cell_type": "code",
   "execution_count": 16,
   "metadata": {},
   "outputs": [
    {
     "data": {
      "text/html": [
       "<div>\n",
       "<style scoped>\n",
       "    .dataframe tbody tr th:only-of-type {\n",
       "        vertical-align: middle;\n",
       "    }\n",
       "\n",
       "    .dataframe tbody tr th {\n",
       "        vertical-align: top;\n",
       "    }\n",
       "\n",
       "    .dataframe thead th {\n",
       "        text-align: right;\n",
       "    }\n",
       "</style>\n",
       "<table border=\"1\" class=\"dataframe\">\n",
       "  <thead>\n",
       "    <tr style=\"text-align: right;\">\n",
       "      <th></th>\n",
       "      <th>salary_rmb_g</th>\n",
       "      <th>customer_id</th>\n",
       "      <th>is_fund</th>\n",
       "      <th>not_fund</th>\n",
       "      <th>per1</th>\n",
       "      <th>per2</th>\n",
       "      <th>per3</th>\n",
       "    </tr>\n",
       "  </thead>\n",
       "  <tbody>\n",
       "    <tr>\n",
       "      <th>0</th>\n",
       "      <td>(-inf, 0.0]</td>\n",
       "      <td>84522</td>\n",
       "      <td>11949</td>\n",
       "      <td>72573</td>\n",
       "      <td>0.239733</td>\n",
       "      <td>0.168187</td>\n",
       "      <td>0.257789</td>\n",
       "    </tr>\n",
       "    <tr>\n",
       "      <th>1</th>\n",
       "      <td>(0.0, 1200.0]</td>\n",
       "      <td>21002</td>\n",
       "      <td>2321</td>\n",
       "      <td>18681</td>\n",
       "      <td>0.059569</td>\n",
       "      <td>0.032669</td>\n",
       "      <td>0.066357</td>\n",
       "    </tr>\n",
       "    <tr>\n",
       "      <th>2</th>\n",
       "      <td>(1200.0, 1500.0]</td>\n",
       "      <td>39284</td>\n",
       "      <td>5382</td>\n",
       "      <td>33902</td>\n",
       "      <td>0.111423</td>\n",
       "      <td>0.075754</td>\n",
       "      <td>0.120424</td>\n",
       "    </tr>\n",
       "    <tr>\n",
       "      <th>3</th>\n",
       "      <td>(1500.0, 1900.0]</td>\n",
       "      <td>32234</td>\n",
       "      <td>5538</td>\n",
       "      <td>26696</td>\n",
       "      <td>0.091427</td>\n",
       "      <td>0.077949</td>\n",
       "      <td>0.094828</td>\n",
       "    </tr>\n",
       "    <tr>\n",
       "      <th>4</th>\n",
       "      <td>(1900.0, 2050.0]</td>\n",
       "      <td>32919</td>\n",
       "      <td>6993</td>\n",
       "      <td>25926</td>\n",
       "      <td>0.093369</td>\n",
       "      <td>0.098429</td>\n",
       "      <td>0.092093</td>\n",
       "    </tr>\n",
       "    <tr>\n",
       "      <th>5</th>\n",
       "      <td>(2050.0, 2500.0]</td>\n",
       "      <td>44713</td>\n",
       "      <td>10575</td>\n",
       "      <td>34138</td>\n",
       "      <td>0.126821</td>\n",
       "      <td>0.148847</td>\n",
       "      <td>0.121263</td>\n",
       "    </tr>\n",
       "    <tr>\n",
       "      <th>6</th>\n",
       "      <td>(2500.0, 3500.0]</td>\n",
       "      <td>27748</td>\n",
       "      <td>7925</td>\n",
       "      <td>19823</td>\n",
       "      <td>0.078703</td>\n",
       "      <td>0.111547</td>\n",
       "      <td>0.070414</td>\n",
       "    </tr>\n",
       "    <tr>\n",
       "      <th>7</th>\n",
       "      <td>(3500.0, 17500.0]</td>\n",
       "      <td>35054</td>\n",
       "      <td>10886</td>\n",
       "      <td>24168</td>\n",
       "      <td>0.099425</td>\n",
       "      <td>0.153225</td>\n",
       "      <td>0.085848</td>\n",
       "    </tr>\n",
       "    <tr>\n",
       "      <th>8</th>\n",
       "      <td>(17500.0, inf]</td>\n",
       "      <td>32274</td>\n",
       "      <td>8476</td>\n",
       "      <td>23798</td>\n",
       "      <td>0.091540</td>\n",
       "      <td>0.119303</td>\n",
       "      <td>0.084534</td>\n",
       "    </tr>\n",
       "  </tbody>\n",
       "</table>\n",
       "</div>"
      ],
      "text/plain": [
       "        salary_rmb_g  customer_id  is_fund  not_fund      per1      per2  \\\n",
       "0        (-inf, 0.0]        84522    11949     72573  0.239733  0.168187   \n",
       "1      (0.0, 1200.0]        21002     2321     18681  0.059569  0.032669   \n",
       "2   (1200.0, 1500.0]        39284     5382     33902  0.111423  0.075754   \n",
       "3   (1500.0, 1900.0]        32234     5538     26696  0.091427  0.077949   \n",
       "4   (1900.0, 2050.0]        32919     6993     25926  0.093369  0.098429   \n",
       "5   (2050.0, 2500.0]        44713    10575     34138  0.126821  0.148847   \n",
       "6   (2500.0, 3500.0]        27748     7925     19823  0.078703  0.111547   \n",
       "7  (3500.0, 17500.0]        35054    10886     24168  0.099425  0.153225   \n",
       "8     (17500.0, inf]        32274     8476     23798  0.091540  0.119303   \n",
       "\n",
       "       per3  \n",
       "0  0.257789  \n",
       "1  0.066357  \n",
       "2  0.120424  \n",
       "3  0.094828  \n",
       "4  0.092093  \n",
       "5  0.121263  \n",
       "6  0.070414  \n",
       "7  0.085848  \n",
       "8  0.084534  "
      ]
     },
     "execution_count": 16,
     "metadata": {},
     "output_type": "execute_result"
    },
    {
     "data": {
      "text/plain": [
       "<Figure size 432x288 with 0 Axes>"
      ]
     },
     "execution_count": 16,
     "metadata": {},
     "output_type": "execute_result"
    },
    {
     "data": {
      "text/plain": [
       "<BarContainer object of 9 artists>"
      ]
     },
     "execution_count": 16,
     "metadata": {},
     "output_type": "execute_result"
    },
    {
     "data": {
      "text/plain": [
       "Text(0, 0.23973315710205437, '0.24')"
      ]
     },
     "execution_count": 16,
     "metadata": {},
     "output_type": "execute_result"
    },
    {
     "data": {
      "text/plain": [
       "Text(1, 0.05956881954351939, '0.06')"
      ]
     },
     "execution_count": 16,
     "metadata": {},
     "output_type": "execute_result"
    },
    {
     "data": {
      "text/plain": [
       "Text(2, 0.11142279339813425, '0.11')"
      ]
     },
     "execution_count": 16,
     "metadata": {},
     "output_type": "execute_result"
    },
    {
     "data": {
      "text/plain": [
       "Text(3, 0.09142659409417217, '0.09')"
      ]
     },
     "execution_count": 16,
     "metadata": {},
     "output_type": "execute_result"
    },
    {
     "data": {
      "text/plain": [
       "Text(4, 0.09336948721803232, '0.09')"
      ]
     },
     "execution_count": 16,
     "metadata": {},
     "output_type": "execute_result"
    },
    {
     "data": {
      "text/plain": [
       "Text(5, 0.12682128503234846, '0.13')"
      ]
     },
     "execution_count": 16,
     "metadata": {},
     "output_type": "execute_result"
    },
    {
     "data": {
      "text/plain": [
       "Text(6, 0.07870277138813332, '0.08')"
      ]
     },
     "execution_count": 16,
     "metadata": {},
     "output_type": "execute_result"
    },
    {
     "data": {
      "text/plain": [
       "Text(7, 0.099425073815757, '0.10')"
      ]
     },
     "execution_count": 16,
     "metadata": {},
     "output_type": "execute_result"
    },
    {
     "data": {
      "text/plain": [
       "Text(8, 0.09154004770724429, '0.09')"
      ]
     },
     "execution_count": 16,
     "metadata": {},
     "output_type": "execute_result"
    },
    {
     "data": {
      "text/plain": [
       "<BarContainer object of 9 artists>"
      ]
     },
     "execution_count": 16,
     "metadata": {},
     "output_type": "execute_result"
    },
    {
     "data": {
      "text/plain": [
       "Text(0.25, 0.16818680854657544, '0.17')"
      ]
     },
     "execution_count": 16,
     "metadata": {},
     "output_type": "execute_result"
    },
    {
     "data": {
      "text/plain": [
       "Text(1.25, 0.03266897503026208, '0.03')"
      ]
     },
     "execution_count": 16,
     "metadata": {},
     "output_type": "execute_result"
    },
    {
     "data": {
      "text/plain": [
       "Text(2.25, 0.07575373701545478, '0.08')"
      ]
     },
     "execution_count": 16,
     "metadata": {},
     "output_type": "execute_result"
    },
    {
     "data": {
      "text/plain": [
       "Text(3.25, 0.07794949750865636, '0.08')"
      ]
     },
     "execution_count": 16,
     "metadata": {},
     "output_type": "execute_result"
    },
    {
     "data": {
      "text/plain": [
       "Text(4.25, 0.09842918672409424, '0.10')"
      ]
     },
     "execution_count": 16,
     "metadata": {},
     "output_type": "execute_result"
    },
    {
     "data": {
      "text/plain": [
       "Text(5.25, 0.14884722574106918, '0.15')"
      ]
     },
     "execution_count": 16,
     "metadata": {},
     "output_type": "execute_result"
    },
    {
     "data": {
      "text/plain": [
       "Text(6.25, 0.11154744813219604, '0.11')"
      ]
     },
     "execution_count": 16,
     "metadata": {},
     "output_type": "execute_result"
    },
    {
     "data": {
      "text/plain": [
       "Text(7.25, 0.15322467133969542, '0.15')"
      ]
     },
     "execution_count": 16,
     "metadata": {},
     "output_type": "execute_result"
    },
    {
     "data": {
      "text/plain": [
       "Text(8.25, 0.11930298679728626, '0.12')"
      ]
     },
     "execution_count": 16,
     "metadata": {},
     "output_type": "execute_result"
    },
    {
     "data": {
      "text/plain": [
       "<BarContainer object of 9 artists>"
      ]
     },
     "execution_count": 16,
     "metadata": {},
     "output_type": "execute_result"
    },
    {
     "data": {
      "text/plain": [
       "Text(0.5, 0.2577889393686439, '0.26')"
      ]
     },
     "execution_count": 16,
     "metadata": {},
     "output_type": "execute_result"
    },
    {
     "data": {
      "text/plain": [
       "Text(1.5, 0.06635739429740588, '0.07')"
      ]
     },
     "execution_count": 16,
     "metadata": {},
     "output_type": "execute_result"
    },
    {
     "data": {
      "text/plain": [
       "Text(2.5, 0.12042440883628575, '0.12')"
      ]
     },
     "execution_count": 16,
     "metadata": {},
     "output_type": "execute_result"
    },
    {
     "data": {
      "text/plain": [
       "Text(3.5, 0.09482773931607233, '0.09')"
      ]
     },
     "execution_count": 16,
     "metadata": {},
     "output_type": "execute_result"
    },
    {
     "data": {
      "text/plain": [
       "Text(4.5, 0.09209259699986858, '0.09')"
      ]
     },
     "execution_count": 16,
     "metadata": {},
     "output_type": "execute_result"
    },
    {
     "data": {
      "text/plain": [
       "Text(5.5, 0.12126271219553782, '0.12')"
      ]
     },
     "execution_count": 16,
     "metadata": {},
     "output_type": "execute_result"
    },
    {
     "data": {
      "text/plain": [
       "Text(6.5, 0.0704139300442951, '0.07')"
      ]
     },
     "execution_count": 16,
     "metadata": {},
     "output_type": "execute_result"
    },
    {
     "data": {
      "text/plain": [
       "Text(7.5, 0.08584794740001633, '0.09')"
      ]
     },
     "execution_count": 16,
     "metadata": {},
     "output_type": "execute_result"
    },
    {
     "data": {
      "text/plain": [
       "Text(8.5, 0.08453365823508725, '0.08')"
      ]
     },
     "execution_count": 16,
     "metadata": {},
     "output_type": "execute_result"
    },
    {
     "data": {
      "text/plain": [
       "([<matplotlib.axis.XTick at 0x1a96b0bbd0>,\n",
       "  <matplotlib.axis.XTick at 0x1a96b0b390>,\n",
       "  <matplotlib.axis.XTick at 0x1a96b1af10>,\n",
       "  <matplotlib.axis.XTick at 0x1a96b1cdd0>,\n",
       "  <matplotlib.axis.XTick at 0x1a96b1ca50>,\n",
       "  <matplotlib.axis.XTick at 0x1a96b1d810>,\n",
       "  <matplotlib.axis.XTick at 0x1a96b1de10>,\n",
       "  <matplotlib.axis.XTick at 0x1a96b1e5d0>,\n",
       "  <matplotlib.axis.XTick at 0x1a96b1eb10>],\n",
       " <a list of 9 Text xticklabel objects>)"
      ]
     },
     "execution_count": 16,
     "metadata": {},
     "output_type": "execute_result"
    },
    {
     "data": {
      "text/plain": [
       "Text(0.5, 1.0, 'dist of salary_rmb_g')"
      ]
     },
     "execution_count": 16,
     "metadata": {},
     "output_type": "execute_result"
    },
    {
     "data": {
      "text/plain": [
       "<matplotlib.legend.Legend at 0x1a96ae1710>"
      ]
     },
     "execution_count": 16,
     "metadata": {},
     "output_type": "execute_result"
    },
    {
     "data": {
      "image/png": "[encoded data removed]",
      "text/plain": [
       "<Figure size 432x288 with 1 Axes>"
      ]
     },
     "metadata": {
      "needs_background": "light"
     },
     "output_type": "display_data"
    },
    {
     "data": {
      "text/html": [
       "<div>\n",
       "<style scoped>\n",
       "    .dataframe tbody tr th:only-of-type {\n",
       "        vertical-align: middle;\n",
       "    }\n",
       "\n",
       "    .dataframe tbody tr th {\n",
       "        vertical-align: top;\n",
       "    }\n",
       "\n",
       "    .dataframe thead th {\n",
       "        text-align: right;\n",
       "    }\n",
       "</style>\n",
       "<table border=\"1\" class=\"dataframe\">\n",
       "  <thead>\n",
       "    <tr style=\"text-align: right;\">\n",
       "      <th></th>\n",
       "      <th>age_g</th>\n",
       "      <th>customer_id</th>\n",
       "      <th>is_fund</th>\n",
       "      <th>not_fund</th>\n",
       "      <th>per1</th>\n",
       "      <th>per2</th>\n",
       "      <th>per3</th>\n",
       "    </tr>\n",
       "  </thead>\n",
       "  <tbody>\n",
       "    <tr>\n",
       "      <th>0</th>\n",
       "      <td>(-0.001, 21.0]</td>\n",
       "      <td>48982</td>\n",
       "      <td>2357</td>\n",
       "      <td>46625</td>\n",
       "      <td>0.138930</td>\n",
       "      <td>0.033176</td>\n",
       "      <td>0.165618</td>\n",
       "    </tr>\n",
       "    <tr>\n",
       "      <th>1</th>\n",
       "      <td>(21.0, 25.0]</td>\n",
       "      <td>78548</td>\n",
       "      <td>13787</td>\n",
       "      <td>64761</td>\n",
       "      <td>0.222789</td>\n",
       "      <td>0.194057</td>\n",
       "      <td>0.230040</td>\n",
       "    </tr>\n",
       "    <tr>\n",
       "      <th>2</th>\n",
       "      <td>(25.0, 30.0]</td>\n",
       "      <td>83874</td>\n",
       "      <td>18446</td>\n",
       "      <td>65428</td>\n",
       "      <td>0.237895</td>\n",
       "      <td>0.259635</td>\n",
       "      <td>0.232409</td>\n",
       "    </tr>\n",
       "    <tr>\n",
       "      <th>3</th>\n",
       "      <td>(30.0, 35.0]</td>\n",
       "      <td>57680</td>\n",
       "      <td>14302</td>\n",
       "      <td>43378</td>\n",
       "      <td>0.163600</td>\n",
       "      <td>0.201306</td>\n",
       "      <td>0.154084</td>\n",
       "    </tr>\n",
       "    <tr>\n",
       "      <th>4</th>\n",
       "      <td>(35.0, 40.0]</td>\n",
       "      <td>40512</td>\n",
       "      <td>10796</td>\n",
       "      <td>29716</td>\n",
       "      <td>0.114906</td>\n",
       "      <td>0.151958</td>\n",
       "      <td>0.105555</td>\n",
       "    </tr>\n",
       "    <tr>\n",
       "      <th>5</th>\n",
       "      <td>(40.0, 45.0]</td>\n",
       "      <td>22752</td>\n",
       "      <td>6324</td>\n",
       "      <td>16428</td>\n",
       "      <td>0.064532</td>\n",
       "      <td>0.089013</td>\n",
       "      <td>0.058354</td>\n",
       "    </tr>\n",
       "    <tr>\n",
       "      <th>6</th>\n",
       "      <td>(45.0, 50.0]</td>\n",
       "      <td>12720</td>\n",
       "      <td>3479</td>\n",
       "      <td>9241</td>\n",
       "      <td>0.036078</td>\n",
       "      <td>0.048968</td>\n",
       "      <td>0.032825</td>\n",
       "    </tr>\n",
       "    <tr>\n",
       "      <th>7</th>\n",
       "      <td>(50.0, 55.0]</td>\n",
       "      <td>5284</td>\n",
       "      <td>1210</td>\n",
       "      <td>4074</td>\n",
       "      <td>0.014987</td>\n",
       "      <td>0.017031</td>\n",
       "      <td>0.014471</td>\n",
       "    </tr>\n",
       "    <tr>\n",
       "      <th>8</th>\n",
       "      <td>(55.0, 60.0]</td>\n",
       "      <td>1638</td>\n",
       "      <td>317</td>\n",
       "      <td>1321</td>\n",
       "      <td>0.004646</td>\n",
       "      <td>0.004462</td>\n",
       "      <td>0.004692</td>\n",
       "    </tr>\n",
       "    <tr>\n",
       "      <th>9</th>\n",
       "      <td>(60.0, 65.0]</td>\n",
       "      <td>352</td>\n",
       "      <td>26</td>\n",
       "      <td>326</td>\n",
       "      <td>0.000998</td>\n",
       "      <td>0.000366</td>\n",
       "      <td>0.001158</td>\n",
       "    </tr>\n",
       "  </tbody>\n",
       "</table>\n",
       "</div>"
      ],
      "text/plain": [
       "            age_g  customer_id  is_fund  not_fund      per1      per2  \\\n",
       "0  (-0.001, 21.0]        48982     2357     46625  0.138930  0.033176   \n",
       "1    (21.0, 25.0]        78548    13787     64761  0.222789  0.194057   \n",
       "2    (25.0, 30.0]        83874    18446     65428  0.237895  0.259635   \n",
       "3    (30.0, 35.0]        57680    14302     43378  0.163600  0.201306   \n",
       "4    (35.0, 40.0]        40512    10796     29716  0.114906  0.151958   \n",
       "5    (40.0, 45.0]        22752     6324     16428  0.064532  0.089013   \n",
       "6    (45.0, 50.0]        12720     3479      9241  0.036078  0.048968   \n",
       "7    (50.0, 55.0]         5284     1210      4074  0.014987  0.017031   \n",
       "8    (55.0, 60.0]         1638      317      1321  0.004646  0.004462   \n",
       "9    (60.0, 65.0]          352       26       326  0.000998  0.000366   \n",
       "\n",
       "       per3  \n",
       "0  0.165618  \n",
       "1  0.230040  \n",
       "2  0.232409  \n",
       "3  0.154084  \n",
       "4  0.105555  \n",
       "5  0.058354  \n",
       "6  0.032825  \n",
       "7  0.014471  \n",
       "8  0.004692  \n",
       "9  0.001158  "
      ]
     },
     "execution_count": 16,
     "metadata": {},
     "output_type": "execute_result"
    },
    {
     "data": {
      "text/plain": [
       "<Figure size 432x288 with 0 Axes>"
      ]
     },
     "execution_count": 16,
     "metadata": {},
     "output_type": "execute_result"
    },
    {
     "data": {
      "text/plain": [
       "<BarContainer object of 10 artists>"
      ]
     },
     "execution_count": 16,
     "metadata": {},
     "output_type": "execute_result"
    },
    {
     "data": {
      "text/plain": [
       "Text(0, 0.13892962188747104, '0.14')"
      ]
     },
     "execution_count": 16,
     "metadata": {},
     "output_type": "execute_result"
    },
    {
     "data": {
      "text/plain": [
       "Text(1, 0.22278885998973244, '0.22')"
      ]
     },
     "execution_count": 16,
     "metadata": {},
     "output_type": "execute_result"
    },
    {
     "data": {
      "text/plain": [
       "Text(2, 0.23789520857028593, '0.24')"
      ]
     },
     "execution_count": 16,
     "metadata": {},
     "output_type": "execute_result"
    },
    {
     "data": {
      "text/plain": [
       "Text(3, 0.1636001100500047, '0.16')"
      ]
     },
     "execution_count": 16,
     "metadata": {},
     "output_type": "execute_result"
    },
    {
     "data": {
      "text/plain": [
       "Text(4, 0.1149058193194485, '0.11')"
      ]
     },
     "execution_count": 16,
     "metadata": {},
     "output_type": "execute_result"
    },
    {
     "data": {
      "text/plain": [
       "Text(5, 0.06453241511542487, '0.06')"
      ]
     },
     "execution_count": 16,
     "metadata": {},
     "output_type": "execute_result"
    },
    {
     "data": {
      "text/plain": [
       "Text(6, 0.03607824895693584, '0.04')"
      ]
     },
     "execution_count": 16,
     "metadata": {},
     "output_type": "execute_result"
    },
    {
     "data": {
      "text/plain": [
       "Text(7, 0.014987222286827752, '0.01')"
      ]
     },
     "execution_count": 16,
     "metadata": {},
     "output_type": "execute_result"
    },
    {
     "data": {
      "text/plain": [
       "Text(8, 0.004645925455303531, '0.00')"
      ]
     },
     "execution_count": 16,
     "metadata": {},
     "output_type": "execute_result"
    },
    {
     "data": {
      "text/plain": [
       "Text(9, 0.0009983917950347025, '0.00')"
      ]
     },
     "execution_count": 16,
     "metadata": {},
     "output_type": "execute_result"
    },
    {
     "data": {
      "text/plain": [
       "<BarContainer object of 10 artists>"
      ]
     },
     "execution_count": 16,
     "metadata": {},
     "output_type": "execute_result"
    },
    {
     "data": {
      "text/plain": [
       "Text(0.25, 0.03317568899023168, '0.03')"
      ]
     },
     "execution_count": 16,
     "metadata": {},
     "output_type": "execute_result"
    },
    {
     "data": {
      "text/plain": [
       "Text(1.25, 0.1940573712805788, '0.19')"
      ]
     },
     "execution_count": 16,
     "metadata": {},
     "output_type": "execute_result"
    },
    {
     "data": {
      "text/plain": [
       "Text(2.25, 0.2596346029333108, '0.26')"
      ]
     },
     "execution_count": 16,
     "metadata": {},
     "output_type": "execute_result"
    },
    {
     "data": {
      "text/plain": [
       "Text(3.25, 0.2013061959856994, '0.20')"
      ]
     },
     "execution_count": 16,
     "metadata": {},
     "output_type": "execute_result"
    },
    {
     "data": {
      "text/plain": [
       "Text(4.25, 0.15195788643977143, '0.15')"
      ]
     },
     "execution_count": 16,
     "metadata": {},
     "output_type": "execute_result"
    },
    {
     "data": {
      "text/plain": [
       "Text(5.25, 0.0890127523013259, '0.09')"
      ]
     },
     "execution_count": 16,
     "metadata": {},
     "output_type": "execute_result"
    },
    {
     "data": {
      "text/plain": [
       "Text(6.25, 0.04896827407595079, '0.05')"
      ]
     },
     "execution_count": 16,
     "metadata": {},
     "output_type": "execute_result"
    },
    {
     "data": {
      "text/plain": [
       "Text(7.25, 0.017031219210089238, '0.02')"
      ]
     },
     "execution_count": 16,
     "metadata": {},
     "output_type": "execute_result"
    },
    {
     "data": {
      "text/plain": [
       "Text(8.25, 0.004461897925287841, '0.00')"
      ]
     },
     "execution_count": 16,
     "metadata": {},
     "output_type": "execute_result"
    },
    {
     "data": {
      "text/plain": [
       "Text(9.25, 0.00036596008220026463, '0.00')"
      ]
     },
     "execution_count": 16,
     "metadata": {},
     "output_type": "execute_result"
    },
    {
     "data": {
      "text/plain": [
       "<BarContainer object of 10 artists>"
      ]
     },
     "execution_count": 16,
     "metadata": {},
     "output_type": "execute_result"
    },
    {
     "data": {
      "text/plain": [
       "Text(0.5, 0.16561819544545522, '0.17')"
      ]
     },
     "execution_count": 16,
     "metadata": {},
     "output_type": "execute_result"
    },
    {
     "data": {
      "text/plain": [
       "Text(1.5, 0.23003967732424935, '0.23')"
      ]
     },
     "execution_count": 16,
     "metadata": {},
     "output_type": "execute_result"
    },
    {
     "data": {
      "text/plain": [
       "Text(2.5, 0.23240894995399988, '0.23')"
      ]
     },
     "execution_count": 16,
     "metadata": {},
     "output_type": "execute_result"
    },
    {
     "data": {
      "text/plain": [
       "Text(3.5, 0.15408441998998298, '0.15')"
      ]
     },
     "execution_count": 16,
     "metadata": {},
     "output_type": "execute_result"
    },
    {
     "data": {
      "text/plain": [
       "Text(4.5, 0.10555518060819619, '0.11')"
      ]
     },
     "execution_count": 16,
     "metadata": {},
     "output_type": "execute_result"
    },
    {
     "data": {
      "text/plain": [
       "Text(5.5, 0.05835443892285123, '0.06')"
      ]
     },
     "execution_count": 16,
     "metadata": {},
     "output_type": "execute_result"
    },
    {
     "data": {
      "text/plain": [
       "Text(6.5, 0.03282525992732336, '0.03')"
      ]
     },
     "execution_count": 16,
     "metadata": {},
     "output_type": "execute_result"
    },
    {
     "data": {
      "text/plain": [
       "Text(7.5, 0.014471389345732645, '0.01')"
      ]
     },
     "execution_count": 16,
     "metadata": {},
     "output_type": "execute_result"
    },
    {
     "data": {
      "text/plain": [
       "Text(8.5, 0.0046923675320846405, '0.00')"
      ]
     },
     "execution_count": 16,
     "metadata": {},
     "output_type": "execute_result"
    },
    {
     "data": {
      "text/plain": [
       "Text(9.5, 0.0011579953182888666, '0.00')"
      ]
     },
     "execution_count": 16,
     "metadata": {},
     "output_type": "execute_result"
    },
    {
     "data": {
      "text/plain": [
       "([<matplotlib.axis.XTick at 0x1a96b220d0>,\n",
       "  <matplotlib.axis.XTick at 0x1a96b23210>,\n",
       "  <matplotlib.axis.XTick at 0x1a96b35450>,\n",
       "  <matplotlib.axis.XTick at 0x1a96b37750>,\n",
       "  <matplotlib.axis.XTick at 0x1a96b37c90>,\n",
       "  <matplotlib.axis.XTick at 0x1a96b38290>,\n",
       "  <matplotlib.axis.XTick at 0x1a96b38910>,\n",
       "  <matplotlib.axis.XTick at 0x1a96b391d0>,\n",
       "  <matplotlib.axis.XTick at 0x1a96b39810>,\n",
       "  <matplotlib.axis.XTick at 0x1a96b39ed0>],\n",
       " <a list of 10 Text xticklabel objects>)"
      ]
     },
     "execution_count": 16,
     "metadata": {},
     "output_type": "execute_result"
    },
    {
     "data": {
      "text/plain": [
       "Text(0.5, 1.0, 'dist of age_g')"
      ]
     },
     "execution_count": 16,
     "metadata": {},
     "output_type": "execute_result"
    },
    {
     "data": {
      "text/plain": [
       "<matplotlib.legend.Legend at 0x1a96b36e10>"
      ]
     },
     "execution_count": 16,
     "metadata": {},
     "output_type": "execute_result"
    },
    {
     "data": {
      "image/png": "[encoded data removed]",
      "text/plain": [
       "<Figure size 432x288 with 1 Axes>"
      ]
     },
     "metadata": {
      "needs_background": "light"
     },
     "output_type": "display_data"
    }
   ],
   "source": [
    "col2_list = ['salary_rmb_g', 'age_g']\n",
    "total = temp.shape[0]\n",
    "for cols in col2_list:\n",
    "    temp1 = temp[~temp[cols].isnull()]\n",
    "    frame1 = pd.pivot_table(temp1, index =cols, values = ['customer_id','is_fund'],aggfunc = {'customer_id':'count','is_fund': 'sum'})\n",
    "    frame1 =frame1.sort_index(ascending = True)\n",
    "    frame1 = frame1.reset_index()\n",
    "    frame1['not_fund'] = frame1['customer_id'] - frame1['is_fund']\n",
    "    frame1['per1'] = frame1['customer_id']/total1\n",
    "    frame1['per2'] = frame1['is_fund']/total2\n",
    "    frame1['per3'] = frame1['not_fund']/total3\n",
    "    frame1 = frame1.head(10)\n",
    "    frame1\n",
    "    index = np.arange(len(frame1[cols]))\n",
    "    plt.figure(figsize=(6,4))\n",
    "    plt.bar(index, frame1['per1'], width=0.25, color='#2c6fbb');\n",
    "    for a, b in zip(index, frame1['per1']):\n",
    "        plt.text(a, b, '%.2f' % b, ha='center', va='bottom', fontsize=5);\n",
    "    plt.bar(index + 0.25, frame1['per2'], width=0.25, color = 'sandybrown')\n",
    "    for a, b in zip(index + 0.25, frame1['per2']):\n",
    "        plt.text(a, b, '%.2f' % b, ha='center', va='bottom', fontsize=5);\n",
    "    plt.bar(index + 0.5, frame1['per3'], width=0.25,color = 'mediumseagreen')\n",
    "    for a, b in zip(index + 0.5, frame1['per3']):\n",
    "        plt.text(a, b, '%.2f' % b, ha='center', va='bottom', fontsize=5);\n",
    "    plt.xticks(index+1/3,frame1[cols],rotation=20, fontsize=5);\n",
    "    plt.title('dist of %s'%cols)\n",
    "    plt.legend(['申请','放款','未放款'], loc = 'upper right', fontsize=5)\n",
    "    plt.tight_layout();\n",
    "    plt.savefig(os.path.join(fig_path, cols + '.png'), format='png', dpi=300, bbox_inches = 'tight',pad_inches = 0.1)\n",
    "    plt.show();\n",
    "    plt.close();"
   ]
  },
  {
   "cell_type": "code",
   "execution_count": null,
   "metadata": {},
   "outputs": [],
   "source": [
    "紧联"
   ]
  },
  {
   "cell_type": "code",
   "execution_count": 17,
   "metadata": {},
   "outputs": [],
   "source": [
    "refer_list = ['cnt_refertype','cnt_bro_sis','cnt_self',\t'cnt_spouse',\n",
    "              'cnt_friend','cnt_kinsfolk','cnt_parents']"
   ]
  },
  {
   "cell_type": "code",
   "execution_count": 18,
   "metadata": {},
   "outputs": [
    {
     "data": {
      "text/html": [
       "<div>\n",
       "<style scoped>\n",
       "    .dataframe tbody tr th:only-of-type {\n",
       "        vertical-align: middle;\n",
       "    }\n",
       "\n",
       "    .dataframe tbody tr th {\n",
       "        vertical-align: top;\n",
       "    }\n",
       "\n",
       "    .dataframe thead th {\n",
       "        text-align: right;\n",
       "    }\n",
       "</style>\n",
       "<table border=\"1\" class=\"dataframe\">\n",
       "  <thead>\n",
       "    <tr style=\"text-align: right;\">\n",
       "      <th></th>\n",
       "      <th>cnt_refertype</th>\n",
       "      <th>customer_id</th>\n",
       "      <th>is_fund</th>\n",
       "      <th>not_fund</th>\n",
       "      <th>per1</th>\n",
       "      <th>per2</th>\n",
       "      <th>per3</th>\n",
       "    </tr>\n",
       "  </thead>\n",
       "  <tbody>\n",
       "    <tr>\n",
       "      <th>0</th>\n",
       "      <td>1.0</td>\n",
       "      <td>13</td>\n",
       "      <td>1</td>\n",
       "      <td>12</td>\n",
       "      <td>0.000037</td>\n",
       "      <td>0.000014</td>\n",
       "      <td>0.000043</td>\n",
       "    </tr>\n",
       "    <tr>\n",
       "      <th>1</th>\n",
       "      <td>2.0</td>\n",
       "      <td>23171</td>\n",
       "      <td>5199</td>\n",
       "      <td>17972</td>\n",
       "      <td>0.065721</td>\n",
       "      <td>0.073178</td>\n",
       "      <td>0.063839</td>\n",
       "    </tr>\n",
       "    <tr>\n",
       "      <th>2</th>\n",
       "      <td>3.0</td>\n",
       "      <td>112175</td>\n",
       "      <td>22666</td>\n",
       "      <td>89509</td>\n",
       "      <td>0.318166</td>\n",
       "      <td>0.319033</td>\n",
       "      <td>0.317948</td>\n",
       "    </tr>\n",
       "    <tr>\n",
       "      <th>3</th>\n",
       "      <td>4.0</td>\n",
       "      <td>174924</td>\n",
       "      <td>33702</td>\n",
       "      <td>141222</td>\n",
       "      <td>0.496144</td>\n",
       "      <td>0.474369</td>\n",
       "      <td>0.501639</td>\n",
       "    </tr>\n",
       "    <tr>\n",
       "      <th>4</th>\n",
       "      <td>5.0</td>\n",
       "      <td>42279</td>\n",
       "      <td>9478</td>\n",
       "      <td>32801</td>\n",
       "      <td>0.119918</td>\n",
       "      <td>0.133407</td>\n",
       "      <td>0.116514</td>\n",
       "    </tr>\n",
       "  </tbody>\n",
       "</table>\n",
       "</div>"
      ],
      "text/plain": [
       "   cnt_refertype  customer_id  is_fund  not_fund      per1      per2      per3\n",
       "0            1.0           13        1        12  0.000037  0.000014  0.000043\n",
       "1            2.0        23171     5199     17972  0.065721  0.073178  0.063839\n",
       "2            3.0       112175    22666     89509  0.318166  0.319033  0.317948\n",
       "3            4.0       174924    33702    141222  0.496144  0.474369  0.501639\n",
       "4            5.0        42279     9478     32801  0.119918  0.133407  0.116514"
      ]
     },
     "execution_count": 18,
     "metadata": {},
     "output_type": "execute_result"
    },
    {
     "data": {
      "text/plain": [
       "<Figure size 432x288 with 0 Axes>"
      ]
     },
     "execution_count": 18,
     "metadata": {},
     "output_type": "execute_result"
    },
    {
     "data": {
      "text/plain": [
       "<BarContainer object of 5 artists>"
      ]
     },
     "execution_count": 18,
     "metadata": {},
     "output_type": "execute_result"
    },
    {
     "data": {
      "text/plain": [
       "Text(0, 3.687242424844072e-05, '0.00')"
      ]
     },
     "execution_count": 18,
     "metadata": {},
     "output_type": "execute_result"
    },
    {
     "data": {
      "text/plain": [
       "Text(1, 0.06572084171235539, '0.07')"
      ]
     },
     "execution_count": 18,
     "metadata": {},
     "output_type": "execute_result"
    },
    {
     "data": {
      "text/plain": [
       "Text(2, 0.3181664761591414, '0.32')"
      ]
     },
     "execution_count": 18,
     "metadata": {},
     "output_type": "execute_result"
    },
    {
     "data": {
      "text/plain": [
       "Text(3, 0.49614399532571113, '0.50')"
      ]
     },
     "execution_count": 18,
     "metadata": {},
     "output_type": "execute_result"
    },
    {
     "data": {
      "text/plain": [
       "Text(4, 0.11991763267690964, '0.12')"
      ]
     },
     "execution_count": 18,
     "metadata": {},
     "output_type": "execute_result"
    },
    {
     "data": {
      "text/plain": [
       "<BarContainer object of 5 artists>"
      ]
     },
     "execution_count": 18,
     "metadata": {},
     "output_type": "execute_result"
    },
    {
     "data": {
      "text/plain": [
       "Text(0.25, 1.4075387776933255e-05, '0.00')"
      ]
     },
     "execution_count": 18,
     "metadata": {},
     "output_type": "execute_result"
    },
    {
     "data": {
      "text/plain": [
       "Text(1.25, 0.07317794105227599, '0.07')"
      ]
     },
     "execution_count": 18,
     "metadata": {},
     "output_type": "execute_result"
    },
    {
     "data": {
      "text/plain": [
       "Text(2.25, 0.31903273935196913, '0.32')"
      ]
     },
     "execution_count": 18,
     "metadata": {},
     "output_type": "execute_result"
    },
    {
     "data": {
      "text/plain": [
       "Text(3.25, 0.47436871885820453, '0.47')"
      ]
     },
     "execution_count": 18,
     "metadata": {},
     "output_type": "execute_result"
    },
    {
     "data": {
      "text/plain": [
       "Text(4.25, 0.13340652534977337, '0.13')"
      ]
     },
     "execution_count": 18,
     "metadata": {},
     "output_type": "execute_result"
    },
    {
     "data": {
      "text/plain": [
       "<BarContainer object of 5 artists>"
      ]
     },
     "execution_count": 18,
     "metadata": {},
     "output_type": "execute_result"
    },
    {
     "data": {
      "text/plain": [
       "Text(0.5, 4.2625594538240484e-05, '0.00')"
      ]
     },
     "execution_count": 18,
     "metadata": {},
     "output_type": "execute_result"
    },
    {
     "data": {
      "text/plain": [
       "Text(1.5, 0.06383893208677151, '0.06')"
      ]
     },
     "execution_count": 18,
     "metadata": {},
     "output_type": "execute_result"
    },
    {
     "data": {
      "text/plain": [
       "Text(2.5, 0.31794786179361395, '0.32')"
      ]
     },
     "execution_count": 18,
     "metadata": {},
     "output_type": "execute_result"
    },
    {
     "data": {
      "text/plain": [
       "Text(3.5, 0.5016393093232832, '0.50')"
      ]
     },
     "execution_count": 18,
     "metadata": {},
     "output_type": "execute_result"
    },
    {
     "data": {
      "text/plain": [
       "Text(4.5, 0.11651351053740218, '0.12')"
      ]
     },
     "execution_count": 18,
     "metadata": {},
     "output_type": "execute_result"
    },
    {
     "data": {
      "text/plain": [
       "([<matplotlib.axis.XTick at 0x1a96b183d0>,\n",
       "  <matplotlib.axis.XTick at 0x1a96b16c10>,\n",
       "  <matplotlib.axis.XTick at 0x1a3d7c2290>,\n",
       "  <matplotlib.axis.XTick at 0x1ab4b21650>,\n",
       "  <matplotlib.axis.XTick at 0x1ab03a9750>],\n",
       " <a list of 5 Text xticklabel objects>)"
      ]
     },
     "execution_count": 18,
     "metadata": {},
     "output_type": "execute_result"
    },
    {
     "data": {
      "text/plain": [
       "Text(0.5, 1.0, 'dist of cnt_refertype')"
      ]
     },
     "execution_count": 18,
     "metadata": {},
     "output_type": "execute_result"
    },
    {
     "data": {
      "text/plain": [
       "<matplotlib.legend.Legend at 0x1a96b12850>"
      ]
     },
     "execution_count": 18,
     "metadata": {},
     "output_type": "execute_result"
    },
    {
     "data": {
      "image/png": "[encoded data removed]",
      "text/plain": [
       "<Figure size 432x288 with 1 Axes>"
      ]
     },
     "metadata": {
      "needs_background": "light"
     },
     "output_type": "display_data"
    },
    {
     "data": {
      "text/html": [
       "<div>\n",
       "<style scoped>\n",
       "    .dataframe tbody tr th:only-of-type {\n",
       "        vertical-align: middle;\n",
       "    }\n",
       "\n",
       "    .dataframe tbody tr th {\n",
       "        vertical-align: top;\n",
       "    }\n",
       "\n",
       "    .dataframe thead th {\n",
       "        text-align: right;\n",
       "    }\n",
       "</style>\n",
       "<table border=\"1\" class=\"dataframe\">\n",
       "  <thead>\n",
       "    <tr style=\"text-align: right;\">\n",
       "      <th></th>\n",
       "      <th>cnt_bro_sis</th>\n",
       "      <th>customer_id</th>\n",
       "      <th>is_fund</th>\n",
       "      <th>not_fund</th>\n",
       "      <th>per1</th>\n",
       "      <th>per2</th>\n",
       "      <th>per3</th>\n",
       "    </tr>\n",
       "  </thead>\n",
       "  <tbody>\n",
       "    <tr>\n",
       "      <th>0</th>\n",
       "      <td>0.0</td>\n",
       "      <td>13363</td>\n",
       "      <td>2419</td>\n",
       "      <td>10944</td>\n",
       "      <td>0.037902</td>\n",
       "      <td>0.034048</td>\n",
       "      <td>0.038875</td>\n",
       "    </tr>\n",
       "    <tr>\n",
       "      <th>1</th>\n",
       "      <td>1.0</td>\n",
       "      <td>100591</td>\n",
       "      <td>20949</td>\n",
       "      <td>79642</td>\n",
       "      <td>0.285310</td>\n",
       "      <td>0.294865</td>\n",
       "      <td>0.282899</td>\n",
       "    </tr>\n",
       "    <tr>\n",
       "      <th>2</th>\n",
       "      <td>2.0</td>\n",
       "      <td>163360</td>\n",
       "      <td>32691</td>\n",
       "      <td>130669</td>\n",
       "      <td>0.463345</td>\n",
       "      <td>0.460139</td>\n",
       "      <td>0.464154</td>\n",
       "    </tr>\n",
       "    <tr>\n",
       "      <th>3</th>\n",
       "      <td>3.0</td>\n",
       "      <td>74712</td>\n",
       "      <td>14883</td>\n",
       "      <td>59829</td>\n",
       "      <td>0.211909</td>\n",
       "      <td>0.209484</td>\n",
       "      <td>0.212521</td>\n",
       "    </tr>\n",
       "    <tr>\n",
       "      <th>4</th>\n",
       "      <td>4.0</td>\n",
       "      <td>369</td>\n",
       "      <td>71</td>\n",
       "      <td>298</td>\n",
       "      <td>0.001047</td>\n",
       "      <td>0.000999</td>\n",
       "      <td>0.001059</td>\n",
       "    </tr>\n",
       "    <tr>\n",
       "      <th>5</th>\n",
       "      <td>5.0</td>\n",
       "      <td>111</td>\n",
       "      <td>20</td>\n",
       "      <td>91</td>\n",
       "      <td>0.000315</td>\n",
       "      <td>0.000282</td>\n",
       "      <td>0.000323</td>\n",
       "    </tr>\n",
       "    <tr>\n",
       "      <th>6</th>\n",
       "      <td>6.0</td>\n",
       "      <td>38</td>\n",
       "      <td>10</td>\n",
       "      <td>28</td>\n",
       "      <td>0.000108</td>\n",
       "      <td>0.000141</td>\n",
       "      <td>0.000099</td>\n",
       "    </tr>\n",
       "    <tr>\n",
       "      <th>7</th>\n",
       "      <td>7.0</td>\n",
       "      <td>7</td>\n",
       "      <td>1</td>\n",
       "      <td>6</td>\n",
       "      <td>0.000020</td>\n",
       "      <td>0.000014</td>\n",
       "      <td>0.000021</td>\n",
       "    </tr>\n",
       "    <tr>\n",
       "      <th>8</th>\n",
       "      <td>8.0</td>\n",
       "      <td>2</td>\n",
       "      <td>1</td>\n",
       "      <td>1</td>\n",
       "      <td>0.000006</td>\n",
       "      <td>0.000014</td>\n",
       "      <td>0.000004</td>\n",
       "    </tr>\n",
       "    <tr>\n",
       "      <th>9</th>\n",
       "      <td>9.0</td>\n",
       "      <td>5</td>\n",
       "      <td>0</td>\n",
       "      <td>5</td>\n",
       "      <td>0.000014</td>\n",
       "      <td>0.000000</td>\n",
       "      <td>0.000018</td>\n",
       "    </tr>\n",
       "  </tbody>\n",
       "</table>\n",
       "</div>"
      ],
      "text/plain": [
       "   cnt_bro_sis  customer_id  is_fund  not_fund      per1      per2      per3\n",
       "0          0.0        13363     2419     10944  0.037902  0.034048  0.038875\n",
       "1          1.0       100591    20949     79642  0.285310  0.294865  0.282899\n",
       "2          2.0       163360    32691    130669  0.463345  0.460139  0.464154\n",
       "3          3.0        74712    14883     59829  0.211909  0.209484  0.212521\n",
       "4          4.0          369       71       298  0.001047  0.000999  0.001059\n",
       "5          5.0          111       20        91  0.000315  0.000282  0.000323\n",
       "6          6.0           38       10        28  0.000108  0.000141  0.000099\n",
       "7          7.0            7        1         6  0.000020  0.000014  0.000021\n",
       "8          8.0            2        1         1  0.000006  0.000014  0.000004\n",
       "9          9.0            5        0         5  0.000014  0.000000  0.000018"
      ]
     },
     "execution_count": 18,
     "metadata": {},
     "output_type": "execute_result"
    },
    {
     "data": {
      "text/plain": [
       "<Figure size 432x288 with 0 Axes>"
      ]
     },
     "execution_count": 18,
     "metadata": {},
     "output_type": "execute_result"
    },
    {
     "data": {
      "text/plain": [
       "<BarContainer object of 10 artists>"
      ]
     },
     "execution_count": 18,
     "metadata": {},
     "output_type": "execute_result"
    },
    {
     "data": {
      "text/plain": [
       "Text(0, 0.03790201578707026, '0.04')"
      ]
     },
     "execution_count": 18,
     "metadata": {},
     "output_type": "execute_result"
    },
    {
     "data": {
      "text/plain": [
       "Text(1, 0.2853103098134539, '0.29')"
      ]
     },
     "execution_count": 18,
     "metadata": {},
     "output_type": "execute_result"
    },
    {
     "data": {
      "text/plain": [
       "Text(2, 0.4633445557865597, '0.46')"
      ]
     },
     "execution_count": 18,
     "metadata": {},
     "output_type": "execute_result"
    },
    {
     "data": {
      "text/plain": [
       "Text(3, 0.21190865849611562, '0.21')"
      ]
     },
     "execution_count": 18,
     "metadata": {},
     "output_type": "execute_result"
    },
    {
     "data": {
      "text/plain": [
       "Text(4, 0.001046609580590356, '0.00')"
      ]
     },
     "execution_count": 18,
     "metadata": {},
     "output_type": "execute_result"
    },
    {
     "data": {
      "text/plain": [
       "Text(5, 0.0003148337762751477, '0.00')"
      ]
     },
     "execution_count": 18,
     "metadata": {},
     "output_type": "execute_result"
    },
    {
     "data": {
      "text/plain": [
       "Text(6, 0.00010778093241851904, '0.00')"
      ]
     },
     "execution_count": 18,
     "metadata": {},
     "output_type": "execute_result"
    },
    {
     "data": {
      "text/plain": [
       "Text(7, 1.9854382287621928e-05, '0.00')"
      ]
     },
     "execution_count": 18,
     "metadata": {},
     "output_type": "execute_result"
    },
    {
     "data": {
      "text/plain": [
       "Text(8, 5.672680653606265e-06, '0.00')"
      ]
     },
     "execution_count": 18,
     "metadata": {},
     "output_type": "execute_result"
    },
    {
     "data": {
      "text/plain": [
       "Text(9, 1.4181701634015662e-05, '0.00')"
      ]
     },
     "execution_count": 18,
     "metadata": {},
     "output_type": "execute_result"
    },
    {
     "data": {
      "text/plain": [
       "<BarContainer object of 10 artists>"
      ]
     },
     "execution_count": 18,
     "metadata": {},
     "output_type": "execute_result"
    },
    {
     "data": {
      "text/plain": [
       "Text(0.25, 0.034048363032401545, '0.03')"
      ]
     },
     "execution_count": 18,
     "metadata": {},
     "output_type": "execute_result"
    },
    {
     "data": {
      "text/plain": [
       "Text(1.25, 0.29486529853897475, '0.29')"
      ]
     },
     "execution_count": 18,
     "metadata": {},
     "output_type": "execute_result"
    },
    {
     "data": {
      "text/plain": [
       "Text(2.25, 0.460138501815725, '0.46')"
      ]
     },
     "execution_count": 18,
     "metadata": {},
     "output_type": "execute_result"
    },
    {
     "data": {
      "text/plain": [
       "Text(3.25, 0.20948399628409764, '0.21')"
      ]
     },
     "execution_count": 18,
     "metadata": {},
     "output_type": "execute_result"
    },
    {
     "data": {
      "text/plain": [
       "Text(4.25, 0.000999352532162261, '0.00')"
      ]
     },
     "execution_count": 18,
     "metadata": {},
     "output_type": "execute_result"
    },
    {
     "data": {
      "text/plain": [
       "Text(5.25, 0.00028150775553866507, '0.00')"
      ]
     },
     "execution_count": 18,
     "metadata": {},
     "output_type": "execute_result"
    },
    {
     "data": {
      "text/plain": [
       "Text(6.25, 0.00014075387776933253, '0.00')"
      ]
     },
     "execution_count": 18,
     "metadata": {},
     "output_type": "execute_result"
    },
    {
     "data": {
      "text/plain": [
       "Text(7.25, 1.4075387776933255e-05, '0.00')"
      ]
     },
     "execution_count": 18,
     "metadata": {},
     "output_type": "execute_result"
    },
    {
     "data": {
      "text/plain": [
       "Text(8.25, 1.4075387776933255e-05, '0.00')"
      ]
     },
     "execution_count": 18,
     "metadata": {},
     "output_type": "execute_result"
    },
    {
     "data": {
      "text/plain": [
       "Text(9.25, 0.0, '0.00')"
      ]
     },
     "execution_count": 18,
     "metadata": {},
     "output_type": "execute_result"
    },
    {
     "data": {
      "text/plain": [
       "<BarContainer object of 10 artists>"
      ]
     },
     "execution_count": 18,
     "metadata": {},
     "output_type": "execute_result"
    },
    {
     "data": {
      "text/plain": [
       "Text(0.5, 0.038874542218875326, '0.04')"
      ]
     },
     "execution_count": 18,
     "metadata": {},
     "output_type": "execute_result"
    },
    {
     "data": {
      "text/plain": [
       "Text(1.5, 0.2828989666845457, '0.28')"
      ]
     },
     "execution_count": 18,
     "metadata": {},
     "output_type": "execute_result"
    },
    {
     "data": {
      "text/plain": [
       "Text(2.5, 0.46415365105977885, '0.46')"
      ]
     },
     "execution_count": 18,
     "metadata": {},
     "output_type": "execute_result"
    },
    {
     "data": {
      "text/plain": [
       "Text(3.5, 0.2125205579690325, '0.21')"
      ]
     },
     "execution_count": 18,
     "metadata": {},
     "output_type": "execute_result"
    },
    {
     "data": {
      "text/plain": [
       "Text(4.5, 0.0010585355976996387, '0.00')"
      ]
     },
     "execution_count": 18,
     "metadata": {},
     "output_type": "execute_result"
    },
    {
     "data": {
      "text/plain": [
       "Text(5.5, 0.00032324409191499036, '0.00')"
      ]
     },
     "execution_count": 18,
     "metadata": {},
     "output_type": "execute_result"
    },
    {
     "data": {
      "text/plain": [
       "Text(6.5, 9.94597205892278e-05, '0.00')"
      ]
     },
     "execution_count": 18,
     "metadata": {},
     "output_type": "execute_result"
    },
    {
     "data": {
      "text/plain": [
       "Text(7.5, 2.1312797269120242e-05, '0.00')"
      ]
     },
     "execution_count": 18,
     "metadata": {},
     "output_type": "execute_result"
    },
    {
     "data": {
      "text/plain": [
       "Text(8.5, 3.552132878186707e-06, '0.00')"
      ]
     },
     "execution_count": 18,
     "metadata": {},
     "output_type": "execute_result"
    },
    {
     "data": {
      "text/plain": [
       "Text(9.5, 1.7760664390933538e-05, '0.00')"
      ]
     },
     "execution_count": 18,
     "metadata": {},
     "output_type": "execute_result"
    },
    {
     "data": {
      "text/plain": [
       "([<matplotlib.axis.XTick at 0x1a96afbb10>,\n",
       "  <matplotlib.axis.XTick at 0x1a96aff850>,\n",
       "  <matplotlib.axis.XTick at 0x1a96ac7810>,\n",
       "  <matplotlib.axis.XTick at 0x1a96ac4610>,\n",
       "  <matplotlib.axis.XTick at 0x1a96ac8210>,\n",
       "  <matplotlib.axis.XTick at 0x1a96ac8e90>,\n",
       "  <matplotlib.axis.XTick at 0x1a96ac31d0>,\n",
       "  <matplotlib.axis.XTick at 0x1a96ac3590>,\n",
       "  <matplotlib.axis.XTick at 0x1a96ac9350>,\n",
       "  <matplotlib.axis.XTick at 0x1a96ac95d0>],\n",
       " <a list of 10 Text xticklabel objects>)"
      ]
     },
     "execution_count": 18,
     "metadata": {},
     "output_type": "execute_result"
    },
    {
     "data": {
      "text/plain": [
       "Text(0.5, 1.0, 'dist of cnt_bro_sis')"
      ]
     },
     "execution_count": 18,
     "metadata": {},
     "output_type": "execute_result"
    },
    {
     "data": {
      "text/plain": [
       "<matplotlib.legend.Legend at 0x1a96b04350>"
      ]
     },
     "execution_count": 18,
     "metadata": {},
     "output_type": "execute_result"
    },
    {
     "data": {
      "image/png": "[encoded data removed]",
      "text/plain": [
       "<Figure size 432x288 with 1 Axes>"
      ]
     },
     "metadata": {
      "needs_background": "light"
     },
     "output_type": "display_data"
    },
    {
     "data": {
      "text/html": [
       "<div>\n",
       "<style scoped>\n",
       "    .dataframe tbody tr th:only-of-type {\n",
       "        vertical-align: middle;\n",
       "    }\n",
       "\n",
       "    .dataframe tbody tr th {\n",
       "        vertical-align: top;\n",
       "    }\n",
       "\n",
       "    .dataframe thead th {\n",
       "        text-align: right;\n",
       "    }\n",
       "</style>\n",
       "<table border=\"1\" class=\"dataframe\">\n",
       "  <thead>\n",
       "    <tr style=\"text-align: right;\">\n",
       "      <th></th>\n",
       "      <th>cnt_self</th>\n",
       "      <th>customer_id</th>\n",
       "      <th>is_fund</th>\n",
       "      <th>not_fund</th>\n",
       "      <th>per1</th>\n",
       "      <th>per2</th>\n",
       "      <th>per3</th>\n",
       "    </tr>\n",
       "  </thead>\n",
       "  <tbody>\n",
       "    <tr>\n",
       "      <th>0</th>\n",
       "      <td>0.0</td>\n",
       "      <td>86242</td>\n",
       "      <td>19597</td>\n",
       "      <td>66645</td>\n",
       "      <td>0.244612</td>\n",
       "      <td>0.275835</td>\n",
       "      <td>0.236732</td>\n",
       "    </tr>\n",
       "    <tr>\n",
       "      <th>1</th>\n",
       "      <td>1.0</td>\n",
       "      <td>266320</td>\n",
       "      <td>51449</td>\n",
       "      <td>214871</td>\n",
       "      <td>0.755374</td>\n",
       "      <td>0.724165</td>\n",
       "      <td>0.763250</td>\n",
       "    </tr>\n",
       "  </tbody>\n",
       "</table>\n",
       "</div>"
      ],
      "text/plain": [
       "   cnt_self  customer_id  is_fund  not_fund      per1      per2      per3\n",
       "0       0.0        86242    19597     66645  0.244612  0.275835  0.236732\n",
       "1       1.0       266320    51449    214871  0.755374  0.724165  0.763250"
      ]
     },
     "execution_count": 18,
     "metadata": {},
     "output_type": "execute_result"
    },
    {
     "data": {
      "text/plain": [
       "<Figure size 432x288 with 0 Axes>"
      ]
     },
     "execution_count": 18,
     "metadata": {},
     "output_type": "execute_result"
    },
    {
     "data": {
      "text/plain": [
       "<BarContainer object of 2 artists>"
      ]
     },
     "execution_count": 18,
     "metadata": {},
     "output_type": "execute_result"
    },
    {
     "data": {
      "text/plain": [
       "Text(0, 0.24461166246415575, '0.24')"
      ]
     },
     "execution_count": 18,
     "metadata": {},
     "output_type": "execute_result"
    },
    {
     "data": {
      "text/plain": [
       "Text(1, 0.7553741558342102, '0.76')"
      ]
     },
     "execution_count": 18,
     "metadata": {},
     "output_type": "execute_result"
    },
    {
     "data": {
      "text/plain": [
       "<BarContainer object of 2 artists>"
      ]
     },
     "execution_count": 18,
     "metadata": {},
     "output_type": "execute_result"
    },
    {
     "data": {
      "text/plain": [
       "Text(0.25, 0.275835374264561, '0.28')"
      ]
     },
     "execution_count": 18,
     "metadata": {},
     "output_type": "execute_result"
    },
    {
     "data": {
      "text/plain": [
       "Text(1.25, 0.724164625735439, '0.72')"
      ]
     },
     "execution_count": 18,
     "metadata": {},
     "output_type": "execute_result"
    },
    {
     "data": {
      "text/plain": [
       "<BarContainer object of 2 artists>"
      ]
     },
     "execution_count": 18,
     "metadata": {},
     "output_type": "execute_result"
    },
    {
     "data": {
      "text/plain": [
       "Text(0.5, 0.2367318956667531, '0.24')"
      ]
     },
     "execution_count": 18,
     "metadata": {},
     "output_type": "execute_result"
    },
    {
     "data": {
      "text/plain": [
       "Text(1.5, 0.7632503436688559, '0.76')"
      ]
     },
     "execution_count": 18,
     "metadata": {},
     "output_type": "execute_result"
    },
    {
     "data": {
      "text/plain": [
       "([<matplotlib.axis.XTick at 0x1a96a66a50>,\n",
       "  <matplotlib.axis.XTick at 0x1a96afc710>],\n",
       " <a list of 2 Text xticklabel objects>)"
      ]
     },
     "execution_count": 18,
     "metadata": {},
     "output_type": "execute_result"
    },
    {
     "data": {
      "text/plain": [
       "Text(0.5, 1.0, 'dist of cnt_self')"
      ]
     },
     "execution_count": 18,
     "metadata": {},
     "output_type": "execute_result"
    },
    {
     "data": {
      "text/plain": [
       "<matplotlib.legend.Legend at 0x1a96a9d750>"
      ]
     },
     "execution_count": 18,
     "metadata": {},
     "output_type": "execute_result"
    },
    {
     "data": {
      "image/png": "[encoded data removed]",
      "text/plain": [
       "<Figure size 432x288 with 1 Axes>"
      ]
     },
     "metadata": {
      "needs_background": "light"
     },
     "output_type": "display_data"
    },
    {
     "data": {
      "text/html": [
       "<div>\n",
       "<style scoped>\n",
       "    .dataframe tbody tr th:only-of-type {\n",
       "        vertical-align: middle;\n",
       "    }\n",
       "\n",
       "    .dataframe tbody tr th {\n",
       "        vertical-align: top;\n",
       "    }\n",
       "\n",
       "    .dataframe thead th {\n",
       "        text-align: right;\n",
       "    }\n",
       "</style>\n",
       "<table border=\"1\" class=\"dataframe\">\n",
       "  <thead>\n",
       "    <tr style=\"text-align: right;\">\n",
       "      <th></th>\n",
       "      <th>cnt_spouse</th>\n",
       "      <th>customer_id</th>\n",
       "      <th>is_fund</th>\n",
       "      <th>not_fund</th>\n",
       "      <th>per1</th>\n",
       "      <th>per2</th>\n",
       "      <th>per3</th>\n",
       "    </tr>\n",
       "  </thead>\n",
       "  <tbody>\n",
       "    <tr>\n",
       "      <th>0</th>\n",
       "      <td>0.0</td>\n",
       "      <td>225967</td>\n",
       "      <td>40771</td>\n",
       "      <td>185196</td>\n",
       "      <td>0.640919</td>\n",
       "      <td>0.573868</td>\n",
       "      <td>0.657841</td>\n",
       "    </tr>\n",
       "    <tr>\n",
       "      <th>1</th>\n",
       "      <td>1.0</td>\n",
       "      <td>115982</td>\n",
       "      <td>28108</td>\n",
       "      <td>87874</td>\n",
       "      <td>0.328964</td>\n",
       "      <td>0.395631</td>\n",
       "      <td>0.312140</td>\n",
       "    </tr>\n",
       "    <tr>\n",
       "      <th>2</th>\n",
       "      <td>2.0</td>\n",
       "      <td>9974</td>\n",
       "      <td>2084</td>\n",
       "      <td>7890</td>\n",
       "      <td>0.028290</td>\n",
       "      <td>0.029333</td>\n",
       "      <td>0.028026</td>\n",
       "    </tr>\n",
       "    <tr>\n",
       "      <th>3</th>\n",
       "      <td>3.0</td>\n",
       "      <td>637</td>\n",
       "      <td>82</td>\n",
       "      <td>555</td>\n",
       "      <td>0.001807</td>\n",
       "      <td>0.001154</td>\n",
       "      <td>0.001971</td>\n",
       "    </tr>\n",
       "    <tr>\n",
       "      <th>4</th>\n",
       "      <td>4.0</td>\n",
       "      <td>2</td>\n",
       "      <td>1</td>\n",
       "      <td>1</td>\n",
       "      <td>0.000006</td>\n",
       "      <td>0.000014</td>\n",
       "      <td>0.000004</td>\n",
       "    </tr>\n",
       "  </tbody>\n",
       "</table>\n",
       "</div>"
      ],
      "text/plain": [
       "   cnt_spouse  customer_id  is_fund  not_fund      per1      per2      per3\n",
       "0         0.0       225967    40771    185196  0.640919  0.573868  0.657841\n",
       "1         1.0       115982    28108     87874  0.328964  0.395631  0.312140\n",
       "2         2.0         9974     2084      7890  0.028290  0.029333  0.028026\n",
       "3         3.0          637       82       555  0.001807  0.001154  0.001971\n",
       "4         4.0            2        1         1  0.000006  0.000014  0.000004"
      ]
     },
     "execution_count": 18,
     "metadata": {},
     "output_type": "execute_result"
    },
    {
     "data": {
      "text/plain": [
       "<Figure size 432x288 with 0 Axes>"
      ]
     },
     "execution_count": 18,
     "metadata": {},
     "output_type": "execute_result"
    },
    {
     "data": {
      "text/plain": [
       "<BarContainer object of 5 artists>"
      ]
     },
     "execution_count": 18,
     "metadata": {},
     "output_type": "execute_result"
    },
    {
     "data": {
      "text/plain": [
       "Text(0, 0.6409193146267235, '0.64')"
      ]
     },
     "execution_count": 18,
     "metadata": {},
     "output_type": "execute_result"
    },
    {
     "data": {
      "text/plain": [
       "Text(1, 0.3289644237832809, '0.33')"
      ]
     },
     "execution_count": 18,
     "metadata": {},
     "output_type": "execute_result"
    },
    {
     "data": {
      "text/plain": [
       "Text(2, 0.028289658419534444, '0.03')"
      ]
     },
     "execution_count": 18,
     "metadata": {},
     "output_type": "execute_result"
    },
    {
     "data": {
      "text/plain": [
       "Text(3, 0.0018067487881735953, '0.00')"
      ]
     },
     "execution_count": 18,
     "metadata": {},
     "output_type": "execute_result"
    },
    {
     "data": {
      "text/plain": [
       "Text(4, 5.672680653606265e-06, '0.00')"
      ]
     },
     "execution_count": 18,
     "metadata": {},
     "output_type": "execute_result"
    },
    {
     "data": {
      "text/plain": [
       "<BarContainer object of 5 artists>"
      ]
     },
     "execution_count": 18,
     "metadata": {},
     "output_type": "execute_result"
    },
    {
     "data": {
      "text/plain": [
       "Text(0.25, 0.5738676350533457, '0.57')"
      ]
     },
     "execution_count": 18,
     "metadata": {},
     "output_type": "execute_result"
    },
    {
     "data": {
      "text/plain": [
       "Text(1.25, 0.3956309996340399, '0.40')"
      ]
     },
     "execution_count": 18,
     "metadata": {},
     "output_type": "execute_result"
    },
    {
     "data": {
      "text/plain": [
       "Text(2.25, 0.0293331081271289, '0.03')"
      ]
     },
     "execution_count": 18,
     "metadata": {},
     "output_type": "execute_result"
    },
    {
     "data": {
      "text/plain": [
       "Text(3.25, 0.0011541817977085268, '0.00')"
      ]
     },
     "execution_count": 18,
     "metadata": {},
     "output_type": "execute_result"
    },
    {
     "data": {
      "text/plain": [
       "Text(4.25, 1.4075387776933255e-05, '0.00')"
      ]
     },
     "execution_count": 18,
     "metadata": {},
     "output_type": "execute_result"
    },
    {
     "data": {
      "text/plain": [
       "<BarContainer object of 5 artists>"
      ]
     },
     "execution_count": 18,
     "metadata": {},
     "output_type": "execute_result"
    },
    {
     "data": {
      "text/plain": [
       "Text(0.5, 0.6578408005086654, '0.66')"
      ]
     },
     "execution_count": 18,
     "metadata": {},
     "output_type": "execute_result"
    },
    {
     "data": {
      "text/plain": [
       "Text(1.5, 0.31214012453777873, '0.31')"
      ]
     },
     "execution_count": 18,
     "metadata": {},
     "output_type": "execute_result"
    },
    {
     "data": {
      "text/plain": [
       "Text(2.5, 0.02802632840889312, '0.03')"
      ]
     },
     "execution_count": 18,
     "metadata": {},
     "output_type": "execute_result"
    },
    {
     "data": {
      "text/plain": [
       "Text(3.5, 0.0019714337473936226, '0.00')"
      ]
     },
     "execution_count": 18,
     "metadata": {},
     "output_type": "execute_result"
    },
    {
     "data": {
      "text/plain": [
       "Text(4.5, 3.552132878186707e-06, '0.00')"
      ]
     },
     "execution_count": 18,
     "metadata": {},
     "output_type": "execute_result"
    },
    {
     "data": {
      "text/plain": [
       "([<matplotlib.axis.XTick at 0x1a96a99050>,\n",
       "  <matplotlib.axis.XTick at 0x1a96a64390>,\n",
       "  <matplotlib.axis.XTick at 0x1a96a84290>,\n",
       "  <matplotlib.axis.XTick at 0x1a96a79cd0>,\n",
       "  <matplotlib.axis.XTick at 0x1a96a79d90>],\n",
       " <a list of 5 Text xticklabel objects>)"
      ]
     },
     "execution_count": 18,
     "metadata": {},
     "output_type": "execute_result"
    },
    {
     "data": {
      "text/plain": [
       "Text(0.5, 1.0, 'dist of cnt_spouse')"
      ]
     },
     "execution_count": 18,
     "metadata": {},
     "output_type": "execute_result"
    },
    {
     "data": {
      "text/plain": [
       "<matplotlib.legend.Legend at 0x1a96a96e90>"
      ]
     },
     "execution_count": 18,
     "metadata": {},
     "output_type": "execute_result"
    },
    {
     "data": {
      "image/png": "[encoded data removed]",
      "text/plain": [
       "<Figure size 432x288 with 1 Axes>"
      ]
     },
     "metadata": {
      "needs_background": "light"
     },
     "output_type": "display_data"
    },
    {
     "data": {
      "text/html": [
       "<div>\n",
       "<style scoped>\n",
       "    .dataframe tbody tr th:only-of-type {\n",
       "        vertical-align: middle;\n",
       "    }\n",
       "\n",
       "    .dataframe tbody tr th {\n",
       "        vertical-align: top;\n",
       "    }\n",
       "\n",
       "    .dataframe thead th {\n",
       "        text-align: right;\n",
       "    }\n",
       "</style>\n",
       "<table border=\"1\" class=\"dataframe\">\n",
       "  <thead>\n",
       "    <tr style=\"text-align: right;\">\n",
       "      <th></th>\n",
       "      <th>cnt_friend</th>\n",
       "      <th>customer_id</th>\n",
       "      <th>is_fund</th>\n",
       "      <th>not_fund</th>\n",
       "      <th>per1</th>\n",
       "      <th>per2</th>\n",
       "      <th>per3</th>\n",
       "    </tr>\n",
       "  </thead>\n",
       "  <tbody>\n",
       "    <tr>\n",
       "      <th>0</th>\n",
       "      <td>0.0</td>\n",
       "      <td>448</td>\n",
       "      <td>80</td>\n",
       "      <td>368</td>\n",
       "      <td>0.001271</td>\n",
       "      <td>0.001126</td>\n",
       "      <td>0.001307</td>\n",
       "    </tr>\n",
       "    <tr>\n",
       "      <th>1</th>\n",
       "      <td>1.0</td>\n",
       "      <td>6972</td>\n",
       "      <td>1484</td>\n",
       "      <td>5488</td>\n",
       "      <td>0.019775</td>\n",
       "      <td>0.020888</td>\n",
       "      <td>0.019494</td>\n",
       "    </tr>\n",
       "    <tr>\n",
       "      <th>2</th>\n",
       "      <td>2.0</td>\n",
       "      <td>343528</td>\n",
       "      <td>69175</td>\n",
       "      <td>274353</td>\n",
       "      <td>0.974362</td>\n",
       "      <td>0.973665</td>\n",
       "      <td>0.974538</td>\n",
       "    </tr>\n",
       "    <tr>\n",
       "      <th>3</th>\n",
       "      <td>3.0</td>\n",
       "      <td>995</td>\n",
       "      <td>197</td>\n",
       "      <td>798</td>\n",
       "      <td>0.002822</td>\n",
       "      <td>0.002773</td>\n",
       "      <td>0.002835</td>\n",
       "    </tr>\n",
       "    <tr>\n",
       "      <th>4</th>\n",
       "      <td>4.0</td>\n",
       "      <td>486</td>\n",
       "      <td>91</td>\n",
       "      <td>395</td>\n",
       "      <td>0.001378</td>\n",
       "      <td>0.001281</td>\n",
       "      <td>0.001403</td>\n",
       "    </tr>\n",
       "    <tr>\n",
       "      <th>5</th>\n",
       "      <td>5.0</td>\n",
       "      <td>100</td>\n",
       "      <td>15</td>\n",
       "      <td>85</td>\n",
       "      <td>0.000284</td>\n",
       "      <td>0.000211</td>\n",
       "      <td>0.000302</td>\n",
       "    </tr>\n",
       "    <tr>\n",
       "      <th>6</th>\n",
       "      <td>6.0</td>\n",
       "      <td>26</td>\n",
       "      <td>3</td>\n",
       "      <td>23</td>\n",
       "      <td>0.000074</td>\n",
       "      <td>0.000042</td>\n",
       "      <td>0.000082</td>\n",
       "    </tr>\n",
       "    <tr>\n",
       "      <th>7</th>\n",
       "      <td>7.0</td>\n",
       "      <td>2</td>\n",
       "      <td>0</td>\n",
       "      <td>2</td>\n",
       "      <td>0.000006</td>\n",
       "      <td>0.000000</td>\n",
       "      <td>0.000007</td>\n",
       "    </tr>\n",
       "    <tr>\n",
       "      <th>8</th>\n",
       "      <td>8.0</td>\n",
       "      <td>5</td>\n",
       "      <td>1</td>\n",
       "      <td>4</td>\n",
       "      <td>0.000014</td>\n",
       "      <td>0.000014</td>\n",
       "      <td>0.000014</td>\n",
       "    </tr>\n",
       "  </tbody>\n",
       "</table>\n",
       "</div>"
      ],
      "text/plain": [
       "   cnt_friend  customer_id  is_fund  not_fund      per1      per2      per3\n",
       "0         0.0          448       80       368  0.001271  0.001126  0.001307\n",
       "1         1.0         6972     1484      5488  0.019775  0.020888  0.019494\n",
       "2         2.0       343528    69175    274353  0.974362  0.973665  0.974538\n",
       "3         3.0          995      197       798  0.002822  0.002773  0.002835\n",
       "4         4.0          486       91       395  0.001378  0.001281  0.001403\n",
       "5         5.0          100       15        85  0.000284  0.000211  0.000302\n",
       "6         6.0           26        3        23  0.000074  0.000042  0.000082\n",
       "7         7.0            2        0         2  0.000006  0.000000  0.000007\n",
       "8         8.0            5        1         4  0.000014  0.000014  0.000014"
      ]
     },
     "execution_count": 18,
     "metadata": {},
     "output_type": "execute_result"
    },
    {
     "data": {
      "text/plain": [
       "<Figure size 432x288 with 0 Axes>"
      ]
     },
     "execution_count": 18,
     "metadata": {},
     "output_type": "execute_result"
    },
    {
     "data": {
      "text/plain": [
       "<BarContainer object of 9 artists>"
      ]
     },
     "execution_count": 18,
     "metadata": {},
     "output_type": "execute_result"
    },
    {
     "data": {
      "text/plain": [
       "Text(0, 0.0012706804664078034, '0.00')"
      ]
     },
     "execution_count": 18,
     "metadata": {},
     "output_type": "execute_result"
    },
    {
     "data": {
      "text/plain": [
       "Text(1, 0.01977496475847144, '0.02')"
      ]
     },
     "execution_count": 18,
     "metadata": {},
     "output_type": "execute_result"
    },
    {
     "data": {
      "text/plain": [
       "Text(2, 0.9743623197860265, '0.97')"
      ]
     },
     "execution_count": 18,
     "metadata": {},
     "output_type": "execute_result"
    },
    {
     "data": {
      "text/plain": [
       "Text(3, 0.002822158625169117, '0.00')"
      ]
     },
     "execution_count": 18,
     "metadata": {},
     "output_type": "execute_result"
    },
    {
     "data": {
      "text/plain": [
       "Text(4, 0.0013784613988263223, '0.00')"
      ]
     },
     "execution_count": 18,
     "metadata": {},
     "output_type": "execute_result"
    },
    {
     "data": {
      "text/plain": [
       "Text(5, 0.00028363403268031326, '0.00')"
      ]
     },
     "execution_count": 18,
     "metadata": {},
     "output_type": "execute_result"
    },
    {
     "data": {
      "text/plain": [
       "Text(6, 7.374484849688144e-05, '0.00')"
      ]
     },
     "execution_count": 18,
     "metadata": {},
     "output_type": "execute_result"
    },
    {
     "data": {
      "text/plain": [
       "Text(7, 5.672680653606265e-06, '0.00')"
      ]
     },
     "execution_count": 18,
     "metadata": {},
     "output_type": "execute_result"
    },
    {
     "data": {
      "text/plain": [
       "Text(8, 1.4181701634015662e-05, '0.00')"
      ]
     },
     "execution_count": 18,
     "metadata": {},
     "output_type": "execute_result"
    },
    {
     "data": {
      "text/plain": [
       "<BarContainer object of 9 artists>"
      ]
     },
     "execution_count": 18,
     "metadata": {},
     "output_type": "execute_result"
    },
    {
     "data": {
      "text/plain": [
       "Text(0.25, 0.0011260310221546603, '0.00')"
      ]
     },
     "execution_count": 18,
     "metadata": {},
     "output_type": "execute_result"
    },
    {
     "data": {
      "text/plain": [
       "Text(1.25, 0.02088787546096895, '0.02')"
      ]
     },
     "execution_count": 18,
     "metadata": {},
     "output_type": "execute_result"
    },
    {
     "data": {
      "text/plain": [
       "Text(2.25, 0.9736649494693579, '0.97')"
      ]
     },
     "execution_count": 18,
     "metadata": {},
     "output_type": "execute_result"
    },
    {
     "data": {
      "text/plain": [
       "Text(3.25, 0.002772851392055851, '0.00')"
      ]
     },
     "execution_count": 18,
     "metadata": {},
     "output_type": "execute_result"
    },
    {
     "data": {
      "text/plain": [
       "Text(4.25, 0.0012808602877009262, '0.00')"
      ]
     },
     "execution_count": 18,
     "metadata": {},
     "output_type": "execute_result"
    },
    {
     "data": {
      "text/plain": [
       "Text(5.25, 0.0002111308166539988, '0.00')"
      ]
     },
     "execution_count": 18,
     "metadata": {},
     "output_type": "execute_result"
    },
    {
     "data": {
      "text/plain": [
       "Text(6.25, 4.2226163330799764e-05, '0.00')"
      ]
     },
     "execution_count": 18,
     "metadata": {},
     "output_type": "execute_result"
    },
    {
     "data": {
      "text/plain": [
       "Text(7.25, 0.0, '0.00')"
      ]
     },
     "execution_count": 18,
     "metadata": {},
     "output_type": "execute_result"
    },
    {
     "data": {
      "text/plain": [
       "Text(8.25, 1.4075387776933255e-05, '0.00')"
      ]
     },
     "execution_count": 18,
     "metadata": {},
     "output_type": "execute_result"
    },
    {
     "data": {
      "text/plain": [
       "<BarContainer object of 9 artists>"
      ]
     },
     "execution_count": 18,
     "metadata": {},
     "output_type": "execute_result"
    },
    {
     "data": {
      "text/plain": [
       "Text(0.5, 0.0013071848991727082, '0.00')"
      ]
     },
     "execution_count": 18,
     "metadata": {},
     "output_type": "execute_result"
    },
    {
     "data": {
      "text/plain": [
       "Text(1.5, 0.01949410523548865, '0.02')"
      ]
     },
     "execution_count": 18,
     "metadata": {},
     "output_type": "execute_result"
    },
    {
     "data": {
      "text/plain": [
       "Text(2.5, 0.9745383115291577, '0.97')"
      ]
     },
     "execution_count": 18,
     "metadata": {},
     "output_type": "execute_result"
    },
    {
     "data": {
      "text/plain": [
       "Text(3.5, 0.0028346020367929926, '0.00')"
      ]
     },
     "execution_count": 18,
     "metadata": {},
     "output_type": "execute_result"
    },
    {
     "data": {
      "text/plain": [
       "Text(4.5, 0.0014030924868837493, '0.00')"
      ]
     },
     "execution_count": 18,
     "metadata": {},
     "output_type": "execute_result"
    },
    {
     "data": {
      "text/plain": [
       "Text(5.5, 0.0003019312946458701, '0.00')"
      ]
     },
     "execution_count": 18,
     "metadata": {},
     "output_type": "execute_result"
    },
    {
     "data": {
      "text/plain": [
       "Text(6.5, 8.169905619829426e-05, '0.00')"
      ]
     },
     "execution_count": 18,
     "metadata": {},
     "output_type": "execute_result"
    },
    {
     "data": {
      "text/plain": [
       "Text(7.5, 7.104265756373414e-06, '0.00')"
      ]
     },
     "execution_count": 18,
     "metadata": {},
     "output_type": "execute_result"
    },
    {
     "data": {
      "text/plain": [
       "Text(8.5, 1.4208531512746828e-05, '0.00')"
      ]
     },
     "execution_count": 18,
     "metadata": {},
     "output_type": "execute_result"
    },
    {
     "data": {
      "text/plain": [
       "([<matplotlib.axis.XTick at 0x1a96a8f410>,\n",
       "  <matplotlib.axis.XTick at 0x1a909b2510>,\n",
       "  <matplotlib.axis.XTick at 0x1a96a5d250>,\n",
       "  <matplotlib.axis.XTick at 0x1aad3eaa50>,\n",
       "  <matplotlib.axis.XTick at 0x1aad3eb7d0>,\n",
       "  <matplotlib.axis.XTick at 0x1aad3edf50>,\n",
       "  <matplotlib.axis.XTick at 0x1aad3d96d0>,\n",
       "  <matplotlib.axis.XTick at 0x1aad3ef910>,\n",
       "  <matplotlib.axis.XTick at 0x1a96a86a50>],\n",
       " <a list of 9 Text xticklabel objects>)"
      ]
     },
     "execution_count": 18,
     "metadata": {},
     "output_type": "execute_result"
    },
    {
     "data": {
      "text/plain": [
       "Text(0.5, 1.0, 'dist of cnt_friend')"
      ]
     },
     "execution_count": 18,
     "metadata": {},
     "output_type": "execute_result"
    },
    {
     "data": {
      "text/plain": [
       "<matplotlib.legend.Legend at 0x1ab8e47790>"
      ]
     },
     "execution_count": 18,
     "metadata": {},
     "output_type": "execute_result"
    },
    {
     "data": {
      "image/png": "[encoded data removed]",
      "text/plain": [
       "<Figure size 432x288 with 1 Axes>"
      ]
     },
     "metadata": {
      "needs_background": "light"
     },
     "output_type": "display_data"
    },
    {
     "data": {
      "text/html": [
       "<div>\n",
       "<style scoped>\n",
       "    .dataframe tbody tr th:only-of-type {\n",
       "        vertical-align: middle;\n",
       "    }\n",
       "\n",
       "    .dataframe tbody tr th {\n",
       "        vertical-align: top;\n",
       "    }\n",
       "\n",
       "    .dataframe thead th {\n",
       "        text-align: right;\n",
       "    }\n",
       "</style>\n",
       "<table border=\"1\" class=\"dataframe\">\n",
       "  <thead>\n",
       "    <tr style=\"text-align: right;\">\n",
       "      <th></th>\n",
       "      <th>cnt_kinsfolk</th>\n",
       "      <th>customer_id</th>\n",
       "      <th>is_fund</th>\n",
       "      <th>not_fund</th>\n",
       "      <th>per1</th>\n",
       "      <th>per2</th>\n",
       "      <th>per3</th>\n",
       "    </tr>\n",
       "  </thead>\n",
       "  <tbody>\n",
       "    <tr>\n",
       "      <th>0</th>\n",
       "      <td>0.0</td>\n",
       "      <td>352562</td>\n",
       "      <td>71046</td>\n",
       "      <td>281516</td>\n",
       "      <td>0.999986</td>\n",
       "      <td>1.0</td>\n",
       "      <td>0.999982</td>\n",
       "    </tr>\n",
       "  </tbody>\n",
       "</table>\n",
       "</div>"
      ],
      "text/plain": [
       "   cnt_kinsfolk  customer_id  is_fund  not_fund      per1  per2      per3\n",
       "0           0.0       352562    71046    281516  0.999986   1.0  0.999982"
      ]
     },
     "execution_count": 18,
     "metadata": {},
     "output_type": "execute_result"
    },
    {
     "data": {
      "text/plain": [
       "<Figure size 432x288 with 0 Axes>"
      ]
     },
     "execution_count": 18,
     "metadata": {},
     "output_type": "execute_result"
    },
    {
     "data": {
      "text/plain": [
       "<BarContainer object of 1 artists>"
      ]
     },
     "execution_count": 18,
     "metadata": {},
     "output_type": "execute_result"
    },
    {
     "data": {
      "text/plain": [
       "Text(0, 0.999985818298366, '1.00')"
      ]
     },
     "execution_count": 18,
     "metadata": {},
     "output_type": "execute_result"
    },
    {
     "data": {
      "text/plain": [
       "<BarContainer object of 1 artists>"
      ]
     },
     "execution_count": 18,
     "metadata": {},
     "output_type": "execute_result"
    },
    {
     "data": {
      "text/plain": [
       "Text(0.25, 1.0, '1.00')"
      ]
     },
     "execution_count": 18,
     "metadata": {},
     "output_type": "execute_result"
    },
    {
     "data": {
      "text/plain": [
       "<BarContainer object of 1 artists>"
      ]
     },
     "execution_count": 18,
     "metadata": {},
     "output_type": "execute_result"
    },
    {
     "data": {
      "text/plain": [
       "Text(0.5, 0.999982239335609, '1.00')"
      ]
     },
     "execution_count": 18,
     "metadata": {},
     "output_type": "execute_result"
    },
    {
     "data": {
      "text/plain": [
       "([<matplotlib.axis.XTick at 0x1a96a6d290>],\n",
       " <a list of 1 Text xticklabel objects>)"
      ]
     },
     "execution_count": 18,
     "metadata": {},
     "output_type": "execute_result"
    },
    {
     "data": {
      "text/plain": [
       "Text(0.5, 1.0, 'dist of cnt_kinsfolk')"
      ]
     },
     "execution_count": 18,
     "metadata": {},
     "output_type": "execute_result"
    },
    {
     "data": {
      "text/plain": [
       "<matplotlib.legend.Legend at 0x1aad3d7d10>"
      ]
     },
     "execution_count": 18,
     "metadata": {},
     "output_type": "execute_result"
    },
    {
     "data": {
      "image/png": "[encoded data removed]",
      "text/plain": [
       "<Figure size 432x288 with 1 Axes>"
      ]
     },
     "metadata": {
      "needs_background": "light"
     },
     "output_type": "display_data"
    },
    {
     "data": {
      "text/html": [
       "<div>\n",
       "<style scoped>\n",
       "    .dataframe tbody tr th:only-of-type {\n",
       "        vertical-align: middle;\n",
       "    }\n",
       "\n",
       "    .dataframe tbody tr th {\n",
       "        vertical-align: top;\n",
       "    }\n",
       "\n",
       "    .dataframe thead th {\n",
       "        text-align: right;\n",
       "    }\n",
       "</style>\n",
       "<table border=\"1\" class=\"dataframe\">\n",
       "  <thead>\n",
       "    <tr style=\"text-align: right;\">\n",
       "      <th></th>\n",
       "      <th>cnt_parents</th>\n",
       "      <th>customer_id</th>\n",
       "      <th>is_fund</th>\n",
       "      <th>not_fund</th>\n",
       "      <th>per1</th>\n",
       "      <th>per2</th>\n",
       "      <th>per3</th>\n",
       "    </tr>\n",
       "  </thead>\n",
       "  <tbody>\n",
       "    <tr>\n",
       "      <th>0</th>\n",
       "      <td>0.0</td>\n",
       "      <td>142819</td>\n",
       "      <td>31768</td>\n",
       "      <td>111051</td>\n",
       "      <td>0.405083</td>\n",
       "      <td>0.447147</td>\n",
       "      <td>0.394468</td>\n",
       "    </tr>\n",
       "    <tr>\n",
       "      <th>1</th>\n",
       "      <td>1.0</td>\n",
       "      <td>168221</td>\n",
       "      <td>32261</td>\n",
       "      <td>135960</td>\n",
       "      <td>0.477132</td>\n",
       "      <td>0.454086</td>\n",
       "      <td>0.482948</td>\n",
       "    </tr>\n",
       "    <tr>\n",
       "      <th>2</th>\n",
       "      <td>2.0</td>\n",
       "      <td>38038</td>\n",
       "      <td>6610</td>\n",
       "      <td>31428</td>\n",
       "      <td>0.107889</td>\n",
       "      <td>0.093038</td>\n",
       "      <td>0.111636</td>\n",
       "    </tr>\n",
       "    <tr>\n",
       "      <th>3</th>\n",
       "      <td>3.0</td>\n",
       "      <td>3474</td>\n",
       "      <td>407</td>\n",
       "      <td>3067</td>\n",
       "      <td>0.009853</td>\n",
       "      <td>0.005729</td>\n",
       "      <td>0.010894</td>\n",
       "    </tr>\n",
       "    <tr>\n",
       "      <th>4</th>\n",
       "      <td>4.0</td>\n",
       "      <td>8</td>\n",
       "      <td>0</td>\n",
       "      <td>8</td>\n",
       "      <td>0.000023</td>\n",
       "      <td>0.000000</td>\n",
       "      <td>0.000028</td>\n",
       "    </tr>\n",
       "    <tr>\n",
       "      <th>5</th>\n",
       "      <td>5.0</td>\n",
       "      <td>1</td>\n",
       "      <td>0</td>\n",
       "      <td>1</td>\n",
       "      <td>0.000003</td>\n",
       "      <td>0.000000</td>\n",
       "      <td>0.000004</td>\n",
       "    </tr>\n",
       "    <tr>\n",
       "      <th>6</th>\n",
       "      <td>6.0</td>\n",
       "      <td>1</td>\n",
       "      <td>0</td>\n",
       "      <td>1</td>\n",
       "      <td>0.000003</td>\n",
       "      <td>0.000000</td>\n",
       "      <td>0.000004</td>\n",
       "    </tr>\n",
       "  </tbody>\n",
       "</table>\n",
       "</div>"
      ],
      "text/plain": [
       "   cnt_parents  customer_id  is_fund  not_fund      per1      per2      per3\n",
       "0          0.0       142819    31768    111051  0.405083  0.447147  0.394468\n",
       "1          1.0       168221    32261    135960  0.477132  0.454086  0.482948\n",
       "2          2.0        38038     6610     31428  0.107889  0.093038  0.111636\n",
       "3          3.0         3474      407      3067  0.009853  0.005729  0.010894\n",
       "4          4.0            8        0         8  0.000023  0.000000  0.000028\n",
       "5          5.0            1        0         1  0.000003  0.000000  0.000004\n",
       "6          6.0            1        0         1  0.000003  0.000000  0.000004"
      ]
     },
     "execution_count": 18,
     "metadata": {},
     "output_type": "execute_result"
    },
    {
     "data": {
      "text/plain": [
       "<Figure size 432x288 with 0 Axes>"
      ]
     },
     "execution_count": 18,
     "metadata": {},
     "output_type": "execute_result"
    },
    {
     "data": {
      "text/plain": [
       "<BarContainer object of 7 artists>"
      ]
     },
     "execution_count": 18,
     "metadata": {},
     "output_type": "execute_result"
    },
    {
     "data": {
      "text/plain": [
       "Text(0, 0.40508328913369657, '0.41')"
      ]
     },
     "execution_count": 18,
     "metadata": {},
     "output_type": "execute_result"
    },
    {
     "data": {
      "text/plain": [
       "Text(1, 0.4771320061151497, '0.48')"
      ]
     },
     "execution_count": 18,
     "metadata": {},
     "output_type": "execute_result"
    },
    {
     "data": {
      "text/plain": [
       "Text(2, 0.10788871335093755, '0.11')"
      ]
     },
     "execution_count": 18,
     "metadata": {},
     "output_type": "execute_result"
    },
    {
     "data": {
      "text/plain": [
       "Text(3, 0.009853446295314082, '0.01')"
      ]
     },
     "execution_count": 18,
     "metadata": {},
     "output_type": "execute_result"
    },
    {
     "data": {
      "text/plain": [
       "Text(4, 2.269072261442506e-05, '0.00')"
      ]
     },
     "execution_count": 18,
     "metadata": {},
     "output_type": "execute_result"
    },
    {
     "data": {
      "text/plain": [
       "Text(5, 2.8363403268031323e-06, '0.00')"
      ]
     },
     "execution_count": 18,
     "metadata": {},
     "output_type": "execute_result"
    },
    {
     "data": {
      "text/plain": [
       "Text(6, 2.8363403268031323e-06, '0.00')"
      ]
     },
     "execution_count": 18,
     "metadata": {},
     "output_type": "execute_result"
    },
    {
     "data": {
      "text/plain": [
       "<BarContainer object of 7 artists>"
      ]
     },
     "execution_count": 18,
     "metadata": {},
     "output_type": "execute_result"
    },
    {
     "data": {
      "text/plain": [
       "Text(0.25, 0.44714691889761565, '0.45')"
      ]
     },
     "execution_count": 18,
     "metadata": {},
     "output_type": "execute_result"
    },
    {
     "data": {
      "text/plain": [
       "Text(1.25, 0.4540860850716437, '0.45')"
      ]
     },
     "execution_count": 18,
     "metadata": {},
     "output_type": "execute_result"
    },
    {
     "data": {
      "text/plain": [
       "Text(2.25, 0.09303831320552881, '0.09')"
      ]
     },
     "execution_count": 18,
     "metadata": {},
     "output_type": "execute_result"
    },
    {
     "data": {
      "text/plain": [
       "Text(3.25, 0.005728682825211834, '0.01')"
      ]
     },
     "execution_count": 18,
     "metadata": {},
     "output_type": "execute_result"
    },
    {
     "data": {
      "text/plain": [
       "Text(4.25, 0.0, '0.00')"
      ]
     },
     "execution_count": 18,
     "metadata": {},
     "output_type": "execute_result"
    },
    {
     "data": {
      "text/plain": [
       "Text(5.25, 0.0, '0.00')"
      ]
     },
     "execution_count": 18,
     "metadata": {},
     "output_type": "execute_result"
    },
    {
     "data": {
      "text/plain": [
       "Text(6.25, 0.0, '0.00')"
      ]
     },
     "execution_count": 18,
     "metadata": {},
     "output_type": "execute_result"
    },
    {
     "data": {
      "text/plain": [
       "<BarContainer object of 7 artists>"
      ]
     },
     "execution_count": 18,
     "metadata": {},
     "output_type": "execute_result"
    },
    {
     "data": {
      "text/plain": [
       "Text(0.5, 0.39446790825551203, '0.39')"
      ]
     },
     "execution_count": 18,
     "metadata": {},
     "output_type": "execute_result"
    },
    {
     "data": {
      "text/plain": [
       "Text(1.5, 0.4829479861182647, '0.48')"
      ]
     },
     "execution_count": 18,
     "metadata": {},
     "output_type": "execute_result"
    },
    {
     "data": {
      "text/plain": [
       "Text(2.5, 0.11163643209565183, '0.11')"
      ]
     },
     "execution_count": 18,
     "metadata": {},
     "output_type": "execute_result"
    },
    {
     "data": {
      "text/plain": [
       "Text(3.5, 0.01089439153739863, '0.01')"
      ]
     },
     "execution_count": 18,
     "metadata": {},
     "output_type": "execute_result"
    },
    {
     "data": {
      "text/plain": [
       "Text(4.5, 2.8417063025493657e-05, '0.00')"
      ]
     },
     "execution_count": 18,
     "metadata": {},
     "output_type": "execute_result"
    },
    {
     "data": {
      "text/plain": [
       "Text(5.5, 3.552132878186707e-06, '0.00')"
      ]
     },
     "execution_count": 18,
     "metadata": {},
     "output_type": "execute_result"
    },
    {
     "data": {
      "text/plain": [
       "Text(6.5, 3.552132878186707e-06, '0.00')"
      ]
     },
     "execution_count": 18,
     "metadata": {},
     "output_type": "execute_result"
    },
    {
     "data": {
      "text/plain": [
       "([<matplotlib.axis.XTick at 0x1a96a677d0>,\n",
       "  <matplotlib.axis.XTick at 0x1a96a67350>,\n",
       "  <matplotlib.axis.XTick at 0x1a3316e890>,\n",
       "  <matplotlib.axis.XTick at 0x1a33a73ed0>,\n",
       "  <matplotlib.axis.XTick at 0x1a33a7d590>,\n",
       "  <matplotlib.axis.XTick at 0x1a33a7dbd0>,\n",
       "  <matplotlib.axis.XTick at 0x1a33a67290>],\n",
       " <a list of 7 Text xticklabel objects>)"
      ]
     },
     "execution_count": 18,
     "metadata": {},
     "output_type": "execute_result"
    },
    {
     "data": {
      "text/plain": [
       "Text(0.5, 1.0, 'dist of cnt_parents')"
      ]
     },
     "execution_count": 18,
     "metadata": {},
     "output_type": "execute_result"
    },
    {
     "data": {
      "text/plain": [
       "<matplotlib.legend.Legend at 0x1a96b20f50>"
      ]
     },
     "execution_count": 18,
     "metadata": {},
     "output_type": "execute_result"
    },
    {
     "data": {
      "image/png": "[encoded data removed]",
      "text/plain": [
       "<Figure size 432x288 with 1 Axes>"
      ]
     },
     "metadata": {
      "needs_background": "light"
     },
     "output_type": "display_data"
    }
   ],
   "source": [
    "for cols in refer_list:\n",
    "    frame1 = pd.pivot_table(temp1, index =cols, values = ['customer_id','is_fund'],aggfunc = {'customer_id':'count','is_fund': 'sum'})\n",
    "    frame1 =frame1.sort_index(ascending = True)\n",
    "    frame1 = frame1.reset_index()\n",
    "    frame1['not_fund'] = frame1['customer_id'] - frame1['is_fund']\n",
    "    frame1['per1'] = frame1['customer_id']/total1\n",
    "    frame1['per2'] = frame1['is_fund']/total2\n",
    "    frame1['per3'] = frame1['not_fund']/total3\n",
    "    frame1 = frame1.head(10)\n",
    "    frame1\n",
    "    index = np.arange(len(frame1[cols]))\n",
    "    plt.figure(figsize=(6,4))\n",
    "    plt.bar(index, frame1['per1'], width=0.25, color='#2c6fbb');\n",
    "    for a, b in zip(index, frame1['per1']):\n",
    "        plt.text(a, b, '%.2f' % b, ha='center', va='bottom', fontsize=5);\n",
    "    plt.bar(index + 0.25, frame1['per2'], width=0.25, color = 'sandybrown')\n",
    "    for a, b in zip(index + 0.25, frame1['per2']):\n",
    "        plt.text(a, b, '%.2f' % b, ha='center', va='bottom', fontsize=5);\n",
    "    plt.bar(index + 0.5, frame1['per3'], width=0.25,color = 'mediumseagreen')\n",
    "    for a, b in zip(index + 0.5, frame1['per3']):\n",
    "        plt.text(a, b, '%.2f' % b, ha='center', va='bottom', fontsize=5);\n",
    "    plt.xticks(index+1/3,frame1[cols],rotation=20, fontsize=5);\n",
    "    plt.title('dist of %s'%cols)\n",
    "    plt.legend(['申请','放款','未放款'], loc = 'upper right', fontsize=5)\n",
    "    plt.tight_layout();\n",
    "    plt.savefig(os.path.join(fig_path, cols + '.png'), format='png', dpi=300, bbox_inches = 'tight',pad_inches = 0.1)\n",
    "    plt.show();\n",
    "    plt.close();"
   ]
  },
  {
   "cell_type": "markdown",
   "metadata": {},
   "source": [
    "# 交叉变量分布"
   ]
  },
  {
   "cell_type": "code",
   "execution_count": 23,
   "metadata": {},
   "outputs": [],
   "source": [
    "temp = load_data_from_pickle(file_path, 'df0110.pkl')\n",
    "temp = temp.fillna(np.nan)\n",
    "col1_list = ['provincecode', 'citycode', 'districtcode']\n",
    "for col1 in col1_list:\n",
    "    temp[col1] = temp[col1].astype(str)\n",
    "temp_female = temp[temp['gender'] == 'female']\n",
    "temp_male = temp[temp['gender'] == 'male']"
   ]
  },
  {
   "cell_type": "raw",
   "metadata": {},
   "source": [
    "年龄和性别"
   ]
  },
  {
   "cell_type": "code",
   "execution_count": 39,
   "metadata": {},
   "outputs": [
    {
     "data": {
      "image/png": "[encoded data removed]",
      "text/plain": [
       "<Figure size 432x288 with 1 Axes>"
      ]
     },
     "metadata": {
      "needs_background": "light"
     },
     "output_type": "display_data"
    }
   ],
   "source": [
    "total1 = temp_female.shape[0] \n",
    "total2 = temp_male.shape[0]\n",
    "# frame1 = pd.pivot_table(temp, index ='age_g',columns = 'gender', values = ['customer_id'],aggfunc ='count')\n",
    "frame1 = pd.crosstab(temp['age_g'],temp['gender'])\n",
    "frame1 =frame1.sort_index(ascending = True)\n",
    "frame1 = frame1.reset_index()\n",
    "frame1['per_female'] = frame1['female']/total1\n",
    "frame1['per_male'] = frame1['male']/total2\n",
    "frame1\n",
    "index = np.arange(len(frame1['age_g']))\n",
    "plt.figure(figsize=(6,4))\n",
    "plt.bar(index, frame1['per_female'], width=0.25,color='#2c6fbb');\n",
    "for a, b in zip(index, frame1['per_female']):\n",
    "    plt.text(a, b, '%.2f' % b, ha='center', va='bottom', fontsize=5);\n",
    "plt.bar(index+0.3, frame1['per_male'], width=0.25,color = 'mediumseagreen');\n",
    "for a, b in zip(index+0.25, frame1['per_male']):\n",
    "    plt.text(a, b, '%.2f' % b, ha='center', va='bottom', fontsize=5);\n",
    "plt.title('dist of gender_age')\n",
    "plt.xticks(index,frame1['age_g'],rotation=10, fontsize=5);\n",
    "plt.legend(['female','male'], loc = 'upper right', fontsize=5)\n",
    "plt.tight_layout();\n",
    "plt.savefig(os.path.join(fig_path, 'gender_age' + '.png'), format='png', dpi=300, bbox_inches = 'tight',pad_inches = 0.1)\n",
    "plt.show();\n",
    "plt.close();\n",
    "\n"
   ]
  },
  {
   "cell_type": "code",
   "execution_count": 24,
   "metadata": {},
   "outputs": [
    {
     "data": {
      "image/png": "[encoded data removed]",
      "text/plain": [
       "<Figure size 432x288 with 1 Axes>"
      ]
     },
     "metadata": {
      "needs_background": "light"
     },
     "output_type": "display_data"
    },
    {
     "data": {
      "image/png": "[encoded data removed]",
      "text/plain": [
       "<Figure size 432x288 with 1 Axes>"
      ]
     },
     "metadata": {
      "needs_background": "light"
     },
     "output_type": "display_data"
    }
   ],
   "source": [
    "total1 = temp_female.shape[0] \n",
    "total2 = temp_male.shape[0]\n",
    "# frame1 = pd.pivot_table(temp, index ='age_g',columns = 'gender', values = ['customer_id'],aggfunc ='count')\n",
    "frame1 = pd.crosstab(temp['marital_status'],temp['gender'])\n",
    "frame1 =frame1.sort_index(ascending = True)\n",
    "frame1 = frame1.reset_index()\n",
    "frame1['per_female'] = frame1['female']/total1\n",
    "frame1['per_male'] = frame1['male']/total2\n",
    "frame1\n",
    "index = np.arange(len(frame1['marital_status']))\n",
    "plt.figure(figsize=(6,4))\n",
    "plt.bar(index, frame1['per_female'], width=0.25,color='#2c6fbb');\n",
    "for a, b in zip(index, frame1['per_female']):\n",
    "    plt.text(a, b, '%.2f' % b, ha='center', va='bottom', fontsize=5);\n",
    "plt.bar(index+0.3, frame1['per_male'], width=0.25,color = 'mediumseagreen');\n",
    "for a, b in zip(index+0.25, frame1['per_male']):\n",
    "    plt.text(a, b, '%.2f' % b, ha='center', va='bottom', fontsize=5);\n",
    "plt.title('dist of gender_marital')\n",
    "plt.xticks(index,frame1['marital_status'],rotation=10, fontsize=5);\n",
    "plt.legend(['female','male'], loc = 'upper right', fontsize=5)\n",
    "plt.tight_layout();\n",
    "plt.savefig(os.path.join(fig_path, 'gender_marital' + '.png'), format='png', dpi=300, bbox_inches = 'tight',pad_inches = 0.1)\n",
    "plt.show();\n",
    "plt.close();\n",
    "\n",
    "\n"
   ]
  },
  {
   "cell_type": "code",
   "execution_count": null,
   "metadata": {},
   "outputs": [],
   "source": []
  },
  {
   "cell_type": "markdown",
   "metadata": {},
   "source": [
    "# APP信息"
   ]
  },
  {
   "cell_type": "code",
   "execution_count": 3,
   "metadata": {},
   "outputs": [],
   "source": [
    "query3 = '''\n",
    "select customer_id,packages\n",
    "from temp_packageinfo_hx \n",
    "where date(apply_time) between '2019-10-01' and '2019-12-31';\n",
    "'''"
   ]
  },
  {
   "cell_type": "code",
   "execution_count": null,
   "metadata": {},
   "outputs": [
    {
     "name": "stdout",
     "output_type": "stream",
     "text": [
      "Successful connection\n"
     ]
    }
   ],
   "source": [
    "df_package = data_con.database_gn(query3)\n",
    "df_package.shape"
   ]
  },
  {
   "cell_type": "code",
   "execution_count": null,
   "metadata": {},
   "outputs": [],
   "source": [
    "app_data1 = dp.from_json(df_package, 'packages')\n",
    "app_data1.shape\n",
    "save_data_to_pickle(app_data1, file_path, 'df_package.pkl')"
   ]
  },
  {
   "cell_type": "code",
   "execution_count": null,
   "metadata": {},
   "outputs": [],
   "source": []
  }
 ],
 "metadata": {
  "kernelspec": {
   "display_name": "Python 3",
   "language": "python",
   "name": "python3"
  },
  "language_info": {
   "codemirror_mode": {
    "name": "ipython",
    "version": 3
   },
   "file_extension": ".py",
   "mimetype": "text/x-python",
   "name": "python",
   "nbconvert_exporter": "python",
   "pygments_lexer": "ipython3",
   "version": "3.7.5"
  },
  "latex_envs": {
   "LaTeX_envs_menu_present": true,
   "autoclose": false,
   "autocomplete": true,
   "bibliofile": "biblio.bib",
   "cite_by": "apalike",
   "current_citInitial": 1,
   "eqLabelWithNumbers": true,
   "eqNumInitial": 1,
   "hotkeys": {
    "equation": "Ctrl-E",
    "itemize": "Ctrl-I"
   },
   "labels_anchors": false,
   "latex_user_defs": false,
   "report_style_numbering": false,
   "user_envs_cfg": false
  },
  "toc": {
   "base_numbering": 1,
   "nav_menu": {},
   "number_sections": true,
   "sideBar": true,
   "skip_h1_title": false,
   "title_cell": "Table of Contents",
   "title_sidebar": "Contents",
   "toc_cell": false,
   "toc_position": {},
   "toc_section_display": true,
   "toc_window_display": true
  },
  "varInspector": {
   "cols": {
    "lenName": 16,
    "lenType": 16,
    "lenVar": 40
   },
   "kernels_config": {
    "python": {
     "delete_cmd_postfix": "",
     "delete_cmd_prefix": "del ",
     "library": "var_list.py",
     "varRefreshCmd": "print(var_dic_list())"
    },
    "r": {
     "delete_cmd_postfix": ") ",
     "delete_cmd_prefix": "rm(",
     "library": "var_list.r",
     "varRefreshCmd": "cat(var_dic_list()) "
    }
   },
   "types_to_exclude": [
    "module",
    "function",
    "builtin_function_or_method",
    "instance",
    "_Feature"
   ],
   "window_display": false
  }
 },
 "nbformat": 4,
 "nbformat_minor": 2
}
