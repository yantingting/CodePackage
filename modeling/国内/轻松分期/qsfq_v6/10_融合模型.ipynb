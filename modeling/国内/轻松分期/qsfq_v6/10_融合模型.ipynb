{
 "cells": [
  {
   "cell_type": "code",
   "execution_count": 275,
   "metadata": {},
   "outputs": [],
   "source": [
    "%matplotlib inline\n",
    "import datetime\n",
    "import os\n",
    "import pandas as pd\n",
    "import numpy as np\n",
    "import sys\n",
    "from jinja2 import Template\n",
    "import  logging\n",
    "sys.path.append('/Users/Mint/Desktop/repos/genie')\n",
    "\n",
    "import matplotlib\n",
    "matplotlib.use('TkAgg')\n",
    "from imp import reload\n",
    "import utils3.plotting as pl\n",
    "import utils3.misc_utils as mu\n",
    "import utils3.metrics as mt\n",
    "import utils3.summary_statistics as ss\n",
    "import utils3.feature_selection as fs\n",
    "from utils3.data_io_utils import *\n",
    "from utils3.data_io_utils import *\n",
    "import utils3.modeling as ml\n",
    "from functools import reduce\n",
    "from sklearn.model_selection import train_test_split\n",
    "import xgboost as xgb"
   ]
  },
  {
   "cell_type": "code",
   "execution_count": 6,
   "metadata": {},
   "outputs": [
    {
     "data": {
      "text/plain": [
       "<module 'utils3.metrics' from '/Users/Mint/Desktop/repos/genie\\\\utils3\\\\metrics.py'>"
      ]
     },
     "execution_count": 6,
     "metadata": {},
     "output_type": "execute_result"
    }
   ],
   "source": [
    "#reload(ml)\n",
    "reload(mt)"
   ]
  },
  {
   "cell_type": "code",
   "execution_count": 7,
   "metadata": {},
   "outputs": [],
   "source": [
    "data_path = 'D:/Model/201908_qsfq_model/01_data'\n",
    "result_path = 'D:/Model/201908_qsfq_model/02_result/'"
   ]
  },
  {
   "cell_type": "code",
   "execution_count": 30,
   "metadata": {},
   "outputs": [],
   "source": [
    "x_with_y4 = pd.read_excel(os.path.join(data_path, 'x_with_y_v4.xlsx'))\n",
    "\n",
    "x_with_y2 = x_with_y4.loc[x_with_y4.sample_set != 'train_new']\n",
    "x_with_y2.index = x_with_y2.order_no"
   ]
  },
  {
   "cell_type": "code",
   "execution_count": 9,
   "metadata": {},
   "outputs": [],
   "source": [
    "var_dict = pd.read_excel('D:/Model/201908_qsfq_model/建模代码可用变量字典.xlsx')\n"
   ]
  },
  {
   "cell_type": "code",
   "execution_count": 31,
   "metadata": {},
   "outputs": [
    {
     "data": {
      "text/plain": [
       "309"
      ]
     },
     "execution_count": 31,
     "metadata": {},
     "output_type": "execute_result"
    }
   ],
   "source": [
    "set(x_with_y2.columns) - set(var_dict.指标英文.unique())\n",
    "x_cols = list(set(x_with_y2.columns).intersection(set(var_dict.指标英文.unique())))\n",
    "len(x_cols)"
   ]
  },
  {
   "cell_type": "code",
   "execution_count": 32,
   "metadata": {},
   "outputs": [
    {
     "data": {
      "text/plain": [
       "19"
      ]
     },
     "execution_count": 32,
     "metadata": {},
     "output_type": "execute_result"
    }
   ],
   "source": [
    "y_cols = list(set(x_with_y2.columns) - set(var_dict.指标英文.unique()))\n",
    "len(y_cols)\n"
   ]
  },
  {
   "cell_type": "code",
   "execution_count": 33,
   "metadata": {},
   "outputs": [],
   "source": [
    "x_with_y2[x_cols] = x_with_y2[x_cols].astype(float)\n"
   ]
  },
  {
   "cell_type": "code",
   "execution_count": 34,
   "metadata": {},
   "outputs": [],
   "source": [
    "\"\"\"\n",
    "划分训练&验证\n",
    "\"\"\"\n",
    "\n",
    "x_with_y2.perf_flag.value_counts(dropna = False)\n",
    "\n",
    "data_train = x_with_y2[x_with_y2.sample_set == 'train']\n",
    "data_test = x_with_y2[x_with_y2.sample_set == 'test']\n",
    "data_test_new = x_with_y2[x_with_y2.sample_set == 'test_new']"
   ]
  },
  {
   "cell_type": "code",
   "execution_count": 35,
   "metadata": {},
   "outputs": [
    {
     "data": {
      "text/plain": [
       "0    5517\n",
       "1    1375\n",
       "9    1157\n",
       "Name: perf_flag, dtype: int64"
      ]
     },
     "execution_count": 35,
     "metadata": {},
     "output_type": "execute_result"
    }
   ],
   "source": [
    "x_with_y2.perf_flag.value_counts()"
   ]
  },
  {
   "cell_type": "code",
   "execution_count": null,
   "metadata": {},
   "outputs": [],
   "source": []
  },
  {
   "cell_type": "code",
   "execution_count": 27,
   "metadata": {},
   "outputs": [],
   "source": [
    "x_with_y2 = x_with_y2.replace(-8887,-1)"
   ]
  },
  {
   "cell_type": "code",
   "execution_count": 18,
   "metadata": {},
   "outputs": [
    {
     "data": {
      "text/plain": [
       "'\\nEDA\\n'"
      ]
     },
     "execution_count": 18,
     "metadata": {},
     "output_type": "execute_result"
    }
   ],
   "source": [
    "\"\"\"\n",
    "EDA\n",
    "\"\"\""
   ]
  },
  {
   "cell_type": "code",
   "execution_count": 23,
   "metadata": {},
   "outputs": [
    {
     "data": {
      "text/plain": [
       "'D:/Model/201908_qsfq_model/02_result/'"
      ]
     },
     "execution_count": 23,
     "metadata": {},
     "output_type": "execute_result"
    }
   ],
   "source": [
    "result_path"
   ]
  },
  {
   "cell_type": "code",
   "execution_count": 36,
   "metadata": {},
   "outputs": [],
   "source": [
    "X = x_with_y2.loc[x_with_y2.sample_set.isin(['train','test'])][x_cols]"
   ]
  },
  {
   "cell_type": "code",
   "execution_count": 37,
   "metadata": {},
   "outputs": [],
   "source": [
    "ss.eda(X, var_dict, useless_vars=[], exempt_vars=[],\\\n",
    "       data_path=result_path, save_label='all')"
   ]
  },
  {
   "cell_type": "code",
   "execution_count": 38,
   "metadata": {},
   "outputs": [
    {
     "data": {
      "text/plain": [
       "78"
      ]
     },
     "execution_count": 38,
     "metadata": {},
     "output_type": "execute_result"
    }
   ],
   "source": [
    "summary = pd.read_excel(os.path.join('D:/Model/201908_qsfq_model/02_result/all_variables_summary.xlsx'), encoding='utf-8')\n",
    "exclude_after_eda = summary.loc[summary.exclusion_reason.notnull(), '指标英文'].tolist()\n",
    "len(exclude_after_eda)"
   ]
  },
  {
   "cell_type": "code",
   "execution_count": 152,
   "metadata": {},
   "outputs": [],
   "source": [
    "x_with_y2 = x_with_y2.drop(exclude_after_eda,1)"
   ]
  },
  {
   "cell_type": "code",
   "execution_count": 153,
   "metadata": {},
   "outputs": [
    {
     "data": {
      "text/plain": [
       "Index(['effective_date', 'fid7', 'flag_credit', 'flag_fraud', 'order_no',\n",
       "       'blacklist_flag', 'zq_blacklist', 'shumeimaxoverduelevel_flag',\n",
       "       'xinyanadviceblack', 'tianyuriskcode2',\n",
       "       ...\n",
       "       'TSJY043', 'TSJY047', 'TSJY033', 'RMS002_RMS003', 'TSJY020', 'YLZC297',\n",
       "       'YLZC013', 'YLZC035', 'YLZC037', 'YLZC053'],\n",
       "      dtype='object', length=250)"
      ]
     },
     "execution_count": 153,
     "metadata": {},
     "output_type": "execute_result"
    }
   ],
   "source": [
    "x_with_y2.columns"
   ]
  },
  {
   "cell_type": "code",
   "execution_count": 154,
   "metadata": {},
   "outputs": [],
   "source": [
    "x_with_y2.index = x_with_y2.order_no"
   ]
  },
  {
   "cell_type": "code",
   "execution_count": 155,
   "metadata": {},
   "outputs": [
    {
     "data": {
      "text/html": [
       "<div>\n",
       "<style scoped>\n",
       "    .dataframe tbody tr th:only-of-type {\n",
       "        vertical-align: middle;\n",
       "    }\n",
       "\n",
       "    .dataframe tbody tr th {\n",
       "        vertical-align: top;\n",
       "    }\n",
       "\n",
       "    .dataframe thead th {\n",
       "        text-align: right;\n",
       "    }\n",
       "</style>\n",
       "<table border=\"1\" class=\"dataframe\">\n",
       "  <thead>\n",
       "    <tr style=\"text-align: right;\">\n",
       "      <th></th>\n",
       "      <th>effective_date</th>\n",
       "      <th>fid7</th>\n",
       "      <th>flag_credit</th>\n",
       "      <th>flag_fraud</th>\n",
       "      <th>order_no</th>\n",
       "      <th>blacklist_flag</th>\n",
       "      <th>zq_blacklist</th>\n",
       "      <th>shumeimaxoverduelevel_flag</th>\n",
       "      <th>xinyanadviceblack</th>\n",
       "      <th>tianyuriskcode2</th>\n",
       "      <th>...</th>\n",
       "      <th>TSJY043</th>\n",
       "      <th>TSJY047</th>\n",
       "      <th>TSJY033</th>\n",
       "      <th>RMS002_RMS003</th>\n",
       "      <th>TSJY020</th>\n",
       "      <th>YLZC297</th>\n",
       "      <th>YLZC013</th>\n",
       "      <th>YLZC035</th>\n",
       "      <th>YLZC037</th>\n",
       "      <th>YLZC053</th>\n",
       "    </tr>\n",
       "    <tr>\n",
       "      <th>order_no</th>\n",
       "      <th></th>\n",
       "      <th></th>\n",
       "      <th></th>\n",
       "      <th></th>\n",
       "      <th></th>\n",
       "      <th></th>\n",
       "      <th></th>\n",
       "      <th></th>\n",
       "      <th></th>\n",
       "      <th></th>\n",
       "      <th></th>\n",
       "      <th></th>\n",
       "      <th></th>\n",
       "      <th></th>\n",
       "      <th></th>\n",
       "      <th></th>\n",
       "      <th></th>\n",
       "      <th></th>\n",
       "      <th></th>\n",
       "      <th></th>\n",
       "      <th></th>\n",
       "    </tr>\n",
       "  </thead>\n",
       "  <tbody>\n",
       "    <tr>\n",
       "      <th>CP2019010714501755695780</th>\n",
       "      <td>2019-01-07</td>\n",
       "      <td>-1</td>\n",
       "      <td>0</td>\n",
       "      <td>0</td>\n",
       "      <td>CP2019010714501755695780</td>\n",
       "      <td>-1</td>\n",
       "      <td>-1</td>\n",
       "      <td>-1</td>\n",
       "      <td>-1</td>\n",
       "      <td>-1</td>\n",
       "      <td>...</td>\n",
       "      <td>14.0</td>\n",
       "      <td>16.0</td>\n",
       "      <td>4.0</td>\n",
       "      <td>1.0</td>\n",
       "      <td>15.0</td>\n",
       "      <td>10.0</td>\n",
       "      <td>4.0</td>\n",
       "      <td>3.0</td>\n",
       "      <td>11.0</td>\n",
       "      <td>7.0</td>\n",
       "    </tr>\n",
       "    <tr>\n",
       "      <th>CP2019010816372829722750</th>\n",
       "      <td>2019-01-08</td>\n",
       "      <td>-1</td>\n",
       "      <td>0</td>\n",
       "      <td>0</td>\n",
       "      <td>CP2019010816372829722750</td>\n",
       "      <td>-1</td>\n",
       "      <td>-1</td>\n",
       "      <td>-1</td>\n",
       "      <td>-1</td>\n",
       "      <td>-1</td>\n",
       "      <td>...</td>\n",
       "      <td>3.0</td>\n",
       "      <td>4.0</td>\n",
       "      <td>0.0</td>\n",
       "      <td>40.0</td>\n",
       "      <td>35.0</td>\n",
       "      <td>13.0</td>\n",
       "      <td>3.0</td>\n",
       "      <td>3.0</td>\n",
       "      <td>12.0</td>\n",
       "      <td>7.0</td>\n",
       "    </tr>\n",
       "    <tr>\n",
       "      <th>CP2019010818542223493551</th>\n",
       "      <td>2019-01-09</td>\n",
       "      <td>-1</td>\n",
       "      <td>9</td>\n",
       "      <td>9</td>\n",
       "      <td>CP2019010818542223493551</td>\n",
       "      <td>-1</td>\n",
       "      <td>-1</td>\n",
       "      <td>-1</td>\n",
       "      <td>-1</td>\n",
       "      <td>-1</td>\n",
       "      <td>...</td>\n",
       "      <td>13.0</td>\n",
       "      <td>26.0</td>\n",
       "      <td>0.0</td>\n",
       "      <td>2.0</td>\n",
       "      <td>1.0</td>\n",
       "      <td>10.0</td>\n",
       "      <td>4.0</td>\n",
       "      <td>3.0</td>\n",
       "      <td>12.0</td>\n",
       "      <td>9.0</td>\n",
       "    </tr>\n",
       "    <tr>\n",
       "      <th>CP2019010608590656256549</th>\n",
       "      <td>2019-01-07</td>\n",
       "      <td>-1</td>\n",
       "      <td>9</td>\n",
       "      <td>9</td>\n",
       "      <td>CP2019010608590656256549</td>\n",
       "      <td>-1</td>\n",
       "      <td>-1</td>\n",
       "      <td>-1</td>\n",
       "      <td>-1</td>\n",
       "      <td>-1</td>\n",
       "      <td>...</td>\n",
       "      <td>3.0</td>\n",
       "      <td>3.0</td>\n",
       "      <td>0.0</td>\n",
       "      <td>24.0</td>\n",
       "      <td>2.0</td>\n",
       "      <td>6.0</td>\n",
       "      <td>6.0</td>\n",
       "      <td>2.0</td>\n",
       "      <td>2.0</td>\n",
       "      <td>3.0</td>\n",
       "    </tr>\n",
       "    <tr>\n",
       "      <th>CP2019011312371904497201</th>\n",
       "      <td>2019-01-14</td>\n",
       "      <td>-1</td>\n",
       "      <td>9</td>\n",
       "      <td>9</td>\n",
       "      <td>CP2019011312371904497201</td>\n",
       "      <td>-1</td>\n",
       "      <td>-1</td>\n",
       "      <td>-1</td>\n",
       "      <td>-1</td>\n",
       "      <td>-1</td>\n",
       "      <td>...</td>\n",
       "      <td>10.0</td>\n",
       "      <td>12.0</td>\n",
       "      <td>0.0</td>\n",
       "      <td>5.0</td>\n",
       "      <td>13.0</td>\n",
       "      <td>5.0</td>\n",
       "      <td>3.0</td>\n",
       "      <td>3.0</td>\n",
       "      <td>11.0</td>\n",
       "      <td>3.0</td>\n",
       "    </tr>\n",
       "  </tbody>\n",
       "</table>\n",
       "<p>5 rows × 250 columns</p>\n",
       "</div>"
      ],
      "text/plain": [
       "                         effective_date  fid7  flag_credit  flag_fraud  \\\n",
       "order_no                                                                 \n",
       "CP2019010714501755695780     2019-01-07    -1            0           0   \n",
       "CP2019010816372829722750     2019-01-08    -1            0           0   \n",
       "CP2019010818542223493551     2019-01-09    -1            9           9   \n",
       "CP2019010608590656256549     2019-01-07    -1            9           9   \n",
       "CP2019011312371904497201     2019-01-14    -1            9           9   \n",
       "\n",
       "                                          order_no  blacklist_flag  \\\n",
       "order_no                                                             \n",
       "CP2019010714501755695780  CP2019010714501755695780              -1   \n",
       "CP2019010816372829722750  CP2019010816372829722750              -1   \n",
       "CP2019010818542223493551  CP2019010818542223493551              -1   \n",
       "CP2019010608590656256549  CP2019010608590656256549              -1   \n",
       "CP2019011312371904497201  CP2019011312371904497201              -1   \n",
       "\n",
       "                          zq_blacklist  shumeimaxoverduelevel_flag  \\\n",
       "order_no                                                             \n",
       "CP2019010714501755695780            -1                          -1   \n",
       "CP2019010816372829722750            -1                          -1   \n",
       "CP2019010818542223493551            -1                          -1   \n",
       "CP2019010608590656256549            -1                          -1   \n",
       "CP2019011312371904497201            -1                          -1   \n",
       "\n",
       "                          xinyanadviceblack  tianyuriskcode2   ...     \\\n",
       "order_no                                                       ...      \n",
       "CP2019010714501755695780                 -1               -1   ...      \n",
       "CP2019010816372829722750                 -1               -1   ...      \n",
       "CP2019010818542223493551                 -1               -1   ...      \n",
       "CP2019010608590656256549                 -1               -1   ...      \n",
       "CP2019011312371904497201                 -1               -1   ...      \n",
       "\n",
       "                          TSJY043  TSJY047  TSJY033  RMS002_RMS003 TSJY020  \\\n",
       "order_no                                                                     \n",
       "CP2019010714501755695780     14.0     16.0      4.0            1.0    15.0   \n",
       "CP2019010816372829722750      3.0      4.0      0.0           40.0    35.0   \n",
       "CP2019010818542223493551     13.0     26.0      0.0            2.0     1.0   \n",
       "CP2019010608590656256549      3.0      3.0      0.0           24.0     2.0   \n",
       "CP2019011312371904497201     10.0     12.0      0.0            5.0    13.0   \n",
       "\n",
       "                          YLZC297  YLZC013  YLZC035  YLZC037  YLZC053  \n",
       "order_no                                                               \n",
       "CP2019010714501755695780     10.0      4.0      3.0     11.0      7.0  \n",
       "CP2019010816372829722750     13.0      3.0      3.0     12.0      7.0  \n",
       "CP2019010818542223493551     10.0      4.0      3.0     12.0      9.0  \n",
       "CP2019010608590656256549      6.0      6.0      2.0      2.0      3.0  \n",
       "CP2019011312371904497201      5.0      3.0      3.0     11.0      3.0  \n",
       "\n",
       "[5 rows x 250 columns]"
      ]
     },
     "execution_count": 155,
     "metadata": {},
     "output_type": "execute_result"
    }
   ],
   "source": [
    "x_with_y2.head()"
   ]
  },
  {
   "cell_type": "code",
   "execution_count": 156,
   "metadata": {},
   "outputs": [
    {
     "data": {
      "text/plain": [
       "(2264,)"
      ]
     },
     "execution_count": 156,
     "metadata": {},
     "output_type": "execute_result"
    }
   ],
   "source": [
    "\"\"\"\n",
    "样本划分\n",
    "\"\"\"\n",
    "#\n",
    "#train\n",
    "X_train_df = x_with_y2.loc[(x_with_y2.perf_flag.isin([0,1])) & (x_with_y2.sample_set == 'train')].drop(y_cols,1)\n",
    "y_train_df = x_with_y2.loc[x_with_y2.perf_flag.isin([0,1]) & (x_with_y2.sample_set == 'train')].perf_flag\n",
    "#y_train_df = pd.DataFrame(y_train_df)\n",
    "\n",
    "#X_train_df.shape #2264\n",
    "y_train_df.shape\n",
    "\n",
    "\n"
   ]
  },
  {
   "cell_type": "code",
   "execution_count": 319,
   "metadata": {},
   "outputs": [
    {
     "data": {
      "text/plain": [
       "(1250,)"
      ]
     },
     "execution_count": 319,
     "metadata": {},
     "output_type": "execute_result"
    }
   ],
   "source": [
    "#test\n",
    "X_test_df = x_with_y2.loc[x_with_y2.sample_set == 'test'].drop(y_cols,1)\n",
    "\n",
    "y_test_df = x_with_y2.loc[x_with_y2.sample_set == 'test'].perf_flag.replace(9,0)\n",
    "X_test_df.shape #1250\n",
    "y_test_df.shape\n",
    "# #test new\n",
    "# X_test_df_new = data_test_new.drop(y_cols,1)[td_cols]\n",
    "# y_test_df_new = data_test_new.perf_flag\n",
    "\n",
    "#X_test_df_new.shape #3723\n",
    "\n"
   ]
  },
  {
   "cell_type": "code",
   "execution_count": 158,
   "metadata": {},
   "outputs": [],
   "source": [
    "#\n",
    "X_train = X_train_df.values\n",
    "y_train = y_train_df.values\n",
    "\n",
    "X_test = X_test_df.values\n",
    "X_test.shape\n",
    "y_test = y_test_df.values\n",
    "\n",
    "# X_test_new = X_test_df_new.values\n",
    "# X_test_new.shape\n",
    "# y_test_new = y_test_df_new.values"
   ]
  },
  {
   "cell_type": "code",
   "execution_count": 159,
   "metadata": {},
   "outputs": [
    {
     "data": {
      "text/plain": [
       "(2264, 231)"
      ]
     },
     "execution_count": 159,
     "metadata": {},
     "output_type": "execute_result"
    }
   ],
   "source": [
    "X_train_df.shape"
   ]
  },
  {
   "cell_type": "code",
   "execution_count": 160,
   "metadata": {},
   "outputs": [],
   "source": [
    "\"\"\"\n",
    "IV\n",
    "\"\"\"\n",
    "args_dict = {\n",
    "    'random_forest': {\n",
    "        'grid_search': False,#选择了True则会进行网格筛选速度会比较慢\n",
    "        'param': None\n",
    "    },\n",
    "    'xgboost': {\n",
    "        'grid_search': False,\n",
    "        'param': None\n",
    "    }\n",
    "}\n",
    "methods = [\n",
    "    #'random_forest',\n",
    "    #'lasso',\n",
    "    #'xgboost'\n",
    "]\n",
    "\n",
    "fs_obj = fs.FeatureSelection()\n",
    "logging.basicConfig(filename=os.path.join(result_path, 'test_log.log'), level=logging.INFO, filemode='w')\n",
    "LOG = logging.getLogger(__name__)\n",
    "\n",
    "\n",
    "X_cat_train,X_transformed, woe_iv_df, rebin_spec, ranking_result = fs_obj.overall_ranking(X_train_df, y_train_df, var_dict, args_dict, methods, num_max_bins=5)\n"
   ]
  },
  {
   "cell_type": "code",
   "execution_count": 49,
   "metadata": {},
   "outputs": [
    {
     "data": {
      "text/plain": [
       "'D:/Model/201908_qsfq_model/02_result/'"
      ]
     },
     "execution_count": 49,
     "metadata": {},
     "output_type": "execute_result"
    }
   ],
   "source": [
    "\n",
    "result_path"
   ]
  },
  {
   "cell_type": "code",
   "execution_count": 161,
   "metadata": {},
   "outputs": [],
   "source": [
    "woe_iv_df.to_excel(os.path.join(result_path,'woe_iv_df.xlsx'))\n",
    "ranking_result.to_excel(os.path.join(result_path,'ranking_result.xlsx'))\n",
    "save_data_to_pickle(rebin_spec,result_path,'rebin_spec.pkl')"
   ]
  },
  {
   "cell_type": "code",
   "execution_count": 162,
   "metadata": {},
   "outputs": [],
   "source": [
    "save_data_to_pickle(X_cat_train,result_path,'X_cat_train.pkl')"
   ]
  },
  {
   "cell_type": "code",
   "execution_count": 163,
   "metadata": {},
   "outputs": [],
   "source": [
    "rebin_spec = mu.convert_rebin_spec2XGB_rebin_spec(rebin_spec)"
   ]
  },
  {
   "cell_type": "code",
   "execution_count": null,
   "metadata": {},
   "outputs": [],
   "source": [
    "\"\"\"\n",
    "变量筛选\n",
    "\"\"\""
   ]
  },
  {
   "cell_type": "code",
   "execution_count": 164,
   "metadata": {},
   "outputs": [],
   "source": [
    "# 确定需要留下的排名靠前变量的数量\n",
    "n = 300\n",
    "top_n = ranking_result.sort_values('overall_rank')[u'指标英文'].iloc[:n].tolist()"
   ]
  },
  {
   "cell_type": "code",
   "execution_count": 165,
   "metadata": {},
   "outputs": [],
   "source": [
    "# 决定从top_n中剔除的字段名称\n",
    "exclusion = []\n",
    "# 决定模型一定要有的字段，即使可能不显著\n",
    "start_from = []\n",
    "# 通过综合排序选中的\n",
    "selected = list(set(top_n) - set(exclusion))"
   ]
  },
  {
   "cell_type": "code",
   "execution_count": 166,
   "metadata": {},
   "outputs": [],
   "source": [
    "# 将数据分箱后并转换woe值\n",
    "X_transformed_train = X_transformed\n",
    "# clean data\n",
    "X_transformed_train = X_transformed_train[selected]"
   ]
  },
  {
   "cell_type": "code",
   "execution_count": null,
   "metadata": {},
   "outputs": [],
   "source": []
  },
  {
   "cell_type": "code",
   "execution_count": null,
   "metadata": {},
   "outputs": [],
   "source": []
  },
  {
   "cell_type": "code",
   "execution_count": 167,
   "metadata": {},
   "outputs": [],
   "source": [
    "\"\"\"\n",
    "相关性\n",
    "\"\"\"\n",
    "corr_threshold = 0.7 # 可调\n",
    "vif_threshold = 10 # 可调\n",
    "vif_result = fs.Colinearity(X_transformed_train,result_path)"
   ]
  },
  {
   "cell_type": "code",
   "execution_count": 168,
   "metadata": {},
   "outputs": [],
   "source": [
    "vif_result.run(ranking_result)"
   ]
  },
  {
   "cell_type": "code",
   "execution_count": 170,
   "metadata": {},
   "outputs": [],
   "source": [
    "# 相关性分析删除的变量\n",
    "exclusion_cols = vif_result.corr_exclude_vars + vif_result.vif_dropvars"
   ]
  },
  {
   "cell_type": "code",
   "execution_count": 171,
   "metadata": {},
   "outputs": [
    {
     "data": {
      "text/plain": [
       "158"
      ]
     },
     "execution_count": 171,
     "metadata": {},
     "output_type": "execute_result"
    }
   ],
   "source": [
    "len(exclusion_cols)"
   ]
  },
  {
   "cell_type": "code",
   "execution_count": 65,
   "metadata": {},
   "outputs": [
    {
     "data": {
      "text/plain": [
       "'\\n调整粗分箱\\n'"
      ]
     },
     "execution_count": 65,
     "metadata": {},
     "output_type": "execute_result"
    }
   ],
   "source": [
    "\"\"\"\n",
    "调整粗分箱\n",
    "\"\"\"\n"
   ]
  },
  {
   "cell_type": "code",
   "execution_count": 172,
   "metadata": {},
   "outputs": [
    {
     "data": {
      "text/plain": [
       "73"
      ]
     },
     "execution_count": 172,
     "metadata": {},
     "output_type": "execute_result"
    }
   ],
   "source": [
    "selected = list(set(selected) - set(exclusion_cols))\n",
    "len(selected)"
   ]
  },
  {
   "cell_type": "code",
   "execution_count": 173,
   "metadata": {},
   "outputs": [],
   "source": [
    "ui_obj = pl.BinPlotAdjustUI(X_train_df, y_train_df, result_path,data_path,rebin_spec, var_dict)\n",
    "ui_obj.main_ui(selected)"
   ]
  },
  {
   "cell_type": "code",
   "execution_count": 174,
   "metadata": {},
   "outputs": [],
   "source": [
    "rebin_spec_bin_adjusted = {k:v for k,v in ui_obj.rebin_spec.items() if k in selected}"
   ]
  },
  {
   "cell_type": "code",
   "execution_count": 175,
   "metadata": {},
   "outputs": [],
   "source": [
    "save_data_to_pickle(rebin_spec_bin_adjusted,result_path,'rebin_spec_bin_adjusted.pkl')"
   ]
  },
  {
   "cell_type": "code",
   "execution_count": null,
   "metadata": {},
   "outputs": [],
   "source": []
  },
  {
   "cell_type": "code",
   "execution_count": 86,
   "metadata": {},
   "outputs": [
    {
     "data": {
      "text/plain": [
       "'\\n训练集按照新的rebin_spec进行分箱\\n'"
      ]
     },
     "execution_count": 86,
     "metadata": {},
     "output_type": "execute_result"
    }
   ],
   "source": [
    "\"\"\"\n",
    "训练集按照新的rebin_spec进行分箱\n",
    "\"\"\""
   ]
  },
  {
   "cell_type": "code",
   "execution_count": 176,
   "metadata": {},
   "outputs": [],
   "source": [
    "#apply new bin cutting to the data\n",
    "bin_obj = mt.BinWoe()\n",
    "new_X = X_train_df[selected]\n",
    "X_cat_train = bin_obj.convert_to_category(new_X, var_dict, rebin_spec_bin_adjusted)\n",
    "woe_iv_df_coarse = bin_obj.calculate_woe_all(X_cat_train, y_train_df, var_dict, rebin_spec_bin_adjusted)"
   ]
  },
  {
   "cell_type": "code",
   "execution_count": 177,
   "metadata": {},
   "outputs": [],
   "source": [
    "new_X = X_test_df[selected]\n",
    "X_cat_test = bin_obj.convert_to_category(new_X, var_dict, rebin_spec_bin_adjusted)"
   ]
  },
  {
   "cell_type": "code",
   "execution_count": null,
   "metadata": {},
   "outputs": [],
   "source": []
  },
  {
   "cell_type": "code",
   "execution_count": null,
   "metadata": {},
   "outputs": [],
   "source": [
    "\"\"\"\n",
    "将变量转化为XGBoost需要的形式\n",
    "\"\"\""
   ]
  },
  {
   "cell_type": "code",
   "execution_count": 178,
   "metadata": {},
   "outputs": [
    {
     "data": {
      "text/plain": [
       "73"
      ]
     },
     "execution_count": 178,
     "metadata": {},
     "output_type": "execute_result"
    }
   ],
   "source": [
    "selected_final = selected\n",
    "len(selected_final)"
   ]
  },
  {
   "cell_type": "code",
   "execution_count": 179,
   "metadata": {},
   "outputs": [],
   "source": [
    "rebin_spec_bin_adjusted_final = {k:v for k,v in rebin_spec.items() if k in selected_final}"
   ]
  },
  {
   "cell_type": "code",
   "execution_count": 118,
   "metadata": {},
   "outputs": [],
   "source": [
    "# # 依旧建议吧完成的结果存出去，保证后续挂掉以后也能不用重头再来\n",
    "# save_data_to_pickle(rebin_spec_bin_adjusted,Result_path,'rebin_spec_bin_adjusted.pkl')"
   ]
  },
  {
   "cell_type": "code",
   "execution_count": null,
   "metadata": {},
   "outputs": [],
   "source": [
    "\"\"\"\n",
    "将训练集数据进行XGboost转换\n",
    "\"\"\""
   ]
  },
  {
   "cell_type": "code",
   "execution_count": 180,
   "metadata": {},
   "outputs": [],
   "source": [
    "X_train_final = X_train_df[selected_final]\n",
    "X_cat_train_final = X_cat_train[selected_final]"
   ]
  },
  {
   "cell_type": "code",
   "execution_count": 181,
   "metadata": {},
   "outputs": [
    {
     "data": {
      "text/plain": [
       "(2264, 73)"
      ]
     },
     "execution_count": 181,
     "metadata": {},
     "output_type": "execute_result"
    }
   ],
   "source": [
    "X_train_final.shape"
   ]
  },
  {
   "cell_type": "code",
   "execution_count": null,
   "metadata": {},
   "outputs": [],
   "source": []
  },
  {
   "cell_type": "code",
   "execution_count": 182,
   "metadata": {},
   "outputs": [],
   "source": [
    "reload(mt)\n",
    "bin_obj = mt.BinWoe()"
   ]
  },
  {
   "cell_type": "code",
   "execution_count": 183,
   "metadata": {},
   "outputs": [],
   "source": [
    "# X_train_xgboost:xgboost最终衍生完成的所有变量的集合\n",
    "# rebin_spec_bin_adjusted_final:最终的分箱文件\n",
    "# bin_to_label:将分箱转化为标签的dict文件\n",
    "# dummy_var_name_map:转化为dummy的dict文件\n",
    "X_train_xgboost, rebin_spec_bin_adjusted_final, bin_to_label, dummy_var_name_map =\\\n",
    "bin_obj.xgboost_data_derive(X_train_final, y_train_df, var_dict\\\n",
    "                            ,rebin_spec_adjusted=rebin_spec_bin_adjusted_final\\\n",
    "                            , verbose=True)"
   ]
  },
  {
   "cell_type": "code",
   "execution_count": 75,
   "metadata": {},
   "outputs": [
    {
     "data": {
      "text/plain": [
       "'\\n将测试集进行XGboost转转换\\n'"
      ]
     },
     "execution_count": 75,
     "metadata": {},
     "output_type": "execute_result"
    }
   ],
   "source": [
    "\"\"\"\n",
    "将测试集进行XGboost转转换\n",
    "\"\"\""
   ]
  },
  {
   "cell_type": "code",
   "execution_count": 184,
   "metadata": {},
   "outputs": [],
   "source": [
    "X_test_final = X_test_df[selected_final]\n",
    "X_cat_test_final = X_cat_test[selected_final]"
   ]
  },
  {
   "cell_type": "code",
   "execution_count": 185,
   "metadata": {},
   "outputs": [],
   "source": [
    "X_test_xgboost = mt.BinWoe().apply_xgboost_data_derive(X_test_final,\n",
    "                                var_dict, rebin_spec_bin_adjusted_final, bin_to_label)"
   ]
  },
  {
   "cell_type": "code",
   "execution_count": 186,
   "metadata": {},
   "outputs": [
    {
     "data": {
      "text/plain": [
       "Index(['maritalstatus', 'r47580344_m_industry_1_ct', 'YLZC013',\n",
       "       'm_12cnt_org_cc', 'r47580344_id_industry_6_ct', 'loans_credibility',\n",
       "       'm_18cnt_org_cash', 'm_12cnt_org_cf', 'loans_long_time',\n",
       "       'loans_overdue_count',\n",
       "       ...\n",
       "       'monthlyincome_binnum', 'd_30cnt_cf_binnum', 'm_12cnt_binnum',\n",
       "       'm_18pct_cnt_org_cf_binnum', 'ty_riskcode_6_binnum',\n",
       "       'm_12cnt_cf_binnum', 'd_60cnt_binnum', 'TSJY020_binnum',\n",
       "       'm_9cnt_cf_binnum', 'd_30cnt_cash_binnum'],\n",
       "      dtype='object', length=146)"
      ]
     },
     "execution_count": 186,
     "metadata": {},
     "output_type": "execute_result"
    }
   ],
   "source": [
    "X_test_xgboost.columns"
   ]
  },
  {
   "cell_type": "code",
   "execution_count": 187,
   "metadata": {},
   "outputs": [
    {
     "data": {
      "text/plain": [
       "(2264, 146)"
      ]
     },
     "execution_count": 187,
     "metadata": {},
     "output_type": "execute_result"
    }
   ],
   "source": [
    "X_train_xgboost.shape"
   ]
  },
  {
   "cell_type": "code",
   "execution_count": 188,
   "metadata": {},
   "outputs": [
    {
     "data": {
      "text/plain": [
       "73"
      ]
     },
     "execution_count": 188,
     "metadata": {},
     "output_type": "execute_result"
    }
   ],
   "source": [
    "train_bin_cols = [i for i in X_train_xgboost.columns if 'binnum' in i]\n",
    "len(train_bin_cols)"
   ]
  },
  {
   "cell_type": "code",
   "execution_count": 189,
   "metadata": {},
   "outputs": [
    {
     "data": {
      "text/plain": [
       "73"
      ]
     },
     "execution_count": 189,
     "metadata": {},
     "output_type": "execute_result"
    }
   ],
   "source": [
    "test_bin_cols = [i for i in X_test_xgboost.columns if 'binnum' in i]\n",
    "len(test_bin_cols)"
   ]
  },
  {
   "cell_type": "code",
   "execution_count": 281,
   "metadata": {},
   "outputs": [],
   "source": [
    "train1_index, train2_index = train_test_split(X_train_xgboost_without_bin_dummy.index, train_size = 0.7)"
   ]
  },
  {
   "cell_type": "code",
   "execution_count": 279,
   "metadata": {},
   "outputs": [
    {
     "data": {
      "text/plain": [
       "1584"
      ]
     },
     "execution_count": 279,
     "metadata": {},
     "output_type": "execute_result"
    }
   ],
   "source": [
    "len(train1_index)"
   ]
  },
  {
   "cell_type": "code",
   "execution_count": 282,
   "metadata": {},
   "outputs": [
    {
     "data": {
      "text/plain": [
       "680"
      ]
     },
     "execution_count": 282,
     "metadata": {},
     "output_type": "execute_result"
    }
   ],
   "source": [
    "len(train2_index)"
   ]
  },
  {
   "cell_type": "code",
   "execution_count": null,
   "metadata": {},
   "outputs": [],
   "source": [
    "X_train_xgboost_without_bin_dummy = X_train_xgboost.drop(train_bin_cols,1)\n",
    "X_train_xgboost_without_bin_dummy.shaperain_xgboost_without_bin_dummy = X_train_xgboost.drop(train_bin_cols,1)\n",
    "X_train_xgboost_without_bin_dummy.shape"
   ]
  },
  {
   "cell_type": "code",
   "execution_count": 292,
   "metadata": {},
   "outputs": [
    {
     "data": {
      "text/plain": [
       "(1584,)"
      ]
     },
     "execution_count": 292,
     "metadata": {},
     "output_type": "execute_result"
    }
   ],
   "source": [
    "X_train_wo_bin = X_train_xgboost_without_bin_dummy.loc[X_train_xgboost_without_bin_dummy.index.isin(train1_index)]\n",
    "y_train_new = y_train_df.loc[y_train_df.index.isin(train1_index)]\n",
    "\n",
    "X_train_wo_bin.shape; y_train_new.shape"
   ]
  },
  {
   "cell_type": "code",
   "execution_count": 293,
   "metadata": {},
   "outputs": [
    {
     "data": {
      "text/plain": [
       "(680,)"
      ]
     },
     "execution_count": 293,
     "metadata": {},
     "output_type": "execute_result"
    }
   ],
   "source": [
    "X_test_wo_bin = X_train_xgboost_without_bin_dummy.loc[X_train_xgboost_without_bin_dummy.index.isin(train2_index)]\n",
    "y_test_new = y_train_df.loc[y_train_df.index.isin(train2_index)]\n",
    "X_test_wo_bin.shape; y_test_new.shape"
   ]
  },
  {
   "cell_type": "code",
   "execution_count": null,
   "metadata": {},
   "outputs": [],
   "source": []
  },
  {
   "cell_type": "code",
   "execution_count": 317,
   "metadata": {},
   "outputs": [
    {
     "data": {
      "text/plain": [
       "(1250, 73)"
      ]
     },
     "execution_count": 317,
     "metadata": {},
     "output_type": "execute_result"
    }
   ],
   "source": [
    "X_test_xgboost_without_bin_dummy = X_test_xgboost.drop(test_bin_cols,1)\n",
    "X_test_xgboost_without_bin_dummy.shape"
   ]
  },
  {
   "cell_type": "code",
   "execution_count": 320,
   "metadata": {},
   "outputs": [
    {
     "data": {
      "text/plain": [
       "(1250,)"
      ]
     },
     "execution_count": 320,
     "metadata": {},
     "output_type": "execute_result"
    }
   ],
   "source": [
    "y_test_df.shape"
   ]
  },
  {
   "cell_type": "code",
   "execution_count": 222,
   "metadata": {},
   "outputs": [],
   "source": [
    "X_test_xgboost_without_bin_dummy  = X_train_xgboost_without_bin_dummy.copy()\n",
    "y_test_df  = y_train_df.copy()"
   ]
  },
  {
   "cell_type": "code",
   "execution_count": 295,
   "metadata": {},
   "outputs": [
    {
     "data": {
      "text/plain": [
       "(1584, 73)"
      ]
     },
     "execution_count": 295,
     "metadata": {},
     "output_type": "execute_result"
    }
   ],
   "source": [
    "X_train_wo_bin.shape"
   ]
  },
  {
   "cell_type": "code",
   "execution_count": 294,
   "metadata": {},
   "outputs": [],
   "source": [
    "# 其中demo_xgb这个label很重要之后还会用到\n",
    "save_data_to_pickle({\n",
    "            'X_train_xgboost': X_train_wo_bin,\n",
    "            'X_test_xgboost': X_test_wo_bin,\n",
    "            'rebin_spec': rebin_spec_bin_adjusted_final,\n",
    "            'bin_to_label': bin_to_label,\n",
    "            'dummy_var_name_map': dummy_var_name_map}, data_path,\\\n",
    "        '%s_XGBoost输出数据和分箱明细.pkl' % 'demo_xgb')"
   ]
  },
  {
   "cell_type": "code",
   "execution_count": 133,
   "metadata": {},
   "outputs": [
    {
     "data": {
      "text/plain": [
       "'\\n模型评估\\n'"
      ]
     },
     "execution_count": 133,
     "metadata": {},
     "output_type": "execute_result"
    }
   ],
   "source": [
    "\"\"\"\n",
    "模型评估\n",
    "\"\"\""
   ]
  },
  {
   "cell_type": "code",
   "execution_count": 353,
   "metadata": {},
   "outputs": [],
   "source": [
    "# 调参方法，可自行选择\n",
    "#xgbparams_selection_method = ['XGBExp', 'XGBRandom','XGBGrid']\n",
    "xgbparams_selection_method = ['XGBExp']"
   ]
  },
  {
   "cell_type": "code",
   "execution_count": 256,
   "metadata": {},
   "outputs": [],
   "source": [
    "# 随机调参时刻的相关参数\n",
    "xgb_params_range = {\n",
    "            'learning_rate': [0.03, 0.05,0.1,0.2],\n",
    "            'max_depth': [2,3,4,5],\n",
    "            'gamma': [0, 0.05, 0.1],\n",
    "            'min_child_weight':[1,3],\n",
    "            # 'subsample': np.linspace(0.4, 0.7, 3),\n",
    "            # 'colsample_bytree': np.linspace(0.4, 0.7, 3),\n",
    "        }"
   ]
  },
  {
   "cell_type": "code",
   "execution_count": 351,
   "metadata": {},
   "outputs": [],
   "source": [
    "# 经验参数\n",
    "xgb_param_experience = {\n",
    "            'max_depth': 2,\n",
    "            'min_samples_leaf ': 200,\n",
    "             'eta': 0.1,\n",
    "             'objective': 'binary:logistic',\n",
    "             'subsample': 0.8,\n",
    "             'colsample_bytree': 0.8,\n",
    "             'gamma': 0,\n",
    "             'silent': 0,\n",
    "             'eval_metric':'auc'\n",
    "              #'eval_metric':'precision'\n",
    "        }"
   ]
  },
  {
   "cell_type": "code",
   "execution_count": 297,
   "metadata": {},
   "outputs": [
    {
     "data": {
      "text/html": [
       "<div>\n",
       "<style scoped>\n",
       "    .dataframe tbody tr th:only-of-type {\n",
       "        vertical-align: middle;\n",
       "    }\n",
       "\n",
       "    .dataframe tbody tr th {\n",
       "        vertical-align: top;\n",
       "    }\n",
       "\n",
       "    .dataframe thead th {\n",
       "        text-align: right;\n",
       "    }\n",
       "</style>\n",
       "<table border=\"1\" class=\"dataframe\">\n",
       "  <thead>\n",
       "    <tr style=\"text-align: right;\">\n",
       "      <th></th>\n",
       "      <th>split</th>\n",
       "      <th>total</th>\n",
       "      <th>good</th>\n",
       "      <th>bad</th>\n",
       "      <th>rate</th>\n",
       "      <th>dist</th>\n",
       "    </tr>\n",
       "  </thead>\n",
       "  <tbody>\n",
       "    <tr>\n",
       "      <th>0</th>\n",
       "      <td>train</td>\n",
       "      <td>1584</td>\n",
       "      <td>966</td>\n",
       "      <td>618</td>\n",
       "      <td>0.390152</td>\n",
       "      <td>0.699647</td>\n",
       "    </tr>\n",
       "    <tr>\n",
       "      <th>1</th>\n",
       "      <td>test</td>\n",
       "      <td>680</td>\n",
       "      <td>401</td>\n",
       "      <td>279</td>\n",
       "      <td>0.410294</td>\n",
       "      <td>0.300353</td>\n",
       "    </tr>\n",
       "    <tr>\n",
       "      <th>2</th>\n",
       "      <td>sum</td>\n",
       "      <td>2264</td>\n",
       "      <td>1367</td>\n",
       "      <td>897</td>\n",
       "      <td>0.396201</td>\n",
       "      <td>1.000000</td>\n",
       "    </tr>\n",
       "  </tbody>\n",
       "</table>\n",
       "</div>"
      ],
      "text/plain": [
       "   split  total  good  bad      rate      dist\n",
       "0  train   1584   966  618  0.390152  0.699647\n",
       "1   test    680   401  279  0.410294  0.300353\n",
       "2    sum   2264  1367  897  0.396201  1.000000"
      ]
     },
     "execution_count": 297,
     "metadata": {},
     "output_type": "execute_result"
    }
   ],
   "source": [
    "sample_split_summary = ss.sample_split_summary(y_train_new,y_test_new)\n",
    "sample_split_summary"
   ]
  },
  {
   "cell_type": "code",
   "execution_count": 352,
   "metadata": {},
   "outputs": [],
   "source": [
    "xgbmodel_obj = ml.XGBModel(var_dict, data_path, result_path,\n",
    "                        'demo_xgb', y_train_new,\n",
    "                        y_test= y_test_new,\n",
    "                        params_selection_method=xgbparams_selection_method)"
   ]
  },
  {
   "cell_type": "code",
   "execution_count": 355,
   "metadata": {},
   "outputs": [
    {
     "data": {
      "text/plain": [
       "['XGBExp']"
      ]
     },
     "execution_count": 355,
     "metadata": {},
     "output_type": "execute_result"
    }
   ],
   "source": [
    "xgbparams_selection_method"
   ]
  },
  {
   "cell_type": "code",
   "execution_count": 354,
   "metadata": {},
   "outputs": [
    {
     "name": "stdout",
     "output_type": "stream",
     "text": [
      "[17:07:51] src/tree/updater_prune.cc:74: tree pruning end, 1 roots, 14 extra nodes, 0 pruned nodes, max_depth=3\n",
      "[17:07:51] src/tree/updater_prune.cc:74: tree pruning end, 1 roots, 12 extra nodes, 0 pruned nodes, max_depth=3\n",
      "[17:07:51] src/tree/updater_prune.cc:74: tree pruning end, 1 roots, 14 extra nodes, 0 pruned nodes, max_depth=3\n",
      "[17:07:51] src/tree/updater_prune.cc:74: tree pruning end, 1 roots, 12 extra nodes, 0 pruned nodes, max_depth=3\n",
      "[17:07:51] src/tree/updater_prune.cc:74: tree pruning end, 1 roots, 14 extra nodes, 0 pruned nodes, max_depth=3\n",
      "[0]\ttrain-auc:0.723551\ttest-auc:0.676255\n",
      "[17:07:51] src/tree/updater_prune.cc:74: tree pruning end, 1 roots, 14 extra nodes, 0 pruned nodes, max_depth=3\n",
      "[17:07:51] src/tree/updater_prune.cc:74: tree pruning end, 1 roots, 14 extra nodes, 0 pruned nodes, max_depth=3\n",
      "[17:07:51] src/tree/updater_prune.cc:74: tree pruning end, 1 roots, 14 extra nodes, 0 pruned nodes, max_depth=3\n",
      "[17:07:51] src/tree/updater_prune.cc:74: tree pruning end, 1 roots, 12 extra nodes, 0 pruned nodes, max_depth=3\n",
      "[17:07:51] src/tree/updater_prune.cc:74: tree pruning end, 1 roots, 14 extra nodes, 0 pruned nodes, max_depth=3\n",
      "[17:07:51] src/tree/updater_prune.cc:74: tree pruning end, 1 roots, 14 extra nodes, 0 pruned nodes, max_depth=3\n",
      "[17:07:51] src/tree/updater_prune.cc:74: tree pruning end, 1 roots, 12 extra nodes, 0 pruned nodes, max_depth=3\n",
      "[17:07:51] src/tree/updater_prune.cc:74: tree pruning end, 1 roots, 14 extra nodes, 0 pruned nodes, max_depth=3\n",
      "[17:07:51] src/tree/updater_prune.cc:74: tree pruning end, 1 roots, 12 extra nodes, 0 pruned nodes, max_depth=3\n",
      "[17:07:51] src/tree/updater_prune.cc:74: tree pruning end, 1 roots, 14 extra nodes, 0 pruned nodes, max_depth=3\n",
      "[17:07:51] src/tree/updater_prune.cc:74: tree pruning end, 1 roots, 14 extra nodes, 0 pruned nodes, max_depth=3\n",
      "[17:07:51] src/tree/updater_prune.cc:74: tree pruning end, 1 roots, 14 extra nodes, 0 pruned nodes, max_depth=3\n",
      "[17:07:51] src/tree/updater_prune.cc:74: tree pruning end, 1 roots, 12 extra nodes, 0 pruned nodes, max_depth=3\n",
      "[17:07:51] src/tree/updater_prune.cc:74: tree pruning end, 1 roots, 12 extra nodes, 0 pruned nodes, max_depth=3\n",
      "[17:07:51] src/tree/updater_prune.cc:74: tree pruning end, 1 roots, 12 extra nodes, 0 pruned nodes, max_depth=3\n",
      "[17:07:51] src/tree/updater_prune.cc:74: tree pruning end, 1 roots, 14 extra nodes, 0 pruned nodes, max_depth=3\n",
      "[17:07:51] src/tree/updater_prune.cc:74: tree pruning end, 1 roots, 14 extra nodes, 0 pruned nodes, max_depth=3\n",
      "[17:07:51] src/tree/updater_prune.cc:74: tree pruning end, 1 roots, 14 extra nodes, 0 pruned nodes, max_depth=3\n",
      "[17:07:51] src/tree/updater_prune.cc:74: tree pruning end, 1 roots, 14 extra nodes, 0 pruned nodes, max_depth=3\n",
      "[17:07:51] src/tree/updater_prune.cc:74: tree pruning end, 1 roots, 14 extra nodes, 0 pruned nodes, max_depth=3\n",
      "[17:07:51] src/tree/updater_prune.cc:74: tree pruning end, 1 roots, 14 extra nodes, 0 pruned nodes, max_depth=3\n",
      "[17:07:51] src/tree/updater_prune.cc:74: tree pruning end, 1 roots, 14 extra nodes, 0 pruned nodes, max_depth=3\n",
      "[17:07:51] src/tree/updater_prune.cc:74: tree pruning end, 1 roots, 14 extra nodes, 0 pruned nodes, max_depth=3\n",
      "[17:07:51] src/tree/updater_prune.cc:74: tree pruning end, 1 roots, 12 extra nodes, 0 pruned nodes, max_depth=3\n",
      "[17:07:51] src/tree/updater_prune.cc:74: tree pruning end, 1 roots, 14 extra nodes, 0 pruned nodes, max_depth=3\n",
      "[17:07:51] src/tree/updater_prune.cc:74: tree pruning end, 1 roots, 14 extra nodes, 0 pruned nodes, max_depth=3\n",
      "[17:07:51] src/tree/updater_prune.cc:74: tree pruning end, 1 roots, 14 extra nodes, 0 pruned nodes, max_depth=3\n",
      "[17:07:51] src/tree/updater_prune.cc:74: tree pruning end, 1 roots, 14 extra nodes, 0 pruned nodes, max_depth=3\n",
      "[17:07:51] src/tree/updater_prune.cc:74: tree pruning end, 1 roots, 14 extra nodes, 0 pruned nodes, max_depth=3\n",
      "[17:07:51] src/tree/updater_prune.cc:74: tree pruning end, 1 roots, 14 extra nodes, 0 pruned nodes, max_depth=3\n",
      "[17:07:51] src/tree/updater_prune.cc:74: tree pruning end, 1 roots, 14 extra nodes, 0 pruned nodes, max_depth=3\n",
      "[17:07:51] src/tree/updater_prune.cc:74: tree pruning end, 1 roots, 14 extra nodes, 0 pruned nodes, max_depth=3\n",
      "[17:07:51] src/tree/updater_prune.cc:74: tree pruning end, 1 roots, 12 extra nodes, 0 pruned nodes, max_depth=3\n",
      "[17:07:51] src/tree/updater_prune.cc:74: tree pruning end, 1 roots, 14 extra nodes, 0 pruned nodes, max_depth=3\n",
      "[17:07:51] src/tree/updater_prune.cc:74: tree pruning end, 1 roots, 14 extra nodes, 0 pruned nodes, max_depth=3\n",
      "[17:07:51] src/tree/updater_prune.cc:74: tree pruning end, 1 roots, 14 extra nodes, 0 pruned nodes, max_depth=3\n",
      "[17:07:51] src/tree/updater_prune.cc:74: tree pruning end, 1 roots, 14 extra nodes, 0 pruned nodes, max_depth=3\n",
      "[17:07:51] src/tree/updater_prune.cc:74: tree pruning end, 1 roots, 14 extra nodes, 0 pruned nodes, max_depth=3\n",
      "[17:07:51] src/tree/updater_prune.cc:74: tree pruning end, 1 roots, 12 extra nodes, 0 pruned nodes, max_depth=3\n",
      "[17:07:51] src/tree/updater_prune.cc:74: tree pruning end, 1 roots, 14 extra nodes, 0 pruned nodes, max_depth=3\n",
      "[17:07:51] src/tree/updater_prune.cc:74: tree pruning end, 1 roots, 14 extra nodes, 0 pruned nodes, max_depth=3\n",
      "[17:07:51] src/tree/updater_prune.cc:74: tree pruning end, 1 roots, 14 extra nodes, 0 pruned nodes, max_depth=3\n",
      "[17:07:51] src/tree/updater_prune.cc:74: tree pruning end, 1 roots, 14 extra nodes, 0 pruned nodes, max_depth=3\n",
      "[17:07:51] src/tree/updater_prune.cc:74: tree pruning end, 1 roots, 14 extra nodes, 0 pruned nodes, max_depth=3\n",
      "[17:07:51] src/tree/updater_prune.cc:74: tree pruning end, 1 roots, 14 extra nodes, 0 pruned nodes, max_depth=3\n",
      "[17:07:51] src/tree/updater_prune.cc:74: tree pruning end, 1 roots, 14 extra nodes, 0 pruned nodes, max_depth=3\n",
      "[17:07:51] src/tree/updater_prune.cc:74: tree pruning end, 1 roots, 14 extra nodes, 0 pruned nodes, max_depth=3\n",
      "[17:07:51] src/tree/updater_prune.cc:74: tree pruning end, 1 roots, 14 extra nodes, 0 pruned nodes, max_depth=3\n",
      "[17:07:52] src/tree/updater_prune.cc:74: tree pruning end, 1 roots, 14 extra nodes, 0 pruned nodes, max_depth=3\n",
      "[17:07:52] src/tree/updater_prune.cc:74: tree pruning end, 1 roots, 12 extra nodes, 0 pruned nodes, max_depth=3\n",
      "[10]\ttrain-auc:0.800936\ttest-auc:0.723157\n",
      "[17:07:52] src/tree/updater_prune.cc:74: tree pruning end, 1 roots, 14 extra nodes, 0 pruned nodes, max_depth=3\n",
      "[17:07:52] src/tree/updater_prune.cc:74: tree pruning end, 1 roots, 14 extra nodes, 0 pruned nodes, max_depth=3\n",
      "[17:07:52] src/tree/updater_prune.cc:74: tree pruning end, 1 roots, 12 extra nodes, 0 pruned nodes, max_depth=3\n",
      "[17:07:52] src/tree/updater_prune.cc:74: tree pruning end, 1 roots, 14 extra nodes, 0 pruned nodes, max_depth=3\n",
      "[17:07:52] src/tree/updater_prune.cc:74: tree pruning end, 1 roots, 14 extra nodes, 0 pruned nodes, max_depth=3\n",
      "[17:07:52] src/tree/updater_prune.cc:74: tree pruning end, 1 roots, 14 extra nodes, 0 pruned nodes, max_depth=3\n",
      "[17:07:52] src/tree/updater_prune.cc:74: tree pruning end, 1 roots, 14 extra nodes, 0 pruned nodes, max_depth=3\n",
      "[17:07:52] src/tree/updater_prune.cc:74: tree pruning end, 1 roots, 14 extra nodes, 0 pruned nodes, max_depth=3\n",
      "[17:07:52] src/tree/updater_prune.cc:74: tree pruning end, 1 roots, 14 extra nodes, 0 pruned nodes, max_depth=3\n",
      "[17:07:52] src/tree/updater_prune.cc:74: tree pruning end, 1 roots, 14 extra nodes, 0 pruned nodes, max_depth=3\n",
      "[17:07:52] src/tree/updater_prune.cc:74: tree pruning end, 1 roots, 14 extra nodes, 0 pruned nodes, max_depth=3\n",
      "[17:07:52] src/tree/updater_prune.cc:74: tree pruning end, 1 roots, 14 extra nodes, 0 pruned nodes, max_depth=3\n",
      "[17:07:52] src/tree/updater_prune.cc:74: tree pruning end, 1 roots, 14 extra nodes, 0 pruned nodes, max_depth=3\n",
      "[17:07:52] src/tree/updater_prune.cc:74: tree pruning end, 1 roots, 14 extra nodes, 0 pruned nodes, max_depth=3\n",
      "[17:07:52] src/tree/updater_prune.cc:74: tree pruning end, 1 roots, 14 extra nodes, 0 pruned nodes, max_depth=3\n",
      "[17:07:52] src/tree/updater_prune.cc:74: tree pruning end, 1 roots, 12 extra nodes, 0 pruned nodes, max_depth=3\n",
      "[17:07:52] src/tree/updater_prune.cc:74: tree pruning end, 1 roots, 14 extra nodes, 0 pruned nodes, max_depth=3\n",
      "[17:07:52] src/tree/updater_prune.cc:74: tree pruning end, 1 roots, 14 extra nodes, 0 pruned nodes, max_depth=3\n",
      "[17:07:52] src/tree/updater_prune.cc:74: tree pruning end, 1 roots, 14 extra nodes, 0 pruned nodes, max_depth=3\n",
      "[17:07:52] src/tree/updater_prune.cc:74: tree pruning end, 1 roots, 14 extra nodes, 0 pruned nodes, max_depth=3\n",
      "[17:07:52] src/tree/updater_prune.cc:74: tree pruning end, 1 roots, 14 extra nodes, 0 pruned nodes, max_depth=3\n",
      "[17:07:52] src/tree/updater_prune.cc:74: tree pruning end, 1 roots, 14 extra nodes, 0 pruned nodes, max_depth=3\n",
      "[17:07:52] src/tree/updater_prune.cc:74: tree pruning end, 1 roots, 14 extra nodes, 0 pruned nodes, max_depth=3\n",
      "[17:07:52] src/tree/updater_prune.cc:74: tree pruning end, 1 roots, 14 extra nodes, 0 pruned nodes, max_depth=3\n",
      "[17:07:52] src/tree/updater_prune.cc:74: tree pruning end, 1 roots, 14 extra nodes, 0 pruned nodes, max_depth=3\n",
      "[17:07:52] src/tree/updater_prune.cc:74: tree pruning end, 1 roots, 12 extra nodes, 0 pruned nodes, max_depth=3\n",
      "[17:07:52] src/tree/updater_prune.cc:74: tree pruning end, 1 roots, 14 extra nodes, 0 pruned nodes, max_depth=3\n",
      "[17:07:52] src/tree/updater_prune.cc:74: tree pruning end, 1 roots, 14 extra nodes, 0 pruned nodes, max_depth=3\n",
      "[17:07:52] src/tree/updater_prune.cc:74: tree pruning end, 1 roots, 14 extra nodes, 0 pruned nodes, max_depth=3\n",
      "[17:07:52] src/tree/updater_prune.cc:74: tree pruning end, 1 roots, 12 extra nodes, 0 pruned nodes, max_depth=3\n",
      "[17:07:52] src/tree/updater_prune.cc:74: tree pruning end, 1 roots, 14 extra nodes, 0 pruned nodes, max_depth=3\n",
      "[17:07:52] src/tree/updater_prune.cc:74: tree pruning end, 1 roots, 14 extra nodes, 0 pruned nodes, max_depth=3\n",
      "[17:07:52] src/tree/updater_prune.cc:74: tree pruning end, 1 roots, 14 extra nodes, 0 pruned nodes, max_depth=3\n",
      "[17:07:52] src/tree/updater_prune.cc:74: tree pruning end, 1 roots, 14 extra nodes, 0 pruned nodes, max_depth=3\n",
      "[17:07:52] src/tree/updater_prune.cc:74: tree pruning end, 1 roots, 14 extra nodes, 0 pruned nodes, max_depth=3\n",
      "[17:07:52] src/tree/updater_prune.cc:74: tree pruning end, 1 roots, 14 extra nodes, 0 pruned nodes, max_depth=3\n",
      "[17:07:52] src/tree/updater_prune.cc:74: tree pruning end, 1 roots, 12 extra nodes, 0 pruned nodes, max_depth=3\n",
      "[17:07:52] src/tree/updater_prune.cc:74: tree pruning end, 1 roots, 14 extra nodes, 0 pruned nodes, max_depth=3\n",
      "[17:07:52] src/tree/updater_prune.cc:74: tree pruning end, 1 roots, 14 extra nodes, 0 pruned nodes, max_depth=3\n",
      "[17:07:52] src/tree/updater_prune.cc:74: tree pruning end, 1 roots, 14 extra nodes, 0 pruned nodes, max_depth=3\n",
      "[17:07:52] src/tree/updater_prune.cc:74: tree pruning end, 1 roots, 14 extra nodes, 0 pruned nodes, max_depth=3\n",
      "[17:07:52] src/tree/updater_prune.cc:74: tree pruning end, 1 roots, 14 extra nodes, 0 pruned nodes, max_depth=3\n",
      "[17:07:52] src/tree/updater_prune.cc:74: tree pruning end, 1 roots, 14 extra nodes, 0 pruned nodes, max_depth=3\n",
      "[17:07:52] src/tree/updater_prune.cc:74: tree pruning end, 1 roots, 12 extra nodes, 0 pruned nodes, max_depth=3\n",
      "[17:07:52] src/tree/updater_prune.cc:74: tree pruning end, 1 roots, 14 extra nodes, 0 pruned nodes, max_depth=3\n",
      "[17:07:52] src/tree/updater_prune.cc:74: tree pruning end, 1 roots, 14 extra nodes, 0 pruned nodes, max_depth=3\n",
      "[17:07:52] src/tree/updater_prune.cc:74: tree pruning end, 1 roots, 14 extra nodes, 0 pruned nodes, max_depth=3\n",
      "[17:07:52] src/tree/updater_prune.cc:74: tree pruning end, 1 roots, 14 extra nodes, 0 pruned nodes, max_depth=3\n",
      "[17:07:52] src/tree/updater_prune.cc:74: tree pruning end, 1 roots, 14 extra nodes, 0 pruned nodes, max_depth=3\n",
      "[17:07:52] src/tree/updater_prune.cc:74: tree pruning end, 1 roots, 14 extra nodes, 0 pruned nodes, max_depth=3\n",
      "[20]\ttrain-auc:0.83449\ttest-auc:0.734172\n"
     ]
    },
    {
     "name": "stdout",
     "output_type": "stream",
     "text": [
      "[17:07:52] src/tree/updater_prune.cc:74: tree pruning end, 1 roots, 14 extra nodes, 0 pruned nodes, max_depth=3\n",
      "[17:07:52] src/tree/updater_prune.cc:74: tree pruning end, 1 roots, 14 extra nodes, 0 pruned nodes, max_depth=3\n",
      "[17:07:52] src/tree/updater_prune.cc:74: tree pruning end, 1 roots, 14 extra nodes, 0 pruned nodes, max_depth=3\n",
      "[17:07:52] src/tree/updater_prune.cc:74: tree pruning end, 1 roots, 14 extra nodes, 0 pruned nodes, max_depth=3\n",
      "[17:07:52] src/tree/updater_prune.cc:74: tree pruning end, 1 roots, 12 extra nodes, 0 pruned nodes, max_depth=3\n",
      "[17:07:52] src/tree/updater_prune.cc:74: tree pruning end, 1 roots, 12 extra nodes, 0 pruned nodes, max_depth=3\n",
      "[17:07:52] src/tree/updater_prune.cc:74: tree pruning end, 1 roots, 12 extra nodes, 0 pruned nodes, max_depth=3\n",
      "[17:07:52] src/tree/updater_prune.cc:74: tree pruning end, 1 roots, 14 extra nodes, 0 pruned nodes, max_depth=3\n",
      "[17:07:52] src/tree/updater_prune.cc:74: tree pruning end, 1 roots, 14 extra nodes, 0 pruned nodes, max_depth=3\n",
      "[17:07:52] src/tree/updater_prune.cc:74: tree pruning end, 1 roots, 14 extra nodes, 0 pruned nodes, max_depth=3\n",
      "[17:07:52] src/tree/updater_prune.cc:74: tree pruning end, 1 roots, 14 extra nodes, 0 pruned nodes, max_depth=3\n",
      "[17:07:52] src/tree/updater_prune.cc:74: tree pruning end, 1 roots, 14 extra nodes, 0 pruned nodes, max_depth=3\n",
      "[17:07:52] src/tree/updater_prune.cc:74: tree pruning end, 1 roots, 14 extra nodes, 0 pruned nodes, max_depth=3\n",
      "[17:07:52] src/tree/updater_prune.cc:74: tree pruning end, 1 roots, 14 extra nodes, 0 pruned nodes, max_depth=3\n",
      "[17:07:52] src/tree/updater_prune.cc:74: tree pruning end, 1 roots, 14 extra nodes, 0 pruned nodes, max_depth=3\n",
      "[17:07:52] src/tree/updater_prune.cc:74: tree pruning end, 1 roots, 14 extra nodes, 0 pruned nodes, max_depth=3\n",
      "[17:07:52] src/tree/updater_prune.cc:74: tree pruning end, 1 roots, 12 extra nodes, 0 pruned nodes, max_depth=3\n",
      "[17:07:52] src/tree/updater_prune.cc:74: tree pruning end, 1 roots, 14 extra nodes, 0 pruned nodes, max_depth=3\n",
      "[17:07:52] src/tree/updater_prune.cc:74: tree pruning end, 1 roots, 12 extra nodes, 0 pruned nodes, max_depth=3\n",
      "[17:07:52] src/tree/updater_prune.cc:74: tree pruning end, 1 roots, 14 extra nodes, 0 pruned nodes, max_depth=3\n",
      "[17:07:52] src/tree/updater_prune.cc:74: tree pruning end, 1 roots, 14 extra nodes, 0 pruned nodes, max_depth=3\n",
      "[17:07:52] src/tree/updater_prune.cc:74: tree pruning end, 1 roots, 14 extra nodes, 0 pruned nodes, max_depth=3\n",
      "[17:07:52] src/tree/updater_prune.cc:74: tree pruning end, 1 roots, 12 extra nodes, 0 pruned nodes, max_depth=3\n",
      "[17:07:52] src/tree/updater_prune.cc:74: tree pruning end, 1 roots, 14 extra nodes, 0 pruned nodes, max_depth=3\n",
      "[17:07:52] src/tree/updater_prune.cc:74: tree pruning end, 1 roots, 14 extra nodes, 0 pruned nodes, max_depth=3\n",
      "[17:07:52] src/tree/updater_prune.cc:74: tree pruning end, 1 roots, 14 extra nodes, 0 pruned nodes, max_depth=3\n",
      "[17:07:52] src/tree/updater_prune.cc:74: tree pruning end, 1 roots, 14 extra nodes, 0 pruned nodes, max_depth=3\n",
      "[17:07:52] src/tree/updater_prune.cc:74: tree pruning end, 1 roots, 14 extra nodes, 0 pruned nodes, max_depth=3\n",
      "[17:07:52] src/tree/updater_prune.cc:74: tree pruning end, 1 roots, 14 extra nodes, 0 pruned nodes, max_depth=3\n",
      "[17:07:52] src/tree/updater_prune.cc:74: tree pruning end, 1 roots, 14 extra nodes, 0 pruned nodes, max_depth=3\n",
      "[17:07:52] src/tree/updater_prune.cc:74: tree pruning end, 1 roots, 14 extra nodes, 0 pruned nodes, max_depth=3\n",
      "[17:07:52] src/tree/updater_prune.cc:74: tree pruning end, 1 roots, 14 extra nodes, 0 pruned nodes, max_depth=3\n",
      "[17:07:52] src/tree/updater_prune.cc:74: tree pruning end, 1 roots, 14 extra nodes, 0 pruned nodes, max_depth=3\n",
      "[17:07:52] src/tree/updater_prune.cc:74: tree pruning end, 1 roots, 12 extra nodes, 0 pruned nodes, max_depth=3\n",
      "[17:07:52] src/tree/updater_prune.cc:74: tree pruning end, 1 roots, 14 extra nodes, 0 pruned nodes, max_depth=3\n",
      "[17:07:52] src/tree/updater_prune.cc:74: tree pruning end, 1 roots, 14 extra nodes, 0 pruned nodes, max_depth=3\n",
      "[17:07:52] src/tree/updater_prune.cc:74: tree pruning end, 1 roots, 14 extra nodes, 0 pruned nodes, max_depth=3\n",
      "[17:07:52] src/tree/updater_prune.cc:74: tree pruning end, 1 roots, 14 extra nodes, 0 pruned nodes, max_depth=3\n",
      "[17:07:52] src/tree/updater_prune.cc:74: tree pruning end, 1 roots, 14 extra nodes, 0 pruned nodes, max_depth=3\n",
      "[17:07:52] src/tree/updater_prune.cc:74: tree pruning end, 1 roots, 14 extra nodes, 0 pruned nodes, max_depth=3\n",
      "[17:07:52] src/tree/updater_prune.cc:74: tree pruning end, 1 roots, 12 extra nodes, 0 pruned nodes, max_depth=3\n",
      "[17:07:52] src/tree/updater_prune.cc:74: tree pruning end, 1 roots, 14 extra nodes, 0 pruned nodes, max_depth=3\n",
      "[17:07:52] src/tree/updater_prune.cc:74: tree pruning end, 1 roots, 14 extra nodes, 0 pruned nodes, max_depth=3\n",
      "[17:07:52] src/tree/updater_prune.cc:74: tree pruning end, 1 roots, 14 extra nodes, 0 pruned nodes, max_depth=3\n",
      "[17:07:52] src/tree/updater_prune.cc:74: tree pruning end, 1 roots, 14 extra nodes, 0 pruned nodes, max_depth=3\n",
      "[17:07:52] src/tree/updater_prune.cc:74: tree pruning end, 1 roots, 14 extra nodes, 0 pruned nodes, max_depth=3\n",
      "[17:07:52] src/tree/updater_prune.cc:74: tree pruning end, 1 roots, 12 extra nodes, 0 pruned nodes, max_depth=3\n",
      "[17:07:52] src/tree/updater_prune.cc:74: tree pruning end, 1 roots, 12 extra nodes, 0 pruned nodes, max_depth=3\n",
      "[17:07:52] src/tree/updater_prune.cc:74: tree pruning end, 1 roots, 14 extra nodes, 0 pruned nodes, max_depth=3\n",
      "[17:07:52] src/tree/updater_prune.cc:74: tree pruning end, 1 roots, 14 extra nodes, 0 pruned nodes, max_depth=3\n",
      "[30]\ttrain-auc:0.858942\ttest-auc:0.738081\n",
      "[17:07:52] src/tree/updater_prune.cc:74: tree pruning end, 1 roots, 12 extra nodes, 0 pruned nodes, max_depth=3\n",
      "[17:07:52] src/tree/updater_prune.cc:74: tree pruning end, 1 roots, 12 extra nodes, 0 pruned nodes, max_depth=3\n",
      "[17:07:52] src/tree/updater_prune.cc:74: tree pruning end, 1 roots, 14 extra nodes, 0 pruned nodes, max_depth=3\n",
      "[17:07:52] src/tree/updater_prune.cc:74: tree pruning end, 1 roots, 14 extra nodes, 0 pruned nodes, max_depth=3\n",
      "[17:07:52] src/tree/updater_prune.cc:74: tree pruning end, 1 roots, 14 extra nodes, 0 pruned nodes, max_depth=3\n",
      "[17:07:52] src/tree/updater_prune.cc:74: tree pruning end, 1 roots, 12 extra nodes, 0 pruned nodes, max_depth=3\n",
      "[17:07:52] src/tree/updater_prune.cc:74: tree pruning end, 1 roots, 14 extra nodes, 0 pruned nodes, max_depth=3\n",
      "[17:07:52] src/tree/updater_prune.cc:74: tree pruning end, 1 roots, 14 extra nodes, 0 pruned nodes, max_depth=3\n",
      "[17:07:52] src/tree/updater_prune.cc:74: tree pruning end, 1 roots, 14 extra nodes, 0 pruned nodes, max_depth=3\n",
      "[17:07:52] src/tree/updater_prune.cc:74: tree pruning end, 1 roots, 10 extra nodes, 0 pruned nodes, max_depth=3\n",
      "[17:07:52] src/tree/updater_prune.cc:74: tree pruning end, 1 roots, 12 extra nodes, 0 pruned nodes, max_depth=3\n",
      "[17:07:52] src/tree/updater_prune.cc:74: tree pruning end, 1 roots, 14 extra nodes, 0 pruned nodes, max_depth=3\n",
      "[17:07:52] src/tree/updater_prune.cc:74: tree pruning end, 1 roots, 14 extra nodes, 0 pruned nodes, max_depth=3\n",
      "[17:07:52] src/tree/updater_prune.cc:74: tree pruning end, 1 roots, 8 extra nodes, 0 pruned nodes, max_depth=3\n",
      "[17:07:52] src/tree/updater_prune.cc:74: tree pruning end, 1 roots, 14 extra nodes, 0 pruned nodes, max_depth=3\n",
      "[17:07:52] src/tree/updater_prune.cc:74: tree pruning end, 1 roots, 14 extra nodes, 0 pruned nodes, max_depth=3\n",
      "[17:07:52] src/tree/updater_prune.cc:74: tree pruning end, 1 roots, 14 extra nodes, 0 pruned nodes, max_depth=3\n",
      "[17:07:52] src/tree/updater_prune.cc:74: tree pruning end, 1 roots, 14 extra nodes, 0 pruned nodes, max_depth=3\n",
      "[17:07:52] src/tree/updater_prune.cc:74: tree pruning end, 1 roots, 14 extra nodes, 0 pruned nodes, max_depth=3\n",
      "[17:07:52] src/tree/updater_prune.cc:74: tree pruning end, 1 roots, 14 extra nodes, 0 pruned nodes, max_depth=3\n",
      "[17:07:52] src/tree/updater_prune.cc:74: tree pruning end, 1 roots, 14 extra nodes, 0 pruned nodes, max_depth=3\n",
      "[17:07:52] src/tree/updater_prune.cc:74: tree pruning end, 1 roots, 14 extra nodes, 0 pruned nodes, max_depth=3\n",
      "[17:07:52] src/tree/updater_prune.cc:74: tree pruning end, 1 roots, 14 extra nodes, 0 pruned nodes, max_depth=3\n",
      "[17:07:52] src/tree/updater_prune.cc:74: tree pruning end, 1 roots, 14 extra nodes, 0 pruned nodes, max_depth=3\n",
      "[17:07:52] src/tree/updater_prune.cc:74: tree pruning end, 1 roots, 14 extra nodes, 0 pruned nodes, max_depth=3\n",
      "[17:07:52] src/tree/updater_prune.cc:74: tree pruning end, 1 roots, 14 extra nodes, 0 pruned nodes, max_depth=3\n",
      "[17:07:52] src/tree/updater_prune.cc:74: tree pruning end, 1 roots, 14 extra nodes, 0 pruned nodes, max_depth=3\n",
      "[17:07:52] src/tree/updater_prune.cc:74: tree pruning end, 1 roots, 14 extra nodes, 0 pruned nodes, max_depth=3\n",
      "[17:07:52] src/tree/updater_prune.cc:74: tree pruning end, 1 roots, 14 extra nodes, 0 pruned nodes, max_depth=3\n",
      "[17:07:52] src/tree/updater_prune.cc:74: tree pruning end, 1 roots, 10 extra nodes, 0 pruned nodes, max_depth=3\n",
      "[17:07:52] src/tree/updater_prune.cc:74: tree pruning end, 1 roots, 14 extra nodes, 0 pruned nodes, max_depth=3\n",
      "[17:07:52] src/tree/updater_prune.cc:74: tree pruning end, 1 roots, 14 extra nodes, 0 pruned nodes, max_depth=3\n",
      "[17:07:52] src/tree/updater_prune.cc:74: tree pruning end, 1 roots, 14 extra nodes, 0 pruned nodes, max_depth=3\n",
      "[17:07:52] src/tree/updater_prune.cc:74: tree pruning end, 1 roots, 8 extra nodes, 0 pruned nodes, max_depth=3\n",
      "[17:07:52] src/tree/updater_prune.cc:74: tree pruning end, 1 roots, 14 extra nodes, 0 pruned nodes, max_depth=3\n",
      "[17:07:52] src/tree/updater_prune.cc:74: tree pruning end, 1 roots, 12 extra nodes, 0 pruned nodes, max_depth=3\n",
      "[17:07:52] src/tree/updater_prune.cc:74: tree pruning end, 1 roots, 14 extra nodes, 0 pruned nodes, max_depth=3\n",
      "[17:07:52] src/tree/updater_prune.cc:74: tree pruning end, 1 roots, 8 extra nodes, 0 pruned nodes, max_depth=3\n",
      "[17:07:52] src/tree/updater_prune.cc:74: tree pruning end, 1 roots, 12 extra nodes, 0 pruned nodes, max_depth=3\n",
      "[17:07:52] src/tree/updater_prune.cc:74: tree pruning end, 1 roots, 14 extra nodes, 0 pruned nodes, max_depth=3\n",
      "[17:07:52] src/tree/updater_prune.cc:74: tree pruning end, 1 roots, 14 extra nodes, 0 pruned nodes, max_depth=3\n",
      "[17:07:52] src/tree/updater_prune.cc:74: tree pruning end, 1 roots, 14 extra nodes, 0 pruned nodes, max_depth=3\n",
      "[17:07:52] src/tree/updater_prune.cc:74: tree pruning end, 1 roots, 14 extra nodes, 0 pruned nodes, max_depth=3\n",
      "[17:07:52] src/tree/updater_prune.cc:74: tree pruning end, 1 roots, 14 extra nodes, 0 pruned nodes, max_depth=3\n",
      "[17:07:52] src/tree/updater_prune.cc:74: tree pruning end, 1 roots, 12 extra nodes, 0 pruned nodes, max_depth=3\n",
      "[17:07:52] src/tree/updater_prune.cc:74: tree pruning end, 1 roots, 14 extra nodes, 0 pruned nodes, max_depth=3\n",
      "[17:07:52] src/tree/updater_prune.cc:74: tree pruning end, 1 roots, 10 extra nodes, 0 pruned nodes, max_depth=3\n",
      "[17:07:52] src/tree/updater_prune.cc:74: tree pruning end, 1 roots, 12 extra nodes, 0 pruned nodes, max_depth=3\n",
      "[17:07:52] src/tree/updater_prune.cc:74: tree pruning end, 1 roots, 12 extra nodes, 0 pruned nodes, max_depth=3\n",
      "[17:07:52] src/tree/updater_prune.cc:74: tree pruning end, 1 roots, 14 extra nodes, 0 pruned nodes, max_depth=3\n",
      "[40]\ttrain-auc:0.877607\ttest-auc:0.739217\n"
     ]
    },
    {
     "name": "stdout",
     "output_type": "stream",
     "text": [
      "[17:07:52] src/tree/updater_prune.cc:74: tree pruning end, 1 roots, 14 extra nodes, 0 pruned nodes, max_depth=3\n",
      "[17:07:52] src/tree/updater_prune.cc:74: tree pruning end, 1 roots, 14 extra nodes, 0 pruned nodes, max_depth=3\n",
      "[17:07:52] src/tree/updater_prune.cc:74: tree pruning end, 1 roots, 14 extra nodes, 0 pruned nodes, max_depth=3\n",
      "[17:07:52] src/tree/updater_prune.cc:74: tree pruning end, 1 roots, 14 extra nodes, 0 pruned nodes, max_depth=3\n",
      "[17:07:52] src/tree/updater_prune.cc:74: tree pruning end, 1 roots, 14 extra nodes, 0 pruned nodes, max_depth=3\n",
      "[17:07:52] src/tree/updater_prune.cc:74: tree pruning end, 1 roots, 8 extra nodes, 0 pruned nodes, max_depth=3\n",
      "[17:07:52] src/tree/updater_prune.cc:74: tree pruning end, 1 roots, 14 extra nodes, 0 pruned nodes, max_depth=3\n",
      "[17:07:52] src/tree/updater_prune.cc:74: tree pruning end, 1 roots, 14 extra nodes, 0 pruned nodes, max_depth=3\n",
      "[17:07:52] src/tree/updater_prune.cc:74: tree pruning end, 1 roots, 8 extra nodes, 0 pruned nodes, max_depth=3\n",
      "[17:07:52] src/tree/updater_prune.cc:74: tree pruning end, 1 roots, 10 extra nodes, 0 pruned nodes, max_depth=3\n",
      "[17:07:52] src/tree/updater_prune.cc:74: tree pruning end, 1 roots, 12 extra nodes, 0 pruned nodes, max_depth=3\n",
      "[17:07:52] src/tree/updater_prune.cc:74: tree pruning end, 1 roots, 14 extra nodes, 0 pruned nodes, max_depth=3\n",
      "[17:07:52] src/tree/updater_prune.cc:74: tree pruning end, 1 roots, 12 extra nodes, 0 pruned nodes, max_depth=3\n",
      "[17:07:52] src/tree/updater_prune.cc:74: tree pruning end, 1 roots, 14 extra nodes, 0 pruned nodes, max_depth=3\n",
      "[17:07:52] src/tree/updater_prune.cc:74: tree pruning end, 1 roots, 14 extra nodes, 0 pruned nodes, max_depth=3\n",
      "[17:07:52] src/tree/updater_prune.cc:74: tree pruning end, 1 roots, 14 extra nodes, 0 pruned nodes, max_depth=3\n",
      "[17:07:52] src/tree/updater_prune.cc:74: tree pruning end, 1 roots, 14 extra nodes, 0 pruned nodes, max_depth=3\n",
      "[17:07:52] src/tree/updater_prune.cc:74: tree pruning end, 1 roots, 14 extra nodes, 0 pruned nodes, max_depth=3\n",
      "[17:07:52] src/tree/updater_prune.cc:74: tree pruning end, 1 roots, 10 extra nodes, 0 pruned nodes, max_depth=3\n",
      "[17:07:52] src/tree/updater_prune.cc:74: tree pruning end, 1 roots, 14 extra nodes, 0 pruned nodes, max_depth=3\n",
      "[17:07:52] src/tree/updater_prune.cc:74: tree pruning end, 1 roots, 14 extra nodes, 0 pruned nodes, max_depth=3\n",
      "[17:07:52] src/tree/updater_prune.cc:74: tree pruning end, 1 roots, 12 extra nodes, 0 pruned nodes, max_depth=3\n",
      "[17:07:52] src/tree/updater_prune.cc:74: tree pruning end, 1 roots, 8 extra nodes, 0 pruned nodes, max_depth=3\n",
      "[17:07:52] src/tree/updater_prune.cc:74: tree pruning end, 1 roots, 14 extra nodes, 0 pruned nodes, max_depth=3\n",
      "[17:07:52] src/tree/updater_prune.cc:74: tree pruning end, 1 roots, 14 extra nodes, 0 pruned nodes, max_depth=3\n",
      "[17:07:52] src/tree/updater_prune.cc:74: tree pruning end, 1 roots, 12 extra nodes, 0 pruned nodes, max_depth=3\n",
      "[17:07:52] src/tree/updater_prune.cc:74: tree pruning end, 1 roots, 10 extra nodes, 0 pruned nodes, max_depth=3\n",
      "[17:07:52] src/tree/updater_prune.cc:74: tree pruning end, 1 roots, 14 extra nodes, 0 pruned nodes, max_depth=3\n",
      "[17:07:52] src/tree/updater_prune.cc:74: tree pruning end, 1 roots, 10 extra nodes, 0 pruned nodes, max_depth=3\n",
      "[17:07:52] src/tree/updater_prune.cc:74: tree pruning end, 1 roots, 14 extra nodes, 0 pruned nodes, max_depth=3\n",
      "[17:07:52] src/tree/updater_prune.cc:74: tree pruning end, 1 roots, 14 extra nodes, 0 pruned nodes, max_depth=3\n",
      "[17:07:52] src/tree/updater_prune.cc:74: tree pruning end, 1 roots, 12 extra nodes, 0 pruned nodes, max_depth=3\n",
      "[17:07:52] src/tree/updater_prune.cc:74: tree pruning end, 1 roots, 14 extra nodes, 0 pruned nodes, max_depth=3\n",
      "[17:07:52] src/tree/updater_prune.cc:74: tree pruning end, 1 roots, 14 extra nodes, 0 pruned nodes, max_depth=3\n",
      "[17:07:52] src/tree/updater_prune.cc:74: tree pruning end, 1 roots, 14 extra nodes, 0 pruned nodes, max_depth=3\n",
      "[17:07:52] src/tree/updater_prune.cc:74: tree pruning end, 1 roots, 8 extra nodes, 0 pruned nodes, max_depth=3\n",
      "[17:07:52] src/tree/updater_prune.cc:74: tree pruning end, 1 roots, 14 extra nodes, 0 pruned nodes, max_depth=3\n",
      "[17:07:52] src/tree/updater_prune.cc:74: tree pruning end, 1 roots, 14 extra nodes, 0 pruned nodes, max_depth=3\n",
      "[17:07:52] src/tree/updater_prune.cc:74: tree pruning end, 1 roots, 14 extra nodes, 0 pruned nodes, max_depth=3\n",
      "[17:07:52] src/tree/updater_prune.cc:74: tree pruning end, 1 roots, 14 extra nodes, 0 pruned nodes, max_depth=3\n",
      "[17:07:52] src/tree/updater_prune.cc:74: tree pruning end, 1 roots, 14 extra nodes, 0 pruned nodes, max_depth=3\n",
      "[17:07:52] src/tree/updater_prune.cc:74: tree pruning end, 1 roots, 14 extra nodes, 0 pruned nodes, max_depth=3\n",
      "[17:07:52] src/tree/updater_prune.cc:74: tree pruning end, 1 roots, 14 extra nodes, 0 pruned nodes, max_depth=3\n",
      "[17:07:52] src/tree/updater_prune.cc:74: tree pruning end, 1 roots, 14 extra nodes, 0 pruned nodes, max_depth=3\n",
      "[17:07:52] src/tree/updater_prune.cc:74: tree pruning end, 1 roots, 10 extra nodes, 0 pruned nodes, max_depth=3\n",
      "[17:07:52] src/tree/updater_prune.cc:74: tree pruning end, 1 roots, 12 extra nodes, 0 pruned nodes, max_depth=3\n",
      "[17:07:52] src/tree/updater_prune.cc:74: tree pruning end, 1 roots, 14 extra nodes, 0 pruned nodes, max_depth=3\n",
      "[17:07:52] src/tree/updater_prune.cc:74: tree pruning end, 1 roots, 8 extra nodes, 0 pruned nodes, max_depth=3\n",
      "[17:07:52] src/tree/updater_prune.cc:74: tree pruning end, 1 roots, 8 extra nodes, 0 pruned nodes, max_depth=3\n",
      "[17:07:52] src/tree/updater_prune.cc:74: tree pruning end, 1 roots, 12 extra nodes, 0 pruned nodes, max_depth=3\n",
      "[50]\ttrain-auc:0.893038\ttest-auc:0.737768\n",
      "[17:07:52] src/tree/updater_prune.cc:74: tree pruning end, 1 roots, 14 extra nodes, 0 pruned nodes, max_depth=3\n",
      "[17:07:52] src/tree/updater_prune.cc:74: tree pruning end, 1 roots, 14 extra nodes, 0 pruned nodes, max_depth=3\n",
      "[17:07:52] src/tree/updater_prune.cc:74: tree pruning end, 1 roots, 14 extra nodes, 0 pruned nodes, max_depth=3\n",
      "[17:07:52] src/tree/updater_prune.cc:74: tree pruning end, 1 roots, 14 extra nodes, 0 pruned nodes, max_depth=3\n",
      "[17:07:52] src/tree/updater_prune.cc:74: tree pruning end, 1 roots, 14 extra nodes, 0 pruned nodes, max_depth=3\n",
      "[17:07:52] src/tree/updater_prune.cc:74: tree pruning end, 1 roots, 14 extra nodes, 0 pruned nodes, max_depth=3\n",
      "[17:07:52] src/tree/updater_prune.cc:74: tree pruning end, 1 roots, 14 extra nodes, 0 pruned nodes, max_depth=3\n",
      "[17:07:52] src/tree/updater_prune.cc:74: tree pruning end, 1 roots, 14 extra nodes, 0 pruned nodes, max_depth=3\n",
      "[17:07:52] src/tree/updater_prune.cc:74: tree pruning end, 1 roots, 14 extra nodes, 0 pruned nodes, max_depth=3\n",
      "[17:07:52] src/tree/updater_prune.cc:74: tree pruning end, 1 roots, 10 extra nodes, 0 pruned nodes, max_depth=3\n",
      "[17:07:52] src/tree/updater_prune.cc:74: tree pruning end, 1 roots, 10 extra nodes, 0 pruned nodes, max_depth=3\n",
      "[17:07:52] src/tree/updater_prune.cc:74: tree pruning end, 1 roots, 14 extra nodes, 0 pruned nodes, max_depth=3\n",
      "[17:07:52] src/tree/updater_prune.cc:74: tree pruning end, 1 roots, 14 extra nodes, 0 pruned nodes, max_depth=3\n",
      "[17:07:52] src/tree/updater_prune.cc:74: tree pruning end, 1 roots, 14 extra nodes, 0 pruned nodes, max_depth=3\n",
      "[17:07:52] src/tree/updater_prune.cc:74: tree pruning end, 1 roots, 14 extra nodes, 0 pruned nodes, max_depth=3\n",
      "[17:07:52] src/tree/updater_prune.cc:74: tree pruning end, 1 roots, 8 extra nodes, 0 pruned nodes, max_depth=3\n",
      "[17:07:52] src/tree/updater_prune.cc:74: tree pruning end, 1 roots, 14 extra nodes, 0 pruned nodes, max_depth=3\n",
      "[17:07:52] src/tree/updater_prune.cc:74: tree pruning end, 1 roots, 12 extra nodes, 0 pruned nodes, max_depth=3\n",
      "[17:07:52] src/tree/updater_prune.cc:74: tree pruning end, 1 roots, 14 extra nodes, 0 pruned nodes, max_depth=3\n",
      "[17:07:52] src/tree/updater_prune.cc:74: tree pruning end, 1 roots, 14 extra nodes, 0 pruned nodes, max_depth=3\n",
      "[17:07:52] src/tree/updater_prune.cc:74: tree pruning end, 1 roots, 14 extra nodes, 0 pruned nodes, max_depth=3\n",
      "[17:07:52] src/tree/updater_prune.cc:74: tree pruning end, 1 roots, 14 extra nodes, 0 pruned nodes, max_depth=3\n",
      "[17:07:52] src/tree/updater_prune.cc:74: tree pruning end, 1 roots, 14 extra nodes, 0 pruned nodes, max_depth=3\n",
      "[17:07:52] src/tree/updater_prune.cc:74: tree pruning end, 1 roots, 14 extra nodes, 0 pruned nodes, max_depth=3\n",
      "[17:07:52] src/tree/updater_prune.cc:74: tree pruning end, 1 roots, 14 extra nodes, 0 pruned nodes, max_depth=3\n",
      "[17:07:52] src/tree/updater_prune.cc:74: tree pruning end, 1 roots, 10 extra nodes, 0 pruned nodes, max_depth=3\n",
      "[17:07:52] src/tree/updater_prune.cc:74: tree pruning end, 1 roots, 12 extra nodes, 0 pruned nodes, max_depth=3\n",
      "[17:07:52] src/tree/updater_prune.cc:74: tree pruning end, 1 roots, 14 extra nodes, 0 pruned nodes, max_depth=3\n",
      "[17:07:52] src/tree/updater_prune.cc:74: tree pruning end, 1 roots, 14 extra nodes, 0 pruned nodes, max_depth=3\n",
      "[17:07:52] src/tree/updater_prune.cc:74: tree pruning end, 1 roots, 14 extra nodes, 0 pruned nodes, max_depth=3\n",
      "[17:07:52] src/tree/updater_prune.cc:74: tree pruning end, 1 roots, 10 extra nodes, 0 pruned nodes, max_depth=3\n",
      "[17:07:52] src/tree/updater_prune.cc:74: tree pruning end, 1 roots, 14 extra nodes, 0 pruned nodes, max_depth=3\n",
      "[17:07:52] src/tree/updater_prune.cc:74: tree pruning end, 1 roots, 8 extra nodes, 0 pruned nodes, max_depth=3\n",
      "[17:07:52] src/tree/updater_prune.cc:74: tree pruning end, 1 roots, 12 extra nodes, 0 pruned nodes, max_depth=3\n",
      "[17:07:52] src/tree/updater_prune.cc:74: tree pruning end, 1 roots, 10 extra nodes, 0 pruned nodes, max_depth=3\n",
      "[17:07:52] src/tree/updater_prune.cc:74: tree pruning end, 1 roots, 12 extra nodes, 0 pruned nodes, max_depth=3\n",
      "[17:07:52] src/tree/updater_prune.cc:74: tree pruning end, 1 roots, 14 extra nodes, 0 pruned nodes, max_depth=3\n",
      "[17:07:52] src/tree/updater_prune.cc:74: tree pruning end, 1 roots, 14 extra nodes, 0 pruned nodes, max_depth=3\n",
      "[17:07:52] src/tree/updater_prune.cc:74: tree pruning end, 1 roots, 8 extra nodes, 0 pruned nodes, max_depth=3\n",
      "[17:07:52] src/tree/updater_prune.cc:74: tree pruning end, 1 roots, 8 extra nodes, 0 pruned nodes, max_depth=3\n",
      "[17:07:52] src/tree/updater_prune.cc:74: tree pruning end, 1 roots, 14 extra nodes, 0 pruned nodes, max_depth=3\n",
      "[17:07:52] src/tree/updater_prune.cc:74: tree pruning end, 1 roots, 8 extra nodes, 0 pruned nodes, max_depth=3\n",
      "[17:07:52] src/tree/updater_prune.cc:74: tree pruning end, 1 roots, 14 extra nodes, 0 pruned nodes, max_depth=3\n",
      "[17:07:52] src/tree/updater_prune.cc:74: tree pruning end, 1 roots, 14 extra nodes, 0 pruned nodes, max_depth=3\n",
      "[17:07:52] src/tree/updater_prune.cc:74: tree pruning end, 1 roots, 12 extra nodes, 0 pruned nodes, max_depth=3\n",
      "[17:07:52] src/tree/updater_prune.cc:74: tree pruning end, 1 roots, 8 extra nodes, 0 pruned nodes, max_depth=3\n",
      "[17:07:52] src/tree/updater_prune.cc:74: tree pruning end, 1 roots, 14 extra nodes, 0 pruned nodes, max_depth=3\n",
      "[17:07:52] src/tree/updater_prune.cc:74: tree pruning end, 1 roots, 8 extra nodes, 0 pruned nodes, max_depth=3\n",
      "[17:07:52] src/tree/updater_prune.cc:74: tree pruning end, 1 roots, 12 extra nodes, 0 pruned nodes, max_depth=3\n",
      "[17:07:52] src/tree/updater_prune.cc:74: tree pruning end, 1 roots, 12 extra nodes, 0 pruned nodes, max_depth=3\n",
      "[60]\ttrain-auc:0.908659\ttest-auc:0.737635\n"
     ]
    },
    {
     "name": "stdout",
     "output_type": "stream",
     "text": [
      "[17:07:52] src/tree/updater_prune.cc:74: tree pruning end, 1 roots, 10 extra nodes, 0 pruned nodes, max_depth=3\n",
      "[17:07:52] src/tree/updater_prune.cc:74: tree pruning end, 1 roots, 10 extra nodes, 0 pruned nodes, max_depth=3\n",
      "[17:07:52] src/tree/updater_prune.cc:74: tree pruning end, 1 roots, 12 extra nodes, 0 pruned nodes, max_depth=3\n",
      "[17:07:52] src/tree/updater_prune.cc:74: tree pruning end, 1 roots, 14 extra nodes, 0 pruned nodes, max_depth=3\n",
      "[17:07:52] src/tree/updater_prune.cc:74: tree pruning end, 1 roots, 14 extra nodes, 0 pruned nodes, max_depth=3\n",
      "[17:07:52] src/tree/updater_prune.cc:74: tree pruning end, 1 roots, 14 extra nodes, 0 pruned nodes, max_depth=3\n",
      "[17:07:52] src/tree/updater_prune.cc:74: tree pruning end, 1 roots, 12 extra nodes, 0 pruned nodes, max_depth=3\n",
      "[17:07:52] src/tree/updater_prune.cc:74: tree pruning end, 1 roots, 14 extra nodes, 0 pruned nodes, max_depth=3\n",
      "[17:07:52] src/tree/updater_prune.cc:74: tree pruning end, 1 roots, 14 extra nodes, 0 pruned nodes, max_depth=3\n",
      "[17:07:52] src/tree/updater_prune.cc:74: tree pruning end, 1 roots, 14 extra nodes, 0 pruned nodes, max_depth=3\n",
      "[17:07:52] src/tree/updater_prune.cc:74: tree pruning end, 1 roots, 14 extra nodes, 0 pruned nodes, max_depth=3\n",
      "[17:07:52] src/tree/updater_prune.cc:74: tree pruning end, 1 roots, 14 extra nodes, 0 pruned nodes, max_depth=3\n",
      "[17:07:52] src/tree/updater_prune.cc:74: tree pruning end, 1 roots, 14 extra nodes, 0 pruned nodes, max_depth=3\n",
      "[17:07:52] src/tree/updater_prune.cc:74: tree pruning end, 1 roots, 14 extra nodes, 0 pruned nodes, max_depth=3\n",
      "[17:07:52] src/tree/updater_prune.cc:74: tree pruning end, 1 roots, 12 extra nodes, 0 pruned nodes, max_depth=3\n",
      "[17:07:52] src/tree/updater_prune.cc:74: tree pruning end, 1 roots, 8 extra nodes, 0 pruned nodes, max_depth=3\n",
      "[17:07:52] src/tree/updater_prune.cc:74: tree pruning end, 1 roots, 14 extra nodes, 0 pruned nodes, max_depth=3\n",
      "[17:07:52] src/tree/updater_prune.cc:74: tree pruning end, 1 roots, 14 extra nodes, 0 pruned nodes, max_depth=3\n",
      "[17:07:52] src/tree/updater_prune.cc:74: tree pruning end, 1 roots, 14 extra nodes, 0 pruned nodes, max_depth=3\n",
      "[17:07:52] src/tree/updater_prune.cc:74: tree pruning end, 1 roots, 14 extra nodes, 0 pruned nodes, max_depth=3\n",
      "[17:07:52] src/tree/updater_prune.cc:74: tree pruning end, 1 roots, 12 extra nodes, 0 pruned nodes, max_depth=3\n",
      "[17:07:52] src/tree/updater_prune.cc:74: tree pruning end, 1 roots, 10 extra nodes, 0 pruned nodes, max_depth=3\n",
      "[17:07:52] src/tree/updater_prune.cc:74: tree pruning end, 1 roots, 14 extra nodes, 0 pruned nodes, max_depth=3\n",
      "[17:07:52] src/tree/updater_prune.cc:74: tree pruning end, 1 roots, 12 extra nodes, 0 pruned nodes, max_depth=3\n",
      "[17:07:52] src/tree/updater_prune.cc:74: tree pruning end, 1 roots, 10 extra nodes, 0 pruned nodes, max_depth=3\n",
      "[17:07:52] src/tree/updater_prune.cc:74: tree pruning end, 1 roots, 14 extra nodes, 0 pruned nodes, max_depth=3\n",
      "[17:07:52] src/tree/updater_prune.cc:74: tree pruning end, 1 roots, 12 extra nodes, 0 pruned nodes, max_depth=3\n",
      "[17:07:52] src/tree/updater_prune.cc:74: tree pruning end, 1 roots, 12 extra nodes, 0 pruned nodes, max_depth=3\n",
      "[17:07:52] src/tree/updater_prune.cc:74: tree pruning end, 1 roots, 12 extra nodes, 0 pruned nodes, max_depth=3\n",
      "[17:07:52] src/tree/updater_prune.cc:74: tree pruning end, 1 roots, 14 extra nodes, 0 pruned nodes, max_depth=3\n",
      "[17:07:52] src/tree/updater_prune.cc:74: tree pruning end, 1 roots, 12 extra nodes, 0 pruned nodes, max_depth=3\n",
      "[17:07:52] src/tree/updater_prune.cc:74: tree pruning end, 1 roots, 14 extra nodes, 0 pruned nodes, max_depth=3\n",
      "[17:07:52] src/tree/updater_prune.cc:74: tree pruning end, 1 roots, 14 extra nodes, 0 pruned nodes, max_depth=3\n",
      "[17:07:52] src/tree/updater_prune.cc:74: tree pruning end, 1 roots, 14 extra nodes, 0 pruned nodes, max_depth=3\n",
      "[17:07:52] src/tree/updater_prune.cc:74: tree pruning end, 1 roots, 14 extra nodes, 0 pruned nodes, max_depth=3\n",
      "[17:07:52] src/tree/updater_prune.cc:74: tree pruning end, 1 roots, 12 extra nodes, 0 pruned nodes, max_depth=3\n",
      "[17:07:52] src/tree/updater_prune.cc:74: tree pruning end, 1 roots, 14 extra nodes, 0 pruned nodes, max_depth=3\n",
      "[17:07:52] src/tree/updater_prune.cc:74: tree pruning end, 1 roots, 14 extra nodes, 0 pruned nodes, max_depth=3\n",
      "[17:07:52] src/tree/updater_prune.cc:74: tree pruning end, 1 roots, 14 extra nodes, 0 pruned nodes, max_depth=3\n",
      "[17:07:52] src/tree/updater_prune.cc:74: tree pruning end, 1 roots, 14 extra nodes, 0 pruned nodes, max_depth=3\n",
      "[17:07:52] src/tree/updater_prune.cc:74: tree pruning end, 1 roots, 14 extra nodes, 0 pruned nodes, max_depth=3\n",
      "[17:07:52] src/tree/updater_prune.cc:74: tree pruning end, 1 roots, 14 extra nodes, 0 pruned nodes, max_depth=3\n",
      "[17:07:52] src/tree/updater_prune.cc:74: tree pruning end, 1 roots, 14 extra nodes, 0 pruned nodes, max_depth=3\n",
      "[17:07:52] src/tree/updater_prune.cc:74: tree pruning end, 1 roots, 14 extra nodes, 0 pruned nodes, max_depth=3\n",
      "[17:07:52] src/tree/updater_prune.cc:74: tree pruning end, 1 roots, 14 extra nodes, 0 pruned nodes, max_depth=3\n",
      "[17:07:52] src/tree/updater_prune.cc:74: tree pruning end, 1 roots, 14 extra nodes, 0 pruned nodes, max_depth=3\n",
      "[17:07:52] src/tree/updater_prune.cc:74: tree pruning end, 1 roots, 14 extra nodes, 0 pruned nodes, max_depth=3\n",
      "[17:07:52] src/tree/updater_prune.cc:74: tree pruning end, 1 roots, 14 extra nodes, 0 pruned nodes, max_depth=3\n",
      "[17:07:52] src/tree/updater_prune.cc:74: tree pruning end, 1 roots, 14 extra nodes, 0 pruned nodes, max_depth=3\n",
      "[17:07:52] src/tree/updater_prune.cc:74: tree pruning end, 1 roots, 14 extra nodes, 0 pruned nodes, max_depth=3\n",
      "[17:07:52] src/tree/updater_prune.cc:74: tree pruning end, 1 roots, 14 extra nodes, 0 pruned nodes, max_depth=3\n",
      "[17:07:52] src/tree/updater_prune.cc:74: tree pruning end, 1 roots, 14 extra nodes, 0 pruned nodes, max_depth=3\n",
      "[17:07:52] src/tree/updater_prune.cc:74: tree pruning end, 1 roots, 14 extra nodes, 0 pruned nodes, max_depth=3\n",
      "[17:07:52] src/tree/updater_prune.cc:74: tree pruning end, 1 roots, 14 extra nodes, 0 pruned nodes, max_depth=3\n",
      "[17:07:52] src/tree/updater_prune.cc:74: tree pruning end, 1 roots, 14 extra nodes, 0 pruned nodes, max_depth=3\n",
      "[17:07:52] src/tree/updater_prune.cc:74: tree pruning end, 1 roots, 14 extra nodes, 0 pruned nodes, max_depth=3\n",
      "[17:07:52] src/tree/updater_prune.cc:74: tree pruning end, 1 roots, 14 extra nodes, 0 pruned nodes, max_depth=3\n",
      "[17:07:52] src/tree/updater_prune.cc:74: tree pruning end, 1 roots, 12 extra nodes, 0 pruned nodes, max_depth=3\n",
      "[17:07:52] src/tree/updater_prune.cc:74: tree pruning end, 1 roots, 14 extra nodes, 0 pruned nodes, max_depth=3\n",
      "[17:07:52] src/tree/updater_prune.cc:74: tree pruning end, 1 roots, 14 extra nodes, 0 pruned nodes, max_depth=3\n",
      "[17:07:52] src/tree/updater_prune.cc:74: tree pruning end, 1 roots, 14 extra nodes, 0 pruned nodes, max_depth=3\n"
     ]
    },
    {
     "ename": "XGBoostError",
     "evalue": "b'[17:07:52] src/metric/metric.cc:21: Unknown metric function precision'",
     "output_type": "error",
     "traceback": [
      "\u001b[1;31m---------------------------------------------------------------------------\u001b[0m",
      "\u001b[1;31mXGBoostError\u001b[0m                              Traceback (most recent call last)",
      "\u001b[1;32m<ipython-input-354-d057ba9a74b5>\u001b[0m in \u001b[0;36m<module>\u001b[1;34m\u001b[0m\n\u001b[1;32m----> 1\u001b[1;33m \u001b[0mxgbmodel_obj\u001b[0m\u001b[1;33m.\u001b[0m\u001b[0mrun\u001b[0m\u001b[1;33m(\u001b[0m\u001b[0mxgb_params_range\u001b[0m\u001b[1;33m,\u001b[0m \u001b[0mxgb_param_experience\u001b[0m\u001b[1;33m,\u001b[0m \u001b[0mxgb_select\u001b[0m\u001b[1;33m=\u001b[0m\u001b[1;32mFalse\u001b[0m\u001b[1;33m)\u001b[0m\u001b[1;33m\u001b[0m\u001b[0m\n\u001b[0m",
      "\u001b[1;32m/Users/Mint/Desktop/repos/genie\\utils3\\modeling.py\u001b[0m in \u001b[0;36mrun\u001b[1;34m(self, params_range, param_experience, xgb_select)\u001b[0m\n\u001b[0;32m    222\u001b[0m         \u001b[1;32melse\u001b[0m\u001b[1;33m:\u001b[0m\u001b[1;33m\u001b[0m\u001b[0m\n\u001b[0;32m    223\u001b[0m             \u001b[0mself\u001b[0m\u001b[1;33m.\u001b[0m\u001b[0mxgb_select\u001b[0m\u001b[1;33m(\u001b[0m\u001b[0mauto\u001b[0m\u001b[1;33m=\u001b[0m\u001b[1;32mFalse\u001b[0m\u001b[1;33m)\u001b[0m\u001b[1;33m\u001b[0m\u001b[0m\n\u001b[1;32m--> 224\u001b[1;33m         \u001b[0mself\u001b[0m\u001b[1;33m.\u001b[0m\u001b[0mget_params\u001b[0m\u001b[1;33m(\u001b[0m\u001b[0mparams_range\u001b[0m\u001b[1;33m,\u001b[0m \u001b[0mparam_experience\u001b[0m\u001b[1;33m)\u001b[0m\u001b[1;33m\u001b[0m\u001b[0m\n\u001b[0m\u001b[0;32m    225\u001b[0m \u001b[1;33m\u001b[0m\u001b[0m\n\u001b[0;32m    226\u001b[0m         \u001b[1;32mif\u001b[0m \u001b[1;34m'XGBExp'\u001b[0m \u001b[1;32min\u001b[0m \u001b[0mself\u001b[0m\u001b[1;33m.\u001b[0m\u001b[0mparams_selection_method\u001b[0m\u001b[1;33m:\u001b[0m\u001b[1;33m\u001b[0m\u001b[0m\n",
      "\u001b[1;32m/Users/Mint/Desktop/repos/genie\\utils3\\modeling.py\u001b[0m in \u001b[0;36mget_params\u001b[1;34m(self, params_range, param_experience)\u001b[0m\n\u001b[0;32m    304\u001b[0m             \u001b[0mself\u001b[0m\u001b[1;33m.\u001b[0m\u001b[0mparam_experience\u001b[0m \u001b[1;33m=\u001b[0m \u001b[0mfs\u001b[0m\u001b[1;33m.\u001b[0m\u001b[0mParamsTuning\u001b[0m\u001b[1;33m(\u001b[0m\u001b[1;33m)\u001b[0m\u001b[0;31m\\\u001b[0m\u001b[1;33m\u001b[0m\u001b[0m\n\u001b[0;32m    305\u001b[0m                     .xgboost_tree(self.X_train_xgboost[self.selected], self.y_train,\n\u001b[1;32m--> 306\u001b[1;33m                                   self.param_experience)\n\u001b[0m\u001b[0;32m    307\u001b[0m             \u001b[0msave_data_to_json\u001b[0m\u001b[1;33m(\u001b[0m\u001b[0mself\u001b[0m\u001b[1;33m.\u001b[0m\u001b[0mparam_experience\u001b[0m\u001b[1;33m,\u001b[0m \u001b[0mself\u001b[0m\u001b[1;33m.\u001b[0m\u001b[0mDATA_PATH\u001b[0m\u001b[1;33m,\u001b[0m \u001b[1;34m'xgboost_params_experience.json'\u001b[0m\u001b[1;33m)\u001b[0m\u001b[1;33m\u001b[0m\u001b[0m\n\u001b[0;32m    308\u001b[0m             \u001b[0mlogging\u001b[0m\u001b[1;33m.\u001b[0m\u001b[0minfo\u001b[0m\u001b[1;33m(\u001b[0m\u001b[1;34m\"经验参数存储于%s\"\u001b[0m \u001b[1;33m%\u001b[0m \u001b[0mos\u001b[0m\u001b[1;33m.\u001b[0m\u001b[0mpath\u001b[0m\u001b[1;33m.\u001b[0m\u001b[0mjoin\u001b[0m\u001b[1;33m(\u001b[0m\u001b[0mself\u001b[0m\u001b[1;33m.\u001b[0m\u001b[0mDATA_PATH\u001b[0m\u001b[1;33m,\u001b[0m \u001b[1;34m'xgboost_params_experience.json'\u001b[0m\u001b[1;33m)\u001b[0m\u001b[1;33m)\u001b[0m\u001b[1;33m\u001b[0m\u001b[0m\n",
      "\u001b[1;32m/Users/Mint/Desktop/repos/genie\\utils3\\feature_selection.py\u001b[0m in \u001b[0;36mxgboost_tree\u001b[1;34m(self, X, y, param)\u001b[0m\n\u001b[0;32m     60\u001b[0m             \u001b[0mshow_stdv\u001b[0m\u001b[1;33m=\u001b[0m\u001b[1;32mFalse\u001b[0m\u001b[1;33m,\u001b[0m\u001b[1;33m\u001b[0m\u001b[0m\n\u001b[0;32m     61\u001b[0m             \u001b[0mseed\u001b[0m\u001b[1;33m=\u001b[0m\u001b[1;36m1\u001b[0m\u001b[1;33m,\u001b[0m\u001b[1;33m\u001b[0m\u001b[0m\n\u001b[1;32m---> 62\u001b[1;33m             \u001b[0mearly_stopping_rounds\u001b[0m\u001b[1;33m=\u001b[0m\u001b[1;36m30\u001b[0m\u001b[1;33m,\u001b[0m\u001b[1;33m\u001b[0m\u001b[0m\n\u001b[0m\u001b[0;32m     63\u001b[0m         )\n\u001b[0;32m     64\u001b[0m         \u001b[1;31m# best n tree\u001b[0m\u001b[1;33m\u001b[0m\u001b[1;33m\u001b[0m\u001b[0m\n",
      "\u001b[1;32m~\\Anaconda3\\lib\\site-packages\\xgboost\\training.py\u001b[0m in \u001b[0;36mcv\u001b[1;34m(params, dtrain, num_boost_round, nfold, stratified, folds, metrics, obj, feval, maximize, early_stopping_rounds, fpreproc, as_pandas, verbose_eval, show_stdv, seed, callbacks, shuffle)\u001b[0m\n\u001b[0;32m    436\u001b[0m                            evaluation_result_list=None))\n\u001b[0;32m    437\u001b[0m         \u001b[1;32mfor\u001b[0m \u001b[0mfold\u001b[0m \u001b[1;32min\u001b[0m \u001b[0mcvfolds\u001b[0m\u001b[1;33m:\u001b[0m\u001b[1;33m\u001b[0m\u001b[0m\n\u001b[1;32m--> 438\u001b[1;33m             \u001b[0mfold\u001b[0m\u001b[1;33m.\u001b[0m\u001b[0mupdate\u001b[0m\u001b[1;33m(\u001b[0m\u001b[0mi\u001b[0m\u001b[1;33m,\u001b[0m \u001b[0mobj\u001b[0m\u001b[1;33m)\u001b[0m\u001b[1;33m\u001b[0m\u001b[0m\n\u001b[0m\u001b[0;32m    439\u001b[0m         \u001b[0mres\u001b[0m \u001b[1;33m=\u001b[0m \u001b[0maggcv\u001b[0m\u001b[1;33m(\u001b[0m\u001b[1;33m[\u001b[0m\u001b[0mf\u001b[0m\u001b[1;33m.\u001b[0m\u001b[0meval\u001b[0m\u001b[1;33m(\u001b[0m\u001b[0mi\u001b[0m\u001b[1;33m,\u001b[0m \u001b[0mfeval\u001b[0m\u001b[1;33m)\u001b[0m \u001b[1;32mfor\u001b[0m \u001b[0mf\u001b[0m \u001b[1;32min\u001b[0m \u001b[0mcvfolds\u001b[0m\u001b[1;33m]\u001b[0m\u001b[1;33m)\u001b[0m\u001b[1;33m\u001b[0m\u001b[0m\n\u001b[0;32m    440\u001b[0m \u001b[1;33m\u001b[0m\u001b[0m\n",
      "\u001b[1;32m~\\Anaconda3\\lib\\site-packages\\xgboost\\training.py\u001b[0m in \u001b[0;36mupdate\u001b[1;34m(self, iteration, fobj)\u001b[0m\n\u001b[0;32m    222\u001b[0m     \u001b[1;32mdef\u001b[0m \u001b[0mupdate\u001b[0m\u001b[1;33m(\u001b[0m\u001b[0mself\u001b[0m\u001b[1;33m,\u001b[0m \u001b[0miteration\u001b[0m\u001b[1;33m,\u001b[0m \u001b[0mfobj\u001b[0m\u001b[1;33m)\u001b[0m\u001b[1;33m:\u001b[0m\u001b[1;33m\u001b[0m\u001b[0m\n\u001b[0;32m    223\u001b[0m         \u001b[1;34m\"\"\"\"Update the boosters for one iteration\"\"\"\u001b[0m\u001b[1;33m\u001b[0m\u001b[0m\n\u001b[1;32m--> 224\u001b[1;33m         \u001b[0mself\u001b[0m\u001b[1;33m.\u001b[0m\u001b[0mbst\u001b[0m\u001b[1;33m.\u001b[0m\u001b[0mupdate\u001b[0m\u001b[1;33m(\u001b[0m\u001b[0mself\u001b[0m\u001b[1;33m.\u001b[0m\u001b[0mdtrain\u001b[0m\u001b[1;33m,\u001b[0m \u001b[0miteration\u001b[0m\u001b[1;33m,\u001b[0m \u001b[0mfobj\u001b[0m\u001b[1;33m)\u001b[0m\u001b[1;33m\u001b[0m\u001b[0m\n\u001b[0m\u001b[0;32m    225\u001b[0m \u001b[1;33m\u001b[0m\u001b[0m\n\u001b[0;32m    226\u001b[0m     \u001b[1;32mdef\u001b[0m \u001b[0meval\u001b[0m\u001b[1;33m(\u001b[0m\u001b[0mself\u001b[0m\u001b[1;33m,\u001b[0m \u001b[0miteration\u001b[0m\u001b[1;33m,\u001b[0m \u001b[0mfeval\u001b[0m\u001b[1;33m)\u001b[0m\u001b[1;33m:\u001b[0m\u001b[1;33m\u001b[0m\u001b[0m\n",
      "\u001b[1;32m~\\Anaconda3\\lib\\site-packages\\xgboost\\core.py\u001b[0m in \u001b[0;36mupdate\u001b[1;34m(self, dtrain, iteration, fobj)\u001b[0m\n\u001b[0;32m   1019\u001b[0m         \u001b[1;32mif\u001b[0m \u001b[0mfobj\u001b[0m \u001b[1;32mis\u001b[0m \u001b[1;32mNone\u001b[0m\u001b[1;33m:\u001b[0m\u001b[1;33m\u001b[0m\u001b[0m\n\u001b[0;32m   1020\u001b[0m             _check_call(_LIB.XGBoosterUpdateOneIter(self.handle, ctypes.c_int(iteration),\n\u001b[1;32m-> 1021\u001b[1;33m                                                     dtrain.handle))\n\u001b[0m\u001b[0;32m   1022\u001b[0m         \u001b[1;32melse\u001b[0m\u001b[1;33m:\u001b[0m\u001b[1;33m\u001b[0m\u001b[0m\n\u001b[0;32m   1023\u001b[0m             \u001b[0mpred\u001b[0m \u001b[1;33m=\u001b[0m \u001b[0mself\u001b[0m\u001b[1;33m.\u001b[0m\u001b[0mpredict\u001b[0m\u001b[1;33m(\u001b[0m\u001b[0mdtrain\u001b[0m\u001b[1;33m)\u001b[0m\u001b[1;33m\u001b[0m\u001b[0m\n",
      "\u001b[1;32m~\\Anaconda3\\lib\\site-packages\\xgboost\\core.py\u001b[0m in \u001b[0;36m_check_call\u001b[1;34m(ret)\u001b[0m\n\u001b[0;32m    149\u001b[0m     \"\"\"\n\u001b[0;32m    150\u001b[0m     \u001b[1;32mif\u001b[0m \u001b[0mret\u001b[0m \u001b[1;33m!=\u001b[0m \u001b[1;36m0\u001b[0m\u001b[1;33m:\u001b[0m\u001b[1;33m\u001b[0m\u001b[0m\n\u001b[1;32m--> 151\u001b[1;33m         \u001b[1;32mraise\u001b[0m \u001b[0mXGBoostError\u001b[0m\u001b[1;33m(\u001b[0m\u001b[0m_LIB\u001b[0m\u001b[1;33m.\u001b[0m\u001b[0mXGBGetLastError\u001b[0m\u001b[1;33m(\u001b[0m\u001b[1;33m)\u001b[0m\u001b[1;33m)\u001b[0m\u001b[1;33m\u001b[0m\u001b[0m\n\u001b[0m\u001b[0;32m    152\u001b[0m \u001b[1;33m\u001b[0m\u001b[0m\n\u001b[0;32m    153\u001b[0m \u001b[1;33m\u001b[0m\u001b[0m\n",
      "\u001b[1;31mXGBoostError\u001b[0m: b'[17:07:52] src/metric/metric.cc:21: Unknown metric function precision'"
     ]
    }
   ],
   "source": [
    "xgbmodel_obj.run(xgb_params_range, xgb_param_experience, xgb_select=False)"
   ]
  },
  {
   "cell_type": "code",
   "execution_count": null,
   "metadata": {},
   "outputs": [],
   "source": [
    "\"\"\"\n",
    "训练集和测试集拟合结果\n",
    "\"\"\""
   ]
  },
  {
   "cell_type": "code",
   "execution_count": 309,
   "metadata": {},
   "outputs": [],
   "source": [
    "plot_obj = ml.LogisticModel(var_dict=var_dict, y_train=y_train_new,\n",
    "                                    y_test=y_test_new)"
   ]
  },
  {
   "cell_type": "code",
   "execution_count": 310,
   "metadata": {},
   "outputs": [
    {
     "data": {
      "text/plain": [
       "(680,)"
      ]
     },
     "execution_count": 310,
     "metadata": {},
     "output_type": "execute_result"
    }
   ],
   "source": [
    "y_test_new.shape"
   ]
  },
  {
   "cell_type": "code",
   "execution_count": 266,
   "metadata": {},
   "outputs": [
    {
     "data": {
      "text/plain": [
       "(2264,)"
      ]
     },
     "execution_count": 266,
     "metadata": {},
     "output_type": "execute_result"
    }
   ],
   "source": [
    "\n"
   ]
  },
  {
   "cell_type": "code",
   "execution_count": null,
   "metadata": {},
   "outputs": [],
   "source": [
    "\"\"\"\n",
    "查看XGBExp（经验参数）模型结果\n",
    "\"\"\""
   ]
  },
  {
   "cell_type": "code",
   "execution_count": 370,
   "metadata": {},
   "outputs": [
    {
     "data": {
      "image/png": "[encoded data removed]",
      "text/plain": [
       "<matplotlib.figure.Figure at 0x1d71f5b9be0>"
      ]
     },
     "metadata": {},
     "output_type": "display_data"
    },
    {
     "data": {
      "image/png": "[encoded data removed]",
      "text/plain": [
       "<matplotlib.figure.Figure at 0x1d725cba978>"
      ]
     },
     "metadata": {},
     "output_type": "display_data"
    },
    {
     "data": {
      "image/png": "[encoded data removed]",
      "text/plain": [
       "<matplotlib.figure.Figure at 0x1d731f2d2b0>"
      ]
     },
     "metadata": {},
     "output_type": "display_data"
    },
    {
     "data": {
      "image/png": "[encoded data removed]",
      "text/plain": [
       "<matplotlib.figure.Figure at 0x1d72b5dc4e0>"
      ]
     },
     "metadata": {},
     "output_type": "display_data"
    },
    {
     "data": {
      "image/png": "[encoded data removed]",
      "text/plain": [
       "<matplotlib.figure.Figure at 0x1d72b5a2390>"
      ]
     },
     "metadata": {},
     "output_type": "display_data"
    },
    {
     "data": {
      "image/png": "[encoded data removed]",
      "text/plain": [
       "<matplotlib.figure.Figure at 0x1d72b5c5eb8>"
      ]
     },
     "metadata": {},
     "output_type": "display_data"
    }
   ],
   "source": [
    "model_result_exp = load_data_from_pickle(data_path,\n",
    "                '%s模型结果.pkl' % ('demo_xgb'+'XGBExp'))\n",
    "plot_obj.plot_for_the_model(result_path, model_result_exp, with_test= True)"
   ]
  },
  {
   "cell_type": "code",
   "execution_count": null,
   "metadata": {},
   "outputs": [],
   "source": [
    "\"\"\"\n",
    "查看XGBExp（经验参数）对应的每一颗决策树的决策点\n",
    "\"\"\""
   ]
  },
  {
   "cell_type": "code",
   "execution_count": 202,
   "metadata": {},
   "outputs": [],
   "source": [
    "model_result_exp['model_final'].dump_model(result_path+'/model_result_exp_trees.txt')"
   ]
  },
  {
   "cell_type": "code",
   "execution_count": null,
   "metadata": {},
   "outputs": [],
   "source": []
  },
  {
   "cell_type": "code",
   "execution_count": null,
   "metadata": {},
   "outputs": [],
   "source": [
    "\"\"\"\n",
    "查看XGBRandom（随机参数）模型结果\n",
    "\"\"\""
   ]
  },
  {
   "cell_type": "code",
   "execution_count": 203,
   "metadata": {},
   "outputs": [
    {
     "data": {
      "image/png": "[encoded data removed]",
      "text/plain": [
       "<matplotlib.figure.Figure at 0x1d71f824320>"
      ]
     },
     "metadata": {},
     "output_type": "display_data"
    },
    {
     "data": {
      "image/png": "[encoded data removed]",
      "text/plain": [
       "<matplotlib.figure.Figure at 0x1d72d288c18>"
      ]
     },
     "metadata": {},
     "output_type": "display_data"
    },
    {
     "data": {
      "image/png": "[encoded data removed]",
      "text/plain": [
       "<matplotlib.figure.Figure at 0x1d72d2736a0>"
      ]
     },
     "metadata": {},
     "output_type": "display_data"
    },
    {
     "data": {
      "image/png": "[encoded data removed]",
      "text/plain": [
       "<matplotlib.figure.Figure at 0x1d72d3cdbe0>"
      ]
     },
     "metadata": {},
     "output_type": "display_data"
    },
    {
     "data": {
      "image/png": "[encoded data removed]",
      "text/plain": [
       "<matplotlib.figure.Figure at 0x1d7247cfc18>"
      ]
     },
     "metadata": {},
     "output_type": "display_data"
    },
    {
     "data": {
      "image/png": "[encoded data removed]",
      "text/plain": [
       "<matplotlib.figure.Figure at 0x1d72e71b278>"
      ]
     },
     "metadata": {},
     "output_type": "display_data"
    }
   ],
   "source": [
    "model_result_random = load_data_from_pickle(data_path,\n",
    "                '%s模型结果.pkl' % ('demo_xgb'+'XGBRandom'))\n",
    "plot_obj.plot_for_the_model(result_path, model_result_random, with_test=True)"
   ]
  },
  {
   "cell_type": "code",
   "execution_count": 204,
   "metadata": {},
   "outputs": [],
   "source": [
    "model_result_random['model_final'].dump_model(result_path+'/model_result_random_trees.txt')"
   ]
  },
  {
   "cell_type": "code",
   "execution_count": null,
   "metadata": {},
   "outputs": [],
   "source": []
  },
  {
   "cell_type": "code",
   "execution_count": 140,
   "metadata": {},
   "outputs": [
    {
     "data": {
      "text/plain": [
       "'\\n查看XGBGrid（网格参数）模型结果\\n'"
      ]
     },
     "execution_count": 140,
     "metadata": {},
     "output_type": "execute_result"
    }
   ],
   "source": [
    "\"\"\"\n",
    "查看XGBGrid（网格参数）模型结果\n",
    "\"\"\""
   ]
  },
  {
   "cell_type": "code",
   "execution_count": 342,
   "metadata": {},
   "outputs": [
    {
     "data": {
      "image/png": "[encoded data removed]",
      "text/plain": [
       "<matplotlib.figure.Figure at 0x1d72b5eaba8>"
      ]
     },
     "metadata": {},
     "output_type": "display_data"
    },
    {
     "data": {
      "image/png": "[encoded data removed]",
      "text/plain": [
       "<matplotlib.figure.Figure at 0x1d72826cb70>"
      ]
     },
     "metadata": {},
     "output_type": "display_data"
    },
    {
     "data": {
      "image/png": "[encoded data removed]",
      "text/plain": [
       "<matplotlib.figure.Figure at 0x1d72b5ea710>"
      ]
     },
     "metadata": {},
     "output_type": "display_data"
    },
    {
     "data": {
      "image/png": "[encoded data removed]",
      "text/plain": [
       "<matplotlib.figure.Figure at 0x1d72cdd3dd8>"
      ]
     },
     "metadata": {},
     "output_type": "display_data"
    },
    {
     "data": {
      "image/png": "[encoded data removed]",
      "text/plain": [
       "<matplotlib.figure.Figure at 0x1d72b59ebe0>"
      ]
     },
     "metadata": {},
     "output_type": "display_data"
    },
    {
     "data": {
      "image/png": "[encoded data removed]",
      "text/plain": [
       "<matplotlib.figure.Figure at 0x1d72cd6e5f8>"
      ]
     },
     "metadata": {},
     "output_type": "display_data"
    }
   ],
   "source": [
    "model_result_grid = load_data_from_pickle(data_path,\n",
    "                '%s模型结果.pkl' % ('demo_xgb'+'XGBGrid'))\n",
    "plot_obj.plot_for_the_model(result_path, model_result_grid, with_test=True)"
   ]
  },
  {
   "cell_type": "code",
   "execution_count": null,
   "metadata": {},
   "outputs": [],
   "source": []
  },
  {
   "cell_type": "code",
   "execution_count": null,
   "metadata": {},
   "outputs": [],
   "source": [
    "\"\"\"\n",
    "查看decile和Runbook\n",
    "\"\"\""
   ]
  },
  {
   "cell_type": "code",
   "execution_count": 371,
   "metadata": {},
   "outputs": [],
   "source": [
    "#查看XGBExp模型decile\n",
    "train_XGBExp_score = model_result_exp['p_train'].apply(mt.Performance().p_to_score)\n",
    "test_XGBExp_score = model_result_exp['p_test'].apply(mt.Performance().p_to_score)"
   ]
  },
  {
   "cell_type": "code",
   "execution_count": 372,
   "metadata": {},
   "outputs": [
    {
     "data": {
      "text/plain": [
       "(1584,)"
      ]
     },
     "execution_count": 372,
     "metadata": {},
     "output_type": "execute_result"
    }
   ],
   "source": [
    "train_XGBExp_score.shape"
   ]
  },
  {
   "cell_type": "code",
   "execution_count": 373,
   "metadata": {},
   "outputs": [
    {
     "data": {
      "text/html": [
       "<div>\n",
       "<style scoped>\n",
       "    .dataframe tbody tr th:only-of-type {\n",
       "        vertical-align: middle;\n",
       "    }\n",
       "\n",
       "    .dataframe tbody tr th {\n",
       "        vertical-align: top;\n",
       "    }\n",
       "\n",
       "    .dataframe thead th {\n",
       "        text-align: right;\n",
       "    }\n",
       "</style>\n",
       "<table border=\"1\" class=\"dataframe\">\n",
       "  <thead>\n",
       "    <tr style=\"text-align: right;\">\n",
       "      <th>col_0</th>\n",
       "      <th>分箱</th>\n",
       "      <th>样本数</th>\n",
       "      <th>好样本数</th>\n",
       "      <th>坏样本数</th>\n",
       "      <th>逾期率</th>\n",
       "      <th>Bad分布占比</th>\n",
       "      <th>Good分布占比</th>\n",
       "      <th>累积Bad占比</th>\n",
       "      <th>累积Good占比</th>\n",
       "      <th>KS</th>\n",
       "      <th>odds(good:bad)</th>\n",
       "    </tr>\n",
       "  </thead>\n",
       "  <tbody>\n",
       "    <tr>\n",
       "      <th>0</th>\n",
       "      <td>(530.0, 573.0]</td>\n",
       "      <td>161</td>\n",
       "      <td>20</td>\n",
       "      <td>141</td>\n",
       "      <td>0.875776</td>\n",
       "      <td>0.228155</td>\n",
       "      <td>0.020704</td>\n",
       "      <td>0.228155</td>\n",
       "      <td>0.020704</td>\n",
       "      <td>0.2075</td>\n",
       "      <td>0.1</td>\n",
       "    </tr>\n",
       "    <tr>\n",
       "      <th>1</th>\n",
       "      <td>(573.0, 589.0]</td>\n",
       "      <td>165</td>\n",
       "      <td>47</td>\n",
       "      <td>118</td>\n",
       "      <td>0.715152</td>\n",
       "      <td>0.190939</td>\n",
       "      <td>0.048654</td>\n",
       "      <td>0.419094</td>\n",
       "      <td>0.069358</td>\n",
       "      <td>0.3497</td>\n",
       "      <td>0.4</td>\n",
       "    </tr>\n",
       "    <tr>\n",
       "      <th>2</th>\n",
       "      <td>(589.0, 601.0]</td>\n",
       "      <td>162</td>\n",
       "      <td>71</td>\n",
       "      <td>91</td>\n",
       "      <td>0.561728</td>\n",
       "      <td>0.147249</td>\n",
       "      <td>0.073499</td>\n",
       "      <td>0.566343</td>\n",
       "      <td>0.142857</td>\n",
       "      <td>0.4235</td>\n",
       "      <td>0.8</td>\n",
       "    </tr>\n",
       "    <tr>\n",
       "      <th>3</th>\n",
       "      <td>(601.0, 612.0]</td>\n",
       "      <td>157</td>\n",
       "      <td>82</td>\n",
       "      <td>75</td>\n",
       "      <td>0.477707</td>\n",
       "      <td>0.121359</td>\n",
       "      <td>0.084886</td>\n",
       "      <td>0.687702</td>\n",
       "      <td>0.227743</td>\n",
       "      <td>0.4600</td>\n",
       "      <td>1.1</td>\n",
       "    </tr>\n",
       "    <tr>\n",
       "      <th>4</th>\n",
       "      <td>(612.0, 619.0]</td>\n",
       "      <td>161</td>\n",
       "      <td>102</td>\n",
       "      <td>59</td>\n",
       "      <td>0.366460</td>\n",
       "      <td>0.095469</td>\n",
       "      <td>0.105590</td>\n",
       "      <td>0.783172</td>\n",
       "      <td>0.333333</td>\n",
       "      <td>0.4498</td>\n",
       "      <td>1.7</td>\n",
       "    </tr>\n",
       "    <tr>\n",
       "      <th>5</th>\n",
       "      <td>(619.0, 625.0]</td>\n",
       "      <td>163</td>\n",
       "      <td>121</td>\n",
       "      <td>42</td>\n",
       "      <td>0.257669</td>\n",
       "      <td>0.067961</td>\n",
       "      <td>0.125259</td>\n",
       "      <td>0.851133</td>\n",
       "      <td>0.458592</td>\n",
       "      <td>0.3925</td>\n",
       "      <td>2.9</td>\n",
       "    </tr>\n",
       "    <tr>\n",
       "      <th>6</th>\n",
       "      <td>(625.0, 631.0]</td>\n",
       "      <td>151</td>\n",
       "      <td>119</td>\n",
       "      <td>32</td>\n",
       "      <td>0.211921</td>\n",
       "      <td>0.051780</td>\n",
       "      <td>0.123188</td>\n",
       "      <td>0.902913</td>\n",
       "      <td>0.581781</td>\n",
       "      <td>0.3211</td>\n",
       "      <td>3.7</td>\n",
       "    </tr>\n",
       "    <tr>\n",
       "      <th>7</th>\n",
       "      <td>(631.0, 638.0]</td>\n",
       "      <td>150</td>\n",
       "      <td>122</td>\n",
       "      <td>28</td>\n",
       "      <td>0.186667</td>\n",
       "      <td>0.045307</td>\n",
       "      <td>0.126294</td>\n",
       "      <td>0.948220</td>\n",
       "      <td>0.708075</td>\n",
       "      <td>0.2401</td>\n",
       "      <td>4.4</td>\n",
       "    </tr>\n",
       "    <tr>\n",
       "      <th>8</th>\n",
       "      <td>(638.0, 646.0]</td>\n",
       "      <td>172</td>\n",
       "      <td>150</td>\n",
       "      <td>22</td>\n",
       "      <td>0.127907</td>\n",
       "      <td>0.035599</td>\n",
       "      <td>0.155280</td>\n",
       "      <td>0.983819</td>\n",
       "      <td>0.863354</td>\n",
       "      <td>0.1205</td>\n",
       "      <td>6.8</td>\n",
       "    </tr>\n",
       "    <tr>\n",
       "      <th>9</th>\n",
       "      <td>(646.0, 676.0]</td>\n",
       "      <td>142</td>\n",
       "      <td>132</td>\n",
       "      <td>10</td>\n",
       "      <td>0.070423</td>\n",
       "      <td>0.016181</td>\n",
       "      <td>0.136646</td>\n",
       "      <td>1.000000</td>\n",
       "      <td>1.000000</td>\n",
       "      <td>0.0000</td>\n",
       "      <td>13.2</td>\n",
       "    </tr>\n",
       "  </tbody>\n",
       "</table>\n",
       "</div>"
      ],
      "text/plain": [
       "col_0              分箱  样本数  好样本数  坏样本数       逾期率   Bad分布占比  Good分布占比  \\\n",
       "0      (530.0, 573.0]  161    20   141  0.875776  0.228155  0.020704   \n",
       "1      (573.0, 589.0]  165    47   118  0.715152  0.190939  0.048654   \n",
       "2      (589.0, 601.0]  162    71    91  0.561728  0.147249  0.073499   \n",
       "3      (601.0, 612.0]  157    82    75  0.477707  0.121359  0.084886   \n",
       "4      (612.0, 619.0]  161   102    59  0.366460  0.095469  0.105590   \n",
       "5      (619.0, 625.0]  163   121    42  0.257669  0.067961  0.125259   \n",
       "6      (625.0, 631.0]  151   119    32  0.211921  0.051780  0.123188   \n",
       "7      (631.0, 638.0]  150   122    28  0.186667  0.045307  0.126294   \n",
       "8      (638.0, 646.0]  172   150    22  0.127907  0.035599  0.155280   \n",
       "9      (646.0, 676.0]  142   132    10  0.070423  0.016181  0.136646   \n",
       "\n",
       "col_0   累积Bad占比  累积Good占比      KS  odds(good:bad)  \n",
       "0      0.228155  0.020704  0.2075             0.1  \n",
       "1      0.419094  0.069358  0.3497             0.4  \n",
       "2      0.566343  0.142857  0.4235             0.8  \n",
       "3      0.687702  0.227743  0.4600             1.1  \n",
       "4      0.783172  0.333333  0.4498             1.7  \n",
       "5      0.851133  0.458592  0.3925             2.9  \n",
       "6      0.902913  0.581781  0.3211             3.7  \n",
       "7      0.948220  0.708075  0.2401             4.4  \n",
       "8      0.983819  0.863354  0.1205             6.8  \n",
       "9      1.000000  1.000000  0.0000            13.2  "
      ]
     },
     "execution_count": 373,
     "metadata": {},
     "output_type": "execute_result"
    }
   ],
   "source": [
    "# 训练集\n",
    "ks_decile_XGBExp_train = mt.Performance().calculate_ks_by_decile(train_XGBExp_score, np.array(y_train_new), 'decile', q=10)\n",
    "ks_decile_XGBExp_train"
   ]
  },
  {
   "cell_type": "code",
   "execution_count": 374,
   "metadata": {},
   "outputs": [
    {
     "data": {
      "text/html": [
       "<div>\n",
       "<style scoped>\n",
       "    .dataframe tbody tr th:only-of-type {\n",
       "        vertical-align: middle;\n",
       "    }\n",
       "\n",
       "    .dataframe tbody tr th {\n",
       "        vertical-align: top;\n",
       "    }\n",
       "\n",
       "    .dataframe thead th {\n",
       "        text-align: right;\n",
       "    }\n",
       "</style>\n",
       "<table border=\"1\" class=\"dataframe\">\n",
       "  <thead>\n",
       "    <tr style=\"text-align: right;\">\n",
       "      <th>col_0</th>\n",
       "      <th>分箱</th>\n",
       "      <th>样本数</th>\n",
       "      <th>好样本数</th>\n",
       "      <th>坏样本数</th>\n",
       "      <th>逾期率</th>\n",
       "      <th>Bad分布占比</th>\n",
       "      <th>Good分布占比</th>\n",
       "      <th>累积Bad占比</th>\n",
       "      <th>累积Good占比</th>\n",
       "      <th>KS</th>\n",
       "      <th>odds(good:bad)</th>\n",
       "    </tr>\n",
       "  </thead>\n",
       "  <tbody>\n",
       "    <tr>\n",
       "      <th>0</th>\n",
       "      <td>(-inf, 573.0]</td>\n",
       "      <td>78</td>\n",
       "      <td>11</td>\n",
       "      <td>67</td>\n",
       "      <td>0.858974</td>\n",
       "      <td>0.240143</td>\n",
       "      <td>0.027431</td>\n",
       "      <td>0.240143</td>\n",
       "      <td>0.027431</td>\n",
       "      <td>0.2127</td>\n",
       "      <td>0.2</td>\n",
       "    </tr>\n",
       "    <tr>\n",
       "      <th>1</th>\n",
       "      <td>(573.0, 589.0]</td>\n",
       "      <td>71</td>\n",
       "      <td>13</td>\n",
       "      <td>58</td>\n",
       "      <td>0.816901</td>\n",
       "      <td>0.207885</td>\n",
       "      <td>0.032419</td>\n",
       "      <td>0.448029</td>\n",
       "      <td>0.059850</td>\n",
       "      <td>0.3882</td>\n",
       "      <td>0.2</td>\n",
       "    </tr>\n",
       "    <tr>\n",
       "      <th>2</th>\n",
       "      <td>(589.0, 601.0]</td>\n",
       "      <td>56</td>\n",
       "      <td>27</td>\n",
       "      <td>29</td>\n",
       "      <td>0.517857</td>\n",
       "      <td>0.103943</td>\n",
       "      <td>0.067332</td>\n",
       "      <td>0.551971</td>\n",
       "      <td>0.127182</td>\n",
       "      <td>0.4248</td>\n",
       "      <td>0.9</td>\n",
       "    </tr>\n",
       "    <tr>\n",
       "      <th>3</th>\n",
       "      <td>(601.0, 612.0]</td>\n",
       "      <td>80</td>\n",
       "      <td>36</td>\n",
       "      <td>44</td>\n",
       "      <td>0.550000</td>\n",
       "      <td>0.157706</td>\n",
       "      <td>0.089776</td>\n",
       "      <td>0.709677</td>\n",
       "      <td>0.216958</td>\n",
       "      <td>0.4927</td>\n",
       "      <td>0.8</td>\n",
       "    </tr>\n",
       "    <tr>\n",
       "      <th>4</th>\n",
       "      <td>(612.0, 619.0]</td>\n",
       "      <td>58</td>\n",
       "      <td>36</td>\n",
       "      <td>22</td>\n",
       "      <td>0.379310</td>\n",
       "      <td>0.078853</td>\n",
       "      <td>0.089776</td>\n",
       "      <td>0.788530</td>\n",
       "      <td>0.306733</td>\n",
       "      <td>0.4818</td>\n",
       "      <td>1.6</td>\n",
       "    </tr>\n",
       "    <tr>\n",
       "      <th>5</th>\n",
       "      <td>(619.0, 625.0]</td>\n",
       "      <td>54</td>\n",
       "      <td>37</td>\n",
       "      <td>17</td>\n",
       "      <td>0.314815</td>\n",
       "      <td>0.060932</td>\n",
       "      <td>0.092269</td>\n",
       "      <td>0.849462</td>\n",
       "      <td>0.399002</td>\n",
       "      <td>0.4505</td>\n",
       "      <td>2.2</td>\n",
       "    </tr>\n",
       "    <tr>\n",
       "      <th>6</th>\n",
       "      <td>(625.0, 631.0]</td>\n",
       "      <td>76</td>\n",
       "      <td>53</td>\n",
       "      <td>23</td>\n",
       "      <td>0.302632</td>\n",
       "      <td>0.082437</td>\n",
       "      <td>0.132170</td>\n",
       "      <td>0.931900</td>\n",
       "      <td>0.531172</td>\n",
       "      <td>0.4007</td>\n",
       "      <td>2.3</td>\n",
       "    </tr>\n",
       "    <tr>\n",
       "      <th>7</th>\n",
       "      <td>(631.0, 638.0]</td>\n",
       "      <td>68</td>\n",
       "      <td>60</td>\n",
       "      <td>8</td>\n",
       "      <td>0.117647</td>\n",
       "      <td>0.028674</td>\n",
       "      <td>0.149626</td>\n",
       "      <td>0.960573</td>\n",
       "      <td>0.680798</td>\n",
       "      <td>0.2798</td>\n",
       "      <td>7.5</td>\n",
       "    </tr>\n",
       "    <tr>\n",
       "      <th>8</th>\n",
       "      <td>(638.0, 646.0]</td>\n",
       "      <td>77</td>\n",
       "      <td>68</td>\n",
       "      <td>9</td>\n",
       "      <td>0.116883</td>\n",
       "      <td>0.032258</td>\n",
       "      <td>0.169576</td>\n",
       "      <td>0.992832</td>\n",
       "      <td>0.850374</td>\n",
       "      <td>0.1425</td>\n",
       "      <td>7.6</td>\n",
       "    </tr>\n",
       "    <tr>\n",
       "      <th>9</th>\n",
       "      <td>(646.0, inf]</td>\n",
       "      <td>62</td>\n",
       "      <td>60</td>\n",
       "      <td>2</td>\n",
       "      <td>0.032258</td>\n",
       "      <td>0.007168</td>\n",
       "      <td>0.149626</td>\n",
       "      <td>1.000000</td>\n",
       "      <td>1.000000</td>\n",
       "      <td>0.0000</td>\n",
       "      <td>30.0</td>\n",
       "    </tr>\n",
       "  </tbody>\n",
       "</table>\n",
       "</div>"
      ],
      "text/plain": [
       "col_0              分箱  样本数  好样本数  坏样本数       逾期率   Bad分布占比  Good分布占比  \\\n",
       "0       (-inf, 573.0]   78    11    67  0.858974  0.240143  0.027431   \n",
       "1      (573.0, 589.0]   71    13    58  0.816901  0.207885  0.032419   \n",
       "2      (589.0, 601.0]   56    27    29  0.517857  0.103943  0.067332   \n",
       "3      (601.0, 612.0]   80    36    44  0.550000  0.157706  0.089776   \n",
       "4      (612.0, 619.0]   58    36    22  0.379310  0.078853  0.089776   \n",
       "5      (619.0, 625.0]   54    37    17  0.314815  0.060932  0.092269   \n",
       "6      (625.0, 631.0]   76    53    23  0.302632  0.082437  0.132170   \n",
       "7      (631.0, 638.0]   68    60     8  0.117647  0.028674  0.149626   \n",
       "8      (638.0, 646.0]   77    68     9  0.116883  0.032258  0.169576   \n",
       "9        (646.0, inf]   62    60     2  0.032258  0.007168  0.149626   \n",
       "\n",
       "col_0   累积Bad占比  累积Good占比      KS  odds(good:bad)  \n",
       "0      0.240143  0.027431  0.2127             0.2  \n",
       "1      0.448029  0.059850  0.3882             0.2  \n",
       "2      0.551971  0.127182  0.4248             0.9  \n",
       "3      0.709677  0.216958  0.4927             0.8  \n",
       "4      0.788530  0.306733  0.4818             1.6  \n",
       "5      0.849462  0.399002  0.4505             2.2  \n",
       "6      0.931900  0.531172  0.4007             2.3  \n",
       "7      0.960573  0.680798  0.2798             7.5  \n",
       "8      0.992832  0.850374  0.1425             7.6  \n",
       "9      1.000000  1.000000  0.0000            30.0  "
      ]
     },
     "execution_count": 374,
     "metadata": {},
     "output_type": "execute_result"
    }
   ],
   "source": [
    "# 测试集\n",
    "point_bounds_XGBExp = mt.BinWoe().obtain_boundaries(ks_decile_XGBExp_train[u'分箱'])['cut_boundaries']\n",
    "ks_decile_XGBExp_test = mt.Performance().calculate_ks_by_decile(test_XGBExp_score, np.array(y_test_new), 'decile', \\\n",
    "                                                         manual_cut_bounds=point_bounds_XGBExp)\n",
    "ks_decile_XGBExp_test"
   ]
  },
  {
   "cell_type": "code",
   "execution_count": 361,
   "metadata": {},
   "outputs": [],
   "source": [
    "#查看XGBGrid模型decile\n",
    "train_XGBGrid_score = model_result_grid['p_train'].apply(mt.Performance().p_to_score)\n",
    "test_XGBGrid_score = model_result_grid['p_test'].apply(mt.Performance().p_to_score)"
   ]
  },
  {
   "cell_type": "code",
   "execution_count": 362,
   "metadata": {},
   "outputs": [
    {
     "data": {
      "text/plain": [
       "1584"
      ]
     },
     "execution_count": 362,
     "metadata": {},
     "output_type": "execute_result"
    }
   ],
   "source": [
    "len(train_XGBGrid_score)"
   ]
  },
  {
   "cell_type": "code",
   "execution_count": 345,
   "metadata": {},
   "outputs": [
    {
     "data": {
      "text/html": [
       "<div>\n",
       "<style scoped>\n",
       "    .dataframe tbody tr th:only-of-type {\n",
       "        vertical-align: middle;\n",
       "    }\n",
       "\n",
       "    .dataframe tbody tr th {\n",
       "        vertical-align: top;\n",
       "    }\n",
       "\n",
       "    .dataframe thead th {\n",
       "        text-align: right;\n",
       "    }\n",
       "</style>\n",
       "<table border=\"1\" class=\"dataframe\">\n",
       "  <thead>\n",
       "    <tr style=\"text-align: right;\">\n",
       "      <th>col_0</th>\n",
       "      <th>分箱</th>\n",
       "      <th>样本数</th>\n",
       "      <th>好样本数</th>\n",
       "      <th>坏样本数</th>\n",
       "      <th>逾期率</th>\n",
       "      <th>Bad分布占比</th>\n",
       "      <th>Good分布占比</th>\n",
       "      <th>累积Bad占比</th>\n",
       "      <th>累积Good占比</th>\n",
       "      <th>KS</th>\n",
       "      <th>odds(good:bad)</th>\n",
       "    </tr>\n",
       "  </thead>\n",
       "  <tbody>\n",
       "    <tr>\n",
       "      <th>0</th>\n",
       "      <td>(507.0, 561.0]</td>\n",
       "      <td>160</td>\n",
       "      <td>0</td>\n",
       "      <td>160</td>\n",
       "      <td>1.000000</td>\n",
       "      <td>0.258900</td>\n",
       "      <td>0.000000</td>\n",
       "      <td>0.258900</td>\n",
       "      <td>0.000000</td>\n",
       "      <td>0.2589</td>\n",
       "      <td>0.000000</td>\n",
       "    </tr>\n",
       "    <tr>\n",
       "      <th>1</th>\n",
       "      <td>(561.0, 582.0]</td>\n",
       "      <td>157</td>\n",
       "      <td>6</td>\n",
       "      <td>151</td>\n",
       "      <td>0.961783</td>\n",
       "      <td>0.244337</td>\n",
       "      <td>0.006211</td>\n",
       "      <td>0.503236</td>\n",
       "      <td>0.006211</td>\n",
       "      <td>0.4970</td>\n",
       "      <td>0.000000</td>\n",
       "    </tr>\n",
       "    <tr>\n",
       "      <th>2</th>\n",
       "      <td>(582.0, 599.0]</td>\n",
       "      <td>166</td>\n",
       "      <td>44</td>\n",
       "      <td>122</td>\n",
       "      <td>0.734940</td>\n",
       "      <td>0.197411</td>\n",
       "      <td>0.045549</td>\n",
       "      <td>0.700647</td>\n",
       "      <td>0.051760</td>\n",
       "      <td>0.6489</td>\n",
       "      <td>0.400000</td>\n",
       "    </tr>\n",
       "    <tr>\n",
       "      <th>3</th>\n",
       "      <td>(599.0, 611.0]</td>\n",
       "      <td>155</td>\n",
       "      <td>64</td>\n",
       "      <td>91</td>\n",
       "      <td>0.587097</td>\n",
       "      <td>0.147249</td>\n",
       "      <td>0.066253</td>\n",
       "      <td>0.847896</td>\n",
       "      <td>0.118012</td>\n",
       "      <td>0.7299</td>\n",
       "      <td>0.700000</td>\n",
       "    </tr>\n",
       "    <tr>\n",
       "      <th>4</th>\n",
       "      <td>(611.0, 621.0]</td>\n",
       "      <td>160</td>\n",
       "      <td>103</td>\n",
       "      <td>57</td>\n",
       "      <td>0.356250</td>\n",
       "      <td>0.092233</td>\n",
       "      <td>0.106625</td>\n",
       "      <td>0.940129</td>\n",
       "      <td>0.224638</td>\n",
       "      <td>0.7155</td>\n",
       "      <td>1.800000</td>\n",
       "    </tr>\n",
       "    <tr>\n",
       "      <th>5</th>\n",
       "      <td>(621.0, 629.0]</td>\n",
       "      <td>160</td>\n",
       "      <td>135</td>\n",
       "      <td>25</td>\n",
       "      <td>0.156250</td>\n",
       "      <td>0.040453</td>\n",
       "      <td>0.139752</td>\n",
       "      <td>0.980583</td>\n",
       "      <td>0.364389</td>\n",
       "      <td>0.6162</td>\n",
       "      <td>5.400000</td>\n",
       "    </tr>\n",
       "    <tr>\n",
       "      <th>6</th>\n",
       "      <td>(629.0, 638.0]</td>\n",
       "      <td>170</td>\n",
       "      <td>164</td>\n",
       "      <td>6</td>\n",
       "      <td>0.035294</td>\n",
       "      <td>0.009709</td>\n",
       "      <td>0.169772</td>\n",
       "      <td>0.990291</td>\n",
       "      <td>0.534161</td>\n",
       "      <td>0.4561</td>\n",
       "      <td>27.300000</td>\n",
       "    </tr>\n",
       "    <tr>\n",
       "      <th>7</th>\n",
       "      <td>(638.0, 647.0]</td>\n",
       "      <td>160</td>\n",
       "      <td>154</td>\n",
       "      <td>6</td>\n",
       "      <td>0.037500</td>\n",
       "      <td>0.009709</td>\n",
       "      <td>0.159420</td>\n",
       "      <td>1.000000</td>\n",
       "      <td>0.693582</td>\n",
       "      <td>0.3064</td>\n",
       "      <td>25.700000</td>\n",
       "    </tr>\n",
       "    <tr>\n",
       "      <th>8</th>\n",
       "      <td>(647.0, 656.0]</td>\n",
       "      <td>139</td>\n",
       "      <td>139</td>\n",
       "      <td>0</td>\n",
       "      <td>0.000000</td>\n",
       "      <td>0.000000</td>\n",
       "      <td>0.143892</td>\n",
       "      <td>1.000000</td>\n",
       "      <td>0.837474</td>\n",
       "      <td>0.1625</td>\n",
       "      <td>inf</td>\n",
       "    </tr>\n",
       "    <tr>\n",
       "      <th>9</th>\n",
       "      <td>(656.0, 690.0]</td>\n",
       "      <td>157</td>\n",
       "      <td>157</td>\n",
       "      <td>0</td>\n",
       "      <td>0.000000</td>\n",
       "      <td>0.000000</td>\n",
       "      <td>0.162526</td>\n",
       "      <td>1.000000</td>\n",
       "      <td>1.000000</td>\n",
       "      <td>-0.0000</td>\n",
       "      <td>inf</td>\n",
       "    </tr>\n",
       "  </tbody>\n",
       "</table>\n",
       "</div>"
      ],
      "text/plain": [
       "col_0              分箱  样本数  好样本数  坏样本数       逾期率   Bad分布占比  Good分布占比  \\\n",
       "0      (507.0, 561.0]  160     0   160  1.000000  0.258900  0.000000   \n",
       "1      (561.0, 582.0]  157     6   151  0.961783  0.244337  0.006211   \n",
       "2      (582.0, 599.0]  166    44   122  0.734940  0.197411  0.045549   \n",
       "3      (599.0, 611.0]  155    64    91  0.587097  0.147249  0.066253   \n",
       "4      (611.0, 621.0]  160   103    57  0.356250  0.092233  0.106625   \n",
       "5      (621.0, 629.0]  160   135    25  0.156250  0.040453  0.139752   \n",
       "6      (629.0, 638.0]  170   164     6  0.035294  0.009709  0.169772   \n",
       "7      (638.0, 647.0]  160   154     6  0.037500  0.009709  0.159420   \n",
       "8      (647.0, 656.0]  139   139     0  0.000000  0.000000  0.143892   \n",
       "9      (656.0, 690.0]  157   157     0  0.000000  0.000000  0.162526   \n",
       "\n",
       "col_0   累积Bad占比  累积Good占比      KS  odds(good:bad)  \n",
       "0      0.258900  0.000000  0.2589        0.000000  \n",
       "1      0.503236  0.006211  0.4970        0.000000  \n",
       "2      0.700647  0.051760  0.6489        0.400000  \n",
       "3      0.847896  0.118012  0.7299        0.700000  \n",
       "4      0.940129  0.224638  0.7155        1.800000  \n",
       "5      0.980583  0.364389  0.6162        5.400000  \n",
       "6      0.990291  0.534161  0.4561       27.300000  \n",
       "7      1.000000  0.693582  0.3064       25.700000  \n",
       "8      1.000000  0.837474  0.1625             inf  \n",
       "9      1.000000  1.000000 -0.0000             inf  "
      ]
     },
     "execution_count": 345,
     "metadata": {},
     "output_type": "execute_result"
    }
   ],
   "source": [
    "# 训练集\n",
    "ks_decile_XGBGrid_train = mt.Performance().calculate_ks_by_decile(train_XGBGrid_score, np.array(y_train_new), 'decile', q=10)\n",
    "ks_decile_XGBGrid_train"
   ]
  },
  {
   "cell_type": "code",
   "execution_count": 346,
   "metadata": {},
   "outputs": [
    {
     "data": {
      "text/html": [
       "<div>\n",
       "<style scoped>\n",
       "    .dataframe tbody tr th:only-of-type {\n",
       "        vertical-align: middle;\n",
       "    }\n",
       "\n",
       "    .dataframe tbody tr th {\n",
       "        vertical-align: top;\n",
       "    }\n",
       "\n",
       "    .dataframe thead th {\n",
       "        text-align: right;\n",
       "    }\n",
       "</style>\n",
       "<table border=\"1\" class=\"dataframe\">\n",
       "  <thead>\n",
       "    <tr style=\"text-align: right;\">\n",
       "      <th>col_0</th>\n",
       "      <th>分箱</th>\n",
       "      <th>样本数</th>\n",
       "      <th>好样本数</th>\n",
       "      <th>坏样本数</th>\n",
       "      <th>逾期率</th>\n",
       "      <th>Bad分布占比</th>\n",
       "      <th>Good分布占比</th>\n",
       "      <th>累积Bad占比</th>\n",
       "      <th>累积Good占比</th>\n",
       "      <th>KS</th>\n",
       "      <th>odds(good:bad)</th>\n",
       "    </tr>\n",
       "  </thead>\n",
       "  <tbody>\n",
       "    <tr>\n",
       "      <th>0</th>\n",
       "      <td>(-inf, 561.0]</td>\n",
       "      <td>77</td>\n",
       "      <td>0</td>\n",
       "      <td>77</td>\n",
       "      <td>1.000000</td>\n",
       "      <td>0.275986</td>\n",
       "      <td>0.000000</td>\n",
       "      <td>0.275986</td>\n",
       "      <td>0.000000</td>\n",
       "      <td>0.2760</td>\n",
       "      <td>0.000000</td>\n",
       "    </tr>\n",
       "    <tr>\n",
       "      <th>1</th>\n",
       "      <td>(561.0, 582.0]</td>\n",
       "      <td>69</td>\n",
       "      <td>4</td>\n",
       "      <td>65</td>\n",
       "      <td>0.942029</td>\n",
       "      <td>0.232975</td>\n",
       "      <td>0.009975</td>\n",
       "      <td>0.508961</td>\n",
       "      <td>0.009975</td>\n",
       "      <td>0.4990</td>\n",
       "      <td>0.100000</td>\n",
       "    </tr>\n",
       "    <tr>\n",
       "      <th>2</th>\n",
       "      <td>(582.0, 599.0]</td>\n",
       "      <td>78</td>\n",
       "      <td>15</td>\n",
       "      <td>63</td>\n",
       "      <td>0.807692</td>\n",
       "      <td>0.225806</td>\n",
       "      <td>0.037406</td>\n",
       "      <td>0.734767</td>\n",
       "      <td>0.047382</td>\n",
       "      <td>0.6874</td>\n",
       "      <td>0.200000</td>\n",
       "    </tr>\n",
       "    <tr>\n",
       "      <th>3</th>\n",
       "      <td>(599.0, 611.0]</td>\n",
       "      <td>56</td>\n",
       "      <td>22</td>\n",
       "      <td>34</td>\n",
       "      <td>0.607143</td>\n",
       "      <td>0.121864</td>\n",
       "      <td>0.054863</td>\n",
       "      <td>0.856631</td>\n",
       "      <td>0.102244</td>\n",
       "      <td>0.7544</td>\n",
       "      <td>0.600000</td>\n",
       "    </tr>\n",
       "    <tr>\n",
       "      <th>4</th>\n",
       "      <td>(611.0, 621.0]</td>\n",
       "      <td>70</td>\n",
       "      <td>48</td>\n",
       "      <td>22</td>\n",
       "      <td>0.314286</td>\n",
       "      <td>0.078853</td>\n",
       "      <td>0.119701</td>\n",
       "      <td>0.935484</td>\n",
       "      <td>0.221945</td>\n",
       "      <td>0.7135</td>\n",
       "      <td>2.200000</td>\n",
       "    </tr>\n",
       "    <tr>\n",
       "      <th>5</th>\n",
       "      <td>(621.0, 629.0]</td>\n",
       "      <td>61</td>\n",
       "      <td>47</td>\n",
       "      <td>14</td>\n",
       "      <td>0.229508</td>\n",
       "      <td>0.050179</td>\n",
       "      <td>0.117207</td>\n",
       "      <td>0.985663</td>\n",
       "      <td>0.339152</td>\n",
       "      <td>0.6465</td>\n",
       "      <td>3.400000</td>\n",
       "    </tr>\n",
       "    <tr>\n",
       "      <th>6</th>\n",
       "      <td>(629.0, 638.0]</td>\n",
       "      <td>65</td>\n",
       "      <td>61</td>\n",
       "      <td>4</td>\n",
       "      <td>0.061538</td>\n",
       "      <td>0.014337</td>\n",
       "      <td>0.152120</td>\n",
       "      <td>1.000000</td>\n",
       "      <td>0.491272</td>\n",
       "      <td>0.5087</td>\n",
       "      <td>15.200000</td>\n",
       "    </tr>\n",
       "    <tr>\n",
       "      <th>7</th>\n",
       "      <td>(638.0, 647.0]</td>\n",
       "      <td>65</td>\n",
       "      <td>65</td>\n",
       "      <td>0</td>\n",
       "      <td>0.000000</td>\n",
       "      <td>0.000000</td>\n",
       "      <td>0.162095</td>\n",
       "      <td>1.000000</td>\n",
       "      <td>0.653367</td>\n",
       "      <td>0.3466</td>\n",
       "      <td>inf</td>\n",
       "    </tr>\n",
       "    <tr>\n",
       "      <th>8</th>\n",
       "      <td>(647.0, 656.0]</td>\n",
       "      <td>62</td>\n",
       "      <td>62</td>\n",
       "      <td>0</td>\n",
       "      <td>0.000000</td>\n",
       "      <td>0.000000</td>\n",
       "      <td>0.154613</td>\n",
       "      <td>1.000000</td>\n",
       "      <td>0.807980</td>\n",
       "      <td>0.1920</td>\n",
       "      <td>inf</td>\n",
       "    </tr>\n",
       "    <tr>\n",
       "      <th>9</th>\n",
       "      <td>(656.0, inf]</td>\n",
       "      <td>77</td>\n",
       "      <td>77</td>\n",
       "      <td>0</td>\n",
       "      <td>0.000000</td>\n",
       "      <td>0.000000</td>\n",
       "      <td>0.192020</td>\n",
       "      <td>1.000000</td>\n",
       "      <td>1.000000</td>\n",
       "      <td>0.0000</td>\n",
       "      <td>inf</td>\n",
       "    </tr>\n",
       "  </tbody>\n",
       "</table>\n",
       "</div>"
      ],
      "text/plain": [
       "col_0              分箱  样本数  好样本数  坏样本数       逾期率   Bad分布占比  Good分布占比  \\\n",
       "0       (-inf, 561.0]   77     0    77  1.000000  0.275986  0.000000   \n",
       "1      (561.0, 582.0]   69     4    65  0.942029  0.232975  0.009975   \n",
       "2      (582.0, 599.0]   78    15    63  0.807692  0.225806  0.037406   \n",
       "3      (599.0, 611.0]   56    22    34  0.607143  0.121864  0.054863   \n",
       "4      (611.0, 621.0]   70    48    22  0.314286  0.078853  0.119701   \n",
       "5      (621.0, 629.0]   61    47    14  0.229508  0.050179  0.117207   \n",
       "6      (629.0, 638.0]   65    61     4  0.061538  0.014337  0.152120   \n",
       "7      (638.0, 647.0]   65    65     0  0.000000  0.000000  0.162095   \n",
       "8      (647.0, 656.0]   62    62     0  0.000000  0.000000  0.154613   \n",
       "9        (656.0, inf]   77    77     0  0.000000  0.000000  0.192020   \n",
       "\n",
       "col_0   累积Bad占比  累积Good占比      KS  odds(good:bad)  \n",
       "0      0.275986  0.000000  0.2760        0.000000  \n",
       "1      0.508961  0.009975  0.4990        0.100000  \n",
       "2      0.734767  0.047382  0.6874        0.200000  \n",
       "3      0.856631  0.102244  0.7544        0.600000  \n",
       "4      0.935484  0.221945  0.7135        2.200000  \n",
       "5      0.985663  0.339152  0.6465        3.400000  \n",
       "6      1.000000  0.491272  0.5087       15.200000  \n",
       "7      1.000000  0.653367  0.3466             inf  \n",
       "8      1.000000  0.807980  0.1920             inf  \n",
       "9      1.000000  1.000000  0.0000             inf  "
      ]
     },
     "execution_count": 346,
     "metadata": {},
     "output_type": "execute_result"
    }
   ],
   "source": [
    "# 测试集\n",
    "point_bounds_XGBGrid = mt.BinWoe().obtain_boundaries(ks_decile_XGBGrid_train[u'分箱'])['cut_boundaries']\n",
    "ks_decile_XGBGrid_test = mt.Performance().calculate_ks_by_decile(test_XGBGrid_score, np.array(y_test_new), 'decile', \\\n",
    "                                                         manual_cut_bounds=point_bounds_XGBGrid)\n",
    "ks_decile_XGBGrid_test"
   ]
  },
  {
   "cell_type": "code",
   "execution_count": null,
   "metadata": {},
   "outputs": [],
   "source": []
  },
  {
   "cell_type": "code",
   "execution_count": null,
   "metadata": {},
   "outputs": [],
   "source": [
    "\"\"\"\n",
    "OOT\n",
    "\"\"\""
   ]
  },
  {
   "cell_type": "code",
   "execution_count": 325,
   "metadata": {},
   "outputs": [
    {
     "data": {
      "text/plain": [
       "(1250, 231)"
      ]
     },
     "execution_count": 325,
     "metadata": {},
     "output_type": "execute_result"
    }
   ],
   "source": [
    "X_test_df.shape"
   ]
  },
  {
   "cell_type": "code",
   "execution_count": 375,
   "metadata": {},
   "outputs": [],
   "source": [
    "#Exp\n",
    "test_score = mt.Performance().calculate_score_by_xgb_model_result\\\n",
    "(X_test_xgboost_without_bin_dummy, model_result_exp)"
   ]
  },
  {
   "cell_type": "code",
   "execution_count": 376,
   "metadata": {},
   "outputs": [
    {
     "data": {
      "text/html": [
       "<div>\n",
       "<style scoped>\n",
       "    .dataframe tbody tr th:only-of-type {\n",
       "        vertical-align: middle;\n",
       "    }\n",
       "\n",
       "    .dataframe tbody tr th {\n",
       "        vertical-align: top;\n",
       "    }\n",
       "\n",
       "    .dataframe thead th {\n",
       "        text-align: right;\n",
       "    }\n",
       "</style>\n",
       "<table border=\"1\" class=\"dataframe\">\n",
       "  <thead>\n",
       "    <tr style=\"text-align: right;\">\n",
       "      <th></th>\n",
       "      <th>perf_flag</th>\n",
       "    </tr>\n",
       "    <tr>\n",
       "      <th>order_no</th>\n",
       "      <th></th>\n",
       "    </tr>\n",
       "  </thead>\n",
       "  <tbody>\n",
       "    <tr>\n",
       "      <th>CP2018122316040641486425</th>\n",
       "      <td>1</td>\n",
       "    </tr>\n",
       "    <tr>\n",
       "      <th>CP2019010515582704484981</th>\n",
       "      <td>1</td>\n",
       "    </tr>\n",
       "    <tr>\n",
       "      <th>CP2019010820150005663589</th>\n",
       "      <td>1</td>\n",
       "    </tr>\n",
       "    <tr>\n",
       "      <th>CP2019010822290927371439</th>\n",
       "      <td>0</td>\n",
       "    </tr>\n",
       "    <tr>\n",
       "      <th>CP2019010415513181322841</th>\n",
       "      <td>1</td>\n",
       "    </tr>\n",
       "  </tbody>\n",
       "</table>\n",
       "</div>"
      ],
      "text/plain": [
       "                          perf_flag\n",
       "order_no                           \n",
       "CP2018122316040641486425          1\n",
       "CP2019010515582704484981          1\n",
       "CP2019010820150005663589          1\n",
       "CP2019010822290927371439          0\n",
       "CP2019010415513181322841          1"
      ]
     },
     "execution_count": 376,
     "metadata": {},
     "output_type": "execute_result"
    }
   ],
   "source": [
    "pd.DataFrame(y_test_df).head()"
   ]
  },
  {
   "cell_type": "code",
   "execution_count": 377,
   "metadata": {},
   "outputs": [],
   "source": [
    "test_all = pd.merge(pd.DataFrame(y_test_df),test_score,left_index=True,right_index=True)"
   ]
  },
  {
   "cell_type": "code",
   "execution_count": 378,
   "metadata": {},
   "outputs": [
    {
     "data": {
      "text/html": [
       "<div>\n",
       "<style scoped>\n",
       "    .dataframe tbody tr th:only-of-type {\n",
       "        vertical-align: middle;\n",
       "    }\n",
       "\n",
       "    .dataframe tbody tr th {\n",
       "        vertical-align: top;\n",
       "    }\n",
       "\n",
       "    .dataframe thead th {\n",
       "        text-align: right;\n",
       "    }\n",
       "</style>\n",
       "<table border=\"1\" class=\"dataframe\">\n",
       "  <thead>\n",
       "    <tr style=\"text-align: right;\">\n",
       "      <th></th>\n",
       "      <th>perf_flag</th>\n",
       "      <th>prob</th>\n",
       "      <th>xgbScore</th>\n",
       "    </tr>\n",
       "    <tr>\n",
       "      <th>order_no</th>\n",
       "      <th></th>\n",
       "      <th></th>\n",
       "      <th></th>\n",
       "    </tr>\n",
       "  </thead>\n",
       "  <tbody>\n",
       "    <tr>\n",
       "      <th>CP2018122316040641486425</th>\n",
       "      <td>1</td>\n",
       "      <td>0.369075</td>\n",
       "      <td>615.0</td>\n",
       "    </tr>\n",
       "    <tr>\n",
       "      <th>CP2019010515582704484981</th>\n",
       "      <td>1</td>\n",
       "      <td>0.733963</td>\n",
       "      <td>571.0</td>\n",
       "    </tr>\n",
       "    <tr>\n",
       "      <th>CP2019010820150005663589</th>\n",
       "      <td>1</td>\n",
       "      <td>0.851005</td>\n",
       "      <td>550.0</td>\n",
       "    </tr>\n",
       "    <tr>\n",
       "      <th>CP2019010822290927371439</th>\n",
       "      <td>0</td>\n",
       "      <td>0.247504</td>\n",
       "      <td>632.0</td>\n",
       "    </tr>\n",
       "    <tr>\n",
       "      <th>CP2019010415513181322841</th>\n",
       "      <td>1</td>\n",
       "      <td>0.718068</td>\n",
       "      <td>573.0</td>\n",
       "    </tr>\n",
       "  </tbody>\n",
       "</table>\n",
       "</div>"
      ],
      "text/plain": [
       "                          perf_flag      prob  xgbScore\n",
       "order_no                                               \n",
       "CP2018122316040641486425          1  0.369075     615.0\n",
       "CP2019010515582704484981          1  0.733963     571.0\n",
       "CP2019010820150005663589          1  0.851005     550.0\n",
       "CP2019010822290927371439          0  0.247504     632.0\n",
       "CP2019010415513181322841          1  0.718068     573.0"
      ]
     },
     "execution_count": 378,
     "metadata": {},
     "output_type": "execute_result"
    }
   ],
   "source": [
    "test_all.head()"
   ]
  },
  {
   "cell_type": "code",
   "execution_count": 379,
   "metadata": {},
   "outputs": [
    {
     "data": {
      "text/html": [
       "<div>\n",
       "<style scoped>\n",
       "    .dataframe tbody tr th:only-of-type {\n",
       "        vertical-align: middle;\n",
       "    }\n",
       "\n",
       "    .dataframe tbody tr th {\n",
       "        vertical-align: top;\n",
       "    }\n",
       "\n",
       "    .dataframe thead th {\n",
       "        text-align: right;\n",
       "    }\n",
       "</style>\n",
       "<table border=\"1\" class=\"dataframe\">\n",
       "  <thead>\n",
       "    <tr style=\"text-align: right;\">\n",
       "      <th>perf_flag</th>\n",
       "      <th>分箱</th>\n",
       "      <th>样本数</th>\n",
       "      <th>好样本数</th>\n",
       "      <th>坏样本数</th>\n",
       "      <th>逾期率</th>\n",
       "      <th>Bad分布占比</th>\n",
       "      <th>Good分布占比</th>\n",
       "      <th>累积Bad占比</th>\n",
       "      <th>累积Good占比</th>\n",
       "      <th>KS</th>\n",
       "      <th>odds(good:bad)</th>\n",
       "    </tr>\n",
       "  </thead>\n",
       "  <tbody>\n",
       "    <tr>\n",
       "      <th>0</th>\n",
       "      <td>(-inf, 573.0]</td>\n",
       "      <td>118</td>\n",
       "      <td>40</td>\n",
       "      <td>78</td>\n",
       "      <td>0.661017</td>\n",
       "      <td>0.225434</td>\n",
       "      <td>0.044248</td>\n",
       "      <td>0.225434</td>\n",
       "      <td>0.044248</td>\n",
       "      <td>0.1812</td>\n",
       "      <td>0.5</td>\n",
       "    </tr>\n",
       "    <tr>\n",
       "      <th>1</th>\n",
       "      <td>(573.0, 589.0]</td>\n",
       "      <td>131</td>\n",
       "      <td>66</td>\n",
       "      <td>65</td>\n",
       "      <td>0.496183</td>\n",
       "      <td>0.187861</td>\n",
       "      <td>0.073009</td>\n",
       "      <td>0.413295</td>\n",
       "      <td>0.117257</td>\n",
       "      <td>0.2960</td>\n",
       "      <td>1.0</td>\n",
       "    </tr>\n",
       "    <tr>\n",
       "      <th>2</th>\n",
       "      <td>(589.0, 601.0]</td>\n",
       "      <td>118</td>\n",
       "      <td>84</td>\n",
       "      <td>34</td>\n",
       "      <td>0.288136</td>\n",
       "      <td>0.098266</td>\n",
       "      <td>0.092920</td>\n",
       "      <td>0.511561</td>\n",
       "      <td>0.210177</td>\n",
       "      <td>0.3014</td>\n",
       "      <td>2.5</td>\n",
       "    </tr>\n",
       "    <tr>\n",
       "      <th>3</th>\n",
       "      <td>(601.0, 612.0]</td>\n",
       "      <td>170</td>\n",
       "      <td>128</td>\n",
       "      <td>42</td>\n",
       "      <td>0.247059</td>\n",
       "      <td>0.121387</td>\n",
       "      <td>0.141593</td>\n",
       "      <td>0.632948</td>\n",
       "      <td>0.351770</td>\n",
       "      <td>0.2812</td>\n",
       "      <td>3.0</td>\n",
       "    </tr>\n",
       "    <tr>\n",
       "      <th>4</th>\n",
       "      <td>(612.0, 619.0]</td>\n",
       "      <td>137</td>\n",
       "      <td>101</td>\n",
       "      <td>36</td>\n",
       "      <td>0.262774</td>\n",
       "      <td>0.104046</td>\n",
       "      <td>0.111726</td>\n",
       "      <td>0.736994</td>\n",
       "      <td>0.463496</td>\n",
       "      <td>0.2735</td>\n",
       "      <td>2.8</td>\n",
       "    </tr>\n",
       "    <tr>\n",
       "      <th>5</th>\n",
       "      <td>(619.0, 625.0]</td>\n",
       "      <td>134</td>\n",
       "      <td>108</td>\n",
       "      <td>26</td>\n",
       "      <td>0.194030</td>\n",
       "      <td>0.075145</td>\n",
       "      <td>0.119469</td>\n",
       "      <td>0.812139</td>\n",
       "      <td>0.582965</td>\n",
       "      <td>0.2292</td>\n",
       "      <td>4.2</td>\n",
       "    </tr>\n",
       "    <tr>\n",
       "      <th>6</th>\n",
       "      <td>(625.0, 631.0]</td>\n",
       "      <td>120</td>\n",
       "      <td>102</td>\n",
       "      <td>18</td>\n",
       "      <td>0.150000</td>\n",
       "      <td>0.052023</td>\n",
       "      <td>0.112832</td>\n",
       "      <td>0.864162</td>\n",
       "      <td>0.695796</td>\n",
       "      <td>0.1684</td>\n",
       "      <td>5.7</td>\n",
       "    </tr>\n",
       "    <tr>\n",
       "      <th>7</th>\n",
       "      <td>(631.0, 638.0]</td>\n",
       "      <td>121</td>\n",
       "      <td>102</td>\n",
       "      <td>19</td>\n",
       "      <td>0.157025</td>\n",
       "      <td>0.054913</td>\n",
       "      <td>0.112832</td>\n",
       "      <td>0.919075</td>\n",
       "      <td>0.808628</td>\n",
       "      <td>0.1104</td>\n",
       "      <td>5.4</td>\n",
       "    </tr>\n",
       "    <tr>\n",
       "      <th>8</th>\n",
       "      <td>(638.0, 646.0]</td>\n",
       "      <td>118</td>\n",
       "      <td>100</td>\n",
       "      <td>18</td>\n",
       "      <td>0.152542</td>\n",
       "      <td>0.052023</td>\n",
       "      <td>0.110619</td>\n",
       "      <td>0.971098</td>\n",
       "      <td>0.919248</td>\n",
       "      <td>0.0519</td>\n",
       "      <td>5.6</td>\n",
       "    </tr>\n",
       "    <tr>\n",
       "      <th>9</th>\n",
       "      <td>(646.0, inf]</td>\n",
       "      <td>83</td>\n",
       "      <td>73</td>\n",
       "      <td>10</td>\n",
       "      <td>0.120482</td>\n",
       "      <td>0.028902</td>\n",
       "      <td>0.080752</td>\n",
       "      <td>1.000000</td>\n",
       "      <td>1.000000</td>\n",
       "      <td>0.0000</td>\n",
       "      <td>7.3</td>\n",
       "    </tr>\n",
       "  </tbody>\n",
       "</table>\n",
       "</div>"
      ],
      "text/plain": [
       "perf_flag              分箱  样本数  好样本数  坏样本数       逾期率   Bad分布占比  Good分布占比  \\\n",
       "0           (-inf, 573.0]  118    40    78  0.661017  0.225434  0.044248   \n",
       "1          (573.0, 589.0]  131    66    65  0.496183  0.187861  0.073009   \n",
       "2          (589.0, 601.0]  118    84    34  0.288136  0.098266  0.092920   \n",
       "3          (601.0, 612.0]  170   128    42  0.247059  0.121387  0.141593   \n",
       "4          (612.0, 619.0]  137   101    36  0.262774  0.104046  0.111726   \n",
       "5          (619.0, 625.0]  134   108    26  0.194030  0.075145  0.119469   \n",
       "6          (625.0, 631.0]  120   102    18  0.150000  0.052023  0.112832   \n",
       "7          (631.0, 638.0]  121   102    19  0.157025  0.054913  0.112832   \n",
       "8          (638.0, 646.0]  118   100    18  0.152542  0.052023  0.110619   \n",
       "9            (646.0, inf]   83    73    10  0.120482  0.028902  0.080752   \n",
       "\n",
       "perf_flag   累积Bad占比  累积Good占比      KS  odds(good:bad)  \n",
       "0          0.225434  0.044248  0.1812             0.5  \n",
       "1          0.413295  0.117257  0.2960             1.0  \n",
       "2          0.511561  0.210177  0.3014             2.5  \n",
       "3          0.632948  0.351770  0.2812             3.0  \n",
       "4          0.736994  0.463496  0.2735             2.8  \n",
       "5          0.812139  0.582965  0.2292             4.2  \n",
       "6          0.864162  0.695796  0.1684             5.7  \n",
       "7          0.919075  0.808628  0.1104             5.4  \n",
       "8          0.971098  0.919248  0.0519             5.6  \n",
       "9          1.000000  1.000000  0.0000             7.3  "
      ]
     },
     "execution_count": 379,
     "metadata": {},
     "output_type": "execute_result"
    }
   ],
   "source": [
    "mt.Performance().calculate_ks_by_decile(test_all.xgbScore,test_all.perf_flag, 'decile', manual_cut_bounds=point_bounds_XGBExp)\n"
   ]
  },
  {
   "cell_type": "code",
   "execution_count": 347,
   "metadata": {},
   "outputs": [],
   "source": [
    "#Grid\n",
    "test_score_grid = mt.Performance().calculate_score_by_xgb_model_result(X_test_xgboost_without_bin_dummy, model_result_grid)"
   ]
  },
  {
   "cell_type": "code",
   "execution_count": 349,
   "metadata": {},
   "outputs": [],
   "source": [
    "test_all_grid = pd.merge(pd.DataFrame(y_test_df),test_score_grid,left_index=True,right_index=True)"
   ]
  },
  {
   "cell_type": "code",
   "execution_count": 350,
   "metadata": {},
   "outputs": [
    {
     "data": {
      "text/html": [
       "<div>\n",
       "<style scoped>\n",
       "    .dataframe tbody tr th:only-of-type {\n",
       "        vertical-align: middle;\n",
       "    }\n",
       "\n",
       "    .dataframe tbody tr th {\n",
       "        vertical-align: top;\n",
       "    }\n",
       "\n",
       "    .dataframe thead th {\n",
       "        text-align: right;\n",
       "    }\n",
       "</style>\n",
       "<table border=\"1\" class=\"dataframe\">\n",
       "  <thead>\n",
       "    <tr style=\"text-align: right;\">\n",
       "      <th>perf_flag</th>\n",
       "      <th>分箱</th>\n",
       "      <th>样本数</th>\n",
       "      <th>好样本数</th>\n",
       "      <th>坏样本数</th>\n",
       "      <th>逾期率</th>\n",
       "      <th>Bad分布占比</th>\n",
       "      <th>Good分布占比</th>\n",
       "      <th>累积Bad占比</th>\n",
       "      <th>累积Good占比</th>\n",
       "      <th>KS</th>\n",
       "      <th>odds(good:bad)</th>\n",
       "    </tr>\n",
       "  </thead>\n",
       "  <tbody>\n",
       "    <tr>\n",
       "      <th>0</th>\n",
       "      <td>(-inf, 561.0]</td>\n",
       "      <td>80</td>\n",
       "      <td>22</td>\n",
       "      <td>58</td>\n",
       "      <td>0.725000</td>\n",
       "      <td>0.167630</td>\n",
       "      <td>0.024336</td>\n",
       "      <td>0.167630</td>\n",
       "      <td>0.024336</td>\n",
       "      <td>0.1433</td>\n",
       "      <td>0.4</td>\n",
       "    </tr>\n",
       "    <tr>\n",
       "      <th>1</th>\n",
       "      <td>(561.0, 582.0]</td>\n",
       "      <td>123</td>\n",
       "      <td>57</td>\n",
       "      <td>66</td>\n",
       "      <td>0.536585</td>\n",
       "      <td>0.190751</td>\n",
       "      <td>0.063053</td>\n",
       "      <td>0.358382</td>\n",
       "      <td>0.087389</td>\n",
       "      <td>0.2710</td>\n",
       "      <td>0.9</td>\n",
       "    </tr>\n",
       "    <tr>\n",
       "      <th>2</th>\n",
       "      <td>(582.0, 599.0]</td>\n",
       "      <td>166</td>\n",
       "      <td>119</td>\n",
       "      <td>47</td>\n",
       "      <td>0.283133</td>\n",
       "      <td>0.135838</td>\n",
       "      <td>0.131637</td>\n",
       "      <td>0.494220</td>\n",
       "      <td>0.219027</td>\n",
       "      <td>0.2752</td>\n",
       "      <td>2.5</td>\n",
       "    </tr>\n",
       "    <tr>\n",
       "      <th>3</th>\n",
       "      <td>(599.0, 611.0]</td>\n",
       "      <td>152</td>\n",
       "      <td>103</td>\n",
       "      <td>49</td>\n",
       "      <td>0.322368</td>\n",
       "      <td>0.141618</td>\n",
       "      <td>0.113938</td>\n",
       "      <td>0.635838</td>\n",
       "      <td>0.332965</td>\n",
       "      <td>0.3029</td>\n",
       "      <td>2.1</td>\n",
       "    </tr>\n",
       "    <tr>\n",
       "      <th>4</th>\n",
       "      <td>(611.0, 621.0]</td>\n",
       "      <td>169</td>\n",
       "      <td>140</td>\n",
       "      <td>29</td>\n",
       "      <td>0.171598</td>\n",
       "      <td>0.083815</td>\n",
       "      <td>0.154867</td>\n",
       "      <td>0.719653</td>\n",
       "      <td>0.487832</td>\n",
       "      <td>0.2318</td>\n",
       "      <td>4.8</td>\n",
       "    </tr>\n",
       "    <tr>\n",
       "      <th>5</th>\n",
       "      <td>(621.0, 629.0]</td>\n",
       "      <td>153</td>\n",
       "      <td>130</td>\n",
       "      <td>23</td>\n",
       "      <td>0.150327</td>\n",
       "      <td>0.066474</td>\n",
       "      <td>0.143805</td>\n",
       "      <td>0.786127</td>\n",
       "      <td>0.631637</td>\n",
       "      <td>0.1545</td>\n",
       "      <td>5.7</td>\n",
       "    </tr>\n",
       "    <tr>\n",
       "      <th>6</th>\n",
       "      <td>(629.0, 638.0]</td>\n",
       "      <td>132</td>\n",
       "      <td>100</td>\n",
       "      <td>32</td>\n",
       "      <td>0.242424</td>\n",
       "      <td>0.092486</td>\n",
       "      <td>0.110619</td>\n",
       "      <td>0.878613</td>\n",
       "      <td>0.742257</td>\n",
       "      <td>0.1364</td>\n",
       "      <td>3.1</td>\n",
       "    </tr>\n",
       "    <tr>\n",
       "      <th>7</th>\n",
       "      <td>(638.0, 647.0]</td>\n",
       "      <td>110</td>\n",
       "      <td>95</td>\n",
       "      <td>15</td>\n",
       "      <td>0.136364</td>\n",
       "      <td>0.043353</td>\n",
       "      <td>0.105088</td>\n",
       "      <td>0.921965</td>\n",
       "      <td>0.847345</td>\n",
       "      <td>0.0746</td>\n",
       "      <td>6.3</td>\n",
       "    </tr>\n",
       "    <tr>\n",
       "      <th>8</th>\n",
       "      <td>(647.0, 656.0]</td>\n",
       "      <td>98</td>\n",
       "      <td>81</td>\n",
       "      <td>17</td>\n",
       "      <td>0.173469</td>\n",
       "      <td>0.049133</td>\n",
       "      <td>0.089602</td>\n",
       "      <td>0.971098</td>\n",
       "      <td>0.936947</td>\n",
       "      <td>0.0342</td>\n",
       "      <td>4.8</td>\n",
       "    </tr>\n",
       "    <tr>\n",
       "      <th>9</th>\n",
       "      <td>(656.0, inf]</td>\n",
       "      <td>67</td>\n",
       "      <td>57</td>\n",
       "      <td>10</td>\n",
       "      <td>0.149254</td>\n",
       "      <td>0.028902</td>\n",
       "      <td>0.063053</td>\n",
       "      <td>1.000000</td>\n",
       "      <td>1.000000</td>\n",
       "      <td>0.0000</td>\n",
       "      <td>5.7</td>\n",
       "    </tr>\n",
       "  </tbody>\n",
       "</table>\n",
       "</div>"
      ],
      "text/plain": [
       "perf_flag              分箱  样本数  好样本数  坏样本数       逾期率   Bad分布占比  Good分布占比  \\\n",
       "0           (-inf, 561.0]   80    22    58  0.725000  0.167630  0.024336   \n",
       "1          (561.0, 582.0]  123    57    66  0.536585  0.190751  0.063053   \n",
       "2          (582.0, 599.0]  166   119    47  0.283133  0.135838  0.131637   \n",
       "3          (599.0, 611.0]  152   103    49  0.322368  0.141618  0.113938   \n",
       "4          (611.0, 621.0]  169   140    29  0.171598  0.083815  0.154867   \n",
       "5          (621.0, 629.0]  153   130    23  0.150327  0.066474  0.143805   \n",
       "6          (629.0, 638.0]  132   100    32  0.242424  0.092486  0.110619   \n",
       "7          (638.0, 647.0]  110    95    15  0.136364  0.043353  0.105088   \n",
       "8          (647.0, 656.0]   98    81    17  0.173469  0.049133  0.089602   \n",
       "9            (656.0, inf]   67    57    10  0.149254  0.028902  0.063053   \n",
       "\n",
       "perf_flag   累积Bad占比  累积Good占比      KS  odds(good:bad)  \n",
       "0          0.167630  0.024336  0.1433             0.4  \n",
       "1          0.358382  0.087389  0.2710             0.9  \n",
       "2          0.494220  0.219027  0.2752             2.5  \n",
       "3          0.635838  0.332965  0.3029             2.1  \n",
       "4          0.719653  0.487832  0.2318             4.8  \n",
       "5          0.786127  0.631637  0.1545             5.7  \n",
       "6          0.878613  0.742257  0.1364             3.1  \n",
       "7          0.921965  0.847345  0.0746             6.3  \n",
       "8          0.971098  0.936947  0.0342             4.8  \n",
       "9          1.000000  1.000000  0.0000             5.7  "
      ]
     },
     "execution_count": 350,
     "metadata": {},
     "output_type": "execute_result"
    }
   ],
   "source": [
    "mt.Performance().calculate_ks_by_decile(test_all_grid.xgbScore,test_all_grid.perf_flag, 'decile', manual_cut_bounds=point_bounds_XGBGrid)"
   ]
  },
  {
   "cell_type": "code",
   "execution_count": null,
   "metadata": {},
   "outputs": [],
   "source": [
    "\"\"\"\n",
    "分train_test看稳定和有效性\n",
    "\"\"\"\n"
   ]
  },
  {
   "cell_type": "code",
   "execution_count": 698,
   "metadata": {},
   "outputs": [
    {
     "name": "stderr",
     "output_type": "stream",
     "text": [
      "C:\\Users\\Mint\\Anaconda3\\lib\\site-packages\\ipykernel_launcher.py:1: SettingWithCopyWarning: \n",
      "A value is trying to be set on a copy of a slice from a DataFrame.\n",
      "Try using .loc[row_indexer,col_indexer] = value instead\n",
      "\n",
      "See the caveats in the documentation: http://pandas.pydata.org/pandas-docs/stable/indexing.html#indexing-view-versus-copy\n",
      "  \"\"\"Entry point for launching an IPython kernel.\n"
     ]
    }
   ],
   "source": [
    "data_train['appmon'] = '0'\n",
    "X_cat_train_with_y_appmon = pd.merge(X_cat_train,data_train.loc[data_train.perf_flag.isin([0,1])][['perf_flag','appmon']] ,left_index=True,right_index=True)\n"
   ]
  },
  {
   "cell_type": "code",
   "execution_count": 699,
   "metadata": {},
   "outputs": [
    {
     "data": {
      "text/plain": [
       "(2264, 21)"
      ]
     },
     "execution_count": 699,
     "metadata": {},
     "output_type": "execute_result"
    }
   ],
   "source": [
    "X_cat_train_with_y_appmon.shape"
   ]
  },
  {
   "cell_type": "code",
   "execution_count": 700,
   "metadata": {},
   "outputs": [],
   "source": [
    "var_dist_badRate_by_time = ss.get_badRate_and_dist_by_time(X_cat_train_with_y_appmon,selected,'appmon','perf_flag')\n"
   ]
  },
  {
   "cell_type": "code",
   "execution_count": 701,
   "metadata": {},
   "outputs": [
    {
     "name": "stderr",
     "output_type": "stream",
     "text": [
      "C:\\Users\\Mint\\Anaconda3\\lib\\site-packages\\ipykernel_launcher.py:3: SettingWithCopyWarning: \n",
      "A value is trying to be set on a copy of a slice from a DataFrame.\n",
      "Try using .loc[row_indexer,col_indexer] = value instead\n",
      "\n",
      "See the caveats in the documentation: http://pandas.pydata.org/pandas-docs/stable/indexing.html#indexing-view-versus-copy\n",
      "  This is separate from the ipykernel package so we can avoid doing imports until\n"
     ]
    }
   ],
   "source": [
    "#test\n",
    "#data_test['appmon'] = data_test.effective_date.apply(lambda x:str(x)[0:7])\n",
    "data_test['appmon'] = '1'\n",
    "data_test.appmon.value_counts()\n",
    "X_cat_test_with_y_appmon = pd.merge(X_cat_test,data_test[['perf_flag','appmon']].replace(9,0) ,left_index=True,right_index=True)\n",
    "var_dist_badRate_by_time_test = ss.get_badRate_and_dist_by_time(X_cat_test_with_y_appmon,selected,'appmon','perf_flag')"
   ]
  },
  {
   "cell_type": "code",
   "execution_count": 702,
   "metadata": {},
   "outputs": [],
   "source": [
    "all_cat = pd.concat([X_cat_train,X_cat_test])\n",
    "app_data = pd.concat([data_train[['perf_flag','appmon']],data_test[['perf_flag','appmon']].replace(9,0)])\n",
    "\n",
    "X_cat_with_y_appmon_all = pd.merge(all_cat,app_data[['perf_flag','appmon']] ,left_index=True,right_index=True)\n",
    "\n",
    "var_dist_badRate_by_time_all = ss.get_badRate_and_dist_by_time(X_cat_with_y_appmon_all,selected,'appmon','perf_flag')\n",
    "var_dist_badRate_by_time_all.to_excel(os.path.join(result_path,'var_dist_badRate_by_time_all.xlsx'))"
   ]
  },
  {
   "cell_type": "code",
   "execution_count": null,
   "metadata": {},
   "outputs": [],
   "source": []
  },
  {
   "cell_type": "code",
   "execution_count": null,
   "metadata": {},
   "outputs": [],
   "source": []
  },
  {
   "cell_type": "code",
   "execution_count": 162,
   "metadata": {},
   "outputs": [
    {
     "data": {
      "text/plain": [
       "'\\n模型评估\\n'"
      ]
     },
     "execution_count": 162,
     "metadata": {},
     "output_type": "execute_result"
    }
   ],
   "source": [
    "\"\"\"\n",
    "模型评估\n",
    "\"\"\""
   ]
  },
  {
   "cell_type": "code",
   "execution_count": 703,
   "metadata": {},
   "outputs": [],
   "source": [
    "to_remove = ['ly_pre_18','jxl_pre_29']"
   ]
  },
  {
   "cell_type": "code",
   "execution_count": 846,
   "metadata": {},
   "outputs": [],
   "source": [
    "#to_keep = ['ly_pre_23','jxl_pre_95','xy_pre','monthlyincome','education','age_marital','ty_riskcode_6']\n",
    "to_keep = ['ly_pre_18','jxl_pre_95','xy_pre','monthlyincome','education','age_marital','ty_riskcode_6']\n",
    "#to_keep = ['ly_pre_18','jxl_pre_95','xy_pre','monthlyincome','education','age_marital']\n",
    "# to_keep = ['ly_pre_18','jxl_pre_95','xy_pre','monthlyincome','education','age_marital',\n",
    "#            'id_city_level']"
   ]
  },
  {
   "cell_type": "code",
   "execution_count": 705,
   "metadata": {},
   "outputs": [],
   "source": [
    "# to_keep = list(set(selected)- to_remove)\n",
    "# to_keep"
   ]
  },
  {
   "cell_type": "code",
   "execution_count": 779,
   "metadata": {},
   "outputs": [],
   "source": [
    "Logistics_model_obj = ml.LogisticModel(var_dict,y_train_df,y_test_df)"
   ]
  },
  {
   "cell_type": "code",
   "execution_count": 847,
   "metadata": {},
   "outputs": [],
   "source": [
    "Logistics_model_result = Logistics_model_obj.fit_model(model_label='test_model',\\\n",
    "                                                       X_train_transformed=X_transformed_train,\\\n",
    "                                                        X_test_transformed= X_transformed_test,\\\n",
    "                                                       in_model=to_keep)"
   ]
  },
  {
   "cell_type": "code",
   "execution_count": 848,
   "metadata": {},
   "outputs": [
    {
     "data": {
      "text/html": [
       "<div>\n",
       "<style scoped>\n",
       "    .dataframe tbody tr th:only-of-type {\n",
       "        vertical-align: middle;\n",
       "    }\n",
       "\n",
       "    .dataframe tbody tr th {\n",
       "        vertical-align: top;\n",
       "    }\n",
       "\n",
       "    .dataframe thead th {\n",
       "        text-align: right;\n",
       "    }\n",
       "</style>\n",
       "<table border=\"1\" class=\"dataframe\">\n",
       "  <thead>\n",
       "    <tr style=\"text-align: right;\">\n",
       "      <th></th>\n",
       "      <th>指标中文</th>\n",
       "      <th>coef</th>\n",
       "      <th>std err</th>\n",
       "      <th>Chi-Square</th>\n",
       "      <th>Pr&gt;ChiSq</th>\n",
       "      <th>[0.025</th>\n",
       "      <th>0.975]</th>\n",
       "    </tr>\n",
       "  </thead>\n",
       "  <tbody>\n",
       "    <tr>\n",
       "      <th>const</th>\n",
       "      <td>截距</td>\n",
       "      <td>-0.425</td>\n",
       "      <td>0.054</td>\n",
       "      <td>62.786</td>\n",
       "      <td>0.000</td>\n",
       "      <td>-0.531</td>\n",
       "      <td>-0.320</td>\n",
       "    </tr>\n",
       "    <tr>\n",
       "      <th>ly_pre_18</th>\n",
       "      <td>NaN</td>\n",
       "      <td>0.847</td>\n",
       "      <td>0.050</td>\n",
       "      <td>291.263</td>\n",
       "      <td>0.000</td>\n",
       "      <td>0.750</td>\n",
       "      <td>0.944</td>\n",
       "    </tr>\n",
       "    <tr>\n",
       "      <th>jxl_pre_95</th>\n",
       "      <td>NaN</td>\n",
       "      <td>0.741</td>\n",
       "      <td>0.070</td>\n",
       "      <td>112.986</td>\n",
       "      <td>0.000</td>\n",
       "      <td>0.604</td>\n",
       "      <td>0.877</td>\n",
       "    </tr>\n",
       "    <tr>\n",
       "      <th>xy_pre</th>\n",
       "      <td>NaN</td>\n",
       "      <td>0.527</td>\n",
       "      <td>0.096</td>\n",
       "      <td>30.335</td>\n",
       "      <td>0.000</td>\n",
       "      <td>0.339</td>\n",
       "      <td>0.715</td>\n",
       "    </tr>\n",
       "    <tr>\n",
       "      <th>monthlyincome</th>\n",
       "      <td>月收入</td>\n",
       "      <td>0.904</td>\n",
       "      <td>0.234</td>\n",
       "      <td>14.876</td>\n",
       "      <td>0.000</td>\n",
       "      <td>0.445</td>\n",
       "      <td>1.364</td>\n",
       "    </tr>\n",
       "    <tr>\n",
       "      <th>education</th>\n",
       "      <td>教育</td>\n",
       "      <td>0.896</td>\n",
       "      <td>0.267</td>\n",
       "      <td>11.292</td>\n",
       "      <td>0.001</td>\n",
       "      <td>0.373</td>\n",
       "      <td>1.419</td>\n",
       "    </tr>\n",
       "    <tr>\n",
       "      <th>age_marital</th>\n",
       "      <td>年龄和婚姻交叉</td>\n",
       "      <td>1.012</td>\n",
       "      <td>0.445</td>\n",
       "      <td>5.162</td>\n",
       "      <td>0.023</td>\n",
       "      <td>0.139</td>\n",
       "      <td>1.885</td>\n",
       "    </tr>\n",
       "    <tr>\n",
       "      <th>ty_riskcode_6</th>\n",
       "      <td>风险码-疑似恶意欺诈</td>\n",
       "      <td>0.697</td>\n",
       "      <td>0.870</td>\n",
       "      <td>0.641</td>\n",
       "      <td>0.423</td>\n",
       "      <td>-1.009</td>\n",
       "      <td>2.403</td>\n",
       "    </tr>\n",
       "  </tbody>\n",
       "</table>\n",
       "</div>"
      ],
      "text/plain": [
       "                     指标中文    coef std err Chi-Square Pr>ChiSq  [0.025  0.975]\n",
       "const                  截距  -0.425   0.054     62.786    0.000  -0.531  -0.320\n",
       "ly_pre_18             NaN   0.847   0.050    291.263    0.000   0.750   0.944\n",
       "jxl_pre_95            NaN   0.741   0.070    112.986    0.000   0.604   0.877\n",
       "xy_pre                NaN   0.527   0.096     30.335    0.000   0.339   0.715\n",
       "monthlyincome         月收入   0.904   0.234     14.876    0.000   0.445   1.364\n",
       "education              教育   0.896   0.267     11.292    0.001   0.373   1.419\n",
       "age_marital       年龄和婚姻交叉   1.012   0.445      5.162    0.023   0.139   1.885\n",
       "ty_riskcode_6  风险码-疑似恶意欺诈   0.697   0.870      0.641    0.423  -1.009   2.403"
      ]
     },
     "execution_count": 848,
     "metadata": {},
     "output_type": "execute_result"
    }
   ],
   "source": [
    "\"\"\"\n",
    "训练\n",
    "\"\"\"\n",
    "Logistics_model_result['train_coef']"
   ]
  },
  {
   "cell_type": "code",
   "execution_count": 849,
   "metadata": {},
   "outputs": [
    {
     "data": {
      "text/html": [
       "<div>\n",
       "<style scoped>\n",
       "    .dataframe tbody tr th:only-of-type {\n",
       "        vertical-align: middle;\n",
       "    }\n",
       "\n",
       "    .dataframe tbody tr th {\n",
       "        vertical-align: top;\n",
       "    }\n",
       "\n",
       "    .dataframe thead th {\n",
       "        text-align: right;\n",
       "    }\n",
       "</style>\n",
       "<table border=\"1\" class=\"dataframe\">\n",
       "  <thead>\n",
       "    <tr style=\"text-align: right;\">\n",
       "      <th></th>\n",
       "      <th>指标中文</th>\n",
       "      <th>coef</th>\n",
       "      <th>std err</th>\n",
       "      <th>Chi-Square</th>\n",
       "      <th>Pr&gt;ChiSq</th>\n",
       "      <th>[0.025</th>\n",
       "      <th>0.975]</th>\n",
       "    </tr>\n",
       "  </thead>\n",
       "  <tbody>\n",
       "    <tr>\n",
       "      <th>const</th>\n",
       "      <td>截距</td>\n",
       "      <td>-1.097</td>\n",
       "      <td>0.072</td>\n",
       "      <td>234.663</td>\n",
       "      <td>0.000</td>\n",
       "      <td>-1.238</td>\n",
       "      <td>-0.957</td>\n",
       "    </tr>\n",
       "    <tr>\n",
       "      <th>ly_pre_18</th>\n",
       "      <td>NaN</td>\n",
       "      <td>0.563</td>\n",
       "      <td>0.053</td>\n",
       "      <td>113.024</td>\n",
       "      <td>0.000</td>\n",
       "      <td>0.459</td>\n",
       "      <td>0.667</td>\n",
       "    </tr>\n",
       "    <tr>\n",
       "      <th>jxl_pre_95</th>\n",
       "      <td>NaN</td>\n",
       "      <td>0.289</td>\n",
       "      <td>0.088</td>\n",
       "      <td>10.744</td>\n",
       "      <td>0.001</td>\n",
       "      <td>0.116</td>\n",
       "      <td>0.461</td>\n",
       "    </tr>\n",
       "    <tr>\n",
       "      <th>xy_pre</th>\n",
       "      <td>NaN</td>\n",
       "      <td>0.095</td>\n",
       "      <td>0.130</td>\n",
       "      <td>0.531</td>\n",
       "      <td>0.466</td>\n",
       "      <td>-0.160</td>\n",
       "      <td>0.349</td>\n",
       "    </tr>\n",
       "    <tr>\n",
       "      <th>monthlyincome</th>\n",
       "      <td>月收入</td>\n",
       "      <td>-0.151</td>\n",
       "      <td>0.290</td>\n",
       "      <td>0.271</td>\n",
       "      <td>0.603</td>\n",
       "      <td>-0.719</td>\n",
       "      <td>0.417</td>\n",
       "    </tr>\n",
       "    <tr>\n",
       "      <th>education</th>\n",
       "      <td>教育</td>\n",
       "      <td>0.529</td>\n",
       "      <td>0.336</td>\n",
       "      <td>2.474</td>\n",
       "      <td>0.116</td>\n",
       "      <td>-0.130</td>\n",
       "      <td>1.188</td>\n",
       "    </tr>\n",
       "    <tr>\n",
       "      <th>age_marital</th>\n",
       "      <td>年龄和婚姻交叉</td>\n",
       "      <td>0.967</td>\n",
       "      <td>0.575</td>\n",
       "      <td>2.827</td>\n",
       "      <td>0.093</td>\n",
       "      <td>-0.160</td>\n",
       "      <td>2.095</td>\n",
       "    </tr>\n",
       "    <tr>\n",
       "      <th>ty_riskcode_6</th>\n",
       "      <td>风险码-疑似恶意欺诈</td>\n",
       "      <td>0.367</td>\n",
       "      <td>1.059</td>\n",
       "      <td>0.120</td>\n",
       "      <td>0.729</td>\n",
       "      <td>-1.708</td>\n",
       "      <td>2.442</td>\n",
       "    </tr>\n",
       "  </tbody>\n",
       "</table>\n",
       "</div>"
      ],
      "text/plain": [
       "                     指标中文    coef std err Chi-Square Pr>ChiSq  [0.025  0.975]\n",
       "const                  截距  -1.097   0.072    234.663    0.000  -1.238  -0.957\n",
       "ly_pre_18             NaN   0.563   0.053    113.024    0.000   0.459   0.667\n",
       "jxl_pre_95            NaN   0.289   0.088     10.744    0.001   0.116   0.461\n",
       "xy_pre                NaN   0.095   0.130      0.531    0.466  -0.160   0.349\n",
       "monthlyincome         月收入  -0.151   0.290      0.271    0.603  -0.719   0.417\n",
       "education              教育   0.529   0.336      2.474    0.116  -0.130   1.188\n",
       "age_marital       年龄和婚姻交叉   0.967   0.575      2.827    0.093  -0.160   2.095\n",
       "ty_riskcode_6  风险码-疑似恶意欺诈   0.367   1.059      0.120    0.729  -1.708   2.442"
      ]
     },
     "execution_count": 849,
     "metadata": {},
     "output_type": "execute_result"
    }
   ],
   "source": [
    "\"\"\"\n",
    "验证\n",
    "\"\"\"\n",
    "Logistics_model_result['test_coef']"
   ]
  },
  {
   "cell_type": "code",
   "execution_count": 767,
   "metadata": {},
   "outputs": [
    {
     "data": {
      "image/png": "[encoded data removed]",
      "text/plain": [
       "<matplotlib.figure.Figure at 0x220cc1ed358>"
      ]
     },
     "metadata": {},
     "output_type": "display_data"
    },
    {
     "data": {
      "image/png": "[encoded data removed]",
      "text/plain": [
       "<matplotlib.figure.Figure at 0x220c6a27048>"
      ]
     },
     "metadata": {},
     "output_type": "display_data"
    },
    {
     "data": {
      "image/png": "[encoded data removed]",
      "text/plain": [
       "<matplotlib.figure.Figure at 0x220ca8fbcf8>"
      ]
     },
     "metadata": {},
     "output_type": "display_data"
    },
    {
     "data": {
      "image/png": "[encoded data removed]",
      "text/plain": [
       "<matplotlib.figure.Figure at 0x220c8fe8240>"
      ]
     },
     "metadata": {},
     "output_type": "display_data"
    },
    {
     "data": {
      "image/png": "[encoded data removed]",
      "text/plain": [
       "<matplotlib.figure.Figure at 0x220cacc6198>"
      ]
     },
     "metadata": {},
     "output_type": "display_data"
    },
    {
     "data": {
      "image/png": "[encoded data removed]",
      "text/plain": [
       "<matplotlib.figure.Figure at 0x220c8799358>"
      ]
     },
     "metadata": {},
     "output_type": "display_data"
    }
   ],
   "source": [
    "Logistics_model_obj.plot_for_the_model(result_path, Logistics_model_result, with_test=True)"
   ]
  },
  {
   "cell_type": "code",
   "execution_count": 850,
   "metadata": {},
   "outputs": [
    {
     "data": {
      "text/html": [
       "<div>\n",
       "<style scoped>\n",
       "    .dataframe tbody tr th:only-of-type {\n",
       "        vertical-align: middle;\n",
       "    }\n",
       "\n",
       "    .dataframe tbody tr th {\n",
       "        vertical-align: top;\n",
       "    }\n",
       "\n",
       "    .dataframe thead th {\n",
       "        text-align: right;\n",
       "    }\n",
       "</style>\n",
       "<table border=\"1\" class=\"dataframe\">\n",
       "  <thead>\n",
       "    <tr style=\"text-align: right;\">\n",
       "      <th></th>\n",
       "      <th>ly_pre_18</th>\n",
       "      <th>jxl_pre_95</th>\n",
       "      <th>xy_pre</th>\n",
       "      <th>monthlyincome</th>\n",
       "      <th>education</th>\n",
       "      <th>age_marital</th>\n",
       "      <th>ty_riskcode_6</th>\n",
       "    </tr>\n",
       "  </thead>\n",
       "  <tbody>\n",
       "    <tr>\n",
       "      <th>ly_pre_18</th>\n",
       "      <td>1.000000</td>\n",
       "      <td>0.313516</td>\n",
       "      <td>0.307572</td>\n",
       "      <td>0.053801</td>\n",
       "      <td>0.056409</td>\n",
       "      <td>0.037705</td>\n",
       "      <td>0.026800</td>\n",
       "    </tr>\n",
       "    <tr>\n",
       "      <th>jxl_pre_95</th>\n",
       "      <td>0.313516</td>\n",
       "      <td>1.000000</td>\n",
       "      <td>0.151105</td>\n",
       "      <td>0.025323</td>\n",
       "      <td>0.012345</td>\n",
       "      <td>0.038604</td>\n",
       "      <td>-0.006382</td>\n",
       "    </tr>\n",
       "    <tr>\n",
       "      <th>xy_pre</th>\n",
       "      <td>0.307572</td>\n",
       "      <td>0.151105</td>\n",
       "      <td>1.000000</td>\n",
       "      <td>0.062226</td>\n",
       "      <td>0.074288</td>\n",
       "      <td>-0.007424</td>\n",
       "      <td>0.052647</td>\n",
       "    </tr>\n",
       "    <tr>\n",
       "      <th>monthlyincome</th>\n",
       "      <td>0.053801</td>\n",
       "      <td>0.025323</td>\n",
       "      <td>0.062226</td>\n",
       "      <td>1.000000</td>\n",
       "      <td>0.096221</td>\n",
       "      <td>-0.023591</td>\n",
       "      <td>-0.009309</td>\n",
       "    </tr>\n",
       "    <tr>\n",
       "      <th>education</th>\n",
       "      <td>0.056409</td>\n",
       "      <td>0.012345</td>\n",
       "      <td>0.074288</td>\n",
       "      <td>0.096221</td>\n",
       "      <td>1.000000</td>\n",
       "      <td>0.006476</td>\n",
       "      <td>0.044423</td>\n",
       "    </tr>\n",
       "    <tr>\n",
       "      <th>age_marital</th>\n",
       "      <td>0.037705</td>\n",
       "      <td>0.038604</td>\n",
       "      <td>-0.007424</td>\n",
       "      <td>-0.023591</td>\n",
       "      <td>0.006476</td>\n",
       "      <td>1.000000</td>\n",
       "      <td>-0.007418</td>\n",
       "    </tr>\n",
       "    <tr>\n",
       "      <th>ty_riskcode_6</th>\n",
       "      <td>0.026800</td>\n",
       "      <td>-0.006382</td>\n",
       "      <td>0.052647</td>\n",
       "      <td>-0.009309</td>\n",
       "      <td>0.044423</td>\n",
       "      <td>-0.007418</td>\n",
       "      <td>1.000000</td>\n",
       "    </tr>\n",
       "  </tbody>\n",
       "</table>\n",
       "</div>"
      ],
      "text/plain": [
       "               ly_pre_18  jxl_pre_95    xy_pre  monthlyincome  education  \\\n",
       "ly_pre_18       1.000000    0.313516  0.307572       0.053801   0.056409   \n",
       "jxl_pre_95      0.313516    1.000000  0.151105       0.025323   0.012345   \n",
       "xy_pre          0.307572    0.151105  1.000000       0.062226   0.074288   \n",
       "monthlyincome   0.053801    0.025323  0.062226       1.000000   0.096221   \n",
       "education       0.056409    0.012345  0.074288       0.096221   1.000000   \n",
       "age_marital     0.037705    0.038604 -0.007424      -0.023591   0.006476   \n",
       "ty_riskcode_6   0.026800   -0.006382  0.052647      -0.009309   0.044423   \n",
       "\n",
       "               age_marital  ty_riskcode_6  \n",
       "ly_pre_18         0.037705       0.026800  \n",
       "jxl_pre_95        0.038604      -0.006382  \n",
       "xy_pre           -0.007424       0.052647  \n",
       "monthlyincome    -0.023591      -0.009309  \n",
       "education         0.006476       0.044423  \n",
       "age_marital       1.000000      -0.007418  \n",
       "ty_riskcode_6    -0.007418       1.000000  "
      ]
     },
     "execution_count": 850,
     "metadata": {},
     "output_type": "execute_result"
    }
   ],
   "source": [
    "corr = X_transformed_train[to_keep].corr()\n",
    "corr"
   ]
  },
  {
   "cell_type": "code",
   "execution_count": 851,
   "metadata": {},
   "outputs": [],
   "source": [
    "coefficients = Logistics_model_result['model_final'].params\\\n",
    ".to_frame('beta').reset_index().rename(columns={'index':'var_code'})"
   ]
  },
  {
   "cell_type": "code",
   "execution_count": 852,
   "metadata": {},
   "outputs": [
    {
     "data": {
      "text/html": [
       "<div>\n",
       "<style scoped>\n",
       "    .dataframe tbody tr th:only-of-type {\n",
       "        vertical-align: middle;\n",
       "    }\n",
       "\n",
       "    .dataframe tbody tr th {\n",
       "        vertical-align: top;\n",
       "    }\n",
       "\n",
       "    .dataframe thead th {\n",
       "        text-align: right;\n",
       "    }\n",
       "</style>\n",
       "<table border=\"1\" class=\"dataframe\">\n",
       "  <thead>\n",
       "    <tr style=\"text-align: right;\">\n",
       "      <th></th>\n",
       "      <th>var_code</th>\n",
       "      <th>beta</th>\n",
       "    </tr>\n",
       "  </thead>\n",
       "  <tbody>\n",
       "    <tr>\n",
       "      <th>0</th>\n",
       "      <td>const</td>\n",
       "      <td>-0.425374</td>\n",
       "    </tr>\n",
       "    <tr>\n",
       "      <th>1</th>\n",
       "      <td>ly_pre_18</td>\n",
       "      <td>0.846922</td>\n",
       "    </tr>\n",
       "    <tr>\n",
       "      <th>2</th>\n",
       "      <td>jxl_pre_95</td>\n",
       "      <td>0.740734</td>\n",
       "    </tr>\n",
       "    <tr>\n",
       "      <th>3</th>\n",
       "      <td>xy_pre</td>\n",
       "      <td>0.527007</td>\n",
       "    </tr>\n",
       "    <tr>\n",
       "      <th>4</th>\n",
       "      <td>monthlyincome</td>\n",
       "      <td>0.904348</td>\n",
       "    </tr>\n",
       "    <tr>\n",
       "      <th>5</th>\n",
       "      <td>education</td>\n",
       "      <td>0.895998</td>\n",
       "    </tr>\n",
       "    <tr>\n",
       "      <th>6</th>\n",
       "      <td>age_marital</td>\n",
       "      <td>1.012182</td>\n",
       "    </tr>\n",
       "    <tr>\n",
       "      <th>7</th>\n",
       "      <td>ty_riskcode_6</td>\n",
       "      <td>0.696971</td>\n",
       "    </tr>\n",
       "  </tbody>\n",
       "</table>\n",
       "</div>"
      ],
      "text/plain": [
       "        var_code      beta\n",
       "0          const -0.425374\n",
       "1      ly_pre_18  0.846922\n",
       "2     jxl_pre_95  0.740734\n",
       "3         xy_pre  0.527007\n",
       "4  monthlyincome  0.904348\n",
       "5      education  0.895998\n",
       "6    age_marital  1.012182\n",
       "7  ty_riskcode_6  0.696971"
      ]
     },
     "execution_count": 852,
     "metadata": {},
     "output_type": "execute_result"
    }
   ],
   "source": [
    "coefficients"
   ]
  },
  {
   "cell_type": "code",
   "execution_count": 853,
   "metadata": {},
   "outputs": [
    {
     "data": {
      "text/html": [
       "<div>\n",
       "<style scoped>\n",
       "    .dataframe tbody tr th:only-of-type {\n",
       "        vertical-align: middle;\n",
       "    }\n",
       "\n",
       "    .dataframe tbody tr th {\n",
       "        vertical-align: top;\n",
       "    }\n",
       "\n",
       "    .dataframe thead th {\n",
       "        text-align: right;\n",
       "    }\n",
       "</style>\n",
       "<table border=\"1\" class=\"dataframe\">\n",
       "  <thead>\n",
       "    <tr style=\"text-align: right;\">\n",
       "      <th></th>\n",
       "      <th>指标英文</th>\n",
       "      <th>分箱</th>\n",
       "      <th>N</th>\n",
       "      <th>分布占比</th>\n",
       "      <th>WOE</th>\n",
       "      <th>逾期率</th>\n",
       "      <th>Bad分布占比</th>\n",
       "    </tr>\n",
       "  </thead>\n",
       "  <tbody>\n",
       "    <tr>\n",
       "      <th>0</th>\n",
       "      <td>education</td>\n",
       "      <td>(-inf, -1.0]</td>\n",
       "      <td>2</td>\n",
       "      <td>0.000883</td>\n",
       "      <td>0.451985</td>\n",
       "      <td>0.500000</td>\n",
       "      <td>0.0011</td>\n",
       "    </tr>\n",
       "    <tr>\n",
       "      <th>1</th>\n",
       "      <td>education</td>\n",
       "      <td>(-1.0, 2.0]</td>\n",
       "      <td>532</td>\n",
       "      <td>0.234982</td>\n",
       "      <td>-0.351912</td>\n",
       "      <td>0.315789</td>\n",
       "      <td>0.1873</td>\n",
       "    </tr>\n",
       "    <tr>\n",
       "      <th>2</th>\n",
       "      <td>education</td>\n",
       "      <td>(2.0, 3.0]</td>\n",
       "      <td>1170</td>\n",
       "      <td>0.516784</td>\n",
       "      <td>0.040665</td>\n",
       "      <td>0.405983</td>\n",
       "      <td>0.5295</td>\n",
       "    </tr>\n",
       "    <tr>\n",
       "      <th>3</th>\n",
       "      <td>education</td>\n",
       "      <td>(3.0, inf]</td>\n",
       "      <td>560</td>\n",
       "      <td>0.247350</td>\n",
       "      <td>0.227941</td>\n",
       "      <td>0.451786</td>\n",
       "      <td>0.2821</td>\n",
       "    </tr>\n",
       "    <tr>\n",
       "      <th>20</th>\n",
       "      <td>monthlyincome</td>\n",
       "      <td>(-inf, -1.0]</td>\n",
       "      <td>2</td>\n",
       "      <td>0.000883</td>\n",
       "      <td>0.451985</td>\n",
       "      <td>0.500000</td>\n",
       "      <td>0.0011</td>\n",
       "    </tr>\n",
       "  </tbody>\n",
       "</table>\n",
       "</div>"
      ],
      "text/plain": [
       "             指标英文            分箱     N      分布占比       WOE       逾期率  Bad分布占比\n",
       "0       education  (-inf, -1.0]     2  0.000883  0.451985  0.500000   0.0011\n",
       "1       education   (-1.0, 2.0]   532  0.234982 -0.351912  0.315789   0.1873\n",
       "2       education    (2.0, 3.0]  1170  0.516784  0.040665  0.405983   0.5295\n",
       "3       education    (3.0, inf]   560  0.247350  0.227941  0.451786   0.2821\n",
       "20  monthlyincome  (-inf, -1.0]     2  0.000883  0.451985  0.500000   0.0011"
      ]
     },
     "execution_count": 853,
     "metadata": {},
     "output_type": "execute_result"
    }
   ],
   "source": [
    "cleaned_woe = woe_iv_df_coarse.loc[woe_iv_df_coarse[u'指标英文'].isin(coefficients.var_code), [u'指标英文', u'分箱', 'N', u'分布占比', 'WOE', u'逾期率', u'Bad分布占比']]\n",
    "cleaned_woe.head()"
   ]
  },
  {
   "cell_type": "code",
   "execution_count": 854,
   "metadata": {},
   "outputs": [],
   "source": [
    "score_card = mt.Performance().calculate_score(coefficients, cleaned_woe, 'var_score', var_dict)\n",
    "score_card.to_excel(os.path.join(result_path,'score_card_v2.xlsx'))"
   ]
  },
  {
   "cell_type": "code",
   "execution_count": 185,
   "metadata": {},
   "outputs": [
    {
     "data": {
      "text/plain": [
       "'\\ndecile\\n'"
      ]
     },
     "execution_count": 185,
     "metadata": {},
     "output_type": "execute_result"
    }
   ],
   "source": [
    "\"\"\"\n",
    "decile\n",
    "\"\"\""
   ]
  },
  {
   "cell_type": "code",
   "execution_count": 855,
   "metadata": {},
   "outputs": [],
   "source": [
    "score_card = pd.read_excel(os.path.join(result_path,'score_card_v2.xlsx'))"
   ]
  },
  {
   "cell_type": "code",
   "execution_count": 856,
   "metadata": {},
   "outputs": [],
   "source": [
    "selected2 = [i for i in coefficients.var_code if i != 'const']\n",
    "train_score = mt.Performance().calculate_score_by_scrd(X_cat_train[selected2], score_card)\n",
    "test_score = mt.Performance().calculate_score_by_scrd(X_cat_test[selected2], score_card)"
   ]
  },
  {
   "cell_type": "code",
   "execution_count": 857,
   "metadata": {},
   "outputs": [
    {
     "data": {
      "text/html": [
       "<div>\n",
       "<style scoped>\n",
       "    .dataframe tbody tr th:only-of-type {\n",
       "        vertical-align: middle;\n",
       "    }\n",
       "\n",
       "    .dataframe tbody tr th {\n",
       "        vertical-align: top;\n",
       "    }\n",
       "\n",
       "    .dataframe thead th {\n",
       "        text-align: right;\n",
       "    }\n",
       "</style>\n",
       "<table border=\"1\" class=\"dataframe\">\n",
       "  <thead>\n",
       "    <tr style=\"text-align: right;\">\n",
       "      <th>col_0</th>\n",
       "      <th>分箱</th>\n",
       "      <th>样本数</th>\n",
       "      <th>好样本数</th>\n",
       "      <th>坏样本数</th>\n",
       "      <th>逾期率</th>\n",
       "      <th>Bad分布占比</th>\n",
       "      <th>Good分布占比</th>\n",
       "      <th>累积Bad占比</th>\n",
       "      <th>累积Good占比</th>\n",
       "      <th>KS</th>\n",
       "      <th>odds(good:bad)</th>\n",
       "    </tr>\n",
       "  </thead>\n",
       "  <tbody>\n",
       "    <tr>\n",
       "      <th>0</th>\n",
       "      <td>(478.0, 543.0]</td>\n",
       "      <td>235</td>\n",
       "      <td>13</td>\n",
       "      <td>222</td>\n",
       "      <td>0.944681</td>\n",
       "      <td>0.247492</td>\n",
       "      <td>0.009510</td>\n",
       "      <td>0.247492</td>\n",
       "      <td>0.009510</td>\n",
       "      <td>0.2380</td>\n",
       "      <td>0.1</td>\n",
       "    </tr>\n",
       "    <tr>\n",
       "      <th>1</th>\n",
       "      <td>(543.0, 575.0]</td>\n",
       "      <td>227</td>\n",
       "      <td>44</td>\n",
       "      <td>183</td>\n",
       "      <td>0.806167</td>\n",
       "      <td>0.204013</td>\n",
       "      <td>0.032187</td>\n",
       "      <td>0.451505</td>\n",
       "      <td>0.041697</td>\n",
       "      <td>0.4098</td>\n",
       "      <td>0.2</td>\n",
       "    </tr>\n",
       "    <tr>\n",
       "      <th>2</th>\n",
       "      <td>(575.0, 594.0]</td>\n",
       "      <td>233</td>\n",
       "      <td>101</td>\n",
       "      <td>132</td>\n",
       "      <td>0.566524</td>\n",
       "      <td>0.147157</td>\n",
       "      <td>0.073884</td>\n",
       "      <td>0.598662</td>\n",
       "      <td>0.115582</td>\n",
       "      <td>0.4831</td>\n",
       "      <td>0.8</td>\n",
       "    </tr>\n",
       "    <tr>\n",
       "      <th>3</th>\n",
       "      <td>(594.0, 609.0]</td>\n",
       "      <td>213</td>\n",
       "      <td>124</td>\n",
       "      <td>89</td>\n",
       "      <td>0.417840</td>\n",
       "      <td>0.099220</td>\n",
       "      <td>0.090710</td>\n",
       "      <td>0.697882</td>\n",
       "      <td>0.206291</td>\n",
       "      <td>0.4916</td>\n",
       "      <td>1.4</td>\n",
       "    </tr>\n",
       "    <tr>\n",
       "      <th>4</th>\n",
       "      <td>(609.0, 621.0]</td>\n",
       "      <td>234</td>\n",
       "      <td>149</td>\n",
       "      <td>85</td>\n",
       "      <td>0.363248</td>\n",
       "      <td>0.094760</td>\n",
       "      <td>0.108998</td>\n",
       "      <td>0.792642</td>\n",
       "      <td>0.315289</td>\n",
       "      <td>0.4774</td>\n",
       "      <td>1.8</td>\n",
       "    </tr>\n",
       "    <tr>\n",
       "      <th>5</th>\n",
       "      <td>(621.0, 633.0]</td>\n",
       "      <td>242</td>\n",
       "      <td>168</td>\n",
       "      <td>74</td>\n",
       "      <td>0.305785</td>\n",
       "      <td>0.082497</td>\n",
       "      <td>0.122897</td>\n",
       "      <td>0.875139</td>\n",
       "      <td>0.438186</td>\n",
       "      <td>0.4370</td>\n",
       "      <td>2.3</td>\n",
       "    </tr>\n",
       "    <tr>\n",
       "      <th>6</th>\n",
       "      <td>(633.0, 644.0]</td>\n",
       "      <td>210</td>\n",
       "      <td>153</td>\n",
       "      <td>57</td>\n",
       "      <td>0.271429</td>\n",
       "      <td>0.063545</td>\n",
       "      <td>0.111924</td>\n",
       "      <td>0.938685</td>\n",
       "      <td>0.550110</td>\n",
       "      <td>0.3886</td>\n",
       "      <td>2.7</td>\n",
       "    </tr>\n",
       "    <tr>\n",
       "      <th>7</th>\n",
       "      <td>(644.0, 657.0]</td>\n",
       "      <td>225</td>\n",
       "      <td>200</td>\n",
       "      <td>25</td>\n",
       "      <td>0.111111</td>\n",
       "      <td>0.027871</td>\n",
       "      <td>0.146306</td>\n",
       "      <td>0.966555</td>\n",
       "      <td>0.696416</td>\n",
       "      <td>0.2701</td>\n",
       "      <td>8.0</td>\n",
       "    </tr>\n",
       "    <tr>\n",
       "      <th>8</th>\n",
       "      <td>(657.0, 673.0]</td>\n",
       "      <td>225</td>\n",
       "      <td>200</td>\n",
       "      <td>25</td>\n",
       "      <td>0.111111</td>\n",
       "      <td>0.027871</td>\n",
       "      <td>0.146306</td>\n",
       "      <td>0.994426</td>\n",
       "      <td>0.842721</td>\n",
       "      <td>0.1517</td>\n",
       "      <td>8.0</td>\n",
       "    </tr>\n",
       "    <tr>\n",
       "      <th>9</th>\n",
       "      <td>(673.0, 730.0]</td>\n",
       "      <td>220</td>\n",
       "      <td>215</td>\n",
       "      <td>5</td>\n",
       "      <td>0.022727</td>\n",
       "      <td>0.005574</td>\n",
       "      <td>0.157279</td>\n",
       "      <td>1.000000</td>\n",
       "      <td>1.000000</td>\n",
       "      <td>0.0000</td>\n",
       "      <td>43.0</td>\n",
       "    </tr>\n",
       "  </tbody>\n",
       "</table>\n",
       "</div>"
      ],
      "text/plain": [
       "col_0              分箱  样本数  好样本数  坏样本数       逾期率   Bad分布占比  Good分布占比  \\\n",
       "0      (478.0, 543.0]  235    13   222  0.944681  0.247492  0.009510   \n",
       "1      (543.0, 575.0]  227    44   183  0.806167  0.204013  0.032187   \n",
       "2      (575.0, 594.0]  233   101   132  0.566524  0.147157  0.073884   \n",
       "3      (594.0, 609.0]  213   124    89  0.417840  0.099220  0.090710   \n",
       "4      (609.0, 621.0]  234   149    85  0.363248  0.094760  0.108998   \n",
       "5      (621.0, 633.0]  242   168    74  0.305785  0.082497  0.122897   \n",
       "6      (633.0, 644.0]  210   153    57  0.271429  0.063545  0.111924   \n",
       "7      (644.0, 657.0]  225   200    25  0.111111  0.027871  0.146306   \n",
       "8      (657.0, 673.0]  225   200    25  0.111111  0.027871  0.146306   \n",
       "9      (673.0, 730.0]  220   215     5  0.022727  0.005574  0.157279   \n",
       "\n",
       "col_0   累积Bad占比  累积Good占比      KS  odds(good:bad)  \n",
       "0      0.247492  0.009510  0.2380             0.1  \n",
       "1      0.451505  0.041697  0.4098             0.2  \n",
       "2      0.598662  0.115582  0.4831             0.8  \n",
       "3      0.697882  0.206291  0.4916             1.4  \n",
       "4      0.792642  0.315289  0.4774             1.8  \n",
       "5      0.875139  0.438186  0.4370             2.3  \n",
       "6      0.938685  0.550110  0.3886             2.7  \n",
       "7      0.966555  0.696416  0.2701             8.0  \n",
       "8      0.994426  0.842721  0.1517             8.0  \n",
       "9      1.000000  1.000000  0.0000            43.0  "
      ]
     },
     "execution_count": 857,
     "metadata": {},
     "output_type": "execute_result"
    }
   ],
   "source": [
    "# 训练集\n",
    "ks_decile_train = mt.Performance().calculate_ks_by_decile(train_score[1], np.array(y_train), 'decile', q=10)\n",
    "ks_decile_train"
   ]
  },
  {
   "cell_type": "code",
   "execution_count": 858,
   "metadata": {},
   "outputs": [
    {
     "data": {
      "text/html": [
       "<div>\n",
       "<style scoped>\n",
       "    .dataframe tbody tr th:only-of-type {\n",
       "        vertical-align: middle;\n",
       "    }\n",
       "\n",
       "    .dataframe tbody tr th {\n",
       "        vertical-align: top;\n",
       "    }\n",
       "\n",
       "    .dataframe thead th {\n",
       "        text-align: right;\n",
       "    }\n",
       "</style>\n",
       "<table border=\"1\" class=\"dataframe\">\n",
       "  <thead>\n",
       "    <tr style=\"text-align: right;\">\n",
       "      <th>col_0</th>\n",
       "      <th>分箱</th>\n",
       "      <th>样本数</th>\n",
       "      <th>好样本数</th>\n",
       "      <th>坏样本数</th>\n",
       "      <th>逾期率</th>\n",
       "      <th>Bad分布占比</th>\n",
       "      <th>Good分布占比</th>\n",
       "      <th>累积Bad占比</th>\n",
       "      <th>累积Good占比</th>\n",
       "      <th>KS</th>\n",
       "      <th>odds(good:bad)</th>\n",
       "    </tr>\n",
       "  </thead>\n",
       "  <tbody>\n",
       "    <tr>\n",
       "      <th>0</th>\n",
       "      <td>(-inf, 543.0]</td>\n",
       "      <td>111</td>\n",
       "      <td>27</td>\n",
       "      <td>84</td>\n",
       "      <td>0.756757</td>\n",
       "      <td>0.242775</td>\n",
       "      <td>0.029867</td>\n",
       "      <td>0.242775</td>\n",
       "      <td>0.029867</td>\n",
       "      <td>0.2129</td>\n",
       "      <td>0.3</td>\n",
       "    </tr>\n",
       "    <tr>\n",
       "      <th>1</th>\n",
       "      <td>(543.0, 575.0]</td>\n",
       "      <td>114</td>\n",
       "      <td>63</td>\n",
       "      <td>51</td>\n",
       "      <td>0.447368</td>\n",
       "      <td>0.147399</td>\n",
       "      <td>0.069690</td>\n",
       "      <td>0.390173</td>\n",
       "      <td>0.099558</td>\n",
       "      <td>0.2906</td>\n",
       "      <td>1.2</td>\n",
       "    </tr>\n",
       "    <tr>\n",
       "      <th>2</th>\n",
       "      <td>(575.0, 594.0]</td>\n",
       "      <td>161</td>\n",
       "      <td>118</td>\n",
       "      <td>43</td>\n",
       "      <td>0.267081</td>\n",
       "      <td>0.124277</td>\n",
       "      <td>0.130531</td>\n",
       "      <td>0.514451</td>\n",
       "      <td>0.230088</td>\n",
       "      <td>0.2844</td>\n",
       "      <td>2.7</td>\n",
       "    </tr>\n",
       "    <tr>\n",
       "      <th>3</th>\n",
       "      <td>(594.0, 609.0]</td>\n",
       "      <td>168</td>\n",
       "      <td>120</td>\n",
       "      <td>48</td>\n",
       "      <td>0.285714</td>\n",
       "      <td>0.138728</td>\n",
       "      <td>0.132743</td>\n",
       "      <td>0.653179</td>\n",
       "      <td>0.362832</td>\n",
       "      <td>0.2903</td>\n",
       "      <td>2.5</td>\n",
       "    </tr>\n",
       "    <tr>\n",
       "      <th>4</th>\n",
       "      <td>(609.0, 621.0]</td>\n",
       "      <td>141</td>\n",
       "      <td>101</td>\n",
       "      <td>40</td>\n",
       "      <td>0.283688</td>\n",
       "      <td>0.115607</td>\n",
       "      <td>0.111726</td>\n",
       "      <td>0.768786</td>\n",
       "      <td>0.474558</td>\n",
       "      <td>0.2942</td>\n",
       "      <td>2.5</td>\n",
       "    </tr>\n",
       "    <tr>\n",
       "      <th>5</th>\n",
       "      <td>(621.0, 633.0]</td>\n",
       "      <td>144</td>\n",
       "      <td>116</td>\n",
       "      <td>28</td>\n",
       "      <td>0.194444</td>\n",
       "      <td>0.080925</td>\n",
       "      <td>0.128319</td>\n",
       "      <td>0.849711</td>\n",
       "      <td>0.602876</td>\n",
       "      <td>0.2468</td>\n",
       "      <td>4.1</td>\n",
       "    </tr>\n",
       "    <tr>\n",
       "      <th>6</th>\n",
       "      <td>(633.0, 644.0]</td>\n",
       "      <td>117</td>\n",
       "      <td>103</td>\n",
       "      <td>14</td>\n",
       "      <td>0.119658</td>\n",
       "      <td>0.040462</td>\n",
       "      <td>0.113938</td>\n",
       "      <td>0.890173</td>\n",
       "      <td>0.716814</td>\n",
       "      <td>0.1734</td>\n",
       "      <td>7.4</td>\n",
       "    </tr>\n",
       "    <tr>\n",
       "      <th>7</th>\n",
       "      <td>(644.0, 657.0]</td>\n",
       "      <td>121</td>\n",
       "      <td>104</td>\n",
       "      <td>17</td>\n",
       "      <td>0.140496</td>\n",
       "      <td>0.049133</td>\n",
       "      <td>0.115044</td>\n",
       "      <td>0.939306</td>\n",
       "      <td>0.831858</td>\n",
       "      <td>0.1074</td>\n",
       "      <td>6.1</td>\n",
       "    </tr>\n",
       "    <tr>\n",
       "      <th>8</th>\n",
       "      <td>(657.0, 673.0]</td>\n",
       "      <td>102</td>\n",
       "      <td>89</td>\n",
       "      <td>13</td>\n",
       "      <td>0.127451</td>\n",
       "      <td>0.037572</td>\n",
       "      <td>0.098451</td>\n",
       "      <td>0.976879</td>\n",
       "      <td>0.930310</td>\n",
       "      <td>0.0466</td>\n",
       "      <td>6.8</td>\n",
       "    </tr>\n",
       "    <tr>\n",
       "      <th>9</th>\n",
       "      <td>(673.0, inf]</td>\n",
       "      <td>71</td>\n",
       "      <td>63</td>\n",
       "      <td>8</td>\n",
       "      <td>0.112676</td>\n",
       "      <td>0.023121</td>\n",
       "      <td>0.069690</td>\n",
       "      <td>1.000000</td>\n",
       "      <td>1.000000</td>\n",
       "      <td>0.0000</td>\n",
       "      <td>7.9</td>\n",
       "    </tr>\n",
       "  </tbody>\n",
       "</table>\n",
       "</div>"
      ],
      "text/plain": [
       "col_0              分箱  样本数  好样本数  坏样本数       逾期率   Bad分布占比  Good分布占比  \\\n",
       "0       (-inf, 543.0]  111    27    84  0.756757  0.242775  0.029867   \n",
       "1      (543.0, 575.0]  114    63    51  0.447368  0.147399  0.069690   \n",
       "2      (575.0, 594.0]  161   118    43  0.267081  0.124277  0.130531   \n",
       "3      (594.0, 609.0]  168   120    48  0.285714  0.138728  0.132743   \n",
       "4      (609.0, 621.0]  141   101    40  0.283688  0.115607  0.111726   \n",
       "5      (621.0, 633.0]  144   116    28  0.194444  0.080925  0.128319   \n",
       "6      (633.0, 644.0]  117   103    14  0.119658  0.040462  0.113938   \n",
       "7      (644.0, 657.0]  121   104    17  0.140496  0.049133  0.115044   \n",
       "8      (657.0, 673.0]  102    89    13  0.127451  0.037572  0.098451   \n",
       "9        (673.0, inf]   71    63     8  0.112676  0.023121  0.069690   \n",
       "\n",
       "col_0   累积Bad占比  累积Good占比      KS  odds(good:bad)  \n",
       "0      0.242775  0.029867  0.2129             0.3  \n",
       "1      0.390173  0.099558  0.2906             1.2  \n",
       "2      0.514451  0.230088  0.2844             2.7  \n",
       "3      0.653179  0.362832  0.2903             2.5  \n",
       "4      0.768786  0.474558  0.2942             2.5  \n",
       "5      0.849711  0.602876  0.2468             4.1  \n",
       "6      0.890173  0.716814  0.1734             7.4  \n",
       "7      0.939306  0.831858  0.1074             6.1  \n",
       "8      0.976879  0.930310  0.0466             6.8  \n",
       "9      1.000000  1.000000  0.0000             7.9  "
      ]
     },
     "execution_count": 858,
     "metadata": {},
     "output_type": "execute_result"
    }
   ],
   "source": [
    "# 测试集\n",
    "point_bounds = mt.BinWoe().obtain_boundaries(ks_decile_train[u'分箱'])['cut_boundaries']\n",
    "ks_decile_test = mt.Performance().calculate_ks_by_decile(test_score[1], np.array(y_test), 'decile', \\\n",
    "                                                         manual_cut_bounds=point_bounds)\n",
    "ks_decile_test"
   ]
  },
  {
   "cell_type": "code",
   "execution_count": 859,
   "metadata": {},
   "outputs": [
    {
     "data": {
      "text/html": [
       "<div>\n",
       "<style scoped>\n",
       "    .dataframe tbody tr th:only-of-type {\n",
       "        vertical-align: middle;\n",
       "    }\n",
       "\n",
       "    .dataframe tbody tr th {\n",
       "        vertical-align: top;\n",
       "    }\n",
       "\n",
       "    .dataframe thead th {\n",
       "        text-align: right;\n",
       "    }\n",
       "</style>\n",
       "<table border=\"1\" class=\"dataframe\">\n",
       "  <thead>\n",
       "    <tr style=\"text-align: right;\">\n",
       "      <th>col_0</th>\n",
       "      <th>分箱</th>\n",
       "      <th>样本数</th>\n",
       "      <th>好样本数</th>\n",
       "      <th>坏样本数</th>\n",
       "      <th>逾期率</th>\n",
       "      <th>Bad分布占比</th>\n",
       "      <th>Good分布占比</th>\n",
       "      <th>累积Bad占比</th>\n",
       "      <th>累积Good占比</th>\n",
       "      <th>KS</th>\n",
       "      <th>odds(good:bad)</th>\n",
       "    </tr>\n",
       "  </thead>\n",
       "  <tbody>\n",
       "    <tr>\n",
       "      <th>0</th>\n",
       "      <td>(477.0, 548.0]</td>\n",
       "      <td>125</td>\n",
       "      <td>34</td>\n",
       "      <td>91</td>\n",
       "      <td>0.728000</td>\n",
       "      <td>0.263006</td>\n",
       "      <td>0.037611</td>\n",
       "      <td>0.263006</td>\n",
       "      <td>0.037611</td>\n",
       "      <td>0.2254</td>\n",
       "      <td>0.4</td>\n",
       "    </tr>\n",
       "    <tr>\n",
       "      <th>1</th>\n",
       "      <td>(548.0, 579.0]</td>\n",
       "      <td>130</td>\n",
       "      <td>79</td>\n",
       "      <td>51</td>\n",
       "      <td>0.392308</td>\n",
       "      <td>0.147399</td>\n",
       "      <td>0.087389</td>\n",
       "      <td>0.410405</td>\n",
       "      <td>0.125000</td>\n",
       "      <td>0.2854</td>\n",
       "      <td>1.5</td>\n",
       "    </tr>\n",
       "    <tr>\n",
       "      <th>2</th>\n",
       "      <td>(579.0, 593.0]</td>\n",
       "      <td>124</td>\n",
       "      <td>90</td>\n",
       "      <td>34</td>\n",
       "      <td>0.274194</td>\n",
       "      <td>0.098266</td>\n",
       "      <td>0.099558</td>\n",
       "      <td>0.508671</td>\n",
       "      <td>0.224558</td>\n",
       "      <td>0.2841</td>\n",
       "      <td>2.6</td>\n",
       "    </tr>\n",
       "    <tr>\n",
       "      <th>3</th>\n",
       "      <td>(593.0, 606.0]</td>\n",
       "      <td>121</td>\n",
       "      <td>85</td>\n",
       "      <td>36</td>\n",
       "      <td>0.297521</td>\n",
       "      <td>0.104046</td>\n",
       "      <td>0.094027</td>\n",
       "      <td>0.612717</td>\n",
       "      <td>0.318584</td>\n",
       "      <td>0.2941</td>\n",
       "      <td>2.4</td>\n",
       "    </tr>\n",
       "    <tr>\n",
       "      <th>4</th>\n",
       "      <td>(606.0, 616.0]</td>\n",
       "      <td>133</td>\n",
       "      <td>97</td>\n",
       "      <td>36</td>\n",
       "      <td>0.270677</td>\n",
       "      <td>0.104046</td>\n",
       "      <td>0.107301</td>\n",
       "      <td>0.716763</td>\n",
       "      <td>0.425885</td>\n",
       "      <td>0.2909</td>\n",
       "      <td>2.7</td>\n",
       "    </tr>\n",
       "    <tr>\n",
       "      <th>5</th>\n",
       "      <td>(616.0, 626.0]</td>\n",
       "      <td>120</td>\n",
       "      <td>93</td>\n",
       "      <td>27</td>\n",
       "      <td>0.225000</td>\n",
       "      <td>0.078035</td>\n",
       "      <td>0.102876</td>\n",
       "      <td>0.794798</td>\n",
       "      <td>0.528761</td>\n",
       "      <td>0.2660</td>\n",
       "      <td>3.4</td>\n",
       "    </tr>\n",
       "    <tr>\n",
       "      <th>6</th>\n",
       "      <td>(626.0, 637.0]</td>\n",
       "      <td>128</td>\n",
       "      <td>102</td>\n",
       "      <td>26</td>\n",
       "      <td>0.203125</td>\n",
       "      <td>0.075145</td>\n",
       "      <td>0.112832</td>\n",
       "      <td>0.869942</td>\n",
       "      <td>0.641593</td>\n",
       "      <td>0.2283</td>\n",
       "      <td>3.9</td>\n",
       "    </tr>\n",
       "    <tr>\n",
       "      <th>7</th>\n",
       "      <td>(637.0, 649.0]</td>\n",
       "      <td>119</td>\n",
       "      <td>109</td>\n",
       "      <td>10</td>\n",
       "      <td>0.084034</td>\n",
       "      <td>0.028902</td>\n",
       "      <td>0.120575</td>\n",
       "      <td>0.898844</td>\n",
       "      <td>0.762168</td>\n",
       "      <td>0.1367</td>\n",
       "      <td>10.9</td>\n",
       "    </tr>\n",
       "    <tr>\n",
       "      <th>8</th>\n",
       "      <td>(649.0, 664.0]</td>\n",
       "      <td>129</td>\n",
       "      <td>109</td>\n",
       "      <td>20</td>\n",
       "      <td>0.155039</td>\n",
       "      <td>0.057803</td>\n",
       "      <td>0.120575</td>\n",
       "      <td>0.956647</td>\n",
       "      <td>0.882743</td>\n",
       "      <td>0.0739</td>\n",
       "      <td>5.4</td>\n",
       "    </tr>\n",
       "    <tr>\n",
       "      <th>9</th>\n",
       "      <td>(664.0, 720.0]</td>\n",
       "      <td>121</td>\n",
       "      <td>106</td>\n",
       "      <td>15</td>\n",
       "      <td>0.123967</td>\n",
       "      <td>0.043353</td>\n",
       "      <td>0.117257</td>\n",
       "      <td>1.000000</td>\n",
       "      <td>1.000000</td>\n",
       "      <td>0.0000</td>\n",
       "      <td>7.1</td>\n",
       "    </tr>\n",
       "  </tbody>\n",
       "</table>\n",
       "</div>"
      ],
      "text/plain": [
       "col_0              分箱  样本数  好样本数  坏样本数       逾期率   Bad分布占比  Good分布占比  \\\n",
       "0      (477.0, 548.0]  125    34    91  0.728000  0.263006  0.037611   \n",
       "1      (548.0, 579.0]  130    79    51  0.392308  0.147399  0.087389   \n",
       "2      (579.0, 593.0]  124    90    34  0.274194  0.098266  0.099558   \n",
       "3      (593.0, 606.0]  121    85    36  0.297521  0.104046  0.094027   \n",
       "4      (606.0, 616.0]  133    97    36  0.270677  0.104046  0.107301   \n",
       "5      (616.0, 626.0]  120    93    27  0.225000  0.078035  0.102876   \n",
       "6      (626.0, 637.0]  128   102    26  0.203125  0.075145  0.112832   \n",
       "7      (637.0, 649.0]  119   109    10  0.084034  0.028902  0.120575   \n",
       "8      (649.0, 664.0]  129   109    20  0.155039  0.057803  0.120575   \n",
       "9      (664.0, 720.0]  121   106    15  0.123967  0.043353  0.117257   \n",
       "\n",
       "col_0   累积Bad占比  累积Good占比      KS  odds(good:bad)  \n",
       "0      0.263006  0.037611  0.2254             0.4  \n",
       "1      0.410405  0.125000  0.2854             1.5  \n",
       "2      0.508671  0.224558  0.2841             2.6  \n",
       "3      0.612717  0.318584  0.2941             2.4  \n",
       "4      0.716763  0.425885  0.2909             2.7  \n",
       "5      0.794798  0.528761  0.2660             3.4  \n",
       "6      0.869942  0.641593  0.2283             3.9  \n",
       "7      0.898844  0.762168  0.1367            10.9  \n",
       "8      0.956647  0.882743  0.0739             5.4  \n",
       "9      1.000000  1.000000  0.0000             7.1  "
      ]
     },
     "execution_count": 859,
     "metadata": {},
     "output_type": "execute_result"
    }
   ],
   "source": [
    "mt.Performance().calculate_ks_by_decile(test_score[1], np.array(y_test), 'decile', q=10).sort_values('分箱')"
   ]
  },
  {
   "cell_type": "code",
   "execution_count": 750,
   "metadata": {},
   "outputs": [
    {
     "data": {
      "text/plain": [
       "0.12"
      ]
     },
     "execution_count": 750,
     "metadata": {},
     "output_type": "execute_result"
    }
   ],
   "source": [
    "(12+9)/(103+72)"
   ]
  },
  {
   "cell_type": "code",
   "execution_count": 751,
   "metadata": {},
   "outputs": [
    {
     "data": {
      "text/plain": [
       "0.14"
      ]
     },
     "execution_count": 751,
     "metadata": {},
     "output_type": "execute_result"
    }
   ],
   "source": [
    "(103+72)/1250"
   ]
  },
  {
   "cell_type": "code",
   "execution_count": 481,
   "metadata": {},
   "outputs": [
    {
     "data": {
      "text/plain": [
       "0.12096774193548387"
      ]
     },
     "execution_count": 481,
     "metadata": {},
     "output_type": "execute_result"
    }
   ],
   "source": [
    "(13+17)/(124+124)"
   ]
  },
  {
   "cell_type": "code",
   "execution_count": 482,
   "metadata": {},
   "outputs": [
    {
     "data": {
      "text/plain": [
       "0.1984"
      ]
     },
     "execution_count": 482,
     "metadata": {},
     "output_type": "execute_result"
    }
   ],
   "source": [
    "(124+124)/1250"
   ]
  },
  {
   "cell_type": "code",
   "execution_count": null,
   "metadata": {},
   "outputs": [],
   "source": []
  }
 ],
 "metadata": {
  "kernelspec": {
   "display_name": "Python 3",
   "language": "python",
   "name": "python3"
  },
  "language_info": {
   "codemirror_mode": {
    "name": "ipython",
    "version": 3
   },
   "file_extension": ".py",
   "mimetype": "text/x-python",
   "name": "python",
   "nbconvert_exporter": "python",
   "pygments_lexer": "ipython3",
   "version": "3.6.4"
  }
 },
 "nbformat": 4,
 "nbformat_minor": 2
}
